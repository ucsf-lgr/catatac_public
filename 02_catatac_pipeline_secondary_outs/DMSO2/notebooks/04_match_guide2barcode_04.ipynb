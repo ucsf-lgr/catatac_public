{
 "cells": [
  {
   "cell_type": "code",
   "execution_count": 1,
   "id": "2a6626e1",
   "metadata": {
    "execution": {
     "iopub.execute_input": "2023-08-17T21:34:47.561195Z",
     "iopub.status.busy": "2023-08-17T21:34:47.559548Z",
     "iopub.status.idle": "2023-08-17T21:34:47.592457Z",
     "shell.execute_reply": "2023-08-17T21:34:47.590916Z"
    },
    "papermill": {
     "duration": 0.10724,
     "end_time": "2023-08-17T21:34:47.594591",
     "exception": false,
     "start_time": "2023-08-17T21:34:47.487351",
     "status": "completed"
    },
    "tags": [
     "injected-parameters"
    ]
   },
   "outputs": [],
   "source": [
    "# Parameters",
    "h5_name = '{PATH_1}'",
    "protosp_path = '{PATH_2}'",
    "library = \"CRISPR-DMSO2\"",
    "tsv_path = '{PATH_3}'",
    ""
   ]
  },
  {
   "cell_type": "code",
   "execution_count": 2,
   "id": "ae601528",
   "metadata": {
    "execution": {
     "iopub.execute_input": "2023-08-17T21:34:47.640682Z",
     "iopub.status.busy": "2023-08-17T21:34:47.609597Z",
     "iopub.status.idle": "2023-08-17T21:34:53.468576Z",
     "shell.execute_reply": "2023-08-17T21:34:53.467245Z"
    },
    "papermill": {
     "duration": 5.86771,
     "end_time": "2023-08-17T21:34:53.470400",
     "exception": false,
     "start_time": "2023-08-17T21:34:47.602690",
     "status": "completed"
    },
    "tags": [],
    "vscode": {
     "languageId": "r"
    }
   },
   "outputs": [
    {
     "name": "stderr",
     "output_type": "stream",
     "text": [
      "\n",
      "Attaching package: \u2018dplyr\u2019\n",
      "\n",
      "\n"
     ]
    },
    {
     "name": "stderr",
     "output_type": "stream",
     "text": [
      "The following objects are masked from \u2018package:stats\u2019:\n",
      "\n",
      "    filter, lag\n",
      "\n",
      "\n"
     ]
    },
    {
     "name": "stderr",
     "output_type": "stream",
     "text": [
      "The following objects are masked from \u2018package:base\u2019:\n",
      "\n",
      "    intersect, setdiff, setequal, union\n",
      "\n",
      "\n"
     ]
    },
    {
     "name": "stderr",
     "output_type": "stream",
     "text": [
      "\n",
      "\n",
      "######################\n",
      "#### bedr v1.0.7 ####\n",
      "######################\n",
      "\n",
      "checking binary availability...\n",
      "  * Checking path for bedtools... PASS\n",
      "    /usr/local/bin/bedtools\n",
      "  * Checking path for bedops... PASS\n",
      "    /usr/bin/bedops\n",
      "  * Checking path for tabix... PASS\n",
      "    /usr/local/bin/tabix\n",
      "tests and examples will be skipped on R CMD check if binaries are missing\n",
      "\n",
      "\n"
     ]
    },
    {
     "name": "stderr",
     "output_type": "stream",
     "text": [
      "Loading required package: BiocGenerics\n",
      "\n"
     ]
    },
    {
     "name": "stderr",
     "output_type": "stream",
     "text": [
      "\n",
      "Attaching package: \u2018BiocGenerics\u2019\n",
      "\n",
      "\n"
     ]
    },
    {
     "name": "stderr",
     "output_type": "stream",
     "text": [
      "The following objects are masked from \u2018package:dplyr\u2019:\n",
      "\n",
      "    combine, intersect, setdiff, union\n",
      "\n",
      "\n"
     ]
    },
    {
     "name": "stderr",
     "output_type": "stream",
     "text": [
      "The following objects are masked from \u2018package:stats\u2019:\n",
      "\n",
      "    IQR, mad, sd, var, xtabs\n",
      "\n",
      "\n"
     ]
    },
    {
     "name": "stderr",
     "output_type": "stream",
     "text": [
      "The following objects are masked from \u2018package:base\u2019:\n",
      "\n",
      "    anyDuplicated, aperm, append, as.data.frame, basename, cbind,\n",
      "    colnames, dirname, do.call, duplicated, eval, evalq, Filter, Find,\n",
      "    get, grep, grepl, intersect, is.unsorted, lapply, Map, mapply,\n",
      "    match, mget, order, paste, pmax, pmax.int, pmin, pmin.int,\n",
      "    Position, rank, rbind, Reduce, rownames, sapply, setdiff, sort,\n",
      "    table, tapply, union, unique, unsplit, which.max, which.min\n",
      "\n",
      "\n"
     ]
    },
    {
     "name": "stderr",
     "output_type": "stream",
     "text": [
      "Loading required package: S4Vectors\n",
      "\n"
     ]
    },
    {
     "name": "stderr",
     "output_type": "stream",
     "text": [
      "Loading required package: stats4\n",
      "\n"
     ]
    },
    {
     "name": "stderr",
     "output_type": "stream",
     "text": [
      "\n",
      "Attaching package: \u2018S4Vectors\u2019\n",
      "\n",
      "\n"
     ]
    },
    {
     "name": "stderr",
     "output_type": "stream",
     "text": [
      "The following objects are masked from \u2018package:dplyr\u2019:\n",
      "\n",
      "    first, rename\n",
      "\n",
      "\n"
     ]
    },
    {
     "name": "stderr",
     "output_type": "stream",
     "text": [
      "The following object is masked from \u2018package:utils\u2019:\n",
      "\n",
      "    findMatches\n",
      "\n",
      "\n"
     ]
    },
    {
     "name": "stderr",
     "output_type": "stream",
     "text": [
      "The following objects are masked from \u2018package:base\u2019:\n",
      "\n",
      "    expand.grid, I, unname\n",
      "\n",
      "\n"
     ]
    },
    {
     "name": "stderr",
     "output_type": "stream",
     "text": [
      "Loading required package: IRanges\n",
      "\n"
     ]
    },
    {
     "name": "stderr",
     "output_type": "stream",
     "text": [
      "\n",
      "Attaching package: \u2018IRanges\u2019\n",
      "\n",
      "\n"
     ]
    },
    {
     "name": "stderr",
     "output_type": "stream",
     "text": [
      "The following objects are masked from \u2018package:dplyr\u2019:\n",
      "\n",
      "    collapse, desc, slice\n",
      "\n",
      "\n"
     ]
    },
    {
     "name": "stderr",
     "output_type": "stream",
     "text": [
      "Loading required package: XVector\n",
      "\n"
     ]
    },
    {
     "name": "stderr",
     "output_type": "stream",
     "text": [
      "Loading required package: GenomeInfoDb\n",
      "\n"
     ]
    },
    {
     "name": "stderr",
     "output_type": "stream",
     "text": [
      "\n",
      "Attaching package: \u2018Biostrings\u2019\n",
      "\n",
      "\n"
     ]
    },
    {
     "name": "stderr",
     "output_type": "stream",
     "text": [
      "The following object is masked from \u2018package:base\u2019:\n",
      "\n",
      "    strsplit\n",
      "\n",
      "\n"
     ]
    },
    {
     "name": "stderr",
     "output_type": "stream",
     "text": [
      "\n",
      "lessR 4.2.2                         feedback: gerbing@pdx.edu \n",
      "--------------------------------------------------------------\n",
      "> d <- Read(\"\")   Read text, Excel, SPSS, SAS, or R data file\n",
      "  d is default data frame, data= in analysis routines optional\n",
      "\n",
      "Learn about reading, writing, and manipulating data, graphics,\n",
      "testing means and proportions, regression, factor analysis,\n",
      "customization, and descriptive statistics from pivot tables.\n",
      "  Enter:  browseVignettes(\"lessR\")\n",
      "\n",
      "View changes in this or recent versions of lessR.\n",
      "  Enter: help(package=lessR)  Click: Package NEWS\n",
      "  Enter: interact()  for access to interactive graphics\n",
      "  New function: reshape_long() to move data from wide to long\n",
      "\n",
      "\n"
     ]
    },
    {
     "name": "stderr",
     "output_type": "stream",
     "text": [
      "\n",
      "Attaching package: \u2018lessR\u2019\n",
      "\n",
      "\n"
     ]
    },
    {
     "name": "stderr",
     "output_type": "stream",
     "text": [
      "The following objects are masked from \u2018package:IRanges\u2019:\n",
      "\n",
      "    reflect, to\n",
      "\n",
      "\n"
     ]
    },
    {
     "name": "stderr",
     "output_type": "stream",
     "text": [
      "The following objects are masked from \u2018package:S4Vectors\u2019:\n",
      "\n",
      "    pc, rename, to, values\n",
      "\n",
      "\n"
     ]
    },
    {
     "name": "stderr",
     "output_type": "stream",
     "text": [
      "The following objects are masked from \u2018package:dplyr\u2019:\n",
      "\n",
      "    recode, rename\n",
      "\n",
      "\n"
     ]
    },
    {
     "name": "stderr",
     "output_type": "stream",
     "text": [
      "The legacy packages maptools, rgdal, and rgeos, underpinning the sp package,\n",
      "which was just loaded, will retire in October 2023.\n",
      "Please refer to R-spatial evolution reports for details, especially\n",
      "https://r-spatial.org/r/2023/05/15/evolution4.html.\n",
      "It may be desirable to make the sf package available;\n",
      "package maintainers should consider adding sf to Suggests:.\n",
      "The sp package is now running under evolution status 2\n",
      "     (status 2 uses the sf package in place of rgdal)\n",
      "\n"
     ]
    },
    {
     "name": "stderr",
     "output_type": "stream",
     "text": [
      "Registered S3 method overwritten by 'SeuratDisk':\n",
      "  method            from  \n",
      "  as.sparse.H5Group Seurat\n",
      "\n"
     ]
    },
    {
     "name": "stderr",
     "output_type": "stream",
     "text": [
      "Attaching SeuratObject\n",
      "\n"
     ]
    }
   ],
   "source": [
    "library(dplyr)\n",
    "library(ggplot2)\n",
    "library(bedr)\n",
    "library(Biostrings)\n",
    "library(stringr)\n",
    "library(lessR)\n",
    "library(SeuratDisk)\n",
    "library(Seurat)"
   ]
  },
  {
   "cell_type": "code",
   "execution_count": 3,
   "id": "b8990ddb",
   "metadata": {
    "execution": {
     "iopub.execute_input": "2023-08-17T21:34:53.491544Z",
     "iopub.status.busy": "2023-08-17T21:34:53.489103Z",
     "iopub.status.idle": "2023-08-17T21:34:53.502806Z",
     "shell.execute_reply": "2023-08-17T21:34:53.501755Z"
    },
    "papermill": {
     "duration": 0.022248,
     "end_time": "2023-08-17T21:34:53.504576",
     "exception": false,
     "start_time": "2023-08-17T21:34:53.482328",
     "status": "completed"
    },
    "tags": [],
    "vscode": {
     "languageId": "r"
    }
   },
   "outputs": [],
   "source": [
    "ADD_GUIDE_A_B_COUNTS_BEFORE_DEMUX = FALSE"
   ]
  },
  {
   "cell_type": "code",
   "execution_count": 4,
   "id": "e5ab60bd",
   "metadata": {
    "execution": {
     "iopub.execute_input": "2023-08-17T21:34:53.519065Z",
     "iopub.status.busy": "2023-08-17T21:34:53.517498Z",
     "iopub.status.idle": "2023-08-17T21:34:53.528682Z",
     "shell.execute_reply": "2023-08-17T21:34:53.527046Z"
    },
    "papermill": {
     "duration": 0.018853,
     "end_time": "2023-08-17T21:34:53.530426",
     "exception": false,
     "start_time": "2023-08-17T21:34:53.511573",
     "status": "completed"
    },
    "tags": [],
    "vscode": {
     "languageId": "r"
    }
   },
   "outputs": [],
   "source": [
    "# Pass these as parameters",
    "# library      = \"CRISPR7\"",
    "# tsv_path <- '{PATH_4}'",
    "# h5_name  <- '{PATH_5}'",
    "# protosp_path = '{PATH_6}'"
   ]
  },
  {
   "cell_type": "code",
   "execution_count": 5,
   "id": "f6d27f6c",
   "metadata": {
    "execution": {
     "iopub.execute_input": "2023-08-17T21:34:53.547658Z",
     "iopub.status.busy": "2023-08-17T21:34:53.546777Z",
     "iopub.status.idle": "2023-08-17T21:34:53.556124Z",
     "shell.execute_reply": "2023-08-17T21:34:53.555041Z"
    },
    "papermill": {
     "duration": 0.016576,
     "end_time": "2023-08-17T21:34:53.557500",
     "exception": false,
     "start_time": "2023-08-17T21:34:53.540924",
     "status": "completed"
    },
    "tags": [],
    "vscode": {
     "languageId": "r"
    }
   },
   "outputs": [],
   "source": [
    "barcode2guide_tsv_path <- paste0(tsv_path, '{PATH_7}')",
    "xlsname <- paste0(tsv_path, '{PATH_8}')",
    "tsvname <- paste0(tsv_path, '{PATH_9}')"
   ]
  },
  {
   "cell_type": "code",
   "execution_count": 6,
   "id": "dd634ead",
   "metadata": {
    "execution": {
     "iopub.execute_input": "2023-08-17T21:34:53.574230Z",
     "iopub.status.busy": "2023-08-17T21:34:53.572343Z",
     "iopub.status.idle": "2023-08-17T21:34:53.583778Z",
     "shell.execute_reply": "2023-08-17T21:34:53.582736Z"
    },
    "papermill": {
     "duration": 0.020705,
     "end_time": "2023-08-17T21:34:53.585432",
     "exception": false,
     "start_time": "2023-08-17T21:34:53.564727",
     "status": "completed"
    },
    "tags": [],
    "vscode": {
     "languageId": "r"
    }
   },
   "outputs": [],
   "source": [
    "stats <- c()"
   ]
  },
  {
   "cell_type": "code",
   "execution_count": 7,
   "id": "f3464251",
   "metadata": {
    "execution": {
     "iopub.execute_input": "2023-08-17T21:34:53.603418Z",
     "iopub.status.busy": "2023-08-17T21:34:53.602511Z",
     "iopub.status.idle": "2023-08-17T21:34:53.613104Z",
     "shell.execute_reply": "2023-08-17T21:34:53.612068Z"
    },
    "papermill": {
     "duration": 0.018212,
     "end_time": "2023-08-17T21:34:53.614854",
     "exception": false,
     "start_time": "2023-08-17T21:34:53.596642",
     "status": "completed"
    },
    "tags": [],
    "vscode": {
     "languageId": "r"
    }
   },
   "outputs": [
    {
     "data": {
      "text/html": [
       "'/data2/kfeng/deeper_guides_dasatinib/dasatinib_primary_01HD/DMSO2/tsv/CRISPR-DMSO2_ALL_STRUCTURED.TSV'"
      ],
      "text/latex": [
       "'/data2/kfeng/deeper\\_guides\\_dasatinib/dasatinib\\_primary\\_01HD/DMSO2/tsv/CRISPR-DMSO2\\_ALL\\_STRUCTURED.TSV'"
      ],
      "text/markdown": [
       "'/data2/kfeng/deeper_guides_dasatinib/dasatinib_primary_01HD/DMSO2/tsv/CRISPR-DMSO2_ALL_STRUCTURED.TSV'"
      ],
      "text/plain": [
       "[1] \"/data2/kfeng/deeper_guides_dasatinib/dasatinib_primary_01HD/DMSO2/tsv/CRISPR-DMSO2_ALL_STRUCTURED.TSV\""
      ]
     },
     "metadata": {},
     "output_type": "display_data"
    }
   ],
   "source": [
    "barcode2guide_tsv_path"
   ]
  },
  {
   "cell_type": "markdown",
   "id": "c4e8addb",
   "metadata": {
    "papermill": {
     "duration": 0.005029,
     "end_time": "2023-08-17T21:34:53.630395",
     "exception": false,
     "start_time": "2023-08-17T21:34:53.625366",
     "status": "completed"
    },
    "tags": []
   },
   "source": [
    "## Load protospacer file"
   ]
  },
  {
   "cell_type": "code",
   "execution_count": 8,
   "id": "610f3389",
   "metadata": {
    "execution": {
     "iopub.execute_input": "2023-08-17T21:34:53.642315Z",
     "iopub.status.busy": "2023-08-17T21:34:53.641433Z",
     "iopub.status.idle": "2023-08-17T21:34:53.660555Z",
     "shell.execute_reply": "2023-08-17T21:34:53.659450Z"
    },
    "papermill": {
     "duration": 0.026824,
     "end_time": "2023-08-17T21:34:53.662302",
     "exception": false,
     "start_time": "2023-08-17T21:34:53.635478",
     "status": "completed"
    },
    "tags": [],
    "vscode": {
     "languageId": "r"
    }
   },
   "outputs": [
    {
     "data": {
      "text/html": [
       "<style>\n",
       ".list-inline {list-style: none; margin:0; padding: 0}\n",
       ".list-inline>li {display: inline-block}\n",
       ".list-inline>li:not(:last-child)::after {content: \"\\00b7\"; padding: 0 .5ex}\n",
       "</style>\n",
       "<ol class=list-inline><li>'ADNP'</li><li>'BRD2'</li><li>'CHD2'</li><li>'CNOT2'</li><li>'GPBP1L1'</li><li>'HIC2'</li><li>'KMT2B'</li><li>'MNT'</li><li>'NTC22'</li><li>'NTC28'</li><li>'NTC36'</li><li>'NTC74'</li><li>'NTC82'</li><li>'NTC98'</li><li>'PHF6'</li><li>'PIAS1'</li><li>'PLAGL2'</li><li>'PQBP1'</li><li>'SIN3A'</li><li>'SLTM'</li><li>'TSC22D4'</li><li>'UBE2L3'</li><li>'YEATS4'</li><li>'ZBED6'</li><li>'ZNF330'</li><li>'ZNF669'</li></ol>\n"
      ],
      "text/latex": [
       "\\begin{enumerate*}\n",
       "\\item 'ADNP'\n",
       "\\item 'BRD2'\n",
       "\\item 'CHD2'\n",
       "\\item 'CNOT2'\n",
       "\\item 'GPBP1L1'\n",
       "\\item 'HIC2'\n",
       "\\item 'KMT2B'\n",
       "\\item 'MNT'\n",
       "\\item 'NTC22'\n",
       "\\item 'NTC28'\n",
       "\\item 'NTC36'\n",
       "\\item 'NTC74'\n",
       "\\item 'NTC82'\n",
       "\\item 'NTC98'\n",
       "\\item 'PHF6'\n",
       "\\item 'PIAS1'\n",
       "\\item 'PLAGL2'\n",
       "\\item 'PQBP1'\n",
       "\\item 'SIN3A'\n",
       "\\item 'SLTM'\n",
       "\\item 'TSC22D4'\n",
       "\\item 'UBE2L3'\n",
       "\\item 'YEATS4'\n",
       "\\item 'ZBED6'\n",
       "\\item 'ZNF330'\n",
       "\\item 'ZNF669'\n",
       "\\end{enumerate*}\n"
      ],
      "text/markdown": [
       "1. 'ADNP'\n",
       "2. 'BRD2'\n",
       "3. 'CHD2'\n",
       "4. 'CNOT2'\n",
       "5. 'GPBP1L1'\n",
       "6. 'HIC2'\n",
       "7. 'KMT2B'\n",
       "8. 'MNT'\n",
       "9. 'NTC22'\n",
       "10. 'NTC28'\n",
       "11. 'NTC36'\n",
       "12. 'NTC74'\n",
       "13. 'NTC82'\n",
       "14. 'NTC98'\n",
       "15. 'PHF6'\n",
       "16. 'PIAS1'\n",
       "17. 'PLAGL2'\n",
       "18. 'PQBP1'\n",
       "19. 'SIN3A'\n",
       "20. 'SLTM'\n",
       "21. 'TSC22D4'\n",
       "22. 'UBE2L3'\n",
       "23. 'YEATS4'\n",
       "24. 'ZBED6'\n",
       "25. 'ZNF330'\n",
       "26. 'ZNF669'\n",
       "\n",
       "\n"
      ],
      "text/plain": [
       " [1] \"ADNP\"    \"BRD2\"    \"CHD2\"    \"CNOT2\"   \"GPBP1L1\" \"HIC2\"    \"KMT2B\"  \n",
       " [8] \"MNT\"     \"NTC22\"   \"NTC28\"   \"NTC36\"   \"NTC74\"   \"NTC82\"   \"NTC98\"  \n",
       "[15] \"PHF6\"    \"PIAS1\"   \"PLAGL2\"  \"PQBP1\"   \"SIN3A\"   \"SLTM\"    \"TSC22D4\"\n",
       "[22] \"UBE2L3\"  \"YEATS4\"  \"ZBED6\"   \"ZNF330\"  \"ZNF669\" "
      ]
     },
     "metadata": {},
     "output_type": "display_data"
    },
    {
     "data": {
      "text/html": [
       "<style>\n",
       ".list-inline {list-style: none; margin:0; padding: 0}\n",
       ".list-inline>li {display: inline-block}\n",
       ".list-inline>li:not(:last-child)::after {content: \"\\00b7\"; padding: 0 .5ex}\n",
       "</style>\n",
       "<ol class=list-inline><li>'ADNP_1'</li><li>'ADNP_2'</li><li>'BRD2_1'</li><li>'BRD2_2'</li><li>'CHD2_1'</li><li>'CHD2_2'</li><li>'CNOT2_1'</li><li>'CNOT2_2'</li><li>'GPBP1L1_1'</li><li>'GPBP1L1_2'</li><li>'HIC2_1'</li><li>'HIC2_2'</li><li>'KMT2B_1'</li><li>'KMT2B_2'</li><li>'MNT_1'</li><li>'MNT_2'</li><li>'NTC22_1'</li><li>'NTC22_2'</li><li>'NTC28_1'</li><li>'NTC28_2'</li><li>'NTC36_1'</li><li>'NTC36_2'</li><li>'NTC74_1'</li><li>'NTC74_2'</li><li>'NTC82_1'</li><li>'NTC82_2'</li><li>'NTC98_1'</li><li>'NTC98_2'</li><li>'PHF6_1'</li><li>'PHF6_2'</li><li>'PIAS1_1'</li><li>'PIAS1_2'</li><li>'PLAGL2_1'</li><li>'PLAGL2_2'</li><li>'PQBP1_1'</li><li>'PQBP1_2'</li><li>'SIN3A_1'</li><li>'SIN3A_2'</li><li>'SLTM_1'</li><li>'SLTM_2'</li><li>'TSC22D4_1'</li><li>'TSC22D4_2'</li><li>'UBE2L3_1'</li><li>'UBE2L3_2'</li><li>'YEATS4_1'</li><li>'YEATS4_2'</li><li>'ZBED6_1'</li><li>'ZBED6_2'</li><li>'ZNF330_1'</li><li>'ZNF330_2'</li><li>'ZNF669_1'</li><li>'ZNF669_2'</li></ol>\n"
      ],
      "text/latex": [
       "\\begin{enumerate*}\n",
       "\\item 'ADNP\\_1'\n",
       "\\item 'ADNP\\_2'\n",
       "\\item 'BRD2\\_1'\n",
       "\\item 'BRD2\\_2'\n",
       "\\item 'CHD2\\_1'\n",
       "\\item 'CHD2\\_2'\n",
       "\\item 'CNOT2\\_1'\n",
       "\\item 'CNOT2\\_2'\n",
       "\\item 'GPBP1L1\\_1'\n",
       "\\item 'GPBP1L1\\_2'\n",
       "\\item 'HIC2\\_1'\n",
       "\\item 'HIC2\\_2'\n",
       "\\item 'KMT2B\\_1'\n",
       "\\item 'KMT2B\\_2'\n",
       "\\item 'MNT\\_1'\n",
       "\\item 'MNT\\_2'\n",
       "\\item 'NTC22\\_1'\n",
       "\\item 'NTC22\\_2'\n",
       "\\item 'NTC28\\_1'\n",
       "\\item 'NTC28\\_2'\n",
       "\\item 'NTC36\\_1'\n",
       "\\item 'NTC36\\_2'\n",
       "\\item 'NTC74\\_1'\n",
       "\\item 'NTC74\\_2'\n",
       "\\item 'NTC82\\_1'\n",
       "\\item 'NTC82\\_2'\n",
       "\\item 'NTC98\\_1'\n",
       "\\item 'NTC98\\_2'\n",
       "\\item 'PHF6\\_1'\n",
       "\\item 'PHF6\\_2'\n",
       "\\item 'PIAS1\\_1'\n",
       "\\item 'PIAS1\\_2'\n",
       "\\item 'PLAGL2\\_1'\n",
       "\\item 'PLAGL2\\_2'\n",
       "\\item 'PQBP1\\_1'\n",
       "\\item 'PQBP1\\_2'\n",
       "\\item 'SIN3A\\_1'\n",
       "\\item 'SIN3A\\_2'\n",
       "\\item 'SLTM\\_1'\n",
       "\\item 'SLTM\\_2'\n",
       "\\item 'TSC22D4\\_1'\n",
       "\\item 'TSC22D4\\_2'\n",
       "\\item 'UBE2L3\\_1'\n",
       "\\item 'UBE2L3\\_2'\n",
       "\\item 'YEATS4\\_1'\n",
       "\\item 'YEATS4\\_2'\n",
       "\\item 'ZBED6\\_1'\n",
       "\\item 'ZBED6\\_2'\n",
       "\\item 'ZNF330\\_1'\n",
       "\\item 'ZNF330\\_2'\n",
       "\\item 'ZNF669\\_1'\n",
       "\\item 'ZNF669\\_2'\n",
       "\\end{enumerate*}\n"
      ],
      "text/markdown": [
       "1. 'ADNP_1'\n",
       "2. 'ADNP_2'\n",
       "3. 'BRD2_1'\n",
       "4. 'BRD2_2'\n",
       "5. 'CHD2_1'\n",
       "6. 'CHD2_2'\n",
       "7. 'CNOT2_1'\n",
       "8. 'CNOT2_2'\n",
       "9. 'GPBP1L1_1'\n",
       "10. 'GPBP1L1_2'\n",
       "11. 'HIC2_1'\n",
       "12. 'HIC2_2'\n",
       "13. 'KMT2B_1'\n",
       "14. 'KMT2B_2'\n",
       "15. 'MNT_1'\n",
       "16. 'MNT_2'\n",
       "17. 'NTC22_1'\n",
       "18. 'NTC22_2'\n",
       "19. 'NTC28_1'\n",
       "20. 'NTC28_2'\n",
       "21. 'NTC36_1'\n",
       "22. 'NTC36_2'\n",
       "23. 'NTC74_1'\n",
       "24. 'NTC74_2'\n",
       "25. 'NTC82_1'\n",
       "26. 'NTC82_2'\n",
       "27. 'NTC98_1'\n",
       "28. 'NTC98_2'\n",
       "29. 'PHF6_1'\n",
       "30. 'PHF6_2'\n",
       "31. 'PIAS1_1'\n",
       "32. 'PIAS1_2'\n",
       "33. 'PLAGL2_1'\n",
       "34. 'PLAGL2_2'\n",
       "35. 'PQBP1_1'\n",
       "36. 'PQBP1_2'\n",
       "37. 'SIN3A_1'\n",
       "38. 'SIN3A_2'\n",
       "39. 'SLTM_1'\n",
       "40. 'SLTM_2'\n",
       "41. 'TSC22D4_1'\n",
       "42. 'TSC22D4_2'\n",
       "43. 'UBE2L3_1'\n",
       "44. 'UBE2L3_2'\n",
       "45. 'YEATS4_1'\n",
       "46. 'YEATS4_2'\n",
       "47. 'ZBED6_1'\n",
       "48. 'ZBED6_2'\n",
       "49. 'ZNF330_1'\n",
       "50. 'ZNF330_2'\n",
       "51. 'ZNF669_1'\n",
       "52. 'ZNF669_2'\n",
       "\n",
       "\n"
      ],
      "text/plain": [
       " [1] \"ADNP_1\"    \"ADNP_2\"    \"BRD2_1\"    \"BRD2_2\"    \"CHD2_1\"    \"CHD2_2\"   \n",
       " [7] \"CNOT2_1\"   \"CNOT2_2\"   \"GPBP1L1_1\" \"GPBP1L1_2\" \"HIC2_1\"    \"HIC2_2\"   \n",
       "[13] \"KMT2B_1\"   \"KMT2B_2\"   \"MNT_1\"     \"MNT_2\"     \"NTC22_1\"   \"NTC22_2\"  \n",
       "[19] \"NTC28_1\"   \"NTC28_2\"   \"NTC36_1\"   \"NTC36_2\"   \"NTC74_1\"   \"NTC74_2\"  \n",
       "[25] \"NTC82_1\"   \"NTC82_2\"   \"NTC98_1\"   \"NTC98_2\"   \"PHF6_1\"    \"PHF6_2\"   \n",
       "[31] \"PIAS1_1\"   \"PIAS1_2\"   \"PLAGL2_1\"  \"PLAGL2_2\"  \"PQBP1_1\"   \"PQBP1_2\"  \n",
       "[37] \"SIN3A_1\"   \"SIN3A_2\"   \"SLTM_1\"    \"SLTM_2\"    \"TSC22D4_1\" \"TSC22D4_2\"\n",
       "[43] \"UBE2L3_1\"  \"UBE2L3_2\"  \"YEATS4_1\"  \"YEATS4_2\"  \"ZBED6_1\"   \"ZBED6_2\"  \n",
       "[49] \"ZNF330_1\"  \"ZNF330_2\"  \"ZNF669_1\"  \"ZNF669_2\" "
      ]
     },
     "metadata": {},
     "output_type": "display_data"
    }
   ],
   "source": [
    "df_protosp = read.table(protosp_path, header=TRUE, comment.char=\"\")\n",
    "tfs_w_ntctl    = unique(df_protosp$X.TargetGene)\n",
    "unselect_ntctl = (tfs_w_ntctl != \"NTCTL\") & (tfs_w_ntctl != \"NTCTRL\")\n",
    "tfs_to_plot    = tfs_w_ntctl[unselect_ntctl]\n",
    "\n",
    "guides_to_plot  = df_protosp$GuideName\n",
    "tfs_to_plot\n",
    "guides_to_plot"
   ]
  },
  {
   "cell_type": "markdown",
   "id": "2055ac84",
   "metadata": {
    "papermill": {
     "duration": 0.005402,
     "end_time": "2023-08-17T21:34:53.674429",
     "exception": false,
     "start_time": "2023-08-17T21:34:53.669027",
     "status": "completed"
    },
    "tags": []
   },
   "source": [
    "# Load and analyze guide capture"
   ]
  },
  {
   "cell_type": "code",
   "execution_count": 9,
   "id": "d1c23682",
   "metadata": {
    "execution": {
     "iopub.execute_input": "2023-08-17T21:34:53.688936Z",
     "iopub.status.busy": "2023-08-17T21:34:53.687072Z",
     "iopub.status.idle": "2023-08-17T21:44:41.029931Z",
     "shell.execute_reply": "2023-08-17T21:44:41.028606Z"
    },
    "papermill": {
     "duration": 587.352175,
     "end_time": "2023-08-17T21:44:41.032115",
     "exception": false,
     "start_time": "2023-08-17T21:34:53.679940",
     "status": "completed"
    },
    "tags": [],
    "vscode": {
     "languageId": "r"
    }
   },
   "outputs": [],
   "source": [
    "df_barcode2guide <-\n",
    "    read.table(barcode2guide_tsv_path, header = TRUE, sep = \"\\t\", quote = \"\")\n",
    "\n",
    "df_barcode2guide <-\n",
    "    data.frame(lapply(df_barcode2guide, trimws), stringsAsFactors = FALSE)\n",
    "\n",
    "stats[[\"Guide-capture UMI counts\"]] <- nrow(df_barcode2guide)\n",
    "\n",
    "# Some ATAC barcodes are not associated with a GEX barcode\n",
    "# I think those are just sequencing errors. I remove those from the list\n",
    "select_valid_barcodes <- df_barcode2guide$barcode != \"\"\n",
    "df_barcode2guide <- df_barcode2guide[select_valid_barcodes, ]\n",
    "\n",
    "stats[[\"Guide-capture UMI counts after removing empty barcodes\"]] <-\n",
    "    nrow(df_barcode2guide)\n",
    "\n",
    "# Append \"-1\" to the barcodes. Cellranger appends this number to distinguish\n",
    "# different samples in aggregated files.\n",
    "dummy  <- DNAStringSet(df_barcode2guide$barcode)\n",
    "df_barcode2guide$barcode_dash <- paste0(dummy, \"-1\")"
   ]
  },
  {
   "cell_type": "markdown",
   "id": "e876b245",
   "metadata": {
    "papermill": {
     "duration": 0.005389,
     "end_time": "2023-08-17T21:44:41.048177",
     "exception": false,
     "start_time": "2023-08-17T21:44:41.042788",
     "status": "completed"
    },
    "tags": []
   },
   "source": [
    "### Eliminate PCR duplicates of the UMIs from the same barcode"
   ]
  },
  {
   "cell_type": "code",
   "execution_count": 10,
   "id": "ed756764",
   "metadata": {
    "execution": {
     "iopub.execute_input": "2023-08-17T21:44:41.063091Z",
     "iopub.status.busy": "2023-08-17T21:44:41.062082Z",
     "iopub.status.idle": "2023-08-17T21:44:41.072633Z",
     "shell.execute_reply": "2023-08-17T21:44:41.071552Z"
    },
    "papermill": {
     "duration": 0.020661,
     "end_time": "2023-08-17T21:44:41.074321",
     "exception": false,
     "start_time": "2023-08-17T21:44:41.053660",
     "status": "completed"
    },
    "tags": [],
    "vscode": {
     "languageId": "r"
    }
   },
   "outputs": [],
   "source": [
    "# I already deduplicated guide umis. No more dedup is necessary.\n",
    "df_deduped <- df_barcode2guide\n",
    "\n",
    "# df_deduped <- df_barcode2guide %>% distinct(gene, umi, .keep_all = TRUE)\n",
    "\n",
    "stats[[\"Guide-capture UMI counts after removing PCR duplicates\"]] <-\n",
    "    nrow(df_deduped)\n",
    "\n",
    "# dim(df_deduped)"
   ]
  },
  {
   "cell_type": "code",
   "execution_count": 11,
   "id": "13bf894f",
   "metadata": {
    "execution": {
     "iopub.execute_input": "2023-08-17T21:44:41.092415Z",
     "iopub.status.busy": "2023-08-17T21:44:41.090499Z",
     "iopub.status.idle": "2023-08-17T21:44:41.116461Z",
     "shell.execute_reply": "2023-08-17T21:44:41.115351Z"
    },
    "papermill": {
     "duration": 0.034984,
     "end_time": "2023-08-17T21:44:41.118600",
     "exception": false,
     "start_time": "2023-08-17T21:44:41.083616",
     "status": "completed"
    },
    "tags": [],
    "vscode": {
     "languageId": "r"
    }
   },
   "outputs": [
    {
     "data": {
      "text/html": [
       "<table class=\"dataframe\">\n",
       "<caption>A data.frame: 6 \u00d7 8</caption>\n",
       "<thead>\n",
       "\t<tr><th></th><th scope=col>atac_barcode</th><th scope=col>umi</th><th scope=col>protospacer</th><th scope=col>guide</th><th scope=col>gene</th><th scope=col>read_name</th><th scope=col>barcode</th><th scope=col>barcode_dash</th></tr>\n",
       "\t<tr><th></th><th scope=col>&lt;chr&gt;</th><th scope=col>&lt;chr&gt;</th><th scope=col>&lt;chr&gt;</th><th scope=col>&lt;chr&gt;</th><th scope=col>&lt;chr&gt;</th><th scope=col>&lt;chr&gt;</th><th scope=col>&lt;chr&gt;</th><th scope=col>&lt;chr&gt;</th></tr>\n",
       "</thead>\n",
       "<tbody>\n",
       "\t<tr><th scope=row>1</th><td>GCGTAATAGTTAGCTT</td><td>TTACTGTATTTA</td><td>CACCCTCTCCGCCGAAGTG</td><td>ADNP_1</td><td>ADNP</td><td>LH00132:93:2257F7LT3:7:1101:10080:13273</td><td>TACAATGTCGCAAACT</td><td>TACAATGTCGCAAACT-1</td></tr>\n",
       "\t<tr><th scope=row>2</th><td>CGTCAAGAGCCTAATT</td><td>TCTAACTATAAT</td><td>CACCCTCTCCGCCGAAGTG</td><td>ADNP_1</td><td>ADNP</td><td>LH00132:93:2257F7LT3:7:1101:10080:13305</td><td>ACCAGGCTCTTGGATA</td><td>ACCAGGCTCTTGGATA-1</td></tr>\n",
       "\t<tr><th scope=row>3</th><td>CGTTACTCAACGTGGT</td><td>CCCTGAAGCCGA</td><td>CACCCTCTCCGCCGAAGTG</td><td>ADNP_1</td><td>ADNP</td><td>LH00132:93:2257F7LT3:7:1101:10080:5294 </td><td>GGATTATGTAATCACG</td><td>GGATTATGTAATCACG-1</td></tr>\n",
       "\t<tr><th scope=row>4</th><td>ATCGCTCAGCTTAGGG</td><td>CACAATCTCTCA</td><td>CACCCTCTCCGCCGAAGTG</td><td>ADNP_1</td><td>ADNP</td><td>LH00132:93:2257F7LT3:7:1101:10126:4253 </td><td>ATTCGTTTCTCAATTC</td><td>ATTCGTTTCTCAATTC-1</td></tr>\n",
       "\t<tr><th scope=row>5</th><td>CTGATTAGTCCTTGAG</td><td>AATCTCCTCCGA</td><td>CACCCTCTCCGCCGAAGTG</td><td>ADNP_1</td><td>ADNP</td><td>LH00132:93:2257F7LT3:7:1101:10144:26972</td><td>TCTCGCCCATTAGGTT</td><td>TCTCGCCCATTAGGTT-1</td></tr>\n",
       "\t<tr><th scope=row>6</th><td>ATCGCTCAGCTTAGGG</td><td>CACAATCTCTCA</td><td>CACCCTCTCCGCCGAAGTG</td><td>ADNP_1</td><td>ADNP</td><td>LH00132:93:2257F7LT3:7:1101:10144:4253 </td><td>ATTCGTTTCTCAATTC</td><td>ATTCGTTTCTCAATTC-1</td></tr>\n",
       "</tbody>\n",
       "</table>\n"
      ],
      "text/latex": [
       "A data.frame: 6 \u00d7 8\n",
       "\\begin{tabular}{r|llllllll}\n",
       "  & atac\\_barcode & umi & protospacer & guide & gene & read\\_name & barcode & barcode\\_dash\\\\\n",
       "  & <chr> & <chr> & <chr> & <chr> & <chr> & <chr> & <chr> & <chr>\\\\\n",
       "\\hline\n",
       "\t1 & GCGTAATAGTTAGCTT & TTACTGTATTTA & CACCCTCTCCGCCGAAGTG & ADNP\\_1 & ADNP & LH00132:93:2257F7LT3:7:1101:10080:13273 & TACAATGTCGCAAACT & TACAATGTCGCAAACT-1\\\\\n",
       "\t2 & CGTCAAGAGCCTAATT & TCTAACTATAAT & CACCCTCTCCGCCGAAGTG & ADNP\\_1 & ADNP & LH00132:93:2257F7LT3:7:1101:10080:13305 & ACCAGGCTCTTGGATA & ACCAGGCTCTTGGATA-1\\\\\n",
       "\t3 & CGTTACTCAACGTGGT & CCCTGAAGCCGA & CACCCTCTCCGCCGAAGTG & ADNP\\_1 & ADNP & LH00132:93:2257F7LT3:7:1101:10080:5294  & GGATTATGTAATCACG & GGATTATGTAATCACG-1\\\\\n",
       "\t4 & ATCGCTCAGCTTAGGG & CACAATCTCTCA & CACCCTCTCCGCCGAAGTG & ADNP\\_1 & ADNP & LH00132:93:2257F7LT3:7:1101:10126:4253  & ATTCGTTTCTCAATTC & ATTCGTTTCTCAATTC-1\\\\\n",
       "\t5 & CTGATTAGTCCTTGAG & AATCTCCTCCGA & CACCCTCTCCGCCGAAGTG & ADNP\\_1 & ADNP & LH00132:93:2257F7LT3:7:1101:10144:26972 & TCTCGCCCATTAGGTT & TCTCGCCCATTAGGTT-1\\\\\n",
       "\t6 & ATCGCTCAGCTTAGGG & CACAATCTCTCA & CACCCTCTCCGCCGAAGTG & ADNP\\_1 & ADNP & LH00132:93:2257F7LT3:7:1101:10144:4253  & ATTCGTTTCTCAATTC & ATTCGTTTCTCAATTC-1\\\\\n",
       "\\end{tabular}\n"
      ],
      "text/markdown": [
       "\n",
       "A data.frame: 6 \u00d7 8\n",
       "\n",
       "| <!--/--> | atac_barcode &lt;chr&gt; | umi &lt;chr&gt; | protospacer &lt;chr&gt; | guide &lt;chr&gt; | gene &lt;chr&gt; | read_name &lt;chr&gt; | barcode &lt;chr&gt; | barcode_dash &lt;chr&gt; |\n",
       "|---|---|---|---|---|---|---|---|---|\n",
       "| 1 | GCGTAATAGTTAGCTT | TTACTGTATTTA | CACCCTCTCCGCCGAAGTG | ADNP_1 | ADNP | LH00132:93:2257F7LT3:7:1101:10080:13273 | TACAATGTCGCAAACT | TACAATGTCGCAAACT-1 |\n",
       "| 2 | CGTCAAGAGCCTAATT | TCTAACTATAAT | CACCCTCTCCGCCGAAGTG | ADNP_1 | ADNP | LH00132:93:2257F7LT3:7:1101:10080:13305 | ACCAGGCTCTTGGATA | ACCAGGCTCTTGGATA-1 |\n",
       "| 3 | CGTTACTCAACGTGGT | CCCTGAAGCCGA | CACCCTCTCCGCCGAAGTG | ADNP_1 | ADNP | LH00132:93:2257F7LT3:7:1101:10080:5294  | GGATTATGTAATCACG | GGATTATGTAATCACG-1 |\n",
       "| 4 | ATCGCTCAGCTTAGGG | CACAATCTCTCA | CACCCTCTCCGCCGAAGTG | ADNP_1 | ADNP | LH00132:93:2257F7LT3:7:1101:10126:4253  | ATTCGTTTCTCAATTC | ATTCGTTTCTCAATTC-1 |\n",
       "| 5 | CTGATTAGTCCTTGAG | AATCTCCTCCGA | CACCCTCTCCGCCGAAGTG | ADNP_1 | ADNP | LH00132:93:2257F7LT3:7:1101:10144:26972 | TCTCGCCCATTAGGTT | TCTCGCCCATTAGGTT-1 |\n",
       "| 6 | ATCGCTCAGCTTAGGG | CACAATCTCTCA | CACCCTCTCCGCCGAAGTG | ADNP_1 | ADNP | LH00132:93:2257F7LT3:7:1101:10144:4253  | ATTCGTTTCTCAATTC | ATTCGTTTCTCAATTC-1 |\n",
       "\n"
      ],
      "text/plain": [
       "  atac_barcode     umi          protospacer         guide  gene\n",
       "1 GCGTAATAGTTAGCTT TTACTGTATTTA CACCCTCTCCGCCGAAGTG ADNP_1 ADNP\n",
       "2 CGTCAAGAGCCTAATT TCTAACTATAAT CACCCTCTCCGCCGAAGTG ADNP_1 ADNP\n",
       "3 CGTTACTCAACGTGGT CCCTGAAGCCGA CACCCTCTCCGCCGAAGTG ADNP_1 ADNP\n",
       "4 ATCGCTCAGCTTAGGG CACAATCTCTCA CACCCTCTCCGCCGAAGTG ADNP_1 ADNP\n",
       "5 CTGATTAGTCCTTGAG AATCTCCTCCGA CACCCTCTCCGCCGAAGTG ADNP_1 ADNP\n",
       "6 ATCGCTCAGCTTAGGG CACAATCTCTCA CACCCTCTCCGCCGAAGTG ADNP_1 ADNP\n",
       "  read_name                               barcode          barcode_dash      \n",
       "1 LH00132:93:2257F7LT3:7:1101:10080:13273 TACAATGTCGCAAACT TACAATGTCGCAAACT-1\n",
       "2 LH00132:93:2257F7LT3:7:1101:10080:13305 ACCAGGCTCTTGGATA ACCAGGCTCTTGGATA-1\n",
       "3 LH00132:93:2257F7LT3:7:1101:10080:5294  GGATTATGTAATCACG GGATTATGTAATCACG-1\n",
       "4 LH00132:93:2257F7LT3:7:1101:10126:4253  ATTCGTTTCTCAATTC ATTCGTTTCTCAATTC-1\n",
       "5 LH00132:93:2257F7LT3:7:1101:10144:26972 TCTCGCCCATTAGGTT TCTCGCCCATTAGGTT-1\n",
       "6 LH00132:93:2257F7LT3:7:1101:10144:4253  ATTCGTTTCTCAATTC ATTCGTTTCTCAATTC-1"
      ]
     },
     "metadata": {},
     "output_type": "display_data"
    }
   ],
   "source": [
    "head(df_deduped)"
   ]
  },
  {
   "cell_type": "markdown",
   "id": "a5c5c627",
   "metadata": {
    "papermill": {
     "duration": 0.005745,
     "end_time": "2023-08-17T21:44:41.135924",
     "exception": false,
     "start_time": "2023-08-17T21:44:41.130179",
     "status": "completed"
    },
    "tags": []
   },
   "source": [
    "# Build a df for all barcodes"
   ]
  },
  {
   "cell_type": "markdown",
   "id": "6db6c4fb",
   "metadata": {
    "papermill": {
     "duration": 0.005575,
     "end_time": "2023-08-17T21:44:41.147203",
     "exception": false,
     "start_time": "2023-08-17T21:44:41.141628",
     "status": "completed"
    },
    "tags": []
   },
   "source": [
    "Summerizing the umi counts, guide counts etc. Find the barcodes that are associated with multiple genes."
   ]
  },
  {
   "cell_type": "code",
   "execution_count": 12,
   "id": "0afaab3e",
   "metadata": {
    "execution": {
     "iopub.execute_input": "2023-08-17T21:44:41.161118Z",
     "iopub.status.busy": "2023-08-17T21:44:41.160225Z",
     "iopub.status.idle": "2023-08-18T04:35:28.102507Z",
     "shell.execute_reply": "2023-08-18T04:35:28.101179Z"
    },
    "papermill": {
     "duration": 24646.951644,
     "end_time": "2023-08-18T04:35:28.104558",
     "exception": false,
     "start_time": "2023-08-17T21:44:41.152914",
     "status": "completed"
    },
    "tags": [],
    "vscode": {
     "languageId": "r"
    }
   },
   "outputs": [],
   "source": [
    "# Build two new dfs to summerize guide and gene counts\n",
    "df_gene_counts <- pivot(df_deduped, table, gene, barcode)\n",
    "df_guide_counts <- pivot(df_deduped, table, guide, barcode)\n",
    "\n",
    "# Drop unused columns\n",
    "df_gene_counts <- select(df_gene_counts, -gene_na, -gene_n)\n",
    "if(ADD_GUIDE_A_B_COUNTS_BEFORE_DEMUX){\n",
    "    df_guide_counts <- select(df_guide_counts, -guide_na)\n",
    "} else {\n",
    "    df_barcodes <- select(df_guide_counts, -guide_na)\n",
    "}\n",
    "\n",
    "# Merge guide and gene columns\n",
    "if(ADD_GUIDE_A_B_COUNTS_BEFORE_DEMUX) {\n",
    "    df_barcodes <- merge(df_gene_counts, df_guide_counts, by = \"barcode\")\n",
    "}\n",
    "\n",
    "# n_guides is umi count\n",
    "df_barcodes <- dplyr:::rename(df_barcodes, n_guides = guide_n)\n",
    "\n",
    "# Add a \"-1\" to barcode names to match with multiome barcode\n",
    "# names from cellranger.\n",
    "dummy  <- DNAStringSet(df_barcodes$barcode)\n",
    "df_barcodes$barcode_dash <- paste0(dummy, \"-1\")\n"
   ]
  },
  {
   "cell_type": "code",
   "execution_count": 13,
   "id": "62b84360",
   "metadata": {
    "execution": {
     "iopub.execute_input": "2023-08-18T04:35:29.309503Z",
     "iopub.status.busy": "2023-08-18T04:35:29.308430Z",
     "iopub.status.idle": "2023-08-18T04:35:29.342023Z",
     "shell.execute_reply": "2023-08-18T04:35:29.340892Z"
    },
    "papermill": {
     "duration": 1.22866,
     "end_time": "2023-08-18T04:35:29.343753",
     "exception": false,
     "start_time": "2023-08-18T04:35:28.115093",
     "status": "completed"
    },
    "tags": [],
    "vscode": {
     "languageId": "r"
    }
   },
   "outputs": [
    {
     "data": {
      "text/html": [
       "<table class=\"dataframe\">\n",
       "<caption>A data.frame: 2 \u00d7 55</caption>\n",
       "<thead>\n",
       "\t<tr><th></th><th scope=col>barcode</th><th scope=col>n_guides</th><th scope=col>ADNP_1</th><th scope=col>ADNP_2</th><th scope=col>BRD2_1</th><th scope=col>BRD2_2</th><th scope=col>CHD2_1</th><th scope=col>CHD2_2</th><th scope=col>CNOT2_1</th><th scope=col>CNOT2_2</th><th scope=col>\u22ef</th><th scope=col>UBE2L3_2</th><th scope=col>YEATS4_1</th><th scope=col>YEATS4_2</th><th scope=col>ZBED6_1</th><th scope=col>ZBED6_2</th><th scope=col>ZNF330_1</th><th scope=col>ZNF330_2</th><th scope=col>ZNF669_1</th><th scope=col>ZNF669_2</th><th scope=col>barcode_dash</th></tr>\n",
       "\t<tr><th></th><th scope=col>&lt;fct&gt;</th><th scope=col>&lt;int&gt;</th><th scope=col>&lt;dbl&gt;</th><th scope=col>&lt;dbl&gt;</th><th scope=col>&lt;dbl&gt;</th><th scope=col>&lt;dbl&gt;</th><th scope=col>&lt;dbl&gt;</th><th scope=col>&lt;dbl&gt;</th><th scope=col>&lt;dbl&gt;</th><th scope=col>&lt;dbl&gt;</th><th scope=col>\u22ef</th><th scope=col>&lt;dbl&gt;</th><th scope=col>&lt;dbl&gt;</th><th scope=col>&lt;dbl&gt;</th><th scope=col>&lt;dbl&gt;</th><th scope=col>&lt;dbl&gt;</th><th scope=col>&lt;dbl&gt;</th><th scope=col>&lt;dbl&gt;</th><th scope=col>&lt;dbl&gt;</th><th scope=col>&lt;dbl&gt;</th><th scope=col>&lt;chr&gt;</th></tr>\n",
       "</thead>\n",
       "<tbody>\n",
       "\t<tr><th scope=row>1</th><td>AAACAGCCAAACTGCC</td><td>78</td><td>0</td><td>0</td><td>0</td><td>0</td><td>0</td><td>78</td><td>0</td><td>0</td><td>\u22ef</td><td>0</td><td>0</td><td>0</td><td>0</td><td>0</td><td>0</td><td>0</td><td>0</td><td>0</td><td>AAACAGCCAAACTGCC-1</td></tr>\n",
       "\t<tr><th scope=row>2</th><td>AAACAGCCAAACTGTT</td><td> 1</td><td>0</td><td>0</td><td>0</td><td>0</td><td>0</td><td> 0</td><td>0</td><td>0</td><td>\u22ef</td><td>0</td><td>0</td><td>0</td><td>0</td><td>0</td><td>0</td><td>0</td><td>0</td><td>0</td><td>AAACAGCCAAACTGTT-1</td></tr>\n",
       "</tbody>\n",
       "</table>\n"
      ],
      "text/latex": [
       "A data.frame: 2 \u00d7 55\n",
       "\\begin{tabular}{r|lllllllllllllllllllll}\n",
       "  & barcode & n\\_guides & ADNP\\_1 & ADNP\\_2 & BRD2\\_1 & BRD2\\_2 & CHD2\\_1 & CHD2\\_2 & CNOT2\\_1 & CNOT2\\_2 & \u22ef & UBE2L3\\_2 & YEATS4\\_1 & YEATS4\\_2 & ZBED6\\_1 & ZBED6\\_2 & ZNF330\\_1 & ZNF330\\_2 & ZNF669\\_1 & ZNF669\\_2 & barcode\\_dash\\\\\n",
       "  & <fct> & <int> & <dbl> & <dbl> & <dbl> & <dbl> & <dbl> & <dbl> & <dbl> & <dbl> & \u22ef & <dbl> & <dbl> & <dbl> & <dbl> & <dbl> & <dbl> & <dbl> & <dbl> & <dbl> & <chr>\\\\\n",
       "\\hline\n",
       "\t1 & AAACAGCCAAACTGCC & 78 & 0 & 0 & 0 & 0 & 0 & 78 & 0 & 0 & \u22ef & 0 & 0 & 0 & 0 & 0 & 0 & 0 & 0 & 0 & AAACAGCCAAACTGCC-1\\\\\n",
       "\t2 & AAACAGCCAAACTGTT &  1 & 0 & 0 & 0 & 0 & 0 &  0 & 0 & 0 & \u22ef & 0 & 0 & 0 & 0 & 0 & 0 & 0 & 0 & 0 & AAACAGCCAAACTGTT-1\\\\\n",
       "\\end{tabular}\n"
      ],
      "text/markdown": [
       "\n",
       "A data.frame: 2 \u00d7 55\n",
       "\n",
       "| <!--/--> | barcode &lt;fct&gt; | n_guides &lt;int&gt; | ADNP_1 &lt;dbl&gt; | ADNP_2 &lt;dbl&gt; | BRD2_1 &lt;dbl&gt; | BRD2_2 &lt;dbl&gt; | CHD2_1 &lt;dbl&gt; | CHD2_2 &lt;dbl&gt; | CNOT2_1 &lt;dbl&gt; | CNOT2_2 &lt;dbl&gt; | \u22ef \u22ef | UBE2L3_2 &lt;dbl&gt; | YEATS4_1 &lt;dbl&gt; | YEATS4_2 &lt;dbl&gt; | ZBED6_1 &lt;dbl&gt; | ZBED6_2 &lt;dbl&gt; | ZNF330_1 &lt;dbl&gt; | ZNF330_2 &lt;dbl&gt; | ZNF669_1 &lt;dbl&gt; | ZNF669_2 &lt;dbl&gt; | barcode_dash &lt;chr&gt; |\n",
       "|---|---|---|---|---|---|---|---|---|---|---|---|---|---|---|---|---|---|---|---|---|---|\n",
       "| 1 | AAACAGCCAAACTGCC | 78 | 0 | 0 | 0 | 0 | 0 | 78 | 0 | 0 | \u22ef | 0 | 0 | 0 | 0 | 0 | 0 | 0 | 0 | 0 | AAACAGCCAAACTGCC-1 |\n",
       "| 2 | AAACAGCCAAACTGTT |  1 | 0 | 0 | 0 | 0 | 0 |  0 | 0 | 0 | \u22ef | 0 | 0 | 0 | 0 | 0 | 0 | 0 | 0 | 0 | AAACAGCCAAACTGTT-1 |\n",
       "\n"
      ],
      "text/plain": [
       "  barcode          n_guides ADNP_1 ADNP_2 BRD2_1 BRD2_2 CHD2_1 CHD2_2 CNOT2_1\n",
       "1 AAACAGCCAAACTGCC 78       0      0      0      0      0      78     0      \n",
       "2 AAACAGCCAAACTGTT  1       0      0      0      0      0       0     0      \n",
       "  CNOT2_2 \u22ef UBE2L3_2 YEATS4_1 YEATS4_2 ZBED6_1 ZBED6_2 ZNF330_1 ZNF330_2\n",
       "1 0       \u22ef 0        0        0        0       0       0        0       \n",
       "2 0       \u22ef 0        0        0        0       0       0        0       \n",
       "  ZNF669_1 ZNF669_2 barcode_dash      \n",
       "1 0        0        AAACAGCCAAACTGCC-1\n",
       "2 0        0        AAACAGCCAAACTGTT-1"
      ]
     },
     "metadata": {},
     "output_type": "display_data"
    }
   ],
   "source": [
    "head(df_barcodes, 2)"
   ]
  },
  {
   "cell_type": "code",
   "execution_count": 14,
   "id": "75e9bb92",
   "metadata": {
    "execution": {
     "iopub.execute_input": "2023-08-18T04:35:29.376140Z",
     "iopub.status.busy": "2023-08-18T04:35:29.374959Z",
     "iopub.status.idle": "2023-08-18T04:35:29.386082Z",
     "shell.execute_reply": "2023-08-18T04:35:29.385021Z"
    },
    "papermill": {
     "duration": 0.035006,
     "end_time": "2023-08-18T04:35:29.387647",
     "exception": false,
     "start_time": "2023-08-18T04:35:29.352641",
     "status": "completed"
    },
    "tags": [],
    "vscode": {
     "languageId": "r"
    }
   },
   "outputs": [
    {
     "data": {
      "text/html": [
       "<style>\n",
       ".list-inline {list-style: none; margin:0; padding: 0}\n",
       ".list-inline>li {display: inline-block}\n",
       ".list-inline>li:not(:last-child)::after {content: \"\\00b7\"; padding: 0 .5ex}\n",
       "</style>\n",
       "<ol class=list-inline><li>'barcode'</li><li>'n_guides'</li><li>'ADNP_1'</li><li>'ADNP_2'</li><li>'BRD2_1'</li><li>'BRD2_2'</li><li>'CHD2_1'</li><li>'CHD2_2'</li><li>'CNOT2_1'</li><li>'CNOT2_2'</li><li>'GPBP1L1_1'</li><li>'GPBP1L1_2'</li><li>'HIC2_1'</li><li>'HIC2_2'</li><li>'KMT2B_1'</li><li>'KMT2B_2'</li><li>'MNT_1'</li><li>'MNT_2'</li><li>'NTC22_1'</li><li>'NTC22_2'</li><li>'NTC28_1'</li><li>'NTC28_2'</li><li>'NTC36_1'</li><li>'NTC36_2'</li><li>'NTC74_1'</li><li>'NTC74_2'</li><li>'NTC82_1'</li><li>'NTC82_2'</li><li>'NTC98_1'</li><li>'NTC98_2'</li><li>'PHF6_1'</li><li>'PHF6_2'</li><li>'PIAS1_1'</li><li>'PIAS1_2'</li><li>'PLAGL2_1'</li><li>'PLAGL2_2'</li><li>'PQBP1_1'</li><li>'PQBP1_2'</li><li>'SIN3A_1'</li><li>'SIN3A_2'</li><li>'SLTM_1'</li><li>'SLTM_2'</li><li>'TSC22D4_1'</li><li>'TSC22D4_2'</li><li>'UBE2L3_1'</li><li>'UBE2L3_2'</li><li>'YEATS4_1'</li><li>'YEATS4_2'</li><li>'ZBED6_1'</li><li>'ZBED6_2'</li><li>'ZNF330_1'</li><li>'ZNF330_2'</li><li>'ZNF669_1'</li><li>'ZNF669_2'</li><li>'barcode_dash'</li></ol>\n"
      ],
      "text/latex": [
       "\\begin{enumerate*}\n",
       "\\item 'barcode'\n",
       "\\item 'n\\_guides'\n",
       "\\item 'ADNP\\_1'\n",
       "\\item 'ADNP\\_2'\n",
       "\\item 'BRD2\\_1'\n",
       "\\item 'BRD2\\_2'\n",
       "\\item 'CHD2\\_1'\n",
       "\\item 'CHD2\\_2'\n",
       "\\item 'CNOT2\\_1'\n",
       "\\item 'CNOT2\\_2'\n",
       "\\item 'GPBP1L1\\_1'\n",
       "\\item 'GPBP1L1\\_2'\n",
       "\\item 'HIC2\\_1'\n",
       "\\item 'HIC2\\_2'\n",
       "\\item 'KMT2B\\_1'\n",
       "\\item 'KMT2B\\_2'\n",
       "\\item 'MNT\\_1'\n",
       "\\item 'MNT\\_2'\n",
       "\\item 'NTC22\\_1'\n",
       "\\item 'NTC22\\_2'\n",
       "\\item 'NTC28\\_1'\n",
       "\\item 'NTC28\\_2'\n",
       "\\item 'NTC36\\_1'\n",
       "\\item 'NTC36\\_2'\n",
       "\\item 'NTC74\\_1'\n",
       "\\item 'NTC74\\_2'\n",
       "\\item 'NTC82\\_1'\n",
       "\\item 'NTC82\\_2'\n",
       "\\item 'NTC98\\_1'\n",
       "\\item 'NTC98\\_2'\n",
       "\\item 'PHF6\\_1'\n",
       "\\item 'PHF6\\_2'\n",
       "\\item 'PIAS1\\_1'\n",
       "\\item 'PIAS1\\_2'\n",
       "\\item 'PLAGL2\\_1'\n",
       "\\item 'PLAGL2\\_2'\n",
       "\\item 'PQBP1\\_1'\n",
       "\\item 'PQBP1\\_2'\n",
       "\\item 'SIN3A\\_1'\n",
       "\\item 'SIN3A\\_2'\n",
       "\\item 'SLTM\\_1'\n",
       "\\item 'SLTM\\_2'\n",
       "\\item 'TSC22D4\\_1'\n",
       "\\item 'TSC22D4\\_2'\n",
       "\\item 'UBE2L3\\_1'\n",
       "\\item 'UBE2L3\\_2'\n",
       "\\item 'YEATS4\\_1'\n",
       "\\item 'YEATS4\\_2'\n",
       "\\item 'ZBED6\\_1'\n",
       "\\item 'ZBED6\\_2'\n",
       "\\item 'ZNF330\\_1'\n",
       "\\item 'ZNF330\\_2'\n",
       "\\item 'ZNF669\\_1'\n",
       "\\item 'ZNF669\\_2'\n",
       "\\item 'barcode\\_dash'\n",
       "\\end{enumerate*}\n"
      ],
      "text/markdown": [
       "1. 'barcode'\n",
       "2. 'n_guides'\n",
       "3. 'ADNP_1'\n",
       "4. 'ADNP_2'\n",
       "5. 'BRD2_1'\n",
       "6. 'BRD2_2'\n",
       "7. 'CHD2_1'\n",
       "8. 'CHD2_2'\n",
       "9. 'CNOT2_1'\n",
       "10. 'CNOT2_2'\n",
       "11. 'GPBP1L1_1'\n",
       "12. 'GPBP1L1_2'\n",
       "13. 'HIC2_1'\n",
       "14. 'HIC2_2'\n",
       "15. 'KMT2B_1'\n",
       "16. 'KMT2B_2'\n",
       "17. 'MNT_1'\n",
       "18. 'MNT_2'\n",
       "19. 'NTC22_1'\n",
       "20. 'NTC22_2'\n",
       "21. 'NTC28_1'\n",
       "22. 'NTC28_2'\n",
       "23. 'NTC36_1'\n",
       "24. 'NTC36_2'\n",
       "25. 'NTC74_1'\n",
       "26. 'NTC74_2'\n",
       "27. 'NTC82_1'\n",
       "28. 'NTC82_2'\n",
       "29. 'NTC98_1'\n",
       "30. 'NTC98_2'\n",
       "31. 'PHF6_1'\n",
       "32. 'PHF6_2'\n",
       "33. 'PIAS1_1'\n",
       "34. 'PIAS1_2'\n",
       "35. 'PLAGL2_1'\n",
       "36. 'PLAGL2_2'\n",
       "37. 'PQBP1_1'\n",
       "38. 'PQBP1_2'\n",
       "39. 'SIN3A_1'\n",
       "40. 'SIN3A_2'\n",
       "41. 'SLTM_1'\n",
       "42. 'SLTM_2'\n",
       "43. 'TSC22D4_1'\n",
       "44. 'TSC22D4_2'\n",
       "45. 'UBE2L3_1'\n",
       "46. 'UBE2L3_2'\n",
       "47. 'YEATS4_1'\n",
       "48. 'YEATS4_2'\n",
       "49. 'ZBED6_1'\n",
       "50. 'ZBED6_2'\n",
       "51. 'ZNF330_1'\n",
       "52. 'ZNF330_2'\n",
       "53. 'ZNF669_1'\n",
       "54. 'ZNF669_2'\n",
       "55. 'barcode_dash'\n",
       "\n",
       "\n"
      ],
      "text/plain": [
       " [1] \"barcode\"      \"n_guides\"     \"ADNP_1\"       \"ADNP_2\"       \"BRD2_1\"      \n",
       " [6] \"BRD2_2\"       \"CHD2_1\"       \"CHD2_2\"       \"CNOT2_1\"      \"CNOT2_2\"     \n",
       "[11] \"GPBP1L1_1\"    \"GPBP1L1_2\"    \"HIC2_1\"       \"HIC2_2\"       \"KMT2B_1\"     \n",
       "[16] \"KMT2B_2\"      \"MNT_1\"        \"MNT_2\"        \"NTC22_1\"      \"NTC22_2\"     \n",
       "[21] \"NTC28_1\"      \"NTC28_2\"      \"NTC36_1\"      \"NTC36_2\"      \"NTC74_1\"     \n",
       "[26] \"NTC74_2\"      \"NTC82_1\"      \"NTC82_2\"      \"NTC98_1\"      \"NTC98_2\"     \n",
       "[31] \"PHF6_1\"       \"PHF6_2\"       \"PIAS1_1\"      \"PIAS1_2\"      \"PLAGL2_1\"    \n",
       "[36] \"PLAGL2_2\"     \"PQBP1_1\"      \"PQBP1_2\"      \"SIN3A_1\"      \"SIN3A_2\"     \n",
       "[41] \"SLTM_1\"       \"SLTM_2\"       \"TSC22D4_1\"    \"TSC22D4_2\"    \"UBE2L3_1\"    \n",
       "[46] \"UBE2L3_2\"     \"YEATS4_1\"     \"YEATS4_2\"     \"ZBED6_1\"      \"ZBED6_2\"     \n",
       "[51] \"ZNF330_1\"     \"ZNF330_2\"     \"ZNF669_1\"     \"ZNF669_2\"     \"barcode_dash\""
      ]
     },
     "metadata": {},
     "output_type": "display_data"
    }
   ],
   "source": [
    "colnames(df_barcodes)"
   ]
  },
  {
   "cell_type": "markdown",
   "id": "0a68a255",
   "metadata": {
    "papermill": {
     "duration": 0.005767,
     "end_time": "2023-08-18T04:35:29.403758",
     "exception": false,
     "start_time": "2023-08-18T04:35:29.397991",
     "status": "completed"
    },
    "tags": []
   },
   "source": [
    "# Load multiome data"
   ]
  },
  {
   "cell_type": "code",
   "execution_count": 15,
   "id": "2e8fbe32",
   "metadata": {
    "execution": {
     "iopub.execute_input": "2023-08-18T04:35:29.419142Z",
     "iopub.status.busy": "2023-08-18T04:35:29.417177Z",
     "iopub.status.idle": "2023-08-18T04:37:06.166855Z",
     "shell.execute_reply": "2023-08-18T04:37:06.165478Z"
    },
    "papermill": {
     "duration": 96.759336,
     "end_time": "2023-08-18T04:37:06.168914",
     "exception": false,
     "start_time": "2023-08-18T04:35:29.409578",
     "status": "completed"
    },
    "tags": [],
    "vscode": {
     "languageId": "r"
    }
   },
   "outputs": [
    {
     "name": "stderr",
     "output_type": "stream",
     "text": [
      "Validating h5Seurat file\n",
      "\n"
     ]
    },
    {
     "name": "stderr",
     "output_type": "stream",
     "text": [
      "Loading required package: Signac\n",
      "\n"
     ]
    },
    {
     "name": "stderr",
     "output_type": "stream",
     "text": [
      "rgeos version: 0.6-3, (SVN revision 696)\n",
      " GEOS runtime version: 3.8.0-CAPI-1.13.1 \n",
      " Please note that rgeos will be retired during October 2023,\n",
      "plan transition to sf or terra functions using GEOS at your earliest convenience.\n",
      "See https://r-spatial.org/r/2023/05/15/evolution4.html for details.\n",
      " Linking to sp version: 2.0-0 \n",
      " Polygon checking: TRUE \n",
      "\n",
      "\n"
     ]
    }
   ],
   "source": [
    "seurat <- LoadH5Seurat(h5_name, verbose=FALSE)"
   ]
  },
  {
   "cell_type": "markdown",
   "id": "96fb4fc5",
   "metadata": {
    "papermill": {
     "duration": 0.005926,
     "end_time": "2023-08-18T04:37:06.185727",
     "exception": false,
     "start_time": "2023-08-18T04:37:06.179801",
     "status": "completed"
    },
    "tags": []
   },
   "source": [
    "### Intersect guide-capture barcodes with multiome barcodes"
   ]
  },
  {
   "cell_type": "code",
   "execution_count": 16,
   "id": "72153240",
   "metadata": {
    "execution": {
     "iopub.execute_input": "2023-08-18T04:37:06.202085Z",
     "iopub.status.busy": "2023-08-18T04:37:06.199555Z",
     "iopub.status.idle": "2023-08-18T04:37:06.228652Z",
     "shell.execute_reply": "2023-08-18T04:37:06.227236Z"
    },
    "papermill": {
     "duration": 0.038774,
     "end_time": "2023-08-18T04:37:06.230388",
     "exception": false,
     "start_time": "2023-08-18T04:37:06.191614",
     "status": "completed"
    },
    "tags": [],
    "vscode": {
     "languageId": "r"
    }
   },
   "outputs": [],
   "source": [
    "# Find overlapping barcodes\n",
    "multiome_barcodes       <- Cells(seurat)\n",
    "df_barcodes$in_multiome <- df_barcodes$barcode_dash %in% multiome_barcodes"
   ]
  },
  {
   "cell_type": "code",
   "execution_count": 17,
   "id": "96b20131",
   "metadata": {
    "execution": {
     "iopub.execute_input": "2023-08-18T04:37:06.250148Z",
     "iopub.status.busy": "2023-08-18T04:37:06.249259Z",
     "iopub.status.idle": "2023-08-18T04:37:06.274496Z",
     "shell.execute_reply": "2023-08-18T04:37:06.273354Z"
    },
    "papermill": {
     "duration": 0.033927,
     "end_time": "2023-08-18T04:37:06.276093",
     "exception": false,
     "start_time": "2023-08-18T04:37:06.242166",
     "status": "completed"
    },
    "tags": [],
    "vscode": {
     "languageId": "r"
    }
   },
   "outputs": [
    {
     "data": {
      "text/html": [
       "22291"
      ],
      "text/latex": [
       "22291"
      ],
      "text/markdown": [
       "22291"
      ],
      "text/plain": [
       "[1] 22291"
      ]
     },
     "metadata": {},
     "output_type": "display_data"
    },
    {
     "data": {
      "text/html": [
       "8042"
      ],
      "text/latex": [
       "8042"
      ],
      "text/markdown": [
       "8042"
      ],
      "text/plain": [
       "[1] 8042"
      ]
     },
     "metadata": {},
     "output_type": "display_data"
    },
    {
     "data": {
      "text/html": [
       "<style>\n",
       ".list-inline {list-style: none; margin:0; padding: 0}\n",
       ".list-inline>li {display: inline-block}\n",
       ".list-inline>li:not(:last-child)::after {content: \"\\00b7\"; padding: 0 .5ex}\n",
       "</style>\n",
       "<ol class=list-inline><li>'AAACAGCCAACCCTCC-1'</li><li>'AAACAGCCAGCATGGA-1'</li><li>'AAACAGCCAGGCATCT-1'</li><li>'AAACAGCCATTAGCCA-1'</li><li>'AAACATGCAAAGCTCC-1'</li><li>'AAACATGCAATAGCCC-1'</li></ol>\n"
      ],
      "text/latex": [
       "\\begin{enumerate*}\n",
       "\\item 'AAACAGCCAACCCTCC-1'\n",
       "\\item 'AAACAGCCAGCATGGA-1'\n",
       "\\item 'AAACAGCCAGGCATCT-1'\n",
       "\\item 'AAACAGCCATTAGCCA-1'\n",
       "\\item 'AAACATGCAAAGCTCC-1'\n",
       "\\item 'AAACATGCAATAGCCC-1'\n",
       "\\end{enumerate*}\n"
      ],
      "text/markdown": [
       "1. 'AAACAGCCAACCCTCC-1'\n",
       "2. 'AAACAGCCAGCATGGA-1'\n",
       "3. 'AAACAGCCAGGCATCT-1'\n",
       "4. 'AAACAGCCATTAGCCA-1'\n",
       "5. 'AAACATGCAAAGCTCC-1'\n",
       "6. 'AAACATGCAATAGCCC-1'\n",
       "\n",
       "\n"
      ],
      "text/plain": [
       "[1] \"AAACAGCCAACCCTCC-1\" \"AAACAGCCAGCATGGA-1\" \"AAACAGCCAGGCATCT-1\"\n",
       "[4] \"AAACAGCCATTAGCCA-1\" \"AAACATGCAAAGCTCC-1\" \"AAACATGCAATAGCCC-1\""
      ]
     },
     "metadata": {},
     "output_type": "display_data"
    },
    {
     "data": {
      "text/html": [
       "8042"
      ],
      "text/latex": [
       "8042"
      ],
      "text/markdown": [
       "8042"
      ],
      "text/plain": [
       "[1] 8042"
      ]
     },
     "metadata": {},
     "output_type": "display_data"
    },
    {
     "data": {
      "text/html": [
       "8042"
      ],
      "text/latex": [
       "8042"
      ],
      "text/markdown": [
       "8042"
      ],
      "text/plain": [
       "[1] 8042"
      ]
     },
     "metadata": {},
     "output_type": "display_data"
    }
   ],
   "source": [
    "nrow(seurat)\n",
    "length(multiome_barcodes)\n",
    "head(multiome_barcodes)\n",
    "nrow(seurat@meta.data)\n",
    "#str(seurat)\n",
    "length(Cells(seurat))"
   ]
  },
  {
   "cell_type": "code",
   "execution_count": 18,
   "id": "4bece073",
   "metadata": {
    "execution": {
     "iopub.execute_input": "2023-08-18T04:37:06.293281Z",
     "iopub.status.busy": "2023-08-18T04:37:06.292400Z",
     "iopub.status.idle": "2023-08-18T04:37:06.339792Z",
     "shell.execute_reply": "2023-08-18T04:37:06.338637Z"
    },
    "papermill": {
     "duration": 0.056521,
     "end_time": "2023-08-18T04:37:06.341518",
     "exception": false,
     "start_time": "2023-08-18T04:37:06.284997",
     "status": "completed"
    },
    "tags": [],
    "vscode": {
     "languageId": "r"
    }
   },
   "outputs": [
    {
     "data": {
      "text/html": [
       "<table class=\"dataframe\">\n",
       "<caption>A data.frame: 5 \u00d7 56</caption>\n",
       "<thead>\n",
       "\t<tr><th scope=col>barcode</th><th scope=col>n_guides</th><th scope=col>ADNP_1</th><th scope=col>ADNP_2</th><th scope=col>BRD2_1</th><th scope=col>BRD2_2</th><th scope=col>CHD2_1</th><th scope=col>CHD2_2</th><th scope=col>CNOT2_1</th><th scope=col>CNOT2_2</th><th scope=col>\u22ef</th><th scope=col>YEATS4_1</th><th scope=col>YEATS4_2</th><th scope=col>ZBED6_1</th><th scope=col>ZBED6_2</th><th scope=col>ZNF330_1</th><th scope=col>ZNF330_2</th><th scope=col>ZNF669_1</th><th scope=col>ZNF669_2</th><th scope=col>barcode_dash</th><th scope=col>in_multiome</th></tr>\n",
       "\t<tr><th scope=col>&lt;fct&gt;</th><th scope=col>&lt;int&gt;</th><th scope=col>&lt;dbl&gt;</th><th scope=col>&lt;dbl&gt;</th><th scope=col>&lt;dbl&gt;</th><th scope=col>&lt;dbl&gt;</th><th scope=col>&lt;dbl&gt;</th><th scope=col>&lt;dbl&gt;</th><th scope=col>&lt;dbl&gt;</th><th scope=col>&lt;dbl&gt;</th><th scope=col>\u22ef</th><th scope=col>&lt;dbl&gt;</th><th scope=col>&lt;dbl&gt;</th><th scope=col>&lt;dbl&gt;</th><th scope=col>&lt;dbl&gt;</th><th scope=col>&lt;dbl&gt;</th><th scope=col>&lt;dbl&gt;</th><th scope=col>&lt;dbl&gt;</th><th scope=col>&lt;dbl&gt;</th><th scope=col>&lt;chr&gt;</th><th scope=col>&lt;lgl&gt;</th></tr>\n",
       "</thead>\n",
       "<tbody>\n",
       "\t<tr><td>ACGAGTAAGCAGCTAT</td><td> 530</td><td>0</td><td>0</td><td>0</td><td>0</td><td> 0</td><td> 0</td><td>0</td><td>0</td><td>\u22ef</td><td>106</td><td>0</td><td> 0</td><td> 0</td><td>0</td><td>0</td><td>0</td><td>0</td><td>ACGAGTAAGCAGCTAT-1</td><td>FALSE</td></tr>\n",
       "\t<tr><td>CAGGACACAACATAAG</td><td>1751</td><td>0</td><td>0</td><td>0</td><td>0</td><td>27</td><td> 0</td><td>0</td><td>0</td><td>\u22ef</td><td>  0</td><td>0</td><td> 0</td><td> 0</td><td>2</td><td>0</td><td>0</td><td>0</td><td>CAGGACACAACATAAG-1</td><td>FALSE</td></tr>\n",
       "\t<tr><td>GATTCGCCAACCGCCA</td><td> 423</td><td>0</td><td>0</td><td>0</td><td>0</td><td> 0</td><td> 0</td><td>0</td><td>0</td><td>\u22ef</td><td>  0</td><td>0</td><td> 0</td><td> 0</td><td>0</td><td>0</td><td>0</td><td>0</td><td>GATTCGCCAACCGCCA-1</td><td>FALSE</td></tr>\n",
       "\t<tr><td>AGCTTCCTCGGTTCCT</td><td> 639</td><td>0</td><td>0</td><td>0</td><td>0</td><td> 0</td><td>80</td><td>0</td><td>0</td><td>\u22ef</td><td>  0</td><td>0</td><td>46</td><td>66</td><td>0</td><td>0</td><td>0</td><td>0</td><td>AGCTTCCTCGGTTCCT-1</td><td>FALSE</td></tr>\n",
       "\t<tr><td>GGTATGTTCTGGCTTC</td><td>   3</td><td>0</td><td>0</td><td>0</td><td>0</td><td> 0</td><td> 0</td><td>0</td><td>0</td><td>\u22ef</td><td>  0</td><td>0</td><td> 0</td><td> 0</td><td>0</td><td>0</td><td>0</td><td>0</td><td>GGTATGTTCTGGCTTC-1</td><td>FALSE</td></tr>\n",
       "</tbody>\n",
       "</table>\n"
      ],
      "text/latex": [
       "A data.frame: 5 \u00d7 56\n",
       "\\begin{tabular}{lllllllllllllllllllll}\n",
       " barcode & n\\_guides & ADNP\\_1 & ADNP\\_2 & BRD2\\_1 & BRD2\\_2 & CHD2\\_1 & CHD2\\_2 & CNOT2\\_1 & CNOT2\\_2 & \u22ef & YEATS4\\_1 & YEATS4\\_2 & ZBED6\\_1 & ZBED6\\_2 & ZNF330\\_1 & ZNF330\\_2 & ZNF669\\_1 & ZNF669\\_2 & barcode\\_dash & in\\_multiome\\\\\n",
       " <fct> & <int> & <dbl> & <dbl> & <dbl> & <dbl> & <dbl> & <dbl> & <dbl> & <dbl> & \u22ef & <dbl> & <dbl> & <dbl> & <dbl> & <dbl> & <dbl> & <dbl> & <dbl> & <chr> & <lgl>\\\\\n",
       "\\hline\n",
       "\t ACGAGTAAGCAGCTAT &  530 & 0 & 0 & 0 & 0 &  0 &  0 & 0 & 0 & \u22ef & 106 & 0 &  0 &  0 & 0 & 0 & 0 & 0 & ACGAGTAAGCAGCTAT-1 & FALSE\\\\\n",
       "\t CAGGACACAACATAAG & 1751 & 0 & 0 & 0 & 0 & 27 &  0 & 0 & 0 & \u22ef &   0 & 0 &  0 &  0 & 2 & 0 & 0 & 0 & CAGGACACAACATAAG-1 & FALSE\\\\\n",
       "\t GATTCGCCAACCGCCA &  423 & 0 & 0 & 0 & 0 &  0 &  0 & 0 & 0 & \u22ef &   0 & 0 &  0 &  0 & 0 & 0 & 0 & 0 & GATTCGCCAACCGCCA-1 & FALSE\\\\\n",
       "\t AGCTTCCTCGGTTCCT &  639 & 0 & 0 & 0 & 0 &  0 & 80 & 0 & 0 & \u22ef &   0 & 0 & 46 & 66 & 0 & 0 & 0 & 0 & AGCTTCCTCGGTTCCT-1 & FALSE\\\\\n",
       "\t GGTATGTTCTGGCTTC &    3 & 0 & 0 & 0 & 0 &  0 &  0 & 0 & 0 & \u22ef &   0 & 0 &  0 &  0 & 0 & 0 & 0 & 0 & GGTATGTTCTGGCTTC-1 & FALSE\\\\\n",
       "\\end{tabular}\n"
      ],
      "text/markdown": [
       "\n",
       "A data.frame: 5 \u00d7 56\n",
       "\n",
       "| barcode &lt;fct&gt; | n_guides &lt;int&gt; | ADNP_1 &lt;dbl&gt; | ADNP_2 &lt;dbl&gt; | BRD2_1 &lt;dbl&gt; | BRD2_2 &lt;dbl&gt; | CHD2_1 &lt;dbl&gt; | CHD2_2 &lt;dbl&gt; | CNOT2_1 &lt;dbl&gt; | CNOT2_2 &lt;dbl&gt; | \u22ef \u22ef | YEATS4_1 &lt;dbl&gt; | YEATS4_2 &lt;dbl&gt; | ZBED6_1 &lt;dbl&gt; | ZBED6_2 &lt;dbl&gt; | ZNF330_1 &lt;dbl&gt; | ZNF330_2 &lt;dbl&gt; | ZNF669_1 &lt;dbl&gt; | ZNF669_2 &lt;dbl&gt; | barcode_dash &lt;chr&gt; | in_multiome &lt;lgl&gt; |\n",
       "|---|---|---|---|---|---|---|---|---|---|---|---|---|---|---|---|---|---|---|---|---|\n",
       "| ACGAGTAAGCAGCTAT |  530 | 0 | 0 | 0 | 0 |  0 |  0 | 0 | 0 | \u22ef | 106 | 0 |  0 |  0 | 0 | 0 | 0 | 0 | ACGAGTAAGCAGCTAT-1 | FALSE |\n",
       "| CAGGACACAACATAAG | 1751 | 0 | 0 | 0 | 0 | 27 |  0 | 0 | 0 | \u22ef |   0 | 0 |  0 |  0 | 2 | 0 | 0 | 0 | CAGGACACAACATAAG-1 | FALSE |\n",
       "| GATTCGCCAACCGCCA |  423 | 0 | 0 | 0 | 0 |  0 |  0 | 0 | 0 | \u22ef |   0 | 0 |  0 |  0 | 0 | 0 | 0 | 0 | GATTCGCCAACCGCCA-1 | FALSE |\n",
       "| AGCTTCCTCGGTTCCT |  639 | 0 | 0 | 0 | 0 |  0 | 80 | 0 | 0 | \u22ef |   0 | 0 | 46 | 66 | 0 | 0 | 0 | 0 | AGCTTCCTCGGTTCCT-1 | FALSE |\n",
       "| GGTATGTTCTGGCTTC |    3 | 0 | 0 | 0 | 0 |  0 |  0 | 0 | 0 | \u22ef |   0 | 0 |  0 |  0 | 0 | 0 | 0 | 0 | GGTATGTTCTGGCTTC-1 | FALSE |\n",
       "\n"
      ],
      "text/plain": [
       "  barcode          n_guides ADNP_1 ADNP_2 BRD2_1 BRD2_2 CHD2_1 CHD2_2 CNOT2_1\n",
       "1 ACGAGTAAGCAGCTAT  530     0      0      0      0       0      0     0      \n",
       "2 CAGGACACAACATAAG 1751     0      0      0      0      27      0     0      \n",
       "3 GATTCGCCAACCGCCA  423     0      0      0      0       0      0     0      \n",
       "4 AGCTTCCTCGGTTCCT  639     0      0      0      0       0     80     0      \n",
       "5 GGTATGTTCTGGCTTC    3     0      0      0      0       0      0     0      \n",
       "  CNOT2_2 \u22ef YEATS4_1 YEATS4_2 ZBED6_1 ZBED6_2 ZNF330_1 ZNF330_2 ZNF669_1\n",
       "1 0       \u22ef 106      0         0       0      0        0        0       \n",
       "2 0       \u22ef   0      0         0       0      2        0        0       \n",
       "3 0       \u22ef   0      0         0       0      0        0        0       \n",
       "4 0       \u22ef   0      0        46      66      0        0        0       \n",
       "5 0       \u22ef   0      0         0       0      0        0        0       \n",
       "  ZNF669_2 barcode_dash       in_multiome\n",
       "1 0        ACGAGTAAGCAGCTAT-1 FALSE      \n",
       "2 0        CAGGACACAACATAAG-1 FALSE      \n",
       "3 0        GATTCGCCAACCGCCA-1 FALSE      \n",
       "4 0        AGCTTCCTCGGTTCCT-1 FALSE      \n",
       "5 0        GGTATGTTCTGGCTTC-1 FALSE      "
      ]
     },
     "metadata": {},
     "output_type": "display_data"
    }
   ],
   "source": [
    "sample_n(df_barcodes, 5)"
   ]
  },
  {
   "cell_type": "markdown",
   "id": "7bd5fe54",
   "metadata": {
    "papermill": {
     "duration": 0.006572,
     "end_time": "2023-08-18T04:37:06.358947",
     "exception": false,
     "start_time": "2023-08-18T04:37:06.352375",
     "status": "completed"
    },
    "tags": []
   },
   "source": [
    "Write df_barcodes to TSV and XLS"
   ]
  },
  {
   "cell_type": "code",
   "execution_count": 19,
   "id": "246b682d",
   "metadata": {
    "execution": {
     "iopub.execute_input": "2023-08-18T04:37:06.374114Z",
     "iopub.status.busy": "2023-08-18T04:37:06.373223Z",
     "iopub.status.idle": "2023-08-18T04:37:31.121006Z",
     "shell.execute_reply": "2023-08-18T04:37:31.118494Z"
    },
    "papermill": {
     "duration": 24.758248,
     "end_time": "2023-08-18T04:37:31.123833",
     "exception": false,
     "start_time": "2023-08-18T04:37:06.365585",
     "status": "completed"
    },
    "tags": [],
    "vscode": {
     "languageId": "r"
    }
   },
   "outputs": [],
   "source": [
    "library(writexl)\n",
    "write_xlsx(df_barcodes, xlsname)\n",
    "write.table(df_barcodes, tsvname, sep = \"\\t\", quote = FALSE, row.names = FALSE)"
   ]
  },
  {
   "cell_type": "markdown",
   "id": "dda1d8b1",
   "metadata": {
    "papermill": {
     "duration": 0.006781,
     "end_time": "2023-08-18T04:37:31.142893",
     "exception": false,
     "start_time": "2023-08-18T04:37:31.136112",
     "status": "completed"
    },
    "tags": []
   },
   "source": [
    "# Produce charts"
   ]
  },
  {
   "cell_type": "code",
   "execution_count": 20,
   "id": "3b72de4d",
   "metadata": {
    "execution": {
     "iopub.execute_input": "2023-08-18T04:37:31.159861Z",
     "iopub.status.busy": "2023-08-18T04:37:31.157975Z",
     "iopub.status.idle": "2023-08-18T04:37:31.269224Z",
     "shell.execute_reply": "2023-08-18T04:37:31.267850Z"
    },
    "papermill": {
     "duration": 0.121508,
     "end_time": "2023-08-18T04:37:31.270948",
     "exception": false,
     "start_time": "2023-08-18T04:37:31.149440",
     "status": "completed"
    },
    "tags": [],
    "vscode": {
     "languageId": "r"
    }
   },
   "outputs": [],
   "source": [
    "select_gt1_umi_per_cell <- df_barcodes$n_guides > 1\n",
    "select_convergent       <- df_barcodes$targeted_gene_count == 1\n",
    "\n",
    "df_barcodes_gt1         <- df_barcodes[select_gt1_umi_per_cell, ]\n",
    "df_in_multiome          <- df_barcodes[df_barcodes$in_multiome, ]\n",
    "df_gt1_in_multiome      <- df_barcodes_gt1[df_barcodes_gt1$in_multiome, ]\n",
    "df_convergent           <- df_barcodes[select_convergent, ]"
   ]
  },
  {
   "cell_type": "code",
   "execution_count": 21,
   "id": "7256a14d",
   "metadata": {
    "execution": {
     "iopub.execute_input": "2023-08-18T04:37:31.311613Z",
     "iopub.status.busy": "2023-08-18T04:37:31.310726Z",
     "iopub.status.idle": "2023-08-18T04:37:36.579687Z",
     "shell.execute_reply": "2023-08-18T04:37:36.578609Z"
    },
    "papermill": {
     "duration": 5.298601,
     "end_time": "2023-08-18T04:37:36.582068",
     "exception": false,
     "start_time": "2023-08-18T04:37:31.283467",
     "status": "completed"
    },
    "tags": [],
    "vscode": {
     "languageId": "r"
    }
   },
   "outputs": [
    {
     "data": {
      "image/png": "[encoded data removed]",
      "text/plain": [
       "plot without title"
      ]
     },
     "metadata": {
      "image/png": {
       "height": 360,
       "width": 480
      }
     },
     "output_type": "display_data"
    }
   ],
   "source": [
    "options(repr.plot.width = 8, repr.plot.height = 6)\n",
    "\n",
    "ggplot(df_in_multiome, aes(x = n_guides)) +\n",
    "    geom_histogram(binwidth=1) +\n",
    "    labs(title = \"Captured guide count\", x = \"#guides\")+\n",
    "    labs(subtitle = \"multiome-overlapping guide-capture barcodes\", y = \"#cells\")\n",
    "    "
   ]
  },
  {
   "cell_type": "code",
   "execution_count": 22,
   "id": "7407d977",
   "metadata": {
    "execution": {
     "iopub.execute_input": "2023-08-18T04:37:36.604054Z",
     "iopub.status.busy": "2023-08-18T04:37:36.602027Z",
     "iopub.status.idle": "2023-08-18T04:37:37.323448Z",
     "shell.execute_reply": "2023-08-18T04:37:37.322365Z"
    },
    "papermill": {
     "duration": 0.732601,
     "end_time": "2023-08-18T04:37:37.325667",
     "exception": false,
     "start_time": "2023-08-18T04:37:36.593066",
     "status": "completed"
    },
    "tags": [],
    "vscode": {
     "languageId": "r"
    }
   },
   "outputs": [
    {
     "data": {
      "image/png": "[encoded data removed]",
      "text/plain": [
       "plot without title"
      ]
     },
     "metadata": {
      "image/png": {
       "height": 300,
       "width": 480
      }
     },
     "output_type": "display_data"
    },
    {
     "data": {
      "image/png": "[encoded data removed]",
      "text/plain": [
       "plot without title"
      ]
     },
     "metadata": {
      "image/png": {
       "height": 300,
       "width": 480
      }
     },
     "output_type": "display_data"
    }
   ],
   "source": [
    "options(repr.plot.width = 8, repr.plot.height = 5)\n",
    "df_dummy <- df_in_multiome[order(-df_in_multiome$n_guides),]\n",
    "\n",
    "ggplot(df_dummy, aes(x=1:nrow(df_dummy), y = n_guides)) +\n",
    "    geom_point() +\n",
    "    labs(title = \"Captured guide count\", x = \"Cell index\") +\n",
    "    labs(subtitle = \"multiome-overlapping guide-capture barcodes\", y = \"#guides\")\n",
    "\n",
    "ggplot(df_dummy, aes(x=1:nrow(df_dummy), y = n_guides)) +\n",
    "    geom_point() +\n",
    "    labs(title = \"Captured guide count\", x = \"Cell index\") +\n",
    "    labs(subtitle = \"multiome-overlapping guide-capture barcodes\", y = \"#guides\") +\n",
    "    scale_y_log10()"
   ]
  },
  {
   "cell_type": "code",
   "execution_count": 23,
   "id": "c827a18b",
   "metadata": {
    "execution": {
     "iopub.execute_input": "2023-08-18T04:37:37.352334Z",
     "iopub.status.busy": "2023-08-18T04:37:37.350299Z",
     "iopub.status.idle": "2023-08-18T04:37:37.374096Z",
     "shell.execute_reply": "2023-08-18T04:37:37.372887Z"
    },
    "papermill": {
     "duration": 0.034988,
     "end_time": "2023-08-18T04:37:37.375878",
     "exception": false,
     "start_time": "2023-08-18T04:37:37.340890",
     "status": "completed"
    },
    "tags": [],
    "vscode": {
     "languageId": "r"
    }
   },
   "outputs": [],
   "source": [
    "# Record stats\n",
    "stats[[\"%overlapping\"]] <-\n",
    "    100 * sum(df_barcodes$in_multiome) / length(multiome_barcodes)\n",
    "\n",
    "stats[[\"Guide-capture barcodes\"]] <- nrow(df_barcodes)\n",
    "stats[[\"Multiome barcodes\"]]      <- length(multiome_barcodes)\n",
    "stats[[\"Overlapping barcodes\"]]   <- sum(df_barcodes$in_multiome)\n",
    "stats[[\"Overlapping barcodes > 1 UMI\"]] <- sum(df_barcodes_gt1$in_multiome)\n",
    "stats[[\"Guide capture all convergent\"]] <- nrow(df_convergent)\n",
    "stats[[\"Guide capture overlapping convergent\"]] <-\n",
    "    sum(df_convergent$in_multiome)\n",
    "stats[[\"Median guides per cell (multiome-overlapping)\"]] <- median(df_in_multiome$n_guides)"
   ]
  },
  {
   "cell_type": "markdown",
   "id": "5c5fce69",
   "metadata": {
    "papermill": {
     "duration": 0.008214,
     "end_time": "2023-08-18T04:37:37.399481",
     "exception": false,
     "start_time": "2023-08-18T04:37:37.391267",
     "status": "completed"
    },
    "tags": []
   },
   "source": [
    "# Print stats"
   ]
  },
  {
   "cell_type": "code",
   "execution_count": 24,
   "id": "ba26bb79",
   "metadata": {
    "execution": {
     "iopub.execute_input": "2023-08-18T04:37:37.416664Z",
     "iopub.status.busy": "2023-08-18T04:37:37.415738Z",
     "iopub.status.idle": "2023-08-18T04:37:37.430219Z",
     "shell.execute_reply": "2023-08-18T04:37:37.429143Z"
    },
    "papermill": {
     "duration": 0.024917,
     "end_time": "2023-08-18T04:37:37.432037",
     "exception": false,
     "start_time": "2023-08-18T04:37:37.407120",
     "status": "completed"
    },
    "tags": [],
    "vscode": {
     "languageId": "r"
    }
   },
   "outputs": [
    {
     "name": "stdout",
     "output_type": "stream",
     "text": [
      "Guide-capture UMI counts\t5.73142e+07\n",
      "Guide-capture UMI counts after removing empty barcodes\t5.50861e+07\n",
      "Guide-capture UMI counts after removing PCR duplicates\t5.50861e+07\n",
      "%overlapping\t99.8259\n",
      "Guide-capture barcodes\t219985\n",
      "Multiome barcodes\t8042\n",
      "Overlapping barcodes\t8028\n",
      "Overlapping barcodes > 1 UMI\t8027\n",
      "Guide capture all convergent\t0\n",
      "Guide capture overlapping convergent\t0\n",
      "Median guides per cell (multiome-overlapping)\t1334\n"
     ]
    }
   ],
   "source": [
    "for (tag in names(stats)) {\n",
    "    if (tag != \"Capture efficiency\") {\n",
    "        text <- sprintf(\"%s\\t%g\\n\", tag, stats[[tag]])\n",
    "    }\n",
    "    else {\n",
    "        text <- sprintf(\"%s\\t%.1f%%\\n\", tag, stats[[tag]])\n",
    "    }\n",
    "    cat(text)\n",
    "}"
   ]
  },
  {
   "cell_type": "code",
   "execution_count": 25,
   "id": "c82a11d0",
   "metadata": {
    "execution": {
     "iopub.execute_input": "2023-08-18T04:37:37.452355Z",
     "iopub.status.busy": "2023-08-18T04:37:37.451428Z",
     "iopub.status.idle": "2023-08-18T04:37:37.468034Z",
     "shell.execute_reply": "2023-08-18T04:37:37.466963Z"
    },
    "papermill": {
     "duration": 0.027114,
     "end_time": "2023-08-18T04:37:37.469812",
     "exception": false,
     "start_time": "2023-08-18T04:37:37.442698",
     "status": "completed"
    },
    "tags": [],
    "vscode": {
     "languageId": "r"
    }
   },
   "outputs": [
    {
     "data": {
      "text/html": [
       "<table class=\"dataframe\">\n",
       "<caption>A matrix: 11 \u00d7 1 of type dbl</caption>\n",
       "<tbody>\n",
       "\t<tr><th scope=row>Guide.capture.UMI.counts</th><td>57314155</td></tr>\n",
       "\t<tr><th scope=row>Guide.capture.UMI.counts.after.removing.empty.barcodes</th><td>55086051</td></tr>\n",
       "\t<tr><th scope=row>Guide.capture.UMI.counts.after.removing.PCR.duplicates</th><td>55086051</td></tr>\n",
       "\t<tr><th scope=row>X.overlapping</th><td>     100</td></tr>\n",
       "\t<tr><th scope=row>Guide.capture.barcodes</th><td>  219985</td></tr>\n",
       "\t<tr><th scope=row>Multiome.barcodes</th><td>    8042</td></tr>\n",
       "\t<tr><th scope=row>Overlapping.barcodes</th><td>    8028</td></tr>\n",
       "\t<tr><th scope=row>Overlapping.barcodes...1.UMI</th><td>    8027</td></tr>\n",
       "\t<tr><th scope=row>Guide.capture.all.convergent</th><td>       0</td></tr>\n",
       "\t<tr><th scope=row>Guide.capture.overlapping.convergent</th><td>       0</td></tr>\n",
       "\t<tr><th scope=row>Median.guides.per.cell..multiome.overlapping.</th><td>    1334</td></tr>\n",
       "</tbody>\n",
       "</table>\n"
      ],
      "text/latex": [
       "A matrix: 11 \u00d7 1 of type dbl\n",
       "\\begin{tabular}{r|l}\n",
       "\tGuide.capture.UMI.counts & 57314155\\\\\n",
       "\tGuide.capture.UMI.counts.after.removing.empty.barcodes & 55086051\\\\\n",
       "\tGuide.capture.UMI.counts.after.removing.PCR.duplicates & 55086051\\\\\n",
       "\tX.overlapping &      100\\\\\n",
       "\tGuide.capture.barcodes &   219985\\\\\n",
       "\tMultiome.barcodes &     8042\\\\\n",
       "\tOverlapping.barcodes &     8028\\\\\n",
       "\tOverlapping.barcodes...1.UMI &     8027\\\\\n",
       "\tGuide.capture.all.convergent &        0\\\\\n",
       "\tGuide.capture.overlapping.convergent &        0\\\\\n",
       "\tMedian.guides.per.cell..multiome.overlapping. &     1334\\\\\n",
       "\\end{tabular}\n"
      ],
      "text/markdown": [
       "\n",
       "A matrix: 11 \u00d7 1 of type dbl\n",
       "\n",
       "| Guide.capture.UMI.counts | 57314155 |\n",
       "| Guide.capture.UMI.counts.after.removing.empty.barcodes | 55086051 |\n",
       "| Guide.capture.UMI.counts.after.removing.PCR.duplicates | 55086051 |\n",
       "| X.overlapping |      100 |\n",
       "| Guide.capture.barcodes |   219985 |\n",
       "| Multiome.barcodes |     8042 |\n",
       "| Overlapping.barcodes |     8028 |\n",
       "| Overlapping.barcodes...1.UMI |     8027 |\n",
       "| Guide.capture.all.convergent |        0 |\n",
       "| Guide.capture.overlapping.convergent |        0 |\n",
       "| Median.guides.per.cell..multiome.overlapping. |     1334 |\n",
       "\n"
      ],
      "text/plain": [
       "                                                       [,1]    \n",
       "Guide.capture.UMI.counts                               57314155\n",
       "Guide.capture.UMI.counts.after.removing.empty.barcodes 55086051\n",
       "Guide.capture.UMI.counts.after.removing.PCR.duplicates 55086051\n",
       "X.overlapping                                               100\n",
       "Guide.capture.barcodes                                   219985\n",
       "Multiome.barcodes                                          8042\n",
       "Overlapping.barcodes                                       8028\n",
       "Overlapping.barcodes...1.UMI                               8027\n",
       "Guide.capture.all.convergent                                  0\n",
       "Guide.capture.overlapping.convergent                          0\n",
       "Median.guides.per.cell..multiome.overlapping.              1334"
      ]
     },
     "metadata": {},
     "output_type": "display_data"
    }
   ],
   "source": [
    "round(t(as.data.frame(stats)))"
   ]
  },
  {
   "cell_type": "markdown",
   "id": "995dcd1a",
   "metadata": {
    "papermill": {
     "duration": 0.007904,
     "end_time": "2023-08-18T04:37:37.487247",
     "exception": false,
     "start_time": "2023-08-18T04:37:37.479343",
     "status": "completed"
    },
    "tags": []
   },
   "source": []
  }
 ],
 "metadata": {
  "kernelspec": {
   "display_name": "R",
   "language": "R",
   "name": "ir"
  },
  "language_info": {
   "codemirror_mode": "r",
   "file_extension": ".r",
   "mimetype": "text/x-r-source",
   "name": "R",
   "pygments_lexer": "r",
   "version": "4.3.1"
  },
  "papermill": {
   "default_parameters": {},
   "duration": 25372.644344,
   "end_time": "2023-08-18T04:37:39.115706",
   "environment_variables": {},
   "exception": null,
   "input_path": "/home/kfeng/catatac/secondary/04_match_guide2barcode_04.ipynb",
   "output_path": "/data2/kfeng/deeper_guides_dasatinib/secondary/DMSO2/notebooks/04_match_guide2barcode_04.ipynb",
   "parameters": {
    "h5_name": "/data2/kfeng/deeper_guides_dasatinib/secondary/DMSO2/seurat/CATATAC_CRISPR-DMSO2_ONLY_SINGLETS.h5seurat",
    "library": "CRISPR-DMSO2",
    "protosp_path": "/data2/kfeng/deeper_guides_dasatinib/dasatinib_primary_01HD/DMSO2/resources/ps_dasatinib_screen2.tsv",
    "tsv_path": "/data2/kfeng/deeper_guides_dasatinib/dasatinib_primary_01HD/DMSO2/tsv"
   },
   "start_time": "2023-08-17T21:34:46.471362",
   "version": "2.4.0"
  }
 },
 "nbformat": 4,
 "nbformat_minor": 5
}