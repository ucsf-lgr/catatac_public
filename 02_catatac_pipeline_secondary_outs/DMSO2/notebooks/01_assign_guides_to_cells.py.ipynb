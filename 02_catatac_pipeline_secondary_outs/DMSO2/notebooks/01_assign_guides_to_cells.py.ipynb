{
 "cells": [
  {
   "cell_type": "code",
   "execution_count": 1,
   "id": "118b3bd3",
   "metadata": {
    "execution": {
     "iopub.execute_input": "2023-08-17T21:11:21.674175Z",
     "iopub.status.busy": "2023-08-17T21:11:21.673569Z",
     "iopub.status.idle": "2023-08-17T21:11:21.684272Z",
     "shell.execute_reply": "2023-08-17T21:11:21.683337Z"
    },
    "papermill": {
     "duration": 0.019603,
     "end_time": "2023-08-17T21:11:21.685500",
     "exception": false,
     "start_time": "2023-08-17T21:11:21.665897",
     "status": "completed"
    },
    "tags": [
     "injected-parameters"
    ]
   },
   "outputs": [],
   "source": [
    "# Parameterslibrary = \"CRISPR-DMSO2\"fastq_path = '{PATH_TO_TSV_PATH_PATH_1}'"
   ]
  },
  {
   "cell_type": "markdown",
   "id": "34b236ad",
   "metadata": {
    "papermill": {
     "duration": 0.005482,
     "end_time": "2023-08-17T21:11:21.697057",
     "exception": false,
     "start_time": "2023-08-17T21:11:21.691575",
     "status": "completed"
    },
    "tags": []
   },
   "source": [
    "# Assign guides to cells"
   ]
  },
  {
   "cell_type": "code",
   "execution_count": 2,
   "id": "9e8f585c",
   "metadata": {
    "execution": {
     "iopub.execute_input": "2023-08-17T21:11:21.704609Z",
     "iopub.status.busy": "2023-08-17T21:11:21.704292Z",
     "iopub.status.idle": "2023-08-17T21:11:22.179287Z",
     "shell.execute_reply": "2023-08-17T21:11:22.178670Z"
    },
    "papermill": {
     "duration": 0.481746,
     "end_time": "2023-08-17T21:11:22.181385",
     "exception": false,
     "start_time": "2023-08-17T21:11:21.699639",
     "status": "completed"
    },
    "tags": []
   },
   "outputs": [],
   "source": [
    "import pandas as pd\n",
    "import matplotlib.pyplot as plt"
   ]
  },
  {
   "cell_type": "code",
   "execution_count": 3,
   "id": "01cbd0a9",
   "metadata": {
    "execution": {
     "iopub.execute_input": "2023-08-17T21:11:22.192175Z",
     "iopub.status.busy": "2023-08-17T21:11:22.191773Z",
     "iopub.status.idle": "2023-08-17T21:11:22.195787Z",
     "shell.execute_reply": "2023-08-17T21:11:22.195074Z"
    },
    "papermill": {
     "duration": 0.009471,
     "end_time": "2023-08-17T21:11:22.196990",
     "exception": false,
     "start_time": "2023-08-17T21:11:22.187519",
     "status": "completed"
    },
    "tags": []
   },
   "outputs": [],
   "source": [
    "# library = \"CRISPR8\"",
    "# fastq_path = \"/home/vsevim/prj/tf/CATATAC_4/data//atac_and_guidecap\"",
    "# tsv_path = '{PATH_2}'"
   ]
  },
  {
   "cell_type": "code",
   "execution_count": 4,
   "id": "b1ad07ab",
   "metadata": {
    "execution": {
     "iopub.execute_input": "2023-08-17T21:11:22.208301Z",
     "iopub.status.busy": "2023-08-17T21:11:22.207709Z",
     "iopub.status.idle": "2023-08-17T21:11:22.211717Z",
     "shell.execute_reply": "2023-08-17T21:11:22.210918Z"
    },
    "papermill": {
     "duration": 0.010859,
     "end_time": "2023-08-17T21:11:22.212853",
     "exception": false,
     "start_time": "2023-08-17T21:11:22.201994",
     "status": "completed"
    },
    "tags": []
   },
   "outputs": [],
   "source": [
    "stats = []"
   ]
  },
  {
   "cell_type": "markdown",
   "id": "5f4d8ff3",
   "metadata": {
    "papermill": {
     "duration": 0.003926,
     "end_time": "2023-08-17T21:11:22.219431",
     "exception": false,
     "start_time": "2023-08-17T21:11:22.215505",
     "status": "completed"
    },
    "tags": []
   },
   "source": [
    "Count raw reads"
   ]
  },
  {
   "cell_type": "code",
   "execution_count": 5,
   "id": "b76a4464",
   "metadata": {
    "execution": {
     "iopub.execute_input": "2023-08-17T21:11:22.228846Z",
     "iopub.status.busy": "2023-08-17T21:11:22.228057Z",
     "iopub.status.idle": "2023-08-17T21:13:36.705601Z",
     "shell.execute_reply": "2023-08-17T21:13:36.704959Z"
    },
    "papermill": {
     "duration": 134.483648,
     "end_time": "2023-08-17T21:13:36.708007",
     "exception": false,
     "start_time": "2023-08-17T21:11:22.224359",
     "status": "completed"
    },
    "tags": []
   },
   "outputs": [],
   "source": [
    "n_raw_reads = !zcat {fastq_path}/{library}*R1*.fastq.gz | grep \"^@\" | wc -l\n",
    "n_raw_reads = int(n_raw_reads[0])\n",
    "stats += [['Raw Reads', n_raw_reads]]"
   ]
  },
  {
   "cell_type": "markdown",
   "id": "afaaa00c",
   "metadata": {
    "papermill": {
     "duration": 0.003978,
     "end_time": "2023-08-17T21:13:36.718773",
     "exception": false,
     "start_time": "2023-08-17T21:13:36.714795",
     "status": "completed"
    },
    "tags": []
   },
   "source": [
    "Count reads w CS1"
   ]
  },
  {
   "cell_type": "code",
   "execution_count": 6,
   "id": "14802234",
   "metadata": {
    "execution": {
     "iopub.execute_input": "2023-08-17T21:13:36.725490Z",
     "iopub.status.busy": "2023-08-17T21:13:36.725170Z",
     "iopub.status.idle": "2023-08-17T21:14:51.530057Z",
     "shell.execute_reply": "2023-08-17T21:14:51.529029Z"
    },
    "papermill": {
     "duration": 74.811226,
     "end_time": "2023-08-17T21:14:51.532669",
     "exception": false,
     "start_time": "2023-08-17T21:13:36.721443",
     "status": "completed"
    },
    "tags": []
   },
   "outputs": [],
   "source": [
    "n_reads_w_CS1 = !zcat {tsv_path}/{library}*w_CS.TSV.gz | wc -l\n",
    "n_reads_w_CS1 = int(n_reads_w_CS1[0])\n",
    "stats += [['Reads with CS1', n_reads_w_CS1]]"
   ]
  },
  {
   "cell_type": "code",
   "execution_count": 7,
   "id": "b47fa5df",
   "metadata": {
    "execution": {
     "iopub.execute_input": "2023-08-17T21:14:51.543789Z",
     "iopub.status.busy": "2023-08-17T21:14:51.543516Z",
     "iopub.status.idle": "2023-08-17T21:14:51.554189Z",
     "shell.execute_reply": "2023-08-17T21:14:51.553602Z"
    },
    "papermill": {
     "duration": 0.016474,
     "end_time": "2023-08-17T21:14:51.555719",
     "exception": false,
     "start_time": "2023-08-17T21:14:51.539245",
     "status": "completed"
    },
    "tags": []
   },
   "outputs": [
    {
     "data": {
      "text/plain": [
       "[['Raw Reads', 90771649], ['Reads with CS1', 53581407]]"
      ]
     },
     "execution_count": 7,
     "metadata": {},
     "output_type": "execute_result"
    }
   ],
   "source": [
    "stats"
   ]
  },
  {
   "cell_type": "markdown",
   "id": "e7095fb5",
   "metadata": {
    "papermill": {
     "duration": 0.002743,
     "end_time": "2023-08-17T21:14:51.563441",
     "exception": false,
     "start_time": "2023-08-17T21:14:51.560698",
     "status": "completed"
    },
    "tags": []
   },
   "source": [
    "### Load the barcode, umi, guide csv"
   ]
  },
  {
   "cell_type": "code",
   "execution_count": 8,
   "id": "ef3b146a",
   "metadata": {
    "execution": {
     "iopub.execute_input": "2023-08-17T21:14:51.570127Z",
     "iopub.status.busy": "2023-08-17T21:14:51.569832Z",
     "iopub.status.idle": "2023-08-17T21:14:51.574111Z",
     "shell.execute_reply": "2023-08-17T21:14:51.573241Z"
    },
    "papermill": {
     "duration": 0.009161,
     "end_time": "2023-08-17T21:14:51.575339",
     "exception": false,
     "start_time": "2023-08-17T21:14:51.566178",
     "status": "completed"
    },
    "tags": []
   },
   "outputs": [],
   "source": [
    "#library = library.upper()\n",
    "tsv_path = f\"{tsv_path}/{library}_ALL_STRUCTURED.TSV\""
   ]
  },
  {
   "cell_type": "markdown",
   "id": "44e786d7",
   "metadata": {
    "papermill": {
     "duration": 0.003386,
     "end_time": "2023-08-17T21:14:51.581527",
     "exception": false,
     "start_time": "2023-08-17T21:14:51.578141",
     "status": "completed"
    },
    "tags": []
   },
   "source": [
    "### Deduplicate "
   ]
  },
  {
   "cell_type": "code",
   "execution_count": 9,
   "id": "f1f3a762",
   "metadata": {
    "execution": {
     "iopub.execute_input": "2023-08-17T21:14:51.591764Z",
     "iopub.status.busy": "2023-08-17T21:14:51.591019Z",
     "iopub.status.idle": "2023-08-17T21:16:17.435614Z",
     "shell.execute_reply": "2023-08-17T21:16:17.434791Z"
    },
    "papermill": {
     "duration": 85.851177,
     "end_time": "2023-08-17T21:16:17.437917",
     "exception": false,
     "start_time": "2023-08-17T21:14:51.586740",
     "status": "completed"
    },
    "tags": []
   },
   "outputs": [],
   "source": [
    "df_needs_dedup = pd.read_csv(tsv_path, sep=\"\\t\")\n",
    "# I was deduplicating by umi only until analyzing condition 6, \n",
    "# but I need to deduplicate by umi+protospacer\n",
    "df = df_needs_dedup.drop_duplicates(subset=[\"umi\", \"protospacer\"], keep='first')"
   ]
  },
  {
   "cell_type": "code",
   "execution_count": 10,
   "id": "d7e8f031",
   "metadata": {
    "execution": {
     "iopub.execute_input": "2023-08-17T21:16:17.451066Z",
     "iopub.status.busy": "2023-08-17T21:16:17.450769Z",
     "iopub.status.idle": "2023-08-17T21:16:17.464460Z",
     "shell.execute_reply": "2023-08-17T21:16:17.463750Z"
    },
    "papermill": {
     "duration": 0.021062,
     "end_time": "2023-08-17T21:16:17.466157",
     "exception": false,
     "start_time": "2023-08-17T21:16:17.445095",
     "status": "completed"
    },
    "tags": []
   },
   "outputs": [
    {
     "data": {
      "text/html": [
       "<div>\n",
       "<style scoped>\n",
       "    .dataframe tbody tr th:only-of-type {\n",
       "        vertical-align: middle;\n",
       "    }\n",
       "\n",
       "    .dataframe tbody tr th {\n",
       "        vertical-align: top;\n",
       "    }\n",
       "\n",
       "    .dataframe thead th {\n",
       "        text-align: right;\n",
       "    }\n",
       "</style>\n",
       "<table border=\"1\" class=\"dataframe\">\n",
       "  <thead>\n",
       "    <tr style=\"text-align: right;\">\n",
       "      <th></th>\n",
       "      <th>atac_barcode</th>\n",
       "      <th>umi</th>\n",
       "      <th>protospacer</th>\n",
       "      <th>guide</th>\n",
       "      <th>gene</th>\n",
       "      <th>read_name</th>\n",
       "      <th>barcode</th>\n",
       "    </tr>\n",
       "  </thead>\n",
       "  <tbody>\n",
       "    <tr>\n",
       "      <th>0</th>\n",
       "      <td>GCGTAATAGTTAGCTT</td>\n",
       "      <td>TTACTGTATTTA</td>\n",
       "      <td>CACCCTCTCCGCCGAAGTG</td>\n",
       "      <td>ADNP_1</td>\n",
       "      <td>ADNP</td>\n",
       "      <td>LH00132:93:2257F7LT3:7:1101:10080:13273</td>\n",
       "      <td>TACAATGTCGCAAACT</td>\n",
       "    </tr>\n",
       "    <tr>\n",
       "      <th>1</th>\n",
       "      <td>CGTCAAGAGCCTAATT</td>\n",
       "      <td>TCTAACTATAAT</td>\n",
       "      <td>CACCCTCTCCGCCGAAGTG</td>\n",
       "      <td>ADNP_1</td>\n",
       "      <td>ADNP</td>\n",
       "      <td>LH00132:93:2257F7LT3:7:1101:10080:13305</td>\n",
       "      <td>ACCAGGCTCTTGGATA</td>\n",
       "    </tr>\n",
       "    <tr>\n",
       "      <th>2</th>\n",
       "      <td>CGTTACTCAACGTGGT</td>\n",
       "      <td>CCCTGAAGCCGA</td>\n",
       "      <td>CACCCTCTCCGCCGAAGTG</td>\n",
       "      <td>ADNP_1</td>\n",
       "      <td>ADNP</td>\n",
       "      <td>LH00132:93:2257F7LT3:7:1101:10080:5294</td>\n",
       "      <td>GGATTATGTAATCACG</td>\n",
       "    </tr>\n",
       "    <tr>\n",
       "      <th>3</th>\n",
       "      <td>ATCGCTCAGCTTAGGG</td>\n",
       "      <td>CACAATCTCTCA</td>\n",
       "      <td>CACCCTCTCCGCCGAAGTG</td>\n",
       "      <td>ADNP_1</td>\n",
       "      <td>ADNP</td>\n",
       "      <td>LH00132:93:2257F7LT3:7:1101:10126:4253</td>\n",
       "      <td>ATTCGTTTCTCAATTC</td>\n",
       "    </tr>\n",
       "    <tr>\n",
       "      <th>4</th>\n",
       "      <td>CTGATTAGTCCTTGAG</td>\n",
       "      <td>AATCTCCTCCGA</td>\n",
       "      <td>CACCCTCTCCGCCGAAGTG</td>\n",
       "      <td>ADNP_1</td>\n",
       "      <td>ADNP</td>\n",
       "      <td>LH00132:93:2257F7LT3:7:1101:10144:26972</td>\n",
       "      <td>TCTCGCCCATTAGGTT</td>\n",
       "    </tr>\n",
       "  </tbody>\n",
       "</table>\n",
       "</div>"
      ],
      "text/plain": [
       "       atac_barcode           umi          protospacer   guide  gene  \\\n",
       "0  GCGTAATAGTTAGCTT  TTACTGTATTTA  CACCCTCTCCGCCGAAGTG  ADNP_1  ADNP   \n",
       "1  CGTCAAGAGCCTAATT  TCTAACTATAAT  CACCCTCTCCGCCGAAGTG  ADNP_1  ADNP   \n",
       "2  CGTTACTCAACGTGGT  CCCTGAAGCCGA  CACCCTCTCCGCCGAAGTG  ADNP_1  ADNP   \n",
       "3  ATCGCTCAGCTTAGGG  CACAATCTCTCA  CACCCTCTCCGCCGAAGTG  ADNP_1  ADNP   \n",
       "4  CTGATTAGTCCTTGAG  AATCTCCTCCGA  CACCCTCTCCGCCGAAGTG  ADNP_1  ADNP   \n",
       "\n",
       "                                 read_name           barcode  \n",
       "0  LH00132:93:2257F7LT3:7:1101:10080:13273  TACAATGTCGCAAACT  \n",
       "1  LH00132:93:2257F7LT3:7:1101:10080:13305  ACCAGGCTCTTGGATA  \n",
       "2   LH00132:93:2257F7LT3:7:1101:10080:5294  GGATTATGTAATCACG  \n",
       "3   LH00132:93:2257F7LT3:7:1101:10126:4253  ATTCGTTTCTCAATTC  \n",
       "4  LH00132:93:2257F7LT3:7:1101:10144:26972  TCTCGCCCATTAGGTT  "
      ]
     },
     "execution_count": 10,
     "metadata": {},
     "output_type": "execute_result"
    }
   ],
   "source": [
    "df_needs_dedup.head()"
   ]
  },
  {
   "cell_type": "code",
   "execution_count": 11,
   "id": "e358252b",
   "metadata": {
    "execution": {
     "iopub.execute_input": "2023-08-17T21:16:17.476843Z",
     "iopub.status.busy": "2023-08-17T21:16:17.476585Z",
     "iopub.status.idle": "2023-08-17T21:16:21.408755Z",
     "shell.execute_reply": "2023-08-17T21:16:21.407967Z"
    },
    "papermill": {
     "duration": 3.938697,
     "end_time": "2023-08-17T21:16:21.410737",
     "exception": false,
     "start_time": "2023-08-17T21:16:17.472040",
     "status": "completed"
    },
    "tags": []
   },
   "outputs": [
    {
     "data": {
      "text/plain": [
       "219986"
      ]
     },
     "execution_count": 11,
     "metadata": {},
     "output_type": "execute_result"
    }
   ],
   "source": [
    "# Count unique barcodes before protospacer check etc\n",
    "len(df_needs_dedup.drop_duplicates(subset = \"barcode\"))"
   ]
  },
  {
   "cell_type": "code",
   "execution_count": 12,
   "id": "bca7ff22",
   "metadata": {
    "execution": {
     "iopub.execute_input": "2023-08-17T21:16:21.421698Z",
     "iopub.status.busy": "2023-08-17T21:16:21.421388Z",
     "iopub.status.idle": "2023-08-17T21:16:21.426654Z",
     "shell.execute_reply": "2023-08-17T21:16:21.425708Z"
    },
    "papermill": {
     "duration": 0.011616,
     "end_time": "2023-08-17T21:16:21.428900",
     "exception": false,
     "start_time": "2023-08-17T21:16:21.417284",
     "status": "completed"
    },
    "tags": []
   },
   "outputs": [],
   "source": [
    "n_reads_w_PS  = len(df_needs_dedup)\n",
    "n_dedup_reads = len(df)\n",
    "\n",
    "stats += [['Reads with Protospacer', n_reads_w_PS]]\n",
    "stats += [['Dedup reads', n_dedup_reads]]\n"
   ]
  },
  {
   "cell_type": "code",
   "execution_count": 13,
   "id": "1409ba24",
   "metadata": {
    "execution": {
     "iopub.execute_input": "2023-08-17T21:16:21.440334Z",
     "iopub.status.busy": "2023-08-17T21:16:21.439646Z",
     "iopub.status.idle": "2023-08-17T21:16:21.728059Z",
     "shell.execute_reply": "2023-08-17T21:16:21.727164Z"
    },
    "papermill": {
     "duration": 0.295267,
     "end_time": "2023-08-17T21:16:21.730210",
     "exception": false,
     "start_time": "2023-08-17T21:16:21.434943",
     "status": "completed"
    },
    "tags": []
   },
   "outputs": [],
   "source": [
    "n_uniq_barcodes = len(df['barcode'].unique())\n",
    "stats += [[\"Unique barcodes\", n_uniq_barcodes]]"
   ]
  },
  {
   "cell_type": "markdown",
   "id": "6931766d",
   "metadata": {
    "papermill": {
     "duration": 0.003162,
     "end_time": "2023-08-17T21:16:21.740482",
     "exception": false,
     "start_time": "2023-08-17T21:16:21.737320",
     "status": "completed"
    },
    "tags": []
   },
   "source": [
    "### Count UMIs per barcode"
   ]
  },
  {
   "cell_type": "code",
   "execution_count": 14,
   "id": "eaa7c767",
   "metadata": {
    "execution": {
     "iopub.execute_input": "2023-08-17T21:16:21.748466Z",
     "iopub.status.busy": "2023-08-17T21:16:21.747801Z",
     "iopub.status.idle": "2023-08-17T21:16:22.113659Z",
     "shell.execute_reply": "2023-08-17T21:16:22.112858Z"
    },
    "papermill": {
     "duration": 0.372114,
     "end_time": "2023-08-17T21:16:22.115770",
     "exception": false,
     "start_time": "2023-08-17T21:16:21.743656",
     "status": "completed"
    },
    "tags": []
   },
   "outputs": [
    {
     "data": {
      "text/plain": [
       "GTAGGTGCAGCACGAA    695\n",
       "CCGTTAACAAAGCTCC    596\n",
       "TTGCAGCCAAGGTATA    561\n",
       "ACCCAGGGTAATTAGC    546\n",
       "AACTTAGTCACCTGTC    538\n",
       "Name: barcode, dtype: int64"
      ]
     },
     "execution_count": 14,
     "metadata": {},
     "output_type": "execute_result"
    }
   ],
   "source": [
    "barcode_counts = df['barcode'].value_counts()\n",
    "barcode_counts.head()"
   ]
  },
  {
   "cell_type": "code",
   "execution_count": 15,
   "id": "856eab47",
   "metadata": {
    "execution": {
     "iopub.execute_input": "2023-08-17T21:16:22.128658Z",
     "iopub.status.busy": "2023-08-17T21:16:22.128400Z",
     "iopub.status.idle": "2023-08-17T21:16:22.782252Z",
     "shell.execute_reply": "2023-08-17T21:16:22.781447Z"
    },
    "papermill": {
     "duration": 0.661064,
     "end_time": "2023-08-17T21:16:22.784385",
     "exception": false,
     "start_time": "2023-08-17T21:16:22.123321",
     "status": "completed"
    },
    "tags": []
   },
   "outputs": [
    {
     "data": {
      "image/png": "[encoded data removed]",
      "text/plain": [
       "<Figure size 640x480 with 1 Axes>"
      ]
     },
     "metadata": {},
     "output_type": "display_data"
    }
   ],
   "source": [
    "plt.plot(barcode_counts.values)\n",
    "plt.yscale('log')\n",
    "plt.xlabel(\"Barcode Index (sorted by #UMIs)\")\n",
    "plt.ylabel(\"#UMIs\")\n",
    "plt.title(library)\n",
    "plt.savefig(\"plot1.png\")\n",
    "plt.show()"
   ]
  },
  {
   "cell_type": "markdown",
   "id": "3cacf639",
   "metadata": {
    "papermill": {
     "duration": 0.003643,
     "end_time": "2023-08-17T21:16:22.796619",
     "exception": false,
     "start_time": "2023-08-17T21:16:22.792976",
     "status": "completed"
    },
    "tags": []
   },
   "source": [
    "### Count genes per barcode"
   ]
  },
  {
   "cell_type": "code",
   "execution_count": 16,
   "id": "6aba3690",
   "metadata": {
    "execution": {
     "iopub.execute_input": "2023-08-17T21:16:22.805224Z",
     "iopub.status.busy": "2023-08-17T21:16:22.804888Z",
     "iopub.status.idle": "2023-08-17T21:16:23.182668Z",
     "shell.execute_reply": "2023-08-17T21:16:23.181886Z"
    },
    "papermill": {
     "duration": 0.384758,
     "end_time": "2023-08-17T21:16:23.184911",
     "exception": false,
     "start_time": "2023-08-17T21:16:22.800153",
     "status": "completed"
    },
    "tags": []
   },
   "outputs": [
    {
     "data": {
      "text/plain": [
       "GTAGGTGCAGCACGAA    695\n",
       "CCGTTAACAAAGCTCC    596\n",
       "TTGCAGCCAAGGTATA    561\n",
       "ACCCAGGGTAATTAGC    546\n",
       "AACTTAGTCACCTGTC    538\n",
       "Name: barcode, dtype: int64"
      ]
     },
     "execution_count": 16,
     "metadata": {},
     "output_type": "execute_result"
    }
   ],
   "source": [
    "barcode_counts = df['barcode'].value_counts()\n",
    "barcode_counts.head()"
   ]
  },
  {
   "cell_type": "code",
   "execution_count": 17,
   "id": "c06484f7",
   "metadata": {
    "execution": {
     "iopub.execute_input": "2023-08-17T21:16:23.198333Z",
     "iopub.status.busy": "2023-08-17T21:16:23.198018Z",
     "iopub.status.idle": "2023-08-17T21:16:23.202321Z",
     "shell.execute_reply": "2023-08-17T21:16:23.201519Z"
    },
    "papermill": {
     "duration": 0.010207,
     "end_time": "2023-08-17T21:16:23.203502",
     "exception": false,
     "start_time": "2023-08-17T21:16:23.193295",
     "status": "completed"
    },
    "tags": []
   },
   "outputs": [],
   "source": [
    "#------------------------------------------------------------------------------------"
   ]
  },
  {
   "cell_type": "code",
   "execution_count": 18,
   "id": "0bcde7a6",
   "metadata": {
    "execution": {
     "iopub.execute_input": "2023-08-17T21:16:23.212098Z",
     "iopub.status.busy": "2023-08-17T21:16:23.211813Z",
     "iopub.status.idle": "2023-08-17T21:16:23.221893Z",
     "shell.execute_reply": "2023-08-17T21:16:23.221192Z"
    },
    "papermill": {
     "duration": 0.01641,
     "end_time": "2023-08-17T21:16:23.223694",
     "exception": false,
     "start_time": "2023-08-17T21:16:23.207284",
     "status": "completed"
    },
    "tags": []
   },
   "outputs": [
    {
     "data": {
      "text/html": [
       "<div>\n",
       "<style scoped>\n",
       "    .dataframe tbody tr th:only-of-type {\n",
       "        vertical-align: middle;\n",
       "    }\n",
       "\n",
       "    .dataframe tbody tr th {\n",
       "        vertical-align: top;\n",
       "    }\n",
       "\n",
       "    .dataframe thead th {\n",
       "        text-align: right;\n",
       "    }\n",
       "</style>\n",
       "<table border=\"1\" class=\"dataframe\">\n",
       "  <thead>\n",
       "    <tr style=\"text-align: right;\">\n",
       "      <th></th>\n",
       "      <th>Stat</th>\n",
       "      <th>Count</th>\n",
       "    </tr>\n",
       "  </thead>\n",
       "  <tbody>\n",
       "    <tr>\n",
       "      <th>0</th>\n",
       "      <td>Raw Reads</td>\n",
       "      <td>90771649</td>\n",
       "    </tr>\n",
       "    <tr>\n",
       "      <th>1</th>\n",
       "      <td>Reads with CS1</td>\n",
       "      <td>53581407</td>\n",
       "    </tr>\n",
       "    <tr>\n",
       "      <th>2</th>\n",
       "      <td>Reads with Protospacer</td>\n",
       "      <td>57314155</td>\n",
       "    </tr>\n",
       "    <tr>\n",
       "      <th>3</th>\n",
       "      <td>Dedup reads</td>\n",
       "      <td>1500398</td>\n",
       "    </tr>\n",
       "    <tr>\n",
       "      <th>4</th>\n",
       "      <td>Unique barcodes</td>\n",
       "      <td>208889</td>\n",
       "    </tr>\n",
       "  </tbody>\n",
       "</table>\n",
       "</div>"
      ],
      "text/plain": [
       "                     Stat     Count\n",
       "0               Raw Reads  90771649\n",
       "1          Reads with CS1  53581407\n",
       "2  Reads with Protospacer  57314155\n",
       "3             Dedup reads   1500398\n",
       "4         Unique barcodes    208889"
      ]
     },
     "execution_count": 18,
     "metadata": {},
     "output_type": "execute_result"
    }
   ],
   "source": [
    "df_stats = pd.DataFrame(stats, columns=[\"Stat\", \"Count\"])\n",
    "df_stats"
   ]
  },
  {
   "cell_type": "code",
   "execution_count": 19,
   "id": "451327e0",
   "metadata": {
    "execution": {
     "iopub.execute_input": "2023-08-17T21:16:23.236269Z",
     "iopub.status.busy": "2023-08-17T21:16:23.235960Z",
     "iopub.status.idle": "2023-08-17T21:16:23.241322Z",
     "shell.execute_reply": "2023-08-17T21:16:23.240452Z"
    },
    "papermill": {
     "duration": 0.011813,
     "end_time": "2023-08-17T21:16:23.242541",
     "exception": false,
     "start_time": "2023-08-17T21:16:23.230728",
     "status": "completed"
    },
    "tags": []
   },
   "outputs": [
    {
     "name": "stdout",
     "output_type": "stream",
     "text": [
      "90771649\n",
      "53581407\n",
      "57314155\n",
      "1500398\n",
      "208889\n"
     ]
    }
   ],
   "source": [
    "for i in df_stats.Count:\n",
    "    print(i)"
   ]
  }
 ],
 "metadata": {
  "kernelspec": {
   "display_name": "Python 3 (ipykernel)",
   "language": "python",
   "name": "python3"
  },
  "language_info": {
   "codemirror_mode": {
    "name": "ipython",
    "version": 3
   },
   "file_extension": ".py",
   "mimetype": "text/x-python",
   "name": "python",
   "nbconvert_exporter": "python",
   "pygments_lexer": "ipython3",
   "version": "3.10.9"
  },
  "papermill": {
   "default_parameters": {},
   "duration": 305.517901,
   "end_time": "2023-08-17T21:16:25.966148",
   "environment_variables": {},
   "exception": null,
   "input_path": "/home/kfeng/catatac/secondary/01_assign_guides_to_cells.py.ipynb",
   "output_path": "/data2/kfeng/deeper_guides_dasatinib/secondary/DMSO2/notebooks/01_assign_guides_to_cells.py.ipynb",
   "parameters": {
    "fastq_path": "/data2/kfeng/deeper_guides_dasatinib/fastqs/",
    "library": "CRISPR-DMSO2",
    "tsv_path": "/data2/kfeng/deeper_guides_dasatinib/dasatinib_primary_01HD/DMSO2/tsv"
   },
   "start_time": "2023-08-17T21:11:20.448247",
   "version": "2.4.0"
  },
  "vscode": {
   "interpreter": {
    "hash": "31f2aee4e71d21fbe5cf8b01ff0e069b9275f58929596ceb00d14d90e3e16cd6"
   }
  }
 },
 "nbformat": 4,
 "nbformat_minor": 5
}