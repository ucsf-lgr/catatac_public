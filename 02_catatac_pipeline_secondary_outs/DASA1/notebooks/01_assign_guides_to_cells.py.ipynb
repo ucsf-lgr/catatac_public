{
 "cells": [
  {
   "cell_type": "code",
   "execution_count": 1,
   "id": "568ab7d3",
   "metadata": {
    "execution": {
     "iopub.execute_input": "2023-08-17T21:04:00.357460Z",
     "iopub.status.busy": "2023-08-17T21:04:00.356690Z",
     "iopub.status.idle": "2023-08-17T21:04:00.367077Z",
     "shell.execute_reply": "2023-08-17T21:04:00.366336Z"
    },
    "papermill": {
     "duration": 0.019232,
     "end_time": "2023-08-17T21:04:00.368262",
     "exception": false,
     "start_time": "2023-08-17T21:04:00.349030",
     "status": "completed"
    },
    "tags": [
     "injected-parameters"
    ]
   },
   "outputs": [],
   "source": [
    "# Parameterslibrary = \"CRISPR-DASA1\"fastq_path = '{PATH_TO_TSV_PATH_PATH_1}'"
   ]
  },
  {
   "cell_type": "markdown",
   "id": "afd518ed",
   "metadata": {
    "papermill": {
     "duration": 0.005649,
     "end_time": "2023-08-17T21:04:00.380031",
     "exception": false,
     "start_time": "2023-08-17T21:04:00.374382",
     "status": "completed"
    },
    "tags": []
   },
   "source": [
    "# Assign guides to cells"
   ]
  },
  {
   "cell_type": "code",
   "execution_count": 2,
   "id": "8053d001",
   "metadata": {
    "execution": {
     "iopub.execute_input": "2023-08-17T21:04:00.387706Z",
     "iopub.status.busy": "2023-08-17T21:04:00.387400Z",
     "iopub.status.idle": "2023-08-17T21:04:00.896302Z",
     "shell.execute_reply": "2023-08-17T21:04:00.895429Z"
    },
    "papermill": {
     "duration": 0.515931,
     "end_time": "2023-08-17T21:04:00.898869",
     "exception": false,
     "start_time": "2023-08-17T21:04:00.382938",
     "status": "completed"
    },
    "tags": []
   },
   "outputs": [],
   "source": [
    "import pandas as pd\n",
    "import matplotlib.pyplot as plt"
   ]
  },
  {
   "cell_type": "code",
   "execution_count": 3,
   "id": "997cb039",
   "metadata": {
    "execution": {
     "iopub.execute_input": "2023-08-17T21:04:00.911940Z",
     "iopub.status.busy": "2023-08-17T21:04:00.910819Z",
     "iopub.status.idle": "2023-08-17T21:04:00.915321Z",
     "shell.execute_reply": "2023-08-17T21:04:00.914400Z"
    },
    "papermill": {
     "duration": 0.011261,
     "end_time": "2023-08-17T21:04:00.916605",
     "exception": false,
     "start_time": "2023-08-17T21:04:00.905344",
     "status": "completed"
    },
    "tags": []
   },
   "outputs": [],
   "source": [
    "# library = \"CRISPR8\"",
    "# fastq_path = \"/home/vsevim/prj/tf/CATATAC_4/data//atac_and_guidecap\"",
    "# tsv_path = '{PATH_2}'"
   ]
  },
  {
   "cell_type": "code",
   "execution_count": 4,
   "id": "0cec2339",
   "metadata": {
    "execution": {
     "iopub.execute_input": "2023-08-17T21:04:00.924796Z",
     "iopub.status.busy": "2023-08-17T21:04:00.923950Z",
     "iopub.status.idle": "2023-08-17T21:04:00.928212Z",
     "shell.execute_reply": "2023-08-17T21:04:00.927283Z"
    },
    "papermill": {
     "duration": 0.010227,
     "end_time": "2023-08-17T21:04:00.929504",
     "exception": false,
     "start_time": "2023-08-17T21:04:00.919277",
     "status": "completed"
    },
    "tags": []
   },
   "outputs": [],
   "source": [
    "stats = []"
   ]
  },
  {
   "cell_type": "markdown",
   "id": "75a0a84d",
   "metadata": {
    "papermill": {
     "duration": 0.00267,
     "end_time": "2023-08-17T21:04:00.934790",
     "exception": false,
     "start_time": "2023-08-17T21:04:00.932120",
     "status": "completed"
    },
    "tags": []
   },
   "source": [
    "Count raw reads"
   ]
  },
  {
   "cell_type": "code",
   "execution_count": 5,
   "id": "1614d674",
   "metadata": {
    "execution": {
     "iopub.execute_input": "2023-08-17T21:04:00.941390Z",
     "iopub.status.busy": "2023-08-17T21:04:00.940861Z",
     "iopub.status.idle": "2023-08-17T21:06:13.518880Z",
     "shell.execute_reply": "2023-08-17T21:06:13.517868Z"
    },
    "papermill": {
     "duration": 132.584032,
     "end_time": "2023-08-17T21:06:13.521454",
     "exception": false,
     "start_time": "2023-08-17T21:04:00.937422",
     "status": "completed"
    },
    "tags": []
   },
   "outputs": [],
   "source": [
    "n_raw_reads = !zcat {fastq_path}/{library}*R1*.fastq.gz | grep \"^@\" | wc -l\n",
    "n_raw_reads = int(n_raw_reads[0])\n",
    "stats += [['Raw Reads', n_raw_reads]]"
   ]
  },
  {
   "cell_type": "markdown",
   "id": "abba5068",
   "metadata": {
    "papermill": {
     "duration": 0.00323,
     "end_time": "2023-08-17T21:06:13.531430",
     "exception": false,
     "start_time": "2023-08-17T21:06:13.528200",
     "status": "completed"
    },
    "tags": []
   },
   "source": [
    "Count reads w CS1"
   ]
  },
  {
   "cell_type": "code",
   "execution_count": 6,
   "id": "9501939e",
   "metadata": {
    "execution": {
     "iopub.execute_input": "2023-08-17T21:06:13.538374Z",
     "iopub.status.busy": "2023-08-17T21:06:13.538061Z",
     "iopub.status.idle": "2023-08-17T21:07:23.058370Z",
     "shell.execute_reply": "2023-08-17T21:07:23.057312Z"
    },
    "papermill": {
     "duration": 69.526687,
     "end_time": "2023-08-17T21:07:23.060978",
     "exception": false,
     "start_time": "2023-08-17T21:06:13.534291",
     "status": "completed"
    },
    "tags": []
   },
   "outputs": [],
   "source": [
    "n_reads_w_CS1 = !zcat {tsv_path}/{library}*w_CS.TSV.gz | wc -l\n",
    "n_reads_w_CS1 = int(n_reads_w_CS1[0])\n",
    "stats += [['Reads with CS1', n_reads_w_CS1]]"
   ]
  },
  {
   "cell_type": "code",
   "execution_count": 7,
   "id": "fbdef18f",
   "metadata": {
    "execution": {
     "iopub.execute_input": "2023-08-17T21:07:23.072986Z",
     "iopub.status.busy": "2023-08-17T21:07:23.072346Z",
     "iopub.status.idle": "2023-08-17T21:07:23.083293Z",
     "shell.execute_reply": "2023-08-17T21:07:23.082589Z"
    },
    "papermill": {
     "duration": 0.016909,
     "end_time": "2023-08-17T21:07:23.084845",
     "exception": false,
     "start_time": "2023-08-17T21:07:23.067936",
     "status": "completed"
    },
    "tags": []
   },
   "outputs": [
    {
     "data": {
      "text/plain": [
       "[['Raw Reads', 93159305], ['Reads with CS1', 50732228]]"
      ]
     },
     "execution_count": 7,
     "metadata": {},
     "output_type": "execute_result"
    }
   ],
   "source": [
    "stats"
   ]
  },
  {
   "cell_type": "markdown",
   "id": "0b3b62cc",
   "metadata": {
    "papermill": {
     "duration": 0.0041,
     "end_time": "2023-08-17T21:07:23.094235",
     "exception": false,
     "start_time": "2023-08-17T21:07:23.090135",
     "status": "completed"
    },
    "tags": []
   },
   "source": [
    "### Load the barcode, umi, guide csv"
   ]
  },
  {
   "cell_type": "code",
   "execution_count": 8,
   "id": "9f5177ac",
   "metadata": {
    "execution": {
     "iopub.execute_input": "2023-08-17T21:07:23.101743Z",
     "iopub.status.busy": "2023-08-17T21:07:23.101249Z",
     "iopub.status.idle": "2023-08-17T21:07:23.105224Z",
     "shell.execute_reply": "2023-08-17T21:07:23.104361Z"
    },
    "papermill": {
     "duration": 0.009233,
     "end_time": "2023-08-17T21:07:23.106375",
     "exception": false,
     "start_time": "2023-08-17T21:07:23.097142",
     "status": "completed"
    },
    "tags": []
   },
   "outputs": [],
   "source": [
    "#library = library.upper()\n",
    "tsv_path = f\"{tsv_path}/{library}_ALL_STRUCTURED.TSV\""
   ]
  },
  {
   "cell_type": "markdown",
   "id": "056526c2",
   "metadata": {
    "papermill": {
     "duration": 0.002829,
     "end_time": "2023-08-17T21:07:23.112105",
     "exception": false,
     "start_time": "2023-08-17T21:07:23.109276",
     "status": "completed"
    },
    "tags": []
   },
   "source": [
    "### Deduplicate "
   ]
  },
  {
   "cell_type": "code",
   "execution_count": 9,
   "id": "1f983119",
   "metadata": {
    "execution": {
     "iopub.execute_input": "2023-08-17T21:07:23.119177Z",
     "iopub.status.busy": "2023-08-17T21:07:23.118672Z",
     "iopub.status.idle": "2023-08-17T21:08:54.319048Z",
     "shell.execute_reply": "2023-08-17T21:08:54.318188Z"
    },
    "papermill": {
     "duration": 91.206456,
     "end_time": "2023-08-17T21:08:54.321393",
     "exception": false,
     "start_time": "2023-08-17T21:07:23.114937",
     "status": "completed"
    },
    "tags": []
   },
   "outputs": [],
   "source": [
    "df_needs_dedup = pd.read_csv(tsv_path, sep=\"\\t\")\n",
    "# I was deduplicating by umi only until analyzing condition 6, \n",
    "# but I need to deduplicate by umi+protospacer\n",
    "df = df_needs_dedup.drop_duplicates(subset=[\"umi\", \"protospacer\"], keep='first')"
   ]
  },
  {
   "cell_type": "code",
   "execution_count": 10,
   "id": "f99bac4f",
   "metadata": {
    "execution": {
     "iopub.execute_input": "2023-08-17T21:08:54.332479Z",
     "iopub.status.busy": "2023-08-17T21:08:54.332331Z",
     "iopub.status.idle": "2023-08-17T21:08:54.345128Z",
     "shell.execute_reply": "2023-08-17T21:08:54.344393Z"
    },
    "papermill": {
     "duration": 0.018314,
     "end_time": "2023-08-17T21:08:54.346847",
     "exception": false,
     "start_time": "2023-08-17T21:08:54.328533",
     "status": "completed"
    },
    "tags": []
   },
   "outputs": [
    {
     "data": {
      "text/html": [
       "<div>\n",
       "<style scoped>\n",
       "    .dataframe tbody tr th:only-of-type {\n",
       "        vertical-align: middle;\n",
       "    }\n",
       "\n",
       "    .dataframe tbody tr th {\n",
       "        vertical-align: top;\n",
       "    }\n",
       "\n",
       "    .dataframe thead th {\n",
       "        text-align: right;\n",
       "    }\n",
       "</style>\n",
       "<table border=\"1\" class=\"dataframe\">\n",
       "  <thead>\n",
       "    <tr style=\"text-align: right;\">\n",
       "      <th></th>\n",
       "      <th>atac_barcode</th>\n",
       "      <th>umi</th>\n",
       "      <th>protospacer</th>\n",
       "      <th>guide</th>\n",
       "      <th>gene</th>\n",
       "      <th>read_name</th>\n",
       "      <th>barcode</th>\n",
       "    </tr>\n",
       "  </thead>\n",
       "  <tbody>\n",
       "    <tr>\n",
       "      <th>0</th>\n",
       "      <td>GTTACAAAGCCATAAA</td>\n",
       "      <td>CTAACGCCCTGC</td>\n",
       "      <td>CACCCTCTCCGCCGAAGTG</td>\n",
       "      <td>ADNP_1</td>\n",
       "      <td>ADNP</td>\n",
       "      <td>LH00132:93:2257F7LT3:7:1101:10061:20451</td>\n",
       "      <td>TATGACATCGGTACGC</td>\n",
       "    </tr>\n",
       "    <tr>\n",
       "      <th>1</th>\n",
       "      <td>CTAAGATCATCCTCAG</td>\n",
       "      <td>ATCTTCTTTGTT</td>\n",
       "      <td>CACCCTCTCCGCCGAAGTG</td>\n",
       "      <td>ADNP_1</td>\n",
       "      <td>ADNP</td>\n",
       "      <td>LH00132:93:2257F7LT3:7:1101:10200:6079</td>\n",
       "      <td>TAGACCAGTAATGACT</td>\n",
       "    </tr>\n",
       "    <tr>\n",
       "      <th>2</th>\n",
       "      <td>TCCTTGAAGGATTGAC</td>\n",
       "      <td>AGTTACTATACT</td>\n",
       "      <td>CACCCTCTCCGCCGAAGTG</td>\n",
       "      <td>ADNP_1</td>\n",
       "      <td>ADNP</td>\n",
       "      <td>LH00132:93:2257F7LT3:7:1101:10237:4477</td>\n",
       "      <td>CTCTATGTCGCTATAA</td>\n",
       "    </tr>\n",
       "    <tr>\n",
       "      <th>3</th>\n",
       "      <td>GCGAGCTAGAGCAATC</td>\n",
       "      <td>TCGTTCGACAGT</td>\n",
       "      <td>CACCCTCTCCGCCGAAGTG</td>\n",
       "      <td>ADNP_1</td>\n",
       "      <td>ADNP</td>\n",
       "      <td>LH00132:93:2257F7LT3:7:1101:10246:26539</td>\n",
       "      <td>TTAGGCGTCCTTGCAC</td>\n",
       "    </tr>\n",
       "    <tr>\n",
       "      <th>4</th>\n",
       "      <td>TACCGCCCAGTCTGCT</td>\n",
       "      <td>CCCCGTATTAGC</td>\n",
       "      <td>CACCCTCTCCGCCGAAGTG</td>\n",
       "      <td>ADNP_1</td>\n",
       "      <td>ADNP</td>\n",
       "      <td>LH00132:93:2257F7LT3:7:1101:10413:25995</td>\n",
       "      <td>NaN</td>\n",
       "    </tr>\n",
       "  </tbody>\n",
       "</table>\n",
       "</div>"
      ],
      "text/plain": [
       "       atac_barcode           umi          protospacer   guide  gene  \\\n",
       "0  GTTACAAAGCCATAAA  CTAACGCCCTGC  CACCCTCTCCGCCGAAGTG  ADNP_1  ADNP   \n",
       "1  CTAAGATCATCCTCAG  ATCTTCTTTGTT  CACCCTCTCCGCCGAAGTG  ADNP_1  ADNP   \n",
       "2  TCCTTGAAGGATTGAC  AGTTACTATACT  CACCCTCTCCGCCGAAGTG  ADNP_1  ADNP   \n",
       "3  GCGAGCTAGAGCAATC  TCGTTCGACAGT  CACCCTCTCCGCCGAAGTG  ADNP_1  ADNP   \n",
       "4  TACCGCCCAGTCTGCT  CCCCGTATTAGC  CACCCTCTCCGCCGAAGTG  ADNP_1  ADNP   \n",
       "\n",
       "                                 read_name           barcode  \n",
       "0  LH00132:93:2257F7LT3:7:1101:10061:20451  TATGACATCGGTACGC  \n",
       "1   LH00132:93:2257F7LT3:7:1101:10200:6079  TAGACCAGTAATGACT  \n",
       "2   LH00132:93:2257F7LT3:7:1101:10237:4477  CTCTATGTCGCTATAA  \n",
       "3  LH00132:93:2257F7LT3:7:1101:10246:26539  TTAGGCGTCCTTGCAC  \n",
       "4  LH00132:93:2257F7LT3:7:1101:10413:25995               NaN  "
      ]
     },
     "execution_count": 10,
     "metadata": {},
     "output_type": "execute_result"
    }
   ],
   "source": [
    "df_needs_dedup.head()"
   ]
  },
  {
   "cell_type": "code",
   "execution_count": 11,
   "id": "b3a0dfa3",
   "metadata": {
    "execution": {
     "iopub.execute_input": "2023-08-17T21:08:54.359440Z",
     "iopub.status.busy": "2023-08-17T21:08:54.359195Z",
     "iopub.status.idle": "2023-08-17T21:08:58.998546Z",
     "shell.execute_reply": "2023-08-17T21:08:58.997749Z"
    },
    "papermill": {
     "duration": 4.64784,
     "end_time": "2023-08-17T21:08:59.000584",
     "exception": false,
     "start_time": "2023-08-17T21:08:54.352744",
     "status": "completed"
    },
    "tags": []
   },
   "outputs": [
    {
     "data": {
      "text/plain": [
       "194194"
      ]
     },
     "execution_count": 11,
     "metadata": {},
     "output_type": "execute_result"
    }
   ],
   "source": [
    "# Count unique barcodes before protospacer check etc\n",
    "len(df_needs_dedup.drop_duplicates(subset = \"barcode\"))"
   ]
  },
  {
   "cell_type": "code",
   "execution_count": 12,
   "id": "da6b4623",
   "metadata": {
    "execution": {
     "iopub.execute_input": "2023-08-17T21:08:59.013319Z",
     "iopub.status.busy": "2023-08-17T21:08:59.013021Z",
     "iopub.status.idle": "2023-08-17T21:08:59.018061Z",
     "shell.execute_reply": "2023-08-17T21:08:59.017207Z"
    },
    "papermill": {
     "duration": 0.011697,
     "end_time": "2023-08-17T21:08:59.019982",
     "exception": false,
     "start_time": "2023-08-17T21:08:59.008285",
     "status": "completed"
    },
    "tags": []
   },
   "outputs": [],
   "source": [
    "n_reads_w_PS  = len(df_needs_dedup)\n",
    "n_dedup_reads = len(df)\n",
    "\n",
    "stats += [['Reads with Protospacer', n_reads_w_PS]]\n",
    "stats += [['Dedup reads', n_dedup_reads]]\n"
   ]
  },
  {
   "cell_type": "code",
   "execution_count": 13,
   "id": "b009a3d5",
   "metadata": {
    "execution": {
     "iopub.execute_input": "2023-08-17T21:08:59.031397Z",
     "iopub.status.busy": "2023-08-17T21:08:59.031154Z",
     "iopub.status.idle": "2023-08-17T21:08:59.360231Z",
     "shell.execute_reply": "2023-08-17T21:08:59.359451Z"
    },
    "papermill": {
     "duration": 0.336355,
     "end_time": "2023-08-17T21:08:59.362280",
     "exception": false,
     "start_time": "2023-08-17T21:08:59.025925",
     "status": "completed"
    },
    "tags": []
   },
   "outputs": [],
   "source": [
    "n_uniq_barcodes = len(df['barcode'].unique())\n",
    "stats += [[\"Unique barcodes\", n_uniq_barcodes]]"
   ]
  },
  {
   "cell_type": "markdown",
   "id": "4baf0589",
   "metadata": {
    "papermill": {
     "duration": 0.003161,
     "end_time": "2023-08-17T21:08:59.372395",
     "exception": false,
     "start_time": "2023-08-17T21:08:59.369234",
     "status": "completed"
    },
    "tags": []
   },
   "source": [
    "### Count UMIs per barcode"
   ]
  },
  {
   "cell_type": "code",
   "execution_count": 14,
   "id": "321b5cfc",
   "metadata": {
    "execution": {
     "iopub.execute_input": "2023-08-17T21:08:59.380638Z",
     "iopub.status.busy": "2023-08-17T21:08:59.379700Z",
     "iopub.status.idle": "2023-08-17T21:08:59.739092Z",
     "shell.execute_reply": "2023-08-17T21:08:59.738294Z"
    },
    "papermill": {
     "duration": 0.365588,
     "end_time": "2023-08-17T21:08:59.741148",
     "exception": false,
     "start_time": "2023-08-17T21:08:59.375560",
     "status": "completed"
    },
    "tags": []
   },
   "outputs": [
    {
     "data": {
      "text/plain": [
       "TTAGACTCAATGCGCT    711\n",
       "CACTTTGTCCCATAGG    707\n",
       "ATTAGCTCAGCAAGGC    701\n",
       "CAATAAGCACCGGTAT    674\n",
       "AACAAAGGTTGCAATG    668\n",
       "Name: barcode, dtype: int64"
      ]
     },
     "execution_count": 14,
     "metadata": {},
     "output_type": "execute_result"
    }
   ],
   "source": [
    "barcode_counts = df['barcode'].value_counts()\n",
    "barcode_counts.head()"
   ]
  },
  {
   "cell_type": "code",
   "execution_count": 15,
   "id": "7924ad2e",
   "metadata": {
    "execution": {
     "iopub.execute_input": "2023-08-17T21:08:59.753213Z",
     "iopub.status.busy": "2023-08-17T21:08:59.752916Z",
     "iopub.status.idle": "2023-08-17T21:09:00.343339Z",
     "shell.execute_reply": "2023-08-17T21:09:00.342514Z"
    },
    "papermill": {
     "duration": 0.596687,
     "end_time": "2023-08-17T21:09:00.345320",
     "exception": false,
     "start_time": "2023-08-17T21:08:59.748633",
     "status": "completed"
    },
    "tags": []
   },
   "outputs": [
    {
     "data": {
      "image/png": "[encoded data removed]",
      "text/plain": [
       "<Figure size 640x480 with 1 Axes>"
      ]
     },
     "metadata": {},
     "output_type": "display_data"
    }
   ],
   "source": [
    "plt.plot(barcode_counts.values)\n",
    "plt.yscale('log')\n",
    "plt.xlabel(\"Barcode Index (sorted by #UMIs)\")\n",
    "plt.ylabel(\"#UMIs\")\n",
    "plt.title(library)\n",
    "plt.savefig(\"plot1.png\")\n",
    "plt.show()"
   ]
  },
  {
   "cell_type": "markdown",
   "id": "44547896",
   "metadata": {
    "papermill": {
     "duration": 0.003433,
     "end_time": "2023-08-17T21:09:00.356376",
     "exception": false,
     "start_time": "2023-08-17T21:09:00.352943",
     "status": "completed"
    },
    "tags": []
   },
   "source": [
    "### Count genes per barcode"
   ]
  },
  {
   "cell_type": "code",
   "execution_count": 16,
   "id": "efff621e",
   "metadata": {
    "execution": {
     "iopub.execute_input": "2023-08-17T21:09:00.364685Z",
     "iopub.status.busy": "2023-08-17T21:09:00.364420Z",
     "iopub.status.idle": "2023-08-17T21:09:00.729549Z",
     "shell.execute_reply": "2023-08-17T21:09:00.728741Z"
    },
    "papermill": {
     "duration": 0.371521,
     "end_time": "2023-08-17T21:09:00.731557",
     "exception": false,
     "start_time": "2023-08-17T21:09:00.360036",
     "status": "completed"
    },
    "tags": []
   },
   "outputs": [
    {
     "data": {
      "text/plain": [
       "TTAGACTCAATGCGCT    711\n",
       "CACTTTGTCCCATAGG    707\n",
       "ATTAGCTCAGCAAGGC    701\n",
       "CAATAAGCACCGGTAT    674\n",
       "AACAAAGGTTGCAATG    668\n",
       "Name: barcode, dtype: int64"
      ]
     },
     "execution_count": 16,
     "metadata": {},
     "output_type": "execute_result"
    }
   ],
   "source": [
    "barcode_counts = df['barcode'].value_counts()\n",
    "barcode_counts.head()"
   ]
  },
  {
   "cell_type": "code",
   "execution_count": 17,
   "id": "43d6be68",
   "metadata": {
    "execution": {
     "iopub.execute_input": "2023-08-17T21:09:00.742355Z",
     "iopub.status.busy": "2023-08-17T21:09:00.742205Z",
     "iopub.status.idle": "2023-08-17T21:09:00.746154Z",
     "shell.execute_reply": "2023-08-17T21:09:00.745341Z"
    },
    "papermill": {
     "duration": 0.009424,
     "end_time": "2023-08-17T21:09:00.747374",
     "exception": false,
     "start_time": "2023-08-17T21:09:00.737950",
     "status": "completed"
    },
    "tags": []
   },
   "outputs": [],
   "source": [
    "#------------------------------------------------------------------------------------"
   ]
  },
  {
   "cell_type": "code",
   "execution_count": 18,
   "id": "f8367673",
   "metadata": {
    "execution": {
     "iopub.execute_input": "2023-08-17T21:09:00.756185Z",
     "iopub.status.busy": "2023-08-17T21:09:00.755781Z",
     "iopub.status.idle": "2023-08-17T21:09:00.764790Z",
     "shell.execute_reply": "2023-08-17T21:09:00.763919Z"
    },
    "papermill": {
     "duration": 0.015279,
     "end_time": "2023-08-17T21:09:00.766608",
     "exception": false,
     "start_time": "2023-08-17T21:09:00.751329",
     "status": "completed"
    },
    "tags": []
   },
   "outputs": [
    {
     "data": {
      "text/html": [
       "<div>\n",
       "<style scoped>\n",
       "    .dataframe tbody tr th:only-of-type {\n",
       "        vertical-align: middle;\n",
       "    }\n",
       "\n",
       "    .dataframe tbody tr th {\n",
       "        vertical-align: top;\n",
       "    }\n",
       "\n",
       "    .dataframe thead th {\n",
       "        text-align: right;\n",
       "    }\n",
       "</style>\n",
       "<table border=\"1\" class=\"dataframe\">\n",
       "  <thead>\n",
       "    <tr style=\"text-align: right;\">\n",
       "      <th></th>\n",
       "      <th>Stat</th>\n",
       "      <th>Count</th>\n",
       "    </tr>\n",
       "  </thead>\n",
       "  <tbody>\n",
       "    <tr>\n",
       "      <th>0</th>\n",
       "      <td>Raw Reads</td>\n",
       "      <td>93159305</td>\n",
       "    </tr>\n",
       "    <tr>\n",
       "      <th>1</th>\n",
       "      <td>Reads with CS1</td>\n",
       "      <td>50732228</td>\n",
       "    </tr>\n",
       "    <tr>\n",
       "      <th>2</th>\n",
       "      <td>Reads with Protospacer</td>\n",
       "      <td>60400202</td>\n",
       "    </tr>\n",
       "    <tr>\n",
       "      <th>3</th>\n",
       "      <td>Dedup reads</td>\n",
       "      <td>1664194</td>\n",
       "    </tr>\n",
       "    <tr>\n",
       "      <th>4</th>\n",
       "      <td>Unique barcodes</td>\n",
       "      <td>182296</td>\n",
       "    </tr>\n",
       "  </tbody>\n",
       "</table>\n",
       "</div>"
      ],
      "text/plain": [
       "                     Stat     Count\n",
       "0               Raw Reads  93159305\n",
       "1          Reads with CS1  50732228\n",
       "2  Reads with Protospacer  60400202\n",
       "3             Dedup reads   1664194\n",
       "4         Unique barcodes    182296"
      ]
     },
     "execution_count": 18,
     "metadata": {},
     "output_type": "execute_result"
    }
   ],
   "source": [
    "df_stats = pd.DataFrame(stats, columns=[\"Stat\", \"Count\"])\n",
    "df_stats"
   ]
  },
  {
   "cell_type": "code",
   "execution_count": 19,
   "id": "be9e632f",
   "metadata": {
    "execution": {
     "iopub.execute_input": "2023-08-17T21:09:00.778134Z",
     "iopub.status.busy": "2023-08-17T21:09:00.777886Z",
     "iopub.status.idle": "2023-08-17T21:09:00.782610Z",
     "shell.execute_reply": "2023-08-17T21:09:00.781735Z"
    },
    "papermill": {
     "duration": 0.010447,
     "end_time": "2023-08-17T21:09:00.783776",
     "exception": false,
     "start_time": "2023-08-17T21:09:00.773329",
     "status": "completed"
    },
    "tags": []
   },
   "outputs": [
    {
     "name": "stdout",
     "output_type": "stream",
     "text": [
      "93159305\n",
      "50732228\n",
      "60400202\n",
      "1664194\n",
      "182296\n"
     ]
    }
   ],
   "source": [
    "for i in df_stats.Count:\n",
    "    print(i)"
   ]
  }
 ],
 "metadata": {
  "kernelspec": {
   "display_name": "Python 3 (ipykernel)",
   "language": "python",
   "name": "python3"
  },
  "language_info": {
   "codemirror_mode": {
    "name": "ipython",
    "version": 3
   },
   "file_extension": ".py",
   "mimetype": "text/x-python",
   "name": "python",
   "nbconvert_exporter": "python",
   "pygments_lexer": "ipython3",
   "version": "3.10.9"
  },
  "papermill": {
   "default_parameters": {},
   "duration": 304.476195,
   "end_time": "2023-08-17T21:09:03.608298",
   "environment_variables": {},
   "exception": null,
   "input_path": "/home/kfeng/catatac/secondary/01_assign_guides_to_cells.py.ipynb",
   "output_path": "/data2/kfeng/deeper_guides_dasatinib/secondary/DASA1/notebooks/01_assign_guides_to_cells.py.ipynb",
   "parameters": {
    "fastq_path": "/data2/kfeng/deeper_guides_dasatinib/fastqs/",
    "library": "CRISPR-DASA1",
    "tsv_path": "/data2/kfeng/deeper_guides_dasatinib/dasatinib_primary_01HD/DASA1/tsv"
   },
   "start_time": "2023-08-17T21:03:59.132103",
   "version": "2.4.0"
  },
  "vscode": {
   "interpreter": {
    "hash": "31f2aee4e71d21fbe5cf8b01ff0e069b9275f58929596ceb00d14d90e3e16cd6"
   }
  }
 },
 "nbformat": 4,
 "nbformat_minor": 5
}