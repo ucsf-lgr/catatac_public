{
 "cells": [
  {
   "cell_type": "markdown",
   "id": "33212649",
   "metadata": {
    "tags": [
     "papermill-error-cell-tag"
    ]
   },
   "source": [
    "<span style=\"color:red; font-family:Helvetica Neue, Helvetica, Arial, sans-serif; font-size:2em;\">An Exception was encountered at '<a href=\"#papermill-error-cell\">In [21]</a>'.</span>"
   ]
  },
  {
   "cell_type": "code",
   "execution_count": 1,
   "id": "2eb000bd",
   "metadata": {
    "execution": {
     "iopub.execute_input": "2023-08-25T21:26:17.876313Z",
     "iopub.status.busy": "2023-08-25T21:26:17.874432Z",
     "iopub.status.idle": "2023-08-25T21:26:17.905537Z",
     "shell.execute_reply": "2023-08-25T21:26:17.903766Z"
    },
    "papermill": {
     "duration": 0.119223,
     "end_time": "2023-08-25T21:26:17.907385",
     "exception": false,
     "start_time": "2023-08-25T21:26:17.788162",
     "status": "completed"
    },
    "tags": [
     "injected-parameters"
    ]
   },
   "outputs": [],
   "source": [
    "# Parameters",
    "h5_name = '{PATH_1}'",
    "protosp_path = '{PATH_2}'",
    "library = \"CRISPR-DMSO1\"",
    "tsv_path = '{PATH_3}'",
    ""
   ]
  },
  {
   "cell_type": "code",
   "execution_count": 2,
   "id": "6e6ecc30",
   "metadata": {
    "execution": {
     "iopub.execute_input": "2023-08-25T21:26:18.004717Z",
     "iopub.status.busy": "2023-08-25T21:26:17.973990Z",
     "iopub.status.idle": "2023-08-25T21:26:21.067596Z",
     "shell.execute_reply": "2023-08-25T21:26:21.066431Z"
    },
    "papermill": {
     "duration": 3.110938,
     "end_time": "2023-08-25T21:26:21.069254",
     "exception": false,
     "start_time": "2023-08-25T21:26:17.958316",
     "status": "completed"
    },
    "tags": []
   },
   "outputs": [
    {
     "name": "stderr",
     "output_type": "stream",
     "text": [
      "The legacy packages maptools, rgdal, and rgeos, underpinning the sp package,\n",
      "which was just loaded, will retire in October 2023.\n",
      "Please refer to R-spatial evolution reports for details, especially\n",
      "https://r-spatial.org/r/2023/05/15/evolution4.html.\n",
      "It may be desirable to make the sf package available;\n",
      "package maintainers should consider adding sf to Suggests:.\n",
      "The sp package is now running under evolution status 2\n",
      "     (status 2 uses the sf package in place of rgdal)\n",
      "\n"
     ]
    },
    {
     "name": "stderr",
     "output_type": "stream",
     "text": [
      "Attaching SeuratObject\n",
      "\n"
     ]
    },
    {
     "name": "stderr",
     "output_type": "stream",
     "text": [
      "Registered S3 method overwritten by 'SeuratDisk':\n",
      "  method            from  \n",
      "  as.sparse.H5Group Seurat\n",
      "\n"
     ]
    },
    {
     "name": "stderr",
     "output_type": "stream",
     "text": [
      "\n",
      "Attaching package: \u2018dplyr\u2019\n",
      "\n",
      "\n"
     ]
    },
    {
     "name": "stderr",
     "output_type": "stream",
     "text": [
      "The following objects are masked from \u2018package:stats\u2019:\n",
      "\n",
      "    filter, lag\n",
      "\n",
      "\n"
     ]
    },
    {
     "name": "stderr",
     "output_type": "stream",
     "text": [
      "The following objects are masked from \u2018package:base\u2019:\n",
      "\n",
      "    intersect, setdiff, setequal, union\n",
      "\n",
      "\n"
     ]
    },
    {
     "name": "stderr",
     "output_type": "stream",
     "text": [
      "\n",
      "Attaching package: \u2018crayon\u2019\n",
      "\n",
      "\n"
     ]
    },
    {
     "name": "stderr",
     "output_type": "stream",
     "text": [
      "The following object is masked from \u2018package:ggplot2\u2019:\n",
      "\n",
      "    %+%\n",
      "\n",
      "\n"
     ]
    }
   ],
   "source": [
    "library(Seurat)\n",
    "library(SeuratDisk)\n",
    "library(dplyr)\n",
    "library(ggplot2)\n",
    "library(patchwork)\n",
    "library(stringr)\n",
    "library(crayon)"
   ]
  },
  {
   "cell_type": "code",
   "execution_count": 3,
   "id": "5a5c32c0",
   "metadata": {
    "execution": {
     "iopub.execute_input": "2023-08-25T21:26:21.094463Z",
     "iopub.status.busy": "2023-08-25T21:26:21.092045Z",
     "iopub.status.idle": "2023-08-25T21:26:21.101824Z",
     "shell.execute_reply": "2023-08-25T21:26:21.100720Z"
    },
    "papermill": {
     "duration": 0.021066,
     "end_time": "2023-08-25T21:26:21.103111",
     "exception": false,
     "start_time": "2023-08-25T21:26:21.082045",
     "status": "completed"
    },
    "tags": []
   },
   "outputs": [],
   "source": [
    "#setwd(\"~/prj/catatac/scripts\")"
   ]
  },
  {
   "attachments": {},
   "cell_type": "markdown",
   "id": "71cb2e11",
   "metadata": {
    "papermill": {
     "duration": 0.008416,
     "end_time": "2023-08-25T21:26:21.124719",
     "exception": false,
     "start_time": "2023-08-25T21:26:21.116303",
     "status": "completed"
    },
    "tags": []
   },
   "source": [
    "# Load guide-capture data"
   ]
  },
  {
   "attachments": {},
   "cell_type": "markdown",
   "id": "79983b60",
   "metadata": {
    "papermill": {
     "duration": 0.008145,
     "end_time": "2023-08-25T21:26:21.141381",
     "exception": false,
     "start_time": "2023-08-25T21:26:21.133236",
     "status": "completed"
    },
    "tags": []
   },
   "source": [
    "Define paths etc"
   ]
  },
  {
   "cell_type": "code",
   "execution_count": 4,
   "id": "3a94456b",
   "metadata": {
    "execution": {
     "iopub.execute_input": "2023-08-25T21:26:21.161437Z",
     "iopub.status.busy": "2023-08-25T21:26:21.159718Z",
     "iopub.status.idle": "2023-08-25T21:26:21.170223Z",
     "shell.execute_reply": "2023-08-25T21:26:21.169120Z"
    },
    "papermill": {
     "duration": 0.022089,
     "end_time": "2023-08-25T21:26:21.171834",
     "exception": false,
     "start_time": "2023-08-25T21:26:21.149745",
     "status": "completed"
    },
    "tags": []
   },
   "outputs": [],
   "source": [
    "# Pass these as parameters",
    "# h5_name = '{PATH_4}'",
    "# protosp_path = '{PATH_5}'",
    "# library = \"CRISPR8\"",
    "# tsv_path = '{PATH_6}'",
    ""
   ]
  },
  {
   "cell_type": "code",
   "execution_count": 5,
   "id": "876c19ad",
   "metadata": {
    "execution": {
     "iopub.execute_input": "2023-08-25T21:26:21.199402Z",
     "iopub.status.busy": "2023-08-25T21:26:21.198500Z",
     "iopub.status.idle": "2023-08-25T21:26:21.208437Z",
     "shell.execute_reply": "2023-08-25T21:26:21.207258Z"
    },
    "papermill": {
     "duration": 0.021173,
     "end_time": "2023-08-25T21:26:21.210100",
     "exception": false,
     "start_time": "2023-08-25T21:26:21.188927",
     "status": "completed"
    },
    "tags": []
   },
   "outputs": [],
   "source": [
    "h5_w_gcap_name <- sub(\".h5seurat\", \"_w_GUIDE_CAP.h5seurat\", h5_name)",
    "barcode2guide_tsv_path <- paste0(tsv_path, '{PATH_7}')",
    "tsv_name <- paste0(tsv_path, '{PATH_8}')"
   ]
  },
  {
   "attachments": {},
   "cell_type": "markdown",
   "id": "0ac44d02",
   "metadata": {
    "papermill": {
     "duration": 0.008498,
     "end_time": "2023-08-25T21:26:21.230805",
     "exception": false,
     "start_time": "2023-08-25T21:26:21.222307",
     "status": "completed"
    },
    "tags": []
   },
   "source": [
    "### Load protospacer file"
   ]
  },
  {
   "cell_type": "code",
   "execution_count": 6,
   "id": "a1b0b184",
   "metadata": {
    "execution": {
     "iopub.execute_input": "2023-08-25T21:26:21.249664Z",
     "iopub.status.busy": "2023-08-25T21:26:21.248760Z",
     "iopub.status.idle": "2023-08-25T21:26:21.257082Z",
     "shell.execute_reply": "2023-08-25T21:26:21.255908Z"
    },
    "papermill": {
     "duration": 0.019527,
     "end_time": "2023-08-25T21:26:21.258858",
     "exception": false,
     "start_time": "2023-08-25T21:26:21.239331",
     "status": "completed"
    },
    "tags": []
   },
   "outputs": [],
   "source": [
    "df_protosp = read.table(protosp_path, header=TRUE, comment.char=\"\")"
   ]
  },
  {
   "cell_type": "code",
   "execution_count": 7,
   "id": "bdea90fc",
   "metadata": {
    "execution": {
     "iopub.execute_input": "2023-08-25T21:26:21.283845Z",
     "iopub.status.busy": "2023-08-25T21:26:21.281916Z",
     "iopub.status.idle": "2023-08-25T21:26:21.306126Z",
     "shell.execute_reply": "2023-08-25T21:26:21.305005Z"
    },
    "papermill": {
     "duration": 0.036636,
     "end_time": "2023-08-25T21:26:21.307760",
     "exception": false,
     "start_time": "2023-08-25T21:26:21.271124",
     "status": "completed"
    },
    "tags": []
   },
   "outputs": [
    {
     "data": {
      "text/html": [
       "<style>\n",
       ".list-inline {list-style: none; margin:0; padding: 0}\n",
       ".list-inline>li {display: inline-block}\n",
       ".list-inline>li:not(:last-child)::after {content: \"\\00b7\"; padding: 0 .5ex}\n",
       "</style>\n",
       "<ol class=list-inline><li>'CHD2'</li><li>'HIC2'</li><li>'MNT'</li><li>'NTC28'</li><li>'NTC36'</li><li>'NTC74'</li><li>'NTC82'</li><li>'PIAS1'</li><li>'YEATS4'</li></ol>\n"
      ],
      "text/latex": [
       "\\begin{enumerate*}\n",
       "\\item 'CHD2'\n",
       "\\item 'HIC2'\n",
       "\\item 'MNT'\n",
       "\\item 'NTC28'\n",
       "\\item 'NTC36'\n",
       "\\item 'NTC74'\n",
       "\\item 'NTC82'\n",
       "\\item 'PIAS1'\n",
       "\\item 'YEATS4'\n",
       "\\end{enumerate*}\n"
      ],
      "text/markdown": [
       "1. 'CHD2'\n",
       "2. 'HIC2'\n",
       "3. 'MNT'\n",
       "4. 'NTC28'\n",
       "5. 'NTC36'\n",
       "6. 'NTC74'\n",
       "7. 'NTC82'\n",
       "8. 'PIAS1'\n",
       "9. 'YEATS4'\n",
       "\n",
       "\n"
      ],
      "text/plain": [
       "[1] \"CHD2\"   \"HIC2\"   \"MNT\"    \"NTC28\"  \"NTC36\"  \"NTC74\"  \"NTC82\"  \"PIAS1\" \n",
       "[9] \"YEATS4\""
      ]
     },
     "metadata": {},
     "output_type": "display_data"
    },
    {
     "data": {
      "text/html": [
       "<style>\n",
       ".list-inline {list-style: none; margin:0; padding: 0}\n",
       ".list-inline>li {display: inline-block}\n",
       ".list-inline>li:not(:last-child)::after {content: \"\\00b7\"; padding: 0 .5ex}\n",
       "</style>\n",
       "<ol class=list-inline><li>'CHD2_1'</li><li>'CHD2_2'</li><li>'HIC2_1'</li><li>'HIC2_2'</li><li>'MNT_1'</li><li>'MNT_2'</li><li>'NTC28_1'</li><li>'NTC28_2'</li><li>'NTC36_1'</li><li>'NTC74_2'</li><li>'NTC82_1'</li><li>'PIAS1_1'</li><li>'PIAS1_2'</li><li>'YEATS4_1'</li><li>'YEATS4_2'</li></ol>\n"
      ],
      "text/latex": [
       "\\begin{enumerate*}\n",
       "\\item 'CHD2\\_1'\n",
       "\\item 'CHD2\\_2'\n",
       "\\item 'HIC2\\_1'\n",
       "\\item 'HIC2\\_2'\n",
       "\\item 'MNT\\_1'\n",
       "\\item 'MNT\\_2'\n",
       "\\item 'NTC28\\_1'\n",
       "\\item 'NTC28\\_2'\n",
       "\\item 'NTC36\\_1'\n",
       "\\item 'NTC74\\_2'\n",
       "\\item 'NTC82\\_1'\n",
       "\\item 'PIAS1\\_1'\n",
       "\\item 'PIAS1\\_2'\n",
       "\\item 'YEATS4\\_1'\n",
       "\\item 'YEATS4\\_2'\n",
       "\\end{enumerate*}\n"
      ],
      "text/markdown": [
       "1. 'CHD2_1'\n",
       "2. 'CHD2_2'\n",
       "3. 'HIC2_1'\n",
       "4. 'HIC2_2'\n",
       "5. 'MNT_1'\n",
       "6. 'MNT_2'\n",
       "7. 'NTC28_1'\n",
       "8. 'NTC28_2'\n",
       "9. 'NTC36_1'\n",
       "10. 'NTC74_2'\n",
       "11. 'NTC82_1'\n",
       "12. 'PIAS1_1'\n",
       "13. 'PIAS1_2'\n",
       "14. 'YEATS4_1'\n",
       "15. 'YEATS4_2'\n",
       "\n",
       "\n"
      ],
      "text/plain": [
       " [1] \"CHD2_1\"   \"CHD2_2\"   \"HIC2_1\"   \"HIC2_2\"   \"MNT_1\"    \"MNT_2\"   \n",
       " [7] \"NTC28_1\"  \"NTC28_2\"  \"NTC36_1\"  \"NTC74_2\"  \"NTC82_1\"  \"PIAS1_1\" \n",
       "[13] \"PIAS1_2\"  \"YEATS4_1\" \"YEATS4_2\""
      ]
     },
     "metadata": {},
     "output_type": "display_data"
    }
   ],
   "source": [
    "tfs_w_ntctl    = unique(df_protosp$X.TargetGene)\n",
    "unselect_ntctl = (tfs_w_ntctl != \"NTCTL\") & (tfs_w_ntctl != \"NTCTRL\")\n",
    "tfs_to_plot    = tfs_w_ntctl[unselect_ntctl]\n",
    "\n",
    "guides_to_plot  = df_protosp$GuideName\n",
    "tfs_to_plot\n",
    "guides_to_plot"
   ]
  },
  {
   "cell_type": "code",
   "execution_count": 8,
   "id": "6b604992",
   "metadata": {
    "execution": {
     "iopub.execute_input": "2023-08-25T21:26:21.332758Z",
     "iopub.status.busy": "2023-08-25T21:26:21.331851Z",
     "iopub.status.idle": "2023-08-25T21:26:21.350944Z",
     "shell.execute_reply": "2023-08-25T21:26:21.349830Z"
    },
    "papermill": {
     "duration": 0.031343,
     "end_time": "2023-08-25T21:26:21.352730",
     "exception": false,
     "start_time": "2023-08-25T21:26:21.321387",
     "status": "completed"
    },
    "tags": []
   },
   "outputs": [
    {
     "data": {
      "text/html": [
       "<table class=\"dataframe\">\n",
       "<caption>A data.frame: 15 \u00d7 3</caption>\n",
       "<thead>\n",
       "\t<tr><th scope=col>X.TargetGene</th><th scope=col>GuideName</th><th scope=col>value</th></tr>\n",
       "\t<tr><th scope=col>&lt;chr&gt;</th><th scope=col>&lt;chr&gt;</th><th scope=col>&lt;chr&gt;</th></tr>\n",
       "</thead>\n",
       "<tbody>\n",
       "\t<tr><td>CHD2  </td><td>CHD2_1  </td><td>GCAGAGCGCGCTCTCTCTA </td></tr>\n",
       "\t<tr><td>CHD2  </td><td>CHD2_2  </td><td>ACGACCTGGGCTCTCAGTA </td></tr>\n",
       "\t<tr><td>HIC2  </td><td>HIC2_1  </td><td>TCGGCCCGCGACTCCTGTT </td></tr>\n",
       "\t<tr><td>HIC2  </td><td>HIC2_2  </td><td>CGGCTGTGAGCGGCGCTCG </td></tr>\n",
       "\t<tr><td>MNT   </td><td>MNT_1   </td><td>GCGGGGGCGTACTACACCG </td></tr>\n",
       "\t<tr><td>MNT   </td><td>MNT_2   </td><td>GAGTCCCGCCGACAAGAAA </td></tr>\n",
       "\t<tr><td>NTC28 </td><td>NTC28_1 </td><td>GGTGGCCTTTGCAATTGGCG</td></tr>\n",
       "\t<tr><td>NTC28 </td><td>NTC28_2 </td><td>GCGCTAGGAAACCAACAAGG</td></tr>\n",
       "\t<tr><td>NTC36 </td><td>NTC36_1 </td><td>GCAGCGAGCAGCTTTTACGA</td></tr>\n",
       "\t<tr><td>NTC74 </td><td>NTC74_2 </td><td>GGATCGCTTCAATCACCGAG</td></tr>\n",
       "\t<tr><td>NTC82 </td><td>NTC82_1 </td><td>GACGTTGAGGGACTGTCCTA</td></tr>\n",
       "\t<tr><td>PIAS1 </td><td>PIAS1_1 </td><td>GCGGACAGTGCGGAACTAA </td></tr>\n",
       "\t<tr><td>PIAS1 </td><td>PIAS1_2 </td><td>GCTACTGGGATCCACGGAG </td></tr>\n",
       "\t<tr><td>YEATS4</td><td>YEATS4_1</td><td>GAAGGAGGGCGAGTTACTT </td></tr>\n",
       "\t<tr><td>YEATS4</td><td>YEATS4_2</td><td>GAGAGCCACCCCGGAAGAG </td></tr>\n",
       "</tbody>\n",
       "</table>\n"
      ],
      "text/latex": [
       "A data.frame: 15 \u00d7 3\n",
       "\\begin{tabular}{lll}\n",
       " X.TargetGene & GuideName & value\\\\\n",
       " <chr> & <chr> & <chr>\\\\\n",
       "\\hline\n",
       "\t CHD2   & CHD2\\_1   & GCAGAGCGCGCTCTCTCTA \\\\\n",
       "\t CHD2   & CHD2\\_2   & ACGACCTGGGCTCTCAGTA \\\\\n",
       "\t HIC2   & HIC2\\_1   & TCGGCCCGCGACTCCTGTT \\\\\n",
       "\t HIC2   & HIC2\\_2   & CGGCTGTGAGCGGCGCTCG \\\\\n",
       "\t MNT    & MNT\\_1    & GCGGGGGCGTACTACACCG \\\\\n",
       "\t MNT    & MNT\\_2    & GAGTCCCGCCGACAAGAAA \\\\\n",
       "\t NTC28  & NTC28\\_1  & GGTGGCCTTTGCAATTGGCG\\\\\n",
       "\t NTC28  & NTC28\\_2  & GCGCTAGGAAACCAACAAGG\\\\\n",
       "\t NTC36  & NTC36\\_1  & GCAGCGAGCAGCTTTTACGA\\\\\n",
       "\t NTC74  & NTC74\\_2  & GGATCGCTTCAATCACCGAG\\\\\n",
       "\t NTC82  & NTC82\\_1  & GACGTTGAGGGACTGTCCTA\\\\\n",
       "\t PIAS1  & PIAS1\\_1  & GCGGACAGTGCGGAACTAA \\\\\n",
       "\t PIAS1  & PIAS1\\_2  & GCTACTGGGATCCACGGAG \\\\\n",
       "\t YEATS4 & YEATS4\\_1 & GAAGGAGGGCGAGTTACTT \\\\\n",
       "\t YEATS4 & YEATS4\\_2 & GAGAGCCACCCCGGAAGAG \\\\\n",
       "\\end{tabular}\n"
      ],
      "text/markdown": [
       "\n",
       "A data.frame: 15 \u00d7 3\n",
       "\n",
       "| X.TargetGene &lt;chr&gt; | GuideName &lt;chr&gt; | value &lt;chr&gt; |\n",
       "|---|---|---|\n",
       "| CHD2   | CHD2_1   | GCAGAGCGCGCTCTCTCTA  |\n",
       "| CHD2   | CHD2_2   | ACGACCTGGGCTCTCAGTA  |\n",
       "| HIC2   | HIC2_1   | TCGGCCCGCGACTCCTGTT  |\n",
       "| HIC2   | HIC2_2   | CGGCTGTGAGCGGCGCTCG  |\n",
       "| MNT    | MNT_1    | GCGGGGGCGTACTACACCG  |\n",
       "| MNT    | MNT_2    | GAGTCCCGCCGACAAGAAA  |\n",
       "| NTC28  | NTC28_1  | GGTGGCCTTTGCAATTGGCG |\n",
       "| NTC28  | NTC28_2  | GCGCTAGGAAACCAACAAGG |\n",
       "| NTC36  | NTC36_1  | GCAGCGAGCAGCTTTTACGA |\n",
       "| NTC74  | NTC74_2  | GGATCGCTTCAATCACCGAG |\n",
       "| NTC82  | NTC82_1  | GACGTTGAGGGACTGTCCTA |\n",
       "| PIAS1  | PIAS1_1  | GCGGACAGTGCGGAACTAA  |\n",
       "| PIAS1  | PIAS1_2  | GCTACTGGGATCCACGGAG  |\n",
       "| YEATS4 | YEATS4_1 | GAAGGAGGGCGAGTTACTT  |\n",
       "| YEATS4 | YEATS4_2 | GAGAGCCACCCCGGAAGAG  |\n",
       "\n"
      ],
      "text/plain": [
       "   X.TargetGene GuideName value               \n",
       "1  CHD2         CHD2_1    GCAGAGCGCGCTCTCTCTA \n",
       "2  CHD2         CHD2_2    ACGACCTGGGCTCTCAGTA \n",
       "3  HIC2         HIC2_1    TCGGCCCGCGACTCCTGTT \n",
       "4  HIC2         HIC2_2    CGGCTGTGAGCGGCGCTCG \n",
       "5  MNT          MNT_1     GCGGGGGCGTACTACACCG \n",
       "6  MNT          MNT_2     GAGTCCCGCCGACAAGAAA \n",
       "7  NTC28        NTC28_1   GGTGGCCTTTGCAATTGGCG\n",
       "8  NTC28        NTC28_2   GCGCTAGGAAACCAACAAGG\n",
       "9  NTC36        NTC36_1   GCAGCGAGCAGCTTTTACGA\n",
       "10 NTC74        NTC74_2   GGATCGCTTCAATCACCGAG\n",
       "11 NTC82        NTC82_1   GACGTTGAGGGACTGTCCTA\n",
       "12 PIAS1        PIAS1_1   GCGGACAGTGCGGAACTAA \n",
       "13 PIAS1        PIAS1_2   GCTACTGGGATCCACGGAG \n",
       "14 YEATS4       YEATS4_1  GAAGGAGGGCGAGTTACTT \n",
       "15 YEATS4       YEATS4_2  GAGAGCCACCCCGGAAGAG "
      ]
     },
     "metadata": {},
     "output_type": "display_data"
    }
   ],
   "source": [
    "df_protosp"
   ]
  },
  {
   "cell_type": "code",
   "execution_count": 9,
   "id": "ff303484",
   "metadata": {
    "execution": {
     "iopub.execute_input": "2023-08-25T21:26:21.379029Z",
     "iopub.status.busy": "2023-08-25T21:26:21.378108Z",
     "iopub.status.idle": "2023-08-25T21:26:25.832948Z",
     "shell.execute_reply": "2023-08-25T21:26:25.831765Z"
    },
    "papermill": {
     "duration": 4.4673,
     "end_time": "2023-08-25T21:26:25.835181",
     "exception": false,
     "start_time": "2023-08-25T21:26:21.367881",
     "status": "completed"
    },
    "tags": []
   },
   "outputs": [
    {
     "data": {
      "text/html": [
       "<table class=\"dataframe\">\n",
       "<caption>A matrix: 15 \u00d7 212642 of type int</caption>\n",
       "<thead>\n",
       "\t<tr><th></th><th scope=col>AAACAGCCAAAGCGGC-1</th><th scope=col>AAACAGCCAAATATCC-1</th><th scope=col>AAACAGCCAACACCTA-1</th><th scope=col>AAACAGCCAACATAAG-1</th><th scope=col>AAACAGCCAACCTGGT-1</th><th scope=col>AAACAGCCAACTAACT-1</th><th scope=col>AAACAGCCAACTAGAA-1</th><th scope=col>AAACAGCCAACTCGCG-1</th><th scope=col>AAACAGCCAACTGGGA-1</th><th scope=col>AAACAGCCAAGACTCC-1</th><th scope=col>\u22ef</th><th scope=col>TTTGTTGGTTTAAAGC-1</th><th scope=col>TTTGTTGGTTTAGCGA-1</th><th scope=col>TTTGTTGGTTTAGTCC-1</th><th scope=col>TTTGTTGGTTTATCTG-1</th><th scope=col>TTTGTTGGTTTGACCT-1</th><th scope=col>TTTGTTGGTTTGCGCC-1</th><th scope=col>TTTGTTGGTTTGGGCG-1</th><th scope=col>TTTGTTGGTTTGGGTA-1</th><th scope=col>TTTGTTGGTTTGTGGA-1</th><th scope=col>TTTGTTGGTTTGTTGC-1</th></tr>\n",
       "</thead>\n",
       "<tbody>\n",
       "\t<tr><th scope=row>CHD2_1</th><td>  0</td><td> 0</td><td> 0</td><td>0</td><td>0</td><td>0</td><td> 0</td><td>11</td><td>0</td><td> 0</td><td>\u22ef</td><td> 0</td><td>0</td><td>0</td><td>0</td><td> 0</td><td> 0</td><td>125</td><td>0</td><td>0</td><td>0</td></tr>\n",
       "\t<tr><th scope=row>CHD2_2</th><td> 76</td><td> 0</td><td> 0</td><td>0</td><td>0</td><td>0</td><td>51</td><td> 0</td><td>0</td><td> 0</td><td>\u22ef</td><td> 0</td><td>0</td><td>0</td><td>0</td><td> 0</td><td> 0</td><td>  0</td><td>0</td><td>0</td><td>0</td></tr>\n",
       "\t<tr><th scope=row>HIC2_1</th><td>  0</td><td> 0</td><td> 0</td><td>0</td><td>0</td><td>0</td><td> 0</td><td> 0</td><td>0</td><td> 0</td><td>\u22ef</td><td> 0</td><td>0</td><td>0</td><td>0</td><td>63</td><td> 0</td><td>  0</td><td>0</td><td>0</td><td>0</td></tr>\n",
       "\t<tr><th scope=row>HIC2_2</th><td>  0</td><td> 0</td><td> 0</td><td>0</td><td>0</td><td>0</td><td>18</td><td> 0</td><td>0</td><td> 0</td><td>\u22ef</td><td> 0</td><td>0</td><td>0</td><td>0</td><td> 0</td><td>93</td><td> 36</td><td>0</td><td>0</td><td>0</td></tr>\n",
       "\t<tr><th scope=row>MNT_1</th><td>200</td><td> 0</td><td> 0</td><td>1</td><td>0</td><td>0</td><td> 0</td><td> 6</td><td>0</td><td>66</td><td>\u22ef</td><td> 0</td><td>0</td><td>0</td><td>0</td><td> 0</td><td>58</td><td>  1</td><td>0</td><td>0</td><td>1</td></tr>\n",
       "\t<tr><th scope=row>MNT_2</th><td> 46</td><td> 0</td><td> 0</td><td>0</td><td>0</td><td>0</td><td>21</td><td> 0</td><td>0</td><td> 0</td><td>\u22ef</td><td> 0</td><td>0</td><td>0</td><td>0</td><td> 0</td><td> 0</td><td>  0</td><td>0</td><td>0</td><td>0</td></tr>\n",
       "\t<tr><th scope=row>NTC28_1</th><td>  0</td><td> 0</td><td> 0</td><td>0</td><td>0</td><td>0</td><td> 0</td><td> 0</td><td>0</td><td> 0</td><td>\u22ef</td><td>41</td><td>0</td><td>0</td><td>0</td><td> 0</td><td> 0</td><td>  0</td><td>0</td><td>0</td><td>0</td></tr>\n",
       "\t<tr><th scope=row>NTC28_2</th><td> 38</td><td> 0</td><td> 0</td><td>0</td><td>0</td><td>0</td><td> 0</td><td>35</td><td>0</td><td> 0</td><td>\u22ef</td><td>45</td><td>0</td><td>0</td><td>0</td><td> 0</td><td> 0</td><td>  0</td><td>0</td><td>0</td><td>0</td></tr>\n",
       "\t<tr><th scope=row>NTC36_1</th><td>  0</td><td> 0</td><td> 0</td><td>1</td><td>0</td><td>0</td><td> 0</td><td> 0</td><td>0</td><td> 0</td><td>\u22ef</td><td> 0</td><td>0</td><td>0</td><td>0</td><td> 0</td><td>47</td><td> 18</td><td>0</td><td>0</td><td>0</td></tr>\n",
       "\t<tr><th scope=row>NTC74_2</th><td>  0</td><td> 0</td><td> 0</td><td>0</td><td>3</td><td>0</td><td> 0</td><td> 0</td><td>0</td><td> 0</td><td>\u22ef</td><td>20</td><td>0</td><td>0</td><td>1</td><td> 3</td><td> 0</td><td> 45</td><td>0</td><td>0</td><td>0</td></tr>\n",
       "\t<tr><th scope=row>NTC82_1</th><td>131</td><td>89</td><td> 0</td><td>2</td><td>0</td><td>1</td><td> 0</td><td> 0</td><td>1</td><td>49</td><td>\u22ef</td><td>80</td><td>0</td><td>1</td><td>0</td><td>52</td><td> 0</td><td> 33</td><td>0</td><td>0</td><td>0</td></tr>\n",
       "\t<tr><th scope=row>PIAS1_1</th><td>  0</td><td> 0</td><td>31</td><td>0</td><td>0</td><td>0</td><td>72</td><td> 0</td><td>0</td><td> 0</td><td>\u22ef</td><td> 0</td><td>0</td><td>0</td><td>0</td><td>66</td><td> 1</td><td>154</td><td>0</td><td>0</td><td>0</td></tr>\n",
       "\t<tr><th scope=row>PIAS1_2</th><td>  0</td><td> 0</td><td> 0</td><td>1</td><td>0</td><td>0</td><td> 0</td><td> 0</td><td>0</td><td> 0</td><td>\u22ef</td><td> 0</td><td>0</td><td>0</td><td>0</td><td> 0</td><td> 0</td><td> 20</td><td>0</td><td>0</td><td>0</td></tr>\n",
       "\t<tr><th scope=row>YEATS4_1</th><td>  0</td><td> 0</td><td> 0</td><td>0</td><td>0</td><td>0</td><td> 0</td><td> 0</td><td>0</td><td> 0</td><td>\u22ef</td><td> 0</td><td>0</td><td>0</td><td>0</td><td> 0</td><td> 0</td><td>  0</td><td>0</td><td>0</td><td>0</td></tr>\n",
       "\t<tr><th scope=row>YEATS4_2</th><td> 57</td><td> 0</td><td> 0</td><td>0</td><td>0</td><td>0</td><td> 0</td><td> 0</td><td>0</td><td> 0</td><td>\u22ef</td><td> 0</td><td>0</td><td>0</td><td>0</td><td> 0</td><td> 0</td><td>  0</td><td>0</td><td>0</td><td>0</td></tr>\n",
       "</tbody>\n",
       "</table>\n"
      ],
      "text/latex": [
       "A matrix: 15 \u00d7 212642 of type int\n",
       "\\begin{tabular}{r|lllllllllllllllllllll}\n",
       "  & AAACAGCCAAAGCGGC-1 & AAACAGCCAAATATCC-1 & AAACAGCCAACACCTA-1 & AAACAGCCAACATAAG-1 & AAACAGCCAACCTGGT-1 & AAACAGCCAACTAACT-1 & AAACAGCCAACTAGAA-1 & AAACAGCCAACTCGCG-1 & AAACAGCCAACTGGGA-1 & AAACAGCCAAGACTCC-1 & \u22ef & TTTGTTGGTTTAAAGC-1 & TTTGTTGGTTTAGCGA-1 & TTTGTTGGTTTAGTCC-1 & TTTGTTGGTTTATCTG-1 & TTTGTTGGTTTGACCT-1 & TTTGTTGGTTTGCGCC-1 & TTTGTTGGTTTGGGCG-1 & TTTGTTGGTTTGGGTA-1 & TTTGTTGGTTTGTGGA-1 & TTTGTTGGTTTGTTGC-1\\\\\n",
       "\\hline\n",
       "\tCHD2\\_1 &   0 &  0 &  0 & 0 & 0 & 0 &  0 & 11 & 0 &  0 & \u22ef &  0 & 0 & 0 & 0 &  0 &  0 & 125 & 0 & 0 & 0\\\\\n",
       "\tCHD2\\_2 &  76 &  0 &  0 & 0 & 0 & 0 & 51 &  0 & 0 &  0 & \u22ef &  0 & 0 & 0 & 0 &  0 &  0 &   0 & 0 & 0 & 0\\\\\n",
       "\tHIC2\\_1 &   0 &  0 &  0 & 0 & 0 & 0 &  0 &  0 & 0 &  0 & \u22ef &  0 & 0 & 0 & 0 & 63 &  0 &   0 & 0 & 0 & 0\\\\\n",
       "\tHIC2\\_2 &   0 &  0 &  0 & 0 & 0 & 0 & 18 &  0 & 0 &  0 & \u22ef &  0 & 0 & 0 & 0 &  0 & 93 &  36 & 0 & 0 & 0\\\\\n",
       "\tMNT\\_1 & 200 &  0 &  0 & 1 & 0 & 0 &  0 &  6 & 0 & 66 & \u22ef &  0 & 0 & 0 & 0 &  0 & 58 &   1 & 0 & 0 & 1\\\\\n",
       "\tMNT\\_2 &  46 &  0 &  0 & 0 & 0 & 0 & 21 &  0 & 0 &  0 & \u22ef &  0 & 0 & 0 & 0 &  0 &  0 &   0 & 0 & 0 & 0\\\\\n",
       "\tNTC28\\_1 &   0 &  0 &  0 & 0 & 0 & 0 &  0 &  0 & 0 &  0 & \u22ef & 41 & 0 & 0 & 0 &  0 &  0 &   0 & 0 & 0 & 0\\\\\n",
       "\tNTC28\\_2 &  38 &  0 &  0 & 0 & 0 & 0 &  0 & 35 & 0 &  0 & \u22ef & 45 & 0 & 0 & 0 &  0 &  0 &   0 & 0 & 0 & 0\\\\\n",
       "\tNTC36\\_1 &   0 &  0 &  0 & 1 & 0 & 0 &  0 &  0 & 0 &  0 & \u22ef &  0 & 0 & 0 & 0 &  0 & 47 &  18 & 0 & 0 & 0\\\\\n",
       "\tNTC74\\_2 &   0 &  0 &  0 & 0 & 3 & 0 &  0 &  0 & 0 &  0 & \u22ef & 20 & 0 & 0 & 1 &  3 &  0 &  45 & 0 & 0 & 0\\\\\n",
       "\tNTC82\\_1 & 131 & 89 &  0 & 2 & 0 & 1 &  0 &  0 & 1 & 49 & \u22ef & 80 & 0 & 1 & 0 & 52 &  0 &  33 & 0 & 0 & 0\\\\\n",
       "\tPIAS1\\_1 &   0 &  0 & 31 & 0 & 0 & 0 & 72 &  0 & 0 &  0 & \u22ef &  0 & 0 & 0 & 0 & 66 &  1 & 154 & 0 & 0 & 0\\\\\n",
       "\tPIAS1\\_2 &   0 &  0 &  0 & 1 & 0 & 0 &  0 &  0 & 0 &  0 & \u22ef &  0 & 0 & 0 & 0 &  0 &  0 &  20 & 0 & 0 & 0\\\\\n",
       "\tYEATS4\\_1 &   0 &  0 &  0 & 0 & 0 & 0 &  0 &  0 & 0 &  0 & \u22ef &  0 & 0 & 0 & 0 &  0 &  0 &   0 & 0 & 0 & 0\\\\\n",
       "\tYEATS4\\_2 &  57 &  0 &  0 & 0 & 0 & 0 &  0 &  0 & 0 &  0 & \u22ef &  0 & 0 & 0 & 0 &  0 &  0 &   0 & 0 & 0 & 0\\\\\n",
       "\\end{tabular}\n"
      ],
      "text/markdown": [
       "\n",
       "A matrix: 15 \u00d7 212642 of type int\n",
       "\n",
       "| <!--/--> | AAACAGCCAAAGCGGC-1 | AAACAGCCAAATATCC-1 | AAACAGCCAACACCTA-1 | AAACAGCCAACATAAG-1 | AAACAGCCAACCTGGT-1 | AAACAGCCAACTAACT-1 | AAACAGCCAACTAGAA-1 | AAACAGCCAACTCGCG-1 | AAACAGCCAACTGGGA-1 | AAACAGCCAAGACTCC-1 | \u22ef | TTTGTTGGTTTAAAGC-1 | TTTGTTGGTTTAGCGA-1 | TTTGTTGGTTTAGTCC-1 | TTTGTTGGTTTATCTG-1 | TTTGTTGGTTTGACCT-1 | TTTGTTGGTTTGCGCC-1 | TTTGTTGGTTTGGGCG-1 | TTTGTTGGTTTGGGTA-1 | TTTGTTGGTTTGTGGA-1 | TTTGTTGGTTTGTTGC-1 |\n",
       "|---|---|---|---|---|---|---|---|---|---|---|---|---|---|---|---|---|---|---|---|---|---|\n",
       "| CHD2_1 |   0 |  0 |  0 | 0 | 0 | 0 |  0 | 11 | 0 |  0 | \u22ef |  0 | 0 | 0 | 0 |  0 |  0 | 125 | 0 | 0 | 0 |\n",
       "| CHD2_2 |  76 |  0 |  0 | 0 | 0 | 0 | 51 |  0 | 0 |  0 | \u22ef |  0 | 0 | 0 | 0 |  0 |  0 |   0 | 0 | 0 | 0 |\n",
       "| HIC2_1 |   0 |  0 |  0 | 0 | 0 | 0 |  0 |  0 | 0 |  0 | \u22ef |  0 | 0 | 0 | 0 | 63 |  0 |   0 | 0 | 0 | 0 |\n",
       "| HIC2_2 |   0 |  0 |  0 | 0 | 0 | 0 | 18 |  0 | 0 |  0 | \u22ef |  0 | 0 | 0 | 0 |  0 | 93 |  36 | 0 | 0 | 0 |\n",
       "| MNT_1 | 200 |  0 |  0 | 1 | 0 | 0 |  0 |  6 | 0 | 66 | \u22ef |  0 | 0 | 0 | 0 |  0 | 58 |   1 | 0 | 0 | 1 |\n",
       "| MNT_2 |  46 |  0 |  0 | 0 | 0 | 0 | 21 |  0 | 0 |  0 | \u22ef |  0 | 0 | 0 | 0 |  0 |  0 |   0 | 0 | 0 | 0 |\n",
       "| NTC28_1 |   0 |  0 |  0 | 0 | 0 | 0 |  0 |  0 | 0 |  0 | \u22ef | 41 | 0 | 0 | 0 |  0 |  0 |   0 | 0 | 0 | 0 |\n",
       "| NTC28_2 |  38 |  0 |  0 | 0 | 0 | 0 |  0 | 35 | 0 |  0 | \u22ef | 45 | 0 | 0 | 0 |  0 |  0 |   0 | 0 | 0 | 0 |\n",
       "| NTC36_1 |   0 |  0 |  0 | 1 | 0 | 0 |  0 |  0 | 0 |  0 | \u22ef |  0 | 0 | 0 | 0 |  0 | 47 |  18 | 0 | 0 | 0 |\n",
       "| NTC74_2 |   0 |  0 |  0 | 0 | 3 | 0 |  0 |  0 | 0 |  0 | \u22ef | 20 | 0 | 0 | 1 |  3 |  0 |  45 | 0 | 0 | 0 |\n",
       "| NTC82_1 | 131 | 89 |  0 | 2 | 0 | 1 |  0 |  0 | 1 | 49 | \u22ef | 80 | 0 | 1 | 0 | 52 |  0 |  33 | 0 | 0 | 0 |\n",
       "| PIAS1_1 |   0 |  0 | 31 | 0 | 0 | 0 | 72 |  0 | 0 |  0 | \u22ef |  0 | 0 | 0 | 0 | 66 |  1 | 154 | 0 | 0 | 0 |\n",
       "| PIAS1_2 |   0 |  0 |  0 | 1 | 0 | 0 |  0 |  0 | 0 |  0 | \u22ef |  0 | 0 | 0 | 0 |  0 |  0 |  20 | 0 | 0 | 0 |\n",
       "| YEATS4_1 |   0 |  0 |  0 | 0 | 0 | 0 |  0 |  0 | 0 |  0 | \u22ef |  0 | 0 | 0 | 0 |  0 |  0 |   0 | 0 | 0 | 0 |\n",
       "| YEATS4_2 |  57 |  0 |  0 | 0 | 0 | 0 |  0 |  0 | 0 |  0 | \u22ef |  0 | 0 | 0 | 0 |  0 |  0 |   0 | 0 | 0 | 0 |\n",
       "\n"
      ],
      "text/plain": [
       "         AAACAGCCAAAGCGGC-1 AAACAGCCAAATATCC-1 AAACAGCCAACACCTA-1\n",
       "CHD2_1     0                 0                  0                \n",
       "CHD2_2    76                 0                  0                \n",
       "HIC2_1     0                 0                  0                \n",
       "HIC2_2     0                 0                  0                \n",
       "MNT_1    200                 0                  0                \n",
       "MNT_2     46                 0                  0                \n",
       "NTC28_1    0                 0                  0                \n",
       "NTC28_2   38                 0                  0                \n",
       "NTC36_1    0                 0                  0                \n",
       "NTC74_2    0                 0                  0                \n",
       "NTC82_1  131                89                  0                \n",
       "PIAS1_1    0                 0                 31                \n",
       "PIAS1_2    0                 0                  0                \n",
       "YEATS4_1   0                 0                  0                \n",
       "YEATS4_2  57                 0                  0                \n",
       "         AAACAGCCAACATAAG-1 AAACAGCCAACCTGGT-1 AAACAGCCAACTAACT-1\n",
       "CHD2_1   0                  0                  0                 \n",
       "CHD2_2   0                  0                  0                 \n",
       "HIC2_1   0                  0                  0                 \n",
       "HIC2_2   0                  0                  0                 \n",
       "MNT_1    1                  0                  0                 \n",
       "MNT_2    0                  0                  0                 \n",
       "NTC28_1  0                  0                  0                 \n",
       "NTC28_2  0                  0                  0                 \n",
       "NTC36_1  1                  0                  0                 \n",
       "NTC74_2  0                  3                  0                 \n",
       "NTC82_1  2                  0                  1                 \n",
       "PIAS1_1  0                  0                  0                 \n",
       "PIAS1_2  1                  0                  0                 \n",
       "YEATS4_1 0                  0                  0                 \n",
       "YEATS4_2 0                  0                  0                 \n",
       "         AAACAGCCAACTAGAA-1 AAACAGCCAACTCGCG-1 AAACAGCCAACTGGGA-1\n",
       "CHD2_1    0                 11                 0                 \n",
       "CHD2_2   51                  0                 0                 \n",
       "HIC2_1    0                  0                 0                 \n",
       "HIC2_2   18                  0                 0                 \n",
       "MNT_1     0                  6                 0                 \n",
       "MNT_2    21                  0                 0                 \n",
       "NTC28_1   0                  0                 0                 \n",
       "NTC28_2   0                 35                 0                 \n",
       "NTC36_1   0                  0                 0                 \n",
       "NTC74_2   0                  0                 0                 \n",
       "NTC82_1   0                  0                 1                 \n",
       "PIAS1_1  72                  0                 0                 \n",
       "PIAS1_2   0                  0                 0                 \n",
       "YEATS4_1  0                  0                 0                 \n",
       "YEATS4_2  0                  0                 0                 \n",
       "         AAACAGCCAAGACTCC-1 \u22ef TTTGTTGGTTTAAAGC-1 TTTGTTGGTTTAGCGA-1\n",
       "CHD2_1    0                 \u22ef  0                 0                 \n",
       "CHD2_2    0                 \u22ef  0                 0                 \n",
       "HIC2_1    0                 \u22ef  0                 0                 \n",
       "HIC2_2    0                 \u22ef  0                 0                 \n",
       "MNT_1    66                 \u22ef  0                 0                 \n",
       "MNT_2     0                 \u22ef  0                 0                 \n",
       "NTC28_1   0                 \u22ef 41                 0                 \n",
       "NTC28_2   0                 \u22ef 45                 0                 \n",
       "NTC36_1   0                 \u22ef  0                 0                 \n",
       "NTC74_2   0                 \u22ef 20                 0                 \n",
       "NTC82_1  49                 \u22ef 80                 0                 \n",
       "PIAS1_1   0                 \u22ef  0                 0                 \n",
       "PIAS1_2   0                 \u22ef  0                 0                 \n",
       "YEATS4_1  0                 \u22ef  0                 0                 \n",
       "YEATS4_2  0                 \u22ef  0                 0                 \n",
       "         TTTGTTGGTTTAGTCC-1 TTTGTTGGTTTATCTG-1 TTTGTTGGTTTGACCT-1\n",
       "CHD2_1   0                  0                   0                \n",
       "CHD2_2   0                  0                   0                \n",
       "HIC2_1   0                  0                  63                \n",
       "HIC2_2   0                  0                   0                \n",
       "MNT_1    0                  0                   0                \n",
       "MNT_2    0                  0                   0                \n",
       "NTC28_1  0                  0                   0                \n",
       "NTC28_2  0                  0                   0                \n",
       "NTC36_1  0                  0                   0                \n",
       "NTC74_2  0                  1                   3                \n",
       "NTC82_1  1                  0                  52                \n",
       "PIAS1_1  0                  0                  66                \n",
       "PIAS1_2  0                  0                   0                \n",
       "YEATS4_1 0                  0                   0                \n",
       "YEATS4_2 0                  0                   0                \n",
       "         TTTGTTGGTTTGCGCC-1 TTTGTTGGTTTGGGCG-1 TTTGTTGGTTTGGGTA-1\n",
       "CHD2_1    0                 125                0                 \n",
       "CHD2_2    0                   0                0                 \n",
       "HIC2_1    0                   0                0                 \n",
       "HIC2_2   93                  36                0                 \n",
       "MNT_1    58                   1                0                 \n",
       "MNT_2     0                   0                0                 \n",
       "NTC28_1   0                   0                0                 \n",
       "NTC28_2   0                   0                0                 \n",
       "NTC36_1  47                  18                0                 \n",
       "NTC74_2   0                  45                0                 \n",
       "NTC82_1   0                  33                0                 \n",
       "PIAS1_1   1                 154                0                 \n",
       "PIAS1_2   0                  20                0                 \n",
       "YEATS4_1  0                   0                0                 \n",
       "YEATS4_2  0                   0                0                 \n",
       "         TTTGTTGGTTTGTGGA-1 TTTGTTGGTTTGTTGC-1\n",
       "CHD2_1   0                  0                 \n",
       "CHD2_2   0                  0                 \n",
       "HIC2_1   0                  0                 \n",
       "HIC2_2   0                  0                 \n",
       "MNT_1    0                  1                 \n",
       "MNT_2    0                  0                 \n",
       "NTC28_1  0                  0                 \n",
       "NTC28_2  0                  0                 \n",
       "NTC36_1  0                  0                 \n",
       "NTC74_2  0                  0                 \n",
       "NTC82_1  0                  0                 \n",
       "PIAS1_1  0                  0                 \n",
       "PIAS1_2  0                  0                 \n",
       "YEATS4_1 0                  0                 \n",
       "YEATS4_2 0                  0                 "
      ]
     },
     "metadata": {},
     "output_type": "display_data"
    }
   ],
   "source": [
    "#c(\"OTP\", \"MYF6\", \"MEIS1\", \"FLI1\", \"HHEX\", \"HOXA6\", \"ELF5\", \"GBX1\", \"DPRX\", \"NTCTL\")\n",
    "##!! tf_list   <- tfs_w_ntctl \n",
    "\n",
    "df_guide <- read.table(tsv_name, header = TRUE, sep = \"\\t\", quote = \"\")\n",
    "tf_list  <- intersect(guides_to_plot, colnames(df_guide))\n",
    "\n",
    "guide_counts  <- t(data.matrix(df_guide[,tf_list]))\n",
    "colnames(guide_counts) <- df_guide$barcode_dash\n",
    "guide_counts"
   ]
  },
  {
   "attachments": {},
   "cell_type": "markdown",
   "id": "42c14b00",
   "metadata": {
    "papermill": {
     "duration": 0.0093,
     "end_time": "2023-08-25T21:26:25.857261",
     "exception": false,
     "start_time": "2023-08-25T21:26:25.847961",
     "status": "completed"
    },
    "tags": []
   },
   "source": [
    "Get overlapping cells"
   ]
  },
  {
   "cell_type": "code",
   "execution_count": 10,
   "id": "d43a342b",
   "metadata": {
    "execution": {
     "iopub.execute_input": "2023-08-25T21:26:25.878225Z",
     "iopub.status.busy": "2023-08-25T21:26:25.877326Z",
     "iopub.status.idle": "2023-08-25T21:26:25.940571Z",
     "shell.execute_reply": "2023-08-25T21:26:25.939465Z"
    },
    "papermill": {
     "duration": 0.075453,
     "end_time": "2023-08-25T21:26:25.942274",
     "exception": false,
     "start_time": "2023-08-25T21:26:25.866821",
     "status": "completed"
    },
    "tags": []
   },
   "outputs": [
    {
     "data": {
      "text/html": [
       "<span style=white-space:pre-wrap>'Overlapping barcodes w/ min guides = 10 :  6819'</span>"
      ],
      "text/latex": [
       "'Overlapping barcodes w/ min guides = 10 :  6819'"
      ],
      "text/markdown": [
       "<span style=white-space:pre-wrap>'Overlapping barcodes w/ min guides = 10 :  6819'</span>"
      ],
      "text/plain": [
       "[1] \"Overlapping barcodes w/ min guides = 10 :  6819\""
      ]
     },
     "metadata": {},
     "output_type": "display_data"
    },
    {
     "data": {
      "text/html": [
       "<span style=white-space:pre-wrap>'Overlapping barcodes w/ min guides = 1 :  6821'</span>"
      ],
      "text/latex": [
       "'Overlapping barcodes w/ min guides = 1 :  6821'"
      ],
      "text/markdown": [
       "<span style=white-space:pre-wrap>'Overlapping barcodes w/ min guides = 1 :  6821'</span>"
      ],
      "text/plain": [
       "[1] \"Overlapping barcodes w/ min guides = 1 :  6821\""
      ]
     },
     "metadata": {},
     "output_type": "display_data"
    }
   ],
   "source": [
    "N_MIN_GUIDES <- 10\n",
    "select_overlapping   <-\n",
    "    df_guide$in_multiome & (df_guide$n_guides >= N_MIN_GUIDES)\n",
    "\n",
    "overlapping_barcodes <- df_guide[select_overlapping, ]$barcode_dash\n",
    "overlapping_barcodes <- as.vector(overlapping_barcodes)\n",
    "\n",
    "overlapping_guide_counts <- guide_counts[, overlapping_barcodes]\n",
    "\n",
    "n_all_overlapping <- nrow(df_guide[df_guide$in_multiome, ])\n",
    "paste(\"Overlapping barcodes w/ min guides =\", N_MIN_GUIDES,\": \", length(overlapping_barcodes))\n",
    "paste(\"Overlapping barcodes w/ min guides =\", 1,\": \", n_all_overlapping)\n"
   ]
  },
  {
   "cell_type": "code",
   "execution_count": 11,
   "id": "d7f8f584",
   "metadata": {
    "execution": {
     "iopub.execute_input": "2023-08-25T21:26:25.966643Z",
     "iopub.status.busy": "2023-08-25T21:26:25.965764Z",
     "iopub.status.idle": "2023-08-25T21:26:25.983763Z",
     "shell.execute_reply": "2023-08-25T21:26:25.982677Z"
    },
    "papermill": {
     "duration": 0.030379,
     "end_time": "2023-08-25T21:26:25.985611",
     "exception": false,
     "start_time": "2023-08-25T21:26:25.955232",
     "status": "completed"
    },
    "tags": []
   },
   "outputs": [
    {
     "data": {
      "text/html": [
       "<table class=\"dataframe\">\n",
       "<caption>A matrix: 6 \u00d7 6819 of type int</caption>\n",
       "<thead>\n",
       "\t<tr><th></th><th scope=col>AAACAGCCAAATATCC-1</th><th scope=col>AAACAGCCACGCAACT-1</th><th scope=col>AAACAGCCATGTTGGC-1</th><th scope=col>AAACATGCAAGGTAAC-1</th><th scope=col>AAACATGCAATTTAGC-1</th><th scope=col>AAACATGCACTTCATC-1</th><th scope=col>AAACATGCAGCATGTC-1</th><th scope=col>AAACCAACAATAGCCC-1</th><th scope=col>AAACCAACAATATACC-1</th><th scope=col>AAACCGAAGCGCCTTT-1</th><th scope=col>\u22ef</th><th scope=col>TTTGTGAAGTAAGGGC-1</th><th scope=col>TTTGTGAAGTATCGCG-1</th><th scope=col>TTTGTGGCACATAACT-1</th><th scope=col>TTTGTGGCAGCGCTTG-1</th><th scope=col>TTTGTGGCAGGATTAA-1</th><th scope=col>TTTGTGGCATCTTGAG-1</th><th scope=col>TTTGTGTTCCTCCATA-1</th><th scope=col>TTTGTGTTCGAAGCGG-1</th><th scope=col>TTTGTTGGTCACGAAC-1</th><th scope=col>TTTGTTGGTCCTTCAG-1</th></tr>\n",
       "</thead>\n",
       "<tbody>\n",
       "\t<tr><th scope=row>CHD2_1</th><td>0</td><td>0</td><td> 0</td><td>56</td><td>63</td><td>0</td><td>  37</td><td>62</td><td> 0</td><td>0</td><td>\u22ef</td><td> 0</td><td>0</td><td> 0</td><td>   0</td><td>0</td><td>  0</td><td> 0</td><td> 0</td><td>0</td><td> 0</td></tr>\n",
       "\t<tr><th scope=row>CHD2_2</th><td>0</td><td>0</td><td> 0</td><td> 0</td><td> 0</td><td>0</td><td>   0</td><td> 0</td><td> 0</td><td>0</td><td>\u22ef</td><td> 0</td><td>0</td><td> 0</td><td>   0</td><td>0</td><td>104</td><td>52</td><td>20</td><td>0</td><td> 0</td></tr>\n",
       "\t<tr><th scope=row>HIC2_1</th><td>0</td><td>0</td><td>58</td><td> 0</td><td> 0</td><td>0</td><td>1156</td><td> 0</td><td>35</td><td>0</td><td>\u22ef</td><td>33</td><td>0</td><td> 0</td><td>1411</td><td>0</td><td>  0</td><td>29</td><td> 0</td><td>0</td><td>33</td></tr>\n",
       "\t<tr><th scope=row>HIC2_2</th><td>0</td><td>0</td><td> 0</td><td> 0</td><td> 0</td><td>0</td><td>   0</td><td> 0</td><td> 0</td><td>0</td><td>\u22ef</td><td> 0</td><td>0</td><td> 0</td><td> 497</td><td>0</td><td>  0</td><td> 0</td><td> 0</td><td>0</td><td> 0</td></tr>\n",
       "\t<tr><th scope=row>MNT_1</th><td>0</td><td>0</td><td> 0</td><td> 0</td><td> 0</td><td>0</td><td>   0</td><td> 0</td><td> 0</td><td>0</td><td>\u22ef</td><td> 0</td><td>0</td><td>79</td><td>   0</td><td>0</td><td>  0</td><td> 0</td><td> 0</td><td>0</td><td> 0</td></tr>\n",
       "\t<tr><th scope=row>MNT_2</th><td>0</td><td>0</td><td> 0</td><td> 0</td><td> 0</td><td>0</td><td>   0</td><td> 0</td><td> 0</td><td>0</td><td>\u22ef</td><td> 0</td><td>0</td><td> 0</td><td>   0</td><td>0</td><td>  0</td><td> 0</td><td> 0</td><td>0</td><td> 0</td></tr>\n",
       "</tbody>\n",
       "</table>\n"
      ],
      "text/latex": [
       "A matrix: 6 \u00d7 6819 of type int\n",
       "\\begin{tabular}{r|lllllllllllllllllllll}\n",
       "  & AAACAGCCAAATATCC-1 & AAACAGCCACGCAACT-1 & AAACAGCCATGTTGGC-1 & AAACATGCAAGGTAAC-1 & AAACATGCAATTTAGC-1 & AAACATGCACTTCATC-1 & AAACATGCAGCATGTC-1 & AAACCAACAATAGCCC-1 & AAACCAACAATATACC-1 & AAACCGAAGCGCCTTT-1 & \u22ef & TTTGTGAAGTAAGGGC-1 & TTTGTGAAGTATCGCG-1 & TTTGTGGCACATAACT-1 & TTTGTGGCAGCGCTTG-1 & TTTGTGGCAGGATTAA-1 & TTTGTGGCATCTTGAG-1 & TTTGTGTTCCTCCATA-1 & TTTGTGTTCGAAGCGG-1 & TTTGTTGGTCACGAAC-1 & TTTGTTGGTCCTTCAG-1\\\\\n",
       "\\hline\n",
       "\tCHD2\\_1 & 0 & 0 &  0 & 56 & 63 & 0 &   37 & 62 &  0 & 0 & \u22ef &  0 & 0 &  0 &    0 & 0 &   0 &  0 &  0 & 0 &  0\\\\\n",
       "\tCHD2\\_2 & 0 & 0 &  0 &  0 &  0 & 0 &    0 &  0 &  0 & 0 & \u22ef &  0 & 0 &  0 &    0 & 0 & 104 & 52 & 20 & 0 &  0\\\\\n",
       "\tHIC2\\_1 & 0 & 0 & 58 &  0 &  0 & 0 & 1156 &  0 & 35 & 0 & \u22ef & 33 & 0 &  0 & 1411 & 0 &   0 & 29 &  0 & 0 & 33\\\\\n",
       "\tHIC2\\_2 & 0 & 0 &  0 &  0 &  0 & 0 &    0 &  0 &  0 & 0 & \u22ef &  0 & 0 &  0 &  497 & 0 &   0 &  0 &  0 & 0 &  0\\\\\n",
       "\tMNT\\_1 & 0 & 0 &  0 &  0 &  0 & 0 &    0 &  0 &  0 & 0 & \u22ef &  0 & 0 & 79 &    0 & 0 &   0 &  0 &  0 & 0 &  0\\\\\n",
       "\tMNT\\_2 & 0 & 0 &  0 &  0 &  0 & 0 &    0 &  0 &  0 & 0 & \u22ef &  0 & 0 &  0 &    0 & 0 &   0 &  0 &  0 & 0 &  0\\\\\n",
       "\\end{tabular}\n"
      ],
      "text/markdown": [
       "\n",
       "A matrix: 6 \u00d7 6819 of type int\n",
       "\n",
       "| <!--/--> | AAACAGCCAAATATCC-1 | AAACAGCCACGCAACT-1 | AAACAGCCATGTTGGC-1 | AAACATGCAAGGTAAC-1 | AAACATGCAATTTAGC-1 | AAACATGCACTTCATC-1 | AAACATGCAGCATGTC-1 | AAACCAACAATAGCCC-1 | AAACCAACAATATACC-1 | AAACCGAAGCGCCTTT-1 | \u22ef | TTTGTGAAGTAAGGGC-1 | TTTGTGAAGTATCGCG-1 | TTTGTGGCACATAACT-1 | TTTGTGGCAGCGCTTG-1 | TTTGTGGCAGGATTAA-1 | TTTGTGGCATCTTGAG-1 | TTTGTGTTCCTCCATA-1 | TTTGTGTTCGAAGCGG-1 | TTTGTTGGTCACGAAC-1 | TTTGTTGGTCCTTCAG-1 |\n",
       "|---|---|---|---|---|---|---|---|---|---|---|---|---|---|---|---|---|---|---|---|---|---|\n",
       "| CHD2_1 | 0 | 0 |  0 | 56 | 63 | 0 |   37 | 62 |  0 | 0 | \u22ef |  0 | 0 |  0 |    0 | 0 |   0 |  0 |  0 | 0 |  0 |\n",
       "| CHD2_2 | 0 | 0 |  0 |  0 |  0 | 0 |    0 |  0 |  0 | 0 | \u22ef |  0 | 0 |  0 |    0 | 0 | 104 | 52 | 20 | 0 |  0 |\n",
       "| HIC2_1 | 0 | 0 | 58 |  0 |  0 | 0 | 1156 |  0 | 35 | 0 | \u22ef | 33 | 0 |  0 | 1411 | 0 |   0 | 29 |  0 | 0 | 33 |\n",
       "| HIC2_2 | 0 | 0 |  0 |  0 |  0 | 0 |    0 |  0 |  0 | 0 | \u22ef |  0 | 0 |  0 |  497 | 0 |   0 |  0 |  0 | 0 |  0 |\n",
       "| MNT_1 | 0 | 0 |  0 |  0 |  0 | 0 |    0 |  0 |  0 | 0 | \u22ef |  0 | 0 | 79 |    0 | 0 |   0 |  0 |  0 | 0 |  0 |\n",
       "| MNT_2 | 0 | 0 |  0 |  0 |  0 | 0 |    0 |  0 |  0 | 0 | \u22ef |  0 | 0 |  0 |    0 | 0 |   0 |  0 |  0 | 0 |  0 |\n",
       "\n"
      ],
      "text/plain": [
       "       AAACAGCCAAATATCC-1 AAACAGCCACGCAACT-1 AAACAGCCATGTTGGC-1\n",
       "CHD2_1 0                  0                   0                \n",
       "CHD2_2 0                  0                   0                \n",
       "HIC2_1 0                  0                  58                \n",
       "HIC2_2 0                  0                   0                \n",
       "MNT_1  0                  0                   0                \n",
       "MNT_2  0                  0                   0                \n",
       "       AAACATGCAAGGTAAC-1 AAACATGCAATTTAGC-1 AAACATGCACTTCATC-1\n",
       "CHD2_1 56                 63                 0                 \n",
       "CHD2_2  0                  0                 0                 \n",
       "HIC2_1  0                  0                 0                 \n",
       "HIC2_2  0                  0                 0                 \n",
       "MNT_1   0                  0                 0                 \n",
       "MNT_2   0                  0                 0                 \n",
       "       AAACATGCAGCATGTC-1 AAACCAACAATAGCCC-1 AAACCAACAATATACC-1\n",
       "CHD2_1   37               62                  0                \n",
       "CHD2_2    0                0                  0                \n",
       "HIC2_1 1156                0                 35                \n",
       "HIC2_2    0                0                  0                \n",
       "MNT_1     0                0                  0                \n",
       "MNT_2     0                0                  0                \n",
       "       AAACCGAAGCGCCTTT-1 \u22ef TTTGTGAAGTAAGGGC-1 TTTGTGAAGTATCGCG-1\n",
       "CHD2_1 0                  \u22ef  0                 0                 \n",
       "CHD2_2 0                  \u22ef  0                 0                 \n",
       "HIC2_1 0                  \u22ef 33                 0                 \n",
       "HIC2_2 0                  \u22ef  0                 0                 \n",
       "MNT_1  0                  \u22ef  0                 0                 \n",
       "MNT_2  0                  \u22ef  0                 0                 \n",
       "       TTTGTGGCACATAACT-1 TTTGTGGCAGCGCTTG-1 TTTGTGGCAGGATTAA-1\n",
       "CHD2_1  0                    0               0                 \n",
       "CHD2_2  0                    0               0                 \n",
       "HIC2_1  0                 1411               0                 \n",
       "HIC2_2  0                  497               0                 \n",
       "MNT_1  79                    0               0                 \n",
       "MNT_2   0                    0               0                 \n",
       "       TTTGTGGCATCTTGAG-1 TTTGTGTTCCTCCATA-1 TTTGTGTTCGAAGCGG-1\n",
       "CHD2_1   0                 0                  0                \n",
       "CHD2_2 104                52                 20                \n",
       "HIC2_1   0                29                  0                \n",
       "HIC2_2   0                 0                  0                \n",
       "MNT_1    0                 0                  0                \n",
       "MNT_2    0                 0                  0                \n",
       "       TTTGTTGGTCACGAAC-1 TTTGTTGGTCCTTCAG-1\n",
       "CHD2_1 0                   0                \n",
       "CHD2_2 0                   0                \n",
       "HIC2_1 0                  33                \n",
       "HIC2_2 0                   0                \n",
       "MNT_1  0                   0                \n",
       "MNT_2  0                   0                "
      ]
     },
     "metadata": {},
     "output_type": "display_data"
    }
   ],
   "source": [
    "head(overlapping_guide_counts)"
   ]
  },
  {
   "cell_type": "code",
   "execution_count": 12,
   "id": "e42fc8c3",
   "metadata": {
    "execution": {
     "iopub.execute_input": "2023-08-25T21:26:26.020382Z",
     "iopub.status.busy": "2023-08-25T21:26:26.019487Z",
     "iopub.status.idle": "2023-08-25T21:26:26.029077Z",
     "shell.execute_reply": "2023-08-25T21:26:26.028028Z"
    },
    "papermill": {
     "duration": 0.029499,
     "end_time": "2023-08-25T21:26:26.030651",
     "exception": false,
     "start_time": "2023-08-25T21:26:26.001152",
     "status": "completed"
    },
    "tags": []
   },
   "outputs": [
    {
     "data": {
      "text/html": [
       "<style>\n",
       ".list-inline {list-style: none; margin:0; padding: 0}\n",
       ".list-inline>li {display: inline-block}\n",
       ".list-inline>li:not(:last-child)::after {content: \"\\00b7\"; padding: 0 .5ex}\n",
       "</style>\n",
       "<ol class=list-inline><li>'AAACAGCCAAATATCC-1'</li><li>'AAACAGCCACGCAACT-1'</li><li>'AAACAGCCATGTTGGC-1'</li><li>'AAACATGCAAGGTAAC-1'</li><li>'AAACATGCAATTTAGC-1'</li><li>'AAACATGCACTTCATC-1'</li></ol>\n"
      ],
      "text/latex": [
       "\\begin{enumerate*}\n",
       "\\item 'AAACAGCCAAATATCC-1'\n",
       "\\item 'AAACAGCCACGCAACT-1'\n",
       "\\item 'AAACAGCCATGTTGGC-1'\n",
       "\\item 'AAACATGCAAGGTAAC-1'\n",
       "\\item 'AAACATGCAATTTAGC-1'\n",
       "\\item 'AAACATGCACTTCATC-1'\n",
       "\\end{enumerate*}\n"
      ],
      "text/markdown": [
       "1. 'AAACAGCCAAATATCC-1'\n",
       "2. 'AAACAGCCACGCAACT-1'\n",
       "3. 'AAACAGCCATGTTGGC-1'\n",
       "4. 'AAACATGCAAGGTAAC-1'\n",
       "5. 'AAACATGCAATTTAGC-1'\n",
       "6. 'AAACATGCACTTCATC-1'\n",
       "\n",
       "\n"
      ],
      "text/plain": [
       "[1] \"AAACAGCCAAATATCC-1\" \"AAACAGCCACGCAACT-1\" \"AAACAGCCATGTTGGC-1\"\n",
       "[4] \"AAACATGCAAGGTAAC-1\" \"AAACATGCAATTTAGC-1\" \"AAACATGCACTTCATC-1\""
      ]
     },
     "metadata": {},
     "output_type": "display_data"
    }
   ],
   "source": [
    "head(overlapping_barcodes)"
   ]
  },
  {
   "attachments": {},
   "cell_type": "markdown",
   "id": "e206c83d",
   "metadata": {
    "papermill": {
     "duration": 0.010224,
     "end_time": "2023-08-25T21:26:26.054565",
     "exception": false,
     "start_time": "2023-08-25T21:26:26.044341",
     "status": "completed"
    },
    "tags": []
   },
   "source": [
    "## Plot stats"
   ]
  },
  {
   "cell_type": "code",
   "execution_count": 13,
   "id": "13f289cd",
   "metadata": {
    "execution": {
     "iopub.execute_input": "2023-08-25T21:26:26.077083Z",
     "iopub.status.busy": "2023-08-25T21:26:26.076218Z",
     "iopub.status.idle": "2023-08-25T21:26:31.231427Z",
     "shell.execute_reply": "2023-08-25T21:26:31.230342Z"
    },
    "papermill": {
     "duration": 5.168351,
     "end_time": "2023-08-25T21:26:31.233260",
     "exception": false,
     "start_time": "2023-08-25T21:26:26.064909",
     "status": "completed"
    },
    "tags": []
   },
   "outputs": [
    {
     "name": "stdout",
     "output_type": "stream",
     "text": [
      "\u001b[34mMean #guides per cell\u001b[39m 827.7951"
     ]
    },
    {
     "data": {
      "image/png": "[encoded data removed]",
      "text/plain": [
       "plot without title"
      ]
     },
     "metadata": {
      "image/png": {
       "height": 420,
       "width": 420
      }
     },
     "output_type": "display_data"
    }
   ],
   "source": [
    "df_guide_counts_per_cell <- data.frame(guide_count=colSums(overlapping_guide_counts))\n",
    "mean_guides_per_cell = mean(df_guide_counts_per_cell$guide_count)\n",
    "cat(blue(\"Mean #guides per cell\"), mean_guides_per_cell)\n",
    "\n",
    "ggplot(df_guide_counts_per_cell, aes(x=guide_count)) +\n",
    "    geom_histogram(binwidth=1)"
   ]
  },
  {
   "cell_type": "code",
   "execution_count": 14,
   "id": "42aaa9d3",
   "metadata": {
    "execution": {
     "iopub.execute_input": "2023-08-25T21:26:31.275844Z",
     "iopub.status.busy": "2023-08-25T21:26:31.273957Z",
     "iopub.status.idle": "2023-08-25T21:26:54.428595Z",
     "shell.execute_reply": "2023-08-25T21:26:54.427388Z"
    },
    "papermill": {
     "duration": 23.180406,
     "end_time": "2023-08-25T21:26:54.432240",
     "exception": false,
     "start_time": "2023-08-25T21:26:31.251834",
     "status": "completed"
    },
    "tags": []
   },
   "outputs": [
    {
     "name": "stderr",
     "output_type": "stream",
     "text": [
      "No id variables; using all as measure variables\n",
      "\n"
     ]
    },
    {
     "data": {
      "image/png": "[encoded data removed]",
      "text/plain": [
       "plot without title"
      ]
     },
     "metadata": {
      "image/png": {
       "height": 1200,
       "width": 1200
      }
     },
     "output_type": "display_data"
    }
   ],
   "source": [
    "library(reshape2)\n",
    "df_guide_counts_by_cell <- as.data.frame(t(overlapping_guide_counts))\n",
    "\n",
    "d <- melt(df_guide_counts_by_cell)\n",
    "d <- d[d$value > 0,]\n",
    "colnames(d) = c(\"guide_name\", \"num_guides_in_cell\")\n",
    "\n",
    "options(repr.plot.width = 20, repr.plot.height = 20)\n",
    "ggplot(d, aes(x = num_guides_in_cell)) + \n",
    "    facet_wrap(~guide_name, scales = \"free_x\") + \n",
    "    geom_histogram(binwidth=1) +\n",
    "    labs(y_label=\"count\") "
   ]
  },
  {
   "cell_type": "code",
   "execution_count": 15,
   "id": "1e58ef6e",
   "metadata": {
    "execution": {
     "iopub.execute_input": "2023-08-25T21:26:54.462800Z",
     "iopub.status.busy": "2023-08-25T21:26:54.460803Z",
     "iopub.status.idle": "2023-08-25T21:26:56.239267Z",
     "shell.execute_reply": "2023-08-25T21:26:56.238060Z"
    },
    "papermill": {
     "duration": 1.795751,
     "end_time": "2023-08-25T21:26:56.242800",
     "exception": false,
     "start_time": "2023-08-25T21:26:54.447049",
     "status": "completed"
    },
    "tags": []
   },
   "outputs": [
    {
     "name": "stderr",
     "output_type": "stream",
     "text": [
      "No id variables; using all as measure variables\n",
      "\n"
     ]
    },
    {
     "name": "stderr",
     "output_type": "stream",
     "text": [
      "Warning message in geom_histogram(bin_breaks = bin_breaks):\n",
      "\u201c\u001b[1m\u001b[22mIgnoring unknown parameters: `bin_breaks`\u201d\n"
     ]
    },
    {
     "name": "stderr",
     "output_type": "stream",
     "text": [
      "\u001b[1m\u001b[22m`stat_bin()` using `bins = 30`. Pick better value with `binwidth`.\n"
     ]
    },
    {
     "data": {
      "image/png": "[encoded data removed]",
      "text/plain": [
       "plot without title"
      ]
     },
     "metadata": {
      "image/png": {
       "height": 1200,
       "width": 1200
      }
     },
     "output_type": "display_data"
    }
   ],
   "source": [
    "### Using log scales\n",
    "library(reshape2)\n",
    "library(scales)\n",
    "df_guide_counts_by_cell <- as.data.frame(t(overlapping_guide_counts))\n",
    "\n",
    "d <- melt(df_guide_counts_by_cell)\n",
    "d <- d[d$value > 0,]\n",
    "colnames(d) = c(\"guide_name\", \"num_guides_in_cell\")\n",
    "\n",
    "bin_breaks <- c(1,2,2*2^(1:16))\n",
    "\n",
    "options(repr.plot.width = 20, repr.plot.height = 20)\n",
    "ggplot(d, aes(x = num_guides_in_cell)) + \n",
    "    facet_wrap(~guide_name, scales = \"free_x\") + \n",
    "    geom_histogram(bin_breaks=bin_breaks) +\n",
    "    scale_x_log10(labels=trans_format('log10',math_format(10^.x)), breaks=c(1,10,100,1000,10000,100000)) +\n",
    "    labs(y_label=\"count\") "
   ]
  },
  {
   "attachments": {},
   "cell_type": "markdown",
   "id": "25857865",
   "metadata": {
    "papermill": {
     "duration": 0.012188,
     "end_time": "2023-08-25T21:26:56.271000",
     "exception": false,
     "start_time": "2023-08-25T21:26:56.258812",
     "status": "completed"
    },
    "tags": []
   },
   "source": [
    "# Demux"
   ]
  },
  {
   "attachments": {},
   "cell_type": "markdown",
   "id": "a9ba9822",
   "metadata": {
    "papermill": {
     "duration": 0.012097,
     "end_time": "2023-08-25T21:26:56.295274",
     "exception": false,
     "start_time": "2023-08-25T21:26:56.283177",
     "status": "completed"
    },
    "tags": []
   },
   "source": [
    "Load multiome seurat object"
   ]
  },
  {
   "cell_type": "code",
   "execution_count": 16,
   "id": "7a20c761",
   "metadata": {
    "execution": {
     "iopub.execute_input": "2023-08-25T21:26:56.323461Z",
     "iopub.status.busy": "2023-08-25T21:26:56.321473Z",
     "iopub.status.idle": "2023-08-25T21:28:06.461023Z",
     "shell.execute_reply": "2023-08-25T21:28:06.459685Z"
    },
    "papermill": {
     "duration": 70.155756,
     "end_time": "2023-08-25T21:28:06.463173",
     "exception": false,
     "start_time": "2023-08-25T21:26:56.307417",
     "status": "completed"
    },
    "tags": []
   },
   "outputs": [
    {
     "name": "stderr",
     "output_type": "stream",
     "text": [
      "Validating h5Seurat file\n",
      "\n"
     ]
    },
    {
     "name": "stderr",
     "output_type": "stream",
     "text": [
      "Loading required package: Signac\n",
      "\n"
     ]
    },
    {
     "name": "stderr",
     "output_type": "stream",
     "text": [
      "rgeos version: 0.6-3, (SVN revision 696)\n",
      " GEOS runtime version: 3.8.0-CAPI-1.13.1 \n",
      " Please note that rgeos will be retired during October 2023,\n",
      "plan transition to sf or terra functions using GEOS at your earliest convenience.\n",
      "See https://r-spatial.org/r/2023/05/15/evolution4.html for details.\n",
      " Linking to sp version: 2.0-0 \n",
      " Polygon checking: TRUE \n",
      "\n",
      "\n"
     ]
    }
   ],
   "source": [
    "if (!exists(\"seurat_all\")) {\n",
    "    seurat_all <- LoadH5Seurat(h5_name, verbose=FALSE)\n",
    "}"
   ]
  },
  {
   "cell_type": "code",
   "execution_count": 17,
   "id": "83451bbb",
   "metadata": {
    "execution": {
     "iopub.execute_input": "2023-08-25T21:28:06.513068Z",
     "iopub.status.busy": "2023-08-25T21:28:06.510582Z",
     "iopub.status.idle": "2023-08-25T21:28:11.708704Z",
     "shell.execute_reply": "2023-08-25T21:28:11.707337Z"
    },
    "papermill": {
     "duration": 5.215238,
     "end_time": "2023-08-25T21:28:11.710970",
     "exception": false,
     "start_time": "2023-08-25T21:28:06.495732",
     "status": "completed"
    },
    "tags": []
   },
   "outputs": [],
   "source": [
    "# Select cells found in guide capture\n",
    "seurat     <- subset(seurat_all, cells = overlapping_barcodes)\n",
    "n_multiome <- length(Cells(seurat_all))"
   ]
  },
  {
   "cell_type": "code",
   "execution_count": 18,
   "id": "43f00114",
   "metadata": {
    "execution": {
     "iopub.execute_input": "2023-08-25T21:28:11.744826Z",
     "iopub.status.busy": "2023-08-25T21:28:11.743937Z",
     "iopub.status.idle": "2023-08-25T21:28:11.812400Z",
     "shell.execute_reply": "2023-08-25T21:28:11.811105Z"
    },
    "papermill": {
     "duration": 0.084611,
     "end_time": "2023-08-25T21:28:11.814275",
     "exception": false,
     "start_time": "2023-08-25T21:28:11.729664",
     "status": "completed"
    },
    "tags": []
   },
   "outputs": [
    {
     "name": "stderr",
     "output_type": "stream",
     "text": [
      "Warning message:\n",
      "\u201cFeature names cannot have underscores ('_'), replacing with dashes ('-')\u201d\n"
     ]
    }
   ],
   "source": [
    "# Add guide data as a new assay independent from RNA & ATAC\n",
    "seurat[[\"guidecapture\"]] <- CreateAssayObject(counts = overlapping_guide_counts)"
   ]
  },
  {
   "cell_type": "code",
   "execution_count": 19,
   "id": "63dc1ad9",
   "metadata": {
    "execution": {
     "iopub.execute_input": "2023-08-25T21:28:11.847462Z",
     "iopub.status.busy": "2023-08-25T21:28:11.846578Z",
     "iopub.status.idle": "2023-08-25T21:28:11.853432Z",
     "shell.execute_reply": "2023-08-25T21:28:11.852405Z"
    },
    "papermill": {
     "duration": 0.022015,
     "end_time": "2023-08-25T21:28:11.854762",
     "exception": false,
     "start_time": "2023-08-25T21:28:11.832747",
     "status": "completed"
    },
    "tags": []
   },
   "outputs": [],
   "source": [
    "# x <- GetAssayData(seurat, \"counts\")\n",
    "# cells <- colnames(x[ , colSums(x) != 0])\n",
    "# feats <- names((rowSums(x) != 0) == TRUE)\n",
    "# seurat <- seurat[feats, cells] "
   ]
  },
  {
   "cell_type": "code",
   "execution_count": 20,
   "id": "fb1235ef",
   "metadata": {
    "execution": {
     "iopub.execute_input": "2023-08-25T21:28:11.887578Z",
     "iopub.status.busy": "2023-08-25T21:28:11.886674Z",
     "iopub.status.idle": "2023-08-25T21:28:11.987188Z",
     "shell.execute_reply": "2023-08-25T21:28:11.985847Z"
    },
    "papermill": {
     "duration": 0.116141,
     "end_time": "2023-08-25T21:28:11.989083",
     "exception": false,
     "start_time": "2023-08-25T21:28:11.872942",
     "status": "completed"
    },
    "tags": []
   },
   "outputs": [
    {
     "name": "stderr",
     "output_type": "stream",
     "text": [
      "Normalizing across features\n",
      "\n"
     ]
    }
   ],
   "source": [
    "# Normalize guide data, here we use centered log-ratio (CLR) transformation\n",
    "seurat <- NormalizeData(seurat, assay = \"guidecapture\", normalization.method = \"CLR\")"
   ]
  },
  {
   "cell_type": "markdown",
   "id": "6e2d503c",
   "metadata": {
    "tags": [
     "papermill-error-cell-tag"
    ]
   },
   "source": [
    "<span id=\"papermill-error-cell\" style=\"color:red; font-family:Helvetica Neue, Helvetica, Arial, sans-serif; font-size:2em;\">Execution using papermill encountered an exception here and stopped:</span>"
   ]
  },
  {
   "cell_type": "code",
   "execution_count": 21,
   "id": "9c17af3e",
   "metadata": {
    "execution": {
     "iopub.execute_input": "2023-08-25T21:28:12.021162Z",
     "iopub.status.busy": "2023-08-25T21:28:12.020272Z",
     "iopub.status.idle": "2023-08-25T21:28:12.618446Z",
     "shell.execute_reply": "2023-08-25T21:28:12.617229Z"
    },
    "papermill": {
     "duration": 0.614191,
     "end_time": "2023-08-25T21:28:12.620553",
     "exception": true,
     "start_time": "2023-08-25T21:28:12.006362",
     "status": "failed"
    },
    "tags": []
   },
   "outputs": [
    {
     "ename": "ERROR",
     "evalue": "Error in HTODemux(seurat, assay = \"guidecapture\", positive.quantile = 0.99, : Cells with zero counts exist as a cluster.\n",
     "output_type": "error",
     "traceback": [
      "Error in HTODemux(seurat, assay = \"guidecapture\", positive.quantile = 0.99, : Cells with zero counts exist as a cluster.\nTraceback:\n",
      "1. HTODemux(seurat, assay = \"guidecapture\", positive.quantile = 0.99, \n .     seed = 85253310)",
      "2. stop(\"Cells with zero counts exist as a cluster.\")"
     ]
    }
   ],
   "source": [
    "seurat <- HTODemux(seurat, assay = \"guidecapture\", positive.quantile = 0.99, seed = 85253310)"
   ]
  },
  {
   "cell_type": "code",
   "execution_count": null,
   "id": "1e5f344f",
   "metadata": {
    "papermill": {
     "duration": null,
     "end_time": null,
     "exception": null,
     "start_time": null,
     "status": "pending"
    },
    "tags": []
   },
   "outputs": [],
   "source": [
    "unique(seurat$guidecapture_secondID)"
   ]
  },
  {
   "attachments": {},
   "cell_type": "markdown",
   "id": "1c822ec8",
   "metadata": {
    "papermill": {
     "duration": null,
     "end_time": null,
     "exception": null,
     "start_time": null,
     "status": "pending"
    },
    "tags": []
   },
   "source": [
    "# Visualize"
   ]
  },
  {
   "cell_type": "code",
   "execution_count": null,
   "id": "9e59dc5e",
   "metadata": {
    "papermill": {
     "duration": null,
     "end_time": null,
     "exception": null,
     "start_time": null,
     "status": "pending"
    },
    "tags": []
   },
   "outputs": [],
   "source": [
    "if (!exists(\"seurat\")) {\n",
    "    seurat <- LoadH5Seurat(h5_w_gcap_name)\n",
    "}"
   ]
  },
  {
   "cell_type": "code",
   "execution_count": null,
   "id": "6c7d93c6",
   "metadata": {
    "papermill": {
     "duration": null,
     "end_time": null,
     "exception": null,
     "start_time": null,
     "status": "pending"
    },
    "tags": []
   },
   "outputs": [],
   "source": [
    "# Global classification results\n",
    "n_cells <- length(seurat$guidecapture_classification.global)\n",
    "demux_counts      <- table(seurat$guidecapture_classification.global)\n",
    "demux_percentages <- round(demux_counts/n_cells, 2)\n",
    "\n",
    "demux_counts\n",
    "demux_percentages\n",
    "\n",
    "n_doublets <- demux_counts[[\"Doublet\"]]\n",
    "n_singlets <- demux_counts[[\"Singlet\"]]\n",
    "\n",
    "capture_efficiency_1 <- 100*(n_doublets + n_singlets) / n_multiome\n",
    "paste(\"Capture efficiency% = \", round(capture_efficiency_1), \"( norm by\", n_multiome, \")\")\n",
    "\n",
    "#capture_efficiency_2 <- 100 * (n_doublets + n_singlets) / n_all_overlapping\n",
    "#paste(\"Capture efficiency%\", round(capture_efficiency_2), \"( norm by\", n_all_overlapping, \")\")"
   ]
  },
  {
   "cell_type": "code",
   "execution_count": null,
   "id": "fbdd65e5",
   "metadata": {
    "papermill": {
     "duration": null,
     "end_time": null,
     "exception": null,
     "start_time": null,
     "status": "pending"
    },
    "tags": []
   },
   "outputs": [],
   "source": [
    "length(Cells(seurat))"
   ]
  },
  {
   "cell_type": "code",
   "execution_count": null,
   "id": "7817ee74",
   "metadata": {
    "papermill": {
     "duration": null,
     "end_time": null,
     "exception": null,
     "start_time": null,
     "status": "pending"
    },
    "tags": []
   },
   "outputs": [],
   "source": [
    "# Group cells based on the max HTO signal\n",
    "guide_names <- rownames(seurat[[\"guidecapture\"]])\n",
    "num_pcs     <- length(guide_names)"
   ]
  },
  {
   "cell_type": "code",
   "execution_count": null,
   "id": "dab52199",
   "metadata": {
    "papermill": {
     "duration": null,
     "end_time": null,
     "exception": null,
     "start_time": null,
     "status": "pending"
    },
    "tags": []
   },
   "outputs": [],
   "source": [
    "options(repr.plot.width = 30, repr.plot.height = 60)\n",
    "tf_list <- tfs_to_plot\n",
    "\n",
    "Idents(seurat) <- \"guidecapture_classification\"\n",
    "\n",
    "RidgePlot(\n",
    "    seurat,\n",
    "    assay = \"guidecapture\",\n",
    "    features = guide_names,\n",
    "    slot=\"counts\",\n",
    "    ncol = 4\n",
    ") + plot_annotation(title = \"Raw guide counts\") & theme(plot.title = element_text(hjust = 0.5, size = 20))\n",
    "\n",
    "RidgePlot(\n",
    "    seurat,\n",
    "    assay = \"guidecapture\",\n",
    "    features = guide_names,\n",
    "    ncol = 4\n",
    ") + plot_annotation(title = \"Normalized guide counts\") & theme(plot.title = element_text(hjust = 0.5, size = 20))\n",
    "\n",
    "RidgePlot(\n",
    "    seurat,\n",
    "    assay = \"SCT\",\n",
    "    features = tf_list,\n",
    "    ncol = 4,\n",
    "    y.max = .5\n",
    ")+ plot_annotation(title = \"Normalized transcript counts\") & theme(plot.title = element_text(hjust = 0.5, size = 20))"
   ]
  },
  {
   "cell_type": "code",
   "execution_count": null,
   "id": "4efc4866",
   "metadata": {
    "papermill": {
     "duration": null,
     "end_time": null,
     "exception": null,
     "start_time": null,
     "status": "pending"
    },
    "tags": []
   },
   "outputs": [],
   "source": [
    "VlnPlot(\n",
    "    seurat,\n",
    "    assay = \"guidecapture\",\n",
    "    features = guide_names,\n",
    "    slot=\"counts\",\n",
    "    ncol = 4\n",
    ") + plot_annotation(title = \"Raw guide counts\", \n",
    "                    theme = theme(plot.title = element_text(hjust = 0.5, size = 20)))\n"
   ]
  },
  {
   "cell_type": "code",
   "execution_count": null,
   "id": "ddb1f1df",
   "metadata": {
    "papermill": {
     "duration": null,
     "end_time": null,
     "exception": null,
     "start_time": null,
     "status": "pending"
    },
    "tags": []
   },
   "outputs": [],
   "source": [
    "# FeatureScatter(seurat, feature1 = \"GATA5\", feature2 = \"MEOX1\")\n",
    "# FeatureScatter(seurat, feature1 = \"GATA5\", feature2 = \"NEUROG2\")\n",
    "# FeatureScatter(seurat, feature1 = \"MEOX1\", feature2 = \"NEUROG2\")"
   ]
  },
  {
   "cell_type": "code",
   "execution_count": null,
   "id": "a1e92c1d",
   "metadata": {
    "papermill": {
     "duration": null,
     "end_time": null,
     "exception": null,
     "start_time": null,
     "status": "pending"
    },
    "tags": []
   },
   "outputs": [],
   "source": [
    "options(repr.plot.width = 20, repr.plot.height = 8)\n",
    "Idents(seurat) <- \"guidecapture_classification.global\"\n",
    "VlnPlot(seurat, features = \"nCount_RNA\", pt.size = 0.1, log = TRUE)"
   ]
  },
  {
   "cell_type": "code",
   "execution_count": null,
   "id": "77b2946a",
   "metadata": {
    "papermill": {
     "duration": null,
     "end_time": null,
     "exception": null,
     "start_time": null,
     "status": "pending"
    },
    "tags": []
   },
   "outputs": [],
   "source": [
    "# First, we will remove negative cells from the object\n",
    "seurat_subset <- subset(seurat, idents = \"Negative\", invert = TRUE)\n",
    "\n",
    "# Calculate a tSNE embedding of the HTO data\n",
    "DefaultAssay(seurat_subset) <- \"guidecapture\""
   ]
  },
  {
   "cell_type": "code",
   "execution_count": null,
   "id": "34970919",
   "metadata": {
    "papermill": {
     "duration": null,
     "end_time": null,
     "exception": null,
     "start_time": null,
     "status": "pending"
    },
    "tags": []
   },
   "outputs": [],
   "source": [
    "\n",
    "seurat_subset <-\n",
    "    ScaleData(seurat_subset, features = guide_names, verbose = FALSE)\n",
    "\n",
    "# seurat_subset <- RunPCA(\n",
    "#     seurat_subset,\n",
    "#     npcs = num_pcs,\n",
    "#     ndims.print = 1:num_pcs,\n",
    "#     features = guide_names,\n",
    "#     approx = FALSE\n",
    "# )\n",
    "\n",
    "# seurat_subset <-\n",
    "#     RunTSNE(\n",
    "#         seurat_subset,\n",
    "#         dims = 1:num_pcs,\n",
    "#         perplexity = 100,\n",
    "#         check_duplicates = FALSE\n",
    "#     )\n",
    "\n",
    "# seurat_subset <-\n",
    "#     RunUMAP(seurat_subset, dims = 1:num_pcs)\n",
    "\n",
    "#DimPlot(seurat_subset, reduction = \"tsne\")"
   ]
  },
  {
   "cell_type": "code",
   "execution_count": null,
   "id": "a67f8c03",
   "metadata": {
    "papermill": {
     "duration": null,
     "end_time": null,
     "exception": null,
     "start_time": null,
     "status": "pending"
    },
    "tags": []
   },
   "outputs": [],
   "source": [
    "HTOHeatmap(seurat, assay = \"guidecapture\")"
   ]
  },
  {
   "cell_type": "code",
   "execution_count": null,
   "id": "8b145c6f",
   "metadata": {
    "papermill": {
     "duration": null,
     "end_time": null,
     "exception": null,
     "start_time": null,
     "status": "pending"
    },
    "tags": []
   },
   "outputs": [],
   "source": [
    "SaveH5Seurat(seurat, h5_w_gcap_name, overwrite = TRUE, verbose = FALSE)"
   ]
  },
  {
   "attachments": {},
   "cell_type": "markdown",
   "id": "155db212",
   "metadata": {
    "papermill": {
     "duration": null,
     "end_time": null,
     "exception": null,
     "start_time": null,
     "status": "pending"
    },
    "tags": []
   },
   "source": [
    "# Inspect results"
   ]
  },
  {
   "cell_type": "code",
   "execution_count": null,
   "id": "271b1926",
   "metadata": {
    "papermill": {
     "duration": null,
     "end_time": null,
     "exception": null,
     "start_time": null,
     "status": "pending"
    },
    "tags": []
   },
   "outputs": [],
   "source": [
    "# Label each cell with the number of guides detected in it by HTOdemux\n",
    "seurat$perturb_targets_detected_in_cell <- colSums(sapply(seurat$guidecapture_classification, str_detect, tfs_w_ntctl))"
   ]
  },
  {
   "cell_type": "code",
   "execution_count": null,
   "id": "5fef65da",
   "metadata": {
    "papermill": {
     "duration": null,
     "end_time": null,
     "exception": null,
     "start_time": null,
     "status": "pending"
    },
    "tags": []
   },
   "outputs": [],
   "source": [
    "# Split the surat obj into singlets, doublets, negatives\n",
    "# Singlets have only one target gene detected, but can have both guides targeting it.\n",
    "seurat_negatives <- subset(seurat, idents = \"Negative\")\n",
    "seurat_singlets  <- subset(seurat, perturb_targets_detected_in_cell == 1)\n",
    "seurat_doublets  <- subset(seurat, perturb_targets_detected_in_cell > 1)"
   ]
  },
  {
   "cell_type": "code",
   "execution_count": null,
   "id": "21bc435d",
   "metadata": {
    "papermill": {
     "duration": null,
     "end_time": null,
     "exception": null,
     "start_time": null,
     "status": "pending"
    },
    "tags": []
   },
   "outputs": [],
   "source": [
    "# Assign the target gene name to singlets\n",
    "x <- seurat_singlets$guidecapture_classification\n",
    "target_assignments = sapply(tfs_w_ntctl, function(y) grep(y,x))\n",
    "\n",
    "empty_vec = vector(\"character\", length(x))\n",
    "for(tf in names(target_assignments)) {\n",
    "    indexes = target_assignments[[tf]]\n",
    "    empty_vec[indexes] = tf\n",
    "}"
   ]
  },
  {
   "cell_type": "code",
   "execution_count": null,
   "id": "883c1499",
   "metadata": {
    "papermill": {
     "duration": null,
     "end_time": null,
     "exception": null,
     "start_time": null,
     "status": "pending"
    },
    "tags": []
   },
   "outputs": [],
   "source": [
    "Idents(seurat_singlets) <- empty_vec\n",
    "Idents(seurat_doublets) <- seurat_doublets@meta.data$guidecapture_classification"
   ]
  },
  {
   "attachments": {},
   "cell_type": "markdown",
   "id": "808de45b",
   "metadata": {
    "papermill": {
     "duration": null,
     "end_time": null,
     "exception": null,
     "start_time": null,
     "status": "pending"
    },
    "tags": []
   },
   "source": [
    "### Singlets"
   ]
  },
  {
   "cell_type": "code",
   "execution_count": null,
   "id": "0fc39661",
   "metadata": {
    "papermill": {
     "duration": null,
     "end_time": null,
     "exception": null,
     "start_time": null,
     "status": "pending"
    },
    "tags": []
   },
   "outputs": [],
   "source": [
    "singlet_barcodes <- Cells(seurat_singlets)\n",
    "select_singlets  <- df_guide$barcode_dash %in% singlet_barcodes\n",
    "df_singlets      <- df_guide[select_singlets, ]"
   ]
  },
  {
   "cell_type": "code",
   "execution_count": null,
   "id": "27457c02",
   "metadata": {
    "papermill": {
     "duration": null,
     "end_time": null,
     "exception": null,
     "start_time": null,
     "status": "pending"
    },
    "tags": []
   },
   "outputs": [],
   "source": [
    "options(repr.plot.width = 16, repr.plot.height = 6)\n",
    "\n",
    "plot_n_guides <- ggplot(df_singlets, aes(x = n_guides)) +\n",
    "    geom_histogram(binwidth = 1) +\n",
    "    labs(title = \"Singlets, guide counts\", x = \"#guides captured\") +\n",
    "    labs(y = \"#cells\")\n",
    "\n",
    "plot_dominant <- ggplot(df_singlets, aes(x = percent_dominant_gene)) +\n",
    "    geom_histogram(binwidth = 1) +\n",
    "    labs(title = \"Singlets, %dominant gene\", x = \"%dominant gene\") +\n",
    "    labs(y = \"#cells\")\n",
    "\n",
    "plot_n_guides | plot_dominant"
   ]
  },
  {
   "attachments": {},
   "cell_type": "markdown",
   "id": "9c902ae3",
   "metadata": {
    "papermill": {
     "duration": null,
     "end_time": null,
     "exception": null,
     "start_time": null,
     "status": "pending"
    },
    "tags": []
   },
   "source": [
    "### Negatives"
   ]
  },
  {
   "cell_type": "code",
   "execution_count": null,
   "id": "f48b1d2a",
   "metadata": {
    "papermill": {
     "duration": null,
     "end_time": null,
     "exception": null,
     "start_time": null,
     "status": "pending"
    },
    "tags": []
   },
   "outputs": [],
   "source": [
    "negative_barcodes <- Cells(seurat_negatives)\n",
    "select_negatives  <- df_guide$barcode_dash %in% negative_barcodes\n",
    "df_negatives      <- df_guide[select_negatives, ]"
   ]
  },
  {
   "cell_type": "code",
   "execution_count": null,
   "id": "52a5452a",
   "metadata": {
    "papermill": {
     "duration": null,
     "end_time": null,
     "exception": null,
     "start_time": null,
     "status": "pending"
    },
    "tags": []
   },
   "outputs": [],
   "source": [
    "options(repr.plot.width = 16, repr.plot.height = 6)\n",
    "\n",
    "plot_n_guides <- ggplot(df_negatives, aes(x = n_guides)) +\n",
    "    geom_histogram(binwidth = 1) +\n",
    "    labs(title = \"Negatives, guide counts\", x = \"#guides captured\") +\n",
    "    labs(y = \"#cells\")\n",
    "\n",
    "plot_dominant <- ggplot(df_negatives, aes(x = percent_dominant_gene)) +\n",
    "    geom_histogram(binwidth = 1) +\n",
    "    labs(title = \"Negatives, %dominant gene\", x = \"%dominant gene\") +\n",
    "    labs(y = \"#cells\")\n",
    "\n",
    "plot_n_guides | plot_dominant"
   ]
  },
  {
   "cell_type": "code",
   "execution_count": null,
   "id": "7027f035",
   "metadata": {
    "papermill": {
     "duration": null,
     "end_time": null,
     "exception": null,
     "start_time": null,
     "status": "pending"
    },
    "tags": []
   },
   "outputs": [],
   "source": [
    "sample_n(df_negatives, 10)"
   ]
  },
  {
   "cell_type": "code",
   "execution_count": null,
   "id": "4fc04cbf",
   "metadata": {
    "papermill": {
     "duration": null,
     "end_time": null,
     "exception": null,
     "start_time": null,
     "status": "pending"
    },
    "tags": []
   },
   "outputs": [],
   "source": [
    "#hist(df_singlets$GATA5)"
   ]
  },
  {
   "cell_type": "code",
   "execution_count": null,
   "id": "34f19728",
   "metadata": {
    "papermill": {
     "duration": null,
     "end_time": null,
     "exception": null,
     "start_time": null,
     "status": "pending"
    },
    "tags": []
   },
   "outputs": [],
   "source": [
    "library(cluster)\n",
    "library(fitdistrplus)\n",
    "\n",
    "MaxN <- function(x, N = 2){\n",
    "  len <- length(x)\n",
    "  if (N > len) {\n",
    "    warning('N greater than length(x).  Setting N=length(x)')\n",
    "    N <- length(x)\n",
    "  }\n",
    "  sort(x, partial = len - N + 1)[len - N + 1]\n",
    "}\n",
    "\n",
    "myHTODemux <- function(\n",
    "  object,\n",
    "  assay = \"HTO\",\n",
    "  positive.quantile = 0.99,\n",
    "  init = NULL,\n",
    "  nstarts = 100,\n",
    "  kfunc = \"clara\",\n",
    "  nsamples = 100,\n",
    "  seed = 42,\n",
    "  verbose = TRUE\n",
    ") {\n",
    "  if (!is.null(x = seed)) {\n",
    "    set.seed(seed = seed)\n",
    "  }\n",
    "  #initial clustering\n",
    "  assay <- assay %||% DefaultAssay(object = object)\n",
    "  data <- GetAssayData(object = object, assay = assay)\n",
    "  counts <- GetAssayData(\n",
    "    object = object,\n",
    "    assay = assay,\n",
    "    slot = 'counts'\n",
    "  )[, colnames(x = object)]\n",
    "  counts <- as.matrix(x = counts)\n",
    "  ncenters <- init %||% (nrow(x = data) + 1)\n",
    "  switch(\n",
    "    EXPR = kfunc,\n",
    "    'kmeans' = {\n",
    "      init.clusters <- kmeans(\n",
    "        x = t(x = GetAssayData(object = object, assay = assay)),\n",
    "        centers = ncenters,\n",
    "        nstart = nstarts\n",
    "      )\n",
    "      #identify positive and negative signals for all HTO\n",
    "      Idents(object = object, cells = names(x = init.clusters$cluster)) <- init.clusters$cluster\n",
    "    },\n",
    "    'clara' = {\n",
    "      #use fast k-medoid clustering\n",
    "      init.clusters <- clara(\n",
    "        x = t(x = GetAssayData(object = object, assay = assay)),\n",
    "        k = ncenters,\n",
    "        samples = nsamples\n",
    "      )\n",
    "      #identify positive and negative signals for all HTO\n",
    "      Idents(object = object, cells = names(x = init.clusters$clustering), drop = TRUE) <- init.clusters$clustering\n",
    "    },\n",
    "    stop(\"Unknown k-means function \", kfunc, \", please choose from 'kmeans' or 'clara'\")\n",
    "  )\n",
    "  #average hto signals per cluster\n",
    "  #work around so we don't average all the RNA levels which takes time\n",
    "  average.expression <- AverageExpression(\n",
    "    object = object,\n",
    "    assays = assay,\n",
    "    verbose = FALSE\n",
    "  )[[assay]]\n",
    "  #checking for any cluster with all zero counts for any barcode\n",
    "  if (sum(average.expression == 0) > 0) {\n",
    "    stop(\"Cells with zero counts exist as a cluster.\")\n",
    "  }\n",
    "  #create a matrix to store classification result\n",
    "  discrete <- GetAssayData(object = object, assay = assay)\n",
    "  discrete[discrete > 0] <- 0\n",
    "  # for each HTO, we will use the minimum cluster for fitting\n",
    "  for (iter in rownames(x = data)) {\n",
    "    values <- counts[iter, colnames(object)]\n",
    "    #commented out if we take all but the top cluster as background\n",
    "    #values_negative=values[setdiff(object@cell.names,WhichCells(object,which.max(average.expression[iter,])))]\n",
    "    values.use <- values[WhichCells(\n",
    "      object = object,\n",
    "      idents = levels(x = Idents(object = object))[[which.min(x = average.expression[iter, ])]]\n",
    "    )]\n",
    "    fit <- suppressWarnings(expr = fitdist(data = values.use, distr = \"nbinom\"))\n",
    "    cutoff <- as.numeric(x = quantile(x = fit, probs = positive.quantile)$quantiles[1])\n",
    "    discrete[iter, names(x = which(x = values > cutoff))] <- 1\n",
    "    if (verbose) {\n",
    "      message(paste0(\"Cutoff for \", iter, \" : \", cutoff, \" reads\"))\n",
    "    }\n",
    "  }\n",
    "  # now assign cells to HTO based on discretized values\n",
    "  npositive <- colSums(x = discrete)\n",
    "  classification.global <- npositive\n",
    "  classification.global[npositive == 0] <- \"Negative\"\n",
    "  classification.global[npositive == 1] <- \"Singlet\"\n",
    "  classification.global[npositive > 1] <- \"Doublet\"\n",
    "  donor.id = rownames(x = data)\n",
    "  hash.max <- apply(X = data, MARGIN = 2, FUN = max)\n",
    "  hash.maxID <- apply(X = data, MARGIN = 2, FUN = which.max)\n",
    "  hash.second <- apply(X = data, MARGIN = 2, FUN = MaxN, N = 2)\n",
    "  hash.maxID <- as.character(x = donor.id[sapply(\n",
    "    X = 1:ncol(x = data),\n",
    "    FUN = function(x) {\n",
    "      return(which(x = data[, x] == hash.max[x])[1])\n",
    "    }\n",
    "  )])\n",
    "  hash.secondID <- as.character(x = donor.id[sapply(\n",
    "    X = 1:ncol(x = data),\n",
    "    FUN = function(x) {\n",
    "      return(which(x = data[, x] == hash.second[x])[1])\n",
    "    }\n",
    "  )])\n",
    "  hash.margin <- hash.max - hash.second\n",
    "  doublet_id <- sapply(\n",
    "    X = 1:length(x = hash.maxID),\n",
    "    FUN = function(x) {\n",
    "      return(paste(sort(x = c(hash.maxID[x], hash.secondID[x])), collapse = \"_\"))\n",
    "    }\n",
    "  )\n",
    "  # doublet_names <- names(x = table(doublet_id))[-1] # Not used\n",
    "  classification <- classification.global\n",
    "  classification[classification.global == \"Negative\"] <- \"Negative\"\n",
    "  classification[classification.global == \"Singlet\"] <- hash.maxID[which(x = classification.global == \"Singlet\")]\n",
    "  classification[classification.global == \"Doublet\"] <- doublet_id[which(x = classification.global == \"Doublet\")]\n",
    "  classification.metadata <- data.frame(\n",
    "    hash.maxID,\n",
    "    hash.secondID,\n",
    "    hash.margin,\n",
    "    classification,\n",
    "    classification.global\n",
    "  )\n",
    "  colnames(x = classification.metadata) <- paste(\n",
    "    assay,\n",
    "    c('maxID', 'secondID', 'margin', 'classification', 'classification.global'),\n",
    "    sep = '_'\n",
    "  )\n",
    "  object <- AddMetaData(object = object, metadata = classification.metadata)\n",
    "  Idents(object) <- paste0(assay, '_classification')\n",
    "  # Idents(object, cells = rownames(object@meta.data[object@meta.data$classification.global == \"Doublet\", ])) <- \"Doublet\"\n",
    "  doublets <- rownames(x = object[[]])[which(object[[paste0(assay, \"_classification.global\")]] == \"Doublet\")]\n",
    "  Idents(object = object, cells = doublets) <- 'Doublet'\n",
    "  # object@meta.data$hash.ID <- Idents(object)\n",
    "  object$hash.ID <- Idents(object = object)\n",
    "  return(discrete)\n",
    "}\n"
   ]
  },
  {
   "cell_type": "code",
   "execution_count": null,
   "id": "01c65586",
   "metadata": {
    "papermill": {
     "duration": null,
     "end_time": null,
     "exception": null,
     "start_time": null,
     "status": "pending"
    },
    "tags": []
   },
   "outputs": [],
   "source": [
    "seurat_alt <- subset(seurat, cells = Cells(seurat))\n",
    "disc <- myHTODemux(seurat_alt, assay = \"guidecapture\", positive.quantile = 0.99)"
   ]
  },
  {
   "attachments": {},
   "cell_type": "markdown",
   "id": "0b45f7e5",
   "metadata": {
    "papermill": {
     "duration": null,
     "end_time": null,
     "exception": null,
     "start_time": null,
     "status": "pending"
    },
    "tags": []
   },
   "source": [
    "# Visualize guides by clusters"
   ]
  },
  {
   "attachments": {},
   "cell_type": "markdown",
   "id": "6cb7cd13",
   "metadata": {
    "papermill": {
     "duration": null,
     "end_time": null,
     "exception": null,
     "start_time": null,
     "status": "pending"
    },
    "tags": []
   },
   "source": [
    "## Singlets only"
   ]
  },
  {
   "cell_type": "code",
   "execution_count": null,
   "id": "fdaa13fc",
   "metadata": {
    "papermill": {
     "duration": null,
     "end_time": null,
     "exception": null,
     "start_time": null,
     "status": "pending"
    },
    "tags": []
   },
   "outputs": [],
   "source": [
    "options(repr.plot.width = 23, repr.plot.height = 8)\n",
    "#Idents(seurat_singlets) <- seurat_singlets@meta.data$guidecapture_classification\n",
    "\n",
    "p1 <- DimPlot(seurat_singlets, reduction = \"umap.rna\", label = TRUE, label.size = 6, repel = TRUE) + ggtitle(\"RNA\")\n",
    "p2 <- DimPlot(seurat_singlets, reduction = \"umap.atac\", label = TRUE, label.size = 6, repel = TRUE) + ggtitle(\"ATAC\")\n",
    "p3 <- DimPlot(seurat_singlets, reduction = \"wnn.umap\", label = TRUE, label.size = 6, repel = TRUE) + ggtitle(\"WNN\")\n",
    "p1 + p2 + p3 & plot_annotation(title = \"Guide Capture, singlets\") & \n",
    "theme(plot.title = element_text(hjust = 0.5, size = 20)) +\n",
    "theme(axis.title = element_text(size = 18))   "
   ]
  },
  {
   "cell_type": "code",
   "execution_count": null,
   "id": "394afd61",
   "metadata": {
    "papermill": {
     "duration": null,
     "end_time": null,
     "exception": null,
     "start_time": null,
     "status": "pending"
    },
    "tags": []
   },
   "outputs": [],
   "source": [
    "options(repr.plot.width = 70, repr.plot.height = 20)\n",
    "p1 <- DimPlot(seurat_doublets, reduction = \"umap.rna\", label = FALSE, label.size = 6) + ggtitle(\"RNA\")\n",
    "p2 <- DimPlot(seurat_doublets, reduction = \"umap.atac\", label = FALSE, label.size = 6) + ggtitle(\"ATAC\")\n",
    "p1 + p2 & plot_annotation(title = \"Guide Capture, doublets\") &\n",
    "theme(plot.title = element_text(hjust = 0.5, size = 20))\n",
    "\n",
    "#p3 <- DimPlot(seurat_doublets, reduction = \"wnn.umap\", label = TRUE, label.size = 6, repel = TRUE) + ggtitle(\"WNN\")"
   ]
  },
  {
   "cell_type": "code",
   "execution_count": null,
   "id": "30c7fcea",
   "metadata": {
    "papermill": {
     "duration": null,
     "end_time": null,
     "exception": null,
     "start_time": null,
     "status": "pending"
    },
    "tags": []
   },
   "outputs": [],
   "source": [
    "options(repr.plot.width = 54, repr.plot.height = 45)\n",
    "tf_list <- tfs_to_plot\n",
    "\n",
    "FeaturePlot(\n",
    "    seurat_singlets,\n",
    "    features = tf_list, \n",
    "    split.by = 'ident', \n",
    "    reduction = 'umap.rna', \n",
    "    cols = c(\"grey\", \"red\"),\n",
    "    keep.scale = \"feature\"\n",
    ")"
   ]
  },
  {
   "cell_type": "code",
   "execution_count": null,
   "id": "5735926a",
   "metadata": {
    "papermill": {
     "duration": null,
     "end_time": null,
     "exception": null,
     "start_time": null,
     "status": "pending"
    },
    "tags": []
   },
   "outputs": [],
   "source": [
    "options(repr.plot.width = 36, repr.plot.height = 12)\n",
    "guide_list <- gsub(\"_\", \"-\", guides_to_plot)\n",
    "DefaultAssay(seurat_singlets) <- \"guidecapture\"\n",
    "\n",
    "FeaturePlot(\n",
    "    seurat_singlets,\n",
    "    features = guide_list,\n",
    "    reduction = 'umap.rna',\n",
    "    cols = c(\"grey\", \"red\"),\n",
    "    keep.scale = \"feature\",\n",
    "    ncol = length(guide_list)/2\n",
    ") +\n",
    "plot_annotation(title = \"Guide Capture, singlets\") &\n",
    "theme(plot.title = element_text(hjust = 0.5, size = 20))\n",
    "\n",
    "options(repr.plot.width = 50, repr.plot.height = 6)\n",
    "tf_list <- c(tfs_to_plot, \"POU5F1\")\n",
    "DefaultAssay(seurat_singlets) <- \"SCT\"\n",
    "FeaturePlot(\n",
    "    seurat_singlets,\n",
    "    features = tf_list,\n",
    "    reduction = 'umap.rna',\n",
    "    cols = c(\"grey\", \"red\"),\n",
    "    keep.scale = \"feature\",\n",
    "    ncol = length(tf_list)\n",
    ") +\n",
    "plot_annotation(title = \"RNA, singlets\") &\n",
    "theme(plot.title = element_text(hjust = 0.5, size = 20))\n",
    "\n"
   ]
  },
  {
   "cell_type": "code",
   "execution_count": null,
   "id": "84c196a1",
   "metadata": {
    "papermill": {
     "duration": null,
     "end_time": null,
     "exception": null,
     "start_time": null,
     "status": "pending"
    },
    "tags": []
   },
   "outputs": [],
   "source": [
    "tfs_to_plot"
   ]
  },
  {
   "cell_type": "code",
   "execution_count": null,
   "id": "b76ac14e",
   "metadata": {
    "papermill": {
     "duration": null,
     "end_time": null,
     "exception": null,
     "start_time": null,
     "status": "pending"
    },
    "tags": []
   },
   "outputs": [],
   "source": [
    "library(patchwork)\n",
    "options(repr.plot.width = 32, repr.plot.height = 12)\n",
    "tf_list <- tfs_to_plot\n",
    "guide_list <- gsub(\"_\", \"-\", guides_to_plot)\n",
    "\n",
    "DefaultAssay(seurat_singlets) <- \"guidecapture\"\n",
    "FeaturePlot(\n",
    "    seurat_singlets,\n",
    "    features = guide_list,\n",
    "    reduction = 'umap.atac',\n",
    "    cols = c(\"grey\", \"red\"),\n",
    "    keep.scale = \"all\",\n",
    "    ncol = length(guide_list)/2\n",
    ") +\n",
    "plot_annotation(title = \"Guide Capture\") &\n",
    "theme(plot.title = element_text(hjust = 0.5, size = 20))\n",
    "\n",
    "FeaturePlot(\n",
    "    seurat_singlets,\n",
    "    features =guide_list,\n",
    "    reduction = 'umap.rna',\n",
    "    cols = c(\"grey\", \"red\"),\n",
    "    keep.scale = \"all\",\n",
    "    ncol = length(guide_list)/2\n",
    ") +\n",
    "plot_annotation(title = \"Guide Capture\") &\n",
    "theme(plot.title = element_text(hjust = 0.5, size = 20))\n",
    "\n",
    "FeaturePlot(\n",
    "    seurat_singlets,\n",
    "    features = guide_list,\n",
    "    reduction = 'wnn.umap',\n",
    "    cols = c(\"grey\", \"red\"),\n",
    "    keep.scale = \"all\",\n",
    "    ncol = length(guide_list)/2\n",
    ") +\n",
    "plot_annotation(title = \"Guide Capture\") &\n",
    "theme(plot.title = element_text(hjust = 0.5, size = 20))\n",
    "\n"
   ]
  },
  {
   "cell_type": "code",
   "execution_count": null,
   "id": "d51e5909",
   "metadata": {
    "papermill": {
     "duration": null,
     "end_time": null,
     "exception": null,
     "start_time": null,
     "status": "pending"
    },
    "tags": []
   },
   "outputs": [],
   "source": [
    "\n",
    "options(repr.plot.width = 50, repr.plot.height = 12)\n",
    "tf_list <- tfs_to_plot\n",
    "DefaultAssay(seurat_singlets) <- \"SCT\"\n",
    "\n",
    "FeaturePlot(\n",
    "    seurat_singlets,\n",
    "    features = tf_list,\n",
    "    reduction = 'umap.rna',\n",
    "    cols = c(\"grey\", \"red\"),\n",
    "    keep.scale = \"all\",\n",
    "    ncol = length(tf_list)\n",
    ") +\n",
    "plot_annotation(title = \"RNA\") &\n",
    "theme(plot.title = element_text(hjust = 0.5, size = 20))\n",
    "\n",
    "FeaturePlot(\n",
    "    seurat_singlets,\n",
    "    features = tf_list,\n",
    "    reduction = 'umap.atac',\n",
    "    cols = c(\"grey\", \"red\"),\n",
    "    keep.scale = \"all\",\n",
    "    ncol = length(tf_list)\n",
    ") +\n",
    "plot_annotation(title = \"RNA\") &\n",
    "theme(plot.title = element_text(hjust = 0.5, size = 20))\n",
    "\n",
    "FeaturePlot(\n",
    "    seurat_singlets,\n",
    "    features = tf_list,\n",
    "    reduction = 'wnn.umap',\n",
    "    cols = c(\"grey\", \"red\"),\n",
    "    keep.scale = \"all\",\n",
    "    ncol = length(tf_list)\n",
    ") +\n",
    "plot_annotation(title = \"RNA\") &\n",
    "theme(plot.title = element_text(hjust = 0.5, size = 20))"
   ]
  },
  {
   "attachments": {},
   "cell_type": "markdown",
   "id": "cf1410a3",
   "metadata": {
    "papermill": {
     "duration": null,
     "end_time": null,
     "exception": null,
     "start_time": null,
     "status": "pending"
    },
    "tags": []
   },
   "source": [
    "## Doublets only"
   ]
  },
  {
   "cell_type": "code",
   "execution_count": null,
   "id": "9b5d4fda",
   "metadata": {
    "papermill": {
     "duration": null,
     "end_time": null,
     "exception": null,
     "start_time": null,
     "status": "pending"
    },
    "tags": []
   },
   "outputs": [],
   "source": [
    "options(repr.plot.width = 8, repr.plot.height = 8)\n",
    "\n",
    "Idents(seurat_doublets) <- seurat_doublets@meta.data$guidecapture_classification\n",
    "\n",
    "plot <- DimPlot(\n",
    "    seurat_doublets,\n",
    "    reduction = \"umap.rna\"\n",
    ")\n",
    "LabelClusters(\n",
    "    plot = plot,\n",
    "    id = \"ident\"\n",
    ")"
   ]
  },
  {
   "cell_type": "code",
   "execution_count": null,
   "id": "47368cb8",
   "metadata": {
    "papermill": {
     "duration": null,
     "end_time": null,
     "exception": null,
     "start_time": null,
     "status": "pending"
    },
    "tags": []
   },
   "outputs": [],
   "source": [
    "# options(repr.plot.width = 48, repr.plot.height = 15)\n",
    "# tf_list <- tfs_to_plot\n",
    "# DefaultAssay(seurat_singlets) <- \"SCT\"\n",
    "\n",
    "# FeaturePlot(\n",
    "#     seurat_doublets,\n",
    "#     features = tf_list, \n",
    "#     split.by = 'ident', \n",
    "#     reduction = 'umap.rna', \n",
    "#     cols = c(\"grey\", \"red\"),\n",
    "#     keep.scale = \"all\"\n",
    "# )"
   ]
  },
  {
   "attachments": {},
   "cell_type": "markdown",
   "id": "82ce9ea7",
   "metadata": {
    "papermill": {
     "duration": null,
     "end_time": null,
     "exception": null,
     "start_time": null,
     "status": "pending"
    },
    "tags": []
   },
   "source": [
    "# Get cell counts in clusters"
   ]
  },
  {
   "cell_type": "code",
   "execution_count": null,
   "id": "edc4ac14",
   "metadata": {
    "papermill": {
     "duration": null,
     "end_time": null,
     "exception": null,
     "start_time": null,
     "status": "pending"
    },
    "tags": []
   },
   "outputs": [],
   "source": [
    "Assays(seurat_singlets)"
   ]
  },
  {
   "cell_type": "code",
   "execution_count": null,
   "id": "a6c0f46b",
   "metadata": {
    "papermill": {
     "duration": null,
     "end_time": null,
     "exception": null,
     "start_time": null,
     "status": "pending"
    },
    "tags": []
   },
   "outputs": [],
   "source": [
    "\n",
    "DefaultAssay(seurat_singlets) <- \"RNA\"\n",
    "seurat_singlets@meta.data$seurat_clusters\n",
    "seurat_singlets <- StashIdent(seurat_singlets, save.name = \"current.ident\")"
   ]
  },
  {
   "cell_type": "code",
   "execution_count": null,
   "id": "8ed5b43e",
   "metadata": {
    "papermill": {
     "duration": null,
     "end_time": null,
     "exception": null,
     "start_time": null,
     "status": "pending"
    },
    "tags": []
   },
   "outputs": [],
   "source": [
    "options(repr.plot.width = 7, repr.plot.height = 8)\n",
    "seurat_singlets <- SetIdent(seurat_singlets, value = seurat_singlets@meta.data$seurat_clusters)\n",
    "DimPlot(seurat_singlets, reduction = 'umap.rna', label = TRUE)"
   ]
  },
  {
   "cell_type": "code",
   "execution_count": null,
   "id": "972bdaa9",
   "metadata": {
    "papermill": {
     "duration": null,
     "end_time": null,
     "exception": null,
     "start_time": null,
     "status": "pending"
    },
    "tags": []
   },
   "outputs": [],
   "source": [
    "cluster_counts <- table(Idents(seurat_singlets))\n",
    "as.data.frame(cluster_counts)\n"
   ]
  },
  {
   "cell_type": "code",
   "execution_count": null,
   "id": "93050b33",
   "metadata": {
    "papermill": {
     "duration": null,
     "end_time": null,
     "exception": null,
     "start_time": null,
     "status": "pending"
    },
    "tags": []
   },
   "outputs": [],
   "source": [
    "#cluster_counts[['2']] + cluster_counts[['5']] + cluster_counts[['11']] + cluster_counts[['13']] + cluster_counts[['14']]"
   ]
  },
  {
   "cell_type": "code",
   "execution_count": null,
   "id": "39c341c1",
   "metadata": {
    "papermill": {
     "duration": null,
     "end_time": null,
     "exception": null,
     "start_time": null,
     "status": "pending"
    },
    "tags": []
   },
   "outputs": [],
   "source": [
    "DefaultAssay(seurat_singlets) <- \"guidecapture\"\n",
    "Idents(seurat_singlets) <- \"guidecapture_classification\""
   ]
  },
  {
   "cell_type": "code",
   "execution_count": null,
   "id": "73187f2d",
   "metadata": {
    "papermill": {
     "duration": null,
     "end_time": null,
     "exception": null,
     "start_time": null,
     "status": "pending"
    },
    "tags": []
   },
   "outputs": [],
   "source": [
    "# seurat_ngn2 <- subset(seurat_singlets, idents = tfs_w_ntctl[1])\n",
    "# hist(seurat_ngn2@meta.data$SCT.weight)"
   ]
  },
  {
   "cell_type": "code",
   "execution_count": null,
   "id": "20e1a096",
   "metadata": {
    "papermill": {
     "duration": null,
     "end_time": null,
     "exception": null,
     "start_time": null,
     "status": "pending"
    },
    "tags": []
   },
   "outputs": [],
   "source": [
    "#hist(seurat_ngn2$SCT@data[tfs_w_ntctl[1],])"
   ]
  },
  {
   "cell_type": "code",
   "execution_count": null,
   "id": "0695f1a4",
   "metadata": {
    "papermill": {
     "duration": null,
     "end_time": null,
     "exception": null,
     "start_time": null,
     "status": "pending"
    },
    "tags": []
   },
   "outputs": [],
   "source": [
    "Idents(seurat_singlets) <- \"guidecapture_classification\"\n",
    "options(repr.plot.width = 30, repr.plot.height = 10)\n",
    "tf_list <- tfs_to_plot\n",
    "\n",
    "Idents(seurat) <- \"guidecapture_classification\"\n",
    "RidgePlot(\n",
    "    seurat_singlets,\n",
    "    assay = \"guidecapture\",\n",
    "    features = guide_names,\n",
    "    ncol = 4\n",
    ") +\n",
    "plot_annotation(title = \"Guide capture, singlets\") &\n",
    "theme(plot.title = element_text(hjust = 0.5, size = 20))\n",
    "\n",
    "\n",
    "RidgePlot(\n",
    "    seurat_singlets,\n",
    "    assay = \"SCT\",\n",
    "    features = tf_list,\n",
    "    ncol = 4,\n",
    ") +\n",
    "plot_annotation(title = \"Gene expression, singlets\") &\n",
    "theme(plot.title = element_text(hjust = 0.5, size = 20))\n"
   ]
  },
  {
   "attachments": {},
   "cell_type": "markdown",
   "id": "489c1c2f",
   "metadata": {
    "papermill": {
     "duration": null,
     "end_time": null,
     "exception": null,
     "start_time": null,
     "status": "pending"
    },
    "tags": [],
    "vscode": {
     "languageId": "r"
    }
   },
   "source": [
    "# How many singlets express both Protospacer1 and 2?"
   ]
  },
  {
   "cell_type": "code",
   "execution_count": null,
   "id": "787e6037",
   "metadata": {
    "papermill": {
     "duration": null,
     "end_time": null,
     "exception": null,
     "start_time": null,
     "status": "pending"
    },
    "tags": []
   },
   "outputs": [],
   "source": [
    "singlet_barcodes <- Cells(seurat_singlets)"
   ]
  },
  {
   "cell_type": "code",
   "execution_count": null,
   "id": "aafe14a2",
   "metadata": {
    "papermill": {
     "duration": null,
     "end_time": null,
     "exception": null,
     "start_time": null,
     "status": "pending"
    },
    "tags": []
   },
   "outputs": [],
   "source": [
    "select_singlets <- df_guide$barcode_dash %in% singlet_barcodes\n",
    "df_singlets     <- df_guide[select_singlets,]"
   ]
  },
  {
   "cell_type": "code",
   "execution_count": null,
   "id": "5d700672",
   "metadata": {
    "papermill": {
     "duration": null,
     "end_time": null,
     "exception": null,
     "start_time": null,
     "status": "pending"
    },
    "tags": []
   },
   "outputs": [],
   "source": [
    "singlets_metadata <- seurat_singlets@meta.data['guidecapture_classification']\n",
    "singlets_metadata['barcode_dash'] <- rownames(singlets_metadata)\n",
    "head(singlets_metadata)"
   ]
  },
  {
   "cell_type": "code",
   "execution_count": null,
   "id": "feb1bd0b",
   "metadata": {
    "papermill": {
     "duration": null,
     "end_time": null,
     "exception": null,
     "start_time": null,
     "status": "pending"
    },
    "tags": []
   },
   "outputs": [],
   "source": [
    "df_singlets <- merge(df_singlets, singlets_metadata, by = \"barcode_dash\")"
   ]
  },
  {
   "cell_type": "code",
   "execution_count": null,
   "id": "c7dff19a",
   "metadata": {
    "papermill": {
     "duration": null,
     "end_time": null,
     "exception": null,
     "start_time": null,
     "status": "pending"
    },
    "tags": []
   },
   "outputs": [],
   "source": [
    "head(df_singlets)"
   ]
  },
  {
   "cell_type": "code",
   "execution_count": null,
   "id": "75f47ce9",
   "metadata": {
    "papermill": {
     "duration": null,
     "end_time": null,
     "exception": null,
     "start_time": null,
     "status": "pending"
    },
    "tags": []
   },
   "outputs": [],
   "source": [
    "# # Count the singlets where both PSs are captured\n",
    "\n",
    "# fracs_list <- list()\n",
    "# guide_list <- c(\"NEUROG2\", \"MEOX1\", \"GATA5\", \"NTCTL\")\n",
    "# ps_list <- list(\n",
    "#             'NEUROG2_pss' = c(\"NEUROG2_1\", \"NEUROG2_2\"),\n",
    "#             'MEOX1_pss' = c(\"MEOX1_1\", \"MEOX1_2\"),\n",
    "#             'GATA5_pss' = c(\"GATA5_1\", \"GATA5_2\"),\n",
    "#             'NTCTL_pss' = c(\"NTCTL_1\", \"NTCTL_2\")\n",
    "#         )\n",
    "\n",
    "# for(guide in guide_list) {\n",
    "#     ps_col_names <- c(paste0(guide, \"_1\"), paste0(guide, \"_2\"))\n",
    "#     select_guide <- df_singlets$guidecapture_classification == guide\n",
    "    \n",
    "#     for(ps_pair in names(ps_list)){ \n",
    "#         ps_col_names <- ps_list[[ps_pair]]\n",
    "#         df_dummy <- df_singlets[select_guide, ps_col_names]    \n",
    "#         both_ps_captured <- (df_dummy[,1] > 0) & (df_dummy[,2] > 0)\n",
    "#         frac_dual_ps <- round(sum(both_ps_captured)/nrow(df_dummy),2)\n",
    "#         #print(paste(guide, ps_pair, frac_dual_ps))\n",
    "#         fracs_list <- rbind(fracs_list, list(guide, ps_pair, frac_dual_ps))\n",
    "#     }\n",
    "\n",
    "    \n",
    "# }"
   ]
  },
  {
   "cell_type": "code",
   "execution_count": null,
   "id": "d50b6004",
   "metadata": {
    "papermill": {
     "duration": null,
     "end_time": null,
     "exception": null,
     "start_time": null,
     "status": "pending"
    },
    "tags": []
   },
   "outputs": [],
   "source": [
    "# For singlets\n",
    "# V1 is assigned barcode\n",
    "# V2 is the name of the gene/guide where both protospacers are detected in barcode\n",
    "# V3 is the fraction of barcodes with the both protospacers of gene/guide in V2 \n",
    "\n",
    "# as.data.frame(fracs_list)"
   ]
  },
  {
   "cell_type": "code",
   "execution_count": null,
   "id": "3afdc846",
   "metadata": {
    "papermill": {
     "duration": null,
     "end_time": null,
     "exception": null,
     "start_time": null,
     "status": "pending"
    },
    "tags": []
   },
   "outputs": [],
   "source": [
    "# save singlets for downstream analysis\n",
    "singlets_h5_w_gcap_name <- sub(\".h5seurat\", \"_05_SINGLETS.h5seurat\", h5_w_gcap_name)\n",
    "SaveH5Seurat(seurat_singlets, singlets_h5_w_gcap_name, overwrite = TRUE, verbose = FALSE)"
   ]
  }
 ],
 "metadata": {
  "kernelspec": {
   "display_name": "R",
   "language": "python",
   "name": "ir"
  },
  "language_info": {
   "codemirror_mode": "r",
   "file_extension": ".r",
   "mimetype": "text/x-r-source",
   "name": "R",
   "pygments_lexer": "r",
   "version": "4.3.1"
  },
  "papermill": {
   "default_parameters": {},
   "duration": 116.400626,
   "end_time": "2023-08-25T21:28:13.156136",
   "environment_variables": {},
   "exception": true,
   "input_path": "/home/kfeng/catatac/secondary/05_demux_guides_00.ipynb",
   "output_path": "/data2/kfeng/deeper_guides_dasatinib/secondary/DMSO1/notebooks/05_demux_guides_00.ipynb",
   "parameters": {
    "h5_name": "/data2/kfeng/deeper_guides_dasatinib/secondary/DMSO1/seurat/CATATAC_CRISPR-DMSO1_ONLY_SINGLETS.h5seurat",
    "library": "CRISPR-DMSO1",
    "protosp_path": "/data2/kfeng/deeper_guides_dasatinib/dasatinib_primary_01HD/DMSO1/resources/ps_dasatinib_screen4.tsv",
    "tsv_path": "/data2/kfeng/deeper_guides_dasatinib/dasatinib_primary_01HD/DMSO1/tsv"
   },
   "start_time": "2023-08-25T21:26:16.755510",
   "version": "2.4.0"
  },
  "vscode": {
   "interpreter": {
    "hash": "75b87ce47bb9969be599b51f4ee6bb5c32ae6714610a6d54c2ccfc55bac36fba"
   }
  }
 },
 "nbformat": 4,
 "nbformat_minor": 5
}