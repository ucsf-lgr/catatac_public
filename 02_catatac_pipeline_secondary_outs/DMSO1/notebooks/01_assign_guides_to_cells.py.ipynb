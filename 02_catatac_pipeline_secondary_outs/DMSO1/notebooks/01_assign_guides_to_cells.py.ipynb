{
 "cells": [
  {
   "cell_type": "code",
   "execution_count": 1,
   "id": "b63174a9",
   "metadata": {
    "execution": {
     "iopub.execute_input": "2023-08-17T21:11:16.865818Z",
     "iopub.status.busy": "2023-08-17T21:11:16.865482Z",
     "iopub.status.idle": "2023-08-17T21:11:16.875540Z",
     "shell.execute_reply": "2023-08-17T21:11:16.874942Z"
    },
    "papermill": {
     "duration": 0.019091,
     "end_time": "2023-08-17T21:11:16.876934",
     "exception": false,
     "start_time": "2023-08-17T21:11:16.857843",
     "status": "completed"
    },
    "tags": [
     "injected-parameters"
    ]
   },
   "outputs": [],
   "source": [
    "# Parameterslibrary = \"CRISPR-DMSO1\"fastq_path = '{PATH_TO_TSV_PATH_PATH_1}'"
   ]
  },
  {
   "cell_type": "markdown",
   "id": "5d32be88",
   "metadata": {
    "papermill": {
     "duration": 0.004241,
     "end_time": "2023-08-17T21:11:16.883991",
     "exception": false,
     "start_time": "2023-08-17T21:11:16.879750",
     "status": "completed"
    },
    "tags": []
   },
   "source": [
    "# Assign guides to cells"
   ]
  },
  {
   "cell_type": "code",
   "execution_count": 2,
   "id": "377b0b0c",
   "metadata": {
    "execution": {
     "iopub.execute_input": "2023-08-17T21:11:16.893420Z",
     "iopub.status.busy": "2023-08-17T21:11:16.893126Z",
     "iopub.status.idle": "2023-08-17T21:11:17.378268Z",
     "shell.execute_reply": "2023-08-17T21:11:17.377406Z"
    },
    "papermill": {
     "duration": 0.491958,
     "end_time": "2023-08-17T21:11:17.380706",
     "exception": false,
     "start_time": "2023-08-17T21:11:16.888748",
     "status": "completed"
    },
    "tags": []
   },
   "outputs": [],
   "source": [
    "import pandas as pd\n",
    "import matplotlib.pyplot as plt"
   ]
  },
  {
   "cell_type": "code",
   "execution_count": 3,
   "id": "078632f2",
   "metadata": {
    "execution": {
     "iopub.execute_input": "2023-08-17T21:11:17.392278Z",
     "iopub.status.busy": "2023-08-17T21:11:17.391829Z",
     "iopub.status.idle": "2023-08-17T21:11:17.396271Z",
     "shell.execute_reply": "2023-08-17T21:11:17.395328Z"
    },
    "papermill": {
     "duration": 0.010429,
     "end_time": "2023-08-17T21:11:17.397359",
     "exception": false,
     "start_time": "2023-08-17T21:11:17.386930",
     "status": "completed"
    },
    "tags": []
   },
   "outputs": [],
   "source": [
    "# library = \"CRISPR8\"",
    "# fastq_path = \"/home/vsevim/prj/tf/CATATAC_4/data//atac_and_guidecap\"",
    "# tsv_path = '{PATH_2}'"
   ]
  },
  {
   "cell_type": "code",
   "execution_count": 4,
   "id": "fb19dbef",
   "metadata": {
    "execution": {
     "iopub.execute_input": "2023-08-17T21:11:17.409091Z",
     "iopub.status.busy": "2023-08-17T21:11:17.408317Z",
     "iopub.status.idle": "2023-08-17T21:11:17.412418Z",
     "shell.execute_reply": "2023-08-17T21:11:17.411590Z"
    },
    "papermill": {
     "duration": 0.011787,
     "end_time": "2023-08-17T21:11:17.414146",
     "exception": false,
     "start_time": "2023-08-17T21:11:17.402359",
     "status": "completed"
    },
    "tags": []
   },
   "outputs": [],
   "source": [
    "stats = []"
   ]
  },
  {
   "cell_type": "markdown",
   "id": "28188c79",
   "metadata": {
    "papermill": {
     "duration": 0.005062,
     "end_time": "2023-08-17T21:11:17.425172",
     "exception": false,
     "start_time": "2023-08-17T21:11:17.420110",
     "status": "completed"
    },
    "tags": []
   },
   "source": [
    "Count raw reads"
   ]
  },
  {
   "cell_type": "code",
   "execution_count": 5,
   "id": "67cc78c8",
   "metadata": {
    "execution": {
     "iopub.execute_input": "2023-08-17T21:11:17.432428Z",
     "iopub.status.busy": "2023-08-17T21:11:17.431455Z",
     "iopub.status.idle": "2023-08-17T21:12:51.780422Z",
     "shell.execute_reply": "2023-08-17T21:12:51.779378Z"
    },
    "papermill": {
     "duration": 94.35487,
     "end_time": "2023-08-17T21:12:51.782625",
     "exception": false,
     "start_time": "2023-08-17T21:11:17.427755",
     "status": "completed"
    },
    "tags": []
   },
   "outputs": [],
   "source": [
    "n_raw_reads = !zcat {fastq_path}/{library}*R1*.fastq.gz | grep \"^@\" | wc -l\n",
    "n_raw_reads = int(n_raw_reads[0])\n",
    "stats += [['Raw Reads', n_raw_reads]]"
   ]
  },
  {
   "cell_type": "markdown",
   "id": "8c1823f9",
   "metadata": {
    "papermill": {
     "duration": 0.002672,
     "end_time": "2023-08-17T21:12:51.788465",
     "exception": false,
     "start_time": "2023-08-17T21:12:51.785793",
     "status": "completed"
    },
    "tags": []
   },
   "source": [
    "Count reads w CS1"
   ]
  },
  {
   "cell_type": "code",
   "execution_count": 6,
   "id": "e474093a",
   "metadata": {
    "execution": {
     "iopub.execute_input": "2023-08-17T21:12:51.795319Z",
     "iopub.status.busy": "2023-08-17T21:12:51.794994Z",
     "iopub.status.idle": "2023-08-17T21:13:43.756095Z",
     "shell.execute_reply": "2023-08-17T21:13:43.755006Z"
    },
    "papermill": {
     "duration": 51.967577,
     "end_time": "2023-08-17T21:13:43.758769",
     "exception": false,
     "start_time": "2023-08-17T21:12:51.791192",
     "status": "completed"
    },
    "tags": []
   },
   "outputs": [],
   "source": [
    "n_reads_w_CS1 = !zcat {tsv_path}/{library}*w_CS.TSV.gz | wc -l\n",
    "n_reads_w_CS1 = int(n_reads_w_CS1[0])\n",
    "stats += [['Reads with CS1', n_reads_w_CS1]]"
   ]
  },
  {
   "cell_type": "code",
   "execution_count": 7,
   "id": "00d9038d",
   "metadata": {
    "execution": {
     "iopub.execute_input": "2023-08-17T21:13:43.773087Z",
     "iopub.status.busy": "2023-08-17T21:13:43.772763Z",
     "iopub.status.idle": "2023-08-17T21:13:43.783756Z",
     "shell.execute_reply": "2023-08-17T21:13:43.783049Z"
    },
    "papermill": {
     "duration": 0.020015,
     "end_time": "2023-08-17T21:13:43.785608",
     "exception": false,
     "start_time": "2023-08-17T21:13:43.765593",
     "status": "completed"
    },
    "tags": []
   },
   "outputs": [
    {
     "data": {
      "text/plain": [
       "[['Raw Reads', 63989753], ['Reads with CS1', 37568566]]"
      ]
     },
     "execution_count": 7,
     "metadata": {},
     "output_type": "execute_result"
    }
   ],
   "source": [
    "stats"
   ]
  },
  {
   "cell_type": "markdown",
   "id": "1eb04b85",
   "metadata": {
    "papermill": {
     "duration": 0.003199,
     "end_time": "2023-08-17T21:13:43.795046",
     "exception": false,
     "start_time": "2023-08-17T21:13:43.791847",
     "status": "completed"
    },
    "tags": []
   },
   "source": [
    "### Load the barcode, umi, guide csv"
   ]
  },
  {
   "cell_type": "code",
   "execution_count": 8,
   "id": "55d523f1",
   "metadata": {
    "execution": {
     "iopub.execute_input": "2023-08-17T21:13:43.801684Z",
     "iopub.status.busy": "2023-08-17T21:13:43.801385Z",
     "iopub.status.idle": "2023-08-17T21:13:43.805596Z",
     "shell.execute_reply": "2023-08-17T21:13:43.804691Z"
    },
    "papermill": {
     "duration": 0.00901,
     "end_time": "2023-08-17T21:13:43.806807",
     "exception": false,
     "start_time": "2023-08-17T21:13:43.797797",
     "status": "completed"
    },
    "tags": []
   },
   "outputs": [],
   "source": [
    "#library = library.upper()\n",
    "tsv_path = f\"{tsv_path}/{library}_ALL_STRUCTURED.TSV\""
   ]
  },
  {
   "cell_type": "markdown",
   "id": "d2451716",
   "metadata": {
    "papermill": {
     "duration": 0.002812,
     "end_time": "2023-08-17T21:13:43.812414",
     "exception": false,
     "start_time": "2023-08-17T21:13:43.809602",
     "status": "completed"
    },
    "tags": []
   },
   "source": [
    "### Deduplicate "
   ]
  },
  {
   "cell_type": "code",
   "execution_count": 9,
   "id": "dc84522f",
   "metadata": {
    "execution": {
     "iopub.execute_input": "2023-08-17T21:13:43.823577Z",
     "iopub.status.busy": "2023-08-17T21:13:43.822833Z",
     "iopub.status.idle": "2023-08-17T21:14:44.518459Z",
     "shell.execute_reply": "2023-08-17T21:14:44.517607Z"
    },
    "papermill": {
     "duration": 60.70385,
     "end_time": "2023-08-17T21:14:44.521396",
     "exception": false,
     "start_time": "2023-08-17T21:13:43.817546",
     "status": "completed"
    },
    "tags": []
   },
   "outputs": [],
   "source": [
    "df_needs_dedup = pd.read_csv(tsv_path, sep=\"\\t\")\n",
    "# I was deduplicating by umi only until analyzing condition 6, \n",
    "# but I need to deduplicate by umi+protospacer\n",
    "df = df_needs_dedup.drop_duplicates(subset=[\"umi\", \"protospacer\"], keep='first')"
   ]
  },
  {
   "cell_type": "code",
   "execution_count": 10,
   "id": "db508bab",
   "metadata": {
    "execution": {
     "iopub.execute_input": "2023-08-17T21:14:44.533001Z",
     "iopub.status.busy": "2023-08-17T21:14:44.532848Z",
     "iopub.status.idle": "2023-08-17T21:14:44.544932Z",
     "shell.execute_reply": "2023-08-17T21:14:44.544215Z"
    },
    "papermill": {
     "duration": 0.01789,
     "end_time": "2023-08-17T21:14:44.546613",
     "exception": false,
     "start_time": "2023-08-17T21:14:44.528723",
     "status": "completed"
    },
    "tags": []
   },
   "outputs": [
    {
     "data": {
      "text/html": [
       "<div>\n",
       "<style scoped>\n",
       "    .dataframe tbody tr th:only-of-type {\n",
       "        vertical-align: middle;\n",
       "    }\n",
       "\n",
       "    .dataframe tbody tr th {\n",
       "        vertical-align: top;\n",
       "    }\n",
       "\n",
       "    .dataframe thead th {\n",
       "        text-align: right;\n",
       "    }\n",
       "</style>\n",
       "<table border=\"1\" class=\"dataframe\">\n",
       "  <thead>\n",
       "    <tr style=\"text-align: right;\">\n",
       "      <th></th>\n",
       "      <th>atac_barcode</th>\n",
       "      <th>umi</th>\n",
       "      <th>protospacer</th>\n",
       "      <th>guide</th>\n",
       "      <th>gene</th>\n",
       "      <th>read_name</th>\n",
       "      <th>barcode</th>\n",
       "    </tr>\n",
       "  </thead>\n",
       "  <tbody>\n",
       "    <tr>\n",
       "      <th>0</th>\n",
       "      <td>GGCTATGAGTGCACCT</td>\n",
       "      <td>TCCACAGAGGGT</td>\n",
       "      <td>CACCCTCTCCGCCGAAGTG</td>\n",
       "      <td>ADNP_1</td>\n",
       "      <td>ADNP</td>\n",
       "      <td>LH00132:93:2257F7LT3:7:1101:10006:4589</td>\n",
       "      <td>TCAACAATCAGGTTTA</td>\n",
       "    </tr>\n",
       "    <tr>\n",
       "      <th>1</th>\n",
       "      <td>ATGCAAGGTTTAGCGT</td>\n",
       "      <td>ATAGTGCCATGT</td>\n",
       "      <td>CACCCTCTCCGCCGAAGTG</td>\n",
       "      <td>ADNP_1</td>\n",
       "      <td>ADNP</td>\n",
       "      <td>LH00132:93:2257F7LT3:7:1101:10043:4621</td>\n",
       "      <td>AGGTACGCAGAAATTG</td>\n",
       "    </tr>\n",
       "    <tr>\n",
       "      <th>2</th>\n",
       "      <td>TTCGTTACATTAGTGG</td>\n",
       "      <td>ACACATTTCCAG</td>\n",
       "      <td>CACCCTCTCCGCCGAAGTG</td>\n",
       "      <td>ADNP_1</td>\n",
       "      <td>ADNP</td>\n",
       "      <td>LH00132:93:2257F7LT3:7:1101:10070:16493</td>\n",
       "      <td>ACACCTTGTATTGTCC</td>\n",
       "    </tr>\n",
       "    <tr>\n",
       "      <th>3</th>\n",
       "      <td>TTAGGAGGTAAGTCCT</td>\n",
       "      <td>TAAATTCTTGAG</td>\n",
       "      <td>CACCCTCTCCGCCGAAGTG</td>\n",
       "      <td>ADNP_1</td>\n",
       "      <td>ADNP</td>\n",
       "      <td>LH00132:93:2257F7LT3:7:1101:10191:6704</td>\n",
       "      <td>TCAAGAACACTTAACG</td>\n",
       "    </tr>\n",
       "    <tr>\n",
       "      <th>4</th>\n",
       "      <td>GGGTTTCTCCTTTAGG</td>\n",
       "      <td>ATCTCATTTCCA</td>\n",
       "      <td>CACCCTCTCCGCCGAAGTG</td>\n",
       "      <td>ADNP_1</td>\n",
       "      <td>ADNP</td>\n",
       "      <td>LH00132:93:2257F7LT3:7:1101:10228:19394</td>\n",
       "      <td>CAAGTGAAGGTCAAAG</td>\n",
       "    </tr>\n",
       "  </tbody>\n",
       "</table>\n",
       "</div>"
      ],
      "text/plain": [
       "       atac_barcode           umi          protospacer   guide  gene  \\\n",
       "0  GGCTATGAGTGCACCT  TCCACAGAGGGT  CACCCTCTCCGCCGAAGTG  ADNP_1  ADNP   \n",
       "1  ATGCAAGGTTTAGCGT  ATAGTGCCATGT  CACCCTCTCCGCCGAAGTG  ADNP_1  ADNP   \n",
       "2  TTCGTTACATTAGTGG  ACACATTTCCAG  CACCCTCTCCGCCGAAGTG  ADNP_1  ADNP   \n",
       "3  TTAGGAGGTAAGTCCT  TAAATTCTTGAG  CACCCTCTCCGCCGAAGTG  ADNP_1  ADNP   \n",
       "4  GGGTTTCTCCTTTAGG  ATCTCATTTCCA  CACCCTCTCCGCCGAAGTG  ADNP_1  ADNP   \n",
       "\n",
       "                                 read_name           barcode  \n",
       "0   LH00132:93:2257F7LT3:7:1101:10006:4589  TCAACAATCAGGTTTA  \n",
       "1   LH00132:93:2257F7LT3:7:1101:10043:4621  AGGTACGCAGAAATTG  \n",
       "2  LH00132:93:2257F7LT3:7:1101:10070:16493  ACACCTTGTATTGTCC  \n",
       "3   LH00132:93:2257F7LT3:7:1101:10191:6704  TCAAGAACACTTAACG  \n",
       "4  LH00132:93:2257F7LT3:7:1101:10228:19394  CAAGTGAAGGTCAAAG  "
      ]
     },
     "execution_count": 10,
     "metadata": {},
     "output_type": "execute_result"
    }
   ],
   "source": [
    "df_needs_dedup.head()"
   ]
  },
  {
   "cell_type": "code",
   "execution_count": 11,
   "id": "f53066e4",
   "metadata": {
    "execution": {
     "iopub.execute_input": "2023-08-17T21:14:44.558635Z",
     "iopub.status.busy": "2023-08-17T21:14:44.558332Z",
     "iopub.status.idle": "2023-08-17T21:14:47.569201Z",
     "shell.execute_reply": "2023-08-17T21:14:47.568419Z"
    },
    "papermill": {
     "duration": 3.018944,
     "end_time": "2023-08-17T21:14:47.571337",
     "exception": false,
     "start_time": "2023-08-17T21:14:44.552393",
     "status": "completed"
    },
    "tags": []
   },
   "outputs": [
    {
     "data": {
      "text/plain": [
       "212643"
      ]
     },
     "execution_count": 11,
     "metadata": {},
     "output_type": "execute_result"
    }
   ],
   "source": [
    "# Count unique barcodes before protospacer check etc\n",
    "len(df_needs_dedup.drop_duplicates(subset = \"barcode\"))"
   ]
  },
  {
   "cell_type": "code",
   "execution_count": 12,
   "id": "c789b502",
   "metadata": {
    "execution": {
     "iopub.execute_input": "2023-08-17T21:14:47.581773Z",
     "iopub.status.busy": "2023-08-17T21:14:47.581541Z",
     "iopub.status.idle": "2023-08-17T21:14:47.586564Z",
     "shell.execute_reply": "2023-08-17T21:14:47.585653Z"
    },
    "papermill": {
     "duration": 0.010128,
     "end_time": "2023-08-17T21:14:47.587792",
     "exception": false,
     "start_time": "2023-08-17T21:14:47.577664",
     "status": "completed"
    },
    "tags": []
   },
   "outputs": [],
   "source": [
    "n_reads_w_PS  = len(df_needs_dedup)\n",
    "n_dedup_reads = len(df)\n",
    "\n",
    "stats += [['Reads with Protospacer', n_reads_w_PS]]\n",
    "stats += [['Dedup reads', n_dedup_reads]]\n"
   ]
  },
  {
   "cell_type": "code",
   "execution_count": 13,
   "id": "f61b1fe3",
   "metadata": {
    "execution": {
     "iopub.execute_input": "2023-08-17T21:14:47.595515Z",
     "iopub.status.busy": "2023-08-17T21:14:47.595268Z",
     "iopub.status.idle": "2023-08-17T21:14:47.847736Z",
     "shell.execute_reply": "2023-08-17T21:14:47.846907Z"
    },
    "papermill": {
     "duration": 0.258688,
     "end_time": "2023-08-17T21:14:47.849806",
     "exception": false,
     "start_time": "2023-08-17T21:14:47.591118",
     "status": "completed"
    },
    "tags": []
   },
   "outputs": [],
   "source": [
    "n_uniq_barcodes = len(df['barcode'].unique())\n",
    "stats += [[\"Unique barcodes\", n_uniq_barcodes]]"
   ]
  },
  {
   "cell_type": "markdown",
   "id": "8d77f62f",
   "metadata": {
    "papermill": {
     "duration": 0.005938,
     "end_time": "2023-08-17T21:14:47.862634",
     "exception": false,
     "start_time": "2023-08-17T21:14:47.856696",
     "status": "completed"
    },
    "tags": []
   },
   "source": [
    "### Count UMIs per barcode"
   ]
  },
  {
   "cell_type": "code",
   "execution_count": 14,
   "id": "bb06ad6e",
   "metadata": {
    "execution": {
     "iopub.execute_input": "2023-08-17T21:14:47.870965Z",
     "iopub.status.busy": "2023-08-17T21:14:47.870661Z",
     "iopub.status.idle": "2023-08-17T21:14:48.192476Z",
     "shell.execute_reply": "2023-08-17T21:14:48.191657Z"
    },
    "papermill": {
     "duration": 0.327916,
     "end_time": "2023-08-17T21:14:48.194463",
     "exception": false,
     "start_time": "2023-08-17T21:14:47.866547",
     "status": "completed"
    },
    "tags": []
   },
   "outputs": [
    {
     "data": {
      "text/plain": [
       "TTAACCAAGGAAGTAT    1144\n",
       "ACTAACCAGGATAAAC     701\n",
       "TAGGTTGGTCAGTAAT     572\n",
       "CGCAATAGTTATTGCC     566\n",
       "CAATATGTCGCAATCG     537\n",
       "Name: barcode, dtype: int64"
      ]
     },
     "execution_count": 14,
     "metadata": {},
     "output_type": "execute_result"
    }
   ],
   "source": [
    "barcode_counts = df['barcode'].value_counts()\n",
    "barcode_counts.head()"
   ]
  },
  {
   "cell_type": "code",
   "execution_count": 15,
   "id": "d98af39d",
   "metadata": {
    "execution": {
     "iopub.execute_input": "2023-08-17T21:14:48.205867Z",
     "iopub.status.busy": "2023-08-17T21:14:48.205610Z",
     "iopub.status.idle": "2023-08-17T21:14:48.885398Z",
     "shell.execute_reply": "2023-08-17T21:14:48.884562Z"
    },
    "papermill": {
     "duration": 0.685923,
     "end_time": "2023-08-17T21:14:48.887407",
     "exception": false,
     "start_time": "2023-08-17T21:14:48.201484",
     "status": "completed"
    },
    "tags": []
   },
   "outputs": [
    {
     "data": {
      "image/png": "[encoded data removed]",
      "text/plain": [
       "<Figure size 640x480 with 1 Axes>"
      ]
     },
     "metadata": {},
     "output_type": "display_data"
    }
   ],
   "source": [
    "plt.plot(barcode_counts.values)\n",
    "plt.yscale('log')\n",
    "plt.xlabel(\"Barcode Index (sorted by #UMIs)\")\n",
    "plt.ylabel(\"#UMIs\")\n",
    "plt.title(library)\n",
    "plt.savefig(\"plot1.png\")\n",
    "plt.show()"
   ]
  },
  {
   "cell_type": "markdown",
   "id": "e406c51c",
   "metadata": {
    "papermill": {
     "duration": 0.006375,
     "end_time": "2023-08-17T21:14:48.901509",
     "exception": false,
     "start_time": "2023-08-17T21:14:48.895134",
     "status": "completed"
    },
    "tags": []
   },
   "source": [
    "### Count genes per barcode"
   ]
  },
  {
   "cell_type": "code",
   "execution_count": 16,
   "id": "de13c92b",
   "metadata": {
    "execution": {
     "iopub.execute_input": "2023-08-17T21:14:48.909499Z",
     "iopub.status.busy": "2023-08-17T21:14:48.909338Z",
     "iopub.status.idle": "2023-08-17T21:14:49.233457Z",
     "shell.execute_reply": "2023-08-17T21:14:49.232656Z"
    },
    "papermill": {
     "duration": 0.330431,
     "end_time": "2023-08-17T21:14:49.235586",
     "exception": false,
     "start_time": "2023-08-17T21:14:48.905155",
     "status": "completed"
    },
    "tags": []
   },
   "outputs": [
    {
     "data": {
      "text/plain": [
       "TTAACCAAGGAAGTAT    1144\n",
       "ACTAACCAGGATAAAC     701\n",
       "TAGGTTGGTCAGTAAT     572\n",
       "CGCAATAGTTATTGCC     566\n",
       "CAATATGTCGCAATCG     537\n",
       "Name: barcode, dtype: int64"
      ]
     },
     "execution_count": 16,
     "metadata": {},
     "output_type": "execute_result"
    }
   ],
   "source": [
    "barcode_counts = df['barcode'].value_counts()\n",
    "barcode_counts.head()"
   ]
  },
  {
   "cell_type": "code",
   "execution_count": 17,
   "id": "58beffba",
   "metadata": {
    "execution": {
     "iopub.execute_input": "2023-08-17T21:14:49.247202Z",
     "iopub.status.busy": "2023-08-17T21:14:49.246938Z",
     "iopub.status.idle": "2023-08-17T21:14:49.250932Z",
     "shell.execute_reply": "2023-08-17T21:14:49.250090Z"
    },
    "papermill": {
     "duration": 0.009791,
     "end_time": "2023-08-17T21:14:49.252233",
     "exception": false,
     "start_time": "2023-08-17T21:14:49.242442",
     "status": "completed"
    },
    "tags": []
   },
   "outputs": [],
   "source": [
    "#------------------------------------------------------------------------------------"
   ]
  },
  {
   "cell_type": "code",
   "execution_count": 18,
   "id": "05bac8d6",
   "metadata": {
    "execution": {
     "iopub.execute_input": "2023-08-17T21:14:49.260711Z",
     "iopub.status.busy": "2023-08-17T21:14:49.260418Z",
     "iopub.status.idle": "2023-08-17T21:14:49.270306Z",
     "shell.execute_reply": "2023-08-17T21:14:49.269689Z"
    },
    "papermill": {
     "duration": 0.016139,
     "end_time": "2023-08-17T21:14:49.272125",
     "exception": false,
     "start_time": "2023-08-17T21:14:49.255986",
     "status": "completed"
    },
    "tags": []
   },
   "outputs": [
    {
     "data": {
      "text/html": [
       "<div>\n",
       "<style scoped>\n",
       "    .dataframe tbody tr th:only-of-type {\n",
       "        vertical-align: middle;\n",
       "    }\n",
       "\n",
       "    .dataframe tbody tr th {\n",
       "        vertical-align: top;\n",
       "    }\n",
       "\n",
       "    .dataframe thead th {\n",
       "        text-align: right;\n",
       "    }\n",
       "</style>\n",
       "<table border=\"1\" class=\"dataframe\">\n",
       "  <thead>\n",
       "    <tr style=\"text-align: right;\">\n",
       "      <th></th>\n",
       "      <th>Stat</th>\n",
       "      <th>Count</th>\n",
       "    </tr>\n",
       "  </thead>\n",
       "  <tbody>\n",
       "    <tr>\n",
       "      <th>0</th>\n",
       "      <td>Raw Reads</td>\n",
       "      <td>63989753</td>\n",
       "    </tr>\n",
       "    <tr>\n",
       "      <th>1</th>\n",
       "      <td>Reads with CS1</td>\n",
       "      <td>37568566</td>\n",
       "    </tr>\n",
       "    <tr>\n",
       "      <th>2</th>\n",
       "      <td>Reads with Protospacer</td>\n",
       "      <td>42331292</td>\n",
       "    </tr>\n",
       "    <tr>\n",
       "      <th>3</th>\n",
       "      <td>Dedup reads</td>\n",
       "      <td>1355670</td>\n",
       "    </tr>\n",
       "    <tr>\n",
       "      <th>4</th>\n",
       "      <td>Unique barcodes</td>\n",
       "      <td>202794</td>\n",
       "    </tr>\n",
       "  </tbody>\n",
       "</table>\n",
       "</div>"
      ],
      "text/plain": [
       "                     Stat     Count\n",
       "0               Raw Reads  63989753\n",
       "1          Reads with CS1  37568566\n",
       "2  Reads with Protospacer  42331292\n",
       "3             Dedup reads   1355670\n",
       "4         Unique barcodes    202794"
      ]
     },
     "execution_count": 18,
     "metadata": {},
     "output_type": "execute_result"
    }
   ],
   "source": [
    "df_stats = pd.DataFrame(stats, columns=[\"Stat\", \"Count\"])\n",
    "df_stats"
   ]
  },
  {
   "cell_type": "code",
   "execution_count": 19,
   "id": "77775c20",
   "metadata": {
    "execution": {
     "iopub.execute_input": "2023-08-17T21:14:49.283482Z",
     "iopub.status.busy": "2023-08-17T21:14:49.283185Z",
     "iopub.status.idle": "2023-08-17T21:14:49.288379Z",
     "shell.execute_reply": "2023-08-17T21:14:49.287491Z"
    },
    "papermill": {
     "duration": 0.011059,
     "end_time": "2023-08-17T21:14:49.289582",
     "exception": false,
     "start_time": "2023-08-17T21:14:49.278523",
     "status": "completed"
    },
    "tags": []
   },
   "outputs": [
    {
     "name": "stdout",
     "output_type": "stream",
     "text": [
      "63989753\n",
      "37568566\n",
      "42331292\n",
      "1355670\n",
      "202794\n"
     ]
    }
   ],
   "source": [
    "for i in df_stats.Count:\n",
    "    print(i)"
   ]
  }
 ],
 "metadata": {
  "kernelspec": {
   "display_name": "Python 3 (ipykernel)",
   "language": "python",
   "name": "python3"
  },
  "language_info": {
   "codemirror_mode": {
    "name": "ipython",
    "version": 3
   },
   "file_extension": ".py",
   "mimetype": "text/x-python",
   "name": "python",
   "nbconvert_exporter": "python",
   "pygments_lexer": "ipython3",
   "version": "3.10.9"
  },
  "papermill": {
   "default_parameters": {},
   "duration": 215.778012,
   "end_time": "2023-08-17T21:14:51.415524",
   "environment_variables": {},
   "exception": null,
   "input_path": "/home/kfeng/catatac/secondary/01_assign_guides_to_cells.py.ipynb",
   "output_path": "/data2/kfeng/deeper_guides_dasatinib/secondary/DMSO1/notebooks/01_assign_guides_to_cells.py.ipynb",
   "parameters": {
    "fastq_path": "/data2/kfeng/deeper_guides_dasatinib/fastqs/",
    "library": "CRISPR-DMSO1",
    "tsv_path": "/data2/kfeng/deeper_guides_dasatinib/dasatinib_primary_01HD/DMSO1/tsv"
   },
   "start_time": "2023-08-17T21:11:15.637512",
   "version": "2.4.0"
  },
  "vscode": {
   "interpreter": {
    "hash": "31f2aee4e71d21fbe5cf8b01ff0e069b9275f58929596ceb00d14d90e3e16cd6"
   }
  }
 },
 "nbformat": 4,
 "nbformat_minor": 5
}