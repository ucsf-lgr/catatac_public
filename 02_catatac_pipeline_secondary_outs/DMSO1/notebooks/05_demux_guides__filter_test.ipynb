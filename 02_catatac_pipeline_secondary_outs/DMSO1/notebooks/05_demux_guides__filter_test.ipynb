{
 "cells": [
  {
   "cell_type": "markdown",
   "id": "f22f9a94",
   "metadata": {
    "tags": [
     "papermill-error-cell-tag"
    ]
   },
   "source": [
    "<span style=\"color:red; font-family:Helvetica Neue, Helvetica, Arial, sans-serif; font-size:2em;\">An Exception was encountered at '<a href=\"#papermill-error-cell\">In [20]</a>'.</span>"
   ]
  },
  {
   "cell_type": "code",
   "execution_count": 289,
   "id": "a6c7e975",
   "metadata": {
    "execution": {
     "iopub.execute_input": "2023-08-18T23:05:20.344980Z",
     "iopub.status.busy": "2023-08-18T23:05:20.343446Z",
     "iopub.status.idle": "2023-08-18T23:05:20.370012Z",
     "shell.execute_reply": "2023-08-18T23:05:20.368655Z"
    },
    "papermill": {
     "duration": 0.103366,
     "end_time": "2023-08-18T23:05:20.372092",
     "exception": false,
     "start_time": "2023-08-18T23:05:20.268726",
     "status": "completed"
    },
    "tags": [
     "injected-parameters"
    ],
    "vscode": {
     "languageId": "r"
    }
   },
   "outputs": [],
   "source": [
    "# Parameters",
    "h5_name = '{PATH_1}'",
    "protosp_path = '{PATH_2}'",
    "library = \"CRISPR-DMSO1\"",
    "tsv_path = '{PATH_3}'",
    ""
   ]
  },
  {
   "cell_type": "code",
   "execution_count": 290,
   "id": "ef2ef718",
   "metadata": {
    "execution": {
     "iopub.execute_input": "2023-08-18T23:05:20.419003Z",
     "iopub.status.busy": "2023-08-18T23:05:20.394420Z",
     "iopub.status.idle": "2023-08-18T23:05:23.485896Z",
     "shell.execute_reply": "2023-08-18T23:05:23.484734Z"
    },
    "papermill": {
     "duration": 3.102269,
     "end_time": "2023-08-18T23:05:23.487647",
     "exception": false,
     "start_time": "2023-08-18T23:05:20.385378",
     "status": "completed"
    },
    "tags": [],
    "vscode": {
     "languageId": "r"
    }
   },
   "outputs": [],
   "source": [
    "library(Seurat)\n",
    "library(SeuratDisk)\n",
    "library(dplyr)\n",
    "library(ggplot2)\n",
    "library(patchwork)\n",
    "library(stringr)\n",
    "library(crayon)"
   ]
  },
  {
   "cell_type": "code",
   "execution_count": 291,
   "id": "953724c4",
   "metadata": {
    "execution": {
     "iopub.execute_input": "2023-08-18T23:05:23.512783Z",
     "iopub.status.busy": "2023-08-18T23:05:23.510353Z",
     "iopub.status.idle": "2023-08-18T23:05:23.522659Z",
     "shell.execute_reply": "2023-08-18T23:05:23.521551Z"
    },
    "papermill": {
     "duration": 0.024164,
     "end_time": "2023-08-18T23:05:23.524374",
     "exception": false,
     "start_time": "2023-08-18T23:05:23.500210",
     "status": "completed"
    },
    "tags": [],
    "vscode": {
     "languageId": "r"
    }
   },
   "outputs": [],
   "source": [
    "#setwd(\"~/prj/catatac/scripts\")"
   ]
  },
  {
   "attachments": {},
   "cell_type": "markdown",
   "id": "47c090ae",
   "metadata": {
    "papermill": {
     "duration": 0.008331,
     "end_time": "2023-08-18T23:05:23.543242",
     "exception": false,
     "start_time": "2023-08-18T23:05:23.534911",
     "status": "completed"
    },
    "tags": []
   },
   "source": [
    "# Load guide-capture data"
   ]
  },
  {
   "attachments": {},
   "cell_type": "markdown",
   "id": "ee7616d0",
   "metadata": {
    "papermill": {
     "duration": 0.00829,
     "end_time": "2023-08-18T23:05:23.559805",
     "exception": false,
     "start_time": "2023-08-18T23:05:23.551515",
     "status": "completed"
    },
    "tags": []
   },
   "source": [
    "Define paths etc"
   ]
  },
  {
   "cell_type": "code",
   "execution_count": 292,
   "id": "6c6f354c",
   "metadata": {
    "execution": {
     "iopub.execute_input": "2023-08-18T23:05:23.603445Z",
     "iopub.status.busy": "2023-08-18T23:05:23.601533Z",
     "iopub.status.idle": "2023-08-18T23:05:23.614095Z",
     "shell.execute_reply": "2023-08-18T23:05:23.612962Z"
    },
    "papermill": {
     "duration": 0.024784,
     "end_time": "2023-08-18T23:05:23.615859",
     "exception": false,
     "start_time": "2023-08-18T23:05:23.591075",
     "status": "completed"
    },
    "tags": [],
    "vscode": {
     "languageId": "r"
    }
   },
   "outputs": [],
   "source": [
    "# Pass these as parameters",
    "# h5_name = '{PATH_4}'",
    "# protosp_path = '{PATH_5}'",
    "# library = \"CRISPR8\"",
    "# tsv_path = '{PATH_6}'",
    ""
   ]
  },
  {
   "cell_type": "code",
   "execution_count": 293,
   "id": "9fb4bb8e",
   "metadata": {
    "execution": {
     "iopub.execute_input": "2023-08-18T23:05:23.641423Z",
     "iopub.status.busy": "2023-08-18T23:05:23.639479Z",
     "iopub.status.idle": "2023-08-18T23:05:23.654121Z",
     "shell.execute_reply": "2023-08-18T23:05:23.652961Z"
    },
    "papermill": {
     "duration": 0.026551,
     "end_time": "2023-08-18T23:05:23.655870",
     "exception": false,
     "start_time": "2023-08-18T23:05:23.629319",
     "status": "completed"
    },
    "tags": [],
    "vscode": {
     "languageId": "r"
    }
   },
   "outputs": [],
   "source": [
    "h5_w_gcap_name <- sub(\".h5seurat\", \"_w_GUIDE_CAP.h5seurat\", h5_name)",
    "barcode2guide_tsv_path <- paste0(tsv_path, '{PATH_7}')",
    "tsv_name <- paste0(tsv_path, '{PATH_8}')"
   ]
  },
  {
   "attachments": {},
   "cell_type": "markdown",
   "id": "dfc84ed4",
   "metadata": {
    "papermill": {
     "duration": 0.00835,
     "end_time": "2023-08-18T23:05:23.677356",
     "exception": false,
     "start_time": "2023-08-18T23:05:23.669006",
     "status": "completed"
    },
    "tags": []
   },
   "source": [
    "### Load protospacer file"
   ]
  },
  {
   "cell_type": "code",
   "execution_count": 294,
   "id": "bf2c8d1d",
   "metadata": {
    "execution": {
     "iopub.execute_input": "2023-08-18T23:05:23.697466Z",
     "iopub.status.busy": "2023-08-18T23:05:23.695844Z",
     "iopub.status.idle": "2023-08-18T23:05:23.707746Z",
     "shell.execute_reply": "2023-08-18T23:05:23.706646Z"
    },
    "papermill": {
     "duration": 0.023807,
     "end_time": "2023-08-18T23:05:23.709487",
     "exception": false,
     "start_time": "2023-08-18T23:05:23.685680",
     "status": "completed"
    },
    "tags": [],
    "vscode": {
     "languageId": "r"
    }
   },
   "outputs": [],
   "source": [
    "df_protosp = read.table(protosp_path, header=TRUE, comment.char=\"\")"
   ]
  },
  {
   "cell_type": "code",
   "execution_count": 295,
   "id": "3ddbd883",
   "metadata": {
    "execution": {
     "iopub.execute_input": "2023-08-18T23:05:23.734128Z",
     "iopub.status.busy": "2023-08-18T23:05:23.732211Z",
     "iopub.status.idle": "2023-08-18T23:05:23.755374Z",
     "shell.execute_reply": "2023-08-18T23:05:23.754272Z"
    },
    "papermill": {
     "duration": 0.035034,
     "end_time": "2023-08-18T23:05:23.757065",
     "exception": false,
     "start_time": "2023-08-18T23:05:23.722031",
     "status": "completed"
    },
    "tags": [],
    "vscode": {
     "languageId": "r"
    }
   },
   "outputs": [
    {
     "data": {
      "text/html": [
       "<style>\n",
       ".list-inline {list-style: none; margin:0; padding: 0}\n",
       ".list-inline>li {display: inline-block}\n",
       ".list-inline>li:not(:last-child)::after {content: \"\\00b7\"; padding: 0 .5ex}\n",
       "</style>\n",
       "<ol class=list-inline><li>'ADNP'</li><li>'CHD2'</li><li>'CNOT2'</li><li>'GPBP1L1'</li><li>'HIC2'</li><li>'MNT'</li><li>'NTC28'</li><li>'NTC36'</li><li>'NTC74'</li><li>'NTC82'</li><li>'PIAS1'</li><li>'PLAGL2'</li><li>'SLTM'</li><li>'TSC22D4'</li><li>'ZBED6'</li><li>'ZNF669'</li></ol>\n"
      ],
      "text/latex": [
       "\\begin{enumerate*}\n",
       "\\item 'ADNP'\n",
       "\\item 'CHD2'\n",
       "\\item 'CNOT2'\n",
       "\\item 'GPBP1L1'\n",
       "\\item 'HIC2'\n",
       "\\item 'MNT'\n",
       "\\item 'NTC28'\n",
       "\\item 'NTC36'\n",
       "\\item 'NTC74'\n",
       "\\item 'NTC82'\n",
       "\\item 'PIAS1'\n",
       "\\item 'PLAGL2'\n",
       "\\item 'SLTM'\n",
       "\\item 'TSC22D4'\n",
       "\\item 'ZBED6'\n",
       "\\item 'ZNF669'\n",
       "\\end{enumerate*}\n"
      ],
      "text/markdown": [
       "1. 'ADNP'\n",
       "2. 'CHD2'\n",
       "3. 'CNOT2'\n",
       "4. 'GPBP1L1'\n",
       "5. 'HIC2'\n",
       "6. 'MNT'\n",
       "7. 'NTC28'\n",
       "8. 'NTC36'\n",
       "9. 'NTC74'\n",
       "10. 'NTC82'\n",
       "11. 'PIAS1'\n",
       "12. 'PLAGL2'\n",
       "13. 'SLTM'\n",
       "14. 'TSC22D4'\n",
       "15. 'ZBED6'\n",
       "16. 'ZNF669'\n",
       "\n",
       "\n"
      ],
      "text/plain": [
       " [1] \"ADNP\"    \"CHD2\"    \"CNOT2\"   \"GPBP1L1\" \"HIC2\"    \"MNT\"     \"NTC28\"  \n",
       " [8] \"NTC36\"   \"NTC74\"   \"NTC82\"   \"PIAS1\"   \"PLAGL2\"  \"SLTM\"    \"TSC22D4\"\n",
       "[15] \"ZBED6\"   \"ZNF669\" "
      ]
     },
     "metadata": {},
     "output_type": "display_data"
    },
    {
     "data": {
      "text/html": [
       "<style>\n",
       ".list-inline {list-style: none; margin:0; padding: 0}\n",
       ".list-inline>li {display: inline-block}\n",
       ".list-inline>li:not(:last-child)::after {content: \"\\00b7\"; padding: 0 .5ex}\n",
       "</style>\n",
       "<ol class=list-inline><li>'ADNP_1'</li><li>'CHD2_1'</li><li>'CNOT2_2'</li><li>'GPBP1L1_1'</li><li>'HIC2_1'</li><li>'MNT_1'</li><li>'NTC28_2'</li><li>'NTC36_1'</li><li>'NTC74_1'</li><li>'NTC74_2'</li><li>'NTC82_1'</li><li>'PIAS1_1'</li><li>'PIAS1_2'</li><li>'PLAGL2_1'</li><li>'SLTM_1'</li><li>'TSC22D4_1'</li><li>'ZBED6_1'</li><li>'ZNF669_2'</li></ol>\n"
      ],
      "text/latex": [
       "\\begin{enumerate*}\n",
       "\\item 'ADNP\\_1'\n",
       "\\item 'CHD2\\_1'\n",
       "\\item 'CNOT2\\_2'\n",
       "\\item 'GPBP1L1\\_1'\n",
       "\\item 'HIC2\\_1'\n",
       "\\item 'MNT\\_1'\n",
       "\\item 'NTC28\\_2'\n",
       "\\item 'NTC36\\_1'\n",
       "\\item 'NTC74\\_1'\n",
       "\\item 'NTC74\\_2'\n",
       "\\item 'NTC82\\_1'\n",
       "\\item 'PIAS1\\_1'\n",
       "\\item 'PIAS1\\_2'\n",
       "\\item 'PLAGL2\\_1'\n",
       "\\item 'SLTM\\_1'\n",
       "\\item 'TSC22D4\\_1'\n",
       "\\item 'ZBED6\\_1'\n",
       "\\item 'ZNF669\\_2'\n",
       "\\end{enumerate*}\n"
      ],
      "text/markdown": [
       "1. 'ADNP_1'\n",
       "2. 'CHD2_1'\n",
       "3. 'CNOT2_2'\n",
       "4. 'GPBP1L1_1'\n",
       "5. 'HIC2_1'\n",
       "6. 'MNT_1'\n",
       "7. 'NTC28_2'\n",
       "8. 'NTC36_1'\n",
       "9. 'NTC74_1'\n",
       "10. 'NTC74_2'\n",
       "11. 'NTC82_1'\n",
       "12. 'PIAS1_1'\n",
       "13. 'PIAS1_2'\n",
       "14. 'PLAGL2_1'\n",
       "15. 'SLTM_1'\n",
       "16. 'TSC22D4_1'\n",
       "17. 'ZBED6_1'\n",
       "18. 'ZNF669_2'\n",
       "\n",
       "\n"
      ],
      "text/plain": [
       " [1] \"ADNP_1\"    \"CHD2_1\"    \"CNOT2_2\"   \"GPBP1L1_1\" \"HIC2_1\"    \"MNT_1\"    \n",
       " [7] \"NTC28_2\"   \"NTC36_1\"   \"NTC74_1\"   \"NTC74_2\"   \"NTC82_1\"   \"PIAS1_1\"  \n",
       "[13] \"PIAS1_2\"   \"PLAGL2_1\"  \"SLTM_1\"    \"TSC22D4_1\" \"ZBED6_1\"   \"ZNF669_2\" "
      ]
     },
     "metadata": {},
     "output_type": "display_data"
    }
   ],
   "source": [
    "tfs_w_ntctl    = unique(df_protosp$X.TargetGene)\n",
    "unselect_ntctl = (tfs_w_ntctl != \"NTCTL\") & (tfs_w_ntctl != \"NTCTRL\")\n",
    "tfs_to_plot    = tfs_w_ntctl[unselect_ntctl]\n",
    "\n",
    "guides_to_plot  = df_protosp$GuideName\n",
    "tfs_to_plot\n",
    "guides_to_plot"
   ]
  },
  {
   "cell_type": "code",
   "execution_count": 296,
   "id": "98d7bd60",
   "metadata": {
    "execution": {
     "iopub.execute_input": "2023-08-18T23:05:23.784003Z",
     "iopub.status.busy": "2023-08-18T23:05:23.782086Z",
     "iopub.status.idle": "2023-08-18T23:05:23.807640Z",
     "shell.execute_reply": "2023-08-18T23:05:23.806519Z"
    },
    "papermill": {
     "duration": 0.037873,
     "end_time": "2023-08-18T23:05:23.809409",
     "exception": false,
     "start_time": "2023-08-18T23:05:23.771536",
     "status": "completed"
    },
    "tags": [],
    "vscode": {
     "languageId": "r"
    }
   },
   "outputs": [
    {
     "data": {
      "text/html": [
       "<table class=\"dataframe\">\n",
       "<caption>A data.frame: 18 \u00d7 3</caption>\n",
       "<thead>\n",
       "\t<tr><th scope=col>X.TargetGene</th><th scope=col>GuideName</th><th scope=col>value</th></tr>\n",
       "\t<tr><th scope=col>&lt;chr&gt;</th><th scope=col>&lt;chr&gt;</th><th scope=col>&lt;chr&gt;</th></tr>\n",
       "</thead>\n",
       "<tbody>\n",
       "\t<tr><td>ADNP   </td><td>ADNP_1   </td><td>CACCCTCTCCGCCGAAGTG </td></tr>\n",
       "\t<tr><td>CHD2   </td><td>CHD2_1   </td><td>GCAGAGCGCGCTCTCTCTA </td></tr>\n",
       "\t<tr><td>CNOT2  </td><td>CNOT2_2  </td><td>CGGGACAAGAAAATTCATG </td></tr>\n",
       "\t<tr><td>GPBP1L1</td><td>GPBP1L1_1</td><td>GGCCCACAAGGTCCAGGAG </td></tr>\n",
       "\t<tr><td>HIC2   </td><td>HIC2_1   </td><td>TCGGCCCGCGACTCCTGTT </td></tr>\n",
       "\t<tr><td>MNT    </td><td>MNT_1    </td><td>GCGGGGGCGTACTACACCG </td></tr>\n",
       "\t<tr><td>NTC28  </td><td>NTC28_2  </td><td>GCGCTAGGAAACCAACAAGG</td></tr>\n",
       "\t<tr><td>NTC36  </td><td>NTC36_1  </td><td>GCAGCGAGCAGCTTTTACGA</td></tr>\n",
       "\t<tr><td>NTC74  </td><td>NTC74_1  </td><td>GGGTGGGTCACGCGGAAGGG</td></tr>\n",
       "\t<tr><td>NTC74  </td><td>NTC74_2  </td><td>GGATCGCTTCAATCACCGAG</td></tr>\n",
       "\t<tr><td>NTC82  </td><td>NTC82_1  </td><td>GACGTTGAGGGACTGTCCTA</td></tr>\n",
       "\t<tr><td>PIAS1  </td><td>PIAS1_1  </td><td>GCGGACAGTGCGGAACTAA </td></tr>\n",
       "\t<tr><td>PIAS1  </td><td>PIAS1_2  </td><td>GCTACTGGGATCCACGGAG </td></tr>\n",
       "\t<tr><td>PLAGL2 </td><td>PLAGL2_1 </td><td>GGTGTGGGCGACCGCGCTGA</td></tr>\n",
       "\t<tr><td>SLTM   </td><td>SLTM_1   </td><td>GCCGAGGCTGCCACCGCAC </td></tr>\n",
       "\t<tr><td>TSC22D4</td><td>TSC22D4_1</td><td>GAGCCGAGGAGCGGAGACA </td></tr>\n",
       "\t<tr><td>ZBED6  </td><td>ZBED6_1  </td><td>TAGCGAACACCGGATGTGG </td></tr>\n",
       "\t<tr><td>ZNF669 </td><td>ZNF669_2 </td><td>GGACCAGCCGCGGCCACAG </td></tr>\n",
       "</tbody>\n",
       "</table>\n"
      ],
      "text/latex": [
       "A data.frame: 18 \u00d7 3\n",
       "\\begin{tabular}{lll}\n",
       " X.TargetGene & GuideName & value\\\\\n",
       " <chr> & <chr> & <chr>\\\\\n",
       "\\hline\n",
       "\t ADNP    & ADNP\\_1    & CACCCTCTCCGCCGAAGTG \\\\\n",
       "\t CHD2    & CHD2\\_1    & GCAGAGCGCGCTCTCTCTA \\\\\n",
       "\t CNOT2   & CNOT2\\_2   & CGGGACAAGAAAATTCATG \\\\\n",
       "\t GPBP1L1 & GPBP1L1\\_1 & GGCCCACAAGGTCCAGGAG \\\\\n",
       "\t HIC2    & HIC2\\_1    & TCGGCCCGCGACTCCTGTT \\\\\n",
       "\t MNT     & MNT\\_1     & GCGGGGGCGTACTACACCG \\\\\n",
       "\t NTC28   & NTC28\\_2   & GCGCTAGGAAACCAACAAGG\\\\\n",
       "\t NTC36   & NTC36\\_1   & GCAGCGAGCAGCTTTTACGA\\\\\n",
       "\t NTC74   & NTC74\\_1   & GGGTGGGTCACGCGGAAGGG\\\\\n",
       "\t NTC74   & NTC74\\_2   & GGATCGCTTCAATCACCGAG\\\\\n",
       "\t NTC82   & NTC82\\_1   & GACGTTGAGGGACTGTCCTA\\\\\n",
       "\t PIAS1   & PIAS1\\_1   & GCGGACAGTGCGGAACTAA \\\\\n",
       "\t PIAS1   & PIAS1\\_2   & GCTACTGGGATCCACGGAG \\\\\n",
       "\t PLAGL2  & PLAGL2\\_1  & GGTGTGGGCGACCGCGCTGA\\\\\n",
       "\t SLTM    & SLTM\\_1    & GCCGAGGCTGCCACCGCAC \\\\\n",
       "\t TSC22D4 & TSC22D4\\_1 & GAGCCGAGGAGCGGAGACA \\\\\n",
       "\t ZBED6   & ZBED6\\_1   & TAGCGAACACCGGATGTGG \\\\\n",
       "\t ZNF669  & ZNF669\\_2  & GGACCAGCCGCGGCCACAG \\\\\n",
       "\\end{tabular}\n"
      ],
      "text/markdown": [
       "\n",
       "A data.frame: 18 \u00d7 3\n",
       "\n",
       "| X.TargetGene &lt;chr&gt; | GuideName &lt;chr&gt; | value &lt;chr&gt; |\n",
       "|---|---|---|\n",
       "| ADNP    | ADNP_1    | CACCCTCTCCGCCGAAGTG  |\n",
       "| CHD2    | CHD2_1    | GCAGAGCGCGCTCTCTCTA  |\n",
       "| CNOT2   | CNOT2_2   | CGGGACAAGAAAATTCATG  |\n",
       "| GPBP1L1 | GPBP1L1_1 | GGCCCACAAGGTCCAGGAG  |\n",
       "| HIC2    | HIC2_1    | TCGGCCCGCGACTCCTGTT  |\n",
       "| MNT     | MNT_1     | GCGGGGGCGTACTACACCG  |\n",
       "| NTC28   | NTC28_2   | GCGCTAGGAAACCAACAAGG |\n",
       "| NTC36   | NTC36_1   | GCAGCGAGCAGCTTTTACGA |\n",
       "| NTC74   | NTC74_1   | GGGTGGGTCACGCGGAAGGG |\n",
       "| NTC74   | NTC74_2   | GGATCGCTTCAATCACCGAG |\n",
       "| NTC82   | NTC82_1   | GACGTTGAGGGACTGTCCTA |\n",
       "| PIAS1   | PIAS1_1   | GCGGACAGTGCGGAACTAA  |\n",
       "| PIAS1   | PIAS1_2   | GCTACTGGGATCCACGGAG  |\n",
       "| PLAGL2  | PLAGL2_1  | GGTGTGGGCGACCGCGCTGA |\n",
       "| SLTM    | SLTM_1    | GCCGAGGCTGCCACCGCAC  |\n",
       "| TSC22D4 | TSC22D4_1 | GAGCCGAGGAGCGGAGACA  |\n",
       "| ZBED6   | ZBED6_1   | TAGCGAACACCGGATGTGG  |\n",
       "| ZNF669  | ZNF669_2  | GGACCAGCCGCGGCCACAG  |\n",
       "\n"
      ],
      "text/plain": [
       "   X.TargetGene GuideName value               \n",
       "1  ADNP         ADNP_1    CACCCTCTCCGCCGAAGTG \n",
       "2  CHD2         CHD2_1    GCAGAGCGCGCTCTCTCTA \n",
       "3  CNOT2        CNOT2_2   CGGGACAAGAAAATTCATG \n",
       "4  GPBP1L1      GPBP1L1_1 GGCCCACAAGGTCCAGGAG \n",
       "5  HIC2         HIC2_1    TCGGCCCGCGACTCCTGTT \n",
       "6  MNT          MNT_1     GCGGGGGCGTACTACACCG \n",
       "7  NTC28        NTC28_2   GCGCTAGGAAACCAACAAGG\n",
       "8  NTC36        NTC36_1   GCAGCGAGCAGCTTTTACGA\n",
       "9  NTC74        NTC74_1   GGGTGGGTCACGCGGAAGGG\n",
       "10 NTC74        NTC74_2   GGATCGCTTCAATCACCGAG\n",
       "11 NTC82        NTC82_1   GACGTTGAGGGACTGTCCTA\n",
       "12 PIAS1        PIAS1_1   GCGGACAGTGCGGAACTAA \n",
       "13 PIAS1        PIAS1_2   GCTACTGGGATCCACGGAG \n",
       "14 PLAGL2       PLAGL2_1  GGTGTGGGCGACCGCGCTGA\n",
       "15 SLTM         SLTM_1    GCCGAGGCTGCCACCGCAC \n",
       "16 TSC22D4      TSC22D4_1 GAGCCGAGGAGCGGAGACA \n",
       "17 ZBED6        ZBED6_1   TAGCGAACACCGGATGTGG \n",
       "18 ZNF669       ZNF669_2  GGACCAGCCGCGGCCACAG "
      ]
     },
     "metadata": {},
     "output_type": "display_data"
    }
   ],
   "source": [
    "df_protosp"
   ]
  },
  {
   "cell_type": "code",
   "execution_count": 297,
   "id": "fbb7dd52",
   "metadata": {
    "execution": {
     "iopub.execute_input": "2023-08-18T23:05:23.836007Z",
     "iopub.status.busy": "2023-08-18T23:05:23.835097Z",
     "iopub.status.idle": "2023-08-18T23:05:28.318464Z",
     "shell.execute_reply": "2023-08-18T23:05:28.317344Z"
    },
    "papermill": {
     "duration": 4.495717,
     "end_time": "2023-08-18T23:05:28.320486",
     "exception": false,
     "start_time": "2023-08-18T23:05:23.824769",
     "status": "completed"
    },
    "tags": [],
    "vscode": {
     "languageId": "r"
    }
   },
   "outputs": [
    {
     "data": {
      "text/html": [
       "<table class=\"dataframe\">\n",
       "<caption>A matrix: 18 \u00d7 212642 of type int</caption>\n",
       "<thead>\n",
       "\t<tr><th></th><th scope=col>AAACAGCCAAAGCGGC-1</th><th scope=col>AAACAGCCAAATATCC-1</th><th scope=col>AAACAGCCAACACCTA-1</th><th scope=col>AAACAGCCAACATAAG-1</th><th scope=col>AAACAGCCAACCTGGT-1</th><th scope=col>AAACAGCCAACTAACT-1</th><th scope=col>AAACAGCCAACTAGAA-1</th><th scope=col>AAACAGCCAACTCGCG-1</th><th scope=col>AAACAGCCAACTGGGA-1</th><th scope=col>AAACAGCCAAGACTCC-1</th><th scope=col>\u22ef</th><th scope=col>TTTGTTGGTTTAAAGC-1</th><th scope=col>TTTGTTGGTTTAGCGA-1</th><th scope=col>TTTGTTGGTTTAGTCC-1</th><th scope=col>TTTGTTGGTTTATCTG-1</th><th scope=col>TTTGTTGGTTTGACCT-1</th><th scope=col>TTTGTTGGTTTGCGCC-1</th><th scope=col>TTTGTTGGTTTGGGCG-1</th><th scope=col>TTTGTTGGTTTGGGTA-1</th><th scope=col>TTTGTTGGTTTGTGGA-1</th><th scope=col>TTTGTTGGTTTGTTGC-1</th></tr>\n",
       "</thead>\n",
       "<tbody>\n",
       "\t<tr><th scope=row>ADNP_1</th><td>  0</td><td>64</td><td>  0</td><td>0</td><td>0</td><td>0</td><td> 0</td><td> 0</td><td>0</td><td>  0</td><td>\u22ef</td><td> 0</td><td> 0</td><td> 0</td><td>0</td><td> 0</td><td>  0</td><td>  0</td><td>0</td><td>1</td><td>0</td></tr>\n",
       "\t<tr><th scope=row>CHD2_1</th><td>  0</td><td> 0</td><td>  0</td><td>0</td><td>0</td><td>0</td><td> 0</td><td>11</td><td>0</td><td>  0</td><td>\u22ef</td><td> 0</td><td> 0</td><td> 0</td><td>0</td><td> 0</td><td>  0</td><td>125</td><td>0</td><td>0</td><td>0</td></tr>\n",
       "\t<tr><th scope=row>CNOT2_2</th><td>  0</td><td> 0</td><td>  0</td><td>0</td><td>0</td><td>0</td><td> 0</td><td> 0</td><td>0</td><td>  0</td><td>\u22ef</td><td> 0</td><td> 0</td><td> 0</td><td>0</td><td> 0</td><td>  0</td><td>  0</td><td>0</td><td>0</td><td>0</td></tr>\n",
       "\t<tr><th scope=row>GPBP1L1_1</th><td>  0</td><td> 0</td><td>  0</td><td>1</td><td>0</td><td>0</td><td> 0</td><td> 0</td><td>0</td><td> 36</td><td>\u22ef</td><td> 0</td><td> 0</td><td>47</td><td>0</td><td>86</td><td>  0</td><td>103</td><td>0</td><td>0</td><td>0</td></tr>\n",
       "\t<tr><th scope=row>HIC2_1</th><td>  0</td><td> 0</td><td>  0</td><td>0</td><td>0</td><td>0</td><td> 0</td><td> 0</td><td>0</td><td>  0</td><td>\u22ef</td><td> 0</td><td> 0</td><td> 0</td><td>0</td><td>63</td><td>  0</td><td>  0</td><td>0</td><td>0</td><td>0</td></tr>\n",
       "\t<tr><th scope=row>MNT_1</th><td>200</td><td> 0</td><td>  0</td><td>1</td><td>0</td><td>0</td><td> 0</td><td> 6</td><td>0</td><td> 66</td><td>\u22ef</td><td> 0</td><td> 0</td><td> 0</td><td>0</td><td> 0</td><td> 58</td><td>  1</td><td>0</td><td>0</td><td>1</td></tr>\n",
       "\t<tr><th scope=row>NTC28_2</th><td> 38</td><td> 0</td><td>  0</td><td>0</td><td>0</td><td>0</td><td> 0</td><td>35</td><td>0</td><td>  0</td><td>\u22ef</td><td>45</td><td> 0</td><td> 0</td><td>0</td><td> 0</td><td>  0</td><td>  0</td><td>0</td><td>0</td><td>0</td></tr>\n",
       "\t<tr><th scope=row>NTC36_1</th><td>  0</td><td> 0</td><td>  0</td><td>1</td><td>0</td><td>0</td><td> 0</td><td> 0</td><td>0</td><td>  0</td><td>\u22ef</td><td> 0</td><td> 0</td><td> 0</td><td>0</td><td> 0</td><td> 47</td><td> 18</td><td>0</td><td>0</td><td>0</td></tr>\n",
       "\t<tr><th scope=row>NTC74_1</th><td>  0</td><td> 0</td><td>  0</td><td>0</td><td>3</td><td>0</td><td> 0</td><td> 0</td><td>0</td><td>  0</td><td>\u22ef</td><td> 0</td><td> 0</td><td> 0</td><td>0</td><td> 0</td><td> 42</td><td>  0</td><td>0</td><td>0</td><td>0</td></tr>\n",
       "\t<tr><th scope=row>NTC74_2</th><td>  0</td><td> 0</td><td>  0</td><td>0</td><td>3</td><td>0</td><td> 0</td><td> 0</td><td>0</td><td>  0</td><td>\u22ef</td><td>20</td><td> 0</td><td> 0</td><td>1</td><td> 3</td><td>  0</td><td> 45</td><td>0</td><td>0</td><td>0</td></tr>\n",
       "\t<tr><th scope=row>NTC82_1</th><td>131</td><td>89</td><td>  0</td><td>2</td><td>0</td><td>1</td><td> 0</td><td> 0</td><td>1</td><td> 49</td><td>\u22ef</td><td>80</td><td> 0</td><td> 1</td><td>0</td><td>52</td><td>  0</td><td> 33</td><td>0</td><td>0</td><td>0</td></tr>\n",
       "\t<tr><th scope=row>PIAS1_1</th><td>  0</td><td> 0</td><td> 31</td><td>0</td><td>0</td><td>0</td><td>72</td><td> 0</td><td>0</td><td>  0</td><td>\u22ef</td><td> 0</td><td> 0</td><td> 0</td><td>0</td><td>66</td><td>  1</td><td>154</td><td>0</td><td>0</td><td>0</td></tr>\n",
       "\t<tr><th scope=row>PIAS1_2</th><td>  0</td><td> 0</td><td>  0</td><td>1</td><td>0</td><td>0</td><td> 0</td><td> 0</td><td>0</td><td>  0</td><td>\u22ef</td><td> 0</td><td> 0</td><td> 0</td><td>0</td><td> 0</td><td>  0</td><td> 20</td><td>0</td><td>0</td><td>0</td></tr>\n",
       "\t<tr><th scope=row>PLAGL2_1</th><td> 66</td><td> 0</td><td>  0</td><td>0</td><td>0</td><td>0</td><td>95</td><td> 0</td><td>0</td><td>  0</td><td>\u22ef</td><td> 0</td><td>56</td><td>53</td><td>0</td><td> 0</td><td>  0</td><td> 76</td><td>0</td><td>0</td><td>0</td></tr>\n",
       "\t<tr><th scope=row>SLTM_1</th><td>180</td><td> 0</td><td> 48</td><td>0</td><td>0</td><td>0</td><td>55</td><td> 0</td><td>0</td><td>157</td><td>\u22ef</td><td> 0</td><td>34</td><td>56</td><td>1</td><td> 0</td><td>149</td><td>112</td><td>0</td><td>1</td><td>0</td></tr>\n",
       "\t<tr><th scope=row>TSC22D4_1</th><td> 61</td><td> 0</td><td> 49</td><td>0</td><td>7</td><td>0</td><td>50</td><td> 0</td><td>0</td><td> 67</td><td>\u22ef</td><td> 0</td><td> 0</td><td>66</td><td>0</td><td> 0</td><td>  0</td><td>252</td><td>1</td><td>0</td><td>0</td></tr>\n",
       "\t<tr><th scope=row>ZBED6_1</th><td>  0</td><td> 0</td><td>121</td><td>0</td><td>0</td><td>0</td><td> 0</td><td> 0</td><td>0</td><td>  0</td><td>\u22ef</td><td> 0</td><td> 0</td><td> 0</td><td>0</td><td> 0</td><td>  0</td><td>  0</td><td>0</td><td>0</td><td>0</td></tr>\n",
       "\t<tr><th scope=row>ZNF669_2</th><td>  0</td><td> 0</td><td>  0</td><td>0</td><td>2</td><td>0</td><td> 0</td><td> 0</td><td>0</td><td>  0</td><td>\u22ef</td><td> 0</td><td> 0</td><td> 0</td><td>0</td><td>36</td><td>  0</td><td> 29</td><td>0</td><td>0</td><td>0</td></tr>\n",
       "</tbody>\n",
       "</table>\n"
      ],
      "text/latex": [
       "A matrix: 18 \u00d7 212642 of type int\n",
       "\\begin{tabular}{r|lllllllllllllllllllll}\n",
       "  & AAACAGCCAAAGCGGC-1 & AAACAGCCAAATATCC-1 & AAACAGCCAACACCTA-1 & AAACAGCCAACATAAG-1 & AAACAGCCAACCTGGT-1 & AAACAGCCAACTAACT-1 & AAACAGCCAACTAGAA-1 & AAACAGCCAACTCGCG-1 & AAACAGCCAACTGGGA-1 & AAACAGCCAAGACTCC-1 & \u22ef & TTTGTTGGTTTAAAGC-1 & TTTGTTGGTTTAGCGA-1 & TTTGTTGGTTTAGTCC-1 & TTTGTTGGTTTATCTG-1 & TTTGTTGGTTTGACCT-1 & TTTGTTGGTTTGCGCC-1 & TTTGTTGGTTTGGGCG-1 & TTTGTTGGTTTGGGTA-1 & TTTGTTGGTTTGTGGA-1 & TTTGTTGGTTTGTTGC-1\\\\\n",
       "\\hline\n",
       "\tADNP\\_1 &   0 & 64 &   0 & 0 & 0 & 0 &  0 &  0 & 0 &   0 & \u22ef &  0 &  0 &  0 & 0 &  0 &   0 &   0 & 0 & 1 & 0\\\\\n",
       "\tCHD2\\_1 &   0 &  0 &   0 & 0 & 0 & 0 &  0 & 11 & 0 &   0 & \u22ef &  0 &  0 &  0 & 0 &  0 &   0 & 125 & 0 & 0 & 0\\\\\n",
       "\tCNOT2\\_2 &   0 &  0 &   0 & 0 & 0 & 0 &  0 &  0 & 0 &   0 & \u22ef &  0 &  0 &  0 & 0 &  0 &   0 &   0 & 0 & 0 & 0\\\\\n",
       "\tGPBP1L1\\_1 &   0 &  0 &   0 & 1 & 0 & 0 &  0 &  0 & 0 &  36 & \u22ef &  0 &  0 & 47 & 0 & 86 &   0 & 103 & 0 & 0 & 0\\\\\n",
       "\tHIC2\\_1 &   0 &  0 &   0 & 0 & 0 & 0 &  0 &  0 & 0 &   0 & \u22ef &  0 &  0 &  0 & 0 & 63 &   0 &   0 & 0 & 0 & 0\\\\\n",
       "\tMNT\\_1 & 200 &  0 &   0 & 1 & 0 & 0 &  0 &  6 & 0 &  66 & \u22ef &  0 &  0 &  0 & 0 &  0 &  58 &   1 & 0 & 0 & 1\\\\\n",
       "\tNTC28\\_2 &  38 &  0 &   0 & 0 & 0 & 0 &  0 & 35 & 0 &   0 & \u22ef & 45 &  0 &  0 & 0 &  0 &   0 &   0 & 0 & 0 & 0\\\\\n",
       "\tNTC36\\_1 &   0 &  0 &   0 & 1 & 0 & 0 &  0 &  0 & 0 &   0 & \u22ef &  0 &  0 &  0 & 0 &  0 &  47 &  18 & 0 & 0 & 0\\\\\n",
       "\tNTC74\\_1 &   0 &  0 &   0 & 0 & 3 & 0 &  0 &  0 & 0 &   0 & \u22ef &  0 &  0 &  0 & 0 &  0 &  42 &   0 & 0 & 0 & 0\\\\\n",
       "\tNTC74\\_2 &   0 &  0 &   0 & 0 & 3 & 0 &  0 &  0 & 0 &   0 & \u22ef & 20 &  0 &  0 & 1 &  3 &   0 &  45 & 0 & 0 & 0\\\\\n",
       "\tNTC82\\_1 & 131 & 89 &   0 & 2 & 0 & 1 &  0 &  0 & 1 &  49 & \u22ef & 80 &  0 &  1 & 0 & 52 &   0 &  33 & 0 & 0 & 0\\\\\n",
       "\tPIAS1\\_1 &   0 &  0 &  31 & 0 & 0 & 0 & 72 &  0 & 0 &   0 & \u22ef &  0 &  0 &  0 & 0 & 66 &   1 & 154 & 0 & 0 & 0\\\\\n",
       "\tPIAS1\\_2 &   0 &  0 &   0 & 1 & 0 & 0 &  0 &  0 & 0 &   0 & \u22ef &  0 &  0 &  0 & 0 &  0 &   0 &  20 & 0 & 0 & 0\\\\\n",
       "\tPLAGL2\\_1 &  66 &  0 &   0 & 0 & 0 & 0 & 95 &  0 & 0 &   0 & \u22ef &  0 & 56 & 53 & 0 &  0 &   0 &  76 & 0 & 0 & 0\\\\\n",
       "\tSLTM\\_1 & 180 &  0 &  48 & 0 & 0 & 0 & 55 &  0 & 0 & 157 & \u22ef &  0 & 34 & 56 & 1 &  0 & 149 & 112 & 0 & 1 & 0\\\\\n",
       "\tTSC22D4\\_1 &  61 &  0 &  49 & 0 & 7 & 0 & 50 &  0 & 0 &  67 & \u22ef &  0 &  0 & 66 & 0 &  0 &   0 & 252 & 1 & 0 & 0\\\\\n",
       "\tZBED6\\_1 &   0 &  0 & 121 & 0 & 0 & 0 &  0 &  0 & 0 &   0 & \u22ef &  0 &  0 &  0 & 0 &  0 &   0 &   0 & 0 & 0 & 0\\\\\n",
       "\tZNF669\\_2 &   0 &  0 &   0 & 0 & 2 & 0 &  0 &  0 & 0 &   0 & \u22ef &  0 &  0 &  0 & 0 & 36 &   0 &  29 & 0 & 0 & 0\\\\\n",
       "\\end{tabular}\n"
      ],
      "text/markdown": [
       "\n",
       "A matrix: 18 \u00d7 212642 of type int\n",
       "\n",
       "| <!--/--> | AAACAGCCAAAGCGGC-1 | AAACAGCCAAATATCC-1 | AAACAGCCAACACCTA-1 | AAACAGCCAACATAAG-1 | AAACAGCCAACCTGGT-1 | AAACAGCCAACTAACT-1 | AAACAGCCAACTAGAA-1 | AAACAGCCAACTCGCG-1 | AAACAGCCAACTGGGA-1 | AAACAGCCAAGACTCC-1 | \u22ef | TTTGTTGGTTTAAAGC-1 | TTTGTTGGTTTAGCGA-1 | TTTGTTGGTTTAGTCC-1 | TTTGTTGGTTTATCTG-1 | TTTGTTGGTTTGACCT-1 | TTTGTTGGTTTGCGCC-1 | TTTGTTGGTTTGGGCG-1 | TTTGTTGGTTTGGGTA-1 | TTTGTTGGTTTGTGGA-1 | TTTGTTGGTTTGTTGC-1 |\n",
       "|---|---|---|---|---|---|---|---|---|---|---|---|---|---|---|---|---|---|---|---|---|---|\n",
       "| ADNP_1 |   0 | 64 |   0 | 0 | 0 | 0 |  0 |  0 | 0 |   0 | \u22ef |  0 |  0 |  0 | 0 |  0 |   0 |   0 | 0 | 1 | 0 |\n",
       "| CHD2_1 |   0 |  0 |   0 | 0 | 0 | 0 |  0 | 11 | 0 |   0 | \u22ef |  0 |  0 |  0 | 0 |  0 |   0 | 125 | 0 | 0 | 0 |\n",
       "| CNOT2_2 |   0 |  0 |   0 | 0 | 0 | 0 |  0 |  0 | 0 |   0 | \u22ef |  0 |  0 |  0 | 0 |  0 |   0 |   0 | 0 | 0 | 0 |\n",
       "| GPBP1L1_1 |   0 |  0 |   0 | 1 | 0 | 0 |  0 |  0 | 0 |  36 | \u22ef |  0 |  0 | 47 | 0 | 86 |   0 | 103 | 0 | 0 | 0 |\n",
       "| HIC2_1 |   0 |  0 |   0 | 0 | 0 | 0 |  0 |  0 | 0 |   0 | \u22ef |  0 |  0 |  0 | 0 | 63 |   0 |   0 | 0 | 0 | 0 |\n",
       "| MNT_1 | 200 |  0 |   0 | 1 | 0 | 0 |  0 |  6 | 0 |  66 | \u22ef |  0 |  0 |  0 | 0 |  0 |  58 |   1 | 0 | 0 | 1 |\n",
       "| NTC28_2 |  38 |  0 |   0 | 0 | 0 | 0 |  0 | 35 | 0 |   0 | \u22ef | 45 |  0 |  0 | 0 |  0 |   0 |   0 | 0 | 0 | 0 |\n",
       "| NTC36_1 |   0 |  0 |   0 | 1 | 0 | 0 |  0 |  0 | 0 |   0 | \u22ef |  0 |  0 |  0 | 0 |  0 |  47 |  18 | 0 | 0 | 0 |\n",
       "| NTC74_1 |   0 |  0 |   0 | 0 | 3 | 0 |  0 |  0 | 0 |   0 | \u22ef |  0 |  0 |  0 | 0 |  0 |  42 |   0 | 0 | 0 | 0 |\n",
       "| NTC74_2 |   0 |  0 |   0 | 0 | 3 | 0 |  0 |  0 | 0 |   0 | \u22ef | 20 |  0 |  0 | 1 |  3 |   0 |  45 | 0 | 0 | 0 |\n",
       "| NTC82_1 | 131 | 89 |   0 | 2 | 0 | 1 |  0 |  0 | 1 |  49 | \u22ef | 80 |  0 |  1 | 0 | 52 |   0 |  33 | 0 | 0 | 0 |\n",
       "| PIAS1_1 |   0 |  0 |  31 | 0 | 0 | 0 | 72 |  0 | 0 |   0 | \u22ef |  0 |  0 |  0 | 0 | 66 |   1 | 154 | 0 | 0 | 0 |\n",
       "| PIAS1_2 |   0 |  0 |   0 | 1 | 0 | 0 |  0 |  0 | 0 |   0 | \u22ef |  0 |  0 |  0 | 0 |  0 |   0 |  20 | 0 | 0 | 0 |\n",
       "| PLAGL2_1 |  66 |  0 |   0 | 0 | 0 | 0 | 95 |  0 | 0 |   0 | \u22ef |  0 | 56 | 53 | 0 |  0 |   0 |  76 | 0 | 0 | 0 |\n",
       "| SLTM_1 | 180 |  0 |  48 | 0 | 0 | 0 | 55 |  0 | 0 | 157 | \u22ef |  0 | 34 | 56 | 1 |  0 | 149 | 112 | 0 | 1 | 0 |\n",
       "| TSC22D4_1 |  61 |  0 |  49 | 0 | 7 | 0 | 50 |  0 | 0 |  67 | \u22ef |  0 |  0 | 66 | 0 |  0 |   0 | 252 | 1 | 0 | 0 |\n",
       "| ZBED6_1 |   0 |  0 | 121 | 0 | 0 | 0 |  0 |  0 | 0 |   0 | \u22ef |  0 |  0 |  0 | 0 |  0 |   0 |   0 | 0 | 0 | 0 |\n",
       "| ZNF669_2 |   0 |  0 |   0 | 0 | 2 | 0 |  0 |  0 | 0 |   0 | \u22ef |  0 |  0 |  0 | 0 | 36 |   0 |  29 | 0 | 0 | 0 |\n",
       "\n"
      ],
      "text/plain": [
       "          AAACAGCCAAAGCGGC-1 AAACAGCCAAATATCC-1 AAACAGCCAACACCTA-1\n",
       "ADNP_1      0                64                   0               \n",
       "CHD2_1      0                 0                   0               \n",
       "CNOT2_2     0                 0                   0               \n",
       "GPBP1L1_1   0                 0                   0               \n",
       "HIC2_1      0                 0                   0               \n",
       "MNT_1     200                 0                   0               \n",
       "NTC28_2    38                 0                   0               \n",
       "NTC36_1     0                 0                   0               \n",
       "NTC74_1     0                 0                   0               \n",
       "NTC74_2     0                 0                   0               \n",
       "NTC82_1   131                89                   0               \n",
       "PIAS1_1     0                 0                  31               \n",
       "PIAS1_2     0                 0                   0               \n",
       "PLAGL2_1   66                 0                   0               \n",
       "SLTM_1    180                 0                  48               \n",
       "TSC22D4_1  61                 0                  49               \n",
       "ZBED6_1     0                 0                 121               \n",
       "ZNF669_2    0                 0                   0               \n",
       "          AAACAGCCAACATAAG-1 AAACAGCCAACCTGGT-1 AAACAGCCAACTAACT-1\n",
       "ADNP_1    0                  0                  0                 \n",
       "CHD2_1    0                  0                  0                 \n",
       "CNOT2_2   0                  0                  0                 \n",
       "GPBP1L1_1 1                  0                  0                 \n",
       "HIC2_1    0                  0                  0                 \n",
       "MNT_1     1                  0                  0                 \n",
       "NTC28_2   0                  0                  0                 \n",
       "NTC36_1   1                  0                  0                 \n",
       "NTC74_1   0                  3                  0                 \n",
       "NTC74_2   0                  3                  0                 \n",
       "NTC82_1   2                  0                  1                 \n",
       "PIAS1_1   0                  0                  0                 \n",
       "PIAS1_2   1                  0                  0                 \n",
       "PLAGL2_1  0                  0                  0                 \n",
       "SLTM_1    0                  0                  0                 \n",
       "TSC22D4_1 0                  7                  0                 \n",
       "ZBED6_1   0                  0                  0                 \n",
       "ZNF669_2  0                  2                  0                 \n",
       "          AAACAGCCAACTAGAA-1 AAACAGCCAACTCGCG-1 AAACAGCCAACTGGGA-1\n",
       "ADNP_1     0                  0                 0                 \n",
       "CHD2_1     0                 11                 0                 \n",
       "CNOT2_2    0                  0                 0                 \n",
       "GPBP1L1_1  0                  0                 0                 \n",
       "HIC2_1     0                  0                 0                 \n",
       "MNT_1      0                  6                 0                 \n",
       "NTC28_2    0                 35                 0                 \n",
       "NTC36_1    0                  0                 0                 \n",
       "NTC74_1    0                  0                 0                 \n",
       "NTC74_2    0                  0                 0                 \n",
       "NTC82_1    0                  0                 1                 \n",
       "PIAS1_1   72                  0                 0                 \n",
       "PIAS1_2    0                  0                 0                 \n",
       "PLAGL2_1  95                  0                 0                 \n",
       "SLTM_1    55                  0                 0                 \n",
       "TSC22D4_1 50                  0                 0                 \n",
       "ZBED6_1    0                  0                 0                 \n",
       "ZNF669_2   0                  0                 0                 \n",
       "          AAACAGCCAAGACTCC-1 \u22ef TTTGTTGGTTTAAAGC-1 TTTGTTGGTTTAGCGA-1\n",
       "ADNP_1      0                \u22ef  0                  0                \n",
       "CHD2_1      0                \u22ef  0                  0                \n",
       "CNOT2_2     0                \u22ef  0                  0                \n",
       "GPBP1L1_1  36                \u22ef  0                  0                \n",
       "HIC2_1      0                \u22ef  0                  0                \n",
       "MNT_1      66                \u22ef  0                  0                \n",
       "NTC28_2     0                \u22ef 45                  0                \n",
       "NTC36_1     0                \u22ef  0                  0                \n",
       "NTC74_1     0                \u22ef  0                  0                \n",
       "NTC74_2     0                \u22ef 20                  0                \n",
       "NTC82_1    49                \u22ef 80                  0                \n",
       "PIAS1_1     0                \u22ef  0                  0                \n",
       "PIAS1_2     0                \u22ef  0                  0                \n",
       "PLAGL2_1    0                \u22ef  0                 56                \n",
       "SLTM_1    157                \u22ef  0                 34                \n",
       "TSC22D4_1  67                \u22ef  0                  0                \n",
       "ZBED6_1     0                \u22ef  0                  0                \n",
       "ZNF669_2    0                \u22ef  0                  0                \n",
       "          TTTGTTGGTTTAGTCC-1 TTTGTTGGTTTATCTG-1 TTTGTTGGTTTGACCT-1\n",
       "ADNP_1     0                 0                   0                \n",
       "CHD2_1     0                 0                   0                \n",
       "CNOT2_2    0                 0                   0                \n",
       "GPBP1L1_1 47                 0                  86                \n",
       "HIC2_1     0                 0                  63                \n",
       "MNT_1      0                 0                   0                \n",
       "NTC28_2    0                 0                   0                \n",
       "NTC36_1    0                 0                   0                \n",
       "NTC74_1    0                 0                   0                \n",
       "NTC74_2    0                 1                   3                \n",
       "NTC82_1    1                 0                  52                \n",
       "PIAS1_1    0                 0                  66                \n",
       "PIAS1_2    0                 0                   0                \n",
       "PLAGL2_1  53                 0                   0                \n",
       "SLTM_1    56                 1                   0                \n",
       "TSC22D4_1 66                 0                   0                \n",
       "ZBED6_1    0                 0                   0                \n",
       "ZNF669_2   0                 0                  36                \n",
       "          TTTGTTGGTTTGCGCC-1 TTTGTTGGTTTGGGCG-1 TTTGTTGGTTTGGGTA-1\n",
       "ADNP_1      0                  0                0                 \n",
       "CHD2_1      0                125                0                 \n",
       "CNOT2_2     0                  0                0                 \n",
       "GPBP1L1_1   0                103                0                 \n",
       "HIC2_1      0                  0                0                 \n",
       "MNT_1      58                  1                0                 \n",
       "NTC28_2     0                  0                0                 \n",
       "NTC36_1    47                 18                0                 \n",
       "NTC74_1    42                  0                0                 \n",
       "NTC74_2     0                 45                0                 \n",
       "NTC82_1     0                 33                0                 \n",
       "PIAS1_1     1                154                0                 \n",
       "PIAS1_2     0                 20                0                 \n",
       "PLAGL2_1    0                 76                0                 \n",
       "SLTM_1    149                112                0                 \n",
       "TSC22D4_1   0                252                1                 \n",
       "ZBED6_1     0                  0                0                 \n",
       "ZNF669_2    0                 29                0                 \n",
       "          TTTGTTGGTTTGTGGA-1 TTTGTTGGTTTGTTGC-1\n",
       "ADNP_1    1                  0                 \n",
       "CHD2_1    0                  0                 \n",
       "CNOT2_2   0                  0                 \n",
       "GPBP1L1_1 0                  0                 \n",
       "HIC2_1    0                  0                 \n",
       "MNT_1     0                  1                 \n",
       "NTC28_2   0                  0                 \n",
       "NTC36_1   0                  0                 \n",
       "NTC74_1   0                  0                 \n",
       "NTC74_2   0                  0                 \n",
       "NTC82_1   0                  0                 \n",
       "PIAS1_1   0                  0                 \n",
       "PIAS1_2   0                  0                 \n",
       "PLAGL2_1  0                  0                 \n",
       "SLTM_1    1                  0                 \n",
       "TSC22D4_1 0                  0                 \n",
       "ZBED6_1   0                  0                 \n",
       "ZNF669_2  0                  0                 "
      ]
     },
     "metadata": {},
     "output_type": "display_data"
    }
   ],
   "source": [
    "#c(\"OTP\", \"MYF6\", \"MEIS1\", \"FLI1\", \"HHEX\", \"HOXA6\", \"ELF5\", \"GBX1\", \"DPRX\", \"NTCTL\")\n",
    "##!! tf_list   <- tfs_w_ntctl \n",
    "\n",
    "df_guide <- read.table(tsv_name, header = TRUE, sep = \"\\t\", quote = \"\")\n",
    "tf_list  <- intersect(guides_to_plot, colnames(df_guide))\n",
    "\n",
    "guide_counts  <- t(data.matrix(df_guide[,tf_list]))\n",
    "colnames(guide_counts) <- df_guide$barcode_dash\n",
    "guide_counts"
   ]
  },
  {
   "attachments": {},
   "cell_type": "markdown",
   "id": "29ffcf57",
   "metadata": {
    "papermill": {
     "duration": 0.009379,
     "end_time": "2023-08-18T23:05:28.343925",
     "exception": false,
     "start_time": "2023-08-18T23:05:28.334546",
     "status": "completed"
    },
    "tags": []
   },
   "source": [
    "Get overlapping cells"
   ]
  },
  {
   "cell_type": "code",
   "execution_count": 298,
   "id": "3dc7f46a",
   "metadata": {
    "execution": {
     "iopub.execute_input": "2023-08-18T23:05:28.368407Z",
     "iopub.status.busy": "2023-08-18T23:05:28.366782Z",
     "iopub.status.idle": "2023-08-18T23:05:28.462286Z",
     "shell.execute_reply": "2023-08-18T23:05:28.461153Z"
    },
    "papermill": {
     "duration": 0.110561,
     "end_time": "2023-08-18T23:05:28.464024",
     "exception": false,
     "start_time": "2023-08-18T23:05:28.353463",
     "status": "completed"
    },
    "tags": [],
    "vscode": {
     "languageId": "r"
    }
   },
   "outputs": [
    {
     "data": {
      "text/html": [
       "<span style=white-space:pre-wrap>'Overlapping barcodes w/ min guides = 10 :  6819'</span>"
      ],
      "text/latex": [
       "'Overlapping barcodes w/ min guides = 10 :  6819'"
      ],
      "text/markdown": [
       "<span style=white-space:pre-wrap>'Overlapping barcodes w/ min guides = 10 :  6819'</span>"
      ],
      "text/plain": [
       "[1] \"Overlapping barcodes w/ min guides = 10 :  6819\""
      ]
     },
     "metadata": {},
     "output_type": "display_data"
    },
    {
     "data": {
      "text/html": [
       "<span style=white-space:pre-wrap>'Overlapping barcodes w/ min guides = 1 :  6821'</span>"
      ],
      "text/latex": [
       "'Overlapping barcodes w/ min guides = 1 :  6821'"
      ],
      "text/markdown": [
       "<span style=white-space:pre-wrap>'Overlapping barcodes w/ min guides = 1 :  6821'</span>"
      ],
      "text/plain": [
       "[1] \"Overlapping barcodes w/ min guides = 1 :  6821\""
      ]
     },
     "metadata": {},
     "output_type": "display_data"
    }
   ],
   "source": [
    "N_MIN_GUIDES <- 10\n",
    "select_overlapping   <-\n",
    "    df_guide$in_multiome & (df_guide$n_guides >= N_MIN_GUIDES)\n",
    "\n",
    "overlapping_barcodes <- df_guide[select_overlapping, ]$barcode_dash\n",
    "overlapping_barcodes <- as.vector(overlapping_barcodes)\n",
    "\n",
    "overlapping_guide_counts <- guide_counts[, overlapping_barcodes]\n",
    "\n",
    "n_all_overlapping <- nrow(df_guide[df_guide$in_multiome, ])\n",
    "paste(\"Overlapping barcodes w/ min guides =\", N_MIN_GUIDES,\": \", length(overlapping_barcodes))\n",
    "paste(\"Overlapping barcodes w/ min guides =\", 1,\": \", n_all_overlapping)\n"
   ]
  },
  {
   "cell_type": "code",
   "execution_count": 299,
   "id": "6c57a48e",
   "metadata": {
    "execution": {
     "iopub.execute_input": "2023-08-18T23:05:28.487733Z",
     "iopub.status.busy": "2023-08-18T23:05:28.486864Z",
     "iopub.status.idle": "2023-08-18T23:05:28.504664Z",
     "shell.execute_reply": "2023-08-18T23:05:28.503563Z"
    },
    "papermill": {
     "duration": 0.030099,
     "end_time": "2023-08-18T23:05:28.506385",
     "exception": false,
     "start_time": "2023-08-18T23:05:28.476286",
     "status": "completed"
    },
    "tags": [],
    "vscode": {
     "languageId": "r"
    }
   },
   "outputs": [
    {
     "data": {
      "text/html": [
       "<table class=\"dataframe\">\n",
       "<caption>A matrix: 6 \u00d7 6819 of type int</caption>\n",
       "<thead>\n",
       "\t<tr><th></th><th scope=col>AAACAGCCAAATATCC-1</th><th scope=col>AAACAGCCACGCAACT-1</th><th scope=col>AAACAGCCATGTTGGC-1</th><th scope=col>AAACATGCAAGGTAAC-1</th><th scope=col>AAACATGCAATTTAGC-1</th><th scope=col>AAACATGCACTTCATC-1</th><th scope=col>AAACATGCAGCATGTC-1</th><th scope=col>AAACCAACAATAGCCC-1</th><th scope=col>AAACCAACAATATACC-1</th><th scope=col>AAACCGAAGCGCCTTT-1</th><th scope=col>\u22ef</th><th scope=col>TTTGTGAAGTAAGGGC-1</th><th scope=col>TTTGTGAAGTATCGCG-1</th><th scope=col>TTTGTGGCACATAACT-1</th><th scope=col>TTTGTGGCAGCGCTTG-1</th><th scope=col>TTTGTGGCAGGATTAA-1</th><th scope=col>TTTGTGGCATCTTGAG-1</th><th scope=col>TTTGTGTTCCTCCATA-1</th><th scope=col>TTTGTGTTCGAAGCGG-1</th><th scope=col>TTTGTTGGTCACGAAC-1</th><th scope=col>TTTGTTGGTCCTTCAG-1</th></tr>\n",
       "</thead>\n",
       "<tbody>\n",
       "\t<tr><th scope=row>ADNP_1</th><td>64</td><td> 0</td><td> 0</td><td> 0</td><td> 0</td><td> 0</td><td>   0</td><td> 9</td><td> 0</td><td>0</td><td>\u22ef</td><td>58</td><td>30</td><td> 0</td><td>   0</td><td>0</td><td> 0</td><td> 0</td><td> 0</td><td>0</td><td> 0</td></tr>\n",
       "\t<tr><th scope=row>CHD2_1</th><td> 0</td><td> 0</td><td> 0</td><td>56</td><td>63</td><td> 0</td><td>  37</td><td>62</td><td> 0</td><td>0</td><td>\u22ef</td><td> 0</td><td> 0</td><td> 0</td><td>   0</td><td>0</td><td> 0</td><td> 0</td><td> 0</td><td>0</td><td> 0</td></tr>\n",
       "\t<tr><th scope=row>CNOT2_2</th><td> 0</td><td>67</td><td> 0</td><td>25</td><td> 0</td><td> 0</td><td>   0</td><td> 0</td><td> 0</td><td>0</td><td>\u22ef</td><td> 0</td><td> 0</td><td>46</td><td>   0</td><td>0</td><td>69</td><td> 0</td><td> 0</td><td>0</td><td>18</td></tr>\n",
       "\t<tr><th scope=row>GPBP1L1_1</th><td> 0</td><td> 0</td><td> 0</td><td> 0</td><td> 0</td><td>30</td><td>   0</td><td> 0</td><td> 0</td><td>0</td><td>\u22ef</td><td> 0</td><td>95</td><td> 0</td><td>   0</td><td>0</td><td>24</td><td> 0</td><td>66</td><td>0</td><td> 0</td></tr>\n",
       "\t<tr><th scope=row>HIC2_1</th><td> 0</td><td> 0</td><td>58</td><td> 0</td><td> 0</td><td> 0</td><td>1156</td><td> 0</td><td>35</td><td>0</td><td>\u22ef</td><td>33</td><td> 0</td><td> 0</td><td>1411</td><td>0</td><td> 0</td><td>29</td><td> 0</td><td>0</td><td>33</td></tr>\n",
       "\t<tr><th scope=row>MNT_1</th><td> 0</td><td> 0</td><td> 0</td><td> 0</td><td> 0</td><td> 0</td><td>   0</td><td> 0</td><td> 0</td><td>0</td><td>\u22ef</td><td> 0</td><td> 0</td><td>79</td><td>   0</td><td>0</td><td> 0</td><td> 0</td><td> 0</td><td>0</td><td> 0</td></tr>\n",
       "</tbody>\n",
       "</table>\n"
      ],
      "text/latex": [
       "A matrix: 6 \u00d7 6819 of type int\n",
       "\\begin{tabular}{r|lllllllllllllllllllll}\n",
       "  & AAACAGCCAAATATCC-1 & AAACAGCCACGCAACT-1 & AAACAGCCATGTTGGC-1 & AAACATGCAAGGTAAC-1 & AAACATGCAATTTAGC-1 & AAACATGCACTTCATC-1 & AAACATGCAGCATGTC-1 & AAACCAACAATAGCCC-1 & AAACCAACAATATACC-1 & AAACCGAAGCGCCTTT-1 & \u22ef & TTTGTGAAGTAAGGGC-1 & TTTGTGAAGTATCGCG-1 & TTTGTGGCACATAACT-1 & TTTGTGGCAGCGCTTG-1 & TTTGTGGCAGGATTAA-1 & TTTGTGGCATCTTGAG-1 & TTTGTGTTCCTCCATA-1 & TTTGTGTTCGAAGCGG-1 & TTTGTTGGTCACGAAC-1 & TTTGTTGGTCCTTCAG-1\\\\\n",
       "\\hline\n",
       "\tADNP\\_1 & 64 &  0 &  0 &  0 &  0 &  0 &    0 &  9 &  0 & 0 & \u22ef & 58 & 30 &  0 &    0 & 0 &  0 &  0 &  0 & 0 &  0\\\\\n",
       "\tCHD2\\_1 &  0 &  0 &  0 & 56 & 63 &  0 &   37 & 62 &  0 & 0 & \u22ef &  0 &  0 &  0 &    0 & 0 &  0 &  0 &  0 & 0 &  0\\\\\n",
       "\tCNOT2\\_2 &  0 & 67 &  0 & 25 &  0 &  0 &    0 &  0 &  0 & 0 & \u22ef &  0 &  0 & 46 &    0 & 0 & 69 &  0 &  0 & 0 & 18\\\\\n",
       "\tGPBP1L1\\_1 &  0 &  0 &  0 &  0 &  0 & 30 &    0 &  0 &  0 & 0 & \u22ef &  0 & 95 &  0 &    0 & 0 & 24 &  0 & 66 & 0 &  0\\\\\n",
       "\tHIC2\\_1 &  0 &  0 & 58 &  0 &  0 &  0 & 1156 &  0 & 35 & 0 & \u22ef & 33 &  0 &  0 & 1411 & 0 &  0 & 29 &  0 & 0 & 33\\\\\n",
       "\tMNT\\_1 &  0 &  0 &  0 &  0 &  0 &  0 &    0 &  0 &  0 & 0 & \u22ef &  0 &  0 & 79 &    0 & 0 &  0 &  0 &  0 & 0 &  0\\\\\n",
       "\\end{tabular}\n"
      ],
      "text/markdown": [
       "\n",
       "A matrix: 6 \u00d7 6819 of type int\n",
       "\n",
       "| <!--/--> | AAACAGCCAAATATCC-1 | AAACAGCCACGCAACT-1 | AAACAGCCATGTTGGC-1 | AAACATGCAAGGTAAC-1 | AAACATGCAATTTAGC-1 | AAACATGCACTTCATC-1 | AAACATGCAGCATGTC-1 | AAACCAACAATAGCCC-1 | AAACCAACAATATACC-1 | AAACCGAAGCGCCTTT-1 | \u22ef | TTTGTGAAGTAAGGGC-1 | TTTGTGAAGTATCGCG-1 | TTTGTGGCACATAACT-1 | TTTGTGGCAGCGCTTG-1 | TTTGTGGCAGGATTAA-1 | TTTGTGGCATCTTGAG-1 | TTTGTGTTCCTCCATA-1 | TTTGTGTTCGAAGCGG-1 | TTTGTTGGTCACGAAC-1 | TTTGTTGGTCCTTCAG-1 |\n",
       "|---|---|---|---|---|---|---|---|---|---|---|---|---|---|---|---|---|---|---|---|---|---|\n",
       "| ADNP_1 | 64 |  0 |  0 |  0 |  0 |  0 |    0 |  9 |  0 | 0 | \u22ef | 58 | 30 |  0 |    0 | 0 |  0 |  0 |  0 | 0 |  0 |\n",
       "| CHD2_1 |  0 |  0 |  0 | 56 | 63 |  0 |   37 | 62 |  0 | 0 | \u22ef |  0 |  0 |  0 |    0 | 0 |  0 |  0 |  0 | 0 |  0 |\n",
       "| CNOT2_2 |  0 | 67 |  0 | 25 |  0 |  0 |    0 |  0 |  0 | 0 | \u22ef |  0 |  0 | 46 |    0 | 0 | 69 |  0 |  0 | 0 | 18 |\n",
       "| GPBP1L1_1 |  0 |  0 |  0 |  0 |  0 | 30 |    0 |  0 |  0 | 0 | \u22ef |  0 | 95 |  0 |    0 | 0 | 24 |  0 | 66 | 0 |  0 |\n",
       "| HIC2_1 |  0 |  0 | 58 |  0 |  0 |  0 | 1156 |  0 | 35 | 0 | \u22ef | 33 |  0 |  0 | 1411 | 0 |  0 | 29 |  0 | 0 | 33 |\n",
       "| MNT_1 |  0 |  0 |  0 |  0 |  0 |  0 |    0 |  0 |  0 | 0 | \u22ef |  0 |  0 | 79 |    0 | 0 |  0 |  0 |  0 | 0 |  0 |\n",
       "\n"
      ],
      "text/plain": [
       "          AAACAGCCAAATATCC-1 AAACAGCCACGCAACT-1 AAACAGCCATGTTGGC-1\n",
       "ADNP_1    64                  0                  0                \n",
       "CHD2_1     0                  0                  0                \n",
       "CNOT2_2    0                 67                  0                \n",
       "GPBP1L1_1  0                  0                  0                \n",
       "HIC2_1     0                  0                 58                \n",
       "MNT_1      0                  0                  0                \n",
       "          AAACATGCAAGGTAAC-1 AAACATGCAATTTAGC-1 AAACATGCACTTCATC-1\n",
       "ADNP_1     0                  0                  0                \n",
       "CHD2_1    56                 63                  0                \n",
       "CNOT2_2   25                  0                  0                \n",
       "GPBP1L1_1  0                  0                 30                \n",
       "HIC2_1     0                  0                  0                \n",
       "MNT_1      0                  0                  0                \n",
       "          AAACATGCAGCATGTC-1 AAACCAACAATAGCCC-1 AAACCAACAATATACC-1\n",
       "ADNP_1       0                9                  0                \n",
       "CHD2_1      37               62                  0                \n",
       "CNOT2_2      0                0                  0                \n",
       "GPBP1L1_1    0                0                  0                \n",
       "HIC2_1    1156                0                 35                \n",
       "MNT_1        0                0                  0                \n",
       "          AAACCGAAGCGCCTTT-1 \u22ef TTTGTGAAGTAAGGGC-1 TTTGTGAAGTATCGCG-1\n",
       "ADNP_1    0                  \u22ef 58                 30                \n",
       "CHD2_1    0                  \u22ef  0                  0                \n",
       "CNOT2_2   0                  \u22ef  0                  0                \n",
       "GPBP1L1_1 0                  \u22ef  0                 95                \n",
       "HIC2_1    0                  \u22ef 33                  0                \n",
       "MNT_1     0                  \u22ef  0                  0                \n",
       "          TTTGTGGCACATAACT-1 TTTGTGGCAGCGCTTG-1 TTTGTGGCAGGATTAA-1\n",
       "ADNP_1     0                    0               0                 \n",
       "CHD2_1     0                    0               0                 \n",
       "CNOT2_2   46                    0               0                 \n",
       "GPBP1L1_1  0                    0               0                 \n",
       "HIC2_1     0                 1411               0                 \n",
       "MNT_1     79                    0               0                 \n",
       "          TTTGTGGCATCTTGAG-1 TTTGTGTTCCTCCATA-1 TTTGTGTTCGAAGCGG-1\n",
       "ADNP_1     0                  0                  0                \n",
       "CHD2_1     0                  0                  0                \n",
       "CNOT2_2   69                  0                  0                \n",
       "GPBP1L1_1 24                  0                 66                \n",
       "HIC2_1     0                 29                  0                \n",
       "MNT_1      0                  0                  0                \n",
       "          TTTGTTGGTCACGAAC-1 TTTGTTGGTCCTTCAG-1\n",
       "ADNP_1    0                   0                \n",
       "CHD2_1    0                   0                \n",
       "CNOT2_2   0                  18                \n",
       "GPBP1L1_1 0                   0                \n",
       "HIC2_1    0                  33                \n",
       "MNT_1     0                   0                "
      ]
     },
     "metadata": {},
     "output_type": "display_data"
    }
   ],
   "source": [
    "head(overlapping_guide_counts)"
   ]
  },
  {
   "cell_type": "code",
   "execution_count": 300,
   "id": "b77ef885",
   "metadata": {
    "execution": {
     "iopub.execute_input": "2023-08-18T23:05:28.531065Z",
     "iopub.status.busy": "2023-08-18T23:05:28.530167Z",
     "iopub.status.idle": "2023-08-18T23:05:28.539746Z",
     "shell.execute_reply": "2023-08-18T23:05:28.538669Z"
    },
    "papermill": {
     "duration": 0.021325,
     "end_time": "2023-08-18T23:05:28.541048",
     "exception": false,
     "start_time": "2023-08-18T23:05:28.519723",
     "status": "completed"
    },
    "tags": [],
    "vscode": {
     "languageId": "r"
    }
   },
   "outputs": [
    {
     "data": {
      "text/html": [
       "<style>\n",
       ".list-inline {list-style: none; margin:0; padding: 0}\n",
       ".list-inline>li {display: inline-block}\n",
       ".list-inline>li:not(:last-child)::after {content: \"\\00b7\"; padding: 0 .5ex}\n",
       "</style>\n",
       "<ol class=list-inline><li>'AAACAGCCAAATATCC-1'</li><li>'AAACAGCCACGCAACT-1'</li><li>'AAACAGCCATGTTGGC-1'</li><li>'AAACATGCAAGGTAAC-1'</li><li>'AAACATGCAATTTAGC-1'</li><li>'AAACATGCACTTCATC-1'</li></ol>\n"
      ],
      "text/latex": [
       "\\begin{enumerate*}\n",
       "\\item 'AAACAGCCAAATATCC-1'\n",
       "\\item 'AAACAGCCACGCAACT-1'\n",
       "\\item 'AAACAGCCATGTTGGC-1'\n",
       "\\item 'AAACATGCAAGGTAAC-1'\n",
       "\\item 'AAACATGCAATTTAGC-1'\n",
       "\\item 'AAACATGCACTTCATC-1'\n",
       "\\end{enumerate*}\n"
      ],
      "text/markdown": [
       "1. 'AAACAGCCAAATATCC-1'\n",
       "2. 'AAACAGCCACGCAACT-1'\n",
       "3. 'AAACAGCCATGTTGGC-1'\n",
       "4. 'AAACATGCAAGGTAAC-1'\n",
       "5. 'AAACATGCAATTTAGC-1'\n",
       "6. 'AAACATGCACTTCATC-1'\n",
       "\n",
       "\n"
      ],
      "text/plain": [
       "[1] \"AAACAGCCAAATATCC-1\" \"AAACAGCCACGCAACT-1\" \"AAACAGCCATGTTGGC-1\"\n",
       "[4] \"AAACATGCAAGGTAAC-1\" \"AAACATGCAATTTAGC-1\" \"AAACATGCACTTCATC-1\""
      ]
     },
     "metadata": {},
     "output_type": "display_data"
    }
   ],
   "source": [
    "head(overlapping_barcodes)"
   ]
  },
  {
   "attachments": {},
   "cell_type": "markdown",
   "id": "55f3062a",
   "metadata": {
    "papermill": {
     "duration": 0.009707,
     "end_time": "2023-08-18T23:05:28.566672",
     "exception": false,
     "start_time": "2023-08-18T23:05:28.556965",
     "status": "completed"
    },
    "tags": []
   },
   "source": [
    "## Plot stats"
   ]
  },
  {
   "cell_type": "code",
   "execution_count": 301,
   "id": "0357cc86",
   "metadata": {
    "execution": {
     "iopub.execute_input": "2023-08-18T23:05:28.589280Z",
     "iopub.status.busy": "2023-08-18T23:05:28.587388Z",
     "iopub.status.idle": "2023-08-18T23:05:36.609178Z",
     "shell.execute_reply": "2023-08-18T23:05:36.608066Z"
    },
    "papermill": {
     "duration": 8.035046,
     "end_time": "2023-08-18T23:05:36.611537",
     "exception": false,
     "start_time": "2023-08-18T23:05:28.576491",
     "status": "completed"
    },
    "tags": [],
    "vscode": {
     "languageId": "r"
    }
   },
   "outputs": [
    {
     "name": "stdout",
     "output_type": "stream",
     "text": [
      "\u001b[34mMean #guides per cell\u001b[39m 1250.924"
     ]
    },
    {
     "data": {
      "image/png": "[encoded data removed]",
      "text/plain": [
       "plot without title"
      ]
     },
     "metadata": {
      "image/png": {
       "height": 1200,
       "width": 1200
      }
     },
     "output_type": "display_data"
    }
   ],
   "source": [
    "df_guide_counts_per_cell <- data.frame(guide_count=colSums(overlapping_guide_counts))\n",
    "mean_guides_per_cell = mean(df_guide_counts_per_cell$guide_count)\n",
    "cat(blue(\"Mean #guides per cell\"), mean_guides_per_cell)\n",
    "\n",
    "ggplot(df_guide_counts_per_cell, aes(x=guide_count)) +\n",
    "    geom_histogram(binwidth=1)"
   ]
  },
  {
   "cell_type": "code",
   "execution_count": 302,
   "id": "06b5d483",
   "metadata": {
    "execution": {
     "iopub.execute_input": "2023-08-18T23:05:36.653351Z",
     "iopub.status.busy": "2023-08-18T23:05:36.651778Z",
     "iopub.status.idle": "2023-08-18T23:06:12.092501Z",
     "shell.execute_reply": "2023-08-18T23:06:12.091376Z"
    },
    "papermill": {
     "duration": 35.480837,
     "end_time": "2023-08-18T23:06:12.110485",
     "exception": false,
     "start_time": "2023-08-18T23:05:36.629648",
     "status": "completed"
    },
    "tags": [],
    "vscode": {
     "languageId": "r"
    }
   },
   "outputs": [
    {
     "name": "stderr",
     "output_type": "stream",
     "text": [
      "No id variables; using all as measure variables\n",
      "\n"
     ]
    },
    {
     "data": {
      "image/png": "[encoded data removed]",
      "text/plain": [
       "plot without title"
      ]
     },
     "metadata": {
      "image/png": {
       "height": 1200,
       "width": 1200
      }
     },
     "output_type": "display_data"
    }
   ],
   "source": [
    "library(reshape2)\n",
    "df_guide_counts_by_cell <- as.data.frame(t(overlapping_guide_counts))\n",
    "\n",
    "d <- melt(df_guide_counts_by_cell)\n",
    "d <- d[d$value > 0,]\n",
    "colnames(d) = c(\"guide_name\", \"num_guides_in_cell\")\n",
    "\n",
    "options(repr.plot.width = 20, repr.plot.height = 20)\n",
    "ggplot(d, aes(x = num_guides_in_cell)) + \n",
    "    facet_wrap(~guide_name, scales = \"free_x\") + \n",
    "    geom_histogram(binwidth=1) +\n",
    "    labs(y_label=\"count\") "
   ]
  },
  {
   "cell_type": "code",
   "execution_count": 303,
   "id": "2d93410b",
   "metadata": {
    "execution": {
     "iopub.execute_input": "2023-08-18T23:06:12.136659Z",
     "iopub.status.busy": "2023-08-18T23:06:12.134739Z",
     "iopub.status.idle": "2023-08-18T23:06:13.808040Z",
     "shell.execute_reply": "2023-08-18T23:06:13.806963Z"
    },
    "papermill": {
     "duration": 1.689809,
     "end_time": "2023-08-18T23:06:13.811644",
     "exception": false,
     "start_time": "2023-08-18T23:06:12.121835",
     "status": "completed"
    },
    "tags": [],
    "vscode": {
     "languageId": "r"
    }
   },
   "outputs": [
    {
     "name": "stderr",
     "output_type": "stream",
     "text": [
      "No id variables; using all as measure variables\n",
      "\n",
      "Warning message in geom_histogram(bin_breaks = bin_breaks):\n",
      "\u201c\u001b[1m\u001b[22mIgnoring unknown parameters: `bin_breaks`\u201d\n"
     ]
    },
    {
     "name": "stderr",
     "output_type": "stream",
     "text": [
      "\u001b[1m\u001b[22m`stat_bin()` using `bins = 30`. Pick better value with `binwidth`.\n"
     ]
    },
    {
     "data": {
      "image/png": "[encoded data removed]",
      "text/plain": [
       "plot without title"
      ]
     },
     "metadata": {
      "image/png": {
       "height": 1200,
       "width": 1200
      }
     },
     "output_type": "display_data"
    }
   ],
   "source": [
    "### Using log scales\n",
    "library(reshape2)\n",
    "library(scales)\n",
    "df_guide_counts_by_cell <- as.data.frame(t(overlapping_guide_counts))\n",
    "\n",
    "d <- melt(df_guide_counts_by_cell)\n",
    "d <- d[d$value > 0,]\n",
    "colnames(d) = c(\"guide_name\", \"num_guides_in_cell\")\n",
    "\n",
    "bin_breaks <- c(1,2,2*2^(1:16))\n",
    "\n",
    "options(repr.plot.width = 20, repr.plot.height = 20)\n",
    "ggplot(d, aes(x = num_guides_in_cell)) + \n",
    "    facet_wrap(~guide_name, scales = \"free_x\") + \n",
    "    geom_histogram(bin_breaks=bin_breaks) +\n",
    "    scale_x_log10(labels=trans_format('log10',math_format(10^.x)), breaks=c(1,10,100,1000,10000,100000)) +\n",
    "    labs(y_label=\"count\") "
   ]
  },
  {
   "attachments": {},
   "cell_type": "markdown",
   "id": "f7aa6f8b",
   "metadata": {
    "papermill": {
     "duration": 0.012143,
     "end_time": "2023-08-18T23:06:13.839181",
     "exception": false,
     "start_time": "2023-08-18T23:06:13.827038",
     "status": "completed"
    },
    "tags": []
   },
   "source": [
    "# Demux"
   ]
  },
  {
   "attachments": {},
   "cell_type": "markdown",
   "id": "225dd894",
   "metadata": {
    "papermill": {
     "duration": 0.011937,
     "end_time": "2023-08-18T23:06:13.863130",
     "exception": false,
     "start_time": "2023-08-18T23:06:13.851193",
     "status": "completed"
    },
    "tags": []
   },
   "source": [
    "Load multiome seurat object"
   ]
  },
  {
   "cell_type": "code",
   "execution_count": 304,
   "id": "da55f7f8",
   "metadata": {
    "execution": {
     "iopub.execute_input": "2023-08-18T23:06:13.890707Z",
     "iopub.status.busy": "2023-08-18T23:06:13.888826Z",
     "iopub.status.idle": "2023-08-18T23:07:21.603214Z",
     "shell.execute_reply": "2023-08-18T23:07:21.601916Z"
    },
    "papermill": {
     "duration": 67.730248,
     "end_time": "2023-08-18T23:07:21.605354",
     "exception": false,
     "start_time": "2023-08-18T23:06:13.875106",
     "status": "completed"
    },
    "tags": [],
    "vscode": {
     "languageId": "r"
    }
   },
   "outputs": [],
   "source": [
    "if (!exists(\"seurat_all\")) {\n",
    "    seurat_all <- LoadH5Seurat(h5_name, verbose=FALSE)\n",
    "}"
   ]
  },
  {
   "cell_type": "code",
   "execution_count": 305,
   "id": "670c47ca",
   "metadata": {
    "execution": {
     "iopub.execute_input": "2023-08-18T23:07:21.638962Z",
     "iopub.status.busy": "2023-08-18T23:07:21.636477Z",
     "iopub.status.idle": "2023-08-18T23:07:26.609462Z",
     "shell.execute_reply": "2023-08-18T23:07:26.608186Z"
    },
    "papermill": {
     "duration": 4.989288,
     "end_time": "2023-08-18T23:07:26.611611",
     "exception": false,
     "start_time": "2023-08-18T23:07:21.622323",
     "status": "completed"
    },
    "tags": [],
    "vscode": {
     "languageId": "r"
    }
   },
   "outputs": [],
   "source": [
    "# Select cells found in guide capture\n",
    "seurat     <- subset(seurat_all, cells = overlapping_barcodes)\n",
    "n_multiome <- length(Cells(seurat_all))"
   ]
  },
  {
   "cell_type": "code",
   "execution_count": 306,
   "id": "e9396f48",
   "metadata": {
    "execution": {
     "iopub.execute_input": "2023-08-18T23:07:26.645368Z",
     "iopub.status.busy": "2023-08-18T23:07:26.643455Z",
     "iopub.status.idle": "2023-08-18T23:07:26.713886Z",
     "shell.execute_reply": "2023-08-18T23:07:26.712599Z"
    },
    "papermill": {
     "duration": 0.086253,
     "end_time": "2023-08-18T23:07:26.715729",
     "exception": false,
     "start_time": "2023-08-18T23:07:26.629476",
     "status": "completed"
    },
    "tags": [],
    "vscode": {
     "languageId": "r"
    }
   },
   "outputs": [
    {
     "name": "stderr",
     "output_type": "stream",
     "text": [
      "Warning message:\n",
      "\u201cFeature names cannot have underscores ('_'), replacing with dashes ('-')\u201d\n"
     ]
    }
   ],
   "source": [
    "# Add guide data as a new assay independent from RNA & ATAC\n",
    "seurat[[\"guidecapture\"]] <- CreateAssayObject(counts = overlapping_guide_counts)"
   ]
  },
  {
   "cell_type": "code",
   "execution_count": 307,
   "id": "cf2706a9",
   "metadata": {
    "execution": {
     "iopub.execute_input": "2023-08-18T23:07:26.748649Z",
     "iopub.status.busy": "2023-08-18T23:07:26.746961Z",
     "iopub.status.idle": "2023-08-18T23:07:26.758086Z",
     "shell.execute_reply": "2023-08-18T23:07:26.757067Z"
    },
    "papermill": {
     "duration": 0.02663,
     "end_time": "2023-08-18T23:07:26.759938",
     "exception": false,
     "start_time": "2023-08-18T23:07:26.733308",
     "status": "completed"
    },
    "tags": [],
    "vscode": {
     "languageId": "r"
    }
   },
   "outputs": [],
   "source": [
    "# x <- GetAssayData(seurat, \"counts\")\n",
    "# cells <- colnames(x[ , colSums(x) != 0])\n",
    "# feats <- names((rowSums(x) != 0) == TRUE)\n",
    "# seurat <- seurat[feats, cells] "
   ]
  },
  {
   "cell_type": "markdown",
   "id": "51796ffc",
   "metadata": {
    "tags": [
     "papermill-error-cell-tag"
    ]
   },
   "source": [
    "<span id=\"papermill-error-cell\" style=\"color:red; font-family:Helvetica Neue, Helvetica, Arial, sans-serif; font-size:2em;\">Execution using papermill encountered an exception here and stopped:</span>"
   ]
  },
  {
   "cell_type": "code",
   "execution_count": 308,
   "id": "8c9aa54a",
   "metadata": {
    "papermill": {
     "duration": null,
     "end_time": null,
     "exception": null,
     "start_time": null,
     "status": "pending"
    },
    "tags": [],
    "vscode": {
     "languageId": "r"
    }
   },
   "outputs": [
    {
     "name": "stderr",
     "output_type": "stream",
     "text": [
      "Normalizing across features\n",
      "\n"
     ]
    }
   ],
   "source": [
    "# Normalize guide data, here we use centered log-ratio (CLR) transformation\n",
    "seurat <- NormalizeData(seurat, assay = \"guidecapture\", normalization.method = \"CLR\")"
   ]
  },
  {
   "cell_type": "code",
   "execution_count": 309,
   "id": "38e213a1",
   "metadata": {
    "vscode": {
     "languageId": "r"
    }
   },
   "outputs": [
    {
     "data": {
      "text/plain": [
       "\n",
       "FALSE  TRUE \n",
       " 1731  5088 "
      ]
     },
     "metadata": {},
     "output_type": "display_data"
    }
   ],
   "source": [
    "table(colSums(GetAssayData(seurat, assay = \"guidecapture\"))>10)"
   ]
  },
  {
   "cell_type": "code",
   "execution_count": 310,
   "id": "fec77ae7",
   "metadata": {
    "vscode": {
     "languageId": "r"
    }
   },
   "outputs": [],
   "source": [
    "# Calculate column sums for each gene in the RNA assay\n",
    "gene_sums <- colSums(GetAssayData(seurat, assay = \"guidecapture\"))\n",
    "\n",
    "# Identify genes with nonzero expression (sums greater than 0)\n",
    "genes_with_expression <- gene_sums > 10\n",
    "\n",
    "# Subset the Seurat object to retain only genes with nonzero expression\n",
    "seurat <- seurat[, genes_with_expression]"
   ]
  },
  {
   "cell_type": "code",
   "execution_count": 311,
   "id": "c6c9d38b",
   "metadata": {
    "vscode": {
     "languageId": "r"
    }
   },
   "outputs": [
    {
     "data": {
      "text/plain": [
       "\n",
       "TRUE \n",
       "5088 "
      ]
     },
     "metadata": {},
     "output_type": "display_data"
    }
   ],
   "source": [
    "table(colSums(GetAssayData(seurat, assay = \"guidecapture\")) >10)"
   ]
  },
  {
   "cell_type": "code",
   "execution_count": 312,
   "id": "673b9864",
   "metadata": {
    "papermill": {
     "duration": null,
     "end_time": null,
     "exception": null,
     "start_time": null,
     "status": "pending"
    },
    "tags": [],
    "vscode": {
     "languageId": "r"
    }
   },
   "outputs": [
    {
     "name": "stderr",
     "output_type": "stream",
     "text": [
      "Cutoff for ADNP-1 : 1 reads\n",
      "\n",
      "Cutoff for CHD2-1 : 54 reads\n",
      "\n",
      "Cutoff for CNOT2-2 : 181 reads\n",
      "\n",
      "Cutoff for GPBP1L1-1 : 215 reads\n",
      "\n",
      "Cutoff for HIC2-1 : 174 reads\n",
      "\n",
      "Cutoff for MNT-1 : 260 reads\n",
      "\n",
      "Cutoff for NTC28-2 : 81 reads\n",
      "\n",
      "Cutoff for NTC36-1 : 291 reads\n",
      "\n",
      "Cutoff for NTC74-1 : 81 reads\n",
      "\n",
      "Cutoff for NTC74-2 : 203 reads\n",
      "\n",
      "Cutoff for NTC82-1 : 297 reads\n",
      "\n",
      "Cutoff for PIAS1-1 : 356 reads\n",
      "\n",
      "Cutoff for PIAS1-2 : 142 reads\n",
      "\n",
      "Cutoff for PLAGL2-1 : 309 reads\n",
      "\n",
      "Cutoff for SLTM-1 : 205 reads\n",
      "\n",
      "Cutoff for TSC22D4-1 : 435 reads\n",
      "\n",
      "Cutoff for ZBED6-1 : 67 reads\n",
      "\n",
      "Cutoff for ZNF669-2 : 178 reads\n",
      "\n"
     ]
    }
   ],
   "source": [
    "seurat <- HTODemux(seurat, assay = \"guidecapture\", positive.quantile = 0.99, seed = 85253310)"
   ]
  },
  {
   "cell_type": "code",
   "execution_count": null,
   "id": "5833dff6",
   "metadata": {
    "papermill": {
     "duration": null,
     "end_time": null,
     "exception": null,
     "start_time": null,
     "status": "pending"
    },
    "tags": [],
    "vscode": {
     "languageId": "r"
    }
   },
   "outputs": [],
   "source": [
    "unique(seurat$guidecapture_secondID)"
   ]
  },
  {
   "attachments": {},
   "cell_type": "markdown",
   "id": "217927df",
   "metadata": {
    "papermill": {
     "duration": null,
     "end_time": null,
     "exception": null,
     "start_time": null,
     "status": "pending"
    },
    "tags": []
   },
   "source": [
    "# Visualize"
   ]
  },
  {
   "cell_type": "code",
   "execution_count": null,
   "id": "3ac7776a",
   "metadata": {
    "papermill": {
     "duration": null,
     "end_time": null,
     "exception": null,
     "start_time": null,
     "status": "pending"
    },
    "tags": [],
    "vscode": {
     "languageId": "r"
    }
   },
   "outputs": [],
   "source": [
    "if (!exists(\"seurat\")) {\n",
    "    seurat <- LoadH5Seurat(h5_w_gcap_name)\n",
    "}"
   ]
  },
  {
   "cell_type": "code",
   "execution_count": null,
   "id": "ec47d4be",
   "metadata": {
    "papermill": {
     "duration": null,
     "end_time": null,
     "exception": null,
     "start_time": null,
     "status": "pending"
    },
    "tags": [],
    "vscode": {
     "languageId": "r"
    }
   },
   "outputs": [],
   "source": [
    "# Global classification results\n",
    "n_cells <- length(seurat$guidecapture_classification.global)\n",
    "demux_counts      <- table(seurat$guidecapture_classification.global)\n",
    "demux_percentages <- round(demux_counts/n_cells, 2)\n",
    "\n",
    "demux_counts\n",
    "demux_percentages\n",
    "\n",
    "n_doublets <- demux_counts[[\"Doublet\"]]\n",
    "n_singlets <- demux_counts[[\"Singlet\"]]\n",
    "\n",
    "capture_efficiency_1 <- 100*(n_doublets + n_singlets) / n_multiome\n",
    "paste(\"Capture efficiency% = \", round(capture_efficiency_1), \"( norm by\", n_multiome, \")\")\n",
    "\n",
    "#capture_efficiency_2 <- 100 * (n_doublets + n_singlets) / n_all_overlapping\n",
    "#paste(\"Capture efficiency%\", round(capture_efficiency_2), \"( norm by\", n_all_overlapping, \")\")"
   ]
  },
  {
   "cell_type": "code",
   "execution_count": null,
   "id": "fa661c7f",
   "metadata": {
    "papermill": {
     "duration": null,
     "end_time": null,
     "exception": null,
     "start_time": null,
     "status": "pending"
    },
    "tags": [],
    "vscode": {
     "languageId": "r"
    }
   },
   "outputs": [],
   "source": [
    "length(Cells(seurat))"
   ]
  },
  {
   "cell_type": "code",
   "execution_count": null,
   "id": "144822ca",
   "metadata": {
    "papermill": {
     "duration": null,
     "end_time": null,
     "exception": null,
     "start_time": null,
     "status": "pending"
    },
    "tags": [],
    "vscode": {
     "languageId": "r"
    }
   },
   "outputs": [],
   "source": [
    "# Group cells based on the max HTO signal\n",
    "guide_names <- rownames(seurat[[\"guidecapture\"]])\n",
    "num_pcs     <- length(guide_names)"
   ]
  },
  {
   "cell_type": "code",
   "execution_count": null,
   "id": "28f102f6",
   "metadata": {
    "papermill": {
     "duration": null,
     "end_time": null,
     "exception": null,
     "start_time": null,
     "status": "pending"
    },
    "tags": [],
    "vscode": {
     "languageId": "r"
    }
   },
   "outputs": [],
   "source": [
    "options(repr.plot.width = 30, repr.plot.height = 60)\n",
    "tf_list <- tfs_to_plot\n",
    "\n",
    "Idents(seurat) <- \"guidecapture_classification\"\n",
    "\n",
    "RidgePlot(\n",
    "    seurat,\n",
    "    assay = \"guidecapture\",\n",
    "    features = guide_names,\n",
    "    slot=\"counts\",\n",
    "    ncol = 4\n",
    ") + plot_annotation(title = \"Raw guide counts\") & theme(plot.title = element_text(hjust = 0.5, size = 20))\n",
    "\n",
    "RidgePlot(\n",
    "    seurat,\n",
    "    assay = \"guidecapture\",\n",
    "    features = guide_names,\n",
    "    ncol = 4\n",
    ") + plot_annotation(title = \"Normalized guide counts\") & theme(plot.title = element_text(hjust = 0.5, size = 20))\n",
    "\n",
    "RidgePlot(\n",
    "    seurat,\n",
    "    assay = \"SCT\",\n",
    "    features = tf_list,\n",
    "    ncol = 4,\n",
    "    y.max = .5\n",
    ")+ plot_annotation(title = \"Normalized transcript counts\") & theme(plot.title = element_text(hjust = 0.5, size = 20))"
   ]
  },
  {
   "cell_type": "code",
   "execution_count": null,
   "id": "b33e8979",
   "metadata": {
    "papermill": {
     "duration": null,
     "end_time": null,
     "exception": null,
     "start_time": null,
     "status": "pending"
    },
    "tags": [],
    "vscode": {
     "languageId": "r"
    }
   },
   "outputs": [],
   "source": [
    "VlnPlot(\n",
    "    seurat,\n",
    "    assay = \"guidecapture\",\n",
    "    features = guide_names,\n",
    "    slot=\"counts\",\n",
    "    ncol = 4\n",
    ") + plot_annotation(title = \"Raw guide counts\", \n",
    "                    theme = theme(plot.title = element_text(hjust = 0.5, size = 20)))\n"
   ]
  },
  {
   "cell_type": "code",
   "execution_count": null,
   "id": "200a3737",
   "metadata": {
    "papermill": {
     "duration": null,
     "end_time": null,
     "exception": null,
     "start_time": null,
     "status": "pending"
    },
    "tags": [],
    "vscode": {
     "languageId": "r"
    }
   },
   "outputs": [],
   "source": [
    "# FeatureScatter(seurat, feature1 = \"GATA5\", feature2 = \"MEOX1\")\n",
    "# FeatureScatter(seurat, feature1 = \"GATA5\", feature2 = \"NEUROG2\")\n",
    "# FeatureScatter(seurat, feature1 = \"MEOX1\", feature2 = \"NEUROG2\")"
   ]
  },
  {
   "cell_type": "code",
   "execution_count": null,
   "id": "dbc9caf6",
   "metadata": {
    "papermill": {
     "duration": null,
     "end_time": null,
     "exception": null,
     "start_time": null,
     "status": "pending"
    },
    "tags": [],
    "vscode": {
     "languageId": "r"
    }
   },
   "outputs": [],
   "source": [
    "options(repr.plot.width = 20, repr.plot.height = 8)\n",
    "Idents(seurat) <- \"guidecapture_classification.global\"\n",
    "VlnPlot(seurat, features = \"nCount_RNA\", pt.size = 0.1, log = TRUE)"
   ]
  },
  {
   "cell_type": "code",
   "execution_count": null,
   "id": "33270eb8",
   "metadata": {
    "papermill": {
     "duration": null,
     "end_time": null,
     "exception": null,
     "start_time": null,
     "status": "pending"
    },
    "tags": [],
    "vscode": {
     "languageId": "r"
    }
   },
   "outputs": [],
   "source": [
    "# First, we will remove negative cells from the object\n",
    "seurat_subset <- subset(seurat, idents = \"Negative\", invert = TRUE)\n",
    "\n",
    "# Calculate a tSNE embedding of the HTO data\n",
    "DefaultAssay(seurat_subset) <- \"guidecapture\""
   ]
  },
  {
   "cell_type": "code",
   "execution_count": null,
   "id": "752c6135",
   "metadata": {
    "papermill": {
     "duration": null,
     "end_time": null,
     "exception": null,
     "start_time": null,
     "status": "pending"
    },
    "tags": [],
    "vscode": {
     "languageId": "r"
    }
   },
   "outputs": [],
   "source": [
    "\n",
    "seurat_subset <-\n",
    "    ScaleData(seurat_subset, features = guide_names, verbose = FALSE)\n",
    "\n",
    "# seurat_subset <- RunPCA(\n",
    "#     seurat_subset,\n",
    "#     npcs = num_pcs,\n",
    "#     ndims.print = 1:num_pcs,\n",
    "#     features = guide_names,\n",
    "#     approx = FALSE\n",
    "# )\n",
    "\n",
    "# seurat_subset <-\n",
    "#     RunTSNE(\n",
    "#         seurat_subset,\n",
    "#         dims = 1:num_pcs,\n",
    "#         perplexity = 100,\n",
    "#         check_duplicates = FALSE\n",
    "#     )\n",
    "\n",
    "# seurat_subset <-\n",
    "#     RunUMAP(seurat_subset, dims = 1:num_pcs)\n",
    "\n",
    "#DimPlot(seurat_subset, reduction = \"tsne\")"
   ]
  },
  {
   "cell_type": "code",
   "execution_count": null,
   "id": "4ea4907d",
   "metadata": {
    "papermill": {
     "duration": null,
     "end_time": null,
     "exception": null,
     "start_time": null,
     "status": "pending"
    },
    "tags": [],
    "vscode": {
     "languageId": "r"
    }
   },
   "outputs": [],
   "source": [
    "HTOHeatmap(seurat, assay = \"guidecapture\")"
   ]
  },
  {
   "cell_type": "code",
   "execution_count": null,
   "id": "9927bb36",
   "metadata": {
    "papermill": {
     "duration": null,
     "end_time": null,
     "exception": null,
     "start_time": null,
     "status": "pending"
    },
    "tags": [],
    "vscode": {
     "languageId": "r"
    }
   },
   "outputs": [],
   "source": [
    "SaveH5Seurat(seurat, h5_w_gcap_name, overwrite = TRUE, verbose = FALSE)"
   ]
  },
  {
   "attachments": {},
   "cell_type": "markdown",
   "id": "f92907f4",
   "metadata": {
    "papermill": {
     "duration": null,
     "end_time": null,
     "exception": null,
     "start_time": null,
     "status": "pending"
    },
    "tags": []
   },
   "source": [
    "# Inspect results"
   ]
  },
  {
   "cell_type": "code",
   "execution_count": null,
   "id": "b0d2b750",
   "metadata": {
    "papermill": {
     "duration": null,
     "end_time": null,
     "exception": null,
     "start_time": null,
     "status": "pending"
    },
    "tags": [],
    "vscode": {
     "languageId": "r"
    }
   },
   "outputs": [],
   "source": [
    "# Label each cell with the number of guides detected in it by HTOdemux\n",
    "seurat$perturb_targets_detected_in_cell <- colSums(sapply(seurat$guidecapture_classification, str_detect, tfs_w_ntctl))"
   ]
  },
  {
   "cell_type": "code",
   "execution_count": null,
   "id": "f149fbc9",
   "metadata": {
    "papermill": {
     "duration": null,
     "end_time": null,
     "exception": null,
     "start_time": null,
     "status": "pending"
    },
    "tags": [],
    "vscode": {
     "languageId": "r"
    }
   },
   "outputs": [],
   "source": [
    "# Split the surat obj into singlets, doublets, negatives\n",
    "# Singlets have only one target gene detected, but can have both guides targeting it.\n",
    "seurat_negatives <- subset(seurat, idents = \"Negative\")\n",
    "seurat_singlets  <- subset(seurat, perturb_targets_detected_in_cell == 1)\n",
    "seurat_doublets  <- subset(seurat, perturb_targets_detected_in_cell > 1)"
   ]
  },
  {
   "cell_type": "code",
   "execution_count": null,
   "id": "f33365ea",
   "metadata": {
    "papermill": {
     "duration": null,
     "end_time": null,
     "exception": null,
     "start_time": null,
     "status": "pending"
    },
    "tags": [],
    "vscode": {
     "languageId": "r"
    }
   },
   "outputs": [],
   "source": [
    "# Assign the target gene name to singlets\n",
    "x <- seurat_singlets$guidecapture_classification\n",
    "target_assignments = sapply(tfs_w_ntctl, function(y) grep(y,x))\n",
    "\n",
    "empty_vec = vector(\"character\", length(x))\n",
    "for(tf in names(target_assignments)) {\n",
    "    indexes = target_assignments[[tf]]\n",
    "    empty_vec[indexes] = tf\n",
    "}"
   ]
  },
  {
   "cell_type": "code",
   "execution_count": null,
   "id": "24b8fbe5",
   "metadata": {
    "papermill": {
     "duration": null,
     "end_time": null,
     "exception": null,
     "start_time": null,
     "status": "pending"
    },
    "tags": [],
    "vscode": {
     "languageId": "r"
    }
   },
   "outputs": [],
   "source": [
    "Idents(seurat_singlets) <- empty_vec\n",
    "Idents(seurat_doublets) <- seurat_doublets@meta.data$guidecapture_classification"
   ]
  },
  {
   "attachments": {},
   "cell_type": "markdown",
   "id": "b30902c4",
   "metadata": {
    "papermill": {
     "duration": null,
     "end_time": null,
     "exception": null,
     "start_time": null,
     "status": "pending"
    },
    "tags": []
   },
   "source": [
    "### Singlets"
   ]
  },
  {
   "cell_type": "code",
   "execution_count": null,
   "id": "3f274182",
   "metadata": {
    "papermill": {
     "duration": null,
     "end_time": null,
     "exception": null,
     "start_time": null,
     "status": "pending"
    },
    "tags": [],
    "vscode": {
     "languageId": "r"
    }
   },
   "outputs": [],
   "source": [
    "singlet_barcodes <- Cells(seurat_singlets)\n",
    "select_singlets  <- df_guide$barcode_dash %in% singlet_barcodes\n",
    "df_singlets      <- df_guide[select_singlets, ]"
   ]
  },
  {
   "cell_type": "code",
   "execution_count": null,
   "id": "d6203584",
   "metadata": {
    "papermill": {
     "duration": null,
     "end_time": null,
     "exception": null,
     "start_time": null,
     "status": "pending"
    },
    "tags": [],
    "vscode": {
     "languageId": "r"
    }
   },
   "outputs": [],
   "source": [
    "options(repr.plot.width = 16, repr.plot.height = 6)\n",
    "\n",
    "plot_n_guides <- ggplot(df_singlets, aes(x = n_guides)) +\n",
    "    geom_histogram(binwidth = 1) +\n",
    "    labs(title = \"Singlets, guide counts\", x = \"#guides captured\") +\n",
    "    labs(y = \"#cells\")\n",
    "\n",
    "plot_dominant <- ggplot(df_singlets, aes(x = percent_dominant_gene)) +\n",
    "    geom_histogram(binwidth = 1) +\n",
    "    labs(title = \"Singlets, %dominant gene\", x = \"%dominant gene\") +\n",
    "    labs(y = \"#cells\")\n",
    "\n",
    "plot_n_guides | plot_dominant"
   ]
  },
  {
   "attachments": {},
   "cell_type": "markdown",
   "id": "a94b4bff",
   "metadata": {
    "papermill": {
     "duration": null,
     "end_time": null,
     "exception": null,
     "start_time": null,
     "status": "pending"
    },
    "tags": []
   },
   "source": [
    "### Negatives"
   ]
  },
  {
   "cell_type": "code",
   "execution_count": null,
   "id": "a001d64d",
   "metadata": {
    "papermill": {
     "duration": null,
     "end_time": null,
     "exception": null,
     "start_time": null,
     "status": "pending"
    },
    "tags": [],
    "vscode": {
     "languageId": "r"
    }
   },
   "outputs": [],
   "source": [
    "negative_barcodes <- Cells(seurat_negatives)\n",
    "select_negatives  <- df_guide$barcode_dash %in% negative_barcodes\n",
    "df_negatives      <- df_guide[select_negatives, ]"
   ]
  },
  {
   "cell_type": "code",
   "execution_count": null,
   "id": "fe7c4e18",
   "metadata": {
    "papermill": {
     "duration": null,
     "end_time": null,
     "exception": null,
     "start_time": null,
     "status": "pending"
    },
    "tags": [],
    "vscode": {
     "languageId": "r"
    }
   },
   "outputs": [],
   "source": [
    "options(repr.plot.width = 16, repr.plot.height = 6)\n",
    "\n",
    "plot_n_guides <- ggplot(df_negatives, aes(x = n_guides)) +\n",
    "    geom_histogram(binwidth = 1) +\n",
    "    labs(title = \"Negatives, guide counts\", x = \"#guides captured\") +\n",
    "    labs(y = \"#cells\")\n",
    "\n",
    "plot_dominant <- ggplot(df_negatives, aes(x = percent_dominant_gene)) +\n",
    "    geom_histogram(binwidth = 1) +\n",
    "    labs(title = \"Negatives, %dominant gene\", x = \"%dominant gene\") +\n",
    "    labs(y = \"#cells\")\n",
    "\n",
    "plot_n_guides | plot_dominant"
   ]
  },
  {
   "cell_type": "code",
   "execution_count": null,
   "id": "465f8287",
   "metadata": {
    "papermill": {
     "duration": null,
     "end_time": null,
     "exception": null,
     "start_time": null,
     "status": "pending"
    },
    "tags": [],
    "vscode": {
     "languageId": "r"
    }
   },
   "outputs": [],
   "source": [
    "sample_n(df_negatives, 10)"
   ]
  },
  {
   "cell_type": "code",
   "execution_count": null,
   "id": "06686784",
   "metadata": {
    "papermill": {
     "duration": null,
     "end_time": null,
     "exception": null,
     "start_time": null,
     "status": "pending"
    },
    "tags": [],
    "vscode": {
     "languageId": "r"
    }
   },
   "outputs": [],
   "source": [
    "#hist(df_singlets$GATA5)"
   ]
  },
  {
   "cell_type": "code",
   "execution_count": null,
   "id": "d4da335b",
   "metadata": {
    "papermill": {
     "duration": null,
     "end_time": null,
     "exception": null,
     "start_time": null,
     "status": "pending"
    },
    "tags": [],
    "vscode": {
     "languageId": "r"
    }
   },
   "outputs": [],
   "source": [
    "library(cluster)\n",
    "library(fitdistrplus)\n",
    "\n",
    "MaxN <- function(x, N = 2){\n",
    "  len <- length(x)\n",
    "  if (N > len) {\n",
    "    warning('N greater than length(x).  Setting N=length(x)')\n",
    "    N <- length(x)\n",
    "  }\n",
    "  sort(x, partial = len - N + 1)[len - N + 1]\n",
    "}\n",
    "\n",
    "myHTODemux <- function(\n",
    "  object,\n",
    "  assay = \"HTO\",\n",
    "  positive.quantile = 0.99,\n",
    "  init = NULL,\n",
    "  nstarts = 100,\n",
    "  kfunc = \"clara\",\n",
    "  nsamples = 100,\n",
    "  seed = 42,\n",
    "  verbose = TRUE\n",
    ") {\n",
    "  if (!is.null(x = seed)) {\n",
    "    set.seed(seed = seed)\n",
    "  }\n",
    "  #initial clustering\n",
    "  assay <- assay %||% DefaultAssay(object = object)\n",
    "  data <- GetAssayData(object = object, assay = assay)\n",
    "  counts <- GetAssayData(\n",
    "    object = object,\n",
    "    assay = assay,\n",
    "    slot = 'counts'\n",
    "  )[, colnames(x = object)]\n",
    "  counts <- as.matrix(x = counts)\n",
    "  ncenters <- init %||% (nrow(x = data) + 1)\n",
    "  switch(\n",
    "    EXPR = kfunc,\n",
    "    'kmeans' = {\n",
    "      init.clusters <- kmeans(\n",
    "        x = t(x = GetAssayData(object = object, assay = assay)),\n",
    "        centers = ncenters,\n",
    "        nstart = nstarts\n",
    "      )\n",
    "      #identify positive and negative signals for all HTO\n",
    "      Idents(object = object, cells = names(x = init.clusters$cluster)) <- init.clusters$cluster\n",
    "    },\n",
    "    'clara' = {\n",
    "      #use fast k-medoid clustering\n",
    "      init.clusters <- clara(\n",
    "        x = t(x = GetAssayData(object = object, assay = assay)),\n",
    "        k = ncenters,\n",
    "        samples = nsamples\n",
    "      )\n",
    "      #identify positive and negative signals for all HTO\n",
    "      Idents(object = object, cells = names(x = init.clusters$clustering), drop = TRUE) <- init.clusters$clustering\n",
    "    },\n",
    "    stop(\"Unknown k-means function \", kfunc, \", please choose from 'kmeans' or 'clara'\")\n",
    "  )\n",
    "  #average hto signals per cluster\n",
    "  #work around so we don't average all the RNA levels which takes time\n",
    "  average.expression <- AverageExpression(\n",
    "    object = object,\n",
    "    assays = assay,\n",
    "    verbose = FALSE\n",
    "  )[[assay]]\n",
    "  #checking for any cluster with all zero counts for any barcode\n",
    "  if (sum(average.expression == 0) > 0) {\n",
    "    stop(\"Cells with zero counts exist as a cluster.\")\n",
    "  }\n",
    "  #create a matrix to store classification result\n",
    "  discrete <- GetAssayData(object = object, assay = assay)\n",
    "  discrete[discrete > 0] <- 0\n",
    "  # for each HTO, we will use the minimum cluster for fitting\n",
    "  for (iter in rownames(x = data)) {\n",
    "    values <- counts[iter, colnames(object)]\n",
    "    #commented out if we take all but the top cluster as background\n",
    "    #values_negative=values[setdiff(object@cell.names,WhichCells(object,which.max(average.expression[iter,])))]\n",
    "    values.use <- values[WhichCells(\n",
    "      object = object,\n",
    "      idents = levels(x = Idents(object = object))[[which.min(x = average.expression[iter, ])]]\n",
    "    )]\n",
    "    fit <- suppressWarnings(expr = fitdist(data = values.use, distr = \"nbinom\"))\n",
    "    cutoff <- as.numeric(x = quantile(x = fit, probs = positive.quantile)$quantiles[1])\n",
    "    discrete[iter, names(x = which(x = values > cutoff))] <- 1\n",
    "    if (verbose) {\n",
    "      message(paste0(\"Cutoff for \", iter, \" : \", cutoff, \" reads\"))\n",
    "    }\n",
    "  }\n",
    "  # now assign cells to HTO based on discretized values\n",
    "  npositive <- colSums(x = discrete)\n",
    "  classification.global <- npositive\n",
    "  classification.global[npositive == 0] <- \"Negative\"\n",
    "  classification.global[npositive == 1] <- \"Singlet\"\n",
    "  classification.global[npositive > 1] <- \"Doublet\"\n",
    "  donor.id = rownames(x = data)\n",
    "  hash.max <- apply(X = data, MARGIN = 2, FUN = max)\n",
    "  hash.maxID <- apply(X = data, MARGIN = 2, FUN = which.max)\n",
    "  hash.second <- apply(X = data, MARGIN = 2, FUN = MaxN, N = 2)\n",
    "  hash.maxID <- as.character(x = donor.id[sapply(\n",
    "    X = 1:ncol(x = data),\n",
    "    FUN = function(x) {\n",
    "      return(which(x = data[, x] == hash.max[x])[1])\n",
    "    }\n",
    "  )])\n",
    "  hash.secondID <- as.character(x = donor.id[sapply(\n",
    "    X = 1:ncol(x = data),\n",
    "    FUN = function(x) {\n",
    "      return(which(x = data[, x] == hash.second[x])[1])\n",
    "    }\n",
    "  )])\n",
    "  hash.margin <- hash.max - hash.second\n",
    "  doublet_id <- sapply(\n",
    "    X = 1:length(x = hash.maxID),\n",
    "    FUN = function(x) {\n",
    "      return(paste(sort(x = c(hash.maxID[x], hash.secondID[x])), collapse = \"_\"))\n",
    "    }\n",
    "  )\n",
    "  # doublet_names <- names(x = table(doublet_id))[-1] # Not used\n",
    "  classification <- classification.global\n",
    "  classification[classification.global == \"Negative\"] <- \"Negative\"\n",
    "  classification[classification.global == \"Singlet\"] <- hash.maxID[which(x = classification.global == \"Singlet\")]\n",
    "  classification[classification.global == \"Doublet\"] <- doublet_id[which(x = classification.global == \"Doublet\")]\n",
    "  classification.metadata <- data.frame(\n",
    "    hash.maxID,\n",
    "    hash.secondID,\n",
    "    hash.margin,\n",
    "    classification,\n",
    "    classification.global\n",
    "  )\n",
    "  colnames(x = classification.metadata) <- paste(\n",
    "    assay,\n",
    "    c('maxID', 'secondID', 'margin', 'classification', 'classification.global'),\n",
    "    sep = '_'\n",
    "  )\n",
    "  object <- AddMetaData(object = object, metadata = classification.metadata)\n",
    "  Idents(object) <- paste0(assay, '_classification')\n",
    "  # Idents(object, cells = rownames(object@meta.data[object@meta.data$classification.global == \"Doublet\", ])) <- \"Doublet\"\n",
    "  doublets <- rownames(x = object[[]])[which(object[[paste0(assay, \"_classification.global\")]] == \"Doublet\")]\n",
    "  Idents(object = object, cells = doublets) <- 'Doublet'\n",
    "  # object@meta.data$hash.ID <- Idents(object)\n",
    "  object$hash.ID <- Idents(object = object)\n",
    "  return(discrete)\n",
    "}\n"
   ]
  },
  {
   "cell_type": "code",
   "execution_count": null,
   "id": "35f3a614",
   "metadata": {
    "papermill": {
     "duration": null,
     "end_time": null,
     "exception": null,
     "start_time": null,
     "status": "pending"
    },
    "tags": [],
    "vscode": {
     "languageId": "r"
    }
   },
   "outputs": [],
   "source": [
    "seurat_alt <- subset(seurat, cells = Cells(seurat))\n",
    "disc <- myHTODemux(seurat_alt, assay = \"guidecapture\", positive.quantile = 0.99)"
   ]
  },
  {
   "attachments": {},
   "cell_type": "markdown",
   "id": "9b5911f3",
   "metadata": {
    "papermill": {
     "duration": null,
     "end_time": null,
     "exception": null,
     "start_time": null,
     "status": "pending"
    },
    "tags": []
   },
   "source": [
    "# Visualize guides by clusters"
   ]
  },
  {
   "attachments": {},
   "cell_type": "markdown",
   "id": "8a6d7a2d",
   "metadata": {
    "papermill": {
     "duration": null,
     "end_time": null,
     "exception": null,
     "start_time": null,
     "status": "pending"
    },
    "tags": []
   },
   "source": [
    "## Singlets only"
   ]
  },
  {
   "cell_type": "code",
   "execution_count": null,
   "id": "4f1e71d4",
   "metadata": {
    "papermill": {
     "duration": null,
     "end_time": null,
     "exception": null,
     "start_time": null,
     "status": "pending"
    },
    "tags": [],
    "vscode": {
     "languageId": "r"
    }
   },
   "outputs": [],
   "source": [
    "options(repr.plot.width = 23, repr.plot.height = 8)\n",
    "#Idents(seurat_singlets) <- seurat_singlets@meta.data$guidecapture_classification\n",
    "\n",
    "p1 <- DimPlot(seurat_singlets, reduction = \"umap.rna\", label = TRUE, label.size = 6, repel = TRUE) + ggtitle(\"RNA\")\n",
    "p2 <- DimPlot(seurat_singlets, reduction = \"umap.atac\", label = TRUE, label.size = 6, repel = TRUE) + ggtitle(\"ATAC\")\n",
    "p3 <- DimPlot(seurat_singlets, reduction = \"wnn.umap\", label = TRUE, label.size = 6, repel = TRUE) + ggtitle(\"WNN\")\n",
    "p1 + p2 + p3 & plot_annotation(title = \"Guide Capture, singlets\") & \n",
    "theme(plot.title = element_text(hjust = 0.5, size = 20)) +\n",
    "theme(axis.title = element_text(size = 18))   "
   ]
  },
  {
   "cell_type": "code",
   "execution_count": null,
   "id": "afd3c08a",
   "metadata": {
    "papermill": {
     "duration": null,
     "end_time": null,
     "exception": null,
     "start_time": null,
     "status": "pending"
    },
    "tags": [],
    "vscode": {
     "languageId": "r"
    }
   },
   "outputs": [],
   "source": [
    "options(repr.plot.width = 70, repr.plot.height = 20)\n",
    "p1 <- DimPlot(seurat_doublets, reduction = \"umap.rna\", label = FALSE, label.size = 6) + ggtitle(\"RNA\")\n",
    "p2 <- DimPlot(seurat_doublets, reduction = \"umap.atac\", label = FALSE, label.size = 6) + ggtitle(\"ATAC\")\n",
    "p1 + p2 & plot_annotation(title = \"Guide Capture, doublets\") &\n",
    "theme(plot.title = element_text(hjust = 0.5, size = 20))\n",
    "\n",
    "#p3 <- DimPlot(seurat_doublets, reduction = \"wnn.umap\", label = TRUE, label.size = 6, repel = TRUE) + ggtitle(\"WNN\")"
   ]
  },
  {
   "cell_type": "code",
   "execution_count": null,
   "id": "fe0820b6",
   "metadata": {
    "papermill": {
     "duration": null,
     "end_time": null,
     "exception": null,
     "start_time": null,
     "status": "pending"
    },
    "tags": [],
    "vscode": {
     "languageId": "r"
    }
   },
   "outputs": [],
   "source": [
    "options(repr.plot.width = 54, repr.plot.height = 45)\n",
    "tf_list <- tfs_to_plot\n",
    "\n",
    "FeaturePlot(\n",
    "    seurat_singlets,\n",
    "    features = tf_list, \n",
    "    split.by = 'ident', \n",
    "    reduction = 'umap.rna', \n",
    "    cols = c(\"grey\", \"red\"),\n",
    "    keep.scale = \"feature\"\n",
    ")"
   ]
  },
  {
   "cell_type": "code",
   "execution_count": null,
   "id": "79292b5e",
   "metadata": {
    "papermill": {
     "duration": null,
     "end_time": null,
     "exception": null,
     "start_time": null,
     "status": "pending"
    },
    "tags": [],
    "vscode": {
     "languageId": "r"
    }
   },
   "outputs": [],
   "source": [
    "options(repr.plot.width = 36, repr.plot.height = 12)\n",
    "guide_list <- gsub(\"_\", \"-\", guides_to_plot)\n",
    "DefaultAssay(seurat_singlets) <- \"guidecapture\"\n",
    "\n",
    "FeaturePlot(\n",
    "    seurat_singlets,\n",
    "    features = guide_list,\n",
    "    reduction = 'umap.rna',\n",
    "    cols = c(\"grey\", \"red\"),\n",
    "    keep.scale = \"feature\",\n",
    "    ncol = length(guide_list)/2\n",
    ") +\n",
    "plot_annotation(title = \"Guide Capture, singlets\") &\n",
    "theme(plot.title = element_text(hjust = 0.5, size = 20))\n",
    "\n",
    "options(repr.plot.width = 50, repr.plot.height = 6)\n",
    "tf_list <- c(tfs_to_plot, \"POU5F1\")\n",
    "DefaultAssay(seurat_singlets) <- \"SCT\"\n",
    "FeaturePlot(\n",
    "    seurat_singlets,\n",
    "    features = tf_list,\n",
    "    reduction = 'umap.rna',\n",
    "    cols = c(\"grey\", \"red\"),\n",
    "    keep.scale = \"feature\",\n",
    "    ncol = length(tf_list)\n",
    ") +\n",
    "plot_annotation(title = \"RNA, singlets\") &\n",
    "theme(plot.title = element_text(hjust = 0.5, size = 20))\n",
    "\n"
   ]
  },
  {
   "cell_type": "code",
   "execution_count": null,
   "id": "531717ac",
   "metadata": {
    "papermill": {
     "duration": null,
     "end_time": null,
     "exception": null,
     "start_time": null,
     "status": "pending"
    },
    "tags": [],
    "vscode": {
     "languageId": "r"
    }
   },
   "outputs": [],
   "source": [
    "tfs_to_plot"
   ]
  },
  {
   "cell_type": "code",
   "execution_count": null,
   "id": "5b7a568e",
   "metadata": {
    "papermill": {
     "duration": null,
     "end_time": null,
     "exception": null,
     "start_time": null,
     "status": "pending"
    },
    "tags": [],
    "vscode": {
     "languageId": "r"
    }
   },
   "outputs": [],
   "source": [
    "library(patchwork)\n",
    "options(repr.plot.width = 32, repr.plot.height = 12)\n",
    "tf_list <- tfs_to_plot\n",
    "guide_list <- gsub(\"_\", \"-\", guides_to_plot)\n",
    "\n",
    "DefaultAssay(seurat_singlets) <- \"guidecapture\"\n",
    "FeaturePlot(\n",
    "    seurat_singlets,\n",
    "    features = guide_list,\n",
    "    reduction = 'umap.atac',\n",
    "    cols = c(\"grey\", \"red\"),\n",
    "    keep.scale = \"all\",\n",
    "    ncol = length(guide_list)/2\n",
    ") +\n",
    "plot_annotation(title = \"Guide Capture\") &\n",
    "theme(plot.title = element_text(hjust = 0.5, size = 20))\n",
    "\n",
    "FeaturePlot(\n",
    "    seurat_singlets,\n",
    "    features =guide_list,\n",
    "    reduction = 'umap.rna',\n",
    "    cols = c(\"grey\", \"red\"),\n",
    "    keep.scale = \"all\",\n",
    "    ncol = length(guide_list)/2\n",
    ") +\n",
    "plot_annotation(title = \"Guide Capture\") &\n",
    "theme(plot.title = element_text(hjust = 0.5, size = 20))\n",
    "\n",
    "FeaturePlot(\n",
    "    seurat_singlets,\n",
    "    features = guide_list,\n",
    "    reduction = 'wnn.umap',\n",
    "    cols = c(\"grey\", \"red\"),\n",
    "    keep.scale = \"all\",\n",
    "    ncol = length(guide_list)/2\n",
    ") +\n",
    "plot_annotation(title = \"Guide Capture\") &\n",
    "theme(plot.title = element_text(hjust = 0.5, size = 20))\n",
    "\n"
   ]
  },
  {
   "cell_type": "code",
   "execution_count": null,
   "id": "ab1977cb",
   "metadata": {
    "papermill": {
     "duration": null,
     "end_time": null,
     "exception": null,
     "start_time": null,
     "status": "pending"
    },
    "tags": [],
    "vscode": {
     "languageId": "r"
    }
   },
   "outputs": [],
   "source": [
    "\n",
    "options(repr.plot.width = 50, repr.plot.height = 12)\n",
    "tf_list <- tfs_to_plot\n",
    "DefaultAssay(seurat_singlets) <- \"SCT\"\n",
    "\n",
    "FeaturePlot(\n",
    "    seurat_singlets,\n",
    "    features = tf_list,\n",
    "    reduction = 'umap.rna',\n",
    "    cols = c(\"grey\", \"red\"),\n",
    "    keep.scale = \"all\",\n",
    "    ncol = length(tf_list)\n",
    ") +\n",
    "plot_annotation(title = \"RNA\") &\n",
    "theme(plot.title = element_text(hjust = 0.5, size = 20))\n",
    "\n",
    "FeaturePlot(\n",
    "    seurat_singlets,\n",
    "    features = tf_list,\n",
    "    reduction = 'umap.atac',\n",
    "    cols = c(\"grey\", \"red\"),\n",
    "    keep.scale = \"all\",\n",
    "    ncol = length(tf_list)\n",
    ") +\n",
    "plot_annotation(title = \"RNA\") &\n",
    "theme(plot.title = element_text(hjust = 0.5, size = 20))\n",
    "\n",
    "FeaturePlot(\n",
    "    seurat_singlets,\n",
    "    features = tf_list,\n",
    "    reduction = 'wnn.umap',\n",
    "    cols = c(\"grey\", \"red\"),\n",
    "    keep.scale = \"all\",\n",
    "    ncol = length(tf_list)\n",
    ") +\n",
    "plot_annotation(title = \"RNA\") &\n",
    "theme(plot.title = element_text(hjust = 0.5, size = 20))"
   ]
  },
  {
   "attachments": {},
   "cell_type": "markdown",
   "id": "666ae75f",
   "metadata": {
    "papermill": {
     "duration": null,
     "end_time": null,
     "exception": null,
     "start_time": null,
     "status": "pending"
    },
    "tags": []
   },
   "source": [
    "## Doublets only"
   ]
  },
  {
   "cell_type": "code",
   "execution_count": null,
   "id": "3e5eeedd",
   "metadata": {
    "papermill": {
     "duration": null,
     "end_time": null,
     "exception": null,
     "start_time": null,
     "status": "pending"
    },
    "tags": [],
    "vscode": {
     "languageId": "r"
    }
   },
   "outputs": [],
   "source": [
    "options(repr.plot.width = 8, repr.plot.height = 8)\n",
    "\n",
    "Idents(seurat_doublets) <- seurat_doublets@meta.data$guidecapture_classification\n",
    "\n",
    "plot <- DimPlot(\n",
    "    seurat_doublets,\n",
    "    reduction = \"umap.rna\"\n",
    ")\n",
    "LabelClusters(\n",
    "    plot = plot,\n",
    "    id = \"ident\"\n",
    ")"
   ]
  },
  {
   "cell_type": "code",
   "execution_count": null,
   "id": "6a21491a",
   "metadata": {
    "papermill": {
     "duration": null,
     "end_time": null,
     "exception": null,
     "start_time": null,
     "status": "pending"
    },
    "tags": [],
    "vscode": {
     "languageId": "r"
    }
   },
   "outputs": [],
   "source": [
    "# options(repr.plot.width = 48, repr.plot.height = 15)\n",
    "# tf_list <- tfs_to_plot\n",
    "# DefaultAssay(seurat_singlets) <- \"SCT\"\n",
    "\n",
    "# FeaturePlot(\n",
    "#     seurat_doublets,\n",
    "#     features = tf_list, \n",
    "#     split.by = 'ident', \n",
    "#     reduction = 'umap.rna', \n",
    "#     cols = c(\"grey\", \"red\"),\n",
    "#     keep.scale = \"all\"\n",
    "# )"
   ]
  },
  {
   "attachments": {},
   "cell_type": "markdown",
   "id": "cdc9fa3f",
   "metadata": {
    "papermill": {
     "duration": null,
     "end_time": null,
     "exception": null,
     "start_time": null,
     "status": "pending"
    },
    "tags": []
   },
   "source": [
    "# Get cell counts in clusters"
   ]
  },
  {
   "cell_type": "code",
   "execution_count": null,
   "id": "fc3a9b14",
   "metadata": {
    "papermill": {
     "duration": null,
     "end_time": null,
     "exception": null,
     "start_time": null,
     "status": "pending"
    },
    "tags": [],
    "vscode": {
     "languageId": "r"
    }
   },
   "outputs": [],
   "source": [
    "Assays(seurat_singlets)"
   ]
  },
  {
   "cell_type": "code",
   "execution_count": null,
   "id": "6d1ab481",
   "metadata": {
    "papermill": {
     "duration": null,
     "end_time": null,
     "exception": null,
     "start_time": null,
     "status": "pending"
    },
    "tags": [],
    "vscode": {
     "languageId": "r"
    }
   },
   "outputs": [],
   "source": [
    "\n",
    "DefaultAssay(seurat_singlets) <- \"RNA\"\n",
    "seurat_singlets@meta.data$seurat_clusters\n",
    "seurat_singlets <- StashIdent(seurat_singlets, save.name = \"current.ident\")"
   ]
  },
  {
   "cell_type": "code",
   "execution_count": null,
   "id": "42d11ee5",
   "metadata": {
    "papermill": {
     "duration": null,
     "end_time": null,
     "exception": null,
     "start_time": null,
     "status": "pending"
    },
    "tags": [],
    "vscode": {
     "languageId": "r"
    }
   },
   "outputs": [],
   "source": [
    "options(repr.plot.width = 7, repr.plot.height = 8)\n",
    "seurat_singlets <- SetIdent(seurat_singlets, value = seurat_singlets@meta.data$seurat_clusters)\n",
    "DimPlot(seurat_singlets, reduction = 'umap.rna', label = TRUE)"
   ]
  },
  {
   "cell_type": "code",
   "execution_count": null,
   "id": "a138733e",
   "metadata": {
    "papermill": {
     "duration": null,
     "end_time": null,
     "exception": null,
     "start_time": null,
     "status": "pending"
    },
    "tags": [],
    "vscode": {
     "languageId": "r"
    }
   },
   "outputs": [],
   "source": [
    "cluster_counts <- table(Idents(seurat_singlets))\n",
    "as.data.frame(cluster_counts)\n"
   ]
  },
  {
   "cell_type": "code",
   "execution_count": null,
   "id": "f8110468",
   "metadata": {
    "papermill": {
     "duration": null,
     "end_time": null,
     "exception": null,
     "start_time": null,
     "status": "pending"
    },
    "tags": [],
    "vscode": {
     "languageId": "r"
    }
   },
   "outputs": [],
   "source": [
    "#cluster_counts[['2']] + cluster_counts[['5']] + cluster_counts[['11']] + cluster_counts[['13']] + cluster_counts[['14']]"
   ]
  },
  {
   "cell_type": "code",
   "execution_count": null,
   "id": "289e5bb2",
   "metadata": {
    "papermill": {
     "duration": null,
     "end_time": null,
     "exception": null,
     "start_time": null,
     "status": "pending"
    },
    "tags": [],
    "vscode": {
     "languageId": "r"
    }
   },
   "outputs": [],
   "source": [
    "DefaultAssay(seurat_singlets) <- \"guidecapture\"\n",
    "Idents(seurat_singlets) <- \"guidecapture_classification\""
   ]
  },
  {
   "cell_type": "code",
   "execution_count": null,
   "id": "04eb973a",
   "metadata": {
    "papermill": {
     "duration": null,
     "end_time": null,
     "exception": null,
     "start_time": null,
     "status": "pending"
    },
    "tags": [],
    "vscode": {
     "languageId": "r"
    }
   },
   "outputs": [],
   "source": [
    "# seurat_ngn2 <- subset(seurat_singlets, idents = tfs_w_ntctl[1])\n",
    "# hist(seurat_ngn2@meta.data$SCT.weight)"
   ]
  },
  {
   "cell_type": "code",
   "execution_count": null,
   "id": "0be7801f",
   "metadata": {
    "papermill": {
     "duration": null,
     "end_time": null,
     "exception": null,
     "start_time": null,
     "status": "pending"
    },
    "tags": [],
    "vscode": {
     "languageId": "r"
    }
   },
   "outputs": [],
   "source": [
    "#hist(seurat_ngn2$SCT@data[tfs_w_ntctl[1],])"
   ]
  },
  {
   "cell_type": "code",
   "execution_count": null,
   "id": "63ca60b9",
   "metadata": {
    "papermill": {
     "duration": null,
     "end_time": null,
     "exception": null,
     "start_time": null,
     "status": "pending"
    },
    "tags": [],
    "vscode": {
     "languageId": "r"
    }
   },
   "outputs": [],
   "source": [
    "Idents(seurat_singlets) <- \"guidecapture_classification\"\n",
    "options(repr.plot.width = 30, repr.plot.height = 10)\n",
    "tf_list <- tfs_to_plot\n",
    "\n",
    "Idents(seurat) <- \"guidecapture_classification\"\n",
    "RidgePlot(\n",
    "    seurat_singlets,\n",
    "    assay = \"guidecapture\",\n",
    "    features = guide_names,\n",
    "    ncol = 4\n",
    ") +\n",
    "plot_annotation(title = \"Guide capture, singlets\") &\n",
    "theme(plot.title = element_text(hjust = 0.5, size = 20))\n",
    "\n",
    "\n",
    "RidgePlot(\n",
    "    seurat_singlets,\n",
    "    assay = \"SCT\",\n",
    "    features = tf_list,\n",
    "    ncol = 4,\n",
    ") +\n",
    "plot_annotation(title = \"Gene expression, singlets\") &\n",
    "theme(plot.title = element_text(hjust = 0.5, size = 20))\n"
   ]
  },
  {
   "attachments": {},
   "cell_type": "markdown",
   "id": "3183235f",
   "metadata": {
    "papermill": {
     "duration": null,
     "end_time": null,
     "exception": null,
     "start_time": null,
     "status": "pending"
    },
    "tags": [],
    "vscode": {
     "languageId": "r"
    }
   },
   "source": [
    "# How many singlets express both Protospacer1 and 2?"
   ]
  },
  {
   "cell_type": "code",
   "execution_count": null,
   "id": "387e5d73",
   "metadata": {
    "papermill": {
     "duration": null,
     "end_time": null,
     "exception": null,
     "start_time": null,
     "status": "pending"
    },
    "tags": [],
    "vscode": {
     "languageId": "r"
    }
   },
   "outputs": [],
   "source": [
    "singlet_barcodes <- Cells(seurat_singlets)"
   ]
  },
  {
   "cell_type": "code",
   "execution_count": null,
   "id": "cded6225",
   "metadata": {
    "papermill": {
     "duration": null,
     "end_time": null,
     "exception": null,
     "start_time": null,
     "status": "pending"
    },
    "tags": [],
    "vscode": {
     "languageId": "r"
    }
   },
   "outputs": [],
   "source": [
    "select_singlets <- df_guide$barcode_dash %in% singlet_barcodes\n",
    "df_singlets     <- df_guide[select_singlets,]"
   ]
  },
  {
   "cell_type": "code",
   "execution_count": null,
   "id": "b5e7342f",
   "metadata": {
    "papermill": {
     "duration": null,
     "end_time": null,
     "exception": null,
     "start_time": null,
     "status": "pending"
    },
    "tags": [],
    "vscode": {
     "languageId": "r"
    }
   },
   "outputs": [],
   "source": [
    "singlets_metadata <- seurat_singlets@meta.data['guidecapture_classification']\n",
    "singlets_metadata['barcode_dash'] <- rownames(singlets_metadata)\n",
    "head(singlets_metadata)"
   ]
  },
  {
   "cell_type": "code",
   "execution_count": null,
   "id": "97b19b24",
   "metadata": {
    "papermill": {
     "duration": null,
     "end_time": null,
     "exception": null,
     "start_time": null,
     "status": "pending"
    },
    "tags": [],
    "vscode": {
     "languageId": "r"
    }
   },
   "outputs": [],
   "source": [
    "df_singlets <- merge(df_singlets, singlets_metadata, by = \"barcode_dash\")"
   ]
  },
  {
   "cell_type": "code",
   "execution_count": null,
   "id": "0c05ed00",
   "metadata": {
    "papermill": {
     "duration": null,
     "end_time": null,
     "exception": null,
     "start_time": null,
     "status": "pending"
    },
    "tags": [],
    "vscode": {
     "languageId": "r"
    }
   },
   "outputs": [],
   "source": [
    "head(df_singlets)"
   ]
  },
  {
   "cell_type": "code",
   "execution_count": null,
   "id": "d9260652",
   "metadata": {
    "papermill": {
     "duration": null,
     "end_time": null,
     "exception": null,
     "start_time": null,
     "status": "pending"
    },
    "tags": [],
    "vscode": {
     "languageId": "r"
    }
   },
   "outputs": [],
   "source": [
    "# # Count the singlets where both PSs are captured\n",
    "\n",
    "# fracs_list <- list()\n",
    "# guide_list <- c(\"NEUROG2\", \"MEOX1\", \"GATA5\", \"NTCTL\")\n",
    "# ps_list <- list(\n",
    "#             'NEUROG2_pss' = c(\"NEUROG2_1\", \"NEUROG2_2\"),\n",
    "#             'MEOX1_pss' = c(\"MEOX1_1\", \"MEOX1_2\"),\n",
    "#             'GATA5_pss' = c(\"GATA5_1\", \"GATA5_2\"),\n",
    "#             'NTCTL_pss' = c(\"NTCTL_1\", \"NTCTL_2\")\n",
    "#         )\n",
    "\n",
    "# for(guide in guide_list) {\n",
    "#     ps_col_names <- c(paste0(guide, \"_1\"), paste0(guide, \"_2\"))\n",
    "#     select_guide <- df_singlets$guidecapture_classification == guide\n",
    "    \n",
    "#     for(ps_pair in names(ps_list)){ \n",
    "#         ps_col_names <- ps_list[[ps_pair]]\n",
    "#         df_dummy <- df_singlets[select_guide, ps_col_names]    \n",
    "#         both_ps_captured <- (df_dummy[,1] > 0) & (df_dummy[,2] > 0)\n",
    "#         frac_dual_ps <- round(sum(both_ps_captured)/nrow(df_dummy),2)\n",
    "#         #print(paste(guide, ps_pair, frac_dual_ps))\n",
    "#         fracs_list <- rbind(fracs_list, list(guide, ps_pair, frac_dual_ps))\n",
    "#     }\n",
    "\n",
    "    \n",
    "# }"
   ]
  },
  {
   "cell_type": "code",
   "execution_count": null,
   "id": "461b4636",
   "metadata": {
    "papermill": {
     "duration": null,
     "end_time": null,
     "exception": null,
     "start_time": null,
     "status": "pending"
    },
    "tags": [],
    "vscode": {
     "languageId": "r"
    }
   },
   "outputs": [],
   "source": [
    "# For singlets\n",
    "# V1 is assigned barcode\n",
    "# V2 is the name of the gene/guide where both protospacers are detected in barcode\n",
    "# V3 is the fraction of barcodes with the both protospacers of gene/guide in V2 \n",
    "\n",
    "# as.data.frame(fracs_list)"
   ]
  },
  {
   "cell_type": "code",
   "execution_count": null,
   "id": "75a31d6e",
   "metadata": {
    "papermill": {
     "duration": null,
     "end_time": null,
     "exception": null,
     "start_time": null,
     "status": "pending"
    },
    "tags": [],
    "vscode": {
     "languageId": "r"
    }
   },
   "outputs": [],
   "source": []
  }
 ],
 "metadata": {
  "kernelspec": {
   "display_name": "R",
   "language": "R",
   "name": "ir"
  },
  "language_info": {
   "codemirror_mode": "r",
   "file_extension": ".r",
   "mimetype": "text/x-r-source",
   "name": "R",
   "pygments_lexer": "r",
   "version": "4.3.1"
  },
  "papermill": {
   "default_parameters": {},
   "duration": 128.142996,
   "end_time": "2023-08-18T23:07:27.394865",
   "environment_variables": {},
   "exception": true,
   "input_path": "/home/kfeng/catatac/secondary/05_demux_guides_00.ipynb",
   "output_path": "/data2/kfeng/deeper_guides_dasatinib/secondary/DMSO1/notebooks/05_demux_guides_00.ipynb",
   "parameters": {
    "h5_name": "/data2/kfeng/deeper_guides_dasatinib/secondary/DMSO1/seurat/CATATAC_CRISPR-DMSO1_ONLY_SINGLETS.h5seurat",
    "library": "CRISPR-DMSO1",
    "protosp_path": "/data2/kfeng/deeper_guides_dasatinib/dasatinib_primary_01HD/DMSO1/resources/ps_dasatinib_screen3.tsv",
    "tsv_path": "/data2/kfeng/deeper_guides_dasatinib/dasatinib_primary_01HD/DMSO1/tsv"
   },
   "start_time": "2023-08-18T23:05:19.251869",
   "version": "2.4.0"
  },
  "vscode": {
   "interpreter": {
    "hash": "75b87ce47bb9969be599b51f4ee6bb5c32ae6714610a6d54c2ccfc55bac36fba"
   }
  }
 },
 "nbformat": 4,
 "nbformat_minor": 5
}