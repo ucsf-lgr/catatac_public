{
 "cells": [
  {
   "cell_type": "markdown",
   "id": "1f6d9585",
   "metadata": {
    "tags": [
     "papermill-error-cell-tag"
    ]
   },
   "source": [
    "<span style=\"color:red; font-family:Helvetica Neue, Helvetica, Arial, sans-serif; font-size:2em;\">An Exception was encountered at '<a href=\"#papermill-error-cell\">In [21]</a>'.</span>"
   ]
  },
  {
   "cell_type": "code",
   "execution_count": 1,
   "id": "9e1c645e",
   "metadata": {
    "execution": {
     "iopub.execute_input": "2023-08-17T17:20:49.773831Z",
     "iopub.status.busy": "2023-08-17T17:20:49.772211Z",
     "iopub.status.idle": "2023-08-17T17:20:49.800354Z",
     "shell.execute_reply": "2023-08-17T17:20:49.798907Z"
    },
    "papermill": {
     "duration": 0.126193,
     "end_time": "2023-08-17T17:20:49.801899",
     "exception": false,
     "start_time": "2023-08-17T17:20:49.675706",
     "status": "completed"
    },
    "tags": [
     "injected-parameters"
    ]
   },
   "outputs": [],
   "source": [
    "# Parameters",
    "h5_name = '{PATH_1}'",
    "protosp_path = '{PATH_2}'",
    "library = \"CRISPR-DASA2\"",
    "tsv_path = '{PATH_3}'",
    ""
   ]
  },
  {
   "cell_type": "code",
   "execution_count": 2,
   "id": "c1d34161",
   "metadata": {
    "execution": {
     "iopub.execute_input": "2023-08-17T17:20:49.866152Z",
     "iopub.status.busy": "2023-08-17T17:20:49.837841Z",
     "iopub.status.idle": "2023-08-17T17:20:54.348319Z",
     "shell.execute_reply": "2023-08-17T17:20:54.347124Z"
    },
    "papermill": {
     "duration": 4.538614,
     "end_time": "2023-08-17T17:20:54.350056",
     "exception": false,
     "start_time": "2023-08-17T17:20:49.811442",
     "status": "completed"
    },
    "tags": []
   },
   "outputs": [
    {
     "name": "stderr",
     "output_type": "stream",
     "text": [
      "The legacy packages maptools, rgdal, and rgeos, underpinning the sp package,\n",
      "which was just loaded, will retire in October 2023.\n",
      "Please refer to R-spatial evolution reports for details, especially\n",
      "https://r-spatial.org/r/2023/05/15/evolution4.html.\n",
      "It may be desirable to make the sf package available;\n",
      "package maintainers should consider adding sf to Suggests:.\n",
      "The sp package is now running under evolution status 2\n",
      "     (status 2 uses the sf package in place of rgdal)\n",
      "\n"
     ]
    },
    {
     "name": "stderr",
     "output_type": "stream",
     "text": [
      "Attaching SeuratObject\n",
      "\n"
     ]
    },
    {
     "name": "stderr",
     "output_type": "stream",
     "text": [
      "Registered S3 method overwritten by 'SeuratDisk':\n",
      "  method            from  \n",
      "  as.sparse.H5Group Seurat\n",
      "\n"
     ]
    },
    {
     "name": "stderr",
     "output_type": "stream",
     "text": [
      "\n",
      "Attaching package: \u2018dplyr\u2019\n",
      "\n",
      "\n"
     ]
    },
    {
     "name": "stderr",
     "output_type": "stream",
     "text": [
      "The following objects are masked from \u2018package:stats\u2019:\n",
      "\n",
      "    filter, lag\n",
      "\n",
      "\n"
     ]
    },
    {
     "name": "stderr",
     "output_type": "stream",
     "text": [
      "The following objects are masked from \u2018package:base\u2019:\n",
      "\n",
      "    intersect, setdiff, setequal, union\n",
      "\n",
      "\n"
     ]
    },
    {
     "name": "stderr",
     "output_type": "stream",
     "text": [
      "\n",
      "Attaching package: \u2018crayon\u2019\n",
      "\n",
      "\n"
     ]
    },
    {
     "name": "stderr",
     "output_type": "stream",
     "text": [
      "The following object is masked from \u2018package:ggplot2\u2019:\n",
      "\n",
      "    %+%\n",
      "\n",
      "\n"
     ]
    }
   ],
   "source": [
    "library(Seurat)\n",
    "library(SeuratDisk)\n",
    "library(dplyr)\n",
    "library(ggplot2)\n",
    "library(patchwork)\n",
    "library(stringr)\n",
    "library(crayon)"
   ]
  },
  {
   "cell_type": "code",
   "execution_count": 3,
   "id": "7cf77c8f",
   "metadata": {
    "execution": {
     "iopub.execute_input": "2023-08-17T17:20:54.375708Z",
     "iopub.status.busy": "2023-08-17T17:20:54.373270Z",
     "iopub.status.idle": "2023-08-17T17:20:54.386596Z",
     "shell.execute_reply": "2023-08-17T17:20:54.385459Z"
    },
    "papermill": {
     "duration": 0.025363,
     "end_time": "2023-08-17T17:20:54.388319",
     "exception": false,
     "start_time": "2023-08-17T17:20:54.362956",
     "status": "completed"
    },
    "tags": []
   },
   "outputs": [],
   "source": [
    "#setwd(\"~/prj/catatac/scripts\")"
   ]
  },
  {
   "attachments": {},
   "cell_type": "markdown",
   "id": "cff7c27e",
   "metadata": {
    "papermill": {
     "duration": 0.008575,
     "end_time": "2023-08-17T17:20:54.410551",
     "exception": false,
     "start_time": "2023-08-17T17:20:54.401976",
     "status": "completed"
    },
    "tags": []
   },
   "source": [
    "# Load guide-capture data"
   ]
  },
  {
   "attachments": {},
   "cell_type": "markdown",
   "id": "b9392212",
   "metadata": {
    "papermill": {
     "duration": 0.008561,
     "end_time": "2023-08-17T17:20:54.427648",
     "exception": false,
     "start_time": "2023-08-17T17:20:54.419087",
     "status": "completed"
    },
    "tags": []
   },
   "source": [
    "Define paths etc"
   ]
  },
  {
   "cell_type": "code",
   "execution_count": 4,
   "id": "a3059719",
   "metadata": {
    "execution": {
     "iopub.execute_input": "2023-08-17T17:20:54.468674Z",
     "iopub.status.busy": "2023-08-17T17:20:54.467625Z",
     "iopub.status.idle": "2023-08-17T17:20:54.475085Z",
     "shell.execute_reply": "2023-08-17T17:20:54.473971Z"
    },
    "papermill": {
     "duration": 0.040287,
     "end_time": "2023-08-17T17:20:54.476512",
     "exception": false,
     "start_time": "2023-08-17T17:20:54.436225",
     "status": "completed"
    },
    "tags": []
   },
   "outputs": [],
   "source": [
    "# Pass these as parameters",
    "# h5_name = '{PATH_4}'",
    "# protosp_path = '{PATH_5}'",
    "# library = \"CRISPR8\"",
    "# tsv_path = '{PATH_6}'",
    ""
   ]
  },
  {
   "cell_type": "code",
   "execution_count": 5,
   "id": "28defc77",
   "metadata": {
    "execution": {
     "iopub.execute_input": "2023-08-17T17:20:54.496195Z",
     "iopub.status.busy": "2023-08-17T17:20:54.495254Z",
     "iopub.status.idle": "2023-08-17T17:20:54.505572Z",
     "shell.execute_reply": "2023-08-17T17:20:54.504418Z"
    },
    "papermill": {
     "duration": 0.021105,
     "end_time": "2023-08-17T17:20:54.506850",
     "exception": false,
     "start_time": "2023-08-17T17:20:54.485745",
     "status": "completed"
    },
    "tags": []
   },
   "outputs": [],
   "source": [
    "h5_w_gcap_name <- sub(\".h5seurat\", \"_w_GUIDE_CAP.h5seurat\", h5_name)",
    "barcode2guide_tsv_path <- paste0(tsv_path, '{PATH_7}')",
    "tsv_name <- paste0(tsv_path, '{PATH_8}')"
   ]
  },
  {
   "attachments": {},
   "cell_type": "markdown",
   "id": "6df2a53b",
   "metadata": {
    "papermill": {
     "duration": 0.008661,
     "end_time": "2023-08-17T17:20:54.524590",
     "exception": false,
     "start_time": "2023-08-17T17:20:54.515929",
     "status": "completed"
    },
    "tags": []
   },
   "source": [
    "### Load protospacer file"
   ]
  },
  {
   "cell_type": "code",
   "execution_count": 6,
   "id": "c3ba4c18",
   "metadata": {
    "execution": {
     "iopub.execute_input": "2023-08-17T17:20:54.544072Z",
     "iopub.status.busy": "2023-08-17T17:20:54.543119Z",
     "iopub.status.idle": "2023-08-17T17:20:54.551929Z",
     "shell.execute_reply": "2023-08-17T17:20:54.550761Z"
    },
    "papermill": {
     "duration": 0.019873,
     "end_time": "2023-08-17T17:20:54.553224",
     "exception": false,
     "start_time": "2023-08-17T17:20:54.533351",
     "status": "completed"
    },
    "tags": []
   },
   "outputs": [],
   "source": [
    "df_protosp = read.table(protosp_path, header=TRUE, comment.char=\"\")"
   ]
  },
  {
   "cell_type": "code",
   "execution_count": 7,
   "id": "2815bc38",
   "metadata": {
    "execution": {
     "iopub.execute_input": "2023-08-17T17:20:54.573116Z",
     "iopub.status.busy": "2023-08-17T17:20:54.572192Z",
     "iopub.status.idle": "2023-08-17T17:20:54.592025Z",
     "shell.execute_reply": "2023-08-17T17:20:54.590880Z"
    },
    "papermill": {
     "duration": 0.030775,
     "end_time": "2023-08-17T17:20:54.593295",
     "exception": false,
     "start_time": "2023-08-17T17:20:54.562520",
     "status": "completed"
    },
    "tags": []
   },
   "outputs": [
    {
     "data": {
      "text/html": [
       "<style>\n",
       ".list-inline {list-style: none; margin:0; padding: 0}\n",
       ".list-inline>li {display: inline-block}\n",
       ".list-inline>li:not(:last-child)::after {content: \"\\00b7\"; padding: 0 .5ex}\n",
       "</style>\n",
       "<ol class=list-inline><li>'ADNP'</li><li>'BRD2'</li><li>'CHD2'</li><li>'CNOT2'</li><li>'GPBP1L1'</li><li>'HIC2'</li><li>'KMT2B'</li><li>'MNT'</li><li>'NTC22'</li><li>'NTC28'</li><li>'NTC36'</li><li>'NTC74'</li><li>'NTC82'</li><li>'NTC98'</li><li>'PHF6'</li><li>'PIAS1'</li><li>'PLAGL2'</li><li>'PQBP1'</li><li>'SIN3A'</li><li>'SLTM'</li><li>'TSC22D4'</li><li>'UBE2L3'</li><li>'YEATS4'</li><li>'ZBED6'</li><li>'ZNF330'</li><li>'ZNF669'</li></ol>\n"
      ],
      "text/latex": [
       "\\begin{enumerate*}\n",
       "\\item 'ADNP'\n",
       "\\item 'BRD2'\n",
       "\\item 'CHD2'\n",
       "\\item 'CNOT2'\n",
       "\\item 'GPBP1L1'\n",
       "\\item 'HIC2'\n",
       "\\item 'KMT2B'\n",
       "\\item 'MNT'\n",
       "\\item 'NTC22'\n",
       "\\item 'NTC28'\n",
       "\\item 'NTC36'\n",
       "\\item 'NTC74'\n",
       "\\item 'NTC82'\n",
       "\\item 'NTC98'\n",
       "\\item 'PHF6'\n",
       "\\item 'PIAS1'\n",
       "\\item 'PLAGL2'\n",
       "\\item 'PQBP1'\n",
       "\\item 'SIN3A'\n",
       "\\item 'SLTM'\n",
       "\\item 'TSC22D4'\n",
       "\\item 'UBE2L3'\n",
       "\\item 'YEATS4'\n",
       "\\item 'ZBED6'\n",
       "\\item 'ZNF330'\n",
       "\\item 'ZNF669'\n",
       "\\end{enumerate*}\n"
      ],
      "text/markdown": [
       "1. 'ADNP'\n",
       "2. 'BRD2'\n",
       "3. 'CHD2'\n",
       "4. 'CNOT2'\n",
       "5. 'GPBP1L1'\n",
       "6. 'HIC2'\n",
       "7. 'KMT2B'\n",
       "8. 'MNT'\n",
       "9. 'NTC22'\n",
       "10. 'NTC28'\n",
       "11. 'NTC36'\n",
       "12. 'NTC74'\n",
       "13. 'NTC82'\n",
       "14. 'NTC98'\n",
       "15. 'PHF6'\n",
       "16. 'PIAS1'\n",
       "17. 'PLAGL2'\n",
       "18. 'PQBP1'\n",
       "19. 'SIN3A'\n",
       "20. 'SLTM'\n",
       "21. 'TSC22D4'\n",
       "22. 'UBE2L3'\n",
       "23. 'YEATS4'\n",
       "24. 'ZBED6'\n",
       "25. 'ZNF330'\n",
       "26. 'ZNF669'\n",
       "\n",
       "\n"
      ],
      "text/plain": [
       " [1] \"ADNP\"    \"BRD2\"    \"CHD2\"    \"CNOT2\"   \"GPBP1L1\" \"HIC2\"    \"KMT2B\"  \n",
       " [8] \"MNT\"     \"NTC22\"   \"NTC28\"   \"NTC36\"   \"NTC74\"   \"NTC82\"   \"NTC98\"  \n",
       "[15] \"PHF6\"    \"PIAS1\"   \"PLAGL2\"  \"PQBP1\"   \"SIN3A\"   \"SLTM\"    \"TSC22D4\"\n",
       "[22] \"UBE2L3\"  \"YEATS4\"  \"ZBED6\"   \"ZNF330\"  \"ZNF669\" "
      ]
     },
     "metadata": {},
     "output_type": "display_data"
    },
    {
     "data": {
      "text/html": [
       "<style>\n",
       ".list-inline {list-style: none; margin:0; padding: 0}\n",
       ".list-inline>li {display: inline-block}\n",
       ".list-inline>li:not(:last-child)::after {content: \"\\00b7\"; padding: 0 .5ex}\n",
       "</style>\n",
       "<ol class=list-inline><li>'ADNP_1'</li><li>'ADNP_2'</li><li>'BRD2_1'</li><li>'BRD2_2'</li><li>'CHD2_1'</li><li>'CHD2_2'</li><li>'CNOT2_1'</li><li>'CNOT2_2'</li><li>'GPBP1L1_1'</li><li>'GPBP1L1_2'</li><li>'HIC2_1'</li><li>'HIC2_2'</li><li>'KMT2B_1'</li><li>'KMT2B_2'</li><li>'MNT_1'</li><li>'MNT_2'</li><li>'NTC22_1'</li><li>'NTC22_2'</li><li>'NTC28_1'</li><li>'NTC28_2'</li><li>'NTC36_1'</li><li>'NTC36_2'</li><li>'NTC74_1'</li><li>'NTC74_2'</li><li>'NTC82_1'</li><li>'NTC82_2'</li><li>'NTC98_1'</li><li>'NTC98_2'</li><li>'PHF6_1'</li><li>'PHF6_2'</li><li>'PIAS1_1'</li><li>'PIAS1_2'</li><li>'PLAGL2_1'</li><li>'PLAGL2_2'</li><li>'PQBP1_1'</li><li>'PQBP1_2'</li><li>'SIN3A_1'</li><li>'SIN3A_2'</li><li>'SLTM_1'</li><li>'SLTM_2'</li><li>'TSC22D4_1'</li><li>'TSC22D4_2'</li><li>'UBE2L3_1'</li><li>'UBE2L3_2'</li><li>'YEATS4_1'</li><li>'YEATS4_2'</li><li>'ZBED6_1'</li><li>'ZBED6_2'</li><li>'ZNF330_1'</li><li>'ZNF330_2'</li><li>'ZNF669_1'</li><li>'ZNF669_2'</li></ol>\n"
      ],
      "text/latex": [
       "\\begin{enumerate*}\n",
       "\\item 'ADNP\\_1'\n",
       "\\item 'ADNP\\_2'\n",
       "\\item 'BRD2\\_1'\n",
       "\\item 'BRD2\\_2'\n",
       "\\item 'CHD2\\_1'\n",
       "\\item 'CHD2\\_2'\n",
       "\\item 'CNOT2\\_1'\n",
       "\\item 'CNOT2\\_2'\n",
       "\\item 'GPBP1L1\\_1'\n",
       "\\item 'GPBP1L1\\_2'\n",
       "\\item 'HIC2\\_1'\n",
       "\\item 'HIC2\\_2'\n",
       "\\item 'KMT2B\\_1'\n",
       "\\item 'KMT2B\\_2'\n",
       "\\item 'MNT\\_1'\n",
       "\\item 'MNT\\_2'\n",
       "\\item 'NTC22\\_1'\n",
       "\\item 'NTC22\\_2'\n",
       "\\item 'NTC28\\_1'\n",
       "\\item 'NTC28\\_2'\n",
       "\\item 'NTC36\\_1'\n",
       "\\item 'NTC36\\_2'\n",
       "\\item 'NTC74\\_1'\n",
       "\\item 'NTC74\\_2'\n",
       "\\item 'NTC82\\_1'\n",
       "\\item 'NTC82\\_2'\n",
       "\\item 'NTC98\\_1'\n",
       "\\item 'NTC98\\_2'\n",
       "\\item 'PHF6\\_1'\n",
       "\\item 'PHF6\\_2'\n",
       "\\item 'PIAS1\\_1'\n",
       "\\item 'PIAS1\\_2'\n",
       "\\item 'PLAGL2\\_1'\n",
       "\\item 'PLAGL2\\_2'\n",
       "\\item 'PQBP1\\_1'\n",
       "\\item 'PQBP1\\_2'\n",
       "\\item 'SIN3A\\_1'\n",
       "\\item 'SIN3A\\_2'\n",
       "\\item 'SLTM\\_1'\n",
       "\\item 'SLTM\\_2'\n",
       "\\item 'TSC22D4\\_1'\n",
       "\\item 'TSC22D4\\_2'\n",
       "\\item 'UBE2L3\\_1'\n",
       "\\item 'UBE2L3\\_2'\n",
       "\\item 'YEATS4\\_1'\n",
       "\\item 'YEATS4\\_2'\n",
       "\\item 'ZBED6\\_1'\n",
       "\\item 'ZBED6\\_2'\n",
       "\\item 'ZNF330\\_1'\n",
       "\\item 'ZNF330\\_2'\n",
       "\\item 'ZNF669\\_1'\n",
       "\\item 'ZNF669\\_2'\n",
       "\\end{enumerate*}\n"
      ],
      "text/markdown": [
       "1. 'ADNP_1'\n",
       "2. 'ADNP_2'\n",
       "3. 'BRD2_1'\n",
       "4. 'BRD2_2'\n",
       "5. 'CHD2_1'\n",
       "6. 'CHD2_2'\n",
       "7. 'CNOT2_1'\n",
       "8. 'CNOT2_2'\n",
       "9. 'GPBP1L1_1'\n",
       "10. 'GPBP1L1_2'\n",
       "11. 'HIC2_1'\n",
       "12. 'HIC2_2'\n",
       "13. 'KMT2B_1'\n",
       "14. 'KMT2B_2'\n",
       "15. 'MNT_1'\n",
       "16. 'MNT_2'\n",
       "17. 'NTC22_1'\n",
       "18. 'NTC22_2'\n",
       "19. 'NTC28_1'\n",
       "20. 'NTC28_2'\n",
       "21. 'NTC36_1'\n",
       "22. 'NTC36_2'\n",
       "23. 'NTC74_1'\n",
       "24. 'NTC74_2'\n",
       "25. 'NTC82_1'\n",
       "26. 'NTC82_2'\n",
       "27. 'NTC98_1'\n",
       "28. 'NTC98_2'\n",
       "29. 'PHF6_1'\n",
       "30. 'PHF6_2'\n",
       "31. 'PIAS1_1'\n",
       "32. 'PIAS1_2'\n",
       "33. 'PLAGL2_1'\n",
       "34. 'PLAGL2_2'\n",
       "35. 'PQBP1_1'\n",
       "36. 'PQBP1_2'\n",
       "37. 'SIN3A_1'\n",
       "38. 'SIN3A_2'\n",
       "39. 'SLTM_1'\n",
       "40. 'SLTM_2'\n",
       "41. 'TSC22D4_1'\n",
       "42. 'TSC22D4_2'\n",
       "43. 'UBE2L3_1'\n",
       "44. 'UBE2L3_2'\n",
       "45. 'YEATS4_1'\n",
       "46. 'YEATS4_2'\n",
       "47. 'ZBED6_1'\n",
       "48. 'ZBED6_2'\n",
       "49. 'ZNF330_1'\n",
       "50. 'ZNF330_2'\n",
       "51. 'ZNF669_1'\n",
       "52. 'ZNF669_2'\n",
       "\n",
       "\n"
      ],
      "text/plain": [
       " [1] \"ADNP_1\"    \"ADNP_2\"    \"BRD2_1\"    \"BRD2_2\"    \"CHD2_1\"    \"CHD2_2\"   \n",
       " [7] \"CNOT2_1\"   \"CNOT2_2\"   \"GPBP1L1_1\" \"GPBP1L1_2\" \"HIC2_1\"    \"HIC2_2\"   \n",
       "[13] \"KMT2B_1\"   \"KMT2B_2\"   \"MNT_1\"     \"MNT_2\"     \"NTC22_1\"   \"NTC22_2\"  \n",
       "[19] \"NTC28_1\"   \"NTC28_2\"   \"NTC36_1\"   \"NTC36_2\"   \"NTC74_1\"   \"NTC74_2\"  \n",
       "[25] \"NTC82_1\"   \"NTC82_2\"   \"NTC98_1\"   \"NTC98_2\"   \"PHF6_1\"    \"PHF6_2\"   \n",
       "[31] \"PIAS1_1\"   \"PIAS1_2\"   \"PLAGL2_1\"  \"PLAGL2_2\"  \"PQBP1_1\"   \"PQBP1_2\"  \n",
       "[37] \"SIN3A_1\"   \"SIN3A_2\"   \"SLTM_1\"    \"SLTM_2\"    \"TSC22D4_1\" \"TSC22D4_2\"\n",
       "[43] \"UBE2L3_1\"  \"UBE2L3_2\"  \"YEATS4_1\"  \"YEATS4_2\"  \"ZBED6_1\"   \"ZBED6_2\"  \n",
       "[49] \"ZNF330_1\"  \"ZNF330_2\"  \"ZNF669_1\"  \"ZNF669_2\" "
      ]
     },
     "metadata": {},
     "output_type": "display_data"
    }
   ],
   "source": [
    "tfs_w_ntctl    = unique(df_protosp$X.TargetGene)\n",
    "unselect_ntctl = (tfs_w_ntctl != \"NTCTL\") & (tfs_w_ntctl != \"NTCTRL\")\n",
    "tfs_to_plot    = tfs_w_ntctl[unselect_ntctl]\n",
    "\n",
    "guides_to_plot  = df_protosp$GuideName\n",
    "tfs_to_plot\n",
    "guides_to_plot"
   ]
  },
  {
   "cell_type": "code",
   "execution_count": 8,
   "id": "2734a57f",
   "metadata": {
    "execution": {
     "iopub.execute_input": "2023-08-17T17:20:54.615710Z",
     "iopub.status.busy": "2023-08-17T17:20:54.613717Z",
     "iopub.status.idle": "2023-08-17T17:20:54.671662Z",
     "shell.execute_reply": "2023-08-17T17:20:54.670466Z"
    },
    "papermill": {
     "duration": 0.070066,
     "end_time": "2023-08-17T17:20:54.673021",
     "exception": false,
     "start_time": "2023-08-17T17:20:54.602955",
     "status": "completed"
    },
    "tags": []
   },
   "outputs": [
    {
     "data": {
      "text/html": [
       "<table class=\"dataframe\">\n",
       "<caption>A data.frame: 52 \u00d7 3</caption>\n",
       "<thead>\n",
       "\t<tr><th scope=col>X.TargetGene</th><th scope=col>GuideName</th><th scope=col>value</th></tr>\n",
       "\t<tr><th scope=col>&lt;chr&gt;</th><th scope=col>&lt;chr&gt;</th><th scope=col>&lt;chr&gt;</th></tr>\n",
       "</thead>\n",
       "<tbody>\n",
       "\t<tr><td>ADNP   </td><td>ADNP_1   </td><td>CACCCTCTCCGCCGAAGTG </td></tr>\n",
       "\t<tr><td>ADNP   </td><td>ADNP_2   </td><td>CAGCAGCGGGGACCGAGAG </td></tr>\n",
       "\t<tr><td>BRD2   </td><td>BRD2_1   </td><td>GCAGCTGAGGCGGGCAACTA</td></tr>\n",
       "\t<tr><td>BRD2   </td><td>BRD2_2   </td><td>GTGAGGCGGGCAACTAAGGA</td></tr>\n",
       "\t<tr><td>CHD2   </td><td>CHD2_1   </td><td>GCAGAGCGCGCTCTCTCTA </td></tr>\n",
       "\t<tr><td>CHD2   </td><td>CHD2_2   </td><td>ACGACCTGGGCTCTCAGTA </td></tr>\n",
       "\t<tr><td>CNOT2  </td><td>CNOT2_1  </td><td>AGCGGCGGTAAGGGCGGTA </td></tr>\n",
       "\t<tr><td>CNOT2  </td><td>CNOT2_2  </td><td>CGGGACAAGAAAATTCATG </td></tr>\n",
       "\t<tr><td>GPBP1L1</td><td>GPBP1L1_1</td><td>GGCCCACAAGGTCCAGGAG </td></tr>\n",
       "\t<tr><td>GPBP1L1</td><td>GPBP1L1_2</td><td>CAGCTTGTCGACCCGGCAG </td></tr>\n",
       "\t<tr><td>HIC2   </td><td>HIC2_1   </td><td>TCGGCCCGCGACTCCTGTT </td></tr>\n",
       "\t<tr><td>HIC2   </td><td>HIC2_2   </td><td>CGGCTGTGAGCGGCGCTCG </td></tr>\n",
       "\t<tr><td>KMT2B  </td><td>KMT2B_1  </td><td>AGCAGGGCCGTGTCCTCCC </td></tr>\n",
       "\t<tr><td>KMT2B  </td><td>KMT2B_2  </td><td>AGCCCCAGCAAACGGAGCA </td></tr>\n",
       "\t<tr><td>MNT    </td><td>MNT_1    </td><td>GCGGGGGCGTACTACACCG </td></tr>\n",
       "\t<tr><td>MNT    </td><td>MNT_2    </td><td>GAGTCCCGCCGACAAGAAA </td></tr>\n",
       "\t<tr><td>NTC22  </td><td>NTC22_1  </td><td>GCTACGCCCGGGGGAAAAGA</td></tr>\n",
       "\t<tr><td>NTC22  </td><td>NTC22_2  </td><td>GCAGGAGCTAAGGGTCCCGT</td></tr>\n",
       "\t<tr><td>NTC28  </td><td>NTC28_1  </td><td>GGTGGCCTTTGCAATTGGCG</td></tr>\n",
       "\t<tr><td>NTC28  </td><td>NTC28_2  </td><td>GCGCTAGGAAACCAACAAGG</td></tr>\n",
       "\t<tr><td>NTC36  </td><td>NTC36_1  </td><td>GCAGCGAGCAGCTTTTACGA</td></tr>\n",
       "\t<tr><td>NTC36  </td><td>NTC36_2  </td><td>GACGTGTGTTACGGGGGGAA</td></tr>\n",
       "\t<tr><td>NTC74  </td><td>NTC74_1  </td><td>GGGTGGGTCACGCGGAAGGG</td></tr>\n",
       "\t<tr><td>NTC74  </td><td>NTC74_2  </td><td>GGATCGCTTCAATCACCGAG</td></tr>\n",
       "\t<tr><td>NTC82  </td><td>NTC82_1  </td><td>GACGTTGAGGGACTGTCCTA</td></tr>\n",
       "\t<tr><td>NTC82  </td><td>NTC82_2  </td><td>GATCCTGACGGGGACTACAT</td></tr>\n",
       "\t<tr><td>NTC98  </td><td>NTC98_1  </td><td>GGTCGATGTGGGGACGGCAC</td></tr>\n",
       "\t<tr><td>NTC98  </td><td>NTC98_2  </td><td>GTGCGCAAACCGGATCGGGG</td></tr>\n",
       "\t<tr><td>PHF6   </td><td>PHF6_1   </td><td>AATGAAAGGAAACAACCTC </td></tr>\n",
       "\t<tr><td>PHF6   </td><td>PHF6_2   </td><td>AGCGGGGCTCTGTCGCCGG </td></tr>\n",
       "\t<tr><td>PIAS1  </td><td>PIAS1_1  </td><td>GCGGACAGTGCGGAACTAA </td></tr>\n",
       "\t<tr><td>PIAS1  </td><td>PIAS1_2  </td><td>GCTACTGGGATCCACGGAG </td></tr>\n",
       "\t<tr><td>PLAGL2 </td><td>PLAGL2_1 </td><td>GGTGTGGGCGACCGCGCTGA</td></tr>\n",
       "\t<tr><td>PLAGL2 </td><td>PLAGL2_2 </td><td>GCCCCCTCAGGCCCCGGTAG</td></tr>\n",
       "\t<tr><td>PQBP1  </td><td>PQBP1_1  </td><td>TGAAGGCCTCGTTGAGAGA </td></tr>\n",
       "\t<tr><td>PQBP1  </td><td>PQBP1_2  </td><td>GTATTGGTAACGTTGGGGT </td></tr>\n",
       "\t<tr><td>SIN3A  </td><td>SIN3A_1  </td><td>AGGCCCCGAGAACGGCGCG </td></tr>\n",
       "\t<tr><td>SIN3A  </td><td>SIN3A_2  </td><td>TTCCCGGGTAACAGAGAAG </td></tr>\n",
       "\t<tr><td>SLTM   </td><td>SLTM_1   </td><td>GCCGAGGCTGCCACCGCAC </td></tr>\n",
       "\t<tr><td>SLTM   </td><td>SLTM_2   </td><td>GAAGAGCAGCGCGCTGCCG </td></tr>\n",
       "\t<tr><td>TSC22D4</td><td>TSC22D4_1</td><td>GAGCCGAGGAGCGGAGACA </td></tr>\n",
       "\t<tr><td>TSC22D4</td><td>TSC22D4_2</td><td>TCCGCTCCTCGGCTCCCCT </td></tr>\n",
       "\t<tr><td>UBE2L3 </td><td>UBE2L3_1 </td><td>GCCGGCCGCGATGCATTCTG</td></tr>\n",
       "\t<tr><td>UBE2L3 </td><td>UBE2L3_2 </td><td>GCCTAGGCTCCGGATCCCCG</td></tr>\n",
       "\t<tr><td>YEATS4 </td><td>YEATS4_1 </td><td>GAAGGAGGGCGAGTTACTT </td></tr>\n",
       "\t<tr><td>YEATS4 </td><td>YEATS4_2 </td><td>GAGAGCCACCCCGGAAGAG </td></tr>\n",
       "\t<tr><td>ZBED6  </td><td>ZBED6_1  </td><td>TAGCGAACACCGGATGTGG </td></tr>\n",
       "\t<tr><td>ZBED6  </td><td>ZBED6_2  </td><td>CCGGTGTTCGCTAATCTCG </td></tr>\n",
       "\t<tr><td>ZNF330 </td><td>ZNF330_1 </td><td>ACCAGGACTCCGGGAAAGA </td></tr>\n",
       "\t<tr><td>ZNF330 </td><td>ZNF330_2 </td><td>AAGAAGGTACTAACAGCCA </td></tr>\n",
       "\t<tr><td>ZNF669 </td><td>ZNF669_1 </td><td>CTCCCGCGGACCCGACCCG </td></tr>\n",
       "\t<tr><td>ZNF669 </td><td>ZNF669_2 </td><td>GGACCAGCCGCGGCCACAG </td></tr>\n",
       "</tbody>\n",
       "</table>\n"
      ],
      "text/latex": [
       "A data.frame: 52 \u00d7 3\n",
       "\\begin{tabular}{lll}\n",
       " X.TargetGene & GuideName & value\\\\\n",
       " <chr> & <chr> & <chr>\\\\\n",
       "\\hline\n",
       "\t ADNP    & ADNP\\_1    & CACCCTCTCCGCCGAAGTG \\\\\n",
       "\t ADNP    & ADNP\\_2    & CAGCAGCGGGGACCGAGAG \\\\\n",
       "\t BRD2    & BRD2\\_1    & GCAGCTGAGGCGGGCAACTA\\\\\n",
       "\t BRD2    & BRD2\\_2    & GTGAGGCGGGCAACTAAGGA\\\\\n",
       "\t CHD2    & CHD2\\_1    & GCAGAGCGCGCTCTCTCTA \\\\\n",
       "\t CHD2    & CHD2\\_2    & ACGACCTGGGCTCTCAGTA \\\\\n",
       "\t CNOT2   & CNOT2\\_1   & AGCGGCGGTAAGGGCGGTA \\\\\n",
       "\t CNOT2   & CNOT2\\_2   & CGGGACAAGAAAATTCATG \\\\\n",
       "\t GPBP1L1 & GPBP1L1\\_1 & GGCCCACAAGGTCCAGGAG \\\\\n",
       "\t GPBP1L1 & GPBP1L1\\_2 & CAGCTTGTCGACCCGGCAG \\\\\n",
       "\t HIC2    & HIC2\\_1    & TCGGCCCGCGACTCCTGTT \\\\\n",
       "\t HIC2    & HIC2\\_2    & CGGCTGTGAGCGGCGCTCG \\\\\n",
       "\t KMT2B   & KMT2B\\_1   & AGCAGGGCCGTGTCCTCCC \\\\\n",
       "\t KMT2B   & KMT2B\\_2   & AGCCCCAGCAAACGGAGCA \\\\\n",
       "\t MNT     & MNT\\_1     & GCGGGGGCGTACTACACCG \\\\\n",
       "\t MNT     & MNT\\_2     & GAGTCCCGCCGACAAGAAA \\\\\n",
       "\t NTC22   & NTC22\\_1   & GCTACGCCCGGGGGAAAAGA\\\\\n",
       "\t NTC22   & NTC22\\_2   & GCAGGAGCTAAGGGTCCCGT\\\\\n",
       "\t NTC28   & NTC28\\_1   & GGTGGCCTTTGCAATTGGCG\\\\\n",
       "\t NTC28   & NTC28\\_2   & GCGCTAGGAAACCAACAAGG\\\\\n",
       "\t NTC36   & NTC36\\_1   & GCAGCGAGCAGCTTTTACGA\\\\\n",
       "\t NTC36   & NTC36\\_2   & GACGTGTGTTACGGGGGGAA\\\\\n",
       "\t NTC74   & NTC74\\_1   & GGGTGGGTCACGCGGAAGGG\\\\\n",
       "\t NTC74   & NTC74\\_2   & GGATCGCTTCAATCACCGAG\\\\\n",
       "\t NTC82   & NTC82\\_1   & GACGTTGAGGGACTGTCCTA\\\\\n",
       "\t NTC82   & NTC82\\_2   & GATCCTGACGGGGACTACAT\\\\\n",
       "\t NTC98   & NTC98\\_1   & GGTCGATGTGGGGACGGCAC\\\\\n",
       "\t NTC98   & NTC98\\_2   & GTGCGCAAACCGGATCGGGG\\\\\n",
       "\t PHF6    & PHF6\\_1    & AATGAAAGGAAACAACCTC \\\\\n",
       "\t PHF6    & PHF6\\_2    & AGCGGGGCTCTGTCGCCGG \\\\\n",
       "\t PIAS1   & PIAS1\\_1   & GCGGACAGTGCGGAACTAA \\\\\n",
       "\t PIAS1   & PIAS1\\_2   & GCTACTGGGATCCACGGAG \\\\\n",
       "\t PLAGL2  & PLAGL2\\_1  & GGTGTGGGCGACCGCGCTGA\\\\\n",
       "\t PLAGL2  & PLAGL2\\_2  & GCCCCCTCAGGCCCCGGTAG\\\\\n",
       "\t PQBP1   & PQBP1\\_1   & TGAAGGCCTCGTTGAGAGA \\\\\n",
       "\t PQBP1   & PQBP1\\_2   & GTATTGGTAACGTTGGGGT \\\\\n",
       "\t SIN3A   & SIN3A\\_1   & AGGCCCCGAGAACGGCGCG \\\\\n",
       "\t SIN3A   & SIN3A\\_2   & TTCCCGGGTAACAGAGAAG \\\\\n",
       "\t SLTM    & SLTM\\_1    & GCCGAGGCTGCCACCGCAC \\\\\n",
       "\t SLTM    & SLTM\\_2    & GAAGAGCAGCGCGCTGCCG \\\\\n",
       "\t TSC22D4 & TSC22D4\\_1 & GAGCCGAGGAGCGGAGACA \\\\\n",
       "\t TSC22D4 & TSC22D4\\_2 & TCCGCTCCTCGGCTCCCCT \\\\\n",
       "\t UBE2L3  & UBE2L3\\_1  & GCCGGCCGCGATGCATTCTG\\\\\n",
       "\t UBE2L3  & UBE2L3\\_2  & GCCTAGGCTCCGGATCCCCG\\\\\n",
       "\t YEATS4  & YEATS4\\_1  & GAAGGAGGGCGAGTTACTT \\\\\n",
       "\t YEATS4  & YEATS4\\_2  & GAGAGCCACCCCGGAAGAG \\\\\n",
       "\t ZBED6   & ZBED6\\_1   & TAGCGAACACCGGATGTGG \\\\\n",
       "\t ZBED6   & ZBED6\\_2   & CCGGTGTTCGCTAATCTCG \\\\\n",
       "\t ZNF330  & ZNF330\\_1  & ACCAGGACTCCGGGAAAGA \\\\\n",
       "\t ZNF330  & ZNF330\\_2  & AAGAAGGTACTAACAGCCA \\\\\n",
       "\t ZNF669  & ZNF669\\_1  & CTCCCGCGGACCCGACCCG \\\\\n",
       "\t ZNF669  & ZNF669\\_2  & GGACCAGCCGCGGCCACAG \\\\\n",
       "\\end{tabular}\n"
      ],
      "text/markdown": [
       "\n",
       "A data.frame: 52 \u00d7 3\n",
       "\n",
       "| X.TargetGene &lt;chr&gt; | GuideName &lt;chr&gt; | value &lt;chr&gt; |\n",
       "|---|---|---|\n",
       "| ADNP    | ADNP_1    | CACCCTCTCCGCCGAAGTG  |\n",
       "| ADNP    | ADNP_2    | CAGCAGCGGGGACCGAGAG  |\n",
       "| BRD2    | BRD2_1    | GCAGCTGAGGCGGGCAACTA |\n",
       "| BRD2    | BRD2_2    | GTGAGGCGGGCAACTAAGGA |\n",
       "| CHD2    | CHD2_1    | GCAGAGCGCGCTCTCTCTA  |\n",
       "| CHD2    | CHD2_2    | ACGACCTGGGCTCTCAGTA  |\n",
       "| CNOT2   | CNOT2_1   | AGCGGCGGTAAGGGCGGTA  |\n",
       "| CNOT2   | CNOT2_2   | CGGGACAAGAAAATTCATG  |\n",
       "| GPBP1L1 | GPBP1L1_1 | GGCCCACAAGGTCCAGGAG  |\n",
       "| GPBP1L1 | GPBP1L1_2 | CAGCTTGTCGACCCGGCAG  |\n",
       "| HIC2    | HIC2_1    | TCGGCCCGCGACTCCTGTT  |\n",
       "| HIC2    | HIC2_2    | CGGCTGTGAGCGGCGCTCG  |\n",
       "| KMT2B   | KMT2B_1   | AGCAGGGCCGTGTCCTCCC  |\n",
       "| KMT2B   | KMT2B_2   | AGCCCCAGCAAACGGAGCA  |\n",
       "| MNT     | MNT_1     | GCGGGGGCGTACTACACCG  |\n",
       "| MNT     | MNT_2     | GAGTCCCGCCGACAAGAAA  |\n",
       "| NTC22   | NTC22_1   | GCTACGCCCGGGGGAAAAGA |\n",
       "| NTC22   | NTC22_2   | GCAGGAGCTAAGGGTCCCGT |\n",
       "| NTC28   | NTC28_1   | GGTGGCCTTTGCAATTGGCG |\n",
       "| NTC28   | NTC28_2   | GCGCTAGGAAACCAACAAGG |\n",
       "| NTC36   | NTC36_1   | GCAGCGAGCAGCTTTTACGA |\n",
       "| NTC36   | NTC36_2   | GACGTGTGTTACGGGGGGAA |\n",
       "| NTC74   | NTC74_1   | GGGTGGGTCACGCGGAAGGG |\n",
       "| NTC74   | NTC74_2   | GGATCGCTTCAATCACCGAG |\n",
       "| NTC82   | NTC82_1   | GACGTTGAGGGACTGTCCTA |\n",
       "| NTC82   | NTC82_2   | GATCCTGACGGGGACTACAT |\n",
       "| NTC98   | NTC98_1   | GGTCGATGTGGGGACGGCAC |\n",
       "| NTC98   | NTC98_2   | GTGCGCAAACCGGATCGGGG |\n",
       "| PHF6    | PHF6_1    | AATGAAAGGAAACAACCTC  |\n",
       "| PHF6    | PHF6_2    | AGCGGGGCTCTGTCGCCGG  |\n",
       "| PIAS1   | PIAS1_1   | GCGGACAGTGCGGAACTAA  |\n",
       "| PIAS1   | PIAS1_2   | GCTACTGGGATCCACGGAG  |\n",
       "| PLAGL2  | PLAGL2_1  | GGTGTGGGCGACCGCGCTGA |\n",
       "| PLAGL2  | PLAGL2_2  | GCCCCCTCAGGCCCCGGTAG |\n",
       "| PQBP1   | PQBP1_1   | TGAAGGCCTCGTTGAGAGA  |\n",
       "| PQBP1   | PQBP1_2   | GTATTGGTAACGTTGGGGT  |\n",
       "| SIN3A   | SIN3A_1   | AGGCCCCGAGAACGGCGCG  |\n",
       "| SIN3A   | SIN3A_2   | TTCCCGGGTAACAGAGAAG  |\n",
       "| SLTM    | SLTM_1    | GCCGAGGCTGCCACCGCAC  |\n",
       "| SLTM    | SLTM_2    | GAAGAGCAGCGCGCTGCCG  |\n",
       "| TSC22D4 | TSC22D4_1 | GAGCCGAGGAGCGGAGACA  |\n",
       "| TSC22D4 | TSC22D4_2 | TCCGCTCCTCGGCTCCCCT  |\n",
       "| UBE2L3  | UBE2L3_1  | GCCGGCCGCGATGCATTCTG |\n",
       "| UBE2L3  | UBE2L3_2  | GCCTAGGCTCCGGATCCCCG |\n",
       "| YEATS4  | YEATS4_1  | GAAGGAGGGCGAGTTACTT  |\n",
       "| YEATS4  | YEATS4_2  | GAGAGCCACCCCGGAAGAG  |\n",
       "| ZBED6   | ZBED6_1   | TAGCGAACACCGGATGTGG  |\n",
       "| ZBED6   | ZBED6_2   | CCGGTGTTCGCTAATCTCG  |\n",
       "| ZNF330  | ZNF330_1  | ACCAGGACTCCGGGAAAGA  |\n",
       "| ZNF330  | ZNF330_2  | AAGAAGGTACTAACAGCCA  |\n",
       "| ZNF669  | ZNF669_1  | CTCCCGCGGACCCGACCCG  |\n",
       "| ZNF669  | ZNF669_2  | GGACCAGCCGCGGCCACAG  |\n",
       "\n"
      ],
      "text/plain": [
       "   X.TargetGene GuideName value               \n",
       "1  ADNP         ADNP_1    CACCCTCTCCGCCGAAGTG \n",
       "2  ADNP         ADNP_2    CAGCAGCGGGGACCGAGAG \n",
       "3  BRD2         BRD2_1    GCAGCTGAGGCGGGCAACTA\n",
       "4  BRD2         BRD2_2    GTGAGGCGGGCAACTAAGGA\n",
       "5  CHD2         CHD2_1    GCAGAGCGCGCTCTCTCTA \n",
       "6  CHD2         CHD2_2    ACGACCTGGGCTCTCAGTA \n",
       "7  CNOT2        CNOT2_1   AGCGGCGGTAAGGGCGGTA \n",
       "8  CNOT2        CNOT2_2   CGGGACAAGAAAATTCATG \n",
       "9  GPBP1L1      GPBP1L1_1 GGCCCACAAGGTCCAGGAG \n",
       "10 GPBP1L1      GPBP1L1_2 CAGCTTGTCGACCCGGCAG \n",
       "11 HIC2         HIC2_1    TCGGCCCGCGACTCCTGTT \n",
       "12 HIC2         HIC2_2    CGGCTGTGAGCGGCGCTCG \n",
       "13 KMT2B        KMT2B_1   AGCAGGGCCGTGTCCTCCC \n",
       "14 KMT2B        KMT2B_2   AGCCCCAGCAAACGGAGCA \n",
       "15 MNT          MNT_1     GCGGGGGCGTACTACACCG \n",
       "16 MNT          MNT_2     GAGTCCCGCCGACAAGAAA \n",
       "17 NTC22        NTC22_1   GCTACGCCCGGGGGAAAAGA\n",
       "18 NTC22        NTC22_2   GCAGGAGCTAAGGGTCCCGT\n",
       "19 NTC28        NTC28_1   GGTGGCCTTTGCAATTGGCG\n",
       "20 NTC28        NTC28_2   GCGCTAGGAAACCAACAAGG\n",
       "21 NTC36        NTC36_1   GCAGCGAGCAGCTTTTACGA\n",
       "22 NTC36        NTC36_2   GACGTGTGTTACGGGGGGAA\n",
       "23 NTC74        NTC74_1   GGGTGGGTCACGCGGAAGGG\n",
       "24 NTC74        NTC74_2   GGATCGCTTCAATCACCGAG\n",
       "25 NTC82        NTC82_1   GACGTTGAGGGACTGTCCTA\n",
       "26 NTC82        NTC82_2   GATCCTGACGGGGACTACAT\n",
       "27 NTC98        NTC98_1   GGTCGATGTGGGGACGGCAC\n",
       "28 NTC98        NTC98_2   GTGCGCAAACCGGATCGGGG\n",
       "29 PHF6         PHF6_1    AATGAAAGGAAACAACCTC \n",
       "30 PHF6         PHF6_2    AGCGGGGCTCTGTCGCCGG \n",
       "31 PIAS1        PIAS1_1   GCGGACAGTGCGGAACTAA \n",
       "32 PIAS1        PIAS1_2   GCTACTGGGATCCACGGAG \n",
       "33 PLAGL2       PLAGL2_1  GGTGTGGGCGACCGCGCTGA\n",
       "34 PLAGL2       PLAGL2_2  GCCCCCTCAGGCCCCGGTAG\n",
       "35 PQBP1        PQBP1_1   TGAAGGCCTCGTTGAGAGA \n",
       "36 PQBP1        PQBP1_2   GTATTGGTAACGTTGGGGT \n",
       "37 SIN3A        SIN3A_1   AGGCCCCGAGAACGGCGCG \n",
       "38 SIN3A        SIN3A_2   TTCCCGGGTAACAGAGAAG \n",
       "39 SLTM         SLTM_1    GCCGAGGCTGCCACCGCAC \n",
       "40 SLTM         SLTM_2    GAAGAGCAGCGCGCTGCCG \n",
       "41 TSC22D4      TSC22D4_1 GAGCCGAGGAGCGGAGACA \n",
       "42 TSC22D4      TSC22D4_2 TCCGCTCCTCGGCTCCCCT \n",
       "43 UBE2L3       UBE2L3_1  GCCGGCCGCGATGCATTCTG\n",
       "44 UBE2L3       UBE2L3_2  GCCTAGGCTCCGGATCCCCG\n",
       "45 YEATS4       YEATS4_1  GAAGGAGGGCGAGTTACTT \n",
       "46 YEATS4       YEATS4_2  GAGAGCCACCCCGGAAGAG \n",
       "47 ZBED6        ZBED6_1   TAGCGAACACCGGATGTGG \n",
       "48 ZBED6        ZBED6_2   CCGGTGTTCGCTAATCTCG \n",
       "49 ZNF330       ZNF330_1  ACCAGGACTCCGGGAAAGA \n",
       "50 ZNF330       ZNF330_2  AAGAAGGTACTAACAGCCA \n",
       "51 ZNF669       ZNF669_1  CTCCCGCGGACCCGACCCG \n",
       "52 ZNF669       ZNF669_2  GGACCAGCCGCGGCCACAG "
      ]
     },
     "metadata": {},
     "output_type": "display_data"
    }
   ],
   "source": [
    "df_protosp"
   ]
  },
  {
   "cell_type": "code",
   "execution_count": 9,
   "id": "da211d94",
   "metadata": {
    "execution": {
     "iopub.execute_input": "2023-08-17T17:20:54.694335Z",
     "iopub.status.busy": "2023-08-17T17:20:54.693355Z",
     "iopub.status.idle": "2023-08-17T17:21:00.996042Z",
     "shell.execute_reply": "2023-08-17T17:21:00.994846Z"
    },
    "papermill": {
     "duration": 6.314431,
     "end_time": "2023-08-17T17:21:00.997344",
     "exception": false,
     "start_time": "2023-08-17T17:20:54.682913",
     "status": "completed"
    },
    "tags": []
   },
   "outputs": [
    {
     "data": {
      "text/html": [
       "<table class=\"dataframe\">\n",
       "<caption>A matrix: 52 \u00d7 205348 of type int</caption>\n",
       "<thead>\n",
       "\t<tr><th></th><th scope=col>AAACAGCCAAACAACA-1</th><th scope=col>AAACAGCCAAAGCGGC-1</th><th scope=col>AAACAGCCAAATATCC-1</th><th scope=col>AAACAGCCAACATAAG-1</th><th scope=col>AAACAGCCAACCTGGT-1</th><th scope=col>AAACAGCCAACTAGAA-1</th><th scope=col>AAACAGCCAACTAGGG-1</th><th scope=col>AAACAGCCAAGACTCC-1</th><th scope=col>AAACAGCCAAGCCACT-1</th><th scope=col>AAACAGCCAAGCGAGC-1</th><th scope=col>\u22ef</th><th scope=col>TTTGTTGGTTTAAAGC-1</th><th scope=col>TTTGTTGGTTTAGCGA-1</th><th scope=col>TTTGTTGGTTTAGTCC-1</th><th scope=col>TTTGTTGGTTTATCTG-1</th><th scope=col>TTTGTTGGTTTCAGGA-1</th><th scope=col>TTTGTTGGTTTGACCT-1</th><th scope=col>TTTGTTGGTTTGGCGG-1</th><th scope=col>TTTGTTGGTTTGGGCG-1</th><th scope=col>TTTGTTGGTTTGGGTA-1</th><th scope=col>TTTGTTGGTTTGTTGC-1</th></tr>\n",
       "</thead>\n",
       "<tbody>\n",
       "\t<tr><th scope=row>ADNP_1</th><td>0</td><td>0</td><td>0</td><td>   0</td><td>0</td><td>0</td><td>0</td><td> 0</td><td>0</td><td>   0</td><td>\u22ef</td><td>0</td><td>  0</td><td>  0</td><td>  0</td><td>0</td><td>0</td><td>0</td><td>  0</td><td>  0</td><td> 0</td></tr>\n",
       "\t<tr><th scope=row>ADNP_2</th><td>0</td><td>0</td><td>0</td><td>   0</td><td>0</td><td>0</td><td>0</td><td> 0</td><td>0</td><td>   0</td><td>\u22ef</td><td>0</td><td>  0</td><td>  0</td><td>  0</td><td>0</td><td>0</td><td>0</td><td>  0</td><td>  0</td><td> 0</td></tr>\n",
       "\t<tr><th scope=row>BRD2_1</th><td>0</td><td>0</td><td>0</td><td>   0</td><td>0</td><td>0</td><td>0</td><td> 0</td><td>0</td><td>   0</td><td>\u22ef</td><td>0</td><td>  0</td><td>  0</td><td>  0</td><td>0</td><td>0</td><td>0</td><td>  0</td><td>  0</td><td> 0</td></tr>\n",
       "\t<tr><th scope=row>BRD2_2</th><td>0</td><td>0</td><td>0</td><td>   0</td><td>0</td><td>0</td><td>0</td><td> 0</td><td>0</td><td>   0</td><td>\u22ef</td><td>0</td><td> 75</td><td>  0</td><td>  0</td><td>0</td><td>0</td><td>0</td><td>  0</td><td>  0</td><td> 0</td></tr>\n",
       "\t<tr><th scope=row>CHD2_1</th><td>1</td><td>0</td><td>0</td><td>   1</td><td>0</td><td>0</td><td>0</td><td> 0</td><td>0</td><td>   0</td><td>\u22ef</td><td>0</td><td>  0</td><td>  0</td><td>  0</td><td>0</td><td>0</td><td>0</td><td>122</td><td> 46</td><td> 0</td></tr>\n",
       "\t<tr><th scope=row>CHD2_2</th><td>0</td><td>0</td><td>0</td><td>   0</td><td>0</td><td>0</td><td>0</td><td> 0</td><td>0</td><td>   0</td><td>\u22ef</td><td>0</td><td>  0</td><td>109</td><td>  0</td><td>0</td><td>0</td><td>0</td><td>  0</td><td>  0</td><td> 0</td></tr>\n",
       "\t<tr><th scope=row>CNOT2_1</th><td>0</td><td>0</td><td>0</td><td>   0</td><td>0</td><td>0</td><td>0</td><td> 0</td><td>0</td><td>   0</td><td>\u22ef</td><td>0</td><td>  0</td><td>  0</td><td>  0</td><td>0</td><td>0</td><td>0</td><td>  0</td><td>  0</td><td> 0</td></tr>\n",
       "\t<tr><th scope=row>CNOT2_2</th><td>0</td><td>0</td><td>0</td><td>   0</td><td>0</td><td>0</td><td>0</td><td>81</td><td>0</td><td>   0</td><td>\u22ef</td><td>0</td><td>  0</td><td>  0</td><td>107</td><td>0</td><td>0</td><td>0</td><td>  0</td><td>  0</td><td> 0</td></tr>\n",
       "\t<tr><th scope=row>GPBP1L1_1</th><td>0</td><td>0</td><td>0</td><td>   0</td><td>0</td><td>0</td><td>0</td><td> 0</td><td>1</td><td>1850</td><td>\u22ef</td><td>0</td><td> 32</td><td>  0</td><td>  1</td><td>0</td><td>1</td><td>0</td><td>  2</td><td>  0</td><td> 0</td></tr>\n",
       "\t<tr><th scope=row>GPBP1L1_2</th><td>0</td><td>0</td><td>0</td><td>   0</td><td>0</td><td>0</td><td>0</td><td> 0</td><td>0</td><td>   0</td><td>\u22ef</td><td>0</td><td>  0</td><td>  0</td><td>  0</td><td>0</td><td>0</td><td>0</td><td>  0</td><td>  0</td><td> 0</td></tr>\n",
       "\t<tr><th scope=row>HIC2_1</th><td>0</td><td>0</td><td>0</td><td>   0</td><td>0</td><td>0</td><td>0</td><td> 0</td><td>0</td><td>   0</td><td>\u22ef</td><td>1</td><td>  1</td><td> 18</td><td>  0</td><td>0</td><td>0</td><td>0</td><td>  0</td><td>  0</td><td>98</td></tr>\n",
       "\t<tr><th scope=row>HIC2_2</th><td>0</td><td>0</td><td>0</td><td>   0</td><td>0</td><td>0</td><td>0</td><td> 0</td><td>0</td><td>   0</td><td>\u22ef</td><td>0</td><td>  0</td><td>  0</td><td>  0</td><td>0</td><td>0</td><td>0</td><td> 51</td><td>  0</td><td> 0</td></tr>\n",
       "\t<tr><th scope=row>KMT2B_1</th><td>0</td><td>0</td><td>0</td><td>   0</td><td>0</td><td>0</td><td>0</td><td> 0</td><td>0</td><td>   0</td><td>\u22ef</td><td>0</td><td>  0</td><td>  0</td><td>  0</td><td>0</td><td>0</td><td>0</td><td>  0</td><td>  0</td><td> 0</td></tr>\n",
       "\t<tr><th scope=row>KMT2B_2</th><td>0</td><td>0</td><td>0</td><td>   0</td><td>0</td><td>0</td><td>0</td><td> 0</td><td>0</td><td>   0</td><td>\u22ef</td><td>0</td><td> 77</td><td>  0</td><td>  0</td><td>0</td><td>1</td><td>0</td><td>  0</td><td>  0</td><td> 0</td></tr>\n",
       "\t<tr><th scope=row>MNT_1</th><td>0</td><td>0</td><td>0</td><td>   0</td><td>0</td><td>0</td><td>0</td><td> 0</td><td>0</td><td>   0</td><td>\u22ef</td><td>0</td><td> 73</td><td>  0</td><td>  1</td><td>0</td><td>0</td><td>1</td><td>161</td><td>  0</td><td> 0</td></tr>\n",
       "\t<tr><th scope=row>MNT_2</th><td>0</td><td>0</td><td>0</td><td>   0</td><td>1</td><td>0</td><td>0</td><td> 0</td><td>0</td><td>   0</td><td>\u22ef</td><td>0</td><td>  0</td><td>  0</td><td>  0</td><td>0</td><td>0</td><td>0</td><td> 89</td><td> 23</td><td> 0</td></tr>\n",
       "\t<tr><th scope=row>NTC22_1</th><td>0</td><td>0</td><td>0</td><td>   0</td><td>0</td><td>0</td><td>0</td><td> 0</td><td>0</td><td>   0</td><td>\u22ef</td><td>0</td><td>  0</td><td>  0</td><td>  0</td><td>0</td><td>0</td><td>0</td><td>  0</td><td>  0</td><td> 0</td></tr>\n",
       "\t<tr><th scope=row>NTC22_2</th><td>0</td><td>0</td><td>0</td><td>   0</td><td>0</td><td>0</td><td>0</td><td> 0</td><td>0</td><td>   0</td><td>\u22ef</td><td>0</td><td>  0</td><td>  0</td><td>  0</td><td>0</td><td>0</td><td>0</td><td>  0</td><td>  0</td><td> 0</td></tr>\n",
       "\t<tr><th scope=row>NTC28_1</th><td>0</td><td>0</td><td>0</td><td>   0</td><td>0</td><td>0</td><td>0</td><td> 0</td><td>0</td><td>   0</td><td>\u22ef</td><td>1</td><td>  0</td><td>  0</td><td>  0</td><td>0</td><td>0</td><td>0</td><td>  0</td><td>  0</td><td> 0</td></tr>\n",
       "\t<tr><th scope=row>NTC28_2</th><td>0</td><td>0</td><td>0</td><td>   0</td><td>0</td><td>0</td><td>0</td><td> 0</td><td>0</td><td>   0</td><td>\u22ef</td><td>0</td><td>  0</td><td>  0</td><td>  0</td><td>0</td><td>0</td><td>0</td><td>  0</td><td>  0</td><td> 0</td></tr>\n",
       "\t<tr><th scope=row>NTC36_1</th><td>0</td><td>0</td><td>0</td><td>  96</td><td>0</td><td>0</td><td>0</td><td>82</td><td>1</td><td>  69</td><td>\u22ef</td><td>0</td><td>274</td><td>  0</td><td> 65</td><td>0</td><td>0</td><td>0</td><td>  0</td><td>  0</td><td> 0</td></tr>\n",
       "\t<tr><th scope=row>NTC36_2</th><td>0</td><td>0</td><td>0</td><td>   0</td><td>0</td><td>0</td><td>0</td><td> 0</td><td>0</td><td>  68</td><td>\u22ef</td><td>0</td><td>  0</td><td>  0</td><td>  0</td><td>0</td><td>0</td><td>0</td><td>  0</td><td>  0</td><td> 0</td></tr>\n",
       "\t<tr><th scope=row>NTC74_1</th><td>0</td><td>0</td><td>0</td><td>   0</td><td>2</td><td>0</td><td>0</td><td> 0</td><td>0</td><td>   0</td><td>\u22ef</td><td>0</td><td>112</td><td>  1</td><td>  0</td><td>0</td><td>0</td><td>0</td><td>  0</td><td>  0</td><td> 0</td></tr>\n",
       "\t<tr><th scope=row>NTC74_2</th><td>0</td><td>0</td><td>0</td><td> 214</td><td>1</td><td>0</td><td>1</td><td> 0</td><td>0</td><td>   1</td><td>\u22ef</td><td>0</td><td>154</td><td> 30</td><td> 94</td><td>0</td><td>0</td><td>0</td><td> 47</td><td>  0</td><td> 0</td></tr>\n",
       "\t<tr><th scope=row>NTC82_1</th><td>0</td><td>0</td><td>1</td><td> 800</td><td>0</td><td>0</td><td>0</td><td> 0</td><td>0</td><td>   0</td><td>\u22ef</td><td>0</td><td>  0</td><td>  0</td><td>  0</td><td>0</td><td>0</td><td>0</td><td>133</td><td>136</td><td> 0</td></tr>\n",
       "\t<tr><th scope=row>NTC82_2</th><td>0</td><td>0</td><td>0</td><td>   0</td><td>0</td><td>0</td><td>0</td><td> 0</td><td>0</td><td>   0</td><td>\u22ef</td><td>0</td><td>  0</td><td>  0</td><td>  0</td><td>0</td><td>0</td><td>0</td><td>  0</td><td>  0</td><td> 0</td></tr>\n",
       "\t<tr><th scope=row>NTC98_1</th><td>0</td><td>0</td><td>0</td><td>   0</td><td>0</td><td>0</td><td>0</td><td> 0</td><td>0</td><td>   0</td><td>\u22ef</td><td>0</td><td>  0</td><td>  0</td><td>  0</td><td>0</td><td>0</td><td>0</td><td>  0</td><td>  0</td><td> 0</td></tr>\n",
       "\t<tr><th scope=row>NTC98_2</th><td>0</td><td>0</td><td>0</td><td>   0</td><td>0</td><td>0</td><td>0</td><td> 0</td><td>0</td><td>   0</td><td>\u22ef</td><td>0</td><td>  0</td><td>  0</td><td>  0</td><td>0</td><td>0</td><td>0</td><td>  0</td><td>  0</td><td> 0</td></tr>\n",
       "\t<tr><th scope=row>PHF6_1</th><td>0</td><td>0</td><td>0</td><td>   0</td><td>0</td><td>0</td><td>0</td><td> 0</td><td>0</td><td>   0</td><td>\u22ef</td><td>0</td><td>  0</td><td>  0</td><td>  0</td><td>0</td><td>0</td><td>0</td><td>  0</td><td>  0</td><td> 0</td></tr>\n",
       "\t<tr><th scope=row>PHF6_2</th><td>0</td><td>0</td><td>0</td><td>   0</td><td>0</td><td>1</td><td>0</td><td> 0</td><td>0</td><td>   0</td><td>\u22ef</td><td>0</td><td>  0</td><td>  0</td><td>  0</td><td>0</td><td>0</td><td>0</td><td>  0</td><td>  0</td><td> 0</td></tr>\n",
       "\t<tr><th scope=row>PIAS1_1</th><td>0</td><td>0</td><td>0</td><td> 225</td><td>1</td><td>0</td><td>0</td><td> 0</td><td>0</td><td> 166</td><td>\u22ef</td><td>0</td><td>  0</td><td>107</td><td>  0</td><td>0</td><td>0</td><td>0</td><td>258</td><td>  0</td><td> 0</td></tr>\n",
       "\t<tr><th scope=row>PIAS1_2</th><td>0</td><td>0</td><td>0</td><td> 103</td><td>0</td><td>0</td><td>0</td><td> 0</td><td>0</td><td> 293</td><td>\u22ef</td><td>0</td><td>  0</td><td>  0</td><td>  0</td><td>0</td><td>0</td><td>0</td><td>  0</td><td>  0</td><td> 0</td></tr>\n",
       "\t<tr><th scope=row>PLAGL2_1</th><td>0</td><td>1</td><td>0</td><td>  28</td><td>0</td><td>0</td><td>0</td><td> 0</td><td>0</td><td>   0</td><td>\u22ef</td><td>0</td><td>  0</td><td>  0</td><td>  0</td><td>1</td><td>0</td><td>0</td><td>  0</td><td>  0</td><td> 0</td></tr>\n",
       "\t<tr><th scope=row>PLAGL2_2</th><td>0</td><td>0</td><td>0</td><td>   0</td><td>0</td><td>0</td><td>0</td><td> 0</td><td>0</td><td>   0</td><td>\u22ef</td><td>0</td><td>  0</td><td>  0</td><td>  0</td><td>0</td><td>0</td><td>0</td><td>  0</td><td>  0</td><td> 0</td></tr>\n",
       "\t<tr><th scope=row>PQBP1_1</th><td>0</td><td>0</td><td>0</td><td>   0</td><td>0</td><td>0</td><td>0</td><td> 0</td><td>0</td><td>   0</td><td>\u22ef</td><td>0</td><td>  0</td><td>  0</td><td>  0</td><td>0</td><td>0</td><td>0</td><td>110</td><td>  0</td><td> 0</td></tr>\n",
       "\t<tr><th scope=row>PQBP1_2</th><td>0</td><td>0</td><td>0</td><td>   0</td><td>0</td><td>0</td><td>0</td><td> 0</td><td>0</td><td>   0</td><td>\u22ef</td><td>0</td><td>  0</td><td>  0</td><td>  0</td><td>0</td><td>0</td><td>0</td><td>  0</td><td>  0</td><td> 0</td></tr>\n",
       "\t<tr><th scope=row>SIN3A_1</th><td>0</td><td>0</td><td>0</td><td> 902</td><td>0</td><td>0</td><td>1</td><td> 0</td><td>0</td><td>   0</td><td>\u22ef</td><td>0</td><td>  0</td><td>  0</td><td>  0</td><td>0</td><td>0</td><td>0</td><td>  0</td><td>  0</td><td> 0</td></tr>\n",
       "\t<tr><th scope=row>SIN3A_2</th><td>0</td><td>0</td><td>0</td><td>1628</td><td>0</td><td>0</td><td>0</td><td> 0</td><td>0</td><td>   0</td><td>\u22ef</td><td>0</td><td> 76</td><td>  0</td><td>  0</td><td>0</td><td>0</td><td>0</td><td>  0</td><td>  0</td><td> 0</td></tr>\n",
       "\t<tr><th scope=row>SLTM_1</th><td>0</td><td>0</td><td>0</td><td>  38</td><td>0</td><td>0</td><td>0</td><td> 0</td><td>1</td><td> 134</td><td>\u22ef</td><td>0</td><td>122</td><td>181</td><td>  0</td><td>0</td><td>0</td><td>0</td><td> 53</td><td>  0</td><td> 0</td></tr>\n",
       "\t<tr><th scope=row>SLTM_2</th><td>0</td><td>0</td><td>0</td><td>   0</td><td>0</td><td>0</td><td>0</td><td> 0</td><td>0</td><td>   0</td><td>\u22ef</td><td>0</td><td>  0</td><td>  0</td><td>  0</td><td>0</td><td>0</td><td>0</td><td>  0</td><td>  0</td><td> 0</td></tr>\n",
       "\t<tr><th scope=row>TSC22D4_1</th><td>0</td><td>0</td><td>0</td><td>   0</td><td>6</td><td>1</td><td>0</td><td>71</td><td>0</td><td>   0</td><td>\u22ef</td><td>0</td><td>  0</td><td>  0</td><td>121</td><td>0</td><td>0</td><td>0</td><td>  0</td><td>178</td><td> 0</td></tr>\n",
       "\t<tr><th scope=row>TSC22D4_2</th><td>0</td><td>0</td><td>0</td><td>   0</td><td>0</td><td>0</td><td>0</td><td> 0</td><td>0</td><td>   0</td><td>\u22ef</td><td>0</td><td>  0</td><td>  0</td><td>  0</td><td>0</td><td>0</td><td>0</td><td>  0</td><td>  0</td><td> 0</td></tr>\n",
       "\t<tr><th scope=row>UBE2L3_1</th><td>0</td><td>0</td><td>0</td><td>   0</td><td>0</td><td>0</td><td>0</td><td> 0</td><td>0</td><td>   0</td><td>\u22ef</td><td>0</td><td>  0</td><td>  0</td><td>  0</td><td>0</td><td>0</td><td>0</td><td>  0</td><td>  0</td><td> 0</td></tr>\n",
       "\t<tr><th scope=row>UBE2L3_2</th><td>0</td><td>0</td><td>0</td><td>   0</td><td>0</td><td>0</td><td>0</td><td> 0</td><td>0</td><td>   0</td><td>\u22ef</td><td>0</td><td>  0</td><td>  0</td><td>  0</td><td>0</td><td>0</td><td>0</td><td>  0</td><td>  0</td><td> 0</td></tr>\n",
       "\t<tr><th scope=row>YEATS4_1</th><td>0</td><td>0</td><td>0</td><td>   0</td><td>0</td><td>0</td><td>0</td><td> 0</td><td>0</td><td>   0</td><td>\u22ef</td><td>0</td><td>  0</td><td> 71</td><td>  0</td><td>0</td><td>0</td><td>0</td><td>  0</td><td>  0</td><td> 0</td></tr>\n",
       "\t<tr><th scope=row>YEATS4_2</th><td>0</td><td>0</td><td>0</td><td>   0</td><td>1</td><td>0</td><td>0</td><td> 0</td><td>0</td><td>   0</td><td>\u22ef</td><td>0</td><td>  0</td><td>  0</td><td>  0</td><td>0</td><td>0</td><td>0</td><td> 27</td><td>  0</td><td> 0</td></tr>\n",
       "\t<tr><th scope=row>ZBED6_1</th><td>0</td><td>0</td><td>0</td><td>   0</td><td>0</td><td>0</td><td>0</td><td> 0</td><td>0</td><td>   0</td><td>\u22ef</td><td>0</td><td> 90</td><td>  0</td><td>  0</td><td>0</td><td>0</td><td>0</td><td>  0</td><td>  0</td><td> 0</td></tr>\n",
       "\t<tr><th scope=row>ZBED6_2</th><td>0</td><td>0</td><td>0</td><td>   0</td><td>0</td><td>0</td><td>0</td><td> 0</td><td>0</td><td>   0</td><td>\u22ef</td><td>1</td><td>  0</td><td>  0</td><td>  0</td><td>0</td><td>0</td><td>0</td><td>  0</td><td>  0</td><td> 0</td></tr>\n",
       "\t<tr><th scope=row>ZNF330_1</th><td>0</td><td>0</td><td>0</td><td>   0</td><td>0</td><td>0</td><td>0</td><td> 0</td><td>0</td><td>   0</td><td>\u22ef</td><td>0</td><td>  0</td><td>  0</td><td>  0</td><td>0</td><td>0</td><td>0</td><td>  0</td><td>  0</td><td> 0</td></tr>\n",
       "\t<tr><th scope=row>ZNF330_2</th><td>0</td><td>0</td><td>0</td><td>   0</td><td>0</td><td>0</td><td>0</td><td> 0</td><td>0</td><td>   0</td><td>\u22ef</td><td>0</td><td>  0</td><td>  0</td><td>  0</td><td>0</td><td>0</td><td>0</td><td>  0</td><td>  0</td><td> 0</td></tr>\n",
       "\t<tr><th scope=row>ZNF669_1</th><td>0</td><td>0</td><td>0</td><td>   0</td><td>0</td><td>0</td><td>0</td><td> 0</td><td>0</td><td>   0</td><td>\u22ef</td><td>0</td><td>  0</td><td>  0</td><td>  0</td><td>0</td><td>0</td><td>0</td><td>174</td><td>  0</td><td> 0</td></tr>\n",
       "\t<tr><th scope=row>ZNF669_2</th><td>0</td><td>0</td><td>0</td><td>   0</td><td>2</td><td>0</td><td>0</td><td> 0</td><td>0</td><td>   0</td><td>\u22ef</td><td>0</td><td>  0</td><td>  0</td><td>  0</td><td>0</td><td>0</td><td>0</td><td>763</td><td>  0</td><td> 0</td></tr>\n",
       "</tbody>\n",
       "</table>\n"
      ],
      "text/latex": [
       "A matrix: 52 \u00d7 205348 of type int\n",
       "\\begin{tabular}{r|lllllllllllllllllllll}\n",
       "  & AAACAGCCAAACAACA-1 & AAACAGCCAAAGCGGC-1 & AAACAGCCAAATATCC-1 & AAACAGCCAACATAAG-1 & AAACAGCCAACCTGGT-1 & AAACAGCCAACTAGAA-1 & AAACAGCCAACTAGGG-1 & AAACAGCCAAGACTCC-1 & AAACAGCCAAGCCACT-1 & AAACAGCCAAGCGAGC-1 & \u22ef & TTTGTTGGTTTAAAGC-1 & TTTGTTGGTTTAGCGA-1 & TTTGTTGGTTTAGTCC-1 & TTTGTTGGTTTATCTG-1 & TTTGTTGGTTTCAGGA-1 & TTTGTTGGTTTGACCT-1 & TTTGTTGGTTTGGCGG-1 & TTTGTTGGTTTGGGCG-1 & TTTGTTGGTTTGGGTA-1 & TTTGTTGGTTTGTTGC-1\\\\\n",
       "\\hline\n",
       "\tADNP\\_1 & 0 & 0 & 0 &    0 & 0 & 0 & 0 &  0 & 0 &    0 & \u22ef & 0 &   0 &   0 &   0 & 0 & 0 & 0 &   0 &   0 &  0\\\\\n",
       "\tADNP\\_2 & 0 & 0 & 0 &    0 & 0 & 0 & 0 &  0 & 0 &    0 & \u22ef & 0 &   0 &   0 &   0 & 0 & 0 & 0 &   0 &   0 &  0\\\\\n",
       "\tBRD2\\_1 & 0 & 0 & 0 &    0 & 0 & 0 & 0 &  0 & 0 &    0 & \u22ef & 0 &   0 &   0 &   0 & 0 & 0 & 0 &   0 &   0 &  0\\\\\n",
       "\tBRD2\\_2 & 0 & 0 & 0 &    0 & 0 & 0 & 0 &  0 & 0 &    0 & \u22ef & 0 &  75 &   0 &   0 & 0 & 0 & 0 &   0 &   0 &  0\\\\\n",
       "\tCHD2\\_1 & 1 & 0 & 0 &    1 & 0 & 0 & 0 &  0 & 0 &    0 & \u22ef & 0 &   0 &   0 &   0 & 0 & 0 & 0 & 122 &  46 &  0\\\\\n",
       "\tCHD2\\_2 & 0 & 0 & 0 &    0 & 0 & 0 & 0 &  0 & 0 &    0 & \u22ef & 0 &   0 & 109 &   0 & 0 & 0 & 0 &   0 &   0 &  0\\\\\n",
       "\tCNOT2\\_1 & 0 & 0 & 0 &    0 & 0 & 0 & 0 &  0 & 0 &    0 & \u22ef & 0 &   0 &   0 &   0 & 0 & 0 & 0 &   0 &   0 &  0\\\\\n",
       "\tCNOT2\\_2 & 0 & 0 & 0 &    0 & 0 & 0 & 0 & 81 & 0 &    0 & \u22ef & 0 &   0 &   0 & 107 & 0 & 0 & 0 &   0 &   0 &  0\\\\\n",
       "\tGPBP1L1\\_1 & 0 & 0 & 0 &    0 & 0 & 0 & 0 &  0 & 1 & 1850 & \u22ef & 0 &  32 &   0 &   1 & 0 & 1 & 0 &   2 &   0 &  0\\\\\n",
       "\tGPBP1L1\\_2 & 0 & 0 & 0 &    0 & 0 & 0 & 0 &  0 & 0 &    0 & \u22ef & 0 &   0 &   0 &   0 & 0 & 0 & 0 &   0 &   0 &  0\\\\\n",
       "\tHIC2\\_1 & 0 & 0 & 0 &    0 & 0 & 0 & 0 &  0 & 0 &    0 & \u22ef & 1 &   1 &  18 &   0 & 0 & 0 & 0 &   0 &   0 & 98\\\\\n",
       "\tHIC2\\_2 & 0 & 0 & 0 &    0 & 0 & 0 & 0 &  0 & 0 &    0 & \u22ef & 0 &   0 &   0 &   0 & 0 & 0 & 0 &  51 &   0 &  0\\\\\n",
       "\tKMT2B\\_1 & 0 & 0 & 0 &    0 & 0 & 0 & 0 &  0 & 0 &    0 & \u22ef & 0 &   0 &   0 &   0 & 0 & 0 & 0 &   0 &   0 &  0\\\\\n",
       "\tKMT2B\\_2 & 0 & 0 & 0 &    0 & 0 & 0 & 0 &  0 & 0 &    0 & \u22ef & 0 &  77 &   0 &   0 & 0 & 1 & 0 &   0 &   0 &  0\\\\\n",
       "\tMNT\\_1 & 0 & 0 & 0 &    0 & 0 & 0 & 0 &  0 & 0 &    0 & \u22ef & 0 &  73 &   0 &   1 & 0 & 0 & 1 & 161 &   0 &  0\\\\\n",
       "\tMNT\\_2 & 0 & 0 & 0 &    0 & 1 & 0 & 0 &  0 & 0 &    0 & \u22ef & 0 &   0 &   0 &   0 & 0 & 0 & 0 &  89 &  23 &  0\\\\\n",
       "\tNTC22\\_1 & 0 & 0 & 0 &    0 & 0 & 0 & 0 &  0 & 0 &    0 & \u22ef & 0 &   0 &   0 &   0 & 0 & 0 & 0 &   0 &   0 &  0\\\\\n",
       "\tNTC22\\_2 & 0 & 0 & 0 &    0 & 0 & 0 & 0 &  0 & 0 &    0 & \u22ef & 0 &   0 &   0 &   0 & 0 & 0 & 0 &   0 &   0 &  0\\\\\n",
       "\tNTC28\\_1 & 0 & 0 & 0 &    0 & 0 & 0 & 0 &  0 & 0 &    0 & \u22ef & 1 &   0 &   0 &   0 & 0 & 0 & 0 &   0 &   0 &  0\\\\\n",
       "\tNTC28\\_2 & 0 & 0 & 0 &    0 & 0 & 0 & 0 &  0 & 0 &    0 & \u22ef & 0 &   0 &   0 &   0 & 0 & 0 & 0 &   0 &   0 &  0\\\\\n",
       "\tNTC36\\_1 & 0 & 0 & 0 &   96 & 0 & 0 & 0 & 82 & 1 &   69 & \u22ef & 0 & 274 &   0 &  65 & 0 & 0 & 0 &   0 &   0 &  0\\\\\n",
       "\tNTC36\\_2 & 0 & 0 & 0 &    0 & 0 & 0 & 0 &  0 & 0 &   68 & \u22ef & 0 &   0 &   0 &   0 & 0 & 0 & 0 &   0 &   0 &  0\\\\\n",
       "\tNTC74\\_1 & 0 & 0 & 0 &    0 & 2 & 0 & 0 &  0 & 0 &    0 & \u22ef & 0 & 112 &   1 &   0 & 0 & 0 & 0 &   0 &   0 &  0\\\\\n",
       "\tNTC74\\_2 & 0 & 0 & 0 &  214 & 1 & 0 & 1 &  0 & 0 &    1 & \u22ef & 0 & 154 &  30 &  94 & 0 & 0 & 0 &  47 &   0 &  0\\\\\n",
       "\tNTC82\\_1 & 0 & 0 & 1 &  800 & 0 & 0 & 0 &  0 & 0 &    0 & \u22ef & 0 &   0 &   0 &   0 & 0 & 0 & 0 & 133 & 136 &  0\\\\\n",
       "\tNTC82\\_2 & 0 & 0 & 0 &    0 & 0 & 0 & 0 &  0 & 0 &    0 & \u22ef & 0 &   0 &   0 &   0 & 0 & 0 & 0 &   0 &   0 &  0\\\\\n",
       "\tNTC98\\_1 & 0 & 0 & 0 &    0 & 0 & 0 & 0 &  0 & 0 &    0 & \u22ef & 0 &   0 &   0 &   0 & 0 & 0 & 0 &   0 &   0 &  0\\\\\n",
       "\tNTC98\\_2 & 0 & 0 & 0 &    0 & 0 & 0 & 0 &  0 & 0 &    0 & \u22ef & 0 &   0 &   0 &   0 & 0 & 0 & 0 &   0 &   0 &  0\\\\\n",
       "\tPHF6\\_1 & 0 & 0 & 0 &    0 & 0 & 0 & 0 &  0 & 0 &    0 & \u22ef & 0 &   0 &   0 &   0 & 0 & 0 & 0 &   0 &   0 &  0\\\\\n",
       "\tPHF6\\_2 & 0 & 0 & 0 &    0 & 0 & 1 & 0 &  0 & 0 &    0 & \u22ef & 0 &   0 &   0 &   0 & 0 & 0 & 0 &   0 &   0 &  0\\\\\n",
       "\tPIAS1\\_1 & 0 & 0 & 0 &  225 & 1 & 0 & 0 &  0 & 0 &  166 & \u22ef & 0 &   0 & 107 &   0 & 0 & 0 & 0 & 258 &   0 &  0\\\\\n",
       "\tPIAS1\\_2 & 0 & 0 & 0 &  103 & 0 & 0 & 0 &  0 & 0 &  293 & \u22ef & 0 &   0 &   0 &   0 & 0 & 0 & 0 &   0 &   0 &  0\\\\\n",
       "\tPLAGL2\\_1 & 0 & 1 & 0 &   28 & 0 & 0 & 0 &  0 & 0 &    0 & \u22ef & 0 &   0 &   0 &   0 & 1 & 0 & 0 &   0 &   0 &  0\\\\\n",
       "\tPLAGL2\\_2 & 0 & 0 & 0 &    0 & 0 & 0 & 0 &  0 & 0 &    0 & \u22ef & 0 &   0 &   0 &   0 & 0 & 0 & 0 &   0 &   0 &  0\\\\\n",
       "\tPQBP1\\_1 & 0 & 0 & 0 &    0 & 0 & 0 & 0 &  0 & 0 &    0 & \u22ef & 0 &   0 &   0 &   0 & 0 & 0 & 0 & 110 &   0 &  0\\\\\n",
       "\tPQBP1\\_2 & 0 & 0 & 0 &    0 & 0 & 0 & 0 &  0 & 0 &    0 & \u22ef & 0 &   0 &   0 &   0 & 0 & 0 & 0 &   0 &   0 &  0\\\\\n",
       "\tSIN3A\\_1 & 0 & 0 & 0 &  902 & 0 & 0 & 1 &  0 & 0 &    0 & \u22ef & 0 &   0 &   0 &   0 & 0 & 0 & 0 &   0 &   0 &  0\\\\\n",
       "\tSIN3A\\_2 & 0 & 0 & 0 & 1628 & 0 & 0 & 0 &  0 & 0 &    0 & \u22ef & 0 &  76 &   0 &   0 & 0 & 0 & 0 &   0 &   0 &  0\\\\\n",
       "\tSLTM\\_1 & 0 & 0 & 0 &   38 & 0 & 0 & 0 &  0 & 1 &  134 & \u22ef & 0 & 122 & 181 &   0 & 0 & 0 & 0 &  53 &   0 &  0\\\\\n",
       "\tSLTM\\_2 & 0 & 0 & 0 &    0 & 0 & 0 & 0 &  0 & 0 &    0 & \u22ef & 0 &   0 &   0 &   0 & 0 & 0 & 0 &   0 &   0 &  0\\\\\n",
       "\tTSC22D4\\_1 & 0 & 0 & 0 &    0 & 6 & 1 & 0 & 71 & 0 &    0 & \u22ef & 0 &   0 &   0 & 121 & 0 & 0 & 0 &   0 & 178 &  0\\\\\n",
       "\tTSC22D4\\_2 & 0 & 0 & 0 &    0 & 0 & 0 & 0 &  0 & 0 &    0 & \u22ef & 0 &   0 &   0 &   0 & 0 & 0 & 0 &   0 &   0 &  0\\\\\n",
       "\tUBE2L3\\_1 & 0 & 0 & 0 &    0 & 0 & 0 & 0 &  0 & 0 &    0 & \u22ef & 0 &   0 &   0 &   0 & 0 & 0 & 0 &   0 &   0 &  0\\\\\n",
       "\tUBE2L3\\_2 & 0 & 0 & 0 &    0 & 0 & 0 & 0 &  0 & 0 &    0 & \u22ef & 0 &   0 &   0 &   0 & 0 & 0 & 0 &   0 &   0 &  0\\\\\n",
       "\tYEATS4\\_1 & 0 & 0 & 0 &    0 & 0 & 0 & 0 &  0 & 0 &    0 & \u22ef & 0 &   0 &  71 &   0 & 0 & 0 & 0 &   0 &   0 &  0\\\\\n",
       "\tYEATS4\\_2 & 0 & 0 & 0 &    0 & 1 & 0 & 0 &  0 & 0 &    0 & \u22ef & 0 &   0 &   0 &   0 & 0 & 0 & 0 &  27 &   0 &  0\\\\\n",
       "\tZBED6\\_1 & 0 & 0 & 0 &    0 & 0 & 0 & 0 &  0 & 0 &    0 & \u22ef & 0 &  90 &   0 &   0 & 0 & 0 & 0 &   0 &   0 &  0\\\\\n",
       "\tZBED6\\_2 & 0 & 0 & 0 &    0 & 0 & 0 & 0 &  0 & 0 &    0 & \u22ef & 1 &   0 &   0 &   0 & 0 & 0 & 0 &   0 &   0 &  0\\\\\n",
       "\tZNF330\\_1 & 0 & 0 & 0 &    0 & 0 & 0 & 0 &  0 & 0 &    0 & \u22ef & 0 &   0 &   0 &   0 & 0 & 0 & 0 &   0 &   0 &  0\\\\\n",
       "\tZNF330\\_2 & 0 & 0 & 0 &    0 & 0 & 0 & 0 &  0 & 0 &    0 & \u22ef & 0 &   0 &   0 &   0 & 0 & 0 & 0 &   0 &   0 &  0\\\\\n",
       "\tZNF669\\_1 & 0 & 0 & 0 &    0 & 0 & 0 & 0 &  0 & 0 &    0 & \u22ef & 0 &   0 &   0 &   0 & 0 & 0 & 0 & 174 &   0 &  0\\\\\n",
       "\tZNF669\\_2 & 0 & 0 & 0 &    0 & 2 & 0 & 0 &  0 & 0 &    0 & \u22ef & 0 &   0 &   0 &   0 & 0 & 0 & 0 & 763 &   0 &  0\\\\\n",
       "\\end{tabular}\n"
      ],
      "text/markdown": [
       "\n",
       "A matrix: 52 \u00d7 205348 of type int\n",
       "\n",
       "| <!--/--> | AAACAGCCAAACAACA-1 | AAACAGCCAAAGCGGC-1 | AAACAGCCAAATATCC-1 | AAACAGCCAACATAAG-1 | AAACAGCCAACCTGGT-1 | AAACAGCCAACTAGAA-1 | AAACAGCCAACTAGGG-1 | AAACAGCCAAGACTCC-1 | AAACAGCCAAGCCACT-1 | AAACAGCCAAGCGAGC-1 | \u22ef | TTTGTTGGTTTAAAGC-1 | TTTGTTGGTTTAGCGA-1 | TTTGTTGGTTTAGTCC-1 | TTTGTTGGTTTATCTG-1 | TTTGTTGGTTTCAGGA-1 | TTTGTTGGTTTGACCT-1 | TTTGTTGGTTTGGCGG-1 | TTTGTTGGTTTGGGCG-1 | TTTGTTGGTTTGGGTA-1 | TTTGTTGGTTTGTTGC-1 |\n",
       "|---|---|---|---|---|---|---|---|---|---|---|---|---|---|---|---|---|---|---|---|---|---|\n",
       "| ADNP_1 | 0 | 0 | 0 |    0 | 0 | 0 | 0 |  0 | 0 |    0 | \u22ef | 0 |   0 |   0 |   0 | 0 | 0 | 0 |   0 |   0 |  0 |\n",
       "| ADNP_2 | 0 | 0 | 0 |    0 | 0 | 0 | 0 |  0 | 0 |    0 | \u22ef | 0 |   0 |   0 |   0 | 0 | 0 | 0 |   0 |   0 |  0 |\n",
       "| BRD2_1 | 0 | 0 | 0 |    0 | 0 | 0 | 0 |  0 | 0 |    0 | \u22ef | 0 |   0 |   0 |   0 | 0 | 0 | 0 |   0 |   0 |  0 |\n",
       "| BRD2_2 | 0 | 0 | 0 |    0 | 0 | 0 | 0 |  0 | 0 |    0 | \u22ef | 0 |  75 |   0 |   0 | 0 | 0 | 0 |   0 |   0 |  0 |\n",
       "| CHD2_1 | 1 | 0 | 0 |    1 | 0 | 0 | 0 |  0 | 0 |    0 | \u22ef | 0 |   0 |   0 |   0 | 0 | 0 | 0 | 122 |  46 |  0 |\n",
       "| CHD2_2 | 0 | 0 | 0 |    0 | 0 | 0 | 0 |  0 | 0 |    0 | \u22ef | 0 |   0 | 109 |   0 | 0 | 0 | 0 |   0 |   0 |  0 |\n",
       "| CNOT2_1 | 0 | 0 | 0 |    0 | 0 | 0 | 0 |  0 | 0 |    0 | \u22ef | 0 |   0 |   0 |   0 | 0 | 0 | 0 |   0 |   0 |  0 |\n",
       "| CNOT2_2 | 0 | 0 | 0 |    0 | 0 | 0 | 0 | 81 | 0 |    0 | \u22ef | 0 |   0 |   0 | 107 | 0 | 0 | 0 |   0 |   0 |  0 |\n",
       "| GPBP1L1_1 | 0 | 0 | 0 |    0 | 0 | 0 | 0 |  0 | 1 | 1850 | \u22ef | 0 |  32 |   0 |   1 | 0 | 1 | 0 |   2 |   0 |  0 |\n",
       "| GPBP1L1_2 | 0 | 0 | 0 |    0 | 0 | 0 | 0 |  0 | 0 |    0 | \u22ef | 0 |   0 |   0 |   0 | 0 | 0 | 0 |   0 |   0 |  0 |\n",
       "| HIC2_1 | 0 | 0 | 0 |    0 | 0 | 0 | 0 |  0 | 0 |    0 | \u22ef | 1 |   1 |  18 |   0 | 0 | 0 | 0 |   0 |   0 | 98 |\n",
       "| HIC2_2 | 0 | 0 | 0 |    0 | 0 | 0 | 0 |  0 | 0 |    0 | \u22ef | 0 |   0 |   0 |   0 | 0 | 0 | 0 |  51 |   0 |  0 |\n",
       "| KMT2B_1 | 0 | 0 | 0 |    0 | 0 | 0 | 0 |  0 | 0 |    0 | \u22ef | 0 |   0 |   0 |   0 | 0 | 0 | 0 |   0 |   0 |  0 |\n",
       "| KMT2B_2 | 0 | 0 | 0 |    0 | 0 | 0 | 0 |  0 | 0 |    0 | \u22ef | 0 |  77 |   0 |   0 | 0 | 1 | 0 |   0 |   0 |  0 |\n",
       "| MNT_1 | 0 | 0 | 0 |    0 | 0 | 0 | 0 |  0 | 0 |    0 | \u22ef | 0 |  73 |   0 |   1 | 0 | 0 | 1 | 161 |   0 |  0 |\n",
       "| MNT_2 | 0 | 0 | 0 |    0 | 1 | 0 | 0 |  0 | 0 |    0 | \u22ef | 0 |   0 |   0 |   0 | 0 | 0 | 0 |  89 |  23 |  0 |\n",
       "| NTC22_1 | 0 | 0 | 0 |    0 | 0 | 0 | 0 |  0 | 0 |    0 | \u22ef | 0 |   0 |   0 |   0 | 0 | 0 | 0 |   0 |   0 |  0 |\n",
       "| NTC22_2 | 0 | 0 | 0 |    0 | 0 | 0 | 0 |  0 | 0 |    0 | \u22ef | 0 |   0 |   0 |   0 | 0 | 0 | 0 |   0 |   0 |  0 |\n",
       "| NTC28_1 | 0 | 0 | 0 |    0 | 0 | 0 | 0 |  0 | 0 |    0 | \u22ef | 1 |   0 |   0 |   0 | 0 | 0 | 0 |   0 |   0 |  0 |\n",
       "| NTC28_2 | 0 | 0 | 0 |    0 | 0 | 0 | 0 |  0 | 0 |    0 | \u22ef | 0 |   0 |   0 |   0 | 0 | 0 | 0 |   0 |   0 |  0 |\n",
       "| NTC36_1 | 0 | 0 | 0 |   96 | 0 | 0 | 0 | 82 | 1 |   69 | \u22ef | 0 | 274 |   0 |  65 | 0 | 0 | 0 |   0 |   0 |  0 |\n",
       "| NTC36_2 | 0 | 0 | 0 |    0 | 0 | 0 | 0 |  0 | 0 |   68 | \u22ef | 0 |   0 |   0 |   0 | 0 | 0 | 0 |   0 |   0 |  0 |\n",
       "| NTC74_1 | 0 | 0 | 0 |    0 | 2 | 0 | 0 |  0 | 0 |    0 | \u22ef | 0 | 112 |   1 |   0 | 0 | 0 | 0 |   0 |   0 |  0 |\n",
       "| NTC74_2 | 0 | 0 | 0 |  214 | 1 | 0 | 1 |  0 | 0 |    1 | \u22ef | 0 | 154 |  30 |  94 | 0 | 0 | 0 |  47 |   0 |  0 |\n",
       "| NTC82_1 | 0 | 0 | 1 |  800 | 0 | 0 | 0 |  0 | 0 |    0 | \u22ef | 0 |   0 |   0 |   0 | 0 | 0 | 0 | 133 | 136 |  0 |\n",
       "| NTC82_2 | 0 | 0 | 0 |    0 | 0 | 0 | 0 |  0 | 0 |    0 | \u22ef | 0 |   0 |   0 |   0 | 0 | 0 | 0 |   0 |   0 |  0 |\n",
       "| NTC98_1 | 0 | 0 | 0 |    0 | 0 | 0 | 0 |  0 | 0 |    0 | \u22ef | 0 |   0 |   0 |   0 | 0 | 0 | 0 |   0 |   0 |  0 |\n",
       "| NTC98_2 | 0 | 0 | 0 |    0 | 0 | 0 | 0 |  0 | 0 |    0 | \u22ef | 0 |   0 |   0 |   0 | 0 | 0 | 0 |   0 |   0 |  0 |\n",
       "| PHF6_1 | 0 | 0 | 0 |    0 | 0 | 0 | 0 |  0 | 0 |    0 | \u22ef | 0 |   0 |   0 |   0 | 0 | 0 | 0 |   0 |   0 |  0 |\n",
       "| PHF6_2 | 0 | 0 | 0 |    0 | 0 | 1 | 0 |  0 | 0 |    0 | \u22ef | 0 |   0 |   0 |   0 | 0 | 0 | 0 |   0 |   0 |  0 |\n",
       "| PIAS1_1 | 0 | 0 | 0 |  225 | 1 | 0 | 0 |  0 | 0 |  166 | \u22ef | 0 |   0 | 107 |   0 | 0 | 0 | 0 | 258 |   0 |  0 |\n",
       "| PIAS1_2 | 0 | 0 | 0 |  103 | 0 | 0 | 0 |  0 | 0 |  293 | \u22ef | 0 |   0 |   0 |   0 | 0 | 0 | 0 |   0 |   0 |  0 |\n",
       "| PLAGL2_1 | 0 | 1 | 0 |   28 | 0 | 0 | 0 |  0 | 0 |    0 | \u22ef | 0 |   0 |   0 |   0 | 1 | 0 | 0 |   0 |   0 |  0 |\n",
       "| PLAGL2_2 | 0 | 0 | 0 |    0 | 0 | 0 | 0 |  0 | 0 |    0 | \u22ef | 0 |   0 |   0 |   0 | 0 | 0 | 0 |   0 |   0 |  0 |\n",
       "| PQBP1_1 | 0 | 0 | 0 |    0 | 0 | 0 | 0 |  0 | 0 |    0 | \u22ef | 0 |   0 |   0 |   0 | 0 | 0 | 0 | 110 |   0 |  0 |\n",
       "| PQBP1_2 | 0 | 0 | 0 |    0 | 0 | 0 | 0 |  0 | 0 |    0 | \u22ef | 0 |   0 |   0 |   0 | 0 | 0 | 0 |   0 |   0 |  0 |\n",
       "| SIN3A_1 | 0 | 0 | 0 |  902 | 0 | 0 | 1 |  0 | 0 |    0 | \u22ef | 0 |   0 |   0 |   0 | 0 | 0 | 0 |   0 |   0 |  0 |\n",
       "| SIN3A_2 | 0 | 0 | 0 | 1628 | 0 | 0 | 0 |  0 | 0 |    0 | \u22ef | 0 |  76 |   0 |   0 | 0 | 0 | 0 |   0 |   0 |  0 |\n",
       "| SLTM_1 | 0 | 0 | 0 |   38 | 0 | 0 | 0 |  0 | 1 |  134 | \u22ef | 0 | 122 | 181 |   0 | 0 | 0 | 0 |  53 |   0 |  0 |\n",
       "| SLTM_2 | 0 | 0 | 0 |    0 | 0 | 0 | 0 |  0 | 0 |    0 | \u22ef | 0 |   0 |   0 |   0 | 0 | 0 | 0 |   0 |   0 |  0 |\n",
       "| TSC22D4_1 | 0 | 0 | 0 |    0 | 6 | 1 | 0 | 71 | 0 |    0 | \u22ef | 0 |   0 |   0 | 121 | 0 | 0 | 0 |   0 | 178 |  0 |\n",
       "| TSC22D4_2 | 0 | 0 | 0 |    0 | 0 | 0 | 0 |  0 | 0 |    0 | \u22ef | 0 |   0 |   0 |   0 | 0 | 0 | 0 |   0 |   0 |  0 |\n",
       "| UBE2L3_1 | 0 | 0 | 0 |    0 | 0 | 0 | 0 |  0 | 0 |    0 | \u22ef | 0 |   0 |   0 |   0 | 0 | 0 | 0 |   0 |   0 |  0 |\n",
       "| UBE2L3_2 | 0 | 0 | 0 |    0 | 0 | 0 | 0 |  0 | 0 |    0 | \u22ef | 0 |   0 |   0 |   0 | 0 | 0 | 0 |   0 |   0 |  0 |\n",
       "| YEATS4_1 | 0 | 0 | 0 |    0 | 0 | 0 | 0 |  0 | 0 |    0 | \u22ef | 0 |   0 |  71 |   0 | 0 | 0 | 0 |   0 |   0 |  0 |\n",
       "| YEATS4_2 | 0 | 0 | 0 |    0 | 1 | 0 | 0 |  0 | 0 |    0 | \u22ef | 0 |   0 |   0 |   0 | 0 | 0 | 0 |  27 |   0 |  0 |\n",
       "| ZBED6_1 | 0 | 0 | 0 |    0 | 0 | 0 | 0 |  0 | 0 |    0 | \u22ef | 0 |  90 |   0 |   0 | 0 | 0 | 0 |   0 |   0 |  0 |\n",
       "| ZBED6_2 | 0 | 0 | 0 |    0 | 0 | 0 | 0 |  0 | 0 |    0 | \u22ef | 1 |   0 |   0 |   0 | 0 | 0 | 0 |   0 |   0 |  0 |\n",
       "| ZNF330_1 | 0 | 0 | 0 |    0 | 0 | 0 | 0 |  0 | 0 |    0 | \u22ef | 0 |   0 |   0 |   0 | 0 | 0 | 0 |   0 |   0 |  0 |\n",
       "| ZNF330_2 | 0 | 0 | 0 |    0 | 0 | 0 | 0 |  0 | 0 |    0 | \u22ef | 0 |   0 |   0 |   0 | 0 | 0 | 0 |   0 |   0 |  0 |\n",
       "| ZNF669_1 | 0 | 0 | 0 |    0 | 0 | 0 | 0 |  0 | 0 |    0 | \u22ef | 0 |   0 |   0 |   0 | 0 | 0 | 0 | 174 |   0 |  0 |\n",
       "| ZNF669_2 | 0 | 0 | 0 |    0 | 2 | 0 | 0 |  0 | 0 |    0 | \u22ef | 0 |   0 |   0 |   0 | 0 | 0 | 0 | 763 |   0 |  0 |\n",
       "\n"
      ],
      "text/plain": [
       "          AAACAGCCAAACAACA-1 AAACAGCCAAAGCGGC-1 AAACAGCCAAATATCC-1\n",
       "ADNP_1    0                  0                  0                 \n",
       "ADNP_2    0                  0                  0                 \n",
       "BRD2_1    0                  0                  0                 \n",
       "BRD2_2    0                  0                  0                 \n",
       "CHD2_1    1                  0                  0                 \n",
       "CHD2_2    0                  0                  0                 \n",
       "CNOT2_1   0                  0                  0                 \n",
       "CNOT2_2   0                  0                  0                 \n",
       "GPBP1L1_1 0                  0                  0                 \n",
       "GPBP1L1_2 0                  0                  0                 \n",
       "HIC2_1    0                  0                  0                 \n",
       "HIC2_2    0                  0                  0                 \n",
       "KMT2B_1   0                  0                  0                 \n",
       "KMT2B_2   0                  0                  0                 \n",
       "MNT_1     0                  0                  0                 \n",
       "MNT_2     0                  0                  0                 \n",
       "NTC22_1   0                  0                  0                 \n",
       "NTC22_2   0                  0                  0                 \n",
       "NTC28_1   0                  0                  0                 \n",
       "NTC28_2   0                  0                  0                 \n",
       "NTC36_1   0                  0                  0                 \n",
       "NTC36_2   0                  0                  0                 \n",
       "NTC74_1   0                  0                  0                 \n",
       "NTC74_2   0                  0                  0                 \n",
       "NTC82_1   0                  0                  1                 \n",
       "NTC82_2   0                  0                  0                 \n",
       "NTC98_1   0                  0                  0                 \n",
       "NTC98_2   0                  0                  0                 \n",
       "PHF6_1    0                  0                  0                 \n",
       "PHF6_2    0                  0                  0                 \n",
       "PIAS1_1   0                  0                  0                 \n",
       "PIAS1_2   0                  0                  0                 \n",
       "PLAGL2_1  0                  1                  0                 \n",
       "PLAGL2_2  0                  0                  0                 \n",
       "PQBP1_1   0                  0                  0                 \n",
       "PQBP1_2   0                  0                  0                 \n",
       "SIN3A_1   0                  0                  0                 \n",
       "SIN3A_2   0                  0                  0                 \n",
       "SLTM_1    0                  0                  0                 \n",
       "SLTM_2    0                  0                  0                 \n",
       "TSC22D4_1 0                  0                  0                 \n",
       "TSC22D4_2 0                  0                  0                 \n",
       "UBE2L3_1  0                  0                  0                 \n",
       "UBE2L3_2  0                  0                  0                 \n",
       "YEATS4_1  0                  0                  0                 \n",
       "YEATS4_2  0                  0                  0                 \n",
       "ZBED6_1   0                  0                  0                 \n",
       "ZBED6_2   0                  0                  0                 \n",
       "ZNF330_1  0                  0                  0                 \n",
       "ZNF330_2  0                  0                  0                 \n",
       "ZNF669_1  0                  0                  0                 \n",
       "ZNF669_2  0                  0                  0                 \n",
       "          AAACAGCCAACATAAG-1 AAACAGCCAACCTGGT-1 AAACAGCCAACTAGAA-1\n",
       "ADNP_1       0               0                  0                 \n",
       "ADNP_2       0               0                  0                 \n",
       "BRD2_1       0               0                  0                 \n",
       "BRD2_2       0               0                  0                 \n",
       "CHD2_1       1               0                  0                 \n",
       "CHD2_2       0               0                  0                 \n",
       "CNOT2_1      0               0                  0                 \n",
       "CNOT2_2      0               0                  0                 \n",
       "GPBP1L1_1    0               0                  0                 \n",
       "GPBP1L1_2    0               0                  0                 \n",
       "HIC2_1       0               0                  0                 \n",
       "HIC2_2       0               0                  0                 \n",
       "KMT2B_1      0               0                  0                 \n",
       "KMT2B_2      0               0                  0                 \n",
       "MNT_1        0               0                  0                 \n",
       "MNT_2        0               1                  0                 \n",
       "NTC22_1      0               0                  0                 \n",
       "NTC22_2      0               0                  0                 \n",
       "NTC28_1      0               0                  0                 \n",
       "NTC28_2      0               0                  0                 \n",
       "NTC36_1     96               0                  0                 \n",
       "NTC36_2      0               0                  0                 \n",
       "NTC74_1      0               2                  0                 \n",
       "NTC74_2    214               1                  0                 \n",
       "NTC82_1    800               0                  0                 \n",
       "NTC82_2      0               0                  0                 \n",
       "NTC98_1      0               0                  0                 \n",
       "NTC98_2      0               0                  0                 \n",
       "PHF6_1       0               0                  0                 \n",
       "PHF6_2       0               0                  1                 \n",
       "PIAS1_1    225               1                  0                 \n",
       "PIAS1_2    103               0                  0                 \n",
       "PLAGL2_1    28               0                  0                 \n",
       "PLAGL2_2     0               0                  0                 \n",
       "PQBP1_1      0               0                  0                 \n",
       "PQBP1_2      0               0                  0                 \n",
       "SIN3A_1    902               0                  0                 \n",
       "SIN3A_2   1628               0                  0                 \n",
       "SLTM_1      38               0                  0                 \n",
       "SLTM_2       0               0                  0                 \n",
       "TSC22D4_1    0               6                  1                 \n",
       "TSC22D4_2    0               0                  0                 \n",
       "UBE2L3_1     0               0                  0                 \n",
       "UBE2L3_2     0               0                  0                 \n",
       "YEATS4_1     0               0                  0                 \n",
       "YEATS4_2     0               1                  0                 \n",
       "ZBED6_1      0               0                  0                 \n",
       "ZBED6_2      0               0                  0                 \n",
       "ZNF330_1     0               0                  0                 \n",
       "ZNF330_2     0               0                  0                 \n",
       "ZNF669_1     0               0                  0                 \n",
       "ZNF669_2     0               2                  0                 \n",
       "          AAACAGCCAACTAGGG-1 AAACAGCCAAGACTCC-1 AAACAGCCAAGCCACT-1\n",
       "ADNP_1    0                   0                 0                 \n",
       "ADNP_2    0                   0                 0                 \n",
       "BRD2_1    0                   0                 0                 \n",
       "BRD2_2    0                   0                 0                 \n",
       "CHD2_1    0                   0                 0                 \n",
       "CHD2_2    0                   0                 0                 \n",
       "CNOT2_1   0                   0                 0                 \n",
       "CNOT2_2   0                  81                 0                 \n",
       "GPBP1L1_1 0                   0                 1                 \n",
       "GPBP1L1_2 0                   0                 0                 \n",
       "HIC2_1    0                   0                 0                 \n",
       "HIC2_2    0                   0                 0                 \n",
       "KMT2B_1   0                   0                 0                 \n",
       "KMT2B_2   0                   0                 0                 \n",
       "MNT_1     0                   0                 0                 \n",
       "MNT_2     0                   0                 0                 \n",
       "NTC22_1   0                   0                 0                 \n",
       "NTC22_2   0                   0                 0                 \n",
       "NTC28_1   0                   0                 0                 \n",
       "NTC28_2   0                   0                 0                 \n",
       "NTC36_1   0                  82                 1                 \n",
       "NTC36_2   0                   0                 0                 \n",
       "NTC74_1   0                   0                 0                 \n",
       "NTC74_2   1                   0                 0                 \n",
       "NTC82_1   0                   0                 0                 \n",
       "NTC82_2   0                   0                 0                 \n",
       "NTC98_1   0                   0                 0                 \n",
       "NTC98_2   0                   0                 0                 \n",
       "PHF6_1    0                   0                 0                 \n",
       "PHF6_2    0                   0                 0                 \n",
       "PIAS1_1   0                   0                 0                 \n",
       "PIAS1_2   0                   0                 0                 \n",
       "PLAGL2_1  0                   0                 0                 \n",
       "PLAGL2_2  0                   0                 0                 \n",
       "PQBP1_1   0                   0                 0                 \n",
       "PQBP1_2   0                   0                 0                 \n",
       "SIN3A_1   1                   0                 0                 \n",
       "SIN3A_2   0                   0                 0                 \n",
       "SLTM_1    0                   0                 1                 \n",
       "SLTM_2    0                   0                 0                 \n",
       "TSC22D4_1 0                  71                 0                 \n",
       "TSC22D4_2 0                   0                 0                 \n",
       "UBE2L3_1  0                   0                 0                 \n",
       "UBE2L3_2  0                   0                 0                 \n",
       "YEATS4_1  0                   0                 0                 \n",
       "YEATS4_2  0                   0                 0                 \n",
       "ZBED6_1   0                   0                 0                 \n",
       "ZBED6_2   0                   0                 0                 \n",
       "ZNF330_1  0                   0                 0                 \n",
       "ZNF330_2  0                   0                 0                 \n",
       "ZNF669_1  0                   0                 0                 \n",
       "ZNF669_2  0                   0                 0                 \n",
       "          AAACAGCCAAGCGAGC-1 \u22ef TTTGTTGGTTTAAAGC-1 TTTGTTGGTTTAGCGA-1\n",
       "ADNP_1       0               \u22ef 0                    0               \n",
       "ADNP_2       0               \u22ef 0                    0               \n",
       "BRD2_1       0               \u22ef 0                    0               \n",
       "BRD2_2       0               \u22ef 0                   75               \n",
       "CHD2_1       0               \u22ef 0                    0               \n",
       "CHD2_2       0               \u22ef 0                    0               \n",
       "CNOT2_1      0               \u22ef 0                    0               \n",
       "CNOT2_2      0               \u22ef 0                    0               \n",
       "GPBP1L1_1 1850               \u22ef 0                   32               \n",
       "GPBP1L1_2    0               \u22ef 0                    0               \n",
       "HIC2_1       0               \u22ef 1                    1               \n",
       "HIC2_2       0               \u22ef 0                    0               \n",
       "KMT2B_1      0               \u22ef 0                    0               \n",
       "KMT2B_2      0               \u22ef 0                   77               \n",
       "MNT_1        0               \u22ef 0                   73               \n",
       "MNT_2        0               \u22ef 0                    0               \n",
       "NTC22_1      0               \u22ef 0                    0               \n",
       "NTC22_2      0               \u22ef 0                    0               \n",
       "NTC28_1      0               \u22ef 1                    0               \n",
       "NTC28_2      0               \u22ef 0                    0               \n",
       "NTC36_1     69               \u22ef 0                  274               \n",
       "NTC36_2     68               \u22ef 0                    0               \n",
       "NTC74_1      0               \u22ef 0                  112               \n",
       "NTC74_2      1               \u22ef 0                  154               \n",
       "NTC82_1      0               \u22ef 0                    0               \n",
       "NTC82_2      0               \u22ef 0                    0               \n",
       "NTC98_1      0               \u22ef 0                    0               \n",
       "NTC98_2      0               \u22ef 0                    0               \n",
       "PHF6_1       0               \u22ef 0                    0               \n",
       "PHF6_2       0               \u22ef 0                    0               \n",
       "PIAS1_1    166               \u22ef 0                    0               \n",
       "PIAS1_2    293               \u22ef 0                    0               \n",
       "PLAGL2_1     0               \u22ef 0                    0               \n",
       "PLAGL2_2     0               \u22ef 0                    0               \n",
       "PQBP1_1      0               \u22ef 0                    0               \n",
       "PQBP1_2      0               \u22ef 0                    0               \n",
       "SIN3A_1      0               \u22ef 0                    0               \n",
       "SIN3A_2      0               \u22ef 0                   76               \n",
       "SLTM_1     134               \u22ef 0                  122               \n",
       "SLTM_2       0               \u22ef 0                    0               \n",
       "TSC22D4_1    0               \u22ef 0                    0               \n",
       "TSC22D4_2    0               \u22ef 0                    0               \n",
       "UBE2L3_1     0               \u22ef 0                    0               \n",
       "UBE2L3_2     0               \u22ef 0                    0               \n",
       "YEATS4_1     0               \u22ef 0                    0               \n",
       "YEATS4_2     0               \u22ef 0                    0               \n",
       "ZBED6_1      0               \u22ef 0                   90               \n",
       "ZBED6_2      0               \u22ef 1                    0               \n",
       "ZNF330_1     0               \u22ef 0                    0               \n",
       "ZNF330_2     0               \u22ef 0                    0               \n",
       "ZNF669_1     0               \u22ef 0                    0               \n",
       "ZNF669_2     0               \u22ef 0                    0               \n",
       "          TTTGTTGGTTTAGTCC-1 TTTGTTGGTTTATCTG-1 TTTGTTGGTTTCAGGA-1\n",
       "ADNP_1      0                  0                0                 \n",
       "ADNP_2      0                  0                0                 \n",
       "BRD2_1      0                  0                0                 \n",
       "BRD2_2      0                  0                0                 \n",
       "CHD2_1      0                  0                0                 \n",
       "CHD2_2    109                  0                0                 \n",
       "CNOT2_1     0                  0                0                 \n",
       "CNOT2_2     0                107                0                 \n",
       "GPBP1L1_1   0                  1                0                 \n",
       "GPBP1L1_2   0                  0                0                 \n",
       "HIC2_1     18                  0                0                 \n",
       "HIC2_2      0                  0                0                 \n",
       "KMT2B_1     0                  0                0                 \n",
       "KMT2B_2     0                  0                0                 \n",
       "MNT_1       0                  1                0                 \n",
       "MNT_2       0                  0                0                 \n",
       "NTC22_1     0                  0                0                 \n",
       "NTC22_2     0                  0                0                 \n",
       "NTC28_1     0                  0                0                 \n",
       "NTC28_2     0                  0                0                 \n",
       "NTC36_1     0                 65                0                 \n",
       "NTC36_2     0                  0                0                 \n",
       "NTC74_1     1                  0                0                 \n",
       "NTC74_2    30                 94                0                 \n",
       "NTC82_1     0                  0                0                 \n",
       "NTC82_2     0                  0                0                 \n",
       "NTC98_1     0                  0                0                 \n",
       "NTC98_2     0                  0                0                 \n",
       "PHF6_1      0                  0                0                 \n",
       "PHF6_2      0                  0                0                 \n",
       "PIAS1_1   107                  0                0                 \n",
       "PIAS1_2     0                  0                0                 \n",
       "PLAGL2_1    0                  0                1                 \n",
       "PLAGL2_2    0                  0                0                 \n",
       "PQBP1_1     0                  0                0                 \n",
       "PQBP1_2     0                  0                0                 \n",
       "SIN3A_1     0                  0                0                 \n",
       "SIN3A_2     0                  0                0                 \n",
       "SLTM_1    181                  0                0                 \n",
       "SLTM_2      0                  0                0                 \n",
       "TSC22D4_1   0                121                0                 \n",
       "TSC22D4_2   0                  0                0                 \n",
       "UBE2L3_1    0                  0                0                 \n",
       "UBE2L3_2    0                  0                0                 \n",
       "YEATS4_1   71                  0                0                 \n",
       "YEATS4_2    0                  0                0                 \n",
       "ZBED6_1     0                  0                0                 \n",
       "ZBED6_2     0                  0                0                 \n",
       "ZNF330_1    0                  0                0                 \n",
       "ZNF330_2    0                  0                0                 \n",
       "ZNF669_1    0                  0                0                 \n",
       "ZNF669_2    0                  0                0                 \n",
       "          TTTGTTGGTTTGACCT-1 TTTGTTGGTTTGGCGG-1 TTTGTTGGTTTGGGCG-1\n",
       "ADNP_1    0                  0                    0               \n",
       "ADNP_2    0                  0                    0               \n",
       "BRD2_1    0                  0                    0               \n",
       "BRD2_2    0                  0                    0               \n",
       "CHD2_1    0                  0                  122               \n",
       "CHD2_2    0                  0                    0               \n",
       "CNOT2_1   0                  0                    0               \n",
       "CNOT2_2   0                  0                    0               \n",
       "GPBP1L1_1 1                  0                    2               \n",
       "GPBP1L1_2 0                  0                    0               \n",
       "HIC2_1    0                  0                    0               \n",
       "HIC2_2    0                  0                   51               \n",
       "KMT2B_1   0                  0                    0               \n",
       "KMT2B_2   1                  0                    0               \n",
       "MNT_1     0                  1                  161               \n",
       "MNT_2     0                  0                   89               \n",
       "NTC22_1   0                  0                    0               \n",
       "NTC22_2   0                  0                    0               \n",
       "NTC28_1   0                  0                    0               \n",
       "NTC28_2   0                  0                    0               \n",
       "NTC36_1   0                  0                    0               \n",
       "NTC36_2   0                  0                    0               \n",
       "NTC74_1   0                  0                    0               \n",
       "NTC74_2   0                  0                   47               \n",
       "NTC82_1   0                  0                  133               \n",
       "NTC82_2   0                  0                    0               \n",
       "NTC98_1   0                  0                    0               \n",
       "NTC98_2   0                  0                    0               \n",
       "PHF6_1    0                  0                    0               \n",
       "PHF6_2    0                  0                    0               \n",
       "PIAS1_1   0                  0                  258               \n",
       "PIAS1_2   0                  0                    0               \n",
       "PLAGL2_1  0                  0                    0               \n",
       "PLAGL2_2  0                  0                    0               \n",
       "PQBP1_1   0                  0                  110               \n",
       "PQBP1_2   0                  0                    0               \n",
       "SIN3A_1   0                  0                    0               \n",
       "SIN3A_2   0                  0                    0               \n",
       "SLTM_1    0                  0                   53               \n",
       "SLTM_2    0                  0                    0               \n",
       "TSC22D4_1 0                  0                    0               \n",
       "TSC22D4_2 0                  0                    0               \n",
       "UBE2L3_1  0                  0                    0               \n",
       "UBE2L3_2  0                  0                    0               \n",
       "YEATS4_1  0                  0                    0               \n",
       "YEATS4_2  0                  0                   27               \n",
       "ZBED6_1   0                  0                    0               \n",
       "ZBED6_2   0                  0                    0               \n",
       "ZNF330_1  0                  0                    0               \n",
       "ZNF330_2  0                  0                    0               \n",
       "ZNF669_1  0                  0                  174               \n",
       "ZNF669_2  0                  0                  763               \n",
       "          TTTGTTGGTTTGGGTA-1 TTTGTTGGTTTGTTGC-1\n",
       "ADNP_1      0                 0                \n",
       "ADNP_2      0                 0                \n",
       "BRD2_1      0                 0                \n",
       "BRD2_2      0                 0                \n",
       "CHD2_1     46                 0                \n",
       "CHD2_2      0                 0                \n",
       "CNOT2_1     0                 0                \n",
       "CNOT2_2     0                 0                \n",
       "GPBP1L1_1   0                 0                \n",
       "GPBP1L1_2   0                 0                \n",
       "HIC2_1      0                98                \n",
       "HIC2_2      0                 0                \n",
       "KMT2B_1     0                 0                \n",
       "KMT2B_2     0                 0                \n",
       "MNT_1       0                 0                \n",
       "MNT_2      23                 0                \n",
       "NTC22_1     0                 0                \n",
       "NTC22_2     0                 0                \n",
       "NTC28_1     0                 0                \n",
       "NTC28_2     0                 0                \n",
       "NTC36_1     0                 0                \n",
       "NTC36_2     0                 0                \n",
       "NTC74_1     0                 0                \n",
       "NTC74_2     0                 0                \n",
       "NTC82_1   136                 0                \n",
       "NTC82_2     0                 0                \n",
       "NTC98_1     0                 0                \n",
       "NTC98_2     0                 0                \n",
       "PHF6_1      0                 0                \n",
       "PHF6_2      0                 0                \n",
       "PIAS1_1     0                 0                \n",
       "PIAS1_2     0                 0                \n",
       "PLAGL2_1    0                 0                \n",
       "PLAGL2_2    0                 0                \n",
       "PQBP1_1     0                 0                \n",
       "PQBP1_2     0                 0                \n",
       "SIN3A_1     0                 0                \n",
       "SIN3A_2     0                 0                \n",
       "SLTM_1      0                 0                \n",
       "SLTM_2      0                 0                \n",
       "TSC22D4_1 178                 0                \n",
       "TSC22D4_2   0                 0                \n",
       "UBE2L3_1    0                 0                \n",
       "UBE2L3_2    0                 0                \n",
       "YEATS4_1    0                 0                \n",
       "YEATS4_2    0                 0                \n",
       "ZBED6_1     0                 0                \n",
       "ZBED6_2     0                 0                \n",
       "ZNF330_1    0                 0                \n",
       "ZNF330_2    0                 0                \n",
       "ZNF669_1    0                 0                \n",
       "ZNF669_2    0                 0                "
      ]
     },
     "metadata": {},
     "output_type": "display_data"
    }
   ],
   "source": [
    "#c(\"OTP\", \"MYF6\", \"MEIS1\", \"FLI1\", \"HHEX\", \"HOXA6\", \"ELF5\", \"GBX1\", \"DPRX\", \"NTCTL\")\n",
    "##!! tf_list   <- tfs_w_ntctl \n",
    "\n",
    "df_guide <- read.table(tsv_name, header = TRUE, sep = \"\\t\", quote = \"\")\n",
    "tf_list  <- intersect(guides_to_plot, colnames(df_guide))\n",
    "\n",
    "guide_counts  <- t(data.matrix(df_guide[,tf_list]))\n",
    "colnames(guide_counts) <- df_guide$barcode_dash\n",
    "guide_counts"
   ]
  },
  {
   "attachments": {},
   "cell_type": "markdown",
   "id": "2e11ddcf",
   "metadata": {
    "papermill": {
     "duration": 0.010469,
     "end_time": "2023-08-17T17:21:01.019194",
     "exception": false,
     "start_time": "2023-08-17T17:21:01.008725",
     "status": "completed"
    },
    "tags": []
   },
   "source": [
    "Get overlapping cells"
   ]
  },
  {
   "cell_type": "code",
   "execution_count": 10,
   "id": "0142f637",
   "metadata": {
    "execution": {
     "iopub.execute_input": "2023-08-17T17:21:01.042433Z",
     "iopub.status.busy": "2023-08-17T17:21:01.041350Z",
     "iopub.status.idle": "2023-08-17T17:21:01.465835Z",
     "shell.execute_reply": "2023-08-17T17:21:01.464383Z"
    },
    "papermill": {
     "duration": 0.437558,
     "end_time": "2023-08-17T17:21:01.467405",
     "exception": false,
     "start_time": "2023-08-17T17:21:01.029847",
     "status": "completed"
    },
    "tags": []
   },
   "outputs": [
    {
     "data": {
      "text/html": [
       "<span style=white-space:pre-wrap>'Overlapping barcodes w/ min guides = 10 :  9905'</span>"
      ],
      "text/latex": [
       "'Overlapping barcodes w/ min guides = 10 :  9905'"
      ],
      "text/markdown": [
       "<span style=white-space:pre-wrap>'Overlapping barcodes w/ min guides = 10 :  9905'</span>"
      ],
      "text/plain": [
       "[1] \"Overlapping barcodes w/ min guides = 10 :  9905\""
      ]
     },
     "metadata": {},
     "output_type": "display_data"
    },
    {
     "data": {
      "text/html": [
       "<span style=white-space:pre-wrap>'Overlapping barcodes w/ min guides = 1 :  9907'</span>"
      ],
      "text/latex": [
       "'Overlapping barcodes w/ min guides = 1 :  9907'"
      ],
      "text/markdown": [
       "<span style=white-space:pre-wrap>'Overlapping barcodes w/ min guides = 1 :  9907'</span>"
      ],
      "text/plain": [
       "[1] \"Overlapping barcodes w/ min guides = 1 :  9907\""
      ]
     },
     "metadata": {},
     "output_type": "display_data"
    }
   ],
   "source": [
    "N_MIN_GUIDES <- 10\n",
    "select_overlapping   <-\n",
    "    df_guide$in_multiome & (df_guide$n_guides >= N_MIN_GUIDES)\n",
    "\n",
    "overlapping_barcodes <- df_guide[select_overlapping, ]$barcode_dash\n",
    "overlapping_barcodes <- as.vector(overlapping_barcodes)\n",
    "\n",
    "overlapping_guide_counts <- guide_counts[, overlapping_barcodes]\n",
    "\n",
    "n_all_overlapping <- nrow(df_guide[df_guide$in_multiome, ])\n",
    "paste(\"Overlapping barcodes w/ min guides =\", N_MIN_GUIDES,\": \", length(overlapping_barcodes))\n",
    "paste(\"Overlapping barcodes w/ min guides =\", 1,\": \", n_all_overlapping)\n"
   ]
  },
  {
   "cell_type": "code",
   "execution_count": 11,
   "id": "281a4fb6",
   "metadata": {
    "execution": {
     "iopub.execute_input": "2023-08-17T17:21:01.500225Z",
     "iopub.status.busy": "2023-08-17T17:21:01.498670Z",
     "iopub.status.idle": "2023-08-17T17:21:01.519077Z",
     "shell.execute_reply": "2023-08-17T17:21:01.517958Z"
    },
    "papermill": {
     "duration": 0.03875,
     "end_time": "2023-08-17T17:21:01.520326",
     "exception": false,
     "start_time": "2023-08-17T17:21:01.481576",
     "status": "completed"
    },
    "tags": []
   },
   "outputs": [
    {
     "data": {
      "text/html": [
       "<table class=\"dataframe\">\n",
       "<caption>A matrix: 6 \u00d7 9905 of type int</caption>\n",
       "<thead>\n",
       "\t<tr><th></th><th scope=col>AAACAGCCAGCATGAG-1</th><th scope=col>AAACAGCCAGGACCAA-1</th><th scope=col>AAACAGCCAGGCAAGC-1</th><th scope=col>AAACATGCAACTGGCT-1</th><th scope=col>AAACATGCACAACCTA-1</th><th scope=col>AAACATGCACAATGCC-1</th><th scope=col>AAACATGCACAGACTC-1</th><th scope=col>AAACATGCAGGAACCA-1</th><th scope=col>AAACATGCATCAGCAC-1</th><th scope=col>AAACATGCATCCCGCT-1</th><th scope=col>\u22ef</th><th scope=col>TTTGTGGCATGAGTTT-1</th><th scope=col>TTTGTGTTCACCATTT-1</th><th scope=col>TTTGTGTTCAGGCTAT-1</th><th scope=col>TTTGTGTTCCGCAAGC-1</th><th scope=col>TTTGTGTTCCGGAACC-1</th><th scope=col>TTTGTGTTCGCTTCTA-1</th><th scope=col>TTTGTTGGTAATGACT-1</th><th scope=col>TTTGTTGGTATTTGCC-1</th><th scope=col>TTTGTTGGTTTGGGCG-1</th><th scope=col>TTTGTTGGTTTGTTGC-1</th></tr>\n",
       "</thead>\n",
       "<tbody>\n",
       "\t<tr><th scope=row>ADNP_1</th><td>0</td><td>0</td><td> 0</td><td>  0</td><td>  0</td><td> 0</td><td>0</td><td> 0</td><td>0</td><td> 0</td><td>\u22ef</td><td>  0</td><td>83</td><td> 0</td><td>0</td><td>0</td><td>0</td><td>  0</td><td>0</td><td>  0</td><td>0</td></tr>\n",
       "\t<tr><th scope=row>ADNP_2</th><td>0</td><td>0</td><td> 0</td><td>  0</td><td>  0</td><td> 0</td><td>0</td><td> 0</td><td>0</td><td> 0</td><td>\u22ef</td><td>  0</td><td> 0</td><td>32</td><td>0</td><td>0</td><td>0</td><td>  0</td><td>0</td><td>  0</td><td>0</td></tr>\n",
       "\t<tr><th scope=row>BRD2_1</th><td>0</td><td>0</td><td> 0</td><td>  0</td><td>  0</td><td> 0</td><td>0</td><td> 0</td><td>0</td><td> 0</td><td>\u22ef</td><td>  0</td><td> 0</td><td> 0</td><td>0</td><td>0</td><td>0</td><td>  0</td><td>0</td><td>  0</td><td>0</td></tr>\n",
       "\t<tr><th scope=row>BRD2_2</th><td>0</td><td>0</td><td> 0</td><td>  0</td><td>  0</td><td> 0</td><td>0</td><td> 0</td><td>0</td><td> 0</td><td>\u22ef</td><td>  0</td><td> 0</td><td> 0</td><td>0</td><td>0</td><td>0</td><td>  0</td><td>0</td><td>  0</td><td>0</td></tr>\n",
       "\t<tr><th scope=row>CHD2_1</th><td>0</td><td>0</td><td> 0</td><td>  0</td><td>104</td><td>95</td><td>6</td><td>73</td><td>0</td><td> 0</td><td>\u22ef</td><td>284</td><td> 0</td><td> 0</td><td>0</td><td>0</td><td>0</td><td>289</td><td>0</td><td>122</td><td>0</td></tr>\n",
       "\t<tr><th scope=row>CHD2_2</th><td>0</td><td>0</td><td>64</td><td>988</td><td>  0</td><td> 0</td><td>0</td><td> 0</td><td>0</td><td>79</td><td>\u22ef</td><td>  0</td><td> 0</td><td> 0</td><td>0</td><td>0</td><td>0</td><td>  0</td><td>0</td><td>  0</td><td>0</td></tr>\n",
       "</tbody>\n",
       "</table>\n"
      ],
      "text/latex": [
       "A matrix: 6 \u00d7 9905 of type int\n",
       "\\begin{tabular}{r|lllllllllllllllllllll}\n",
       "  & AAACAGCCAGCATGAG-1 & AAACAGCCAGGACCAA-1 & AAACAGCCAGGCAAGC-1 & AAACATGCAACTGGCT-1 & AAACATGCACAACCTA-1 & AAACATGCACAATGCC-1 & AAACATGCACAGACTC-1 & AAACATGCAGGAACCA-1 & AAACATGCATCAGCAC-1 & AAACATGCATCCCGCT-1 & \u22ef & TTTGTGGCATGAGTTT-1 & TTTGTGTTCACCATTT-1 & TTTGTGTTCAGGCTAT-1 & TTTGTGTTCCGCAAGC-1 & TTTGTGTTCCGGAACC-1 & TTTGTGTTCGCTTCTA-1 & TTTGTTGGTAATGACT-1 & TTTGTTGGTATTTGCC-1 & TTTGTTGGTTTGGGCG-1 & TTTGTTGGTTTGTTGC-1\\\\\n",
       "\\hline\n",
       "\tADNP\\_1 & 0 & 0 &  0 &   0 &   0 &  0 & 0 &  0 & 0 &  0 & \u22ef &   0 & 83 &  0 & 0 & 0 & 0 &   0 & 0 &   0 & 0\\\\\n",
       "\tADNP\\_2 & 0 & 0 &  0 &   0 &   0 &  0 & 0 &  0 & 0 &  0 & \u22ef &   0 &  0 & 32 & 0 & 0 & 0 &   0 & 0 &   0 & 0\\\\\n",
       "\tBRD2\\_1 & 0 & 0 &  0 &   0 &   0 &  0 & 0 &  0 & 0 &  0 & \u22ef &   0 &  0 &  0 & 0 & 0 & 0 &   0 & 0 &   0 & 0\\\\\n",
       "\tBRD2\\_2 & 0 & 0 &  0 &   0 &   0 &  0 & 0 &  0 & 0 &  0 & \u22ef &   0 &  0 &  0 & 0 & 0 & 0 &   0 & 0 &   0 & 0\\\\\n",
       "\tCHD2\\_1 & 0 & 0 &  0 &   0 & 104 & 95 & 6 & 73 & 0 &  0 & \u22ef & 284 &  0 &  0 & 0 & 0 & 0 & 289 & 0 & 122 & 0\\\\\n",
       "\tCHD2\\_2 & 0 & 0 & 64 & 988 &   0 &  0 & 0 &  0 & 0 & 79 & \u22ef &   0 &  0 &  0 & 0 & 0 & 0 &   0 & 0 &   0 & 0\\\\\n",
       "\\end{tabular}\n"
      ],
      "text/markdown": [
       "\n",
       "A matrix: 6 \u00d7 9905 of type int\n",
       "\n",
       "| <!--/--> | AAACAGCCAGCATGAG-1 | AAACAGCCAGGACCAA-1 | AAACAGCCAGGCAAGC-1 | AAACATGCAACTGGCT-1 | AAACATGCACAACCTA-1 | AAACATGCACAATGCC-1 | AAACATGCACAGACTC-1 | AAACATGCAGGAACCA-1 | AAACATGCATCAGCAC-1 | AAACATGCATCCCGCT-1 | \u22ef | TTTGTGGCATGAGTTT-1 | TTTGTGTTCACCATTT-1 | TTTGTGTTCAGGCTAT-1 | TTTGTGTTCCGCAAGC-1 | TTTGTGTTCCGGAACC-1 | TTTGTGTTCGCTTCTA-1 | TTTGTTGGTAATGACT-1 | TTTGTTGGTATTTGCC-1 | TTTGTTGGTTTGGGCG-1 | TTTGTTGGTTTGTTGC-1 |\n",
       "|---|---|---|---|---|---|---|---|---|---|---|---|---|---|---|---|---|---|---|---|---|---|\n",
       "| ADNP_1 | 0 | 0 |  0 |   0 |   0 |  0 | 0 |  0 | 0 |  0 | \u22ef |   0 | 83 |  0 | 0 | 0 | 0 |   0 | 0 |   0 | 0 |\n",
       "| ADNP_2 | 0 | 0 |  0 |   0 |   0 |  0 | 0 |  0 | 0 |  0 | \u22ef |   0 |  0 | 32 | 0 | 0 | 0 |   0 | 0 |   0 | 0 |\n",
       "| BRD2_1 | 0 | 0 |  0 |   0 |   0 |  0 | 0 |  0 | 0 |  0 | \u22ef |   0 |  0 |  0 | 0 | 0 | 0 |   0 | 0 |   0 | 0 |\n",
       "| BRD2_2 | 0 | 0 |  0 |   0 |   0 |  0 | 0 |  0 | 0 |  0 | \u22ef |   0 |  0 |  0 | 0 | 0 | 0 |   0 | 0 |   0 | 0 |\n",
       "| CHD2_1 | 0 | 0 |  0 |   0 | 104 | 95 | 6 | 73 | 0 |  0 | \u22ef | 284 |  0 |  0 | 0 | 0 | 0 | 289 | 0 | 122 | 0 |\n",
       "| CHD2_2 | 0 | 0 | 64 | 988 |   0 |  0 | 0 |  0 | 0 | 79 | \u22ef |   0 |  0 |  0 | 0 | 0 | 0 |   0 | 0 |   0 | 0 |\n",
       "\n"
      ],
      "text/plain": [
       "       AAACAGCCAGCATGAG-1 AAACAGCCAGGACCAA-1 AAACAGCCAGGCAAGC-1\n",
       "ADNP_1 0                  0                   0                \n",
       "ADNP_2 0                  0                   0                \n",
       "BRD2_1 0                  0                   0                \n",
       "BRD2_2 0                  0                   0                \n",
       "CHD2_1 0                  0                   0                \n",
       "CHD2_2 0                  0                  64                \n",
       "       AAACATGCAACTGGCT-1 AAACATGCACAACCTA-1 AAACATGCACAATGCC-1\n",
       "ADNP_1   0                  0                 0                \n",
       "ADNP_2   0                  0                 0                \n",
       "BRD2_1   0                  0                 0                \n",
       "BRD2_2   0                  0                 0                \n",
       "CHD2_1   0                104                95                \n",
       "CHD2_2 988                  0                 0                \n",
       "       AAACATGCACAGACTC-1 AAACATGCAGGAACCA-1 AAACATGCATCAGCAC-1\n",
       "ADNP_1 0                   0                 0                 \n",
       "ADNP_2 0                   0                 0                 \n",
       "BRD2_1 0                   0                 0                 \n",
       "BRD2_2 0                   0                 0                 \n",
       "CHD2_1 6                  73                 0                 \n",
       "CHD2_2 0                   0                 0                 \n",
       "       AAACATGCATCCCGCT-1 \u22ef TTTGTGGCATGAGTTT-1 TTTGTGTTCACCATTT-1\n",
       "ADNP_1  0                 \u22ef   0                83                \n",
       "ADNP_2  0                 \u22ef   0                 0                \n",
       "BRD2_1  0                 \u22ef   0                 0                \n",
       "BRD2_2  0                 \u22ef   0                 0                \n",
       "CHD2_1  0                 \u22ef 284                 0                \n",
       "CHD2_2 79                 \u22ef   0                 0                \n",
       "       TTTGTGTTCAGGCTAT-1 TTTGTGTTCCGCAAGC-1 TTTGTGTTCCGGAACC-1\n",
       "ADNP_1  0                 0                  0                 \n",
       "ADNP_2 32                 0                  0                 \n",
       "BRD2_1  0                 0                  0                 \n",
       "BRD2_2  0                 0                  0                 \n",
       "CHD2_1  0                 0                  0                 \n",
       "CHD2_2  0                 0                  0                 \n",
       "       TTTGTGTTCGCTTCTA-1 TTTGTTGGTAATGACT-1 TTTGTTGGTATTTGCC-1\n",
       "ADNP_1 0                    0                0                 \n",
       "ADNP_2 0                    0                0                 \n",
       "BRD2_1 0                    0                0                 \n",
       "BRD2_2 0                    0                0                 \n",
       "CHD2_1 0                  289                0                 \n",
       "CHD2_2 0                    0                0                 \n",
       "       TTTGTTGGTTTGGGCG-1 TTTGTTGGTTTGTTGC-1\n",
       "ADNP_1   0                0                 \n",
       "ADNP_2   0                0                 \n",
       "BRD2_1   0                0                 \n",
       "BRD2_2   0                0                 \n",
       "CHD2_1 122                0                 \n",
       "CHD2_2   0                0                 "
      ]
     },
     "metadata": {},
     "output_type": "display_data"
    }
   ],
   "source": [
    "head(overlapping_guide_counts)"
   ]
  },
  {
   "cell_type": "code",
   "execution_count": 12,
   "id": "0635e006",
   "metadata": {
    "execution": {
     "iopub.execute_input": "2023-08-17T17:21:01.556768Z",
     "iopub.status.busy": "2023-08-17T17:21:01.554678Z",
     "iopub.status.idle": "2023-08-17T17:21:01.574721Z",
     "shell.execute_reply": "2023-08-17T17:21:01.572551Z"
    },
    "papermill": {
     "duration": 0.043992,
     "end_time": "2023-08-17T17:21:01.577224",
     "exception": false,
     "start_time": "2023-08-17T17:21:01.533232",
     "status": "completed"
    },
    "tags": []
   },
   "outputs": [
    {
     "data": {
      "text/html": [
       "<style>\n",
       ".list-inline {list-style: none; margin:0; padding: 0}\n",
       ".list-inline>li {display: inline-block}\n",
       ".list-inline>li:not(:last-child)::after {content: \"\\00b7\"; padding: 0 .5ex}\n",
       "</style>\n",
       "<ol class=list-inline><li>'AAACAGCCAGCATGAG-1'</li><li>'AAACAGCCAGGACCAA-1'</li><li>'AAACAGCCAGGCAAGC-1'</li><li>'AAACATGCAACTGGCT-1'</li><li>'AAACATGCACAACCTA-1'</li><li>'AAACATGCACAATGCC-1'</li></ol>\n"
      ],
      "text/latex": [
       "\\begin{enumerate*}\n",
       "\\item 'AAACAGCCAGCATGAG-1'\n",
       "\\item 'AAACAGCCAGGACCAA-1'\n",
       "\\item 'AAACAGCCAGGCAAGC-1'\n",
       "\\item 'AAACATGCAACTGGCT-1'\n",
       "\\item 'AAACATGCACAACCTA-1'\n",
       "\\item 'AAACATGCACAATGCC-1'\n",
       "\\end{enumerate*}\n"
      ],
      "text/markdown": [
       "1. 'AAACAGCCAGCATGAG-1'\n",
       "2. 'AAACAGCCAGGACCAA-1'\n",
       "3. 'AAACAGCCAGGCAAGC-1'\n",
       "4. 'AAACATGCAACTGGCT-1'\n",
       "5. 'AAACATGCACAACCTA-1'\n",
       "6. 'AAACATGCACAATGCC-1'\n",
       "\n",
       "\n"
      ],
      "text/plain": [
       "[1] \"AAACAGCCAGCATGAG-1\" \"AAACAGCCAGGACCAA-1\" \"AAACAGCCAGGCAAGC-1\"\n",
       "[4] \"AAACATGCAACTGGCT-1\" \"AAACATGCACAACCTA-1\" \"AAACATGCACAATGCC-1\""
      ]
     },
     "metadata": {},
     "output_type": "display_data"
    }
   ],
   "source": [
    "head(overlapping_barcodes)"
   ]
  },
  {
   "attachments": {},
   "cell_type": "markdown",
   "id": "bc818de7",
   "metadata": {
    "papermill": {
     "duration": 0.021549,
     "end_time": "2023-08-17T17:21:01.640061",
     "exception": false,
     "start_time": "2023-08-17T17:21:01.618512",
     "status": "completed"
    },
    "tags": []
   },
   "source": [
    "## Plot stats"
   ]
  },
  {
   "cell_type": "code",
   "execution_count": 13,
   "id": "2b03b438",
   "metadata": {
    "execution": {
     "iopub.execute_input": "2023-08-17T17:21:01.665773Z",
     "iopub.status.busy": "2023-08-17T17:21:01.663959Z",
     "iopub.status.idle": "2023-08-17T17:21:11.847170Z",
     "shell.execute_reply": "2023-08-17T17:21:11.845619Z"
    },
    "papermill": {
     "duration": 10.197775,
     "end_time": "2023-08-17T17:21:11.849044",
     "exception": false,
     "start_time": "2023-08-17T17:21:01.651269",
     "status": "completed"
    },
    "tags": []
   },
   "outputs": [
    {
     "name": "stdout",
     "output_type": "stream",
     "text": [
      "\u001b[34mMean #guides per cell\u001b[39m 2359.727"
     ]
    },
    {
     "data": {
      "image/png": "[encoded data removed]",
      "text/plain": [
       "plot without title"
      ]
     },
     "metadata": {
      "image/png": {
       "height": 420,
       "width": 420
      }
     },
     "output_type": "display_data"
    }
   ],
   "source": [
    "df_guide_counts_per_cell <- data.frame(guide_count=colSums(overlapping_guide_counts))\n",
    "mean_guides_per_cell = mean(df_guide_counts_per_cell$guide_count)\n",
    "cat(blue(\"Mean #guides per cell\"), mean_guides_per_cell)\n",
    "\n",
    "ggplot(df_guide_counts_per_cell, aes(x=guide_count)) +\n",
    "    geom_histogram(binwidth=1)"
   ]
  },
  {
   "cell_type": "code",
   "execution_count": 14,
   "id": "6fc0b538",
   "metadata": {
    "execution": {
     "iopub.execute_input": "2023-08-17T17:21:11.897142Z",
     "iopub.status.busy": "2023-08-17T17:21:11.895789Z",
     "iopub.status.idle": "2023-08-17T17:22:30.165552Z",
     "shell.execute_reply": "2023-08-17T17:22:30.164289Z"
    },
    "papermill": {
     "duration": 78.319632,
     "end_time": "2023-08-17T17:22:30.194012",
     "exception": false,
     "start_time": "2023-08-17T17:21:11.874380",
     "status": "completed"
    },
    "tags": []
   },
   "outputs": [
    {
     "name": "stderr",
     "output_type": "stream",
     "text": [
      "No id variables; using all as measure variables\n",
      "\n"
     ]
    },
    {
     "data": {
      "image/png": "[encoded data removed]",
      "text/plain": [
       "plot without title"
      ]
     },
     "metadata": {
      "image/png": {
       "height": 1200,
       "width": 1200
      }
     },
     "output_type": "display_data"
    }
   ],
   "source": [
    "library(reshape2)\n",
    "df_guide_counts_by_cell <- as.data.frame(t(overlapping_guide_counts))\n",
    "\n",
    "d <- melt(df_guide_counts_by_cell)\n",
    "d <- d[d$value > 0,]\n",
    "colnames(d) = c(\"guide_name\", \"num_guides_in_cell\")\n",
    "\n",
    "options(repr.plot.width = 20, repr.plot.height = 20)\n",
    "ggplot(d, aes(x = num_guides_in_cell)) + \n",
    "    facet_wrap(~guide_name, scales = \"free_x\") + \n",
    "    geom_histogram(binwidth=1) +\n",
    "    labs(y_label=\"count\") "
   ]
  },
  {
   "cell_type": "code",
   "execution_count": 15,
   "id": "bde51a6a",
   "metadata": {
    "execution": {
     "iopub.execute_input": "2023-08-17T17:22:30.225858Z",
     "iopub.status.busy": "2023-08-17T17:22:30.224785Z",
     "iopub.status.idle": "2023-08-17T17:22:36.958210Z",
     "shell.execute_reply": "2023-08-17T17:22:36.957118Z"
    },
    "papermill": {
     "duration": 6.7491,
     "end_time": "2023-08-17T17:22:36.959932",
     "exception": false,
     "start_time": "2023-08-17T17:22:30.210832",
     "status": "completed"
    },
    "tags": []
   },
   "outputs": [
    {
     "name": "stderr",
     "output_type": "stream",
     "text": [
      "No id variables; using all as measure variables\n",
      "\n"
     ]
    },
    {
     "name": "stderr",
     "output_type": "stream",
     "text": [
      "Warning message in geom_histogram(bin_breaks = bin_breaks):\n",
      "\u201c\u001b[1m\u001b[22mIgnoring unknown parameters: `bin_breaks`\u201d\n"
     ]
    },
    {
     "name": "stderr",
     "output_type": "stream",
     "text": [
      "\u001b[1m\u001b[22m`stat_bin()` using `bins = 30`. Pick better value with `binwidth`.\n"
     ]
    },
    {
     "data": {
      "image/png": "[encoded data removed]",
      "text/plain": [
       "plot without title"
      ]
     },
     "metadata": {
      "image/png": {
       "height": 1200,
       "width": 1200
      }
     },
     "output_type": "display_data"
    }
   ],
   "source": [
    "### Using log scales\n",
    "library(reshape2)\n",
    "library(scales)\n",
    "df_guide_counts_by_cell <- as.data.frame(t(overlapping_guide_counts))\n",
    "\n",
    "d <- melt(df_guide_counts_by_cell)\n",
    "d <- d[d$value > 0,]\n",
    "colnames(d) = c(\"guide_name\", \"num_guides_in_cell\")\n",
    "\n",
    "bin_breaks <- c(1,2,2*2^(1:16))\n",
    "\n",
    "options(repr.plot.width = 20, repr.plot.height = 20)\n",
    "ggplot(d, aes(x = num_guides_in_cell)) + \n",
    "    facet_wrap(~guide_name, scales = \"free_x\") + \n",
    "    geom_histogram(bin_breaks=bin_breaks) +\n",
    "    scale_x_log10(labels=trans_format('log10',math_format(10^.x)), breaks=c(1,10,100,1000,10000,100000)) +\n",
    "    labs(y_label=\"count\") "
   ]
  },
  {
   "attachments": {},
   "cell_type": "markdown",
   "id": "12a641b5",
   "metadata": {
    "papermill": {
     "duration": 0.017519,
     "end_time": "2023-08-17T17:22:36.992027",
     "exception": false,
     "start_time": "2023-08-17T17:22:36.974508",
     "status": "completed"
    },
    "tags": []
   },
   "source": [
    "# Demux"
   ]
  },
  {
   "attachments": {},
   "cell_type": "markdown",
   "id": "2a5f1fcc",
   "metadata": {
    "papermill": {
     "duration": 0.014068,
     "end_time": "2023-08-17T17:22:37.028777",
     "exception": false,
     "start_time": "2023-08-17T17:22:37.014709",
     "status": "completed"
    },
    "tags": []
   },
   "source": [
    "Load multiome seurat object"
   ]
  },
  {
   "cell_type": "code",
   "execution_count": 16,
   "id": "b85481a8",
   "metadata": {
    "execution": {
     "iopub.execute_input": "2023-08-17T17:22:37.066524Z",
     "iopub.status.busy": "2023-08-17T17:22:37.064589Z",
     "iopub.status.idle": "2023-08-17T17:24:16.857502Z",
     "shell.execute_reply": "2023-08-17T17:24:16.856012Z"
    },
    "papermill": {
     "duration": 99.816144,
     "end_time": "2023-08-17T17:24:16.859026",
     "exception": false,
     "start_time": "2023-08-17T17:22:37.042882",
     "status": "completed"
    },
    "tags": []
   },
   "outputs": [
    {
     "name": "stderr",
     "output_type": "stream",
     "text": [
      "Validating h5Seurat file\n",
      "\n"
     ]
    },
    {
     "name": "stderr",
     "output_type": "stream",
     "text": [
      "Loading required package: Signac\n",
      "\n"
     ]
    },
    {
     "name": "stderr",
     "output_type": "stream",
     "text": [
      "rgeos version: 0.6-3, (SVN revision 696)\n",
      " GEOS runtime version: 3.8.0-CAPI-1.13.1 \n",
      " Please note that rgeos will be retired during October 2023,\n",
      "plan transition to sf or terra functions using GEOS at your earliest convenience.\n",
      "See https://r-spatial.org/r/2023/05/15/evolution4.html for details.\n",
      " Linking to sp version: 2.0-0 \n",
      " Polygon checking: TRUE \n",
      "\n",
      "\n"
     ]
    }
   ],
   "source": [
    "if (!exists(\"seurat_all\")) {\n",
    "    seurat_all <- LoadH5Seurat(h5_name, verbose=FALSE)\n",
    "}"
   ]
  },
  {
   "cell_type": "code",
   "execution_count": 17,
   "id": "e574cbdf",
   "metadata": {
    "execution": {
     "iopub.execute_input": "2023-08-17T17:24:16.897079Z",
     "iopub.status.busy": "2023-08-17T17:24:16.895551Z",
     "iopub.status.idle": "2023-08-17T17:24:25.646907Z",
     "shell.execute_reply": "2023-08-17T17:24:25.643847Z"
    },
    "papermill": {
     "duration": 8.77276,
     "end_time": "2023-08-17T17:24:25.650096",
     "exception": false,
     "start_time": "2023-08-17T17:24:16.877336",
     "status": "completed"
    },
    "tags": []
   },
   "outputs": [],
   "source": [
    "# Select cells found in guide capture\n",
    "seurat     <- subset(seurat_all, cells = overlapping_barcodes)\n",
    "n_multiome <- length(Cells(seurat_all))"
   ]
  },
  {
   "cell_type": "code",
   "execution_count": 18,
   "id": "1dcc714b",
   "metadata": {
    "execution": {
     "iopub.execute_input": "2023-08-17T17:24:25.691121Z",
     "iopub.status.busy": "2023-08-17T17:24:25.690026Z",
     "iopub.status.idle": "2023-08-17T17:24:25.773518Z",
     "shell.execute_reply": "2023-08-17T17:24:25.772209Z"
    },
    "papermill": {
     "duration": 0.100793,
     "end_time": "2023-08-17T17:24:25.775116",
     "exception": false,
     "start_time": "2023-08-17T17:24:25.674323",
     "status": "completed"
    },
    "tags": []
   },
   "outputs": [
    {
     "name": "stderr",
     "output_type": "stream",
     "text": [
      "Warning message:\n",
      "\u201cFeature names cannot have underscores ('_'), replacing with dashes ('-')\u201d\n"
     ]
    }
   ],
   "source": [
    "# Add guide data as a new assay independent from RNA & ATAC\n",
    "seurat[[\"guidecapture\"]] <- CreateAssayObject(counts = overlapping_guide_counts)"
   ]
  },
  {
   "cell_type": "code",
   "execution_count": 19,
   "id": "a48f3021",
   "metadata": {
    "execution": {
     "iopub.execute_input": "2023-08-17T17:24:25.828935Z",
     "iopub.status.busy": "2023-08-17T17:24:25.827643Z",
     "iopub.status.idle": "2023-08-17T17:24:25.835643Z",
     "shell.execute_reply": "2023-08-17T17:24:25.834518Z"
    },
    "papermill": {
     "duration": 0.04666,
     "end_time": "2023-08-17T17:24:25.836942",
     "exception": false,
     "start_time": "2023-08-17T17:24:25.790282",
     "status": "completed"
    },
    "tags": []
   },
   "outputs": [],
   "source": [
    "# x <- GetAssayData(seurat, \"counts\")\n",
    "# cells <- colnames(x[ , colSums(x) != 0])\n",
    "# feats <- names((rowSums(x) != 0) == TRUE)\n",
    "# seurat <- seurat[feats, cells] "
   ]
  },
  {
   "cell_type": "code",
   "execution_count": 20,
   "id": "8809ef47",
   "metadata": {
    "execution": {
     "iopub.execute_input": "2023-08-17T17:24:25.885719Z",
     "iopub.status.busy": "2023-08-17T17:24:25.884626Z",
     "iopub.status.idle": "2023-08-17T17:24:26.073488Z",
     "shell.execute_reply": "2023-08-17T17:24:26.071506Z"
    },
    "papermill": {
     "duration": 0.22399,
     "end_time": "2023-08-17T17:24:26.075402",
     "exception": false,
     "start_time": "2023-08-17T17:24:25.851412",
     "status": "completed"
    },
    "tags": []
   },
   "outputs": [
    {
     "name": "stderr",
     "output_type": "stream",
     "text": [
      "Normalizing across features\n",
      "\n"
     ]
    }
   ],
   "source": [
    "# Normalize guide data, here we use centered log-ratio (CLR) transformation\n",
    "seurat <- NormalizeData(seurat, assay = \"guidecapture\", normalization.method = \"CLR\")"
   ]
  },
  {
   "cell_type": "markdown",
   "id": "b83f6ed1",
   "metadata": {
    "tags": [
     "papermill-error-cell-tag"
    ]
   },
   "source": [
    "<span id=\"papermill-error-cell\" style=\"color:red; font-family:Helvetica Neue, Helvetica, Arial, sans-serif; font-size:2em;\">Execution using papermill encountered an exception here and stopped:</span>"
   ]
  },
  {
   "cell_type": "code",
   "execution_count": 21,
   "id": "05b9c1e0",
   "metadata": {
    "execution": {
     "iopub.execute_input": "2023-08-17T17:24:26.113745Z",
     "iopub.status.busy": "2023-08-17T17:24:26.112229Z",
     "iopub.status.idle": "2023-08-17T17:24:34.341271Z",
     "shell.execute_reply": "2023-08-17T17:24:34.340052Z"
    },
    "papermill": {
     "duration": 8.250517,
     "end_time": "2023-08-17T17:24:34.342659",
     "exception": true,
     "start_time": "2023-08-17T17:24:26.092142",
     "status": "failed"
    },
    "tags": []
   },
   "outputs": [
    {
     "ename": "ERROR",
     "evalue": "Error in HTODemux(seurat, assay = \"guidecapture\", positive.quantile = 0.99, : Cells with zero counts exist as a cluster.\n",
     "output_type": "error",
     "traceback": [
      "Error in HTODemux(seurat, assay = \"guidecapture\", positive.quantile = 0.99, : Cells with zero counts exist as a cluster.\nTraceback:\n",
      "1. HTODemux(seurat, assay = \"guidecapture\", positive.quantile = 0.99, \n .     seed = 85253310)",
      "2. stop(\"Cells with zero counts exist as a cluster.\")"
     ]
    }
   ],
   "source": [
    "seurat <- HTODemux(seurat, assay = \"guidecapture\", positive.quantile = 0.99, seed = 85253310)"
   ]
  },
  {
   "cell_type": "code",
   "execution_count": null,
   "id": "4d38095b",
   "metadata": {
    "papermill": {
     "duration": null,
     "end_time": null,
     "exception": null,
     "start_time": null,
     "status": "pending"
    },
    "tags": []
   },
   "outputs": [],
   "source": [
    "unique(seurat$guidecapture_secondID)"
   ]
  },
  {
   "attachments": {},
   "cell_type": "markdown",
   "id": "7df22c41",
   "metadata": {
    "papermill": {
     "duration": null,
     "end_time": null,
     "exception": null,
     "start_time": null,
     "status": "pending"
    },
    "tags": []
   },
   "source": [
    "# Visualize"
   ]
  },
  {
   "cell_type": "code",
   "execution_count": null,
   "id": "169a3776",
   "metadata": {
    "papermill": {
     "duration": null,
     "end_time": null,
     "exception": null,
     "start_time": null,
     "status": "pending"
    },
    "tags": []
   },
   "outputs": [],
   "source": [
    "if (!exists(\"seurat\")) {\n",
    "    seurat <- LoadH5Seurat(h5_w_gcap_name)\n",
    "}"
   ]
  },
  {
   "cell_type": "code",
   "execution_count": null,
   "id": "91736ec0",
   "metadata": {
    "papermill": {
     "duration": null,
     "end_time": null,
     "exception": null,
     "start_time": null,
     "status": "pending"
    },
    "tags": []
   },
   "outputs": [],
   "source": [
    "# Global classification results\n",
    "n_cells <- length(seurat$guidecapture_classification.global)\n",
    "demux_counts      <- table(seurat$guidecapture_classification.global)\n",
    "demux_percentages <- round(demux_counts/n_cells, 2)\n",
    "\n",
    "demux_counts\n",
    "demux_percentages\n",
    "\n",
    "n_doublets <- demux_counts[[\"Doublet\"]]\n",
    "n_singlets <- demux_counts[[\"Singlet\"]]\n",
    "\n",
    "capture_efficiency_1 <- 100*(n_doublets + n_singlets) / n_multiome\n",
    "paste(\"Capture efficiency% = \", round(capture_efficiency_1), \"( norm by\", n_multiome, \")\")\n",
    "\n",
    "#capture_efficiency_2 <- 100 * (n_doublets + n_singlets) / n_all_overlapping\n",
    "#paste(\"Capture efficiency%\", round(capture_efficiency_2), \"( norm by\", n_all_overlapping, \")\")"
   ]
  },
  {
   "cell_type": "code",
   "execution_count": null,
   "id": "1e9424e3",
   "metadata": {
    "papermill": {
     "duration": null,
     "end_time": null,
     "exception": null,
     "start_time": null,
     "status": "pending"
    },
    "tags": []
   },
   "outputs": [],
   "source": [
    "length(Cells(seurat))"
   ]
  },
  {
   "cell_type": "code",
   "execution_count": null,
   "id": "8cf1baca",
   "metadata": {
    "papermill": {
     "duration": null,
     "end_time": null,
     "exception": null,
     "start_time": null,
     "status": "pending"
    },
    "tags": []
   },
   "outputs": [],
   "source": [
    "# Group cells based on the max HTO signal\n",
    "guide_names <- rownames(seurat[[\"guidecapture\"]])\n",
    "num_pcs     <- length(guide_names)"
   ]
  },
  {
   "cell_type": "code",
   "execution_count": null,
   "id": "15c7c391",
   "metadata": {
    "papermill": {
     "duration": null,
     "end_time": null,
     "exception": null,
     "start_time": null,
     "status": "pending"
    },
    "tags": []
   },
   "outputs": [],
   "source": [
    "options(repr.plot.width = 30, repr.plot.height = 60)\n",
    "tf_list <- tfs_to_plot\n",
    "\n",
    "Idents(seurat) <- \"guidecapture_classification\"\n",
    "\n",
    "RidgePlot(\n",
    "    seurat,\n",
    "    assay = \"guidecapture\",\n",
    "    features = guide_names,\n",
    "    slot=\"counts\",\n",
    "    ncol = 4\n",
    ") + plot_annotation(title = \"Raw guide counts\") & theme(plot.title = element_text(hjust = 0.5, size = 20))\n",
    "\n",
    "RidgePlot(\n",
    "    seurat,\n",
    "    assay = \"guidecapture\",\n",
    "    features = guide_names,\n",
    "    ncol = 4\n",
    ") + plot_annotation(title = \"Normalized guide counts\") & theme(plot.title = element_text(hjust = 0.5, size = 20))\n",
    "\n",
    "RidgePlot(\n",
    "    seurat,\n",
    "    assay = \"SCT\",\n",
    "    features = tf_list,\n",
    "    ncol = 4,\n",
    "    y.max = .5\n",
    ")+ plot_annotation(title = \"Normalized transcript counts\") & theme(plot.title = element_text(hjust = 0.5, size = 20))"
   ]
  },
  {
   "cell_type": "code",
   "execution_count": null,
   "id": "30b547f2",
   "metadata": {
    "papermill": {
     "duration": null,
     "end_time": null,
     "exception": null,
     "start_time": null,
     "status": "pending"
    },
    "tags": []
   },
   "outputs": [],
   "source": [
    "VlnPlot(\n",
    "    seurat,\n",
    "    assay = \"guidecapture\",\n",
    "    features = guide_names,\n",
    "    slot=\"counts\",\n",
    "    ncol = 4\n",
    ") + plot_annotation(title = \"Raw guide counts\", \n",
    "                    theme = theme(plot.title = element_text(hjust = 0.5, size = 20)))\n"
   ]
  },
  {
   "cell_type": "code",
   "execution_count": null,
   "id": "3d94f7aa",
   "metadata": {
    "papermill": {
     "duration": null,
     "end_time": null,
     "exception": null,
     "start_time": null,
     "status": "pending"
    },
    "tags": []
   },
   "outputs": [],
   "source": [
    "# FeatureScatter(seurat, feature1 = \"GATA5\", feature2 = \"MEOX1\")\n",
    "# FeatureScatter(seurat, feature1 = \"GATA5\", feature2 = \"NEUROG2\")\n",
    "# FeatureScatter(seurat, feature1 = \"MEOX1\", feature2 = \"NEUROG2\")"
   ]
  },
  {
   "cell_type": "code",
   "execution_count": null,
   "id": "d92de77c",
   "metadata": {
    "papermill": {
     "duration": null,
     "end_time": null,
     "exception": null,
     "start_time": null,
     "status": "pending"
    },
    "tags": []
   },
   "outputs": [],
   "source": [
    "options(repr.plot.width = 20, repr.plot.height = 8)\n",
    "Idents(seurat) <- \"guidecapture_classification.global\"\n",
    "VlnPlot(seurat, features = \"nCount_RNA\", pt.size = 0.1, log = TRUE)"
   ]
  },
  {
   "cell_type": "code",
   "execution_count": null,
   "id": "b15299b4",
   "metadata": {
    "papermill": {
     "duration": null,
     "end_time": null,
     "exception": null,
     "start_time": null,
     "status": "pending"
    },
    "tags": []
   },
   "outputs": [],
   "source": [
    "# First, we will remove negative cells from the object\n",
    "seurat_subset <- subset(seurat, idents = \"Negative\", invert = TRUE)\n",
    "\n",
    "# Calculate a tSNE embedding of the HTO data\n",
    "DefaultAssay(seurat_subset) <- \"guidecapture\""
   ]
  },
  {
   "cell_type": "code",
   "execution_count": null,
   "id": "9d86d5d0",
   "metadata": {
    "papermill": {
     "duration": null,
     "end_time": null,
     "exception": null,
     "start_time": null,
     "status": "pending"
    },
    "tags": []
   },
   "outputs": [],
   "source": [
    "\n",
    "seurat_subset <-\n",
    "    ScaleData(seurat_subset, features = guide_names, verbose = FALSE)\n",
    "\n",
    "# seurat_subset <- RunPCA(\n",
    "#     seurat_subset,\n",
    "#     npcs = num_pcs,\n",
    "#     ndims.print = 1:num_pcs,\n",
    "#     features = guide_names,\n",
    "#     approx = FALSE\n",
    "# )\n",
    "\n",
    "# seurat_subset <-\n",
    "#     RunTSNE(\n",
    "#         seurat_subset,\n",
    "#         dims = 1:num_pcs,\n",
    "#         perplexity = 100,\n",
    "#         check_duplicates = FALSE\n",
    "#     )\n",
    "\n",
    "# seurat_subset <-\n",
    "#     RunUMAP(seurat_subset, dims = 1:num_pcs)\n",
    "\n",
    "#DimPlot(seurat_subset, reduction = \"tsne\")"
   ]
  },
  {
   "cell_type": "code",
   "execution_count": null,
   "id": "9789fa3e",
   "metadata": {
    "papermill": {
     "duration": null,
     "end_time": null,
     "exception": null,
     "start_time": null,
     "status": "pending"
    },
    "tags": []
   },
   "outputs": [],
   "source": [
    "HTOHeatmap(seurat, assay = \"guidecapture\")"
   ]
  },
  {
   "cell_type": "code",
   "execution_count": null,
   "id": "602b68a2",
   "metadata": {
    "papermill": {
     "duration": null,
     "end_time": null,
     "exception": null,
     "start_time": null,
     "status": "pending"
    },
    "tags": []
   },
   "outputs": [],
   "source": [
    "SaveH5Seurat(seurat, h5_w_gcap_name, overwrite = TRUE, verbose = FALSE)"
   ]
  },
  {
   "attachments": {},
   "cell_type": "markdown",
   "id": "6fdc2006",
   "metadata": {
    "papermill": {
     "duration": null,
     "end_time": null,
     "exception": null,
     "start_time": null,
     "status": "pending"
    },
    "tags": []
   },
   "source": [
    "# Inspect results"
   ]
  },
  {
   "cell_type": "code",
   "execution_count": null,
   "id": "2dfeb70d",
   "metadata": {
    "papermill": {
     "duration": null,
     "end_time": null,
     "exception": null,
     "start_time": null,
     "status": "pending"
    },
    "tags": []
   },
   "outputs": [],
   "source": [
    "# Label each cell with the number of guides detected in it by HTOdemux\n",
    "seurat$perturb_targets_detected_in_cell <- colSums(sapply(seurat$guidecapture_classification, str_detect, tfs_w_ntctl))"
   ]
  },
  {
   "cell_type": "code",
   "execution_count": null,
   "id": "da115cbf",
   "metadata": {
    "papermill": {
     "duration": null,
     "end_time": null,
     "exception": null,
     "start_time": null,
     "status": "pending"
    },
    "tags": []
   },
   "outputs": [],
   "source": [
    "# Split the surat obj into singlets, doublets, negatives\n",
    "# Singlets have only one target gene detected, but can have both guides targeting it.\n",
    "seurat_negatives <- subset(seurat, idents = \"Negative\")\n",
    "seurat_singlets  <- subset(seurat, perturb_targets_detected_in_cell == 1)\n",
    "seurat_doublets  <- subset(seurat, perturb_targets_detected_in_cell > 1)"
   ]
  },
  {
   "cell_type": "code",
   "execution_count": null,
   "id": "437e35be",
   "metadata": {
    "papermill": {
     "duration": null,
     "end_time": null,
     "exception": null,
     "start_time": null,
     "status": "pending"
    },
    "tags": []
   },
   "outputs": [],
   "source": [
    "# Assign the target gene name to singlets\n",
    "x <- seurat_singlets$guidecapture_classification\n",
    "target_assignments = sapply(tfs_w_ntctl, function(y) grep(y,x))\n",
    "\n",
    "empty_vec = vector(\"character\", length(x))\n",
    "for(tf in names(target_assignments)) {\n",
    "    indexes = target_assignments[[tf]]\n",
    "    empty_vec[indexes] = tf\n",
    "}"
   ]
  },
  {
   "cell_type": "code",
   "execution_count": null,
   "id": "e138992a",
   "metadata": {
    "papermill": {
     "duration": null,
     "end_time": null,
     "exception": null,
     "start_time": null,
     "status": "pending"
    },
    "tags": []
   },
   "outputs": [],
   "source": [
    "Idents(seurat_singlets) <- empty_vec\n",
    "Idents(seurat_doublets) <- seurat_doublets@meta.data$guidecapture_classification"
   ]
  },
  {
   "attachments": {},
   "cell_type": "markdown",
   "id": "648a5745",
   "metadata": {
    "papermill": {
     "duration": null,
     "end_time": null,
     "exception": null,
     "start_time": null,
     "status": "pending"
    },
    "tags": []
   },
   "source": [
    "### Singlets"
   ]
  },
  {
   "cell_type": "code",
   "execution_count": null,
   "id": "7bbb7a9a",
   "metadata": {
    "papermill": {
     "duration": null,
     "end_time": null,
     "exception": null,
     "start_time": null,
     "status": "pending"
    },
    "tags": []
   },
   "outputs": [],
   "source": [
    "singlet_barcodes <- Cells(seurat_singlets)\n",
    "select_singlets  <- df_guide$barcode_dash %in% singlet_barcodes\n",
    "df_singlets      <- df_guide[select_singlets, ]"
   ]
  },
  {
   "cell_type": "code",
   "execution_count": null,
   "id": "66b147de",
   "metadata": {
    "papermill": {
     "duration": null,
     "end_time": null,
     "exception": null,
     "start_time": null,
     "status": "pending"
    },
    "tags": []
   },
   "outputs": [],
   "source": [
    "options(repr.plot.width = 16, repr.plot.height = 6)\n",
    "\n",
    "plot_n_guides <- ggplot(df_singlets, aes(x = n_guides)) +\n",
    "    geom_histogram(binwidth = 1) +\n",
    "    labs(title = \"Singlets, guide counts\", x = \"#guides captured\") +\n",
    "    labs(y = \"#cells\")\n",
    "\n",
    "plot_dominant <- ggplot(df_singlets, aes(x = percent_dominant_gene)) +\n",
    "    geom_histogram(binwidth = 1) +\n",
    "    labs(title = \"Singlets, %dominant gene\", x = \"%dominant gene\") +\n",
    "    labs(y = \"#cells\")\n",
    "\n",
    "plot_n_guides | plot_dominant"
   ]
  },
  {
   "attachments": {},
   "cell_type": "markdown",
   "id": "ac33a5c5",
   "metadata": {
    "papermill": {
     "duration": null,
     "end_time": null,
     "exception": null,
     "start_time": null,
     "status": "pending"
    },
    "tags": []
   },
   "source": [
    "### Negatives"
   ]
  },
  {
   "cell_type": "code",
   "execution_count": null,
   "id": "62a7737e",
   "metadata": {
    "papermill": {
     "duration": null,
     "end_time": null,
     "exception": null,
     "start_time": null,
     "status": "pending"
    },
    "tags": []
   },
   "outputs": [],
   "source": [
    "negative_barcodes <- Cells(seurat_negatives)\n",
    "select_negatives  <- df_guide$barcode_dash %in% negative_barcodes\n",
    "df_negatives      <- df_guide[select_negatives, ]"
   ]
  },
  {
   "cell_type": "code",
   "execution_count": null,
   "id": "bcb33f95",
   "metadata": {
    "papermill": {
     "duration": null,
     "end_time": null,
     "exception": null,
     "start_time": null,
     "status": "pending"
    },
    "tags": []
   },
   "outputs": [],
   "source": [
    "options(repr.plot.width = 16, repr.plot.height = 6)\n",
    "\n",
    "plot_n_guides <- ggplot(df_negatives, aes(x = n_guides)) +\n",
    "    geom_histogram(binwidth = 1) +\n",
    "    labs(title = \"Negatives, guide counts\", x = \"#guides captured\") +\n",
    "    labs(y = \"#cells\")\n",
    "\n",
    "plot_dominant <- ggplot(df_negatives, aes(x = percent_dominant_gene)) +\n",
    "    geom_histogram(binwidth = 1) +\n",
    "    labs(title = \"Negatives, %dominant gene\", x = \"%dominant gene\") +\n",
    "    labs(y = \"#cells\")\n",
    "\n",
    "plot_n_guides | plot_dominant"
   ]
  },
  {
   "cell_type": "code",
   "execution_count": null,
   "id": "fa7edb2d",
   "metadata": {
    "papermill": {
     "duration": null,
     "end_time": null,
     "exception": null,
     "start_time": null,
     "status": "pending"
    },
    "tags": []
   },
   "outputs": [],
   "source": [
    "sample_n(df_negatives, 10)"
   ]
  },
  {
   "cell_type": "code",
   "execution_count": null,
   "id": "728d6490",
   "metadata": {
    "papermill": {
     "duration": null,
     "end_time": null,
     "exception": null,
     "start_time": null,
     "status": "pending"
    },
    "tags": []
   },
   "outputs": [],
   "source": [
    "#hist(df_singlets$GATA5)"
   ]
  },
  {
   "cell_type": "code",
   "execution_count": null,
   "id": "6e0f501a",
   "metadata": {
    "papermill": {
     "duration": null,
     "end_time": null,
     "exception": null,
     "start_time": null,
     "status": "pending"
    },
    "tags": []
   },
   "outputs": [],
   "source": [
    "library(cluster)\n",
    "library(fitdistrplus)\n",
    "\n",
    "MaxN <- function(x, N = 2){\n",
    "  len <- length(x)\n",
    "  if (N > len) {\n",
    "    warning('N greater than length(x).  Setting N=length(x)')\n",
    "    N <- length(x)\n",
    "  }\n",
    "  sort(x, partial = len - N + 1)[len - N + 1]\n",
    "}\n",
    "\n",
    "myHTODemux <- function(\n",
    "  object,\n",
    "  assay = \"HTO\",\n",
    "  positive.quantile = 0.99,\n",
    "  init = NULL,\n",
    "  nstarts = 100,\n",
    "  kfunc = \"clara\",\n",
    "  nsamples = 100,\n",
    "  seed = 42,\n",
    "  verbose = TRUE\n",
    ") {\n",
    "  if (!is.null(x = seed)) {\n",
    "    set.seed(seed = seed)\n",
    "  }\n",
    "  #initial clustering\n",
    "  assay <- assay %||% DefaultAssay(object = object)\n",
    "  data <- GetAssayData(object = object, assay = assay)\n",
    "  counts <- GetAssayData(\n",
    "    object = object,\n",
    "    assay = assay,\n",
    "    slot = 'counts'\n",
    "  )[, colnames(x = object)]\n",
    "  counts <- as.matrix(x = counts)\n",
    "  ncenters <- init %||% (nrow(x = data) + 1)\n",
    "  switch(\n",
    "    EXPR = kfunc,\n",
    "    'kmeans' = {\n",
    "      init.clusters <- kmeans(\n",
    "        x = t(x = GetAssayData(object = object, assay = assay)),\n",
    "        centers = ncenters,\n",
    "        nstart = nstarts\n",
    "      )\n",
    "      #identify positive and negative signals for all HTO\n",
    "      Idents(object = object, cells = names(x = init.clusters$cluster)) <- init.clusters$cluster\n",
    "    },\n",
    "    'clara' = {\n",
    "      #use fast k-medoid clustering\n",
    "      init.clusters <- clara(\n",
    "        x = t(x = GetAssayData(object = object, assay = assay)),\n",
    "        k = ncenters,\n",
    "        samples = nsamples\n",
    "      )\n",
    "      #identify positive and negative signals for all HTO\n",
    "      Idents(object = object, cells = names(x = init.clusters$clustering), drop = TRUE) <- init.clusters$clustering\n",
    "    },\n",
    "    stop(\"Unknown k-means function \", kfunc, \", please choose from 'kmeans' or 'clara'\")\n",
    "  )\n",
    "  #average hto signals per cluster\n",
    "  #work around so we don't average all the RNA levels which takes time\n",
    "  average.expression <- AverageExpression(\n",
    "    object = object,\n",
    "    assays = assay,\n",
    "    verbose = FALSE\n",
    "  )[[assay]]\n",
    "  #checking for any cluster with all zero counts for any barcode\n",
    "  if (sum(average.expression == 0) > 0) {\n",
    "    stop(\"Cells with zero counts exist as a cluster.\")\n",
    "  }\n",
    "  #create a matrix to store classification result\n",
    "  discrete <- GetAssayData(object = object, assay = assay)\n",
    "  discrete[discrete > 0] <- 0\n",
    "  # for each HTO, we will use the minimum cluster for fitting\n",
    "  for (iter in rownames(x = data)) {\n",
    "    values <- counts[iter, colnames(object)]\n",
    "    #commented out if we take all but the top cluster as background\n",
    "    #values_negative=values[setdiff(object@cell.names,WhichCells(object,which.max(average.expression[iter,])))]\n",
    "    values.use <- values[WhichCells(\n",
    "      object = object,\n",
    "      idents = levels(x = Idents(object = object))[[which.min(x = average.expression[iter, ])]]\n",
    "    )]\n",
    "    fit <- suppressWarnings(expr = fitdist(data = values.use, distr = \"nbinom\"))\n",
    "    cutoff <- as.numeric(x = quantile(x = fit, probs = positive.quantile)$quantiles[1])\n",
    "    discrete[iter, names(x = which(x = values > cutoff))] <- 1\n",
    "    if (verbose) {\n",
    "      message(paste0(\"Cutoff for \", iter, \" : \", cutoff, \" reads\"))\n",
    "    }\n",
    "  }\n",
    "  # now assign cells to HTO based on discretized values\n",
    "  npositive <- colSums(x = discrete)\n",
    "  classification.global <- npositive\n",
    "  classification.global[npositive == 0] <- \"Negative\"\n",
    "  classification.global[npositive == 1] <- \"Singlet\"\n",
    "  classification.global[npositive > 1] <- \"Doublet\"\n",
    "  donor.id = rownames(x = data)\n",
    "  hash.max <- apply(X = data, MARGIN = 2, FUN = max)\n",
    "  hash.maxID <- apply(X = data, MARGIN = 2, FUN = which.max)\n",
    "  hash.second <- apply(X = data, MARGIN = 2, FUN = MaxN, N = 2)\n",
    "  hash.maxID <- as.character(x = donor.id[sapply(\n",
    "    X = 1:ncol(x = data),\n",
    "    FUN = function(x) {\n",
    "      return(which(x = data[, x] == hash.max[x])[1])\n",
    "    }\n",
    "  )])\n",
    "  hash.secondID <- as.character(x = donor.id[sapply(\n",
    "    X = 1:ncol(x = data),\n",
    "    FUN = function(x) {\n",
    "      return(which(x = data[, x] == hash.second[x])[1])\n",
    "    }\n",
    "  )])\n",
    "  hash.margin <- hash.max - hash.second\n",
    "  doublet_id <- sapply(\n",
    "    X = 1:length(x = hash.maxID),\n",
    "    FUN = function(x) {\n",
    "      return(paste(sort(x = c(hash.maxID[x], hash.secondID[x])), collapse = \"_\"))\n",
    "    }\n",
    "  )\n",
    "  # doublet_names <- names(x = table(doublet_id))[-1] # Not used\n",
    "  classification <- classification.global\n",
    "  classification[classification.global == \"Negative\"] <- \"Negative\"\n",
    "  classification[classification.global == \"Singlet\"] <- hash.maxID[which(x = classification.global == \"Singlet\")]\n",
    "  classification[classification.global == \"Doublet\"] <- doublet_id[which(x = classification.global == \"Doublet\")]\n",
    "  classification.metadata <- data.frame(\n",
    "    hash.maxID,\n",
    "    hash.secondID,\n",
    "    hash.margin,\n",
    "    classification,\n",
    "    classification.global\n",
    "  )\n",
    "  colnames(x = classification.metadata) <- paste(\n",
    "    assay,\n",
    "    c('maxID', 'secondID', 'margin', 'classification', 'classification.global'),\n",
    "    sep = '_'\n",
    "  )\n",
    "  object <- AddMetaData(object = object, metadata = classification.metadata)\n",
    "  Idents(object) <- paste0(assay, '_classification')\n",
    "  # Idents(object, cells = rownames(object@meta.data[object@meta.data$classification.global == \"Doublet\", ])) <- \"Doublet\"\n",
    "  doublets <- rownames(x = object[[]])[which(object[[paste0(assay, \"_classification.global\")]] == \"Doublet\")]\n",
    "  Idents(object = object, cells = doublets) <- 'Doublet'\n",
    "  # object@meta.data$hash.ID <- Idents(object)\n",
    "  object$hash.ID <- Idents(object = object)\n",
    "  return(discrete)\n",
    "}\n"
   ]
  },
  {
   "cell_type": "code",
   "execution_count": null,
   "id": "b5b48ef4",
   "metadata": {
    "papermill": {
     "duration": null,
     "end_time": null,
     "exception": null,
     "start_time": null,
     "status": "pending"
    },
    "tags": []
   },
   "outputs": [],
   "source": [
    "seurat_alt <- subset(seurat, cells = Cells(seurat))\n",
    "disc <- myHTODemux(seurat_alt, assay = \"guidecapture\", positive.quantile = 0.99)"
   ]
  },
  {
   "attachments": {},
   "cell_type": "markdown",
   "id": "37dc14cb",
   "metadata": {
    "papermill": {
     "duration": null,
     "end_time": null,
     "exception": null,
     "start_time": null,
     "status": "pending"
    },
    "tags": []
   },
   "source": [
    "# Visualize guides by clusters"
   ]
  },
  {
   "attachments": {},
   "cell_type": "markdown",
   "id": "e6a294d3",
   "metadata": {
    "papermill": {
     "duration": null,
     "end_time": null,
     "exception": null,
     "start_time": null,
     "status": "pending"
    },
    "tags": []
   },
   "source": [
    "## Singlets only"
   ]
  },
  {
   "cell_type": "code",
   "execution_count": null,
   "id": "621e196d",
   "metadata": {
    "papermill": {
     "duration": null,
     "end_time": null,
     "exception": null,
     "start_time": null,
     "status": "pending"
    },
    "tags": []
   },
   "outputs": [],
   "source": [
    "options(repr.plot.width = 23, repr.plot.height = 8)\n",
    "#Idents(seurat_singlets) <- seurat_singlets@meta.data$guidecapture_classification\n",
    "\n",
    "p1 <- DimPlot(seurat_singlets, reduction = \"umap.rna\", label = TRUE, label.size = 6, repel = TRUE) + ggtitle(\"RNA\")\n",
    "p2 <- DimPlot(seurat_singlets, reduction = \"umap.atac\", label = TRUE, label.size = 6, repel = TRUE) + ggtitle(\"ATAC\")\n",
    "p3 <- DimPlot(seurat_singlets, reduction = \"wnn.umap\", label = TRUE, label.size = 6, repel = TRUE) + ggtitle(\"WNN\")\n",
    "p1 + p2 + p3 & plot_annotation(title = \"Guide Capture, singlets\") & \n",
    "theme(plot.title = element_text(hjust = 0.5, size = 20)) +\n",
    "theme(axis.title = element_text(size = 18))   "
   ]
  },
  {
   "cell_type": "code",
   "execution_count": null,
   "id": "86f70c9e",
   "metadata": {
    "papermill": {
     "duration": null,
     "end_time": null,
     "exception": null,
     "start_time": null,
     "status": "pending"
    },
    "tags": []
   },
   "outputs": [],
   "source": [
    "options(repr.plot.width = 70, repr.plot.height = 20)\n",
    "p1 <- DimPlot(seurat_doublets, reduction = \"umap.rna\", label = FALSE, label.size = 6) + ggtitle(\"RNA\")\n",
    "p2 <- DimPlot(seurat_doublets, reduction = \"umap.atac\", label = FALSE, label.size = 6) + ggtitle(\"ATAC\")\n",
    "p1 + p2 & plot_annotation(title = \"Guide Capture, doublets\") &\n",
    "theme(plot.title = element_text(hjust = 0.5, size = 20))\n",
    "\n",
    "#p3 <- DimPlot(seurat_doublets, reduction = \"wnn.umap\", label = TRUE, label.size = 6, repel = TRUE) + ggtitle(\"WNN\")"
   ]
  },
  {
   "cell_type": "code",
   "execution_count": null,
   "id": "78a4643b",
   "metadata": {
    "papermill": {
     "duration": null,
     "end_time": null,
     "exception": null,
     "start_time": null,
     "status": "pending"
    },
    "tags": []
   },
   "outputs": [],
   "source": [
    "options(repr.plot.width = 54, repr.plot.height = 45)\n",
    "tf_list <- tfs_to_plot\n",
    "\n",
    "FeaturePlot(\n",
    "    seurat_singlets,\n",
    "    features = tf_list, \n",
    "    split.by = 'ident', \n",
    "    reduction = 'umap.rna', \n",
    "    cols = c(\"grey\", \"red\"),\n",
    "    keep.scale = \"feature\"\n",
    ")"
   ]
  },
  {
   "cell_type": "code",
   "execution_count": null,
   "id": "c6143bdf",
   "metadata": {
    "papermill": {
     "duration": null,
     "end_time": null,
     "exception": null,
     "start_time": null,
     "status": "pending"
    },
    "tags": []
   },
   "outputs": [],
   "source": [
    "options(repr.plot.width = 36, repr.plot.height = 12)\n",
    "guide_list <- gsub(\"_\", \"-\", guides_to_plot)\n",
    "DefaultAssay(seurat_singlets) <- \"guidecapture\"\n",
    "\n",
    "FeaturePlot(\n",
    "    seurat_singlets,\n",
    "    features = guide_list,\n",
    "    reduction = 'umap.rna',\n",
    "    cols = c(\"grey\", \"red\"),\n",
    "    keep.scale = \"feature\",\n",
    "    ncol = length(guide_list)/2\n",
    ") +\n",
    "plot_annotation(title = \"Guide Capture, singlets\") &\n",
    "theme(plot.title = element_text(hjust = 0.5, size = 20))\n",
    "\n",
    "options(repr.plot.width = 50, repr.plot.height = 6)\n",
    "tf_list <- c(tfs_to_plot, \"POU5F1\")\n",
    "DefaultAssay(seurat_singlets) <- \"SCT\"\n",
    "FeaturePlot(\n",
    "    seurat_singlets,\n",
    "    features = tf_list,\n",
    "    reduction = 'umap.rna',\n",
    "    cols = c(\"grey\", \"red\"),\n",
    "    keep.scale = \"feature\",\n",
    "    ncol = length(tf_list)\n",
    ") +\n",
    "plot_annotation(title = \"RNA, singlets\") &\n",
    "theme(plot.title = element_text(hjust = 0.5, size = 20))\n",
    "\n"
   ]
  },
  {
   "cell_type": "code",
   "execution_count": null,
   "id": "a7c1ea8e",
   "metadata": {
    "papermill": {
     "duration": null,
     "end_time": null,
     "exception": null,
     "start_time": null,
     "status": "pending"
    },
    "tags": []
   },
   "outputs": [],
   "source": [
    "tfs_to_plot"
   ]
  },
  {
   "cell_type": "code",
   "execution_count": null,
   "id": "22770111",
   "metadata": {
    "papermill": {
     "duration": null,
     "end_time": null,
     "exception": null,
     "start_time": null,
     "status": "pending"
    },
    "tags": []
   },
   "outputs": [],
   "source": [
    "library(patchwork)\n",
    "options(repr.plot.width = 32, repr.plot.height = 12)\n",
    "tf_list <- tfs_to_plot\n",
    "guide_list <- gsub(\"_\", \"-\", guides_to_plot)\n",
    "\n",
    "DefaultAssay(seurat_singlets) <- \"guidecapture\"\n",
    "FeaturePlot(\n",
    "    seurat_singlets,\n",
    "    features = guide_list,\n",
    "    reduction = 'umap.atac',\n",
    "    cols = c(\"grey\", \"red\"),\n",
    "    keep.scale = \"all\",\n",
    "    ncol = length(guide_list)/2\n",
    ") +\n",
    "plot_annotation(title = \"Guide Capture\") &\n",
    "theme(plot.title = element_text(hjust = 0.5, size = 20))\n",
    "\n",
    "FeaturePlot(\n",
    "    seurat_singlets,\n",
    "    features =guide_list,\n",
    "    reduction = 'umap.rna',\n",
    "    cols = c(\"grey\", \"red\"),\n",
    "    keep.scale = \"all\",\n",
    "    ncol = length(guide_list)/2\n",
    ") +\n",
    "plot_annotation(title = \"Guide Capture\") &\n",
    "theme(plot.title = element_text(hjust = 0.5, size = 20))\n",
    "\n",
    "FeaturePlot(\n",
    "    seurat_singlets,\n",
    "    features = guide_list,\n",
    "    reduction = 'wnn.umap',\n",
    "    cols = c(\"grey\", \"red\"),\n",
    "    keep.scale = \"all\",\n",
    "    ncol = length(guide_list)/2\n",
    ") +\n",
    "plot_annotation(title = \"Guide Capture\") &\n",
    "theme(plot.title = element_text(hjust = 0.5, size = 20))\n",
    "\n"
   ]
  },
  {
   "cell_type": "code",
   "execution_count": null,
   "id": "3dd42c89",
   "metadata": {
    "papermill": {
     "duration": null,
     "end_time": null,
     "exception": null,
     "start_time": null,
     "status": "pending"
    },
    "tags": []
   },
   "outputs": [],
   "source": [
    "\n",
    "options(repr.plot.width = 50, repr.plot.height = 12)\n",
    "tf_list <- tfs_to_plot\n",
    "DefaultAssay(seurat_singlets) <- \"SCT\"\n",
    "\n",
    "FeaturePlot(\n",
    "    seurat_singlets,\n",
    "    features = tf_list,\n",
    "    reduction = 'umap.rna',\n",
    "    cols = c(\"grey\", \"red\"),\n",
    "    keep.scale = \"all\",\n",
    "    ncol = length(tf_list)\n",
    ") +\n",
    "plot_annotation(title = \"RNA\") &\n",
    "theme(plot.title = element_text(hjust = 0.5, size = 20))\n",
    "\n",
    "FeaturePlot(\n",
    "    seurat_singlets,\n",
    "    features = tf_list,\n",
    "    reduction = 'umap.atac',\n",
    "    cols = c(\"grey\", \"red\"),\n",
    "    keep.scale = \"all\",\n",
    "    ncol = length(tf_list)\n",
    ") +\n",
    "plot_annotation(title = \"RNA\") &\n",
    "theme(plot.title = element_text(hjust = 0.5, size = 20))\n",
    "\n",
    "FeaturePlot(\n",
    "    seurat_singlets,\n",
    "    features = tf_list,\n",
    "    reduction = 'wnn.umap',\n",
    "    cols = c(\"grey\", \"red\"),\n",
    "    keep.scale = \"all\",\n",
    "    ncol = length(tf_list)\n",
    ") +\n",
    "plot_annotation(title = \"RNA\") &\n",
    "theme(plot.title = element_text(hjust = 0.5, size = 20))"
   ]
  },
  {
   "attachments": {},
   "cell_type": "markdown",
   "id": "0b69d9e3",
   "metadata": {
    "papermill": {
     "duration": null,
     "end_time": null,
     "exception": null,
     "start_time": null,
     "status": "pending"
    },
    "tags": []
   },
   "source": [
    "## Doublets only"
   ]
  },
  {
   "cell_type": "code",
   "execution_count": null,
   "id": "78940263",
   "metadata": {
    "papermill": {
     "duration": null,
     "end_time": null,
     "exception": null,
     "start_time": null,
     "status": "pending"
    },
    "tags": []
   },
   "outputs": [],
   "source": [
    "options(repr.plot.width = 8, repr.plot.height = 8)\n",
    "\n",
    "Idents(seurat_doublets) <- seurat_doublets@meta.data$guidecapture_classification\n",
    "\n",
    "plot <- DimPlot(\n",
    "    seurat_doublets,\n",
    "    reduction = \"umap.rna\"\n",
    ")\n",
    "LabelClusters(\n",
    "    plot = plot,\n",
    "    id = \"ident\"\n",
    ")"
   ]
  },
  {
   "cell_type": "code",
   "execution_count": null,
   "id": "cb274a1b",
   "metadata": {
    "papermill": {
     "duration": null,
     "end_time": null,
     "exception": null,
     "start_time": null,
     "status": "pending"
    },
    "tags": []
   },
   "outputs": [],
   "source": [
    "# options(repr.plot.width = 48, repr.plot.height = 15)\n",
    "# tf_list <- tfs_to_plot\n",
    "# DefaultAssay(seurat_singlets) <- \"SCT\"\n",
    "\n",
    "# FeaturePlot(\n",
    "#     seurat_doublets,\n",
    "#     features = tf_list, \n",
    "#     split.by = 'ident', \n",
    "#     reduction = 'umap.rna', \n",
    "#     cols = c(\"grey\", \"red\"),\n",
    "#     keep.scale = \"all\"\n",
    "# )"
   ]
  },
  {
   "attachments": {},
   "cell_type": "markdown",
   "id": "ec97d555",
   "metadata": {
    "papermill": {
     "duration": null,
     "end_time": null,
     "exception": null,
     "start_time": null,
     "status": "pending"
    },
    "tags": []
   },
   "source": [
    "# Get cell counts in clusters"
   ]
  },
  {
   "cell_type": "code",
   "execution_count": null,
   "id": "405b1019",
   "metadata": {
    "papermill": {
     "duration": null,
     "end_time": null,
     "exception": null,
     "start_time": null,
     "status": "pending"
    },
    "tags": []
   },
   "outputs": [],
   "source": [
    "Assays(seurat_singlets)"
   ]
  },
  {
   "cell_type": "code",
   "execution_count": null,
   "id": "4a5f8bac",
   "metadata": {
    "papermill": {
     "duration": null,
     "end_time": null,
     "exception": null,
     "start_time": null,
     "status": "pending"
    },
    "tags": []
   },
   "outputs": [],
   "source": [
    "\n",
    "DefaultAssay(seurat_singlets) <- \"RNA\"\n",
    "seurat_singlets@meta.data$seurat_clusters\n",
    "seurat_singlets <- StashIdent(seurat_singlets, save.name = \"current.ident\")"
   ]
  },
  {
   "cell_type": "code",
   "execution_count": null,
   "id": "5a9410d5",
   "metadata": {
    "papermill": {
     "duration": null,
     "end_time": null,
     "exception": null,
     "start_time": null,
     "status": "pending"
    },
    "tags": []
   },
   "outputs": [],
   "source": [
    "options(repr.plot.width = 7, repr.plot.height = 8)\n",
    "seurat_singlets <- SetIdent(seurat_singlets, value = seurat_singlets@meta.data$seurat_clusters)\n",
    "DimPlot(seurat_singlets, reduction = 'umap.rna', label = TRUE)"
   ]
  },
  {
   "cell_type": "code",
   "execution_count": null,
   "id": "118cc516",
   "metadata": {
    "papermill": {
     "duration": null,
     "end_time": null,
     "exception": null,
     "start_time": null,
     "status": "pending"
    },
    "tags": []
   },
   "outputs": [],
   "source": [
    "cluster_counts <- table(Idents(seurat_singlets))\n",
    "as.data.frame(cluster_counts)\n"
   ]
  },
  {
   "cell_type": "code",
   "execution_count": null,
   "id": "55daddaf",
   "metadata": {
    "papermill": {
     "duration": null,
     "end_time": null,
     "exception": null,
     "start_time": null,
     "status": "pending"
    },
    "tags": []
   },
   "outputs": [],
   "source": [
    "#cluster_counts[['2']] + cluster_counts[['5']] + cluster_counts[['11']] + cluster_counts[['13']] + cluster_counts[['14']]"
   ]
  },
  {
   "cell_type": "code",
   "execution_count": null,
   "id": "df23e8f1",
   "metadata": {
    "papermill": {
     "duration": null,
     "end_time": null,
     "exception": null,
     "start_time": null,
     "status": "pending"
    },
    "tags": []
   },
   "outputs": [],
   "source": [
    "DefaultAssay(seurat_singlets) <- \"guidecapture\"\n",
    "Idents(seurat_singlets) <- \"guidecapture_classification\""
   ]
  },
  {
   "cell_type": "code",
   "execution_count": null,
   "id": "967d5923",
   "metadata": {
    "papermill": {
     "duration": null,
     "end_time": null,
     "exception": null,
     "start_time": null,
     "status": "pending"
    },
    "tags": []
   },
   "outputs": [],
   "source": [
    "# seurat_ngn2 <- subset(seurat_singlets, idents = tfs_w_ntctl[1])\n",
    "# hist(seurat_ngn2@meta.data$SCT.weight)"
   ]
  },
  {
   "cell_type": "code",
   "execution_count": null,
   "id": "ca732421",
   "metadata": {
    "papermill": {
     "duration": null,
     "end_time": null,
     "exception": null,
     "start_time": null,
     "status": "pending"
    },
    "tags": []
   },
   "outputs": [],
   "source": [
    "#hist(seurat_ngn2$SCT@data[tfs_w_ntctl[1],])"
   ]
  },
  {
   "cell_type": "code",
   "execution_count": null,
   "id": "66210cfe",
   "metadata": {
    "papermill": {
     "duration": null,
     "end_time": null,
     "exception": null,
     "start_time": null,
     "status": "pending"
    },
    "tags": []
   },
   "outputs": [],
   "source": [
    "Idents(seurat_singlets) <- \"guidecapture_classification\"\n",
    "options(repr.plot.width = 30, repr.plot.height = 10)\n",
    "tf_list <- tfs_to_plot\n",
    "\n",
    "Idents(seurat) <- \"guidecapture_classification\"\n",
    "RidgePlot(\n",
    "    seurat_singlets,\n",
    "    assay = \"guidecapture\",\n",
    "    features = guide_names,\n",
    "    ncol = 4\n",
    ") +\n",
    "plot_annotation(title = \"Guide capture, singlets\") &\n",
    "theme(plot.title = element_text(hjust = 0.5, size = 20))\n",
    "\n",
    "\n",
    "RidgePlot(\n",
    "    seurat_singlets,\n",
    "    assay = \"SCT\",\n",
    "    features = tf_list,\n",
    "    ncol = 4,\n",
    ") +\n",
    "plot_annotation(title = \"Gene expression, singlets\") &\n",
    "theme(plot.title = element_text(hjust = 0.5, size = 20))\n"
   ]
  },
  {
   "attachments": {},
   "cell_type": "markdown",
   "id": "06932ead",
   "metadata": {
    "papermill": {
     "duration": null,
     "end_time": null,
     "exception": null,
     "start_time": null,
     "status": "pending"
    },
    "tags": [],
    "vscode": {
     "languageId": "r"
    }
   },
   "source": [
    "# How many singlets express both Protospacer1 and 2?"
   ]
  },
  {
   "cell_type": "code",
   "execution_count": null,
   "id": "df5b284b",
   "metadata": {
    "papermill": {
     "duration": null,
     "end_time": null,
     "exception": null,
     "start_time": null,
     "status": "pending"
    },
    "tags": []
   },
   "outputs": [],
   "source": [
    "singlet_barcodes <- Cells(seurat_singlets)"
   ]
  },
  {
   "cell_type": "code",
   "execution_count": null,
   "id": "5883f69b",
   "metadata": {
    "papermill": {
     "duration": null,
     "end_time": null,
     "exception": null,
     "start_time": null,
     "status": "pending"
    },
    "tags": []
   },
   "outputs": [],
   "source": [
    "select_singlets <- df_guide$barcode_dash %in% singlet_barcodes\n",
    "df_singlets     <- df_guide[select_singlets,]"
   ]
  },
  {
   "cell_type": "code",
   "execution_count": null,
   "id": "1cf8516c",
   "metadata": {
    "papermill": {
     "duration": null,
     "end_time": null,
     "exception": null,
     "start_time": null,
     "status": "pending"
    },
    "tags": []
   },
   "outputs": [],
   "source": [
    "singlets_metadata <- seurat_singlets@meta.data['guidecapture_classification']\n",
    "singlets_metadata['barcode_dash'] <- rownames(singlets_metadata)\n",
    "head(singlets_metadata)"
   ]
  },
  {
   "cell_type": "code",
   "execution_count": null,
   "id": "802cda23",
   "metadata": {
    "papermill": {
     "duration": null,
     "end_time": null,
     "exception": null,
     "start_time": null,
     "status": "pending"
    },
    "tags": []
   },
   "outputs": [],
   "source": [
    "df_singlets <- merge(df_singlets, singlets_metadata, by = \"barcode_dash\")"
   ]
  },
  {
   "cell_type": "code",
   "execution_count": null,
   "id": "3fd9bfd7",
   "metadata": {
    "papermill": {
     "duration": null,
     "end_time": null,
     "exception": null,
     "start_time": null,
     "status": "pending"
    },
    "tags": []
   },
   "outputs": [],
   "source": [
    "head(df_singlets)"
   ]
  },
  {
   "cell_type": "code",
   "execution_count": null,
   "id": "f83e1049",
   "metadata": {
    "papermill": {
     "duration": null,
     "end_time": null,
     "exception": null,
     "start_time": null,
     "status": "pending"
    },
    "tags": []
   },
   "outputs": [],
   "source": [
    "# # Count the singlets where both PSs are captured\n",
    "\n",
    "# fracs_list <- list()\n",
    "# guide_list <- c(\"NEUROG2\", \"MEOX1\", \"GATA5\", \"NTCTL\")\n",
    "# ps_list <- list(\n",
    "#             'NEUROG2_pss' = c(\"NEUROG2_1\", \"NEUROG2_2\"),\n",
    "#             'MEOX1_pss' = c(\"MEOX1_1\", \"MEOX1_2\"),\n",
    "#             'GATA5_pss' = c(\"GATA5_1\", \"GATA5_2\"),\n",
    "#             'NTCTL_pss' = c(\"NTCTL_1\", \"NTCTL_2\")\n",
    "#         )\n",
    "\n",
    "# for(guide in guide_list) {\n",
    "#     ps_col_names <- c(paste0(guide, \"_1\"), paste0(guide, \"_2\"))\n",
    "#     select_guide <- df_singlets$guidecapture_classification == guide\n",
    "    \n",
    "#     for(ps_pair in names(ps_list)){ \n",
    "#         ps_col_names <- ps_list[[ps_pair]]\n",
    "#         df_dummy <- df_singlets[select_guide, ps_col_names]    \n",
    "#         both_ps_captured <- (df_dummy[,1] > 0) & (df_dummy[,2] > 0)\n",
    "#         frac_dual_ps <- round(sum(both_ps_captured)/nrow(df_dummy),2)\n",
    "#         #print(paste(guide, ps_pair, frac_dual_ps))\n",
    "#         fracs_list <- rbind(fracs_list, list(guide, ps_pair, frac_dual_ps))\n",
    "#     }\n",
    "\n",
    "    \n",
    "# }"
   ]
  },
  {
   "cell_type": "code",
   "execution_count": null,
   "id": "600fc3df",
   "metadata": {
    "papermill": {
     "duration": null,
     "end_time": null,
     "exception": null,
     "start_time": null,
     "status": "pending"
    },
    "tags": []
   },
   "outputs": [],
   "source": [
    "# For singlets\n",
    "# V1 is assigned barcode\n",
    "# V2 is the name of the gene/guide where both protospacers are detected in barcode\n",
    "# V3 is the fraction of barcodes with the both protospacers of gene/guide in V2 \n",
    "\n",
    "# as.data.frame(fracs_list)"
   ]
  },
  {
   "cell_type": "code",
   "execution_count": null,
   "id": "20c9ff77",
   "metadata": {
    "papermill": {
     "duration": null,
     "end_time": null,
     "exception": null,
     "start_time": null,
     "status": "pending"
    },
    "tags": []
   },
   "outputs": [],
   "source": []
  }
 ],
 "metadata": {
  "kernelspec": {
   "display_name": "R",
   "language": "python",
   "name": "ir"
  },
  "language_info": {
   "codemirror_mode": "r",
   "file_extension": ".r",
   "mimetype": "text/x-r-source",
   "name": "R",
   "pygments_lexer": "r",
   "version": "4.3.1"
  },
  "papermill": {
   "default_parameters": {},
   "duration": 227.106384,
   "end_time": "2023-08-17T17:24:35.578718",
   "environment_variables": {},
   "exception": true,
   "input_path": "/home/kfeng/catatac/secondary/05_demux_guides_00.ipynb",
   "output_path": "/data2/kfeng/deeper_guides_dasatinib/secondary/DASA2/notebooks/05_demux_guides_00.ipynb",
   "parameters": {
    "h5_name": "/data2/kfeng/deeper_guides_dasatinib/secondary/DASA2/seurat/CATATAC_CRISPR-DASA2_ONLY_SINGLETS.h5seurat",
    "library": "CRISPR-DASA2",
    "protosp_path": "/data2/kfeng/deeper_guides_dasatinib/dasatinib_primary_01HD/DASA2/resources/ps_dasatinib_screen2.tsv",
    "tsv_path": "/data2/kfeng/deeper_guides_dasatinib/dasatinib_primary_01HD/DASA2/tsv"
   },
   "start_time": "2023-08-17T17:20:48.472334",
   "version": "2.4.0"
  },
  "vscode": {
   "interpreter": {
    "hash": "75b87ce47bb9969be599b51f4ee6bb5c32ae6714610a6d54c2ccfc55bac36fba"
   }
  }
 },
 "nbformat": 4,
 "nbformat_minor": 5
}