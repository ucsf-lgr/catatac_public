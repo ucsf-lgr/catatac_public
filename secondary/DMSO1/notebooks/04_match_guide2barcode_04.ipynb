{
 "cells": [
  {
   "cell_type": "code",
   "execution_count": 1,
   "id": "8d75df84",
   "metadata": {
    "execution": {
     "iopub.execute_input": "2023-08-17T21:32:26.461926Z",
     "iopub.status.busy": "2023-08-17T21:32:26.460314Z",
     "iopub.status.idle": "2023-08-17T21:32:26.487593Z",
     "shell.execute_reply": "2023-08-17T21:32:26.486187Z"
    },
    "papermill": {
     "duration": 0.098523,
     "end_time": "2023-08-17T21:32:26.489497",
     "exception": false,
     "start_time": "2023-08-17T21:32:26.390974",
     "status": "completed"
    },
    "tags": [
     "injected-parameters"
    ]
   },
   "outputs": [],
   "source": [
    "# Parameters",
    "h5_name = '{PATH_1}'",
    "protosp_path = '{PATH_2}'",
    "library = \"CRISPR-DMSO1\"",
    "tsv_path = '{PATH_3}'",
    ""
   ]
  },
  {
   "cell_type": "code",
   "execution_count": 2,
   "id": "70c1c6ab",
   "metadata": {
    "execution": {
     "iopub.execute_input": "2023-08-17T21:32:26.529823Z",
     "iopub.status.busy": "2023-08-17T21:32:26.501528Z",
     "iopub.status.idle": "2023-08-17T21:32:32.256137Z",
     "shell.execute_reply": "2023-08-17T21:32:32.254838Z"
    },
    "papermill": {
     "duration": 5.761351,
     "end_time": "2023-08-17T21:32:32.258056",
     "exception": false,
     "start_time": "2023-08-17T21:32:26.496705",
     "status": "completed"
    },
    "tags": [],
    "vscode": {
     "languageId": "r"
    }
   },
   "outputs": [
    {
     "name": "stderr",
     "output_type": "stream",
     "text": [
      "\n",
      "Attaching package: \u2018dplyr\u2019\n",
      "\n",
      "\n"
     ]
    },
    {
     "name": "stderr",
     "output_type": "stream",
     "text": [
      "The following objects are masked from \u2018package:stats\u2019:\n",
      "\n",
      "    filter, lag\n",
      "\n",
      "\n"
     ]
    },
    {
     "name": "stderr",
     "output_type": "stream",
     "text": [
      "The following objects are masked from \u2018package:base\u2019:\n",
      "\n",
      "    intersect, setdiff, setequal, union\n",
      "\n",
      "\n"
     ]
    },
    {
     "name": "stderr",
     "output_type": "stream",
     "text": [
      "\n",
      "\n",
      "######################\n",
      "#### bedr v1.0.7 ####\n",
      "######################\n",
      "\n",
      "checking binary availability...\n",
      "  * Checking path for bedtools... PASS\n",
      "    /usr/local/bin/bedtools\n",
      "  * Checking path for bedops... PASS\n",
      "    /usr/bin/bedops\n",
      "  * Checking path for tabix... PASS\n",
      "    /usr/local/bin/tabix\n",
      "tests and examples will be skipped on R CMD check if binaries are missing\n",
      "\n",
      "\n"
     ]
    },
    {
     "name": "stderr",
     "output_type": "stream",
     "text": [
      "Loading required package: BiocGenerics\n",
      "\n"
     ]
    },
    {
     "name": "stderr",
     "output_type": "stream",
     "text": [
      "\n",
      "Attaching package: \u2018BiocGenerics\u2019\n",
      "\n",
      "\n"
     ]
    },
    {
     "name": "stderr",
     "output_type": "stream",
     "text": [
      "The following objects are masked from \u2018package:dplyr\u2019:\n",
      "\n",
      "    combine, intersect, setdiff, union\n",
      "\n",
      "\n"
     ]
    },
    {
     "name": "stderr",
     "output_type": "stream",
     "text": [
      "The following objects are masked from \u2018package:stats\u2019:\n",
      "\n",
      "    IQR, mad, sd, var, xtabs\n",
      "\n",
      "\n"
     ]
    },
    {
     "name": "stderr",
     "output_type": "stream",
     "text": [
      "The following objects are masked from \u2018package:base\u2019:\n",
      "\n",
      "    anyDuplicated, aperm, append, as.data.frame, basename, cbind,\n",
      "    colnames, dirname, do.call, duplicated, eval, evalq, Filter, Find,\n",
      "    get, grep, grepl, intersect, is.unsorted, lapply, Map, mapply,\n",
      "    match, mget, order, paste, pmax, pmax.int, pmin, pmin.int,\n",
      "    Position, rank, rbind, Reduce, rownames, sapply, setdiff, sort,\n",
      "    table, tapply, union, unique, unsplit, which.max, which.min\n",
      "\n",
      "\n"
     ]
    },
    {
     "name": "stderr",
     "output_type": "stream",
     "text": [
      "Loading required package: S4Vectors\n",
      "\n"
     ]
    },
    {
     "name": "stderr",
     "output_type": "stream",
     "text": [
      "Loading required package: stats4\n",
      "\n"
     ]
    },
    {
     "name": "stderr",
     "output_type": "stream",
     "text": [
      "\n",
      "Attaching package: \u2018S4Vectors\u2019\n",
      "\n",
      "\n"
     ]
    },
    {
     "name": "stderr",
     "output_type": "stream",
     "text": [
      "The following objects are masked from \u2018package:dplyr\u2019:\n",
      "\n",
      "    first, rename\n",
      "\n",
      "\n"
     ]
    },
    {
     "name": "stderr",
     "output_type": "stream",
     "text": [
      "The following object is masked from \u2018package:utils\u2019:\n",
      "\n",
      "    findMatches\n",
      "\n",
      "\n"
     ]
    },
    {
     "name": "stderr",
     "output_type": "stream",
     "text": [
      "The following objects are masked from \u2018package:base\u2019:\n",
      "\n",
      "    expand.grid, I, unname\n",
      "\n",
      "\n"
     ]
    },
    {
     "name": "stderr",
     "output_type": "stream",
     "text": [
      "Loading required package: IRanges\n",
      "\n"
     ]
    },
    {
     "name": "stderr",
     "output_type": "stream",
     "text": [
      "\n",
      "Attaching package: \u2018IRanges\u2019\n",
      "\n",
      "\n"
     ]
    },
    {
     "name": "stderr",
     "output_type": "stream",
     "text": [
      "The following objects are masked from \u2018package:dplyr\u2019:\n",
      "\n",
      "    collapse, desc, slice\n",
      "\n",
      "\n"
     ]
    },
    {
     "name": "stderr",
     "output_type": "stream",
     "text": [
      "Loading required package: XVector\n",
      "\n"
     ]
    },
    {
     "name": "stderr",
     "output_type": "stream",
     "text": [
      "Loading required package: GenomeInfoDb\n",
      "\n"
     ]
    },
    {
     "name": "stderr",
     "output_type": "stream",
     "text": [
      "\n",
      "Attaching package: \u2018Biostrings\u2019\n",
      "\n",
      "\n"
     ]
    },
    {
     "name": "stderr",
     "output_type": "stream",
     "text": [
      "The following object is masked from \u2018package:base\u2019:\n",
      "\n",
      "    strsplit\n",
      "\n",
      "\n"
     ]
    },
    {
     "name": "stderr",
     "output_type": "stream",
     "text": [
      "\n",
      "lessR 4.2.2                         feedback: gerbing@pdx.edu \n",
      "--------------------------------------------------------------\n",
      "> d <- Read(\"\")   Read text, Excel, SPSS, SAS, or R data file\n",
      "  d is default data frame, data= in analysis routines optional\n",
      "\n",
      "Learn about reading, writing, and manipulating data, graphics,\n",
      "testing means and proportions, regression, factor analysis,\n",
      "customization, and descriptive statistics from pivot tables.\n",
      "  Enter:  browseVignettes(\"lessR\")\n",
      "\n",
      "View changes in this or recent versions of lessR.\n",
      "  Enter: help(package=lessR)  Click: Package NEWS\n",
      "  Enter: interact()  for access to interactive graphics\n",
      "  New function: reshape_long() to move data from wide to long\n",
      "\n",
      "\n"
     ]
    },
    {
     "name": "stderr",
     "output_type": "stream",
     "text": [
      "\n",
      "Attaching package: \u2018lessR\u2019\n",
      "\n",
      "\n"
     ]
    },
    {
     "name": "stderr",
     "output_type": "stream",
     "text": [
      "The following objects are masked from \u2018package:IRanges\u2019:\n",
      "\n",
      "    reflect, to\n",
      "\n",
      "\n"
     ]
    },
    {
     "name": "stderr",
     "output_type": "stream",
     "text": [
      "The following objects are masked from \u2018package:S4Vectors\u2019:\n",
      "\n",
      "    pc, rename, to, values\n",
      "\n",
      "\n"
     ]
    },
    {
     "name": "stderr",
     "output_type": "stream",
     "text": [
      "The following objects are masked from \u2018package:dplyr\u2019:\n",
      "\n",
      "    recode, rename\n",
      "\n",
      "\n"
     ]
    },
    {
     "name": "stderr",
     "output_type": "stream",
     "text": [
      "The legacy packages maptools, rgdal, and rgeos, underpinning the sp package,\n",
      "which was just loaded, will retire in October 2023.\n",
      "Please refer to R-spatial evolution reports for details, especially\n",
      "https://r-spatial.org/r/2023/05/15/evolution4.html.\n",
      "It may be desirable to make the sf package available;\n",
      "package maintainers should consider adding sf to Suggests:.\n",
      "The sp package is now running under evolution status 2\n",
      "     (status 2 uses the sf package in place of rgdal)\n",
      "\n"
     ]
    },
    {
     "name": "stderr",
     "output_type": "stream",
     "text": [
      "Registered S3 method overwritten by 'SeuratDisk':\n",
      "  method            from  \n",
      "  as.sparse.H5Group Seurat\n",
      "\n"
     ]
    },
    {
     "name": "stderr",
     "output_type": "stream",
     "text": [
      "Attaching SeuratObject\n",
      "\n"
     ]
    }
   ],
   "source": [
    "library(dplyr)\n",
    "library(ggplot2)\n",
    "library(bedr)\n",
    "library(Biostrings)\n",
    "library(stringr)\n",
    "library(lessR)\n",
    "library(SeuratDisk)\n",
    "library(Seurat)"
   ]
  },
  {
   "cell_type": "code",
   "execution_count": 3,
   "id": "21fbfd31",
   "metadata": {
    "execution": {
     "iopub.execute_input": "2023-08-17T21:32:32.277249Z",
     "iopub.status.busy": "2023-08-17T21:32:32.276068Z",
     "iopub.status.idle": "2023-08-17T21:32:32.284252Z",
     "shell.execute_reply": "2023-08-17T21:32:32.283159Z"
    },
    "papermill": {
     "duration": 0.015513,
     "end_time": "2023-08-17T21:32:32.285516",
     "exception": false,
     "start_time": "2023-08-17T21:32:32.270003",
     "status": "completed"
    },
    "tags": [],
    "vscode": {
     "languageId": "r"
    }
   },
   "outputs": [],
   "source": [
    "ADD_GUIDE_A_B_COUNTS_BEFORE_DEMUX = FALSE"
   ]
  },
  {
   "cell_type": "code",
   "execution_count": 4,
   "id": "f1162994",
   "metadata": {
    "execution": {
     "iopub.execute_input": "2023-08-17T21:32:32.303249Z",
     "iopub.status.busy": "2023-08-17T21:32:32.302388Z",
     "iopub.status.idle": "2023-08-17T21:32:32.308789Z",
     "shell.execute_reply": "2023-08-17T21:32:32.307753Z"
    },
    "papermill": {
     "duration": 0.013939,
     "end_time": "2023-08-17T21:32:32.310478",
     "exception": false,
     "start_time": "2023-08-17T21:32:32.296539",
     "status": "completed"
    },
    "tags": [],
    "vscode": {
     "languageId": "r"
    }
   },
   "outputs": [],
   "source": [
    "# Pass these as parameters",
    "# library      = \"CRISPR7\"",
    "# tsv_path <- '{PATH_4}'",
    "# h5_name  <- '{PATH_5}'",
    "# protosp_path = '{PATH_6}'"
   ]
  },
  {
   "cell_type": "code",
   "execution_count": 5,
   "id": "cff3e5fd",
   "metadata": {
    "execution": {
     "iopub.execute_input": "2023-08-17T21:32:32.327819Z",
     "iopub.status.busy": "2023-08-17T21:32:32.326216Z",
     "iopub.status.idle": "2023-08-17T21:32:32.340080Z",
     "shell.execute_reply": "2023-08-17T21:32:32.339032Z"
    },
    "papermill": {
     "duration": 0.02206,
     "end_time": "2023-08-17T21:32:32.341786",
     "exception": false,
     "start_time": "2023-08-17T21:32:32.319726",
     "status": "completed"
    },
    "tags": [],
    "vscode": {
     "languageId": "r"
    }
   },
   "outputs": [],
   "source": [
    "barcode2guide_tsv_path <- paste0(tsv_path, '{PATH_7}')",
    "xlsname <- paste0(tsv_path, '{PATH_8}')",
    "tsvname <- paste0(tsv_path, '{PATH_9}')"
   ]
  },
  {
   "cell_type": "code",
   "execution_count": 6,
   "id": "2544627a",
   "metadata": {
    "execution": {
     "iopub.execute_input": "2023-08-17T21:32:32.357860Z",
     "iopub.status.busy": "2023-08-17T21:32:32.356472Z",
     "iopub.status.idle": "2023-08-17T21:32:32.367157Z",
     "shell.execute_reply": "2023-08-17T21:32:32.366099Z"
    },
    "papermill": {
     "duration": 0.018309,
     "end_time": "2023-08-17T21:32:32.368906",
     "exception": false,
     "start_time": "2023-08-17T21:32:32.350597",
     "status": "completed"
    },
    "tags": [],
    "vscode": {
     "languageId": "r"
    }
   },
   "outputs": [],
   "source": [
    "stats <- c()"
   ]
  },
  {
   "cell_type": "code",
   "execution_count": 7,
   "id": "fbe96267",
   "metadata": {
    "execution": {
     "iopub.execute_input": "2023-08-17T21:32:32.386708Z",
     "iopub.status.busy": "2023-08-17T21:32:32.384828Z",
     "iopub.status.idle": "2023-08-17T21:32:32.399536Z",
     "shell.execute_reply": "2023-08-17T21:32:32.398512Z"
    },
    "papermill": {
     "duration": 0.0229,
     "end_time": "2023-08-17T21:32:32.401274",
     "exception": false,
     "start_time": "2023-08-17T21:32:32.378374",
     "status": "completed"
    },
    "tags": [],
    "vscode": {
     "languageId": "r"
    }
   },
   "outputs": [
    {
     "data": {
      "text/html": [
       "'/data2/kfeng/deeper_guides_dasatinib/dasatinib_primary_01HD/DMSO1/tsv/CRISPR-DMSO1_ALL_STRUCTURED.TSV'"
      ],
      "text/latex": [
       "'/data2/kfeng/deeper\\_guides\\_dasatinib/dasatinib\\_primary\\_01HD/DMSO1/tsv/CRISPR-DMSO1\\_ALL\\_STRUCTURED.TSV'"
      ],
      "text/markdown": [
       "'/data2/kfeng/deeper_guides_dasatinib/dasatinib_primary_01HD/DMSO1/tsv/CRISPR-DMSO1_ALL_STRUCTURED.TSV'"
      ],
      "text/plain": [
       "[1] \"/data2/kfeng/deeper_guides_dasatinib/dasatinib_primary_01HD/DMSO1/tsv/CRISPR-DMSO1_ALL_STRUCTURED.TSV\""
      ]
     },
     "metadata": {},
     "output_type": "display_data"
    }
   ],
   "source": [
    "barcode2guide_tsv_path"
   ]
  },
  {
   "cell_type": "markdown",
   "id": "f01bd4a2",
   "metadata": {
    "papermill": {
     "duration": 0.004976,
     "end_time": "2023-08-17T21:32:32.415562",
     "exception": false,
     "start_time": "2023-08-17T21:32:32.410586",
     "status": "completed"
    },
    "tags": []
   },
   "source": [
    "## Load protospacer file"
   ]
  },
  {
   "cell_type": "code",
   "execution_count": 8,
   "id": "48c625e6",
   "metadata": {
    "execution": {
     "iopub.execute_input": "2023-08-17T21:32:32.427290Z",
     "iopub.status.busy": "2023-08-17T21:32:32.426424Z",
     "iopub.status.idle": "2023-08-17T21:32:32.445339Z",
     "shell.execute_reply": "2023-08-17T21:32:32.444311Z"
    },
    "papermill": {
     "duration": 0.026533,
     "end_time": "2023-08-17T21:32:32.447100",
     "exception": false,
     "start_time": "2023-08-17T21:32:32.420567",
     "status": "completed"
    },
    "tags": [],
    "vscode": {
     "languageId": "r"
    }
   },
   "outputs": [
    {
     "data": {
      "text/html": [
       "<style>\n",
       ".list-inline {list-style: none; margin:0; padding: 0}\n",
       ".list-inline>li {display: inline-block}\n",
       ".list-inline>li:not(:last-child)::after {content: \"\\00b7\"; padding: 0 .5ex}\n",
       "</style>\n",
       "<ol class=list-inline><li>'ADNP'</li><li>'BRD2'</li><li>'CHD2'</li><li>'CNOT2'</li><li>'GPBP1L1'</li><li>'HIC2'</li><li>'KMT2B'</li><li>'MNT'</li><li>'NTC22'</li><li>'NTC28'</li><li>'NTC36'</li><li>'NTC74'</li><li>'NTC82'</li><li>'NTC98'</li><li>'PHF6'</li><li>'PIAS1'</li><li>'PLAGL2'</li><li>'PQBP1'</li><li>'SIN3A'</li><li>'SLTM'</li><li>'TSC22D4'</li><li>'UBE2L3'</li><li>'YEATS4'</li><li>'ZBED6'</li><li>'ZNF330'</li><li>'ZNF669'</li></ol>\n"
      ],
      "text/latex": [
       "\\begin{enumerate*}\n",
       "\\item 'ADNP'\n",
       "\\item 'BRD2'\n",
       "\\item 'CHD2'\n",
       "\\item 'CNOT2'\n",
       "\\item 'GPBP1L1'\n",
       "\\item 'HIC2'\n",
       "\\item 'KMT2B'\n",
       "\\item 'MNT'\n",
       "\\item 'NTC22'\n",
       "\\item 'NTC28'\n",
       "\\item 'NTC36'\n",
       "\\item 'NTC74'\n",
       "\\item 'NTC82'\n",
       "\\item 'NTC98'\n",
       "\\item 'PHF6'\n",
       "\\item 'PIAS1'\n",
       "\\item 'PLAGL2'\n",
       "\\item 'PQBP1'\n",
       "\\item 'SIN3A'\n",
       "\\item 'SLTM'\n",
       "\\item 'TSC22D4'\n",
       "\\item 'UBE2L3'\n",
       "\\item 'YEATS4'\n",
       "\\item 'ZBED6'\n",
       "\\item 'ZNF330'\n",
       "\\item 'ZNF669'\n",
       "\\end{enumerate*}\n"
      ],
      "text/markdown": [
       "1. 'ADNP'\n",
       "2. 'BRD2'\n",
       "3. 'CHD2'\n",
       "4. 'CNOT2'\n",
       "5. 'GPBP1L1'\n",
       "6. 'HIC2'\n",
       "7. 'KMT2B'\n",
       "8. 'MNT'\n",
       "9. 'NTC22'\n",
       "10. 'NTC28'\n",
       "11. 'NTC36'\n",
       "12. 'NTC74'\n",
       "13. 'NTC82'\n",
       "14. 'NTC98'\n",
       "15. 'PHF6'\n",
       "16. 'PIAS1'\n",
       "17. 'PLAGL2'\n",
       "18. 'PQBP1'\n",
       "19. 'SIN3A'\n",
       "20. 'SLTM'\n",
       "21. 'TSC22D4'\n",
       "22. 'UBE2L3'\n",
       "23. 'YEATS4'\n",
       "24. 'ZBED6'\n",
       "25. 'ZNF330'\n",
       "26. 'ZNF669'\n",
       "\n",
       "\n"
      ],
      "text/plain": [
       " [1] \"ADNP\"    \"BRD2\"    \"CHD2\"    \"CNOT2\"   \"GPBP1L1\" \"HIC2\"    \"KMT2B\"  \n",
       " [8] \"MNT\"     \"NTC22\"   \"NTC28\"   \"NTC36\"   \"NTC74\"   \"NTC82\"   \"NTC98\"  \n",
       "[15] \"PHF6\"    \"PIAS1\"   \"PLAGL2\"  \"PQBP1\"   \"SIN3A\"   \"SLTM\"    \"TSC22D4\"\n",
       "[22] \"UBE2L3\"  \"YEATS4\"  \"ZBED6\"   \"ZNF330\"  \"ZNF669\" "
      ]
     },
     "metadata": {},
     "output_type": "display_data"
    },
    {
     "data": {
      "text/html": [
       "<style>\n",
       ".list-inline {list-style: none; margin:0; padding: 0}\n",
       ".list-inline>li {display: inline-block}\n",
       ".list-inline>li:not(:last-child)::after {content: \"\\00b7\"; padding: 0 .5ex}\n",
       "</style>\n",
       "<ol class=list-inline><li>'ADNP_1'</li><li>'ADNP_2'</li><li>'BRD2_1'</li><li>'BRD2_2'</li><li>'CHD2_1'</li><li>'CHD2_2'</li><li>'CNOT2_1'</li><li>'CNOT2_2'</li><li>'GPBP1L1_1'</li><li>'GPBP1L1_2'</li><li>'HIC2_1'</li><li>'HIC2_2'</li><li>'KMT2B_1'</li><li>'KMT2B_2'</li><li>'MNT_1'</li><li>'MNT_2'</li><li>'NTC22_1'</li><li>'NTC22_2'</li><li>'NTC28_1'</li><li>'NTC28_2'</li><li>'NTC36_1'</li><li>'NTC36_2'</li><li>'NTC74_1'</li><li>'NTC74_2'</li><li>'NTC82_1'</li><li>'NTC82_2'</li><li>'NTC98_1'</li><li>'NTC98_2'</li><li>'PHF6_1'</li><li>'PHF6_2'</li><li>'PIAS1_1'</li><li>'PIAS1_2'</li><li>'PLAGL2_1'</li><li>'PLAGL2_2'</li><li>'PQBP1_1'</li><li>'PQBP1_2'</li><li>'SIN3A_1'</li><li>'SIN3A_2'</li><li>'SLTM_1'</li><li>'SLTM_2'</li><li>'TSC22D4_1'</li><li>'TSC22D4_2'</li><li>'UBE2L3_1'</li><li>'UBE2L3_2'</li><li>'YEATS4_1'</li><li>'YEATS4_2'</li><li>'ZBED6_1'</li><li>'ZBED6_2'</li><li>'ZNF330_1'</li><li>'ZNF330_2'</li><li>'ZNF669_1'</li><li>'ZNF669_2'</li></ol>\n"
      ],
      "text/latex": [
       "\\begin{enumerate*}\n",
       "\\item 'ADNP\\_1'\n",
       "\\item 'ADNP\\_2'\n",
       "\\item 'BRD2\\_1'\n",
       "\\item 'BRD2\\_2'\n",
       "\\item 'CHD2\\_1'\n",
       "\\item 'CHD2\\_2'\n",
       "\\item 'CNOT2\\_1'\n",
       "\\item 'CNOT2\\_2'\n",
       "\\item 'GPBP1L1\\_1'\n",
       "\\item 'GPBP1L1\\_2'\n",
       "\\item 'HIC2\\_1'\n",
       "\\item 'HIC2\\_2'\n",
       "\\item 'KMT2B\\_1'\n",
       "\\item 'KMT2B\\_2'\n",
       "\\item 'MNT\\_1'\n",
       "\\item 'MNT\\_2'\n",
       "\\item 'NTC22\\_1'\n",
       "\\item 'NTC22\\_2'\n",
       "\\item 'NTC28\\_1'\n",
       "\\item 'NTC28\\_2'\n",
       "\\item 'NTC36\\_1'\n",
       "\\item 'NTC36\\_2'\n",
       "\\item 'NTC74\\_1'\n",
       "\\item 'NTC74\\_2'\n",
       "\\item 'NTC82\\_1'\n",
       "\\item 'NTC82\\_2'\n",
       "\\item 'NTC98\\_1'\n",
       "\\item 'NTC98\\_2'\n",
       "\\item 'PHF6\\_1'\n",
       "\\item 'PHF6\\_2'\n",
       "\\item 'PIAS1\\_1'\n",
       "\\item 'PIAS1\\_2'\n",
       "\\item 'PLAGL2\\_1'\n",
       "\\item 'PLAGL2\\_2'\n",
       "\\item 'PQBP1\\_1'\n",
       "\\item 'PQBP1\\_2'\n",
       "\\item 'SIN3A\\_1'\n",
       "\\item 'SIN3A\\_2'\n",
       "\\item 'SLTM\\_1'\n",
       "\\item 'SLTM\\_2'\n",
       "\\item 'TSC22D4\\_1'\n",
       "\\item 'TSC22D4\\_2'\n",
       "\\item 'UBE2L3\\_1'\n",
       "\\item 'UBE2L3\\_2'\n",
       "\\item 'YEATS4\\_1'\n",
       "\\item 'YEATS4\\_2'\n",
       "\\item 'ZBED6\\_1'\n",
       "\\item 'ZBED6\\_2'\n",
       "\\item 'ZNF330\\_1'\n",
       "\\item 'ZNF330\\_2'\n",
       "\\item 'ZNF669\\_1'\n",
       "\\item 'ZNF669\\_2'\n",
       "\\end{enumerate*}\n"
      ],
      "text/markdown": [
       "1. 'ADNP_1'\n",
       "2. 'ADNP_2'\n",
       "3. 'BRD2_1'\n",
       "4. 'BRD2_2'\n",
       "5. 'CHD2_1'\n",
       "6. 'CHD2_2'\n",
       "7. 'CNOT2_1'\n",
       "8. 'CNOT2_2'\n",
       "9. 'GPBP1L1_1'\n",
       "10. 'GPBP1L1_2'\n",
       "11. 'HIC2_1'\n",
       "12. 'HIC2_2'\n",
       "13. 'KMT2B_1'\n",
       "14. 'KMT2B_2'\n",
       "15. 'MNT_1'\n",
       "16. 'MNT_2'\n",
       "17. 'NTC22_1'\n",
       "18. 'NTC22_2'\n",
       "19. 'NTC28_1'\n",
       "20. 'NTC28_2'\n",
       "21. 'NTC36_1'\n",
       "22. 'NTC36_2'\n",
       "23. 'NTC74_1'\n",
       "24. 'NTC74_2'\n",
       "25. 'NTC82_1'\n",
       "26. 'NTC82_2'\n",
       "27. 'NTC98_1'\n",
       "28. 'NTC98_2'\n",
       "29. 'PHF6_1'\n",
       "30. 'PHF6_2'\n",
       "31. 'PIAS1_1'\n",
       "32. 'PIAS1_2'\n",
       "33. 'PLAGL2_1'\n",
       "34. 'PLAGL2_2'\n",
       "35. 'PQBP1_1'\n",
       "36. 'PQBP1_2'\n",
       "37. 'SIN3A_1'\n",
       "38. 'SIN3A_2'\n",
       "39. 'SLTM_1'\n",
       "40. 'SLTM_2'\n",
       "41. 'TSC22D4_1'\n",
       "42. 'TSC22D4_2'\n",
       "43. 'UBE2L3_1'\n",
       "44. 'UBE2L3_2'\n",
       "45. 'YEATS4_1'\n",
       "46. 'YEATS4_2'\n",
       "47. 'ZBED6_1'\n",
       "48. 'ZBED6_2'\n",
       "49. 'ZNF330_1'\n",
       "50. 'ZNF330_2'\n",
       "51. 'ZNF669_1'\n",
       "52. 'ZNF669_2'\n",
       "\n",
       "\n"
      ],
      "text/plain": [
       " [1] \"ADNP_1\"    \"ADNP_2\"    \"BRD2_1\"    \"BRD2_2\"    \"CHD2_1\"    \"CHD2_2\"   \n",
       " [7] \"CNOT2_1\"   \"CNOT2_2\"   \"GPBP1L1_1\" \"GPBP1L1_2\" \"HIC2_1\"    \"HIC2_2\"   \n",
       "[13] \"KMT2B_1\"   \"KMT2B_2\"   \"MNT_1\"     \"MNT_2\"     \"NTC22_1\"   \"NTC22_2\"  \n",
       "[19] \"NTC28_1\"   \"NTC28_2\"   \"NTC36_1\"   \"NTC36_2\"   \"NTC74_1\"   \"NTC74_2\"  \n",
       "[25] \"NTC82_1\"   \"NTC82_2\"   \"NTC98_1\"   \"NTC98_2\"   \"PHF6_1\"    \"PHF6_2\"   \n",
       "[31] \"PIAS1_1\"   \"PIAS1_2\"   \"PLAGL2_1\"  \"PLAGL2_2\"  \"PQBP1_1\"   \"PQBP1_2\"  \n",
       "[37] \"SIN3A_1\"   \"SIN3A_2\"   \"SLTM_1\"    \"SLTM_2\"    \"TSC22D4_1\" \"TSC22D4_2\"\n",
       "[43] \"UBE2L3_1\"  \"UBE2L3_2\"  \"YEATS4_1\"  \"YEATS4_2\"  \"ZBED6_1\"   \"ZBED6_2\"  \n",
       "[49] \"ZNF330_1\"  \"ZNF330_2\"  \"ZNF669_1\"  \"ZNF669_2\" "
      ]
     },
     "metadata": {},
     "output_type": "display_data"
    }
   ],
   "source": [
    "df_protosp = read.table(protosp_path, header=TRUE, comment.char=\"\")\n",
    "tfs_w_ntctl    = unique(df_protosp$X.TargetGene)\n",
    "unselect_ntctl = (tfs_w_ntctl != \"NTCTL\") & (tfs_w_ntctl != \"NTCTRL\")\n",
    "tfs_to_plot    = tfs_w_ntctl[unselect_ntctl]\n",
    "\n",
    "guides_to_plot  = df_protosp$GuideName\n",
    "tfs_to_plot\n",
    "guides_to_plot"
   ]
  },
  {
   "cell_type": "markdown",
   "id": "8d5949a2",
   "metadata": {
    "papermill": {
     "duration": 0.005281,
     "end_time": "2023-08-17T21:32:32.461086",
     "exception": false,
     "start_time": "2023-08-17T21:32:32.455805",
     "status": "completed"
    },
    "tags": []
   },
   "source": [
    "# Load and analyze guide capture"
   ]
  },
  {
   "cell_type": "code",
   "execution_count": 9,
   "id": "fed736c7",
   "metadata": {
    "execution": {
     "iopub.execute_input": "2023-08-17T21:32:32.474598Z",
     "iopub.status.busy": "2023-08-17T21:32:32.472831Z",
     "iopub.status.idle": "2023-08-17T21:39:57.871761Z",
     "shell.execute_reply": "2023-08-17T21:39:57.870456Z"
    },
    "papermill": {
     "duration": 445.407523,
     "end_time": "2023-08-17T21:39:57.873898",
     "exception": false,
     "start_time": "2023-08-17T21:32:32.466375",
     "status": "completed"
    },
    "tags": [],
    "vscode": {
     "languageId": "r"
    }
   },
   "outputs": [],
   "source": [
    "df_barcode2guide <-\n",
    "    read.table(barcode2guide_tsv_path, header = TRUE, sep = \"\\t\", quote = \"\")\n",
    "\n",
    "df_barcode2guide <-\n",
    "    data.frame(lapply(df_barcode2guide, trimws), stringsAsFactors = FALSE)\n",
    "\n",
    "stats[[\"Guide-capture UMI counts\"]] <- nrow(df_barcode2guide)\n",
    "\n",
    "# Some ATAC barcodes are not associated with a GEX barcode\n",
    "# I think those are just sequencing errors. I remove those from the list\n",
    "select_valid_barcodes <- df_barcode2guide$barcode != \"\"\n",
    "df_barcode2guide <- df_barcode2guide[select_valid_barcodes, ]\n",
    "\n",
    "stats[[\"Guide-capture UMI counts after removing empty barcodes\"]] <-\n",
    "    nrow(df_barcode2guide)\n",
    "\n",
    "# Append \"-1\" to the barcodes. Cellranger appends this number to distinguish\n",
    "# different samples in aggregated files.\n",
    "dummy  <- DNAStringSet(df_barcode2guide$barcode)\n",
    "df_barcode2guide$barcode_dash <- paste0(dummy, \"-1\")"
   ]
  },
  {
   "cell_type": "markdown",
   "id": "666af967",
   "metadata": {
    "papermill": {
     "duration": 0.005341,
     "end_time": "2023-08-17T21:39:57.890999",
     "exception": false,
     "start_time": "2023-08-17T21:39:57.885658",
     "status": "completed"
    },
    "tags": []
   },
   "source": [
    "### Eliminate PCR duplicates of the UMIs from the same barcode"
   ]
  },
  {
   "cell_type": "code",
   "execution_count": 10,
   "id": "87e4aefb",
   "metadata": {
    "execution": {
     "iopub.execute_input": "2023-08-17T21:39:57.904825Z",
     "iopub.status.busy": "2023-08-17T21:39:57.903174Z",
     "iopub.status.idle": "2023-08-17T21:39:57.917278Z",
     "shell.execute_reply": "2023-08-17T21:39:57.916234Z"
    },
    "papermill": {
     "duration": 0.022679,
     "end_time": "2023-08-17T21:39:57.919013",
     "exception": false,
     "start_time": "2023-08-17T21:39:57.896334",
     "status": "completed"
    },
    "tags": [],
    "vscode": {
     "languageId": "r"
    }
   },
   "outputs": [],
   "source": [
    "# I already deduplicated guide umis. No more dedup is necessary.\n",
    "df_deduped <- df_barcode2guide\n",
    "\n",
    "# df_deduped <- df_barcode2guide %>% distinct(gene, umi, .keep_all = TRUE)\n",
    "\n",
    "stats[[\"Guide-capture UMI counts after removing PCR duplicates\"]] <-\n",
    "    nrow(df_deduped)\n",
    "\n",
    "# dim(df_deduped)"
   ]
  },
  {
   "cell_type": "code",
   "execution_count": 11,
   "id": "80711606",
   "metadata": {
    "execution": {
     "iopub.execute_input": "2023-08-17T21:39:57.935577Z",
     "iopub.status.busy": "2023-08-17T21:39:57.934031Z",
     "iopub.status.idle": "2023-08-17T21:39:57.958554Z",
     "shell.execute_reply": "2023-08-17T21:39:57.957476Z"
    },
    "papermill": {
     "duration": 0.03266,
     "end_time": "2023-08-17T21:39:57.960270",
     "exception": false,
     "start_time": "2023-08-17T21:39:57.927610",
     "status": "completed"
    },
    "tags": [],
    "vscode": {
     "languageId": "r"
    }
   },
   "outputs": [
    {
     "data": {
      "text/html": [
       "<table class=\"dataframe\">\n",
       "<caption>A data.frame: 6 \u00d7 8</caption>\n",
       "<thead>\n",
       "\t<tr><th></th><th scope=col>atac_barcode</th><th scope=col>umi</th><th scope=col>protospacer</th><th scope=col>guide</th><th scope=col>gene</th><th scope=col>read_name</th><th scope=col>barcode</th><th scope=col>barcode_dash</th></tr>\n",
       "\t<tr><th></th><th scope=col>&lt;chr&gt;</th><th scope=col>&lt;chr&gt;</th><th scope=col>&lt;chr&gt;</th><th scope=col>&lt;chr&gt;</th><th scope=col>&lt;chr&gt;</th><th scope=col>&lt;chr&gt;</th><th scope=col>&lt;chr&gt;</th><th scope=col>&lt;chr&gt;</th></tr>\n",
       "</thead>\n",
       "<tbody>\n",
       "\t<tr><th scope=row>1</th><td>GGCTATGAGTGCACCT</td><td>TCCACAGAGGGT</td><td>CACCCTCTCCGCCGAAGTG</td><td>ADNP_1</td><td>ADNP</td><td>LH00132:93:2257F7LT3:7:1101:10006:4589 </td><td>TCAACAATCAGGTTTA</td><td>TCAACAATCAGGTTTA-1</td></tr>\n",
       "\t<tr><th scope=row>2</th><td>ATGCAAGGTTTAGCGT</td><td>ATAGTGCCATGT</td><td>CACCCTCTCCGCCGAAGTG</td><td>ADNP_1</td><td>ADNP</td><td>LH00132:93:2257F7LT3:7:1101:10043:4621 </td><td>AGGTACGCAGAAATTG</td><td>AGGTACGCAGAAATTG-1</td></tr>\n",
       "\t<tr><th scope=row>3</th><td>TTCGTTACATTAGTGG</td><td>ACACATTTCCAG</td><td>CACCCTCTCCGCCGAAGTG</td><td>ADNP_1</td><td>ADNP</td><td>LH00132:93:2257F7LT3:7:1101:10070:16493</td><td>ACACCTTGTATTGTCC</td><td>ACACCTTGTATTGTCC-1</td></tr>\n",
       "\t<tr><th scope=row>4</th><td>TTAGGAGGTAAGTCCT</td><td>TAAATTCTTGAG</td><td>CACCCTCTCCGCCGAAGTG</td><td>ADNP_1</td><td>ADNP</td><td>LH00132:93:2257F7LT3:7:1101:10191:6704 </td><td>TCAAGAACACTTAACG</td><td>TCAAGAACACTTAACG-1</td></tr>\n",
       "\t<tr><th scope=row>5</th><td>GGGTTTCTCCTTTAGG</td><td>ATCTCATTTCCA</td><td>CACCCTCTCCGCCGAAGTG</td><td>ADNP_1</td><td>ADNP</td><td>LH00132:93:2257F7LT3:7:1101:10228:19394</td><td>CAAGTGAAGGTCAAAG</td><td>CAAGTGAAGGTCAAAG-1</td></tr>\n",
       "\t<tr><th scope=row>6</th><td>CTATCCGCAGTTGGCG</td><td>AATCCCTGTTTG</td><td>CACCCTCTCCGCCGAAGTG</td><td>ADNP_1</td><td>ADNP</td><td>LH00132:93:2257F7LT3:7:1101:10274:13994</td><td>GATTAGTGTCATTACC</td><td>GATTAGTGTCATTACC-1</td></tr>\n",
       "</tbody>\n",
       "</table>\n"
      ],
      "text/latex": [
       "A data.frame: 6 \u00d7 8\n",
       "\\begin{tabular}{r|llllllll}\n",
       "  & atac\\_barcode & umi & protospacer & guide & gene & read\\_name & barcode & barcode\\_dash\\\\\n",
       "  & <chr> & <chr> & <chr> & <chr> & <chr> & <chr> & <chr> & <chr>\\\\\n",
       "\\hline\n",
       "\t1 & GGCTATGAGTGCACCT & TCCACAGAGGGT & CACCCTCTCCGCCGAAGTG & ADNP\\_1 & ADNP & LH00132:93:2257F7LT3:7:1101:10006:4589  & TCAACAATCAGGTTTA & TCAACAATCAGGTTTA-1\\\\\n",
       "\t2 & ATGCAAGGTTTAGCGT & ATAGTGCCATGT & CACCCTCTCCGCCGAAGTG & ADNP\\_1 & ADNP & LH00132:93:2257F7LT3:7:1101:10043:4621  & AGGTACGCAGAAATTG & AGGTACGCAGAAATTG-1\\\\\n",
       "\t3 & TTCGTTACATTAGTGG & ACACATTTCCAG & CACCCTCTCCGCCGAAGTG & ADNP\\_1 & ADNP & LH00132:93:2257F7LT3:7:1101:10070:16493 & ACACCTTGTATTGTCC & ACACCTTGTATTGTCC-1\\\\\n",
       "\t4 & TTAGGAGGTAAGTCCT & TAAATTCTTGAG & CACCCTCTCCGCCGAAGTG & ADNP\\_1 & ADNP & LH00132:93:2257F7LT3:7:1101:10191:6704  & TCAAGAACACTTAACG & TCAAGAACACTTAACG-1\\\\\n",
       "\t5 & GGGTTTCTCCTTTAGG & ATCTCATTTCCA & CACCCTCTCCGCCGAAGTG & ADNP\\_1 & ADNP & LH00132:93:2257F7LT3:7:1101:10228:19394 & CAAGTGAAGGTCAAAG & CAAGTGAAGGTCAAAG-1\\\\\n",
       "\t6 & CTATCCGCAGTTGGCG & AATCCCTGTTTG & CACCCTCTCCGCCGAAGTG & ADNP\\_1 & ADNP & LH00132:93:2257F7LT3:7:1101:10274:13994 & GATTAGTGTCATTACC & GATTAGTGTCATTACC-1\\\\\n",
       "\\end{tabular}\n"
      ],
      "text/markdown": [
       "\n",
       "A data.frame: 6 \u00d7 8\n",
       "\n",
       "| <!--/--> | atac_barcode &lt;chr&gt; | umi &lt;chr&gt; | protospacer &lt;chr&gt; | guide &lt;chr&gt; | gene &lt;chr&gt; | read_name &lt;chr&gt; | barcode &lt;chr&gt; | barcode_dash &lt;chr&gt; |\n",
       "|---|---|---|---|---|---|---|---|---|\n",
       "| 1 | GGCTATGAGTGCACCT | TCCACAGAGGGT | CACCCTCTCCGCCGAAGTG | ADNP_1 | ADNP | LH00132:93:2257F7LT3:7:1101:10006:4589  | TCAACAATCAGGTTTA | TCAACAATCAGGTTTA-1 |\n",
       "| 2 | ATGCAAGGTTTAGCGT | ATAGTGCCATGT | CACCCTCTCCGCCGAAGTG | ADNP_1 | ADNP | LH00132:93:2257F7LT3:7:1101:10043:4621  | AGGTACGCAGAAATTG | AGGTACGCAGAAATTG-1 |\n",
       "| 3 | TTCGTTACATTAGTGG | ACACATTTCCAG | CACCCTCTCCGCCGAAGTG | ADNP_1 | ADNP | LH00132:93:2257F7LT3:7:1101:10070:16493 | ACACCTTGTATTGTCC | ACACCTTGTATTGTCC-1 |\n",
       "| 4 | TTAGGAGGTAAGTCCT | TAAATTCTTGAG | CACCCTCTCCGCCGAAGTG | ADNP_1 | ADNP | LH00132:93:2257F7LT3:7:1101:10191:6704  | TCAAGAACACTTAACG | TCAAGAACACTTAACG-1 |\n",
       "| 5 | GGGTTTCTCCTTTAGG | ATCTCATTTCCA | CACCCTCTCCGCCGAAGTG | ADNP_1 | ADNP | LH00132:93:2257F7LT3:7:1101:10228:19394 | CAAGTGAAGGTCAAAG | CAAGTGAAGGTCAAAG-1 |\n",
       "| 6 | CTATCCGCAGTTGGCG | AATCCCTGTTTG | CACCCTCTCCGCCGAAGTG | ADNP_1 | ADNP | LH00132:93:2257F7LT3:7:1101:10274:13994 | GATTAGTGTCATTACC | GATTAGTGTCATTACC-1 |\n",
       "\n"
      ],
      "text/plain": [
       "  atac_barcode     umi          protospacer         guide  gene\n",
       "1 GGCTATGAGTGCACCT TCCACAGAGGGT CACCCTCTCCGCCGAAGTG ADNP_1 ADNP\n",
       "2 ATGCAAGGTTTAGCGT ATAGTGCCATGT CACCCTCTCCGCCGAAGTG ADNP_1 ADNP\n",
       "3 TTCGTTACATTAGTGG ACACATTTCCAG CACCCTCTCCGCCGAAGTG ADNP_1 ADNP\n",
       "4 TTAGGAGGTAAGTCCT TAAATTCTTGAG CACCCTCTCCGCCGAAGTG ADNP_1 ADNP\n",
       "5 GGGTTTCTCCTTTAGG ATCTCATTTCCA CACCCTCTCCGCCGAAGTG ADNP_1 ADNP\n",
       "6 CTATCCGCAGTTGGCG AATCCCTGTTTG CACCCTCTCCGCCGAAGTG ADNP_1 ADNP\n",
       "  read_name                               barcode          barcode_dash      \n",
       "1 LH00132:93:2257F7LT3:7:1101:10006:4589  TCAACAATCAGGTTTA TCAACAATCAGGTTTA-1\n",
       "2 LH00132:93:2257F7LT3:7:1101:10043:4621  AGGTACGCAGAAATTG AGGTACGCAGAAATTG-1\n",
       "3 LH00132:93:2257F7LT3:7:1101:10070:16493 ACACCTTGTATTGTCC ACACCTTGTATTGTCC-1\n",
       "4 LH00132:93:2257F7LT3:7:1101:10191:6704  TCAAGAACACTTAACG TCAAGAACACTTAACG-1\n",
       "5 LH00132:93:2257F7LT3:7:1101:10228:19394 CAAGTGAAGGTCAAAG CAAGTGAAGGTCAAAG-1\n",
       "6 LH00132:93:2257F7LT3:7:1101:10274:13994 GATTAGTGTCATTACC GATTAGTGTCATTACC-1"
      ]
     },
     "metadata": {},
     "output_type": "display_data"
    }
   ],
   "source": [
    "head(df_deduped)"
   ]
  },
  {
   "cell_type": "markdown",
   "id": "7189e8a9",
   "metadata": {
    "papermill": {
     "duration": 0.005452,
     "end_time": "2023-08-17T21:39:57.973726",
     "exception": false,
     "start_time": "2023-08-17T21:39:57.968274",
     "status": "completed"
    },
    "tags": []
   },
   "source": [
    "# Build a df for all barcodes"
   ]
  },
  {
   "cell_type": "markdown",
   "id": "63f64850",
   "metadata": {
    "papermill": {
     "duration": 0.005491,
     "end_time": "2023-08-17T21:39:57.984733",
     "exception": false,
     "start_time": "2023-08-17T21:39:57.979242",
     "status": "completed"
    },
    "tags": []
   },
   "source": [
    "Summerizing the umi counts, guide counts etc. Find the barcodes that are associated with multiple genes."
   ]
  },
  {
   "cell_type": "code",
   "execution_count": 12,
   "id": "3cb84078",
   "metadata": {
    "execution": {
     "iopub.execute_input": "2023-08-17T21:39:57.998115Z",
     "iopub.status.busy": "2023-08-17T21:39:57.997213Z",
     "iopub.status.idle": "2023-08-18T02:53:21.728476Z",
     "shell.execute_reply": "2023-08-18T02:53:21.727128Z"
    },
    "papermill": {
     "duration": 18803.740316,
     "end_time": "2023-08-18T02:53:21.730660",
     "exception": false,
     "start_time": "2023-08-17T21:39:57.990344",
     "status": "completed"
    },
    "tags": [],
    "vscode": {
     "languageId": "r"
    }
   },
   "outputs": [],
   "source": [
    "# Build two new dfs to summerize guide and gene counts\n",
    "df_gene_counts <- pivot(df_deduped, table, gene, barcode)\n",
    "df_guide_counts <- pivot(df_deduped, table, guide, barcode)\n",
    "\n",
    "# Drop unused columns\n",
    "df_gene_counts <- select(df_gene_counts, -gene_na, -gene_n)\n",
    "if(ADD_GUIDE_A_B_COUNTS_BEFORE_DEMUX){\n",
    "    df_guide_counts <- select(df_guide_counts, -guide_na)\n",
    "} else {\n",
    "    df_barcodes <- select(df_guide_counts, -guide_na)\n",
    "}\n",
    "\n",
    "# Merge guide and gene columns\n",
    "if(ADD_GUIDE_A_B_COUNTS_BEFORE_DEMUX) {\n",
    "    df_barcodes <- merge(df_gene_counts, df_guide_counts, by = \"barcode\")\n",
    "}\n",
    "\n",
    "# n_guides is umi count\n",
    "df_barcodes <- dplyr:::rename(df_barcodes, n_guides = guide_n)\n",
    "\n",
    "# Add a \"-1\" to barcode names to match with multiome barcode\n",
    "# names from cellranger.\n",
    "dummy  <- DNAStringSet(df_barcodes$barcode)\n",
    "df_barcodes$barcode_dash <- paste0(dummy, \"-1\")\n"
   ]
  },
  {
   "cell_type": "code",
   "execution_count": 13,
   "id": "eae2d3b8",
   "metadata": {
    "execution": {
     "iopub.execute_input": "2023-08-18T02:53:22.654144Z",
     "iopub.status.busy": "2023-08-18T02:53:22.653055Z",
     "iopub.status.idle": "2023-08-18T02:53:22.686535Z",
     "shell.execute_reply": "2023-08-18T02:53:22.685426Z"
    },
    "papermill": {
     "duration": 0.945981,
     "end_time": "2023-08-18T02:53:22.688428",
     "exception": false,
     "start_time": "2023-08-18T02:53:21.742447",
     "status": "completed"
    },
    "tags": [],
    "vscode": {
     "languageId": "r"
    }
   },
   "outputs": [
    {
     "data": {
      "text/html": [
       "<table class=\"dataframe\">\n",
       "<caption>A data.frame: 2 \u00d7 55</caption>\n",
       "<thead>\n",
       "\t<tr><th></th><th scope=col>barcode</th><th scope=col>n_guides</th><th scope=col>ADNP_1</th><th scope=col>ADNP_2</th><th scope=col>BRD2_1</th><th scope=col>BRD2_2</th><th scope=col>CHD2_1</th><th scope=col>CHD2_2</th><th scope=col>CNOT2_1</th><th scope=col>CNOT2_2</th><th scope=col>\u22ef</th><th scope=col>UBE2L3_2</th><th scope=col>YEATS4_1</th><th scope=col>YEATS4_2</th><th scope=col>ZBED6_1</th><th scope=col>ZBED6_2</th><th scope=col>ZNF330_1</th><th scope=col>ZNF330_2</th><th scope=col>ZNF669_1</th><th scope=col>ZNF669_2</th><th scope=col>barcode_dash</th></tr>\n",
       "\t<tr><th></th><th scope=col>&lt;fct&gt;</th><th scope=col>&lt;int&gt;</th><th scope=col>&lt;dbl&gt;</th><th scope=col>&lt;dbl&gt;</th><th scope=col>&lt;dbl&gt;</th><th scope=col>&lt;dbl&gt;</th><th scope=col>&lt;dbl&gt;</th><th scope=col>&lt;dbl&gt;</th><th scope=col>&lt;dbl&gt;</th><th scope=col>&lt;dbl&gt;</th><th scope=col>\u22ef</th><th scope=col>&lt;dbl&gt;</th><th scope=col>&lt;dbl&gt;</th><th scope=col>&lt;dbl&gt;</th><th scope=col>&lt;dbl&gt;</th><th scope=col>&lt;dbl&gt;</th><th scope=col>&lt;dbl&gt;</th><th scope=col>&lt;dbl&gt;</th><th scope=col>&lt;dbl&gt;</th><th scope=col>&lt;dbl&gt;</th><th scope=col>&lt;chr&gt;</th></tr>\n",
       "</thead>\n",
       "<tbody>\n",
       "\t<tr><th scope=row>1</th><td>AAACAGCCAAAGCGGC</td><td>910</td><td> 0</td><td>55</td><td>0</td><td>0</td><td>0</td><td>76</td><td>0</td><td>0</td><td>\u22ef</td><td>0</td><td>0</td><td>57</td><td>0</td><td>0</td><td>0</td><td>0</td><td>0</td><td>0</td><td>AAACAGCCAAAGCGGC-1</td></tr>\n",
       "\t<tr><th scope=row>2</th><td>AAACAGCCAAATATCC</td><td>359</td><td>64</td><td> 0</td><td>0</td><td>0</td><td>0</td><td> 0</td><td>0</td><td>0</td><td>\u22ef</td><td>0</td><td>0</td><td> 0</td><td>0</td><td>0</td><td>0</td><td>0</td><td>0</td><td>0</td><td>AAACAGCCAAATATCC-1</td></tr>\n",
       "</tbody>\n",
       "</table>\n"
      ],
      "text/latex": [
       "A data.frame: 2 \u00d7 55\n",
       "\\begin{tabular}{r|lllllllllllllllllllll}\n",
       "  & barcode & n\\_guides & ADNP\\_1 & ADNP\\_2 & BRD2\\_1 & BRD2\\_2 & CHD2\\_1 & CHD2\\_2 & CNOT2\\_1 & CNOT2\\_2 & \u22ef & UBE2L3\\_2 & YEATS4\\_1 & YEATS4\\_2 & ZBED6\\_1 & ZBED6\\_2 & ZNF330\\_1 & ZNF330\\_2 & ZNF669\\_1 & ZNF669\\_2 & barcode\\_dash\\\\\n",
       "  & <fct> & <int> & <dbl> & <dbl> & <dbl> & <dbl> & <dbl> & <dbl> & <dbl> & <dbl> & \u22ef & <dbl> & <dbl> & <dbl> & <dbl> & <dbl> & <dbl> & <dbl> & <dbl> & <dbl> & <chr>\\\\\n",
       "\\hline\n",
       "\t1 & AAACAGCCAAAGCGGC & 910 &  0 & 55 & 0 & 0 & 0 & 76 & 0 & 0 & \u22ef & 0 & 0 & 57 & 0 & 0 & 0 & 0 & 0 & 0 & AAACAGCCAAAGCGGC-1\\\\\n",
       "\t2 & AAACAGCCAAATATCC & 359 & 64 &  0 & 0 & 0 & 0 &  0 & 0 & 0 & \u22ef & 0 & 0 &  0 & 0 & 0 & 0 & 0 & 0 & 0 & AAACAGCCAAATATCC-1\\\\\n",
       "\\end{tabular}\n"
      ],
      "text/markdown": [
       "\n",
       "A data.frame: 2 \u00d7 55\n",
       "\n",
       "| <!--/--> | barcode &lt;fct&gt; | n_guides &lt;int&gt; | ADNP_1 &lt;dbl&gt; | ADNP_2 &lt;dbl&gt; | BRD2_1 &lt;dbl&gt; | BRD2_2 &lt;dbl&gt; | CHD2_1 &lt;dbl&gt; | CHD2_2 &lt;dbl&gt; | CNOT2_1 &lt;dbl&gt; | CNOT2_2 &lt;dbl&gt; | \u22ef \u22ef | UBE2L3_2 &lt;dbl&gt; | YEATS4_1 &lt;dbl&gt; | YEATS4_2 &lt;dbl&gt; | ZBED6_1 &lt;dbl&gt; | ZBED6_2 &lt;dbl&gt; | ZNF330_1 &lt;dbl&gt; | ZNF330_2 &lt;dbl&gt; | ZNF669_1 &lt;dbl&gt; | ZNF669_2 &lt;dbl&gt; | barcode_dash &lt;chr&gt; |\n",
       "|---|---|---|---|---|---|---|---|---|---|---|---|---|---|---|---|---|---|---|---|---|---|\n",
       "| 1 | AAACAGCCAAAGCGGC | 910 |  0 | 55 | 0 | 0 | 0 | 76 | 0 | 0 | \u22ef | 0 | 0 | 57 | 0 | 0 | 0 | 0 | 0 | 0 | AAACAGCCAAAGCGGC-1 |\n",
       "| 2 | AAACAGCCAAATATCC | 359 | 64 |  0 | 0 | 0 | 0 |  0 | 0 | 0 | \u22ef | 0 | 0 |  0 | 0 | 0 | 0 | 0 | 0 | 0 | AAACAGCCAAATATCC-1 |\n",
       "\n"
      ],
      "text/plain": [
       "  barcode          n_guides ADNP_1 ADNP_2 BRD2_1 BRD2_2 CHD2_1 CHD2_2 CNOT2_1\n",
       "1 AAACAGCCAAAGCGGC 910       0     55     0      0      0      76     0      \n",
       "2 AAACAGCCAAATATCC 359      64      0     0      0      0       0     0      \n",
       "  CNOT2_2 \u22ef UBE2L3_2 YEATS4_1 YEATS4_2 ZBED6_1 ZBED6_2 ZNF330_1 ZNF330_2\n",
       "1 0       \u22ef 0        0        57       0       0       0        0       \n",
       "2 0       \u22ef 0        0         0       0       0       0        0       \n",
       "  ZNF669_1 ZNF669_2 barcode_dash      \n",
       "1 0        0        AAACAGCCAAAGCGGC-1\n",
       "2 0        0        AAACAGCCAAATATCC-1"
      ]
     },
     "metadata": {},
     "output_type": "display_data"
    }
   ],
   "source": [
    "head(df_barcodes, 2)"
   ]
  },
  {
   "cell_type": "code",
   "execution_count": 14,
   "id": "bf13256c",
   "metadata": {
    "execution": {
     "iopub.execute_input": "2023-08-18T02:53:22.713004Z",
     "iopub.status.busy": "2023-08-18T02:53:22.711843Z",
     "iopub.status.idle": "2023-08-18T02:53:22.722902Z",
     "shell.execute_reply": "2023-08-18T02:53:22.721850Z"
    },
    "papermill": {
     "duration": 0.025168,
     "end_time": "2023-08-18T02:53:22.724497",
     "exception": false,
     "start_time": "2023-08-18T02:53:22.699329",
     "status": "completed"
    },
    "tags": [],
    "vscode": {
     "languageId": "r"
    }
   },
   "outputs": [
    {
     "data": {
      "text/html": [
       "<style>\n",
       ".list-inline {list-style: none; margin:0; padding: 0}\n",
       ".list-inline>li {display: inline-block}\n",
       ".list-inline>li:not(:last-child)::after {content: \"\\00b7\"; padding: 0 .5ex}\n",
       "</style>\n",
       "<ol class=list-inline><li>'barcode'</li><li>'n_guides'</li><li>'ADNP_1'</li><li>'ADNP_2'</li><li>'BRD2_1'</li><li>'BRD2_2'</li><li>'CHD2_1'</li><li>'CHD2_2'</li><li>'CNOT2_1'</li><li>'CNOT2_2'</li><li>'GPBP1L1_1'</li><li>'GPBP1L1_2'</li><li>'HIC2_1'</li><li>'HIC2_2'</li><li>'KMT2B_1'</li><li>'KMT2B_2'</li><li>'MNT_1'</li><li>'MNT_2'</li><li>'NTC22_1'</li><li>'NTC22_2'</li><li>'NTC28_1'</li><li>'NTC28_2'</li><li>'NTC36_1'</li><li>'NTC36_2'</li><li>'NTC74_1'</li><li>'NTC74_2'</li><li>'NTC82_1'</li><li>'NTC82_2'</li><li>'NTC98_1'</li><li>'NTC98_2'</li><li>'PHF6_1'</li><li>'PHF6_2'</li><li>'PIAS1_1'</li><li>'PIAS1_2'</li><li>'PLAGL2_1'</li><li>'PLAGL2_2'</li><li>'PQBP1_1'</li><li>'PQBP1_2'</li><li>'SIN3A_1'</li><li>'SIN3A_2'</li><li>'SLTM_1'</li><li>'SLTM_2'</li><li>'TSC22D4_1'</li><li>'TSC22D4_2'</li><li>'UBE2L3_1'</li><li>'UBE2L3_2'</li><li>'YEATS4_1'</li><li>'YEATS4_2'</li><li>'ZBED6_1'</li><li>'ZBED6_2'</li><li>'ZNF330_1'</li><li>'ZNF330_2'</li><li>'ZNF669_1'</li><li>'ZNF669_2'</li><li>'barcode_dash'</li></ol>\n"
      ],
      "text/latex": [
       "\\begin{enumerate*}\n",
       "\\item 'barcode'\n",
       "\\item 'n\\_guides'\n",
       "\\item 'ADNP\\_1'\n",
       "\\item 'ADNP\\_2'\n",
       "\\item 'BRD2\\_1'\n",
       "\\item 'BRD2\\_2'\n",
       "\\item 'CHD2\\_1'\n",
       "\\item 'CHD2\\_2'\n",
       "\\item 'CNOT2\\_1'\n",
       "\\item 'CNOT2\\_2'\n",
       "\\item 'GPBP1L1\\_1'\n",
       "\\item 'GPBP1L1\\_2'\n",
       "\\item 'HIC2\\_1'\n",
       "\\item 'HIC2\\_2'\n",
       "\\item 'KMT2B\\_1'\n",
       "\\item 'KMT2B\\_2'\n",
       "\\item 'MNT\\_1'\n",
       "\\item 'MNT\\_2'\n",
       "\\item 'NTC22\\_1'\n",
       "\\item 'NTC22\\_2'\n",
       "\\item 'NTC28\\_1'\n",
       "\\item 'NTC28\\_2'\n",
       "\\item 'NTC36\\_1'\n",
       "\\item 'NTC36\\_2'\n",
       "\\item 'NTC74\\_1'\n",
       "\\item 'NTC74\\_2'\n",
       "\\item 'NTC82\\_1'\n",
       "\\item 'NTC82\\_2'\n",
       "\\item 'NTC98\\_1'\n",
       "\\item 'NTC98\\_2'\n",
       "\\item 'PHF6\\_1'\n",
       "\\item 'PHF6\\_2'\n",
       "\\item 'PIAS1\\_1'\n",
       "\\item 'PIAS1\\_2'\n",
       "\\item 'PLAGL2\\_1'\n",
       "\\item 'PLAGL2\\_2'\n",
       "\\item 'PQBP1\\_1'\n",
       "\\item 'PQBP1\\_2'\n",
       "\\item 'SIN3A\\_1'\n",
       "\\item 'SIN3A\\_2'\n",
       "\\item 'SLTM\\_1'\n",
       "\\item 'SLTM\\_2'\n",
       "\\item 'TSC22D4\\_1'\n",
       "\\item 'TSC22D4\\_2'\n",
       "\\item 'UBE2L3\\_1'\n",
       "\\item 'UBE2L3\\_2'\n",
       "\\item 'YEATS4\\_1'\n",
       "\\item 'YEATS4\\_2'\n",
       "\\item 'ZBED6\\_1'\n",
       "\\item 'ZBED6\\_2'\n",
       "\\item 'ZNF330\\_1'\n",
       "\\item 'ZNF330\\_2'\n",
       "\\item 'ZNF669\\_1'\n",
       "\\item 'ZNF669\\_2'\n",
       "\\item 'barcode\\_dash'\n",
       "\\end{enumerate*}\n"
      ],
      "text/markdown": [
       "1. 'barcode'\n",
       "2. 'n_guides'\n",
       "3. 'ADNP_1'\n",
       "4. 'ADNP_2'\n",
       "5. 'BRD2_1'\n",
       "6. 'BRD2_2'\n",
       "7. 'CHD2_1'\n",
       "8. 'CHD2_2'\n",
       "9. 'CNOT2_1'\n",
       "10. 'CNOT2_2'\n",
       "11. 'GPBP1L1_1'\n",
       "12. 'GPBP1L1_2'\n",
       "13. 'HIC2_1'\n",
       "14. 'HIC2_2'\n",
       "15. 'KMT2B_1'\n",
       "16. 'KMT2B_2'\n",
       "17. 'MNT_1'\n",
       "18. 'MNT_2'\n",
       "19. 'NTC22_1'\n",
       "20. 'NTC22_2'\n",
       "21. 'NTC28_1'\n",
       "22. 'NTC28_2'\n",
       "23. 'NTC36_1'\n",
       "24. 'NTC36_2'\n",
       "25. 'NTC74_1'\n",
       "26. 'NTC74_2'\n",
       "27. 'NTC82_1'\n",
       "28. 'NTC82_2'\n",
       "29. 'NTC98_1'\n",
       "30. 'NTC98_2'\n",
       "31. 'PHF6_1'\n",
       "32. 'PHF6_2'\n",
       "33. 'PIAS1_1'\n",
       "34. 'PIAS1_2'\n",
       "35. 'PLAGL2_1'\n",
       "36. 'PLAGL2_2'\n",
       "37. 'PQBP1_1'\n",
       "38. 'PQBP1_2'\n",
       "39. 'SIN3A_1'\n",
       "40. 'SIN3A_2'\n",
       "41. 'SLTM_1'\n",
       "42. 'SLTM_2'\n",
       "43. 'TSC22D4_1'\n",
       "44. 'TSC22D4_2'\n",
       "45. 'UBE2L3_1'\n",
       "46. 'UBE2L3_2'\n",
       "47. 'YEATS4_1'\n",
       "48. 'YEATS4_2'\n",
       "49. 'ZBED6_1'\n",
       "50. 'ZBED6_2'\n",
       "51. 'ZNF330_1'\n",
       "52. 'ZNF330_2'\n",
       "53. 'ZNF669_1'\n",
       "54. 'ZNF669_2'\n",
       "55. 'barcode_dash'\n",
       "\n",
       "\n"
      ],
      "text/plain": [
       " [1] \"barcode\"      \"n_guides\"     \"ADNP_1\"       \"ADNP_2\"       \"BRD2_1\"      \n",
       " [6] \"BRD2_2\"       \"CHD2_1\"       \"CHD2_2\"       \"CNOT2_1\"      \"CNOT2_2\"     \n",
       "[11] \"GPBP1L1_1\"    \"GPBP1L1_2\"    \"HIC2_1\"       \"HIC2_2\"       \"KMT2B_1\"     \n",
       "[16] \"KMT2B_2\"      \"MNT_1\"        \"MNT_2\"        \"NTC22_1\"      \"NTC22_2\"     \n",
       "[21] \"NTC28_1\"      \"NTC28_2\"      \"NTC36_1\"      \"NTC36_2\"      \"NTC74_1\"     \n",
       "[26] \"NTC74_2\"      \"NTC82_1\"      \"NTC82_2\"      \"NTC98_1\"      \"NTC98_2\"     \n",
       "[31] \"PHF6_1\"       \"PHF6_2\"       \"PIAS1_1\"      \"PIAS1_2\"      \"PLAGL2_1\"    \n",
       "[36] \"PLAGL2_2\"     \"PQBP1_1\"      \"PQBP1_2\"      \"SIN3A_1\"      \"SIN3A_2\"     \n",
       "[41] \"SLTM_1\"       \"SLTM_2\"       \"TSC22D4_1\"    \"TSC22D4_2\"    \"UBE2L3_1\"    \n",
       "[46] \"UBE2L3_2\"     \"YEATS4_1\"     \"YEATS4_2\"     \"ZBED6_1\"      \"ZBED6_2\"     \n",
       "[51] \"ZNF330_1\"     \"ZNF330_2\"     \"ZNF669_1\"     \"ZNF669_2\"     \"barcode_dash\""
      ]
     },
     "metadata": {},
     "output_type": "display_data"
    }
   ],
   "source": [
    "colnames(df_barcodes)"
   ]
  },
  {
   "cell_type": "markdown",
   "id": "6822110f",
   "metadata": {
    "papermill": {
     "duration": 0.006005,
     "end_time": "2023-08-18T02:53:22.740522",
     "exception": false,
     "start_time": "2023-08-18T02:53:22.734517",
     "status": "completed"
    },
    "tags": []
   },
   "source": [
    "# Load multiome data"
   ]
  },
  {
   "cell_type": "code",
   "execution_count": 15,
   "id": "b6325dac",
   "metadata": {
    "execution": {
     "iopub.execute_input": "2023-08-18T02:53:22.756280Z",
     "iopub.status.busy": "2023-08-18T02:53:22.754375Z",
     "iopub.status.idle": "2023-08-18T02:54:52.213553Z",
     "shell.execute_reply": "2023-08-18T02:54:52.212239Z"
    },
    "papermill": {
     "duration": 89.468981,
     "end_time": "2023-08-18T02:54:52.215572",
     "exception": false,
     "start_time": "2023-08-18T02:53:22.746591",
     "status": "completed"
    },
    "tags": [],
    "vscode": {
     "languageId": "r"
    }
   },
   "outputs": [
    {
     "name": "stderr",
     "output_type": "stream",
     "text": [
      "Validating h5Seurat file\n",
      "\n"
     ]
    },
    {
     "name": "stderr",
     "output_type": "stream",
     "text": [
      "Loading required package: Signac\n",
      "\n"
     ]
    },
    {
     "name": "stderr",
     "output_type": "stream",
     "text": [
      "rgeos version: 0.6-3, (SVN revision 696)\n",
      " GEOS runtime version: 3.8.0-CAPI-1.13.1 \n",
      " Please note that rgeos will be retired during October 2023,\n",
      "plan transition to sf or terra functions using GEOS at your earliest convenience.\n",
      "See https://r-spatial.org/r/2023/05/15/evolution4.html for details.\n",
      " Linking to sp version: 2.0-0 \n",
      " Polygon checking: TRUE \n",
      "\n",
      "\n"
     ]
    }
   ],
   "source": [
    "seurat <- LoadH5Seurat(h5_name, verbose=FALSE)"
   ]
  },
  {
   "cell_type": "markdown",
   "id": "46770900",
   "metadata": {
    "papermill": {
     "duration": 0.006261,
     "end_time": "2023-08-18T02:54:52.233377",
     "exception": false,
     "start_time": "2023-08-18T02:54:52.227116",
     "status": "completed"
    },
    "tags": []
   },
   "source": [
    "### Intersect guide-capture barcodes with multiome barcodes"
   ]
  },
  {
   "cell_type": "code",
   "execution_count": 16,
   "id": "9aafe98d",
   "metadata": {
    "execution": {
     "iopub.execute_input": "2023-08-18T02:54:52.249858Z",
     "iopub.status.busy": "2023-08-18T02:54:52.247336Z",
     "iopub.status.idle": "2023-08-18T02:54:52.274209Z",
     "shell.execute_reply": "2023-08-18T02:54:52.272849Z"
    },
    "papermill": {
     "duration": 0.03646,
     "end_time": "2023-08-18T02:54:52.275941",
     "exception": false,
     "start_time": "2023-08-18T02:54:52.239481",
     "status": "completed"
    },
    "tags": [],
    "vscode": {
     "languageId": "r"
    }
   },
   "outputs": [],
   "source": [
    "# Find overlapping barcodes\n",
    "multiome_barcodes       <- Cells(seurat)\n",
    "df_barcodes$in_multiome <- df_barcodes$barcode_dash %in% multiome_barcodes"
   ]
  },
  {
   "cell_type": "code",
   "execution_count": 17,
   "id": "2d8f7c2b",
   "metadata": {
    "execution": {
     "iopub.execute_input": "2023-08-18T02:54:52.294702Z",
     "iopub.status.busy": "2023-08-18T02:54:52.293822Z",
     "iopub.status.idle": "2023-08-18T02:54:52.318971Z",
     "shell.execute_reply": "2023-08-18T02:54:52.317889Z"
    },
    "papermill": {
     "duration": 0.033765,
     "end_time": "2023-08-18T02:54:52.320570",
     "exception": false,
     "start_time": "2023-08-18T02:54:52.286805",
     "status": "completed"
    },
    "tags": [],
    "vscode": {
     "languageId": "r"
    }
   },
   "outputs": [
    {
     "data": {
      "text/html": [
       "21309"
      ],
      "text/latex": [
       "21309"
      ],
      "text/markdown": [
       "21309"
      ],
      "text/plain": [
       "[1] 21309"
      ]
     },
     "metadata": {},
     "output_type": "display_data"
    },
    {
     "data": {
      "text/html": [
       "6831"
      ],
      "text/latex": [
       "6831"
      ],
      "text/markdown": [
       "6831"
      ],
      "text/plain": [
       "[1] 6831"
      ]
     },
     "metadata": {},
     "output_type": "display_data"
    },
    {
     "data": {
      "text/html": [
       "<style>\n",
       ".list-inline {list-style: none; margin:0; padding: 0}\n",
       ".list-inline>li {display: inline-block}\n",
       ".list-inline>li:not(:last-child)::after {content: \"\\00b7\"; padding: 0 .5ex}\n",
       "</style>\n",
       "<ol class=list-inline><li>'AAACAGCCAAATATCC-1'</li><li>'AAACAGCCACGCAACT-1'</li><li>'AAACAGCCATGTTGGC-1'</li><li>'AAACATGCAAGGTAAC-1'</li><li>'AAACATGCAATTTAGC-1'</li><li>'AAACATGCACTTCATC-1'</li></ol>\n"
      ],
      "text/latex": [
       "\\begin{enumerate*}\n",
       "\\item 'AAACAGCCAAATATCC-1'\n",
       "\\item 'AAACAGCCACGCAACT-1'\n",
       "\\item 'AAACAGCCATGTTGGC-1'\n",
       "\\item 'AAACATGCAAGGTAAC-1'\n",
       "\\item 'AAACATGCAATTTAGC-1'\n",
       "\\item 'AAACATGCACTTCATC-1'\n",
       "\\end{enumerate*}\n"
      ],
      "text/markdown": [
       "1. 'AAACAGCCAAATATCC-1'\n",
       "2. 'AAACAGCCACGCAACT-1'\n",
       "3. 'AAACAGCCATGTTGGC-1'\n",
       "4. 'AAACATGCAAGGTAAC-1'\n",
       "5. 'AAACATGCAATTTAGC-1'\n",
       "6. 'AAACATGCACTTCATC-1'\n",
       "\n",
       "\n"
      ],
      "text/plain": [
       "[1] \"AAACAGCCAAATATCC-1\" \"AAACAGCCACGCAACT-1\" \"AAACAGCCATGTTGGC-1\"\n",
       "[4] \"AAACATGCAAGGTAAC-1\" \"AAACATGCAATTTAGC-1\" \"AAACATGCACTTCATC-1\""
      ]
     },
     "metadata": {},
     "output_type": "display_data"
    },
    {
     "data": {
      "text/html": [
       "6831"
      ],
      "text/latex": [
       "6831"
      ],
      "text/markdown": [
       "6831"
      ],
      "text/plain": [
       "[1] 6831"
      ]
     },
     "metadata": {},
     "output_type": "display_data"
    },
    {
     "data": {
      "text/html": [
       "6831"
      ],
      "text/latex": [
       "6831"
      ],
      "text/markdown": [
       "6831"
      ],
      "text/plain": [
       "[1] 6831"
      ]
     },
     "metadata": {},
     "output_type": "display_data"
    }
   ],
   "source": [
    "nrow(seurat)\n",
    "length(multiome_barcodes)\n",
    "head(multiome_barcodes)\n",
    "nrow(seurat@meta.data)\n",
    "#str(seurat)\n",
    "length(Cells(seurat))"
   ]
  },
  {
   "cell_type": "code",
   "execution_count": 18,
   "id": "53923fc4",
   "metadata": {
    "execution": {
     "iopub.execute_input": "2023-08-18T02:54:52.339542Z",
     "iopub.status.busy": "2023-08-18T02:54:52.338676Z",
     "iopub.status.idle": "2023-08-18T02:54:52.385741Z",
     "shell.execute_reply": "2023-08-18T02:54:52.384599Z"
    },
    "papermill": {
     "duration": 0.056353,
     "end_time": "2023-08-18T02:54:52.387490",
     "exception": false,
     "start_time": "2023-08-18T02:54:52.331137",
     "status": "completed"
    },
    "tags": [],
    "vscode": {
     "languageId": "r"
    }
   },
   "outputs": [
    {
     "data": {
      "text/html": [
       "<table class=\"dataframe\">\n",
       "<caption>A data.frame: 5 \u00d7 56</caption>\n",
       "<thead>\n",
       "\t<tr><th scope=col>barcode</th><th scope=col>n_guides</th><th scope=col>ADNP_1</th><th scope=col>ADNP_2</th><th scope=col>BRD2_1</th><th scope=col>BRD2_2</th><th scope=col>CHD2_1</th><th scope=col>CHD2_2</th><th scope=col>CNOT2_1</th><th scope=col>CNOT2_2</th><th scope=col>\u22ef</th><th scope=col>YEATS4_1</th><th scope=col>YEATS4_2</th><th scope=col>ZBED6_1</th><th scope=col>ZBED6_2</th><th scope=col>ZNF330_1</th><th scope=col>ZNF330_2</th><th scope=col>ZNF669_1</th><th scope=col>ZNF669_2</th><th scope=col>barcode_dash</th><th scope=col>in_multiome</th></tr>\n",
       "\t<tr><th scope=col>&lt;fct&gt;</th><th scope=col>&lt;int&gt;</th><th scope=col>&lt;dbl&gt;</th><th scope=col>&lt;dbl&gt;</th><th scope=col>&lt;dbl&gt;</th><th scope=col>&lt;dbl&gt;</th><th scope=col>&lt;dbl&gt;</th><th scope=col>&lt;dbl&gt;</th><th scope=col>&lt;dbl&gt;</th><th scope=col>&lt;dbl&gt;</th><th scope=col>\u22ef</th><th scope=col>&lt;dbl&gt;</th><th scope=col>&lt;dbl&gt;</th><th scope=col>&lt;dbl&gt;</th><th scope=col>&lt;dbl&gt;</th><th scope=col>&lt;dbl&gt;</th><th scope=col>&lt;dbl&gt;</th><th scope=col>&lt;dbl&gt;</th><th scope=col>&lt;dbl&gt;</th><th scope=col>&lt;chr&gt;</th><th scope=col>&lt;lgl&gt;</th></tr>\n",
       "</thead>\n",
       "<tbody>\n",
       "\t<tr><td>CAGCATGTCAAGTGAG</td><td>492</td><td>0</td><td>0</td><td>0</td><td>0</td><td>0</td><td>0</td><td>0</td><td>0</td><td>\u22ef</td><td>0</td><td>0</td><td>0</td><td>0</td><td>0</td><td>0</td><td>0</td><td>0</td><td>CAGCATGTCAAGTGAG-1</td><td>FALSE</td></tr>\n",
       "\t<tr><td>GGCGTTATCGCTATAA</td><td>255</td><td>0</td><td>0</td><td>0</td><td>0</td><td>0</td><td>0</td><td>0</td><td>0</td><td>\u22ef</td><td>0</td><td>0</td><td>0</td><td>0</td><td>0</td><td>0</td><td>0</td><td>0</td><td>GGCGTTATCGCTATAA-1</td><td>FALSE</td></tr>\n",
       "\t<tr><td>ATCCTCATCGCAACAT</td><td>126</td><td>0</td><td>0</td><td>0</td><td>0</td><td>0</td><td>0</td><td>0</td><td>0</td><td>\u22ef</td><td>0</td><td>0</td><td>0</td><td>0</td><td>0</td><td>0</td><td>0</td><td>0</td><td>ATCCTCATCGCAACAT-1</td><td>FALSE</td></tr>\n",
       "\t<tr><td>CTCTAGCTCAGCATTA</td><td>  1</td><td>0</td><td>0</td><td>0</td><td>0</td><td>0</td><td>0</td><td>0</td><td>0</td><td>\u22ef</td><td>0</td><td>0</td><td>0</td><td>0</td><td>0</td><td>0</td><td>0</td><td>0</td><td>CTCTAGCTCAGCATTA-1</td><td>FALSE</td></tr>\n",
       "\t<tr><td>TCTTTGTAGCGTGCAC</td><td>  1</td><td>0</td><td>0</td><td>0</td><td>0</td><td>0</td><td>0</td><td>0</td><td>0</td><td>\u22ef</td><td>0</td><td>0</td><td>0</td><td>0</td><td>0</td><td>0</td><td>0</td><td>0</td><td>TCTTTGTAGCGTGCAC-1</td><td>FALSE</td></tr>\n",
       "</tbody>\n",
       "</table>\n"
      ],
      "text/latex": [
       "A data.frame: 5 \u00d7 56\n",
       "\\begin{tabular}{lllllllllllllllllllll}\n",
       " barcode & n\\_guides & ADNP\\_1 & ADNP\\_2 & BRD2\\_1 & BRD2\\_2 & CHD2\\_1 & CHD2\\_2 & CNOT2\\_1 & CNOT2\\_2 & \u22ef & YEATS4\\_1 & YEATS4\\_2 & ZBED6\\_1 & ZBED6\\_2 & ZNF330\\_1 & ZNF330\\_2 & ZNF669\\_1 & ZNF669\\_2 & barcode\\_dash & in\\_multiome\\\\\n",
       " <fct> & <int> & <dbl> & <dbl> & <dbl> & <dbl> & <dbl> & <dbl> & <dbl> & <dbl> & \u22ef & <dbl> & <dbl> & <dbl> & <dbl> & <dbl> & <dbl> & <dbl> & <dbl> & <chr> & <lgl>\\\\\n",
       "\\hline\n",
       "\t CAGCATGTCAAGTGAG & 492 & 0 & 0 & 0 & 0 & 0 & 0 & 0 & 0 & \u22ef & 0 & 0 & 0 & 0 & 0 & 0 & 0 & 0 & CAGCATGTCAAGTGAG-1 & FALSE\\\\\n",
       "\t GGCGTTATCGCTATAA & 255 & 0 & 0 & 0 & 0 & 0 & 0 & 0 & 0 & \u22ef & 0 & 0 & 0 & 0 & 0 & 0 & 0 & 0 & GGCGTTATCGCTATAA-1 & FALSE\\\\\n",
       "\t ATCCTCATCGCAACAT & 126 & 0 & 0 & 0 & 0 & 0 & 0 & 0 & 0 & \u22ef & 0 & 0 & 0 & 0 & 0 & 0 & 0 & 0 & ATCCTCATCGCAACAT-1 & FALSE\\\\\n",
       "\t CTCTAGCTCAGCATTA &   1 & 0 & 0 & 0 & 0 & 0 & 0 & 0 & 0 & \u22ef & 0 & 0 & 0 & 0 & 0 & 0 & 0 & 0 & CTCTAGCTCAGCATTA-1 & FALSE\\\\\n",
       "\t TCTTTGTAGCGTGCAC &   1 & 0 & 0 & 0 & 0 & 0 & 0 & 0 & 0 & \u22ef & 0 & 0 & 0 & 0 & 0 & 0 & 0 & 0 & TCTTTGTAGCGTGCAC-1 & FALSE\\\\\n",
       "\\end{tabular}\n"
      ],
      "text/markdown": [
       "\n",
       "A data.frame: 5 \u00d7 56\n",
       "\n",
       "| barcode &lt;fct&gt; | n_guides &lt;int&gt; | ADNP_1 &lt;dbl&gt; | ADNP_2 &lt;dbl&gt; | BRD2_1 &lt;dbl&gt; | BRD2_2 &lt;dbl&gt; | CHD2_1 &lt;dbl&gt; | CHD2_2 &lt;dbl&gt; | CNOT2_1 &lt;dbl&gt; | CNOT2_2 &lt;dbl&gt; | \u22ef \u22ef | YEATS4_1 &lt;dbl&gt; | YEATS4_2 &lt;dbl&gt; | ZBED6_1 &lt;dbl&gt; | ZBED6_2 &lt;dbl&gt; | ZNF330_1 &lt;dbl&gt; | ZNF330_2 &lt;dbl&gt; | ZNF669_1 &lt;dbl&gt; | ZNF669_2 &lt;dbl&gt; | barcode_dash &lt;chr&gt; | in_multiome &lt;lgl&gt; |\n",
       "|---|---|---|---|---|---|---|---|---|---|---|---|---|---|---|---|---|---|---|---|---|\n",
       "| CAGCATGTCAAGTGAG | 492 | 0 | 0 | 0 | 0 | 0 | 0 | 0 | 0 | \u22ef | 0 | 0 | 0 | 0 | 0 | 0 | 0 | 0 | CAGCATGTCAAGTGAG-1 | FALSE |\n",
       "| GGCGTTATCGCTATAA | 255 | 0 | 0 | 0 | 0 | 0 | 0 | 0 | 0 | \u22ef | 0 | 0 | 0 | 0 | 0 | 0 | 0 | 0 | GGCGTTATCGCTATAA-1 | FALSE |\n",
       "| ATCCTCATCGCAACAT | 126 | 0 | 0 | 0 | 0 | 0 | 0 | 0 | 0 | \u22ef | 0 | 0 | 0 | 0 | 0 | 0 | 0 | 0 | ATCCTCATCGCAACAT-1 | FALSE |\n",
       "| CTCTAGCTCAGCATTA |   1 | 0 | 0 | 0 | 0 | 0 | 0 | 0 | 0 | \u22ef | 0 | 0 | 0 | 0 | 0 | 0 | 0 | 0 | CTCTAGCTCAGCATTA-1 | FALSE |\n",
       "| TCTTTGTAGCGTGCAC |   1 | 0 | 0 | 0 | 0 | 0 | 0 | 0 | 0 | \u22ef | 0 | 0 | 0 | 0 | 0 | 0 | 0 | 0 | TCTTTGTAGCGTGCAC-1 | FALSE |\n",
       "\n"
      ],
      "text/plain": [
       "  barcode          n_guides ADNP_1 ADNP_2 BRD2_1 BRD2_2 CHD2_1 CHD2_2 CNOT2_1\n",
       "1 CAGCATGTCAAGTGAG 492      0      0      0      0      0      0      0      \n",
       "2 GGCGTTATCGCTATAA 255      0      0      0      0      0      0      0      \n",
       "3 ATCCTCATCGCAACAT 126      0      0      0      0      0      0      0      \n",
       "4 CTCTAGCTCAGCATTA   1      0      0      0      0      0      0      0      \n",
       "5 TCTTTGTAGCGTGCAC   1      0      0      0      0      0      0      0      \n",
       "  CNOT2_2 \u22ef YEATS4_1 YEATS4_2 ZBED6_1 ZBED6_2 ZNF330_1 ZNF330_2 ZNF669_1\n",
       "1 0       \u22ef 0        0        0       0       0        0        0       \n",
       "2 0       \u22ef 0        0        0       0       0        0        0       \n",
       "3 0       \u22ef 0        0        0       0       0        0        0       \n",
       "4 0       \u22ef 0        0        0       0       0        0        0       \n",
       "5 0       \u22ef 0        0        0       0       0        0        0       \n",
       "  ZNF669_2 barcode_dash       in_multiome\n",
       "1 0        CAGCATGTCAAGTGAG-1 FALSE      \n",
       "2 0        GGCGTTATCGCTATAA-1 FALSE      \n",
       "3 0        ATCCTCATCGCAACAT-1 FALSE      \n",
       "4 0        CTCTAGCTCAGCATTA-1 FALSE      \n",
       "5 0        TCTTTGTAGCGTGCAC-1 FALSE      "
      ]
     },
     "metadata": {},
     "output_type": "display_data"
    }
   ],
   "source": [
    "sample_n(df_barcodes, 5)"
   ]
  },
  {
   "cell_type": "markdown",
   "id": "6c85005d",
   "metadata": {
    "papermill": {
     "duration": 0.006977,
     "end_time": "2023-08-18T02:54:52.407071",
     "exception": false,
     "start_time": "2023-08-18T02:54:52.400094",
     "status": "completed"
    },
    "tags": []
   },
   "source": [
    "Write df_barcodes to TSV and XLS"
   ]
  },
  {
   "cell_type": "code",
   "execution_count": 19,
   "id": "f6a5cc1a",
   "metadata": {
    "execution": {
     "iopub.execute_input": "2023-08-18T02:54:52.422051Z",
     "iopub.status.busy": "2023-08-18T02:54:52.421134Z",
     "iopub.status.idle": "2023-08-18T02:55:16.336874Z",
     "shell.execute_reply": "2023-08-18T02:55:16.335503Z"
    },
    "papermill": {
     "duration": 23.925178,
     "end_time": "2023-08-18T02:55:16.338836",
     "exception": false,
     "start_time": "2023-08-18T02:54:52.413658",
     "status": "completed"
    },
    "tags": [],
    "vscode": {
     "languageId": "r"
    }
   },
   "outputs": [],
   "source": [
    "library(writexl)\n",
    "write_xlsx(df_barcodes, xlsname)\n",
    "write.table(df_barcodes, tsvname, sep = \"\\t\", quote = FALSE, row.names = FALSE)"
   ]
  },
  {
   "cell_type": "markdown",
   "id": "6859f731",
   "metadata": {
    "papermill": {
     "duration": 0.006685,
     "end_time": "2023-08-18T02:55:16.358423",
     "exception": false,
     "start_time": "2023-08-18T02:55:16.351738",
     "status": "completed"
    },
    "tags": []
   },
   "source": [
    "# Produce charts"
   ]
  },
  {
   "cell_type": "code",
   "execution_count": 20,
   "id": "0350176e",
   "metadata": {
    "execution": {
     "iopub.execute_input": "2023-08-18T02:55:16.375540Z",
     "iopub.status.busy": "2023-08-18T02:55:16.373620Z",
     "iopub.status.idle": "2023-08-18T02:55:16.482787Z",
     "shell.execute_reply": "2023-08-18T02:55:16.481442Z"
    },
    "papermill": {
     "duration": 0.119426,
     "end_time": "2023-08-18T02:55:16.484510",
     "exception": false,
     "start_time": "2023-08-18T02:55:16.365084",
     "status": "completed"
    },
    "tags": [],
    "vscode": {
     "languageId": "r"
    }
   },
   "outputs": [],
   "source": [
    "select_gt1_umi_per_cell <- df_barcodes$n_guides > 1\n",
    "select_convergent       <- df_barcodes$targeted_gene_count == 1\n",
    "\n",
    "df_barcodes_gt1         <- df_barcodes[select_gt1_umi_per_cell, ]\n",
    "df_in_multiome          <- df_barcodes[df_barcodes$in_multiome, ]\n",
    "df_gt1_in_multiome      <- df_barcodes_gt1[df_barcodes_gt1$in_multiome, ]\n",
    "df_convergent           <- df_barcodes[select_convergent, ]"
   ]
  },
  {
   "cell_type": "code",
   "execution_count": 21,
   "id": "a8f17f39",
   "metadata": {
    "execution": {
     "iopub.execute_input": "2023-08-18T02:55:16.524252Z",
     "iopub.status.busy": "2023-08-18T02:55:16.523371Z",
     "iopub.status.idle": "2023-08-18T02:55:30.971664Z",
     "shell.execute_reply": "2023-08-18T02:55:30.970616Z"
    },
    "papermill": {
     "duration": 14.478475,
     "end_time": "2023-08-18T02:55:30.974119",
     "exception": false,
     "start_time": "2023-08-18T02:55:16.495644",
     "status": "completed"
    },
    "tags": [],
    "vscode": {
     "languageId": "r"
    }
   },
   "outputs": [
    {
     "data": {
      "image/png": "[encoded data removed]",
      "text/plain": [
       "plot without title"
      ]
     },
     "metadata": {
      "image/png": {
       "height": 360,
       "width": 480
      }
     },
     "output_type": "display_data"
    }
   ],
   "source": [
    "options(repr.plot.width = 8, repr.plot.height = 6)\n",
    "\n",
    "ggplot(df_in_multiome, aes(x = n_guides)) +\n",
    "    geom_histogram(binwidth=1) +\n",
    "    labs(title = \"Captured guide count\", x = \"#guides\")+\n",
    "    labs(subtitle = \"multiome-overlapping guide-capture barcodes\", y = \"#cells\")\n",
    "    "
   ]
  },
  {
   "cell_type": "code",
   "execution_count": 22,
   "id": "e24cccf6",
   "metadata": {
    "execution": {
     "iopub.execute_input": "2023-08-18T02:55:30.995805Z",
     "iopub.status.busy": "2023-08-18T02:55:30.993909Z",
     "iopub.status.idle": "2023-08-18T02:55:31.646970Z",
     "shell.execute_reply": "2023-08-18T02:55:31.645905Z"
    },
    "papermill": {
     "duration": 0.664364,
     "end_time": "2023-08-18T02:55:31.649312",
     "exception": false,
     "start_time": "2023-08-18T02:55:30.984948",
     "status": "completed"
    },
    "tags": [],
    "vscode": {
     "languageId": "r"
    }
   },
   "outputs": [
    {
     "data": {
      "image/png": "[encoded data removed]",
      "text/plain": [
       "plot without title"
      ]
     },
     "metadata": {
      "image/png": {
       "height": 300,
       "width": 480
      }
     },
     "output_type": "display_data"
    },
    {
     "data": {
      "image/png": "[encoded data removed]",
      "text/plain": [
       "plot without title"
      ]
     },
     "metadata": {
      "image/png": {
       "height": 300,
       "width": 480
      }
     },
     "output_type": "display_data"
    }
   ],
   "source": [
    "options(repr.plot.width = 8, repr.plot.height = 5)\n",
    "df_dummy <- df_in_multiome[order(-df_in_multiome$n_guides),]\n",
    "\n",
    "ggplot(df_dummy, aes(x=1:nrow(df_dummy), y = n_guides)) +\n",
    "    geom_point() +\n",
    "    labs(title = \"Captured guide count\", x = \"Cell index\") +\n",
    "    labs(subtitle = \"multiome-overlapping guide-capture barcodes\", y = \"#guides\")\n",
    "\n",
    "ggplot(df_dummy, aes(x=1:nrow(df_dummy), y = n_guides)) +\n",
    "    geom_point() +\n",
    "    labs(title = \"Captured guide count\", x = \"Cell index\") +\n",
    "    labs(subtitle = \"multiome-overlapping guide-capture barcodes\", y = \"#guides\") +\n",
    "    scale_y_log10()"
   ]
  },
  {
   "cell_type": "code",
   "execution_count": 23,
   "id": "a177dec4",
   "metadata": {
    "execution": {
     "iopub.execute_input": "2023-08-18T02:55:31.672345Z",
     "iopub.status.busy": "2023-08-18T02:55:31.670435Z",
     "iopub.status.idle": "2023-08-18T02:55:31.693078Z",
     "shell.execute_reply": "2023-08-18T02:55:31.691921Z"
    },
    "papermill": {
     "duration": 0.033601,
     "end_time": "2023-08-18T02:55:31.694817",
     "exception": false,
     "start_time": "2023-08-18T02:55:31.661216",
     "status": "completed"
    },
    "tags": [],
    "vscode": {
     "languageId": "r"
    }
   },
   "outputs": [],
   "source": [
    "# Record stats\n",
    "stats[[\"%overlapping\"]] <-\n",
    "    100 * sum(df_barcodes$in_multiome) / length(multiome_barcodes)\n",
    "\n",
    "stats[[\"Guide-capture barcodes\"]] <- nrow(df_barcodes)\n",
    "stats[[\"Multiome barcodes\"]]      <- length(multiome_barcodes)\n",
    "stats[[\"Overlapping barcodes\"]]   <- sum(df_barcodes$in_multiome)\n",
    "stats[[\"Overlapping barcodes > 1 UMI\"]] <- sum(df_barcodes_gt1$in_multiome)\n",
    "stats[[\"Guide capture all convergent\"]] <- nrow(df_convergent)\n",
    "stats[[\"Guide capture overlapping convergent\"]] <-\n",
    "    sum(df_convergent$in_multiome)\n",
    "stats[[\"Median guides per cell (multiome-overlapping)\"]] <- median(df_in_multiome$n_guides)"
   ]
  },
  {
   "cell_type": "markdown",
   "id": "45f88c37",
   "metadata": {
    "papermill": {
     "duration": 0.007565,
     "end_time": "2023-08-18T02:55:31.716474",
     "exception": false,
     "start_time": "2023-08-18T02:55:31.708909",
     "status": "completed"
    },
    "tags": []
   },
   "source": [
    "# Print stats"
   ]
  },
  {
   "cell_type": "code",
   "execution_count": 24,
   "id": "c2e973a7",
   "metadata": {
    "execution": {
     "iopub.execute_input": "2023-08-18T02:55:31.733360Z",
     "iopub.status.busy": "2023-08-18T02:55:31.732481Z",
     "iopub.status.idle": "2023-08-18T02:55:31.746485Z",
     "shell.execute_reply": "2023-08-18T02:55:31.745452Z"
    },
    "papermill": {
     "duration": 0.024185,
     "end_time": "2023-08-18T02:55:31.748278",
     "exception": false,
     "start_time": "2023-08-18T02:55:31.724093",
     "status": "completed"
    },
    "tags": [],
    "vscode": {
     "languageId": "r"
    }
   },
   "outputs": [
    {
     "name": "stdout",
     "output_type": "stream",
     "text": [
      "Guide-capture UMI counts\t4.23313e+07\n",
      "Guide-capture UMI counts after removing empty barcodes\t4.0704e+07\n",
      "Guide-capture UMI counts after removing PCR duplicates\t4.0704e+07\n",
      "%overlapping\t99.8536\n",
      "Guide-capture barcodes\t212642\n",
      "Multiome barcodes\t6831\n",
      "Overlapping barcodes\t6821\n",
      "Overlapping barcodes > 1 UMI\t6820\n",
      "Guide capture all convergent\t0\n",
      "Guide capture overlapping convergent\t0\n",
      "Median guides per cell (multiome-overlapping)\t955\n"
     ]
    }
   ],
   "source": [
    "for (tag in names(stats)) {\n",
    "    if (tag != \"Capture efficiency\") {\n",
    "        text <- sprintf(\"%s\\t%g\\n\", tag, stats[[tag]])\n",
    "    }\n",
    "    else {\n",
    "        text <- sprintf(\"%s\\t%.1f%%\\n\", tag, stats[[tag]])\n",
    "    }\n",
    "    cat(text)\n",
    "}"
   ]
  },
  {
   "cell_type": "code",
   "execution_count": 25,
   "id": "72dd91d6",
   "metadata": {
    "execution": {
     "iopub.execute_input": "2023-08-18T02:55:31.771234Z",
     "iopub.status.busy": "2023-08-18T02:55:31.770336Z",
     "iopub.status.idle": "2023-08-18T02:55:31.786536Z",
     "shell.execute_reply": "2023-08-18T02:55:31.785494Z"
    },
    "papermill": {
     "duration": 0.026502,
     "end_time": "2023-08-18T02:55:31.788300",
     "exception": false,
     "start_time": "2023-08-18T02:55:31.761798",
     "status": "completed"
    },
    "tags": [],
    "vscode": {
     "languageId": "r"
    }
   },
   "outputs": [
    {
     "data": {
      "text/html": [
       "<table class=\"dataframe\">\n",
       "<caption>A matrix: 11 \u00d7 1 of type dbl</caption>\n",
       "<tbody>\n",
       "\t<tr><th scope=row>Guide.capture.UMI.counts</th><td>42331292</td></tr>\n",
       "\t<tr><th scope=row>Guide.capture.UMI.counts.after.removing.empty.barcodes</th><td>40703965</td></tr>\n",
       "\t<tr><th scope=row>Guide.capture.UMI.counts.after.removing.PCR.duplicates</th><td>40703965</td></tr>\n",
       "\t<tr><th scope=row>X.overlapping</th><td>     100</td></tr>\n",
       "\t<tr><th scope=row>Guide.capture.barcodes</th><td>  212642</td></tr>\n",
       "\t<tr><th scope=row>Multiome.barcodes</th><td>    6831</td></tr>\n",
       "\t<tr><th scope=row>Overlapping.barcodes</th><td>    6821</td></tr>\n",
       "\t<tr><th scope=row>Overlapping.barcodes...1.UMI</th><td>    6820</td></tr>\n",
       "\t<tr><th scope=row>Guide.capture.all.convergent</th><td>       0</td></tr>\n",
       "\t<tr><th scope=row>Guide.capture.overlapping.convergent</th><td>       0</td></tr>\n",
       "\t<tr><th scope=row>Median.guides.per.cell..multiome.overlapping.</th><td>     955</td></tr>\n",
       "</tbody>\n",
       "</table>\n"
      ],
      "text/latex": [
       "A matrix: 11 \u00d7 1 of type dbl\n",
       "\\begin{tabular}{r|l}\n",
       "\tGuide.capture.UMI.counts & 42331292\\\\\n",
       "\tGuide.capture.UMI.counts.after.removing.empty.barcodes & 40703965\\\\\n",
       "\tGuide.capture.UMI.counts.after.removing.PCR.duplicates & 40703965\\\\\n",
       "\tX.overlapping &      100\\\\\n",
       "\tGuide.capture.barcodes &   212642\\\\\n",
       "\tMultiome.barcodes &     6831\\\\\n",
       "\tOverlapping.barcodes &     6821\\\\\n",
       "\tOverlapping.barcodes...1.UMI &     6820\\\\\n",
       "\tGuide.capture.all.convergent &        0\\\\\n",
       "\tGuide.capture.overlapping.convergent &        0\\\\\n",
       "\tMedian.guides.per.cell..multiome.overlapping. &      955\\\\\n",
       "\\end{tabular}\n"
      ],
      "text/markdown": [
       "\n",
       "A matrix: 11 \u00d7 1 of type dbl\n",
       "\n",
       "| Guide.capture.UMI.counts | 42331292 |\n",
       "| Guide.capture.UMI.counts.after.removing.empty.barcodes | 40703965 |\n",
       "| Guide.capture.UMI.counts.after.removing.PCR.duplicates | 40703965 |\n",
       "| X.overlapping |      100 |\n",
       "| Guide.capture.barcodes |   212642 |\n",
       "| Multiome.barcodes |     6831 |\n",
       "| Overlapping.barcodes |     6821 |\n",
       "| Overlapping.barcodes...1.UMI |     6820 |\n",
       "| Guide.capture.all.convergent |        0 |\n",
       "| Guide.capture.overlapping.convergent |        0 |\n",
       "| Median.guides.per.cell..multiome.overlapping. |      955 |\n",
       "\n"
      ],
      "text/plain": [
       "                                                       [,1]    \n",
       "Guide.capture.UMI.counts                               42331292\n",
       "Guide.capture.UMI.counts.after.removing.empty.barcodes 40703965\n",
       "Guide.capture.UMI.counts.after.removing.PCR.duplicates 40703965\n",
       "X.overlapping                                               100\n",
       "Guide.capture.barcodes                                   212642\n",
       "Multiome.barcodes                                          6831\n",
       "Overlapping.barcodes                                       6821\n",
       "Overlapping.barcodes...1.UMI                               6820\n",
       "Guide.capture.all.convergent                                  0\n",
       "Guide.capture.overlapping.convergent                          0\n",
       "Median.guides.per.cell..multiome.overlapping.               955"
      ]
     },
     "metadata": {},
     "output_type": "display_data"
    }
   ],
   "source": [
    "round(t(as.data.frame(stats)))"
   ]
  },
  {
   "cell_type": "markdown",
   "id": "ebae43fc",
   "metadata": {
    "papermill": {
     "duration": 0.007748,
     "end_time": "2023-08-18T02:55:31.806441",
     "exception": false,
     "start_time": "2023-08-18T02:55:31.798693",
     "status": "completed"
    },
    "tags": []
   },
   "source": []
  }
 ],
 "metadata": {
  "kernelspec": {
   "display_name": "R",
   "language": "R",
   "name": "ir"
  },
  "language_info": {
   "codemirror_mode": "r",
   "file_extension": ".r",
   "mimetype": "text/x-r-source",
   "name": "R",
   "pygments_lexer": "r",
   "version": "4.3.1"
  },
  "papermill": {
   "default_parameters": {},
   "duration": 19387.757107,
   "end_time": "2023-08-18T02:55:33.133983",
   "environment_variables": {},
   "exception": null,
   "input_path": "/home/kfeng/catatac/secondary/04_match_guide2barcode_04.ipynb",
   "output_path": "/data2/kfeng/deeper_guides_dasatinib/secondary/DMSO1/notebooks/04_match_guide2barcode_04.ipynb",
   "parameters": {
    "h5_name": "/data2/kfeng/deeper_guides_dasatinib/secondary/DMSO1/seurat/CATATAC_CRISPR-DMSO1_ONLY_SINGLETS.h5seurat",
    "library": "CRISPR-DMSO1",
    "protosp_path": "/data2/kfeng/deeper_guides_dasatinib/dasatinib_primary_01HD/DMSO1/resources/ps_dasatinib_screen2.tsv",
    "tsv_path": "/data2/kfeng/deeper_guides_dasatinib/dasatinib_primary_01HD/DMSO1/tsv"
   },
   "start_time": "2023-08-17T21:32:25.376876",
   "version": "2.4.0"
  }
 },
 "nbformat": 4,
 "nbformat_minor": 5
}