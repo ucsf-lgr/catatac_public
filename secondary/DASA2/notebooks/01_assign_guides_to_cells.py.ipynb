{
 "cells": [
  {
   "cell_type": "code",
   "execution_count": 1,
   "id": "23662553",
   "metadata": {
    "execution": {
     "iopub.execute_input": "2023-08-17T21:11:09.849073Z",
     "iopub.status.busy": "2023-08-17T21:11:09.848744Z",
     "iopub.status.idle": "2023-08-17T21:11:09.859146Z",
     "shell.execute_reply": "2023-08-17T21:11:09.858423Z"
    },
    "papermill": {
     "duration": 0.01937,
     "end_time": "2023-08-17T21:11:09.860336",
     "exception": false,
     "start_time": "2023-08-17T21:11:09.840966",
     "status": "completed"
    },
    "tags": [
     "injected-parameters"
    ]
   },
   "outputs": [],
   "source": [
    "# Parameterslibrary = \"CRISPR-DASA2\"fastq_path = '{PATH_TO_TSV_PATH_PATH_1}'"
   ]
  },
  {
   "cell_type": "markdown",
   "id": "5e365280",
   "metadata": {
    "papermill": {
     "duration": 0.005767,
     "end_time": "2023-08-17T21:11:09.871608",
     "exception": false,
     "start_time": "2023-08-17T21:11:09.865841",
     "status": "completed"
    },
    "tags": []
   },
   "source": [
    "# Assign guides to cells"
   ]
  },
  {
   "cell_type": "code",
   "execution_count": 2,
   "id": "47d27b7e",
   "metadata": {
    "execution": {
     "iopub.execute_input": "2023-08-17T21:11:09.880570Z",
     "iopub.status.busy": "2023-08-17T21:11:09.879528Z",
     "iopub.status.idle": "2023-08-17T21:11:10.357030Z",
     "shell.execute_reply": "2023-08-17T21:11:10.356171Z"
    },
    "papermill": {
     "duration": 0.484184,
     "end_time": "2023-08-17T21:11:10.359196",
     "exception": false,
     "start_time": "2023-08-17T21:11:09.875012",
     "status": "completed"
    },
    "tags": []
   },
   "outputs": [],
   "source": [
    "import pandas as pd\n",
    "import matplotlib.pyplot as plt"
   ]
  },
  {
   "cell_type": "code",
   "execution_count": 3,
   "id": "8f2d8693",
   "metadata": {
    "execution": {
     "iopub.execute_input": "2023-08-17T21:11:10.371296Z",
     "iopub.status.busy": "2023-08-17T21:11:10.370933Z",
     "iopub.status.idle": "2023-08-17T21:11:10.375150Z",
     "shell.execute_reply": "2023-08-17T21:11:10.374237Z"
    },
    "papermill": {
     "duration": 0.011085,
     "end_time": "2023-08-17T21:11:10.376450",
     "exception": false,
     "start_time": "2023-08-17T21:11:10.365365",
     "status": "completed"
    },
    "tags": []
   },
   "outputs": [],
   "source": [
    "# library = \"CRISPR8\"",
    "# fastq_path = \"/home/vsevim/prj/tf/CATATAC_4/data//atac_and_guidecap\"",
    "# tsv_path = '{PATH_2}'"
   ]
  },
  {
   "cell_type": "code",
   "execution_count": 4,
   "id": "6afb8f90",
   "metadata": {
    "execution": {
     "iopub.execute_input": "2023-08-17T21:11:10.383134Z",
     "iopub.status.busy": "2023-08-17T21:11:10.382560Z",
     "iopub.status.idle": "2023-08-17T21:11:10.386705Z",
     "shell.execute_reply": "2023-08-17T21:11:10.385800Z"
    },
    "papermill": {
     "duration": 0.008843,
     "end_time": "2023-08-17T21:11:10.387934",
     "exception": false,
     "start_time": "2023-08-17T21:11:10.379091",
     "status": "completed"
    },
    "tags": []
   },
   "outputs": [],
   "source": [
    "stats = []"
   ]
  },
  {
   "cell_type": "markdown",
   "id": "6790fc33",
   "metadata": {
    "papermill": {
     "duration": 0.004887,
     "end_time": "2023-08-17T21:11:10.396754",
     "exception": false,
     "start_time": "2023-08-17T21:11:10.391867",
     "status": "completed"
    },
    "tags": []
   },
   "source": [
    "Count raw reads"
   ]
  },
  {
   "cell_type": "code",
   "execution_count": 5,
   "id": "78ca1725",
   "metadata": {
    "execution": {
     "iopub.execute_input": "2023-08-17T21:11:10.405159Z",
     "iopub.status.busy": "2023-08-17T21:11:10.404855Z",
     "iopub.status.idle": "2023-08-17T21:14:20.978309Z",
     "shell.execute_reply": "2023-08-17T21:14:20.977288Z"
    },
    "papermill": {
     "duration": 190.579836,
     "end_time": "2023-08-17T21:14:20.981173",
     "exception": false,
     "start_time": "2023-08-17T21:11:10.401337",
     "status": "completed"
    },
    "tags": []
   },
   "outputs": [],
   "source": [
    "n_raw_reads = !zcat {fastq_path}/{library}*R1*.fastq.gz | grep \"^@\" | wc -l\n",
    "n_raw_reads = int(n_raw_reads[0])\n",
    "stats += [['Raw Reads', n_raw_reads]]"
   ]
  },
  {
   "cell_type": "markdown",
   "id": "1a3bd5d9",
   "metadata": {
    "papermill": {
     "duration": 0.002854,
     "end_time": "2023-08-17T21:14:20.991458",
     "exception": false,
     "start_time": "2023-08-17T21:14:20.988604",
     "status": "completed"
    },
    "tags": []
   },
   "source": [
    "Count reads w CS1"
   ]
  },
  {
   "cell_type": "code",
   "execution_count": 6,
   "id": "07642e5a",
   "metadata": {
    "execution": {
     "iopub.execute_input": "2023-08-17T21:14:20.998979Z",
     "iopub.status.busy": "2023-08-17T21:14:20.998261Z",
     "iopub.status.idle": "2023-08-17T21:16:08.854648Z",
     "shell.execute_reply": "2023-08-17T21:16:08.853605Z"
    },
    "papermill": {
     "duration": 107.862844,
     "end_time": "2023-08-17T21:16:08.857082",
     "exception": false,
     "start_time": "2023-08-17T21:14:20.994238",
     "status": "completed"
    },
    "tags": []
   },
   "outputs": [],
   "source": [
    "n_reads_w_CS1 = !zcat {tsv_path}/{library}*w_CS.TSV.gz | wc -l\n",
    "n_reads_w_CS1 = int(n_reads_w_CS1[0])\n",
    "stats += [['Reads with CS1', n_reads_w_CS1]]"
   ]
  },
  {
   "cell_type": "code",
   "execution_count": 7,
   "id": "9b34ee37",
   "metadata": {
    "execution": {
     "iopub.execute_input": "2023-08-17T21:16:08.868479Z",
     "iopub.status.busy": "2023-08-17T21:16:08.867945Z",
     "iopub.status.idle": "2023-08-17T21:16:08.878727Z",
     "shell.execute_reply": "2023-08-17T21:16:08.878123Z"
    },
    "papermill": {
     "duration": 0.016238,
     "end_time": "2023-08-17T21:16:08.880277",
     "exception": false,
     "start_time": "2023-08-17T21:16:08.864039",
     "status": "completed"
    },
    "tags": []
   },
   "outputs": [
    {
     "data": {
      "text/plain": [
       "[['Raw Reads', 129062724], ['Reads with CS1', 79758735]]"
      ]
     },
     "execution_count": 7,
     "metadata": {},
     "output_type": "execute_result"
    }
   ],
   "source": [
    "stats"
   ]
  },
  {
   "cell_type": "markdown",
   "id": "540322f3",
   "metadata": {
    "papermill": {
     "duration": 0.004168,
     "end_time": "2023-08-17T21:16:08.889654",
     "exception": false,
     "start_time": "2023-08-17T21:16:08.885486",
     "status": "completed"
    },
    "tags": []
   },
   "source": [
    "### Load the barcode, umi, guide csv"
   ]
  },
  {
   "cell_type": "code",
   "execution_count": 8,
   "id": "10934e40",
   "metadata": {
    "execution": {
     "iopub.execute_input": "2023-08-17T21:16:08.896409Z",
     "iopub.status.busy": "2023-08-17T21:16:08.896099Z",
     "iopub.status.idle": "2023-08-17T21:16:08.900263Z",
     "shell.execute_reply": "2023-08-17T21:16:08.899398Z"
    },
    "papermill": {
     "duration": 0.009061,
     "end_time": "2023-08-17T21:16:08.901479",
     "exception": false,
     "start_time": "2023-08-17T21:16:08.892418",
     "status": "completed"
    },
    "tags": []
   },
   "outputs": [],
   "source": [
    "#library = library.upper()\n",
    "tsv_path = f\"{tsv_path}/{library}_ALL_STRUCTURED.TSV\""
   ]
  },
  {
   "cell_type": "markdown",
   "id": "f820681d",
   "metadata": {
    "papermill": {
     "duration": 0.002805,
     "end_time": "2023-08-17T21:16:08.907187",
     "exception": false,
     "start_time": "2023-08-17T21:16:08.904382",
     "status": "completed"
    },
    "tags": []
   },
   "source": [
    "### Deduplicate "
   ]
  },
  {
   "cell_type": "code",
   "execution_count": 9,
   "id": "6934b43b",
   "metadata": {
    "execution": {
     "iopub.execute_input": "2023-08-17T21:16:08.914220Z",
     "iopub.status.busy": "2023-08-17T21:16:08.913737Z",
     "iopub.status.idle": "2023-08-17T21:18:26.020267Z",
     "shell.execute_reply": "2023-08-17T21:18:26.019361Z"
    },
    "papermill": {
     "duration": 137.112593,
     "end_time": "2023-08-17T21:18:26.022699",
     "exception": false,
     "start_time": "2023-08-17T21:16:08.910106",
     "status": "completed"
    },
    "tags": []
   },
   "outputs": [],
   "source": [
    "df_needs_dedup = pd.read_csv(tsv_path, sep=\"\\t\")\n",
    "# I was deduplicating by umi only until analyzing condition 6, \n",
    "# but I need to deduplicate by umi+protospacer\n",
    "df = df_needs_dedup.drop_duplicates(subset=[\"umi\", \"protospacer\"], keep='first')"
   ]
  },
  {
   "cell_type": "code",
   "execution_count": 10,
   "id": "f83e4ad0",
   "metadata": {
    "execution": {
     "iopub.execute_input": "2023-08-17T21:18:26.035015Z",
     "iopub.status.busy": "2023-08-17T21:18:26.034863Z",
     "iopub.status.idle": "2023-08-17T21:18:26.047970Z",
     "shell.execute_reply": "2023-08-17T21:18:26.047236Z"
    },
    "papermill": {
     "duration": 0.020369,
     "end_time": "2023-08-17T21:18:26.050036",
     "exception": false,
     "start_time": "2023-08-17T21:18:26.029667",
     "status": "completed"
    },
    "tags": []
   },
   "outputs": [
    {
     "data": {
      "text/html": [
       "<div>\n",
       "<style scoped>\n",
       "    .dataframe tbody tr th:only-of-type {\n",
       "        vertical-align: middle;\n",
       "    }\n",
       "\n",
       "    .dataframe tbody tr th {\n",
       "        vertical-align: top;\n",
       "    }\n",
       "\n",
       "    .dataframe thead th {\n",
       "        text-align: right;\n",
       "    }\n",
       "</style>\n",
       "<table border=\"1\" class=\"dataframe\">\n",
       "  <thead>\n",
       "    <tr style=\"text-align: right;\">\n",
       "      <th></th>\n",
       "      <th>atac_barcode</th>\n",
       "      <th>umi</th>\n",
       "      <th>protospacer</th>\n",
       "      <th>guide</th>\n",
       "      <th>gene</th>\n",
       "      <th>read_name</th>\n",
       "      <th>barcode</th>\n",
       "    </tr>\n",
       "  </thead>\n",
       "  <tbody>\n",
       "    <tr>\n",
       "      <th>0</th>\n",
       "      <td>CCCTGGTCAATTGGCT</td>\n",
       "      <td>CTTCCATGGCCT</td>\n",
       "      <td>CACCCTCTCCGCCGAAGTG</td>\n",
       "      <td>ADNP_1</td>\n",
       "      <td>ADNP</td>\n",
       "      <td>LH00132:93:2257F7LT3:7:1101:10024:14010</td>\n",
       "      <td>NaN</td>\n",
       "    </tr>\n",
       "    <tr>\n",
       "      <th>1</th>\n",
       "      <td>AAACAAGCAAGGGAGC</td>\n",
       "      <td>CATCCCAAGTTA</td>\n",
       "      <td>CACCCTCTCCGCCGAAGTG</td>\n",
       "      <td>ADNP_1</td>\n",
       "      <td>ADNP</td>\n",
       "      <td>LH00132:93:2257F7LT3:7:1101:10052:11623</td>\n",
       "      <td>GGCTAGTGTCTCACTG</td>\n",
       "    </tr>\n",
       "    <tr>\n",
       "      <th>2</th>\n",
       "      <td>ATCAGGTAGCTAGTTT</td>\n",
       "      <td>CCAATTGGCTTA</td>\n",
       "      <td>CACCCTCTCCGCCGAAGTG</td>\n",
       "      <td>ADNP_1</td>\n",
       "      <td>ADNP</td>\n",
       "      <td>LH00132:93:2257F7LT3:7:1101:10061:2923</td>\n",
       "      <td>CATTATCTCGCATTAA</td>\n",
       "    </tr>\n",
       "    <tr>\n",
       "      <th>3</th>\n",
       "      <td>CATGGCTTCCACGTTA</td>\n",
       "      <td>CACATTTTCTCG</td>\n",
       "      <td>CACCCTCTCCGCCGAAGTG</td>\n",
       "      <td>ADNP_1</td>\n",
       "      <td>ADNP</td>\n",
       "      <td>LH00132:93:2257F7LT3:7:1101:10089:13449</td>\n",
       "      <td>AGGATTGAGTCAATCA</td>\n",
       "    </tr>\n",
       "    <tr>\n",
       "      <th>4</th>\n",
       "      <td>ACTGAGGTCGCCCGTA</td>\n",
       "      <td>TTTAATATGTTC</td>\n",
       "      <td>CACCCTCTCCGCCGAAGTG</td>\n",
       "      <td>ADNP_1</td>\n",
       "      <td>ADNP</td>\n",
       "      <td>LH00132:93:2257F7LT3:7:1101:10154:14715</td>\n",
       "      <td>CAGGTGGAGTATCGCG</td>\n",
       "    </tr>\n",
       "  </tbody>\n",
       "</table>\n",
       "</div>"
      ],
      "text/plain": [
       "       atac_barcode           umi          protospacer   guide  gene  \\\n",
       "0  CCCTGGTCAATTGGCT  CTTCCATGGCCT  CACCCTCTCCGCCGAAGTG  ADNP_1  ADNP   \n",
       "1  AAACAAGCAAGGGAGC  CATCCCAAGTTA  CACCCTCTCCGCCGAAGTG  ADNP_1  ADNP   \n",
       "2  ATCAGGTAGCTAGTTT  CCAATTGGCTTA  CACCCTCTCCGCCGAAGTG  ADNP_1  ADNP   \n",
       "3  CATGGCTTCCACGTTA  CACATTTTCTCG  CACCCTCTCCGCCGAAGTG  ADNP_1  ADNP   \n",
       "4  ACTGAGGTCGCCCGTA  TTTAATATGTTC  CACCCTCTCCGCCGAAGTG  ADNP_1  ADNP   \n",
       "\n",
       "                                 read_name           barcode  \n",
       "0  LH00132:93:2257F7LT3:7:1101:10024:14010               NaN  \n",
       "1  LH00132:93:2257F7LT3:7:1101:10052:11623  GGCTAGTGTCTCACTG  \n",
       "2   LH00132:93:2257F7LT3:7:1101:10061:2923  CATTATCTCGCATTAA  \n",
       "3  LH00132:93:2257F7LT3:7:1101:10089:13449  AGGATTGAGTCAATCA  \n",
       "4  LH00132:93:2257F7LT3:7:1101:10154:14715  CAGGTGGAGTATCGCG  "
      ]
     },
     "execution_count": 10,
     "metadata": {},
     "output_type": "execute_result"
    }
   ],
   "source": [
    "df_needs_dedup.head()"
   ]
  },
  {
   "cell_type": "code",
   "execution_count": 11,
   "id": "7f8f82e2",
   "metadata": {
    "execution": {
     "iopub.execute_input": "2023-08-17T21:18:26.060931Z",
     "iopub.status.busy": "2023-08-17T21:18:26.060631Z",
     "iopub.status.idle": "2023-08-17T21:18:33.033422Z",
     "shell.execute_reply": "2023-08-17T21:18:33.032592Z"
    },
    "papermill": {
     "duration": 6.978742,
     "end_time": "2023-08-17T21:18:33.035511",
     "exception": false,
     "start_time": "2023-08-17T21:18:26.056769",
     "status": "completed"
    },
    "tags": []
   },
   "outputs": [
    {
     "data": {
      "text/plain": [
       "205349"
      ]
     },
     "execution_count": 11,
     "metadata": {},
     "output_type": "execute_result"
    }
   ],
   "source": [
    "# Count unique barcodes before protospacer check etc\n",
    "len(df_needs_dedup.drop_duplicates(subset = \"barcode\"))"
   ]
  },
  {
   "cell_type": "code",
   "execution_count": 12,
   "id": "8645cc85",
   "metadata": {
    "execution": {
     "iopub.execute_input": "2023-08-17T21:18:33.046566Z",
     "iopub.status.busy": "2023-08-17T21:18:33.046156Z",
     "iopub.status.idle": "2023-08-17T21:18:33.051945Z",
     "shell.execute_reply": "2023-08-17T21:18:33.050923Z"
    },
    "papermill": {
     "duration": 0.012207,
     "end_time": "2023-08-17T21:18:33.053905",
     "exception": false,
     "start_time": "2023-08-17T21:18:33.041698",
     "status": "completed"
    },
    "tags": []
   },
   "outputs": [],
   "source": [
    "n_reads_w_PS  = len(df_needs_dedup)\n",
    "n_dedup_reads = len(df)\n",
    "\n",
    "stats += [['Reads with Protospacer', n_reads_w_PS]]\n",
    "stats += [['Dedup reads', n_dedup_reads]]\n"
   ]
  },
  {
   "cell_type": "code",
   "execution_count": 13,
   "id": "b9bfb6c2",
   "metadata": {
    "execution": {
     "iopub.execute_input": "2023-08-17T21:18:33.065459Z",
     "iopub.status.busy": "2023-08-17T21:18:33.064829Z",
     "iopub.status.idle": "2023-08-17T21:18:33.502050Z",
     "shell.execute_reply": "2023-08-17T21:18:33.501137Z"
    },
    "papermill": {
     "duration": 0.44419,
     "end_time": "2023-08-17T21:18:33.504284",
     "exception": false,
     "start_time": "2023-08-17T21:18:33.060094",
     "status": "completed"
    },
    "tags": []
   },
   "outputs": [],
   "source": [
    "n_uniq_barcodes = len(df['barcode'].unique())\n",
    "stats += [[\"Unique barcodes\", n_uniq_barcodes]]"
   ]
  },
  {
   "cell_type": "markdown",
   "id": "cbad38b2",
   "metadata": {
    "papermill": {
     "duration": 0.004147,
     "end_time": "2023-08-17T21:18:33.515837",
     "exception": false,
     "start_time": "2023-08-17T21:18:33.511690",
     "status": "completed"
    },
    "tags": []
   },
   "source": [
    "### Count UMIs per barcode"
   ]
  },
  {
   "cell_type": "code",
   "execution_count": 14,
   "id": "cf6249b3",
   "metadata": {
    "execution": {
     "iopub.execute_input": "2023-08-17T21:18:33.523401Z",
     "iopub.status.busy": "2023-08-17T21:18:33.523193Z",
     "iopub.status.idle": "2023-08-17T21:18:34.000740Z",
     "shell.execute_reply": "2023-08-17T21:18:33.999634Z"
    },
    "papermill": {
     "duration": 0.483825,
     "end_time": "2023-08-17T21:18:34.003056",
     "exception": false,
     "start_time": "2023-08-17T21:18:33.519231",
     "status": "completed"
    },
    "tags": []
   },
   "outputs": [
    {
     "data": {
      "text/plain": [
       "CGGTTGGGTTTAGTCC    750\n",
       "GGCGATACATAGCAGG    737\n",
       "CGTGTGTCAAGGAATC    408\n",
       "CCAGCTGCAGAGAGCC    406\n",
       "GTAAGCTTCGGTTTCC    401\n",
       "Name: barcode, dtype: int64"
      ]
     },
     "execution_count": 14,
     "metadata": {},
     "output_type": "execute_result"
    }
   ],
   "source": [
    "barcode_counts = df['barcode'].value_counts()\n",
    "barcode_counts.head()"
   ]
  },
  {
   "cell_type": "code",
   "execution_count": 15,
   "id": "d6e13920",
   "metadata": {
    "execution": {
     "iopub.execute_input": "2023-08-17T21:18:34.013984Z",
     "iopub.status.busy": "2023-08-17T21:18:34.013829Z",
     "iopub.status.idle": "2023-08-17T21:18:34.684072Z",
     "shell.execute_reply": "2023-08-17T21:18:34.683256Z"
    },
    "papermill": {
     "duration": 0.676331,
     "end_time": "2023-08-17T21:18:34.686181",
     "exception": false,
     "start_time": "2023-08-17T21:18:34.009850",
     "status": "completed"
    },
    "tags": []
   },
   "outputs": [
    {
     "data": {
      "image/png": "[encoded data removed]",
      "text/plain": [
       "<Figure size 640x480 with 1 Axes>"
      ]
     },
     "metadata": {},
     "output_type": "display_data"
    }
   ],
   "source": [
    "plt.plot(barcode_counts.values)\n",
    "plt.yscale('log')\n",
    "plt.xlabel(\"Barcode Index (sorted by #UMIs)\")\n",
    "plt.ylabel(\"#UMIs\")\n",
    "plt.title(library)\n",
    "plt.savefig(\"plot1.png\")\n",
    "plt.show()"
   ]
  },
  {
   "cell_type": "markdown",
   "id": "b9e7de4c",
   "metadata": {
    "papermill": {
     "duration": 0.003532,
     "end_time": "2023-08-17T21:18:34.697053",
     "exception": false,
     "start_time": "2023-08-17T21:18:34.693521",
     "status": "completed"
    },
    "tags": []
   },
   "source": [
    "### Count genes per barcode"
   ]
  },
  {
   "cell_type": "code",
   "execution_count": 16,
   "id": "390a23fd",
   "metadata": {
    "execution": {
     "iopub.execute_input": "2023-08-17T21:18:34.705398Z",
     "iopub.status.busy": "2023-08-17T21:18:34.705127Z",
     "iopub.status.idle": "2023-08-17T21:18:35.170418Z",
     "shell.execute_reply": "2023-08-17T21:18:35.169632Z"
    },
    "papermill": {
     "duration": 0.471837,
     "end_time": "2023-08-17T21:18:35.172405",
     "exception": false,
     "start_time": "2023-08-17T21:18:34.700568",
     "status": "completed"
    },
    "tags": []
   },
   "outputs": [
    {
     "data": {
      "text/plain": [
       "CGGTTGGGTTTAGTCC    750\n",
       "GGCGATACATAGCAGG    737\n",
       "CGTGTGTCAAGGAATC    408\n",
       "CCAGCTGCAGAGAGCC    406\n",
       "GTAAGCTTCGGTTTCC    401\n",
       "Name: barcode, dtype: int64"
      ]
     },
     "execution_count": 16,
     "metadata": {},
     "output_type": "execute_result"
    }
   ],
   "source": [
    "barcode_counts = df['barcode'].value_counts()\n",
    "barcode_counts.head()"
   ]
  },
  {
   "cell_type": "code",
   "execution_count": 17,
   "id": "26044ca7",
   "metadata": {
    "execution": {
     "iopub.execute_input": "2023-08-17T21:18:35.185088Z",
     "iopub.status.busy": "2023-08-17T21:18:35.184934Z",
     "iopub.status.idle": "2023-08-17T21:18:35.188858Z",
     "shell.execute_reply": "2023-08-17T21:18:35.187986Z"
    },
    "papermill": {
     "duration": 0.009408,
     "end_time": "2023-08-17T21:18:35.190042",
     "exception": false,
     "start_time": "2023-08-17T21:18:35.180634",
     "status": "completed"
    },
    "tags": []
   },
   "outputs": [],
   "source": [
    "#------------------------------------------------------------------------------------"
   ]
  },
  {
   "cell_type": "code",
   "execution_count": 18,
   "id": "6552b17d",
   "metadata": {
    "execution": {
     "iopub.execute_input": "2023-08-17T21:18:35.203026Z",
     "iopub.status.busy": "2023-08-17T21:18:35.202771Z",
     "iopub.status.idle": "2023-08-17T21:18:35.212896Z",
     "shell.execute_reply": "2023-08-17T21:18:35.212014Z"
    },
    "papermill": {
     "duration": 0.017674,
     "end_time": "2023-08-17T21:18:35.214431",
     "exception": false,
     "start_time": "2023-08-17T21:18:35.196757",
     "status": "completed"
    },
    "tags": []
   },
   "outputs": [
    {
     "data": {
      "text/html": [
       "<div>\n",
       "<style scoped>\n",
       "    .dataframe tbody tr th:only-of-type {\n",
       "        vertical-align: middle;\n",
       "    }\n",
       "\n",
       "    .dataframe tbody tr th {\n",
       "        vertical-align: top;\n",
       "    }\n",
       "\n",
       "    .dataframe thead th {\n",
       "        text-align: right;\n",
       "    }\n",
       "</style>\n",
       "<table border=\"1\" class=\"dataframe\">\n",
       "  <thead>\n",
       "    <tr style=\"text-align: right;\">\n",
       "      <th></th>\n",
       "      <th>Stat</th>\n",
       "      <th>Count</th>\n",
       "    </tr>\n",
       "  </thead>\n",
       "  <tbody>\n",
       "    <tr>\n",
       "      <th>0</th>\n",
       "      <td>Raw Reads</td>\n",
       "      <td>129062724</td>\n",
       "    </tr>\n",
       "    <tr>\n",
       "      <th>1</th>\n",
       "      <td>Reads with CS1</td>\n",
       "      <td>79758735</td>\n",
       "    </tr>\n",
       "    <tr>\n",
       "      <th>2</th>\n",
       "      <td>Reads with Protospacer</td>\n",
       "      <td>86228102</td>\n",
       "    </tr>\n",
       "    <tr>\n",
       "      <th>3</th>\n",
       "      <td>Dedup reads</td>\n",
       "      <td>1952601</td>\n",
       "    </tr>\n",
       "    <tr>\n",
       "      <th>4</th>\n",
       "      <td>Unique barcodes</td>\n",
       "      <td>189614</td>\n",
       "    </tr>\n",
       "  </tbody>\n",
       "</table>\n",
       "</div>"
      ],
      "text/plain": [
       "                     Stat      Count\n",
       "0               Raw Reads  129062724\n",
       "1          Reads with CS1   79758735\n",
       "2  Reads with Protospacer   86228102\n",
       "3             Dedup reads    1952601\n",
       "4         Unique barcodes     189614"
      ]
     },
     "execution_count": 18,
     "metadata": {},
     "output_type": "execute_result"
    }
   ],
   "source": [
    "df_stats = pd.DataFrame(stats, columns=[\"Stat\", \"Count\"])\n",
    "df_stats"
   ]
  },
  {
   "cell_type": "code",
   "execution_count": 19,
   "id": "36f44fd0",
   "metadata": {
    "execution": {
     "iopub.execute_input": "2023-08-17T21:18:35.225740Z",
     "iopub.status.busy": "2023-08-17T21:18:35.225436Z",
     "iopub.status.idle": "2023-08-17T21:18:35.230783Z",
     "shell.execute_reply": "2023-08-17T21:18:35.229918Z"
    },
    "papermill": {
     "duration": 0.010968,
     "end_time": "2023-08-17T21:18:35.231986",
     "exception": false,
     "start_time": "2023-08-17T21:18:35.221018",
     "status": "completed"
    },
    "tags": []
   },
   "outputs": [
    {
     "name": "stdout",
     "output_type": "stream",
     "text": [
      "129062724\n",
      "79758735\n",
      "86228102\n",
      "1952601\n",
      "189614\n"
     ]
    }
   ],
   "source": [
    "for i in df_stats.Count:\n",
    "    print(i)"
   ]
  }
 ],
 "metadata": {
  "kernelspec": {
   "display_name": "Python 3 (ipykernel)",
   "language": "python",
   "name": "python3"
  },
  "language_info": {
   "codemirror_mode": {
    "name": "ipython",
    "version": 3
   },
   "file_extension": ".py",
   "mimetype": "text/x-python",
   "name": "python",
   "nbconvert_exporter": "python",
   "pygments_lexer": "ipython3",
   "version": "3.10.9"
  },
  "papermill": {
   "default_parameters": {},
   "duration": 450.032841,
   "end_time": "2023-08-17T21:18:38.656971",
   "environment_variables": {},
   "exception": null,
   "input_path": "/home/kfeng/catatac/secondary/01_assign_guides_to_cells.py.ipynb",
   "output_path": "/data2/kfeng/deeper_guides_dasatinib/secondary/DASA2/notebooks/01_assign_guides_to_cells.py.ipynb",
   "parameters": {
    "fastq_path": "/data2/kfeng/deeper_guides_dasatinib/fastqs/",
    "library": "CRISPR-DASA2",
    "tsv_path": "/data2/kfeng/deeper_guides_dasatinib/dasatinib_primary_01HD/DASA2/tsv"
   },
   "start_time": "2023-08-17T21:11:08.624130",
   "version": "2.4.0"
  },
  "vscode": {
   "interpreter": {
    "hash": "31f2aee4e71d21fbe5cf8b01ff0e069b9275f58929596ceb00d14d90e3e16cd6"
   }
  }
 },
 "nbformat": 4,
 "nbformat_minor": 5
}