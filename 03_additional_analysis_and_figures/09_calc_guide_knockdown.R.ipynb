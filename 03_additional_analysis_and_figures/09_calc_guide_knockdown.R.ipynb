{
 "cells": [
  {
   "cell_type": "code",
   "execution_count": null,
   "metadata": {
    "vscode": {
     "languageId": "r"
    }
   },
   "outputs": [],
   "source": [
    "library(seurat)"
   ]
  },
  {
   "cell_type": "code",
   "execution_count": null,
   "metadata": {
    "vscode": {
     "languageId": "r"
    }
   },
   "outputs": [],
   "source": [
    "# Import data",
    "sobj <- readRDS('{PATH_1}')",
    ""
   ]
  },
  {
   "cell_type": "code",
   "execution_count": null,
   "metadata": {
    "vscode": {
     "languageId": "r"
    }
   },
   "outputs": [
    {
     "data": {
      "text/html": [
       "<style>\n",
       ".list-inline {list-style: none; margin:0; padding: 0}\n",
       ".list-inline>li {display: inline-block}\n",
       ".list-inline>li:not(:last-child)::after {content: \"\\00b7\"; padding: 0 .5ex}\n",
       "</style>\n",
       "<ol class=list-inline><li>'nCount_ATAC'</li><li>'nFeature_ATAC'</li><li>'nCount_RNA'</li><li>'nFeature_RNA'</li><li>'orig.ident'</li><li>'percent.mt'</li><li>'nucleosome_signal'</li><li>'nucleosome_percentile'</li><li>'TSS.enrichment'</li><li>'TSS.percentile'</li><li>'nCount_SCT'</li><li>'nFeature_SCT'</li><li>'predicted_doublets'</li><li>'doublet_scores'</li><li>'ATAC_snn_res.0.8'</li><li>'seurat_clusters'</li><li>'SCT.weight'</li><li>'ATAC.weight'</li><li>'wsnn_res.0.8'</li><li>'guidecapture_classification'</li><li>'S.Score'</li><li>'G2M.Score'</li><li>'Phase'</li><li>'old.ident'</li><li>'SCT_snn_res.0.8'</li><li>'Perturbation'</li><li>'isNT'</li><li>'mixscape_class'</li><li>'mixscape_class_p_kd'</li><li>'mixscape_class.global'</li><li>'sample'</li><li>'treatment'</li><li>'treatment_and_guidecapture'</li><li>'nCount_PRTB'</li><li>'nFeature_PRTB'</li></ol>\n"
      ],
      "text/latex": [
       "\\begin{enumerate*}\n",
       "\\item 'nCount\\_ATAC'\n",
       "\\item 'nFeature\\_ATAC'\n",
       "\\item 'nCount\\_RNA'\n",
       "\\item 'nFeature\\_RNA'\n",
       "\\item 'orig.ident'\n",
       "\\item 'percent.mt'\n",
       "\\item 'nucleosome\\_signal'\n",
       "\\item 'nucleosome\\_percentile'\n",
       "\\item 'TSS.enrichment'\n",
       "\\item 'TSS.percentile'\n",
       "\\item 'nCount\\_SCT'\n",
       "\\item 'nFeature\\_SCT'\n",
       "\\item 'predicted\\_doublets'\n",
       "\\item 'doublet\\_scores'\n",
       "\\item 'ATAC\\_snn\\_res.0.8'\n",
       "\\item 'seurat\\_clusters'\n",
       "\\item 'SCT.weight'\n",
       "\\item 'ATAC.weight'\n",
       "\\item 'wsnn\\_res.0.8'\n",
       "\\item 'guidecapture\\_classification'\n",
       "\\item 'S.Score'\n",
       "\\item 'G2M.Score'\n",
       "\\item 'Phase'\n",
       "\\item 'old.ident'\n",
       "\\item 'SCT\\_snn\\_res.0.8'\n",
       "\\item 'Perturbation'\n",
       "\\item 'isNT'\n",
       "\\item 'mixscape\\_class'\n",
       "\\item 'mixscape\\_class\\_p\\_kd'\n",
       "\\item 'mixscape\\_class.global'\n",
       "\\item 'sample'\n",
       "\\item 'treatment'\n",
       "\\item 'treatment\\_and\\_guidecapture'\n",
       "\\item 'nCount\\_PRTB'\n",
       "\\item 'nFeature\\_PRTB'\n",
       "\\end{enumerate*}\n"
      ],
      "text/markdown": [
       "1. 'nCount_ATAC'\n",
       "2. 'nFeature_ATAC'\n",
       "3. 'nCount_RNA'\n",
       "4. 'nFeature_RNA'\n",
       "5. 'orig.ident'\n",
       "6. 'percent.mt'\n",
       "7. 'nucleosome_signal'\n",
       "8. 'nucleosome_percentile'\n",
       "9. 'TSS.enrichment'\n",
       "10. 'TSS.percentile'\n",
       "11. 'nCount_SCT'\n",
       "12. 'nFeature_SCT'\n",
       "13. 'predicted_doublets'\n",
       "14. 'doublet_scores'\n",
       "15. 'ATAC_snn_res.0.8'\n",
       "16. 'seurat_clusters'\n",
       "17. 'SCT.weight'\n",
       "18. 'ATAC.weight'\n",
       "19. 'wsnn_res.0.8'\n",
       "20. 'guidecapture_classification'\n",
       "21. 'S.Score'\n",
       "22. 'G2M.Score'\n",
       "23. 'Phase'\n",
       "24. 'old.ident'\n",
       "25. 'SCT_snn_res.0.8'\n",
       "26. 'Perturbation'\n",
       "27. 'isNT'\n",
       "28. 'mixscape_class'\n",
       "29. 'mixscape_class_p_kd'\n",
       "30. 'mixscape_class.global'\n",
       "31. 'sample'\n",
       "32. 'treatment'\n",
       "33. 'treatment_and_guidecapture'\n",
       "34. 'nCount_PRTB'\n",
       "35. 'nFeature_PRTB'\n",
       "\n",
       "\n"
      ],
      "text/plain": [
       " [1] \"nCount_ATAC\"                 \"nFeature_ATAC\"              \n",
       " [3] \"nCount_RNA\"                  \"nFeature_RNA\"               \n",
       " [5] \"orig.ident\"                  \"percent.mt\"                 \n",
       " [7] \"nucleosome_signal\"           \"nucleosome_percentile\"      \n",
       " [9] \"TSS.enrichment\"              \"TSS.percentile\"             \n",
       "[11] \"nCount_SCT\"                  \"nFeature_SCT\"               \n",
       "[13] \"predicted_doublets\"          \"doublet_scores\"             \n",
       "[15] \"ATAC_snn_res.0.8\"            \"seurat_clusters\"            \n",
       "[17] \"SCT.weight\"                  \"ATAC.weight\"                \n",
       "[19] \"wsnn_res.0.8\"                \"guidecapture_classification\"\n",
       "[21] \"S.Score\"                     \"G2M.Score\"                  \n",
       "[23] \"Phase\"                       \"old.ident\"                  \n",
       "[25] \"SCT_snn_res.0.8\"             \"Perturbation\"               \n",
       "[27] \"isNT\"                        \"mixscape_class\"             \n",
       "[29] \"mixscape_class_p_kd\"         \"mixscape_class.global\"      \n",
       "[31] \"sample\"                      \"treatment\"                  \n",
       "[33] \"treatment_and_guidecapture\"  \"nCount_PRTB\"                \n",
       "[35] \"nFeature_PRTB\"              "
      ]
     },
     "metadata": {},
     "output_type": "display_data"
    }
   ],
   "source": [
    "colnames(sobj@meta.data)"
   ]
  },
  {
   "cell_type": "code",
   "execution_count": 15,
   "metadata": {
    "vscode": {
     "languageId": "r"
    }
   },
   "outputs": [
    {
     "data": {
      "text/plain": [
       "\n",
       "DASA DMSO \n",
       "4519 3475 "
      ]
     },
     "metadata": {},
     "output_type": "display_data"
    }
   ],
   "source": [
    "Idents(sobj) <- sobj$treatment\n",
    "table(Idents(sobj))"
   ]
  },
  {
   "cell_type": "code",
   "execution_count": 16,
   "metadata": {
    "vscode": {
     "languageId": "r"
    }
   },
   "outputs": [],
   "source": [
    "dasa_sobj <- subset(sobj, idents = \"DASA\")\n",
    "dmso_sobj <- subset(sobj, idents = \"DMSO\")"
   ]
  },
  {
   "cell_type": "code",
   "execution_count": 18,
   "metadata": {
    "vscode": {
     "languageId": "r"
    }
   },
   "outputs": [
    {
     "data": {
      "text/plain": [
       "\n",
       "     NT    HIC2   PIAS1    CHD2 GPBP1L1   PQBP1   KMT2B    SLTM  PLAGL2  YEATS4 \n",
       "   2615     375     309     226     131     102     210     221      83     121 \n",
       "   ADNP    BRD2  ZNF669 \n",
       "     15      32      79 "
      ]
     },
     "metadata": {},
     "output_type": "display_data"
    },
    {
     "data": {
      "text/plain": [
       "\n",
       "  KMT2B    CHD2      NT    BRD2 GPBP1L1    HIC2   PIAS1   ZBED6  YEATS4  ZNF669 \n",
       "    152      51    1661     148     222     216     299     126     241     121 \n",
       "   ADNP    SLTM     MNT \n",
       "     98     113      27 "
      ]
     },
     "metadata": {},
     "output_type": "display_data"
    }
   ],
   "source": [
    "Idents(dasa_sobj) <- dasa_sobj$treatment_and_guidecapture\n",
    "Idents(dmso_sobj) <- dmso_sobj$treatment_and_guidecapture\n",
    "\n",
    "# Create new col with just guide name (remove \"DASA_\" or \"DMSO_\")\n",
    "dasa_sobj$guide <- gsub(\"DASA_\", \"\", Idents(dasa_sobj))\n",
    "dmso_sobj$guide <- gsub(\"DMSO_\", \"\", Idents(dmso_sobj))\n",
    "\n",
    "\n",
    "Idents(dasa_sobj) <- dasa_sobj$guide\n",
    "Idents(dmso_sobj) <- dmso_sobj$guide\n",
    "\n",
    "\n",
    "# Print table of idents\n",
    "table(Idents(dasa_sobj))\n",
    "table(Idents(dmso_sobj))\n"
   ]
  },
  {
   "cell_type": "code",
   "execution_count": 22,
   "metadata": {
    "vscode": {
     "languageId": "r"
    }
   },
   "outputs": [],
   "source": [
    "calculate_perturb_knockdown <- function(seurat_obj, control_group = \"NT\") {\n",
    "\t# Set assay to SCT\n",
    "\tDefaultAssay(seurat_obj) <- \"SCT\"\n",
    "\t\n",
    "\t# Get all unique perturbations (excluding NT)\n",
    "\tperturbations <- setdiff(unique(Idents(seurat_obj)), control_group)\n",
    "\t\n",
    "\t# Initialize results list\n",
    "\tall_results <- list()\n",
    "\t\n",
    "\t# For each perturbation\n",
    "\tfor(perturb in perturbations) {\n",
    "\t\t# Get cells for this condition\n",
    "\t\tcontrol_cells <- WhichCells(seurat_obj, idents = control_group)\n",
    "\t\tperturb_cells <- WhichCells(seurat_obj, idents = perturb)\n",
    "\t\t\n",
    "\t\t# Calculate mean expression of the perturbed gene\n",
    "\t\tcontrol_mean <- mean(GetAssayData(seurat_obj)[perturb, control_cells])\n",
    "\t\tperturb_mean <- mean(GetAssayData(seurat_obj)[perturb, perturb_cells])\n",
    "\t\t\n",
    "\t\t# Calculate knockdown percentage\n",
    "\t\tpercent_kd <- (1 - (perturb_mean / control_mean)) * 100\n",
    "\t\t\n",
    "\t\t# Store results\n",
    "\t\tall_results[[perturb]] <- data.frame(\n",
    "\t\t\ttarget_gene = perturb,\n",
    "\t\t\tcontrol_expression = control_mean,\n",
    "\t\t\tperturb_expression = perturb_mean,\n",
    "\t\t\tpercent_knockdown = percent_kd\n",
    "\t\t)\n",
    "\t}\n",
    "\t\n",
    "\t# Combine all results\n",
    "\tfinal_results <- do.call(rbind, all_results)\n",
    "\trownames(final_results) <- NULL\n",
    "\t\n",
    "\treturn(final_results)\n",
    "}\n"
   ]
  },
  {
   "cell_type": "code",
   "execution_count": 33,
   "metadata": {
    "vscode": {
     "languageId": "r"
    }
   },
   "outputs": [
    {
     "name": "stdout",
     "output_type": "stream",
     "text": [
      "DASA knockdown results:"
     ]
    },
    {
     "data": {
      "text/html": [
       "<table class=\"dataframe\">\n",
       "<caption>A data.frame: 12 \u00d7 4</caption>\n",
       "<thead>\n",
       "\t<tr><th></th><th scope=col>target_gene</th><th scope=col>control_expression</th><th scope=col>perturb_expression</th><th scope=col>percent_knockdown</th></tr>\n",
       "\t<tr><th></th><th scope=col>&lt;chr&gt;</th><th scope=col>&lt;dbl&gt;</th><th scope=col>&lt;dbl&gt;</th><th scope=col>&lt;dbl&gt;</th></tr>\n",
       "</thead>\n",
       "<tbody>\n",
       "\t<tr><th scope=row>6</th><td>KMT2B  </td><td>0.13337914</td><td>0.00000000</td><td>100.00000</td></tr>\n",
       "\t<tr><th scope=row>7</th><td>SLTM   </td><td>0.47773696</td><td>0.02248784</td><td> 95.29284</td></tr>\n",
       "\t<tr><th scope=row>4</th><td>GPBP1L1</td><td>0.76649898</td><td>0.04542475</td><td> 94.07374</td></tr>\n",
       "\t<tr><th scope=row>2</th><td>PIAS1  </td><td>0.89817390</td><td>0.05421785</td><td> 93.96355</td></tr>\n",
       "\t<tr><th scope=row>10</th><td>ADNP   </td><td>0.41333198</td><td>0.04620981</td><td> 88.82017</td></tr>\n",
       "\t<tr><th scope=row>3</th><td>CHD2   </td><td>0.88299342</td><td>0.13292431</td><td> 84.94617</td></tr>\n",
       "\t<tr><th scope=row>9</th><td>YEATS4 </td><td>0.12646318</td><td>0.02053642</td><td> 83.76095</td></tr>\n",
       "\t<tr><th scope=row>1</th><td>HIC2   </td><td>0.48954566</td><td>0.12788931</td><td> 73.87592</td></tr>\n",
       "\t<tr><th scope=row>8</th><td>PLAGL2 </td><td>0.11242858</td><td>0.04175585</td><td> 62.86011</td></tr>\n",
       "\t<tr><th scope=row>11</th><td>BRD2   </td><td>0.24416444</td><td>0.09931418</td><td> 59.32488</td></tr>\n",
       "\t<tr><th scope=row>12</th><td>ZNF669 </td><td>0.03706936</td><td>0.01754803</td><td> 52.66163</td></tr>\n",
       "\t<tr><th scope=row>5</th><td>PQBP1  </td><td>0.06247064</td><td>0.03115739</td><td> 50.12474</td></tr>\n",
       "</tbody>\n",
       "</table>\n"
      ],
      "text/latex": [
       "A data.frame: 12 \u00d7 4\n",
       "\\begin{tabular}{r|llll}\n",
       "  & target\\_gene & control\\_expression & perturb\\_expression & percent\\_knockdown\\\\\n",
       "  & <chr> & <dbl> & <dbl> & <dbl>\\\\\n",
       "\\hline\n",
       "\t6 & KMT2B   & 0.13337914 & 0.00000000 & 100.00000\\\\\n",
       "\t7 & SLTM    & 0.47773696 & 0.02248784 &  95.29284\\\\\n",
       "\t4 & GPBP1L1 & 0.76649898 & 0.04542475 &  94.07374\\\\\n",
       "\t2 & PIAS1   & 0.89817390 & 0.05421785 &  93.96355\\\\\n",
       "\t10 & ADNP    & 0.41333198 & 0.04620981 &  88.82017\\\\\n",
       "\t3 & CHD2    & 0.88299342 & 0.13292431 &  84.94617\\\\\n",
       "\t9 & YEATS4  & 0.12646318 & 0.02053642 &  83.76095\\\\\n",
       "\t1 & HIC2    & 0.48954566 & 0.12788931 &  73.87592\\\\\n",
       "\t8 & PLAGL2  & 0.11242858 & 0.04175585 &  62.86011\\\\\n",
       "\t11 & BRD2    & 0.24416444 & 0.09931418 &  59.32488\\\\\n",
       "\t12 & ZNF669  & 0.03706936 & 0.01754803 &  52.66163\\\\\n",
       "\t5 & PQBP1   & 0.06247064 & 0.03115739 &  50.12474\\\\\n",
       "\\end{tabular}\n"
      ],
      "text/markdown": [
       "\n",
       "A data.frame: 12 \u00d7 4\n",
       "\n",
       "| <!--/--> | target_gene &lt;chr&gt; | control_expression &lt;dbl&gt; | perturb_expression &lt;dbl&gt; | percent_knockdown &lt;dbl&gt; |\n",
       "|---|---|---|---|---|\n",
       "| 6 | KMT2B   | 0.13337914 | 0.00000000 | 100.00000 |\n",
       "| 7 | SLTM    | 0.47773696 | 0.02248784 |  95.29284 |\n",
       "| 4 | GPBP1L1 | 0.76649898 | 0.04542475 |  94.07374 |\n",
       "| 2 | PIAS1   | 0.89817390 | 0.05421785 |  93.96355 |\n",
       "| 10 | ADNP    | 0.41333198 | 0.04620981 |  88.82017 |\n",
       "| 3 | CHD2    | 0.88299342 | 0.13292431 |  84.94617 |\n",
       "| 9 | YEATS4  | 0.12646318 | 0.02053642 |  83.76095 |\n",
       "| 1 | HIC2    | 0.48954566 | 0.12788931 |  73.87592 |\n",
       "| 8 | PLAGL2  | 0.11242858 | 0.04175585 |  62.86011 |\n",
       "| 11 | BRD2    | 0.24416444 | 0.09931418 |  59.32488 |\n",
       "| 12 | ZNF669  | 0.03706936 | 0.01754803 |  52.66163 |\n",
       "| 5 | PQBP1   | 0.06247064 | 0.03115739 |  50.12474 |\n",
       "\n"
      ],
      "text/plain": [
       "   target_gene control_expression perturb_expression percent_knockdown\n",
       "6  KMT2B       0.13337914         0.00000000         100.00000        \n",
       "7  SLTM        0.47773696         0.02248784          95.29284        \n",
       "4  GPBP1L1     0.76649898         0.04542475          94.07374        \n",
       "2  PIAS1       0.89817390         0.05421785          93.96355        \n",
       "10 ADNP        0.41333198         0.04620981          88.82017        \n",
       "3  CHD2        0.88299342         0.13292431          84.94617        \n",
       "9  YEATS4      0.12646318         0.02053642          83.76095        \n",
       "1  HIC2        0.48954566         0.12788931          73.87592        \n",
       "8  PLAGL2      0.11242858         0.04175585          62.86011        \n",
       "11 BRD2        0.24416444         0.09931418          59.32488        \n",
       "12 ZNF669      0.03706936         0.01754803          52.66163        \n",
       "5  PQBP1       0.06247064         0.03115739          50.12474        "
      ]
     },
     "metadata": {},
     "output_type": "display_data"
    },
    {
     "name": "stdout",
     "output_type": "stream",
     "text": [
      "DMSO knockdown results:"
     ]
    },
    {
     "data": {
      "text/html": [
       "<table class=\"dataframe\">\n",
       "<caption>A data.frame: 12 \u00d7 4</caption>\n",
       "<thead>\n",
       "\t<tr><th></th><th scope=col>target_gene</th><th scope=col>control_expression</th><th scope=col>perturb_expression</th><th scope=col>percent_knockdown</th></tr>\n",
       "\t<tr><th></th><th scope=col>&lt;chr&gt;</th><th scope=col>&lt;dbl&gt;</th><th scope=col>&lt;dbl&gt;</th><th scope=col>&lt;dbl&gt;</th></tr>\n",
       "</thead>\n",
       "<tbody>\n",
       "\t<tr><th scope=row>2</th><td>CHD2   </td><td>0.93074975</td><td>0.040773364</td><td> 95.61930</td></tr>\n",
       "\t<tr><th scope=row>6</th><td>PIAS1  </td><td>0.90453822</td><td>0.051394719</td><td> 94.31813</td></tr>\n",
       "\t<tr><th scope=row>1</th><td>KMT2B  </td><td>0.10579960</td><td>0.009120358</td><td> 91.37959</td></tr>\n",
       "\t<tr><th scope=row>4</th><td>GPBP1L1</td><td>0.66362239</td><td>0.067924950</td><td> 89.76452</td></tr>\n",
       "\t<tr><th scope=row>3</th><td>BRD2   </td><td>0.30489862</td><td>0.032783988</td><td> 89.24758</td></tr>\n",
       "\t<tr><th scope=row>10</th><td>ADNP   </td><td>0.36137351</td><td>0.074866703</td><td> 79.28274</td></tr>\n",
       "\t<tr><th scope=row>8</th><td>YEATS4 </td><td>0.26678049</td><td>0.056328886</td><td> 78.88568</td></tr>\n",
       "\t<tr><th scope=row>11</th><td>SLTM   </td><td>0.57856967</td><td>0.132403150</td><td> 77.11544</td></tr>\n",
       "\t<tr><th scope=row>7</th><td>ZBED6  </td><td>0.02486523</td><td>0.011002336</td><td> 55.75213</td></tr>\n",
       "\t<tr><th scope=row>5</th><td>HIC2   </td><td>0.34594606</td><td>0.164509057</td><td> 52.44662</td></tr>\n",
       "\t<tr><th scope=row>9</th><td>ZNF669 </td><td>0.05947035</td><td>0.068741869</td><td>-15.59016</td></tr>\n",
       "\t<tr><th scope=row>12</th><td>MNT    </td><td>0.04702204</td><td>0.077016353</td><td>-63.78776</td></tr>\n",
       "</tbody>\n",
       "</table>\n"
      ],
      "text/latex": [
       "A data.frame: 12 \u00d7 4\n",
       "\\begin{tabular}{r|llll}\n",
       "  & target\\_gene & control\\_expression & perturb\\_expression & percent\\_knockdown\\\\\n",
       "  & <chr> & <dbl> & <dbl> & <dbl>\\\\\n",
       "\\hline\n",
       "\t2 & CHD2    & 0.93074975 & 0.040773364 &  95.61930\\\\\n",
       "\t6 & PIAS1   & 0.90453822 & 0.051394719 &  94.31813\\\\\n",
       "\t1 & KMT2B   & 0.10579960 & 0.009120358 &  91.37959\\\\\n",
       "\t4 & GPBP1L1 & 0.66362239 & 0.067924950 &  89.76452\\\\\n",
       "\t3 & BRD2    & 0.30489862 & 0.032783988 &  89.24758\\\\\n",
       "\t10 & ADNP    & 0.36137351 & 0.074866703 &  79.28274\\\\\n",
       "\t8 & YEATS4  & 0.26678049 & 0.056328886 &  78.88568\\\\\n",
       "\t11 & SLTM    & 0.57856967 & 0.132403150 &  77.11544\\\\\n",
       "\t7 & ZBED6   & 0.02486523 & 0.011002336 &  55.75213\\\\\n",
       "\t5 & HIC2    & 0.34594606 & 0.164509057 &  52.44662\\\\\n",
       "\t9 & ZNF669  & 0.05947035 & 0.068741869 & -15.59016\\\\\n",
       "\t12 & MNT     & 0.04702204 & 0.077016353 & -63.78776\\\\\n",
       "\\end{tabular}\n"
      ],
      "text/markdown": [
       "\n",
       "A data.frame: 12 \u00d7 4\n",
       "\n",
       "| <!--/--> | target_gene &lt;chr&gt; | control_expression &lt;dbl&gt; | perturb_expression &lt;dbl&gt; | percent_knockdown &lt;dbl&gt; |\n",
       "|---|---|---|---|---|\n",
       "| 2 | CHD2    | 0.93074975 | 0.040773364 |  95.61930 |\n",
       "| 6 | PIAS1   | 0.90453822 | 0.051394719 |  94.31813 |\n",
       "| 1 | KMT2B   | 0.10579960 | 0.009120358 |  91.37959 |\n",
       "| 4 | GPBP1L1 | 0.66362239 | 0.067924950 |  89.76452 |\n",
       "| 3 | BRD2    | 0.30489862 | 0.032783988 |  89.24758 |\n",
       "| 10 | ADNP    | 0.36137351 | 0.074866703 |  79.28274 |\n",
       "| 8 | YEATS4  | 0.26678049 | 0.056328886 |  78.88568 |\n",
       "| 11 | SLTM    | 0.57856967 | 0.132403150 |  77.11544 |\n",
       "| 7 | ZBED6   | 0.02486523 | 0.011002336 |  55.75213 |\n",
       "| 5 | HIC2    | 0.34594606 | 0.164509057 |  52.44662 |\n",
       "| 9 | ZNF669  | 0.05947035 | 0.068741869 | -15.59016 |\n",
       "| 12 | MNT     | 0.04702204 | 0.077016353 | -63.78776 |\n",
       "\n"
      ],
      "text/plain": [
       "   target_gene control_expression perturb_expression percent_knockdown\n",
       "2  CHD2        0.93074975         0.040773364         95.61930        \n",
       "6  PIAS1       0.90453822         0.051394719         94.31813        \n",
       "1  KMT2B       0.10579960         0.009120358         91.37959        \n",
       "4  GPBP1L1     0.66362239         0.067924950         89.76452        \n",
       "3  BRD2        0.30489862         0.032783988         89.24758        \n",
       "10 ADNP        0.36137351         0.074866703         79.28274        \n",
       "8  YEATS4      0.26678049         0.056328886         78.88568        \n",
       "11 SLTM        0.57856967         0.132403150         77.11544        \n",
       "7  ZBED6       0.02486523         0.011002336         55.75213        \n",
       "5  HIC2        0.34594606         0.164509057         52.44662        \n",
       "9  ZNF669      0.05947035         0.068741869        -15.59016        \n",
       "12 MNT         0.04702204         0.077016353        -63.78776        "
      ]
     },
     "metadata": {},
     "output_type": "display_data"
    }
   ],
   "source": [
    "# Run for DASA\n",
    "dasa_knockdown_results <- calculate_perturb_knockdown(dasa_sobj)\n",
    "cat(\"DASA knockdown results:\")\n",
    "dasa_knockdown_results[order(dasa_knockdown_results$percent_knockdown, decreasing=TRUE),]\n",
    "\n",
    "# Run for DMSO\n",
    "dmso_knockdown_results <- calculate_perturb_knockdown(dmso_sobj)\n",
    "cat(\"DMSO knockdown results:\")\n",
    "dmso_knockdown_results[order(dmso_knockdown_results$percent_knockdown, decreasing=TRUE),]"
   ]
  },
  {
   "cell_type": "code",
   "execution_count": 30,
   "metadata": {
    "vscode": {
     "languageId": "r"
    }
   },
   "outputs": [],
   "source": [
    "# Find overlapping genes\n",
    "overlapping_genes <- intersect(dmso_knockdown_results$target_gene, dasa_knockdown_results$target_gene)\n",
    "\n",
    "# Calculate mean knockdown\n",
    "mean_knockdown <- data.frame(\n",
    "\ttarget_gene = overlapping_genes,\n",
    "\tdmso_kd = dmso_knockdown_results$percent_knockdown[match(overlapping_genes, dmso_knockdown_results$target_gene)],\n",
    "\tdasa_kd = dasa_knockdown_results$percent_knockdown[match(overlapping_genes, dasa_knockdown_results$target_gene)],\n",
    "\tmean_kd = NA  # We'll fill this next\n",
    ")\n",
    "\n",
    "# Calculate mean knockdown percentage\n",
    "mean_knockdown$mean_kd <- rowMeans(mean_knockdown[, c(\"dmso_kd\", \"dasa_kd\")])"
   ]
  },
  {
   "cell_type": "code",
   "execution_count": 34,
   "metadata": {
    "vscode": {
     "languageId": "r"
    }
   },
   "outputs": [
    {
     "name": "stdout",
     "output_type": "stream",
     "text": [
      "Mean knockdown results:"
     ]
    },
    {
     "data": {
      "text/html": [
       "<table class=\"dataframe\">\n",
       "<caption>A data.frame: 10 \u00d7 4</caption>\n",
       "<thead>\n",
       "\t<tr><th></th><th scope=col>target_gene</th><th scope=col>dmso_kd</th><th scope=col>dasa_kd</th><th scope=col>mean_kd</th></tr>\n",
       "\t<tr><th></th><th scope=col>&lt;chr&gt;</th><th scope=col>&lt;dbl&gt;</th><th scope=col>&lt;dbl&gt;</th><th scope=col>&lt;dbl&gt;</th></tr>\n",
       "</thead>\n",
       "<tbody>\n",
       "\t<tr><th scope=row>1</th><td>KMT2B  </td><td> 91.37959</td><td>100.00000</td><td>95.68980</td></tr>\n",
       "\t<tr><th scope=row>6</th><td>PIAS1  </td><td> 94.31813</td><td> 93.96355</td><td>94.14084</td></tr>\n",
       "\t<tr><th scope=row>4</th><td>GPBP1L1</td><td> 89.76452</td><td> 94.07374</td><td>91.91913</td></tr>\n",
       "\t<tr><th scope=row>2</th><td>CHD2   </td><td> 95.61930</td><td> 84.94617</td><td>90.28274</td></tr>\n",
       "\t<tr><th scope=row>10</th><td>SLTM   </td><td> 77.11544</td><td> 95.29284</td><td>86.20414</td></tr>\n",
       "\t<tr><th scope=row>9</th><td>ADNP   </td><td> 79.28274</td><td> 88.82017</td><td>84.05145</td></tr>\n",
       "\t<tr><th scope=row>7</th><td>YEATS4 </td><td> 78.88568</td><td> 83.76095</td><td>81.32332</td></tr>\n",
       "\t<tr><th scope=row>3</th><td>BRD2   </td><td> 89.24758</td><td> 59.32488</td><td>74.28623</td></tr>\n",
       "\t<tr><th scope=row>5</th><td>HIC2   </td><td> 52.44662</td><td> 73.87592</td><td>63.16127</td></tr>\n",
       "\t<tr><th scope=row>8</th><td>ZNF669 </td><td>-15.59016</td><td> 52.66163</td><td>18.53574</td></tr>\n",
       "</tbody>\n",
       "</table>\n"
      ],
      "text/latex": [
       "A data.frame: 10 \u00d7 4\n",
       "\\begin{tabular}{r|llll}\n",
       "  & target\\_gene & dmso\\_kd & dasa\\_kd & mean\\_kd\\\\\n",
       "  & <chr> & <dbl> & <dbl> & <dbl>\\\\\n",
       "\\hline\n",
       "\t1 & KMT2B   &  91.37959 & 100.00000 & 95.68980\\\\\n",
       "\t6 & PIAS1   &  94.31813 &  93.96355 & 94.14084\\\\\n",
       "\t4 & GPBP1L1 &  89.76452 &  94.07374 & 91.91913\\\\\n",
       "\t2 & CHD2    &  95.61930 &  84.94617 & 90.28274\\\\\n",
       "\t10 & SLTM    &  77.11544 &  95.29284 & 86.20414\\\\\n",
       "\t9 & ADNP    &  79.28274 &  88.82017 & 84.05145\\\\\n",
       "\t7 & YEATS4  &  78.88568 &  83.76095 & 81.32332\\\\\n",
       "\t3 & BRD2    &  89.24758 &  59.32488 & 74.28623\\\\\n",
       "\t5 & HIC2    &  52.44662 &  73.87592 & 63.16127\\\\\n",
       "\t8 & ZNF669  & -15.59016 &  52.66163 & 18.53574\\\\\n",
       "\\end{tabular}\n"
      ],
      "text/markdown": [
       "\n",
       "A data.frame: 10 \u00d7 4\n",
       "\n",
       "| <!--/--> | target_gene &lt;chr&gt; | dmso_kd &lt;dbl&gt; | dasa_kd &lt;dbl&gt; | mean_kd &lt;dbl&gt; |\n",
       "|---|---|---|---|---|\n",
       "| 1 | KMT2B   |  91.37959 | 100.00000 | 95.68980 |\n",
       "| 6 | PIAS1   |  94.31813 |  93.96355 | 94.14084 |\n",
       "| 4 | GPBP1L1 |  89.76452 |  94.07374 | 91.91913 |\n",
       "| 2 | CHD2    |  95.61930 |  84.94617 | 90.28274 |\n",
       "| 10 | SLTM    |  77.11544 |  95.29284 | 86.20414 |\n",
       "| 9 | ADNP    |  79.28274 |  88.82017 | 84.05145 |\n",
       "| 7 | YEATS4  |  78.88568 |  83.76095 | 81.32332 |\n",
       "| 3 | BRD2    |  89.24758 |  59.32488 | 74.28623 |\n",
       "| 5 | HIC2    |  52.44662 |  73.87592 | 63.16127 |\n",
       "| 8 | ZNF669  | -15.59016 |  52.66163 | 18.53574 |\n",
       "\n"
      ],
      "text/plain": [
       "   target_gene dmso_kd   dasa_kd   mean_kd \n",
       "1  KMT2B        91.37959 100.00000 95.68980\n",
       "6  PIAS1        94.31813  93.96355 94.14084\n",
       "4  GPBP1L1      89.76452  94.07374 91.91913\n",
       "2  CHD2         95.61930  84.94617 90.28274\n",
       "10 SLTM         77.11544  95.29284 86.20414\n",
       "9  ADNP         79.28274  88.82017 84.05145\n",
       "7  YEATS4       78.88568  83.76095 81.32332\n",
       "3  BRD2         89.24758  59.32488 74.28623\n",
       "5  HIC2         52.44662  73.87592 63.16127\n",
       "8  ZNF669      -15.59016  52.66163 18.53574"
      ]
     },
     "metadata": {},
     "output_type": "display_data"
    }
   ],
   "source": [
    "cat(\"Mean knockdown results:\")\n",
    "mean_knockdown[order(mean_knockdown$mean_kd, decreasing=TRUE),]"
   ]
  },
  {
   "cell_type": "code",
   "execution_count": null,
   "metadata": {
    "vscode": {
     "languageId": "r"
    }
   },
   "outputs": [],
   "source": []
  }
 ],
 "metadata": {
  "kernelspec": {
   "display_name": "R 4.3",
   "language": "R",
   "name": "ir43"
  },
  "language_info": {
   "codemirror_mode": "r",
   "file_extension": ".r",
   "mimetype": "text/x-r-source",
   "name": "R",
   "pygments_lexer": "r",
   "version": "4.3.3"
  }
 },
 "nbformat": 4,
 "nbformat_minor": 2
}