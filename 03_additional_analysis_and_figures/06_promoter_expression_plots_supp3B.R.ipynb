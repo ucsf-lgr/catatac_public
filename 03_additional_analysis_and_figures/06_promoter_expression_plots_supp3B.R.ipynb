{
 "cells": [
  {
   "cell_type": "code",
   "execution_count": 2,
   "metadata": {
    "vscode": {
     "languageId": "r"
    }
   },
   "outputs": [
    {
     "name": "stderr",
     "output_type": "stream",
     "text": [
      "Loading required package: SeuratObject\n",
      "\n",
      "Loading required package: sp\n",
      "\n"
     ]
    },
    {
     "name": "stderr",
     "output_type": "stream",
     "text": [
      "\n",
      "Attaching package: ‘SeuratObject’\n",
      "\n",
      "\n",
      "The following objects are masked from ‘package:base’:\n",
      "\n",
      "    intersect, t\n",
      "\n",
      "\n",
      "\n",
      "Attaching package: ‘dplyr’\n",
      "\n",
      "\n",
      "The following objects are masked from ‘package:stats’:\n",
      "\n",
      "    filter, lag\n",
      "\n",
      "\n",
      "The following objects are masked from ‘package:base’:\n",
      "\n",
      "    intersect, setdiff, setequal, union\n",
      "\n",
      "\n",
      "Loading required package: stats4\n",
      "\n",
      "Loading required package: BiocGenerics\n",
      "\n",
      "\n",
      "Attaching package: ‘BiocGenerics’\n",
      "\n",
      "\n",
      "The following objects are masked from ‘package:dplyr’:\n",
      "\n",
      "    combine, intersect, setdiff, union\n",
      "\n",
      "\n",
      "The following object is masked from ‘package:SeuratObject’:\n",
      "\n",
      "    intersect\n",
      "\n",
      "\n",
      "The following objects are masked from ‘package:stats’:\n",
      "\n",
      "    IQR, mad, sd, var, xtabs\n",
      "\n",
      "\n",
      "The following objects are masked from ‘package:base’:\n",
      "\n",
      "    anyDuplicated, aperm, append, as.data.frame, basename, cbind,\n",
      "    colnames, dirname, do.call, duplicated, eval, evalq, Filter, Find,\n",
      "    get, grep, grepl, intersect, is.unsorted, lapply, Map, mapply,\n",
      "    match, mget, order, paste, pmax, pmax.int, pmin, pmin.int,\n",
      "    Position, rank, rbind, Reduce, rownames, sapply, setdiff, sort,\n",
      "    table, tapply, union, unique, unsplit, which.max, which.min\n",
      "\n",
      "\n",
      "Loading required package: S4Vectors\n",
      "\n",
      "\n",
      "Attaching package: ‘S4Vectors’\n",
      "\n",
      "\n",
      "The following objects are masked from ‘package:dplyr’:\n",
      "\n",
      "    first, rename\n",
      "\n",
      "\n",
      "The following object is masked from ‘package:utils’:\n",
      "\n",
      "    findMatches\n",
      "\n",
      "\n",
      "The following objects are masked from ‘package:base’:\n",
      "\n",
      "    expand.grid, I, unname\n",
      "\n",
      "\n",
      "Loading required package: IRanges\n",
      "\n",
      "\n",
      "Attaching package: ‘IRanges’\n",
      "\n",
      "\n",
      "The following objects are masked from ‘package:dplyr’:\n",
      "\n",
      "    collapse, desc, slice\n",
      "\n",
      "\n",
      "The following object is masked from ‘package:sp’:\n",
      "\n",
      "    %over%\n",
      "\n",
      "\n",
      "Loading required package: GenomeInfoDb\n",
      "\n",
      "Loading required package: BSgenome\n",
      "\n",
      "Loading required package: Biostrings\n",
      "\n",
      "Loading required package: XVector\n",
      "\n",
      "\n",
      "Attaching package: ‘Biostrings’\n",
      "\n",
      "\n",
      "The following object is masked from ‘package:base’:\n",
      "\n",
      "    strsplit\n",
      "\n",
      "\n",
      "Loading required package: BiocIO\n",
      "\n",
      "Loading required package: rtracklayer\n",
      "\n",
      "\n",
      "Attaching package: ‘rtracklayer’\n",
      "\n",
      "\n",
      "The following object is masked from ‘package:BiocIO’:\n",
      "\n",
      "    FileForFormat\n",
      "\n",
      "\n",
      "\n",
      "Attaching package: ‘data.table’\n",
      "\n",
      "\n",
      "The following object is masked from ‘package:GenomicRanges’:\n",
      "\n",
      "    shift\n",
      "\n",
      "\n",
      "The following object is masked from ‘package:IRanges’:\n",
      "\n",
      "    shift\n",
      "\n",
      "\n",
      "The following objects are masked from ‘package:S4Vectors’:\n",
      "\n",
      "    first, second\n",
      "\n",
      "\n",
      "The following objects are masked from ‘package:dplyr’:\n",
      "\n",
      "    between, first, last\n",
      "\n",
      "\n"
     ]
    }
   ],
   "source": [
    "library(Seurat)\n",
    "library(Signac)\n",
    "library(dplyr)\n",
    "library(ggplot2)\n",
    "library(GenomicRanges)\n",
    "library(ggforce)\n",
    "library(BSgenome.Hsapiens.UCSC.hg38)\n",
    "library(data.table)\n",
    "library(biomaRt)\n",
    "library(pheatmap)\n",
    "library(GenomicRanges)"
   ]
  },
  {
   "cell_type": "code",
   "execution_count": 3,
   "metadata": {
    "vscode": {
     "languageId": "r"
    }
   },
   "outputs": [],
   "source": [
    "sobj <- readRDS('{PATH_1}')\n",
    "DefaultAssay(sobj) <- \"ATAC\"\n",
    "Idents(sobj) <- \"treatment_and_guidecapture\""
   ]
  },
  {
   "cell_type": "code",
   "execution_count": 4,
   "metadata": {
    "vscode": {
     "languageId": "r"
    }
   },
   "outputs": [
    {
     "data": {
      "text/plain": [
       "\n",
       "     DASA_NT    DASA_HIC2   DASA_PIAS1    DASA_CHD2 DASA_GPBP1L1   DASA_PQBP1 \n",
       "        2615          375          309          226          131          102 \n",
       "  DASA_KMT2B    DASA_SLTM  DASA_PLAGL2  DASA_YEATS4    DASA_ADNP    DASA_BRD2 \n",
       "         210          221           83          121           15           32 \n",
       " DASA_ZNF669   DMSO_KMT2B    DMSO_CHD2      DMSO_NT    DMSO_BRD2 DMSO_GPBP1L1 \n",
       "          79          152           51         1661          148          222 \n",
       "   DMSO_HIC2   DMSO_PIAS1   DMSO_ZBED6  DMSO_YEATS4  DMSO_ZNF669    DMSO_ADNP \n",
       "         216          299          126          241          121           98 \n",
       "   DMSO_SLTM     DMSO_MNT \n",
       "         113           27 "
      ]
     },
     "metadata": {},
     "output_type": "display_data"
    }
   ],
   "source": [
    "table(Idents(sobj))"
   ]
  },
  {
   "cell_type": "code",
   "execution_count": 5,
   "metadata": {
    "vscode": {
     "languageId": "r"
    }
   },
   "outputs": [
    {
     "data": {
      "text/html": [
       "<style>\n",
       ".list-inline {list-style: none; margin:0; padding: 0}\n",
       ".list-inline>li {display: inline-block}\n",
       ".list-inline>li:not(:last-child)::after {content: \"\\00b7\"; padding: 0 .5ex}\n",
       "</style>\n",
       "<ol class=list-inline><li>'nCount_ATAC'</li><li>'nFeature_ATAC'</li><li>'nCount_RNA'</li><li>'nFeature_RNA'</li><li>'orig.ident'</li><li>'percent.mt'</li><li>'nucleosome_signal'</li><li>'nucleosome_percentile'</li><li>'TSS.enrichment'</li><li>'TSS.percentile'</li><li>'nCount_SCT'</li><li>'nFeature_SCT'</li><li>'predicted_doublets'</li><li>'doublet_scores'</li><li>'ATAC_snn_res.0.8'</li><li>'seurat_clusters'</li><li>'SCT.weight'</li><li>'ATAC.weight'</li><li>'wsnn_res.0.8'</li><li>'guidecapture_classification'</li><li>'S.Score'</li><li>'G2M.Score'</li><li>'Phase'</li><li>'old.ident'</li><li>'SCT_snn_res.0.8'</li><li>'Perturbation'</li><li>'isNT'</li><li>'mixscape_class'</li><li>'mixscape_class_p_kd'</li><li>'mixscape_class.global'</li><li>'sample'</li><li>'treatment'</li><li>'treatment_and_guidecapture'</li><li>'nCount_PRTB'</li><li>'nFeature_PRTB'</li></ol>\n"
      ],
      "text/latex": [
       "\\begin{enumerate*}\n",
       "\\item 'nCount\\_ATAC'\n",
       "\\item 'nFeature\\_ATAC'\n",
       "\\item 'nCount\\_RNA'\n",
       "\\item 'nFeature\\_RNA'\n",
       "\\item 'orig.ident'\n",
       "\\item 'percent.mt'\n",
       "\\item 'nucleosome\\_signal'\n",
       "\\item 'nucleosome\\_percentile'\n",
       "\\item 'TSS.enrichment'\n",
       "\\item 'TSS.percentile'\n",
       "\\item 'nCount\\_SCT'\n",
       "\\item 'nFeature\\_SCT'\n",
       "\\item 'predicted\\_doublets'\n",
       "\\item 'doublet\\_scores'\n",
       "\\item 'ATAC\\_snn\\_res.0.8'\n",
       "\\item 'seurat\\_clusters'\n",
       "\\item 'SCT.weight'\n",
       "\\item 'ATAC.weight'\n",
       "\\item 'wsnn\\_res.0.8'\n",
       "\\item 'guidecapture\\_classification'\n",
       "\\item 'S.Score'\n",
       "\\item 'G2M.Score'\n",
       "\\item 'Phase'\n",
       "\\item 'old.ident'\n",
       "\\item 'SCT\\_snn\\_res.0.8'\n",
       "\\item 'Perturbation'\n",
       "\\item 'isNT'\n",
       "\\item 'mixscape\\_class'\n",
       "\\item 'mixscape\\_class\\_p\\_kd'\n",
       "\\item 'mixscape\\_class.global'\n",
       "\\item 'sample'\n",
       "\\item 'treatment'\n",
       "\\item 'treatment\\_and\\_guidecapture'\n",
       "\\item 'nCount\\_PRTB'\n",
       "\\item 'nFeature\\_PRTB'\n",
       "\\end{enumerate*}\n"
      ],
      "text/markdown": [
       "1. 'nCount_ATAC'\n",
       "2. 'nFeature_ATAC'\n",
       "3. 'nCount_RNA'\n",
       "4. 'nFeature_RNA'\n",
       "5. 'orig.ident'\n",
       "6. 'percent.mt'\n",
       "7. 'nucleosome_signal'\n",
       "8. 'nucleosome_percentile'\n",
       "9. 'TSS.enrichment'\n",
       "10. 'TSS.percentile'\n",
       "11. 'nCount_SCT'\n",
       "12. 'nFeature_SCT'\n",
       "13. 'predicted_doublets'\n",
       "14. 'doublet_scores'\n",
       "15. 'ATAC_snn_res.0.8'\n",
       "16. 'seurat_clusters'\n",
       "17. 'SCT.weight'\n",
       "18. 'ATAC.weight'\n",
       "19. 'wsnn_res.0.8'\n",
       "20. 'guidecapture_classification'\n",
       "21. 'S.Score'\n",
       "22. 'G2M.Score'\n",
       "23. 'Phase'\n",
       "24. 'old.ident'\n",
       "25. 'SCT_snn_res.0.8'\n",
       "26. 'Perturbation'\n",
       "27. 'isNT'\n",
       "28. 'mixscape_class'\n",
       "29. 'mixscape_class_p_kd'\n",
       "30. 'mixscape_class.global'\n",
       "31. 'sample'\n",
       "32. 'treatment'\n",
       "33. 'treatment_and_guidecapture'\n",
       "34. 'nCount_PRTB'\n",
       "35. 'nFeature_PRTB'\n",
       "\n",
       "\n"
      ],
      "text/plain": [
       " [1] \"nCount_ATAC\"                 \"nFeature_ATAC\"              \n",
       " [3] \"nCount_RNA\"                  \"nFeature_RNA\"               \n",
       " [5] \"orig.ident\"                  \"percent.mt\"                 \n",
       " [7] \"nucleosome_signal\"           \"nucleosome_percentile\"      \n",
       " [9] \"TSS.enrichment\"              \"TSS.percentile\"             \n",
       "[11] \"nCount_SCT\"                  \"nFeature_SCT\"               \n",
       "[13] \"predicted_doublets\"          \"doublet_scores\"             \n",
       "[15] \"ATAC_snn_res.0.8\"            \"seurat_clusters\"            \n",
       "[17] \"SCT.weight\"                  \"ATAC.weight\"                \n",
       "[19] \"wsnn_res.0.8\"                \"guidecapture_classification\"\n",
       "[21] \"S.Score\"                     \"G2M.Score\"                  \n",
       "[23] \"Phase\"                       \"old.ident\"                  \n",
       "[25] \"SCT_snn_res.0.8\"             \"Perturbation\"               \n",
       "[27] \"isNT\"                        \"mixscape_class\"             \n",
       "[29] \"mixscape_class_p_kd\"         \"mixscape_class.global\"      \n",
       "[31] \"sample\"                      \"treatment\"                  \n",
       "[33] \"treatment_and_guidecapture\"  \"nCount_PRTB\"                \n",
       "[35] \"nFeature_PRTB\"              "
      ]
     },
     "metadata": {},
     "output_type": "display_data"
    }
   ],
   "source": [
    "colnames(sobj@meta.data)"
   ]
  },
  {
   "cell_type": "code",
   "execution_count": 6,
   "metadata": {
    "vscode": {
     "languageId": "r"
    }
   },
   "outputs": [
    {
     "data": {
      "text/html": [
       "<style>\n",
       ".list-inline {list-style: none; margin:0; padding: 0}\n",
       ".list-inline>li {display: inline-block}\n",
       ".list-inline>li:not(:last-child)::after {content: \"\\00b7\"; padding: 0 .5ex}\n",
       "</style>\n",
       "<ol class=list-inline><li>'ADNP'</li><li>'BRD2'</li><li>'CHD2'</li><li>'CHD2'</li><li>'GPBP1L1'</li><li>'HIC2'</li><li>'HIC2'</li><li>'HIC2'</li><li>'KMT2B'</li><li>'MNT'</li><li>'NT'</li><li>'PIAS1'</li><li>'PIAS1'</li><li>'PLAGL2'</li><li>'PLAGL2'</li><li>'PQBP1'</li><li>'SLTM'</li><li>'YEATS4'</li><li>'YEATS4'</li><li>'YEATS4'</li><li>'ZBED6'</li><li>'ZNF669'</li></ol>\n"
      ],
      "text/latex": [
       "\\begin{enumerate*}\n",
       "\\item 'ADNP'\n",
       "\\item 'BRD2'\n",
       "\\item 'CHD2'\n",
       "\\item 'CHD2'\n",
       "\\item 'GPBP1L1'\n",
       "\\item 'HIC2'\n",
       "\\item 'HIC2'\n",
       "\\item 'HIC2'\n",
       "\\item 'KMT2B'\n",
       "\\item 'MNT'\n",
       "\\item 'NT'\n",
       "\\item 'PIAS1'\n",
       "\\item 'PIAS1'\n",
       "\\item 'PLAGL2'\n",
       "\\item 'PLAGL2'\n",
       "\\item 'PQBP1'\n",
       "\\item 'SLTM'\n",
       "\\item 'YEATS4'\n",
       "\\item 'YEATS4'\n",
       "\\item 'YEATS4'\n",
       "\\item 'ZBED6'\n",
       "\\item 'ZNF669'\n",
       "\\end{enumerate*}\n"
      ],
      "text/markdown": [
       "1. 'ADNP'\n",
       "2. 'BRD2'\n",
       "3. 'CHD2'\n",
       "4. 'CHD2'\n",
       "5. 'GPBP1L1'\n",
       "6. 'HIC2'\n",
       "7. 'HIC2'\n",
       "8. 'HIC2'\n",
       "9. 'KMT2B'\n",
       "10. 'MNT'\n",
       "11. 'NT'\n",
       "12. 'PIAS1'\n",
       "13. 'PIAS1'\n",
       "14. 'PLAGL2'\n",
       "15. 'PLAGL2'\n",
       "16. 'PQBP1'\n",
       "17. 'SLTM'\n",
       "18. 'YEATS4'\n",
       "19. 'YEATS4'\n",
       "20. 'YEATS4'\n",
       "21. 'ZBED6'\n",
       "22. 'ZNF669'\n",
       "\n",
       "\n"
      ],
      "text/plain": [
       " [1] \"ADNP\"    \"BRD2\"    \"CHD2\"    \"CHD2\"    \"GPBP1L1\" \"HIC2\"    \"HIC2\"   \n",
       " [8] \"HIC2\"    \"KMT2B\"   \"MNT\"     \"NT\"      \"PIAS1\"   \"PIAS1\"   \"PLAGL2\" \n",
       "[15] \"PLAGL2\"  \"PQBP1\"   \"SLTM\"    \"YEATS4\"  \"YEATS4\"  \"YEATS4\"  \"ZBED6\"  \n",
       "[22] \"ZNF669\" "
      ]
     },
     "metadata": {},
     "output_type": "display_data"
    }
   ],
   "source": [
    "# Get genes we're interested in\n",
    "genes <- names(table(sobj$guidecapture_classification))\n",
    "# Use gsub to remove \"-*\" (a hyphen and any characters that follow it) from each string\n",
    "genes <- gsub(\"-.*\", \"\", genes)\n",
    "\n",
    "genes"
   ]
  },
  {
   "cell_type": "code",
   "execution_count": 7,
   "metadata": {
    "vscode": {
     "languageId": "r"
    }
   },
   "outputs": [],
   "source": [
    "# listMarts()\n",
    "ensembl <- useMart(\"ensembl\")\n",
    "datasets <- listDatasets(ensembl)\n",
    "ensembl <- useDataset(\"hsapiens_gene_ensembl\", mart = ensembl)"
   ]
  },
  {
   "cell_type": "code",
   "execution_count": 8,
   "metadata": {
    "vscode": {
     "languageId": "r"
    }
   },
   "outputs": [],
   "source": [
    "getPromoterCoordinates <- function(tss, strand, upstream = 2000, downstream = 500) {\n",
    "  if (strand == 1) {\n",
    "    start <- ifelse(tss - upstream > 0, tss - upstream, 1)\n",
    "    end <- tss + downstream\n",
    "  } else {\n",
    "    start <- tss - downstream\n",
    "    end <- ifelse(tss + upstream > 0, tss + upstream, 1)\n",
    "  }\n",
    "  \n",
    "  return(list(start = start, end = end))\n",
    "}\n"
   ]
  },
  {
   "cell_type": "code",
   "execution_count": 9,
   "metadata": {
    "vscode": {
     "languageId": "r"
    }
   },
   "outputs": [],
   "source": [
    "attributes <- c('hgnc_symbol', 'chromosome_name', 'transcription_start_site', 'strand')\n",
    "\n",
    "filters <- 'hgnc_symbol'\n",
    "\n",
    "results <- getBM(attributes = attributes, filters = filters, values = genes, mart = ensembl)\n"
   ]
  },
  {
   "cell_type": "code",
   "execution_count": 10,
   "metadata": {
    "vscode": {
     "languageId": "r"
    }
   },
   "outputs": [],
   "source": [
    "promoterCoordinates <- lapply(1:nrow(results), function(i) {\n",
    "  row <- results[i,]\n",
    "  coords <- getPromoterCoordinates(row$transcription_start_site, row$strand)\n",
    "  c(gene = row$hgnc_symbol, chromosome = row$chromosome_name, start = coords$start, end = coords$end)\n",
    "})\n",
    "\n",
    "# Convert the list back to a data frame\n",
    "promoterCoordinates <- do.call(rbind, promoterCoordinates)\n"
   ]
  },
  {
   "cell_type": "code",
   "execution_count": 11,
   "metadata": {
    "vscode": {
     "languageId": "r"
    }
   },
   "outputs": [],
   "source": [
    "promoterCoordinates <- as.data.frame(promoterCoordinates)"
   ]
  },
  {
   "cell_type": "code",
   "execution_count": 12,
   "metadata": {
    "vscode": {
     "languageId": "r"
    }
   },
   "outputs": [
    {
     "data": {
      "text/html": [
       "<table class=\"dataframe\">\n",
       "<caption>A data.frame: 6 × 4</caption>\n",
       "<thead>\n",
       "\t<tr><th></th><th scope=col>gene</th><th scope=col>chromosome</th><th scope=col>start</th><th scope=col>end</th></tr>\n",
       "\t<tr><th></th><th scope=col>&lt;chr&gt;</th><th scope=col>&lt;chr&gt;</th><th scope=col>&lt;chr&gt;</th><th scope=col>&lt;chr&gt;</th></tr>\n",
       "</thead>\n",
       "<tbody>\n",
       "\t<tr><th scope=row>1</th><td>ADNP</td><td>20</td><td>50905058</td><td>50907558</td></tr>\n",
       "\t<tr><th scope=row>2</th><td>ADNP</td><td>20</td><td>50930937</td><td>50933437</td></tr>\n",
       "\t<tr><th scope=row>3</th><td>ADNP</td><td>20</td><td>50928232</td><td>50930732</td></tr>\n",
       "\t<tr><th scope=row>4</th><td>ADNP</td><td>20</td><td>50930875</td><td>50933375</td></tr>\n",
       "\t<tr><th scope=row>5</th><td>ADNP</td><td>20</td><td>50930921</td><td>50933421</td></tr>\n",
       "\t<tr><th scope=row>6</th><td>ADNP</td><td>20</td><td>50909291</td><td>50911791</td></tr>\n",
       "</tbody>\n",
       "</table>\n"
      ],
      "text/latex": [
       "A data.frame: 6 × 4\n",
       "\\begin{tabular}{r|llll}\n",
       "  & gene & chromosome & start & end\\\\\n",
       "  & <chr> & <chr> & <chr> & <chr>\\\\\n",
       "\\hline\n",
       "\t1 & ADNP & 20 & 50905058 & 50907558\\\\\n",
       "\t2 & ADNP & 20 & 50930937 & 50933437\\\\\n",
       "\t3 & ADNP & 20 & 50928232 & 50930732\\\\\n",
       "\t4 & ADNP & 20 & 50930875 & 50933375\\\\\n",
       "\t5 & ADNP & 20 & 50930921 & 50933421\\\\\n",
       "\t6 & ADNP & 20 & 50909291 & 50911791\\\\\n",
       "\\end{tabular}\n"
      ],
      "text/markdown": [
       "\n",
       "A data.frame: 6 × 4\n",
       "\n",
       "| <!--/--> | gene &lt;chr&gt; | chromosome &lt;chr&gt; | start &lt;chr&gt; | end &lt;chr&gt; |\n",
       "|---|---|---|---|---|\n",
       "| 1 | ADNP | 20 | 50905058 | 50907558 |\n",
       "| 2 | ADNP | 20 | 50930937 | 50933437 |\n",
       "| 3 | ADNP | 20 | 50928232 | 50930732 |\n",
       "| 4 | ADNP | 20 | 50930875 | 50933375 |\n",
       "| 5 | ADNP | 20 | 50930921 | 50933421 |\n",
       "| 6 | ADNP | 20 | 50909291 | 50911791 |\n",
       "\n"
      ],
      "text/plain": [
       "  gene chromosome start    end     \n",
       "1 ADNP 20         50905058 50907558\n",
       "2 ADNP 20         50930937 50933437\n",
       "3 ADNP 20         50928232 50930732\n",
       "4 ADNP 20         50930875 50933375\n",
       "5 ADNP 20         50930921 50933421\n",
       "6 ADNP 20         50909291 50911791"
      ]
     },
     "metadata": {},
     "output_type": "display_data"
    }
   ],
   "source": [
    "head(promoterCoordinates)"
   ]
  },
  {
   "cell_type": "code",
   "execution_count": 13,
   "metadata": {
    "vscode": {
     "languageId": "r"
    }
   },
   "outputs": [
    {
     "data": {
      "text/html": [
       "<table class=\"dataframe\">\n",
       "<caption>A data.frame: 6 × 4</caption>\n",
       "<thead>\n",
       "\t<tr><th></th><th scope=col>gene</th><th scope=col>chromosome</th><th scope=col>start</th><th scope=col>end</th></tr>\n",
       "\t<tr><th></th><th scope=col>&lt;chr&gt;</th><th scope=col>&lt;chr&gt;</th><th scope=col>&lt;chr&gt;</th><th scope=col>&lt;chr&gt;</th></tr>\n",
       "</thead>\n",
       "<tbody>\n",
       "\t<tr><th scope=row>1</th><td>ADNP</td><td>20</td><td>50905058</td><td>50907558</td></tr>\n",
       "\t<tr><th scope=row>2</th><td>ADNP</td><td>20</td><td>50930937</td><td>50933437</td></tr>\n",
       "\t<tr><th scope=row>3</th><td>ADNP</td><td>20</td><td>50928232</td><td>50930732</td></tr>\n",
       "\t<tr><th scope=row>4</th><td>ADNP</td><td>20</td><td>50930875</td><td>50933375</td></tr>\n",
       "\t<tr><th scope=row>5</th><td>ADNP</td><td>20</td><td>50930921</td><td>50933421</td></tr>\n",
       "\t<tr><th scope=row>6</th><td>ADNP</td><td>20</td><td>50909291</td><td>50911791</td></tr>\n",
       "</tbody>\n",
       "</table>\n"
      ],
      "text/latex": [
       "A data.frame: 6 × 4\n",
       "\\begin{tabular}{r|llll}\n",
       "  & gene & chromosome & start & end\\\\\n",
       "  & <chr> & <chr> & <chr> & <chr>\\\\\n",
       "\\hline\n",
       "\t1 & ADNP & 20 & 50905058 & 50907558\\\\\n",
       "\t2 & ADNP & 20 & 50930937 & 50933437\\\\\n",
       "\t3 & ADNP & 20 & 50928232 & 50930732\\\\\n",
       "\t4 & ADNP & 20 & 50930875 & 50933375\\\\\n",
       "\t5 & ADNP & 20 & 50930921 & 50933421\\\\\n",
       "\t6 & ADNP & 20 & 50909291 & 50911791\\\\\n",
       "\\end{tabular}\n"
      ],
      "text/markdown": [
       "\n",
       "A data.frame: 6 × 4\n",
       "\n",
       "| <!--/--> | gene &lt;chr&gt; | chromosome &lt;chr&gt; | start &lt;chr&gt; | end &lt;chr&gt; |\n",
       "|---|---|---|---|---|\n",
       "| 1 | ADNP | 20 | 50905058 | 50907558 |\n",
       "| 2 | ADNP | 20 | 50930937 | 50933437 |\n",
       "| 3 | ADNP | 20 | 50928232 | 50930732 |\n",
       "| 4 | ADNP | 20 | 50930875 | 50933375 |\n",
       "| 5 | ADNP | 20 | 50930921 | 50933421 |\n",
       "| 6 | ADNP | 20 | 50909291 | 50911791 |\n",
       "\n"
      ],
      "text/plain": [
       "  gene chromosome start    end     \n",
       "1 ADNP 20         50905058 50907558\n",
       "2 ADNP 20         50930937 50933437\n",
       "3 ADNP 20         50928232 50930732\n",
       "4 ADNP 20         50930875 50933375\n",
       "5 ADNP 20         50930921 50933421\n",
       "6 ADNP 20         50909291 50911791"
      ]
     },
     "metadata": {},
     "output_type": "display_data"
    }
   ],
   "source": [
    "# Filter for main chrs\n",
    "main_chromosomes <- as.character(c(1:22, \"X\", \"Y\"))\n",
    "filtered_promoterCoordinates <- promoterCoordinates[promoterCoordinates$chromosome %in% main_chromosomes, ]\n",
    "head(filtered_promoterCoordinates)"
   ]
  },
  {
   "cell_type": "code",
   "execution_count": 14,
   "metadata": {
    "vscode": {
     "languageId": "r"
    }
   },
   "outputs": [
    {
     "name": "stdout",
     "output_type": "stream",
     "text": [
      "\u001b[90m# A tibble: 14 × 5\u001b[39m\n",
      "   gene    chromosome  minstart    maxend region                  \n",
      "   \u001b[3m\u001b[90m<chr>\u001b[39m\u001b[23m   \u001b[3m\u001b[90m<chr>\u001b[39m\u001b[23m          \u001b[3m\u001b[90m<dbl>\u001b[39m\u001b[23m     \u001b[3m\u001b[90m<dbl>\u001b[39m\u001b[23m \u001b[3m\u001b[90m<chr>\u001b[39m\u001b[23m                   \n",
      "\u001b[90m 1\u001b[39m ADNP    20          50\u001b[4m9\u001b[24m\u001b[4m0\u001b[24m\u001b[4m5\u001b[24m058  50\u001b[4m9\u001b[24m\u001b[4m3\u001b[24m\u001b[4m3\u001b[24m437 chr20-50905058-50933437 \n",
      "\u001b[90m 2\u001b[39m BRD2    6           32\u001b[4m9\u001b[24m\u001b[4m6\u001b[24m\u001b[4m6\u001b[24m594  32\u001b[4m9\u001b[24m\u001b[4m8\u001b[24m\u001b[4m0\u001b[24m182 chr6-32966594-32980182  \n",
      "\u001b[90m 3\u001b[39m CHD2    15          92\u001b[4m8\u001b[24m\u001b[4m8\u001b[24m\u001b[4m4\u001b[24m203  93\u001b[4m0\u001b[24m\u001b[4m1\u001b[24m\u001b[4m2\u001b[24m928 chr15-92884203-93012928 \n",
      "\u001b[90m 4\u001b[39m GPBP1L1 1           45\u001b[4m6\u001b[24m\u001b[4m2\u001b[24m\u001b[4m9\u001b[24m215  45\u001b[4m6\u001b[24m\u001b[4m9\u001b[24m\u001b[4m0\u001b[24m113 chr1-45629215-45690113  \n",
      "\u001b[90m 5\u001b[39m HIC2    22          21\u001b[4m4\u001b[24m\u001b[4m1\u001b[24m\u001b[4m5\u001b[24m371  21\u001b[4m4\u001b[24m\u001b[4m4\u001b[24m\u001b[4m2\u001b[24m960 chr22-21415371-21442960 \n",
      "\u001b[90m 6\u001b[39m KMT2B   19          35\u001b[4m7\u001b[24m\u001b[4m1\u001b[24m\u001b[4m5\u001b[24m973  35\u001b[4m7\u001b[24m\u001b[4m3\u001b[24m\u001b[4m8\u001b[24m136 chr19-35715973-35738136 \n",
      "\u001b[90m 7\u001b[39m MNT     17           2\u001b[4m3\u001b[24m\u001b[4m8\u001b[24m\u001b[4m7\u001b[24m798   2\u001b[4m4\u001b[24m\u001b[4m0\u001b[24m\u001b[4m3\u001b[24m104 chr17-2387798-2403104   \n",
      "\u001b[90m 8\u001b[39m PIAS1   15          68\u001b[4m0\u001b[24m\u001b[4m5\u001b[24m\u001b[4m2\u001b[24m309  68\u001b[4m1\u001b[24m\u001b[4m9\u001b[24m\u001b[4m2\u001b[24m182 chr15-68052309-68192182 \n",
      "\u001b[90m 9\u001b[39m PLAGL2  20          32\u001b[4m2\u001b[24m\u001b[4m0\u001b[24m\u001b[4m7\u001b[24m243  32\u001b[4m2\u001b[24m\u001b[4m0\u001b[24m\u001b[4m9\u001b[24m743 chr20-32207243-32209743 \n",
      "\u001b[90m10\u001b[39m PQBP1   X           48\u001b[4m8\u001b[24m\u001b[4m8\u001b[24m\u001b[4m8\u001b[24m197  48\u001b[4m8\u001b[24m\u001b[4m9\u001b[24m\u001b[4m9\u001b[24m010 chrX-48888197-48899010  \n",
      "\u001b[90m11\u001b[39m SLTM    15          58\u001b[4m8\u001b[24m\u001b[4m8\u001b[24m\u001b[4m6\u001b[24m507  58\u001b[4m9\u001b[24m\u001b[4m3\u001b[24m\u001b[4m5\u001b[24m679 chr15-58886507-58935679 \n",
      "\u001b[90m12\u001b[39m YEATS4  12          69\u001b[4m3\u001b[24m\u001b[4m5\u001b[24m\u001b[4m7\u001b[24m710  69\u001b[4m3\u001b[24m\u001b[4m6\u001b[24m\u001b[4m0\u001b[24m279 chr12-69357710-69360279 \n",
      "\u001b[90m13\u001b[39m ZBED6   1          203\u001b[4m7\u001b[24m\u001b[4m9\u001b[24m\u001b[4m3\u001b[24m623 203\u001b[4m7\u001b[24m\u001b[4m9\u001b[24m\u001b[4m6\u001b[24m123 chr1-203793623-203796123\n",
      "\u001b[90m14\u001b[39m ZNF669  1          247\u001b[4m1\u001b[24m\u001b[4m0\u001b[24m\u001b[4m3\u001b[24m778 247\u001b[4m1\u001b[24m\u001b[4m0\u001b[24m\u001b[4m6\u001b[24m372 chr1-247103778-247106372\n"
     ]
    }
   ],
   "source": [
    "df <- filtered_promoterCoordinates\n",
    "# Assuming your data frame is named df\n",
    "# Convert start and end columns to numeric if they are not already\n",
    "df$start <- as.numeric(as.character(df$start))\n",
    "df$end <- as.numeric(as.character(df$end))\n",
    "\n",
    "# First, check that each gene is associated with only one chromosome\n",
    "gene_chromosome_check <- df %>%\n",
    "  group_by(gene) %>%\n",
    "  summarise(chromosomes = n_distinct(chromosome)) %>%\n",
    "  filter(chromosomes > 1)\n",
    "\n",
    "# If any gene is associated with more than one chromosome, print a warning\n",
    "if (nrow(gene_chromosome_check) > 0) {\n",
    "  print(\"Warning: The following genes are associated with more than one chromosome:\")\n",
    "  print(gene_chromosome_check$gene)\n",
    "} else {\n",
    "  # If the check passes, proceed with the aggregation\n",
    "  result <- df %>%\n",
    "    group_by(gene, chromosome) %>%\n",
    "    summarise(minstart = min(start, na.rm = TRUE), \n",
    "              maxend = max(end, na.rm = TRUE),\n",
    "              .groups = 'drop') %>%\n",
    "    # Add a new column in the desired format\n",
    "    mutate(region = paste0(\"chr\", chromosome, \"-\", minstart, \"-\", maxend))\n",
    "\n",
    "  # View the result\n",
    "  print(result)\n",
    "}\n"
   ]
  },
  {
   "cell_type": "code",
   "execution_count": 15,
   "metadata": {
    "vscode": {
     "languageId": "r"
    }
   },
   "outputs": [],
   "source": [
    "options(repr.plot.width = 10, repr.plot.height = 70)\n",
    "# commented out to make later plots, uncomment to make this plots\n",
    "# p1 <- CoveragePlot(sobj, \n",
    "#     region = result$region,\n",
    "#     extend.upstream = 0,\n",
    "#     extend.downstream = 0,\n",
    "#     nrow = 11) \n",
    "# p1"
   ]
  },
  {
   "cell_type": "code",
   "execution_count": 16,
   "metadata": {
    "vscode": {
     "languageId": "r"
    }
   },
   "outputs": [
    {
     "data": {
      "text/html": [
       "<style>\n",
       ".list-inline {list-style: none; margin:0; padding: 0}\n",
       ".list-inline>li {display: inline-block}\n",
       ".list-inline>li:not(:last-child)::after {content: \"\\00b7\"; padding: 0 .5ex}\n",
       "</style>\n",
       "<ol class=list-inline><li>'chr20:50905058-50933437'</li><li>'chr6:32966594-32980182'</li><li>'chr15:92884203-93012928'</li><li>'chr1:45629215-45690113'</li><li>'chr22:21415371-21442960'</li><li>'chr19:35715973-35738136'</li><li>'chr17:2387798-2403104'</li><li>'chr15:68052309-68192182'</li><li>'chr20:32207243-32209743'</li><li>'chrX:48888197-48899010'</li><li>'chr15:58886507-58935679'</li><li>'chr12:69357710-69360279'</li><li>'chr1:203793623-203796123'</li><li>'chr1:247103778-247106372'</li></ol>\n"
      ],
      "text/latex": [
       "\\begin{enumerate*}\n",
       "\\item 'chr20:50905058-50933437'\n",
       "\\item 'chr6:32966594-32980182'\n",
       "\\item 'chr15:92884203-93012928'\n",
       "\\item 'chr1:45629215-45690113'\n",
       "\\item 'chr22:21415371-21442960'\n",
       "\\item 'chr19:35715973-35738136'\n",
       "\\item 'chr17:2387798-2403104'\n",
       "\\item 'chr15:68052309-68192182'\n",
       "\\item 'chr20:32207243-32209743'\n",
       "\\item 'chrX:48888197-48899010'\n",
       "\\item 'chr15:58886507-58935679'\n",
       "\\item 'chr12:69357710-69360279'\n",
       "\\item 'chr1:203793623-203796123'\n",
       "\\item 'chr1:247103778-247106372'\n",
       "\\end{enumerate*}\n"
      ],
      "text/markdown": [
       "1. 'chr20:50905058-50933437'\n",
       "2. 'chr6:32966594-32980182'\n",
       "3. 'chr15:92884203-93012928'\n",
       "4. 'chr1:45629215-45690113'\n",
       "5. 'chr22:21415371-21442960'\n",
       "6. 'chr19:35715973-35738136'\n",
       "7. 'chr17:2387798-2403104'\n",
       "8. 'chr15:68052309-68192182'\n",
       "9. 'chr20:32207243-32209743'\n",
       "10. 'chrX:48888197-48899010'\n",
       "11. 'chr15:58886507-58935679'\n",
       "12. 'chr12:69357710-69360279'\n",
       "13. 'chr1:203793623-203796123'\n",
       "14. 'chr1:247103778-247106372'\n",
       "\n",
       "\n"
      ],
      "text/plain": [
       " [1] \"chr20:50905058-50933437\"  \"chr6:32966594-32980182\"  \n",
       " [3] \"chr15:92884203-93012928\"  \"chr1:45629215-45690113\"  \n",
       " [5] \"chr22:21415371-21442960\"  \"chr19:35715973-35738136\" \n",
       " [7] \"chr17:2387798-2403104\"    \"chr15:68052309-68192182\" \n",
       " [9] \"chr20:32207243-32209743\"  \"chrX:48888197-48899010\"  \n",
       "[11] \"chr15:58886507-58935679\"  \"chr12:69357710-69360279\" \n",
       "[13] \"chr1:203793623-203796123\" \"chr1:247103778-247106372\""
      ]
     },
     "metadata": {},
     "output_type": "display_data"
    }
   ],
   "source": [
    "gr_region <- sub(\"-\", \":\", result$region)\n",
    "gr_region"
   ]
  },
  {
   "cell_type": "code",
   "execution_count": 17,
   "metadata": {
    "vscode": {
     "languageId": "r"
    }
   },
   "outputs": [
    {
     "name": "stderr",
     "output_type": "stream",
     "text": [
      "Extracting reads overlapping genomic regions\n",
      "\n",
      "Extracting reads overlapping genomic regions\n",
      "\n",
      "Extracting reads overlapping genomic regions\n",
      "\n",
      "Extracting reads overlapping genomic regions\n",
      "\n"
     ]
    }
   ],
   "source": [
    "# Extract expression data for specified regions\n",
    "counts <- sobj[[\"ATAC\"]]@counts\n",
    "feature.matrix <- FeatureMatrix(\n",
    "  fragments = Fragments(sobj),\n",
    "  features = GRanges(gr_region),\n",
    "  cells = colnames(counts)\n",
    ")"
   ]
  },
  {
   "cell_type": "code",
   "execution_count": 18,
   "metadata": {
    "vscode": {
     "languageId": "r"
    }
   },
   "outputs": [],
   "source": [
    "# # Calculate average expression per cell type\n",
    "# # Assuming 'ident' is your cell type identity in the meta data\n",
    "# average_expression <- AggregateData(\n",
    "#   object = feature.matrix,\n",
    "#   group.by = \"treatment_and_guidecapture\",\n",
    "#   fun = mean\n",
    "# )"
   ]
  },
  {
   "cell_type": "code",
   "execution_count": 19,
   "metadata": {
    "vscode": {
     "languageId": "r"
    }
   },
   "outputs": [
    {
     "data": {
      "text/html": [
       "TRUE"
      ],
      "text/latex": [
       "TRUE"
      ],
      "text/markdown": [
       "TRUE"
      ],
      "text/plain": [
       "[1] TRUE"
      ]
     },
     "metadata": {},
     "output_type": "display_data"
    }
   ],
   "source": [
    "all(Cells(sobj) == colnames(feature.matrix))"
   ]
  },
  {
   "cell_type": "code",
   "execution_count": 20,
   "metadata": {
    "vscode": {
     "languageId": "r"
    }
   },
   "outputs": [],
   "source": [
    "sobj[[\"ATAC_sub\"]] = CreateAssayObject(feature.matrix)"
   ]
  },
  {
   "cell_type": "code",
   "execution_count": 21,
   "metadata": {
    "vscode": {
     "languageId": "r"
    }
   },
   "outputs": [],
   "source": [
    "DefaultAssay(sobj) = \"ATAC_sub\""
   ]
  },
  {
   "cell_type": "code",
   "execution_count": 22,
   "metadata": {
    "vscode": {
     "languageId": "r"
    }
   },
   "outputs": [],
   "source": [
    "# Initialize an empty data frame to store results\n",
    "cell_types <- levels(Idents(sobj))\n",
    "gene_list <- rownames(sobj)\n",
    "mean_expression <- data.frame(matrix(ncol = length(cell_types), nrow = length(gene_list)))\n",
    "colnames(mean_expression) <- cell_types\n",
    "rownames(mean_expression) <- rownames(sobj)\n",
    "\n",
    "# Calculate mean expression\n",
    "for (cell_type in cell_types) {\n",
    "    temp <- subset(sobj, idents = cell_type)\n",
    "    temp <- GetAssayData(temp, assay = \"ATAC_sub\")\n",
    "    temp <- temp[rownames(temp) %in% gene_list,]\n",
    "    mean_expression[, cell_type] <- rowMeans(temp)\n",
    "}"
   ]
  },
  {
   "cell_type": "code",
   "execution_count": 23,
   "metadata": {
    "vscode": {
     "languageId": "r"
    }
   },
   "outputs": [
    {
     "data": {
      "text/html": [
       "TRUE"
      ],
      "text/latex": [
       "TRUE"
      ],
      "text/markdown": [
       "TRUE"
      ],
      "text/plain": [
       "[1] TRUE"
      ]
     },
     "metadata": {},
     "output_type": "display_data"
    }
   ],
   "source": [
    "all(rownames(mean_expression) == result$region)"
   ]
  },
  {
   "cell_type": "code",
   "execution_count": 24,
   "metadata": {
    "vscode": {
     "languageId": "r"
    }
   },
   "outputs": [],
   "source": [
    "rownames(mean_expression) = result$gene"
   ]
  },
  {
   "cell_type": "code",
   "execution_count": 25,
   "metadata": {
    "vscode": {
     "languageId": "r"
    }
   },
   "outputs": [
    {
     "data": {
      "text/html": [
       "<table class=\"dataframe\">\n",
       "<caption>A data.frame: 14 × 26</caption>\n",
       "<thead>\n",
       "\t<tr><th></th><th scope=col>DASA_NT</th><th scope=col>DASA_HIC2</th><th scope=col>DASA_PIAS1</th><th scope=col>DASA_CHD2</th><th scope=col>DASA_GPBP1L1</th><th scope=col>DASA_PQBP1</th><th scope=col>DASA_KMT2B</th><th scope=col>DASA_SLTM</th><th scope=col>DASA_PLAGL2</th><th scope=col>DASA_YEATS4</th><th scope=col>⋯</th><th scope=col>DMSO_BRD2</th><th scope=col>DMSO_GPBP1L1</th><th scope=col>DMSO_HIC2</th><th scope=col>DMSO_PIAS1</th><th scope=col>DMSO_ZBED6</th><th scope=col>DMSO_YEATS4</th><th scope=col>DMSO_ZNF669</th><th scope=col>DMSO_ADNP</th><th scope=col>DMSO_SLTM</th><th scope=col>DMSO_MNT</th></tr>\n",
       "\t<tr><th></th><th scope=col>&lt;dbl&gt;</th><th scope=col>&lt;dbl&gt;</th><th scope=col>&lt;dbl&gt;</th><th scope=col>&lt;dbl&gt;</th><th scope=col>&lt;dbl&gt;</th><th scope=col>&lt;dbl&gt;</th><th scope=col>&lt;dbl&gt;</th><th scope=col>&lt;dbl&gt;</th><th scope=col>&lt;dbl&gt;</th><th scope=col>&lt;dbl&gt;</th><th scope=col>⋯</th><th scope=col>&lt;dbl&gt;</th><th scope=col>&lt;dbl&gt;</th><th scope=col>&lt;dbl&gt;</th><th scope=col>&lt;dbl&gt;</th><th scope=col>&lt;dbl&gt;</th><th scope=col>&lt;dbl&gt;</th><th scope=col>&lt;dbl&gt;</th><th scope=col>&lt;dbl&gt;</th><th scope=col>&lt;dbl&gt;</th><th scope=col>&lt;dbl&gt;</th></tr>\n",
       "</thead>\n",
       "<tbody>\n",
       "\t<tr><th scope=row>ADNP</th><td>0.7782027</td><td>0.7626667</td><td>0.8025890</td><td>0.8716814</td><td>0.8015267</td><td>0.8235294</td><td>0.7285714</td><td>0.8642534</td><td>0.8674699</td><td>0.80991736</td><td>⋯</td><td>0.6891892</td><td>0.7297297</td><td>0.5972222</td><td>0.7424749</td><td>0.9047619</td><td>0.66804979</td><td>0.6859504</td><td>0.5000000</td><td>0.7433628</td><td>0.7777778</td></tr>\n",
       "\t<tr><th scope=row>BRD2</th><td>1.8940727</td><td>1.5040000</td><td>1.8446602</td><td>1.9247788</td><td>1.7709924</td><td>1.9019608</td><td>2.0142857</td><td>1.8552036</td><td>2.0843373</td><td>1.73553719</td><td>⋯</td><td>1.0743243</td><td>1.8783784</td><td>2.0555556</td><td>2.0100334</td><td>2.2222222</td><td>2.08713693</td><td>2.2066116</td><td>2.0000000</td><td>1.8318584</td><td>2.1111111</td></tr>\n",
       "\t<tr><th scope=row>CHD2</th><td>0.8745698</td><td>0.7040000</td><td>0.8511327</td><td>0.9601770</td><td>0.7404580</td><td>0.8529412</td><td>0.7714286</td><td>0.8190045</td><td>1.1325301</td><td>0.90909091</td><td>⋯</td><td>0.9864865</td><td>0.8963964</td><td>0.8611111</td><td>0.8829431</td><td>1.0238095</td><td>1.02489627</td><td>1.0826446</td><td>0.9387755</td><td>0.9646018</td><td>1.0000000</td></tr>\n",
       "\t<tr><th scope=row>GPBP1L1</th><td>1.1005736</td><td>1.0293333</td><td>0.9902913</td><td>1.1769912</td><td>0.5114504</td><td>1.0980392</td><td>1.0476190</td><td>1.2352941</td><td>1.2891566</td><td>1.08264463</td><td>⋯</td><td>1.1283784</td><td>0.5990991</td><td>1.1296296</td><td>1.0702341</td><td>1.3412698</td><td>1.05809129</td><td>1.5454545</td><td>1.3673469</td><td>0.9469027</td><td>1.0740741</td></tr>\n",
       "\t<tr><th scope=row>HIC2</th><td>0.7567878</td><td>0.3493333</td><td>0.6440129</td><td>0.7256637</td><td>0.6870229</td><td>0.7352941</td><td>0.7523810</td><td>0.8461538</td><td>0.7951807</td><td>0.78512397</td><td>⋯</td><td>0.7702703</td><td>0.7387387</td><td>0.5370370</td><td>0.8561873</td><td>0.9126984</td><td>0.75103734</td><td>1.0661157</td><td>0.8367347</td><td>0.9292035</td><td>0.8518519</td></tr>\n",
       "\t<tr><th scope=row>KMT2B</th><td>0.9151052</td><td>0.9173333</td><td>0.8284790</td><td>0.8584071</td><td>0.8244275</td><td>0.9411765</td><td>0.3047619</td><td>1.0000000</td><td>1.0963855</td><td>0.93388430</td><td>⋯</td><td>1.0743243</td><td>0.9639640</td><td>1.0509259</td><td>0.9498328</td><td>0.9285714</td><td>0.85892116</td><td>0.9338843</td><td>1.4387755</td><td>0.9823009</td><td>1.1481481</td></tr>\n",
       "\t<tr><th scope=row>MNT</th><td>1.4022945</td><td>1.3493333</td><td>1.4239482</td><td>1.5044248</td><td>1.3664122</td><td>1.2450980</td><td>1.4619048</td><td>1.5429864</td><td>1.5903614</td><td>1.06611570</td><td>⋯</td><td>1.6013514</td><td>1.5900901</td><td>1.5555556</td><td>1.6588629</td><td>1.7857143</td><td>1.85477178</td><td>1.7768595</td><td>1.4795918</td><td>1.4247788</td><td>2.1851852</td></tr>\n",
       "\t<tr><th scope=row>PIAS1</th><td>0.7556405</td><td>0.5973333</td><td>0.2491909</td><td>0.7123894</td><td>0.6641221</td><td>0.8333333</td><td>0.7666667</td><td>0.7466063</td><td>0.8674699</td><td>0.73553719</td><td>⋯</td><td>0.8851351</td><td>0.7792793</td><td>0.6851852</td><td>0.4816054</td><td>0.7936508</td><td>0.85477178</td><td>0.9917355</td><td>0.8163265</td><td>0.7345133</td><td>0.8148148</td></tr>\n",
       "\t<tr><th scope=row>PLAGL2</th><td>0.5043977</td><td>0.4746667</td><td>0.4822006</td><td>0.5132743</td><td>0.5725191</td><td>0.3627451</td><td>0.4523810</td><td>0.6063348</td><td>0.1566265</td><td>0.42148760</td><td>⋯</td><td>0.3175676</td><td>0.4189189</td><td>0.3842593</td><td>0.3344482</td><td>0.3571429</td><td>0.33195021</td><td>0.3305785</td><td>0.3571429</td><td>0.4778761</td><td>0.1851852</td></tr>\n",
       "\t<tr><th scope=row>PQBP1</th><td>0.3720841</td><td>0.2826667</td><td>0.3818770</td><td>0.3407080</td><td>0.2748092</td><td>0.2254902</td><td>0.3619048</td><td>0.4705882</td><td>0.5301205</td><td>0.45454545</td><td>⋯</td><td>0.3648649</td><td>0.3153153</td><td>0.3194444</td><td>0.3411371</td><td>0.3730159</td><td>0.35684647</td><td>0.3636364</td><td>0.3367347</td><td>0.3274336</td><td>0.3333333</td></tr>\n",
       "\t<tr><th scope=row>SLTM</th><td>0.3586998</td><td>0.3920000</td><td>0.4271845</td><td>0.4380531</td><td>0.2671756</td><td>0.3921569</td><td>0.3952381</td><td>0.1583710</td><td>0.4578313</td><td>0.32231405</td><td>⋯</td><td>0.5743243</td><td>0.4009009</td><td>0.3333333</td><td>0.4214047</td><td>0.4365079</td><td>0.38589212</td><td>0.4545455</td><td>0.4387755</td><td>0.3362832</td><td>0.8148148</td></tr>\n",
       "\t<tr><th scope=row>YEATS4</th><td>0.1980880</td><td>0.1573333</td><td>0.2200647</td><td>0.1504425</td><td>0.2442748</td><td>0.1470588</td><td>0.1809524</td><td>0.1990950</td><td>0.1445783</td><td>0.05785124</td><td>⋯</td><td>0.2837838</td><td>0.2432432</td><td>0.1759259</td><td>0.2207358</td><td>0.3333333</td><td>0.09128631</td><td>0.2314050</td><td>0.2244898</td><td>0.3274336</td><td>0.2592593</td></tr>\n",
       "\t<tr><th scope=row>ZBED6</th><td>0.4508604</td><td>0.4053333</td><td>0.4530744</td><td>0.5132743</td><td>0.3587786</td><td>0.3627451</td><td>0.3904762</td><td>0.3710407</td><td>0.4819277</td><td>0.38842975</td><td>⋯</td><td>0.4324324</td><td>0.3738739</td><td>0.4583333</td><td>0.4080268</td><td>0.2301587</td><td>0.36929461</td><td>0.4214876</td><td>0.4591837</td><td>0.2300885</td><td>0.4074074</td></tr>\n",
       "\t<tr><th scope=row>ZNF669</th><td>0.4080306</td><td>0.4346667</td><td>0.4466019</td><td>0.4955752</td><td>0.4656489</td><td>0.4509804</td><td>0.3952381</td><td>0.4570136</td><td>0.4216867</td><td>0.37190083</td><td>⋯</td><td>0.4662162</td><td>0.4684685</td><td>0.6435185</td><td>0.5217391</td><td>0.4206349</td><td>0.54356846</td><td>0.6859504</td><td>0.5510204</td><td>0.6017699</td><td>0.2962963</td></tr>\n",
       "</tbody>\n",
       "</table>\n"
      ],
      "text/latex": [
       "A data.frame: 14 × 26\n",
       "\\begin{tabular}{r|lllllllllllllllllllll}\n",
       "  & DASA\\_NT & DASA\\_HIC2 & DASA\\_PIAS1 & DASA\\_CHD2 & DASA\\_GPBP1L1 & DASA\\_PQBP1 & DASA\\_KMT2B & DASA\\_SLTM & DASA\\_PLAGL2 & DASA\\_YEATS4 & ⋯ & DMSO\\_BRD2 & DMSO\\_GPBP1L1 & DMSO\\_HIC2 & DMSO\\_PIAS1 & DMSO\\_ZBED6 & DMSO\\_YEATS4 & DMSO\\_ZNF669 & DMSO\\_ADNP & DMSO\\_SLTM & DMSO\\_MNT\\\\\n",
       "  & <dbl> & <dbl> & <dbl> & <dbl> & <dbl> & <dbl> & <dbl> & <dbl> & <dbl> & <dbl> & ⋯ & <dbl> & <dbl> & <dbl> & <dbl> & <dbl> & <dbl> & <dbl> & <dbl> & <dbl> & <dbl>\\\\\n",
       "\\hline\n",
       "\tADNP & 0.7782027 & 0.7626667 & 0.8025890 & 0.8716814 & 0.8015267 & 0.8235294 & 0.7285714 & 0.8642534 & 0.8674699 & 0.80991736 & ⋯ & 0.6891892 & 0.7297297 & 0.5972222 & 0.7424749 & 0.9047619 & 0.66804979 & 0.6859504 & 0.5000000 & 0.7433628 & 0.7777778\\\\\n",
       "\tBRD2 & 1.8940727 & 1.5040000 & 1.8446602 & 1.9247788 & 1.7709924 & 1.9019608 & 2.0142857 & 1.8552036 & 2.0843373 & 1.73553719 & ⋯ & 1.0743243 & 1.8783784 & 2.0555556 & 2.0100334 & 2.2222222 & 2.08713693 & 2.2066116 & 2.0000000 & 1.8318584 & 2.1111111\\\\\n",
       "\tCHD2 & 0.8745698 & 0.7040000 & 0.8511327 & 0.9601770 & 0.7404580 & 0.8529412 & 0.7714286 & 0.8190045 & 1.1325301 & 0.90909091 & ⋯ & 0.9864865 & 0.8963964 & 0.8611111 & 0.8829431 & 1.0238095 & 1.02489627 & 1.0826446 & 0.9387755 & 0.9646018 & 1.0000000\\\\\n",
       "\tGPBP1L1 & 1.1005736 & 1.0293333 & 0.9902913 & 1.1769912 & 0.5114504 & 1.0980392 & 1.0476190 & 1.2352941 & 1.2891566 & 1.08264463 & ⋯ & 1.1283784 & 0.5990991 & 1.1296296 & 1.0702341 & 1.3412698 & 1.05809129 & 1.5454545 & 1.3673469 & 0.9469027 & 1.0740741\\\\\n",
       "\tHIC2 & 0.7567878 & 0.3493333 & 0.6440129 & 0.7256637 & 0.6870229 & 0.7352941 & 0.7523810 & 0.8461538 & 0.7951807 & 0.78512397 & ⋯ & 0.7702703 & 0.7387387 & 0.5370370 & 0.8561873 & 0.9126984 & 0.75103734 & 1.0661157 & 0.8367347 & 0.9292035 & 0.8518519\\\\\n",
       "\tKMT2B & 0.9151052 & 0.9173333 & 0.8284790 & 0.8584071 & 0.8244275 & 0.9411765 & 0.3047619 & 1.0000000 & 1.0963855 & 0.93388430 & ⋯ & 1.0743243 & 0.9639640 & 1.0509259 & 0.9498328 & 0.9285714 & 0.85892116 & 0.9338843 & 1.4387755 & 0.9823009 & 1.1481481\\\\\n",
       "\tMNT & 1.4022945 & 1.3493333 & 1.4239482 & 1.5044248 & 1.3664122 & 1.2450980 & 1.4619048 & 1.5429864 & 1.5903614 & 1.06611570 & ⋯ & 1.6013514 & 1.5900901 & 1.5555556 & 1.6588629 & 1.7857143 & 1.85477178 & 1.7768595 & 1.4795918 & 1.4247788 & 2.1851852\\\\\n",
       "\tPIAS1 & 0.7556405 & 0.5973333 & 0.2491909 & 0.7123894 & 0.6641221 & 0.8333333 & 0.7666667 & 0.7466063 & 0.8674699 & 0.73553719 & ⋯ & 0.8851351 & 0.7792793 & 0.6851852 & 0.4816054 & 0.7936508 & 0.85477178 & 0.9917355 & 0.8163265 & 0.7345133 & 0.8148148\\\\\n",
       "\tPLAGL2 & 0.5043977 & 0.4746667 & 0.4822006 & 0.5132743 & 0.5725191 & 0.3627451 & 0.4523810 & 0.6063348 & 0.1566265 & 0.42148760 & ⋯ & 0.3175676 & 0.4189189 & 0.3842593 & 0.3344482 & 0.3571429 & 0.33195021 & 0.3305785 & 0.3571429 & 0.4778761 & 0.1851852\\\\\n",
       "\tPQBP1 & 0.3720841 & 0.2826667 & 0.3818770 & 0.3407080 & 0.2748092 & 0.2254902 & 0.3619048 & 0.4705882 & 0.5301205 & 0.45454545 & ⋯ & 0.3648649 & 0.3153153 & 0.3194444 & 0.3411371 & 0.3730159 & 0.35684647 & 0.3636364 & 0.3367347 & 0.3274336 & 0.3333333\\\\\n",
       "\tSLTM & 0.3586998 & 0.3920000 & 0.4271845 & 0.4380531 & 0.2671756 & 0.3921569 & 0.3952381 & 0.1583710 & 0.4578313 & 0.32231405 & ⋯ & 0.5743243 & 0.4009009 & 0.3333333 & 0.4214047 & 0.4365079 & 0.38589212 & 0.4545455 & 0.4387755 & 0.3362832 & 0.8148148\\\\\n",
       "\tYEATS4 & 0.1980880 & 0.1573333 & 0.2200647 & 0.1504425 & 0.2442748 & 0.1470588 & 0.1809524 & 0.1990950 & 0.1445783 & 0.05785124 & ⋯ & 0.2837838 & 0.2432432 & 0.1759259 & 0.2207358 & 0.3333333 & 0.09128631 & 0.2314050 & 0.2244898 & 0.3274336 & 0.2592593\\\\\n",
       "\tZBED6 & 0.4508604 & 0.4053333 & 0.4530744 & 0.5132743 & 0.3587786 & 0.3627451 & 0.3904762 & 0.3710407 & 0.4819277 & 0.38842975 & ⋯ & 0.4324324 & 0.3738739 & 0.4583333 & 0.4080268 & 0.2301587 & 0.36929461 & 0.4214876 & 0.4591837 & 0.2300885 & 0.4074074\\\\\n",
       "\tZNF669 & 0.4080306 & 0.4346667 & 0.4466019 & 0.4955752 & 0.4656489 & 0.4509804 & 0.3952381 & 0.4570136 & 0.4216867 & 0.37190083 & ⋯ & 0.4662162 & 0.4684685 & 0.6435185 & 0.5217391 & 0.4206349 & 0.54356846 & 0.6859504 & 0.5510204 & 0.6017699 & 0.2962963\\\\\n",
       "\\end{tabular}\n"
      ],
      "text/markdown": [
       "\n",
       "A data.frame: 14 × 26\n",
       "\n",
       "| <!--/--> | DASA_NT &lt;dbl&gt; | DASA_HIC2 &lt;dbl&gt; | DASA_PIAS1 &lt;dbl&gt; | DASA_CHD2 &lt;dbl&gt; | DASA_GPBP1L1 &lt;dbl&gt; | DASA_PQBP1 &lt;dbl&gt; | DASA_KMT2B &lt;dbl&gt; | DASA_SLTM &lt;dbl&gt; | DASA_PLAGL2 &lt;dbl&gt; | DASA_YEATS4 &lt;dbl&gt; | ⋯ ⋯ | DMSO_BRD2 &lt;dbl&gt; | DMSO_GPBP1L1 &lt;dbl&gt; | DMSO_HIC2 &lt;dbl&gt; | DMSO_PIAS1 &lt;dbl&gt; | DMSO_ZBED6 &lt;dbl&gt; | DMSO_YEATS4 &lt;dbl&gt; | DMSO_ZNF669 &lt;dbl&gt; | DMSO_ADNP &lt;dbl&gt; | DMSO_SLTM &lt;dbl&gt; | DMSO_MNT &lt;dbl&gt; |\n",
       "|---|---|---|---|---|---|---|---|---|---|---|---|---|---|---|---|---|---|---|---|---|---|\n",
       "| ADNP | 0.7782027 | 0.7626667 | 0.8025890 | 0.8716814 | 0.8015267 | 0.8235294 | 0.7285714 | 0.8642534 | 0.8674699 | 0.80991736 | ⋯ | 0.6891892 | 0.7297297 | 0.5972222 | 0.7424749 | 0.9047619 | 0.66804979 | 0.6859504 | 0.5000000 | 0.7433628 | 0.7777778 |\n",
       "| BRD2 | 1.8940727 | 1.5040000 | 1.8446602 | 1.9247788 | 1.7709924 | 1.9019608 | 2.0142857 | 1.8552036 | 2.0843373 | 1.73553719 | ⋯ | 1.0743243 | 1.8783784 | 2.0555556 | 2.0100334 | 2.2222222 | 2.08713693 | 2.2066116 | 2.0000000 | 1.8318584 | 2.1111111 |\n",
       "| CHD2 | 0.8745698 | 0.7040000 | 0.8511327 | 0.9601770 | 0.7404580 | 0.8529412 | 0.7714286 | 0.8190045 | 1.1325301 | 0.90909091 | ⋯ | 0.9864865 | 0.8963964 | 0.8611111 | 0.8829431 | 1.0238095 | 1.02489627 | 1.0826446 | 0.9387755 | 0.9646018 | 1.0000000 |\n",
       "| GPBP1L1 | 1.1005736 | 1.0293333 | 0.9902913 | 1.1769912 | 0.5114504 | 1.0980392 | 1.0476190 | 1.2352941 | 1.2891566 | 1.08264463 | ⋯ | 1.1283784 | 0.5990991 | 1.1296296 | 1.0702341 | 1.3412698 | 1.05809129 | 1.5454545 | 1.3673469 | 0.9469027 | 1.0740741 |\n",
       "| HIC2 | 0.7567878 | 0.3493333 | 0.6440129 | 0.7256637 | 0.6870229 | 0.7352941 | 0.7523810 | 0.8461538 | 0.7951807 | 0.78512397 | ⋯ | 0.7702703 | 0.7387387 | 0.5370370 | 0.8561873 | 0.9126984 | 0.75103734 | 1.0661157 | 0.8367347 | 0.9292035 | 0.8518519 |\n",
       "| KMT2B | 0.9151052 | 0.9173333 | 0.8284790 | 0.8584071 | 0.8244275 | 0.9411765 | 0.3047619 | 1.0000000 | 1.0963855 | 0.93388430 | ⋯ | 1.0743243 | 0.9639640 | 1.0509259 | 0.9498328 | 0.9285714 | 0.85892116 | 0.9338843 | 1.4387755 | 0.9823009 | 1.1481481 |\n",
       "| MNT | 1.4022945 | 1.3493333 | 1.4239482 | 1.5044248 | 1.3664122 | 1.2450980 | 1.4619048 | 1.5429864 | 1.5903614 | 1.06611570 | ⋯ | 1.6013514 | 1.5900901 | 1.5555556 | 1.6588629 | 1.7857143 | 1.85477178 | 1.7768595 | 1.4795918 | 1.4247788 | 2.1851852 |\n",
       "| PIAS1 | 0.7556405 | 0.5973333 | 0.2491909 | 0.7123894 | 0.6641221 | 0.8333333 | 0.7666667 | 0.7466063 | 0.8674699 | 0.73553719 | ⋯ | 0.8851351 | 0.7792793 | 0.6851852 | 0.4816054 | 0.7936508 | 0.85477178 | 0.9917355 | 0.8163265 | 0.7345133 | 0.8148148 |\n",
       "| PLAGL2 | 0.5043977 | 0.4746667 | 0.4822006 | 0.5132743 | 0.5725191 | 0.3627451 | 0.4523810 | 0.6063348 | 0.1566265 | 0.42148760 | ⋯ | 0.3175676 | 0.4189189 | 0.3842593 | 0.3344482 | 0.3571429 | 0.33195021 | 0.3305785 | 0.3571429 | 0.4778761 | 0.1851852 |\n",
       "| PQBP1 | 0.3720841 | 0.2826667 | 0.3818770 | 0.3407080 | 0.2748092 | 0.2254902 | 0.3619048 | 0.4705882 | 0.5301205 | 0.45454545 | ⋯ | 0.3648649 | 0.3153153 | 0.3194444 | 0.3411371 | 0.3730159 | 0.35684647 | 0.3636364 | 0.3367347 | 0.3274336 | 0.3333333 |\n",
       "| SLTM | 0.3586998 | 0.3920000 | 0.4271845 | 0.4380531 | 0.2671756 | 0.3921569 | 0.3952381 | 0.1583710 | 0.4578313 | 0.32231405 | ⋯ | 0.5743243 | 0.4009009 | 0.3333333 | 0.4214047 | 0.4365079 | 0.38589212 | 0.4545455 | 0.4387755 | 0.3362832 | 0.8148148 |\n",
       "| YEATS4 | 0.1980880 | 0.1573333 | 0.2200647 | 0.1504425 | 0.2442748 | 0.1470588 | 0.1809524 | 0.1990950 | 0.1445783 | 0.05785124 | ⋯ | 0.2837838 | 0.2432432 | 0.1759259 | 0.2207358 | 0.3333333 | 0.09128631 | 0.2314050 | 0.2244898 | 0.3274336 | 0.2592593 |\n",
       "| ZBED6 | 0.4508604 | 0.4053333 | 0.4530744 | 0.5132743 | 0.3587786 | 0.3627451 | 0.3904762 | 0.3710407 | 0.4819277 | 0.38842975 | ⋯ | 0.4324324 | 0.3738739 | 0.4583333 | 0.4080268 | 0.2301587 | 0.36929461 | 0.4214876 | 0.4591837 | 0.2300885 | 0.4074074 |\n",
       "| ZNF669 | 0.4080306 | 0.4346667 | 0.4466019 | 0.4955752 | 0.4656489 | 0.4509804 | 0.3952381 | 0.4570136 | 0.4216867 | 0.37190083 | ⋯ | 0.4662162 | 0.4684685 | 0.6435185 | 0.5217391 | 0.4206349 | 0.54356846 | 0.6859504 | 0.5510204 | 0.6017699 | 0.2962963 |\n",
       "\n"
      ],
      "text/plain": [
       "        DASA_NT   DASA_HIC2 DASA_PIAS1 DASA_CHD2 DASA_GPBP1L1 DASA_PQBP1\n",
       "ADNP    0.7782027 0.7626667 0.8025890  0.8716814 0.8015267    0.8235294 \n",
       "BRD2    1.8940727 1.5040000 1.8446602  1.9247788 1.7709924    1.9019608 \n",
       "CHD2    0.8745698 0.7040000 0.8511327  0.9601770 0.7404580    0.8529412 \n",
       "GPBP1L1 1.1005736 1.0293333 0.9902913  1.1769912 0.5114504    1.0980392 \n",
       "HIC2    0.7567878 0.3493333 0.6440129  0.7256637 0.6870229    0.7352941 \n",
       "KMT2B   0.9151052 0.9173333 0.8284790  0.8584071 0.8244275    0.9411765 \n",
       "MNT     1.4022945 1.3493333 1.4239482  1.5044248 1.3664122    1.2450980 \n",
       "PIAS1   0.7556405 0.5973333 0.2491909  0.7123894 0.6641221    0.8333333 \n",
       "PLAGL2  0.5043977 0.4746667 0.4822006  0.5132743 0.5725191    0.3627451 \n",
       "PQBP1   0.3720841 0.2826667 0.3818770  0.3407080 0.2748092    0.2254902 \n",
       "SLTM    0.3586998 0.3920000 0.4271845  0.4380531 0.2671756    0.3921569 \n",
       "YEATS4  0.1980880 0.1573333 0.2200647  0.1504425 0.2442748    0.1470588 \n",
       "ZBED6   0.4508604 0.4053333 0.4530744  0.5132743 0.3587786    0.3627451 \n",
       "ZNF669  0.4080306 0.4346667 0.4466019  0.4955752 0.4656489    0.4509804 \n",
       "        DASA_KMT2B DASA_SLTM DASA_PLAGL2 DASA_YEATS4 ⋯ DMSO_BRD2 DMSO_GPBP1L1\n",
       "ADNP    0.7285714  0.8642534 0.8674699   0.80991736  ⋯ 0.6891892 0.7297297   \n",
       "BRD2    2.0142857  1.8552036 2.0843373   1.73553719  ⋯ 1.0743243 1.8783784   \n",
       "CHD2    0.7714286  0.8190045 1.1325301   0.90909091  ⋯ 0.9864865 0.8963964   \n",
       "GPBP1L1 1.0476190  1.2352941 1.2891566   1.08264463  ⋯ 1.1283784 0.5990991   \n",
       "HIC2    0.7523810  0.8461538 0.7951807   0.78512397  ⋯ 0.7702703 0.7387387   \n",
       "KMT2B   0.3047619  1.0000000 1.0963855   0.93388430  ⋯ 1.0743243 0.9639640   \n",
       "MNT     1.4619048  1.5429864 1.5903614   1.06611570  ⋯ 1.6013514 1.5900901   \n",
       "PIAS1   0.7666667  0.7466063 0.8674699   0.73553719  ⋯ 0.8851351 0.7792793   \n",
       "PLAGL2  0.4523810  0.6063348 0.1566265   0.42148760  ⋯ 0.3175676 0.4189189   \n",
       "PQBP1   0.3619048  0.4705882 0.5301205   0.45454545  ⋯ 0.3648649 0.3153153   \n",
       "SLTM    0.3952381  0.1583710 0.4578313   0.32231405  ⋯ 0.5743243 0.4009009   \n",
       "YEATS4  0.1809524  0.1990950 0.1445783   0.05785124  ⋯ 0.2837838 0.2432432   \n",
       "ZBED6   0.3904762  0.3710407 0.4819277   0.38842975  ⋯ 0.4324324 0.3738739   \n",
       "ZNF669  0.3952381  0.4570136 0.4216867   0.37190083  ⋯ 0.4662162 0.4684685   \n",
       "        DMSO_HIC2 DMSO_PIAS1 DMSO_ZBED6 DMSO_YEATS4 DMSO_ZNF669 DMSO_ADNP\n",
       "ADNP    0.5972222 0.7424749  0.9047619  0.66804979  0.6859504   0.5000000\n",
       "BRD2    2.0555556 2.0100334  2.2222222  2.08713693  2.2066116   2.0000000\n",
       "CHD2    0.8611111 0.8829431  1.0238095  1.02489627  1.0826446   0.9387755\n",
       "GPBP1L1 1.1296296 1.0702341  1.3412698  1.05809129  1.5454545   1.3673469\n",
       "HIC2    0.5370370 0.8561873  0.9126984  0.75103734  1.0661157   0.8367347\n",
       "KMT2B   1.0509259 0.9498328  0.9285714  0.85892116  0.9338843   1.4387755\n",
       "MNT     1.5555556 1.6588629  1.7857143  1.85477178  1.7768595   1.4795918\n",
       "PIAS1   0.6851852 0.4816054  0.7936508  0.85477178  0.9917355   0.8163265\n",
       "PLAGL2  0.3842593 0.3344482  0.3571429  0.33195021  0.3305785   0.3571429\n",
       "PQBP1   0.3194444 0.3411371  0.3730159  0.35684647  0.3636364   0.3367347\n",
       "SLTM    0.3333333 0.4214047  0.4365079  0.38589212  0.4545455   0.4387755\n",
       "YEATS4  0.1759259 0.2207358  0.3333333  0.09128631  0.2314050   0.2244898\n",
       "ZBED6   0.4583333 0.4080268  0.2301587  0.36929461  0.4214876   0.4591837\n",
       "ZNF669  0.6435185 0.5217391  0.4206349  0.54356846  0.6859504   0.5510204\n",
       "        DMSO_SLTM DMSO_MNT \n",
       "ADNP    0.7433628 0.7777778\n",
       "BRD2    1.8318584 2.1111111\n",
       "CHD2    0.9646018 1.0000000\n",
       "GPBP1L1 0.9469027 1.0740741\n",
       "HIC2    0.9292035 0.8518519\n",
       "KMT2B   0.9823009 1.1481481\n",
       "MNT     1.4247788 2.1851852\n",
       "PIAS1   0.7345133 0.8148148\n",
       "PLAGL2  0.4778761 0.1851852\n",
       "PQBP1   0.3274336 0.3333333\n",
       "SLTM    0.3362832 0.8148148\n",
       "YEATS4  0.3274336 0.2592593\n",
       "ZBED6   0.2300885 0.4074074\n",
       "ZNF669  0.6017699 0.2962963"
      ]
     },
     "metadata": {},
     "output_type": "display_data"
    }
   ],
   "source": [
    "mean_expression"
   ]
  },
  {
   "cell_type": "code",
   "execution_count": 31,
   "metadata": {
    "vscode": {
     "languageId": "r"
    }
   },
   "outputs": [
    {
     "name": "stdout",
     "output_type": "stream",
     "text": [
      " [1] \"DASA_ADNP\"    \"DMSO_ADNP\"    \"DASA_BRD2\"    \"DMSO_BRD2\"    \"DASA_CHD2\"   \n",
      " [6] \"DMSO_CHD2\"    \"DASA_GPBP1L1\" \"DMSO_GPBP1L1\" \"DASA_HIC2\"    \"DMSO_HIC2\"   \n",
      "[11] \"DASA_KMT2B\"   \"DMSO_KMT2B\"   \"DMSO_MNT\"     \"DASA_NT\"      \"DMSO_NT\"     \n",
      "[16] \"DASA_PIAS1\"   \"DMSO_PIAS1\"   \"DASA_PLAGL2\"  \"DASA_PQBP1\"   \"DASA_SLTM\"   \n",
      "[21] \"DMSO_SLTM\"    \"DASA_YEATS4\"  \"DMSO_YEATS4\"  \"DMSO_ZBED6\"   \"DASA_ZNF669\" \n",
      "[26] \"DMSO_ZNF669\" \n"
     ]
    },
    {
     "data": {
      "text/html": [
       "<style>\n",
       ".list-inline {list-style: none; margin:0; padding: 0}\n",
       ".list-inline>li {display: inline-block}\n",
       ".list-inline>li:not(:last-child)::after {content: \"\\00b7\"; padding: 0 .5ex}\n",
       "</style>\n",
       "<ol class=list-inline><li>'DASA_NT'</li><li>'DASA_HIC2'</li><li>'DASA_PIAS1'</li><li>'DASA_CHD2'</li><li>'DASA_GPBP1L1'</li><li>'DASA_PQBP1'</li><li>'DASA_KMT2B'</li><li>'DASA_SLTM'</li><li>'DASA_PLAGL2'</li><li>'DASA_YEATS4'</li><li>'DASA_ADNP'</li><li>'DASA_BRD2'</li><li>'DASA_ZNF669'</li><li>'DMSO_KMT2B'</li><li>'DMSO_CHD2'</li><li>'DMSO_NT'</li><li>'DMSO_BRD2'</li><li>'DMSO_GPBP1L1'</li><li>'DMSO_HIC2'</li><li>'DMSO_PIAS1'</li><li>'DMSO_ZBED6'</li><li>'DMSO_YEATS4'</li><li>'DMSO_ZNF669'</li><li>'DMSO_ADNP'</li><li>'DMSO_SLTM'</li><li>'DMSO_MNT'</li></ol>\n"
      ],
      "text/latex": [
       "\\begin{enumerate*}\n",
       "\\item 'DASA\\_NT'\n",
       "\\item 'DASA\\_HIC2'\n",
       "\\item 'DASA\\_PIAS1'\n",
       "\\item 'DASA\\_CHD2'\n",
       "\\item 'DASA\\_GPBP1L1'\n",
       "\\item 'DASA\\_PQBP1'\n",
       "\\item 'DASA\\_KMT2B'\n",
       "\\item 'DASA\\_SLTM'\n",
       "\\item 'DASA\\_PLAGL2'\n",
       "\\item 'DASA\\_YEATS4'\n",
       "\\item 'DASA\\_ADNP'\n",
       "\\item 'DASA\\_BRD2'\n",
       "\\item 'DASA\\_ZNF669'\n",
       "\\item 'DMSO\\_KMT2B'\n",
       "\\item 'DMSO\\_CHD2'\n",
       "\\item 'DMSO\\_NT'\n",
       "\\item 'DMSO\\_BRD2'\n",
       "\\item 'DMSO\\_GPBP1L1'\n",
       "\\item 'DMSO\\_HIC2'\n",
       "\\item 'DMSO\\_PIAS1'\n",
       "\\item 'DMSO\\_ZBED6'\n",
       "\\item 'DMSO\\_YEATS4'\n",
       "\\item 'DMSO\\_ZNF669'\n",
       "\\item 'DMSO\\_ADNP'\n",
       "\\item 'DMSO\\_SLTM'\n",
       "\\item 'DMSO\\_MNT'\n",
       "\\end{enumerate*}\n"
      ],
      "text/markdown": [
       "1. 'DASA_NT'\n",
       "2. 'DASA_HIC2'\n",
       "3. 'DASA_PIAS1'\n",
       "4. 'DASA_CHD2'\n",
       "5. 'DASA_GPBP1L1'\n",
       "6. 'DASA_PQBP1'\n",
       "7. 'DASA_KMT2B'\n",
       "8. 'DASA_SLTM'\n",
       "9. 'DASA_PLAGL2'\n",
       "10. 'DASA_YEATS4'\n",
       "11. 'DASA_ADNP'\n",
       "12. 'DASA_BRD2'\n",
       "13. 'DASA_ZNF669'\n",
       "14. 'DMSO_KMT2B'\n",
       "15. 'DMSO_CHD2'\n",
       "16. 'DMSO_NT'\n",
       "17. 'DMSO_BRD2'\n",
       "18. 'DMSO_GPBP1L1'\n",
       "19. 'DMSO_HIC2'\n",
       "20. 'DMSO_PIAS1'\n",
       "21. 'DMSO_ZBED6'\n",
       "22. 'DMSO_YEATS4'\n",
       "23. 'DMSO_ZNF669'\n",
       "24. 'DMSO_ADNP'\n",
       "25. 'DMSO_SLTM'\n",
       "26. 'DMSO_MNT'\n",
       "\n",
       "\n"
      ],
      "text/plain": [
       " [1] \"DASA_NT\"      \"DASA_HIC2\"    \"DASA_PIAS1\"   \"DASA_CHD2\"    \"DASA_GPBP1L1\"\n",
       " [6] \"DASA_PQBP1\"   \"DASA_KMT2B\"   \"DASA_SLTM\"    \"DASA_PLAGL2\"  \"DASA_YEATS4\" \n",
       "[11] \"DASA_ADNP\"    \"DASA_BRD2\"    \"DASA_ZNF669\"  \"DMSO_KMT2B\"   \"DMSO_CHD2\"   \n",
       "[16] \"DMSO_NT\"      \"DMSO_BRD2\"    \"DMSO_GPBP1L1\" \"DMSO_HIC2\"    \"DMSO_PIAS1\"  \n",
       "[21] \"DMSO_ZBED6\"   \"DMSO_YEATS4\"  \"DMSO_ZNF669\"  \"DMSO_ADNP\"    \"DMSO_SLTM\"   \n",
       "[26] \"DMSO_MNT\"    "
      ]
     },
     "metadata": {},
     "output_type": "display_data"
    }
   ],
   "source": [
    "# Sort columns\n",
    "# Step 1: Extract substrings that come after the underscore\n",
    "substrings <- sub(\".*_\", \"\", names(mean_expression))\n",
    "\n",
    "# Step 2: Order the indices of these substrings, breaking ties alphabetically by the full column name\n",
    "order_indices <- order(substrings, names(mean_expression))\n",
    "\n",
    "# Step 3: Reorder the dataframe columns based on these indices\n",
    "df_sorted <- mean_expression[, order_indices]\n",
    "\n",
    "# Check the new order of column names\n",
    "print(names(df_sorted))\n",
    "colnames(mean_expression)"
   ]
  },
  {
   "cell_type": "code",
   "execution_count": 27,
   "metadata": {
    "vscode": {
     "languageId": "r"
    }
   },
   "outputs": [
    {
     "data": {
      "text/html": [
       "<table class=\"dataframe\">\n",
       "<caption>A data.frame: 14 × 26</caption>\n",
       "<thead>\n",
       "\t<tr><th></th><th scope=col>DASA_ADNP</th><th scope=col>DMSO_ADNP</th><th scope=col>DASA_BRD2</th><th scope=col>DMSO_BRD2</th><th scope=col>DASA_CHD2</th><th scope=col>DMSO_CHD2</th><th scope=col>DASA_GPBP1L1</th><th scope=col>DMSO_GPBP1L1</th><th scope=col>DASA_HIC2</th><th scope=col>DMSO_HIC2</th><th scope=col>⋯</th><th scope=col>DMSO_PIAS1</th><th scope=col>DASA_PLAGL2</th><th scope=col>DASA_PQBP1</th><th scope=col>DASA_SLTM</th><th scope=col>DMSO_SLTM</th><th scope=col>DASA_YEATS4</th><th scope=col>DMSO_YEATS4</th><th scope=col>DMSO_ZBED6</th><th scope=col>DASA_ZNF669</th><th scope=col>DMSO_ZNF669</th></tr>\n",
       "\t<tr><th></th><th scope=col>&lt;dbl&gt;</th><th scope=col>&lt;dbl&gt;</th><th scope=col>&lt;dbl&gt;</th><th scope=col>&lt;dbl&gt;</th><th scope=col>&lt;dbl&gt;</th><th scope=col>&lt;dbl&gt;</th><th scope=col>&lt;dbl&gt;</th><th scope=col>&lt;dbl&gt;</th><th scope=col>&lt;dbl&gt;</th><th scope=col>&lt;dbl&gt;</th><th scope=col>⋯</th><th scope=col>&lt;dbl&gt;</th><th scope=col>&lt;dbl&gt;</th><th scope=col>&lt;dbl&gt;</th><th scope=col>&lt;dbl&gt;</th><th scope=col>&lt;dbl&gt;</th><th scope=col>&lt;dbl&gt;</th><th scope=col>&lt;dbl&gt;</th><th scope=col>&lt;dbl&gt;</th><th scope=col>&lt;dbl&gt;</th><th scope=col>&lt;dbl&gt;</th></tr>\n",
       "</thead>\n",
       "<tbody>\n",
       "\t<tr><th scope=row>ADNP</th><td>0.2000000</td><td>0.5000000</td><td>0.56250</td><td>0.6891892</td><td>0.8716814</td><td>0.6862745</td><td>0.8015267</td><td>0.7297297</td><td>0.7626667</td><td>0.5972222</td><td>⋯</td><td>0.7424749</td><td>0.8674699</td><td>0.8235294</td><td>0.8642534</td><td>0.7433628</td><td>0.80991736</td><td>0.66804979</td><td>0.9047619</td><td>0.6202532</td><td>0.6859504</td></tr>\n",
       "\t<tr><th scope=row>BRD2</th><td>2.0666667</td><td>2.0000000</td><td>0.62500</td><td>1.0743243</td><td>1.9247788</td><td>2.0392157</td><td>1.7709924</td><td>1.8783784</td><td>1.5040000</td><td>2.0555556</td><td>⋯</td><td>2.0100334</td><td>2.0843373</td><td>1.9019608</td><td>1.8552036</td><td>1.8318584</td><td>1.73553719</td><td>2.08713693</td><td>2.2222222</td><td>1.5063291</td><td>2.2066116</td></tr>\n",
       "\t<tr><th scope=row>CHD2</th><td>0.8666667</td><td>0.9387755</td><td>0.59375</td><td>0.9864865</td><td>0.9601770</td><td>1.2745098</td><td>0.7404580</td><td>0.8963964</td><td>0.7040000</td><td>0.8611111</td><td>⋯</td><td>0.8829431</td><td>1.1325301</td><td>0.8529412</td><td>0.8190045</td><td>0.9646018</td><td>0.90909091</td><td>1.02489627</td><td>1.0238095</td><td>0.6835443</td><td>1.0826446</td></tr>\n",
       "\t<tr><th scope=row>GPBP1L1</th><td>0.9333333</td><td>1.3673469</td><td>0.75000</td><td>1.1283784</td><td>1.1769912</td><td>1.1764706</td><td>0.5114504</td><td>0.5990991</td><td>1.0293333</td><td>1.1296296</td><td>⋯</td><td>1.0702341</td><td>1.2891566</td><td>1.0980392</td><td>1.2352941</td><td>0.9469027</td><td>1.08264463</td><td>1.05809129</td><td>1.3412698</td><td>0.7848101</td><td>1.5454545</td></tr>\n",
       "\t<tr><th scope=row>HIC2</th><td>0.8666667</td><td>0.8367347</td><td>0.68750</td><td>0.7702703</td><td>0.7256637</td><td>0.7254902</td><td>0.6870229</td><td>0.7387387</td><td>0.3493333</td><td>0.5370370</td><td>⋯</td><td>0.8561873</td><td>0.7951807</td><td>0.7352941</td><td>0.8461538</td><td>0.9292035</td><td>0.78512397</td><td>0.75103734</td><td>0.9126984</td><td>0.4810127</td><td>1.0661157</td></tr>\n",
       "\t<tr><th scope=row>KMT2B</th><td>0.9333333</td><td>1.4387755</td><td>0.68750</td><td>1.0743243</td><td>0.8584071</td><td>0.7058824</td><td>0.8244275</td><td>0.9639640</td><td>0.9173333</td><td>1.0509259</td><td>⋯</td><td>0.9498328</td><td>1.0963855</td><td>0.9411765</td><td>1.0000000</td><td>0.9823009</td><td>0.93388430</td><td>0.85892116</td><td>0.9285714</td><td>0.7215190</td><td>0.9338843</td></tr>\n",
       "\t<tr><th scope=row>MNT</th><td>1.8000000</td><td>1.4795918</td><td>1.00000</td><td>1.6013514</td><td>1.5044248</td><td>1.3333333</td><td>1.3664122</td><td>1.5900901</td><td>1.3493333</td><td>1.5555556</td><td>⋯</td><td>1.6588629</td><td>1.5903614</td><td>1.2450980</td><td>1.5429864</td><td>1.4247788</td><td>1.06611570</td><td>1.85477178</td><td>1.7857143</td><td>1.1772152</td><td>1.7768595</td></tr>\n",
       "\t<tr><th scope=row>PIAS1</th><td>0.4666667</td><td>0.8163265</td><td>0.65625</td><td>0.8851351</td><td>0.7123894</td><td>1.0588235</td><td>0.6641221</td><td>0.7792793</td><td>0.5973333</td><td>0.6851852</td><td>⋯</td><td>0.4816054</td><td>0.8674699</td><td>0.8333333</td><td>0.7466063</td><td>0.7345133</td><td>0.73553719</td><td>0.85477178</td><td>0.7936508</td><td>0.6075949</td><td>0.9917355</td></tr>\n",
       "\t<tr><th scope=row>PLAGL2</th><td>0.3333333</td><td>0.3571429</td><td>0.40625</td><td>0.3175676</td><td>0.5132743</td><td>0.4117647</td><td>0.5725191</td><td>0.4189189</td><td>0.4746667</td><td>0.3842593</td><td>⋯</td><td>0.3344482</td><td>0.1566265</td><td>0.3627451</td><td>0.6063348</td><td>0.4778761</td><td>0.42148760</td><td>0.33195021</td><td>0.3571429</td><td>0.3797468</td><td>0.3305785</td></tr>\n",
       "\t<tr><th scope=row>PQBP1</th><td>0.6000000</td><td>0.3367347</td><td>0.28125</td><td>0.3648649</td><td>0.3407080</td><td>0.3529412</td><td>0.2748092</td><td>0.3153153</td><td>0.2826667</td><td>0.3194444</td><td>⋯</td><td>0.3411371</td><td>0.5301205</td><td>0.2254902</td><td>0.4705882</td><td>0.3274336</td><td>0.45454545</td><td>0.35684647</td><td>0.3730159</td><td>0.2278481</td><td>0.3636364</td></tr>\n",
       "\t<tr><th scope=row>SLTM</th><td>0.2666667</td><td>0.4387755</td><td>0.18750</td><td>0.5743243</td><td>0.4380531</td><td>0.3921569</td><td>0.2671756</td><td>0.4009009</td><td>0.3920000</td><td>0.3333333</td><td>⋯</td><td>0.4214047</td><td>0.4578313</td><td>0.3921569</td><td>0.1583710</td><td>0.3362832</td><td>0.32231405</td><td>0.38589212</td><td>0.4365079</td><td>0.3544304</td><td>0.4545455</td></tr>\n",
       "\t<tr><th scope=row>YEATS4</th><td>0.2000000</td><td>0.2244898</td><td>0.03125</td><td>0.2837838</td><td>0.1504425</td><td>0.2549020</td><td>0.2442748</td><td>0.2432432</td><td>0.1573333</td><td>0.1759259</td><td>⋯</td><td>0.2207358</td><td>0.1445783</td><td>0.1470588</td><td>0.1990950</td><td>0.3274336</td><td>0.05785124</td><td>0.09128631</td><td>0.3333333</td><td>0.1898734</td><td>0.2314050</td></tr>\n",
       "\t<tr><th scope=row>ZBED6</th><td>0.6000000</td><td>0.4591837</td><td>0.31250</td><td>0.4324324</td><td>0.5132743</td><td>0.5294118</td><td>0.3587786</td><td>0.3738739</td><td>0.4053333</td><td>0.4583333</td><td>⋯</td><td>0.4080268</td><td>0.4819277</td><td>0.3627451</td><td>0.3710407</td><td>0.2300885</td><td>0.38842975</td><td>0.36929461</td><td>0.2301587</td><td>0.3037975</td><td>0.4214876</td></tr>\n",
       "\t<tr><th scope=row>ZNF669</th><td>0.5333333</td><td>0.5510204</td><td>0.12500</td><td>0.4662162</td><td>0.4955752</td><td>0.3333333</td><td>0.4656489</td><td>0.4684685</td><td>0.4346667</td><td>0.6435185</td><td>⋯</td><td>0.5217391</td><td>0.4216867</td><td>0.4509804</td><td>0.4570136</td><td>0.6017699</td><td>0.37190083</td><td>0.54356846</td><td>0.4206349</td><td>0.4177215</td><td>0.6859504</td></tr>\n",
       "</tbody>\n",
       "</table>\n"
      ],
      "text/latex": [
       "A data.frame: 14 × 26\n",
       "\\begin{tabular}{r|lllllllllllllllllllll}\n",
       "  & DASA\\_ADNP & DMSO\\_ADNP & DASA\\_BRD2 & DMSO\\_BRD2 & DASA\\_CHD2 & DMSO\\_CHD2 & DASA\\_GPBP1L1 & DMSO\\_GPBP1L1 & DASA\\_HIC2 & DMSO\\_HIC2 & ⋯ & DMSO\\_PIAS1 & DASA\\_PLAGL2 & DASA\\_PQBP1 & DASA\\_SLTM & DMSO\\_SLTM & DASA\\_YEATS4 & DMSO\\_YEATS4 & DMSO\\_ZBED6 & DASA\\_ZNF669 & DMSO\\_ZNF669\\\\\n",
       "  & <dbl> & <dbl> & <dbl> & <dbl> & <dbl> & <dbl> & <dbl> & <dbl> & <dbl> & <dbl> & ⋯ & <dbl> & <dbl> & <dbl> & <dbl> & <dbl> & <dbl> & <dbl> & <dbl> & <dbl> & <dbl>\\\\\n",
       "\\hline\n",
       "\tADNP & 0.2000000 & 0.5000000 & 0.56250 & 0.6891892 & 0.8716814 & 0.6862745 & 0.8015267 & 0.7297297 & 0.7626667 & 0.5972222 & ⋯ & 0.7424749 & 0.8674699 & 0.8235294 & 0.8642534 & 0.7433628 & 0.80991736 & 0.66804979 & 0.9047619 & 0.6202532 & 0.6859504\\\\\n",
       "\tBRD2 & 2.0666667 & 2.0000000 & 0.62500 & 1.0743243 & 1.9247788 & 2.0392157 & 1.7709924 & 1.8783784 & 1.5040000 & 2.0555556 & ⋯ & 2.0100334 & 2.0843373 & 1.9019608 & 1.8552036 & 1.8318584 & 1.73553719 & 2.08713693 & 2.2222222 & 1.5063291 & 2.2066116\\\\\n",
       "\tCHD2 & 0.8666667 & 0.9387755 & 0.59375 & 0.9864865 & 0.9601770 & 1.2745098 & 0.7404580 & 0.8963964 & 0.7040000 & 0.8611111 & ⋯ & 0.8829431 & 1.1325301 & 0.8529412 & 0.8190045 & 0.9646018 & 0.90909091 & 1.02489627 & 1.0238095 & 0.6835443 & 1.0826446\\\\\n",
       "\tGPBP1L1 & 0.9333333 & 1.3673469 & 0.75000 & 1.1283784 & 1.1769912 & 1.1764706 & 0.5114504 & 0.5990991 & 1.0293333 & 1.1296296 & ⋯ & 1.0702341 & 1.2891566 & 1.0980392 & 1.2352941 & 0.9469027 & 1.08264463 & 1.05809129 & 1.3412698 & 0.7848101 & 1.5454545\\\\\n",
       "\tHIC2 & 0.8666667 & 0.8367347 & 0.68750 & 0.7702703 & 0.7256637 & 0.7254902 & 0.6870229 & 0.7387387 & 0.3493333 & 0.5370370 & ⋯ & 0.8561873 & 0.7951807 & 0.7352941 & 0.8461538 & 0.9292035 & 0.78512397 & 0.75103734 & 0.9126984 & 0.4810127 & 1.0661157\\\\\n",
       "\tKMT2B & 0.9333333 & 1.4387755 & 0.68750 & 1.0743243 & 0.8584071 & 0.7058824 & 0.8244275 & 0.9639640 & 0.9173333 & 1.0509259 & ⋯ & 0.9498328 & 1.0963855 & 0.9411765 & 1.0000000 & 0.9823009 & 0.93388430 & 0.85892116 & 0.9285714 & 0.7215190 & 0.9338843\\\\\n",
       "\tMNT & 1.8000000 & 1.4795918 & 1.00000 & 1.6013514 & 1.5044248 & 1.3333333 & 1.3664122 & 1.5900901 & 1.3493333 & 1.5555556 & ⋯ & 1.6588629 & 1.5903614 & 1.2450980 & 1.5429864 & 1.4247788 & 1.06611570 & 1.85477178 & 1.7857143 & 1.1772152 & 1.7768595\\\\\n",
       "\tPIAS1 & 0.4666667 & 0.8163265 & 0.65625 & 0.8851351 & 0.7123894 & 1.0588235 & 0.6641221 & 0.7792793 & 0.5973333 & 0.6851852 & ⋯ & 0.4816054 & 0.8674699 & 0.8333333 & 0.7466063 & 0.7345133 & 0.73553719 & 0.85477178 & 0.7936508 & 0.6075949 & 0.9917355\\\\\n",
       "\tPLAGL2 & 0.3333333 & 0.3571429 & 0.40625 & 0.3175676 & 0.5132743 & 0.4117647 & 0.5725191 & 0.4189189 & 0.4746667 & 0.3842593 & ⋯ & 0.3344482 & 0.1566265 & 0.3627451 & 0.6063348 & 0.4778761 & 0.42148760 & 0.33195021 & 0.3571429 & 0.3797468 & 0.3305785\\\\\n",
       "\tPQBP1 & 0.6000000 & 0.3367347 & 0.28125 & 0.3648649 & 0.3407080 & 0.3529412 & 0.2748092 & 0.3153153 & 0.2826667 & 0.3194444 & ⋯ & 0.3411371 & 0.5301205 & 0.2254902 & 0.4705882 & 0.3274336 & 0.45454545 & 0.35684647 & 0.3730159 & 0.2278481 & 0.3636364\\\\\n",
       "\tSLTM & 0.2666667 & 0.4387755 & 0.18750 & 0.5743243 & 0.4380531 & 0.3921569 & 0.2671756 & 0.4009009 & 0.3920000 & 0.3333333 & ⋯ & 0.4214047 & 0.4578313 & 0.3921569 & 0.1583710 & 0.3362832 & 0.32231405 & 0.38589212 & 0.4365079 & 0.3544304 & 0.4545455\\\\\n",
       "\tYEATS4 & 0.2000000 & 0.2244898 & 0.03125 & 0.2837838 & 0.1504425 & 0.2549020 & 0.2442748 & 0.2432432 & 0.1573333 & 0.1759259 & ⋯ & 0.2207358 & 0.1445783 & 0.1470588 & 0.1990950 & 0.3274336 & 0.05785124 & 0.09128631 & 0.3333333 & 0.1898734 & 0.2314050\\\\\n",
       "\tZBED6 & 0.6000000 & 0.4591837 & 0.31250 & 0.4324324 & 0.5132743 & 0.5294118 & 0.3587786 & 0.3738739 & 0.4053333 & 0.4583333 & ⋯ & 0.4080268 & 0.4819277 & 0.3627451 & 0.3710407 & 0.2300885 & 0.38842975 & 0.36929461 & 0.2301587 & 0.3037975 & 0.4214876\\\\\n",
       "\tZNF669 & 0.5333333 & 0.5510204 & 0.12500 & 0.4662162 & 0.4955752 & 0.3333333 & 0.4656489 & 0.4684685 & 0.4346667 & 0.6435185 & ⋯ & 0.5217391 & 0.4216867 & 0.4509804 & 0.4570136 & 0.6017699 & 0.37190083 & 0.54356846 & 0.4206349 & 0.4177215 & 0.6859504\\\\\n",
       "\\end{tabular}\n"
      ],
      "text/markdown": [
       "\n",
       "A data.frame: 14 × 26\n",
       "\n",
       "| <!--/--> | DASA_ADNP &lt;dbl&gt; | DMSO_ADNP &lt;dbl&gt; | DASA_BRD2 &lt;dbl&gt; | DMSO_BRD2 &lt;dbl&gt; | DASA_CHD2 &lt;dbl&gt; | DMSO_CHD2 &lt;dbl&gt; | DASA_GPBP1L1 &lt;dbl&gt; | DMSO_GPBP1L1 &lt;dbl&gt; | DASA_HIC2 &lt;dbl&gt; | DMSO_HIC2 &lt;dbl&gt; | ⋯ ⋯ | DMSO_PIAS1 &lt;dbl&gt; | DASA_PLAGL2 &lt;dbl&gt; | DASA_PQBP1 &lt;dbl&gt; | DASA_SLTM &lt;dbl&gt; | DMSO_SLTM &lt;dbl&gt; | DASA_YEATS4 &lt;dbl&gt; | DMSO_YEATS4 &lt;dbl&gt; | DMSO_ZBED6 &lt;dbl&gt; | DASA_ZNF669 &lt;dbl&gt; | DMSO_ZNF669 &lt;dbl&gt; |\n",
       "|---|---|---|---|---|---|---|---|---|---|---|---|---|---|---|---|---|---|---|---|---|---|\n",
       "| ADNP | 0.2000000 | 0.5000000 | 0.56250 | 0.6891892 | 0.8716814 | 0.6862745 | 0.8015267 | 0.7297297 | 0.7626667 | 0.5972222 | ⋯ | 0.7424749 | 0.8674699 | 0.8235294 | 0.8642534 | 0.7433628 | 0.80991736 | 0.66804979 | 0.9047619 | 0.6202532 | 0.6859504 |\n",
       "| BRD2 | 2.0666667 | 2.0000000 | 0.62500 | 1.0743243 | 1.9247788 | 2.0392157 | 1.7709924 | 1.8783784 | 1.5040000 | 2.0555556 | ⋯ | 2.0100334 | 2.0843373 | 1.9019608 | 1.8552036 | 1.8318584 | 1.73553719 | 2.08713693 | 2.2222222 | 1.5063291 | 2.2066116 |\n",
       "| CHD2 | 0.8666667 | 0.9387755 | 0.59375 | 0.9864865 | 0.9601770 | 1.2745098 | 0.7404580 | 0.8963964 | 0.7040000 | 0.8611111 | ⋯ | 0.8829431 | 1.1325301 | 0.8529412 | 0.8190045 | 0.9646018 | 0.90909091 | 1.02489627 | 1.0238095 | 0.6835443 | 1.0826446 |\n",
       "| GPBP1L1 | 0.9333333 | 1.3673469 | 0.75000 | 1.1283784 | 1.1769912 | 1.1764706 | 0.5114504 | 0.5990991 | 1.0293333 | 1.1296296 | ⋯ | 1.0702341 | 1.2891566 | 1.0980392 | 1.2352941 | 0.9469027 | 1.08264463 | 1.05809129 | 1.3412698 | 0.7848101 | 1.5454545 |\n",
       "| HIC2 | 0.8666667 | 0.8367347 | 0.68750 | 0.7702703 | 0.7256637 | 0.7254902 | 0.6870229 | 0.7387387 | 0.3493333 | 0.5370370 | ⋯ | 0.8561873 | 0.7951807 | 0.7352941 | 0.8461538 | 0.9292035 | 0.78512397 | 0.75103734 | 0.9126984 | 0.4810127 | 1.0661157 |\n",
       "| KMT2B | 0.9333333 | 1.4387755 | 0.68750 | 1.0743243 | 0.8584071 | 0.7058824 | 0.8244275 | 0.9639640 | 0.9173333 | 1.0509259 | ⋯ | 0.9498328 | 1.0963855 | 0.9411765 | 1.0000000 | 0.9823009 | 0.93388430 | 0.85892116 | 0.9285714 | 0.7215190 | 0.9338843 |\n",
       "| MNT | 1.8000000 | 1.4795918 | 1.00000 | 1.6013514 | 1.5044248 | 1.3333333 | 1.3664122 | 1.5900901 | 1.3493333 | 1.5555556 | ⋯ | 1.6588629 | 1.5903614 | 1.2450980 | 1.5429864 | 1.4247788 | 1.06611570 | 1.85477178 | 1.7857143 | 1.1772152 | 1.7768595 |\n",
       "| PIAS1 | 0.4666667 | 0.8163265 | 0.65625 | 0.8851351 | 0.7123894 | 1.0588235 | 0.6641221 | 0.7792793 | 0.5973333 | 0.6851852 | ⋯ | 0.4816054 | 0.8674699 | 0.8333333 | 0.7466063 | 0.7345133 | 0.73553719 | 0.85477178 | 0.7936508 | 0.6075949 | 0.9917355 |\n",
       "| PLAGL2 | 0.3333333 | 0.3571429 | 0.40625 | 0.3175676 | 0.5132743 | 0.4117647 | 0.5725191 | 0.4189189 | 0.4746667 | 0.3842593 | ⋯ | 0.3344482 | 0.1566265 | 0.3627451 | 0.6063348 | 0.4778761 | 0.42148760 | 0.33195021 | 0.3571429 | 0.3797468 | 0.3305785 |\n",
       "| PQBP1 | 0.6000000 | 0.3367347 | 0.28125 | 0.3648649 | 0.3407080 | 0.3529412 | 0.2748092 | 0.3153153 | 0.2826667 | 0.3194444 | ⋯ | 0.3411371 | 0.5301205 | 0.2254902 | 0.4705882 | 0.3274336 | 0.45454545 | 0.35684647 | 0.3730159 | 0.2278481 | 0.3636364 |\n",
       "| SLTM | 0.2666667 | 0.4387755 | 0.18750 | 0.5743243 | 0.4380531 | 0.3921569 | 0.2671756 | 0.4009009 | 0.3920000 | 0.3333333 | ⋯ | 0.4214047 | 0.4578313 | 0.3921569 | 0.1583710 | 0.3362832 | 0.32231405 | 0.38589212 | 0.4365079 | 0.3544304 | 0.4545455 |\n",
       "| YEATS4 | 0.2000000 | 0.2244898 | 0.03125 | 0.2837838 | 0.1504425 | 0.2549020 | 0.2442748 | 0.2432432 | 0.1573333 | 0.1759259 | ⋯ | 0.2207358 | 0.1445783 | 0.1470588 | 0.1990950 | 0.3274336 | 0.05785124 | 0.09128631 | 0.3333333 | 0.1898734 | 0.2314050 |\n",
       "| ZBED6 | 0.6000000 | 0.4591837 | 0.31250 | 0.4324324 | 0.5132743 | 0.5294118 | 0.3587786 | 0.3738739 | 0.4053333 | 0.4583333 | ⋯ | 0.4080268 | 0.4819277 | 0.3627451 | 0.3710407 | 0.2300885 | 0.38842975 | 0.36929461 | 0.2301587 | 0.3037975 | 0.4214876 |\n",
       "| ZNF669 | 0.5333333 | 0.5510204 | 0.12500 | 0.4662162 | 0.4955752 | 0.3333333 | 0.4656489 | 0.4684685 | 0.4346667 | 0.6435185 | ⋯ | 0.5217391 | 0.4216867 | 0.4509804 | 0.4570136 | 0.6017699 | 0.37190083 | 0.54356846 | 0.4206349 | 0.4177215 | 0.6859504 |\n",
       "\n"
      ],
      "text/plain": [
       "        DASA_ADNP DMSO_ADNP DASA_BRD2 DMSO_BRD2 DASA_CHD2 DMSO_CHD2\n",
       "ADNP    0.2000000 0.5000000 0.56250   0.6891892 0.8716814 0.6862745\n",
       "BRD2    2.0666667 2.0000000 0.62500   1.0743243 1.9247788 2.0392157\n",
       "CHD2    0.8666667 0.9387755 0.59375   0.9864865 0.9601770 1.2745098\n",
       "GPBP1L1 0.9333333 1.3673469 0.75000   1.1283784 1.1769912 1.1764706\n",
       "HIC2    0.8666667 0.8367347 0.68750   0.7702703 0.7256637 0.7254902\n",
       "KMT2B   0.9333333 1.4387755 0.68750   1.0743243 0.8584071 0.7058824\n",
       "MNT     1.8000000 1.4795918 1.00000   1.6013514 1.5044248 1.3333333\n",
       "PIAS1   0.4666667 0.8163265 0.65625   0.8851351 0.7123894 1.0588235\n",
       "PLAGL2  0.3333333 0.3571429 0.40625   0.3175676 0.5132743 0.4117647\n",
       "PQBP1   0.6000000 0.3367347 0.28125   0.3648649 0.3407080 0.3529412\n",
       "SLTM    0.2666667 0.4387755 0.18750   0.5743243 0.4380531 0.3921569\n",
       "YEATS4  0.2000000 0.2244898 0.03125   0.2837838 0.1504425 0.2549020\n",
       "ZBED6   0.6000000 0.4591837 0.31250   0.4324324 0.5132743 0.5294118\n",
       "ZNF669  0.5333333 0.5510204 0.12500   0.4662162 0.4955752 0.3333333\n",
       "        DASA_GPBP1L1 DMSO_GPBP1L1 DASA_HIC2 DMSO_HIC2 ⋯ DMSO_PIAS1 DASA_PLAGL2\n",
       "ADNP    0.8015267    0.7297297    0.7626667 0.5972222 ⋯ 0.7424749  0.8674699  \n",
       "BRD2    1.7709924    1.8783784    1.5040000 2.0555556 ⋯ 2.0100334  2.0843373  \n",
       "CHD2    0.7404580    0.8963964    0.7040000 0.8611111 ⋯ 0.8829431  1.1325301  \n",
       "GPBP1L1 0.5114504    0.5990991    1.0293333 1.1296296 ⋯ 1.0702341  1.2891566  \n",
       "HIC2    0.6870229    0.7387387    0.3493333 0.5370370 ⋯ 0.8561873  0.7951807  \n",
       "KMT2B   0.8244275    0.9639640    0.9173333 1.0509259 ⋯ 0.9498328  1.0963855  \n",
       "MNT     1.3664122    1.5900901    1.3493333 1.5555556 ⋯ 1.6588629  1.5903614  \n",
       "PIAS1   0.6641221    0.7792793    0.5973333 0.6851852 ⋯ 0.4816054  0.8674699  \n",
       "PLAGL2  0.5725191    0.4189189    0.4746667 0.3842593 ⋯ 0.3344482  0.1566265  \n",
       "PQBP1   0.2748092    0.3153153    0.2826667 0.3194444 ⋯ 0.3411371  0.5301205  \n",
       "SLTM    0.2671756    0.4009009    0.3920000 0.3333333 ⋯ 0.4214047  0.4578313  \n",
       "YEATS4  0.2442748    0.2432432    0.1573333 0.1759259 ⋯ 0.2207358  0.1445783  \n",
       "ZBED6   0.3587786    0.3738739    0.4053333 0.4583333 ⋯ 0.4080268  0.4819277  \n",
       "ZNF669  0.4656489    0.4684685    0.4346667 0.6435185 ⋯ 0.5217391  0.4216867  \n",
       "        DASA_PQBP1 DASA_SLTM DMSO_SLTM DASA_YEATS4 DMSO_YEATS4 DMSO_ZBED6\n",
       "ADNP    0.8235294  0.8642534 0.7433628 0.80991736  0.66804979  0.9047619 \n",
       "BRD2    1.9019608  1.8552036 1.8318584 1.73553719  2.08713693  2.2222222 \n",
       "CHD2    0.8529412  0.8190045 0.9646018 0.90909091  1.02489627  1.0238095 \n",
       "GPBP1L1 1.0980392  1.2352941 0.9469027 1.08264463  1.05809129  1.3412698 \n",
       "HIC2    0.7352941  0.8461538 0.9292035 0.78512397  0.75103734  0.9126984 \n",
       "KMT2B   0.9411765  1.0000000 0.9823009 0.93388430  0.85892116  0.9285714 \n",
       "MNT     1.2450980  1.5429864 1.4247788 1.06611570  1.85477178  1.7857143 \n",
       "PIAS1   0.8333333  0.7466063 0.7345133 0.73553719  0.85477178  0.7936508 \n",
       "PLAGL2  0.3627451  0.6063348 0.4778761 0.42148760  0.33195021  0.3571429 \n",
       "PQBP1   0.2254902  0.4705882 0.3274336 0.45454545  0.35684647  0.3730159 \n",
       "SLTM    0.3921569  0.1583710 0.3362832 0.32231405  0.38589212  0.4365079 \n",
       "YEATS4  0.1470588  0.1990950 0.3274336 0.05785124  0.09128631  0.3333333 \n",
       "ZBED6   0.3627451  0.3710407 0.2300885 0.38842975  0.36929461  0.2301587 \n",
       "ZNF669  0.4509804  0.4570136 0.6017699 0.37190083  0.54356846  0.4206349 \n",
       "        DASA_ZNF669 DMSO_ZNF669\n",
       "ADNP    0.6202532   0.6859504  \n",
       "BRD2    1.5063291   2.2066116  \n",
       "CHD2    0.6835443   1.0826446  \n",
       "GPBP1L1 0.7848101   1.5454545  \n",
       "HIC2    0.4810127   1.0661157  \n",
       "KMT2B   0.7215190   0.9338843  \n",
       "MNT     1.1772152   1.7768595  \n",
       "PIAS1   0.6075949   0.9917355  \n",
       "PLAGL2  0.3797468   0.3305785  \n",
       "PQBP1   0.2278481   0.3636364  \n",
       "SLTM    0.3544304   0.4545455  \n",
       "YEATS4  0.1898734   0.2314050  \n",
       "ZBED6   0.3037975   0.4214876  \n",
       "ZNF669  0.4177215   0.6859504  "
      ]
     },
     "metadata": {},
     "output_type": "display_data"
    }
   ],
   "source": [
    "df_sorted"
   ]
  },
  {
   "cell_type": "code",
   "execution_count": 28,
   "metadata": {
    "vscode": {
     "languageId": "r"
    }
   },
   "outputs": [],
   "source": [
    "# sort df_sorted such that DASA cols come first and are in alphabetical order then DMSO cols in alphabetical order\n",
    "dasa_cols <- grep(\"^DASA\", names(df_sorted), value = TRUE)\n",
    "dmso_cols <- grep(\"^DMSO\", names(df_sorted), value = TRUE)\n",
    "\n",
    "dasa_cols_sorted <- sort(dasa_cols)\n",
    "dmso_cols_sorted <- sort(dmso_cols)\n",
    "\n",
    "df_sorted <- df_sorted[, c(dasa_cols_sorted, dmso_cols_sorted)]"
   ]
  },
  {
   "cell_type": "code",
   "execution_count": 29,
   "metadata": {
    "vscode": {
     "languageId": "r"
    }
   },
   "outputs": [
    {
     "data": {
      "text/html": [
       "<table class=\"dataframe\">\n",
       "<caption>A data.frame: 14 × 26</caption>\n",
       "<thead>\n",
       "\t<tr><th></th><th scope=col>DASA_ADNP</th><th scope=col>DASA_BRD2</th><th scope=col>DASA_CHD2</th><th scope=col>DASA_GPBP1L1</th><th scope=col>DASA_HIC2</th><th scope=col>DASA_KMT2B</th><th scope=col>DASA_NT</th><th scope=col>DASA_PIAS1</th><th scope=col>DASA_PLAGL2</th><th scope=col>DASA_PQBP1</th><th scope=col>⋯</th><th scope=col>DMSO_GPBP1L1</th><th scope=col>DMSO_HIC2</th><th scope=col>DMSO_KMT2B</th><th scope=col>DMSO_MNT</th><th scope=col>DMSO_NT</th><th scope=col>DMSO_PIAS1</th><th scope=col>DMSO_SLTM</th><th scope=col>DMSO_YEATS4</th><th scope=col>DMSO_ZBED6</th><th scope=col>DMSO_ZNF669</th></tr>\n",
       "\t<tr><th></th><th scope=col>&lt;dbl&gt;</th><th scope=col>&lt;dbl&gt;</th><th scope=col>&lt;dbl&gt;</th><th scope=col>&lt;dbl&gt;</th><th scope=col>&lt;dbl&gt;</th><th scope=col>&lt;dbl&gt;</th><th scope=col>&lt;dbl&gt;</th><th scope=col>&lt;dbl&gt;</th><th scope=col>&lt;dbl&gt;</th><th scope=col>&lt;dbl&gt;</th><th scope=col>⋯</th><th scope=col>&lt;dbl&gt;</th><th scope=col>&lt;dbl&gt;</th><th scope=col>&lt;dbl&gt;</th><th scope=col>&lt;dbl&gt;</th><th scope=col>&lt;dbl&gt;</th><th scope=col>&lt;dbl&gt;</th><th scope=col>&lt;dbl&gt;</th><th scope=col>&lt;dbl&gt;</th><th scope=col>&lt;dbl&gt;</th><th scope=col>&lt;dbl&gt;</th></tr>\n",
       "</thead>\n",
       "<tbody>\n",
       "\t<tr><th scope=row>ADNP</th><td>0.2000000</td><td>0.56250</td><td>0.8716814</td><td>0.8015267</td><td>0.7626667</td><td>0.7285714</td><td>0.7782027</td><td>0.8025890</td><td>0.8674699</td><td>0.8235294</td><td>⋯</td><td>0.7297297</td><td>0.5972222</td><td>0.7697368</td><td>0.7777778</td><td>0.7477423</td><td>0.7424749</td><td>0.7433628</td><td>0.66804979</td><td>0.9047619</td><td>0.6859504</td></tr>\n",
       "\t<tr><th scope=row>BRD2</th><td>2.0666667</td><td>0.62500</td><td>1.9247788</td><td>1.7709924</td><td>1.5040000</td><td>2.0142857</td><td>1.8940727</td><td>1.8446602</td><td>2.0843373</td><td>1.9019608</td><td>⋯</td><td>1.8783784</td><td>2.0555556</td><td>2.4078947</td><td>2.1111111</td><td>1.9861529</td><td>2.0100334</td><td>1.8318584</td><td>2.08713693</td><td>2.2222222</td><td>2.2066116</td></tr>\n",
       "\t<tr><th scope=row>CHD2</th><td>0.8666667</td><td>0.59375</td><td>0.9601770</td><td>0.7404580</td><td>0.7040000</td><td>0.7714286</td><td>0.8745698</td><td>0.8511327</td><td>1.1325301</td><td>0.8529412</td><td>⋯</td><td>0.8963964</td><td>0.8611111</td><td>0.8355263</td><td>1.0000000</td><td>0.9759181</td><td>0.8829431</td><td>0.9646018</td><td>1.02489627</td><td>1.0238095</td><td>1.0826446</td></tr>\n",
       "\t<tr><th scope=row>GPBP1L1</th><td>0.9333333</td><td>0.75000</td><td>1.1769912</td><td>0.5114504</td><td>1.0293333</td><td>1.0476190</td><td>1.1005736</td><td>0.9902913</td><td>1.2891566</td><td>1.0980392</td><td>⋯</td><td>0.5990991</td><td>1.1296296</td><td>1.3223684</td><td>1.0740741</td><td>1.1216135</td><td>1.0702341</td><td>0.9469027</td><td>1.05809129</td><td>1.3412698</td><td>1.5454545</td></tr>\n",
       "\t<tr><th scope=row>HIC2</th><td>0.8666667</td><td>0.68750</td><td>0.7256637</td><td>0.6870229</td><td>0.3493333</td><td>0.7523810</td><td>0.7567878</td><td>0.6440129</td><td>0.7951807</td><td>0.7352941</td><td>⋯</td><td>0.7387387</td><td>0.5370370</td><td>1.0460526</td><td>0.8518519</td><td>0.8037327</td><td>0.8561873</td><td>0.9292035</td><td>0.75103734</td><td>0.9126984</td><td>1.0661157</td></tr>\n",
       "\t<tr><th scope=row>KMT2B</th><td>0.9333333</td><td>0.68750</td><td>0.8584071</td><td>0.8244275</td><td>0.9173333</td><td>0.3047619</td><td>0.9151052</td><td>0.8284790</td><td>1.0963855</td><td>0.9411765</td><td>⋯</td><td>0.9639640</td><td>1.0509259</td><td>0.5394737</td><td>1.1481481</td><td>0.9066827</td><td>0.9498328</td><td>0.9823009</td><td>0.85892116</td><td>0.9285714</td><td>0.9338843</td></tr>\n",
       "\t<tr><th scope=row>MNT</th><td>1.8000000</td><td>1.00000</td><td>1.5044248</td><td>1.3664122</td><td>1.3493333</td><td>1.4619048</td><td>1.4022945</td><td>1.4239482</td><td>1.5903614</td><td>1.2450980</td><td>⋯</td><td>1.5900901</td><td>1.5555556</td><td>1.9473684</td><td>2.1851852</td><td>1.5894040</td><td>1.6588629</td><td>1.4247788</td><td>1.85477178</td><td>1.7857143</td><td>1.7768595</td></tr>\n",
       "\t<tr><th scope=row>PIAS1</th><td>0.4666667</td><td>0.65625</td><td>0.7123894</td><td>0.6641221</td><td>0.5973333</td><td>0.7666667</td><td>0.7556405</td><td>0.2491909</td><td>0.8674699</td><td>0.8333333</td><td>⋯</td><td>0.7792793</td><td>0.6851852</td><td>0.9868421</td><td>0.8148148</td><td>0.7844672</td><td>0.4816054</td><td>0.7345133</td><td>0.85477178</td><td>0.7936508</td><td>0.9917355</td></tr>\n",
       "\t<tr><th scope=row>PLAGL2</th><td>0.3333333</td><td>0.40625</td><td>0.5132743</td><td>0.5725191</td><td>0.4746667</td><td>0.4523810</td><td>0.5043977</td><td>0.4822006</td><td>0.1566265</td><td>0.3627451</td><td>⋯</td><td>0.4189189</td><td>0.3842593</td><td>0.3223684</td><td>0.1851852</td><td>0.3497893</td><td>0.3344482</td><td>0.4778761</td><td>0.33195021</td><td>0.3571429</td><td>0.3305785</td></tr>\n",
       "\t<tr><th scope=row>PQBP1</th><td>0.6000000</td><td>0.28125</td><td>0.3407080</td><td>0.2748092</td><td>0.2826667</td><td>0.3619048</td><td>0.3720841</td><td>0.3818770</td><td>0.5301205</td><td>0.2254902</td><td>⋯</td><td>0.3153153</td><td>0.3194444</td><td>0.4342105</td><td>0.3333333</td><td>0.3515954</td><td>0.3411371</td><td>0.3274336</td><td>0.35684647</td><td>0.3730159</td><td>0.3636364</td></tr>\n",
       "\t<tr><th scope=row>SLTM</th><td>0.2666667</td><td>0.18750</td><td>0.4380531</td><td>0.2671756</td><td>0.3920000</td><td>0.3952381</td><td>0.3586998</td><td>0.4271845</td><td>0.4578313</td><td>0.3921569</td><td>⋯</td><td>0.4009009</td><td>0.3333333</td><td>0.3684211</td><td>0.8148148</td><td>0.3997592</td><td>0.4214047</td><td>0.3362832</td><td>0.38589212</td><td>0.4365079</td><td>0.4545455</td></tr>\n",
       "\t<tr><th scope=row>YEATS4</th><td>0.2000000</td><td>0.03125</td><td>0.1504425</td><td>0.2442748</td><td>0.1573333</td><td>0.1809524</td><td>0.1980880</td><td>0.2200647</td><td>0.1445783</td><td>0.1470588</td><td>⋯</td><td>0.2432432</td><td>0.1759259</td><td>0.2368421</td><td>0.2592593</td><td>0.2305840</td><td>0.2207358</td><td>0.3274336</td><td>0.09128631</td><td>0.3333333</td><td>0.2314050</td></tr>\n",
       "\t<tr><th scope=row>ZBED6</th><td>0.6000000</td><td>0.31250</td><td>0.5132743</td><td>0.3587786</td><td>0.4053333</td><td>0.3904762</td><td>0.4508604</td><td>0.4530744</td><td>0.4819277</td><td>0.3627451</td><td>⋯</td><td>0.3738739</td><td>0.4583333</td><td>0.4473684</td><td>0.4074074</td><td>0.3901264</td><td>0.4080268</td><td>0.2300885</td><td>0.36929461</td><td>0.2301587</td><td>0.4214876</td></tr>\n",
       "\t<tr><th scope=row>ZNF669</th><td>0.5333333</td><td>0.12500</td><td>0.4955752</td><td>0.4656489</td><td>0.4346667</td><td>0.3952381</td><td>0.4080306</td><td>0.4466019</td><td>0.4216867</td><td>0.4509804</td><td>⋯</td><td>0.4684685</td><td>0.6435185</td><td>0.5526316</td><td>0.2962963</td><td>0.4689946</td><td>0.5217391</td><td>0.6017699</td><td>0.54356846</td><td>0.4206349</td><td>0.6859504</td></tr>\n",
       "</tbody>\n",
       "</table>\n"
      ],
      "text/latex": [
       "A data.frame: 14 × 26\n",
       "\\begin{tabular}{r|lllllllllllllllllllll}\n",
       "  & DASA\\_ADNP & DASA\\_BRD2 & DASA\\_CHD2 & DASA\\_GPBP1L1 & DASA\\_HIC2 & DASA\\_KMT2B & DASA\\_NT & DASA\\_PIAS1 & DASA\\_PLAGL2 & DASA\\_PQBP1 & ⋯ & DMSO\\_GPBP1L1 & DMSO\\_HIC2 & DMSO\\_KMT2B & DMSO\\_MNT & DMSO\\_NT & DMSO\\_PIAS1 & DMSO\\_SLTM & DMSO\\_YEATS4 & DMSO\\_ZBED6 & DMSO\\_ZNF669\\\\\n",
       "  & <dbl> & <dbl> & <dbl> & <dbl> & <dbl> & <dbl> & <dbl> & <dbl> & <dbl> & <dbl> & ⋯ & <dbl> & <dbl> & <dbl> & <dbl> & <dbl> & <dbl> & <dbl> & <dbl> & <dbl> & <dbl>\\\\\n",
       "\\hline\n",
       "\tADNP & 0.2000000 & 0.56250 & 0.8716814 & 0.8015267 & 0.7626667 & 0.7285714 & 0.7782027 & 0.8025890 & 0.8674699 & 0.8235294 & ⋯ & 0.7297297 & 0.5972222 & 0.7697368 & 0.7777778 & 0.7477423 & 0.7424749 & 0.7433628 & 0.66804979 & 0.9047619 & 0.6859504\\\\\n",
       "\tBRD2 & 2.0666667 & 0.62500 & 1.9247788 & 1.7709924 & 1.5040000 & 2.0142857 & 1.8940727 & 1.8446602 & 2.0843373 & 1.9019608 & ⋯ & 1.8783784 & 2.0555556 & 2.4078947 & 2.1111111 & 1.9861529 & 2.0100334 & 1.8318584 & 2.08713693 & 2.2222222 & 2.2066116\\\\\n",
       "\tCHD2 & 0.8666667 & 0.59375 & 0.9601770 & 0.7404580 & 0.7040000 & 0.7714286 & 0.8745698 & 0.8511327 & 1.1325301 & 0.8529412 & ⋯ & 0.8963964 & 0.8611111 & 0.8355263 & 1.0000000 & 0.9759181 & 0.8829431 & 0.9646018 & 1.02489627 & 1.0238095 & 1.0826446\\\\\n",
       "\tGPBP1L1 & 0.9333333 & 0.75000 & 1.1769912 & 0.5114504 & 1.0293333 & 1.0476190 & 1.1005736 & 0.9902913 & 1.2891566 & 1.0980392 & ⋯ & 0.5990991 & 1.1296296 & 1.3223684 & 1.0740741 & 1.1216135 & 1.0702341 & 0.9469027 & 1.05809129 & 1.3412698 & 1.5454545\\\\\n",
       "\tHIC2 & 0.8666667 & 0.68750 & 0.7256637 & 0.6870229 & 0.3493333 & 0.7523810 & 0.7567878 & 0.6440129 & 0.7951807 & 0.7352941 & ⋯ & 0.7387387 & 0.5370370 & 1.0460526 & 0.8518519 & 0.8037327 & 0.8561873 & 0.9292035 & 0.75103734 & 0.9126984 & 1.0661157\\\\\n",
       "\tKMT2B & 0.9333333 & 0.68750 & 0.8584071 & 0.8244275 & 0.9173333 & 0.3047619 & 0.9151052 & 0.8284790 & 1.0963855 & 0.9411765 & ⋯ & 0.9639640 & 1.0509259 & 0.5394737 & 1.1481481 & 0.9066827 & 0.9498328 & 0.9823009 & 0.85892116 & 0.9285714 & 0.9338843\\\\\n",
       "\tMNT & 1.8000000 & 1.00000 & 1.5044248 & 1.3664122 & 1.3493333 & 1.4619048 & 1.4022945 & 1.4239482 & 1.5903614 & 1.2450980 & ⋯ & 1.5900901 & 1.5555556 & 1.9473684 & 2.1851852 & 1.5894040 & 1.6588629 & 1.4247788 & 1.85477178 & 1.7857143 & 1.7768595\\\\\n",
       "\tPIAS1 & 0.4666667 & 0.65625 & 0.7123894 & 0.6641221 & 0.5973333 & 0.7666667 & 0.7556405 & 0.2491909 & 0.8674699 & 0.8333333 & ⋯ & 0.7792793 & 0.6851852 & 0.9868421 & 0.8148148 & 0.7844672 & 0.4816054 & 0.7345133 & 0.85477178 & 0.7936508 & 0.9917355\\\\\n",
       "\tPLAGL2 & 0.3333333 & 0.40625 & 0.5132743 & 0.5725191 & 0.4746667 & 0.4523810 & 0.5043977 & 0.4822006 & 0.1566265 & 0.3627451 & ⋯ & 0.4189189 & 0.3842593 & 0.3223684 & 0.1851852 & 0.3497893 & 0.3344482 & 0.4778761 & 0.33195021 & 0.3571429 & 0.3305785\\\\\n",
       "\tPQBP1 & 0.6000000 & 0.28125 & 0.3407080 & 0.2748092 & 0.2826667 & 0.3619048 & 0.3720841 & 0.3818770 & 0.5301205 & 0.2254902 & ⋯ & 0.3153153 & 0.3194444 & 0.4342105 & 0.3333333 & 0.3515954 & 0.3411371 & 0.3274336 & 0.35684647 & 0.3730159 & 0.3636364\\\\\n",
       "\tSLTM & 0.2666667 & 0.18750 & 0.4380531 & 0.2671756 & 0.3920000 & 0.3952381 & 0.3586998 & 0.4271845 & 0.4578313 & 0.3921569 & ⋯ & 0.4009009 & 0.3333333 & 0.3684211 & 0.8148148 & 0.3997592 & 0.4214047 & 0.3362832 & 0.38589212 & 0.4365079 & 0.4545455\\\\\n",
       "\tYEATS4 & 0.2000000 & 0.03125 & 0.1504425 & 0.2442748 & 0.1573333 & 0.1809524 & 0.1980880 & 0.2200647 & 0.1445783 & 0.1470588 & ⋯ & 0.2432432 & 0.1759259 & 0.2368421 & 0.2592593 & 0.2305840 & 0.2207358 & 0.3274336 & 0.09128631 & 0.3333333 & 0.2314050\\\\\n",
       "\tZBED6 & 0.6000000 & 0.31250 & 0.5132743 & 0.3587786 & 0.4053333 & 0.3904762 & 0.4508604 & 0.4530744 & 0.4819277 & 0.3627451 & ⋯ & 0.3738739 & 0.4583333 & 0.4473684 & 0.4074074 & 0.3901264 & 0.4080268 & 0.2300885 & 0.36929461 & 0.2301587 & 0.4214876\\\\\n",
       "\tZNF669 & 0.5333333 & 0.12500 & 0.4955752 & 0.4656489 & 0.4346667 & 0.3952381 & 0.4080306 & 0.4466019 & 0.4216867 & 0.4509804 & ⋯ & 0.4684685 & 0.6435185 & 0.5526316 & 0.2962963 & 0.4689946 & 0.5217391 & 0.6017699 & 0.54356846 & 0.4206349 & 0.6859504\\\\\n",
       "\\end{tabular}\n"
      ],
      "text/markdown": [
       "\n",
       "A data.frame: 14 × 26\n",
       "\n",
       "| <!--/--> | DASA_ADNP &lt;dbl&gt; | DASA_BRD2 &lt;dbl&gt; | DASA_CHD2 &lt;dbl&gt; | DASA_GPBP1L1 &lt;dbl&gt; | DASA_HIC2 &lt;dbl&gt; | DASA_KMT2B &lt;dbl&gt; | DASA_NT &lt;dbl&gt; | DASA_PIAS1 &lt;dbl&gt; | DASA_PLAGL2 &lt;dbl&gt; | DASA_PQBP1 &lt;dbl&gt; | ⋯ ⋯ | DMSO_GPBP1L1 &lt;dbl&gt; | DMSO_HIC2 &lt;dbl&gt; | DMSO_KMT2B &lt;dbl&gt; | DMSO_MNT &lt;dbl&gt; | DMSO_NT &lt;dbl&gt; | DMSO_PIAS1 &lt;dbl&gt; | DMSO_SLTM &lt;dbl&gt; | DMSO_YEATS4 &lt;dbl&gt; | DMSO_ZBED6 &lt;dbl&gt; | DMSO_ZNF669 &lt;dbl&gt; |\n",
       "|---|---|---|---|---|---|---|---|---|---|---|---|---|---|---|---|---|---|---|---|---|---|\n",
       "| ADNP | 0.2000000 | 0.56250 | 0.8716814 | 0.8015267 | 0.7626667 | 0.7285714 | 0.7782027 | 0.8025890 | 0.8674699 | 0.8235294 | ⋯ | 0.7297297 | 0.5972222 | 0.7697368 | 0.7777778 | 0.7477423 | 0.7424749 | 0.7433628 | 0.66804979 | 0.9047619 | 0.6859504 |\n",
       "| BRD2 | 2.0666667 | 0.62500 | 1.9247788 | 1.7709924 | 1.5040000 | 2.0142857 | 1.8940727 | 1.8446602 | 2.0843373 | 1.9019608 | ⋯ | 1.8783784 | 2.0555556 | 2.4078947 | 2.1111111 | 1.9861529 | 2.0100334 | 1.8318584 | 2.08713693 | 2.2222222 | 2.2066116 |\n",
       "| CHD2 | 0.8666667 | 0.59375 | 0.9601770 | 0.7404580 | 0.7040000 | 0.7714286 | 0.8745698 | 0.8511327 | 1.1325301 | 0.8529412 | ⋯ | 0.8963964 | 0.8611111 | 0.8355263 | 1.0000000 | 0.9759181 | 0.8829431 | 0.9646018 | 1.02489627 | 1.0238095 | 1.0826446 |\n",
       "| GPBP1L1 | 0.9333333 | 0.75000 | 1.1769912 | 0.5114504 | 1.0293333 | 1.0476190 | 1.1005736 | 0.9902913 | 1.2891566 | 1.0980392 | ⋯ | 0.5990991 | 1.1296296 | 1.3223684 | 1.0740741 | 1.1216135 | 1.0702341 | 0.9469027 | 1.05809129 | 1.3412698 | 1.5454545 |\n",
       "| HIC2 | 0.8666667 | 0.68750 | 0.7256637 | 0.6870229 | 0.3493333 | 0.7523810 | 0.7567878 | 0.6440129 | 0.7951807 | 0.7352941 | ⋯ | 0.7387387 | 0.5370370 | 1.0460526 | 0.8518519 | 0.8037327 | 0.8561873 | 0.9292035 | 0.75103734 | 0.9126984 | 1.0661157 |\n",
       "| KMT2B | 0.9333333 | 0.68750 | 0.8584071 | 0.8244275 | 0.9173333 | 0.3047619 | 0.9151052 | 0.8284790 | 1.0963855 | 0.9411765 | ⋯ | 0.9639640 | 1.0509259 | 0.5394737 | 1.1481481 | 0.9066827 | 0.9498328 | 0.9823009 | 0.85892116 | 0.9285714 | 0.9338843 |\n",
       "| MNT | 1.8000000 | 1.00000 | 1.5044248 | 1.3664122 | 1.3493333 | 1.4619048 | 1.4022945 | 1.4239482 | 1.5903614 | 1.2450980 | ⋯ | 1.5900901 | 1.5555556 | 1.9473684 | 2.1851852 | 1.5894040 | 1.6588629 | 1.4247788 | 1.85477178 | 1.7857143 | 1.7768595 |\n",
       "| PIAS1 | 0.4666667 | 0.65625 | 0.7123894 | 0.6641221 | 0.5973333 | 0.7666667 | 0.7556405 | 0.2491909 | 0.8674699 | 0.8333333 | ⋯ | 0.7792793 | 0.6851852 | 0.9868421 | 0.8148148 | 0.7844672 | 0.4816054 | 0.7345133 | 0.85477178 | 0.7936508 | 0.9917355 |\n",
       "| PLAGL2 | 0.3333333 | 0.40625 | 0.5132743 | 0.5725191 | 0.4746667 | 0.4523810 | 0.5043977 | 0.4822006 | 0.1566265 | 0.3627451 | ⋯ | 0.4189189 | 0.3842593 | 0.3223684 | 0.1851852 | 0.3497893 | 0.3344482 | 0.4778761 | 0.33195021 | 0.3571429 | 0.3305785 |\n",
       "| PQBP1 | 0.6000000 | 0.28125 | 0.3407080 | 0.2748092 | 0.2826667 | 0.3619048 | 0.3720841 | 0.3818770 | 0.5301205 | 0.2254902 | ⋯ | 0.3153153 | 0.3194444 | 0.4342105 | 0.3333333 | 0.3515954 | 0.3411371 | 0.3274336 | 0.35684647 | 0.3730159 | 0.3636364 |\n",
       "| SLTM | 0.2666667 | 0.18750 | 0.4380531 | 0.2671756 | 0.3920000 | 0.3952381 | 0.3586998 | 0.4271845 | 0.4578313 | 0.3921569 | ⋯ | 0.4009009 | 0.3333333 | 0.3684211 | 0.8148148 | 0.3997592 | 0.4214047 | 0.3362832 | 0.38589212 | 0.4365079 | 0.4545455 |\n",
       "| YEATS4 | 0.2000000 | 0.03125 | 0.1504425 | 0.2442748 | 0.1573333 | 0.1809524 | 0.1980880 | 0.2200647 | 0.1445783 | 0.1470588 | ⋯ | 0.2432432 | 0.1759259 | 0.2368421 | 0.2592593 | 0.2305840 | 0.2207358 | 0.3274336 | 0.09128631 | 0.3333333 | 0.2314050 |\n",
       "| ZBED6 | 0.6000000 | 0.31250 | 0.5132743 | 0.3587786 | 0.4053333 | 0.3904762 | 0.4508604 | 0.4530744 | 0.4819277 | 0.3627451 | ⋯ | 0.3738739 | 0.4583333 | 0.4473684 | 0.4074074 | 0.3901264 | 0.4080268 | 0.2300885 | 0.36929461 | 0.2301587 | 0.4214876 |\n",
       "| ZNF669 | 0.5333333 | 0.12500 | 0.4955752 | 0.4656489 | 0.4346667 | 0.3952381 | 0.4080306 | 0.4466019 | 0.4216867 | 0.4509804 | ⋯ | 0.4684685 | 0.6435185 | 0.5526316 | 0.2962963 | 0.4689946 | 0.5217391 | 0.6017699 | 0.54356846 | 0.4206349 | 0.6859504 |\n",
       "\n"
      ],
      "text/plain": [
       "        DASA_ADNP DASA_BRD2 DASA_CHD2 DASA_GPBP1L1 DASA_HIC2 DASA_KMT2B\n",
       "ADNP    0.2000000 0.56250   0.8716814 0.8015267    0.7626667 0.7285714 \n",
       "BRD2    2.0666667 0.62500   1.9247788 1.7709924    1.5040000 2.0142857 \n",
       "CHD2    0.8666667 0.59375   0.9601770 0.7404580    0.7040000 0.7714286 \n",
       "GPBP1L1 0.9333333 0.75000   1.1769912 0.5114504    1.0293333 1.0476190 \n",
       "HIC2    0.8666667 0.68750   0.7256637 0.6870229    0.3493333 0.7523810 \n",
       "KMT2B   0.9333333 0.68750   0.8584071 0.8244275    0.9173333 0.3047619 \n",
       "MNT     1.8000000 1.00000   1.5044248 1.3664122    1.3493333 1.4619048 \n",
       "PIAS1   0.4666667 0.65625   0.7123894 0.6641221    0.5973333 0.7666667 \n",
       "PLAGL2  0.3333333 0.40625   0.5132743 0.5725191    0.4746667 0.4523810 \n",
       "PQBP1   0.6000000 0.28125   0.3407080 0.2748092    0.2826667 0.3619048 \n",
       "SLTM    0.2666667 0.18750   0.4380531 0.2671756    0.3920000 0.3952381 \n",
       "YEATS4  0.2000000 0.03125   0.1504425 0.2442748    0.1573333 0.1809524 \n",
       "ZBED6   0.6000000 0.31250   0.5132743 0.3587786    0.4053333 0.3904762 \n",
       "ZNF669  0.5333333 0.12500   0.4955752 0.4656489    0.4346667 0.3952381 \n",
       "        DASA_NT   DASA_PIAS1 DASA_PLAGL2 DASA_PQBP1 ⋯ DMSO_GPBP1L1 DMSO_HIC2\n",
       "ADNP    0.7782027 0.8025890  0.8674699   0.8235294  ⋯ 0.7297297    0.5972222\n",
       "BRD2    1.8940727 1.8446602  2.0843373   1.9019608  ⋯ 1.8783784    2.0555556\n",
       "CHD2    0.8745698 0.8511327  1.1325301   0.8529412  ⋯ 0.8963964    0.8611111\n",
       "GPBP1L1 1.1005736 0.9902913  1.2891566   1.0980392  ⋯ 0.5990991    1.1296296\n",
       "HIC2    0.7567878 0.6440129  0.7951807   0.7352941  ⋯ 0.7387387    0.5370370\n",
       "KMT2B   0.9151052 0.8284790  1.0963855   0.9411765  ⋯ 0.9639640    1.0509259\n",
       "MNT     1.4022945 1.4239482  1.5903614   1.2450980  ⋯ 1.5900901    1.5555556\n",
       "PIAS1   0.7556405 0.2491909  0.8674699   0.8333333  ⋯ 0.7792793    0.6851852\n",
       "PLAGL2  0.5043977 0.4822006  0.1566265   0.3627451  ⋯ 0.4189189    0.3842593\n",
       "PQBP1   0.3720841 0.3818770  0.5301205   0.2254902  ⋯ 0.3153153    0.3194444\n",
       "SLTM    0.3586998 0.4271845  0.4578313   0.3921569  ⋯ 0.4009009    0.3333333\n",
       "YEATS4  0.1980880 0.2200647  0.1445783   0.1470588  ⋯ 0.2432432    0.1759259\n",
       "ZBED6   0.4508604 0.4530744  0.4819277   0.3627451  ⋯ 0.3738739    0.4583333\n",
       "ZNF669  0.4080306 0.4466019  0.4216867   0.4509804  ⋯ 0.4684685    0.6435185\n",
       "        DMSO_KMT2B DMSO_MNT  DMSO_NT   DMSO_PIAS1 DMSO_SLTM DMSO_YEATS4\n",
       "ADNP    0.7697368  0.7777778 0.7477423 0.7424749  0.7433628 0.66804979 \n",
       "BRD2    2.4078947  2.1111111 1.9861529 2.0100334  1.8318584 2.08713693 \n",
       "CHD2    0.8355263  1.0000000 0.9759181 0.8829431  0.9646018 1.02489627 \n",
       "GPBP1L1 1.3223684  1.0740741 1.1216135 1.0702341  0.9469027 1.05809129 \n",
       "HIC2    1.0460526  0.8518519 0.8037327 0.8561873  0.9292035 0.75103734 \n",
       "KMT2B   0.5394737  1.1481481 0.9066827 0.9498328  0.9823009 0.85892116 \n",
       "MNT     1.9473684  2.1851852 1.5894040 1.6588629  1.4247788 1.85477178 \n",
       "PIAS1   0.9868421  0.8148148 0.7844672 0.4816054  0.7345133 0.85477178 \n",
       "PLAGL2  0.3223684  0.1851852 0.3497893 0.3344482  0.4778761 0.33195021 \n",
       "PQBP1   0.4342105  0.3333333 0.3515954 0.3411371  0.3274336 0.35684647 \n",
       "SLTM    0.3684211  0.8148148 0.3997592 0.4214047  0.3362832 0.38589212 \n",
       "YEATS4  0.2368421  0.2592593 0.2305840 0.2207358  0.3274336 0.09128631 \n",
       "ZBED6   0.4473684  0.4074074 0.3901264 0.4080268  0.2300885 0.36929461 \n",
       "ZNF669  0.5526316  0.2962963 0.4689946 0.5217391  0.6017699 0.54356846 \n",
       "        DMSO_ZBED6 DMSO_ZNF669\n",
       "ADNP    0.9047619  0.6859504  \n",
       "BRD2    2.2222222  2.2066116  \n",
       "CHD2    1.0238095  1.0826446  \n",
       "GPBP1L1 1.3412698  1.5454545  \n",
       "HIC2    0.9126984  1.0661157  \n",
       "KMT2B   0.9285714  0.9338843  \n",
       "MNT     1.7857143  1.7768595  \n",
       "PIAS1   0.7936508  0.9917355  \n",
       "PLAGL2  0.3571429  0.3305785  \n",
       "PQBP1   0.3730159  0.3636364  \n",
       "SLTM    0.4365079  0.4545455  \n",
       "YEATS4  0.3333333  0.2314050  \n",
       "ZBED6   0.2301587  0.4214876  \n",
       "ZNF669  0.4206349  0.6859504  "
      ]
     },
     "metadata": {},
     "output_type": "display_data"
    }
   ],
   "source": [
    "df_sorted"
   ]
  },
  {
   "cell_type": "code",
   "execution_count": null,
   "metadata": {
    "vscode": {
     "languageId": "r"
    }
   },
   "outputs": [],
   "source": [
    "# reorder cols\n",
    "suffixes <- sub(\".*_\", \"\", names(df_sorted))\n",
    "suffix_order <- unique(suffixes)\n",
    "\n",
    "new_order <- unlist(lapply(suffix_order, function(suffix) {\n",
    "\tc(\n",
    "\t\tgrep(paste0(\"DASA_\", suffix, \"$\"), names(df_sorted), value = TRUE),\n",
    "\t\tgrep(paste0(\"DMSO_\", suffix, \"$\"), names(df_sorted), value = TRUE)\n",
    "\t)\n",
    "}))\n",
    "\n",
    "df_sorted <- df_sorted[, new_order]"
   ]
  },
  {
   "cell_type": "code",
   "execution_count": null,
   "metadata": {
    "vscode": {
     "languageId": "r"
    }
   },
   "outputs": [],
   "source": [
    "options(repr.plot.width = 10, repr.plot.height = 5)\n",
    "pheatmap(scale(df_sorted), cluster_cols = FALSE, cluster_rows = FALSE)"
   ]
  }
 ],
 "metadata": {
  "kernelspec": {
   "display_name": "R 4.3",
   "language": "R",
   "name": "ir43"
  },
  "language_info": {
   "codemirror_mode": "r",
   "file_extension": ".r",
   "mimetype": "text/x-r-source",
   "name": "R",
   "pygments_lexer": "r",
   "version": "4.3.3"
  }
 },
 "nbformat": 4,
 "nbformat_minor": 2
}
