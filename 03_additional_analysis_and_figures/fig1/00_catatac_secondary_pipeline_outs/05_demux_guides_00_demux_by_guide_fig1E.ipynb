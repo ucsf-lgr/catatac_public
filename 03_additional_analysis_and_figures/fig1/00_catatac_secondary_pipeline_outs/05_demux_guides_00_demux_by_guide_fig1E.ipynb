{
 "cells": [
  {
   "cell_type": "code",
   "execution_count": 2,
   "id": "e0ef9285",
   "metadata": {
    "execution": {
     "iopub.execute_input": "2023-02-23T04:20:27.521953Z",
     "iopub.status.busy": "2023-02-23T04:20:27.520470Z",
     "iopub.status.idle": "2023-02-23T04:20:27.545981Z",
     "shell.execute_reply": "2023-02-23T04:20:27.544661Z"
    },
    "papermill": {
     "duration": 0.069724,
     "end_time": "2023-02-23T04:20:27.548027",
     "exception": false,
     "start_time": "2023-02-23T04:20:27.478303",
     "status": "completed"
    },
    "tags": [
     "injected-parameters"
    ],
    "vscode": {
     "languageId": "r"
    }
   },
   "outputs": [],
   "source": [
    "# Parameters\n",
    "h5_name = '{PATH_TO_CATATAC_5_CRISPR9_ONLY_SINGLETS_H5SEURAT}'\n",
    "protosp_path = '{PATH_TO_PROTOSPACERS_4SET_TSV}'\n",
    "library = \"CRISPR9\"\n",
    "tsv_path = '{PATH_TO_TSV}'\n"
   ]
  },
  {
   "cell_type": "code",
   "execution_count": 3,
   "id": "a9d516df",
   "metadata": {
    "execution": {
     "iopub.execute_input": "2023-02-23T04:20:27.602770Z",
     "iopub.status.busy": "2023-02-23T04:20:27.573491Z",
     "iopub.status.idle": "2023-02-23T04:20:30.614084Z",
     "shell.execute_reply": "2023-02-23T04:20:30.612976Z"
    },
    "papermill": {
     "duration": 3.052852,
     "end_time": "2023-02-23T04:20:30.615953",
     "exception": false,
     "start_time": "2023-02-23T04:20:27.563101",
     "status": "completed"
    },
    "tags": [],
    "vscode": {
     "languageId": "r"
    }
   },
   "outputs": [
    {
     "name": "stdout",
     "output_type": "stream",
     "text": [
      "Error in .make_numeric_version(x, strict, .standard_regexps()$valid_numeric_version) : \n",
      "  invalid non-character version specification 'x' (type: double)\n"
     ]
    },
    {
     "name": "stderr",
     "output_type": "stream",
     "text": [
      "Attaching SeuratObject\n",
      "\n",
      "Attaching sp\n",
      "\n",
      "Registered S3 method overwritten by 'SeuratDisk':\n",
      "  method            from  \n",
      "  as.sparse.H5Group Seurat\n",
      "\n",
      "\n",
      "Attaching package: ‘dplyr’\n",
      "\n",
      "\n",
      "The following objects are masked from ‘package:stats’:\n",
      "\n",
      "    filter, lag\n",
      "\n",
      "\n",
      "The following objects are masked from ‘package:base’:\n",
      "\n",
      "    intersect, setdiff, setequal, union\n",
      "\n",
      "\n",
      "\n",
      "Attaching package: ‘crayon’\n",
      "\n",
      "\n",
      "The following object is masked from ‘package:ggplot2’:\n",
      "\n",
      "    %+%\n",
      "\n",
      "\n"
     ]
    }
   ],
   "source": [
    "library(Seurat)\n",
    "library(SeuratDisk)\n",
    "library(dplyr)\n",
    "library(ggplot2)\n",
    "library(patchwork)\n",
    "library(stringr)\n",
    "library(crayon)"
   ]
  },
  {
   "cell_type": "code",
   "execution_count": 4,
   "id": "62c36c8e",
   "metadata": {
    "execution": {
     "iopub.execute_input": "2023-02-23T04:20:30.642315Z",
     "iopub.status.busy": "2023-02-23T04:20:30.639852Z",
     "iopub.status.idle": "2023-02-23T04:20:30.652688Z",
     "shell.execute_reply": "2023-02-23T04:20:30.650833Z"
    },
    "papermill": {
     "duration": 0.026048,
     "end_time": "2023-02-23T04:20:30.655196",
     "exception": false,
     "start_time": "2023-02-23T04:20:30.629148",
     "status": "completed"
    },
    "tags": [],
    "vscode": {
     "languageId": "r"
    }
   },
   "outputs": [],
   "source": [
    "#setwd(\"~/prj/catatac/scripts\")"
   ]
  },
  {
   "cell_type": "markdown",
   "id": "76fe5a8e",
   "metadata": {
    "papermill": {
     "duration": 0.008947,
     "end_time": "2023-02-23T04:20:30.677709",
     "exception": false,
     "start_time": "2023-02-23T04:20:30.668762",
     "status": "completed"
    },
    "tags": []
   },
   "source": [
    "# Load guide-capture data"
   ]
  },
  {
   "cell_type": "markdown",
   "id": "40267b06",
   "metadata": {
    "papermill": {
     "duration": 0.009125,
     "end_time": "2023-02-23T04:20:30.695921",
     "exception": false,
     "start_time": "2023-02-23T04:20:30.686796",
     "status": "completed"
    },
    "tags": []
   },
   "source": [
    "Define paths etc"
   ]
  },
  {
   "cell_type": "code",
   "execution_count": 5,
   "id": "3b184039",
   "metadata": {
    "execution": {
     "iopub.execute_input": "2023-02-23T04:20:30.717608Z",
     "iopub.status.busy": "2023-02-23T04:20:30.715694Z",
     "iopub.status.idle": "2023-02-23T04:20:30.727948Z",
     "shell.execute_reply": "2023-02-23T04:20:30.726904Z"
    },
    "papermill": {
     "duration": 0.02481,
     "end_time": "2023-02-23T04:20:30.729756",
     "exception": false,
     "start_time": "2023-02-23T04:20:30.704946",
     "status": "completed"
    },
    "tags": [],
    "vscode": {
     "languageId": "r"
    }
   },
   "outputs": [],
   "source": [
    "# Pass these as parameters\n",
    "# h5_name = '{PATH_TO_CATATAC_4_CRISPR8_ONLY_SINGLETS_H5SEURAT}'\n",
    "# protosp_path = '{PATH_TO_PROTOSPACERS_4SET_TSV_2}'\n",
    "# library = \"CRISPR8\"\n",
    "# tsv_path = '{PATH_TO_TSV_2}'\n"
   ]
  },
  {
   "cell_type": "code",
   "execution_count": 6,
   "id": "976cf03a",
   "metadata": {
    "execution": {
     "iopub.execute_input": "2023-02-23T04:20:30.755779Z",
     "iopub.status.busy": "2023-02-23T04:20:30.754919Z",
     "iopub.status.idle": "2023-02-23T04:20:30.763988Z",
     "shell.execute_reply": "2023-02-23T04:20:30.762933Z"
    },
    "papermill": {
     "duration": 0.020716,
     "end_time": "2023-02-23T04:20:30.765785",
     "exception": false,
     "start_time": "2023-02-23T04:20:30.745069",
     "status": "completed"
    },
    "tags": [],
    "vscode": {
     "languageId": "r"
    }
   },
   "outputs": [],
   "source": [
    "h5_w_gcap_name <- sub(\".h5seurat\", \"_w_GUIDE_CAP.h5seurat\", h5_name)  #changed to by_guide\n",
    "barcode2guide_tsv_path <- paste0(tsv_path, '{PATH_TO_LIBRARY_ALL_STRUCTURED_TSV}')\n",
    "tsv_name <- paste0(tsv_path, '{PATH_TO_LIBRARY_PIVOT_TSV}')"
   ]
  },
  {
   "cell_type": "markdown",
   "id": "2fbf577b",
   "metadata": {
    "papermill": {
     "duration": 0.00892,
     "end_time": "2023-02-23T04:20:30.788603",
     "exception": false,
     "start_time": "2023-02-23T04:20:30.779683",
     "status": "completed"
    },
    "tags": []
   },
   "source": [
    "### Load protospacer file"
   ]
  },
  {
   "cell_type": "code",
   "execution_count": 7,
   "id": "ad983438",
   "metadata": {
    "execution": {
     "iopub.execute_input": "2023-02-23T04:20:30.808350Z",
     "iopub.status.busy": "2023-02-23T04:20:30.807483Z",
     "iopub.status.idle": "2023-02-23T04:20:30.835981Z",
     "shell.execute_reply": "2023-02-23T04:20:30.834749Z"
    },
    "papermill": {
     "duration": 0.04015,
     "end_time": "2023-02-23T04:20:30.837799",
     "exception": false,
     "start_time": "2023-02-23T04:20:30.797649",
     "status": "completed"
    },
    "tags": [],
    "vscode": {
     "languageId": "r"
    }
   },
   "outputs": [],
   "source": [
    "df_protosp = read.table(protosp_path, header=TRUE, comment.char=\"\")"
   ]
  },
  {
   "cell_type": "code",
   "execution_count": 8,
   "id": "96a737e3",
   "metadata": {
    "execution": {
     "iopub.execute_input": "2023-02-23T04:20:30.864464Z",
     "iopub.status.busy": "2023-02-23T04:20:30.862592Z",
     "iopub.status.idle": "2023-02-23T04:20:30.885006Z",
     "shell.execute_reply": "2023-02-23T04:20:30.883905Z"
    },
    "papermill": {
     "duration": 0.035035,
     "end_time": "2023-02-23T04:20:30.886860",
     "exception": false,
     "start_time": "2023-02-23T04:20:30.851825",
     "status": "completed"
    },
    "tags": [],
    "vscode": {
     "languageId": "r"
    }
   },
   "outputs": [
    {
     "data": {
      "text/html": [
       "<style>\n",
       ".list-inline {list-style: none; margin:0; padding: 0}\n",
       ".list-inline>li {display: inline-block}\n",
       ".list-inline>li:not(:last-child)::after {content: \"\\00b7\"; padding: 0 .5ex}\n",
       "</style>\n",
       "<ol class=list-inline><li>'GATA5'</li><li>'MEOX1'</li><li>'NEUROG2'</li></ol>\n"
      ],
      "text/latex": [
       "\\begin{enumerate*}\n",
       "\\item 'GATA5'\n",
       "\\item 'MEOX1'\n",
       "\\item 'NEUROG2'\n",
       "\\end{enumerate*}\n"
      ],
      "text/markdown": [
       "1. 'GATA5'\n",
       "2. 'MEOX1'\n",
       "3. 'NEUROG2'\n",
       "\n",
       "\n"
      ],
      "text/plain": [
       "[1] \"GATA5\"   \"MEOX1\"   \"NEUROG2\""
      ]
     },
     "metadata": {},
     "output_type": "display_data"
    },
    {
     "data": {
      "text/html": [
       "<style>\n",
       ".list-inline {list-style: none; margin:0; padding: 0}\n",
       ".list-inline>li {display: inline-block}\n",
       ".list-inline>li:not(:last-child)::after {content: \"\\00b7\"; padding: 0 .5ex}\n",
       "</style>\n",
       "<ol class=list-inline><li>'GATA5_1'</li><li>'GATA5_2'</li><li>'MEOX1_1'</li><li>'MEOX1_2'</li><li>'NEUROG2_1'</li><li>'NEUROG2_2'</li><li>'NTCTL_1'</li><li>'NTCTL_2'</li></ol>\n"
      ],
      "text/latex": [
       "\\begin{enumerate*}\n",
       "\\item 'GATA5\\_1'\n",
       "\\item 'GATA5\\_2'\n",
       "\\item 'MEOX1\\_1'\n",
       "\\item 'MEOX1\\_2'\n",
       "\\item 'NEUROG2\\_1'\n",
       "\\item 'NEUROG2\\_2'\n",
       "\\item 'NTCTL\\_1'\n",
       "\\item 'NTCTL\\_2'\n",
       "\\end{enumerate*}\n"
      ],
      "text/markdown": [
       "1. 'GATA5_1'\n",
       "2. 'GATA5_2'\n",
       "3. 'MEOX1_1'\n",
       "4. 'MEOX1_2'\n",
       "5. 'NEUROG2_1'\n",
       "6. 'NEUROG2_2'\n",
       "7. 'NTCTL_1'\n",
       "8. 'NTCTL_2'\n",
       "\n",
       "\n"
      ],
      "text/plain": [
       "[1] \"GATA5_1\"   \"GATA5_2\"   \"MEOX1_1\"   \"MEOX1_2\"   \"NEUROG2_1\" \"NEUROG2_2\"\n",
       "[7] \"NTCTL_1\"   \"NTCTL_2\"  "
      ]
     },
     "metadata": {},
     "output_type": "display_data"
    }
   ],
   "source": [
    "tfs_w_ntctl    = unique(df_protosp$X.TargetGene)\n",
    "unselect_ntctl = (tfs_w_ntctl != \"NTCTL\") & (tfs_w_ntctl != \"NTCTRL\")\n",
    "tfs_to_plot    = tfs_w_ntctl[unselect_ntctl]\n",
    "\n",
    "guides_to_plot  = df_protosp$GuideName\n",
    "tfs_to_plot\n",
    "guides_to_plot"
   ]
  },
  {
   "cell_type": "code",
   "execution_count": 9,
   "id": "f347067f",
   "metadata": {
    "execution": {
     "iopub.execute_input": "2023-02-23T04:20:30.913118Z",
     "iopub.status.busy": "2023-02-23T04:20:30.912245Z",
     "iopub.status.idle": "2023-02-23T04:20:30.947754Z",
     "shell.execute_reply": "2023-02-23T04:20:30.946615Z"
    },
    "papermill": {
     "duration": 0.047749,
     "end_time": "2023-02-23T04:20:30.949601",
     "exception": false,
     "start_time": "2023-02-23T04:20:30.901852",
     "status": "completed"
    },
    "tags": [],
    "vscode": {
     "languageId": "r"
    }
   },
   "outputs": [
    {
     "data": {
      "text/html": [
       "<table class=\"dataframe\">\n",
       "<caption>A data.frame: 8 × 3</caption>\n",
       "<thead>\n",
       "\t<tr><th scope=col>X.TargetGene</th><th scope=col>GuideName</th><th scope=col>Protospacer</th></tr>\n",
       "\t<tr><th scope=col>&lt;chr&gt;</th><th scope=col>&lt;chr&gt;</th><th scope=col>&lt;chr&gt;</th></tr>\n",
       "</thead>\n",
       "<tbody>\n",
       "\t<tr><td>GATA5  </td><td>GATA5_1  </td><td>GCTGACCCTGCGGGGAAGAA</td></tr>\n",
       "\t<tr><td>GATA5  </td><td>GATA5_2  </td><td>GTCGCCAAGCCCCGCGAGCA</td></tr>\n",
       "\t<tr><td>MEOX1  </td><td>MEOX1_1  </td><td>GCATCAAATGCCAAATTCCA</td></tr>\n",
       "\t<tr><td>MEOX1  </td><td>MEOX1_2  </td><td>GCTGAAGTGAAATGTGAGAG</td></tr>\n",
       "\t<tr><td>NEUROG2</td><td>NEUROG2_1</td><td>GGGAGCTGGCGAAGCCGCAG</td></tr>\n",
       "\t<tr><td>NEUROG2</td><td>NEUROG2_2</td><td>GGGAAAGGCGGTGAAGAAAG</td></tr>\n",
       "\t<tr><td>NTCTL  </td><td>NTCTL_1  </td><td>GTGTCGTGATGCGTAGACGG</td></tr>\n",
       "\t<tr><td>NTCTL  </td><td>NTCTL_2  </td><td>GTCATCAAGGAGCATTCCGT</td></tr>\n",
       "</tbody>\n",
       "</table>\n"
      ],
      "text/latex": [
       "A data.frame: 8 × 3\n",
       "\\begin{tabular}{lll}\n",
       " X.TargetGene & GuideName & Protospacer\\\\\n",
       " <chr> & <chr> & <chr>\\\\\n",
       "\\hline\n",
       "\t GATA5   & GATA5\\_1   & GCTGACCCTGCGGGGAAGAA\\\\\n",
       "\t GATA5   & GATA5\\_2   & GTCGCCAAGCCCCGCGAGCA\\\\\n",
       "\t MEOX1   & MEOX1\\_1   & GCATCAAATGCCAAATTCCA\\\\\n",
       "\t MEOX1   & MEOX1\\_2   & GCTGAAGTGAAATGTGAGAG\\\\\n",
       "\t NEUROG2 & NEUROG2\\_1 & GGGAGCTGGCGAAGCCGCAG\\\\\n",
       "\t NEUROG2 & NEUROG2\\_2 & GGGAAAGGCGGTGAAGAAAG\\\\\n",
       "\t NTCTL   & NTCTL\\_1   & GTGTCGTGATGCGTAGACGG\\\\\n",
       "\t NTCTL   & NTCTL\\_2   & GTCATCAAGGAGCATTCCGT\\\\\n",
       "\\end{tabular}\n"
      ],
      "text/markdown": [
       "\n",
       "A data.frame: 8 × 3\n",
       "\n",
       "| X.TargetGene &lt;chr&gt; | GuideName &lt;chr&gt; | Protospacer &lt;chr&gt; |\n",
       "|---|---|---|\n",
       "| GATA5   | GATA5_1   | GCTGACCCTGCGGGGAAGAA |\n",
       "| GATA5   | GATA5_2   | GTCGCCAAGCCCCGCGAGCA |\n",
       "| MEOX1   | MEOX1_1   | GCATCAAATGCCAAATTCCA |\n",
       "| MEOX1   | MEOX1_2   | GCTGAAGTGAAATGTGAGAG |\n",
       "| NEUROG2 | NEUROG2_1 | GGGAGCTGGCGAAGCCGCAG |\n",
       "| NEUROG2 | NEUROG2_2 | GGGAAAGGCGGTGAAGAAAG |\n",
       "| NTCTL   | NTCTL_1   | GTGTCGTGATGCGTAGACGG |\n",
       "| NTCTL   | NTCTL_2   | GTCATCAAGGAGCATTCCGT |\n",
       "\n"
      ],
      "text/plain": [
       "  X.TargetGene GuideName Protospacer         \n",
       "1 GATA5        GATA5_1   GCTGACCCTGCGGGGAAGAA\n",
       "2 GATA5        GATA5_2   GTCGCCAAGCCCCGCGAGCA\n",
       "3 MEOX1        MEOX1_1   GCATCAAATGCCAAATTCCA\n",
       "4 MEOX1        MEOX1_2   GCTGAAGTGAAATGTGAGAG\n",
       "5 NEUROG2      NEUROG2_1 GGGAGCTGGCGAAGCCGCAG\n",
       "6 NEUROG2      NEUROG2_2 GGGAAAGGCGGTGAAGAAAG\n",
       "7 NTCTL        NTCTL_1   GTGTCGTGATGCGTAGACGG\n",
       "8 NTCTL        NTCTL_2   GTCATCAAGGAGCATTCCGT"
      ]
     },
     "metadata": {},
     "output_type": "display_data"
    }
   ],
   "source": [
    "df_protosp"
   ]
  },
  {
   "cell_type": "code",
   "execution_count": 10,
   "id": "625cd5a0",
   "metadata": {
    "execution": {
     "iopub.execute_input": "2023-02-23T04:20:30.975445Z",
     "iopub.status.busy": "2023-02-23T04:20:30.974526Z",
     "iopub.status.idle": "2023-02-23T04:20:32.872542Z",
     "shell.execute_reply": "2023-02-23T04:20:32.871438Z"
    },
    "papermill": {
     "duration": 1.910192,
     "end_time": "2023-02-23T04:20:32.874437",
     "exception": false,
     "start_time": "2023-02-23T04:20:30.964245",
     "status": "completed"
    },
    "tags": [],
    "vscode": {
     "languageId": "r"
    }
   },
   "outputs": [
    {
     "data": {
      "text/html": [
       "<table class=\"dataframe\">\n",
       "<caption>A matrix: 8 × 80957 of type int</caption>\n",
       "<thead>\n",
       "\t<tr><th></th><th scope=col>AAACAGCCAAACATAG-1</th><th scope=col>AAACAGCCAAACGCGA-1</th><th scope=col>AAACAGCCAAAGCGCA-1</th><th scope=col>AAACAGCCAAATATCC-1</th><th scope=col>AAACAGCCAAATTGCT-1</th><th scope=col>AAACAGCCAACTAGAA-1</th><th scope=col>AAACAGCCAACTGGCT-1</th><th scope=col>AAACAGCCAATAGCCC-1</th><th scope=col>AAACAGCCAATATACC-1</th><th scope=col>AAACAGCCAATCCTAG-1</th><th scope=col>⋯</th><th scope=col>TTTGTTGGTTAGCGTA-1</th><th scope=col>TTTGTTGGTTAGTACG-1</th><th scope=col>TTTGTTGGTTCACCAT-1</th><th scope=col>TTTGTTGGTTCGCTCA-1</th><th scope=col>TTTGTTGGTTCTTTAG-1</th><th scope=col>TTTGTTGGTTGGTTAG-1</th><th scope=col>TTTGTTGGTTGTCCAT-1</th><th scope=col>TTTGTTGGTTTACCGT-1</th><th scope=col>TTTGTTGGTTTGCGCC-1</th><th scope=col>TTTGTTGGTTTGTCTA-1</th></tr>\n",
       "</thead>\n",
       "<tbody>\n",
       "\t<tr><th scope=row>GATA5_1</th><td>18</td><td> 2</td><td> 0</td><td> 0</td><td> 0</td><td> 8</td><td>6</td><td> 8</td><td>0</td><td> 0</td><td>⋯</td><td> 2</td><td> 0</td><td> 0</td><td>2</td><td>0</td><td> 0</td><td>2</td><td> 0</td><td>0</td><td> 0</td></tr>\n",
       "\t<tr><th scope=row>GATA5_2</th><td> 0</td><td> 0</td><td> 0</td><td> 0</td><td> 0</td><td>11</td><td>0</td><td>13</td><td>0</td><td> 0</td><td>⋯</td><td> 9</td><td> 0</td><td> 0</td><td>7</td><td>0</td><td> 0</td><td>0</td><td> 0</td><td>2</td><td> 0</td></tr>\n",
       "\t<tr><th scope=row>MEOX1_1</th><td> 0</td><td>23</td><td>12</td><td>11</td><td>18</td><td>25</td><td>0</td><td> 0</td><td>3</td><td>15</td><td>⋯</td><td>11</td><td> 2</td><td> 0</td><td>0</td><td>9</td><td>14</td><td>0</td><td> 0</td><td>0</td><td> 2</td></tr>\n",
       "\t<tr><th scope=row>MEOX1_2</th><td> 0</td><td> 8</td><td> 0</td><td>24</td><td> 0</td><td> 0</td><td>0</td><td> 0</td><td>0</td><td> 0</td><td>⋯</td><td> 0</td><td> 3</td><td>12</td><td>0</td><td>0</td><td> 0</td><td>0</td><td> 0</td><td>0</td><td> 0</td></tr>\n",
       "\t<tr><th scope=row>NEUROG2_1</th><td>54</td><td> 2</td><td> 0</td><td> 0</td><td>10</td><td>15</td><td>6</td><td> 0</td><td>0</td><td> 0</td><td>⋯</td><td>17</td><td> 0</td><td> 0</td><td>0</td><td>0</td><td> 0</td><td>0</td><td> 9</td><td>2</td><td>21</td></tr>\n",
       "\t<tr><th scope=row>NEUROG2_2</th><td> 0</td><td>16</td><td>15</td><td> 0</td><td> 0</td><td> 6</td><td>0</td><td> 5</td><td>1</td><td> 0</td><td>⋯</td><td> 4</td><td> 0</td><td> 0</td><td>0</td><td>6</td><td> 7</td><td>9</td><td> 0</td><td>0</td><td> 0</td></tr>\n",
       "\t<tr><th scope=row>NTCTL_1</th><td> 0</td><td> 0</td><td> 0</td><td> 0</td><td> 0</td><td> 0</td><td>0</td><td> 0</td><td>0</td><td> 0</td><td>⋯</td><td>11</td><td> 0</td><td> 0</td><td>0</td><td>0</td><td> 0</td><td>0</td><td>32</td><td>0</td><td> 0</td></tr>\n",
       "\t<tr><th scope=row>NTCTL_2</th><td> 0</td><td> 0</td><td> 0</td><td> 0</td><td> 0</td><td> 0</td><td>0</td><td>12</td><td>6</td><td> 0</td><td>⋯</td><td> 0</td><td>11</td><td> 0</td><td>0</td><td>0</td><td> 0</td><td>0</td><td> 0</td><td>0</td><td> 0</td></tr>\n",
       "</tbody>\n",
       "</table>\n"
      ],
      "text/latex": [
       "A matrix: 8 × 80957 of type int\n",
       "\\begin{tabular}{r|lllllllllllllllllllll}\n",
       "  & AAACAGCCAAACATAG-1 & AAACAGCCAAACGCGA-1 & AAACAGCCAAAGCGCA-1 & AAACAGCCAAATATCC-1 & AAACAGCCAAATTGCT-1 & AAACAGCCAACTAGAA-1 & AAACAGCCAACTGGCT-1 & AAACAGCCAATAGCCC-1 & AAACAGCCAATATACC-1 & AAACAGCCAATCCTAG-1 & ⋯ & TTTGTTGGTTAGCGTA-1 & TTTGTTGGTTAGTACG-1 & TTTGTTGGTTCACCAT-1 & TTTGTTGGTTCGCTCA-1 & TTTGTTGGTTCTTTAG-1 & TTTGTTGGTTGGTTAG-1 & TTTGTTGGTTGTCCAT-1 & TTTGTTGGTTTACCGT-1 & TTTGTTGGTTTGCGCC-1 & TTTGTTGGTTTGTCTA-1\\\\\n",
       "\\hline\n",
       "\tGATA5\\_1 & 18 &  2 &  0 &  0 &  0 &  8 & 6 &  8 & 0 &  0 & ⋯ &  2 &  0 &  0 & 2 & 0 &  0 & 2 &  0 & 0 &  0\\\\\n",
       "\tGATA5\\_2 &  0 &  0 &  0 &  0 &  0 & 11 & 0 & 13 & 0 &  0 & ⋯ &  9 &  0 &  0 & 7 & 0 &  0 & 0 &  0 & 2 &  0\\\\\n",
       "\tMEOX1\\_1 &  0 & 23 & 12 & 11 & 18 & 25 & 0 &  0 & 3 & 15 & ⋯ & 11 &  2 &  0 & 0 & 9 & 14 & 0 &  0 & 0 &  2\\\\\n",
       "\tMEOX1\\_2 &  0 &  8 &  0 & 24 &  0 &  0 & 0 &  0 & 0 &  0 & ⋯ &  0 &  3 & 12 & 0 & 0 &  0 & 0 &  0 & 0 &  0\\\\\n",
       "\tNEUROG2\\_1 & 54 &  2 &  0 &  0 & 10 & 15 & 6 &  0 & 0 &  0 & ⋯ & 17 &  0 &  0 & 0 & 0 &  0 & 0 &  9 & 2 & 21\\\\\n",
       "\tNEUROG2\\_2 &  0 & 16 & 15 &  0 &  0 &  6 & 0 &  5 & 1 &  0 & ⋯ &  4 &  0 &  0 & 0 & 6 &  7 & 9 &  0 & 0 &  0\\\\\n",
       "\tNTCTL\\_1 &  0 &  0 &  0 &  0 &  0 &  0 & 0 &  0 & 0 &  0 & ⋯ & 11 &  0 &  0 & 0 & 0 &  0 & 0 & 32 & 0 &  0\\\\\n",
       "\tNTCTL\\_2 &  0 &  0 &  0 &  0 &  0 &  0 & 0 & 12 & 6 &  0 & ⋯ &  0 & 11 &  0 & 0 & 0 &  0 & 0 &  0 & 0 &  0\\\\\n",
       "\\end{tabular}\n"
      ],
      "text/markdown": [
       "\n",
       "A matrix: 8 × 80957 of type int\n",
       "\n",
       "| <!--/--> | AAACAGCCAAACATAG-1 | AAACAGCCAAACGCGA-1 | AAACAGCCAAAGCGCA-1 | AAACAGCCAAATATCC-1 | AAACAGCCAAATTGCT-1 | AAACAGCCAACTAGAA-1 | AAACAGCCAACTGGCT-1 | AAACAGCCAATAGCCC-1 | AAACAGCCAATATACC-1 | AAACAGCCAATCCTAG-1 | ⋯ | TTTGTTGGTTAGCGTA-1 | TTTGTTGGTTAGTACG-1 | TTTGTTGGTTCACCAT-1 | TTTGTTGGTTCGCTCA-1 | TTTGTTGGTTCTTTAG-1 | TTTGTTGGTTGGTTAG-1 | TTTGTTGGTTGTCCAT-1 | TTTGTTGGTTTACCGT-1 | TTTGTTGGTTTGCGCC-1 | TTTGTTGGTTTGTCTA-1 |\n",
       "|---|---|---|---|---|---|---|---|---|---|---|---|---|---|---|---|---|---|---|---|---|---|\n",
       "| GATA5_1 | 18 |  2 |  0 |  0 |  0 |  8 | 6 |  8 | 0 |  0 | ⋯ |  2 |  0 |  0 | 2 | 0 |  0 | 2 |  0 | 0 |  0 |\n",
       "| GATA5_2 |  0 |  0 |  0 |  0 |  0 | 11 | 0 | 13 | 0 |  0 | ⋯ |  9 |  0 |  0 | 7 | 0 |  0 | 0 |  0 | 2 |  0 |\n",
       "| MEOX1_1 |  0 | 23 | 12 | 11 | 18 | 25 | 0 |  0 | 3 | 15 | ⋯ | 11 |  2 |  0 | 0 | 9 | 14 | 0 |  0 | 0 |  2 |\n",
       "| MEOX1_2 |  0 |  8 |  0 | 24 |  0 |  0 | 0 |  0 | 0 |  0 | ⋯ |  0 |  3 | 12 | 0 | 0 |  0 | 0 |  0 | 0 |  0 |\n",
       "| NEUROG2_1 | 54 |  2 |  0 |  0 | 10 | 15 | 6 |  0 | 0 |  0 | ⋯ | 17 |  0 |  0 | 0 | 0 |  0 | 0 |  9 | 2 | 21 |\n",
       "| NEUROG2_2 |  0 | 16 | 15 |  0 |  0 |  6 | 0 |  5 | 1 |  0 | ⋯ |  4 |  0 |  0 | 0 | 6 |  7 | 9 |  0 | 0 |  0 |\n",
       "| NTCTL_1 |  0 |  0 |  0 |  0 |  0 |  0 | 0 |  0 | 0 |  0 | ⋯ | 11 |  0 |  0 | 0 | 0 |  0 | 0 | 32 | 0 |  0 |\n",
       "| NTCTL_2 |  0 |  0 |  0 |  0 |  0 |  0 | 0 | 12 | 6 |  0 | ⋯ |  0 | 11 |  0 | 0 | 0 |  0 | 0 |  0 | 0 |  0 |\n",
       "\n"
      ],
      "text/plain": [
       "          AAACAGCCAAACATAG-1 AAACAGCCAAACGCGA-1 AAACAGCCAAAGCGCA-1\n",
       "GATA5_1   18                  2                  0                \n",
       "GATA5_2    0                  0                  0                \n",
       "MEOX1_1    0                 23                 12                \n",
       "MEOX1_2    0                  8                  0                \n",
       "NEUROG2_1 54                  2                  0                \n",
       "NEUROG2_2  0                 16                 15                \n",
       "NTCTL_1    0                  0                  0                \n",
       "NTCTL_2    0                  0                  0                \n",
       "          AAACAGCCAAATATCC-1 AAACAGCCAAATTGCT-1 AAACAGCCAACTAGAA-1\n",
       "GATA5_1    0                  0                  8                \n",
       "GATA5_2    0                  0                 11                \n",
       "MEOX1_1   11                 18                 25                \n",
       "MEOX1_2   24                  0                  0                \n",
       "NEUROG2_1  0                 10                 15                \n",
       "NEUROG2_2  0                  0                  6                \n",
       "NTCTL_1    0                  0                  0                \n",
       "NTCTL_2    0                  0                  0                \n",
       "          AAACAGCCAACTGGCT-1 AAACAGCCAATAGCCC-1 AAACAGCCAATATACC-1\n",
       "GATA5_1   6                   8                 0                 \n",
       "GATA5_2   0                  13                 0                 \n",
       "MEOX1_1   0                   0                 3                 \n",
       "MEOX1_2   0                   0                 0                 \n",
       "NEUROG2_1 6                   0                 0                 \n",
       "NEUROG2_2 0                   5                 1                 \n",
       "NTCTL_1   0                   0                 0                 \n",
       "NTCTL_2   0                  12                 6                 \n",
       "          AAACAGCCAATCCTAG-1 ⋯ TTTGTTGGTTAGCGTA-1 TTTGTTGGTTAGTACG-1\n",
       "GATA5_1    0                 ⋯  2                  0                \n",
       "GATA5_2    0                 ⋯  9                  0                \n",
       "MEOX1_1   15                 ⋯ 11                  2                \n",
       "MEOX1_2    0                 ⋯  0                  3                \n",
       "NEUROG2_1  0                 ⋯ 17                  0                \n",
       "NEUROG2_2  0                 ⋯  4                  0                \n",
       "NTCTL_1    0                 ⋯ 11                  0                \n",
       "NTCTL_2    0                 ⋯  0                 11                \n",
       "          TTTGTTGGTTCACCAT-1 TTTGTTGGTTCGCTCA-1 TTTGTTGGTTCTTTAG-1\n",
       "GATA5_1    0                 2                  0                 \n",
       "GATA5_2    0                 7                  0                 \n",
       "MEOX1_1    0                 0                  9                 \n",
       "MEOX1_2   12                 0                  0                 \n",
       "NEUROG2_1  0                 0                  0                 \n",
       "NEUROG2_2  0                 0                  6                 \n",
       "NTCTL_1    0                 0                  0                 \n",
       "NTCTL_2    0                 0                  0                 \n",
       "          TTTGTTGGTTGGTTAG-1 TTTGTTGGTTGTCCAT-1 TTTGTTGGTTTACCGT-1\n",
       "GATA5_1    0                 2                   0                \n",
       "GATA5_2    0                 0                   0                \n",
       "MEOX1_1   14                 0                   0                \n",
       "MEOX1_2    0                 0                   0                \n",
       "NEUROG2_1  0                 0                   9                \n",
       "NEUROG2_2  7                 9                   0                \n",
       "NTCTL_1    0                 0                  32                \n",
       "NTCTL_2    0                 0                   0                \n",
       "          TTTGTTGGTTTGCGCC-1 TTTGTTGGTTTGTCTA-1\n",
       "GATA5_1   0                   0                \n",
       "GATA5_2   2                   0                \n",
       "MEOX1_1   0                   2                \n",
       "MEOX1_2   0                   0                \n",
       "NEUROG2_1 2                  21                \n",
       "NEUROG2_2 0                   0                \n",
       "NTCTL_1   0                   0                \n",
       "NTCTL_2   0                   0                "
      ]
     },
     "metadata": {},
     "output_type": "display_data"
    }
   ],
   "source": [
    "#c(\"OTP\", \"MYF6\", \"MEIS1\", \"FLI1\", \"HHEX\", \"HOXA6\", \"ELF5\", \"GBX1\", \"DPRX\", \"NTCTL\")\n",
    "##!! tf_list   <- tfs_w_ntctl \n",
    "\n",
    "df_guide <- read.table(tsv_name, header = TRUE, sep = \"\\t\", quote = \"\")\n",
    "tf_list  <- intersect(guides_to_plot, colnames(df_guide))    ##changed guides_to_plot to tfs_to_plot\n",
    "\n",
    "guide_counts  <- t(data.matrix(df_guide[,tf_list]))\n",
    "colnames(guide_counts) <- df_guide$barcode_dash\n",
    "guide_counts"
   ]
  },
  {
   "cell_type": "code",
   "execution_count": 11,
   "id": "49ee26b9",
   "metadata": {
    "vscode": {
     "languageId": "r"
    }
   },
   "outputs": [
    {
     "data": {
      "text/html": [
       "<table class=\"dataframe\">\n",
       "<caption>A data.frame: 80957 × 12</caption>\n",
       "<thead>\n",
       "\t<tr><th scope=col>barcode</th><th scope=col>n_guides</th><th scope=col>GATA5_1</th><th scope=col>GATA5_2</th><th scope=col>MEOX1_1</th><th scope=col>MEOX1_2</th><th scope=col>NEUROG2_1</th><th scope=col>NEUROG2_2</th><th scope=col>NTCTL_1</th><th scope=col>NTCTL_2</th><th scope=col>barcode_dash</th><th scope=col>in_multiome</th></tr>\n",
       "\t<tr><th scope=col>&lt;chr&gt;</th><th scope=col>&lt;int&gt;</th><th scope=col>&lt;int&gt;</th><th scope=col>&lt;int&gt;</th><th scope=col>&lt;int&gt;</th><th scope=col>&lt;int&gt;</th><th scope=col>&lt;int&gt;</th><th scope=col>&lt;int&gt;</th><th scope=col>&lt;int&gt;</th><th scope=col>&lt;int&gt;</th><th scope=col>&lt;chr&gt;</th><th scope=col>&lt;lgl&gt;</th></tr>\n",
       "</thead>\n",
       "<tbody>\n",
       "\t<tr><td>AAACAGCCAAACATAG</td><td> 72</td><td>18</td><td> 0</td><td> 0</td><td> 0</td><td>54</td><td> 0</td><td> 0</td><td> 0</td><td>AAACAGCCAAACATAG-1</td><td>FALSE</td></tr>\n",
       "\t<tr><td>AAACAGCCAAACGCGA</td><td> 51</td><td> 2</td><td> 0</td><td>23</td><td> 8</td><td> 2</td><td>16</td><td> 0</td><td> 0</td><td>AAACAGCCAAACGCGA-1</td><td>FALSE</td></tr>\n",
       "\t<tr><td>AAACAGCCAAAGCGCA</td><td> 27</td><td> 0</td><td> 0</td><td>12</td><td> 0</td><td> 0</td><td>15</td><td> 0</td><td> 0</td><td>AAACAGCCAAAGCGCA-1</td><td>FALSE</td></tr>\n",
       "\t<tr><td>AAACAGCCAAATATCC</td><td> 35</td><td> 0</td><td> 0</td><td>11</td><td>24</td><td> 0</td><td> 0</td><td> 0</td><td> 0</td><td>AAACAGCCAAATATCC-1</td><td>FALSE</td></tr>\n",
       "\t<tr><td>AAACAGCCAAATTGCT</td><td> 28</td><td> 0</td><td> 0</td><td>18</td><td> 0</td><td>10</td><td> 0</td><td> 0</td><td> 0</td><td>AAACAGCCAAATTGCT-1</td><td>FALSE</td></tr>\n",
       "\t<tr><td>AAACAGCCAACTAGAA</td><td> 65</td><td> 8</td><td>11</td><td>25</td><td> 0</td><td>15</td><td> 6</td><td> 0</td><td> 0</td><td>AAACAGCCAACTAGAA-1</td><td>FALSE</td></tr>\n",
       "\t<tr><td>AAACAGCCAACTGGCT</td><td> 12</td><td> 6</td><td> 0</td><td> 0</td><td> 0</td><td> 6</td><td> 0</td><td> 0</td><td> 0</td><td>AAACAGCCAACTGGCT-1</td><td>FALSE</td></tr>\n",
       "\t<tr><td>AAACAGCCAATAGCCC</td><td> 38</td><td> 8</td><td>13</td><td> 0</td><td> 0</td><td> 0</td><td> 5</td><td> 0</td><td>12</td><td>AAACAGCCAATAGCCC-1</td><td>FALSE</td></tr>\n",
       "\t<tr><td>AAACAGCCAATATACC</td><td> 10</td><td> 0</td><td> 0</td><td> 3</td><td> 0</td><td> 0</td><td> 1</td><td> 0</td><td> 6</td><td>AAACAGCCAATATACC-1</td><td>FALSE</td></tr>\n",
       "\t<tr><td>AAACAGCCAATCCTAG</td><td> 15</td><td> 0</td><td> 0</td><td>15</td><td> 0</td><td> 0</td><td> 0</td><td> 0</td><td> 0</td><td>AAACAGCCAATCCTAG-1</td><td>FALSE</td></tr>\n",
       "\t<tr><td>AAACAGCCAATTAGGA</td><td> 19</td><td> 0</td><td> 0</td><td> 0</td><td> 0</td><td> 0</td><td>19</td><td> 0</td><td> 0</td><td>AAACAGCCAATTAGGA-1</td><td>FALSE</td></tr>\n",
       "\t<tr><td>AAACAGCCAATTGAGA</td><td> 86</td><td>34</td><td> 0</td><td>18</td><td> 0</td><td> 6</td><td> 0</td><td>28</td><td> 0</td><td>AAACAGCCAATTGAGA-1</td><td>FALSE</td></tr>\n",
       "\t<tr><td>AAACAGCCACAACAGG</td><td>148</td><td>24</td><td> 8</td><td> 6</td><td> 0</td><td>49</td><td>39</td><td>22</td><td> 0</td><td>AAACAGCCACAACAGG-1</td><td> TRUE</td></tr>\n",
       "\t<tr><td>AAACAGCCACAGCCAT</td><td> 49</td><td> 5</td><td> 0</td><td> 0</td><td> 0</td><td>37</td><td> 0</td><td> 7</td><td> 0</td><td>AAACAGCCACAGCCAT-1</td><td>FALSE</td></tr>\n",
       "\t<tr><td>AAACAGCCACCACAAC</td><td> 48</td><td>12</td><td> 0</td><td> 0</td><td> 0</td><td> 9</td><td> 0</td><td> 0</td><td>27</td><td>AAACAGCCACCACAAC-1</td><td> TRUE</td></tr>\n",
       "\t<tr><td>AAACAGCCACCTGCCT</td><td> 57</td><td> 0</td><td>13</td><td> 0</td><td> 8</td><td>36</td><td> 0</td><td> 0</td><td> 0</td><td>AAACAGCCACCTGCCT-1</td><td>FALSE</td></tr>\n",
       "\t<tr><td>AAACAGCCACCTGTAA</td><td>  3</td><td> 0</td><td> 0</td><td> 3</td><td> 0</td><td> 0</td><td> 0</td><td> 0</td><td> 0</td><td>AAACAGCCACCTGTAA-1</td><td>FALSE</td></tr>\n",
       "\t<tr><td>AAACAGCCACGAATTT</td><td> 40</td><td> 0</td><td> 0</td><td> 0</td><td>14</td><td> 0</td><td> 0</td><td>26</td><td> 0</td><td>AAACAGCCACGAATTT-1</td><td>FALSE</td></tr>\n",
       "\t<tr><td>AAACAGCCACTCGCTC</td><td>  2</td><td> 2</td><td> 0</td><td> 0</td><td> 0</td><td> 0</td><td> 0</td><td> 0</td><td> 0</td><td>AAACAGCCACTCGCTC-1</td><td>FALSE</td></tr>\n",
       "\t<tr><td>AAACAGCCACTTGTTC</td><td> 17</td><td> 0</td><td> 0</td><td> 1</td><td> 0</td><td> 0</td><td> 8</td><td> 8</td><td> 0</td><td>AAACAGCCACTTGTTC-1</td><td>FALSE</td></tr>\n",
       "\t<tr><td>AAACAGCCAGAAATGC</td><td> 11</td><td> 4</td><td> 0</td><td> 0</td><td> 0</td><td> 0</td><td> 7</td><td> 0</td><td> 0</td><td>AAACAGCCAGAAATGC-1</td><td>FALSE</td></tr>\n",
       "\t<tr><td>AAACAGCCAGAGGCTA</td><td>162</td><td> 8</td><td>38</td><td>15</td><td>41</td><td>15</td><td>45</td><td> 0</td><td> 0</td><td>AAACAGCCAGAGGCTA-1</td><td>FALSE</td></tr>\n",
       "\t<tr><td>AAACAGCCAGCAGGTA</td><td> 70</td><td> 0</td><td> 0</td><td> 9</td><td> 0</td><td>19</td><td>31</td><td> 0</td><td>11</td><td>AAACAGCCAGCAGGTA-1</td><td>FALSE</td></tr>\n",
       "\t<tr><td>AAACAGCCAGCCAGAA</td><td> 47</td><td> 0</td><td> 0</td><td> 0</td><td>10</td><td>32</td><td> 0</td><td> 5</td><td> 0</td><td>AAACAGCCAGCCAGAA-1</td><td>FALSE</td></tr>\n",
       "\t<tr><td>AAACAGCCAGGACACA</td><td> 39</td><td> 2</td><td> 0</td><td> 0</td><td> 5</td><td> 0</td><td>21</td><td> 0</td><td>11</td><td>AAACAGCCAGGACACA-1</td><td>FALSE</td></tr>\n",
       "\t<tr><td>AAACAGCCAGGCTTCG</td><td>  8</td><td> 0</td><td> 0</td><td> 0</td><td> 0</td><td> 8</td><td> 0</td><td> 0</td><td> 0</td><td>AAACAGCCAGGCTTCG-1</td><td>FALSE</td></tr>\n",
       "\t<tr><td>AAACAGCCAGGGAGGA</td><td>104</td><td> 0</td><td> 0</td><td>45</td><td> 0</td><td> 8</td><td>19</td><td> 0</td><td>32</td><td>AAACAGCCAGGGAGGA-1</td><td> TRUE</td></tr>\n",
       "\t<tr><td>AAACAGCCAGGTTTGC</td><td>  9</td><td> 0</td><td> 0</td><td> 0</td><td> 0</td><td> 9</td><td> 0</td><td> 0</td><td> 0</td><td>AAACAGCCAGGTTTGC-1</td><td>FALSE</td></tr>\n",
       "\t<tr><td>AAACAGCCATAAGCAA</td><td> 25</td><td> 0</td><td> 0</td><td> 0</td><td> 0</td><td>10</td><td>12</td><td> 3</td><td> 0</td><td>AAACAGCCATAAGCAA-1</td><td>FALSE</td></tr>\n",
       "\t<tr><td>AAACAGCCATAGACCC</td><td> 29</td><td> 0</td><td> 0</td><td>11</td><td> 0</td><td>18</td><td> 0</td><td> 0</td><td> 0</td><td>AAACAGCCATAGACCC-1</td><td>FALSE</td></tr>\n",
       "\t<tr><td>⋮</td><td>⋮</td><td>⋮</td><td>⋮</td><td>⋮</td><td>⋮</td><td>⋮</td><td>⋮</td><td>⋮</td><td>⋮</td><td>⋮</td><td>⋮</td></tr>\n",
       "\t<tr><td>TTTGTTGGTCCGTAGG</td><td> 10</td><td> 1</td><td> 0</td><td> 9</td><td> 0</td><td> 0</td><td> 0</td><td> 0</td><td> 0</td><td>TTTGTTGGTCCGTAGG-1</td><td>FALSE</td></tr>\n",
       "\t<tr><td>TTTGTTGGTCCTAACT</td><td> 17</td><td> 0</td><td> 0</td><td> 0</td><td> 4</td><td> 7</td><td> 6</td><td> 0</td><td> 0</td><td>TTTGTTGGTCCTAACT-1</td><td>FALSE</td></tr>\n",
       "\t<tr><td>TTTGTTGGTCCTTTAA</td><td> 26</td><td> 4</td><td> 0</td><td> 0</td><td> 0</td><td>12</td><td> 5</td><td> 0</td><td> 5</td><td>TTTGTTGGTCCTTTAA-1</td><td>FALSE</td></tr>\n",
       "\t<tr><td>TTTGTTGGTCGAAGTC</td><td> 17</td><td>12</td><td> 0</td><td> 0</td><td> 0</td><td> 5</td><td> 0</td><td> 0</td><td> 0</td><td>TTTGTTGGTCGAAGTC-1</td><td>FALSE</td></tr>\n",
       "\t<tr><td>TTTGTTGGTCGTTACT</td><td>  6</td><td> 0</td><td> 0</td><td> 6</td><td> 0</td><td> 0</td><td> 0</td><td> 0</td><td> 0</td><td>TTTGTTGGTCGTTACT-1</td><td>FALSE</td></tr>\n",
       "\t<tr><td>TTTGTTGGTCTAACAG</td><td>134</td><td> 2</td><td> 0</td><td> 2</td><td> 0</td><td> 9</td><td> 7</td><td>23</td><td>91</td><td>TTTGTTGGTCTAACAG-1</td><td> TRUE</td></tr>\n",
       "\t<tr><td>TTTGTTGGTCTAACCT</td><td> 44</td><td> 0</td><td>15</td><td> 5</td><td> 0</td><td> 9</td><td> 4</td><td> 0</td><td>11</td><td>TTTGTTGGTCTAACCT-1</td><td>FALSE</td></tr>\n",
       "\t<tr><td>TTTGTTGGTGAAACAA</td><td> 25</td><td> 1</td><td> 0</td><td>12</td><td> 0</td><td> 7</td><td> 5</td><td> 0</td><td> 0</td><td>TTTGTTGGTGAAACAA-1</td><td>FALSE</td></tr>\n",
       "\t<tr><td>TTTGTTGGTGCAATAT</td><td>  5</td><td> 0</td><td> 0</td><td> 5</td><td> 0</td><td> 0</td><td> 0</td><td> 0</td><td> 0</td><td>TTTGTTGGTGCAATAT-1</td><td>FALSE</td></tr>\n",
       "\t<tr><td>TTTGTTGGTGCTAGAC</td><td> 13</td><td> 0</td><td> 0</td><td> 1</td><td> 3</td><td> 0</td><td> 9</td><td> 0</td><td> 0</td><td>TTTGTTGGTGCTAGAC-1</td><td>FALSE</td></tr>\n",
       "\t<tr><td>TTTGTTGGTGCTTAGA</td><td> 93</td><td> 0</td><td> 4</td><td>37</td><td>10</td><td>36</td><td> 6</td><td> 0</td><td> 0</td><td>TTTGTTGGTGCTTAGA-1</td><td>FALSE</td></tr>\n",
       "\t<tr><td>TTTGTTGGTGGAAGGC</td><td> 34</td><td> 0</td><td> 0</td><td> 7</td><td> 8</td><td>19</td><td> 0</td><td> 0</td><td> 0</td><td>TTTGTTGGTGGAAGGC-1</td><td>FALSE</td></tr>\n",
       "\t<tr><td>TTTGTTGGTGGACCTG</td><td> 47</td><td> 0</td><td> 6</td><td>10</td><td> 0</td><td>16</td><td>15</td><td> 0</td><td> 0</td><td>TTTGTTGGTGGACCTG-1</td><td>FALSE</td></tr>\n",
       "\t<tr><td>TTTGTTGGTGTAATAC</td><td> 19</td><td> 5</td><td> 0</td><td> 0</td><td> 0</td><td> 6</td><td> 8</td><td> 0</td><td> 0</td><td>TTTGTTGGTGTAATAC-1</td><td>FALSE</td></tr>\n",
       "\t<tr><td>TTTGTTGGTGTCCTGC</td><td> 15</td><td> 0</td><td> 0</td><td>15</td><td> 0</td><td> 0</td><td> 0</td><td> 0</td><td> 0</td><td>TTTGTTGGTGTCCTGC-1</td><td>FALSE</td></tr>\n",
       "\t<tr><td>TTTGTTGGTGTGAGGA</td><td> 64</td><td>17</td><td>38</td><td> 9</td><td> 0</td><td> 0</td><td> 0</td><td> 0</td><td> 0</td><td>TTTGTTGGTGTGAGGA-1</td><td> TRUE</td></tr>\n",
       "\t<tr><td>TTTGTTGGTGTTGTAG</td><td>  9</td><td> 0</td><td> 0</td><td> 0</td><td> 0</td><td> 5</td><td> 4</td><td> 0</td><td> 0</td><td>TTTGTTGGTGTTGTAG-1</td><td>FALSE</td></tr>\n",
       "\t<tr><td>TTTGTTGGTTACCGGG</td><td>  6</td><td> 0</td><td> 0</td><td> 6</td><td> 0</td><td> 0</td><td> 0</td><td> 0</td><td> 0</td><td>TTTGTTGGTTACCGGG-1</td><td>FALSE</td></tr>\n",
       "\t<tr><td>TTTGTTGGTTACTTGC</td><td> 35</td><td> 8</td><td> 0</td><td>11</td><td> 0</td><td> 6</td><td> 0</td><td> 0</td><td>10</td><td>TTTGTTGGTTACTTGC-1</td><td>FALSE</td></tr>\n",
       "\t<tr><td>TTTGTTGGTTAGAGCC</td><td> 19</td><td> 0</td><td> 5</td><td>10</td><td> 0</td><td> 4</td><td> 0</td><td> 0</td><td> 0</td><td>TTTGTTGGTTAGAGCC-1</td><td>FALSE</td></tr>\n",
       "\t<tr><td>TTTGTTGGTTAGCGTA</td><td> 54</td><td> 2</td><td> 9</td><td>11</td><td> 0</td><td>17</td><td> 4</td><td>11</td><td> 0</td><td>TTTGTTGGTTAGCGTA-1</td><td>FALSE</td></tr>\n",
       "\t<tr><td>TTTGTTGGTTAGTACG</td><td> 16</td><td> 0</td><td> 0</td><td> 2</td><td> 3</td><td> 0</td><td> 0</td><td> 0</td><td>11</td><td>TTTGTTGGTTAGTACG-1</td><td>FALSE</td></tr>\n",
       "\t<tr><td>TTTGTTGGTTCACCAT</td><td> 12</td><td> 0</td><td> 0</td><td> 0</td><td>12</td><td> 0</td><td> 0</td><td> 0</td><td> 0</td><td>TTTGTTGGTTCACCAT-1</td><td>FALSE</td></tr>\n",
       "\t<tr><td>TTTGTTGGTTCGCTCA</td><td>  9</td><td> 2</td><td> 7</td><td> 0</td><td> 0</td><td> 0</td><td> 0</td><td> 0</td><td> 0</td><td>TTTGTTGGTTCGCTCA-1</td><td>FALSE</td></tr>\n",
       "\t<tr><td>TTTGTTGGTTCTTTAG</td><td> 15</td><td> 0</td><td> 0</td><td> 9</td><td> 0</td><td> 0</td><td> 6</td><td> 0</td><td> 0</td><td>TTTGTTGGTTCTTTAG-1</td><td>FALSE</td></tr>\n",
       "\t<tr><td>TTTGTTGGTTGGTTAG</td><td> 21</td><td> 0</td><td> 0</td><td>14</td><td> 0</td><td> 0</td><td> 7</td><td> 0</td><td> 0</td><td>TTTGTTGGTTGGTTAG-1</td><td>FALSE</td></tr>\n",
       "\t<tr><td>TTTGTTGGTTGTCCAT</td><td> 11</td><td> 2</td><td> 0</td><td> 0</td><td> 0</td><td> 0</td><td> 9</td><td> 0</td><td> 0</td><td>TTTGTTGGTTGTCCAT-1</td><td>FALSE</td></tr>\n",
       "\t<tr><td>TTTGTTGGTTTACCGT</td><td> 41</td><td> 0</td><td> 0</td><td> 0</td><td> 0</td><td> 9</td><td> 0</td><td>32</td><td> 0</td><td>TTTGTTGGTTTACCGT-1</td><td> TRUE</td></tr>\n",
       "\t<tr><td>TTTGTTGGTTTGCGCC</td><td>  4</td><td> 0</td><td> 2</td><td> 0</td><td> 0</td><td> 2</td><td> 0</td><td> 0</td><td> 0</td><td>TTTGTTGGTTTGCGCC-1</td><td>FALSE</td></tr>\n",
       "\t<tr><td>TTTGTTGGTTTGTCTA</td><td> 23</td><td> 0</td><td> 0</td><td> 2</td><td> 0</td><td>21</td><td> 0</td><td> 0</td><td> 0</td><td>TTTGTTGGTTTGTCTA-1</td><td>FALSE</td></tr>\n",
       "</tbody>\n",
       "</table>\n"
      ],
      "text/latex": [
       "A data.frame: 80957 × 12\n",
       "\\begin{tabular}{llllllllllll}\n",
       " barcode & n\\_guides & GATA5\\_1 & GATA5\\_2 & MEOX1\\_1 & MEOX1\\_2 & NEUROG2\\_1 & NEUROG2\\_2 & NTCTL\\_1 & NTCTL\\_2 & barcode\\_dash & in\\_multiome\\\\\n",
       " <chr> & <int> & <int> & <int> & <int> & <int> & <int> & <int> & <int> & <int> & <chr> & <lgl>\\\\\n",
       "\\hline\n",
       "\t AAACAGCCAAACATAG &  72 & 18 &  0 &  0 &  0 & 54 &  0 &  0 &  0 & AAACAGCCAAACATAG-1 & FALSE\\\\\n",
       "\t AAACAGCCAAACGCGA &  51 &  2 &  0 & 23 &  8 &  2 & 16 &  0 &  0 & AAACAGCCAAACGCGA-1 & FALSE\\\\\n",
       "\t AAACAGCCAAAGCGCA &  27 &  0 &  0 & 12 &  0 &  0 & 15 &  0 &  0 & AAACAGCCAAAGCGCA-1 & FALSE\\\\\n",
       "\t AAACAGCCAAATATCC &  35 &  0 &  0 & 11 & 24 &  0 &  0 &  0 &  0 & AAACAGCCAAATATCC-1 & FALSE\\\\\n",
       "\t AAACAGCCAAATTGCT &  28 &  0 &  0 & 18 &  0 & 10 &  0 &  0 &  0 & AAACAGCCAAATTGCT-1 & FALSE\\\\\n",
       "\t AAACAGCCAACTAGAA &  65 &  8 & 11 & 25 &  0 & 15 &  6 &  0 &  0 & AAACAGCCAACTAGAA-1 & FALSE\\\\\n",
       "\t AAACAGCCAACTGGCT &  12 &  6 &  0 &  0 &  0 &  6 &  0 &  0 &  0 & AAACAGCCAACTGGCT-1 & FALSE\\\\\n",
       "\t AAACAGCCAATAGCCC &  38 &  8 & 13 &  0 &  0 &  0 &  5 &  0 & 12 & AAACAGCCAATAGCCC-1 & FALSE\\\\\n",
       "\t AAACAGCCAATATACC &  10 &  0 &  0 &  3 &  0 &  0 &  1 &  0 &  6 & AAACAGCCAATATACC-1 & FALSE\\\\\n",
       "\t AAACAGCCAATCCTAG &  15 &  0 &  0 & 15 &  0 &  0 &  0 &  0 &  0 & AAACAGCCAATCCTAG-1 & FALSE\\\\\n",
       "\t AAACAGCCAATTAGGA &  19 &  0 &  0 &  0 &  0 &  0 & 19 &  0 &  0 & AAACAGCCAATTAGGA-1 & FALSE\\\\\n",
       "\t AAACAGCCAATTGAGA &  86 & 34 &  0 & 18 &  0 &  6 &  0 & 28 &  0 & AAACAGCCAATTGAGA-1 & FALSE\\\\\n",
       "\t AAACAGCCACAACAGG & 148 & 24 &  8 &  6 &  0 & 49 & 39 & 22 &  0 & AAACAGCCACAACAGG-1 &  TRUE\\\\\n",
       "\t AAACAGCCACAGCCAT &  49 &  5 &  0 &  0 &  0 & 37 &  0 &  7 &  0 & AAACAGCCACAGCCAT-1 & FALSE\\\\\n",
       "\t AAACAGCCACCACAAC &  48 & 12 &  0 &  0 &  0 &  9 &  0 &  0 & 27 & AAACAGCCACCACAAC-1 &  TRUE\\\\\n",
       "\t AAACAGCCACCTGCCT &  57 &  0 & 13 &  0 &  8 & 36 &  0 &  0 &  0 & AAACAGCCACCTGCCT-1 & FALSE\\\\\n",
       "\t AAACAGCCACCTGTAA &   3 &  0 &  0 &  3 &  0 &  0 &  0 &  0 &  0 & AAACAGCCACCTGTAA-1 & FALSE\\\\\n",
       "\t AAACAGCCACGAATTT &  40 &  0 &  0 &  0 & 14 &  0 &  0 & 26 &  0 & AAACAGCCACGAATTT-1 & FALSE\\\\\n",
       "\t AAACAGCCACTCGCTC &   2 &  2 &  0 &  0 &  0 &  0 &  0 &  0 &  0 & AAACAGCCACTCGCTC-1 & FALSE\\\\\n",
       "\t AAACAGCCACTTGTTC &  17 &  0 &  0 &  1 &  0 &  0 &  8 &  8 &  0 & AAACAGCCACTTGTTC-1 & FALSE\\\\\n",
       "\t AAACAGCCAGAAATGC &  11 &  4 &  0 &  0 &  0 &  0 &  7 &  0 &  0 & AAACAGCCAGAAATGC-1 & FALSE\\\\\n",
       "\t AAACAGCCAGAGGCTA & 162 &  8 & 38 & 15 & 41 & 15 & 45 &  0 &  0 & AAACAGCCAGAGGCTA-1 & FALSE\\\\\n",
       "\t AAACAGCCAGCAGGTA &  70 &  0 &  0 &  9 &  0 & 19 & 31 &  0 & 11 & AAACAGCCAGCAGGTA-1 & FALSE\\\\\n",
       "\t AAACAGCCAGCCAGAA &  47 &  0 &  0 &  0 & 10 & 32 &  0 &  5 &  0 & AAACAGCCAGCCAGAA-1 & FALSE\\\\\n",
       "\t AAACAGCCAGGACACA &  39 &  2 &  0 &  0 &  5 &  0 & 21 &  0 & 11 & AAACAGCCAGGACACA-1 & FALSE\\\\\n",
       "\t AAACAGCCAGGCTTCG &   8 &  0 &  0 &  0 &  0 &  8 &  0 &  0 &  0 & AAACAGCCAGGCTTCG-1 & FALSE\\\\\n",
       "\t AAACAGCCAGGGAGGA & 104 &  0 &  0 & 45 &  0 &  8 & 19 &  0 & 32 & AAACAGCCAGGGAGGA-1 &  TRUE\\\\\n",
       "\t AAACAGCCAGGTTTGC &   9 &  0 &  0 &  0 &  0 &  9 &  0 &  0 &  0 & AAACAGCCAGGTTTGC-1 & FALSE\\\\\n",
       "\t AAACAGCCATAAGCAA &  25 &  0 &  0 &  0 &  0 & 10 & 12 &  3 &  0 & AAACAGCCATAAGCAA-1 & FALSE\\\\\n",
       "\t AAACAGCCATAGACCC &  29 &  0 &  0 & 11 &  0 & 18 &  0 &  0 &  0 & AAACAGCCATAGACCC-1 & FALSE\\\\\n",
       "\t ⋮ & ⋮ & ⋮ & ⋮ & ⋮ & ⋮ & ⋮ & ⋮ & ⋮ & ⋮ & ⋮ & ⋮\\\\\n",
       "\t TTTGTTGGTCCGTAGG &  10 &  1 &  0 &  9 &  0 &  0 &  0 &  0 &  0 & TTTGTTGGTCCGTAGG-1 & FALSE\\\\\n",
       "\t TTTGTTGGTCCTAACT &  17 &  0 &  0 &  0 &  4 &  7 &  6 &  0 &  0 & TTTGTTGGTCCTAACT-1 & FALSE\\\\\n",
       "\t TTTGTTGGTCCTTTAA &  26 &  4 &  0 &  0 &  0 & 12 &  5 &  0 &  5 & TTTGTTGGTCCTTTAA-1 & FALSE\\\\\n",
       "\t TTTGTTGGTCGAAGTC &  17 & 12 &  0 &  0 &  0 &  5 &  0 &  0 &  0 & TTTGTTGGTCGAAGTC-1 & FALSE\\\\\n",
       "\t TTTGTTGGTCGTTACT &   6 &  0 &  0 &  6 &  0 &  0 &  0 &  0 &  0 & TTTGTTGGTCGTTACT-1 & FALSE\\\\\n",
       "\t TTTGTTGGTCTAACAG & 134 &  2 &  0 &  2 &  0 &  9 &  7 & 23 & 91 & TTTGTTGGTCTAACAG-1 &  TRUE\\\\\n",
       "\t TTTGTTGGTCTAACCT &  44 &  0 & 15 &  5 &  0 &  9 &  4 &  0 & 11 & TTTGTTGGTCTAACCT-1 & FALSE\\\\\n",
       "\t TTTGTTGGTGAAACAA &  25 &  1 &  0 & 12 &  0 &  7 &  5 &  0 &  0 & TTTGTTGGTGAAACAA-1 & FALSE\\\\\n",
       "\t TTTGTTGGTGCAATAT &   5 &  0 &  0 &  5 &  0 &  0 &  0 &  0 &  0 & TTTGTTGGTGCAATAT-1 & FALSE\\\\\n",
       "\t TTTGTTGGTGCTAGAC &  13 &  0 &  0 &  1 &  3 &  0 &  9 &  0 &  0 & TTTGTTGGTGCTAGAC-1 & FALSE\\\\\n",
       "\t TTTGTTGGTGCTTAGA &  93 &  0 &  4 & 37 & 10 & 36 &  6 &  0 &  0 & TTTGTTGGTGCTTAGA-1 & FALSE\\\\\n",
       "\t TTTGTTGGTGGAAGGC &  34 &  0 &  0 &  7 &  8 & 19 &  0 &  0 &  0 & TTTGTTGGTGGAAGGC-1 & FALSE\\\\\n",
       "\t TTTGTTGGTGGACCTG &  47 &  0 &  6 & 10 &  0 & 16 & 15 &  0 &  0 & TTTGTTGGTGGACCTG-1 & FALSE\\\\\n",
       "\t TTTGTTGGTGTAATAC &  19 &  5 &  0 &  0 &  0 &  6 &  8 &  0 &  0 & TTTGTTGGTGTAATAC-1 & FALSE\\\\\n",
       "\t TTTGTTGGTGTCCTGC &  15 &  0 &  0 & 15 &  0 &  0 &  0 &  0 &  0 & TTTGTTGGTGTCCTGC-1 & FALSE\\\\\n",
       "\t TTTGTTGGTGTGAGGA &  64 & 17 & 38 &  9 &  0 &  0 &  0 &  0 &  0 & TTTGTTGGTGTGAGGA-1 &  TRUE\\\\\n",
       "\t TTTGTTGGTGTTGTAG &   9 &  0 &  0 &  0 &  0 &  5 &  4 &  0 &  0 & TTTGTTGGTGTTGTAG-1 & FALSE\\\\\n",
       "\t TTTGTTGGTTACCGGG &   6 &  0 &  0 &  6 &  0 &  0 &  0 &  0 &  0 & TTTGTTGGTTACCGGG-1 & FALSE\\\\\n",
       "\t TTTGTTGGTTACTTGC &  35 &  8 &  0 & 11 &  0 &  6 &  0 &  0 & 10 & TTTGTTGGTTACTTGC-1 & FALSE\\\\\n",
       "\t TTTGTTGGTTAGAGCC &  19 &  0 &  5 & 10 &  0 &  4 &  0 &  0 &  0 & TTTGTTGGTTAGAGCC-1 & FALSE\\\\\n",
       "\t TTTGTTGGTTAGCGTA &  54 &  2 &  9 & 11 &  0 & 17 &  4 & 11 &  0 & TTTGTTGGTTAGCGTA-1 & FALSE\\\\\n",
       "\t TTTGTTGGTTAGTACG &  16 &  0 &  0 &  2 &  3 &  0 &  0 &  0 & 11 & TTTGTTGGTTAGTACG-1 & FALSE\\\\\n",
       "\t TTTGTTGGTTCACCAT &  12 &  0 &  0 &  0 & 12 &  0 &  0 &  0 &  0 & TTTGTTGGTTCACCAT-1 & FALSE\\\\\n",
       "\t TTTGTTGGTTCGCTCA &   9 &  2 &  7 &  0 &  0 &  0 &  0 &  0 &  0 & TTTGTTGGTTCGCTCA-1 & FALSE\\\\\n",
       "\t TTTGTTGGTTCTTTAG &  15 &  0 &  0 &  9 &  0 &  0 &  6 &  0 &  0 & TTTGTTGGTTCTTTAG-1 & FALSE\\\\\n",
       "\t TTTGTTGGTTGGTTAG &  21 &  0 &  0 & 14 &  0 &  0 &  7 &  0 &  0 & TTTGTTGGTTGGTTAG-1 & FALSE\\\\\n",
       "\t TTTGTTGGTTGTCCAT &  11 &  2 &  0 &  0 &  0 &  0 &  9 &  0 &  0 & TTTGTTGGTTGTCCAT-1 & FALSE\\\\\n",
       "\t TTTGTTGGTTTACCGT &  41 &  0 &  0 &  0 &  0 &  9 &  0 & 32 &  0 & TTTGTTGGTTTACCGT-1 &  TRUE\\\\\n",
       "\t TTTGTTGGTTTGCGCC &   4 &  0 &  2 &  0 &  0 &  2 &  0 &  0 &  0 & TTTGTTGGTTTGCGCC-1 & FALSE\\\\\n",
       "\t TTTGTTGGTTTGTCTA &  23 &  0 &  0 &  2 &  0 & 21 &  0 &  0 &  0 & TTTGTTGGTTTGTCTA-1 & FALSE\\\\\n",
       "\\end{tabular}\n"
      ],
      "text/markdown": [
       "\n",
       "A data.frame: 80957 × 12\n",
       "\n",
       "| barcode &lt;chr&gt; | n_guides &lt;int&gt; | GATA5_1 &lt;int&gt; | GATA5_2 &lt;int&gt; | MEOX1_1 &lt;int&gt; | MEOX1_2 &lt;int&gt; | NEUROG2_1 &lt;int&gt; | NEUROG2_2 &lt;int&gt; | NTCTL_1 &lt;int&gt; | NTCTL_2 &lt;int&gt; | barcode_dash &lt;chr&gt; | in_multiome &lt;lgl&gt; |\n",
       "|---|---|---|---|---|---|---|---|---|---|---|---|\n",
       "| AAACAGCCAAACATAG |  72 | 18 |  0 |  0 |  0 | 54 |  0 |  0 |  0 | AAACAGCCAAACATAG-1 | FALSE |\n",
       "| AAACAGCCAAACGCGA |  51 |  2 |  0 | 23 |  8 |  2 | 16 |  0 |  0 | AAACAGCCAAACGCGA-1 | FALSE |\n",
       "| AAACAGCCAAAGCGCA |  27 |  0 |  0 | 12 |  0 |  0 | 15 |  0 |  0 | AAACAGCCAAAGCGCA-1 | FALSE |\n",
       "| AAACAGCCAAATATCC |  35 |  0 |  0 | 11 | 24 |  0 |  0 |  0 |  0 | AAACAGCCAAATATCC-1 | FALSE |\n",
       "| AAACAGCCAAATTGCT |  28 |  0 |  0 | 18 |  0 | 10 |  0 |  0 |  0 | AAACAGCCAAATTGCT-1 | FALSE |\n",
       "| AAACAGCCAACTAGAA |  65 |  8 | 11 | 25 |  0 | 15 |  6 |  0 |  0 | AAACAGCCAACTAGAA-1 | FALSE |\n",
       "| AAACAGCCAACTGGCT |  12 |  6 |  0 |  0 |  0 |  6 |  0 |  0 |  0 | AAACAGCCAACTGGCT-1 | FALSE |\n",
       "| AAACAGCCAATAGCCC |  38 |  8 | 13 |  0 |  0 |  0 |  5 |  0 | 12 | AAACAGCCAATAGCCC-1 | FALSE |\n",
       "| AAACAGCCAATATACC |  10 |  0 |  0 |  3 |  0 |  0 |  1 |  0 |  6 | AAACAGCCAATATACC-1 | FALSE |\n",
       "| AAACAGCCAATCCTAG |  15 |  0 |  0 | 15 |  0 |  0 |  0 |  0 |  0 | AAACAGCCAATCCTAG-1 | FALSE |\n",
       "| AAACAGCCAATTAGGA |  19 |  0 |  0 |  0 |  0 |  0 | 19 |  0 |  0 | AAACAGCCAATTAGGA-1 | FALSE |\n",
       "| AAACAGCCAATTGAGA |  86 | 34 |  0 | 18 |  0 |  6 |  0 | 28 |  0 | AAACAGCCAATTGAGA-1 | FALSE |\n",
       "| AAACAGCCACAACAGG | 148 | 24 |  8 |  6 |  0 | 49 | 39 | 22 |  0 | AAACAGCCACAACAGG-1 |  TRUE |\n",
       "| AAACAGCCACAGCCAT |  49 |  5 |  0 |  0 |  0 | 37 |  0 |  7 |  0 | AAACAGCCACAGCCAT-1 | FALSE |\n",
       "| AAACAGCCACCACAAC |  48 | 12 |  0 |  0 |  0 |  9 |  0 |  0 | 27 | AAACAGCCACCACAAC-1 |  TRUE |\n",
       "| AAACAGCCACCTGCCT |  57 |  0 | 13 |  0 |  8 | 36 |  0 |  0 |  0 | AAACAGCCACCTGCCT-1 | FALSE |\n",
       "| AAACAGCCACCTGTAA |   3 |  0 |  0 |  3 |  0 |  0 |  0 |  0 |  0 | AAACAGCCACCTGTAA-1 | FALSE |\n",
       "| AAACAGCCACGAATTT |  40 |  0 |  0 |  0 | 14 |  0 |  0 | 26 |  0 | AAACAGCCACGAATTT-1 | FALSE |\n",
       "| AAACAGCCACTCGCTC |   2 |  2 |  0 |  0 |  0 |  0 |  0 |  0 |  0 | AAACAGCCACTCGCTC-1 | FALSE |\n",
       "| AAACAGCCACTTGTTC |  17 |  0 |  0 |  1 |  0 |  0 |  8 |  8 |  0 | AAACAGCCACTTGTTC-1 | FALSE |\n",
       "| AAACAGCCAGAAATGC |  11 |  4 |  0 |  0 |  0 |  0 |  7 |  0 |  0 | AAACAGCCAGAAATGC-1 | FALSE |\n",
       "| AAACAGCCAGAGGCTA | 162 |  8 | 38 | 15 | 41 | 15 | 45 |  0 |  0 | AAACAGCCAGAGGCTA-1 | FALSE |\n",
       "| AAACAGCCAGCAGGTA |  70 |  0 |  0 |  9 |  0 | 19 | 31 |  0 | 11 | AAACAGCCAGCAGGTA-1 | FALSE |\n",
       "| AAACAGCCAGCCAGAA |  47 |  0 |  0 |  0 | 10 | 32 |  0 |  5 |  0 | AAACAGCCAGCCAGAA-1 | FALSE |\n",
       "| AAACAGCCAGGACACA |  39 |  2 |  0 |  0 |  5 |  0 | 21 |  0 | 11 | AAACAGCCAGGACACA-1 | FALSE |\n",
       "| AAACAGCCAGGCTTCG |   8 |  0 |  0 |  0 |  0 |  8 |  0 |  0 |  0 | AAACAGCCAGGCTTCG-1 | FALSE |\n",
       "| AAACAGCCAGGGAGGA | 104 |  0 |  0 | 45 |  0 |  8 | 19 |  0 | 32 | AAACAGCCAGGGAGGA-1 |  TRUE |\n",
       "| AAACAGCCAGGTTTGC |   9 |  0 |  0 |  0 |  0 |  9 |  0 |  0 |  0 | AAACAGCCAGGTTTGC-1 | FALSE |\n",
       "| AAACAGCCATAAGCAA |  25 |  0 |  0 |  0 |  0 | 10 | 12 |  3 |  0 | AAACAGCCATAAGCAA-1 | FALSE |\n",
       "| AAACAGCCATAGACCC |  29 |  0 |  0 | 11 |  0 | 18 |  0 |  0 |  0 | AAACAGCCATAGACCC-1 | FALSE |\n",
       "| ⋮ | ⋮ | ⋮ | ⋮ | ⋮ | ⋮ | ⋮ | ⋮ | ⋮ | ⋮ | ⋮ | ⋮ |\n",
       "| TTTGTTGGTCCGTAGG |  10 |  1 |  0 |  9 |  0 |  0 |  0 |  0 |  0 | TTTGTTGGTCCGTAGG-1 | FALSE |\n",
       "| TTTGTTGGTCCTAACT |  17 |  0 |  0 |  0 |  4 |  7 |  6 |  0 |  0 | TTTGTTGGTCCTAACT-1 | FALSE |\n",
       "| TTTGTTGGTCCTTTAA |  26 |  4 |  0 |  0 |  0 | 12 |  5 |  0 |  5 | TTTGTTGGTCCTTTAA-1 | FALSE |\n",
       "| TTTGTTGGTCGAAGTC |  17 | 12 |  0 |  0 |  0 |  5 |  0 |  0 |  0 | TTTGTTGGTCGAAGTC-1 | FALSE |\n",
       "| TTTGTTGGTCGTTACT |   6 |  0 |  0 |  6 |  0 |  0 |  0 |  0 |  0 | TTTGTTGGTCGTTACT-1 | FALSE |\n",
       "| TTTGTTGGTCTAACAG | 134 |  2 |  0 |  2 |  0 |  9 |  7 | 23 | 91 | TTTGTTGGTCTAACAG-1 |  TRUE |\n",
       "| TTTGTTGGTCTAACCT |  44 |  0 | 15 |  5 |  0 |  9 |  4 |  0 | 11 | TTTGTTGGTCTAACCT-1 | FALSE |\n",
       "| TTTGTTGGTGAAACAA |  25 |  1 |  0 | 12 |  0 |  7 |  5 |  0 |  0 | TTTGTTGGTGAAACAA-1 | FALSE |\n",
       "| TTTGTTGGTGCAATAT |   5 |  0 |  0 |  5 |  0 |  0 |  0 |  0 |  0 | TTTGTTGGTGCAATAT-1 | FALSE |\n",
       "| TTTGTTGGTGCTAGAC |  13 |  0 |  0 |  1 |  3 |  0 |  9 |  0 |  0 | TTTGTTGGTGCTAGAC-1 | FALSE |\n",
       "| TTTGTTGGTGCTTAGA |  93 |  0 |  4 | 37 | 10 | 36 |  6 |  0 |  0 | TTTGTTGGTGCTTAGA-1 | FALSE |\n",
       "| TTTGTTGGTGGAAGGC |  34 |  0 |  0 |  7 |  8 | 19 |  0 |  0 |  0 | TTTGTTGGTGGAAGGC-1 | FALSE |\n",
       "| TTTGTTGGTGGACCTG |  47 |  0 |  6 | 10 |  0 | 16 | 15 |  0 |  0 | TTTGTTGGTGGACCTG-1 | FALSE |\n",
       "| TTTGTTGGTGTAATAC |  19 |  5 |  0 |  0 |  0 |  6 |  8 |  0 |  0 | TTTGTTGGTGTAATAC-1 | FALSE |\n",
       "| TTTGTTGGTGTCCTGC |  15 |  0 |  0 | 15 |  0 |  0 |  0 |  0 |  0 | TTTGTTGGTGTCCTGC-1 | FALSE |\n",
       "| TTTGTTGGTGTGAGGA |  64 | 17 | 38 |  9 |  0 |  0 |  0 |  0 |  0 | TTTGTTGGTGTGAGGA-1 |  TRUE |\n",
       "| TTTGTTGGTGTTGTAG |   9 |  0 |  0 |  0 |  0 |  5 |  4 |  0 |  0 | TTTGTTGGTGTTGTAG-1 | FALSE |\n",
       "| TTTGTTGGTTACCGGG |   6 |  0 |  0 |  6 |  0 |  0 |  0 |  0 |  0 | TTTGTTGGTTACCGGG-1 | FALSE |\n",
       "| TTTGTTGGTTACTTGC |  35 |  8 |  0 | 11 |  0 |  6 |  0 |  0 | 10 | TTTGTTGGTTACTTGC-1 | FALSE |\n",
       "| TTTGTTGGTTAGAGCC |  19 |  0 |  5 | 10 |  0 |  4 |  0 |  0 |  0 | TTTGTTGGTTAGAGCC-1 | FALSE |\n",
       "| TTTGTTGGTTAGCGTA |  54 |  2 |  9 | 11 |  0 | 17 |  4 | 11 |  0 | TTTGTTGGTTAGCGTA-1 | FALSE |\n",
       "| TTTGTTGGTTAGTACG |  16 |  0 |  0 |  2 |  3 |  0 |  0 |  0 | 11 | TTTGTTGGTTAGTACG-1 | FALSE |\n",
       "| TTTGTTGGTTCACCAT |  12 |  0 |  0 |  0 | 12 |  0 |  0 |  0 |  0 | TTTGTTGGTTCACCAT-1 | FALSE |\n",
       "| TTTGTTGGTTCGCTCA |   9 |  2 |  7 |  0 |  0 |  0 |  0 |  0 |  0 | TTTGTTGGTTCGCTCA-1 | FALSE |\n",
       "| TTTGTTGGTTCTTTAG |  15 |  0 |  0 |  9 |  0 |  0 |  6 |  0 |  0 | TTTGTTGGTTCTTTAG-1 | FALSE |\n",
       "| TTTGTTGGTTGGTTAG |  21 |  0 |  0 | 14 |  0 |  0 |  7 |  0 |  0 | TTTGTTGGTTGGTTAG-1 | FALSE |\n",
       "| TTTGTTGGTTGTCCAT |  11 |  2 |  0 |  0 |  0 |  0 |  9 |  0 |  0 | TTTGTTGGTTGTCCAT-1 | FALSE |\n",
       "| TTTGTTGGTTTACCGT |  41 |  0 |  0 |  0 |  0 |  9 |  0 | 32 |  0 | TTTGTTGGTTTACCGT-1 |  TRUE |\n",
       "| TTTGTTGGTTTGCGCC |   4 |  0 |  2 |  0 |  0 |  2 |  0 |  0 |  0 | TTTGTTGGTTTGCGCC-1 | FALSE |\n",
       "| TTTGTTGGTTTGTCTA |  23 |  0 |  0 |  2 |  0 | 21 |  0 |  0 |  0 | TTTGTTGGTTTGTCTA-1 | FALSE |\n",
       "\n"
      ],
      "text/plain": [
       "      barcode          n_guides GATA5_1 GATA5_2 MEOX1_1 MEOX1_2 NEUROG2_1\n",
       "1     AAACAGCCAAACATAG  72      18       0       0       0      54       \n",
       "2     AAACAGCCAAACGCGA  51       2       0      23       8       2       \n",
       "3     AAACAGCCAAAGCGCA  27       0       0      12       0       0       \n",
       "4     AAACAGCCAAATATCC  35       0       0      11      24       0       \n",
       "5     AAACAGCCAAATTGCT  28       0       0      18       0      10       \n",
       "6     AAACAGCCAACTAGAA  65       8      11      25       0      15       \n",
       "7     AAACAGCCAACTGGCT  12       6       0       0       0       6       \n",
       "8     AAACAGCCAATAGCCC  38       8      13       0       0       0       \n",
       "9     AAACAGCCAATATACC  10       0       0       3       0       0       \n",
       "10    AAACAGCCAATCCTAG  15       0       0      15       0       0       \n",
       "11    AAACAGCCAATTAGGA  19       0       0       0       0       0       \n",
       "12    AAACAGCCAATTGAGA  86      34       0      18       0       6       \n",
       "13    AAACAGCCACAACAGG 148      24       8       6       0      49       \n",
       "14    AAACAGCCACAGCCAT  49       5       0       0       0      37       \n",
       "15    AAACAGCCACCACAAC  48      12       0       0       0       9       \n",
       "16    AAACAGCCACCTGCCT  57       0      13       0       8      36       \n",
       "17    AAACAGCCACCTGTAA   3       0       0       3       0       0       \n",
       "18    AAACAGCCACGAATTT  40       0       0       0      14       0       \n",
       "19    AAACAGCCACTCGCTC   2       2       0       0       0       0       \n",
       "20    AAACAGCCACTTGTTC  17       0       0       1       0       0       \n",
       "21    AAACAGCCAGAAATGC  11       4       0       0       0       0       \n",
       "22    AAACAGCCAGAGGCTA 162       8      38      15      41      15       \n",
       "23    AAACAGCCAGCAGGTA  70       0       0       9       0      19       \n",
       "24    AAACAGCCAGCCAGAA  47       0       0       0      10      32       \n",
       "25    AAACAGCCAGGACACA  39       2       0       0       5       0       \n",
       "26    AAACAGCCAGGCTTCG   8       0       0       0       0       8       \n",
       "27    AAACAGCCAGGGAGGA 104       0       0      45       0       8       \n",
       "28    AAACAGCCAGGTTTGC   9       0       0       0       0       9       \n",
       "29    AAACAGCCATAAGCAA  25       0       0       0       0      10       \n",
       "30    AAACAGCCATAGACCC  29       0       0      11       0      18       \n",
       "⋮     ⋮                ⋮        ⋮       ⋮       ⋮       ⋮       ⋮        \n",
       "80928 TTTGTTGGTCCGTAGG  10       1       0       9       0       0       \n",
       "80929 TTTGTTGGTCCTAACT  17       0       0       0       4       7       \n",
       "80930 TTTGTTGGTCCTTTAA  26       4       0       0       0      12       \n",
       "80931 TTTGTTGGTCGAAGTC  17      12       0       0       0       5       \n",
       "80932 TTTGTTGGTCGTTACT   6       0       0       6       0       0       \n",
       "80933 TTTGTTGGTCTAACAG 134       2       0       2       0       9       \n",
       "80934 TTTGTTGGTCTAACCT  44       0      15       5       0       9       \n",
       "80935 TTTGTTGGTGAAACAA  25       1       0      12       0       7       \n",
       "80936 TTTGTTGGTGCAATAT   5       0       0       5       0       0       \n",
       "80937 TTTGTTGGTGCTAGAC  13       0       0       1       3       0       \n",
       "80938 TTTGTTGGTGCTTAGA  93       0       4      37      10      36       \n",
       "80939 TTTGTTGGTGGAAGGC  34       0       0       7       8      19       \n",
       "80940 TTTGTTGGTGGACCTG  47       0       6      10       0      16       \n",
       "80941 TTTGTTGGTGTAATAC  19       5       0       0       0       6       \n",
       "80942 TTTGTTGGTGTCCTGC  15       0       0      15       0       0       \n",
       "80943 TTTGTTGGTGTGAGGA  64      17      38       9       0       0       \n",
       "80944 TTTGTTGGTGTTGTAG   9       0       0       0       0       5       \n",
       "80945 TTTGTTGGTTACCGGG   6       0       0       6       0       0       \n",
       "80946 TTTGTTGGTTACTTGC  35       8       0      11       0       6       \n",
       "80947 TTTGTTGGTTAGAGCC  19       0       5      10       0       4       \n",
       "80948 TTTGTTGGTTAGCGTA  54       2       9      11       0      17       \n",
       "80949 TTTGTTGGTTAGTACG  16       0       0       2       3       0       \n",
       "80950 TTTGTTGGTTCACCAT  12       0       0       0      12       0       \n",
       "80951 TTTGTTGGTTCGCTCA   9       2       7       0       0       0       \n",
       "80952 TTTGTTGGTTCTTTAG  15       0       0       9       0       0       \n",
       "80953 TTTGTTGGTTGGTTAG  21       0       0      14       0       0       \n",
       "80954 TTTGTTGGTTGTCCAT  11       2       0       0       0       0       \n",
       "80955 TTTGTTGGTTTACCGT  41       0       0       0       0       9       \n",
       "80956 TTTGTTGGTTTGCGCC   4       0       2       0       0       2       \n",
       "80957 TTTGTTGGTTTGTCTA  23       0       0       2       0      21       \n",
       "      NEUROG2_2 NTCTL_1 NTCTL_2 barcode_dash       in_multiome\n",
       "1      0         0       0      AAACAGCCAAACATAG-1 FALSE      \n",
       "2     16         0       0      AAACAGCCAAACGCGA-1 FALSE      \n",
       "3     15         0       0      AAACAGCCAAAGCGCA-1 FALSE      \n",
       "4      0         0       0      AAACAGCCAAATATCC-1 FALSE      \n",
       "5      0         0       0      AAACAGCCAAATTGCT-1 FALSE      \n",
       "6      6         0       0      AAACAGCCAACTAGAA-1 FALSE      \n",
       "7      0         0       0      AAACAGCCAACTGGCT-1 FALSE      \n",
       "8      5         0      12      AAACAGCCAATAGCCC-1 FALSE      \n",
       "9      1         0       6      AAACAGCCAATATACC-1 FALSE      \n",
       "10     0         0       0      AAACAGCCAATCCTAG-1 FALSE      \n",
       "11    19         0       0      AAACAGCCAATTAGGA-1 FALSE      \n",
       "12     0        28       0      AAACAGCCAATTGAGA-1 FALSE      \n",
       "13    39        22       0      AAACAGCCACAACAGG-1  TRUE      \n",
       "14     0         7       0      AAACAGCCACAGCCAT-1 FALSE      \n",
       "15     0         0      27      AAACAGCCACCACAAC-1  TRUE      \n",
       "16     0         0       0      AAACAGCCACCTGCCT-1 FALSE      \n",
       "17     0         0       0      AAACAGCCACCTGTAA-1 FALSE      \n",
       "18     0        26       0      AAACAGCCACGAATTT-1 FALSE      \n",
       "19     0         0       0      AAACAGCCACTCGCTC-1 FALSE      \n",
       "20     8         8       0      AAACAGCCACTTGTTC-1 FALSE      \n",
       "21     7         0       0      AAACAGCCAGAAATGC-1 FALSE      \n",
       "22    45         0       0      AAACAGCCAGAGGCTA-1 FALSE      \n",
       "23    31         0      11      AAACAGCCAGCAGGTA-1 FALSE      \n",
       "24     0         5       0      AAACAGCCAGCCAGAA-1 FALSE      \n",
       "25    21         0      11      AAACAGCCAGGACACA-1 FALSE      \n",
       "26     0         0       0      AAACAGCCAGGCTTCG-1 FALSE      \n",
       "27    19         0      32      AAACAGCCAGGGAGGA-1  TRUE      \n",
       "28     0         0       0      AAACAGCCAGGTTTGC-1 FALSE      \n",
       "29    12         3       0      AAACAGCCATAAGCAA-1 FALSE      \n",
       "30     0         0       0      AAACAGCCATAGACCC-1 FALSE      \n",
       "⋮     ⋮         ⋮       ⋮       ⋮                  ⋮          \n",
       "80928  0         0       0      TTTGTTGGTCCGTAGG-1 FALSE      \n",
       "80929  6         0       0      TTTGTTGGTCCTAACT-1 FALSE      \n",
       "80930  5         0       5      TTTGTTGGTCCTTTAA-1 FALSE      \n",
       "80931  0         0       0      TTTGTTGGTCGAAGTC-1 FALSE      \n",
       "80932  0         0       0      TTTGTTGGTCGTTACT-1 FALSE      \n",
       "80933  7        23      91      TTTGTTGGTCTAACAG-1  TRUE      \n",
       "80934  4         0      11      TTTGTTGGTCTAACCT-1 FALSE      \n",
       "80935  5         0       0      TTTGTTGGTGAAACAA-1 FALSE      \n",
       "80936  0         0       0      TTTGTTGGTGCAATAT-1 FALSE      \n",
       "80937  9         0       0      TTTGTTGGTGCTAGAC-1 FALSE      \n",
       "80938  6         0       0      TTTGTTGGTGCTTAGA-1 FALSE      \n",
       "80939  0         0       0      TTTGTTGGTGGAAGGC-1 FALSE      \n",
       "80940 15         0       0      TTTGTTGGTGGACCTG-1 FALSE      \n",
       "80941  8         0       0      TTTGTTGGTGTAATAC-1 FALSE      \n",
       "80942  0         0       0      TTTGTTGGTGTCCTGC-1 FALSE      \n",
       "80943  0         0       0      TTTGTTGGTGTGAGGA-1  TRUE      \n",
       "80944  4         0       0      TTTGTTGGTGTTGTAG-1 FALSE      \n",
       "80945  0         0       0      TTTGTTGGTTACCGGG-1 FALSE      \n",
       "80946  0         0      10      TTTGTTGGTTACTTGC-1 FALSE      \n",
       "80947  0         0       0      TTTGTTGGTTAGAGCC-1 FALSE      \n",
       "80948  4        11       0      TTTGTTGGTTAGCGTA-1 FALSE      \n",
       "80949  0         0      11      TTTGTTGGTTAGTACG-1 FALSE      \n",
       "80950  0         0       0      TTTGTTGGTTCACCAT-1 FALSE      \n",
       "80951  0         0       0      TTTGTTGGTTCGCTCA-1 FALSE      \n",
       "80952  6         0       0      TTTGTTGGTTCTTTAG-1 FALSE      \n",
       "80953  7         0       0      TTTGTTGGTTGGTTAG-1 FALSE      \n",
       "80954  9         0       0      TTTGTTGGTTGTCCAT-1 FALSE      \n",
       "80955  0        32       0      TTTGTTGGTTTACCGT-1  TRUE      \n",
       "80956  0         0       0      TTTGTTGGTTTGCGCC-1 FALSE      \n",
       "80957  0         0       0      TTTGTTGGTTTGTCTA-1 FALSE      "
      ]
     },
     "metadata": {},
     "output_type": "display_data"
    }
   ],
   "source": [
    "#df_guide <- select(df_guide, -na)\n",
    "df_guide"
   ]
  },
  {
   "cell_type": "markdown",
   "id": "a8ce2c05",
   "metadata": {
    "papermill": {
     "duration": 0.009763,
     "end_time": "2023-02-23T04:20:32.894390",
     "exception": false,
     "start_time": "2023-02-23T04:20:32.884627",
     "status": "completed"
    },
    "tags": []
   },
   "source": [
    "Get overlapping cells"
   ]
  },
  {
   "cell_type": "code",
   "execution_count": 12,
   "id": "9126f618",
   "metadata": {
    "execution": {
     "iopub.execute_input": "2023-02-23T04:20:32.915563Z",
     "iopub.status.busy": "2023-02-23T04:20:32.914710Z",
     "iopub.status.idle": "2023-02-23T04:20:32.980697Z",
     "shell.execute_reply": "2023-02-23T04:20:32.979628Z"
    },
    "papermill": {
     "duration": 0.078243,
     "end_time": "2023-02-23T04:20:32.982482",
     "exception": false,
     "start_time": "2023-02-23T04:20:32.904239",
     "status": "completed"
    },
    "tags": [],
    "vscode": {
     "languageId": "r"
    }
   },
   "outputs": [
    {
     "data": {
      "text/html": [
       "<span style=white-space:pre-wrap>'Overlapping barcodes w/ min guides = 10 :  6656'</span>"
      ],
      "text/latex": [
       "'Overlapping barcodes w/ min guides = 10 :  6656'"
      ],
      "text/markdown": [
       "<span style=white-space:pre-wrap>'Overlapping barcodes w/ min guides = 10 :  6656'</span>"
      ],
      "text/plain": [
       "[1] \"Overlapping barcodes w/ min guides = 10 :  6656\""
      ]
     },
     "metadata": {},
     "output_type": "display_data"
    },
    {
     "data": {
      "text/html": [
       "<span style=white-space:pre-wrap>'Overlapping barcodes w/ min guides = 1 :  6774'</span>"
      ],
      "text/latex": [
       "'Overlapping barcodes w/ min guides = 1 :  6774'"
      ],
      "text/markdown": [
       "<span style=white-space:pre-wrap>'Overlapping barcodes w/ min guides = 1 :  6774'</span>"
      ],
      "text/plain": [
       "[1] \"Overlapping barcodes w/ min guides = 1 :  6774\""
      ]
     },
     "metadata": {},
     "output_type": "display_data"
    }
   ],
   "source": [
    "N_MIN_GUIDES <- 10            ##default is 10\n",
    "select_overlapping   <-\n",
    "    df_guide$in_multiome & (df_guide$n_guide >= N_MIN_GUIDES)\n",
    "\n",
    "overlapping_barcodes <- df_guide[select_overlapping, ]$barcode_dash\n",
    "overlapping_barcodes <- as.vector(overlapping_barcodes)\n",
    "\n",
    "overlapping_guide_counts <- guide_counts[, overlapping_barcodes]\n",
    "\n",
    "n_all_overlapping <- nrow(df_guide[df_guide$in_multiome, ])\n",
    "paste(\"Overlapping barcodes w/ min guides =\", N_MIN_GUIDES,\": \", length(overlapping_barcodes))\n",
    "paste(\"Overlapping barcodes w/ min guides =\", 1,\": \", n_all_overlapping)\n"
   ]
  },
  {
   "cell_type": "code",
   "execution_count": 13,
   "id": "481d2cbd",
   "metadata": {
    "execution": {
     "iopub.execute_input": "2023-02-23T04:20:33.006414Z",
     "iopub.status.busy": "2023-02-23T04:20:33.005563Z",
     "iopub.status.idle": "2023-02-23T04:20:33.022604Z",
     "shell.execute_reply": "2023-02-23T04:20:33.021548Z"
    },
    "papermill": {
     "duration": 0.029308,
     "end_time": "2023-02-23T04:20:33.024123",
     "exception": false,
     "start_time": "2023-02-23T04:20:32.994815",
     "status": "completed"
    },
    "tags": [],
    "vscode": {
     "languageId": "r"
    }
   },
   "outputs": [
    {
     "data": {
      "text/html": [
       "<table class=\"dataframe\">\n",
       "<caption>A matrix: 6 × 6656 of type int</caption>\n",
       "<thead>\n",
       "\t<tr><th></th><th scope=col>AAACAGCCACAACAGG-1</th><th scope=col>AAACAGCCACCACAAC-1</th><th scope=col>AAACAGCCAGGGAGGA-1</th><th scope=col>AAACAGCCATAGGCGA-1</th><th scope=col>AAACAGCCATCCGTAA-1</th><th scope=col>AAACAGCCATTGTGCA-1</th><th scope=col>AAACATGCAACACTTG-1</th><th scope=col>AAACATGCAGCACGAA-1</th><th scope=col>AAACATGCAGGACACA-1</th><th scope=col>AAACATGCAGTAAAGC-1</th><th scope=col>⋯</th><th scope=col>TTTGTGGCAATAGCAA-1</th><th scope=col>TTTGTGGCAGTTTCTC-1</th><th scope=col>TTTGTGGCATAACGGG-1</th><th scope=col>TTTGTGGCATGATTGT-1</th><th scope=col>TTTGTGTTCCCTCAGT-1</th><th scope=col>TTTGTGTTCTCCATGC-1</th><th scope=col>TTTGTTGGTCAAAGAA-1</th><th scope=col>TTTGTTGGTCTAACAG-1</th><th scope=col>TTTGTTGGTGTGAGGA-1</th><th scope=col>TTTGTTGGTTTACCGT-1</th></tr>\n",
       "</thead>\n",
       "<tbody>\n",
       "\t<tr><th scope=row>GATA5_1</th><td>24</td><td>12</td><td> 0</td><td>47</td><td>20</td><td> 0</td><td>  0</td><td>19</td><td> 0</td><td>  0</td><td>⋯</td><td>  5</td><td> 7</td><td>97</td><td>0</td><td>180</td><td> 0</td><td>0</td><td>2</td><td>17</td><td>0</td></tr>\n",
       "\t<tr><th scope=row>GATA5_2</th><td> 8</td><td> 0</td><td> 0</td><td> 0</td><td> 0</td><td> 0</td><td>  8</td><td>17</td><td>18</td><td>  0</td><td>⋯</td><td>  0</td><td> 8</td><td>28</td><td>4</td><td> 25</td><td> 0</td><td>0</td><td>0</td><td>38</td><td>0</td></tr>\n",
       "\t<tr><th scope=row>MEOX1_1</th><td> 6</td><td> 0</td><td>45</td><td>34</td><td>20</td><td>94</td><td> 11</td><td> 0</td><td>23</td><td>238</td><td>⋯</td><td>469</td><td>12</td><td> 1</td><td>8</td><td> 20</td><td>33</td><td>5</td><td>2</td><td> 9</td><td>0</td></tr>\n",
       "\t<tr><th scope=row>MEOX1_2</th><td> 0</td><td> 0</td><td> 0</td><td> 0</td><td>48</td><td> 1</td><td>  0</td><td> 0</td><td> 0</td><td>129</td><td>⋯</td><td>170</td><td> 0</td><td> 6</td><td>0</td><td>  0</td><td> 0</td><td>0</td><td>0</td><td> 0</td><td>0</td></tr>\n",
       "\t<tr><th scope=row>NEUROG2_1</th><td>49</td><td> 9</td><td> 8</td><td>33</td><td>18</td><td> 9</td><td> 36</td><td>80</td><td> 0</td><td>  8</td><td>⋯</td><td>  0</td><td>17</td><td>17</td><td>0</td><td> 14</td><td> 0</td><td>0</td><td>9</td><td> 0</td><td>9</td></tr>\n",
       "\t<tr><th scope=row>NEUROG2_2</th><td>39</td><td> 0</td><td>19</td><td> 0</td><td>21</td><td>27</td><td>104</td><td>38</td><td> 7</td><td>  4</td><td>⋯</td><td>  5</td><td> 3</td><td> 0</td><td>0</td><td>  0</td><td> 0</td><td>9</td><td>7</td><td> 0</td><td>0</td></tr>\n",
       "</tbody>\n",
       "</table>\n"
      ],
      "text/latex": [
       "A matrix: 6 × 6656 of type int\n",
       "\\begin{tabular}{r|lllllllllllllllllllll}\n",
       "  & AAACAGCCACAACAGG-1 & AAACAGCCACCACAAC-1 & AAACAGCCAGGGAGGA-1 & AAACAGCCATAGGCGA-1 & AAACAGCCATCCGTAA-1 & AAACAGCCATTGTGCA-1 & AAACATGCAACACTTG-1 & AAACATGCAGCACGAA-1 & AAACATGCAGGACACA-1 & AAACATGCAGTAAAGC-1 & ⋯ & TTTGTGGCAATAGCAA-1 & TTTGTGGCAGTTTCTC-1 & TTTGTGGCATAACGGG-1 & TTTGTGGCATGATTGT-1 & TTTGTGTTCCCTCAGT-1 & TTTGTGTTCTCCATGC-1 & TTTGTTGGTCAAAGAA-1 & TTTGTTGGTCTAACAG-1 & TTTGTTGGTGTGAGGA-1 & TTTGTTGGTTTACCGT-1\\\\\n",
       "\\hline\n",
       "\tGATA5\\_1 & 24 & 12 &  0 & 47 & 20 &  0 &   0 & 19 &  0 &   0 & ⋯ &   5 &  7 & 97 & 0 & 180 &  0 & 0 & 2 & 17 & 0\\\\\n",
       "\tGATA5\\_2 &  8 &  0 &  0 &  0 &  0 &  0 &   8 & 17 & 18 &   0 & ⋯ &   0 &  8 & 28 & 4 &  25 &  0 & 0 & 0 & 38 & 0\\\\\n",
       "\tMEOX1\\_1 &  6 &  0 & 45 & 34 & 20 & 94 &  11 &  0 & 23 & 238 & ⋯ & 469 & 12 &  1 & 8 &  20 & 33 & 5 & 2 &  9 & 0\\\\\n",
       "\tMEOX1\\_2 &  0 &  0 &  0 &  0 & 48 &  1 &   0 &  0 &  0 & 129 & ⋯ & 170 &  0 &  6 & 0 &   0 &  0 & 0 & 0 &  0 & 0\\\\\n",
       "\tNEUROG2\\_1 & 49 &  9 &  8 & 33 & 18 &  9 &  36 & 80 &  0 &   8 & ⋯ &   0 & 17 & 17 & 0 &  14 &  0 & 0 & 9 &  0 & 9\\\\\n",
       "\tNEUROG2\\_2 & 39 &  0 & 19 &  0 & 21 & 27 & 104 & 38 &  7 &   4 & ⋯ &   5 &  3 &  0 & 0 &   0 &  0 & 9 & 7 &  0 & 0\\\\\n",
       "\\end{tabular}\n"
      ],
      "text/markdown": [
       "\n",
       "A matrix: 6 × 6656 of type int\n",
       "\n",
       "| <!--/--> | AAACAGCCACAACAGG-1 | AAACAGCCACCACAAC-1 | AAACAGCCAGGGAGGA-1 | AAACAGCCATAGGCGA-1 | AAACAGCCATCCGTAA-1 | AAACAGCCATTGTGCA-1 | AAACATGCAACACTTG-1 | AAACATGCAGCACGAA-1 | AAACATGCAGGACACA-1 | AAACATGCAGTAAAGC-1 | ⋯ | TTTGTGGCAATAGCAA-1 | TTTGTGGCAGTTTCTC-1 | TTTGTGGCATAACGGG-1 | TTTGTGGCATGATTGT-1 | TTTGTGTTCCCTCAGT-1 | TTTGTGTTCTCCATGC-1 | TTTGTTGGTCAAAGAA-1 | TTTGTTGGTCTAACAG-1 | TTTGTTGGTGTGAGGA-1 | TTTGTTGGTTTACCGT-1 |\n",
       "|---|---|---|---|---|---|---|---|---|---|---|---|---|---|---|---|---|---|---|---|---|---|\n",
       "| GATA5_1 | 24 | 12 |  0 | 47 | 20 |  0 |   0 | 19 |  0 |   0 | ⋯ |   5 |  7 | 97 | 0 | 180 |  0 | 0 | 2 | 17 | 0 |\n",
       "| GATA5_2 |  8 |  0 |  0 |  0 |  0 |  0 |   8 | 17 | 18 |   0 | ⋯ |   0 |  8 | 28 | 4 |  25 |  0 | 0 | 0 | 38 | 0 |\n",
       "| MEOX1_1 |  6 |  0 | 45 | 34 | 20 | 94 |  11 |  0 | 23 | 238 | ⋯ | 469 | 12 |  1 | 8 |  20 | 33 | 5 | 2 |  9 | 0 |\n",
       "| MEOX1_2 |  0 |  0 |  0 |  0 | 48 |  1 |   0 |  0 |  0 | 129 | ⋯ | 170 |  0 |  6 | 0 |   0 |  0 | 0 | 0 |  0 | 0 |\n",
       "| NEUROG2_1 | 49 |  9 |  8 | 33 | 18 |  9 |  36 | 80 |  0 |   8 | ⋯ |   0 | 17 | 17 | 0 |  14 |  0 | 0 | 9 |  0 | 9 |\n",
       "| NEUROG2_2 | 39 |  0 | 19 |  0 | 21 | 27 | 104 | 38 |  7 |   4 | ⋯ |   5 |  3 |  0 | 0 |   0 |  0 | 9 | 7 |  0 | 0 |\n",
       "\n"
      ],
      "text/plain": [
       "          AAACAGCCACAACAGG-1 AAACAGCCACCACAAC-1 AAACAGCCAGGGAGGA-1\n",
       "GATA5_1   24                 12                  0                \n",
       "GATA5_2    8                  0                  0                \n",
       "MEOX1_1    6                  0                 45                \n",
       "MEOX1_2    0                  0                  0                \n",
       "NEUROG2_1 49                  9                  8                \n",
       "NEUROG2_2 39                  0                 19                \n",
       "          AAACAGCCATAGGCGA-1 AAACAGCCATCCGTAA-1 AAACAGCCATTGTGCA-1\n",
       "GATA5_1   47                 20                  0                \n",
       "GATA5_2    0                  0                  0                \n",
       "MEOX1_1   34                 20                 94                \n",
       "MEOX1_2    0                 48                  1                \n",
       "NEUROG2_1 33                 18                  9                \n",
       "NEUROG2_2  0                 21                 27                \n",
       "          AAACATGCAACACTTG-1 AAACATGCAGCACGAA-1 AAACATGCAGGACACA-1\n",
       "GATA5_1     0                19                  0                \n",
       "GATA5_2     8                17                 18                \n",
       "MEOX1_1    11                 0                 23                \n",
       "MEOX1_2     0                 0                  0                \n",
       "NEUROG2_1  36                80                  0                \n",
       "NEUROG2_2 104                38                  7                \n",
       "          AAACATGCAGTAAAGC-1 ⋯ TTTGTGGCAATAGCAA-1 TTTGTGGCAGTTTCTC-1\n",
       "GATA5_1     0                ⋯   5                 7                \n",
       "GATA5_2     0                ⋯   0                 8                \n",
       "MEOX1_1   238                ⋯ 469                12                \n",
       "MEOX1_2   129                ⋯ 170                 0                \n",
       "NEUROG2_1   8                ⋯   0                17                \n",
       "NEUROG2_2   4                ⋯   5                 3                \n",
       "          TTTGTGGCATAACGGG-1 TTTGTGGCATGATTGT-1 TTTGTGTTCCCTCAGT-1\n",
       "GATA5_1   97                 0                  180               \n",
       "GATA5_2   28                 4                   25               \n",
       "MEOX1_1    1                 8                   20               \n",
       "MEOX1_2    6                 0                    0               \n",
       "NEUROG2_1 17                 0                   14               \n",
       "NEUROG2_2  0                 0                    0               \n",
       "          TTTGTGTTCTCCATGC-1 TTTGTTGGTCAAAGAA-1 TTTGTTGGTCTAACAG-1\n",
       "GATA5_1    0                 0                  2                 \n",
       "GATA5_2    0                 0                  0                 \n",
       "MEOX1_1   33                 5                  2                 \n",
       "MEOX1_2    0                 0                  0                 \n",
       "NEUROG2_1  0                 0                  9                 \n",
       "NEUROG2_2  0                 9                  7                 \n",
       "          TTTGTTGGTGTGAGGA-1 TTTGTTGGTTTACCGT-1\n",
       "GATA5_1   17                 0                 \n",
       "GATA5_2   38                 0                 \n",
       "MEOX1_1    9                 0                 \n",
       "MEOX1_2    0                 0                 \n",
       "NEUROG2_1  0                 9                 \n",
       "NEUROG2_2  0                 0                 "
      ]
     },
     "metadata": {},
     "output_type": "display_data"
    }
   ],
   "source": [
    "head(overlapping_guide_counts)"
   ]
  },
  {
   "cell_type": "code",
   "execution_count": 14,
   "id": "11be6386",
   "metadata": {
    "execution": {
     "iopub.execute_input": "2023-02-23T04:20:33.071094Z",
     "iopub.status.busy": "2023-02-23T04:20:33.070249Z",
     "iopub.status.idle": "2023-02-23T04:20:33.079282Z",
     "shell.execute_reply": "2023-02-23T04:20:33.078266Z"
    },
    "papermill": {
     "duration": 0.022491,
     "end_time": "2023-02-23T04:20:33.081064",
     "exception": false,
     "start_time": "2023-02-23T04:20:33.058573",
     "status": "completed"
    },
    "tags": [],
    "vscode": {
     "languageId": "r"
    }
   },
   "outputs": [
    {
     "data": {
      "text/html": [
       "<style>\n",
       ".list-inline {list-style: none; margin:0; padding: 0}\n",
       ".list-inline>li {display: inline-block}\n",
       ".list-inline>li:not(:last-child)::after {content: \"\\00b7\"; padding: 0 .5ex}\n",
       "</style>\n",
       "<ol class=list-inline><li>'AAACAGCCACAACAGG-1'</li><li>'AAACAGCCACCACAAC-1'</li><li>'AAACAGCCAGGGAGGA-1'</li><li>'AAACAGCCATAGGCGA-1'</li><li>'AAACAGCCATCCGTAA-1'</li><li>'AAACAGCCATTGTGCA-1'</li></ol>\n"
      ],
      "text/latex": [
       "\\begin{enumerate*}\n",
       "\\item 'AAACAGCCACAACAGG-1'\n",
       "\\item 'AAACAGCCACCACAAC-1'\n",
       "\\item 'AAACAGCCAGGGAGGA-1'\n",
       "\\item 'AAACAGCCATAGGCGA-1'\n",
       "\\item 'AAACAGCCATCCGTAA-1'\n",
       "\\item 'AAACAGCCATTGTGCA-1'\n",
       "\\end{enumerate*}\n"
      ],
      "text/markdown": [
       "1. 'AAACAGCCACAACAGG-1'\n",
       "2. 'AAACAGCCACCACAAC-1'\n",
       "3. 'AAACAGCCAGGGAGGA-1'\n",
       "4. 'AAACAGCCATAGGCGA-1'\n",
       "5. 'AAACAGCCATCCGTAA-1'\n",
       "6. 'AAACAGCCATTGTGCA-1'\n",
       "\n",
       "\n"
      ],
      "text/plain": [
       "[1] \"AAACAGCCACAACAGG-1\" \"AAACAGCCACCACAAC-1\" \"AAACAGCCAGGGAGGA-1\"\n",
       "[4] \"AAACAGCCATAGGCGA-1\" \"AAACAGCCATCCGTAA-1\" \"AAACAGCCATTGTGCA-1\""
      ]
     },
     "metadata": {},
     "output_type": "display_data"
    }
   ],
   "source": [
    "head(overlapping_barcodes)"
   ]
  },
  {
   "cell_type": "markdown",
   "id": "b1671ecd",
   "metadata": {
    "papermill": {
     "duration": 0.010126,
     "end_time": "2023-02-23T04:20:33.104724",
     "exception": false,
     "start_time": "2023-02-23T04:20:33.094598",
     "status": "completed"
    },
    "tags": []
   },
   "source": [
    "## Plot stats"
   ]
  },
  {
   "cell_type": "code",
   "execution_count": 15,
   "id": "9c94199d",
   "metadata": {
    "vscode": {
     "languageId": "r"
    }
   },
   "outputs": [],
   "source": [
    "#head(df_guide_counts_per_cell)"
   ]
  },
  {
   "cell_type": "code",
   "execution_count": 16,
   "id": "3c004b79",
   "metadata": {
    "execution": {
     "iopub.execute_input": "2023-02-23T04:20:33.127233Z",
     "iopub.status.busy": "2023-02-23T04:20:33.126380Z",
     "iopub.status.idle": "2023-02-23T04:20:33.588212Z",
     "shell.execute_reply": "2023-02-23T04:20:33.587182Z"
    },
    "papermill": {
     "duration": 0.475591,
     "end_time": "2023-02-23T04:20:33.590591",
     "exception": false,
     "start_time": "2023-02-23T04:20:33.115000",
     "status": "completed"
    },
    "tags": [],
    "vscode": {
     "languageId": "r"
    }
   },
   "outputs": [
    {
     "name": "stdout",
     "output_type": "stream",
     "text": [
      "\u001b[34mMedian #guides per cell\u001b[39m 110"
     ]
    },
    {
     "data": {
      "image/png": "[encoded data removed]",
      "text/plain": [
       "plot without title"
      ]
     },
     "metadata": {
      "image/png": {
       "height": 720,
       "width": 1320
      }
     },
     "output_type": "display_data"
    }
   ],
   "source": [
    "df_guide_counts_per_cell <- data.frame(guide_count=colSums(overlapping_guide_counts))\n",
    "median_guides_per_cell = median(df_guide_counts_per_cell$guide_count)\n",
    "cat(blue(\"Median #guides per cell\"), median_guides_per_cell)\n",
    "\n",
    "ggplot(df_guide_counts_per_cell, aes(x=guide_count)) +\n",
    "    geom_histogram(binwidth=1)"
   ]
  },
  {
   "cell_type": "markdown",
   "id": "975c3328",
   "metadata": {
    "tags": [
     "papermill-error-cell-tag"
    ]
   },
   "source": [
    "<span id=\"papermill-error-cell\" style=\"color:red; font-family:Helvetica Neue, Helvetica, Arial, sans-serif; font-size:2em;\">Execution using papermill encountered an exception here and stopped:</span>"
   ]
  },
  {
   "cell_type": "code",
   "execution_count": 17,
   "id": "24e8cc86",
   "metadata": {
    "execution": {
     "iopub.execute_input": "2023-02-23T04:20:33.619488Z",
     "iopub.status.busy": "2023-02-23T04:20:33.617945Z",
     "iopub.status.idle": "2023-02-23T04:20:33.646229Z",
     "shell.execute_reply": "2023-02-23T04:20:33.645060Z"
    },
    "papermill": {
     "duration": 0.042217,
     "end_time": "2023-02-23T04:20:33.648156",
     "exception": true,
     "start_time": "2023-02-23T04:20:33.605939",
     "status": "failed"
    },
    "tags": [],
    "vscode": {
     "languageId": "r"
    }
   },
   "outputs": [
    {
     "name": "stderr",
     "output_type": "stream",
     "text": [
      "No id variables; using all as measure variables\n",
      "\n"
     ]
    },
    {
     "data": {
      "image/png": "[encoded data removed]",
      "text/plain": [
       "plot without title"
      ]
     },
     "metadata": {
      "image/png": {
       "height": 1200,
       "width": 1200
      }
     },
     "output_type": "display_data"
    }
   ],
   "source": [
    "library(reshape2)\n",
    "df_guide_counts_by_cell <- as.data.frame(t(overlapping_guide_counts))\n",
    "\n",
    "d <- melt(df_guide_counts_by_cell)\n",
    "d <- d[d$value > 0,]\n",
    "colnames(d) = c(\"guide_name\", \"num_guides_in_cell\")\n",
    "\n",
    "options(repr.plot.width = 20, repr.plot.height = 20)\n",
    "ggplot(d, aes(x = num_guides_in_cell)) + \n",
    "    facet_wrap(~guide_name, scales = \"free_x\") + \n",
    "    geom_histogram(binwidth=1) +\n",
    "    labs(y_label=\"count\") "
   ]
  },
  {
   "cell_type": "code",
   "execution_count": 18,
   "id": "c3d768d0",
   "metadata": {
    "vscode": {
     "languageId": "r"
    }
   },
   "outputs": [
    {
     "name": "stderr",
     "output_type": "stream",
     "text": [
      "No id variables; using all as measure variables\n",
      "\n",
      "Warning message:\n",
      "“Ignoring unknown parameters: bin_breaks”\n",
      "`stat_bin()` using `bins = 30`. Pick better value with `binwidth`.\n",
      "\n"
     ]
    },
    {
     "data": {
      "image/png": "[encoded data removed]",
      "text/plain": [
       "plot without title"
      ]
     },
     "metadata": {
      "image/png": {
       "height": 1200,
       "width": 1200
      }
     },
     "output_type": "display_data"
    }
   ],
   "source": [
    "### Using log scales\n",
    "library(reshape2)\n",
    "library(scales)\n",
    "df_guide_counts_by_cell <- as.data.frame(t(overlapping_guide_counts))\n",
    "\n",
    "d <- melt(df_guide_counts_by_cell)\n",
    "d <- d[d$value > 0,]\n",
    "colnames(d) = c(\"guide_name\", \"num_guides_in_cell\")\n",
    "\n",
    "bin_breaks <- c(1,2,2*2^(1:16))\n",
    "\n",
    "options(repr.plot.width = 20, repr.plot.height = 20)\n",
    "ggplot(d, aes(x = num_guides_in_cell)) + \n",
    "    facet_wrap(~guide_name, scales = \"free_x\") + \n",
    "    geom_histogram(bin_breaks=bin_breaks) +\n",
    "    scale_x_log10(labels=trans_format('log10',math_format(10^.x)), breaks=c(1,10,100,1000,10000,100000)) +\n",
    "    labs(y_label=\"count\") "
   ]
  },
  {
   "cell_type": "markdown",
   "id": "b8ca5f93",
   "metadata": {
    "papermill": {
     "duration": null,
     "end_time": null,
     "exception": null,
     "start_time": null,
     "status": "pending"
    },
    "tags": []
   },
   "source": [
    "# Demux"
   ]
  },
  {
   "cell_type": "markdown",
   "id": "b8748528",
   "metadata": {
    "papermill": {
     "duration": null,
     "end_time": null,
     "exception": null,
     "start_time": null,
     "status": "pending"
    },
    "tags": []
   },
   "source": [
    "Load multiome seurat object"
   ]
  },
  {
   "cell_type": "code",
   "execution_count": 20,
   "id": "1b2051c5",
   "metadata": {
    "papermill": {
     "duration": null,
     "end_time": null,
     "exception": null,
     "start_time": null,
     "status": "pending"
    },
    "tags": [],
    "vscode": {
     "languageId": "r"
    }
   },
   "outputs": [
    {
     "name": "stderr",
     "output_type": "stream",
     "text": [
      "Validating h5Seurat file\n",
      "\n"
     ]
    },
    {
     "ename": "ERROR",
     "evalue": "Error in validityMethod(as(object, superClass)): object 'Dim_validate' not found\n",
     "output_type": "error",
     "traceback": [
      "Error in validityMethod(as(object, superClass)): object 'Dim_validate' not found\nTraceback:\n",
      "1. LoadH5Seurat(h5_name, verbose = FALSE)   # at line 2 of file <text>",
      "2. LoadH5Seurat.character(h5_name, verbose = FALSE)",
      "3. LoadH5Seurat(file = hfile, assays = assays, reductions = reductions, \n .     graphs = graphs, neighbors = neighbors, images = images, \n .     meta.data = meta.data, commands = commands, misc = misc, \n .     tools = tools, verbose = verbose, ...)",
      "4. LoadH5Seurat.h5Seurat(file = hfile, assays = assays, reductions = reductions, \n .     graphs = graphs, neighbors = neighbors, images = images, \n .     meta.data = meta.data, commands = commands, misc = misc, \n .     tools = tools, verbose = verbose, ...)",
      "5. as.Seurat(x = file, assays = assays, reductions = reductions, \n .     graphs = graphs, neighbors = neighbors, images = images, \n .     meta.data = meta.data, commands = commands, misc = misc, \n .     tools = tools, verbose = verbose, ...)",
      "6. as.Seurat.h5Seurat(x = file, assays = assays, reductions = reductions, \n .     graphs = graphs, neighbors = neighbors, images = images, \n .     meta.data = meta.data, commands = commands, misc = misc, \n .     tools = tools, verbose = verbose, ...)",
      "7. AssembleAssay(assay = assay, file = x, slots = assays[[assay]], \n .     verbose = verbose)",
      "8. as.matrix(x = assay.group[[\"data\"]])",
      "9. as.matrix.H5Group(x = assay.group[[\"data\"]])",
      "10. as.sparse(x = x, ...)",
      "11. as.sparse.H5Group(x = x, ...)",
      "12. sparseMatrix(i = x[[\"indices\"]][] + 1, p = x[[\"indptr\"]][], x = x[[\"data\"]][], \n  .     dims = h5attr(x = x, which = \"dims\"))",
      "13. validObject(r)",
      "14. anyStrings(validityMethod(as(object, superClass)))",
      "15. isTRUE(x)",
      "16. validityMethod(as(object, superClass))",
      "17. isTRUE(r <- .Call(Dim_validate, object, \"Matrix\"))"
     ]
    }
   ],
   "source": [
    "if (!exists(\"seurat_all\")) {\n",
    "    seurat_all <- LoadH5Seurat(h5_name, verbose=FALSE)\n",
    "}"
   ]
  },
  {
   "cell_type": "code",
   "execution_count": 21,
   "id": "139f521e",
   "metadata": {
    "papermill": {
     "duration": null,
     "end_time": null,
     "exception": null,
     "start_time": null,
     "status": "pending"
    },
    "tags": [],
    "vscode": {
     "languageId": "r"
    }
   },
   "outputs": [
    {
     "ename": "ERROR",
     "evalue": "Error in eval(expr, envir, enclos): object 'seurat_all' not found\n",
     "output_type": "error",
     "traceback": [
      "Error in eval(expr, envir, enclos): object 'seurat_all' not found\nTraceback:\n",
      "1. subset(seurat_all, cells = overlapping_barcodes)"
     ]
    }
   ],
   "source": [
    "# Select cells found in guide capture\n",
    "seurat     <- subset(seurat_all, cells = overlapping_barcodes)\n",
    "n_multiome <- length(Cells(seurat_all))"
   ]
  },
  {
   "cell_type": "code",
   "execution_count": null,
   "id": "cb57a1e3",
   "metadata": {
    "papermill": {
     "duration": null,
     "end_time": null,
     "exception": null,
     "start_time": null,
     "status": "pending"
    },
    "tags": [],
    "vscode": {
     "languageId": "r"
    }
   },
   "outputs": [],
   "source": [
    "# Add guide data as a new assay independent from RNA & ATAC\n",
    "seurat[[\"guidecapture\"]] <- CreateAssayObject(counts = overlapping_guide_counts)"
   ]
  },
  {
   "cell_type": "code",
   "execution_count": null,
   "id": "ccc6470c",
   "metadata": {
    "papermill": {
     "duration": null,
     "end_time": null,
     "exception": null,
     "start_time": null,
     "status": "pending"
    },
    "tags": [],
    "vscode": {
     "languageId": "r"
    }
   },
   "outputs": [],
   "source": [
    "# x <- GetAssayData(seurat, \"counts\")\n",
    "# cells <- colnames(x[ , colSums(x) != 0])\n",
    "# feats <- names((rowSums(x) != 0) == TRUE)\n",
    "# seurat <- seurat[feats, cells] "
   ]
  },
  {
   "cell_type": "code",
   "execution_count": null,
   "id": "09cbe6b0",
   "metadata": {
    "papermill": {
     "duration": null,
     "end_time": null,
     "exception": null,
     "start_time": null,
     "status": "pending"
    },
    "tags": [],
    "vscode": {
     "languageId": "r"
    }
   },
   "outputs": [],
   "source": [
    "# Normalize guide data, here we use centered log-ratio (CLR) transformation\n",
    "seurat <- NormalizeData(seurat, assay = \"guidecapture\", normalization.method = \"CLR\", margin = 1)"
   ]
  },
  {
   "cell_type": "code",
   "execution_count": null,
   "id": "a876578c",
   "metadata": {
    "papermill": {
     "duration": null,
     "end_time": null,
     "exception": null,
     "start_time": null,
     "status": "pending"
    },
    "tags": [],
    "vscode": {
     "languageId": "r"
    }
   },
   "outputs": [],
   "source": [
    "seurat <- HTODemux(seurat, assay = \"guidecapture\", kfunc = \"kmeans\", positive.quantile = 0.99)"
   ]
  },
  {
   "cell_type": "code",
   "execution_count": null,
   "id": "9bb14670",
   "metadata": {
    "papermill": {
     "duration": null,
     "end_time": null,
     "exception": null,
     "start_time": null,
     "status": "pending"
    },
    "tags": [],
    "vscode": {
     "languageId": "r"
    }
   },
   "outputs": [],
   "source": [
    "unique(seurat$guidecapture_secondID)"
   ]
  },
  {
   "cell_type": "code",
   "execution_count": null,
   "id": "fa18921d",
   "metadata": {
    "vscode": {
     "languageId": "r"
    }
   },
   "outputs": [],
   "source": [
    "head(seurat)"
   ]
  },
  {
   "cell_type": "markdown",
   "id": "4be1aa4d",
   "metadata": {
    "papermill": {
     "duration": null,
     "end_time": null,
     "exception": null,
     "start_time": null,
     "status": "pending"
    },
    "tags": []
   },
   "source": [
    "# Visualize"
   ]
  },
  {
   "cell_type": "code",
   "execution_count": null,
   "id": "3c86e53b",
   "metadata": {
    "papermill": {
     "duration": null,
     "end_time": null,
     "exception": null,
     "start_time": null,
     "status": "pending"
    },
    "tags": [],
    "vscode": {
     "languageId": "r"
    }
   },
   "outputs": [],
   "source": [
    "if (!exists(\"seurat\")) {\n",
    "    seurat <- LoadH5Seurat(h5_w_gcap_name)\n",
    "}"
   ]
  },
  {
   "cell_type": "code",
   "execution_count": null,
   "id": "2071bb21",
   "metadata": {
    "papermill": {
     "duration": null,
     "end_time": null,
     "exception": null,
     "start_time": null,
     "status": "pending"
    },
    "tags": [],
    "vscode": {
     "languageId": "r"
    }
   },
   "outputs": [],
   "source": [
    "# Global classification results\n",
    "n_cells <- length(seurat$guidecapture_classification.global)\n",
    "demux_counts      <- table(seurat$guidecapture_classification.global)\n",
    "demux_percentages <- round(demux_counts/n_cells, 2)\n",
    "\n",
    "demux_counts\n",
    "demux_percentages\n",
    "\n",
    "n_doublets <- demux_counts[[\"Doublet\"]]\n",
    "n_singlets <- demux_counts[[\"Singlet\"]]\n",
    "\n",
    "# capture_efficiency_1 <- 100*(n_doublets + n_singlets) / n_multiome\n",
    "# paste(\"Capture efficiency% = \", round(capture_efficiency_1), \"( norm by\", n_multiome, \")\")\n",
    "\n",
    "capture_efficiency_2 <- 100 * (n_doublets + n_singlets) / n_all_overlapping\n",
    "paste(\"Capture efficiency%\", round(capture_efficiency_2), \"( norm by\", n_all_overlapping, \")\")"
   ]
  },
  {
   "cell_type": "code",
   "execution_count": null,
   "id": "47913f51",
   "metadata": {
    "vscode": {
     "languageId": "r"
    }
   },
   "outputs": [],
   "source": [
    "demux_df <- as.data.frame(demux_counts)\n",
    "demux_df"
   ]
  },
  {
   "cell_type": "code",
   "execution_count": null,
   "id": "16583152",
   "metadata": {
    "vscode": {
     "languageId": "r"
    }
   },
   "outputs": [],
   "source": [
    "demux_df$Exp <- c(\"K562_rep2\")\n",
    "colnames(demux_df) <- c(\"Type\", \"Freq\", \"Exp\")\n",
    "demux_df"
   ]
  },
  {
   "cell_type": "code",
   "execution_count": null,
   "id": "c55c28ec",
   "metadata": {
    "vscode": {
     "languageId": "r"
    }
   },
   "outputs": [],
   "source": [
    "#Plot stacked bargraph for percentages\n",
    "options(repr.plot.width = 5, repr.plot.height = 7)\n",
    "demux_df$Type <- factor(demux_df$Type, levels = c(\"Negative\", \"Doublet\", \"Singlet\"))\n",
    "ggplot(demux_df, aes(fill=Type, y=Freq, x=Exp)) + geom_bar(position=\"fill\", stat=\"identity\", width=0.2) +\n",
    "    ggtitle(\"Guide Assignment\") +\n",
    "    scale_fill_brewer(palette = \"Set3\") +\n",
    "    theme(text = element_text(size = 20))\n"
   ]
  },
  {
   "cell_type": "code",
   "execution_count": null,
   "id": "8c9f4111",
   "metadata": {
    "papermill": {
     "duration": null,
     "end_time": null,
     "exception": null,
     "start_time": null,
     "status": "pending"
    },
    "tags": [],
    "vscode": {
     "languageId": "r"
    }
   },
   "outputs": [],
   "source": [
    "length(Cells(seurat))"
   ]
  },
  {
   "cell_type": "code",
   "execution_count": null,
   "id": "ff0fb1c8",
   "metadata": {
    "vscode": {
     "languageId": "r"
    }
   },
   "outputs": [],
   "source": [
    "head(seurat)"
   ]
  },
  {
   "cell_type": "code",
   "execution_count": null,
   "id": "94be2bf7",
   "metadata": {
    "papermill": {
     "duration": null,
     "end_time": null,
     "exception": null,
     "start_time": null,
     "status": "pending"
    },
    "tags": [],
    "vscode": {
     "languageId": "r"
    }
   },
   "outputs": [],
   "source": [
    "# Group cells based on the max HTO signal\n",
    "guide_names <- rownames(seurat[[\"guidecapture\"]])\n",
    "num_pcs     <- length(guide_names)"
   ]
  },
  {
   "cell_type": "code",
   "execution_count": null,
   "id": "252aff96",
   "metadata": {
    "papermill": {
     "duration": null,
     "end_time": null,
     "exception": null,
     "start_time": null,
     "status": "pending"
    },
    "tags": [],
    "vscode": {
     "languageId": "r"
    }
   },
   "outputs": [],
   "source": [
    "options(repr.plot.width = 20, repr.plot.height = 10)\n",
    "tf_list <- tfs_to_plot\n",
    "\n",
    "Idents(seurat) <- \"guidecapture_classification\"\n",
    "\n",
    "RidgePlot(\n",
    "    seurat,\n",
    "    assay = \"guidecapture\",\n",
    "    features = guide_names,\n",
    "    slot=\"counts\",\n",
    "    ncol = 4\n",
    ") + plot_annotation(title = \"Raw guide counts\") & theme(plot.title = element_text(hjust = 0.5, size = 20))\n",
    "\n",
    "RidgePlot(\n",
    "    seurat,\n",
    "    assay = \"guidecapture\",\n",
    "    features = guide_names,\n",
    "    ncol = 4\n",
    ") + plot_annotation(title = \"Normalized guide counts\") & theme(plot.title = element_text(hjust = 0.5, size = 20))\n",
    "\n",
    "RidgePlot(\n",
    "    seurat,\n",
    "    assay = \"SCT\",\n",
    "    features = tf_list,\n",
    "    ncol = 4,\n",
    "    y.max = .5\n",
    ")+ plot_annotation(title = \"Normalized transcript counts\") & theme(plot.title = element_text(hjust = 0.5, size = 20))"
   ]
  },
  {
   "cell_type": "code",
   "execution_count": null,
   "id": "1be1aee8",
   "metadata": {
    "papermill": {
     "duration": null,
     "end_time": null,
     "exception": null,
     "start_time": null,
     "status": "pending"
    },
    "tags": [],
    "vscode": {
     "languageId": "r"
    }
   },
   "outputs": [],
   "source": [
    "VlnPlot(\n",
    "    seurat,\n",
    "    assay = \"guidecapture\",\n",
    "    features = guide_names,\n",
    "    slot=\"counts\",\n",
    "    ncol = 4\n",
    ") + plot_annotation(title = \"Raw guide counts\", \n",
    "                    theme = theme(plot.title = element_text(hjust = 0.5, size = 20)))\n"
   ]
  },
  {
   "cell_type": "code",
   "execution_count": null,
   "id": "ce3be569",
   "metadata": {
    "papermill": {
     "duration": null,
     "end_time": null,
     "exception": null,
     "start_time": null,
     "status": "pending"
    },
    "tags": [],
    "vscode": {
     "languageId": "r"
    }
   },
   "outputs": [],
   "source": [
    "# FeatureScatter(seurat, feature1 = \"GATA5\", feature2 = \"MEOX1\")\n",
    "# FeatureScatter(seurat, feature1 = \"GATA5\", feature2 = \"NEUROG2\")\n",
    "# FeatureScatter(seurat, feature1 = \"MEOX1\", feature2 = \"NEUROG2\")"
   ]
  },
  {
   "cell_type": "code",
   "execution_count": null,
   "id": "c61e3c0a",
   "metadata": {
    "papermill": {
     "duration": null,
     "end_time": null,
     "exception": null,
     "start_time": null,
     "status": "pending"
    },
    "tags": [],
    "vscode": {
     "languageId": "r"
    }
   },
   "outputs": [],
   "source": [
    "Idents(seurat) <- \"guidecapture_classification.global\"\n",
    "VlnPlot(seurat, features = \"nCount_RNA\", pt.size = 0.1, log = TRUE)"
   ]
  },
  {
   "cell_type": "code",
   "execution_count": null,
   "id": "4e0abd4a",
   "metadata": {
    "papermill": {
     "duration": null,
     "end_time": null,
     "exception": null,
     "start_time": null,
     "status": "pending"
    },
    "tags": [],
    "vscode": {
     "languageId": "r"
    }
   },
   "outputs": [],
   "source": [
    "# First, we will remove negative cells from the object\n",
    "seurat_subset <- subset(seurat, idents = \"Negative\", invert = TRUE)\n",
    "\n",
    "# Calculate a tSNE embedding of the HTO data\n",
    "DefaultAssay(seurat_subset) <- \"guidecapture\""
   ]
  },
  {
   "cell_type": "code",
   "execution_count": null,
   "id": "d50f85ac",
   "metadata": {
    "papermill": {
     "duration": null,
     "end_time": null,
     "exception": null,
     "start_time": null,
     "status": "pending"
    },
    "tags": [],
    "vscode": {
     "languageId": "r"
    }
   },
   "outputs": [],
   "source": [
    "\n",
    "seurat_subset <-\n",
    "    ScaleData(seurat_subset, features = guide_names, verbose = FALSE)\n",
    "\n",
    "# seurat_subset <- RunPCA(\n",
    "#     seurat_subset,\n",
    "#     npcs = num_pcs,\n",
    "#     ndims.print = 1:num_pcs,\n",
    "#     features = guide_names,\n",
    "#     approx = FALSE\n",
    "# )\n",
    "\n",
    "# seurat_subset <-\n",
    "#     RunTSNE(\n",
    "#         seurat_subset,\n",
    "#         dims = 1:num_pcs,\n",
    "#         perplexity = 100,\n",
    "#         check_duplicates = FALSE\n",
    "#     )\n",
    "\n",
    "# seurat_subset <-\n",
    "#     RunUMAP(seurat_subset, dims = 1:num_pcs)\n",
    "\n",
    "#DimPlot(seurat_subset, reduction = \"tsne\")"
   ]
  },
  {
   "cell_type": "markdown",
   "id": "c5a537bb",
   "metadata": {},
   "source": [
    "# Figure 1E"
   ]
  },
  {
   "cell_type": "code",
   "execution_count": null,
   "id": "184e0ef6",
   "metadata": {
    "papermill": {
     "duration": null,
     "end_time": null,
     "exception": null,
     "start_time": null,
     "status": "pending"
    },
    "tags": [],
    "vscode": {
     "languageId": "r"
    }
   },
   "outputs": [],
   "source": [
    "library(hrbrthemes)\n",
    "library(viridis)\n",
    "options(repr.plot.width = 10, repr.plot.height = 5)\n",
    "HTOHeatmap(seurat, assay = \"guidecapture\") + theme(\n",
    "    axis.text = element_text(size = 18, color = \"black\")) + scale_fill_viridis(discrete=FALSE)"
   ]
  },
  {
   "cell_type": "code",
   "execution_count": null,
   "id": "42ba6125",
   "metadata": {
    "vscode": {
     "languageId": "r"
    }
   },
   "outputs": [],
   "source": [
    "seurat[[]]"
   ]
  },
  {
   "cell_type": "code",
   "execution_count": null,
   "id": "24b8fc08",
   "metadata": {
    "papermill": {
     "duration": null,
     "end_time": null,
     "exception": null,
     "start_time": null,
     "status": "pending"
    },
    "tags": [],
    "vscode": {
     "languageId": "r"
    }
   },
   "outputs": [],
   "source": [
    "# SaveH5Seurat(seurat, h5_w_gcap_name, overwrite = TRUE, verbose = FALSE)"
   ]
  },
  {
   "cell_type": "markdown",
   "id": "a0b84f83",
   "metadata": {
    "papermill": {
     "duration": null,
     "end_time": null,
     "exception": null,
     "start_time": null,
     "status": "pending"
    },
    "tags": []
   },
   "source": [
    "# Inspect results"
   ]
  },
  {
   "cell_type": "code",
   "execution_count": null,
   "id": "d43f66c4",
   "metadata": {
    "papermill": {
     "duration": null,
     "end_time": null,
     "exception": null,
     "start_time": null,
     "status": "pending"
    },
    "tags": [],
    "vscode": {
     "languageId": "r"
    }
   },
   "outputs": [],
   "source": [
    "# Label each cell with the number of guides detected in it by HTOdemux\n",
    "seurat$perturb_targets_detected_in_cell <- colSums(sapply(seurat$guidecapture_classification, str_detect, tfs_w_ntctl))"
   ]
  },
  {
   "cell_type": "code",
   "execution_count": null,
   "id": "b7494314",
   "metadata": {
    "papermill": {
     "duration": null,
     "end_time": null,
     "exception": null,
     "start_time": null,
     "status": "pending"
    },
    "tags": [],
    "vscode": {
     "languageId": "r"
    }
   },
   "outputs": [],
   "source": [
    "# Split the surat obj into singlets, doublets, negatives\n",
    "# Singlets have only one target gene detected, but can have both guides targeting it.\n",
    "seurat_negatives <- subset(seurat, idents = \"Negative\")\n",
    "seurat_singlets  <- subset(seurat, perturb_targets_detected_in_cell == 1)\n",
    "seurat_doublets  <- subset(seurat, perturb_targets_detected_in_cell > 1)"
   ]
  },
  {
   "cell_type": "code",
   "execution_count": null,
   "id": "14a05175",
   "metadata": {
    "papermill": {
     "duration": null,
     "end_time": null,
     "exception": null,
     "start_time": null,
     "status": "pending"
    },
    "tags": [],
    "vscode": {
     "languageId": "r"
    }
   },
   "outputs": [],
   "source": [
    "# Assign the target gene name to singlets\n",
    "x <- seurat_singlets$guidecapture_classification\n",
    "target_assignments = sapply(tfs_w_ntctl, function(y) grep(y,x))\n",
    "\n",
    "empty_vec = vector(\"character\", length(x))\n",
    "for(tf in names(target_assignments)) {\n",
    "    indexes = target_assignments[[tf]]\n",
    "    empty_vec[indexes] = tf\n",
    "}"
   ]
  },
  {
   "cell_type": "code",
   "execution_count": null,
   "id": "7962f003",
   "metadata": {
    "papermill": {
     "duration": null,
     "end_time": null,
     "exception": null,
     "start_time": null,
     "status": "pending"
    },
    "tags": [],
    "vscode": {
     "languageId": "r"
    }
   },
   "outputs": [],
   "source": [
    "Idents(seurat_singlets) <- empty_vec\n",
    "Idents(seurat_doublets) <- seurat_doublets@meta.data$guidecapture_classification"
   ]
  },
  {
   "cell_type": "markdown",
   "id": "b71f044f",
   "metadata": {
    "papermill": {
     "duration": null,
     "end_time": null,
     "exception": null,
     "start_time": null,
     "status": "pending"
    },
    "tags": []
   },
   "source": [
    "### Singlets"
   ]
  },
  {
   "cell_type": "code",
   "execution_count": null,
   "id": "1f4284fc",
   "metadata": {
    "papermill": {
     "duration": null,
     "end_time": null,
     "exception": null,
     "start_time": null,
     "status": "pending"
    },
    "tags": [],
    "vscode": {
     "languageId": "r"
    }
   },
   "outputs": [],
   "source": [
    "singlet_barcodes <- Cells(seurat_singlets)\n",
    "select_singlets  <- df_guide$barcode_dash %in% singlet_barcodes\n",
    "df_singlets      <- df_guide[select_singlets, ]"
   ]
  },
  {
   "cell_type": "code",
   "execution_count": null,
   "id": "8e9206e0",
   "metadata": {
    "papermill": {
     "duration": null,
     "end_time": null,
     "exception": null,
     "start_time": null,
     "status": "pending"
    },
    "tags": [],
    "vscode": {
     "languageId": "r"
    }
   },
   "outputs": [],
   "source": [
    "options(repr.plot.width = 16, repr.plot.height = 6)\n",
    "\n",
    "plot_n_guides <- ggplot(df_singlets, aes(x = n_guides)) +\n",
    "    geom_histogram(binwidth = 1) +\n",
    "    labs(title = \"Singlets, guide counts\", x = \"#guides captured\") +\n",
    "    labs(y = \"#cells\")\n",
    "\n",
    "plot_dominant <- ggplot(df_singlets, aes(x = percent_dominant_gene)) +\n",
    "    geom_histogram(binwidth = 1) +\n",
    "    labs(title = \"Singlets, %dominant gene\", x = \"%dominant gene\") +\n",
    "    labs(y = \"#cells\")\n",
    "\n",
    "plot_n_guides "
   ]
  },
  {
   "cell_type": "markdown",
   "id": "39f8ae21",
   "metadata": {
    "papermill": {
     "duration": null,
     "end_time": null,
     "exception": null,
     "start_time": null,
     "status": "pending"
    },
    "tags": []
   },
   "source": [
    "### Negatives"
   ]
  },
  {
   "cell_type": "code",
   "execution_count": null,
   "id": "a6920f79",
   "metadata": {
    "papermill": {
     "duration": null,
     "end_time": null,
     "exception": null,
     "start_time": null,
     "status": "pending"
    },
    "tags": [],
    "vscode": {
     "languageId": "r"
    }
   },
   "outputs": [],
   "source": [
    "negative_barcodes <- Cells(seurat_negatives)\n",
    "select_negatives  <- df_guide$barcode_dash %in% negative_barcodes\n",
    "df_negatives      <- df_guide[select_negatives, ]"
   ]
  },
  {
   "cell_type": "code",
   "execution_count": null,
   "id": "983e1a10",
   "metadata": {
    "papermill": {
     "duration": null,
     "end_time": null,
     "exception": null,
     "start_time": null,
     "status": "pending"
    },
    "tags": [],
    "vscode": {
     "languageId": "r"
    }
   },
   "outputs": [],
   "source": [
    "options(repr.plot.width = 16, repr.plot.height = 6)\n",
    "\n",
    "plot_n_guides <- ggplot(df_negatives, aes(x = n_guides)) +\n",
    "    geom_histogram(binwidth = 1) +\n",
    "    labs(title = \"Negatives, guide counts\", x = \"#guides captured\") +\n",
    "    labs(y = \"#cells\")\n",
    "\n",
    "plot_dominant <- ggplot(df_negatives, aes(x = percent_dominant_gene)) +\n",
    "    geom_histogram(binwidth = 1) +\n",
    "    labs(title = \"Negatives, %dominant gene\", x = \"%dominant gene\") +\n",
    "    labs(y = \"#cells\")\n",
    "\n",
    "plot_n_guides | plot_dominant"
   ]
  },
  {
   "cell_type": "code",
   "execution_count": null,
   "id": "e15f4db8",
   "metadata": {
    "papermill": {
     "duration": null,
     "end_time": null,
     "exception": null,
     "start_time": null,
     "status": "pending"
    },
    "tags": [],
    "vscode": {
     "languageId": "r"
    }
   },
   "outputs": [],
   "source": [
    "sample_n(df_negatives, 10)"
   ]
  },
  {
   "cell_type": "code",
   "execution_count": null,
   "id": "fb219392",
   "metadata": {
    "papermill": {
     "duration": null,
     "end_time": null,
     "exception": null,
     "start_time": null,
     "status": "pending"
    },
    "tags": [],
    "vscode": {
     "languageId": "r"
    }
   },
   "outputs": [],
   "source": [
    "#hist(df_singlets$GATA5)"
   ]
  },
  {
   "cell_type": "code",
   "execution_count": null,
   "id": "ffa73b03",
   "metadata": {
    "papermill": {
     "duration": null,
     "end_time": null,
     "exception": null,
     "start_time": null,
     "status": "pending"
    },
    "tags": [],
    "vscode": {
     "languageId": "r"
    }
   },
   "outputs": [],
   "source": [
    "library(cluster)\n",
    "library(fitdistrplus)\n",
    "\n",
    "MaxN <- function(x, N = 2){\n",
    "  len <- length(x)\n",
    "  if (N > len) {\n",
    "    warning('N greater than length(x).  Setting N=length(x)')\n",
    "    N <- length(x)\n",
    "  }\n",
    "  sort(x, partial = len - N + 1)[len - N + 1]\n",
    "}\n",
    "\n",
    "myHTODemux <- function(\n",
    "  object,\n",
    "  assay = \"HTO\",\n",
    "  positive.quantile = 0.99,\n",
    "  init = NULL,\n",
    "  nstarts = 100,\n",
    "  kfunc = \"kmeans\",\n",
    "  nsamples = 100,\n",
    "  seed = 42,\n",
    "  verbose = TRUE\n",
    ") {\n",
    "  if (!is.null(x = seed)) {\n",
    "    set.seed(seed = seed)\n",
    "  }\n",
    "  #initial clustering\n",
    "  assay <- assay %||% DefaultAssay(object = object)\n",
    "  data <- GetAssayData(object = object, assay = assay)\n",
    "  counts <- GetAssayData(\n",
    "    object = object,\n",
    "    assay = assay,\n",
    "    slot = 'counts'\n",
    "  )[, colnames(x = object)]\n",
    "  counts <- as.matrix(x = counts)\n",
    "  ncenters <- init %||% (nrow(x = data) + 1)\n",
    "  switch(\n",
    "    EXPR = kfunc,\n",
    "    'kmeans' = {\n",
    "      init.clusters <- kmeans(\n",
    "        x = t(x = GetAssayData(object = object, assay = assay)),\n",
    "        centers = ncenters,\n",
    "        nstart = nstarts\n",
    "      )\n",
    "      #identify positive and negative signals for all HTO\n",
    "      Idents(object = object, cells = names(x = init.clusters$cluster)) <- init.clusters$cluster\n",
    "    },\n",
    "    'clara' = {\n",
    "      #use fast k-medoid clustering\n",
    "      init.clusters <- clara(\n",
    "        x = t(x = GetAssayData(object = object, assay = assay)),\n",
    "        k = ncenters,\n",
    "        samples = nsamples\n",
    "      )\n",
    "      #identify positive and negative signals for all HTO\n",
    "      Idents(object = object, cells = names(x = init.clusters$clustering), drop = TRUE) <- init.clusters$clustering\n",
    "    },\n",
    "    stop(\"Unknown k-means function \", kfunc, \", please choose from 'kmeans' or 'clara'\")\n",
    "  )\n",
    "  #average hto signals per cluster\n",
    "  #work around so we don't average all the RNA levels which takes time\n",
    "  average.expression <- AverageExpression(\n",
    "    object = object,\n",
    "    assays = assay,\n",
    "    verbose = FALSE\n",
    "  )[[assay]]\n",
    "  #checking for any cluster with all zero counts for any barcode\n",
    "  if (sum(average.expression == 0) > 0) {\n",
    "    stop(\"Cells with zero counts exist as a cluster.\")\n",
    "  }\n",
    "  #create a matrix to store classification result\n",
    "  discrete <- GetAssayData(object = object, assay = assay)\n",
    "  discrete[discrete > 0] <- 0\n",
    "  # for each HTO, we will use the minimum cluster for fitting\n",
    "  for (iter in rownames(x = data)) {\n",
    "    values <- counts[iter, colnames(object)]\n",
    "    #commented out if we take all but the top cluster as background\n",
    "    #values_negative=values[setdiff(object@cell.names,WhichCells(object,which.max(average.expression[iter,])))]\n",
    "    values.use <- values[WhichCells(\n",
    "      object = object,\n",
    "      idents = levels(x = Idents(object = object))[[which.min(x = average.expression[iter, ])]]\n",
    "    )]\n",
    "    fit <- suppressWarnings(expr = fitdist(data = values.use, distr = \"nbinom\"))\n",
    "    cutoff <- as.numeric(x = quantile(x = fit, probs = positive.quantile)$quantiles[1])\n",
    "    discrete[iter, names(x = which(x = values > cutoff))] <- 1\n",
    "    if (verbose) {\n",
    "      message(paste0(\"Cutoff for \", iter, \" : \", cutoff, \" reads\"))\n",
    "    }\n",
    "  }\n",
    "  # now assign cells to HTO based on discretized values\n",
    "  npositive <- colSums(x = discrete)\n",
    "  classification.global <- npositive\n",
    "  classification.global[npositive == 0] <- \"Negative\"\n",
    "  classification.global[npositive == 1] <- \"Singlet\"\n",
    "  classification.global[npositive > 1] <- \"Doublet\"\n",
    "  donor.id = rownames(x = data)\n",
    "  hash.max <- apply(X = data, MARGIN = 2, FUN = max)\n",
    "  hash.maxID <- apply(X = data, MARGIN = 2, FUN = which.max)\n",
    "  hash.second <- apply(X = data, MARGIN = 2, FUN = MaxN, N = 2)\n",
    "  hash.maxID <- as.character(x = donor.id[sapply(\n",
    "    X = 1:ncol(x = data),\n",
    "    FUN = function(x) {\n",
    "      return(which(x = data[, x] == hash.max[x])[1])\n",
    "    }\n",
    "  )])\n",
    "  hash.secondID <- as.character(x = donor.id[sapply(\n",
    "    X = 1:ncol(x = data),\n",
    "    FUN = function(x) {\n",
    "      return(which(x = data[, x] == hash.second[x])[1])\n",
    "    }\n",
    "  )])\n",
    "  hash.margin <- hash.max - hash.second\n",
    "  doublet_id <- sapply(\n",
    "    X = 1:length(x = hash.maxID),\n",
    "    FUN = function(x) {\n",
    "      return(paste(sort(x = c(hash.maxID[x], hash.secondID[x])), collapse = \"_\"))\n",
    "    }\n",
    "  )\n",
    "  # doublet_names <- names(x = table(doublet_id))[-1] # Not used\n",
    "  classification <- classification.global\n",
    "  classification[classification.global == \"Negative\"] <- \"Negative\"\n",
    "  classification[classification.global == \"Singlet\"] <- hash.maxID[which(x = classification.global == \"Singlet\")]\n",
    "  classification[classification.global == \"Doublet\"] <- doublet_id[which(x = classification.global == \"Doublet\")]\n",
    "  classification.metadata <- data.frame(\n",
    "    hash.maxID,\n",
    "    hash.secondID,\n",
    "    hash.margin,\n",
    "    classification,\n",
    "    classification.global\n",
    "  )\n",
    "  colnames(x = classification.metadata) <- paste(\n",
    "    assay,\n",
    "    c('maxID', 'secondID', 'margin', 'classification', 'classification.global'),\n",
    "    sep = '_'\n",
    "  )\n",
    "  object <- AddMetaData(object = object, metadata = classification.metadata)\n",
    "  Idents(object) <- paste0(assay, '_classification')\n",
    "  # Idents(object, cells = rownames(object@meta.data[object@meta.data$classification.global == \"Doublet\", ])) <- \"Doublet\"\n",
    "  doublets <- rownames(x = object[[]])[which(object[[paste0(assay, \"_classification.global\")]] == \"Doublet\")]\n",
    "  Idents(object = object, cells = doublets) <- 'Doublet'\n",
    "  # object@meta.data$hash.ID <- Idents(object)\n",
    "  object$hash.ID <- Idents(object = object)\n",
    "  return(discrete)\n",
    "}\n"
   ]
  },
  {
   "cell_type": "code",
   "execution_count": null,
   "id": "58ebee65",
   "metadata": {
    "papermill": {
     "duration": null,
     "end_time": null,
     "exception": null,
     "start_time": null,
     "status": "pending"
    },
    "scrolled": false,
    "tags": [],
    "vscode": {
     "languageId": "r"
    }
   },
   "outputs": [],
   "source": [
    "seurat_alt <- subset(seurat, cells = Cells(seurat))\n",
    "disc <- myHTODemux(seurat_alt, assay = \"guidecapture\", kfunc = \"kmeans\", positive.quantile = 0.99, , seed = 42)"
   ]
  },
  {
   "cell_type": "code",
   "execution_count": null,
   "id": "492297ba",
   "metadata": {
    "vscode": {
     "languageId": "r"
    }
   },
   "outputs": [],
   "source": [
    "# SaveH5Seurat(seurat_singlets, h5_w_gcap_name, overwrite = TRUE, verbose = FALSE)"
   ]
  },
  {
   "cell_type": "markdown",
   "id": "2a452d7d",
   "metadata": {
    "papermill": {
     "duration": null,
     "end_time": null,
     "exception": null,
     "start_time": null,
     "status": "pending"
    },
    "tags": []
   },
   "source": [
    "# Visualize guides by clusters"
   ]
  },
  {
   "cell_type": "markdown",
   "id": "0e6299c1",
   "metadata": {
    "papermill": {
     "duration": null,
     "end_time": null,
     "exception": null,
     "start_time": null,
     "status": "pending"
    },
    "tags": []
   },
   "source": [
    "## Singlets only"
   ]
  },
  {
   "cell_type": "code",
   "execution_count": null,
   "id": "ca5e9605",
   "metadata": {
    "papermill": {
     "duration": null,
     "end_time": null,
     "exception": null,
     "start_time": null,
     "status": "pending"
    },
    "scrolled": true,
    "tags": [],
    "vscode": {
     "languageId": "r"
    }
   },
   "outputs": [],
   "source": [
    "options(repr.plot.width = 23, repr.plot.height = 8)\n",
    "#Idents(seurat_singlets) <- seurat_singlets@meta.data$guidecapture_classification\n",
    "\n",
    "p1 <- DimPlot(seurat_singlets, reduction = \"umap.rna\", label = TRUE, label.size = 6, repel = TRUE) + ggtitle(\"RNA\")\n",
    "p2 <- DimPlot(seurat_singlets, reduction = \"umap.atac\", label = TRUE, label.size = 6, repel = TRUE) + ggtitle(\"ATAC\")\n",
    "p3 <- DimPlot(seurat_singlets, reduction = \"wnn.umap\", label = TRUE, label.size = 6, repel = TRUE) + ggtitle(\"WNN\")\n",
    "p1 + p2 + p3 & plot_annotation(title = \"Guide Capture, singlets\") & \n",
    "theme(plot.title = element_text(hjust = 0.5, size = 20)) +\n",
    "theme(axis.title = element_text(size = 18))   "
   ]
  },
  {
   "cell_type": "code",
   "execution_count": null,
   "id": "68fce226",
   "metadata": {
    "vscode": {
     "languageId": "r"
    }
   },
   "outputs": [],
   "source": [
    "options(repr.plot.width = 7, repr.plot.height = 6)\n",
    "p1"
   ]
  },
  {
   "cell_type": "code",
   "execution_count": null,
   "id": "249852b6",
   "metadata": {
    "vscode": {
     "languageId": "r"
    }
   },
   "outputs": [],
   "source": [
    "p2"
   ]
  },
  {
   "cell_type": "code",
   "execution_count": null,
   "id": "1969653e",
   "metadata": {
    "vscode": {
     "languageId": "r"
    }
   },
   "outputs": [],
   "source": [
    "p3"
   ]
  },
  {
   "cell_type": "markdown",
   "id": "8d5acd79",
   "metadata": {},
   "source": [
    "# Draw barplots"
   ]
  },
  {
   "cell_type": "code",
   "execution_count": null,
   "id": "30d641d3",
   "metadata": {
    "vscode": {
     "languageId": "r"
    }
   },
   "outputs": [],
   "source": [
    "singlet_counts <- length(Cells(x = seurat_singlets))\n",
    "singlet_counts\n",
    "doublet_counts <- length(Cells(x = seurat_doublets))\n",
    "doublet_counts\n",
    "negative_counts = length(Cells(x = seurat)) - singlet_counts - doublet_counts\n",
    "negative_counts\n",
    "singlet_1PS <- n_singlets\n",
    "singlet_2PS = singlet_counts - n_singlets"
   ]
  },
  {
   "cell_type": "code",
   "execution_count": null,
   "id": "8a14da7e",
   "metadata": {
    "vscode": {
     "languageId": "r"
    }
   },
   "outputs": [],
   "source": [
    "singlet_1PS\n",
    "singlet_2PS"
   ]
  },
  {
   "cell_type": "code",
   "execution_count": null,
   "id": "f05b3f56",
   "metadata": {
    "vscode": {
     "languageId": "r"
    }
   },
   "outputs": [],
   "source": [
    "Type <- c(\"Singlet_1_PS\", \"Singlet_2_PS\", \"Doublet\", \"Negative\")\n",
    "Counts <- c(singlet_1PS, singlet_2PS, doublet_counts, negative_counts)\n",
    "df <- data.frame(Type, Counts)\n",
    "print(df)"
   ]
  },
  {
   "cell_type": "code",
   "execution_count": null,
   "id": "33318b7a",
   "metadata": {
    "scrolled": true,
    "vscode": {
     "languageId": "r"
    }
   },
   "outputs": [],
   "source": [
    "df$Exp <- c(\"Cond2\")\n",
    "colnames(df) <- c(\"Type\", \"Freq\", \"Exp\")\n",
    "df"
   ]
  },
  {
   "cell_type": "code",
   "execution_count": null,
   "id": "366ca1ab",
   "metadata": {
    "vscode": {
     "languageId": "r"
    }
   },
   "outputs": [],
   "source": [
    "write.csv(df, file = \"cond2_cell_counts.tsv\", sep = \"\\t\", row.names = FALSE)"
   ]
  },
  {
   "cell_type": "code",
   "execution_count": null,
   "id": "4a8122f6",
   "metadata": {
    "scrolled": true,
    "vscode": {
     "languageId": "r"
    }
   },
   "outputs": [],
   "source": [
    "options(repr.plot.width = 10, repr.plot.height = 4)\n",
    "df$Type <- factor(df$Type, levels = c(\"Negative\", \"Doublet\", \"Singlet_2_PS\", \"Singlet_1_PS\"))\n",
    "ggplot(df, aes(fill=Type, y=Exp, x=Freq)) + geom_bar(position=\"fill\", stat=\"identity\", width=0.2) +\n",
    "    ggtitle(\"Guide Assignment\") +\n",
    "    scale_fill_brewer(palette = \"Set3\") +\n",
    "\n",
    "theme(text = element_text(size = 20)) + theme(panel.background = element_rect(fill = 'white'),\n",
    "                                                 panel.grid.major = element_line(color = 'grey', linetype = 'dotted'))"
   ]
  },
  {
   "cell_type": "code",
   "execution_count": null,
   "id": "5aed98c9",
   "metadata": {
    "vscode": {
     "languageId": "r"
    }
   },
   "outputs": [],
   "source": [
    "my_data <- df  # Create a new variable with a different name\n",
    "\n",
    "options(repr.plot.width = 10, repr.plot.height = 4)\n",
    "my_data$Type <- factor(my_data$Type, levels = c(\"Negative\", \"Doublet\", \"Singlet_2_PS\", \"Singlet_1_PS\"))\n",
    "library(ggplot2)\n",
    "\n",
    "# Create the stacked bar chart\n",
    "p <- ggplot(my_data, aes(fill = Type, y = Exp, x = Freq)) +\n",
    "  geom_bar(position = \"fill\", stat = \"identity\", width = 0.2) +\n",
    "  ggtitle(\"Guide Assignment\") +\n",
    "  scale_fill_brewer(palette = \"Set3\") +\n",
    "  theme(\n",
    "    text = element_text(size = 20),\n",
    "    panel.background = element_rect(fill = 'white'),\n",
    "    panel.grid.major = element_line(color = 'grey', linetype = 'dotted')\n",
    "  )\n",
    "\n",
    "# Add value labels\n",
    "p + geom_text(aes(label = scales::percent(Exp), y = Exp), position = position_fill(vjust = 0.5))"
   ]
  },
  {
   "cell_type": "markdown",
   "id": "35315c92",
   "metadata": {},
   "source": [
    "# Doublets"
   ]
  },
  {
   "cell_type": "code",
   "execution_count": null,
   "id": "92fd26f0",
   "metadata": {
    "papermill": {
     "duration": null,
     "end_time": null,
     "exception": null,
     "start_time": null,
     "status": "pending"
    },
    "tags": [],
    "vscode": {
     "languageId": "r"
    }
   },
   "outputs": [],
   "source": [
    "options(repr.plot.width = 16, repr.plot.height = 6)\n",
    "p1 <- DimPlot(seurat_doublets, reduction = \"umap.rna\", label = FALSE, label.size = 6) + ggtitle(\"RNA\")\n",
    "p2 <- DimPlot(seurat_doublets, reduction = \"umap.atac\", label = FALSE, label.size = 6) + ggtitle(\"ATAC\")\n",
    "p1 + p2 & plot_annotation(title = \"Guide Capture, doublets\") &\n",
    "theme(plot.title = element_text(hjust = 0.5, size = 20))\n",
    "\n",
    "#p3 <- DimPlot(seurat_doublets, reduction = \"wnn.umap\", label = TRUE, label.size = 6, repel = TRUE) + ggtitle(\"WNN\")"
   ]
  },
  {
   "cell_type": "code",
   "execution_count": null,
   "id": "f428d597",
   "metadata": {
    "papermill": {
     "duration": null,
     "end_time": null,
     "exception": null,
     "start_time": null,
     "status": "pending"
    },
    "scrolled": false,
    "tags": [],
    "vscode": {
     "languageId": "r"
    }
   },
   "outputs": [],
   "source": [
    "options(repr.plot.width = 60, repr.plot.height = 60)\n",
    "tf_list <- tfs_to_plot\n",
    "\n",
    "FeaturePlot(\n",
    "    seurat_singlets,\n",
    "    features = tf_list, \n",
    "    split.by = 'ident', \n",
    "    reduction = 'umap.rna', \n",
    "    cols = c(\"grey\", \"red\"),\n",
    "    keep.scale = \"feature\"\n",
    ")"
   ]
  },
  {
   "cell_type": "code",
   "execution_count": null,
   "id": "95f23f93",
   "metadata": {
    "papermill": {
     "duration": null,
     "end_time": null,
     "exception": null,
     "start_time": null,
     "status": "pending"
    },
    "tags": [],
    "vscode": {
     "languageId": "r"
    }
   },
   "outputs": [],
   "source": [
    "options(repr.plot.width = 22, repr.plot.height = 12)\n",
    "guide_list <- gsub(\"_\", \"-\", guides_to_plot)\n",
    "DefaultAssay(seurat_singlets) <- \"guidecapture\"\n",
    "\n",
    "# FeaturePlot(\n",
    "#     seurat_singlets,\n",
    "#     features = guide_list,\n",
    "#     reduction = 'umap.rna',\n",
    "#     cols = c(\"grey\", \"red\"),\n",
    "#     keep.scale = \"feature\",\n",
    "#     ncol = length(guide_list)/2\n",
    "# ) +\n",
    "# plot_annotation(title = \"Guide Capture, singlets\") &\n",
    "# theme(plot.title = element_text(hjust = 0.5, size = 20))\n",
    "\n",
    "options(repr.plot.width = 22, repr.plot.height = 10)\n",
    "tf_list <- c(tfs_to_plot, \"POU5F1\")\n",
    "DefaultAssay(seurat_singlets) <- \"SCT\"\n",
    "FeaturePlot(\n",
    "    seurat_singlets,\n",
    "    features = tf_list,\n",
    "    reduction = 'umap.rna',\n",
    "    cols = c(\"grey\", \"red\"),\n",
    "    keep.scale = \"feature\",\n",
    "    ncol = 4\n",
    ") +\n",
    "plot_annotation(title = \"RNA, singlets\") &\n",
    "theme(plot.title = element_text(hjust = 0.5, size = 20))\n",
    "\n"
   ]
  },
  {
   "cell_type": "code",
   "execution_count": null,
   "id": "e79ce221",
   "metadata": {
    "papermill": {
     "duration": null,
     "end_time": null,
     "exception": null,
     "start_time": null,
     "status": "pending"
    },
    "tags": [],
    "vscode": {
     "languageId": "r"
    }
   },
   "outputs": [],
   "source": [
    "tfs_to_plot"
   ]
  },
  {
   "cell_type": "code",
   "execution_count": null,
   "id": "445cc574",
   "metadata": {
    "papermill": {
     "duration": null,
     "end_time": null,
     "exception": null,
     "start_time": null,
     "status": "pending"
    },
    "tags": [],
    "vscode": {
     "languageId": "r"
    }
   },
   "outputs": [],
   "source": [
    "# library(patchwork)\n",
    "# options(repr.plot.width = 22, repr.plot.height = 12)\n",
    "# tf_list <- tfs_to_plot\n",
    "# guide_list <- gsub(\"_\", \"-\", guides_to_plot)\n",
    "\n",
    "# DefaultAssay(seurat_singlets) <- \"guidecapture\"\n",
    "# FeaturePlot(\n",
    "#     seurat_singlets,\n",
    "#     features = guide_list,\n",
    "#     reduction = 'umap.atac',\n",
    "#     cols = c(\"grey\", \"red\"),\n",
    "#     keep.scale = \"all\",\n",
    "#     ncol = length(guide_list)/2\n",
    "# ) +\n",
    "# plot_annotation(title = \"Guide Capture\") &\n",
    "# theme(plot.title = element_text(hjust = 0.5, size = 20))\n",
    "\n",
    "# FeaturePlot(\n",
    "#     seurat_singlets,\n",
    "#     features =guide_list,\n",
    "#     reduction = 'umap.rna',\n",
    "#     cols = c(\"grey\", \"red\"),\n",
    "#     keep.scale = \"all\",\n",
    "#     ncol = length(guide_list)/2\n",
    "# ) +\n",
    "# plot_annotation(title = \"Guide Capture\") &\n",
    "# theme(plot.title = element_text(hjust = 0.5, size = 20))\n",
    "\n",
    "# FeaturePlot(\n",
    "#     seurat_singlets,\n",
    "#     features = guide_list,\n",
    "#     reduction = 'wnn.umap',\n",
    "#     cols = c(\"grey\", \"red\"),\n",
    "#     keep.scale = \"all\",\n",
    "#     ncol = length(guide_list)/2\n",
    "# ) +\n",
    "# plot_annotation(title = \"Guide Capture\") &\n",
    "# theme(plot.title = element_text(hjust = 0.5, size = 20))\n",
    "\n"
   ]
  },
  {
   "cell_type": "code",
   "execution_count": null,
   "id": "b77c2dbb",
   "metadata": {
    "papermill": {
     "duration": null,
     "end_time": null,
     "exception": null,
     "start_time": null,
     "status": "pending"
    },
    "tags": [],
    "vscode": {
     "languageId": "r"
    }
   },
   "outputs": [],
   "source": [
    "\n",
    "options(repr.plot.width = 18, repr.plot.height = 18)\n",
    "tf_list <- tfs_to_plot\n",
    "DefaultAssay(seurat_singlets) <- \"SCT\"\n",
    "\n",
    "FeaturePlot(\n",
    "    seurat_singlets,\n",
    "    features = tf_list,\n",
    "    reduction = 'umap.rna',\n",
    "    cols = c(\"grey\", \"red\"),\n",
    "    keep.scale = \"all\",\n",
    "    ncol = 4\n",
    ") +\n",
    "plot_annotation(title = \"RNA\") &\n",
    "theme(plot.title = element_text(hjust = 0.5, size = 20))\n",
    "\n",
    "FeaturePlot(\n",
    "    seurat_singlets,\n",
    "    features = tf_list,\n",
    "    reduction = 'umap.atac',\n",
    "    cols = c(\"grey\", \"red\"),\n",
    "    keep.scale = \"all\",\n",
    "    ncol = 4\n",
    ") +\n",
    "plot_annotation(title = \"RNA\") &\n",
    "theme(plot.title = element_text(hjust = 0.5, size = 20))\n",
    "\n",
    "FeaturePlot(\n",
    "    seurat_singlets,\n",
    "    features = tf_list,\n",
    "    reduction = 'wnn.umap',\n",
    "    cols = c(\"grey\", \"red\"),\n",
    "    keep.scale = \"all\",\n",
    "    ncol = 4\n",
    ") +\n",
    "plot_annotation(title = \"RNA\") &\n",
    "theme(plot.title = element_text(hjust = 0.5, size = 20))"
   ]
  },
  {
   "cell_type": "markdown",
   "id": "e1b05194",
   "metadata": {
    "papermill": {
     "duration": null,
     "end_time": null,
     "exception": null,
     "start_time": null,
     "status": "pending"
    },
    "tags": []
   },
   "source": [
    "## Doublets only"
   ]
  },
  {
   "cell_type": "code",
   "execution_count": null,
   "id": "d8854752",
   "metadata": {
    "papermill": {
     "duration": null,
     "end_time": null,
     "exception": null,
     "start_time": null,
     "status": "pending"
    },
    "tags": [],
    "vscode": {
     "languageId": "r"
    }
   },
   "outputs": [],
   "source": [
    "options(repr.plot.width = 8, repr.plot.height = 8)\n",
    "\n",
    "Idents(seurat_doublets) <- seurat_doublets@meta.data$guidecapture_classification\n",
    "\n",
    "plot <- DimPlot(\n",
    "    seurat_doublets,\n",
    "    reduction = \"umap.rna\"\n",
    ")\n",
    "LabelClusters(\n",
    "    plot = plot,\n",
    "    id = \"ident\"\n",
    ")"
   ]
  },
  {
   "cell_type": "code",
   "execution_count": null,
   "id": "5ce1b9f1",
   "metadata": {
    "papermill": {
     "duration": null,
     "end_time": null,
     "exception": null,
     "start_time": null,
     "status": "pending"
    },
    "tags": [],
    "vscode": {
     "languageId": "r"
    }
   },
   "outputs": [],
   "source": [
    "# options(repr.plot.width = 48, repr.plot.height = 15)\n",
    "# tf_list <- tfs_to_plot\n",
    "# DefaultAssay(seurat_singlets) <- \"SCT\"\n",
    "\n",
    "# FeaturePlot(\n",
    "#     seurat_doublets,\n",
    "#     features = tf_list, \n",
    "#     split.by = 'ident', \n",
    "#     reduction = 'umap.rna', \n",
    "#     cols = c(\"grey\", \"red\"),\n",
    "#     keep.scale = \"all\"\n",
    "# )"
   ]
  },
  {
   "cell_type": "markdown",
   "id": "4ac894ff",
   "metadata": {
    "papermill": {
     "duration": null,
     "end_time": null,
     "exception": null,
     "start_time": null,
     "status": "pending"
    },
    "tags": []
   },
   "source": [
    "# Get cell counts in clusters"
   ]
  },
  {
   "cell_type": "code",
   "execution_count": null,
   "id": "da249d56",
   "metadata": {
    "papermill": {
     "duration": null,
     "end_time": null,
     "exception": null,
     "start_time": null,
     "status": "pending"
    },
    "tags": [],
    "vscode": {
     "languageId": "r"
    }
   },
   "outputs": [],
   "source": [
    "Assays(seurat_singlets)"
   ]
  },
  {
   "cell_type": "code",
   "execution_count": null,
   "id": "5b6bd4a0",
   "metadata": {
    "papermill": {
     "duration": null,
     "end_time": null,
     "exception": null,
     "start_time": null,
     "status": "pending"
    },
    "tags": [],
    "vscode": {
     "languageId": "r"
    }
   },
   "outputs": [],
   "source": [
    "\n",
    "DefaultAssay(seurat_singlets) <- \"RNA\"\n",
    "seurat_singlets@meta.data$seurat_clusters\n",
    "seurat_singlets <- StashIdent(seurat_singlets, save.name = \"current.ident\")"
   ]
  },
  {
   "cell_type": "code",
   "execution_count": null,
   "id": "cc559b04",
   "metadata": {
    "papermill": {
     "duration": null,
     "end_time": null,
     "exception": null,
     "start_time": null,
     "status": "pending"
    },
    "tags": [],
    "vscode": {
     "languageId": "r"
    }
   },
   "outputs": [],
   "source": [
    "options(repr.plot.width = 7, repr.plot.height = 8)\n",
    "seurat_singlets <- SetIdent(seurat_singlets, value = seurat_singlets@meta.data$seurat_clusters)\n",
    "DimPlot(seurat_singlets, reduction = 'umap.rna', label = TRUE)"
   ]
  },
  {
   "cell_type": "code",
   "execution_count": null,
   "id": "b84ccf46",
   "metadata": {
    "papermill": {
     "duration": null,
     "end_time": null,
     "exception": null,
     "start_time": null,
     "status": "pending"
    },
    "tags": [],
    "vscode": {
     "languageId": "r"
    }
   },
   "outputs": [],
   "source": [
    "cluster_counts <- table(Idents(seurat_singlets))\n",
    "as.data.frame(cluster_counts)\n"
   ]
  },
  {
   "cell_type": "code",
   "execution_count": null,
   "id": "59aeb307",
   "metadata": {
    "papermill": {
     "duration": null,
     "end_time": null,
     "exception": null,
     "start_time": null,
     "status": "pending"
    },
    "tags": [],
    "vscode": {
     "languageId": "r"
    }
   },
   "outputs": [],
   "source": [
    "#cluster_counts[['2']] + cluster_counts[['5']] + cluster_counts[['11']] + cluster_counts[['13']] + cluster_counts[['14']]"
   ]
  },
  {
   "cell_type": "code",
   "execution_count": null,
   "id": "497fed57",
   "metadata": {
    "papermill": {
     "duration": null,
     "end_time": null,
     "exception": null,
     "start_time": null,
     "status": "pending"
    },
    "tags": [],
    "vscode": {
     "languageId": "r"
    }
   },
   "outputs": [],
   "source": [
    "DefaultAssay(seurat_singlets) <- \"guidecapture\"\n",
    "Idents(seurat_singlets) <- \"guidecapture_classification\""
   ]
  },
  {
   "cell_type": "code",
   "execution_count": null,
   "id": "4d5c335e",
   "metadata": {
    "papermill": {
     "duration": null,
     "end_time": null,
     "exception": null,
     "start_time": null,
     "status": "pending"
    },
    "tags": [],
    "vscode": {
     "languageId": "r"
    }
   },
   "outputs": [],
   "source": [
    "# seurat_ngn2 <- subset(seurat_singlets, idents = tfs_w_ntctl[1])\n",
    "# hist(seurat_ngn2@meta.data$SCT.weight)"
   ]
  },
  {
   "cell_type": "code",
   "execution_count": null,
   "id": "5886d30d",
   "metadata": {
    "papermill": {
     "duration": null,
     "end_time": null,
     "exception": null,
     "start_time": null,
     "status": "pending"
    },
    "tags": [],
    "vscode": {
     "languageId": "r"
    }
   },
   "outputs": [],
   "source": [
    "#hist(seurat_ngn2$SCT@data[tfs_w_ntctl[1],])"
   ]
  },
  {
   "cell_type": "code",
   "execution_count": null,
   "id": "3c040bb6",
   "metadata": {
    "papermill": {
     "duration": null,
     "end_time": null,
     "exception": null,
     "start_time": null,
     "status": "pending"
    },
    "tags": [],
    "vscode": {
     "languageId": "r"
    }
   },
   "outputs": [],
   "source": [
    "Idents(seurat_singlets) <- \"guidecapture_classification\"\n",
    "options(repr.plot.width = 20, repr.plot.height = 10)\n",
    "tf_list <- tfs_to_plot\n",
    "\n",
    "Idents(seurat) <- \"guidecapture_classification\"\n",
    "RidgePlot(\n",
    "    seurat_singlets,\n",
    "    assay = \"guidecapture\",\n",
    "    features = guide_names,\n",
    "    ncol = 4\n",
    ") +\n",
    "plot_annotation(title = \"Guide capture, singlets\") &\n",
    "theme(plot.title = element_text(hjust = 0.5, size = 20))\n",
    "\n",
    "\n",
    "RidgePlot(\n",
    "    seurat_singlets,\n",
    "    assay = \"SCT\",\n",
    "    features = tf_list,\n",
    "    ncol = 4,\n",
    ") +\n",
    "plot_annotation(title = \"Gene expression, singlets\") &\n",
    "theme(plot.title = element_text(hjust = 0.5, size = 20))\n"
   ]
  },
  {
   "cell_type": "markdown",
   "id": "0bd8aea7",
   "metadata": {
    "papermill": {
     "duration": null,
     "end_time": null,
     "exception": null,
     "start_time": null,
     "status": "pending"
    },
    "tags": [],
    "vscode": {
     "languageId": "r"
    }
   },
   "source": [
    "# How many singlets express both Protospacer1 and 2?"
   ]
  },
  {
   "cell_type": "code",
   "execution_count": null,
   "id": "9285583c",
   "metadata": {
    "papermill": {
     "duration": null,
     "end_time": null,
     "exception": null,
     "start_time": null,
     "status": "pending"
    },
    "tags": [],
    "vscode": {
     "languageId": "r"
    }
   },
   "outputs": [],
   "source": [
    "singlet_barcodes <- Cells(seurat_singlets)"
   ]
  },
  {
   "cell_type": "code",
   "execution_count": null,
   "id": "e27d38ef",
   "metadata": {
    "papermill": {
     "duration": null,
     "end_time": null,
     "exception": null,
     "start_time": null,
     "status": "pending"
    },
    "tags": [],
    "vscode": {
     "languageId": "r"
    }
   },
   "outputs": [],
   "source": [
    "select_singlets <- df_guide$barcode_dash %in% singlet_barcodes\n",
    "df_singlets     <- df_guide[select_singlets,]"
   ]
  },
  {
   "cell_type": "code",
   "execution_count": null,
   "id": "a1309ac9",
   "metadata": {
    "papermill": {
     "duration": null,
     "end_time": null,
     "exception": null,
     "start_time": null,
     "status": "pending"
    },
    "tags": [],
    "vscode": {
     "languageId": "r"
    }
   },
   "outputs": [],
   "source": [
    "singlets_metadata <- seurat_singlets@meta.data['guidecapture_classification']\n",
    "singlets_metadata['barcode_dash'] <- rownames(singlets_metadata)\n",
    "head(singlets_metadata)"
   ]
  },
  {
   "cell_type": "code",
   "execution_count": null,
   "id": "40cd050b",
   "metadata": {
    "papermill": {
     "duration": null,
     "end_time": null,
     "exception": null,
     "start_time": null,
     "status": "pending"
    },
    "tags": [],
    "vscode": {
     "languageId": "r"
    }
   },
   "outputs": [],
   "source": [
    "df_singlets <- merge(df_singlets, singlets_metadata, by = \"barcode_dash\")"
   ]
  },
  {
   "cell_type": "code",
   "execution_count": null,
   "id": "8e8fde51",
   "metadata": {
    "papermill": {
     "duration": null,
     "end_time": null,
     "exception": null,
     "start_time": null,
     "status": "pending"
    },
    "tags": [],
    "vscode": {
     "languageId": "r"
    }
   },
   "outputs": [],
   "source": [
    "head(df_singlets)"
   ]
  },
  {
   "cell_type": "code",
   "execution_count": null,
   "id": "05043ebc",
   "metadata": {
    "papermill": {
     "duration": null,
     "end_time": null,
     "exception": null,
     "start_time": null,
     "status": "pending"
    },
    "tags": [],
    "vscode": {
     "languageId": "r"
    }
   },
   "outputs": [],
   "source": [
    "# # Count the singlets where both PSs are captured\n",
    "\n",
    "# fracs_list <- list()\n",
    "# guide_list <- c(\"NEUROG2\", \"MEOX1\", \"GATA5\", \"NTCTL\")\n",
    "# ps_list <- list(\n",
    "#             'NEUROG2_pss' = c(\"NEUROG2_1\", \"NEUROG2_2\"),\n",
    "#             'MEOX1_pss' = c(\"MEOX1_1\", \"MEOX1_2\"),\n",
    "#             'GATA5_pss' = c(\"GATA5_1\", \"GATA5_2\"),\n",
    "#             'NTCTL_pss' = c(\"NTCTL_1\", \"NTCTL_2\")\n",
    "#         )\n",
    "\n",
    "# for(guide in guide_list) {\n",
    "#     ps_col_names <- c(paste0(guide, \"_1\"), paste0(guide, \"_2\"))\n",
    "#     select_guide <- df_singlets$guidecapture_classification == guide\n",
    "    \n",
    "#     for(ps_pair in names(ps_list)){ \n",
    "#         ps_col_names <- ps_list[[ps_pair]]\n",
    "#         df_dummy <- df_singlets[select_guide, ps_col_names]    \n",
    "#         both_ps_captured <- (df_dummy[,1] > 0) & (df_dummy[,2] > 0)\n",
    "#         frac_dual_ps <- round(sum(both_ps_captured)/nrow(df_dummy),2)\n",
    "#         #print(paste(guide, ps_pair, frac_dual_ps))\n",
    "#         fracs_list <- rbind(fracs_list, list(guide, ps_pair, frac_dual_ps))\n",
    "#     }\n",
    "\n",
    "    \n",
    "# }"
   ]
  },
  {
   "cell_type": "code",
   "execution_count": null,
   "id": "874bb51f",
   "metadata": {
    "papermill": {
     "duration": null,
     "end_time": null,
     "exception": null,
     "start_time": null,
     "status": "pending"
    },
    "tags": [],
    "vscode": {
     "languageId": "r"
    }
   },
   "outputs": [],
   "source": [
    "# For singlets\n",
    "# V1 is assigned barcode\n",
    "# V2 is the name of the gene/guide where both protospacers are detected in barcode\n",
    "# V3 is the fraction of barcodes with the both protospacers of gene/guide in V2 \n",
    "\n",
    "# as.data.frame(fracs_list)"
   ]
  },
  {
   "cell_type": "code",
   "execution_count": null,
   "id": "61982214",
   "metadata": {
    "papermill": {
     "duration": null,
     "end_time": null,
     "exception": null,
     "start_time": null,
     "status": "pending"
    },
    "tags": [],
    "vscode": {
     "languageId": "r"
    }
   },
   "outputs": [],
   "source": [
    "write.csv(overlapping_guide_counts, \"overlapping_guide_counts.csv\")"
   ]
  }
 ],
 "metadata": {
  "kernelspec": {
   "display_name": "R",
   "language": "R",
   "name": "ir"
  },
  "language_info": {
   "codemirror_mode": "r",
   "file_extension": ".r",
   "mimetype": "text/x-r-source",
   "name": "R",
   "pygments_lexer": "r",
   "version": "4.4.0"
  },
  "papermill": {
   "default_parameters": {},
   "duration": 7.281512,
   "end_time": "2023-02-23T04:20:33.780207",
   "environment_variables": {},
   "exception": true,
   "input_path": "/home/vsevim/prj/workflows/catatac/secondary//05_demux_guides_00.ipynb",
   "output_path": "/home/jupyter-ayang/notebooks/cat-atac_pipeline/K562/secondary/output/notebooks/05_demux_guides_00.ipynb",
   "parameters": {
    "h5_name": "/home/jupyter-ayang/notebooks/cat-atac_pipeline/K562/secondary/output/seurat/CATATAC_K562_CRISPR_ONLY_SINGLETS.h5seurat",
    "library": "K562_CRISPR",
    "protosp_path": "/home/jupyter-ayang/notebooks/cat-atac_pipeline/K562/primary/output/resources/ps_long.tsv",
    "tsv_path": "/home/jupyter-ayang/notebooks/cat-atac_pipeline/K562/primary/output/tsv"
   },
   "start_time": "2023-02-23T04:20:26.498695",
   "version": "2.4.0"
  }
 },
 "nbformat": 4,
 "nbformat_minor": 5
}
