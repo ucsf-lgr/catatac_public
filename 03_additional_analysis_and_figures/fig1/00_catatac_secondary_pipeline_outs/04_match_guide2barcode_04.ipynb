{
 "cells": [
  {
   "cell_type": "code",
   "execution_count": 1,
   "id": "da314d1d",
   "metadata": {
    "execution": {
     "iopub.execute_input": "2023-01-05T19:02:27.584844Z",
     "iopub.status.busy": "2023-01-05T19:02:27.583315Z",
     "iopub.status.idle": "2023-01-05T19:02:27.609486Z",
     "shell.execute_reply": "2023-01-05T19:02:27.608149Z"
    },
    "papermill": {
     "duration": 0.065524,
     "end_time": "2023-01-05T19:02:27.611555",
     "exception": false,
     "start_time": "2023-01-05T19:02:27.546031",
     "status": "completed"
    },
    "tags": [
     "injected-parameters"
    ]
   },
   "outputs": [],
   "source": [
    "# Parameters",
    "h5_name = '{PATH_TO_CATATAC_5_CRISPR9_ONLY_SINGLETS_H5SEURAT}'",
    "protosp_path = '{PATH_TO_PROTOSPACERS_4SET_TSV}'",
    "library = \"CRISPR9\"",
    "tsv_path = '{PATH_TO_TSV}'",
    ""
   ]
  },
  {
   "cell_type": "code",
   "execution_count": 2,
   "id": "86466864",
   "metadata": {
    "execution": {
     "iopub.execute_input": "2023-01-05T19:02:27.657240Z",
     "iopub.status.busy": "2023-01-05T19:02:27.626453Z",
     "iopub.status.idle": "2023-01-05T19:02:33.524126Z",
     "shell.execute_reply": "2023-01-05T19:02:33.522852Z"
    },
    "papermill": {
     "duration": 5.905376,
     "end_time": "2023-01-05T19:02:33.526118",
     "exception": false,
     "start_time": "2023-01-05T19:02:27.620742",
     "status": "completed"
    },
    "tags": [],
    "vscode": {
     "languageId": "r"
    }
   },
   "outputs": [
    {
     "name": "stderr",
     "output_type": "stream",
     "text": [
      "\n",
      "Attaching package: \u2018dplyr\u2019\n",
      "\n",
      "\n",
      "The following objects are masked from \u2018package:stats\u2019:\n",
      "\n",
      "    filter, lag\n",
      "\n",
      "\n",
      "The following objects are masked from \u2018package:base\u2019:\n",
      "\n",
      "    intersect, setdiff, setequal, union\n",
      "\n",
      "\n",
      "\n",
      "\n",
      "######################\n",
      "#### bedr v1.0.7 ####\n",
      "######################\n",
      "\n",
      "checking binary availability...\n",
      "  * Checking path for bedtools... PASS\n",
      "    /usr/local/bin/bedtools\n",
      "  * Checking path for bedops... PASS\n",
      "    /usr/bin/bedops\n",
      "  * Checking path for tabix... PASS\n",
      "    /usr/local/bin/tabix\n",
      "tests and examples will be skipped on R CMD check if binaries are missing\n",
      "\n",
      "\n",
      "Loading required package: BiocGenerics\n",
      "\n",
      "\n",
      "Attaching package: \u2018BiocGenerics\u2019\n",
      "\n",
      "\n",
      "The following objects are masked from \u2018package:dplyr\u2019:\n",
      "\n",
      "    combine, intersect, setdiff, union\n",
      "\n",
      "\n",
      "The following objects are masked from \u2018package:stats\u2019:\n",
      "\n",
      "    IQR, mad, sd, var, xtabs\n",
      "\n",
      "\n",
      "The following objects are masked from \u2018package:base\u2019:\n",
      "\n",
      "    anyDuplicated, aperm, append, as.data.frame, basename, cbind,\n",
      "    colnames, dirname, do.call, duplicated, eval, evalq, Filter, Find,\n",
      "    get, grep, grepl, intersect, is.unsorted, lapply, Map, mapply,\n",
      "    match, mget, order, paste, pmax, pmax.int, pmin, pmin.int,\n",
      "    Position, rank, rbind, Reduce, rownames, sapply, setdiff, sort,\n",
      "    table, tapply, union, unique, unsplit, which.max, which.min\n",
      "\n",
      "\n",
      "Loading required package: S4Vectors\n",
      "\n",
      "Loading required package: stats4\n",
      "\n",
      "\n",
      "Attaching package: \u2018S4Vectors\u2019\n",
      "\n",
      "\n",
      "The following objects are masked from \u2018package:dplyr\u2019:\n",
      "\n",
      "    first, rename\n",
      "\n",
      "\n",
      "The following objects are masked from \u2018package:base\u2019:\n",
      "\n",
      "    expand.grid, I, unname\n",
      "\n",
      "\n",
      "Loading required package: IRanges\n",
      "\n",
      "\n",
      "Attaching package: \u2018IRanges\u2019\n",
      "\n",
      "\n",
      "The following objects are masked from \u2018package:dplyr\u2019:\n",
      "\n",
      "    collapse, desc, slice\n",
      "\n",
      "\n",
      "Loading required package: XVector\n",
      "\n",
      "Loading required package: GenomeInfoDb\n",
      "\n",
      "\n",
      "Attaching package: \u2018Biostrings\u2019\n",
      "\n",
      "\n",
      "The following object is masked from \u2018package:base\u2019:\n",
      "\n",
      "    strsplit\n",
      "\n",
      "\n",
      "\n",
      "lessR 4.3.6                         feedback: gerbing@pdx.edu \n",
      "--------------------------------------------------------------\n",
      "> d <- Read(\"\")   Read text, Excel, SPSS, SAS, or R data file\n",
      "  d is default data frame, data= in analysis routines optional\n",
      "\n",
      "Many examples of reading, writing, and manipulating data, \n",
      "graphics, testing means and proportions, regression, factor analysis,\n",
      "customization, and descriptive statistics from pivot tables\n",
      "  Go to:  https://web.pdx.edu/~gerbing/lessR/examples\n",
      "\n",
      "View changes in this and recent versions of lessR\n",
      "  Enter: news(package=\"lessR\")\n",
      "\n",
      "Interactive data analysis\n",
      "  Enter: interact()\n",
      "\n",
      "\n",
      "\n",
      "Attaching package: \u2018lessR\u2019\n",
      "\n",
      "\n",
      "The following objects are masked from \u2018package:IRanges\u2019:\n",
      "\n",
      "    reflect, to\n",
      "\n",
      "\n",
      "The following objects are masked from \u2018package:S4Vectors\u2019:\n",
      "\n",
      "    pc, rename, to, values\n",
      "\n",
      "\n",
      "The following objects are masked from \u2018package:dplyr\u2019:\n",
      "\n",
      "    recode, rename\n",
      "\n",
      "\n",
      "Registered S3 method overwritten by 'SeuratDisk':\n",
      "  method            from  \n",
      "  as.sparse.H5Group Seurat\n",
      "\n",
      "Attaching SeuratObject\n",
      "\n"
     ]
    }
   ],
   "source": [
    "library(dplyr)\n",
    "library(ggplot2)\n",
    "library(bedr)\n",
    "library(Biostrings)\n",
    "library(stringr)\n",
    "library(lessR)\n",
    "library(SeuratDisk)\n",
    "library(Seurat)"
   ]
  },
  {
   "cell_type": "code",
   "execution_count": 3,
   "id": "9c88eb89",
   "metadata": {
    "execution": {
     "iopub.execute_input": "2023-01-05T19:02:33.544317Z",
     "iopub.status.busy": "2023-01-05T19:02:33.541906Z",
     "iopub.status.idle": "2023-01-05T19:02:33.553848Z",
     "shell.execute_reply": "2023-01-05T19:02:33.552845Z"
    },
    "papermill": {
     "duration": 0.019902,
     "end_time": "2023-01-05T19:02:33.555626",
     "exception": false,
     "start_time": "2023-01-05T19:02:33.535724",
     "status": "completed"
    },
    "tags": [],
    "vscode": {
     "languageId": "r"
    }
   },
   "outputs": [],
   "source": [
    "ADD_GUIDE_A_B_COUNTS_BEFORE_DEMUX = FALSE"
   ]
  },
  {
   "cell_type": "code",
   "execution_count": 4,
   "id": "d15f8a34",
   "metadata": {
    "execution": {
     "iopub.execute_input": "2023-01-05T19:02:33.574297Z",
     "iopub.status.busy": "2023-01-05T19:02:33.572455Z",
     "iopub.status.idle": "2023-01-05T19:02:33.583684Z",
     "shell.execute_reply": "2023-01-05T19:02:33.582644Z"
    },
    "papermill": {
     "duration": 0.019216,
     "end_time": "2023-01-05T19:02:33.585475",
     "exception": false,
     "start_time": "2023-01-05T19:02:33.566259",
     "status": "completed"
    },
    "tags": [],
    "vscode": {
     "languageId": "r"
    }
   },
   "outputs": [],
   "source": [
    "# Pass these as parameters",
    "# library      = \"CRISPR7\"",
    "# tsv_path <- '{PATH_TO_TSV_2}'",
    "# h5_name  <- '{PATH_TO_CATATAC_4_CRISPR7_ONLY_SINGLETS_H5SEURAT}'",
    "# protosp_path = '{PATH_TO_PROTOSPACERS_4SET_TSV_2}'"
   ]
  },
  {
   "cell_type": "code",
   "execution_count": 5,
   "id": "4b3732c7",
   "metadata": {
    "execution": {
     "iopub.execute_input": "2023-01-05T19:02:33.602158Z",
     "iopub.status.busy": "2023-01-05T19:02:33.601300Z",
     "iopub.status.idle": "2023-01-05T19:02:33.610464Z",
     "shell.execute_reply": "2023-01-05T19:02:33.609443Z"
    },
    "papermill": {
     "duration": 0.016733,
     "end_time": "2023-01-05T19:02:33.611818",
     "exception": false,
     "start_time": "2023-01-05T19:02:33.595085",
     "status": "completed"
    },
    "tags": [],
    "vscode": {
     "languageId": "r"
    }
   },
   "outputs": [],
   "source": [
    "barcode2guide_tsv_path <- paste0(tsv_path, '{PATH_TO_LIBRARY_ALL_STRUCTURED_TSV}')",
    "xlsname <- paste0(tsv_path, '{PATH_TO_LIBRARY_PIVOT_XLSX}')",
    "tsvname <- paste0(tsv_path, '{PATH_TO_LIBRARY_PIVOT_TSV}')"
   ]
  },
  {
   "cell_type": "code",
   "execution_count": 6,
   "id": "85e23b45",
   "metadata": {
    "execution": {
     "iopub.execute_input": "2023-01-05T19:02:33.630117Z",
     "iopub.status.busy": "2023-01-05T19:02:33.628266Z",
     "iopub.status.idle": "2023-01-05T19:02:33.640255Z",
     "shell.execute_reply": "2023-01-05T19:02:33.639258Z"
    },
    "papermill": {
     "duration": 0.019823,
     "end_time": "2023-01-05T19:02:33.642085",
     "exception": false,
     "start_time": "2023-01-05T19:02:33.622262",
     "status": "completed"
    },
    "tags": [],
    "vscode": {
     "languageId": "r"
    }
   },
   "outputs": [],
   "source": [
    "stats <- c()"
   ]
  },
  {
   "cell_type": "code",
   "execution_count": 7,
   "id": "8b21f62f",
   "metadata": {
    "execution": {
     "iopub.execute_input": "2023-01-05T19:02:33.658859Z",
     "iopub.status.busy": "2023-01-05T19:02:33.657324Z",
     "iopub.status.idle": "2023-01-05T19:02:33.670829Z",
     "shell.execute_reply": "2023-01-05T19:02:33.669842Z"
    },
    "papermill": {
     "duration": 0.021263,
     "end_time": "2023-01-05T19:02:33.672667",
     "exception": false,
     "start_time": "2023-01-05T19:02:33.651404",
     "status": "completed"
    },
    "tags": [],
    "vscode": {
     "languageId": "r"
    }
   },
   "outputs": [
    {
     "data": {
      "text/html": [
       "'/home/jupyter-ayang/notebooks/cat-atac_pipeline/cond9/output/tsv/CRISPR9_ALL_STRUCTURED.TSV'"
      ],
      "text/latex": [
       "'/home/jupyter-ayang/notebooks/cat-atac\\_pipeline/cond9/output/tsv/CRISPR9\\_ALL\\_STRUCTURED.TSV'"
      ],
      "text/markdown": [
       "'/home/jupyter-ayang/notebooks/cat-atac_pipeline/cond9/output/tsv/CRISPR9_ALL_STRUCTURED.TSV'"
      ],
      "text/plain": [
       "[1] \"/home/jupyter-ayang/notebooks/cat-atac_pipeline/cond9/output/tsv/CRISPR9_ALL_STRUCTURED.TSV\""
      ]
     },
     "metadata": {},
     "output_type": "display_data"
    }
   ],
   "source": [
    "barcode2guide_tsv_path"
   ]
  },
  {
   "cell_type": "markdown",
   "id": "aff622c5",
   "metadata": {
    "papermill": {
     "duration": 0.004856,
     "end_time": "2023-01-05T19:02:33.684857",
     "exception": false,
     "start_time": "2023-01-05T19:02:33.680001",
     "status": "completed"
    },
    "tags": []
   },
   "source": [
    "## Load protospacer file"
   ]
  },
  {
   "cell_type": "code",
   "execution_count": 8,
   "id": "88181077",
   "metadata": {
    "execution": {
     "iopub.execute_input": "2023-01-05T19:02:33.696261Z",
     "iopub.status.busy": "2023-01-05T19:02:33.695420Z",
     "iopub.status.idle": "2023-01-05T19:02:33.714297Z",
     "shell.execute_reply": "2023-01-05T19:02:33.713283Z"
    },
    "papermill": {
     "duration": 0.026292,
     "end_time": "2023-01-05T19:02:33.716078",
     "exception": false,
     "start_time": "2023-01-05T19:02:33.689786",
     "status": "completed"
    },
    "tags": [],
    "vscode": {
     "languageId": "r"
    }
   },
   "outputs": [
    {
     "data": {
      "text/html": [
       "<style>\n",
       ".list-inline {list-style: none; margin:0; padding: 0}\n",
       ".list-inline>li {display: inline-block}\n",
       ".list-inline>li:not(:last-child)::after {content: \"\\00b7\"; padding: 0 .5ex}\n",
       "</style>\n",
       "<ol class=list-inline><li>'GATA5'</li><li>'MEOX1'</li><li>'NEUROG2'</li></ol>\n"
      ],
      "text/latex": [
       "\\begin{enumerate*}\n",
       "\\item 'GATA5'\n",
       "\\item 'MEOX1'\n",
       "\\item 'NEUROG2'\n",
       "\\end{enumerate*}\n"
      ],
      "text/markdown": [
       "1. 'GATA5'\n",
       "2. 'MEOX1'\n",
       "3. 'NEUROG2'\n",
       "\n",
       "\n"
      ],
      "text/plain": [
       "[1] \"GATA5\"   \"MEOX1\"   \"NEUROG2\""
      ]
     },
     "metadata": {},
     "output_type": "display_data"
    },
    {
     "data": {
      "text/html": [
       "<style>\n",
       ".list-inline {list-style: none; margin:0; padding: 0}\n",
       ".list-inline>li {display: inline-block}\n",
       ".list-inline>li:not(:last-child)::after {content: \"\\00b7\"; padding: 0 .5ex}\n",
       "</style>\n",
       "<ol class=list-inline><li>'GATA5_1'</li><li>'GATA5_2'</li><li>'MEOX1_1'</li><li>'MEOX1_2'</li><li>'NEUROG2_1'</li><li>'NEUROG2_2'</li><li>'NTCTL_1'</li><li>'NTCTL_2'</li></ol>\n"
      ],
      "text/latex": [
       "\\begin{enumerate*}\n",
       "\\item 'GATA5\\_1'\n",
       "\\item 'GATA5\\_2'\n",
       "\\item 'MEOX1\\_1'\n",
       "\\item 'MEOX1\\_2'\n",
       "\\item 'NEUROG2\\_1'\n",
       "\\item 'NEUROG2\\_2'\n",
       "\\item 'NTCTL\\_1'\n",
       "\\item 'NTCTL\\_2'\n",
       "\\end{enumerate*}\n"
      ],
      "text/markdown": [
       "1. 'GATA5_1'\n",
       "2. 'GATA5_2'\n",
       "3. 'MEOX1_1'\n",
       "4. 'MEOX1_2'\n",
       "5. 'NEUROG2_1'\n",
       "6. 'NEUROG2_2'\n",
       "7. 'NTCTL_1'\n",
       "8. 'NTCTL_2'\n",
       "\n",
       "\n"
      ],
      "text/plain": [
       "[1] \"GATA5_1\"   \"GATA5_2\"   \"MEOX1_1\"   \"MEOX1_2\"   \"NEUROG2_1\" \"NEUROG2_2\"\n",
       "[7] \"NTCTL_1\"   \"NTCTL_2\"  "
      ]
     },
     "metadata": {},
     "output_type": "display_data"
    }
   ],
   "source": [
    "df_protosp = read.table(protosp_path, header=TRUE, comment.char=\"\")\n",
    "tfs_w_ntctl    = unique(df_protosp$X.TargetGene)\n",
    "unselect_ntctl = (tfs_w_ntctl != \"NTCTL\") & (tfs_w_ntctl != \"NTCTRL\")\n",
    "tfs_to_plot    = tfs_w_ntctl[unselect_ntctl]\n",
    "\n",
    "guides_to_plot  = df_protosp$GuideName\n",
    "tfs_to_plot\n",
    "guides_to_plot"
   ]
  },
  {
   "cell_type": "markdown",
   "id": "a87d3a79",
   "metadata": {
    "papermill": {
     "duration": 0.005076,
     "end_time": "2023-01-05T19:02:33.729115",
     "exception": false,
     "start_time": "2023-01-05T19:02:33.724039",
     "status": "completed"
    },
    "tags": []
   },
   "source": [
    "# Load and analyze guide capture"
   ]
  },
  {
   "cell_type": "code",
   "execution_count": 9,
   "id": "a0dea8a4",
   "metadata": {
    "execution": {
     "iopub.execute_input": "2023-01-05T19:02:33.742581Z",
     "iopub.status.busy": "2023-01-05T19:02:33.740739Z",
     "iopub.status.idle": "2023-01-05T19:03:11.797052Z",
     "shell.execute_reply": "2023-01-05T19:03:11.795762Z"
    },
    "papermill": {
     "duration": 38.065065,
     "end_time": "2023-01-05T19:03:11.799250",
     "exception": false,
     "start_time": "2023-01-05T19:02:33.734185",
     "status": "completed"
    },
    "tags": [],
    "vscode": {
     "languageId": "r"
    }
   },
   "outputs": [],
   "source": [
    "df_barcode2guide <-\n",
    "    read.table(barcode2guide_tsv_path, header = TRUE, sep = \"\\t\", quote = \"\")\n",
    "\n",
    "df_barcode2guide <-\n",
    "    data.frame(lapply(df_barcode2guide, trimws), stringsAsFactors = FALSE)\n",
    "\n",
    "stats[[\"Guide-capture UMI counts\"]] <- nrow(df_barcode2guide)\n",
    "\n",
    "# Some ATAC barcodes are not associated with a GEX barcode\n",
    "# I think those are just sequencing errors. I remove those from the list\n",
    "select_valid_barcodes <- df_barcode2guide$barcode != \"\"\n",
    "df_barcode2guide <- df_barcode2guide[select_valid_barcodes, ]\n",
    "\n",
    "stats[[\"Guide-capture UMI counts after removing empty barcodes\"]] <-\n",
    "    nrow(df_barcode2guide)\n",
    "\n",
    "# Append \"-1\" to the barcodes. Cellranger appends this number to distinguish\n",
    "# different samples in aggregated files.\n",
    "dummy  <- DNAStringSet(df_barcode2guide$barcode)\n",
    "df_barcode2guide$barcode_dash <- paste0(dummy, \"-1\")"
   ]
  },
  {
   "cell_type": "markdown",
   "id": "aa04f218",
   "metadata": {
    "papermill": {
     "duration": 0.005257,
     "end_time": "2023-01-05T19:03:11.815887",
     "exception": false,
     "start_time": "2023-01-05T19:03:11.810630",
     "status": "completed"
    },
    "tags": []
   },
   "source": [
    "### Eliminate PCR duplicates of the UMIs from the same barcode"
   ]
  },
  {
   "cell_type": "code",
   "execution_count": 10,
   "id": "be474d6a",
   "metadata": {
    "execution": {
     "iopub.execute_input": "2023-01-05T19:03:11.828267Z",
     "iopub.status.busy": "2023-01-05T19:03:11.827414Z",
     "iopub.status.idle": "2023-01-05T19:03:11.837312Z",
     "shell.execute_reply": "2023-01-05T19:03:11.836252Z"
    },
    "papermill": {
     "duration": 0.017861,
     "end_time": "2023-01-05T19:03:11.838872",
     "exception": false,
     "start_time": "2023-01-05T19:03:11.821011",
     "status": "completed"
    },
    "tags": [],
    "vscode": {
     "languageId": "r"
    }
   },
   "outputs": [],
   "source": [
    "# I already deduplicated guide umis. No more dedup is necessary.\n",
    "df_deduped <- df_barcode2guide\n",
    "\n",
    "# df_deduped <- df_barcode2guide %>% distinct(gene, umi, .keep_all = TRUE)\n",
    "\n",
    "stats[[\"Guide-capture UMI counts after removing PCR duplicates\"]] <-\n",
    "    nrow(df_deduped)\n",
    "\n",
    "# dim(df_deduped)"
   ]
  },
  {
   "cell_type": "code",
   "execution_count": 11,
   "id": "2e03aa2f",
   "metadata": {
    "execution": {
     "iopub.execute_input": "2023-01-05T19:03:11.856770Z",
     "iopub.status.busy": "2023-01-05T19:03:11.855902Z",
     "iopub.status.idle": "2023-01-05T19:03:11.875592Z",
     "shell.execute_reply": "2023-01-05T19:03:11.874552Z"
    },
    "papermill": {
     "duration": 0.02744,
     "end_time": "2023-01-05T19:03:11.877402",
     "exception": false,
     "start_time": "2023-01-05T19:03:11.849962",
     "status": "completed"
    },
    "tags": [],
    "vscode": {
     "languageId": "r"
    }
   },
   "outputs": [
    {
     "data": {
      "text/html": [
       "<table class=\"dataframe\">\n",
       "<caption>A data.frame: 6 \u00d7 8</caption>\n",
       "<thead>\n",
       "\t<tr><th></th><th scope=col>atac_barcode</th><th scope=col>umi</th><th scope=col>protospacer</th><th scope=col>guide</th><th scope=col>gene</th><th scope=col>read_name</th><th scope=col>barcode</th><th scope=col>barcode_dash</th></tr>\n",
       "\t<tr><th></th><th scope=col>&lt;chr&gt;</th><th scope=col>&lt;chr&gt;</th><th scope=col>&lt;chr&gt;</th><th scope=col>&lt;chr&gt;</th><th scope=col>&lt;chr&gt;</th><th scope=col>&lt;chr&gt;</th><th scope=col>&lt;chr&gt;</th><th scope=col>&lt;chr&gt;</th></tr>\n",
       "</thead>\n",
       "<tbody>\n",
       "\t<tr><th scope=row>1</th><td>GTCCGTTAGCTATTGT</td><td>CNCTTTTTTCAC</td><td>GCTGACCCTGCGGGGAAGAA</td><td>GATA5_1</td><td>GATA5</td><td>A01102:502:HF5LTDSX5:4:1101:24867:1000</td><td>AAGCGGGTCTAAATCG</td><td>AAGCGGGTCTAAATCG-1</td></tr>\n",
       "\t<tr><th scope=row>2</th><td>TTAGGTTTCAGCTACC</td><td>TCATTATGTATT</td><td>GCTGACCCTGCGGGGAAGAA</td><td>GATA5_1</td><td>GATA5</td><td>A01102:502:HF5LTDSX5:4:1101:23601:1094</td><td>GCACCTAAGTCTTGAA</td><td>GCACCTAAGTCTTGAA-1</td></tr>\n",
       "\t<tr><th scope=row>3</th><td>TAACACGCACGGTAAC</td><td>GTATACTTTGCG</td><td>GCTGACCCTGCGGGGAAGAA</td><td>GATA5_1</td><td>GATA5</td><td>A01102:502:HF5LTDSX5:4:1101:19542:1235</td><td>TCGCATTGTCCTAATC</td><td>TCGCATTGTCCTAATC-1</td></tr>\n",
       "\t<tr><th scope=row>4</th><td>GTCCGTTAGCTATTGT</td><td>CTCTTTTTTCAC</td><td>GCTGACCCTGCGGGGAAGAA</td><td>GATA5_1</td><td>GATA5</td><td>A01102:502:HF5LTDSX5:4:1101:24804:1297</td><td>AAGCGGGTCTAAATCG</td><td>AAGCGGGTCTAAATCG-1</td></tr>\n",
       "\t<tr><th scope=row>5</th><td>TTTAACCAGTTAACCT</td><td>ATCATGTATTTG</td><td>GCTGACCCTGCGGGGAAGAA</td><td>GATA5_1</td><td>GATA5</td><td>A01102:502:HF5LTDSX5:4:1101:3360:1329 </td><td>AGCTAGTTCTGTAAGC</td><td>AGCTAGTTCTGTAAGC-1</td></tr>\n",
       "\t<tr><th scope=row>6</th><td>GTTAATCTCCTTAGTG</td><td>CAGGCGAATTAG</td><td>GCTGACCCTGCGGGGAAGAA</td><td>GATA5_1</td><td>GATA5</td><td>A01102:502:HF5LTDSX5:4:1101:23556:1329</td><td>AACCTTAAGTTCCTCA</td><td>AACCTTAAGTTCCTCA-1</td></tr>\n",
       "</tbody>\n",
       "</table>\n"
      ],
      "text/latex": [
       "A data.frame: 6 \u00d7 8\n",
       "\\begin{tabular}{r|llllllll}\n",
       "  & atac\\_barcode & umi & protospacer & guide & gene & read\\_name & barcode & barcode\\_dash\\\\\n",
       "  & <chr> & <chr> & <chr> & <chr> & <chr> & <chr> & <chr> & <chr>\\\\\n",
       "\\hline\n",
       "\t1 & GTCCGTTAGCTATTGT & CNCTTTTTTCAC & GCTGACCCTGCGGGGAAGAA & GATA5\\_1 & GATA5 & A01102:502:HF5LTDSX5:4:1101:24867:1000 & AAGCGGGTCTAAATCG & AAGCGGGTCTAAATCG-1\\\\\n",
       "\t2 & TTAGGTTTCAGCTACC & TCATTATGTATT & GCTGACCCTGCGGGGAAGAA & GATA5\\_1 & GATA5 & A01102:502:HF5LTDSX5:4:1101:23601:1094 & GCACCTAAGTCTTGAA & GCACCTAAGTCTTGAA-1\\\\\n",
       "\t3 & TAACACGCACGGTAAC & GTATACTTTGCG & GCTGACCCTGCGGGGAAGAA & GATA5\\_1 & GATA5 & A01102:502:HF5LTDSX5:4:1101:19542:1235 & TCGCATTGTCCTAATC & TCGCATTGTCCTAATC-1\\\\\n",
       "\t4 & GTCCGTTAGCTATTGT & CTCTTTTTTCAC & GCTGACCCTGCGGGGAAGAA & GATA5\\_1 & GATA5 & A01102:502:HF5LTDSX5:4:1101:24804:1297 & AAGCGGGTCTAAATCG & AAGCGGGTCTAAATCG-1\\\\\n",
       "\t5 & TTTAACCAGTTAACCT & ATCATGTATTTG & GCTGACCCTGCGGGGAAGAA & GATA5\\_1 & GATA5 & A01102:502:HF5LTDSX5:4:1101:3360:1329  & AGCTAGTTCTGTAAGC & AGCTAGTTCTGTAAGC-1\\\\\n",
       "\t6 & GTTAATCTCCTTAGTG & CAGGCGAATTAG & GCTGACCCTGCGGGGAAGAA & GATA5\\_1 & GATA5 & A01102:502:HF5LTDSX5:4:1101:23556:1329 & AACCTTAAGTTCCTCA & AACCTTAAGTTCCTCA-1\\\\\n",
       "\\end{tabular}\n"
      ],
      "text/markdown": [
       "\n",
       "A data.frame: 6 \u00d7 8\n",
       "\n",
       "| <!--/--> | atac_barcode &lt;chr&gt; | umi &lt;chr&gt; | protospacer &lt;chr&gt; | guide &lt;chr&gt; | gene &lt;chr&gt; | read_name &lt;chr&gt; | barcode &lt;chr&gt; | barcode_dash &lt;chr&gt; |\n",
       "|---|---|---|---|---|---|---|---|---|\n",
       "| 1 | GTCCGTTAGCTATTGT | CNCTTTTTTCAC | GCTGACCCTGCGGGGAAGAA | GATA5_1 | GATA5 | A01102:502:HF5LTDSX5:4:1101:24867:1000 | AAGCGGGTCTAAATCG | AAGCGGGTCTAAATCG-1 |\n",
       "| 2 | TTAGGTTTCAGCTACC | TCATTATGTATT | GCTGACCCTGCGGGGAAGAA | GATA5_1 | GATA5 | A01102:502:HF5LTDSX5:4:1101:23601:1094 | GCACCTAAGTCTTGAA | GCACCTAAGTCTTGAA-1 |\n",
       "| 3 | TAACACGCACGGTAAC | GTATACTTTGCG | GCTGACCCTGCGGGGAAGAA | GATA5_1 | GATA5 | A01102:502:HF5LTDSX5:4:1101:19542:1235 | TCGCATTGTCCTAATC | TCGCATTGTCCTAATC-1 |\n",
       "| 4 | GTCCGTTAGCTATTGT | CTCTTTTTTCAC | GCTGACCCTGCGGGGAAGAA | GATA5_1 | GATA5 | A01102:502:HF5LTDSX5:4:1101:24804:1297 | AAGCGGGTCTAAATCG | AAGCGGGTCTAAATCG-1 |\n",
       "| 5 | TTTAACCAGTTAACCT | ATCATGTATTTG | GCTGACCCTGCGGGGAAGAA | GATA5_1 | GATA5 | A01102:502:HF5LTDSX5:4:1101:3360:1329  | AGCTAGTTCTGTAAGC | AGCTAGTTCTGTAAGC-1 |\n",
       "| 6 | GTTAATCTCCTTAGTG | CAGGCGAATTAG | GCTGACCCTGCGGGGAAGAA | GATA5_1 | GATA5 | A01102:502:HF5LTDSX5:4:1101:23556:1329 | AACCTTAAGTTCCTCA | AACCTTAAGTTCCTCA-1 |\n",
       "\n"
      ],
      "text/plain": [
       "  atac_barcode     umi          protospacer          guide   gene \n",
       "1 GTCCGTTAGCTATTGT CNCTTTTTTCAC GCTGACCCTGCGGGGAAGAA GATA5_1 GATA5\n",
       "2 TTAGGTTTCAGCTACC TCATTATGTATT GCTGACCCTGCGGGGAAGAA GATA5_1 GATA5\n",
       "3 TAACACGCACGGTAAC GTATACTTTGCG GCTGACCCTGCGGGGAAGAA GATA5_1 GATA5\n",
       "4 GTCCGTTAGCTATTGT CTCTTTTTTCAC GCTGACCCTGCGGGGAAGAA GATA5_1 GATA5\n",
       "5 TTTAACCAGTTAACCT ATCATGTATTTG GCTGACCCTGCGGGGAAGAA GATA5_1 GATA5\n",
       "6 GTTAATCTCCTTAGTG CAGGCGAATTAG GCTGACCCTGCGGGGAAGAA GATA5_1 GATA5\n",
       "  read_name                              barcode          barcode_dash      \n",
       "1 A01102:502:HF5LTDSX5:4:1101:24867:1000 AAGCGGGTCTAAATCG AAGCGGGTCTAAATCG-1\n",
       "2 A01102:502:HF5LTDSX5:4:1101:23601:1094 GCACCTAAGTCTTGAA GCACCTAAGTCTTGAA-1\n",
       "3 A01102:502:HF5LTDSX5:4:1101:19542:1235 TCGCATTGTCCTAATC TCGCATTGTCCTAATC-1\n",
       "4 A01102:502:HF5LTDSX5:4:1101:24804:1297 AAGCGGGTCTAAATCG AAGCGGGTCTAAATCG-1\n",
       "5 A01102:502:HF5LTDSX5:4:1101:3360:1329  AGCTAGTTCTGTAAGC AGCTAGTTCTGTAAGC-1\n",
       "6 A01102:502:HF5LTDSX5:4:1101:23556:1329 AACCTTAAGTTCCTCA AACCTTAAGTTCCTCA-1"
      ]
     },
     "metadata": {},
     "output_type": "display_data"
    }
   ],
   "source": [
    "head(df_deduped)"
   ]
  },
  {
   "cell_type": "markdown",
   "id": "7cfb8dc6",
   "metadata": {
    "papermill": {
     "duration": 0.006342,
     "end_time": "2023-01-05T19:03:11.893785",
     "exception": false,
     "start_time": "2023-01-05T19:03:11.887443",
     "status": "completed"
    },
    "tags": []
   },
   "source": [
    "# Build a df for all barcodes"
   ]
  },
  {
   "cell_type": "markdown",
   "id": "38e730e7",
   "metadata": {
    "papermill": {
     "duration": 0.0053,
     "end_time": "2023-01-05T19:03:11.904635",
     "exception": false,
     "start_time": "2023-01-05T19:03:11.899335",
     "status": "completed"
    },
    "tags": []
   },
   "source": [
    "Summerizing the umi counts, guide counts etc. Find the barcodes that are associated with multiple genes."
   ]
  },
  {
   "cell_type": "code",
   "execution_count": null,
   "id": "46d2bf52",
   "metadata": {
    "execution": {
     "iopub.execute_input": "2023-01-05T19:03:11.916891Z",
     "iopub.status.busy": "2023-01-05T19:03:11.916018Z",
     "iopub.status.idle": "2023-01-05T19:07:56.839930Z",
     "shell.execute_reply": "2023-01-05T19:07:56.838645Z"
    },
    "papermill": {
     "duration": 284.932175,
     "end_time": "2023-01-05T19:07:56.842109",
     "exception": false,
     "start_time": "2023-01-05T19:03:11.909934",
     "status": "completed"
    },
    "tags": [],
    "vscode": {
     "languageId": "r"
    }
   },
   "outputs": [],
   "source": [
    "# Build two new dfs to summerize guide and gene counts\n",
    "df_gene_counts <- pivot(df_deduped, table, gene, barcode)\n",
    "df_guide_counts <- pivot(df_deduped, table, guide, barcode)\n",
    "\n",
    "# Drop unused columns\n",
    "df_gene_counts <- select(df_gene_counts, -gene_na, -gene_n)\n",
    "if(ADD_GUIDE_A_B_COUNTS_BEFORE_DEMUX){\n",
    "    df_guide_counts <- select(df_guide_counts, -guide_na)\n",
    "} else {\n",
    "    df_barcodes <- select(df_guide_counts, -guide_na)\n",
    "}\n",
    "\n",
    "# Merge guide and gene columns\n",
    "if(ADD_GUIDE_A_B_COUNTS_BEFORE_DEMUX) {\n",
    "    df_barcodes <- merge(df_gene_counts, df_guide_counts, by = \"barcode\")\n",
    "}\n",
    "\n",
    "# n_guides is umi count\n",
    "df_barcodes <- dplyr:::rename(df_barcodes, n_guides = guide_n)\n",
    "\n",
    "# Add a \"-1\" to barcode names to match with multiome barcode\n",
    "# names from cellranger.\n",
    "dummy  <- DNAStringSet(df_barcodes$barcode)\n",
    "df_barcodes$barcode_dash <- paste0(dummy, \"-1\")\n"
   ]
  },
  {
   "cell_type": "code",
   "execution_count": null,
   "id": "0600857b",
   "metadata": {
    "execution": {
     "iopub.execute_input": "2023-01-05T19:07:56.859412Z",
     "iopub.status.busy": "2023-01-05T19:07:56.858491Z",
     "iopub.status.idle": "2023-01-05T19:07:56.875494Z",
     "shell.execute_reply": "2023-01-05T19:07:56.874440Z"
    },
    "papermill": {
     "duration": 0.025027,
     "end_time": "2023-01-05T19:07:56.877328",
     "exception": false,
     "start_time": "2023-01-05T19:07:56.852301",
     "status": "completed"
    },
    "tags": [],
    "vscode": {
     "languageId": "r"
    }
   },
   "outputs": [],
   "source": [
    "head(df_barcodes, 2)"
   ]
  },
  {
   "cell_type": "code",
   "execution_count": null,
   "id": "41245dcf",
   "metadata": {
    "execution": {
     "iopub.execute_input": "2023-01-05T19:07:56.895870Z",
     "iopub.status.busy": "2023-01-05T19:07:56.894988Z",
     "iopub.status.idle": "2023-01-05T19:07:56.904597Z",
     "shell.execute_reply": "2023-01-05T19:07:56.903552Z"
    },
    "papermill": {
     "duration": 0.018047,
     "end_time": "2023-01-05T19:07:56.906278",
     "exception": false,
     "start_time": "2023-01-05T19:07:56.888231",
     "status": "completed"
    },
    "tags": [],
    "vscode": {
     "languageId": "r"
    }
   },
   "outputs": [],
   "source": [
    "colnames(df_barcodes)"
   ]
  },
  {
   "cell_type": "markdown",
   "id": "c68f38f0",
   "metadata": {
    "papermill": {
     "duration": 0.005711,
     "end_time": "2023-01-05T19:07:56.920948",
     "exception": false,
     "start_time": "2023-01-05T19:07:56.915237",
     "status": "completed"
    },
    "tags": []
   },
   "source": [
    "# Load multiome data"
   ]
  },
  {
   "cell_type": "code",
   "execution_count": null,
   "id": "af73b019",
   "metadata": {
    "execution": {
     "iopub.execute_input": "2023-01-05T19:07:56.934030Z",
     "iopub.status.busy": "2023-01-05T19:07:56.933131Z",
     "iopub.status.idle": "2023-01-05T19:09:24.758734Z",
     "shell.execute_reply": "2023-01-05T19:09:24.757492Z"
    },
    "papermill": {
     "duration": 87.834197,
     "end_time": "2023-01-05T19:09:24.760877",
     "exception": false,
     "start_time": "2023-01-05T19:07:56.926680",
     "status": "completed"
    },
    "tags": [],
    "vscode": {
     "languageId": "r"
    }
   },
   "outputs": [],
   "source": [
    "seurat <- LoadH5Seurat(h5_name, verbose=FALSE)"
   ]
  },
  {
   "cell_type": "markdown",
   "id": "48fc4534",
   "metadata": {
    "papermill": {
     "duration": 0.005828,
     "end_time": "2023-01-05T19:09:24.777652",
     "exception": false,
     "start_time": "2023-01-05T19:09:24.771824",
     "status": "completed"
    },
    "tags": []
   },
   "source": [
    "### Intersect guide-capture barcodes with multiome barcodes"
   ]
  },
  {
   "cell_type": "code",
   "execution_count": null,
   "id": "6e059392",
   "metadata": {
    "execution": {
     "iopub.execute_input": "2023-01-05T19:09:24.792861Z",
     "iopub.status.busy": "2023-01-05T19:09:24.790643Z",
     "iopub.status.idle": "2023-01-05T19:09:24.810047Z",
     "shell.execute_reply": "2023-01-05T19:09:24.808830Z"
    },
    "papermill": {
     "duration": 0.028344,
     "end_time": "2023-01-05T19:09:24.811830",
     "exception": false,
     "start_time": "2023-01-05T19:09:24.783486",
     "status": "completed"
    },
    "tags": [],
    "vscode": {
     "languageId": "r"
    }
   },
   "outputs": [],
   "source": [
    "# Find overlapping barcodes\n",
    "multiome_barcodes       <- Cells(seurat)\n",
    "df_barcodes$in_multiome <- df_barcodes$barcode_dash %in% multiome_barcodes"
   ]
  },
  {
   "cell_type": "code",
   "execution_count": null,
   "id": "06513cba",
   "metadata": {
    "execution": {
     "iopub.execute_input": "2023-01-05T19:09:24.830504Z",
     "iopub.status.busy": "2023-01-05T19:09:24.829631Z",
     "iopub.status.idle": "2023-01-05T19:09:24.854199Z",
     "shell.execute_reply": "2023-01-05T19:09:24.853157Z"
    },
    "papermill": {
     "duration": 0.032881,
     "end_time": "2023-01-05T19:09:24.855824",
     "exception": false,
     "start_time": "2023-01-05T19:09:24.822943",
     "status": "completed"
    },
    "tags": [],
    "vscode": {
     "languageId": "r"
    }
   },
   "outputs": [],
   "source": [
    "nrow(seurat)\n",
    "length(multiome_barcodes)\n",
    "head(multiome_barcodes)\n",
    "nrow(seurat@meta.data)\n",
    "#str(seurat)\n",
    "length(Cells(seurat))"
   ]
  },
  {
   "cell_type": "code",
   "execution_count": null,
   "id": "0b1754d8",
   "metadata": {
    "execution": {
     "iopub.execute_input": "2023-01-05T19:09:24.876365Z",
     "iopub.status.busy": "2023-01-05T19:09:24.875500Z",
     "iopub.status.idle": "2023-01-05T19:09:24.905582Z",
     "shell.execute_reply": "2023-01-05T19:09:24.904504Z"
    },
    "papermill": {
     "duration": 0.039734,
     "end_time": "2023-01-05T19:09:24.907375",
     "exception": false,
     "start_time": "2023-01-05T19:09:24.867641",
     "status": "completed"
    },
    "tags": [],
    "vscode": {
     "languageId": "r"
    }
   },
   "outputs": [],
   "source": [
    "sample_n(df_barcodes, 5)"
   ]
  },
  {
   "cell_type": "markdown",
   "id": "9d8403ea",
   "metadata": {
    "papermill": {
     "duration": 0.006701,
     "end_time": "2023-01-05T19:09:24.926469",
     "exception": false,
     "start_time": "2023-01-05T19:09:24.919768",
     "status": "completed"
    },
    "tags": []
   },
   "source": [
    "Write df_barcodes to TSV and XLS"
   ]
  },
  {
   "cell_type": "code",
   "execution_count": null,
   "id": "9dc7b724",
   "metadata": {
    "execution": {
     "iopub.execute_input": "2023-01-05T19:09:24.942774Z",
     "iopub.status.busy": "2023-01-05T19:09:24.940872Z",
     "iopub.status.idle": "2023-01-05T19:09:27.216581Z",
     "shell.execute_reply": "2023-01-05T19:09:27.215324Z"
    },
    "papermill": {
     "duration": 2.285501,
     "end_time": "2023-01-05T19:09:27.218496",
     "exception": false,
     "start_time": "2023-01-05T19:09:24.932995",
     "status": "completed"
    },
    "tags": [],
    "vscode": {
     "languageId": "r"
    }
   },
   "outputs": [],
   "source": [
    "library(writexl)\n",
    "write_xlsx(df_barcodes, xlsname)\n",
    "write.table(df_barcodes, tsvname, sep = \"\\t\", quote = FALSE, row.names = FALSE)"
   ]
  },
  {
   "cell_type": "markdown",
   "id": "a92d375f",
   "metadata": {
    "papermill": {
     "duration": 0.006478,
     "end_time": "2023-01-05T19:09:27.237490",
     "exception": false,
     "start_time": "2023-01-05T19:09:27.231012",
     "status": "completed"
    },
    "tags": []
   },
   "source": [
    "# Produce charts"
   ]
  },
  {
   "cell_type": "code",
   "execution_count": null,
   "id": "dc470d93",
   "metadata": {
    "execution": {
     "iopub.execute_input": "2023-01-05T19:09:27.253766Z",
     "iopub.status.busy": "2023-01-05T19:09:27.251924Z",
     "iopub.status.idle": "2023-01-05T19:09:27.285498Z",
     "shell.execute_reply": "2023-01-05T19:09:27.284207Z"
    },
    "papermill": {
     "duration": 0.04325,
     "end_time": "2023-01-05T19:09:27.287281",
     "exception": false,
     "start_time": "2023-01-05T19:09:27.244031",
     "status": "completed"
    },
    "tags": [],
    "vscode": {
     "languageId": "r"
    }
   },
   "outputs": [],
   "source": [
    "select_gt1_umi_per_cell <- df_barcodes$n_guides > 1\n",
    "select_convergent       <- df_barcodes$targeted_gene_count == 1\n",
    "\n",
    "df_barcodes_gt1         <- df_barcodes[select_gt1_umi_per_cell, ]\n",
    "df_in_multiome          <- df_barcodes[df_barcodes$in_multiome, ]\n",
    "df_gt1_in_multiome      <- df_barcodes_gt1[df_barcodes_gt1$in_multiome, ]\n",
    "df_convergent           <- df_barcodes[select_convergent, ]"
   ]
  },
  {
   "cell_type": "code",
   "execution_count": null,
   "id": "25f8c9be",
   "metadata": {
    "execution": {
     "iopub.execute_input": "2023-01-05T19:09:27.308436Z",
     "iopub.status.busy": "2023-01-05T19:09:27.307571Z",
     "iopub.status.idle": "2023-01-05T19:09:27.929849Z",
     "shell.execute_reply": "2023-01-05T19:09:27.928791Z"
    },
    "papermill": {
     "duration": 0.632671,
     "end_time": "2023-01-05T19:09:27.932348",
     "exception": false,
     "start_time": "2023-01-05T19:09:27.299677",
     "status": "completed"
    },
    "tags": [],
    "vscode": {
     "languageId": "r"
    }
   },
   "outputs": [],
   "source": [
    "options(repr.plot.width = 8, repr.plot.height = 6)\n",
    "\n",
    "ggplot(df_in_multiome, aes(x = n_guides)) +\n",
    "    geom_histogram(binwidth=1) +\n",
    "    labs(title = \"Captured guide count\", x = \"#guides\")+\n",
    "    labs(subtitle = \"multiome-overlapping guide-capture barcodes\", y = \"#cells\")\n",
    "    "
   ]
  },
  {
   "cell_type": "code",
   "execution_count": null,
   "id": "fd5b3d28",
   "metadata": {
    "execution": {
     "iopub.execute_input": "2023-01-05T19:09:27.954586Z",
     "iopub.status.busy": "2023-01-05T19:09:27.952647Z",
     "iopub.status.idle": "2023-01-05T19:09:28.736192Z",
     "shell.execute_reply": "2023-01-05T19:09:28.735149Z"
    },
    "papermill": {
     "duration": 0.794313,
     "end_time": "2023-01-05T19:09:28.738777",
     "exception": false,
     "start_time": "2023-01-05T19:09:27.944464",
     "status": "completed"
    },
    "tags": [],
    "vscode": {
     "languageId": "r"
    }
   },
   "outputs": [],
   "source": [
    "options(repr.plot.width = 8, repr.plot.height = 5)\n",
    "df_dummy <- df_in_multiome[order(-df_in_multiome$n_guides),]\n",
    "\n",
    "ggplot(df_dummy, aes(x=1:nrow(df_dummy), y = n_guides)) +\n",
    "    geom_point() +\n",
    "    labs(title = \"Captured guide count\", x = \"Cell index\") +\n",
    "    labs(subtitle = \"multiome-overlapping guide-capture barcodes\", y = \"#guides\")\n",
    "\n",
    "ggplot(df_dummy, aes(x=1:nrow(df_dummy), y = n_guides)) +\n",
    "    geom_point() +\n",
    "    labs(title = \"Captured guide count\", x = \"Cell index\") +\n",
    "    labs(subtitle = \"multiome-overlapping guide-capture barcodes\", y = \"#guides\") +\n",
    "    scale_y_log10()"
   ]
  },
  {
   "cell_type": "code",
   "execution_count": null,
   "id": "0ab75639",
   "metadata": {
    "execution": {
     "iopub.execute_input": "2023-01-05T19:09:28.761461Z",
     "iopub.status.busy": "2023-01-05T19:09:28.759530Z",
     "iopub.status.idle": "2023-01-05T19:09:28.782123Z",
     "shell.execute_reply": "2023-01-05T19:09:28.780988Z"
    },
    "papermill": {
     "duration": 0.033718,
     "end_time": "2023-01-05T19:09:28.783934",
     "exception": false,
     "start_time": "2023-01-05T19:09:28.750216",
     "status": "completed"
    },
    "tags": [],
    "vscode": {
     "languageId": "r"
    }
   },
   "outputs": [],
   "source": [
    "# Record stats\n",
    "stats[[\"%overlapping\"]] <-\n",
    "    100 * sum(df_barcodes$in_multiome) / length(multiome_barcodes)\n",
    "\n",
    "stats[[\"Guide-capture barcodes\"]] <- nrow(df_barcodes)\n",
    "stats[[\"Multiome barcodes\"]]      <- length(multiome_barcodes)\n",
    "stats[[\"Overlapping barcodes\"]]   <- sum(df_barcodes$in_multiome)\n",
    "stats[[\"Overlapping barcodes > 1 UMI\"]] <- sum(df_barcodes_gt1$in_multiome)\n",
    "stats[[\"Guide capture all convergent\"]] <- nrow(df_convergent)\n",
    "stats[[\"Guide capture overlapping convergent\"]] <-\n",
    "    sum(df_convergent$in_multiome)\n",
    "stats[[\"Median guides per cell (multiome-overlapping)\"]] <- median(df_in_multiome$n_guides)"
   ]
  },
  {
   "cell_type": "markdown",
   "id": "fb1e034b",
   "metadata": {
    "papermill": {
     "duration": 0.007552,
     "end_time": "2023-01-05T19:09:28.802002",
     "exception": false,
     "start_time": "2023-01-05T19:09:28.794450",
     "status": "completed"
    },
    "tags": []
   },
   "source": [
    "# Print stats"
   ]
  },
  {
   "cell_type": "code",
   "execution_count": null,
   "id": "86788aa7",
   "metadata": {
    "execution": {
     "iopub.execute_input": "2023-01-05T19:09:28.819158Z",
     "iopub.status.busy": "2023-01-05T19:09:28.818267Z",
     "iopub.status.idle": "2023-01-05T19:09:28.832628Z",
     "shell.execute_reply": "2023-01-05T19:09:28.831587Z"
    },
    "papermill": {
     "duration": 0.024721,
     "end_time": "2023-01-05T19:09:28.834437",
     "exception": false,
     "start_time": "2023-01-05T19:09:28.809716",
     "status": "completed"
    },
    "tags": [],
    "vscode": {
     "languageId": "r"
    }
   },
   "outputs": [],
   "source": [
    "for (tag in names(stats)) {\n",
    "    if (tag != \"Capture efficiency\") {\n",
    "        text <- sprintf(\"%s\\t%g\\n\", tag, stats[[tag]])\n",
    "    }\n",
    "    else {\n",
    "        text <- sprintf(\"%s\\t%.1f%%\\n\", tag, stats[[tag]])\n",
    "    }\n",
    "    cat(text)\n",
    "}"
   ]
  },
  {
   "cell_type": "code",
   "execution_count": null,
   "id": "4037369b",
   "metadata": {
    "execution": {
     "iopub.execute_input": "2023-01-05T19:09:28.854038Z",
     "iopub.status.busy": "2023-01-05T19:09:28.852096Z",
     "iopub.status.idle": "2023-01-05T19:09:29.214133Z",
     "shell.execute_reply": "2023-01-05T19:09:29.213082Z"
    },
    "papermill": {
     "duration": 0.372346,
     "end_time": "2023-01-05T19:09:29.215935",
     "exception": false,
     "start_time": "2023-01-05T19:09:28.843589",
     "status": "completed"
    },
    "tags": [],
    "vscode": {
     "languageId": "r"
    }
   },
   "outputs": [],
   "source": [
    "round(t(as.data.frame(stats)))"
   ]
  },
  {
   "cell_type": "markdown",
   "id": "8cbb8e8b",
   "metadata": {
    "papermill": {
     "duration": 0.008,
     "end_time": "2023-01-05T19:09:29.235429",
     "exception": false,
     "start_time": "2023-01-05T19:09:29.227429",
     "status": "completed"
    },
    "tags": []
   },
   "source": []
  }
 ],
 "metadata": {
  "kernelspec": {
   "display_name": "R42env-R",
   "language": "R",
   "name": "r42env-r"
  },
  "language_info": {
   "codemirror_mode": "r",
   "file_extension": ".r",
   "mimetype": "text/x-r-source",
   "name": "R",
   "pygments_lexer": "r",
   "version": "4.2.2"
  },
  "papermill": {
   "default_parameters": {},
   "duration": 423.147467,
   "end_time": "2023-01-05T19:09:29.661625",
   "environment_variables": {},
   "exception": null,
   "input_path": "/home/vsevim/prj/workflows/catatac/secondary//04_match_guide2barcode_04.ipynb",
   "output_path": "/home/jupyter-ayang/notebooks/cat-atac_pipeline/cond9/secondary/output/notebooks/04_match_guide2barcode_04.ipynb",
   "parameters": {
    "h5_name": "/home/jupyter-ayang/notebooks/cat-atac_pipeline/cond9/secondary/output/seurat/CATATAC_5_CRISPR9_ONLY_SINGLETS.h5seurat",
    "library": "CRISPR9",
    "protosp_path": "/home/jupyter-ayang/notebooks/cat-atac_pipeline/cond9/output/resources/protospacers_4set.tsv",
    "tsv_path": "/home/jupyter-ayang/notebooks/cat-atac_pipeline/cond9/output/tsv"
   },
   "start_time": "2023-01-05T19:02:26.514158",
   "version": "2.4.0"
  }
 },
 "nbformat": 4,
 "nbformat_minor": 5
}