{
 "cells": [
  {
   "cell_type": "code",
   "execution_count": 1,
   "id": "88fad1d1",
   "metadata": {
    "execution": {
     "iopub.execute_input": "2023-01-05T18:48:37.347114Z",
     "iopub.status.busy": "2023-01-05T18:48:37.346483Z",
     "iopub.status.idle": "2023-01-05T18:48:37.357417Z",
     "shell.execute_reply": "2023-01-05T18:48:37.356654Z"
    },
    "papermill": {
     "duration": 0.016727,
     "end_time": "2023-01-05T18:48:37.358624",
     "exception": false,
     "start_time": "2023-01-05T18:48:37.341897",
     "status": "completed"
    },
    "tags": [
     "injected-parameters"
    ]
   },
   "outputs": [],
   "source": [
    "# Parameters",
    "library = \"CRISPR9\"",
    "fastq_path = '{PATH_TO_LGR_GA_02}'",
    "tsv_path = '{PATH_TO_TSV}'",
    ""
   ]
  },
  {
   "cell_type": "markdown",
   "id": "5cfc7ace",
   "metadata": {
    "papermill": {
     "duration": 0.00254,
     "end_time": "2023-01-05T18:48:37.364067",
     "exception": false,
     "start_time": "2023-01-05T18:48:37.361527",
     "status": "completed"
    },
    "tags": []
   },
   "source": [
    "# Assign guides to cells"
   ]
  },
  {
   "cell_type": "code",
   "execution_count": 2,
   "id": "f00f04f0",
   "metadata": {
    "execution": {
     "iopub.execute_input": "2023-01-05T18:48:37.370365Z",
     "iopub.status.busy": "2023-01-05T18:48:37.370076Z",
     "iopub.status.idle": "2023-01-05T18:48:38.192666Z",
     "shell.execute_reply": "2023-01-05T18:48:38.191755Z"
    },
    "papermill": {
     "duration": 0.827934,
     "end_time": "2023-01-05T18:48:38.194556",
     "exception": false,
     "start_time": "2023-01-05T18:48:37.366622",
     "status": "completed"
    },
    "tags": []
   },
   "outputs": [],
   "source": [
    "import pandas as pd\n",
    "import matplotlib.pyplot as plt"
   ]
  },
  {
   "cell_type": "code",
   "execution_count": 3,
   "id": "16d59b2d",
   "metadata": {
    "execution": {
     "iopub.execute_input": "2023-01-05T18:48:38.202848Z",
     "iopub.status.busy": "2023-01-05T18:48:38.202590Z",
     "iopub.status.idle": "2023-01-05T18:48:38.205763Z",
     "shell.execute_reply": "2023-01-05T18:48:38.205132Z"
    },
    "papermill": {
     "duration": 0.009302,
     "end_time": "2023-01-05T18:48:38.206988",
     "exception": false,
     "start_time": "2023-01-05T18:48:38.197686",
     "status": "completed"
    },
    "tags": []
   },
   "outputs": [],
   "source": [
    "# library = \"CRISPR8\"",
    "# fastq_path = \"/home/vsevim/prj/tf/CATATAC_4/data//atac_and_guidecap\"",
    "# tsv_path = '{PATH_TO_TSV_2}'"
   ]
  },
  {
   "cell_type": "code",
   "execution_count": 4,
   "id": "cfa45646",
   "metadata": {
    "execution": {
     "iopub.execute_input": "2023-01-05T18:48:38.213035Z",
     "iopub.status.busy": "2023-01-05T18:48:38.212800Z",
     "iopub.status.idle": "2023-01-05T18:48:38.216026Z",
     "shell.execute_reply": "2023-01-05T18:48:38.215287Z"
    },
    "papermill": {
     "duration": 0.007694,
     "end_time": "2023-01-05T18:48:38.217239",
     "exception": false,
     "start_time": "2023-01-05T18:48:38.209545",
     "status": "completed"
    },
    "tags": []
   },
   "outputs": [],
   "source": [
    "stats = []"
   ]
  },
  {
   "cell_type": "markdown",
   "id": "384d75c3",
   "metadata": {
    "papermill": {
     "duration": 0.002594,
     "end_time": "2023-01-05T18:48:38.222518",
     "exception": false,
     "start_time": "2023-01-05T18:48:38.219924",
     "status": "completed"
    },
    "tags": []
   },
   "source": [
    "Count raw reads"
   ]
  },
  {
   "cell_type": "code",
   "execution_count": 5,
   "id": "e1a18b8a",
   "metadata": {
    "execution": {
     "iopub.execute_input": "2023-01-05T18:48:38.228910Z",
     "iopub.status.busy": "2023-01-05T18:48:38.228366Z",
     "iopub.status.idle": "2023-01-05T18:49:01.700166Z",
     "shell.execute_reply": "2023-01-05T18:49:01.699108Z"
    },
    "papermill": {
     "duration": 23.477595,
     "end_time": "2023-01-05T18:49:01.702673",
     "exception": false,
     "start_time": "2023-01-05T18:48:38.225078",
     "status": "completed"
    },
    "tags": []
   },
   "outputs": [],
   "source": [
    "n_raw_reads = !zcat {fastq_path}/{library}*R1*.fastq.gz | grep \"^@\" | wc -l\n",
    "n_raw_reads = int(n_raw_reads[0])\n",
    "stats += [['Raw Reads', n_raw_reads]]"
   ]
  },
  {
   "cell_type": "markdown",
   "id": "aea60caa",
   "metadata": {
    "papermill": {
     "duration": 0.003141,
     "end_time": "2023-01-05T18:49:01.712399",
     "exception": false,
     "start_time": "2023-01-05T18:49:01.709258",
     "status": "completed"
    },
    "tags": []
   },
   "source": [
    "Count reads w CS1"
   ]
  },
  {
   "cell_type": "code",
   "execution_count": 6,
   "id": "53078d02",
   "metadata": {
    "execution": {
     "iopub.execute_input": "2023-01-05T18:49:01.719211Z",
     "iopub.status.busy": "2023-01-05T18:49:01.719049Z",
     "iopub.status.idle": "2023-01-05T18:49:05.867932Z",
     "shell.execute_reply": "2023-01-05T18:49:05.866634Z"
    },
    "papermill": {
     "duration": 4.154947,
     "end_time": "2023-01-05T18:49:05.870354",
     "exception": false,
     "start_time": "2023-01-05T18:49:01.715407",
     "status": "completed"
    },
    "tags": []
   },
   "outputs": [],
   "source": [
    "n_reads_w_CS1 = !zcat {tsv_path}/{library}*w_CS.TSV.gz | wc -l\n",
    "n_reads_w_CS1 = int(n_reads_w_CS1[0])\n",
    "stats += [['Reads with CS1', n_reads_w_CS1]]"
   ]
  },
  {
   "cell_type": "code",
   "execution_count": 7,
   "id": "2766cd3f",
   "metadata": {
    "execution": {
     "iopub.execute_input": "2023-01-05T18:49:05.881365Z",
     "iopub.status.busy": "2023-01-05T18:49:05.881026Z",
     "iopub.status.idle": "2023-01-05T18:49:05.893867Z",
     "shell.execute_reply": "2023-01-05T18:49:05.893229Z"
    },
    "papermill": {
     "duration": 0.01867,
     "end_time": "2023-01-05T18:49:05.895545",
     "exception": false,
     "start_time": "2023-01-05T18:49:05.876875",
     "status": "completed"
    },
    "tags": []
   },
   "outputs": [
    {
     "data": {
      "text/plain": [
       "[['Raw Reads', 17419229], ['Reads with CS1', 4313770]]"
      ]
     },
     "execution_count": 7,
     "metadata": {},
     "output_type": "execute_result"
    }
   ],
   "source": [
    "stats"
   ]
  },
  {
   "cell_type": "markdown",
   "id": "28ea8fc2",
   "metadata": {
    "papermill": {
     "duration": 0.002874,
     "end_time": "2023-01-05T18:49:05.901954",
     "exception": false,
     "start_time": "2023-01-05T18:49:05.899080",
     "status": "completed"
    },
    "tags": []
   },
   "source": [
    "### Load the barcode, umi, guide csv"
   ]
  },
  {
   "cell_type": "code",
   "execution_count": 8,
   "id": "f17034f2",
   "metadata": {
    "execution": {
     "iopub.execute_input": "2023-01-05T18:49:05.908664Z",
     "iopub.status.busy": "2023-01-05T18:49:05.908376Z",
     "iopub.status.idle": "2023-01-05T18:49:05.912650Z",
     "shell.execute_reply": "2023-01-05T18:49:05.911716Z"
    },
    "papermill": {
     "duration": 0.00922,
     "end_time": "2023-01-05T18:49:05.913952",
     "exception": false,
     "start_time": "2023-01-05T18:49:05.904732",
     "status": "completed"
    },
    "tags": []
   },
   "outputs": [],
   "source": [
    "#library = library.upper()\n",
    "tsv_path = f\"{tsv_path}/{library}_ALL_STRUCTURED.TSV\""
   ]
  },
  {
   "cell_type": "markdown",
   "id": "d6cd29dd",
   "metadata": {
    "papermill": {
     "duration": 0.004947,
     "end_time": "2023-01-05T18:49:05.921845",
     "exception": false,
     "start_time": "2023-01-05T18:49:05.916898",
     "status": "completed"
    },
    "tags": []
   },
   "source": [
    "### Deduplicate "
   ]
  },
  {
   "cell_type": "code",
   "execution_count": 9,
   "id": "670db448",
   "metadata": {
    "execution": {
     "iopub.execute_input": "2023-01-05T18:49:05.930614Z",
     "iopub.status.busy": "2023-01-05T18:49:05.929863Z",
     "iopub.status.idle": "2023-01-05T18:49:11.897947Z",
     "shell.execute_reply": "2023-01-05T18:49:11.897035Z"
    },
    "papermill": {
     "duration": 5.974073,
     "end_time": "2023-01-05T18:49:11.900255",
     "exception": false,
     "start_time": "2023-01-05T18:49:05.926182",
     "status": "completed"
    },
    "tags": []
   },
   "outputs": [],
   "source": [
    "df_needs_dedup = pd.read_csv(tsv_path, sep=\"\\t\")\n",
    "# I was deduplicating by umi only until analyzing condition 6, \n",
    "# but I need to deduplicate by umi+protospacer\n",
    "df = df_needs_dedup.drop_duplicates(subset=[\"umi\", \"protospacer\"], keep='first')"
   ]
  },
  {
   "cell_type": "code",
   "execution_count": 10,
   "id": "46b4e36d",
   "metadata": {
    "execution": {
     "iopub.execute_input": "2023-01-05T18:49:11.911818Z",
     "iopub.status.busy": "2023-01-05T18:49:11.911499Z",
     "iopub.status.idle": "2023-01-05T18:49:11.925290Z",
     "shell.execute_reply": "2023-01-05T18:49:11.924563Z"
    },
    "papermill": {
     "duration": 0.019775,
     "end_time": "2023-01-05T18:49:11.927202",
     "exception": false,
     "start_time": "2023-01-05T18:49:11.907427",
     "status": "completed"
    },
    "tags": []
   },
   "outputs": [
    {
     "data": {
      "text/html": [
       "<div>\n",
       "<style scoped>\n",
       "    .dataframe tbody tr th:only-of-type {\n",
       "        vertical-align: middle;\n",
       "    }\n",
       "\n",
       "    .dataframe tbody tr th {\n",
       "        vertical-align: top;\n",
       "    }\n",
       "\n",
       "    .dataframe thead th {\n",
       "        text-align: right;\n",
       "    }\n",
       "</style>\n",
       "<table border=\"1\" class=\"dataframe\">\n",
       "  <thead>\n",
       "    <tr style=\"text-align: right;\">\n",
       "      <th></th>\n",
       "      <th>atac_barcode</th>\n",
       "      <th>umi</th>\n",
       "      <th>protospacer</th>\n",
       "      <th>guide</th>\n",
       "      <th>gene</th>\n",
       "      <th>read_name</th>\n",
       "      <th>barcode</th>\n",
       "    </tr>\n",
       "  </thead>\n",
       "  <tbody>\n",
       "    <tr>\n",
       "      <th>0</th>\n",
       "      <td>GTCCGTTAGCTATTGT</td>\n",
       "      <td>CNCTTTTTTCAC</td>\n",
       "      <td>GCTGACCCTGCGGGGAAGAA</td>\n",
       "      <td>GATA5_1</td>\n",
       "      <td>GATA5</td>\n",
       "      <td>A01102:502:HF5LTDSX5:4:1101:24867:1000</td>\n",
       "      <td>AAGCGGGTCTAAATCG</td>\n",
       "    </tr>\n",
       "    <tr>\n",
       "      <th>1</th>\n",
       "      <td>TTAGGTTTCAGCTACC</td>\n",
       "      <td>TCATTATGTATT</td>\n",
       "      <td>GCTGACCCTGCGGGGAAGAA</td>\n",
       "      <td>GATA5_1</td>\n",
       "      <td>GATA5</td>\n",
       "      <td>A01102:502:HF5LTDSX5:4:1101:23601:1094</td>\n",
       "      <td>GCACCTAAGTCTTGAA</td>\n",
       "    </tr>\n",
       "    <tr>\n",
       "      <th>2</th>\n",
       "      <td>TAACACGCACGGTAAC</td>\n",
       "      <td>GTATACTTTGCG</td>\n",
       "      <td>GCTGACCCTGCGGGGAAGAA</td>\n",
       "      <td>GATA5_1</td>\n",
       "      <td>GATA5</td>\n",
       "      <td>A01102:502:HF5LTDSX5:4:1101:19542:1235</td>\n",
       "      <td>TCGCATTGTCCTAATC</td>\n",
       "    </tr>\n",
       "    <tr>\n",
       "      <th>3</th>\n",
       "      <td>GTCCGTTAGCTATTGT</td>\n",
       "      <td>CTCTTTTTTCAC</td>\n",
       "      <td>GCTGACCCTGCGGGGAAGAA</td>\n",
       "      <td>GATA5_1</td>\n",
       "      <td>GATA5</td>\n",
       "      <td>A01102:502:HF5LTDSX5:4:1101:24804:1297</td>\n",
       "      <td>AAGCGGGTCTAAATCG</td>\n",
       "    </tr>\n",
       "    <tr>\n",
       "      <th>4</th>\n",
       "      <td>TTTAACCAGTTAACCT</td>\n",
       "      <td>ATCATGTATTTG</td>\n",
       "      <td>GCTGACCCTGCGGGGAAGAA</td>\n",
       "      <td>GATA5_1</td>\n",
       "      <td>GATA5</td>\n",
       "      <td>A01102:502:HF5LTDSX5:4:1101:3360:1329</td>\n",
       "      <td>AGCTAGTTCTGTAAGC</td>\n",
       "    </tr>\n",
       "  </tbody>\n",
       "</table>\n",
       "</div>"
      ],
      "text/plain": [
       "       atac_barcode           umi           protospacer    guide   gene  \\\n",
       "0  GTCCGTTAGCTATTGT  CNCTTTTTTCAC  GCTGACCCTGCGGGGAAGAA  GATA5_1  GATA5   \n",
       "1  TTAGGTTTCAGCTACC  TCATTATGTATT  GCTGACCCTGCGGGGAAGAA  GATA5_1  GATA5   \n",
       "2  TAACACGCACGGTAAC  GTATACTTTGCG  GCTGACCCTGCGGGGAAGAA  GATA5_1  GATA5   \n",
       "3  GTCCGTTAGCTATTGT  CTCTTTTTTCAC  GCTGACCCTGCGGGGAAGAA  GATA5_1  GATA5   \n",
       "4  TTTAACCAGTTAACCT  ATCATGTATTTG  GCTGACCCTGCGGGGAAGAA  GATA5_1  GATA5   \n",
       "\n",
       "                                read_name           barcode  \n",
       "0  A01102:502:HF5LTDSX5:4:1101:24867:1000  AAGCGGGTCTAAATCG  \n",
       "1  A01102:502:HF5LTDSX5:4:1101:23601:1094  GCACCTAAGTCTTGAA  \n",
       "2  A01102:502:HF5LTDSX5:4:1101:19542:1235  TCGCATTGTCCTAATC  \n",
       "3  A01102:502:HF5LTDSX5:4:1101:24804:1297  AAGCGGGTCTAAATCG  \n",
       "4   A01102:502:HF5LTDSX5:4:1101:3360:1329  AGCTAGTTCTGTAAGC  "
      ]
     },
     "execution_count": 10,
     "metadata": {},
     "output_type": "execute_result"
    }
   ],
   "source": [
    "df_needs_dedup.head()"
   ]
  },
  {
   "cell_type": "code",
   "execution_count": 11,
   "id": "ca8a288a",
   "metadata": {
    "execution": {
     "iopub.execute_input": "2023-01-05T18:49:11.937783Z",
     "iopub.status.busy": "2023-01-05T18:49:11.937522Z",
     "iopub.status.idle": "2023-01-05T18:49:12.483962Z",
     "shell.execute_reply": "2023-01-05T18:49:12.483157Z"
    },
    "papermill": {
     "duration": 0.552464,
     "end_time": "2023-01-05T18:49:12.486200",
     "exception": false,
     "start_time": "2023-01-05T18:49:11.933736",
     "status": "completed"
    },
    "tags": []
   },
   "outputs": [
    {
     "data": {
      "text/plain": [
       "80958"
      ]
     },
     "execution_count": 11,
     "metadata": {},
     "output_type": "execute_result"
    }
   ],
   "source": [
    "# Count unique barcodes before protospacer check etc\n",
    "len(df_needs_dedup.drop_duplicates(subset = \"barcode\"))"
   ]
  },
  {
   "cell_type": "code",
   "execution_count": 12,
   "id": "05f1b7d4",
   "metadata": {
    "execution": {
     "iopub.execute_input": "2023-01-05T18:49:12.498175Z",
     "iopub.status.busy": "2023-01-05T18:49:12.497866Z",
     "iopub.status.idle": "2023-01-05T18:49:12.503180Z",
     "shell.execute_reply": "2023-01-05T18:49:12.502343Z"
    },
    "papermill": {
     "duration": 0.011389,
     "end_time": "2023-01-05T18:49:12.505103",
     "exception": false,
     "start_time": "2023-01-05T18:49:12.493714",
     "status": "completed"
    },
    "tags": []
   },
   "outputs": [],
   "source": [
    "n_reads_w_PS  = len(df_needs_dedup)\n",
    "n_dedup_reads = len(df)\n",
    "\n",
    "stats += [['Reads with Protospacer', n_reads_w_PS]]\n",
    "stats += [['Dedup reads', n_dedup_reads]]\n"
   ]
  },
  {
   "cell_type": "code",
   "execution_count": 13,
   "id": "6297fa3e",
   "metadata": {
    "execution": {
     "iopub.execute_input": "2023-01-05T18:49:12.516463Z",
     "iopub.status.busy": "2023-01-05T18:49:12.516093Z",
     "iopub.status.idle": "2023-01-05T18:49:12.569295Z",
     "shell.execute_reply": "2023-01-05T18:49:12.568367Z"
    },
    "papermill": {
     "duration": 0.060249,
     "end_time": "2023-01-05T18:49:12.571359",
     "exception": false,
     "start_time": "2023-01-05T18:49:12.511110",
     "status": "completed"
    },
    "tags": []
   },
   "outputs": [],
   "source": [
    "n_uniq_barcodes = len(df['barcode'].unique())\n",
    "stats += [[\"Unique barcodes\", n_uniq_barcodes]]"
   ]
  },
  {
   "cell_type": "markdown",
   "id": "e582b0a6",
   "metadata": {
    "papermill": {
     "duration": 0.003133,
     "end_time": "2023-01-05T18:49:12.581442",
     "exception": false,
     "start_time": "2023-01-05T18:49:12.578309",
     "status": "completed"
    },
    "tags": []
   },
   "source": [
    "### Count UMIs per barcode"
   ]
  },
  {
   "cell_type": "code",
   "execution_count": 14,
   "id": "1d079461",
   "metadata": {
    "execution": {
     "iopub.execute_input": "2023-01-05T18:49:12.589149Z",
     "iopub.status.busy": "2023-01-05T18:49:12.588833Z",
     "iopub.status.idle": "2023-01-05T18:49:12.655722Z",
     "shell.execute_reply": "2023-01-05T18:49:12.654882Z"
    },
    "papermill": {
     "duration": 0.072953,
     "end_time": "2023-01-05T18:49:12.657520",
     "exception": false,
     "start_time": "2023-01-05T18:49:12.584567",
     "status": "completed"
    },
    "tags": []
   },
   "outputs": [
    {
     "data": {
      "text/plain": [
       "CGCATTACATCATGTG    231\n",
       "TTCAACCGTCCGCTGT    230\n",
       "CCCAGCACAGTGAACG    216\n",
       "CACTTAAAGCTCAATA    211\n",
       "CATGCGCAGGATCACT    210\n",
       "Name: barcode, dtype: int64"
      ]
     },
     "execution_count": 14,
     "metadata": {},
     "output_type": "execute_result"
    }
   ],
   "source": [
    "barcode_counts = df['barcode'].value_counts()\n",
    "barcode_counts.head()"
   ]
  },
  {
   "cell_type": "code",
   "execution_count": 15,
   "id": "e37c211b",
   "metadata": {
    "execution": {
     "iopub.execute_input": "2023-01-05T18:49:12.669047Z",
     "iopub.status.busy": "2023-01-05T18:49:12.668734Z",
     "iopub.status.idle": "2023-01-05T18:49:13.184244Z",
     "shell.execute_reply": "2023-01-05T18:49:13.183643Z"
    },
    "papermill": {
     "duration": 0.522562,
     "end_time": "2023-01-05T18:49:13.186393",
     "exception": false,
     "start_time": "2023-01-05T18:49:12.663831",
     "status": "completed"
    },
    "tags": []
   },
   "outputs": [
    {
     "data": {
      "image/png": "[encoded data removed]",
      "text/plain": [
       "<Figure size 432x288 with 1 Axes>"
      ]
     },
     "metadata": {
      "needs_background": "light"
     },
     "output_type": "display_data"
    }
   ],
   "source": [
    "plt.plot(barcode_counts.values)\n",
    "plt.yscale('log')\n",
    "plt.xlabel(\"Barcode Index (sorted by #UMIs)\")\n",
    "plt.ylabel(\"#UMIs\")\n",
    "plt.title(library)\n",
    "plt.savefig(\"plot1.png\")\n",
    "plt.show()"
   ]
  },
  {
   "cell_type": "markdown",
   "id": "549d583c",
   "metadata": {
    "papermill": {
     "duration": 0.003416,
     "end_time": "2023-01-05T18:49:13.197075",
     "exception": false,
     "start_time": "2023-01-05T18:49:13.193659",
     "status": "completed"
    },
    "tags": []
   },
   "source": [
    "### Count genes per barcode"
   ]
  },
  {
   "cell_type": "code",
   "execution_count": 16,
   "id": "55ac475d",
   "metadata": {
    "execution": {
     "iopub.execute_input": "2023-01-05T18:49:13.205314Z",
     "iopub.status.busy": "2023-01-05T18:49:13.204996Z",
     "iopub.status.idle": "2023-01-05T18:49:13.270886Z",
     "shell.execute_reply": "2023-01-05T18:49:13.270280Z"
    },
    "papermill": {
     "duration": 0.072341,
     "end_time": "2023-01-05T18:49:13.272843",
     "exception": false,
     "start_time": "2023-01-05T18:49:13.200502",
     "status": "completed"
    },
    "tags": []
   },
   "outputs": [
    {
     "data": {
      "text/plain": [
       "CGCATTACATCATGTG    231\n",
       "TTCAACCGTCCGCTGT    230\n",
       "CCCAGCACAGTGAACG    216\n",
       "CACTTAAAGCTCAATA    211\n",
       "CATGCGCAGGATCACT    210\n",
       "Name: barcode, dtype: int64"
      ]
     },
     "execution_count": 16,
     "metadata": {},
     "output_type": "execute_result"
    }
   ],
   "source": [
    "barcode_counts = df['barcode'].value_counts()\n",
    "barcode_counts.head()"
   ]
  },
  {
   "cell_type": "code",
   "execution_count": 17,
   "id": "6c01f641",
   "metadata": {
    "execution": {
     "iopub.execute_input": "2023-01-05T18:49:13.285885Z",
     "iopub.status.busy": "2023-01-05T18:49:13.285572Z",
     "iopub.status.idle": "2023-01-05T18:49:13.289275Z",
     "shell.execute_reply": "2023-01-05T18:49:13.288589Z"
    },
    "papermill": {
     "duration": 0.009734,
     "end_time": "2023-01-05T18:49:13.290422",
     "exception": false,
     "start_time": "2023-01-05T18:49:13.280688",
     "status": "completed"
    },
    "tags": []
   },
   "outputs": [],
   "source": [
    "#------------------------------------------------------------------------------------"
   ]
  },
  {
   "cell_type": "code",
   "execution_count": 18,
   "id": "15f75498",
   "metadata": {
    "execution": {
     "iopub.execute_input": "2023-01-05T18:49:13.299305Z",
     "iopub.status.busy": "2023-01-05T18:49:13.298663Z",
     "iopub.status.idle": "2023-01-05T18:49:13.308202Z",
     "shell.execute_reply": "2023-01-05T18:49:13.307548Z"
    },
    "papermill": {
     "duration": 0.015724,
     "end_time": "2023-01-05T18:49:13.310076",
     "exception": false,
     "start_time": "2023-01-05T18:49:13.294352",
     "status": "completed"
    },
    "tags": []
   },
   "outputs": [
    {
     "data": {
      "text/html": [
       "<div>\n",
       "<style scoped>\n",
       "    .dataframe tbody tr th:only-of-type {\n",
       "        vertical-align: middle;\n",
       "    }\n",
       "\n",
       "    .dataframe tbody tr th {\n",
       "        vertical-align: top;\n",
       "    }\n",
       "\n",
       "    .dataframe thead th {\n",
       "        text-align: right;\n",
       "    }\n",
       "</style>\n",
       "<table border=\"1\" class=\"dataframe\">\n",
       "  <thead>\n",
       "    <tr style=\"text-align: right;\">\n",
       "      <th></th>\n",
       "      <th>Stat</th>\n",
       "      <th>Count</th>\n",
       "    </tr>\n",
       "  </thead>\n",
       "  <tbody>\n",
       "    <tr>\n",
       "      <th>0</th>\n",
       "      <td>Raw Reads</td>\n",
       "      <td>17419229</td>\n",
       "    </tr>\n",
       "    <tr>\n",
       "      <th>1</th>\n",
       "      <td>Reads with CS1</td>\n",
       "      <td>4313770</td>\n",
       "    </tr>\n",
       "    <tr>\n",
       "      <th>2</th>\n",
       "      <td>Reads with Protospacer</td>\n",
       "      <td>3877416</td>\n",
       "    </tr>\n",
       "    <tr>\n",
       "      <th>3</th>\n",
       "      <td>Dedup reads</td>\n",
       "      <td>362754</td>\n",
       "    </tr>\n",
       "    <tr>\n",
       "      <th>4</th>\n",
       "      <td>Unique barcodes</td>\n",
       "      <td>76694</td>\n",
       "    </tr>\n",
       "  </tbody>\n",
       "</table>\n",
       "</div>"
      ],
      "text/plain": [
       "                     Stat     Count\n",
       "0               Raw Reads  17419229\n",
       "1          Reads with CS1   4313770\n",
       "2  Reads with Protospacer   3877416\n",
       "3             Dedup reads    362754\n",
       "4         Unique barcodes     76694"
      ]
     },
     "execution_count": 18,
     "metadata": {},
     "output_type": "execute_result"
    }
   ],
   "source": [
    "df_stats = pd.DataFrame(stats, columns=[\"Stat\", \"Count\"])\n",
    "df_stats"
   ]
  },
  {
   "cell_type": "code",
   "execution_count": 19,
   "id": "5fbaf9da",
   "metadata": {
    "execution": {
     "iopub.execute_input": "2023-01-05T18:49:13.322583Z",
     "iopub.status.busy": "2023-01-05T18:49:13.322284Z",
     "iopub.status.idle": "2023-01-05T18:49:13.326927Z",
     "shell.execute_reply": "2023-01-05T18:49:13.326239Z"
    },
    "papermill": {
     "duration": 0.010266,
     "end_time": "2023-01-05T18:49:13.328043",
     "exception": false,
     "start_time": "2023-01-05T18:49:13.317777",
     "status": "completed"
    },
    "tags": []
   },
   "outputs": [
    {
     "name": "stdout",
     "output_type": "stream",
     "text": [
      "17419229\n",
      "4313770\n",
      "3877416\n",
      "362754\n",
      "76694\n"
     ]
    }
   ],
   "source": [
    "for i in df_stats.Count:\n",
    "    print(i)"
   ]
  }
 ],
 "metadata": {
  "kernelspec": {
   "display_name": "Python 3 (ipykernel)",
   "language": "python",
   "name": "python3"
  },
  "language_info": {
   "codemirror_mode": {
    "name": "ipython",
    "version": 3
   },
   "file_extension": ".py",
   "mimetype": "text/x-python",
   "name": "python",
   "nbconvert_exporter": "python",
   "pygments_lexer": "ipython3",
   "version": "3.9.7"
  },
  "papermill": {
   "default_parameters": {},
   "duration": 37.566104,
   "end_time": "2023-01-05T18:49:13.979089",
   "environment_variables": {},
   "exception": null,
   "input_path": "/home/vsevim/prj/workflows/catatac/secondary//01_assign_guides_to_cells.py.ipynb",
   "output_path": "/home/jupyter-ayang/notebooks/cat-atac_pipeline/cond9/secondary/output/notebooks/01_assign_guides_to_cells.py.ipynb",
   "parameters": {
    "fastq_path": "/mnt/LGR_FASTQ/CAT_seqdata/221121_A01102_0502_AHF5LTDSX5_RNA_ATAC/LGR_GA_02",
    "library": "CRISPR9",
    "tsv_path": "/home/jupyter-ayang/notebooks/cat-atac_pipeline/cond9/output/tsv"
   },
   "start_time": "2023-01-05T18:48:36.412985",
   "version": "2.4.0"
  },
  "vscode": {
   "interpreter": {
    "hash": "31f2aee4e71d21fbe5cf8b01ff0e069b9275f58929596ceb00d14d90e3e16cd6"
   }
  }
 },
 "nbformat": 4,
 "nbformat_minor": 5
}