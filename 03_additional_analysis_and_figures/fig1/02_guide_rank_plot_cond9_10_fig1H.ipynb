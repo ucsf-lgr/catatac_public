{
 "cells": [
  {
   "cell_type": "code",
   "execution_count": 1,
   "id": "8bf3ccf2",
   "metadata": {
    "vscode": {
     "languageId": "r"
    }
   },
   "outputs": [],
   "source": [
    "# Parameters\n",
    "h5_name = '{PATH_TO_CATATAC_5_CRISPR9_ONLY_SINGLETS_H5SEURAT}'\n",
    "protosp_path = '{PATH_TO_PROTOSPACERS_4SET_TSV}'\n",
    "library = \"CRISPR9\"\n",
    "tsv_path = '{PATH_TO_TSV}'\n"
   ]
  },
  {
   "cell_type": "code",
   "execution_count": 2,
   "id": "6762b952",
   "metadata": {
    "vscode": {
     "languageId": "r"
    }
   },
   "outputs": [
    {
     "name": "stdout",
     "output_type": "stream",
     "text": [
      "Error in .make_numeric_version(x, strict, .standard_regexps()$valid_numeric_version) : \n",
      "  invalid non-character version specification 'x' (type: double)\n"
     ]
    },
    {
     "name": "stderr",
     "output_type": "stream",
     "text": [
      "Attaching SeuratObject\n",
      "\n",
      "Attaching sp\n",
      "\n",
      "Registered S3 method overwritten by 'SeuratDisk':\n",
      "  method            from  \n",
      "  as.sparse.H5Group Seurat\n",
      "\n",
      "\n",
      "Attaching package: ‘dplyr’\n",
      "\n",
      "\n",
      "The following objects are masked from ‘package:stats’:\n",
      "\n",
      "    filter, lag\n",
      "\n",
      "\n",
      "The following objects are masked from ‘package:base’:\n",
      "\n",
      "    intersect, setdiff, setequal, union\n",
      "\n",
      "\n",
      "\n",
      "Attaching package: ‘crayon’\n",
      "\n",
      "\n",
      "The following object is masked from ‘package:ggplot2’:\n",
      "\n",
      "    %+%\n",
      "\n",
      "\n"
     ]
    }
   ],
   "source": [
    "library(Seurat)\n",
    "library(SeuratDisk)\n",
    "library(dplyr)\n",
    "library(ggplot2)\n",
    "library(patchwork)\n",
    "library(stringr)\n",
    "library(crayon)"
   ]
  },
  {
   "cell_type": "code",
   "execution_count": 3,
   "id": "22e4e254",
   "metadata": {
    "vscode": {
     "languageId": "r"
    }
   },
   "outputs": [],
   "source": [
    "h5_w_gcap_name <- sub(\".h5seurat\", \"_w_GUIDE_CAP.h5seurat\", h5_name)\n",
    "barcode2guide_tsv_path <- paste0(tsv_path, '{PATH_TO_LIBRARY_ALL_STRUCTURED_TSV}')\n",
    "tsv_name <- paste0(tsv_path, '{PATH_TO_LIBRARY_PIVOT_TSV}')"
   ]
  },
  {
   "cell_type": "code",
   "execution_count": 4,
   "id": "176d4cc8",
   "metadata": {
    "vscode": {
     "languageId": "r"
    }
   },
   "outputs": [],
   "source": [
    "df_protosp = read.table(protosp_path, header=TRUE, comment.char=\"\")"
   ]
  },
  {
   "cell_type": "code",
   "execution_count": 5,
   "id": "4dd8d418",
   "metadata": {
    "vscode": {
     "languageId": "r"
    }
   },
   "outputs": [
    {
     "data": {
      "text/html": [
       "<style>\n",
       ".list-inline {list-style: none; margin:0; padding: 0}\n",
       ".list-inline>li {display: inline-block}\n",
       ".list-inline>li:not(:last-child)::after {content: \"\\00b7\"; padding: 0 .5ex}\n",
       "</style>\n",
       "<ol class=list-inline><li>'GATA5'</li><li>'MEOX1'</li><li>'NEUROG2'</li></ol>\n"
      ],
      "text/latex": [
       "\\begin{enumerate*}\n",
       "\\item 'GATA5'\n",
       "\\item 'MEOX1'\n",
       "\\item 'NEUROG2'\n",
       "\\end{enumerate*}\n"
      ],
      "text/markdown": [
       "1. 'GATA5'\n",
       "2. 'MEOX1'\n",
       "3. 'NEUROG2'\n",
       "\n",
       "\n"
      ],
      "text/plain": [
       "[1] \"GATA5\"   \"MEOX1\"   \"NEUROG2\""
      ]
     },
     "metadata": {},
     "output_type": "display_data"
    },
    {
     "data": {
      "text/html": [
       "<style>\n",
       ".list-inline {list-style: none; margin:0; padding: 0}\n",
       ".list-inline>li {display: inline-block}\n",
       ".list-inline>li:not(:last-child)::after {content: \"\\00b7\"; padding: 0 .5ex}\n",
       "</style>\n",
       "<ol class=list-inline><li>'GATA5_1'</li><li>'GATA5_2'</li><li>'MEOX1_1'</li><li>'MEOX1_2'</li><li>'NEUROG2_1'</li><li>'NEUROG2_2'</li><li>'NTCTL_1'</li><li>'NTCTL_2'</li></ol>\n"
      ],
      "text/latex": [
       "\\begin{enumerate*}\n",
       "\\item 'GATA5\\_1'\n",
       "\\item 'GATA5\\_2'\n",
       "\\item 'MEOX1\\_1'\n",
       "\\item 'MEOX1\\_2'\n",
       "\\item 'NEUROG2\\_1'\n",
       "\\item 'NEUROG2\\_2'\n",
       "\\item 'NTCTL\\_1'\n",
       "\\item 'NTCTL\\_2'\n",
       "\\end{enumerate*}\n"
      ],
      "text/markdown": [
       "1. 'GATA5_1'\n",
       "2. 'GATA5_2'\n",
       "3. 'MEOX1_1'\n",
       "4. 'MEOX1_2'\n",
       "5. 'NEUROG2_1'\n",
       "6. 'NEUROG2_2'\n",
       "7. 'NTCTL_1'\n",
       "8. 'NTCTL_2'\n",
       "\n",
       "\n"
      ],
      "text/plain": [
       "[1] \"GATA5_1\"   \"GATA5_2\"   \"MEOX1_1\"   \"MEOX1_2\"   \"NEUROG2_1\" \"NEUROG2_2\"\n",
       "[7] \"NTCTL_1\"   \"NTCTL_2\"  "
      ]
     },
     "metadata": {},
     "output_type": "display_data"
    }
   ],
   "source": [
    "tfs_w_ntctl    = unique(df_protosp$X.TargetGene)\n",
    "unselect_ntctl = (tfs_w_ntctl != \"NTCTL\") & (tfs_w_ntctl != \"NTCTRL\")\n",
    "tfs_to_plot    = tfs_w_ntctl[unselect_ntctl]\n",
    "\n",
    "guides_to_plot  = df_protosp$GuideName\n",
    "tfs_to_plot\n",
    "guides_to_plot"
   ]
  },
  {
   "cell_type": "code",
   "execution_count": 6,
   "id": "72156fea",
   "metadata": {
    "vscode": {
     "languageId": "r"
    }
   },
   "outputs": [
    {
     "data": {
      "text/html": [
       "<table class=\"dataframe\">\n",
       "<caption>A matrix: 8 × 80957 of type int</caption>\n",
       "<thead>\n",
       "\t<tr><th></th><th scope=col>AAACAGCCAAACATAG-1</th><th scope=col>AAACAGCCAAACGCGA-1</th><th scope=col>AAACAGCCAAAGCGCA-1</th><th scope=col>AAACAGCCAAATATCC-1</th><th scope=col>AAACAGCCAAATTGCT-1</th><th scope=col>AAACAGCCAACTAGAA-1</th><th scope=col>AAACAGCCAACTGGCT-1</th><th scope=col>AAACAGCCAATAGCCC-1</th><th scope=col>AAACAGCCAATATACC-1</th><th scope=col>AAACAGCCAATCCTAG-1</th><th scope=col>⋯</th><th scope=col>TTTGTTGGTTAGCGTA-1</th><th scope=col>TTTGTTGGTTAGTACG-1</th><th scope=col>TTTGTTGGTTCACCAT-1</th><th scope=col>TTTGTTGGTTCGCTCA-1</th><th scope=col>TTTGTTGGTTCTTTAG-1</th><th scope=col>TTTGTTGGTTGGTTAG-1</th><th scope=col>TTTGTTGGTTGTCCAT-1</th><th scope=col>TTTGTTGGTTTACCGT-1</th><th scope=col>TTTGTTGGTTTGCGCC-1</th><th scope=col>TTTGTTGGTTTGTCTA-1</th></tr>\n",
       "</thead>\n",
       "<tbody>\n",
       "\t<tr><th scope=row>GATA5_1</th><td>18</td><td> 2</td><td> 0</td><td> 0</td><td> 0</td><td> 8</td><td>6</td><td> 8</td><td>0</td><td> 0</td><td>⋯</td><td> 2</td><td> 0</td><td> 0</td><td>2</td><td>0</td><td> 0</td><td>2</td><td> 0</td><td>0</td><td> 0</td></tr>\n",
       "\t<tr><th scope=row>GATA5_2</th><td> 0</td><td> 0</td><td> 0</td><td> 0</td><td> 0</td><td>11</td><td>0</td><td>13</td><td>0</td><td> 0</td><td>⋯</td><td> 9</td><td> 0</td><td> 0</td><td>7</td><td>0</td><td> 0</td><td>0</td><td> 0</td><td>2</td><td> 0</td></tr>\n",
       "\t<tr><th scope=row>MEOX1_1</th><td> 0</td><td>23</td><td>12</td><td>11</td><td>18</td><td>25</td><td>0</td><td> 0</td><td>3</td><td>15</td><td>⋯</td><td>11</td><td> 2</td><td> 0</td><td>0</td><td>9</td><td>14</td><td>0</td><td> 0</td><td>0</td><td> 2</td></tr>\n",
       "\t<tr><th scope=row>MEOX1_2</th><td> 0</td><td> 8</td><td> 0</td><td>24</td><td> 0</td><td> 0</td><td>0</td><td> 0</td><td>0</td><td> 0</td><td>⋯</td><td> 0</td><td> 3</td><td>12</td><td>0</td><td>0</td><td> 0</td><td>0</td><td> 0</td><td>0</td><td> 0</td></tr>\n",
       "\t<tr><th scope=row>NEUROG2_1</th><td>54</td><td> 2</td><td> 0</td><td> 0</td><td>10</td><td>15</td><td>6</td><td> 0</td><td>0</td><td> 0</td><td>⋯</td><td>17</td><td> 0</td><td> 0</td><td>0</td><td>0</td><td> 0</td><td>0</td><td> 9</td><td>2</td><td>21</td></tr>\n",
       "\t<tr><th scope=row>NEUROG2_2</th><td> 0</td><td>16</td><td>15</td><td> 0</td><td> 0</td><td> 6</td><td>0</td><td> 5</td><td>1</td><td> 0</td><td>⋯</td><td> 4</td><td> 0</td><td> 0</td><td>0</td><td>6</td><td> 7</td><td>9</td><td> 0</td><td>0</td><td> 0</td></tr>\n",
       "\t<tr><th scope=row>NTCTL_1</th><td> 0</td><td> 0</td><td> 0</td><td> 0</td><td> 0</td><td> 0</td><td>0</td><td> 0</td><td>0</td><td> 0</td><td>⋯</td><td>11</td><td> 0</td><td> 0</td><td>0</td><td>0</td><td> 0</td><td>0</td><td>32</td><td>0</td><td> 0</td></tr>\n",
       "\t<tr><th scope=row>NTCTL_2</th><td> 0</td><td> 0</td><td> 0</td><td> 0</td><td> 0</td><td> 0</td><td>0</td><td>12</td><td>6</td><td> 0</td><td>⋯</td><td> 0</td><td>11</td><td> 0</td><td>0</td><td>0</td><td> 0</td><td>0</td><td> 0</td><td>0</td><td> 0</td></tr>\n",
       "</tbody>\n",
       "</table>\n"
      ],
      "text/latex": [
       "A matrix: 8 × 80957 of type int\n",
       "\\begin{tabular}{r|lllllllllllllllllllll}\n",
       "  & AAACAGCCAAACATAG-1 & AAACAGCCAAACGCGA-1 & AAACAGCCAAAGCGCA-1 & AAACAGCCAAATATCC-1 & AAACAGCCAAATTGCT-1 & AAACAGCCAACTAGAA-1 & AAACAGCCAACTGGCT-1 & AAACAGCCAATAGCCC-1 & AAACAGCCAATATACC-1 & AAACAGCCAATCCTAG-1 & ⋯ & TTTGTTGGTTAGCGTA-1 & TTTGTTGGTTAGTACG-1 & TTTGTTGGTTCACCAT-1 & TTTGTTGGTTCGCTCA-1 & TTTGTTGGTTCTTTAG-1 & TTTGTTGGTTGGTTAG-1 & TTTGTTGGTTGTCCAT-1 & TTTGTTGGTTTACCGT-1 & TTTGTTGGTTTGCGCC-1 & TTTGTTGGTTTGTCTA-1\\\\\n",
       "\\hline\n",
       "\tGATA5\\_1 & 18 &  2 &  0 &  0 &  0 &  8 & 6 &  8 & 0 &  0 & ⋯ &  2 &  0 &  0 & 2 & 0 &  0 & 2 &  0 & 0 &  0\\\\\n",
       "\tGATA5\\_2 &  0 &  0 &  0 &  0 &  0 & 11 & 0 & 13 & 0 &  0 & ⋯ &  9 &  0 &  0 & 7 & 0 &  0 & 0 &  0 & 2 &  0\\\\\n",
       "\tMEOX1\\_1 &  0 & 23 & 12 & 11 & 18 & 25 & 0 &  0 & 3 & 15 & ⋯ & 11 &  2 &  0 & 0 & 9 & 14 & 0 &  0 & 0 &  2\\\\\n",
       "\tMEOX1\\_2 &  0 &  8 &  0 & 24 &  0 &  0 & 0 &  0 & 0 &  0 & ⋯ &  0 &  3 & 12 & 0 & 0 &  0 & 0 &  0 & 0 &  0\\\\\n",
       "\tNEUROG2\\_1 & 54 &  2 &  0 &  0 & 10 & 15 & 6 &  0 & 0 &  0 & ⋯ & 17 &  0 &  0 & 0 & 0 &  0 & 0 &  9 & 2 & 21\\\\\n",
       "\tNEUROG2\\_2 &  0 & 16 & 15 &  0 &  0 &  6 & 0 &  5 & 1 &  0 & ⋯ &  4 &  0 &  0 & 0 & 6 &  7 & 9 &  0 & 0 &  0\\\\\n",
       "\tNTCTL\\_1 &  0 &  0 &  0 &  0 &  0 &  0 & 0 &  0 & 0 &  0 & ⋯ & 11 &  0 &  0 & 0 & 0 &  0 & 0 & 32 & 0 &  0\\\\\n",
       "\tNTCTL\\_2 &  0 &  0 &  0 &  0 &  0 &  0 & 0 & 12 & 6 &  0 & ⋯ &  0 & 11 &  0 & 0 & 0 &  0 & 0 &  0 & 0 &  0\\\\\n",
       "\\end{tabular}\n"
      ],
      "text/markdown": [
       "\n",
       "A matrix: 8 × 80957 of type int\n",
       "\n",
       "| <!--/--> | AAACAGCCAAACATAG-1 | AAACAGCCAAACGCGA-1 | AAACAGCCAAAGCGCA-1 | AAACAGCCAAATATCC-1 | AAACAGCCAAATTGCT-1 | AAACAGCCAACTAGAA-1 | AAACAGCCAACTGGCT-1 | AAACAGCCAATAGCCC-1 | AAACAGCCAATATACC-1 | AAACAGCCAATCCTAG-1 | ⋯ | TTTGTTGGTTAGCGTA-1 | TTTGTTGGTTAGTACG-1 | TTTGTTGGTTCACCAT-1 | TTTGTTGGTTCGCTCA-1 | TTTGTTGGTTCTTTAG-1 | TTTGTTGGTTGGTTAG-1 | TTTGTTGGTTGTCCAT-1 | TTTGTTGGTTTACCGT-1 | TTTGTTGGTTTGCGCC-1 | TTTGTTGGTTTGTCTA-1 |\n",
       "|---|---|---|---|---|---|---|---|---|---|---|---|---|---|---|---|---|---|---|---|---|---|\n",
       "| GATA5_1 | 18 |  2 |  0 |  0 |  0 |  8 | 6 |  8 | 0 |  0 | ⋯ |  2 |  0 |  0 | 2 | 0 |  0 | 2 |  0 | 0 |  0 |\n",
       "| GATA5_2 |  0 |  0 |  0 |  0 |  0 | 11 | 0 | 13 | 0 |  0 | ⋯ |  9 |  0 |  0 | 7 | 0 |  0 | 0 |  0 | 2 |  0 |\n",
       "| MEOX1_1 |  0 | 23 | 12 | 11 | 18 | 25 | 0 |  0 | 3 | 15 | ⋯ | 11 |  2 |  0 | 0 | 9 | 14 | 0 |  0 | 0 |  2 |\n",
       "| MEOX1_2 |  0 |  8 |  0 | 24 |  0 |  0 | 0 |  0 | 0 |  0 | ⋯ |  0 |  3 | 12 | 0 | 0 |  0 | 0 |  0 | 0 |  0 |\n",
       "| NEUROG2_1 | 54 |  2 |  0 |  0 | 10 | 15 | 6 |  0 | 0 |  0 | ⋯ | 17 |  0 |  0 | 0 | 0 |  0 | 0 |  9 | 2 | 21 |\n",
       "| NEUROG2_2 |  0 | 16 | 15 |  0 |  0 |  6 | 0 |  5 | 1 |  0 | ⋯ |  4 |  0 |  0 | 0 | 6 |  7 | 9 |  0 | 0 |  0 |\n",
       "| NTCTL_1 |  0 |  0 |  0 |  0 |  0 |  0 | 0 |  0 | 0 |  0 | ⋯ | 11 |  0 |  0 | 0 | 0 |  0 | 0 | 32 | 0 |  0 |\n",
       "| NTCTL_2 |  0 |  0 |  0 |  0 |  0 |  0 | 0 | 12 | 6 |  0 | ⋯ |  0 | 11 |  0 | 0 | 0 |  0 | 0 |  0 | 0 |  0 |\n",
       "\n"
      ],
      "text/plain": [
       "          AAACAGCCAAACATAG-1 AAACAGCCAAACGCGA-1 AAACAGCCAAAGCGCA-1\n",
       "GATA5_1   18                  2                  0                \n",
       "GATA5_2    0                  0                  0                \n",
       "MEOX1_1    0                 23                 12                \n",
       "MEOX1_2    0                  8                  0                \n",
       "NEUROG2_1 54                  2                  0                \n",
       "NEUROG2_2  0                 16                 15                \n",
       "NTCTL_1    0                  0                  0                \n",
       "NTCTL_2    0                  0                  0                \n",
       "          AAACAGCCAAATATCC-1 AAACAGCCAAATTGCT-1 AAACAGCCAACTAGAA-1\n",
       "GATA5_1    0                  0                  8                \n",
       "GATA5_2    0                  0                 11                \n",
       "MEOX1_1   11                 18                 25                \n",
       "MEOX1_2   24                  0                  0                \n",
       "NEUROG2_1  0                 10                 15                \n",
       "NEUROG2_2  0                  0                  6                \n",
       "NTCTL_1    0                  0                  0                \n",
       "NTCTL_2    0                  0                  0                \n",
       "          AAACAGCCAACTGGCT-1 AAACAGCCAATAGCCC-1 AAACAGCCAATATACC-1\n",
       "GATA5_1   6                   8                 0                 \n",
       "GATA5_2   0                  13                 0                 \n",
       "MEOX1_1   0                   0                 3                 \n",
       "MEOX1_2   0                   0                 0                 \n",
       "NEUROG2_1 6                   0                 0                 \n",
       "NEUROG2_2 0                   5                 1                 \n",
       "NTCTL_1   0                   0                 0                 \n",
       "NTCTL_2   0                  12                 6                 \n",
       "          AAACAGCCAATCCTAG-1 ⋯ TTTGTTGGTTAGCGTA-1 TTTGTTGGTTAGTACG-1\n",
       "GATA5_1    0                 ⋯  2                  0                \n",
       "GATA5_2    0                 ⋯  9                  0                \n",
       "MEOX1_1   15                 ⋯ 11                  2                \n",
       "MEOX1_2    0                 ⋯  0                  3                \n",
       "NEUROG2_1  0                 ⋯ 17                  0                \n",
       "NEUROG2_2  0                 ⋯  4                  0                \n",
       "NTCTL_1    0                 ⋯ 11                  0                \n",
       "NTCTL_2    0                 ⋯  0                 11                \n",
       "          TTTGTTGGTTCACCAT-1 TTTGTTGGTTCGCTCA-1 TTTGTTGGTTCTTTAG-1\n",
       "GATA5_1    0                 2                  0                 \n",
       "GATA5_2    0                 7                  0                 \n",
       "MEOX1_1    0                 0                  9                 \n",
       "MEOX1_2   12                 0                  0                 \n",
       "NEUROG2_1  0                 0                  0                 \n",
       "NEUROG2_2  0                 0                  6                 \n",
       "NTCTL_1    0                 0                  0                 \n",
       "NTCTL_2    0                 0                  0                 \n",
       "          TTTGTTGGTTGGTTAG-1 TTTGTTGGTTGTCCAT-1 TTTGTTGGTTTACCGT-1\n",
       "GATA5_1    0                 2                   0                \n",
       "GATA5_2    0                 0                   0                \n",
       "MEOX1_1   14                 0                   0                \n",
       "MEOX1_2    0                 0                   0                \n",
       "NEUROG2_1  0                 0                   9                \n",
       "NEUROG2_2  7                 9                   0                \n",
       "NTCTL_1    0                 0                  32                \n",
       "NTCTL_2    0                 0                   0                \n",
       "          TTTGTTGGTTTGCGCC-1 TTTGTTGGTTTGTCTA-1\n",
       "GATA5_1   0                   0                \n",
       "GATA5_2   2                   0                \n",
       "MEOX1_1   0                   2                \n",
       "MEOX1_2   0                   0                \n",
       "NEUROG2_1 2                  21                \n",
       "NEUROG2_2 0                   0                \n",
       "NTCTL_1   0                   0                \n",
       "NTCTL_2   0                   0                "
      ]
     },
     "metadata": {},
     "output_type": "display_data"
    }
   ],
   "source": [
    "df_guide <- read.table(tsv_name, header = TRUE, sep = \"\\t\", quote = \"\")\n",
    "tf_list  <- intersect(guides_to_plot, colnames(df_guide))\n",
    "\n",
    "guide_counts  <- t(data.matrix(df_guide[,tf_list]))\n",
    "colnames(guide_counts) <- df_guide$barcode_dash\n",
    "guide_counts"
   ]
  },
  {
   "cell_type": "code",
   "execution_count": 7,
   "id": "f72f6140",
   "metadata": {
    "vscode": {
     "languageId": "r"
    }
   },
   "outputs": [
    {
     "data": {
      "text/html": [
       "<span style=white-space:pre-wrap>'Overlapping barcodes w/ min guides = 10 :  6656'</span>"
      ],
      "text/latex": [
       "'Overlapping barcodes w/ min guides = 10 :  6656'"
      ],
      "text/markdown": [
       "<span style=white-space:pre-wrap>'Overlapping barcodes w/ min guides = 10 :  6656'</span>"
      ],
      "text/plain": [
       "[1] \"Overlapping barcodes w/ min guides = 10 :  6656\""
      ]
     },
     "metadata": {},
     "output_type": "display_data"
    },
    {
     "data": {
      "text/html": [
       "<span style=white-space:pre-wrap>'Overlapping barcodes w/ min guides = 1 :  6774'</span>"
      ],
      "text/latex": [
       "'Overlapping barcodes w/ min guides = 1 :  6774'"
      ],
      "text/markdown": [
       "<span style=white-space:pre-wrap>'Overlapping barcodes w/ min guides = 1 :  6774'</span>"
      ],
      "text/plain": [
       "[1] \"Overlapping barcodes w/ min guides = 1 :  6774\""
      ]
     },
     "metadata": {},
     "output_type": "display_data"
    }
   ],
   "source": [
    "N_MIN_GUIDES <- 10\n",
    "select_overlapping   <-\n",
    "    df_guide$in_multiome & (df_guide$n_guides >= N_MIN_GUIDES)\n",
    "\n",
    "overlapping_barcodes <- df_guide[select_overlapping, ]$barcode_dash\n",
    "overlapping_barcodes <- as.vector(overlapping_barcodes)\n",
    "\n",
    "overlapping_guide_counts <- guide_counts[, overlapping_barcodes]\n",
    "\n",
    "n_all_overlapping <- nrow(df_guide[df_guide$in_multiome, ])\n",
    "paste(\"Overlapping barcodes w/ min guides =\", N_MIN_GUIDES,\": \", length(overlapping_barcodes))\n",
    "paste(\"Overlapping barcodes w/ min guides =\", 1,\": \", n_all_overlapping)\n"
   ]
  },
  {
   "cell_type": "code",
   "execution_count": 8,
   "id": "9945a2bf",
   "metadata": {
    "scrolled": true,
    "vscode": {
     "languageId": "r"
    }
   },
   "outputs": [
    {
     "data": {
      "image/png": "[encoded data removed]",
      "text/plain": [
       "plot without title"
      ]
     },
     "metadata": {
      "image/png": {
       "height": 300,
       "width": 480
      }
     },
     "output_type": "display_data"
    }
   ],
   "source": [
    "df_in_multiome          <- df_guide[df_guide$in_multiome, ]\n",
    "\n",
    "options(repr.plot.width = 8, repr.plot.height = 5)\n",
    "df_dummy <- df_in_multiome[order(-df_in_multiome$n_guides),]\n",
    "\n",
    "ggplot(df_dummy, aes(x=1:nrow(df_dummy), y = n_guides)) +\n",
    "    geom_point() +\n",
    "    labs(title = \"Captured guide count\", x = \"Cell index\") +\n",
    "    labs(subtitle = \"multiome-overlapping guide-capture barcodes\", y = \"#guides\") +\n",
    "    scale_y_log10()"
   ]
  },
  {
   "cell_type": "markdown",
   "id": "a7657603",
   "metadata": {},
   "source": [
    "# Figure 1H"
   ]
  },
  {
   "cell_type": "code",
   "execution_count": 44,
   "id": "0a789751",
   "metadata": {
    "scrolled": false,
    "vscode": {
     "languageId": "r"
    }
   },
   "outputs": [
    {
     "data": {
      "image/png": "[encoded data removed]",
      "text/plain": [
       "plot without title"
      ]
     },
     "metadata": {
      "image/png": {
       "height": 420,
       "width": 420
      }
     },
     "output_type": "display_data"
    }
   ],
   "source": [
    "options(repr.plot.width=7, repr.plot.height=7)\n",
    "\n",
    "ggplot(df_dummy, aes(x=1:nrow(df_dummy), y = n_guides)) +\n",
    "    geom_point() +\n",
    "    annotate(\"text\", x = nrow(df_dummy) / 2, y = median_value - 60, \n",
    "           label = paste(\"Median =\", round(median_value, 2)), size = 8) +\n",
    "  labs(title = \"Guide count rank plot\", x = \"Cell barcodes\", y = \"Guide UMIs\") +\n",
    "  scale_y_log10() +\n",
    "  scale_color_manual(values = colors, name = \"Experiment\") +\n",
    "  geom_hline(yintercept = median_value, linetype = \"dashed\", size = 1) +\n",
    "  theme(text = element_text(size = 20),\n",
    "       legend.key = element_rect(fill = \"white\", color = NA)) +\n",
    "  theme(panel.background = element_rect(fill = 'white'),\n",
    "        panel.grid.major = element_line(color = 'grey', linetype = 'dotted')) +\n",
    "  theme(legend.key.size = unit(1, units = \"cm\")) "
   ]
  },
  {
   "cell_type": "code",
   "execution_count": 36,
   "id": "4b9c43e3",
   "metadata": {
    "scrolled": true,
    "vscode": {
     "languageId": "r"
    }
   },
   "outputs": [
    {
     "data": {
      "text/html": [
       "108"
      ],
      "text/latex": [
       "108"
      ],
      "text/markdown": [
       "108"
      ],
      "text/plain": [
       "[1] 108"
      ]
     },
     "metadata": {},
     "output_type": "display_data"
    }
   ],
   "source": [
    "# Calculate the median of the n_guides column\n",
    "median_value <- median(df_dummy$n_guides)\n",
    "median_value"
   ]
  }
 ],
 "metadata": {
  "kernelspec": {
   "display_name": "R",
   "language": "R",
   "name": "ir"
  },
  "language_info": {
   "codemirror_mode": "r",
   "file_extension": ".r",
   "mimetype": "text/x-r-source",
   "name": "R",
   "pygments_lexer": "r",
   "version": "4.4.2"
  }
 },
 "nbformat": 4,
 "nbformat_minor": 5
}
