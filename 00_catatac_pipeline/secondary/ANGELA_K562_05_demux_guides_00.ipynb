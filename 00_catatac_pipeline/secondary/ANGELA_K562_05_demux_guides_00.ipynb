{
 "cells": [
  {
   "cell_type": "markdown",
   "id": "11a83b98",
   "metadata": {
    "tags": [
     "papermill-error-cell-tag"
    ]
   },
   "source": [
    "<span style=\"color:red; font-family:Helvetica Neue, Helvetica, Arial, sans-serif; font-size:2em;\">An Exception was encountered at '<a href=\"#papermill-error-cell\">In [14]</a>'.</span>"
   ]
  },
  {
   "cell_type": "code",
   "execution_count": 1,
   "id": "e0ef9285",
   "metadata": {
    "execution": {
     "iopub.execute_input": "2023-02-23T04:20:27.521953Z",
     "iopub.status.busy": "2023-02-23T04:20:27.520470Z",
     "iopub.status.idle": "2023-02-23T04:20:27.545981Z",
     "shell.execute_reply": "2023-02-23T04:20:27.544661Z"
    },
    "papermill": {
     "duration": 0.069724,
     "end_time": "2023-02-23T04:20:27.548027",
     "exception": false,
     "start_time": "2023-02-23T04:20:27.478303",
     "status": "completed"
    },
    "tags": [
     "injected-parameters"
    ],
    "vscode": {
     "languageId": "r"
    }
   },
   "outputs": [],
   "source": [
    "# Parameters\n",
    "h5_name = \"/home/jupyter-ayang/notebooks/cat-atac_pipeline/K562/secondary/output/seurat/CATATAC_K562_CRISPR_ONLY_SINGLETS.h5seurat\"\n",
    "protosp_path = \"/home/jupyter-ayang/notebooks/cat-atac_pipeline/K562/primary/output/resources/ps_long_sep.tsv\"\n",
    "library = \"K562_CRISPR\"\n",
    "tsv_path = \"/home/jupyter-ayang/notebooks/cat-atac_pipeline/K562/primary/output/tsv\"\n"
   ]
  },
  {
   "cell_type": "code",
   "execution_count": 2,
   "id": "a9d516df",
   "metadata": {
    "execution": {
     "iopub.execute_input": "2023-02-23T04:20:27.602770Z",
     "iopub.status.busy": "2023-02-23T04:20:27.573491Z",
     "iopub.status.idle": "2023-02-23T04:20:30.614084Z",
     "shell.execute_reply": "2023-02-23T04:20:30.612976Z"
    },
    "papermill": {
     "duration": 3.052852,
     "end_time": "2023-02-23T04:20:30.615953",
     "exception": false,
     "start_time": "2023-02-23T04:20:27.563101",
     "status": "completed"
    },
    "tags": [],
    "vscode": {
     "languageId": "r"
    }
   },
   "outputs": [
    {
     "name": "stderr",
     "output_type": "stream",
     "text": [
      "Attaching SeuratObject\n",
      "\n",
      "Registered S3 method overwritten by 'SeuratDisk':\n",
      "  method            from  \n",
      "  as.sparse.H5Group Seurat\n",
      "\n",
      "\n",
      "Attaching package: ‘dplyr’\n",
      "\n",
      "\n",
      "The following objects are masked from ‘package:stats’:\n",
      "\n",
      "    filter, lag\n",
      "\n",
      "\n",
      "The following objects are masked from ‘package:base’:\n",
      "\n",
      "    intersect, setdiff, setequal, union\n",
      "\n",
      "\n",
      "\n",
      "Attaching package: ‘crayon’\n",
      "\n",
      "\n",
      "The following object is masked from ‘package:ggplot2’:\n",
      "\n",
      "    %+%\n",
      "\n",
      "\n"
     ]
    }
   ],
   "source": [
    "library(Seurat)\n",
    "library(SeuratDisk)\n",
    "library(dplyr)\n",
    "library(ggplot2)\n",
    "library(patchwork)\n",
    "library(stringr)\n",
    "library(crayon)"
   ]
  },
  {
   "cell_type": "code",
   "execution_count": 3,
   "id": "62c36c8e",
   "metadata": {
    "execution": {
     "iopub.execute_input": "2023-02-23T04:20:30.642315Z",
     "iopub.status.busy": "2023-02-23T04:20:30.639852Z",
     "iopub.status.idle": "2023-02-23T04:20:30.652688Z",
     "shell.execute_reply": "2023-02-23T04:20:30.650833Z"
    },
    "papermill": {
     "duration": 0.026048,
     "end_time": "2023-02-23T04:20:30.655196",
     "exception": false,
     "start_time": "2023-02-23T04:20:30.629148",
     "status": "completed"
    },
    "tags": [],
    "vscode": {
     "languageId": "r"
    }
   },
   "outputs": [],
   "source": [
    "#setwd(\"~/prj/catatac/scripts\")"
   ]
  },
  {
   "cell_type": "markdown",
   "id": "76fe5a8e",
   "metadata": {
    "papermill": {
     "duration": 0.008947,
     "end_time": "2023-02-23T04:20:30.677709",
     "exception": false,
     "start_time": "2023-02-23T04:20:30.668762",
     "status": "completed"
    },
    "tags": []
   },
   "source": [
    "# Load guide-capture data"
   ]
  },
  {
   "cell_type": "markdown",
   "id": "40267b06",
   "metadata": {
    "papermill": {
     "duration": 0.009125,
     "end_time": "2023-02-23T04:20:30.695921",
     "exception": false,
     "start_time": "2023-02-23T04:20:30.686796",
     "status": "completed"
    },
    "tags": []
   },
   "source": [
    "Define paths etc"
   ]
  },
  {
   "cell_type": "code",
   "execution_count": 4,
   "id": "3b184039",
   "metadata": {
    "execution": {
     "iopub.execute_input": "2023-02-23T04:20:30.717608Z",
     "iopub.status.busy": "2023-02-23T04:20:30.715694Z",
     "iopub.status.idle": "2023-02-23T04:20:30.727948Z",
     "shell.execute_reply": "2023-02-23T04:20:30.726904Z"
    },
    "papermill": {
     "duration": 0.02481,
     "end_time": "2023-02-23T04:20:30.729756",
     "exception": false,
     "start_time": "2023-02-23T04:20:30.704946",
     "status": "completed"
    },
    "tags": [],
    "vscode": {
     "languageId": "r"
    }
   },
   "outputs": [],
   "source": [
    "# Pass these as parameters\n",
    "# h5_name = \"/home/vsevim/prj/tf/CATATAC_4/analysis/secondary/CRISPR8/seurat/CATATAC_4_CRISPR8_ONLY_SINGLETS.h5seurat\"\n",
    "# protosp_path = \"/home/vsevim/prj/tf/CATATAC_4/analysis/primary/CRISPR8/resources/protospacers_4set.tsv\"\n",
    "# library = \"CRISPR8\"\n",
    "# tsv_path = \"/home/vsevim/prj/tf/CATATAC_4/analysis/primary/CRISPR8/tsv\"\n"
   ]
  },
  {
   "cell_type": "code",
   "execution_count": 5,
   "id": "976cf03a",
   "metadata": {
    "execution": {
     "iopub.execute_input": "2023-02-23T04:20:30.755779Z",
     "iopub.status.busy": "2023-02-23T04:20:30.754919Z",
     "iopub.status.idle": "2023-02-23T04:20:30.763988Z",
     "shell.execute_reply": "2023-02-23T04:20:30.762933Z"
    },
    "papermill": {
     "duration": 0.020716,
     "end_time": "2023-02-23T04:20:30.765785",
     "exception": false,
     "start_time": "2023-02-23T04:20:30.745069",
     "status": "completed"
    },
    "tags": [],
    "vscode": {
     "languageId": "r"
    }
   },
   "outputs": [],
   "source": [
    "h5_w_gcap_name <- sub(\".h5seurat\", \"_w_GUIDE_CAP.h5seurat\", h5_name)\n",
    "barcode2guide_tsv_path <- paste0(tsv_path, \"/\", library, \"_ALL_STRUCTURED.TSV\")\n",
    "tsv_name <- paste0(tsv_path, \"/\", library, \"_guide_PIVOT.TSV\")"
   ]
  },
  {
   "cell_type": "markdown",
   "id": "2fbf577b",
   "metadata": {
    "papermill": {
     "duration": 0.00892,
     "end_time": "2023-02-23T04:20:30.788603",
     "exception": false,
     "start_time": "2023-02-23T04:20:30.779683",
     "status": "completed"
    },
    "tags": []
   },
   "source": [
    "### Load protospacer file"
   ]
  },
  {
   "cell_type": "code",
   "execution_count": 6,
   "id": "ad983438",
   "metadata": {
    "execution": {
     "iopub.execute_input": "2023-02-23T04:20:30.808350Z",
     "iopub.status.busy": "2023-02-23T04:20:30.807483Z",
     "iopub.status.idle": "2023-02-23T04:20:30.835981Z",
     "shell.execute_reply": "2023-02-23T04:20:30.834749Z"
    },
    "papermill": {
     "duration": 0.04015,
     "end_time": "2023-02-23T04:20:30.837799",
     "exception": false,
     "start_time": "2023-02-23T04:20:30.797649",
     "status": "completed"
    },
    "tags": [],
    "vscode": {
     "languageId": "r"
    }
   },
   "outputs": [],
   "source": [
    "df_protosp = read.table(protosp_path, header=TRUE, comment.char=\"\")"
   ]
  },
  {
   "cell_type": "code",
   "execution_count": 7,
   "id": "96a737e3",
   "metadata": {
    "execution": {
     "iopub.execute_input": "2023-02-23T04:20:30.864464Z",
     "iopub.status.busy": "2023-02-23T04:20:30.862592Z",
     "iopub.status.idle": "2023-02-23T04:20:30.885006Z",
     "shell.execute_reply": "2023-02-23T04:20:30.883905Z"
    },
    "papermill": {
     "duration": 0.035035,
     "end_time": "2023-02-23T04:20:30.886860",
     "exception": false,
     "start_time": "2023-02-23T04:20:30.851825",
     "status": "completed"
    },
    "tags": [],
    "vscode": {
     "languageId": "r"
    }
   },
   "outputs": [
    {
     "data": {
      "text/html": [
       "<style>\n",
       ".list-inline {list-style: none; margin:0; padding: 0}\n",
       ".list-inline>li {display: inline-block}\n",
       ".list-inline>li:not(:last-child)::after {content: \"\\00b7\"; padding: 0 .5ex}\n",
       "</style>\n",
       "<ol class=list-inline><li>'ARID1A_A'</li><li>'ARID1A_B'</li><li>'ATRX_A'</li><li>'ATRX_B'</li><li>'CHD8_A'</li><li>'CHD8_B'</li><li>'DNMT3A_A'</li><li>'DNMT3A_B'</li><li>'EZH2_A'</li><li>'EZH2_B'</li><li>'HDAC9_A'</li><li>'HDAC9_B'</li><li>'KDM6A_A'</li><li>'KDM6A_B'</li><li>'MBD1_A'</li><li>'MBD1_B'</li><li>'NTCTL_B'</li><li>'PBRM1_A'</li><li>'PBRM1_B'</li><li>'PRDM9_A'</li><li>'PRDM9_B'</li><li>'SETD2_A'</li><li>'SETD2_B'</li><li>'TET2_A'</li><li>'TET2_B'</li></ol>\n"
      ],
      "text/latex": [
       "\\begin{enumerate*}\n",
       "\\item 'ARID1A\\_A'\n",
       "\\item 'ARID1A\\_B'\n",
       "\\item 'ATRX\\_A'\n",
       "\\item 'ATRX\\_B'\n",
       "\\item 'CHD8\\_A'\n",
       "\\item 'CHD8\\_B'\n",
       "\\item 'DNMT3A\\_A'\n",
       "\\item 'DNMT3A\\_B'\n",
       "\\item 'EZH2\\_A'\n",
       "\\item 'EZH2\\_B'\n",
       "\\item 'HDAC9\\_A'\n",
       "\\item 'HDAC9\\_B'\n",
       "\\item 'KDM6A\\_A'\n",
       "\\item 'KDM6A\\_B'\n",
       "\\item 'MBD1\\_A'\n",
       "\\item 'MBD1\\_B'\n",
       "\\item 'NTCTL\\_B'\n",
       "\\item 'PBRM1\\_A'\n",
       "\\item 'PBRM1\\_B'\n",
       "\\item 'PRDM9\\_A'\n",
       "\\item 'PRDM9\\_B'\n",
       "\\item 'SETD2\\_A'\n",
       "\\item 'SETD2\\_B'\n",
       "\\item 'TET2\\_A'\n",
       "\\item 'TET2\\_B'\n",
       "\\end{enumerate*}\n"
      ],
      "text/markdown": [
       "1. 'ARID1A_A'\n",
       "2. 'ARID1A_B'\n",
       "3. 'ATRX_A'\n",
       "4. 'ATRX_B'\n",
       "5. 'CHD8_A'\n",
       "6. 'CHD8_B'\n",
       "7. 'DNMT3A_A'\n",
       "8. 'DNMT3A_B'\n",
       "9. 'EZH2_A'\n",
       "10. 'EZH2_B'\n",
       "11. 'HDAC9_A'\n",
       "12. 'HDAC9_B'\n",
       "13. 'KDM6A_A'\n",
       "14. 'KDM6A_B'\n",
       "15. 'MBD1_A'\n",
       "16. 'MBD1_B'\n",
       "17. 'NTCTL_B'\n",
       "18. 'PBRM1_A'\n",
       "19. 'PBRM1_B'\n",
       "20. 'PRDM9_A'\n",
       "21. 'PRDM9_B'\n",
       "22. 'SETD2_A'\n",
       "23. 'SETD2_B'\n",
       "24. 'TET2_A'\n",
       "25. 'TET2_B'\n",
       "\n",
       "\n"
      ],
      "text/plain": [
       " [1] \"ARID1A_A\" \"ARID1A_B\" \"ATRX_A\"   \"ATRX_B\"   \"CHD8_A\"   \"CHD8_B\"  \n",
       " [7] \"DNMT3A_A\" \"DNMT3A_B\" \"EZH2_A\"   \"EZH2_B\"   \"HDAC9_A\"  \"HDAC9_B\" \n",
       "[13] \"KDM6A_A\"  \"KDM6A_B\"  \"MBD1_A\"   \"MBD1_B\"   \"NTCTL_B\"  \"PBRM1_A\" \n",
       "[19] \"PBRM1_B\"  \"PRDM9_A\"  \"PRDM9_B\"  \"SETD2_A\"  \"SETD2_B\"  \"TET2_A\"  \n",
       "[25] \"TET2_B\"  "
      ]
     },
     "metadata": {},
     "output_type": "display_data"
    },
    {
     "data": {
      "text/html": [
       "<style>\n",
       ".list-inline {list-style: none; margin:0; padding: 0}\n",
       ".list-inline>li {display: inline-block}\n",
       ".list-inline>li:not(:last-child)::after {content: \"\\00b7\"; padding: 0 .5ex}\n",
       "</style>\n",
       "<ol class=list-inline><li>'ARID1A_1'</li><li>'ARID1A_2'</li><li>'ARID1A_3'</li><li>'ARID1A_4'</li><li>'ATRX_1'</li><li>'ATRX_2'</li><li>'ATRX_3'</li><li>'ATRX_4'</li><li>'CHD8_1'</li><li>'CHD8_2'</li><li>'CHD8_3'</li><li>'CHD8_4'</li><li>'DNMT3A_1'</li><li>'DNMT3A_2'</li><li>'DNMT3A_3'</li><li>'DNMT3A_4'</li><li>'EZH2_1'</li><li>'EZH2_2'</li><li>'EZH2_3'</li><li>'EZH2_4'</li><li>'HDAC9_1'</li><li>'HDAC9_2'</li><li>'HDAC9_3'</li><li>'HDAC9_4'</li><li>'KDM6A_1'</li><li>'KDM6A_2'</li><li>'KDM6A_3'</li><li>'KDM6A_4'</li><li>'MBD1_1'</li><li>'MBD1_2'</li><li>'MBD1_3'</li><li>'MBD1_4'</li><li>'NTCTL_1'</li><li>'NTCTL_2'</li><li>'NTCTL_3'</li><li>'NTCTL_4'</li><li>'PBRM1_1'</li><li>'PBRM1_2'</li><li>'PBRM1_3'</li><li>'PBRM1_4'</li><li>'PRDM9_1'</li><li>'PRDM9_2'</li><li>'PRDM9_3'</li><li>'PRDM9_4'</li><li>'SETD2_1'</li><li>'SETD2_2'</li><li>'SETD2_3'</li><li>'SETD2_4'</li><li>'TET2_1'</li><li>'TET2_2'</li><li>'TET2_3'</li><li>'TET2_4'</li></ol>\n"
      ],
      "text/latex": [
       "\\begin{enumerate*}\n",
       "\\item 'ARID1A\\_1'\n",
       "\\item 'ARID1A\\_2'\n",
       "\\item 'ARID1A\\_3'\n",
       "\\item 'ARID1A\\_4'\n",
       "\\item 'ATRX\\_1'\n",
       "\\item 'ATRX\\_2'\n",
       "\\item 'ATRX\\_3'\n",
       "\\item 'ATRX\\_4'\n",
       "\\item 'CHD8\\_1'\n",
       "\\item 'CHD8\\_2'\n",
       "\\item 'CHD8\\_3'\n",
       "\\item 'CHD8\\_4'\n",
       "\\item 'DNMT3A\\_1'\n",
       "\\item 'DNMT3A\\_2'\n",
       "\\item 'DNMT3A\\_3'\n",
       "\\item 'DNMT3A\\_4'\n",
       "\\item 'EZH2\\_1'\n",
       "\\item 'EZH2\\_2'\n",
       "\\item 'EZH2\\_3'\n",
       "\\item 'EZH2\\_4'\n",
       "\\item 'HDAC9\\_1'\n",
       "\\item 'HDAC9\\_2'\n",
       "\\item 'HDAC9\\_3'\n",
       "\\item 'HDAC9\\_4'\n",
       "\\item 'KDM6A\\_1'\n",
       "\\item 'KDM6A\\_2'\n",
       "\\item 'KDM6A\\_3'\n",
       "\\item 'KDM6A\\_4'\n",
       "\\item 'MBD1\\_1'\n",
       "\\item 'MBD1\\_2'\n",
       "\\item 'MBD1\\_3'\n",
       "\\item 'MBD1\\_4'\n",
       "\\item 'NTCTL\\_1'\n",
       "\\item 'NTCTL\\_2'\n",
       "\\item 'NTCTL\\_3'\n",
       "\\item 'NTCTL\\_4'\n",
       "\\item 'PBRM1\\_1'\n",
       "\\item 'PBRM1\\_2'\n",
       "\\item 'PBRM1\\_3'\n",
       "\\item 'PBRM1\\_4'\n",
       "\\item 'PRDM9\\_1'\n",
       "\\item 'PRDM9\\_2'\n",
       "\\item 'PRDM9\\_3'\n",
       "\\item 'PRDM9\\_4'\n",
       "\\item 'SETD2\\_1'\n",
       "\\item 'SETD2\\_2'\n",
       "\\item 'SETD2\\_3'\n",
       "\\item 'SETD2\\_4'\n",
       "\\item 'TET2\\_1'\n",
       "\\item 'TET2\\_2'\n",
       "\\item 'TET2\\_3'\n",
       "\\item 'TET2\\_4'\n",
       "\\end{enumerate*}\n"
      ],
      "text/markdown": [
       "1. 'ARID1A_1'\n",
       "2. 'ARID1A_2'\n",
       "3. 'ARID1A_3'\n",
       "4. 'ARID1A_4'\n",
       "5. 'ATRX_1'\n",
       "6. 'ATRX_2'\n",
       "7. 'ATRX_3'\n",
       "8. 'ATRX_4'\n",
       "9. 'CHD8_1'\n",
       "10. 'CHD8_2'\n",
       "11. 'CHD8_3'\n",
       "12. 'CHD8_4'\n",
       "13. 'DNMT3A_1'\n",
       "14. 'DNMT3A_2'\n",
       "15. 'DNMT3A_3'\n",
       "16. 'DNMT3A_4'\n",
       "17. 'EZH2_1'\n",
       "18. 'EZH2_2'\n",
       "19. 'EZH2_3'\n",
       "20. 'EZH2_4'\n",
       "21. 'HDAC9_1'\n",
       "22. 'HDAC9_2'\n",
       "23. 'HDAC9_3'\n",
       "24. 'HDAC9_4'\n",
       "25. 'KDM6A_1'\n",
       "26. 'KDM6A_2'\n",
       "27. 'KDM6A_3'\n",
       "28. 'KDM6A_4'\n",
       "29. 'MBD1_1'\n",
       "30. 'MBD1_2'\n",
       "31. 'MBD1_3'\n",
       "32. 'MBD1_4'\n",
       "33. 'NTCTL_1'\n",
       "34. 'NTCTL_2'\n",
       "35. 'NTCTL_3'\n",
       "36. 'NTCTL_4'\n",
       "37. 'PBRM1_1'\n",
       "38. 'PBRM1_2'\n",
       "39. 'PBRM1_3'\n",
       "40. 'PBRM1_4'\n",
       "41. 'PRDM9_1'\n",
       "42. 'PRDM9_2'\n",
       "43. 'PRDM9_3'\n",
       "44. 'PRDM9_4'\n",
       "45. 'SETD2_1'\n",
       "46. 'SETD2_2'\n",
       "47. 'SETD2_3'\n",
       "48. 'SETD2_4'\n",
       "49. 'TET2_1'\n",
       "50. 'TET2_2'\n",
       "51. 'TET2_3'\n",
       "52. 'TET2_4'\n",
       "\n",
       "\n"
      ],
      "text/plain": [
       " [1] \"ARID1A_1\" \"ARID1A_2\" \"ARID1A_3\" \"ARID1A_4\" \"ATRX_1\"   \"ATRX_2\"  \n",
       " [7] \"ATRX_3\"   \"ATRX_4\"   \"CHD8_1\"   \"CHD8_2\"   \"CHD8_3\"   \"CHD8_4\"  \n",
       "[13] \"DNMT3A_1\" \"DNMT3A_2\" \"DNMT3A_3\" \"DNMT3A_4\" \"EZH2_1\"   \"EZH2_2\"  \n",
       "[19] \"EZH2_3\"   \"EZH2_4\"   \"HDAC9_1\"  \"HDAC9_2\"  \"HDAC9_3\"  \"HDAC9_4\" \n",
       "[25] \"KDM6A_1\"  \"KDM6A_2\"  \"KDM6A_3\"  \"KDM6A_4\"  \"MBD1_1\"   \"MBD1_2\"  \n",
       "[31] \"MBD1_3\"   \"MBD1_4\"   \"NTCTL_1\"  \"NTCTL_2\"  \"NTCTL_3\"  \"NTCTL_4\" \n",
       "[37] \"PBRM1_1\"  \"PBRM1_2\"  \"PBRM1_3\"  \"PBRM1_4\"  \"PRDM9_1\"  \"PRDM9_2\" \n",
       "[43] \"PRDM9_3\"  \"PRDM9_4\"  \"SETD2_1\"  \"SETD2_2\"  \"SETD2_3\"  \"SETD2_4\" \n",
       "[49] \"TET2_1\"   \"TET2_2\"   \"TET2_3\"   \"TET2_4\"  "
      ]
     },
     "metadata": {},
     "output_type": "display_data"
    }
   ],
   "source": [
    "tfs_w_ntctl    = unique(df_protosp$Gene)\n",
    "#unselect_ntctl = (tfs_w_ntctl != \"NTCTL\") & (tfs_w_ntctl != \"NTCTRL\")\n",
    "tfs_w_ntctl <- tfs_w_ntctl[-17]\n",
    "tfs_to_plot    = tfs_w_ntctl\n",
    "\n",
    "guides_to_plot  = df_protosp$GuideName\n",
    "tfs_to_plot\n",
    "guides_to_plot"
   ]
  },
  {
   "cell_type": "code",
   "execution_count": 8,
   "id": "f347067f",
   "metadata": {
    "execution": {
     "iopub.execute_input": "2023-02-23T04:20:30.913118Z",
     "iopub.status.busy": "2023-02-23T04:20:30.912245Z",
     "iopub.status.idle": "2023-02-23T04:20:30.947754Z",
     "shell.execute_reply": "2023-02-23T04:20:30.946615Z"
    },
    "papermill": {
     "duration": 0.047749,
     "end_time": "2023-02-23T04:20:30.949601",
     "exception": false,
     "start_time": "2023-02-23T04:20:30.901852",
     "status": "completed"
    },
    "tags": [],
    "vscode": {
     "languageId": "r"
    }
   },
   "outputs": [
    {
     "data": {
      "text/html": [
       "<table class=\"dataframe\">\n",
       "<caption>A data.frame: 6 × 3</caption>\n",
       "<thead>\n",
       "\t<tr><th></th><th scope=col>Gene</th><th scope=col>GuideName</th><th scope=col>value</th></tr>\n",
       "\t<tr><th></th><th scope=col>&lt;chr&gt;</th><th scope=col>&lt;chr&gt;</th><th scope=col>&lt;chr&gt;</th></tr>\n",
       "</thead>\n",
       "<tbody>\n",
       "\t<tr><th scope=row>1</th><td>ARID1A_A</td><td>ARID1A_1</td><td>GCCCTTGCCTGGGAATGAGG</td></tr>\n",
       "\t<tr><th scope=row>2</th><td>ARID1A_A</td><td>ARID1A_2</td><td>GTTTCTCCGGCAGCAGAAAG</td></tr>\n",
       "\t<tr><th scope=row>3</th><td>ARID1A_B</td><td>ARID1A_3</td><td>GTTCTGCTGCCGGAGAAAGG</td></tr>\n",
       "\t<tr><th scope=row>4</th><td>ARID1A_B</td><td>ARID1A_4</td><td>GAAAGCGGAGAGTCACAGCG</td></tr>\n",
       "\t<tr><th scope=row>5</th><td>ATRX_A  </td><td>ATRX_1  </td><td>GTTCTGCTGCCGGAGAAAGG</td></tr>\n",
       "\t<tr><th scope=row>6</th><td>ATRX_A  </td><td>ATRX_2  </td><td>GGGCGCGGGGGAGCGCAGAT</td></tr>\n",
       "</tbody>\n",
       "</table>\n"
      ],
      "text/latex": [
       "A data.frame: 6 × 3\n",
       "\\begin{tabular}{r|lll}\n",
       "  & Gene & GuideName & value\\\\\n",
       "  & <chr> & <chr> & <chr>\\\\\n",
       "\\hline\n",
       "\t1 & ARID1A\\_A & ARID1A\\_1 & GCCCTTGCCTGGGAATGAGG\\\\\n",
       "\t2 & ARID1A\\_A & ARID1A\\_2 & GTTTCTCCGGCAGCAGAAAG\\\\\n",
       "\t3 & ARID1A\\_B & ARID1A\\_3 & GTTCTGCTGCCGGAGAAAGG\\\\\n",
       "\t4 & ARID1A\\_B & ARID1A\\_4 & GAAAGCGGAGAGTCACAGCG\\\\\n",
       "\t5 & ATRX\\_A   & ATRX\\_1   & GTTCTGCTGCCGGAGAAAGG\\\\\n",
       "\t6 & ATRX\\_A   & ATRX\\_2   & GGGCGCGGGGGAGCGCAGAT\\\\\n",
       "\\end{tabular}\n"
      ],
      "text/markdown": [
       "\n",
       "A data.frame: 6 × 3\n",
       "\n",
       "| <!--/--> | Gene &lt;chr&gt; | GuideName &lt;chr&gt; | value &lt;chr&gt; |\n",
       "|---|---|---|---|\n",
       "| 1 | ARID1A_A | ARID1A_1 | GCCCTTGCCTGGGAATGAGG |\n",
       "| 2 | ARID1A_A | ARID1A_2 | GTTTCTCCGGCAGCAGAAAG |\n",
       "| 3 | ARID1A_B | ARID1A_3 | GTTCTGCTGCCGGAGAAAGG |\n",
       "| 4 | ARID1A_B | ARID1A_4 | GAAAGCGGAGAGTCACAGCG |\n",
       "| 5 | ATRX_A   | ATRX_1   | GTTCTGCTGCCGGAGAAAGG |\n",
       "| 6 | ATRX_A   | ATRX_2   | GGGCGCGGGGGAGCGCAGAT |\n",
       "\n"
      ],
      "text/plain": [
       "  Gene     GuideName value               \n",
       "1 ARID1A_A ARID1A_1  GCCCTTGCCTGGGAATGAGG\n",
       "2 ARID1A_A ARID1A_2  GTTTCTCCGGCAGCAGAAAG\n",
       "3 ARID1A_B ARID1A_3  GTTCTGCTGCCGGAGAAAGG\n",
       "4 ARID1A_B ARID1A_4  GAAAGCGGAGAGTCACAGCG\n",
       "5 ATRX_A   ATRX_1    GTTCTGCTGCCGGAGAAAGG\n",
       "6 ATRX_A   ATRX_2    GGGCGCGGGGGAGCGCAGAT"
      ]
     },
     "metadata": {},
     "output_type": "display_data"
    }
   ],
   "source": [
    "head(df_protosp)"
   ]
  },
  {
   "cell_type": "code",
   "execution_count": 9,
   "id": "625cd5a0",
   "metadata": {
    "execution": {
     "iopub.execute_input": "2023-02-23T04:20:30.975445Z",
     "iopub.status.busy": "2023-02-23T04:20:30.974526Z",
     "iopub.status.idle": "2023-02-23T04:20:32.872542Z",
     "shell.execute_reply": "2023-02-23T04:20:32.871438Z"
    },
    "papermill": {
     "duration": 1.910192,
     "end_time": "2023-02-23T04:20:32.874437",
     "exception": false,
     "start_time": "2023-02-23T04:20:30.964245",
     "status": "completed"
    },
    "tags": [],
    "vscode": {
     "languageId": "r"
    }
   },
   "outputs": [
    {
     "data": {
      "text/html": [
       "<table class=\"dataframe\">\n",
       "<caption>A matrix: 6 × 105314 of type int</caption>\n",
       "<thead>\n",
       "\t<tr><th></th><th scope=col>AAACAGCCAACAGGAT-1</th><th scope=col>AAACAGCCAACCCTAA-1</th><th scope=col>AAACAGCCAACTAGCC-1</th><th scope=col>AAACAGCCAAGCCACT-1</th><th scope=col>AAACAGCCAAGCCAGA-1</th><th scope=col>AAACAGCCAAGTTATC-1</th><th scope=col>AAACAGCCAATAACCT-1</th><th scope=col>AAACAGCCAATCATGT-1</th><th scope=col>AAACAGCCAATCCTGA-1</th><th scope=col>AAACAGCCAATCTCTC-1</th><th scope=col>⋯</th><th scope=col>TTTGTTGGTTGCCTCA-1</th><th scope=col>TTTGTTGGTTGGTTAG-1</th><th scope=col>TTTGTTGGTTGTCCAT-1</th><th scope=col>TTTGTTGGTTGTGACA-1</th><th scope=col>TTTGTTGGTTGTTCAC-1</th><th scope=col>TTTGTTGGTTTAACGG-1</th><th scope=col>TTTGTTGGTTTACCGT-1</th><th scope=col>TTTGTTGGTTTAGCTC-1</th><th scope=col>TTTGTTGGTTTGGTTC-1</th><th scope=col>TTTGTTGGTTTGTCTA-1</th></tr>\n",
       "</thead>\n",
       "<tbody>\n",
       "\t<tr><th scope=row>ARID1A_1</th><td>0</td><td>0</td><td>0</td><td>  0</td><td>0</td><td> 2</td><td>0</td><td>0</td><td>0</td><td>0</td><td>⋯</td><td>0</td><td>0</td><td>0</td><td>0</td><td>0</td><td>0</td><td>0</td><td>0</td><td>0</td><td>0</td></tr>\n",
       "\t<tr><th scope=row>ARID1A_2</th><td>0</td><td>0</td><td>0</td><td>  0</td><td>0</td><td> 0</td><td>0</td><td>0</td><td>0</td><td>0</td><td>⋯</td><td>0</td><td>0</td><td>0</td><td>0</td><td>0</td><td>0</td><td>0</td><td>0</td><td>0</td><td>0</td></tr>\n",
       "\t<tr><th scope=row>ARID1A_3</th><td>0</td><td>0</td><td>0</td><td>  0</td><td>0</td><td> 8</td><td>0</td><td>0</td><td>0</td><td>0</td><td>⋯</td><td>0</td><td>0</td><td>0</td><td>0</td><td>0</td><td>0</td><td>0</td><td>0</td><td>0</td><td>0</td></tr>\n",
       "\t<tr><th scope=row>ARID1A_4</th><td>0</td><td>0</td><td>0</td><td>  0</td><td>0</td><td> 0</td><td>0</td><td>0</td><td>0</td><td>0</td><td>⋯</td><td>0</td><td>0</td><td>0</td><td>0</td><td>0</td><td>0</td><td>0</td><td>0</td><td>0</td><td>0</td></tr>\n",
       "\t<tr><th scope=row>ATRX_1</th><td>0</td><td>0</td><td>0</td><td>  0</td><td>0</td><td> 8</td><td>0</td><td>0</td><td>0</td><td>0</td><td>⋯</td><td>0</td><td>0</td><td>0</td><td>0</td><td>0</td><td>0</td><td>0</td><td>0</td><td>0</td><td>0</td></tr>\n",
       "\t<tr><th scope=row>ATRX_2</th><td>0</td><td>0</td><td>0</td><td>218</td><td>0</td><td>10</td><td>0</td><td>0</td><td>0</td><td>0</td><td>⋯</td><td>0</td><td>0</td><td>0</td><td>0</td><td>1</td><td>2</td><td>0</td><td>0</td><td>0</td><td>0</td></tr>\n",
       "</tbody>\n",
       "</table>\n"
      ],
      "text/latex": [
       "A matrix: 6 × 105314 of type int\n",
       "\\begin{tabular}{r|lllllllllllllllllllll}\n",
       "  & AAACAGCCAACAGGAT-1 & AAACAGCCAACCCTAA-1 & AAACAGCCAACTAGCC-1 & AAACAGCCAAGCCACT-1 & AAACAGCCAAGCCAGA-1 & AAACAGCCAAGTTATC-1 & AAACAGCCAATAACCT-1 & AAACAGCCAATCATGT-1 & AAACAGCCAATCCTGA-1 & AAACAGCCAATCTCTC-1 & ⋯ & TTTGTTGGTTGCCTCA-1 & TTTGTTGGTTGGTTAG-1 & TTTGTTGGTTGTCCAT-1 & TTTGTTGGTTGTGACA-1 & TTTGTTGGTTGTTCAC-1 & TTTGTTGGTTTAACGG-1 & TTTGTTGGTTTACCGT-1 & TTTGTTGGTTTAGCTC-1 & TTTGTTGGTTTGGTTC-1 & TTTGTTGGTTTGTCTA-1\\\\\n",
       "\\hline\n",
       "\tARID1A\\_1 & 0 & 0 & 0 &   0 & 0 &  2 & 0 & 0 & 0 & 0 & ⋯ & 0 & 0 & 0 & 0 & 0 & 0 & 0 & 0 & 0 & 0\\\\\n",
       "\tARID1A\\_2 & 0 & 0 & 0 &   0 & 0 &  0 & 0 & 0 & 0 & 0 & ⋯ & 0 & 0 & 0 & 0 & 0 & 0 & 0 & 0 & 0 & 0\\\\\n",
       "\tARID1A\\_3 & 0 & 0 & 0 &   0 & 0 &  8 & 0 & 0 & 0 & 0 & ⋯ & 0 & 0 & 0 & 0 & 0 & 0 & 0 & 0 & 0 & 0\\\\\n",
       "\tARID1A\\_4 & 0 & 0 & 0 &   0 & 0 &  0 & 0 & 0 & 0 & 0 & ⋯ & 0 & 0 & 0 & 0 & 0 & 0 & 0 & 0 & 0 & 0\\\\\n",
       "\tATRX\\_1 & 0 & 0 & 0 &   0 & 0 &  8 & 0 & 0 & 0 & 0 & ⋯ & 0 & 0 & 0 & 0 & 0 & 0 & 0 & 0 & 0 & 0\\\\\n",
       "\tATRX\\_2 & 0 & 0 & 0 & 218 & 0 & 10 & 0 & 0 & 0 & 0 & ⋯ & 0 & 0 & 0 & 0 & 1 & 2 & 0 & 0 & 0 & 0\\\\\n",
       "\\end{tabular}\n"
      ],
      "text/markdown": [
       "\n",
       "A matrix: 6 × 105314 of type int\n",
       "\n",
       "| <!--/--> | AAACAGCCAACAGGAT-1 | AAACAGCCAACCCTAA-1 | AAACAGCCAACTAGCC-1 | AAACAGCCAAGCCACT-1 | AAACAGCCAAGCCAGA-1 | AAACAGCCAAGTTATC-1 | AAACAGCCAATAACCT-1 | AAACAGCCAATCATGT-1 | AAACAGCCAATCCTGA-1 | AAACAGCCAATCTCTC-1 | ⋯ | TTTGTTGGTTGCCTCA-1 | TTTGTTGGTTGGTTAG-1 | TTTGTTGGTTGTCCAT-1 | TTTGTTGGTTGTGACA-1 | TTTGTTGGTTGTTCAC-1 | TTTGTTGGTTTAACGG-1 | TTTGTTGGTTTACCGT-1 | TTTGTTGGTTTAGCTC-1 | TTTGTTGGTTTGGTTC-1 | TTTGTTGGTTTGTCTA-1 |\n",
       "|---|---|---|---|---|---|---|---|---|---|---|---|---|---|---|---|---|---|---|---|---|---|\n",
       "| ARID1A_1 | 0 | 0 | 0 |   0 | 0 |  2 | 0 | 0 | 0 | 0 | ⋯ | 0 | 0 | 0 | 0 | 0 | 0 | 0 | 0 | 0 | 0 |\n",
       "| ARID1A_2 | 0 | 0 | 0 |   0 | 0 |  0 | 0 | 0 | 0 | 0 | ⋯ | 0 | 0 | 0 | 0 | 0 | 0 | 0 | 0 | 0 | 0 |\n",
       "| ARID1A_3 | 0 | 0 | 0 |   0 | 0 |  8 | 0 | 0 | 0 | 0 | ⋯ | 0 | 0 | 0 | 0 | 0 | 0 | 0 | 0 | 0 | 0 |\n",
       "| ARID1A_4 | 0 | 0 | 0 |   0 | 0 |  0 | 0 | 0 | 0 | 0 | ⋯ | 0 | 0 | 0 | 0 | 0 | 0 | 0 | 0 | 0 | 0 |\n",
       "| ATRX_1 | 0 | 0 | 0 |   0 | 0 |  8 | 0 | 0 | 0 | 0 | ⋯ | 0 | 0 | 0 | 0 | 0 | 0 | 0 | 0 | 0 | 0 |\n",
       "| ATRX_2 | 0 | 0 | 0 | 218 | 0 | 10 | 0 | 0 | 0 | 0 | ⋯ | 0 | 0 | 0 | 0 | 1 | 2 | 0 | 0 | 0 | 0 |\n",
       "\n"
      ],
      "text/plain": [
       "         AAACAGCCAACAGGAT-1 AAACAGCCAACCCTAA-1 AAACAGCCAACTAGCC-1\n",
       "ARID1A_1 0                  0                  0                 \n",
       "ARID1A_2 0                  0                  0                 \n",
       "ARID1A_3 0                  0                  0                 \n",
       "ARID1A_4 0                  0                  0                 \n",
       "ATRX_1   0                  0                  0                 \n",
       "ATRX_2   0                  0                  0                 \n",
       "         AAACAGCCAAGCCACT-1 AAACAGCCAAGCCAGA-1 AAACAGCCAAGTTATC-1\n",
       "ARID1A_1   0                0                   2                \n",
       "ARID1A_2   0                0                   0                \n",
       "ARID1A_3   0                0                   8                \n",
       "ARID1A_4   0                0                   0                \n",
       "ATRX_1     0                0                   8                \n",
       "ATRX_2   218                0                  10                \n",
       "         AAACAGCCAATAACCT-1 AAACAGCCAATCATGT-1 AAACAGCCAATCCTGA-1\n",
       "ARID1A_1 0                  0                  0                 \n",
       "ARID1A_2 0                  0                  0                 \n",
       "ARID1A_3 0                  0                  0                 \n",
       "ARID1A_4 0                  0                  0                 \n",
       "ATRX_1   0                  0                  0                 \n",
       "ATRX_2   0                  0                  0                 \n",
       "         AAACAGCCAATCTCTC-1 ⋯ TTTGTTGGTTGCCTCA-1 TTTGTTGGTTGGTTAG-1\n",
       "ARID1A_1 0                  ⋯ 0                  0                 \n",
       "ARID1A_2 0                  ⋯ 0                  0                 \n",
       "ARID1A_3 0                  ⋯ 0                  0                 \n",
       "ARID1A_4 0                  ⋯ 0                  0                 \n",
       "ATRX_1   0                  ⋯ 0                  0                 \n",
       "ATRX_2   0                  ⋯ 0                  0                 \n",
       "         TTTGTTGGTTGTCCAT-1 TTTGTTGGTTGTGACA-1 TTTGTTGGTTGTTCAC-1\n",
       "ARID1A_1 0                  0                  0                 \n",
       "ARID1A_2 0                  0                  0                 \n",
       "ARID1A_3 0                  0                  0                 \n",
       "ARID1A_4 0                  0                  0                 \n",
       "ATRX_1   0                  0                  0                 \n",
       "ATRX_2   0                  0                  1                 \n",
       "         TTTGTTGGTTTAACGG-1 TTTGTTGGTTTACCGT-1 TTTGTTGGTTTAGCTC-1\n",
       "ARID1A_1 0                  0                  0                 \n",
       "ARID1A_2 0                  0                  0                 \n",
       "ARID1A_3 0                  0                  0                 \n",
       "ARID1A_4 0                  0                  0                 \n",
       "ATRX_1   0                  0                  0                 \n",
       "ATRX_2   2                  0                  0                 \n",
       "         TTTGTTGGTTTGGTTC-1 TTTGTTGGTTTGTCTA-1\n",
       "ARID1A_1 0                  0                 \n",
       "ARID1A_2 0                  0                 \n",
       "ARID1A_3 0                  0                 \n",
       "ARID1A_4 0                  0                 \n",
       "ATRX_1   0                  0                 \n",
       "ATRX_2   0                  0                 "
      ]
     },
     "metadata": {},
     "output_type": "display_data"
    }
   ],
   "source": [
    "#c(\"OTP\", \"MYF6\", \"MEIS1\", \"FLI1\", \"HHEX\", \"HOXA6\", \"ELF5\", \"GBX1\", \"DPRX\", \"NTCTL\")\n",
    "##!! tf_list   <- tfs_w_ntctl \n",
    "\n",
    "df_guide <- read.table(tsv_name, header = TRUE, sep = \"\\t\", quote = \"\")\n",
    "tf_list  <- intersect(guides_to_plot, colnames(df_guide))    ##changed guides_to_plot to tfs_to_plot\n",
    "\n",
    "guide_counts  <- t(data.matrix(df_guide[,tf_list]))\n",
    "colnames(guide_counts) <- df_guide$barcode_dash\n",
    "head(guide_counts)"
   ]
  },
  {
   "cell_type": "code",
   "execution_count": 10,
   "id": "49ee26b9",
   "metadata": {
    "vscode": {
     "languageId": "r"
    }
   },
   "outputs": [
    {
     "data": {
      "text/html": [
       "<table class=\"dataframe\">\n",
       "<caption>A data.frame: 6 × 55</caption>\n",
       "<thead>\n",
       "\t<tr><th></th><th scope=col>barcode</th><th scope=col>n_guides</th><th scope=col>na</th><th scope=col>ARID1A_1</th><th scope=col>ARID1A_2</th><th scope=col>ARID1A_3</th><th scope=col>ARID1A_4</th><th scope=col>ATRX_1</th><th scope=col>ATRX_2</th><th scope=col>ATRX_3</th><th scope=col>⋯</th><th scope=col>SETD2_1</th><th scope=col>SETD2_2</th><th scope=col>SETD2_3</th><th scope=col>SETD2_4</th><th scope=col>TET2_1</th><th scope=col>TET2_2</th><th scope=col>TET2_3</th><th scope=col>TET2_4</th><th scope=col>barcode_dash</th><th scope=col>in_multiome</th></tr>\n",
       "\t<tr><th></th><th scope=col>&lt;chr&gt;</th><th scope=col>&lt;int&gt;</th><th scope=col>&lt;int&gt;</th><th scope=col>&lt;int&gt;</th><th scope=col>&lt;int&gt;</th><th scope=col>&lt;int&gt;</th><th scope=col>&lt;int&gt;</th><th scope=col>&lt;int&gt;</th><th scope=col>&lt;int&gt;</th><th scope=col>&lt;int&gt;</th><th scope=col>⋯</th><th scope=col>&lt;int&gt;</th><th scope=col>&lt;int&gt;</th><th scope=col>&lt;int&gt;</th><th scope=col>&lt;int&gt;</th><th scope=col>&lt;int&gt;</th><th scope=col>&lt;int&gt;</th><th scope=col>&lt;int&gt;</th><th scope=col>&lt;int&gt;</th><th scope=col>&lt;chr&gt;</th><th scope=col>&lt;lgl&gt;</th></tr>\n",
       "</thead>\n",
       "<tbody>\n",
       "\t<tr><th scope=row>1</th><td>AAACAGCCAACAGGAT</td><td>  7</td><td>0</td><td>0</td><td>0</td><td>0</td><td>0</td><td>0</td><td>  0</td><td> 4</td><td>⋯</td><td> 0</td><td>0</td><td>0</td><td> 0</td><td>0</td><td> 0</td><td>0</td><td>0</td><td>AAACAGCCAACAGGAT-1</td><td>FALSE</td></tr>\n",
       "\t<tr><th scope=row>2</th><td>AAACAGCCAACCCTAA</td><td> 48</td><td>0</td><td>0</td><td>0</td><td>0</td><td>0</td><td>0</td><td>  0</td><td> 0</td><td>⋯</td><td> 0</td><td>0</td><td>0</td><td> 0</td><td>0</td><td> 5</td><td>0</td><td>0</td><td>AAACAGCCAACCCTAA-1</td><td>FALSE</td></tr>\n",
       "\t<tr><th scope=row>3</th><td>AAACAGCCAACTAGCC</td><td> 74</td><td>0</td><td>0</td><td>0</td><td>0</td><td>0</td><td>0</td><td>  0</td><td>15</td><td>⋯</td><td> 0</td><td>0</td><td>0</td><td>19</td><td>0</td><td> 0</td><td>0</td><td>0</td><td>AAACAGCCAACTAGCC-1</td><td>FALSE</td></tr>\n",
       "\t<tr><th scope=row>4</th><td>AAACAGCCAAGCCACT</td><td>366</td><td>0</td><td>0</td><td>0</td><td>0</td><td>0</td><td>0</td><td>218</td><td> 0</td><td>⋯</td><td>81</td><td>0</td><td>0</td><td>15</td><td>0</td><td>10</td><td>0</td><td>0</td><td>AAACAGCCAAGCCACT-1</td><td> TRUE</td></tr>\n",
       "\t<tr><th scope=row>5</th><td>AAACAGCCAAGCCAGA</td><td> 57</td><td>0</td><td>0</td><td>0</td><td>0</td><td>0</td><td>0</td><td>  0</td><td> 0</td><td>⋯</td><td>14</td><td>5</td><td>0</td><td> 0</td><td>0</td><td> 0</td><td>0</td><td>4</td><td>AAACAGCCAAGCCAGA-1</td><td>FALSE</td></tr>\n",
       "\t<tr><th scope=row>6</th><td>AAACAGCCAAGTTATC</td><td>128</td><td>0</td><td>2</td><td>0</td><td>8</td><td>0</td><td>8</td><td> 10</td><td> 9</td><td>⋯</td><td> 0</td><td>0</td><td>0</td><td> 2</td><td>0</td><td> 0</td><td>0</td><td>0</td><td>AAACAGCCAAGTTATC-1</td><td>FALSE</td></tr>\n",
       "</tbody>\n",
       "</table>\n"
      ],
      "text/latex": [
       "A data.frame: 6 × 55\n",
       "\\begin{tabular}{r|lllllllllllllllllllll}\n",
       "  & barcode & n\\_guides & na & ARID1A\\_1 & ARID1A\\_2 & ARID1A\\_3 & ARID1A\\_4 & ATRX\\_1 & ATRX\\_2 & ATRX\\_3 & ⋯ & SETD2\\_1 & SETD2\\_2 & SETD2\\_3 & SETD2\\_4 & TET2\\_1 & TET2\\_2 & TET2\\_3 & TET2\\_4 & barcode\\_dash & in\\_multiome\\\\\n",
       "  & <chr> & <int> & <int> & <int> & <int> & <int> & <int> & <int> & <int> & <int> & ⋯ & <int> & <int> & <int> & <int> & <int> & <int> & <int> & <int> & <chr> & <lgl>\\\\\n",
       "\\hline\n",
       "\t1 & AAACAGCCAACAGGAT &   7 & 0 & 0 & 0 & 0 & 0 & 0 &   0 &  4 & ⋯ &  0 & 0 & 0 &  0 & 0 &  0 & 0 & 0 & AAACAGCCAACAGGAT-1 & FALSE\\\\\n",
       "\t2 & AAACAGCCAACCCTAA &  48 & 0 & 0 & 0 & 0 & 0 & 0 &   0 &  0 & ⋯ &  0 & 0 & 0 &  0 & 0 &  5 & 0 & 0 & AAACAGCCAACCCTAA-1 & FALSE\\\\\n",
       "\t3 & AAACAGCCAACTAGCC &  74 & 0 & 0 & 0 & 0 & 0 & 0 &   0 & 15 & ⋯ &  0 & 0 & 0 & 19 & 0 &  0 & 0 & 0 & AAACAGCCAACTAGCC-1 & FALSE\\\\\n",
       "\t4 & AAACAGCCAAGCCACT & 366 & 0 & 0 & 0 & 0 & 0 & 0 & 218 &  0 & ⋯ & 81 & 0 & 0 & 15 & 0 & 10 & 0 & 0 & AAACAGCCAAGCCACT-1 &  TRUE\\\\\n",
       "\t5 & AAACAGCCAAGCCAGA &  57 & 0 & 0 & 0 & 0 & 0 & 0 &   0 &  0 & ⋯ & 14 & 5 & 0 &  0 & 0 &  0 & 0 & 4 & AAACAGCCAAGCCAGA-1 & FALSE\\\\\n",
       "\t6 & AAACAGCCAAGTTATC & 128 & 0 & 2 & 0 & 8 & 0 & 8 &  10 &  9 & ⋯ &  0 & 0 & 0 &  2 & 0 &  0 & 0 & 0 & AAACAGCCAAGTTATC-1 & FALSE\\\\\n",
       "\\end{tabular}\n"
      ],
      "text/markdown": [
       "\n",
       "A data.frame: 6 × 55\n",
       "\n",
       "| <!--/--> | barcode &lt;chr&gt; | n_guides &lt;int&gt; | na &lt;int&gt; | ARID1A_1 &lt;int&gt; | ARID1A_2 &lt;int&gt; | ARID1A_3 &lt;int&gt; | ARID1A_4 &lt;int&gt; | ATRX_1 &lt;int&gt; | ATRX_2 &lt;int&gt; | ATRX_3 &lt;int&gt; | ⋯ ⋯ | SETD2_1 &lt;int&gt; | SETD2_2 &lt;int&gt; | SETD2_3 &lt;int&gt; | SETD2_4 &lt;int&gt; | TET2_1 &lt;int&gt; | TET2_2 &lt;int&gt; | TET2_3 &lt;int&gt; | TET2_4 &lt;int&gt; | barcode_dash &lt;chr&gt; | in_multiome &lt;lgl&gt; |\n",
       "|---|---|---|---|---|---|---|---|---|---|---|---|---|---|---|---|---|---|---|---|---|---|\n",
       "| 1 | AAACAGCCAACAGGAT |   7 | 0 | 0 | 0 | 0 | 0 | 0 |   0 |  4 | ⋯ |  0 | 0 | 0 |  0 | 0 |  0 | 0 | 0 | AAACAGCCAACAGGAT-1 | FALSE |\n",
       "| 2 | AAACAGCCAACCCTAA |  48 | 0 | 0 | 0 | 0 | 0 | 0 |   0 |  0 | ⋯ |  0 | 0 | 0 |  0 | 0 |  5 | 0 | 0 | AAACAGCCAACCCTAA-1 | FALSE |\n",
       "| 3 | AAACAGCCAACTAGCC |  74 | 0 | 0 | 0 | 0 | 0 | 0 |   0 | 15 | ⋯ |  0 | 0 | 0 | 19 | 0 |  0 | 0 | 0 | AAACAGCCAACTAGCC-1 | FALSE |\n",
       "| 4 | AAACAGCCAAGCCACT | 366 | 0 | 0 | 0 | 0 | 0 | 0 | 218 |  0 | ⋯ | 81 | 0 | 0 | 15 | 0 | 10 | 0 | 0 | AAACAGCCAAGCCACT-1 |  TRUE |\n",
       "| 5 | AAACAGCCAAGCCAGA |  57 | 0 | 0 | 0 | 0 | 0 | 0 |   0 |  0 | ⋯ | 14 | 5 | 0 |  0 | 0 |  0 | 0 | 4 | AAACAGCCAAGCCAGA-1 | FALSE |\n",
       "| 6 | AAACAGCCAAGTTATC | 128 | 0 | 2 | 0 | 8 | 0 | 8 |  10 |  9 | ⋯ |  0 | 0 | 0 |  2 | 0 |  0 | 0 | 0 | AAACAGCCAAGTTATC-1 | FALSE |\n",
       "\n"
      ],
      "text/plain": [
       "  barcode          n_guides na ARID1A_1 ARID1A_2 ARID1A_3 ARID1A_4 ATRX_1\n",
       "1 AAACAGCCAACAGGAT   7      0  0        0        0        0        0     \n",
       "2 AAACAGCCAACCCTAA  48      0  0        0        0        0        0     \n",
       "3 AAACAGCCAACTAGCC  74      0  0        0        0        0        0     \n",
       "4 AAACAGCCAAGCCACT 366      0  0        0        0        0        0     \n",
       "5 AAACAGCCAAGCCAGA  57      0  0        0        0        0        0     \n",
       "6 AAACAGCCAAGTTATC 128      0  2        0        8        0        8     \n",
       "  ATRX_2 ATRX_3 ⋯ SETD2_1 SETD2_2 SETD2_3 SETD2_4 TET2_1 TET2_2 TET2_3 TET2_4\n",
       "1   0     4     ⋯  0      0       0        0      0       0     0      0     \n",
       "2   0     0     ⋯  0      0       0        0      0       5     0      0     \n",
       "3   0    15     ⋯  0      0       0       19      0       0     0      0     \n",
       "4 218     0     ⋯ 81      0       0       15      0      10     0      0     \n",
       "5   0     0     ⋯ 14      5       0        0      0       0     0      4     \n",
       "6  10     9     ⋯  0      0       0        2      0       0     0      0     \n",
       "  barcode_dash       in_multiome\n",
       "1 AAACAGCCAACAGGAT-1 FALSE      \n",
       "2 AAACAGCCAACCCTAA-1 FALSE      \n",
       "3 AAACAGCCAACTAGCC-1 FALSE      \n",
       "4 AAACAGCCAAGCCACT-1  TRUE      \n",
       "5 AAACAGCCAAGCCAGA-1 FALSE      \n",
       "6 AAACAGCCAAGTTATC-1 FALSE      "
      ]
     },
     "metadata": {},
     "output_type": "display_data"
    }
   ],
   "source": [
    "#df_guide <- select(df_guide, -na)\n",
    "head(df_guide)"
   ]
  },
  {
   "cell_type": "markdown",
   "id": "a8ce2c05",
   "metadata": {
    "papermill": {
     "duration": 0.009763,
     "end_time": "2023-02-23T04:20:32.894390",
     "exception": false,
     "start_time": "2023-02-23T04:20:32.884627",
     "status": "completed"
    },
    "tags": []
   },
   "source": [
    "Get overlapping cells"
   ]
  },
  {
   "cell_type": "code",
   "execution_count": 11,
   "id": "9126f618",
   "metadata": {
    "execution": {
     "iopub.execute_input": "2023-02-23T04:20:32.915563Z",
     "iopub.status.busy": "2023-02-23T04:20:32.914710Z",
     "iopub.status.idle": "2023-02-23T04:20:32.980697Z",
     "shell.execute_reply": "2023-02-23T04:20:32.979628Z"
    },
    "papermill": {
     "duration": 0.078243,
     "end_time": "2023-02-23T04:20:32.982482",
     "exception": false,
     "start_time": "2023-02-23T04:20:32.904239",
     "status": "completed"
    },
    "tags": [],
    "vscode": {
     "languageId": "r"
    }
   },
   "outputs": [
    {
     "data": {
      "text/html": [
       "<span style=white-space:pre-wrap>'Overlapping barcodes w/ min guides = 10 :  8992'</span>"
      ],
      "text/latex": [
       "'Overlapping barcodes w/ min guides = 10 :  8992'"
      ],
      "text/markdown": [
       "<span style=white-space:pre-wrap>'Overlapping barcodes w/ min guides = 10 :  8992'</span>"
      ],
      "text/plain": [
       "[1] \"Overlapping barcodes w/ min guides = 10 :  8992\""
      ]
     },
     "metadata": {},
     "output_type": "display_data"
    },
    {
     "data": {
      "text/html": [
       "<span style=white-space:pre-wrap>'Overlapping barcodes w/ min guides = 1 :  9022'</span>"
      ],
      "text/latex": [
       "'Overlapping barcodes w/ min guides = 1 :  9022'"
      ],
      "text/markdown": [
       "<span style=white-space:pre-wrap>'Overlapping barcodes w/ min guides = 1 :  9022'</span>"
      ],
      "text/plain": [
       "[1] \"Overlapping barcodes w/ min guides = 1 :  9022\""
      ]
     },
     "metadata": {},
     "output_type": "display_data"
    }
   ],
   "source": [
    "N_MIN_GUIDES <- 10\n",
    "select_overlapping   <-\n",
    "    df_guide$in_multiome & (df_guide$n_guides >= N_MIN_GUIDES)\n",
    "\n",
    "overlapping_barcodes <- df_guide[select_overlapping, ]$barcode_dash\n",
    "overlapping_barcodes <- as.vector(overlapping_barcodes)\n",
    "\n",
    "overlapping_guide_counts <- guide_counts[, overlapping_barcodes]\n",
    "\n",
    "n_all_overlapping <- nrow(df_guide[df_guide$in_multiome, ])\n",
    "paste(\"Overlapping barcodes w/ min guides =\", N_MIN_GUIDES,\": \", length(overlapping_barcodes))\n",
    "paste(\"Overlapping barcodes w/ min guides =\", 1,\": \", n_all_overlapping)\n"
   ]
  },
  {
   "cell_type": "code",
   "execution_count": 12,
   "id": "481d2cbd",
   "metadata": {
    "execution": {
     "iopub.execute_input": "2023-02-23T04:20:33.006414Z",
     "iopub.status.busy": "2023-02-23T04:20:33.005563Z",
     "iopub.status.idle": "2023-02-23T04:20:33.022604Z",
     "shell.execute_reply": "2023-02-23T04:20:33.021548Z"
    },
    "papermill": {
     "duration": 0.029308,
     "end_time": "2023-02-23T04:20:33.024123",
     "exception": false,
     "start_time": "2023-02-23T04:20:32.994815",
     "status": "completed"
    },
    "tags": [],
    "vscode": {
     "languageId": "r"
    }
   },
   "outputs": [
    {
     "data": {
      "text/html": [
       "<table class=\"dataframe\">\n",
       "<caption>A matrix: 6 × 8992 of type int</caption>\n",
       "<thead>\n",
       "\t<tr><th></th><th scope=col>AAACAGCCAAGCCACT-1</th><th scope=col>AAACAGCCAATCATGT-1</th><th scope=col>AAACAGCCACAGGATG-1</th><th scope=col>AAACAGCCACATTGCA-1</th><th scope=col>AAACAGCCAGGCTGTT-1</th><th scope=col>AAACATGCATTGTGAT-1</th><th scope=col>AAACCAACAATATAGG-1</th><th scope=col>AAACCAACAATGAAGC-1</th><th scope=col>AAACCAACACAGCCTG-1</th><th scope=col>AAACCAACAGTTTGGC-1</th><th scope=col>⋯</th><th scope=col>TTTGTGGCATTTAAGC-1</th><th scope=col>TTTGTGTTCAGGCCTA-1</th><th scope=col>TTTGTGTTCCATAAGC-1</th><th scope=col>TTTGTGTTCGCCTAAG-1</th><th scope=col>TTTGTGTTCGTTACAA-1</th><th scope=col>TTTGTGTTCTTAGTGA-1</th><th scope=col>TTTGTTGGTGCTGGTG-1</th><th scope=col>TTTGTTGGTTACCGGG-1</th><th scope=col>TTTGTTGGTTATCGAG-1</th><th scope=col>TTTGTTGGTTATTGCC-1</th></tr>\n",
       "</thead>\n",
       "<tbody>\n",
       "\t<tr><th scope=row>ARID1A_1</th><td>  0</td><td>0</td><td>0</td><td> 0</td><td>0</td><td>0</td><td>0</td><td>0</td><td>0</td><td>18</td><td>⋯</td><td>0</td><td> 9</td><td>0</td><td>0</td><td>0</td><td>0</td><td>0</td><td>0</td><td>0</td><td> 0</td></tr>\n",
       "\t<tr><th scope=row>ARID1A_2</th><td>  0</td><td>0</td><td>0</td><td> 0</td><td>0</td><td>0</td><td>0</td><td>0</td><td>0</td><td> 0</td><td>⋯</td><td>0</td><td> 0</td><td>6</td><td>0</td><td>3</td><td>0</td><td>0</td><td>0</td><td>0</td><td> 0</td></tr>\n",
       "\t<tr><th scope=row>ARID1A_3</th><td>  0</td><td>0</td><td>0</td><td> 0</td><td>0</td><td>0</td><td>0</td><td>0</td><td>0</td><td> 0</td><td>⋯</td><td>0</td><td>15</td><td>0</td><td>0</td><td>2</td><td>0</td><td>0</td><td>0</td><td>0</td><td> 0</td></tr>\n",
       "\t<tr><th scope=row>ARID1A_4</th><td>  0</td><td>0</td><td>0</td><td> 0</td><td>0</td><td>0</td><td>0</td><td>0</td><td>0</td><td> 0</td><td>⋯</td><td>0</td><td> 0</td><td>0</td><td>0</td><td>0</td><td>0</td><td>0</td><td>0</td><td>0</td><td> 0</td></tr>\n",
       "\t<tr><th scope=row>ATRX_1</th><td>  0</td><td>0</td><td>0</td><td> 0</td><td>0</td><td>0</td><td>0</td><td>0</td><td>0</td><td> 0</td><td>⋯</td><td>0</td><td>15</td><td>0</td><td>0</td><td>2</td><td>0</td><td>0</td><td>0</td><td>0</td><td> 0</td></tr>\n",
       "\t<tr><th scope=row>ATRX_2</th><td>218</td><td>0</td><td>0</td><td>11</td><td>0</td><td>0</td><td>2</td><td>2</td><td>0</td><td> 0</td><td>⋯</td><td>5</td><td> 3</td><td>0</td><td>0</td><td>0</td><td>0</td><td>6</td><td>0</td><td>0</td><td>15</td></tr>\n",
       "</tbody>\n",
       "</table>\n"
      ],
      "text/latex": [
       "A matrix: 6 × 8992 of type int\n",
       "\\begin{tabular}{r|lllllllllllllllllllll}\n",
       "  & AAACAGCCAAGCCACT-1 & AAACAGCCAATCATGT-1 & AAACAGCCACAGGATG-1 & AAACAGCCACATTGCA-1 & AAACAGCCAGGCTGTT-1 & AAACATGCATTGTGAT-1 & AAACCAACAATATAGG-1 & AAACCAACAATGAAGC-1 & AAACCAACACAGCCTG-1 & AAACCAACAGTTTGGC-1 & ⋯ & TTTGTGGCATTTAAGC-1 & TTTGTGTTCAGGCCTA-1 & TTTGTGTTCCATAAGC-1 & TTTGTGTTCGCCTAAG-1 & TTTGTGTTCGTTACAA-1 & TTTGTGTTCTTAGTGA-1 & TTTGTTGGTGCTGGTG-1 & TTTGTTGGTTACCGGG-1 & TTTGTTGGTTATCGAG-1 & TTTGTTGGTTATTGCC-1\\\\\n",
       "\\hline\n",
       "\tARID1A\\_1 &   0 & 0 & 0 &  0 & 0 & 0 & 0 & 0 & 0 & 18 & ⋯ & 0 &  9 & 0 & 0 & 0 & 0 & 0 & 0 & 0 &  0\\\\\n",
       "\tARID1A\\_2 &   0 & 0 & 0 &  0 & 0 & 0 & 0 & 0 & 0 &  0 & ⋯ & 0 &  0 & 6 & 0 & 3 & 0 & 0 & 0 & 0 &  0\\\\\n",
       "\tARID1A\\_3 &   0 & 0 & 0 &  0 & 0 & 0 & 0 & 0 & 0 &  0 & ⋯ & 0 & 15 & 0 & 0 & 2 & 0 & 0 & 0 & 0 &  0\\\\\n",
       "\tARID1A\\_4 &   0 & 0 & 0 &  0 & 0 & 0 & 0 & 0 & 0 &  0 & ⋯ & 0 &  0 & 0 & 0 & 0 & 0 & 0 & 0 & 0 &  0\\\\\n",
       "\tATRX\\_1 &   0 & 0 & 0 &  0 & 0 & 0 & 0 & 0 & 0 &  0 & ⋯ & 0 & 15 & 0 & 0 & 2 & 0 & 0 & 0 & 0 &  0\\\\\n",
       "\tATRX\\_2 & 218 & 0 & 0 & 11 & 0 & 0 & 2 & 2 & 0 &  0 & ⋯ & 5 &  3 & 0 & 0 & 0 & 0 & 6 & 0 & 0 & 15\\\\\n",
       "\\end{tabular}\n"
      ],
      "text/markdown": [
       "\n",
       "A matrix: 6 × 8992 of type int\n",
       "\n",
       "| <!--/--> | AAACAGCCAAGCCACT-1 | AAACAGCCAATCATGT-1 | AAACAGCCACAGGATG-1 | AAACAGCCACATTGCA-1 | AAACAGCCAGGCTGTT-1 | AAACATGCATTGTGAT-1 | AAACCAACAATATAGG-1 | AAACCAACAATGAAGC-1 | AAACCAACACAGCCTG-1 | AAACCAACAGTTTGGC-1 | ⋯ | TTTGTGGCATTTAAGC-1 | TTTGTGTTCAGGCCTA-1 | TTTGTGTTCCATAAGC-1 | TTTGTGTTCGCCTAAG-1 | TTTGTGTTCGTTACAA-1 | TTTGTGTTCTTAGTGA-1 | TTTGTTGGTGCTGGTG-1 | TTTGTTGGTTACCGGG-1 | TTTGTTGGTTATCGAG-1 | TTTGTTGGTTATTGCC-1 |\n",
       "|---|---|---|---|---|---|---|---|---|---|---|---|---|---|---|---|---|---|---|---|---|---|\n",
       "| ARID1A_1 |   0 | 0 | 0 |  0 | 0 | 0 | 0 | 0 | 0 | 18 | ⋯ | 0 |  9 | 0 | 0 | 0 | 0 | 0 | 0 | 0 |  0 |\n",
       "| ARID1A_2 |   0 | 0 | 0 |  0 | 0 | 0 | 0 | 0 | 0 |  0 | ⋯ | 0 |  0 | 6 | 0 | 3 | 0 | 0 | 0 | 0 |  0 |\n",
       "| ARID1A_3 |   0 | 0 | 0 |  0 | 0 | 0 | 0 | 0 | 0 |  0 | ⋯ | 0 | 15 | 0 | 0 | 2 | 0 | 0 | 0 | 0 |  0 |\n",
       "| ARID1A_4 |   0 | 0 | 0 |  0 | 0 | 0 | 0 | 0 | 0 |  0 | ⋯ | 0 |  0 | 0 | 0 | 0 | 0 | 0 | 0 | 0 |  0 |\n",
       "| ATRX_1 |   0 | 0 | 0 |  0 | 0 | 0 | 0 | 0 | 0 |  0 | ⋯ | 0 | 15 | 0 | 0 | 2 | 0 | 0 | 0 | 0 |  0 |\n",
       "| ATRX_2 | 218 | 0 | 0 | 11 | 0 | 0 | 2 | 2 | 0 |  0 | ⋯ | 5 |  3 | 0 | 0 | 0 | 0 | 6 | 0 | 0 | 15 |\n",
       "\n"
      ],
      "text/plain": [
       "         AAACAGCCAAGCCACT-1 AAACAGCCAATCATGT-1 AAACAGCCACAGGATG-1\n",
       "ARID1A_1   0                0                  0                 \n",
       "ARID1A_2   0                0                  0                 \n",
       "ARID1A_3   0                0                  0                 \n",
       "ARID1A_4   0                0                  0                 \n",
       "ATRX_1     0                0                  0                 \n",
       "ATRX_2   218                0                  0                 \n",
       "         AAACAGCCACATTGCA-1 AAACAGCCAGGCTGTT-1 AAACATGCATTGTGAT-1\n",
       "ARID1A_1  0                 0                  0                 \n",
       "ARID1A_2  0                 0                  0                 \n",
       "ARID1A_3  0                 0                  0                 \n",
       "ARID1A_4  0                 0                  0                 \n",
       "ATRX_1    0                 0                  0                 \n",
       "ATRX_2   11                 0                  0                 \n",
       "         AAACCAACAATATAGG-1 AAACCAACAATGAAGC-1 AAACCAACACAGCCTG-1\n",
       "ARID1A_1 0                  0                  0                 \n",
       "ARID1A_2 0                  0                  0                 \n",
       "ARID1A_3 0                  0                  0                 \n",
       "ARID1A_4 0                  0                  0                 \n",
       "ATRX_1   0                  0                  0                 \n",
       "ATRX_2   2                  2                  0                 \n",
       "         AAACCAACAGTTTGGC-1 ⋯ TTTGTGGCATTTAAGC-1 TTTGTGTTCAGGCCTA-1\n",
       "ARID1A_1 18                 ⋯ 0                   9                \n",
       "ARID1A_2  0                 ⋯ 0                   0                \n",
       "ARID1A_3  0                 ⋯ 0                  15                \n",
       "ARID1A_4  0                 ⋯ 0                   0                \n",
       "ATRX_1    0                 ⋯ 0                  15                \n",
       "ATRX_2    0                 ⋯ 5                   3                \n",
       "         TTTGTGTTCCATAAGC-1 TTTGTGTTCGCCTAAG-1 TTTGTGTTCGTTACAA-1\n",
       "ARID1A_1 0                  0                  0                 \n",
       "ARID1A_2 6                  0                  3                 \n",
       "ARID1A_3 0                  0                  2                 \n",
       "ARID1A_4 0                  0                  0                 \n",
       "ATRX_1   0                  0                  2                 \n",
       "ATRX_2   0                  0                  0                 \n",
       "         TTTGTGTTCTTAGTGA-1 TTTGTTGGTGCTGGTG-1 TTTGTTGGTTACCGGG-1\n",
       "ARID1A_1 0                  0                  0                 \n",
       "ARID1A_2 0                  0                  0                 \n",
       "ARID1A_3 0                  0                  0                 \n",
       "ARID1A_4 0                  0                  0                 \n",
       "ATRX_1   0                  0                  0                 \n",
       "ATRX_2   0                  6                  0                 \n",
       "         TTTGTTGGTTATCGAG-1 TTTGTTGGTTATTGCC-1\n",
       "ARID1A_1 0                   0                \n",
       "ARID1A_2 0                   0                \n",
       "ARID1A_3 0                   0                \n",
       "ARID1A_4 0                   0                \n",
       "ATRX_1   0                   0                \n",
       "ATRX_2   0                  15                "
      ]
     },
     "metadata": {},
     "output_type": "display_data"
    }
   ],
   "source": [
    "head(overlapping_guide_counts)"
   ]
  },
  {
   "cell_type": "code",
   "execution_count": 13,
   "id": "11be6386",
   "metadata": {
    "execution": {
     "iopub.execute_input": "2023-02-23T04:20:33.071094Z",
     "iopub.status.busy": "2023-02-23T04:20:33.070249Z",
     "iopub.status.idle": "2023-02-23T04:20:33.079282Z",
     "shell.execute_reply": "2023-02-23T04:20:33.078266Z"
    },
    "papermill": {
     "duration": 0.022491,
     "end_time": "2023-02-23T04:20:33.081064",
     "exception": false,
     "start_time": "2023-02-23T04:20:33.058573",
     "status": "completed"
    },
    "tags": [],
    "vscode": {
     "languageId": "r"
    }
   },
   "outputs": [
    {
     "data": {
      "text/html": [
       "<style>\n",
       ".list-inline {list-style: none; margin:0; padding: 0}\n",
       ".list-inline>li {display: inline-block}\n",
       ".list-inline>li:not(:last-child)::after {content: \"\\00b7\"; padding: 0 .5ex}\n",
       "</style>\n",
       "<ol class=list-inline><li>'AAACAGCCAAGCCACT-1'</li><li>'AAACAGCCAATCATGT-1'</li><li>'AAACAGCCACAGGATG-1'</li><li>'AAACAGCCACATTGCA-1'</li><li>'AAACAGCCAGGCTGTT-1'</li><li>'AAACATGCATTGTGAT-1'</li></ol>\n"
      ],
      "text/latex": [
       "\\begin{enumerate*}\n",
       "\\item 'AAACAGCCAAGCCACT-1'\n",
       "\\item 'AAACAGCCAATCATGT-1'\n",
       "\\item 'AAACAGCCACAGGATG-1'\n",
       "\\item 'AAACAGCCACATTGCA-1'\n",
       "\\item 'AAACAGCCAGGCTGTT-1'\n",
       "\\item 'AAACATGCATTGTGAT-1'\n",
       "\\end{enumerate*}\n"
      ],
      "text/markdown": [
       "1. 'AAACAGCCAAGCCACT-1'\n",
       "2. 'AAACAGCCAATCATGT-1'\n",
       "3. 'AAACAGCCACAGGATG-1'\n",
       "4. 'AAACAGCCACATTGCA-1'\n",
       "5. 'AAACAGCCAGGCTGTT-1'\n",
       "6. 'AAACATGCATTGTGAT-1'\n",
       "\n",
       "\n"
      ],
      "text/plain": [
       "[1] \"AAACAGCCAAGCCACT-1\" \"AAACAGCCAATCATGT-1\" \"AAACAGCCACAGGATG-1\"\n",
       "[4] \"AAACAGCCACATTGCA-1\" \"AAACAGCCAGGCTGTT-1\" \"AAACATGCATTGTGAT-1\""
      ]
     },
     "metadata": {},
     "output_type": "display_data"
    }
   ],
   "source": [
    "head(overlapping_barcodes)"
   ]
  },
  {
   "cell_type": "markdown",
   "id": "b1671ecd",
   "metadata": {
    "papermill": {
     "duration": 0.010126,
     "end_time": "2023-02-23T04:20:33.104724",
     "exception": false,
     "start_time": "2023-02-23T04:20:33.094598",
     "status": "completed"
    },
    "tags": []
   },
   "source": [
    "## Plot stats"
   ]
  },
  {
   "cell_type": "code",
   "execution_count": 14,
   "id": "9c94199d",
   "metadata": {
    "vscode": {
     "languageId": "r"
    }
   },
   "outputs": [],
   "source": [
    "#head(df_guide_counts_per_cell)"
   ]
  },
  {
   "cell_type": "code",
   "execution_count": 15,
   "id": "3c004b79",
   "metadata": {
    "execution": {
     "iopub.execute_input": "2023-02-23T04:20:33.127233Z",
     "iopub.status.busy": "2023-02-23T04:20:33.126380Z",
     "iopub.status.idle": "2023-02-23T04:20:33.588212Z",
     "shell.execute_reply": "2023-02-23T04:20:33.587182Z"
    },
    "papermill": {
     "duration": 0.475591,
     "end_time": "2023-02-23T04:20:33.590591",
     "exception": false,
     "start_time": "2023-02-23T04:20:33.115000",
     "status": "completed"
    },
    "tags": [],
    "vscode": {
     "languageId": "r"
    }
   },
   "outputs": [
    {
     "name": "stdout",
     "output_type": "stream",
     "text": [
      "\u001b[34mMean #guides per cell\u001b[39m 383.9319"
     ]
    },
    {
     "data": {
      "image/png": "[encoded data removed]",
      "text/plain": [
       "plot without title"
      ]
     },
     "metadata": {
      "image/png": {
       "height": 420,
       "width": 420
      }
     },
     "output_type": "display_data"
    }
   ],
   "source": [
    "df_guide_counts_per_cell <- data.frame(guide_count=colSums(overlapping_guide_counts))\n",
    "mean_guides_per_cell = mean(df_guide_counts_per_cell$guide_count)\n",
    "cat(blue(\"Mean #guides per cell\"), mean_guides_per_cell)\n",
    "\n",
    "ggplot(df_guide_counts_per_cell, aes(x=guide_count)) +\n",
    "    geom_histogram(binwidth=1)"
   ]
  },
  {
   "cell_type": "markdown",
   "id": "975c3328",
   "metadata": {
    "tags": [
     "papermill-error-cell-tag"
    ]
   },
   "source": [
    "<span id=\"papermill-error-cell\" style=\"color:red; font-family:Helvetica Neue, Helvetica, Arial, sans-serif; font-size:2em;\">Execution using papermill encountered an exception here and stopped:</span>"
   ]
  },
  {
   "cell_type": "code",
   "execution_count": 16,
   "id": "24e8cc86",
   "metadata": {
    "execution": {
     "iopub.execute_input": "2023-02-23T04:20:33.619488Z",
     "iopub.status.busy": "2023-02-23T04:20:33.617945Z",
     "iopub.status.idle": "2023-02-23T04:20:33.646229Z",
     "shell.execute_reply": "2023-02-23T04:20:33.645060Z"
    },
    "papermill": {
     "duration": 0.042217,
     "end_time": "2023-02-23T04:20:33.648156",
     "exception": true,
     "start_time": "2023-02-23T04:20:33.605939",
     "status": "failed"
    },
    "tags": [],
    "vscode": {
     "languageId": "r"
    }
   },
   "outputs": [],
   "source": [
    "library(reshape2)\n",
    "df_guide_counts_by_cell <- as.data.frame(t(overlapping_guide_counts))\n",
    "\n",
    "#d <- melt(df_guide_counts_by_cell)\n",
    "# d <- d[d$value > 0,]\n",
    "# colnames(d) = c(\"guide_name\", \"num_guides_in_cell\")\n",
    "\n",
    "# options(repr.plot.width = 20, repr.plot.height = 20)\n",
    "# ggplot(d, aes(x = num_guides_in_cell)) + \n",
    "#     facet_wrap(~guide_name, scales = \"free_x\") + \n",
    "#     geom_histogram(binwidth=1) +\n",
    "#     labs(y_label=\"count\") "
   ]
  },
  {
   "cell_type": "code",
   "execution_count": 21,
   "id": "376705fc",
   "metadata": {
    "vscode": {
     "languageId": "r"
    }
   },
   "outputs": [
    {
     "data": {
      "text/html": [
       "<table class=\"dataframe\">\n",
       "<caption>A matrix: 6 × 8992 of type int</caption>\n",
       "<thead>\n",
       "\t<tr><th></th><th scope=col>AAACAGCCAAGCCACT-1</th><th scope=col>AAACAGCCAATCATGT-1</th><th scope=col>AAACAGCCACAGGATG-1</th><th scope=col>AAACAGCCACATTGCA-1</th><th scope=col>AAACAGCCAGGCTGTT-1</th><th scope=col>AAACATGCATTGTGAT-1</th><th scope=col>AAACCAACAATATAGG-1</th><th scope=col>AAACCAACAATGAAGC-1</th><th scope=col>AAACCAACACAGCCTG-1</th><th scope=col>AAACCAACAGTTTGGC-1</th><th scope=col>⋯</th><th scope=col>TTTGTGGCATTTAAGC-1</th><th scope=col>TTTGTGTTCAGGCCTA-1</th><th scope=col>TTTGTGTTCCATAAGC-1</th><th scope=col>TTTGTGTTCGCCTAAG-1</th><th scope=col>TTTGTGTTCGTTACAA-1</th><th scope=col>TTTGTGTTCTTAGTGA-1</th><th scope=col>TTTGTTGGTGCTGGTG-1</th><th scope=col>TTTGTTGGTTACCGGG-1</th><th scope=col>TTTGTTGGTTATCGAG-1</th><th scope=col>TTTGTTGGTTATTGCC-1</th></tr>\n",
       "</thead>\n",
       "<tbody>\n",
       "\t<tr><th scope=row>ARID1A_1</th><td>  0</td><td>0</td><td>0</td><td> 0</td><td>0</td><td>0</td><td>0</td><td>0</td><td>0</td><td>18</td><td>⋯</td><td>0</td><td> 9</td><td>0</td><td>0</td><td>0</td><td>0</td><td>0</td><td>0</td><td>0</td><td> 0</td></tr>\n",
       "\t<tr><th scope=row>ARID1A_2</th><td>  0</td><td>0</td><td>0</td><td> 0</td><td>0</td><td>0</td><td>0</td><td>0</td><td>0</td><td> 0</td><td>⋯</td><td>0</td><td> 0</td><td>6</td><td>0</td><td>3</td><td>0</td><td>0</td><td>0</td><td>0</td><td> 0</td></tr>\n",
       "\t<tr><th scope=row>ARID1A_3</th><td>  0</td><td>0</td><td>0</td><td> 0</td><td>0</td><td>0</td><td>0</td><td>0</td><td>0</td><td> 0</td><td>⋯</td><td>0</td><td>15</td><td>0</td><td>0</td><td>2</td><td>0</td><td>0</td><td>0</td><td>0</td><td> 0</td></tr>\n",
       "\t<tr><th scope=row>ARID1A_4</th><td>  0</td><td>0</td><td>0</td><td> 0</td><td>0</td><td>0</td><td>0</td><td>0</td><td>0</td><td> 0</td><td>⋯</td><td>0</td><td> 0</td><td>0</td><td>0</td><td>0</td><td>0</td><td>0</td><td>0</td><td>0</td><td> 0</td></tr>\n",
       "\t<tr><th scope=row>ATRX_1</th><td>  0</td><td>0</td><td>0</td><td> 0</td><td>0</td><td>0</td><td>0</td><td>0</td><td>0</td><td> 0</td><td>⋯</td><td>0</td><td>15</td><td>0</td><td>0</td><td>2</td><td>0</td><td>0</td><td>0</td><td>0</td><td> 0</td></tr>\n",
       "\t<tr><th scope=row>ATRX_2</th><td>218</td><td>0</td><td>0</td><td>11</td><td>0</td><td>0</td><td>2</td><td>2</td><td>0</td><td> 0</td><td>⋯</td><td>5</td><td> 3</td><td>0</td><td>0</td><td>0</td><td>0</td><td>6</td><td>0</td><td>0</td><td>15</td></tr>\n",
       "</tbody>\n",
       "</table>\n"
      ],
      "text/latex": [
       "A matrix: 6 × 8992 of type int\n",
       "\\begin{tabular}{r|lllllllllllllllllllll}\n",
       "  & AAACAGCCAAGCCACT-1 & AAACAGCCAATCATGT-1 & AAACAGCCACAGGATG-1 & AAACAGCCACATTGCA-1 & AAACAGCCAGGCTGTT-1 & AAACATGCATTGTGAT-1 & AAACCAACAATATAGG-1 & AAACCAACAATGAAGC-1 & AAACCAACACAGCCTG-1 & AAACCAACAGTTTGGC-1 & ⋯ & TTTGTGGCATTTAAGC-1 & TTTGTGTTCAGGCCTA-1 & TTTGTGTTCCATAAGC-1 & TTTGTGTTCGCCTAAG-1 & TTTGTGTTCGTTACAA-1 & TTTGTGTTCTTAGTGA-1 & TTTGTTGGTGCTGGTG-1 & TTTGTTGGTTACCGGG-1 & TTTGTTGGTTATCGAG-1 & TTTGTTGGTTATTGCC-1\\\\\n",
       "\\hline\n",
       "\tARID1A\\_1 &   0 & 0 & 0 &  0 & 0 & 0 & 0 & 0 & 0 & 18 & ⋯ & 0 &  9 & 0 & 0 & 0 & 0 & 0 & 0 & 0 &  0\\\\\n",
       "\tARID1A\\_2 &   0 & 0 & 0 &  0 & 0 & 0 & 0 & 0 & 0 &  0 & ⋯ & 0 &  0 & 6 & 0 & 3 & 0 & 0 & 0 & 0 &  0\\\\\n",
       "\tARID1A\\_3 &   0 & 0 & 0 &  0 & 0 & 0 & 0 & 0 & 0 &  0 & ⋯ & 0 & 15 & 0 & 0 & 2 & 0 & 0 & 0 & 0 &  0\\\\\n",
       "\tARID1A\\_4 &   0 & 0 & 0 &  0 & 0 & 0 & 0 & 0 & 0 &  0 & ⋯ & 0 &  0 & 0 & 0 & 0 & 0 & 0 & 0 & 0 &  0\\\\\n",
       "\tATRX\\_1 &   0 & 0 & 0 &  0 & 0 & 0 & 0 & 0 & 0 &  0 & ⋯ & 0 & 15 & 0 & 0 & 2 & 0 & 0 & 0 & 0 &  0\\\\\n",
       "\tATRX\\_2 & 218 & 0 & 0 & 11 & 0 & 0 & 2 & 2 & 0 &  0 & ⋯ & 5 &  3 & 0 & 0 & 0 & 0 & 6 & 0 & 0 & 15\\\\\n",
       "\\end{tabular}\n"
      ],
      "text/markdown": [
       "\n",
       "A matrix: 6 × 8992 of type int\n",
       "\n",
       "| <!--/--> | AAACAGCCAAGCCACT-1 | AAACAGCCAATCATGT-1 | AAACAGCCACAGGATG-1 | AAACAGCCACATTGCA-1 | AAACAGCCAGGCTGTT-1 | AAACATGCATTGTGAT-1 | AAACCAACAATATAGG-1 | AAACCAACAATGAAGC-1 | AAACCAACACAGCCTG-1 | AAACCAACAGTTTGGC-1 | ⋯ | TTTGTGGCATTTAAGC-1 | TTTGTGTTCAGGCCTA-1 | TTTGTGTTCCATAAGC-1 | TTTGTGTTCGCCTAAG-1 | TTTGTGTTCGTTACAA-1 | TTTGTGTTCTTAGTGA-1 | TTTGTTGGTGCTGGTG-1 | TTTGTTGGTTACCGGG-1 | TTTGTTGGTTATCGAG-1 | TTTGTTGGTTATTGCC-1 |\n",
       "|---|---|---|---|---|---|---|---|---|---|---|---|---|---|---|---|---|---|---|---|---|---|\n",
       "| ARID1A_1 |   0 | 0 | 0 |  0 | 0 | 0 | 0 | 0 | 0 | 18 | ⋯ | 0 |  9 | 0 | 0 | 0 | 0 | 0 | 0 | 0 |  0 |\n",
       "| ARID1A_2 |   0 | 0 | 0 |  0 | 0 | 0 | 0 | 0 | 0 |  0 | ⋯ | 0 |  0 | 6 | 0 | 3 | 0 | 0 | 0 | 0 |  0 |\n",
       "| ARID1A_3 |   0 | 0 | 0 |  0 | 0 | 0 | 0 | 0 | 0 |  0 | ⋯ | 0 | 15 | 0 | 0 | 2 | 0 | 0 | 0 | 0 |  0 |\n",
       "| ARID1A_4 |   0 | 0 | 0 |  0 | 0 | 0 | 0 | 0 | 0 |  0 | ⋯ | 0 |  0 | 0 | 0 | 0 | 0 | 0 | 0 | 0 |  0 |\n",
       "| ATRX_1 |   0 | 0 | 0 |  0 | 0 | 0 | 0 | 0 | 0 |  0 | ⋯ | 0 | 15 | 0 | 0 | 2 | 0 | 0 | 0 | 0 |  0 |\n",
       "| ATRX_2 | 218 | 0 | 0 | 11 | 0 | 0 | 2 | 2 | 0 |  0 | ⋯ | 5 |  3 | 0 | 0 | 0 | 0 | 6 | 0 | 0 | 15 |\n",
       "\n"
      ],
      "text/plain": [
       "         AAACAGCCAAGCCACT-1 AAACAGCCAATCATGT-1 AAACAGCCACAGGATG-1\n",
       "ARID1A_1   0                0                  0                 \n",
       "ARID1A_2   0                0                  0                 \n",
       "ARID1A_3   0                0                  0                 \n",
       "ARID1A_4   0                0                  0                 \n",
       "ATRX_1     0                0                  0                 \n",
       "ATRX_2   218                0                  0                 \n",
       "         AAACAGCCACATTGCA-1 AAACAGCCAGGCTGTT-1 AAACATGCATTGTGAT-1\n",
       "ARID1A_1  0                 0                  0                 \n",
       "ARID1A_2  0                 0                  0                 \n",
       "ARID1A_3  0                 0                  0                 \n",
       "ARID1A_4  0                 0                  0                 \n",
       "ATRX_1    0                 0                  0                 \n",
       "ATRX_2   11                 0                  0                 \n",
       "         AAACCAACAATATAGG-1 AAACCAACAATGAAGC-1 AAACCAACACAGCCTG-1\n",
       "ARID1A_1 0                  0                  0                 \n",
       "ARID1A_2 0                  0                  0                 \n",
       "ARID1A_3 0                  0                  0                 \n",
       "ARID1A_4 0                  0                  0                 \n",
       "ATRX_1   0                  0                  0                 \n",
       "ATRX_2   2                  2                  0                 \n",
       "         AAACCAACAGTTTGGC-1 ⋯ TTTGTGGCATTTAAGC-1 TTTGTGTTCAGGCCTA-1\n",
       "ARID1A_1 18                 ⋯ 0                   9                \n",
       "ARID1A_2  0                 ⋯ 0                   0                \n",
       "ARID1A_3  0                 ⋯ 0                  15                \n",
       "ARID1A_4  0                 ⋯ 0                   0                \n",
       "ATRX_1    0                 ⋯ 0                  15                \n",
       "ATRX_2    0                 ⋯ 5                   3                \n",
       "         TTTGTGTTCCATAAGC-1 TTTGTGTTCGCCTAAG-1 TTTGTGTTCGTTACAA-1\n",
       "ARID1A_1 0                  0                  0                 \n",
       "ARID1A_2 6                  0                  3                 \n",
       "ARID1A_3 0                  0                  2                 \n",
       "ARID1A_4 0                  0                  0                 \n",
       "ATRX_1   0                  0                  2                 \n",
       "ATRX_2   0                  0                  0                 \n",
       "         TTTGTGTTCTTAGTGA-1 TTTGTTGGTGCTGGTG-1 TTTGTTGGTTACCGGG-1\n",
       "ARID1A_1 0                  0                  0                 \n",
       "ARID1A_2 0                  0                  0                 \n",
       "ARID1A_3 0                  0                  0                 \n",
       "ARID1A_4 0                  0                  0                 \n",
       "ATRX_1   0                  0                  0                 \n",
       "ATRX_2   0                  6                  0                 \n",
       "         TTTGTTGGTTATCGAG-1 TTTGTTGGTTATTGCC-1\n",
       "ARID1A_1 0                   0                \n",
       "ARID1A_2 0                   0                \n",
       "ARID1A_3 0                   0                \n",
       "ARID1A_4 0                   0                \n",
       "ATRX_1   0                   0                \n",
       "ATRX_2   0                  15                "
      ]
     },
     "metadata": {},
     "output_type": "display_data"
    }
   ],
   "source": [
    "head(overlapping_guide_counts)"
   ]
  },
  {
   "cell_type": "code",
   "execution_count": 26,
   "id": "d114c828",
   "metadata": {
    "vscode": {
     "languageId": "r"
    }
   },
   "outputs": [
    {
     "name": "stderr",
     "output_type": "stream",
     "text": [
      "No id variables; using all as measure variables\n",
      "\n"
     ]
    },
    {
     "data": {
      "image/png": "[encoded data removed]",
      "text/plain": [
       "plot without title"
      ]
     },
     "metadata": {
      "image/png": {
       "height": 1200,
       "width": 1200
      }
     },
     "output_type": "display_data"
    }
   ],
   "source": [
    "### Using log scales\n",
    "library(reshape2)\n",
    "library(scales)\n",
    "df_guide_counts_by_cell <- as.data.frame(t(overlapping_guide_counts))\n",
    "\n",
    "d <- melt(df_guide_counts_by_cell)\n",
    "d <- d[d$value > 0,]\n",
    "colnames(d) = c(\"guide_name\", \"num_guides_in_cell\")\n",
    "\n",
    "bin_breaks <- c(1,2,2*2^(1:12))\n",
    "\n",
    "options(repr.plot.width = 20, repr.plot.height = 20)\n",
    "ggplot(d, aes(x = num_guides_in_cell)) + \n",
    "    facet_wrap(~guide_name, scales = \"free_x\") + \n",
    "    geom_histogram(breaks=bin_breaks) +\n",
    "    scale_x_log10(labels=trans_format('log10',math_format(10^.x)), breaks=c(1,10,100,1000,10000,100000)) +\n",
    "    labs(y_label=\"count\")"
   ]
  },
  {
   "cell_type": "code",
   "execution_count": 20,
   "id": "859ee252",
   "metadata": {
    "vscode": {
     "languageId": "r"
    }
   },
   "outputs": [
    {
     "ename": "ERROR",
     "evalue": "Error in lapply(list(...), as.character): object 'min_guide_count' not found\n",
     "output_type": "error",
     "traceback": [
      "Error in lapply(list(...), as.character): object 'min_guide_count' not found\nTraceback:\n",
      "1. cat(blue(\"Skipping guides with less than\", min_guide_count, \"counts in assay\\n\"))",
      "2. blue(\"Skipping guides with less than\", min_guide_count, \"counts in assay\\n\")",
      "3. mypaste(...)",
      "4. lapply(list(...), as.character)"
     ]
    }
   ],
   "source": [
    "df_thresholds = data.frame(batch=character(0), guide=character(0), threshold=numeric(0))\n",
    "\n",
    "cat(blue(\"Skipping guides with less than\", min_guide_count, \"counts in assay\\n\"))\n",
    "\n",
    "# subset \n",
    "DefaultAssay(seurat) <- \"sgRNA\"\n",
    "df_guide_counts <- as.data.frame(t(seurat[['sgRNA']]@counts))\n",
    "rownames(df_guide_counts) <- NULL\n",
    "\n",
    "CUTOFF_PROB = 0.5\n",
    "guides = colnames(df_guide_counts)\n",
    "plots = list()\n",
    "log_plots = list()\n",
    "\n",
    "for(i in seq_along(guides)) {\n",
    "    guide = guides[[i]]\n",
    "    y = df_guide_counts[ ,guide]\n",
    "    select_nonzeros = y > 0\n",
    "    y = y[select_nonzeros]\n",
    "    cat(guide, length(y), \"guides found\\n\")\n",
    "    flush.console()\n",
    "    if(length(y) <= min_guide_count) {\n",
    "        cat(\"Skipping\", guide, length(y), \"guides found\\n\")\n",
    "        next\n",
    "    }\n",
    "    \n",
    "    filter_y = y > -1\n",
    "    y_filtered = y[filter_y]\n",
    "    df_y = as.data.frame(y_filtered)\n",
    "    head(df_y)\n",
    "    \n",
    "    options(repr.plot.width=6, repr.plot.height=3)\n",
    "    bin_breaks <- c(1,2,2*2^(1:16))\n",
    "    title = paste0(guide, \", T=\")\n",
    "\n",
    "    ggp1 <- ggplot(df_y, aes(x = y_filtered)) +    # Draw each column as histogram\n",
    "    geom_histogram(binwidth=1) + \n",
    "        labs(title=title, x=NULL, y=NULL) +  \n",
    "        theme(plot.title = element_text(size=10))\n",
    "    \n",
    "    #scale_x_log10(labels=trans_format('log10',math_format(10^.x)), breaks=c(1,10,100,1000,10000,100000)) +\n",
    "    plots <- append(plots, list(ggp1))\n",
    "\n",
    "    ggp1 <- ggplot(df_y, aes(x = y_filtered)) +    # Draw each column as histogram\n",
    "    geom_histogram(breaks=bin_breaks) + \n",
    "    scale_x_log10(labels=trans_format('log10',math_format(10^.x)), breaks=c(1,10,100,1000,10000,100000)) +\n",
    "        labs(title=title, x=NULL, y=NULL) +  \n",
    "        geom_vline(xintercept=threshold, color=\"blue\", linetype=\"dashed\", size=1) +\n",
    "        theme(plot.title = element_text(size=10))\n",
    "\n",
    "    plots <- append(plots, list(ggp1))\n",
    "\n",
    "\n",
    "}\n",
    "cat(green(\"Completed\\n\"))\n",
    "flush.console()\n",
    "options(repr.plot.width=18, repr.plot.height=10)\n",
    "plt <- gridExtra::grid.arrange(\n",
    "    grobs = plots, \n",
    "    ncol = 2, \n",
    "    bottom=textGrob(\"#PS UMIs in cell\", gp=gpar(fontsize=12)),\n",
    "    left=textGrob(\"#cells\", gp=gpar(fontsize=14), rot=90),\n",
    "    top = textGrob(\"some plots\", gp=gpar(fontsize=25, font=3))\n",
    ")\n",
    "grid::grid.draw(plt)\n"
   ]
  },
  {
   "cell_type": "markdown",
   "id": "b8ca5f93",
   "metadata": {
    "papermill": {
     "duration": null,
     "end_time": null,
     "exception": null,
     "start_time": null,
     "status": "pending"
    },
    "tags": []
   },
   "source": [
    "# Demux"
   ]
  },
  {
   "cell_type": "markdown",
   "id": "b8748528",
   "metadata": {
    "papermill": {
     "duration": null,
     "end_time": null,
     "exception": null,
     "start_time": null,
     "status": "pending"
    },
    "tags": []
   },
   "source": [
    "Load multiome seurat object"
   ]
  },
  {
   "cell_type": "code",
   "execution_count": 19,
   "id": "1b2051c5",
   "metadata": {
    "papermill": {
     "duration": null,
     "end_time": null,
     "exception": null,
     "start_time": null,
     "status": "pending"
    },
    "tags": [],
    "vscode": {
     "languageId": "r"
    }
   },
   "outputs": [
    {
     "name": "stderr",
     "output_type": "stream",
     "text": [
      "Validating h5Seurat file\n",
      "\n",
      "Loading required package: Signac\n",
      "\n"
     ]
    }
   ],
   "source": [
    "if (!exists(\"seurat_all\")) {\n",
    "    seurat_all <- LoadH5Seurat(h5_name, verbose=FALSE)\n",
    "}"
   ]
  },
  {
   "cell_type": "code",
   "execution_count": null,
   "id": "139f521e",
   "metadata": {
    "papermill": {
     "duration": null,
     "end_time": null,
     "exception": null,
     "start_time": null,
     "status": "pending"
    },
    "tags": [],
    "vscode": {
     "languageId": "r"
    }
   },
   "outputs": [],
   "source": [
    "# Select cells found in guide capture\n",
    "seurat     <- subset(seurat_all, cells = overlapping_barcodes)\n",
    "n_multiome <- length(Cells(seurat_all))"
   ]
  },
  {
   "cell_type": "code",
   "execution_count": null,
   "id": "cb57a1e3",
   "metadata": {
    "papermill": {
     "duration": null,
     "end_time": null,
     "exception": null,
     "start_time": null,
     "status": "pending"
    },
    "tags": [],
    "vscode": {
     "languageId": "r"
    }
   },
   "outputs": [],
   "source": [
    "# Add guide data as a new assay independent from RNA & ATAC\n",
    "seurat[[\"guidecapture\"]] <- CreateAssayObject(counts = overlapping_guide_counts)"
   ]
  },
  {
   "cell_type": "code",
   "execution_count": null,
   "id": "ccc6470c",
   "metadata": {
    "papermill": {
     "duration": null,
     "end_time": null,
     "exception": null,
     "start_time": null,
     "status": "pending"
    },
    "tags": [],
    "vscode": {
     "languageId": "r"
    }
   },
   "outputs": [],
   "source": [
    "# x <- GetAssayData(seurat, \"counts\")\n",
    "# cells <- colnames(x[ , colSums(x) != 0])\n",
    "# feats <- names((rowSums(x) != 0) == TRUE)\n",
    "# seurat <- seurat[feats, cells] "
   ]
  },
  {
   "cell_type": "code",
   "execution_count": null,
   "id": "09cbe6b0",
   "metadata": {
    "papermill": {
     "duration": null,
     "end_time": null,
     "exception": null,
     "start_time": null,
     "status": "pending"
    },
    "tags": [],
    "vscode": {
     "languageId": "r"
    }
   },
   "outputs": [],
   "source": [
    "# Normalize guide data, here we use centered log-ratio (CLR) transformation\n",
    "seurat <- NormalizeData(seurat, assay = \"guidecapture\", normalization.method = \"CLR\")"
   ]
  },
  {
   "cell_type": "code",
   "execution_count": null,
   "id": "a876578c",
   "metadata": {
    "papermill": {
     "duration": null,
     "end_time": null,
     "exception": null,
     "start_time": null,
     "status": "pending"
    },
    "tags": [],
    "vscode": {
     "languageId": "r"
    }
   },
   "outputs": [],
   "source": [
    "seurat <- HTODemux(seurat, assay = \"guidecapture\", positive.quantile = 0.99, seed = 85253310)"
   ]
  },
  {
   "cell_type": "code",
   "execution_count": null,
   "id": "9bb14670",
   "metadata": {
    "papermill": {
     "duration": null,
     "end_time": null,
     "exception": null,
     "start_time": null,
     "status": "pending"
    },
    "tags": [],
    "vscode": {
     "languageId": "r"
    }
   },
   "outputs": [],
   "source": [
    "unique(seurat$guidecapture_secondID)"
   ]
  },
  {
   "cell_type": "markdown",
   "id": "4be1aa4d",
   "metadata": {
    "papermill": {
     "duration": null,
     "end_time": null,
     "exception": null,
     "start_time": null,
     "status": "pending"
    },
    "tags": []
   },
   "source": [
    "# Visualize"
   ]
  },
  {
   "cell_type": "code",
   "execution_count": null,
   "id": "3c86e53b",
   "metadata": {
    "papermill": {
     "duration": null,
     "end_time": null,
     "exception": null,
     "start_time": null,
     "status": "pending"
    },
    "tags": [],
    "vscode": {
     "languageId": "r"
    }
   },
   "outputs": [],
   "source": [
    "if (!exists(\"seurat\")) {\n",
    "    seurat <- LoadH5Seurat(h5_w_gcap_name)\n",
    "}"
   ]
  },
  {
   "cell_type": "code",
   "execution_count": null,
   "id": "2071bb21",
   "metadata": {
    "papermill": {
     "duration": null,
     "end_time": null,
     "exception": null,
     "start_time": null,
     "status": "pending"
    },
    "tags": [],
    "vscode": {
     "languageId": "r"
    }
   },
   "outputs": [],
   "source": [
    "# Global classification results\n",
    "n_cells <- length(seurat$guidecapture_classification.global)\n",
    "demux_counts      <- table(seurat$guidecapture_classification.global)\n",
    "demux_percentages <- round(demux_counts/n_cells, 2)\n",
    "\n",
    "demux_counts\n",
    "demux_percentages\n",
    "\n",
    "n_doublets <- demux_counts[[\"Doublet\"]]\n",
    "n_singlets <- demux_counts[[\"Singlet\"]]\n",
    "\n",
    "capture_efficiency_1 <- 100*(n_doublets + n_singlets) / n_multiome\n",
    "paste(\"Capture efficiency% = \", round(capture_efficiency_1), \"( norm by\", n_multiome, \")\")\n",
    "\n",
    "#capture_efficiency_2 <- 100 * (n_doublets + n_singlets) / n_all_overlapping\n",
    "#paste(\"Capture efficiency%\", round(capture_efficiency_2), \"( norm by\", n_all_overlapping, \")\")"
   ]
  },
  {
   "cell_type": "code",
   "execution_count": null,
   "id": "8c9f4111",
   "metadata": {
    "papermill": {
     "duration": null,
     "end_time": null,
     "exception": null,
     "start_time": null,
     "status": "pending"
    },
    "tags": [],
    "vscode": {
     "languageId": "r"
    }
   },
   "outputs": [],
   "source": [
    "length(Cells(seurat))"
   ]
  },
  {
   "cell_type": "code",
   "execution_count": null,
   "id": "94be2bf7",
   "metadata": {
    "papermill": {
     "duration": null,
     "end_time": null,
     "exception": null,
     "start_time": null,
     "status": "pending"
    },
    "tags": [],
    "vscode": {
     "languageId": "r"
    }
   },
   "outputs": [],
   "source": [
    "# Group cells based on the max HTO signal\n",
    "guide_names <- rownames(seurat[[\"guidecapture\"]])\n",
    "num_pcs     <- length(guide_names)"
   ]
  },
  {
   "cell_type": "code",
   "execution_count": null,
   "id": "252aff96",
   "metadata": {
    "papermill": {
     "duration": null,
     "end_time": null,
     "exception": null,
     "start_time": null,
     "status": "pending"
    },
    "tags": [],
    "vscode": {
     "languageId": "r"
    }
   },
   "outputs": [],
   "source": [
    "options(repr.plot.width = 20, repr.plot.height = 10)\n",
    "tf_list <- tfs_to_plot\n",
    "\n",
    "Idents(seurat) <- \"guidecapture_classification\"\n",
    "\n",
    "RidgePlot(\n",
    "    seurat,\n",
    "    assay = \"guidecapture\",\n",
    "    features = guide_names,\n",
    "    slot=\"counts\",\n",
    "    ncol = 4\n",
    ") + plot_annotation(title = \"Raw guide counts\") & theme(plot.title = element_text(hjust = 0.5, size = 20))\n",
    "\n",
    "RidgePlot(\n",
    "    seurat,\n",
    "    assay = \"guidecapture\",\n",
    "    features = guide_names,\n",
    "    ncol = 4\n",
    ") + plot_annotation(title = \"Normalized guide counts\") & theme(plot.title = element_text(hjust = 0.5, size = 20))\n",
    "\n",
    "RidgePlot(\n",
    "    seurat,\n",
    "    assay = \"SCT\",\n",
    "    features = tf_list,\n",
    "    ncol = 4,\n",
    "    y.max = .5\n",
    ")+ plot_annotation(title = \"Normalized transcript counts\") & theme(plot.title = element_text(hjust = 0.5, size = 20))"
   ]
  },
  {
   "cell_type": "code",
   "execution_count": null,
   "id": "1be1aee8",
   "metadata": {
    "papermill": {
     "duration": null,
     "end_time": null,
     "exception": null,
     "start_time": null,
     "status": "pending"
    },
    "tags": [],
    "vscode": {
     "languageId": "r"
    }
   },
   "outputs": [],
   "source": [
    "VlnPlot(\n",
    "    seurat,\n",
    "    assay = \"guidecapture\",\n",
    "    features = guide_names,\n",
    "    slot=\"counts\",\n",
    "    ncol = 4\n",
    ") + plot_annotation(title = \"Raw guide counts\", \n",
    "                    theme = theme(plot.title = element_text(hjust = 0.5, size = 20)))\n"
   ]
  },
  {
   "cell_type": "code",
   "execution_count": null,
   "id": "ce3be569",
   "metadata": {
    "papermill": {
     "duration": null,
     "end_time": null,
     "exception": null,
     "start_time": null,
     "status": "pending"
    },
    "tags": [],
    "vscode": {
     "languageId": "r"
    }
   },
   "outputs": [],
   "source": [
    "# FeatureScatter(seurat, feature1 = \"GATA5\", feature2 = \"MEOX1\")\n",
    "# FeatureScatter(seurat, feature1 = \"GATA5\", feature2 = \"NEUROG2\")\n",
    "# FeatureScatter(seurat, feature1 = \"MEOX1\", feature2 = \"NEUROG2\")"
   ]
  },
  {
   "cell_type": "code",
   "execution_count": null,
   "id": "c61e3c0a",
   "metadata": {
    "papermill": {
     "duration": null,
     "end_time": null,
     "exception": null,
     "start_time": null,
     "status": "pending"
    },
    "tags": [],
    "vscode": {
     "languageId": "r"
    }
   },
   "outputs": [],
   "source": [
    "Idents(seurat) <- \"guidecapture_classification.global\"\n",
    "VlnPlot(seurat, features = \"nCount_RNA\", pt.size = 0.1, log = TRUE)"
   ]
  },
  {
   "cell_type": "code",
   "execution_count": null,
   "id": "4e0abd4a",
   "metadata": {
    "papermill": {
     "duration": null,
     "end_time": null,
     "exception": null,
     "start_time": null,
     "status": "pending"
    },
    "tags": [],
    "vscode": {
     "languageId": "r"
    }
   },
   "outputs": [],
   "source": [
    "# First, we will remove negative cells from the object\n",
    "seurat_subset <- subset(seurat, idents = \"Negative\", invert = TRUE)\n",
    "\n",
    "# Calculate a tSNE embedding of the HTO data\n",
    "DefaultAssay(seurat_subset) <- \"guidecapture\""
   ]
  },
  {
   "cell_type": "code",
   "execution_count": null,
   "id": "d50f85ac",
   "metadata": {
    "papermill": {
     "duration": null,
     "end_time": null,
     "exception": null,
     "start_time": null,
     "status": "pending"
    },
    "tags": [],
    "vscode": {
     "languageId": "r"
    }
   },
   "outputs": [],
   "source": [
    "\n",
    "seurat_subset <-\n",
    "    ScaleData(seurat_subset, features = guide_names, verbose = FALSE)\n",
    "\n",
    "# seurat_subset <- RunPCA(\n",
    "#     seurat_subset,\n",
    "#     npcs = num_pcs,\n",
    "#     ndims.print = 1:num_pcs,\n",
    "#     features = guide_names,\n",
    "#     approx = FALSE\n",
    "# )\n",
    "\n",
    "# seurat_subset <-\n",
    "#     RunTSNE(\n",
    "#         seurat_subset,\n",
    "#         dims = 1:num_pcs,\n",
    "#         perplexity = 100,\n",
    "#         check_duplicates = FALSE\n",
    "#     )\n",
    "\n",
    "# seurat_subset <-\n",
    "#     RunUMAP(seurat_subset, dims = 1:num_pcs)\n",
    "\n",
    "#DimPlot(seurat_subset, reduction = \"tsne\")"
   ]
  },
  {
   "cell_type": "code",
   "execution_count": null,
   "id": "184e0ef6",
   "metadata": {
    "papermill": {
     "duration": null,
     "end_time": null,
     "exception": null,
     "start_time": null,
     "status": "pending"
    },
    "tags": [],
    "vscode": {
     "languageId": "r"
    }
   },
   "outputs": [],
   "source": [
    "HTOHeatmap(seurat, assay = \"guidecapture\")"
   ]
  },
  {
   "cell_type": "code",
   "execution_count": null,
   "id": "24b8fc08",
   "metadata": {
    "papermill": {
     "duration": null,
     "end_time": null,
     "exception": null,
     "start_time": null,
     "status": "pending"
    },
    "tags": [],
    "vscode": {
     "languageId": "r"
    }
   },
   "outputs": [],
   "source": [
    "SaveH5Seurat(seurat, h5_w_gcap_name, overwrite = TRUE, verbose = FALSE)"
   ]
  },
  {
   "cell_type": "markdown",
   "id": "a0b84f83",
   "metadata": {
    "papermill": {
     "duration": null,
     "end_time": null,
     "exception": null,
     "start_time": null,
     "status": "pending"
    },
    "tags": []
   },
   "source": [
    "# Inspect results"
   ]
  },
  {
   "cell_type": "code",
   "execution_count": null,
   "id": "d43f66c4",
   "metadata": {
    "papermill": {
     "duration": null,
     "end_time": null,
     "exception": null,
     "start_time": null,
     "status": "pending"
    },
    "tags": [],
    "vscode": {
     "languageId": "r"
    }
   },
   "outputs": [],
   "source": [
    "# Label each cell with the number of guides detected in it by HTOdemux\n",
    "seurat$perturb_targets_detected_in_cell <- colSums(sapply(seurat$guidecapture_classification, str_detect, tfs_w_ntctl))"
   ]
  },
  {
   "cell_type": "code",
   "execution_count": null,
   "id": "b7494314",
   "metadata": {
    "papermill": {
     "duration": null,
     "end_time": null,
     "exception": null,
     "start_time": null,
     "status": "pending"
    },
    "tags": [],
    "vscode": {
     "languageId": "r"
    }
   },
   "outputs": [],
   "source": [
    "# Split the surat obj into singlets, doublets, negatives\n",
    "# Singlets have only one target gene detected, but can have both guides targeting it.\n",
    "seurat_negatives <- subset(seurat, idents = \"Negative\")\n",
    "seurat_singlets  <- subset(seurat, perturb_targets_detected_in_cell == 1)\n",
    "seurat_doublets  <- subset(seurat, perturb_targets_detected_in_cell > 1)"
   ]
  },
  {
   "cell_type": "code",
   "execution_count": null,
   "id": "14a05175",
   "metadata": {
    "papermill": {
     "duration": null,
     "end_time": null,
     "exception": null,
     "start_time": null,
     "status": "pending"
    },
    "tags": [],
    "vscode": {
     "languageId": "r"
    }
   },
   "outputs": [],
   "source": [
    "# Assign the target gene name to singlets\n",
    "x <- seurat_singlets$guidecapture_classification\n",
    "target_assignments = sapply(tfs_w_ntctl, function(y) grep(y,x))\n",
    "\n",
    "empty_vec = vector(\"character\", length(x))\n",
    "for(tf in names(target_assignments)) {\n",
    "    indexes = target_assignments[[tf]]\n",
    "    empty_vec[indexes] = tf\n",
    "}"
   ]
  },
  {
   "cell_type": "code",
   "execution_count": null,
   "id": "7962f003",
   "metadata": {
    "papermill": {
     "duration": null,
     "end_time": null,
     "exception": null,
     "start_time": null,
     "status": "pending"
    },
    "tags": [],
    "vscode": {
     "languageId": "r"
    }
   },
   "outputs": [],
   "source": [
    "Idents(seurat_singlets) <- empty_vec\n",
    "Idents(seurat_doublets) <- seurat_doublets@meta.data$guidecapture_classification"
   ]
  },
  {
   "cell_type": "markdown",
   "id": "b71f044f",
   "metadata": {
    "papermill": {
     "duration": null,
     "end_time": null,
     "exception": null,
     "start_time": null,
     "status": "pending"
    },
    "tags": []
   },
   "source": [
    "### Singlets"
   ]
  },
  {
   "cell_type": "code",
   "execution_count": null,
   "id": "1f4284fc",
   "metadata": {
    "papermill": {
     "duration": null,
     "end_time": null,
     "exception": null,
     "start_time": null,
     "status": "pending"
    },
    "tags": [],
    "vscode": {
     "languageId": "r"
    }
   },
   "outputs": [],
   "source": [
    "singlet_barcodes <- Cells(seurat_singlets)\n",
    "select_singlets  <- df_guide$barcode_dash %in% singlet_barcodes\n",
    "df_singlets      <- df_guide[select_singlets, ]"
   ]
  },
  {
   "cell_type": "code",
   "execution_count": null,
   "id": "8e9206e0",
   "metadata": {
    "papermill": {
     "duration": null,
     "end_time": null,
     "exception": null,
     "start_time": null,
     "status": "pending"
    },
    "tags": [],
    "vscode": {
     "languageId": "r"
    }
   },
   "outputs": [],
   "source": [
    "options(repr.plot.width = 16, repr.plot.height = 6)\n",
    "\n",
    "plot_n_guides <- ggplot(df_singlets, aes(x = n_guides)) +\n",
    "    geom_histogram(binwidth = 1) +\n",
    "    labs(title = \"Singlets, guide counts\", x = \"#guides captured\") +\n",
    "    labs(y = \"#cells\")\n",
    "\n",
    "plot_dominant <- ggplot(df_singlets, aes(x = percent_dominant_gene)) +\n",
    "    geom_histogram(binwidth = 1) +\n",
    "    labs(title = \"Singlets, %dominant gene\", x = \"%dominant gene\") +\n",
    "    labs(y = \"#cells\")\n",
    "\n",
    "plot_n_guides "
   ]
  },
  {
   "cell_type": "markdown",
   "id": "39f8ae21",
   "metadata": {
    "papermill": {
     "duration": null,
     "end_time": null,
     "exception": null,
     "start_time": null,
     "status": "pending"
    },
    "tags": []
   },
   "source": [
    "### Negatives"
   ]
  },
  {
   "cell_type": "code",
   "execution_count": null,
   "id": "a6920f79",
   "metadata": {
    "papermill": {
     "duration": null,
     "end_time": null,
     "exception": null,
     "start_time": null,
     "status": "pending"
    },
    "tags": [],
    "vscode": {
     "languageId": "r"
    }
   },
   "outputs": [],
   "source": [
    "negative_barcodes <- Cells(seurat_negatives)\n",
    "select_negatives  <- df_guide$barcode_dash %in% negative_barcodes\n",
    "df_negatives      <- df_guide[select_negatives, ]"
   ]
  },
  {
   "cell_type": "code",
   "execution_count": null,
   "id": "983e1a10",
   "metadata": {
    "papermill": {
     "duration": null,
     "end_time": null,
     "exception": null,
     "start_time": null,
     "status": "pending"
    },
    "tags": [],
    "vscode": {
     "languageId": "r"
    }
   },
   "outputs": [],
   "source": [
    "options(repr.plot.width = 16, repr.plot.height = 6)\n",
    "\n",
    "plot_n_guides <- ggplot(df_negatives, aes(x = n_guides)) +\n",
    "    geom_histogram(binwidth = 1) +\n",
    "    labs(title = \"Negatives, guide counts\", x = \"#guides captured\") +\n",
    "    labs(y = \"#cells\")\n",
    "\n",
    "plot_dominant <- ggplot(df_negatives, aes(x = percent_dominant_gene)) +\n",
    "    geom_histogram(binwidth = 1) +\n",
    "    labs(title = \"Negatives, %dominant gene\", x = \"%dominant gene\") +\n",
    "    labs(y = \"#cells\")\n",
    "\n",
    "plot_n_guides | plot_dominant"
   ]
  },
  {
   "cell_type": "code",
   "execution_count": null,
   "id": "e15f4db8",
   "metadata": {
    "papermill": {
     "duration": null,
     "end_time": null,
     "exception": null,
     "start_time": null,
     "status": "pending"
    },
    "tags": [],
    "vscode": {
     "languageId": "r"
    }
   },
   "outputs": [],
   "source": [
    "sample_n(df_negatives, 10)"
   ]
  },
  {
   "cell_type": "code",
   "execution_count": null,
   "id": "fb219392",
   "metadata": {
    "papermill": {
     "duration": null,
     "end_time": null,
     "exception": null,
     "start_time": null,
     "status": "pending"
    },
    "tags": [],
    "vscode": {
     "languageId": "r"
    }
   },
   "outputs": [],
   "source": [
    "#hist(df_singlets$GATA5)"
   ]
  },
  {
   "cell_type": "code",
   "execution_count": null,
   "id": "ffa73b03",
   "metadata": {
    "papermill": {
     "duration": null,
     "end_time": null,
     "exception": null,
     "start_time": null,
     "status": "pending"
    },
    "tags": [],
    "vscode": {
     "languageId": "r"
    }
   },
   "outputs": [],
   "source": [
    "library(cluster)\n",
    "library(fitdistrplus)\n",
    "\n",
    "MaxN <- function(x, N = 2){\n",
    "  len <- length(x)\n",
    "  if (N > len) {\n",
    "    warning('N greater than length(x).  Setting N=length(x)')\n",
    "    N <- length(x)\n",
    "  }\n",
    "  sort(x, partial = len - N + 1)[len - N + 1]\n",
    "}\n",
    "\n",
    "myHTODemux <- function(\n",
    "  object,\n",
    "  assay = \"HTO\",\n",
    "  positive.quantile = 0.99,\n",
    "  init = NULL,\n",
    "  nstarts = 100,\n",
    "  kfunc = \"clara\",\n",
    "  nsamples = 100,\n",
    "  seed = 42,\n",
    "  verbose = TRUE\n",
    ") {\n",
    "  if (!is.null(x = seed)) {\n",
    "    set.seed(seed = seed)\n",
    "  }\n",
    "  #initial clustering\n",
    "  assay <- assay %||% DefaultAssay(object = object)\n",
    "  data <- GetAssayData(object = object, assay = assay)\n",
    "  counts <- GetAssayData(\n",
    "    object = object,\n",
    "    assay = assay,\n",
    "    slot = 'counts'\n",
    "  )[, colnames(x = object)]\n",
    "  counts <- as.matrix(x = counts)\n",
    "  ncenters <- init %||% (nrow(x = data) + 1)\n",
    "  switch(\n",
    "    EXPR = kfunc,\n",
    "    'kmeans' = {\n",
    "      init.clusters <- kmeans(\n",
    "        x = t(x = GetAssayData(object = object, assay = assay)),\n",
    "        centers = ncenters,\n",
    "        nstart = nstarts\n",
    "      )\n",
    "      #identify positive and negative signals for all HTO\n",
    "      Idents(object = object, cells = names(x = init.clusters$cluster)) <- init.clusters$cluster\n",
    "    },\n",
    "    'clara' = {\n",
    "      #use fast k-medoid clustering\n",
    "      init.clusters <- clara(\n",
    "        x = t(x = GetAssayData(object = object, assay = assay)),\n",
    "        k = ncenters,\n",
    "        samples = nsamples\n",
    "      )\n",
    "      #identify positive and negative signals for all HTO\n",
    "      Idents(object = object, cells = names(x = init.clusters$clustering), drop = TRUE) <- init.clusters$clustering\n",
    "    },\n",
    "    stop(\"Unknown k-means function \", kfunc, \", please choose from 'kmeans' or 'clara'\")\n",
    "  )\n",
    "  #average hto signals per cluster\n",
    "  #work around so we don't average all the RNA levels which takes time\n",
    "  average.expression <- AverageExpression(\n",
    "    object = object,\n",
    "    assays = assay,\n",
    "    verbose = FALSE\n",
    "  )[[assay]]\n",
    "  #checking for any cluster with all zero counts for any barcode\n",
    "  if (sum(average.expression == 0) > 0) {\n",
    "    stop(\"Cells with zero counts exist as a cluster.\")\n",
    "  }\n",
    "  #create a matrix to store classification result\n",
    "  discrete <- GetAssayData(object = object, assay = assay)\n",
    "  discrete[discrete > 0] <- 0\n",
    "  # for each HTO, we will use the minimum cluster for fitting\n",
    "  for (iter in rownames(x = data)) {\n",
    "    values <- counts[iter, colnames(object)]\n",
    "    #commented out if we take all but the top cluster as background\n",
    "    #values_negative=values[setdiff(object@cell.names,WhichCells(object,which.max(average.expression[iter,])))]\n",
    "    values.use <- values[WhichCells(\n",
    "      object = object,\n",
    "      idents = levels(x = Idents(object = object))[[which.min(x = average.expression[iter, ])]]\n",
    "    )]\n",
    "    fit <- suppressWarnings(expr = fitdist(data = values.use, distr = \"nbinom\"))\n",
    "    cutoff <- as.numeric(x = quantile(x = fit, probs = positive.quantile)$quantiles[1])\n",
    "    discrete[iter, names(x = which(x = values > cutoff))] <- 1\n",
    "    if (verbose) {\n",
    "      message(paste0(\"Cutoff for \", iter, \" : \", cutoff, \" reads\"))\n",
    "    }\n",
    "  }\n",
    "  # now assign cells to HTO based on discretized values\n",
    "  npositive <- colSums(x = discrete)\n",
    "  classification.global <- npositive\n",
    "  classification.global[npositive == 0] <- \"Negative\"\n",
    "  classification.global[npositive == 1] <- \"Singlet\"\n",
    "  classification.global[npositive > 1] <- \"Doublet\"\n",
    "  donor.id = rownames(x = data)\n",
    "  hash.max <- apply(X = data, MARGIN = 2, FUN = max)\n",
    "  hash.maxID <- apply(X = data, MARGIN = 2, FUN = which.max)\n",
    "  hash.second <- apply(X = data, MARGIN = 2, FUN = MaxN, N = 2)\n",
    "  hash.maxID <- as.character(x = donor.id[sapply(\n",
    "    X = 1:ncol(x = data),\n",
    "    FUN = function(x) {\n",
    "      return(which(x = data[, x] == hash.max[x])[1])\n",
    "    }\n",
    "  )])\n",
    "  hash.secondID <- as.character(x = donor.id[sapply(\n",
    "    X = 1:ncol(x = data),\n",
    "    FUN = function(x) {\n",
    "      return(which(x = data[, x] == hash.second[x])[1])\n",
    "    }\n",
    "  )])\n",
    "  hash.margin <- hash.max - hash.second\n",
    "  doublet_id <- sapply(\n",
    "    X = 1:length(x = hash.maxID),\n",
    "    FUN = function(x) {\n",
    "      return(paste(sort(x = c(hash.maxID[x], hash.secondID[x])), collapse = \"_\"))\n",
    "    }\n",
    "  )\n",
    "  # doublet_names <- names(x = table(doublet_id))[-1] # Not used\n",
    "  classification <- classification.global\n",
    "  classification[classification.global == \"Negative\"] <- \"Negative\"\n",
    "  classification[classification.global == \"Singlet\"] <- hash.maxID[which(x = classification.global == \"Singlet\")]\n",
    "  classification[classification.global == \"Doublet\"] <- doublet_id[which(x = classification.global == \"Doublet\")]\n",
    "  classification.metadata <- data.frame(\n",
    "    hash.maxID,\n",
    "    hash.secondID,\n",
    "    hash.margin,\n",
    "    classification,\n",
    "    classification.global\n",
    "  )\n",
    "  colnames(x = classification.metadata) <- paste(\n",
    "    assay,\n",
    "    c('maxID', 'secondID', 'margin', 'classification', 'classification.global'),\n",
    "    sep = '_'\n",
    "  )\n",
    "  object <- AddMetaData(object = object, metadata = classification.metadata)\n",
    "  Idents(object) <- paste0(assay, '_classification')\n",
    "  # Idents(object, cells = rownames(object@meta.data[object@meta.data$classification.global == \"Doublet\", ])) <- \"Doublet\"\n",
    "  doublets <- rownames(x = object[[]])[which(object[[paste0(assay, \"_classification.global\")]] == \"Doublet\")]\n",
    "  Idents(object = object, cells = doublets) <- 'Doublet'\n",
    "  # object@meta.data$hash.ID <- Idents(object)\n",
    "  object$hash.ID <- Idents(object = object)\n",
    "  return(discrete)\n",
    "}\n"
   ]
  },
  {
   "cell_type": "code",
   "execution_count": null,
   "id": "58ebee65",
   "metadata": {
    "papermill": {
     "duration": null,
     "end_time": null,
     "exception": null,
     "start_time": null,
     "status": "pending"
    },
    "tags": [],
    "vscode": {
     "languageId": "r"
    }
   },
   "outputs": [],
   "source": [
    "seurat_alt <- subset(seurat, cells = Cells(seurat))\n",
    "disc <- myHTODemux(seurat_alt, assay = \"guidecapture\", positive.quantile = 0.99)"
   ]
  },
  {
   "cell_type": "markdown",
   "id": "2a452d7d",
   "metadata": {
    "papermill": {
     "duration": null,
     "end_time": null,
     "exception": null,
     "start_time": null,
     "status": "pending"
    },
    "tags": []
   },
   "source": [
    "# Visualize guides by clusters"
   ]
  },
  {
   "cell_type": "markdown",
   "id": "0e6299c1",
   "metadata": {
    "papermill": {
     "duration": null,
     "end_time": null,
     "exception": null,
     "start_time": null,
     "status": "pending"
    },
    "tags": []
   },
   "source": [
    "## Singlets only"
   ]
  },
  {
   "cell_type": "code",
   "execution_count": null,
   "id": "ca5e9605",
   "metadata": {
    "papermill": {
     "duration": null,
     "end_time": null,
     "exception": null,
     "start_time": null,
     "status": "pending"
    },
    "tags": [],
    "vscode": {
     "languageId": "r"
    }
   },
   "outputs": [],
   "source": [
    "options(repr.plot.width = 23, repr.plot.height = 8)\n",
    "#Idents(seurat_singlets) <- seurat_singlets@meta.data$guidecapture_classification\n",
    "\n",
    "p1 <- DimPlot(seurat_singlets, reduction = \"umap.rna\", label = TRUE, label.size = 6, repel = TRUE) + ggtitle(\"RNA\")\n",
    "p2 <- DimPlot(seurat_singlets, reduction = \"umap.atac\", label = TRUE, label.size = 6, repel = TRUE) + ggtitle(\"ATAC\")\n",
    "p3 <- DimPlot(seurat_singlets, reduction = \"wnn.umap\", label = TRUE, label.size = 6, repel = TRUE) + ggtitle(\"WNN\")\n",
    "p1 + p2 + p3 & plot_annotation(title = \"Guide Capture, singlets\") & \n",
    "theme(plot.title = element_text(hjust = 0.5, size = 20)) +\n",
    "theme(axis.title = element_text(size = 18))   "
   ]
  },
  {
   "cell_type": "code",
   "execution_count": null,
   "id": "92fd26f0",
   "metadata": {
    "papermill": {
     "duration": null,
     "end_time": null,
     "exception": null,
     "start_time": null,
     "status": "pending"
    },
    "tags": [],
    "vscode": {
     "languageId": "r"
    }
   },
   "outputs": [],
   "source": [
    "options(repr.plot.width = 16, repr.plot.height = 6)\n",
    "p1 <- DimPlot(seurat_doublets, reduction = \"umap.rna\", label = FALSE, label.size = 6) + ggtitle(\"RNA\")\n",
    "p2 <- DimPlot(seurat_doublets, reduction = \"umap.atac\", label = FALSE, label.size = 6) + ggtitle(\"ATAC\")\n",
    "p1 + p2 & plot_annotation(title = \"Guide Capture, doublets\") &\n",
    "theme(plot.title = element_text(hjust = 0.5, size = 20))\n",
    "\n",
    "#p3 <- DimPlot(seurat_doublets, reduction = \"wnn.umap\", label = TRUE, label.size = 6, repel = TRUE) + ggtitle(\"WNN\")"
   ]
  },
  {
   "cell_type": "code",
   "execution_count": null,
   "id": "f428d597",
   "metadata": {
    "papermill": {
     "duration": null,
     "end_time": null,
     "exception": null,
     "start_time": null,
     "status": "pending"
    },
    "scrolled": false,
    "tags": [],
    "vscode": {
     "languageId": "r"
    }
   },
   "outputs": [],
   "source": [
    "options(repr.plot.width = 60, repr.plot.height = 60)\n",
    "tf_list <- tfs_to_plot\n",
    "\n",
    "FeaturePlot(\n",
    "    seurat_singlets,\n",
    "    features = tf_list, \n",
    "    split.by = 'ident', \n",
    "    reduction = 'umap.rna', \n",
    "    cols = c(\"grey\", \"red\"),\n",
    "    keep.scale = \"feature\"\n",
    ")"
   ]
  },
  {
   "cell_type": "code",
   "execution_count": null,
   "id": "95f23f93",
   "metadata": {
    "papermill": {
     "duration": null,
     "end_time": null,
     "exception": null,
     "start_time": null,
     "status": "pending"
    },
    "tags": [],
    "vscode": {
     "languageId": "r"
    }
   },
   "outputs": [],
   "source": [
    "options(repr.plot.width = 22, repr.plot.height = 12)\n",
    "guide_list <- gsub(\"_\", \"-\", guides_to_plot)\n",
    "DefaultAssay(seurat_singlets) <- \"guidecapture\"\n",
    "\n",
    "# FeaturePlot(\n",
    "#     seurat_singlets,\n",
    "#     features = guide_list,\n",
    "#     reduction = 'umap.rna',\n",
    "#     cols = c(\"grey\", \"red\"),\n",
    "#     keep.scale = \"feature\",\n",
    "#     ncol = length(guide_list)/2\n",
    "# ) +\n",
    "# plot_annotation(title = \"Guide Capture, singlets\") &\n",
    "# theme(plot.title = element_text(hjust = 0.5, size = 20))\n",
    "\n",
    "options(repr.plot.width = 22, repr.plot.height = 24)\n",
    "tf_list <- c(tfs_to_plot, \"POU5F1\")\n",
    "DefaultAssay(seurat_singlets) <- \"SCT\"\n",
    "FeaturePlot(\n",
    "    seurat_singlets,\n",
    "    features = tf_list,\n",
    "    reduction = 'umap.rna',\n",
    "    cols = c(\"grey\", \"red\"),\n",
    "    keep.scale = \"feature\",\n",
    "    ncol = 4\n",
    ") +\n",
    "plot_annotation(title = \"RNA, singlets\") &\n",
    "theme(plot.title = element_text(hjust = 0.5, size = 20))\n",
    "\n"
   ]
  },
  {
   "cell_type": "code",
   "execution_count": null,
   "id": "e79ce221",
   "metadata": {
    "papermill": {
     "duration": null,
     "end_time": null,
     "exception": null,
     "start_time": null,
     "status": "pending"
    },
    "tags": [],
    "vscode": {
     "languageId": "r"
    }
   },
   "outputs": [],
   "source": [
    "tfs_to_plot"
   ]
  },
  {
   "cell_type": "code",
   "execution_count": null,
   "id": "445cc574",
   "metadata": {
    "papermill": {
     "duration": null,
     "end_time": null,
     "exception": null,
     "start_time": null,
     "status": "pending"
    },
    "tags": [],
    "vscode": {
     "languageId": "r"
    }
   },
   "outputs": [],
   "source": [
    "# library(patchwork)\n",
    "# options(repr.plot.width = 22, repr.plot.height = 12)\n",
    "# tf_list <- tfs_to_plot\n",
    "# guide_list <- gsub(\"_\", \"-\", guides_to_plot)\n",
    "\n",
    "# DefaultAssay(seurat_singlets) <- \"guidecapture\"\n",
    "# FeaturePlot(\n",
    "#     seurat_singlets,\n",
    "#     features = guide_list,\n",
    "#     reduction = 'umap.atac',\n",
    "#     cols = c(\"grey\", \"red\"),\n",
    "#     keep.scale = \"all\",\n",
    "#     ncol = length(guide_list)/2\n",
    "# ) +\n",
    "# plot_annotation(title = \"Guide Capture\") &\n",
    "# theme(plot.title = element_text(hjust = 0.5, size = 20))\n",
    "\n",
    "# FeaturePlot(\n",
    "#     seurat_singlets,\n",
    "#     features =guide_list,\n",
    "#     reduction = 'umap.rna',\n",
    "#     cols = c(\"grey\", \"red\"),\n",
    "#     keep.scale = \"all\",\n",
    "#     ncol = length(guide_list)/2\n",
    "# ) +\n",
    "# plot_annotation(title = \"Guide Capture\") &\n",
    "# theme(plot.title = element_text(hjust = 0.5, size = 20))\n",
    "\n",
    "# FeaturePlot(\n",
    "#     seurat_singlets,\n",
    "#     features = guide_list,\n",
    "#     reduction = 'wnn.umap',\n",
    "#     cols = c(\"grey\", \"red\"),\n",
    "#     keep.scale = \"all\",\n",
    "#     ncol = length(guide_list)/2\n",
    "# ) +\n",
    "# plot_annotation(title = \"Guide Capture\") &\n",
    "# theme(plot.title = element_text(hjust = 0.5, size = 20))\n",
    "\n"
   ]
  },
  {
   "cell_type": "code",
   "execution_count": null,
   "id": "b77c2dbb",
   "metadata": {
    "papermill": {
     "duration": null,
     "end_time": null,
     "exception": null,
     "start_time": null,
     "status": "pending"
    },
    "tags": [],
    "vscode": {
     "languageId": "r"
    }
   },
   "outputs": [],
   "source": [
    "\n",
    "options(repr.plot.width = 18, repr.plot.height = 18)\n",
    "tf_list <- tfs_to_plot\n",
    "DefaultAssay(seurat_singlets) <- \"SCT\"\n",
    "\n",
    "FeaturePlot(\n",
    "    seurat_singlets,\n",
    "    features = tf_list,\n",
    "    reduction = 'umap.rna',\n",
    "    cols = c(\"grey\", \"red\"),\n",
    "    keep.scale = \"all\",\n",
    "    ncol = 4\n",
    ") +\n",
    "plot_annotation(title = \"RNA\") &\n",
    "theme(plot.title = element_text(hjust = 0.5, size = 20))\n",
    "\n",
    "FeaturePlot(\n",
    "    seurat_singlets,\n",
    "    features = tf_list,\n",
    "    reduction = 'umap.atac',\n",
    "    cols = c(\"grey\", \"red\"),\n",
    "    keep.scale = \"all\",\n",
    "    ncol = 4\n",
    ") +\n",
    "plot_annotation(title = \"RNA\") &\n",
    "theme(plot.title = element_text(hjust = 0.5, size = 20))\n",
    "\n",
    "FeaturePlot(\n",
    "    seurat_singlets,\n",
    "    features = tf_list,\n",
    "    reduction = 'wnn.umap',\n",
    "    cols = c(\"grey\", \"red\"),\n",
    "    keep.scale = \"all\",\n",
    "    ncol = 4\n",
    ") +\n",
    "plot_annotation(title = \"RNA\") &\n",
    "theme(plot.title = element_text(hjust = 0.5, size = 20))"
   ]
  },
  {
   "cell_type": "markdown",
   "id": "e1b05194",
   "metadata": {
    "papermill": {
     "duration": null,
     "end_time": null,
     "exception": null,
     "start_time": null,
     "status": "pending"
    },
    "tags": []
   },
   "source": [
    "## Doublets only"
   ]
  },
  {
   "cell_type": "code",
   "execution_count": null,
   "id": "d8854752",
   "metadata": {
    "papermill": {
     "duration": null,
     "end_time": null,
     "exception": null,
     "start_time": null,
     "status": "pending"
    },
    "tags": [],
    "vscode": {
     "languageId": "r"
    }
   },
   "outputs": [],
   "source": [
    "options(repr.plot.width = 8, repr.plot.height = 8)\n",
    "\n",
    "Idents(seurat_doublets) <- seurat_doublets@meta.data$guidecapture_classification\n",
    "\n",
    "plot <- DimPlot(\n",
    "    seurat_doublets,\n",
    "    reduction = \"umap.rna\"\n",
    ")\n",
    "LabelClusters(\n",
    "    plot = plot,\n",
    "    id = \"ident\"\n",
    ")"
   ]
  },
  {
   "cell_type": "code",
   "execution_count": null,
   "id": "5ce1b9f1",
   "metadata": {
    "papermill": {
     "duration": null,
     "end_time": null,
     "exception": null,
     "start_time": null,
     "status": "pending"
    },
    "tags": [],
    "vscode": {
     "languageId": "r"
    }
   },
   "outputs": [],
   "source": [
    "# options(repr.plot.width = 48, repr.plot.height = 15)\n",
    "# tf_list <- tfs_to_plot\n",
    "# DefaultAssay(seurat_singlets) <- \"SCT\"\n",
    "\n",
    "# FeaturePlot(\n",
    "#     seurat_doublets,\n",
    "#     features = tf_list, \n",
    "#     split.by = 'ident', \n",
    "#     reduction = 'umap.rna', \n",
    "#     cols = c(\"grey\", \"red\"),\n",
    "#     keep.scale = \"all\"\n",
    "# )"
   ]
  },
  {
   "cell_type": "markdown",
   "id": "4ac894ff",
   "metadata": {
    "papermill": {
     "duration": null,
     "end_time": null,
     "exception": null,
     "start_time": null,
     "status": "pending"
    },
    "tags": []
   },
   "source": [
    "# Get cell counts in clusters"
   ]
  },
  {
   "cell_type": "code",
   "execution_count": null,
   "id": "da249d56",
   "metadata": {
    "papermill": {
     "duration": null,
     "end_time": null,
     "exception": null,
     "start_time": null,
     "status": "pending"
    },
    "tags": [],
    "vscode": {
     "languageId": "r"
    }
   },
   "outputs": [],
   "source": [
    "Assays(seurat_singlets)"
   ]
  },
  {
   "cell_type": "code",
   "execution_count": null,
   "id": "5b6bd4a0",
   "metadata": {
    "papermill": {
     "duration": null,
     "end_time": null,
     "exception": null,
     "start_time": null,
     "status": "pending"
    },
    "tags": [],
    "vscode": {
     "languageId": "r"
    }
   },
   "outputs": [],
   "source": [
    "\n",
    "DefaultAssay(seurat_singlets) <- \"RNA\"\n",
    "seurat_singlets@meta.data$seurat_clusters\n",
    "seurat_singlets <- StashIdent(seurat_singlets, save.name = \"current.ident\")"
   ]
  },
  {
   "cell_type": "code",
   "execution_count": null,
   "id": "cc559b04",
   "metadata": {
    "papermill": {
     "duration": null,
     "end_time": null,
     "exception": null,
     "start_time": null,
     "status": "pending"
    },
    "tags": [],
    "vscode": {
     "languageId": "r"
    }
   },
   "outputs": [],
   "source": [
    "options(repr.plot.width = 7, repr.plot.height = 8)\n",
    "seurat_singlets <- SetIdent(seurat_singlets, value = seurat_singlets@meta.data$seurat_clusters)\n",
    "DimPlot(seurat_singlets, reduction = 'umap.rna', label = TRUE)"
   ]
  },
  {
   "cell_type": "code",
   "execution_count": null,
   "id": "b84ccf46",
   "metadata": {
    "papermill": {
     "duration": null,
     "end_time": null,
     "exception": null,
     "start_time": null,
     "status": "pending"
    },
    "tags": [],
    "vscode": {
     "languageId": "r"
    }
   },
   "outputs": [],
   "source": [
    "cluster_counts <- table(Idents(seurat_singlets))\n",
    "as.data.frame(cluster_counts)\n"
   ]
  },
  {
   "cell_type": "code",
   "execution_count": null,
   "id": "59aeb307",
   "metadata": {
    "papermill": {
     "duration": null,
     "end_time": null,
     "exception": null,
     "start_time": null,
     "status": "pending"
    },
    "tags": [],
    "vscode": {
     "languageId": "r"
    }
   },
   "outputs": [],
   "source": [
    "#cluster_counts[['2']] + cluster_counts[['5']] + cluster_counts[['11']] + cluster_counts[['13']] + cluster_counts[['14']]"
   ]
  },
  {
   "cell_type": "code",
   "execution_count": null,
   "id": "497fed57",
   "metadata": {
    "papermill": {
     "duration": null,
     "end_time": null,
     "exception": null,
     "start_time": null,
     "status": "pending"
    },
    "tags": [],
    "vscode": {
     "languageId": "r"
    }
   },
   "outputs": [],
   "source": [
    "DefaultAssay(seurat_singlets) <- \"guidecapture\"\n",
    "Idents(seurat_singlets) <- \"guidecapture_classification\""
   ]
  },
  {
   "cell_type": "code",
   "execution_count": null,
   "id": "4d5c335e",
   "metadata": {
    "papermill": {
     "duration": null,
     "end_time": null,
     "exception": null,
     "start_time": null,
     "status": "pending"
    },
    "tags": [],
    "vscode": {
     "languageId": "r"
    }
   },
   "outputs": [],
   "source": [
    "# seurat_ngn2 <- subset(seurat_singlets, idents = tfs_w_ntctl[1])\n",
    "# hist(seurat_ngn2@meta.data$SCT.weight)"
   ]
  },
  {
   "cell_type": "code",
   "execution_count": null,
   "id": "5886d30d",
   "metadata": {
    "papermill": {
     "duration": null,
     "end_time": null,
     "exception": null,
     "start_time": null,
     "status": "pending"
    },
    "tags": [],
    "vscode": {
     "languageId": "r"
    }
   },
   "outputs": [],
   "source": [
    "#hist(seurat_ngn2$SCT@data[tfs_w_ntctl[1],])"
   ]
  },
  {
   "cell_type": "code",
   "execution_count": null,
   "id": "3c040bb6",
   "metadata": {
    "papermill": {
     "duration": null,
     "end_time": null,
     "exception": null,
     "start_time": null,
     "status": "pending"
    },
    "tags": [],
    "vscode": {
     "languageId": "r"
    }
   },
   "outputs": [],
   "source": [
    "Idents(seurat_singlets) <- \"guidecapture_classification\"\n",
    "options(repr.plot.width = 20, repr.plot.height = 10)\n",
    "tf_list <- tfs_to_plot\n",
    "\n",
    "Idents(seurat) <- \"guidecapture_classification\"\n",
    "RidgePlot(\n",
    "    seurat_singlets,\n",
    "    assay = \"guidecapture\",\n",
    "    features = guide_names,\n",
    "    ncol = 4\n",
    ") +\n",
    "plot_annotation(title = \"Guide capture, singlets\") &\n",
    "theme(plot.title = element_text(hjust = 0.5, size = 20))\n",
    "\n",
    "\n",
    "RidgePlot(\n",
    "    seurat_singlets,\n",
    "    assay = \"SCT\",\n",
    "    features = tf_list,\n",
    "    ncol = 4,\n",
    ") +\n",
    "plot_annotation(title = \"Gene expression, singlets\") &\n",
    "theme(plot.title = element_text(hjust = 0.5, size = 20))\n"
   ]
  },
  {
   "cell_type": "markdown",
   "id": "0bd8aea7",
   "metadata": {
    "papermill": {
     "duration": null,
     "end_time": null,
     "exception": null,
     "start_time": null,
     "status": "pending"
    },
    "tags": [],
    "vscode": {
     "languageId": "r"
    }
   },
   "source": [
    "# How many singlets express both Protospacer1 and 2?"
   ]
  },
  {
   "cell_type": "code",
   "execution_count": null,
   "id": "9285583c",
   "metadata": {
    "papermill": {
     "duration": null,
     "end_time": null,
     "exception": null,
     "start_time": null,
     "status": "pending"
    },
    "tags": [],
    "vscode": {
     "languageId": "r"
    }
   },
   "outputs": [],
   "source": [
    "singlet_barcodes <- Cells(seurat_singlets)"
   ]
  },
  {
   "cell_type": "code",
   "execution_count": null,
   "id": "e27d38ef",
   "metadata": {
    "papermill": {
     "duration": null,
     "end_time": null,
     "exception": null,
     "start_time": null,
     "status": "pending"
    },
    "tags": [],
    "vscode": {
     "languageId": "r"
    }
   },
   "outputs": [],
   "source": [
    "select_singlets <- df_guide$barcode_dash %in% singlet_barcodes\n",
    "df_singlets     <- df_guide[select_singlets,]"
   ]
  },
  {
   "cell_type": "code",
   "execution_count": null,
   "id": "a1309ac9",
   "metadata": {
    "papermill": {
     "duration": null,
     "end_time": null,
     "exception": null,
     "start_time": null,
     "status": "pending"
    },
    "tags": [],
    "vscode": {
     "languageId": "r"
    }
   },
   "outputs": [],
   "source": [
    "singlets_metadata <- seurat_singlets@meta.data['guidecapture_classification']\n",
    "singlets_metadata['barcode_dash'] <- rownames(singlets_metadata)\n",
    "head(singlets_metadata)"
   ]
  },
  {
   "cell_type": "code",
   "execution_count": null,
   "id": "40cd050b",
   "metadata": {
    "papermill": {
     "duration": null,
     "end_time": null,
     "exception": null,
     "start_time": null,
     "status": "pending"
    },
    "tags": [],
    "vscode": {
     "languageId": "r"
    }
   },
   "outputs": [],
   "source": [
    "df_singlets <- merge(df_singlets, singlets_metadata, by = \"barcode_dash\")"
   ]
  },
  {
   "cell_type": "code",
   "execution_count": null,
   "id": "8e8fde51",
   "metadata": {
    "papermill": {
     "duration": null,
     "end_time": null,
     "exception": null,
     "start_time": null,
     "status": "pending"
    },
    "tags": [],
    "vscode": {
     "languageId": "r"
    }
   },
   "outputs": [],
   "source": [
    "head(df_singlets)"
   ]
  },
  {
   "cell_type": "code",
   "execution_count": null,
   "id": "05043ebc",
   "metadata": {
    "papermill": {
     "duration": null,
     "end_time": null,
     "exception": null,
     "start_time": null,
     "status": "pending"
    },
    "tags": [],
    "vscode": {
     "languageId": "r"
    }
   },
   "outputs": [],
   "source": [
    "# # Count the singlets where both PSs are captured\n",
    "\n",
    "# fracs_list <- list()\n",
    "# guide_list <- c(\"NEUROG2\", \"MEOX1\", \"GATA5\", \"NTCTL\")\n",
    "# ps_list <- list(\n",
    "#             'NEUROG2_pss' = c(\"NEUROG2_1\", \"NEUROG2_2\"),\n",
    "#             'MEOX1_pss' = c(\"MEOX1_1\", \"MEOX1_2\"),\n",
    "#             'GATA5_pss' = c(\"GATA5_1\", \"GATA5_2\"),\n",
    "#             'NTCTL_pss' = c(\"NTCTL_1\", \"NTCTL_2\")\n",
    "#         )\n",
    "\n",
    "# for(guide in guide_list) {\n",
    "#     ps_col_names <- c(paste0(guide, \"_1\"), paste0(guide, \"_2\"))\n",
    "#     select_guide <- df_singlets$guidecapture_classification == guide\n",
    "    \n",
    "#     for(ps_pair in names(ps_list)){ \n",
    "#         ps_col_names <- ps_list[[ps_pair]]\n",
    "#         df_dummy <- df_singlets[select_guide, ps_col_names]    \n",
    "#         both_ps_captured <- (df_dummy[,1] > 0) & (df_dummy[,2] > 0)\n",
    "#         frac_dual_ps <- round(sum(both_ps_captured)/nrow(df_dummy),2)\n",
    "#         #print(paste(guide, ps_pair, frac_dual_ps))\n",
    "#         fracs_list <- rbind(fracs_list, list(guide, ps_pair, frac_dual_ps))\n",
    "#     }\n",
    "\n",
    "    \n",
    "# }"
   ]
  },
  {
   "cell_type": "code",
   "execution_count": null,
   "id": "874bb51f",
   "metadata": {
    "papermill": {
     "duration": null,
     "end_time": null,
     "exception": null,
     "start_time": null,
     "status": "pending"
    },
    "tags": [],
    "vscode": {
     "languageId": "r"
    }
   },
   "outputs": [],
   "source": [
    "# For singlets\n",
    "# V1 is assigned barcode\n",
    "# V2 is the name of the gene/guide where both protospacers are detected in barcode\n",
    "# V3 is the fraction of barcodes with the both protospacers of gene/guide in V2 \n",
    "\n",
    "# as.data.frame(fracs_list)"
   ]
  },
  {
   "cell_type": "code",
   "execution_count": null,
   "id": "61982214",
   "metadata": {
    "papermill": {
     "duration": null,
     "end_time": null,
     "exception": null,
     "start_time": null,
     "status": "pending"
    },
    "tags": [],
    "vscode": {
     "languageId": "r"
    }
   },
   "outputs": [],
   "source": []
  }
 ],
 "metadata": {
  "kernelspec": {
   "display_name": "R",
   "language": "R",
   "name": "ir"
  },
  "language_info": {
   "codemirror_mode": "r",
   "file_extension": ".r",
   "mimetype": "text/x-r-source",
   "name": "R",
   "pygments_lexer": "r",
   "version": "4.2.2"
  },
  "papermill": {
   "default_parameters": {},
   "duration": 7.281512,
   "end_time": "2023-02-23T04:20:33.780207",
   "environment_variables": {},
   "exception": true,
   "input_path": "/home/vsevim/prj/workflows/catatac/secondary//05_demux_guides_00.ipynb",
   "output_path": "/home/jupyter-ayang/notebooks/cat-atac_pipeline/K562/secondary/output/notebooks/05_demux_guides_00.ipynb",
   "parameters": {
    "h5_name": "/home/jupyter-ayang/notebooks/cat-atac_pipeline/K562/secondary/output/seurat/CATATAC_K562_CRISPR_ONLY_SINGLETS.h5seurat",
    "library": "K562_CRISPR",
    "protosp_path": "/home/jupyter-ayang/notebooks/cat-atac_pipeline/K562/primary/output/resources/ps_long.tsv",
    "tsv_path": "/home/jupyter-ayang/notebooks/cat-atac_pipeline/K562/primary/output/tsv"
   },
   "start_time": "2023-02-23T04:20:26.498695",
   "version": "2.4.0"
  }
 },
 "nbformat": 4,
 "nbformat_minor": 5
}
