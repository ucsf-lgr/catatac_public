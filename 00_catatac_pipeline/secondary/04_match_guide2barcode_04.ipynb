{
 "cells": [
  {
   "cell_type": "code",
   "execution_count": 1,
   "metadata": {
    "vscode": {
     "languageId": "r"
    }
   },
   "outputs": [
    {
     "name": "stderr",
     "output_type": "stream",
     "text": [
      "\n",
      "Attaching package: ‘dplyr’\n",
      "\n",
      "\n",
      "The following objects are masked from ‘package:stats’:\n",
      "\n",
      "    filter, lag\n",
      "\n",
      "\n",
      "The following objects are masked from ‘package:base’:\n",
      "\n",
      "    intersect, setdiff, setequal, union\n",
      "\n",
      "\n",
      "\n",
      "\n",
      "######################\n",
      "#### bedr v1.0.7 ####\n",
      "######################\n",
      "\n",
      "checking binary availability...\n",
      "  * Checking path for bedtools... PASS\n",
      "    /usr/local/bin/bedtools\n",
      "  * Checking path for bedops... PASS\n",
      "    /home/vsevim/software/anaconda3/bin/bedops\n",
      "  * Checking path for tabix... PASS\n",
      "    /usr/local/bin/tabix\n",
      "tests and examples will be skipped on R CMD check if binaries are missing\n",
      "\n",
      "\n",
      "Loading required package: BiocGenerics\n",
      "\n",
      "\n",
      "Attaching package: ‘BiocGenerics’\n",
      "\n",
      "\n",
      "The following objects are masked from ‘package:dplyr’:\n",
      "\n",
      "    combine, intersect, setdiff, union\n",
      "\n",
      "\n",
      "The following objects are masked from ‘package:stats’:\n",
      "\n",
      "    IQR, mad, sd, var, xtabs\n",
      "\n",
      "\n",
      "The following objects are masked from ‘package:base’:\n",
      "\n",
      "    anyDuplicated, append, as.data.frame, basename, cbind, colnames,\n",
      "    dirname, do.call, duplicated, eval, evalq, Filter, Find, get, grep,\n",
      "    grepl, intersect, is.unsorted, lapply, Map, mapply, match, mget,\n",
      "    order, paste, pmax, pmax.int, pmin, pmin.int, Position, rank,\n",
      "    rbind, Reduce, rownames, sapply, setdiff, sort, table, tapply,\n",
      "    union, unique, unsplit, which.max, which.min\n",
      "\n",
      "\n",
      "Loading required package: S4Vectors\n",
      "\n",
      "Loading required package: stats4\n",
      "\n",
      "\n",
      "Attaching package: ‘S4Vectors’\n",
      "\n",
      "\n",
      "The following objects are masked from ‘package:dplyr’:\n",
      "\n",
      "    first, rename\n",
      "\n",
      "\n",
      "The following objects are masked from ‘package:base’:\n",
      "\n",
      "    expand.grid, I, unname\n",
      "\n",
      "\n",
      "Loading required package: IRanges\n",
      "\n",
      "\n",
      "Attaching package: ‘IRanges’\n",
      "\n",
      "\n",
      "The following objects are masked from ‘package:dplyr’:\n",
      "\n",
      "    collapse, desc, slice\n",
      "\n",
      "\n",
      "Loading required package: XVector\n",
      "\n",
      "Loading required package: GenomeInfoDb\n",
      "\n",
      "\n",
      "Attaching package: ‘Biostrings’\n",
      "\n",
      "\n",
      "The following object is masked from ‘package:base’:\n",
      "\n",
      "    strsplit\n",
      "\n",
      "\n",
      "\n",
      "lessR 4.2.2                         feedback: gerbing@pdx.edu \n",
      "--------------------------------------------------------------\n",
      "> d <- Read(\"\")   Read text, Excel, SPSS, SAS, or R data file\n",
      "  d is default data frame, data= in analysis routines optional\n",
      "\n",
      "Learn about reading, writing, and manipulating data, graphics,\n",
      "testing means and proportions, regression, factor analysis,\n",
      "customization, and descriptive statistics from pivot tables.\n",
      "  Enter:  browseVignettes(\"lessR\")\n",
      "\n",
      "View changes in this or recent versions of lessR.\n",
      "  Enter: help(package=lessR)  Click: Package NEWS\n",
      "  Enter: interact()  for access to interactive graphics\n",
      "  New function: reshape_long() to move data from wide to long\n",
      "\n",
      "\n",
      "\n",
      "Attaching package: ‘lessR’\n",
      "\n",
      "\n",
      "The following objects are masked from ‘package:IRanges’:\n",
      "\n",
      "    reflect, to\n",
      "\n",
      "\n",
      "The following objects are masked from ‘package:S4Vectors’:\n",
      "\n",
      "    pc, rename, to, values\n",
      "\n",
      "\n",
      "The following objects are masked from ‘package:dplyr’:\n",
      "\n",
      "    recode, rename\n",
      "\n",
      "\n",
      "Registered S3 method overwritten by 'SeuratDisk':\n",
      "  method            from  \n",
      "  as.sparse.H5Group Seurat\n",
      "\n",
      "Attaching SeuratObject\n",
      "\n",
      "Attaching sp\n",
      "\n"
     ]
    }
   ],
   "source": [
    "library(dplyr)\n",
    "library(ggplot2)\n",
    "library(bedr)\n",
    "library(Biostrings)\n",
    "library(stringr)\n",
    "library(lessR)\n",
    "# library(SeuratDisk)\n",
    "library(Seurat)"
   ]
  },
  {
   "cell_type": "code",
   "execution_count": 2,
   "metadata": {
    "vscode": {
     "languageId": "r"
    }
   },
   "outputs": [],
   "source": [
    "ADD_GUIDE_A_B_COUNTS_BEFORE_DEMUX = FALSE"
   ]
  },
  {
   "cell_type": "code",
   "execution_count": 3,
   "metadata": {
    "vscode": {
     "languageId": "r"
    }
   },
   "outputs": [],
   "source": [
    "# Pass these as parameters\n",
    "# library      = \"CRISPR7\"\n",
    "# tsv_path <- \"/home/vsevim/prj/tf/CATATAC_4/analysis/primary/CRISPR7/tsv\"\n",
    "# h5_name  <- \"/home/vsevim/prj/tf/CATATAC_4/analysis/secondary/CRISPR7/seurat/CATATAC_4_CRISPR7_ONLY_SINGLETS.h5seurat\"\n",
    "# protosp_path = \"/home/vsevim/prj/tf/CATATAC_4/analysis/primary/CRISPR7/resources/protospacers_4set.tsv\""
   ]
  },
  {
   "cell_type": "code",
   "execution_count": 4,
   "metadata": {
    "vscode": {
     "languageId": "r"
    }
   },
   "outputs": [],
   "source": [
    "barcode2guide_tsv_path <- paste0(tsv_path, \"/\", library, \"_ALL_STRUCTURED.TSV\")\n",
    "xlsname <- paste0(tsv_path, \"/\", library, \"_PIVOT.xlsx\")\n",
    "tsvname <- paste0(tsv_path, \"/\", library, \"_PIVOT.TSV\")"
   ]
  },
  {
   "cell_type": "code",
   "execution_count": 5,
   "metadata": {
    "vscode": {
     "languageId": "r"
    }
   },
   "outputs": [],
   "source": [
    "stats <- c()"
   ]
  },
  {
   "cell_type": "code",
   "execution_count": 6,
   "metadata": {
    "vscode": {
     "languageId": "r"
    }
   },
   "outputs": [
    {
     "data": {
      "text/html": [
       "'/home/vsevim/prj/tf/CATATAC_4/analysis/primary/CRISPR7/tsv/CRISPR7_ALL_STRUCTURED.TSV'"
      ],
      "text/latex": [
       "'/home/vsevim/prj/tf/CATATAC\\_4/analysis/primary/CRISPR7/tsv/CRISPR7\\_ALL\\_STRUCTURED.TSV'"
      ],
      "text/markdown": [
       "'/home/vsevim/prj/tf/CATATAC_4/analysis/primary/CRISPR7/tsv/CRISPR7_ALL_STRUCTURED.TSV'"
      ],
      "text/plain": [
       "[1] \"/home/vsevim/prj/tf/CATATAC_4/analysis/primary/CRISPR7/tsv/CRISPR7_ALL_STRUCTURED.TSV\""
      ]
     },
     "metadata": {},
     "output_type": "display_data"
    }
   ],
   "source": [
    "barcode2guide_tsv_path"
   ]
  },
  {
   "cell_type": "markdown",
   "metadata": {},
   "source": [
    "## Load protospacer file"
   ]
  },
  {
   "cell_type": "code",
   "execution_count": 7,
   "metadata": {
    "vscode": {
     "languageId": "r"
    }
   },
   "outputs": [
    {
     "data": {
      "text/html": [
       "<style>\n",
       ".list-inline {list-style: none; margin:0; padding: 0}\n",
       ".list-inline>li {display: inline-block}\n",
       ".list-inline>li:not(:last-child)::after {content: \"\\00b7\"; padding: 0 .5ex}\n",
       "</style>\n",
       "<ol class=list-inline><li>'GATA5'</li><li>'MEOX1'</li><li>'NEUROG2'</li></ol>\n"
      ],
      "text/latex": [
       "\\begin{enumerate*}\n",
       "\\item 'GATA5'\n",
       "\\item 'MEOX1'\n",
       "\\item 'NEUROG2'\n",
       "\\end{enumerate*}\n"
      ],
      "text/markdown": [
       "1. 'GATA5'\n",
       "2. 'MEOX1'\n",
       "3. 'NEUROG2'\n",
       "\n",
       "\n"
      ],
      "text/plain": [
       "[1] \"GATA5\"   \"MEOX1\"   \"NEUROG2\""
      ]
     },
     "metadata": {},
     "output_type": "display_data"
    },
    {
     "data": {
      "text/html": [
       "<style>\n",
       ".list-inline {list-style: none; margin:0; padding: 0}\n",
       ".list-inline>li {display: inline-block}\n",
       ".list-inline>li:not(:last-child)::after {content: \"\\00b7\"; padding: 0 .5ex}\n",
       "</style>\n",
       "<ol class=list-inline><li>'GATA5_1'</li><li>'GATA5_2'</li><li>'MEOX1_1'</li><li>'MEOX1_2'</li><li>'NEUROG2_1'</li><li>'NEUROG2_2'</li><li>'NTCTL_1'</li><li>'NTCTL_2'</li></ol>\n"
      ],
      "text/latex": [
       "\\begin{enumerate*}\n",
       "\\item 'GATA5\\_1'\n",
       "\\item 'GATA5\\_2'\n",
       "\\item 'MEOX1\\_1'\n",
       "\\item 'MEOX1\\_2'\n",
       "\\item 'NEUROG2\\_1'\n",
       "\\item 'NEUROG2\\_2'\n",
       "\\item 'NTCTL\\_1'\n",
       "\\item 'NTCTL\\_2'\n",
       "\\end{enumerate*}\n"
      ],
      "text/markdown": [
       "1. 'GATA5_1'\n",
       "2. 'GATA5_2'\n",
       "3. 'MEOX1_1'\n",
       "4. 'MEOX1_2'\n",
       "5. 'NEUROG2_1'\n",
       "6. 'NEUROG2_2'\n",
       "7. 'NTCTL_1'\n",
       "8. 'NTCTL_2'\n",
       "\n",
       "\n"
      ],
      "text/plain": [
       "[1] \"GATA5_1\"   \"GATA5_2\"   \"MEOX1_1\"   \"MEOX1_2\"   \"NEUROG2_1\" \"NEUROG2_2\"\n",
       "[7] \"NTCTL_1\"   \"NTCTL_2\"  "
      ]
     },
     "metadata": {},
     "output_type": "display_data"
    }
   ],
   "source": [
    "df_protosp = read.table(protosp_path, header=TRUE, comment.char=\"\")\n",
    "tfs_w_ntctl    = unique(df_protosp$X.TargetGene)\n",
    "unselect_ntctl = (tfs_w_ntctl != \"NTCTL\") & (tfs_w_ntctl != \"NTCTRL\")\n",
    "tfs_to_plot    = tfs_w_ntctl[unselect_ntctl]\n",
    "\n",
    "guides_to_plot  = df_protosp$GuideName\n",
    "tfs_to_plot\n",
    "guides_to_plot"
   ]
  },
  {
   "cell_type": "markdown",
   "metadata": {},
   "source": [
    "# Load and analyze guide capture"
   ]
  },
  {
   "cell_type": "code",
   "execution_count": 8,
   "metadata": {
    "vscode": {
     "languageId": "r"
    }
   },
   "outputs": [],
   "source": [
    "df_barcode2guide <-\n",
    "    read.table(barcode2guide_tsv_path, header = TRUE, sep = \"\\t\", quote = \"\")\n",
    "\n",
    "df_barcode2guide <-\n",
    "    data.frame(lapply(df_barcode2guide, trimws), stringsAsFactors = FALSE)\n",
    "\n",
    "stats[[\"Guide-capture UMI counts\"]] <- nrow(df_barcode2guide)\n",
    "\n",
    "# Some ATAC barcodes are not associated with a GEX barcode\n",
    "# I think those are just sequencing errors. I remove those from the list\n",
    "select_valid_barcodes <- df_barcode2guide$barcode != \"\"\n",
    "df_barcode2guide <- df_barcode2guide[select_valid_barcodes, ]\n",
    "\n",
    "stats[[\"Guide-capture UMI counts after removing empty barcodes\"]] <-\n",
    "    nrow(df_barcode2guide)\n",
    "\n",
    "# Append \"-1\" to the barcodes. Cellranger appends this number to distinguish\n",
    "# different samples in aggregated files.\n",
    "dummy  <- DNAStringSet(df_barcode2guide$barcode)\n",
    "df_barcode2guide$barcode_dash <- paste0(dummy, \"-1\")"
   ]
  },
  {
   "cell_type": "markdown",
   "metadata": {},
   "source": [
    "### Eliminate PCR duplicates of the UMIs from the same barcode"
   ]
  },
  {
   "cell_type": "code",
   "execution_count": 9,
   "metadata": {
    "vscode": {
     "languageId": "r"
    }
   },
   "outputs": [],
   "source": [
    "# I already deduplicated guide umis. No more dedup is necessary.\n",
    "df_deduped <- df_barcode2guide\n",
    "\n",
    "# df_deduped <- df_barcode2guide %>% distinct(gene, umi, .keep_all = TRUE)\n",
    "\n",
    "stats[[\"Guide-capture UMI counts after removing PCR duplicates\"]] <-\n",
    "    nrow(df_deduped)\n",
    "\n",
    "# dim(df_deduped)"
   ]
  },
  {
   "cell_type": "code",
   "execution_count": 10,
   "metadata": {
    "vscode": {
     "languageId": "r"
    }
   },
   "outputs": [
    {
     "data": {
      "text/html": [
       "<table class=\"dataframe\">\n",
       "<caption>A data.frame: 6 × 8</caption>\n",
       "<thead>\n",
       "\t<tr><th></th><th scope=col>atac_barcode</th><th scope=col>umi</th><th scope=col>protospacer</th><th scope=col>guide</th><th scope=col>gene</th><th scope=col>read_name</th><th scope=col>barcode</th><th scope=col>barcode_dash</th></tr>\n",
       "\t<tr><th></th><th scope=col>&lt;chr&gt;</th><th scope=col>&lt;chr&gt;</th><th scope=col>&lt;chr&gt;</th><th scope=col>&lt;chr&gt;</th><th scope=col>&lt;chr&gt;</th><th scope=col>&lt;chr&gt;</th><th scope=col>&lt;chr&gt;</th><th scope=col>&lt;chr&gt;</th></tr>\n",
       "</thead>\n",
       "<tbody>\n",
       "\t<tr><th scope=row>1</th><td>TAGGTGAGTCCTCCCA</td><td>AAGGCCTGACAG</td><td>GCTGACCCTGCGGGGAAGAA</td><td>GATA5_1</td><td>GATA5</td><td>A00351:759:H5G5LDSX5:4:1101:12952:1407</td><td>GACCGTTCATAACGGG</td><td>GACCGTTCATAACGGG-1</td></tr>\n",
       "\t<tr><th scope=row>2</th><td>TGTCTTGAGATTCTGT</td><td>TTTATTTTTCTT</td><td>GCTGACCCTGCGGGGAAGAA</td><td>GATA5_1</td><td>GATA5</td><td>A00351:759:H5G5LDSX5:4:1101:17472:3850</td><td>TGCTGGATCGATATTG</td><td>TGCTGGATCGATATTG-1</td></tr>\n",
       "\t<tr><th scope=row>3</th><td>TGTCTTGAGATTCTGT</td><td>TTTATTTTTCTT</td><td>GCTGACCCTGCGGGGAAGAA</td><td>GATA5_1</td><td>GATA5</td><td>A00351:759:H5G5LDSX5:4:1101:18313:6120</td><td>TGCTGGATCGATATTG</td><td>TGCTGGATCGATATTG-1</td></tr>\n",
       "\t<tr><th scope=row>4</th><td>CACAACCTCGCAATTT</td><td>ATACTAGTTTCT</td><td>GCTGACCCTGCGGGGAAGAA</td><td>GATA5_1</td><td>GATA5</td><td>A00351:759:H5G5LDSX5:4:1101:1597:9017 </td><td>GTGAACAAGTTATCTC</td><td>GTGAACAAGTTATCTC-1</td></tr>\n",
       "\t<tr><th scope=row>5</th><td>GGTAACTAGCTAATCT</td><td>ACGCACTGCATC</td><td>GCTGACCCTGCGGGGAAGAA</td><td>GATA5_1</td><td>GATA5</td><td>A00351:759:H5G5LDSX5:4:1101:32705:9220</td><td>CCTATATTCATGCGTG</td><td>CCTATATTCATGCGTG-1</td></tr>\n",
       "\t<tr><th scope=row>6</th><td>GCATATTTCAGGATCG</td><td>CTTTAGTTTGGA</td><td>GCTGACCCTGCGGGGAAGAA</td><td>GATA5_1</td><td>GATA5</td><td>A00351:759:H5G5LDSX5:4:1101:1506:10927</td><td>TGGACAAAGTGAGGTA</td><td>TGGACAAAGTGAGGTA-1</td></tr>\n",
       "</tbody>\n",
       "</table>\n"
      ],
      "text/latex": [
       "A data.frame: 6 × 8\n",
       "\\begin{tabular}{r|llllllll}\n",
       "  & atac\\_barcode & umi & protospacer & guide & gene & read\\_name & barcode & barcode\\_dash\\\\\n",
       "  & <chr> & <chr> & <chr> & <chr> & <chr> & <chr> & <chr> & <chr>\\\\\n",
       "\\hline\n",
       "\t1 & TAGGTGAGTCCTCCCA & AAGGCCTGACAG & GCTGACCCTGCGGGGAAGAA & GATA5\\_1 & GATA5 & A00351:759:H5G5LDSX5:4:1101:12952:1407 & GACCGTTCATAACGGG & GACCGTTCATAACGGG-1\\\\\n",
       "\t2 & TGTCTTGAGATTCTGT & TTTATTTTTCTT & GCTGACCCTGCGGGGAAGAA & GATA5\\_1 & GATA5 & A00351:759:H5G5LDSX5:4:1101:17472:3850 & TGCTGGATCGATATTG & TGCTGGATCGATATTG-1\\\\\n",
       "\t3 & TGTCTTGAGATTCTGT & TTTATTTTTCTT & GCTGACCCTGCGGGGAAGAA & GATA5\\_1 & GATA5 & A00351:759:H5G5LDSX5:4:1101:18313:6120 & TGCTGGATCGATATTG & TGCTGGATCGATATTG-1\\\\\n",
       "\t4 & CACAACCTCGCAATTT & ATACTAGTTTCT & GCTGACCCTGCGGGGAAGAA & GATA5\\_1 & GATA5 & A00351:759:H5G5LDSX5:4:1101:1597:9017  & GTGAACAAGTTATCTC & GTGAACAAGTTATCTC-1\\\\\n",
       "\t5 & GGTAACTAGCTAATCT & ACGCACTGCATC & GCTGACCCTGCGGGGAAGAA & GATA5\\_1 & GATA5 & A00351:759:H5G5LDSX5:4:1101:32705:9220 & CCTATATTCATGCGTG & CCTATATTCATGCGTG-1\\\\\n",
       "\t6 & GCATATTTCAGGATCG & CTTTAGTTTGGA & GCTGACCCTGCGGGGAAGAA & GATA5\\_1 & GATA5 & A00351:759:H5G5LDSX5:4:1101:1506:10927 & TGGACAAAGTGAGGTA & TGGACAAAGTGAGGTA-1\\\\\n",
       "\\end{tabular}\n"
      ],
      "text/markdown": [
       "\n",
       "A data.frame: 6 × 8\n",
       "\n",
       "| <!--/--> | atac_barcode &lt;chr&gt; | umi &lt;chr&gt; | protospacer &lt;chr&gt; | guide &lt;chr&gt; | gene &lt;chr&gt; | read_name &lt;chr&gt; | barcode &lt;chr&gt; | barcode_dash &lt;chr&gt; |\n",
       "|---|---|---|---|---|---|---|---|---|\n",
       "| 1 | TAGGTGAGTCCTCCCA | AAGGCCTGACAG | GCTGACCCTGCGGGGAAGAA | GATA5_1 | GATA5 | A00351:759:H5G5LDSX5:4:1101:12952:1407 | GACCGTTCATAACGGG | GACCGTTCATAACGGG-1 |\n",
       "| 2 | TGTCTTGAGATTCTGT | TTTATTTTTCTT | GCTGACCCTGCGGGGAAGAA | GATA5_1 | GATA5 | A00351:759:H5G5LDSX5:4:1101:17472:3850 | TGCTGGATCGATATTG | TGCTGGATCGATATTG-1 |\n",
       "| 3 | TGTCTTGAGATTCTGT | TTTATTTTTCTT | GCTGACCCTGCGGGGAAGAA | GATA5_1 | GATA5 | A00351:759:H5G5LDSX5:4:1101:18313:6120 | TGCTGGATCGATATTG | TGCTGGATCGATATTG-1 |\n",
       "| 4 | CACAACCTCGCAATTT | ATACTAGTTTCT | GCTGACCCTGCGGGGAAGAA | GATA5_1 | GATA5 | A00351:759:H5G5LDSX5:4:1101:1597:9017  | GTGAACAAGTTATCTC | GTGAACAAGTTATCTC-1 |\n",
       "| 5 | GGTAACTAGCTAATCT | ACGCACTGCATC | GCTGACCCTGCGGGGAAGAA | GATA5_1 | GATA5 | A00351:759:H5G5LDSX5:4:1101:32705:9220 | CCTATATTCATGCGTG | CCTATATTCATGCGTG-1 |\n",
       "| 6 | GCATATTTCAGGATCG | CTTTAGTTTGGA | GCTGACCCTGCGGGGAAGAA | GATA5_1 | GATA5 | A00351:759:H5G5LDSX5:4:1101:1506:10927 | TGGACAAAGTGAGGTA | TGGACAAAGTGAGGTA-1 |\n",
       "\n"
      ],
      "text/plain": [
       "  atac_barcode     umi          protospacer          guide   gene \n",
       "1 TAGGTGAGTCCTCCCA AAGGCCTGACAG GCTGACCCTGCGGGGAAGAA GATA5_1 GATA5\n",
       "2 TGTCTTGAGATTCTGT TTTATTTTTCTT GCTGACCCTGCGGGGAAGAA GATA5_1 GATA5\n",
       "3 TGTCTTGAGATTCTGT TTTATTTTTCTT GCTGACCCTGCGGGGAAGAA GATA5_1 GATA5\n",
       "4 CACAACCTCGCAATTT ATACTAGTTTCT GCTGACCCTGCGGGGAAGAA GATA5_1 GATA5\n",
       "5 GGTAACTAGCTAATCT ACGCACTGCATC GCTGACCCTGCGGGGAAGAA GATA5_1 GATA5\n",
       "6 GCATATTTCAGGATCG CTTTAGTTTGGA GCTGACCCTGCGGGGAAGAA GATA5_1 GATA5\n",
       "  read_name                              barcode          barcode_dash      \n",
       "1 A00351:759:H5G5LDSX5:4:1101:12952:1407 GACCGTTCATAACGGG GACCGTTCATAACGGG-1\n",
       "2 A00351:759:H5G5LDSX5:4:1101:17472:3850 TGCTGGATCGATATTG TGCTGGATCGATATTG-1\n",
       "3 A00351:759:H5G5LDSX5:4:1101:18313:6120 TGCTGGATCGATATTG TGCTGGATCGATATTG-1\n",
       "4 A00351:759:H5G5LDSX5:4:1101:1597:9017  GTGAACAAGTTATCTC GTGAACAAGTTATCTC-1\n",
       "5 A00351:759:H5G5LDSX5:4:1101:32705:9220 CCTATATTCATGCGTG CCTATATTCATGCGTG-1\n",
       "6 A00351:759:H5G5LDSX5:4:1101:1506:10927 TGGACAAAGTGAGGTA TGGACAAAGTGAGGTA-1"
      ]
     },
     "metadata": {},
     "output_type": "display_data"
    }
   ],
   "source": [
    "head(df_deduped)"
   ]
  },
  {
   "cell_type": "markdown",
   "metadata": {},
   "source": [
    "# Build a df for all barcodes"
   ]
  },
  {
   "cell_type": "markdown",
   "metadata": {},
   "source": [
    "Summerizing the umi counts, guide counts etc. Find the barcodes that are associated with multiple genes."
   ]
  },
  {
   "cell_type": "code",
   "execution_count": 11,
   "metadata": {
    "vscode": {
     "languageId": "r"
    }
   },
   "outputs": [],
   "source": [
    "# Build two new dfs to summerize guide and gene counts\n",
    "df_gene_counts <- pivot(df_deduped, table, gene, barcode)\n",
    "df_guide_counts <- pivot(df_deduped, table, guide, barcode)\n",
    "\n",
    "# Drop unused columns\n",
    "df_gene_counts <- select(df_gene_counts, -gene_na, -gene_n)\n",
    "if(ADD_GUIDE_A_B_COUNTS_BEFORE_DEMUX){\n",
    "    df_guide_counts <- select(df_guide_counts, -guide_na)\n",
    "} else {\n",
    "    df_barcodes <- select(df_guide_counts, -guide_na)\n",
    "}\n",
    "\n",
    "# Merge guide and gene columns\n",
    "if(ADD_GUIDE_A_B_COUNTS_BEFORE_DEMUX) {\n",
    "    df_barcodes <- merge(df_gene_counts, df_guide_counts, by = \"barcode\")\n",
    "}\n",
    "\n",
    "# n_guides is umi count\n",
    "df_barcodes <- dplyr:::rename(df_barcodes, n_guides = guide_n)\n",
    "\n",
    "# Add a \"-1\" to barcode names to match with multiome barcode\n",
    "# names from cellranger.\n",
    "dummy  <- DNAStringSet(df_barcodes$barcode)\n",
    "df_barcodes$barcode_dash <- paste0(dummy, \"-1\")\n"
   ]
  },
  {
   "cell_type": "code",
   "execution_count": 12,
   "metadata": {
    "vscode": {
     "languageId": "r"
    }
   },
   "outputs": [
    {
     "data": {
      "text/html": [
       "<table class=\"dataframe\">\n",
       "<caption>A data.frame: 2 × 11</caption>\n",
       "<thead>\n",
       "\t<tr><th></th><th scope=col>barcode</th><th scope=col>n_guides</th><th scope=col>GATA5_1</th><th scope=col>GATA5_2</th><th scope=col>MEOX1_1</th><th scope=col>MEOX1_2</th><th scope=col>NEUROG2_1</th><th scope=col>NEUROG2_2</th><th scope=col>NTCTL_1</th><th scope=col>NTCTL_2</th><th scope=col>barcode_dash</th></tr>\n",
       "\t<tr><th></th><th scope=col>&lt;fct&gt;</th><th scope=col>&lt;int&gt;</th><th scope=col>&lt;dbl&gt;</th><th scope=col>&lt;dbl&gt;</th><th scope=col>&lt;dbl&gt;</th><th scope=col>&lt;dbl&gt;</th><th scope=col>&lt;dbl&gt;</th><th scope=col>&lt;dbl&gt;</th><th scope=col>&lt;dbl&gt;</th><th scope=col>&lt;dbl&gt;</th><th scope=col>&lt;chr&gt;</th></tr>\n",
       "</thead>\n",
       "<tbody>\n",
       "\t<tr><th scope=row>1</th><td>AAACAGCCAATTAAGG</td><td>1</td><td>0</td><td>0</td><td>1</td><td>0</td><td>0</td><td>0</td><td>0</td><td>0</td><td>AAACAGCCAATTAAGG-1</td></tr>\n",
       "\t<tr><th scope=row>2</th><td>AAACAGCCACACTAAT</td><td>1</td><td>0</td><td>0</td><td>1</td><td>0</td><td>0</td><td>0</td><td>0</td><td>0</td><td>AAACAGCCACACTAAT-1</td></tr>\n",
       "</tbody>\n",
       "</table>\n"
      ],
      "text/latex": [
       "A data.frame: 2 × 11\n",
       "\\begin{tabular}{r|lllllllllll}\n",
       "  & barcode & n\\_guides & GATA5\\_1 & GATA5\\_2 & MEOX1\\_1 & MEOX1\\_2 & NEUROG2\\_1 & NEUROG2\\_2 & NTCTL\\_1 & NTCTL\\_2 & barcode\\_dash\\\\\n",
       "  & <fct> & <int> & <dbl> & <dbl> & <dbl> & <dbl> & <dbl> & <dbl> & <dbl> & <dbl> & <chr>\\\\\n",
       "\\hline\n",
       "\t1 & AAACAGCCAATTAAGG & 1 & 0 & 0 & 1 & 0 & 0 & 0 & 0 & 0 & AAACAGCCAATTAAGG-1\\\\\n",
       "\t2 & AAACAGCCACACTAAT & 1 & 0 & 0 & 1 & 0 & 0 & 0 & 0 & 0 & AAACAGCCACACTAAT-1\\\\\n",
       "\\end{tabular}\n"
      ],
      "text/markdown": [
       "\n",
       "A data.frame: 2 × 11\n",
       "\n",
       "| <!--/--> | barcode &lt;fct&gt; | n_guides &lt;int&gt; | GATA5_1 &lt;dbl&gt; | GATA5_2 &lt;dbl&gt; | MEOX1_1 &lt;dbl&gt; | MEOX1_2 &lt;dbl&gt; | NEUROG2_1 &lt;dbl&gt; | NEUROG2_2 &lt;dbl&gt; | NTCTL_1 &lt;dbl&gt; | NTCTL_2 &lt;dbl&gt; | barcode_dash &lt;chr&gt; |\n",
       "|---|---|---|---|---|---|---|---|---|---|---|---|\n",
       "| 1 | AAACAGCCAATTAAGG | 1 | 0 | 0 | 1 | 0 | 0 | 0 | 0 | 0 | AAACAGCCAATTAAGG-1 |\n",
       "| 2 | AAACAGCCACACTAAT | 1 | 0 | 0 | 1 | 0 | 0 | 0 | 0 | 0 | AAACAGCCACACTAAT-1 |\n",
       "\n"
      ],
      "text/plain": [
       "  barcode          n_guides GATA5_1 GATA5_2 MEOX1_1 MEOX1_2 NEUROG2_1 NEUROG2_2\n",
       "1 AAACAGCCAATTAAGG 1        0       0       1       0       0         0        \n",
       "2 AAACAGCCACACTAAT 1        0       0       1       0       0         0        \n",
       "  NTCTL_1 NTCTL_2 barcode_dash      \n",
       "1 0       0       AAACAGCCAATTAAGG-1\n",
       "2 0       0       AAACAGCCACACTAAT-1"
      ]
     },
     "metadata": {},
     "output_type": "display_data"
    }
   ],
   "source": [
    "head(df_barcodes, 2)"
   ]
  },
  {
   "cell_type": "code",
   "execution_count": 13,
   "metadata": {
    "vscode": {
     "languageId": "r"
    }
   },
   "outputs": [
    {
     "data": {
      "text/html": [
       "<style>\n",
       ".list-inline {list-style: none; margin:0; padding: 0}\n",
       ".list-inline>li {display: inline-block}\n",
       ".list-inline>li:not(:last-child)::after {content: \"\\00b7\"; padding: 0 .5ex}\n",
       "</style>\n",
       "<ol class=list-inline><li>'barcode'</li><li>'n_guides'</li><li>'GATA5_1'</li><li>'GATA5_2'</li><li>'MEOX1_1'</li><li>'MEOX1_2'</li><li>'NEUROG2_1'</li><li>'NEUROG2_2'</li><li>'NTCTL_1'</li><li>'NTCTL_2'</li><li>'barcode_dash'</li></ol>\n"
      ],
      "text/latex": [
       "\\begin{enumerate*}\n",
       "\\item 'barcode'\n",
       "\\item 'n\\_guides'\n",
       "\\item 'GATA5\\_1'\n",
       "\\item 'GATA5\\_2'\n",
       "\\item 'MEOX1\\_1'\n",
       "\\item 'MEOX1\\_2'\n",
       "\\item 'NEUROG2\\_1'\n",
       "\\item 'NEUROG2\\_2'\n",
       "\\item 'NTCTL\\_1'\n",
       "\\item 'NTCTL\\_2'\n",
       "\\item 'barcode\\_dash'\n",
       "\\end{enumerate*}\n"
      ],
      "text/markdown": [
       "1. 'barcode'\n",
       "2. 'n_guides'\n",
       "3. 'GATA5_1'\n",
       "4. 'GATA5_2'\n",
       "5. 'MEOX1_1'\n",
       "6. 'MEOX1_2'\n",
       "7. 'NEUROG2_1'\n",
       "8. 'NEUROG2_2'\n",
       "9. 'NTCTL_1'\n",
       "10. 'NTCTL_2'\n",
       "11. 'barcode_dash'\n",
       "\n",
       "\n"
      ],
      "text/plain": [
       " [1] \"barcode\"      \"n_guides\"     \"GATA5_1\"      \"GATA5_2\"      \"MEOX1_1\"     \n",
       " [6] \"MEOX1_2\"      \"NEUROG2_1\"    \"NEUROG2_2\"    \"NTCTL_1\"      \"NTCTL_2\"     \n",
       "[11] \"barcode_dash\""
      ]
     },
     "metadata": {},
     "output_type": "display_data"
    }
   ],
   "source": [
    "colnames(df_barcodes)"
   ]
  },
  {
   "cell_type": "markdown",
   "metadata": {},
   "source": [
    "# Load multiome data"
   ]
  },
  {
   "cell_type": "code",
   "execution_count": 14,
   "metadata": {
    "vscode": {
     "languageId": "r"
    }
   },
   "outputs": [
    {
     "name": "stderr",
     "output_type": "stream",
     "text": [
      "Validating h5Seurat file\n",
      "\n",
      "Loading required package: Signac\n",
      "\n"
     ]
    }
   ],
   "source": [
    "seurat <- readRDS(h5_name)"
   ]
  },
  {
   "cell_type": "markdown",
   "metadata": {},
   "source": [
    "### Intersect guide-capture barcodes with multiome barcodes"
   ]
  },
  {
   "cell_type": "code",
   "execution_count": 15,
   "metadata": {
    "vscode": {
     "languageId": "r"
    }
   },
   "outputs": [],
   "source": [
    "# Find overlapping barcodes\n",
    "multiome_barcodes       <- Cells(seurat)\n",
    "df_barcodes$in_multiome <- df_barcodes$barcode_dash %in% multiome_barcodes"
   ]
  },
  {
   "cell_type": "code",
   "execution_count": 16,
   "metadata": {
    "vscode": {
     "languageId": "r"
    }
   },
   "outputs": [
    {
     "data": {
      "text/html": [
       "28158"
      ],
      "text/latex": [
       "28158"
      ],
      "text/markdown": [
       "28158"
      ],
      "text/plain": [
       "[1] 28158"
      ]
     },
     "metadata": {},
     "output_type": "display_data"
    },
    {
     "data": {
      "text/html": [
       "14977"
      ],
      "text/latex": [
       "14977"
      ],
      "text/markdown": [
       "14977"
      ],
      "text/plain": [
       "[1] 14977"
      ]
     },
     "metadata": {},
     "output_type": "display_data"
    },
    {
     "data": {
      "text/html": [
       "<style>\n",
       ".list-inline {list-style: none; margin:0; padding: 0}\n",
       ".list-inline>li {display: inline-block}\n",
       ".list-inline>li:not(:last-child)::after {content: \"\\00b7\"; padding: 0 .5ex}\n",
       "</style>\n",
       "<ol class=list-inline><li>'AAACAGCCACATTGCA-1'</li><li>'AAACAGCCAGGCATGA-1'</li><li>'AAACAGCCAGTTATGT-1'</li><li>'AAACAGCCATAAACCT-1'</li><li>'AAACAGCCATGGCCTG-1'</li><li>'AAACAGCCATTAAAGG-1'</li></ol>\n"
      ],
      "text/latex": [
       "\\begin{enumerate*}\n",
       "\\item 'AAACAGCCACATTGCA-1'\n",
       "\\item 'AAACAGCCAGGCATGA-1'\n",
       "\\item 'AAACAGCCAGTTATGT-1'\n",
       "\\item 'AAACAGCCATAAACCT-1'\n",
       "\\item 'AAACAGCCATGGCCTG-1'\n",
       "\\item 'AAACAGCCATTAAAGG-1'\n",
       "\\end{enumerate*}\n"
      ],
      "text/markdown": [
       "1. 'AAACAGCCACATTGCA-1'\n",
       "2. 'AAACAGCCAGGCATGA-1'\n",
       "3. 'AAACAGCCAGTTATGT-1'\n",
       "4. 'AAACAGCCATAAACCT-1'\n",
       "5. 'AAACAGCCATGGCCTG-1'\n",
       "6. 'AAACAGCCATTAAAGG-1'\n",
       "\n",
       "\n"
      ],
      "text/plain": [
       "[1] \"AAACAGCCACATTGCA-1\" \"AAACAGCCAGGCATGA-1\" \"AAACAGCCAGTTATGT-1\"\n",
       "[4] \"AAACAGCCATAAACCT-1\" \"AAACAGCCATGGCCTG-1\" \"AAACAGCCATTAAAGG-1\""
      ]
     },
     "metadata": {},
     "output_type": "display_data"
    },
    {
     "data": {
      "text/html": [
       "14977"
      ],
      "text/latex": [
       "14977"
      ],
      "text/markdown": [
       "14977"
      ],
      "text/plain": [
       "[1] 14977"
      ]
     },
     "metadata": {},
     "output_type": "display_data"
    },
    {
     "data": {
      "text/html": [
       "14977"
      ],
      "text/latex": [
       "14977"
      ],
      "text/markdown": [
       "14977"
      ],
      "text/plain": [
       "[1] 14977"
      ]
     },
     "metadata": {},
     "output_type": "display_data"
    }
   ],
   "source": [
    "nrow(seurat)\n",
    "length(multiome_barcodes)\n",
    "head(multiome_barcodes)\n",
    "nrow(seurat@meta.data)\n",
    "#str(seurat)\n",
    "length(Cells(seurat))"
   ]
  },
  {
   "cell_type": "code",
   "execution_count": 17,
   "metadata": {
    "vscode": {
     "languageId": "r"
    }
   },
   "outputs": [
    {
     "data": {
      "text/html": [
       "<table class=\"dataframe\">\n",
       "<caption>A data.frame: 5 × 12</caption>\n",
       "<thead>\n",
       "\t<tr><th scope=col>barcode</th><th scope=col>n_guides</th><th scope=col>GATA5_1</th><th scope=col>GATA5_2</th><th scope=col>MEOX1_1</th><th scope=col>MEOX1_2</th><th scope=col>NEUROG2_1</th><th scope=col>NEUROG2_2</th><th scope=col>NTCTL_1</th><th scope=col>NTCTL_2</th><th scope=col>barcode_dash</th><th scope=col>in_multiome</th></tr>\n",
       "\t<tr><th scope=col>&lt;fct&gt;</th><th scope=col>&lt;int&gt;</th><th scope=col>&lt;dbl&gt;</th><th scope=col>&lt;dbl&gt;</th><th scope=col>&lt;dbl&gt;</th><th scope=col>&lt;dbl&gt;</th><th scope=col>&lt;dbl&gt;</th><th scope=col>&lt;dbl&gt;</th><th scope=col>&lt;dbl&gt;</th><th scope=col>&lt;dbl&gt;</th><th scope=col>&lt;chr&gt;</th><th scope=col>&lt;lgl&gt;</th></tr>\n",
       "</thead>\n",
       "<tbody>\n",
       "\t<tr><td>GTAGTTTCAGCAACAG</td><td>2</td><td>0</td><td>0</td><td>0</td><td>0</td><td>1</td><td>0</td><td>1</td><td>0</td><td>GTAGTTTCAGCAACAG-1</td><td>FALSE</td></tr>\n",
       "\t<tr><td>AACGCCCAGACTAAGG</td><td>3</td><td>3</td><td>0</td><td>0</td><td>0</td><td>0</td><td>0</td><td>0</td><td>0</td><td>AACGCCCAGACTAAGG-1</td><td>FALSE</td></tr>\n",
       "\t<tr><td>GAGCGAAGTTAGTACG</td><td>1</td><td>0</td><td>0</td><td>0</td><td>0</td><td>1</td><td>0</td><td>0</td><td>0</td><td>GAGCGAAGTTAGTACG-1</td><td>FALSE</td></tr>\n",
       "\t<tr><td>CAAGGTAAGTTATTCC</td><td>1</td><td>0</td><td>0</td><td>0</td><td>0</td><td>0</td><td>0</td><td>1</td><td>0</td><td>CAAGGTAAGTTATTCC-1</td><td>FALSE</td></tr>\n",
       "\t<tr><td>CACTAAGGTAGCCATA</td><td>3</td><td>0</td><td>0</td><td>1</td><td>0</td><td>1</td><td>1</td><td>0</td><td>0</td><td>CACTAAGGTAGCCATA-1</td><td>FALSE</td></tr>\n",
       "</tbody>\n",
       "</table>\n"
      ],
      "text/latex": [
       "A data.frame: 5 × 12\n",
       "\\begin{tabular}{llllllllllll}\n",
       " barcode & n\\_guides & GATA5\\_1 & GATA5\\_2 & MEOX1\\_1 & MEOX1\\_2 & NEUROG2\\_1 & NEUROG2\\_2 & NTCTL\\_1 & NTCTL\\_2 & barcode\\_dash & in\\_multiome\\\\\n",
       " <fct> & <int> & <dbl> & <dbl> & <dbl> & <dbl> & <dbl> & <dbl> & <dbl> & <dbl> & <chr> & <lgl>\\\\\n",
       "\\hline\n",
       "\t GTAGTTTCAGCAACAG & 2 & 0 & 0 & 0 & 0 & 1 & 0 & 1 & 0 & GTAGTTTCAGCAACAG-1 & FALSE\\\\\n",
       "\t AACGCCCAGACTAAGG & 3 & 3 & 0 & 0 & 0 & 0 & 0 & 0 & 0 & AACGCCCAGACTAAGG-1 & FALSE\\\\\n",
       "\t GAGCGAAGTTAGTACG & 1 & 0 & 0 & 0 & 0 & 1 & 0 & 0 & 0 & GAGCGAAGTTAGTACG-1 & FALSE\\\\\n",
       "\t CAAGGTAAGTTATTCC & 1 & 0 & 0 & 0 & 0 & 0 & 0 & 1 & 0 & CAAGGTAAGTTATTCC-1 & FALSE\\\\\n",
       "\t CACTAAGGTAGCCATA & 3 & 0 & 0 & 1 & 0 & 1 & 1 & 0 & 0 & CACTAAGGTAGCCATA-1 & FALSE\\\\\n",
       "\\end{tabular}\n"
      ],
      "text/markdown": [
       "\n",
       "A data.frame: 5 × 12\n",
       "\n",
       "| barcode &lt;fct&gt; | n_guides &lt;int&gt; | GATA5_1 &lt;dbl&gt; | GATA5_2 &lt;dbl&gt; | MEOX1_1 &lt;dbl&gt; | MEOX1_2 &lt;dbl&gt; | NEUROG2_1 &lt;dbl&gt; | NEUROG2_2 &lt;dbl&gt; | NTCTL_1 &lt;dbl&gt; | NTCTL_2 &lt;dbl&gt; | barcode_dash &lt;chr&gt; | in_multiome &lt;lgl&gt; |\n",
       "|---|---|---|---|---|---|---|---|---|---|---|---|\n",
       "| GTAGTTTCAGCAACAG | 2 | 0 | 0 | 0 | 0 | 1 | 0 | 1 | 0 | GTAGTTTCAGCAACAG-1 | FALSE |\n",
       "| AACGCCCAGACTAAGG | 3 | 3 | 0 | 0 | 0 | 0 | 0 | 0 | 0 | AACGCCCAGACTAAGG-1 | FALSE |\n",
       "| GAGCGAAGTTAGTACG | 1 | 0 | 0 | 0 | 0 | 1 | 0 | 0 | 0 | GAGCGAAGTTAGTACG-1 | FALSE |\n",
       "| CAAGGTAAGTTATTCC | 1 | 0 | 0 | 0 | 0 | 0 | 0 | 1 | 0 | CAAGGTAAGTTATTCC-1 | FALSE |\n",
       "| CACTAAGGTAGCCATA | 3 | 0 | 0 | 1 | 0 | 1 | 1 | 0 | 0 | CACTAAGGTAGCCATA-1 | FALSE |\n",
       "\n"
      ],
      "text/plain": [
       "  barcode          n_guides GATA5_1 GATA5_2 MEOX1_1 MEOX1_2 NEUROG2_1 NEUROG2_2\n",
       "1 GTAGTTTCAGCAACAG 2        0       0       0       0       1         0        \n",
       "2 AACGCCCAGACTAAGG 3        3       0       0       0       0         0        \n",
       "3 GAGCGAAGTTAGTACG 1        0       0       0       0       1         0        \n",
       "4 CAAGGTAAGTTATTCC 1        0       0       0       0       0         0        \n",
       "5 CACTAAGGTAGCCATA 3        0       0       1       0       1         1        \n",
       "  NTCTL_1 NTCTL_2 barcode_dash       in_multiome\n",
       "1 1       0       GTAGTTTCAGCAACAG-1 FALSE      \n",
       "2 0       0       AACGCCCAGACTAAGG-1 FALSE      \n",
       "3 0       0       GAGCGAAGTTAGTACG-1 FALSE      \n",
       "4 1       0       CAAGGTAAGTTATTCC-1 FALSE      \n",
       "5 0       0       CACTAAGGTAGCCATA-1 FALSE      "
      ]
     },
     "metadata": {},
     "output_type": "display_data"
    }
   ],
   "source": [
    "sample_n(df_barcodes, 5)"
   ]
  },
  {
   "cell_type": "markdown",
   "metadata": {},
   "source": [
    "Write df_barcodes to TSV and XLS"
   ]
  },
  {
   "cell_type": "code",
   "execution_count": 18,
   "metadata": {
    "vscode": {
     "languageId": "r"
    }
   },
   "outputs": [],
   "source": [
    "library(writexl)\n",
    "write_xlsx(df_barcodes, xlsname)\n",
    "write.table(df_barcodes, tsvname, sep = \"\\t\", quote = FALSE, row.names = FALSE)"
   ]
  },
  {
   "cell_type": "markdown",
   "metadata": {},
   "source": [
    "# Produce charts"
   ]
  },
  {
   "cell_type": "code",
   "execution_count": 19,
   "metadata": {
    "vscode": {
     "languageId": "r"
    }
   },
   "outputs": [],
   "source": [
    "select_gt1_umi_per_cell <- df_barcodes$n_guides > 1\n",
    "select_convergent       <- df_barcodes$targeted_gene_count == 1\n",
    "\n",
    "df_barcodes_gt1         <- df_barcodes[select_gt1_umi_per_cell, ]\n",
    "df_in_multiome          <- df_barcodes[df_barcodes$in_multiome, ]\n",
    "df_gt1_in_multiome      <- df_barcodes_gt1[df_barcodes_gt1$in_multiome, ]\n",
    "df_convergent           <- df_barcodes[select_convergent, ]"
   ]
  },
  {
   "cell_type": "code",
   "execution_count": 20,
   "metadata": {
    "vscode": {
     "languageId": "r"
    }
   },
   "outputs": [
    {
     "data": {
      "image/png": "[encoded data removed]",
      "text/plain": [
       "plot without title"
      ]
     },
     "metadata": {
      "image/png": {
       "height": 360,
       "width": 480
      }
     },
     "output_type": "display_data"
    }
   ],
   "source": [
    "options(repr.plot.width = 8, repr.plot.height = 6)\n",
    "\n",
    "ggplot(df_in_multiome, aes(x = n_guides)) +\n",
    "    geom_histogram(binwidth=1) +\n",
    "    labs(title = \"Captured guide count\", x = \"#guides\")+\n",
    "    labs(subtitle = \"multiome-overlapping guide-capture barcodes\", y = \"#cells\")\n",
    "    "
   ]
  },
  {
   "cell_type": "code",
   "execution_count": 21,
   "metadata": {
    "vscode": {
     "languageId": "r"
    }
   },
   "outputs": [
    {
     "data": {
      "image/png": "[encoded data removed]",
      "text/plain": [
       "plot without title"
      ]
     },
     "metadata": {
      "image/png": {
       "height": 300,
       "width": 480
      }
     },
     "output_type": "display_data"
    },
    {
     "data": {
      "image/png": "[encoded data removed]",
      "text/plain": [
       "plot without title"
      ]
     },
     "metadata": {
      "image/png": {
       "height": 300,
       "width": 480
      }
     },
     "output_type": "display_data"
    }
   ],
   "source": [
    "options(repr.plot.width = 8, repr.plot.height = 5)\n",
    "df_dummy <- df_in_multiome[order(-df_in_multiome$n_guides),]\n",
    "\n",
    "ggplot(df_dummy, aes(x=1:nrow(df_dummy), y = n_guides)) +\n",
    "    geom_point() +\n",
    "    labs(title = \"Captured guide count\", x = \"Cell index\") +\n",
    "    labs(subtitle = \"multiome-overlapping guide-capture barcodes\", y = \"#guides\")\n",
    "\n",
    "ggplot(df_dummy, aes(x=1:nrow(df_dummy), y = n_guides)) +\n",
    "    geom_point() +\n",
    "    labs(title = \"Captured guide count\", x = \"Cell index\") +\n",
    "    labs(subtitle = \"multiome-overlapping guide-capture barcodes\", y = \"#guides\") +\n",
    "    scale_y_log10()"
   ]
  },
  {
   "cell_type": "code",
   "execution_count": 26,
   "metadata": {
    "vscode": {
     "languageId": "r"
    }
   },
   "outputs": [],
   "source": [
    "# Record stats\n",
    "stats[[\"%overlapping\"]] <-\n",
    "    100 * sum(df_barcodes$in_multiome) / length(multiome_barcodes)\n",
    "\n",
    "stats[[\"Guide-capture barcodes\"]] <- nrow(df_barcodes)\n",
    "stats[[\"Multiome barcodes\"]]      <- length(multiome_barcodes)\n",
    "stats[[\"Overlapping barcodes\"]]   <- sum(df_barcodes$in_multiome)\n",
    "stats[[\"Overlapping barcodes > 1 UMI\"]] <- sum(df_barcodes_gt1$in_multiome)\n",
    "stats[[\"Guide capture all convergent\"]] <- nrow(df_convergent)\n",
    "stats[[\"Guide capture overlapping convergent\"]] <-\n",
    "    sum(df_convergent$in_multiome)\n",
    "stats[[\"Median guides per cell (multiome-overlapping)\"]] <- median(df_in_multiome$n_guides)"
   ]
  },
  {
   "cell_type": "markdown",
   "metadata": {},
   "source": [
    "# Print stats"
   ]
  },
  {
   "cell_type": "code",
   "execution_count": 27,
   "metadata": {
    "vscode": {
     "languageId": "r"
    }
   },
   "outputs": [
    {
     "name": "stdout",
     "output_type": "stream",
     "text": [
      "Guide-capture UMI counts\t60579\n",
      "Guide-capture UMI counts after removing empty barcodes\t59226\n",
      "Guide-capture UMI counts after removing PCR duplicates\t59226\n",
      "Median guides per cell (multiome-overlapping)\t5\n",
      "%overlapping\t18.5685\n",
      "Guide-capture barcodes\t19069\n",
      "Multiome barcodes\t14977\n",
      "Overlapping barcodes\t2781\n",
      "Overlapping barcodes > 1 UMI\t2340\n",
      "Guide capture all convergent\t0\n",
      "Guide capture overlapping convergent\t0\n"
     ]
    }
   ],
   "source": [
    "for (tag in names(stats)) {\n",
    "    if (tag != \"Capture efficiency\") {\n",
    "        text <- sprintf(\"%s\\t%g\\n\", tag, stats[[tag]])\n",
    "    }\n",
    "    else {\n",
    "        text <- sprintf(\"%s\\t%.1f%%\\n\", tag, stats[[tag]])\n",
    "    }\n",
    "    cat(text)\n",
    "}"
   ]
  },
  {
   "cell_type": "code",
   "execution_count": 28,
   "metadata": {
    "vscode": {
     "languageId": "r"
    }
   },
   "outputs": [
    {
     "data": {
      "text/html": [
       "<table class=\"dataframe\">\n",
       "<caption>A matrix: 11 × 1 of type dbl</caption>\n",
       "<tbody>\n",
       "\t<tr><th scope=row>Guide.capture.UMI.counts</th><td>60579</td></tr>\n",
       "\t<tr><th scope=row>Guide.capture.UMI.counts.after.removing.empty.barcodes</th><td>59226</td></tr>\n",
       "\t<tr><th scope=row>Guide.capture.UMI.counts.after.removing.PCR.duplicates</th><td>59226</td></tr>\n",
       "\t<tr><th scope=row>Median.guides.per.cell..multiome.overlapping.</th><td>    5</td></tr>\n",
       "\t<tr><th scope=row>X.overlapping</th><td>   19</td></tr>\n",
       "\t<tr><th scope=row>Guide.capture.barcodes</th><td>19069</td></tr>\n",
       "\t<tr><th scope=row>Multiome.barcodes</th><td>14977</td></tr>\n",
       "\t<tr><th scope=row>Overlapping.barcodes</th><td> 2781</td></tr>\n",
       "\t<tr><th scope=row>Overlapping.barcodes...1.UMI</th><td> 2340</td></tr>\n",
       "\t<tr><th scope=row>Guide.capture.all.convergent</th><td>    0</td></tr>\n",
       "\t<tr><th scope=row>Guide.capture.overlapping.convergent</th><td>    0</td></tr>\n",
       "</tbody>\n",
       "</table>\n"
      ],
      "text/latex": [
       "A matrix: 11 × 1 of type dbl\n",
       "\\begin{tabular}{r|l}\n",
       "\tGuide.capture.UMI.counts & 60579\\\\\n",
       "\tGuide.capture.UMI.counts.after.removing.empty.barcodes & 59226\\\\\n",
       "\tGuide.capture.UMI.counts.after.removing.PCR.duplicates & 59226\\\\\n",
       "\tMedian.guides.per.cell..multiome.overlapping. &     5\\\\\n",
       "\tX.overlapping &    19\\\\\n",
       "\tGuide.capture.barcodes & 19069\\\\\n",
       "\tMultiome.barcodes & 14977\\\\\n",
       "\tOverlapping.barcodes &  2781\\\\\n",
       "\tOverlapping.barcodes...1.UMI &  2340\\\\\n",
       "\tGuide.capture.all.convergent &     0\\\\\n",
       "\tGuide.capture.overlapping.convergent &     0\\\\\n",
       "\\end{tabular}\n"
      ],
      "text/markdown": [
       "\n",
       "A matrix: 11 × 1 of type dbl\n",
       "\n",
       "| Guide.capture.UMI.counts | 60579 |\n",
       "| Guide.capture.UMI.counts.after.removing.empty.barcodes | 59226 |\n",
       "| Guide.capture.UMI.counts.after.removing.PCR.duplicates | 59226 |\n",
       "| Median.guides.per.cell..multiome.overlapping. |     5 |\n",
       "| X.overlapping |    19 |\n",
       "| Guide.capture.barcodes | 19069 |\n",
       "| Multiome.barcodes | 14977 |\n",
       "| Overlapping.barcodes |  2781 |\n",
       "| Overlapping.barcodes...1.UMI |  2340 |\n",
       "| Guide.capture.all.convergent |     0 |\n",
       "| Guide.capture.overlapping.convergent |     0 |\n",
       "\n"
      ],
      "text/plain": [
       "                                                       [,1] \n",
       "Guide.capture.UMI.counts                               60579\n",
       "Guide.capture.UMI.counts.after.removing.empty.barcodes 59226\n",
       "Guide.capture.UMI.counts.after.removing.PCR.duplicates 59226\n",
       "Median.guides.per.cell..multiome.overlapping.              5\n",
       "X.overlapping                                             19\n",
       "Guide.capture.barcodes                                 19069\n",
       "Multiome.barcodes                                      14977\n",
       "Overlapping.barcodes                                    2781\n",
       "Overlapping.barcodes...1.UMI                            2340\n",
       "Guide.capture.all.convergent                               0\n",
       "Guide.capture.overlapping.convergent                       0"
      ]
     },
     "metadata": {},
     "output_type": "display_data"
    }
   ],
   "source": [
    "round(t(as.data.frame(stats)))"
   ]
  },
  {
   "cell_type": "markdown",
   "metadata": {},
   "source": []
  }
 ],
 "metadata": {
  "kernelspec": {
   "display_name": "R",
   "language": "R",
   "name": "ir"
  },
  "language_info": {
   "codemirror_mode": "r",
   "file_extension": ".r",
   "mimetype": "text/x-r-source",
   "name": "R",
   "pygments_lexer": "r",
   "version": "4.1.3"
  },
  "orig_nbformat": 4
 },
 "nbformat": 4,
 "nbformat_minor": 2
}
