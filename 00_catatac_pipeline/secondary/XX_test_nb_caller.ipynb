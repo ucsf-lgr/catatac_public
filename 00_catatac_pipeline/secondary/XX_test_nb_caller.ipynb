{
 "cells": [
  {
   "cell_type": "code",
   "execution_count": 1,
   "metadata": {
    "vscode": {
     "languageId": "r"
    }
   },
   "outputs": [],
   "source": [
    "suppressWarnings(suppressPackageStartupMessages({\n",
    "    library(Seurat)\n",
    "    library(SeuratObject)\n",
    "    library(Signac)\n",
    "    library(EnsDb.Hsapiens.v86)\n",
    "    library(dplyr)\n",
    "    library(ggplot2)\n",
    "    library(bedr)\n",
    "    library(SeuratDisk)\n",
    "    library(scales)\n",
    "    library(reshape2)\n",
    "    library(Hmisc)\n",
    "    library(tidyr)\n",
    "    library(tidyverse)\n",
    "    library(crayon)\n",
    "    library(readr)\n",
    "    library(reticulate)\n",
    "    library(gridExtra)\n",
    "    library(grid)\n",
    "    library(ggpubr)\n",
    "    library(scales)\n",
    "    library(patchwork)\n",
    "    library(stringr)\n",
    "    library(future)\n",
    "    library(data.table)\n",
    "    library(Matrix)\n",
    "    library(iSEE)\n",
    "}))\n",
    "use_condaenv(\"R42\")\n",
    "source_python(\"/home/vsevim/prj/workflows/ckd/secondary/mixture.py\")"
   ]
  },
  {
   "cell_type": "code",
   "execution_count": 2,
   "metadata": {
    "vscode": {
     "languageId": "r"
    }
   },
   "outputs": [],
   "source": [
    "# Definitions etc\n",
    "set.seed(1234)\n",
    "options(digits=2)\n",
    "stats <- c()\n",
    "\n",
    "options(future.globals.maxSize= 250 * 1024^3) # 650Gb\n",
    "# plan()\n",
    "\n",
    "# Enable parallelization\n",
    "plan(sequential)\n",
    "plan(\"multicore\", workers = 64)\n",
    "\n",
    "custom_theme <- theme(\n",
    "plot.title = element_text(size=16, hjust = 0.5), \n",
    "legend.key.size = unit(0.7, \"cm\"), \n",
    "legend.text = element_text(size = 14))"
   ]
  },
  {
   "cell_type": "code",
   "execution_count": 4,
   "metadata": {
    "vscode": {
     "languageId": "r"
    }
   },
   "outputs": [],
   "source": [
    "options(digits=2)"
   ]
  },
  {
   "cell_type": "markdown",
   "metadata": {},
   "source": [
    "# Load guide-capture data"
   ]
  },
  {
   "cell_type": "markdown",
   "metadata": {},
   "source": [
    "Define paths etc"
   ]
  },
  {
   "cell_type": "code",
   "execution_count": 3,
   "metadata": {
    "vscode": {
     "languageId": "r"
    }
   },
   "outputs": [],
   "source": [
    "if(!exists(\"papermill_run\")) {\n",
    "    prj_name = \"Screen1_66guides\"\n",
    "    secondary_a_path = \"/home/vsevim/prj/1012-ckd/S1/analysis/secondary/\"\n",
    "    save_seurat_h5 = \"NO\"\n",
    "\n",
    "    h5_name = \"/home/jupyter-ayang/notebooks/cat-atac_pipeline/K562/secondary/output/seurat/CATATAC_K562_CRISPR_ONLY_SINGLETS.h5seurat\"\n",
    "    protosp_path = \"/home/jupyter-ayang/notebooks/cat-atac_pipeline/K562/primary/output/resources/ps_long_sep.tsv\"\n",
    "    library = \"K562_CRISPR\"\n",
    "    tsv_path = \"/home/jupyter-ayang/notebooks/cat-atac_pipeline/K562/primary/output/tsv\"\n",
    "}"
   ]
  },
  {
   "cell_type": "code",
   "execution_count": 5,
   "metadata": {
    "vscode": {
     "languageId": "r"
    }
   },
   "outputs": [],
   "source": [
    "h5_w_gcap_name <- sub(\".h5seurat\", \"_w_GUIDE_CAP.h5seurat\", h5_name)\n",
    "barcode2guide_tsv_path <- paste0(tsv_path, \"/\", library, \"_ALL_STRUCTURED.TSV\")\n",
    "tsv_name <- paste0(tsv_path, \"/\", library, \"_guide_PIVOT.TSV\")\n",
    "min_guide_count = 10"
   ]
  },
  {
   "cell_type": "code",
   "execution_count": 6,
   "metadata": {
    "vscode": {
     "languageId": "r"
    }
   },
   "outputs": [
    {
     "data": {
      "text/html": [
       "'/home/jupyter-ayang/notebooks/cat-atac_pipeline/K562/primary/output/tsv/K562_CRISPR_guide_PIVOT.TSV'"
      ],
      "text/latex": [
       "'/home/jupyter-ayang/notebooks/cat-atac\\_pipeline/K562/primary/output/tsv/K562\\_CRISPR\\_guide\\_PIVOT.TSV'"
      ],
      "text/markdown": [
       "'/home/jupyter-ayang/notebooks/cat-atac_pipeline/K562/primary/output/tsv/K562_CRISPR_guide_PIVOT.TSV'"
      ],
      "text/plain": [
       "[1] \"/home/jupyter-ayang/notebooks/cat-atac_pipeline/K562/primary/output/tsv/K562_CRISPR_guide_PIVOT.TSV\""
      ]
     },
     "metadata": {},
     "output_type": "display_data"
    }
   ],
   "source": [
    "tsv_name"
   ]
  },
  {
   "cell_type": "markdown",
   "metadata": {},
   "source": [
    "### Load protospacer file"
   ]
  },
  {
   "cell_type": "code",
   "execution_count": 7,
   "metadata": {
    "vscode": {
     "languageId": "r"
    }
   },
   "outputs": [],
   "source": [
    "df_protosp = read.table(protosp_path, header=TRUE, comment.char=\"\")"
   ]
  },
  {
   "cell_type": "code",
   "execution_count": 8,
   "metadata": {
    "vscode": {
     "languageId": "r"
    }
   },
   "outputs": [
    {
     "data": {
      "text/plain": [
       "NULL"
      ]
     },
     "metadata": {},
     "output_type": "display_data"
    },
    {
     "data": {
      "text/html": [
       "<style>\n",
       ".list-inline {list-style: none; margin:0; padding: 0}\n",
       ".list-inline>li {display: inline-block}\n",
       ".list-inline>li:not(:last-child)::after {content: \"\\00b7\"; padding: 0 .5ex}\n",
       "</style>\n",
       "<ol class=list-inline><li>'ARID1A_1'</li><li>'ARID1A_2'</li><li>'ARID1A_3'</li><li>'ARID1A_4'</li><li>'ATRX_1'</li><li>'ATRX_2'</li><li>'ATRX_3'</li><li>'ATRX_4'</li><li>'CHD8_1'</li><li>'CHD8_2'</li><li>'CHD8_3'</li><li>'CHD8_4'</li><li>'DNMT3A_1'</li><li>'DNMT3A_2'</li><li>'DNMT3A_3'</li><li>'DNMT3A_4'</li><li>'EZH2_1'</li><li>'EZH2_2'</li><li>'EZH2_3'</li><li>'EZH2_4'</li><li>'HDAC9_1'</li><li>'HDAC9_2'</li><li>'HDAC9_3'</li><li>'HDAC9_4'</li><li>'KDM6A_1'</li><li>'KDM6A_2'</li><li>'KDM6A_3'</li><li>'KDM6A_4'</li><li>'MBD1_1'</li><li>'MBD1_2'</li><li>'MBD1_3'</li><li>'MBD1_4'</li><li>'NTCTL_1'</li><li>'NTCTL_2'</li><li>'NTCTL_3'</li><li>'NTCTL_4'</li><li>'PBRM1_1'</li><li>'PBRM1_2'</li><li>'PBRM1_3'</li><li>'PBRM1_4'</li><li>'PRDM9_1'</li><li>'PRDM9_2'</li><li>'PRDM9_3'</li><li>'PRDM9_4'</li><li>'SETD2_1'</li><li>'SETD2_2'</li><li>'SETD2_3'</li><li>'SETD2_4'</li><li>'TET2_1'</li><li>'TET2_2'</li><li>'TET2_3'</li><li>'TET2_4'</li></ol>\n"
      ],
      "text/latex": [
       "\\begin{enumerate*}\n",
       "\\item 'ARID1A\\_1'\n",
       "\\item 'ARID1A\\_2'\n",
       "\\item 'ARID1A\\_3'\n",
       "\\item 'ARID1A\\_4'\n",
       "\\item 'ATRX\\_1'\n",
       "\\item 'ATRX\\_2'\n",
       "\\item 'ATRX\\_3'\n",
       "\\item 'ATRX\\_4'\n",
       "\\item 'CHD8\\_1'\n",
       "\\item 'CHD8\\_2'\n",
       "\\item 'CHD8\\_3'\n",
       "\\item 'CHD8\\_4'\n",
       "\\item 'DNMT3A\\_1'\n",
       "\\item 'DNMT3A\\_2'\n",
       "\\item 'DNMT3A\\_3'\n",
       "\\item 'DNMT3A\\_4'\n",
       "\\item 'EZH2\\_1'\n",
       "\\item 'EZH2\\_2'\n",
       "\\item 'EZH2\\_3'\n",
       "\\item 'EZH2\\_4'\n",
       "\\item 'HDAC9\\_1'\n",
       "\\item 'HDAC9\\_2'\n",
       "\\item 'HDAC9\\_3'\n",
       "\\item 'HDAC9\\_4'\n",
       "\\item 'KDM6A\\_1'\n",
       "\\item 'KDM6A\\_2'\n",
       "\\item 'KDM6A\\_3'\n",
       "\\item 'KDM6A\\_4'\n",
       "\\item 'MBD1\\_1'\n",
       "\\item 'MBD1\\_2'\n",
       "\\item 'MBD1\\_3'\n",
       "\\item 'MBD1\\_4'\n",
       "\\item 'NTCTL\\_1'\n",
       "\\item 'NTCTL\\_2'\n",
       "\\item 'NTCTL\\_3'\n",
       "\\item 'NTCTL\\_4'\n",
       "\\item 'PBRM1\\_1'\n",
       "\\item 'PBRM1\\_2'\n",
       "\\item 'PBRM1\\_3'\n",
       "\\item 'PBRM1\\_4'\n",
       "\\item 'PRDM9\\_1'\n",
       "\\item 'PRDM9\\_2'\n",
       "\\item 'PRDM9\\_3'\n",
       "\\item 'PRDM9\\_4'\n",
       "\\item 'SETD2\\_1'\n",
       "\\item 'SETD2\\_2'\n",
       "\\item 'SETD2\\_3'\n",
       "\\item 'SETD2\\_4'\n",
       "\\item 'TET2\\_1'\n",
       "\\item 'TET2\\_2'\n",
       "\\item 'TET2\\_3'\n",
       "\\item 'TET2\\_4'\n",
       "\\end{enumerate*}\n"
      ],
      "text/markdown": [
       "1. 'ARID1A_1'\n",
       "2. 'ARID1A_2'\n",
       "3. 'ARID1A_3'\n",
       "4. 'ARID1A_4'\n",
       "5. 'ATRX_1'\n",
       "6. 'ATRX_2'\n",
       "7. 'ATRX_3'\n",
       "8. 'ATRX_4'\n",
       "9. 'CHD8_1'\n",
       "10. 'CHD8_2'\n",
       "11. 'CHD8_3'\n",
       "12. 'CHD8_4'\n",
       "13. 'DNMT3A_1'\n",
       "14. 'DNMT3A_2'\n",
       "15. 'DNMT3A_3'\n",
       "16. 'DNMT3A_4'\n",
       "17. 'EZH2_1'\n",
       "18. 'EZH2_2'\n",
       "19. 'EZH2_3'\n",
       "20. 'EZH2_4'\n",
       "21. 'HDAC9_1'\n",
       "22. 'HDAC9_2'\n",
       "23. 'HDAC9_3'\n",
       "24. 'HDAC9_4'\n",
       "25. 'KDM6A_1'\n",
       "26. 'KDM6A_2'\n",
       "27. 'KDM6A_3'\n",
       "28. 'KDM6A_4'\n",
       "29. 'MBD1_1'\n",
       "30. 'MBD1_2'\n",
       "31. 'MBD1_3'\n",
       "32. 'MBD1_4'\n",
       "33. 'NTCTL_1'\n",
       "34. 'NTCTL_2'\n",
       "35. 'NTCTL_3'\n",
       "36. 'NTCTL_4'\n",
       "37. 'PBRM1_1'\n",
       "38. 'PBRM1_2'\n",
       "39. 'PBRM1_3'\n",
       "40. 'PBRM1_4'\n",
       "41. 'PRDM9_1'\n",
       "42. 'PRDM9_2'\n",
       "43. 'PRDM9_3'\n",
       "44. 'PRDM9_4'\n",
       "45. 'SETD2_1'\n",
       "46. 'SETD2_2'\n",
       "47. 'SETD2_3'\n",
       "48. 'SETD2_4'\n",
       "49. 'TET2_1'\n",
       "50. 'TET2_2'\n",
       "51. 'TET2_3'\n",
       "52. 'TET2_4'\n",
       "\n",
       "\n"
      ],
      "text/plain": [
       " [1] \"ARID1A_1\" \"ARID1A_2\" \"ARID1A_3\" \"ARID1A_4\" \"ATRX_1\"   \"ATRX_2\"  \n",
       " [7] \"ATRX_3\"   \"ATRX_4\"   \"CHD8_1\"   \"CHD8_2\"   \"CHD8_3\"   \"CHD8_4\"  \n",
       "[13] \"DNMT3A_1\" \"DNMT3A_2\" \"DNMT3A_3\" \"DNMT3A_4\" \"EZH2_1\"   \"EZH2_2\"  \n",
       "[19] \"EZH2_3\"   \"EZH2_4\"   \"HDAC9_1\"  \"HDAC9_2\"  \"HDAC9_3\"  \"HDAC9_4\" \n",
       "[25] \"KDM6A_1\"  \"KDM6A_2\"  \"KDM6A_3\"  \"KDM6A_4\"  \"MBD1_1\"   \"MBD1_2\"  \n",
       "[31] \"MBD1_3\"   \"MBD1_4\"   \"NTCTL_1\"  \"NTCTL_2\"  \"NTCTL_3\"  \"NTCTL_4\" \n",
       "[37] \"PBRM1_1\"  \"PBRM1_2\"  \"PBRM1_3\"  \"PBRM1_4\"  \"PRDM9_1\"  \"PRDM9_2\" \n",
       "[43] \"PRDM9_3\"  \"PRDM9_4\"  \"SETD2_1\"  \"SETD2_2\"  \"SETD2_3\"  \"SETD2_4\" \n",
       "[49] \"TET2_1\"   \"TET2_2\"   \"TET2_3\"   \"TET2_4\"  "
      ]
     },
     "metadata": {},
     "output_type": "display_data"
    }
   ],
   "source": [
    "tfs_w_ntctl    = unique(df_protosp$X.TargetGene)\n",
    "unselect_ntctl = (tfs_w_ntctl != \"NTCTL\") & (tfs_w_ntctl != \"NTCTRL\")\n",
    "tfs_to_plot    = tfs_w_ntctl[unselect_ntctl]\n",
    "\n",
    "guides_to_plot  = df_protosp$GuideName\n",
    "tfs_to_plot\n",
    "guides_to_plot"
   ]
  },
  {
   "cell_type": "code",
   "execution_count": 9,
   "metadata": {
    "vscode": {
     "languageId": "r"
    }
   },
   "outputs": [],
   "source": [
    "#c(\"OTP\", \"MYF6\", \"MEIS1\", \"FLI1\", \"HHEX\", \"HOXA6\", \"ELF5\", \"GBX1\", \"DPRX\", \"NTCTL\")\n",
    "##!! tf_list   <- tfs_w_ntctl \n",
    "\n",
    "df_guide <- read.table(tsv_name, header = TRUE, sep = \"\\t\", quote = \"\")\n",
    "tf_list  <- intersect(guides_to_plot, colnames(df_guide))\n",
    "\n",
    "guide_counts  <- t(data.matrix(df_guide[,tf_list]))\n",
    "colnames(guide_counts) <- df_guide$barcode_dash"
   ]
  },
  {
   "cell_type": "code",
   "execution_count": 10,
   "metadata": {
    "vscode": {
     "languageId": "r"
    }
   },
   "outputs": [
    {
     "data": {
      "text/html": [
       "<style>\n",
       ".list-inline {list-style: none; margin:0; padding: 0}\n",
       ".list-inline>li {display: inline-block}\n",
       ".list-inline>li:not(:last-child)::after {content: \"\\00b7\"; padding: 0 .5ex}\n",
       "</style>\n",
       "<ol class=list-inline><li>'barcode'</li><li>'n_guides'</li><li>'na'</li><li>'ARID1A_1'</li><li>'ARID1A_2'</li><li>'ARID1A_3'</li><li>'ARID1A_4'</li><li>'ATRX_1'</li><li>'ATRX_2'</li><li>'ATRX_3'</li><li>'ATRX_4'</li><li>'CHD8_1'</li><li>'CHD8_2'</li><li>'CHD8_3'</li><li>'CHD8_4'</li><li>'DNMT3A_1'</li><li>'DNMT3A_2'</li><li>'DNMT3A_3'</li><li>'DNMT3A_4'</li><li>'EZH2_1'</li><li>'EZH2_2'</li><li>'EZH2_3'</li><li>'EZH2_4'</li><li>'HDAC9_1'</li><li>'HDAC9_2'</li><li>'HDAC9_3'</li><li>'HDAC9_4'</li><li>'KDM6A_1'</li><li>'KDM6A_2'</li><li>'KDM6A_3'</li><li>'KDM6A_4'</li><li>'MBD1_1'</li><li>'MBD1_2'</li><li>'MBD1_3'</li><li>'MBD1_4'</li><li>'NTCTL_3'</li><li>'NTCTL_4'</li><li>'PBRM1_1'</li><li>'PBRM1_2'</li><li>'PBRM1_3'</li><li>'PBRM1_4'</li><li>'PRDM9_1'</li><li>'PRDM9_2'</li><li>'PRDM9_3'</li><li>'PRDM9_4'</li><li>'SETD2_1'</li><li>'SETD2_2'</li><li>'SETD2_3'</li><li>'SETD2_4'</li><li>'TET2_1'</li><li>'TET2_2'</li><li>'TET2_3'</li><li>'TET2_4'</li><li>'barcode_dash'</li><li>'in_multiome'</li></ol>\n"
      ],
      "text/latex": [
       "\\begin{enumerate*}\n",
       "\\item 'barcode'\n",
       "\\item 'n\\_guides'\n",
       "\\item 'na'\n",
       "\\item 'ARID1A\\_1'\n",
       "\\item 'ARID1A\\_2'\n",
       "\\item 'ARID1A\\_3'\n",
       "\\item 'ARID1A\\_4'\n",
       "\\item 'ATRX\\_1'\n",
       "\\item 'ATRX\\_2'\n",
       "\\item 'ATRX\\_3'\n",
       "\\item 'ATRX\\_4'\n",
       "\\item 'CHD8\\_1'\n",
       "\\item 'CHD8\\_2'\n",
       "\\item 'CHD8\\_3'\n",
       "\\item 'CHD8\\_4'\n",
       "\\item 'DNMT3A\\_1'\n",
       "\\item 'DNMT3A\\_2'\n",
       "\\item 'DNMT3A\\_3'\n",
       "\\item 'DNMT3A\\_4'\n",
       "\\item 'EZH2\\_1'\n",
       "\\item 'EZH2\\_2'\n",
       "\\item 'EZH2\\_3'\n",
       "\\item 'EZH2\\_4'\n",
       "\\item 'HDAC9\\_1'\n",
       "\\item 'HDAC9\\_2'\n",
       "\\item 'HDAC9\\_3'\n",
       "\\item 'HDAC9\\_4'\n",
       "\\item 'KDM6A\\_1'\n",
       "\\item 'KDM6A\\_2'\n",
       "\\item 'KDM6A\\_3'\n",
       "\\item 'KDM6A\\_4'\n",
       "\\item 'MBD1\\_1'\n",
       "\\item 'MBD1\\_2'\n",
       "\\item 'MBD1\\_3'\n",
       "\\item 'MBD1\\_4'\n",
       "\\item 'NTCTL\\_3'\n",
       "\\item 'NTCTL\\_4'\n",
       "\\item 'PBRM1\\_1'\n",
       "\\item 'PBRM1\\_2'\n",
       "\\item 'PBRM1\\_3'\n",
       "\\item 'PBRM1\\_4'\n",
       "\\item 'PRDM9\\_1'\n",
       "\\item 'PRDM9\\_2'\n",
       "\\item 'PRDM9\\_3'\n",
       "\\item 'PRDM9\\_4'\n",
       "\\item 'SETD2\\_1'\n",
       "\\item 'SETD2\\_2'\n",
       "\\item 'SETD2\\_3'\n",
       "\\item 'SETD2\\_4'\n",
       "\\item 'TET2\\_1'\n",
       "\\item 'TET2\\_2'\n",
       "\\item 'TET2\\_3'\n",
       "\\item 'TET2\\_4'\n",
       "\\item 'barcode\\_dash'\n",
       "\\item 'in\\_multiome'\n",
       "\\end{enumerate*}\n"
      ],
      "text/markdown": [
       "1. 'barcode'\n",
       "2. 'n_guides'\n",
       "3. 'na'\n",
       "4. 'ARID1A_1'\n",
       "5. 'ARID1A_2'\n",
       "6. 'ARID1A_3'\n",
       "7. 'ARID1A_4'\n",
       "8. 'ATRX_1'\n",
       "9. 'ATRX_2'\n",
       "10. 'ATRX_3'\n",
       "11. 'ATRX_4'\n",
       "12. 'CHD8_1'\n",
       "13. 'CHD8_2'\n",
       "14. 'CHD8_3'\n",
       "15. 'CHD8_4'\n",
       "16. 'DNMT3A_1'\n",
       "17. 'DNMT3A_2'\n",
       "18. 'DNMT3A_3'\n",
       "19. 'DNMT3A_4'\n",
       "20. 'EZH2_1'\n",
       "21. 'EZH2_2'\n",
       "22. 'EZH2_3'\n",
       "23. 'EZH2_4'\n",
       "24. 'HDAC9_1'\n",
       "25. 'HDAC9_2'\n",
       "26. 'HDAC9_3'\n",
       "27. 'HDAC9_4'\n",
       "28. 'KDM6A_1'\n",
       "29. 'KDM6A_2'\n",
       "30. 'KDM6A_3'\n",
       "31. 'KDM6A_4'\n",
       "32. 'MBD1_1'\n",
       "33. 'MBD1_2'\n",
       "34. 'MBD1_3'\n",
       "35. 'MBD1_4'\n",
       "36. 'NTCTL_3'\n",
       "37. 'NTCTL_4'\n",
       "38. 'PBRM1_1'\n",
       "39. 'PBRM1_2'\n",
       "40. 'PBRM1_3'\n",
       "41. 'PBRM1_4'\n",
       "42. 'PRDM9_1'\n",
       "43. 'PRDM9_2'\n",
       "44. 'PRDM9_3'\n",
       "45. 'PRDM9_4'\n",
       "46. 'SETD2_1'\n",
       "47. 'SETD2_2'\n",
       "48. 'SETD2_3'\n",
       "49. 'SETD2_4'\n",
       "50. 'TET2_1'\n",
       "51. 'TET2_2'\n",
       "52. 'TET2_3'\n",
       "53. 'TET2_4'\n",
       "54. 'barcode_dash'\n",
       "55. 'in_multiome'\n",
       "\n",
       "\n"
      ],
      "text/plain": [
       " [1] \"barcode\"      \"n_guides\"     \"na\"           \"ARID1A_1\"     \"ARID1A_2\"    \n",
       " [6] \"ARID1A_3\"     \"ARID1A_4\"     \"ATRX_1\"       \"ATRX_2\"       \"ATRX_3\"      \n",
       "[11] \"ATRX_4\"       \"CHD8_1\"       \"CHD8_2\"       \"CHD8_3\"       \"CHD8_4\"      \n",
       "[16] \"DNMT3A_1\"     \"DNMT3A_2\"     \"DNMT3A_3\"     \"DNMT3A_4\"     \"EZH2_1\"      \n",
       "[21] \"EZH2_2\"       \"EZH2_3\"       \"EZH2_4\"       \"HDAC9_1\"      \"HDAC9_2\"     \n",
       "[26] \"HDAC9_3\"      \"HDAC9_4\"      \"KDM6A_1\"      \"KDM6A_2\"      \"KDM6A_3\"     \n",
       "[31] \"KDM6A_4\"      \"MBD1_1\"       \"MBD1_2\"       \"MBD1_3\"       \"MBD1_4\"      \n",
       "[36] \"NTCTL_3\"      \"NTCTL_4\"      \"PBRM1_1\"      \"PBRM1_2\"      \"PBRM1_3\"     \n",
       "[41] \"PBRM1_4\"      \"PRDM9_1\"      \"PRDM9_2\"      \"PRDM9_3\"      \"PRDM9_4\"     \n",
       "[46] \"SETD2_1\"      \"SETD2_2\"      \"SETD2_3\"      \"SETD2_4\"      \"TET2_1\"      \n",
       "[51] \"TET2_2\"       \"TET2_3\"       \"TET2_4\"       \"barcode_dash\" \"in_multiome\" "
      ]
     },
     "metadata": {},
     "output_type": "display_data"
    },
    {
     "data": {
      "text/html": [
       "<style>\n",
       ".list-inline {list-style: none; margin:0; padding: 0}\n",
       ".list-inline>li {display: inline-block}\n",
       ".list-inline>li:not(:last-child)::after {content: \"\\00b7\"; padding: 0 .5ex}\n",
       "</style>\n",
       "<ol class=list-inline><li>'ARID1A_1'</li><li>'ARID1A_2'</li><li>'ARID1A_3'</li><li>'ARID1A_4'</li><li>'ATRX_1'</li><li>'ATRX_2'</li><li>'ATRX_3'</li><li>'ATRX_4'</li><li>'CHD8_1'</li><li>'CHD8_2'</li><li>'CHD8_3'</li><li>'CHD8_4'</li><li>'DNMT3A_1'</li><li>'DNMT3A_2'</li><li>'DNMT3A_3'</li><li>'DNMT3A_4'</li><li>'EZH2_1'</li><li>'EZH2_2'</li><li>'EZH2_3'</li><li>'EZH2_4'</li><li>'HDAC9_1'</li><li>'HDAC9_2'</li><li>'HDAC9_3'</li><li>'HDAC9_4'</li><li>'KDM6A_1'</li><li>'KDM6A_2'</li><li>'KDM6A_3'</li><li>'KDM6A_4'</li><li>'MBD1_1'</li><li>'MBD1_2'</li><li>'MBD1_3'</li><li>'MBD1_4'</li><li>'NTCTL_1'</li><li>'NTCTL_2'</li><li>'NTCTL_3'</li><li>'NTCTL_4'</li><li>'PBRM1_1'</li><li>'PBRM1_2'</li><li>'PBRM1_3'</li><li>'PBRM1_4'</li><li>'PRDM9_1'</li><li>'PRDM9_2'</li><li>'PRDM9_3'</li><li>'PRDM9_4'</li><li>'SETD2_1'</li><li>'SETD2_2'</li><li>'SETD2_3'</li><li>'SETD2_4'</li><li>'TET2_1'</li><li>'TET2_2'</li><li>'TET2_3'</li><li>'TET2_4'</li></ol>\n"
      ],
      "text/latex": [
       "\\begin{enumerate*}\n",
       "\\item 'ARID1A\\_1'\n",
       "\\item 'ARID1A\\_2'\n",
       "\\item 'ARID1A\\_3'\n",
       "\\item 'ARID1A\\_4'\n",
       "\\item 'ATRX\\_1'\n",
       "\\item 'ATRX\\_2'\n",
       "\\item 'ATRX\\_3'\n",
       "\\item 'ATRX\\_4'\n",
       "\\item 'CHD8\\_1'\n",
       "\\item 'CHD8\\_2'\n",
       "\\item 'CHD8\\_3'\n",
       "\\item 'CHD8\\_4'\n",
       "\\item 'DNMT3A\\_1'\n",
       "\\item 'DNMT3A\\_2'\n",
       "\\item 'DNMT3A\\_3'\n",
       "\\item 'DNMT3A\\_4'\n",
       "\\item 'EZH2\\_1'\n",
       "\\item 'EZH2\\_2'\n",
       "\\item 'EZH2\\_3'\n",
       "\\item 'EZH2\\_4'\n",
       "\\item 'HDAC9\\_1'\n",
       "\\item 'HDAC9\\_2'\n",
       "\\item 'HDAC9\\_3'\n",
       "\\item 'HDAC9\\_4'\n",
       "\\item 'KDM6A\\_1'\n",
       "\\item 'KDM6A\\_2'\n",
       "\\item 'KDM6A\\_3'\n",
       "\\item 'KDM6A\\_4'\n",
       "\\item 'MBD1\\_1'\n",
       "\\item 'MBD1\\_2'\n",
       "\\item 'MBD1\\_3'\n",
       "\\item 'MBD1\\_4'\n",
       "\\item 'NTCTL\\_1'\n",
       "\\item 'NTCTL\\_2'\n",
       "\\item 'NTCTL\\_3'\n",
       "\\item 'NTCTL\\_4'\n",
       "\\item 'PBRM1\\_1'\n",
       "\\item 'PBRM1\\_2'\n",
       "\\item 'PBRM1\\_3'\n",
       "\\item 'PBRM1\\_4'\n",
       "\\item 'PRDM9\\_1'\n",
       "\\item 'PRDM9\\_2'\n",
       "\\item 'PRDM9\\_3'\n",
       "\\item 'PRDM9\\_4'\n",
       "\\item 'SETD2\\_1'\n",
       "\\item 'SETD2\\_2'\n",
       "\\item 'SETD2\\_3'\n",
       "\\item 'SETD2\\_4'\n",
       "\\item 'TET2\\_1'\n",
       "\\item 'TET2\\_2'\n",
       "\\item 'TET2\\_3'\n",
       "\\item 'TET2\\_4'\n",
       "\\end{enumerate*}\n"
      ],
      "text/markdown": [
       "1. 'ARID1A_1'\n",
       "2. 'ARID1A_2'\n",
       "3. 'ARID1A_3'\n",
       "4. 'ARID1A_4'\n",
       "5. 'ATRX_1'\n",
       "6. 'ATRX_2'\n",
       "7. 'ATRX_3'\n",
       "8. 'ATRX_4'\n",
       "9. 'CHD8_1'\n",
       "10. 'CHD8_2'\n",
       "11. 'CHD8_3'\n",
       "12. 'CHD8_4'\n",
       "13. 'DNMT3A_1'\n",
       "14. 'DNMT3A_2'\n",
       "15. 'DNMT3A_3'\n",
       "16. 'DNMT3A_4'\n",
       "17. 'EZH2_1'\n",
       "18. 'EZH2_2'\n",
       "19. 'EZH2_3'\n",
       "20. 'EZH2_4'\n",
       "21. 'HDAC9_1'\n",
       "22. 'HDAC9_2'\n",
       "23. 'HDAC9_3'\n",
       "24. 'HDAC9_4'\n",
       "25. 'KDM6A_1'\n",
       "26. 'KDM6A_2'\n",
       "27. 'KDM6A_3'\n",
       "28. 'KDM6A_4'\n",
       "29. 'MBD1_1'\n",
       "30. 'MBD1_2'\n",
       "31. 'MBD1_3'\n",
       "32. 'MBD1_4'\n",
       "33. 'NTCTL_1'\n",
       "34. 'NTCTL_2'\n",
       "35. 'NTCTL_3'\n",
       "36. 'NTCTL_4'\n",
       "37. 'PBRM1_1'\n",
       "38. 'PBRM1_2'\n",
       "39. 'PBRM1_3'\n",
       "40. 'PBRM1_4'\n",
       "41. 'PRDM9_1'\n",
       "42. 'PRDM9_2'\n",
       "43. 'PRDM9_3'\n",
       "44. 'PRDM9_4'\n",
       "45. 'SETD2_1'\n",
       "46. 'SETD2_2'\n",
       "47. 'SETD2_3'\n",
       "48. 'SETD2_4'\n",
       "49. 'TET2_1'\n",
       "50. 'TET2_2'\n",
       "51. 'TET2_3'\n",
       "52. 'TET2_4'\n",
       "\n",
       "\n"
      ],
      "text/plain": [
       " [1] \"ARID1A_1\" \"ARID1A_2\" \"ARID1A_3\" \"ARID1A_4\" \"ATRX_1\"   \"ATRX_2\"  \n",
       " [7] \"ATRX_3\"   \"ATRX_4\"   \"CHD8_1\"   \"CHD8_2\"   \"CHD8_3\"   \"CHD8_4\"  \n",
       "[13] \"DNMT3A_1\" \"DNMT3A_2\" \"DNMT3A_3\" \"DNMT3A_4\" \"EZH2_1\"   \"EZH2_2\"  \n",
       "[19] \"EZH2_3\"   \"EZH2_4\"   \"HDAC9_1\"  \"HDAC9_2\"  \"HDAC9_3\"  \"HDAC9_4\" \n",
       "[25] \"KDM6A_1\"  \"KDM6A_2\"  \"KDM6A_3\"  \"KDM6A_4\"  \"MBD1_1\"   \"MBD1_2\"  \n",
       "[31] \"MBD1_3\"   \"MBD1_4\"   \"NTCTL_1\"  \"NTCTL_2\"  \"NTCTL_3\"  \"NTCTL_4\" \n",
       "[37] \"PBRM1_1\"  \"PBRM1_2\"  \"PBRM1_3\"  \"PBRM1_4\"  \"PRDM9_1\"  \"PRDM9_2\" \n",
       "[43] \"PRDM9_3\"  \"PRDM9_4\"  \"SETD2_1\"  \"SETD2_2\"  \"SETD2_3\"  \"SETD2_4\" \n",
       "[49] \"TET2_1\"   \"TET2_2\"   \"TET2_3\"   \"TET2_4\"  "
      ]
     },
     "metadata": {},
     "output_type": "display_data"
    }
   ],
   "source": [
    "colnames(df_guide)\n",
    "guides_to_plot"
   ]
  },
  {
   "cell_type": "code",
   "execution_count": 11,
   "metadata": {
    "vscode": {
     "languageId": "r"
    }
   },
   "outputs": [
    {
     "data": {
      "text/html": [
       "9022"
      ],
      "text/latex": [
       "9022"
      ],
      "text/markdown": [
       "9022"
      ],
      "text/plain": [
       "[1] 9022"
      ]
     },
     "metadata": {},
     "output_type": "display_data"
    },
    {
     "data": {
      "text/html": [
       "105314"
      ],
      "text/latex": [
       "105314"
      ],
      "text/markdown": [
       "105314"
      ],
      "text/plain": [
       "[1] 105314"
      ]
     },
     "metadata": {},
     "output_type": "display_data"
    }
   ],
   "source": [
    "sum(df_guide$in_multiome)\n",
    "nrow(df_guide)"
   ]
  },
  {
   "cell_type": "markdown",
   "metadata": {},
   "source": [
    "Get cells with guides"
   ]
  },
  {
   "cell_type": "code",
   "execution_count": 12,
   "metadata": {
    "vscode": {
     "languageId": "r"
    }
   },
   "outputs": [
    {
     "data": {
      "text/html": [
       "<span style=white-space:pre-wrap>'Overlapping barcodes w/ min guides = 10 :  8992'</span>"
      ],
      "text/latex": [
       "'Overlapping barcodes w/ min guides = 10 :  8992'"
      ],
      "text/markdown": [
       "<span style=white-space:pre-wrap>'Overlapping barcodes w/ min guides = 10 :  8992'</span>"
      ],
      "text/plain": [
       "[1] \"Overlapping barcodes w/ min guides = 10 :  8992\""
      ]
     },
     "metadata": {},
     "output_type": "display_data"
    },
    {
     "data": {
      "text/html": [
       "<span style=white-space:pre-wrap>'Overlapping barcodes w/ min guides = 1 :  9022'</span>"
      ],
      "text/latex": [
       "'Overlapping barcodes w/ min guides = 1 :  9022'"
      ],
      "text/markdown": [
       "<span style=white-space:pre-wrap>'Overlapping barcodes w/ min guides = 1 :  9022'</span>"
      ],
      "text/plain": [
       "[1] \"Overlapping barcodes w/ min guides = 1 :  9022\""
      ]
     },
     "metadata": {},
     "output_type": "display_data"
    }
   ],
   "source": [
    "N_MIN_GUIDES <- 10\n",
    "select_overlapping   <-\n",
    "    df_guide$in_multiome & (df_guide$n_guide >= N_MIN_GUIDES)\n",
    "\n",
    "overlapping_barcodes <- df_guide[select_overlapping, ]$barcode_dash\n",
    "overlapping_barcodes <- as.vector(overlapping_barcodes)\n",
    "\n",
    "overlapping_guide_counts <- guide_counts[, overlapping_barcodes]\n",
    "\n",
    "n_all_overlapping <- nrow(df_guide[df_guide$in_multiome, ])\n",
    "paste(\"Overlapping barcodes w/ min guides =\", N_MIN_GUIDES,\": \", length(overlapping_barcodes))\n",
    "paste(\"Overlapping barcodes w/ min guides =\", 1,\": \", n_all_overlapping)"
   ]
  },
  {
   "cell_type": "markdown",
   "metadata": {},
   "source": [
    "Load seurat"
   ]
  },
  {
   "cell_type": "code",
   "execution_count": 13,
   "metadata": {
    "vscode": {
     "languageId": "r"
    }
   },
   "outputs": [
    {
     "name": "stderr",
     "output_type": "stream",
     "text": [
      "Validating h5Seurat file\n",
      "\n"
     ]
    }
   ],
   "source": [
    "# Load multiome seurat object\n",
    "if (!exists(\"seurat_all\")) {\n",
    "    seurat_all <- LoadH5Seurat(h5_name, verbose = F)\n",
    "}"
   ]
  },
  {
   "cell_type": "markdown",
   "metadata": {},
   "source": [
    "Filter out cells w/o guides"
   ]
  },
  {
   "cell_type": "code",
   "execution_count": 14,
   "metadata": {
    "vscode": {
     "languageId": "r"
    }
   },
   "outputs": [],
   "source": [
    "seurat <- subset(seurat_all, cells = overlapping_barcodes)"
   ]
  },
  {
   "cell_type": "markdown",
   "metadata": {},
   "source": [
    "Create sgRNA assay"
   ]
  },
  {
   "cell_type": "code",
   "execution_count": 15,
   "metadata": {
    "vscode": {
     "languageId": "r"
    }
   },
   "outputs": [
    {
     "name": "stderr",
     "output_type": "stream",
     "text": [
      "Warning message:\n",
      "\"Feature names cannot have underscores ('_'), replacing with dashes ('-')\"\n"
     ]
    }
   ],
   "source": [
    "# Reorder the guide cells and create an sgRNA assay\n",
    "cells = Cells(seurat)\n",
    "sgrna_assay <- CreateAssayObject(counts = guide_counts[, cells])\n",
    "seurat[[\"sgRNA\"]] <- sgrna_assay"
   ]
  },
  {
   "cell_type": "markdown",
   "metadata": {},
   "source": [
    "# Assignment"
   ]
  },
  {
   "cell_type": "code",
   "execution_count": 16,
   "metadata": {
    "vscode": {
     "languageId": "r"
    }
   },
   "outputs": [
    {
     "name": "stderr",
     "output_type": "stream",
     "text": [
      "Warning message:\n",
      "\"Cannot add objects with duplicate keys (offending key: sgrna_) setting key to original value 'crispr_'\"\n"
     ]
    }
   ],
   "source": [
    "seurat_dummy = seurat\n",
    "seurat_dummy = RenameAssays(seurat_dummy, sgRNA = 'CRISPR')"
   ]
  },
  {
   "cell_type": "code",
   "execution_count": 17,
   "metadata": {
    "vscode": {
     "languageId": "r"
    }
   },
   "outputs": [],
   "source": [
    "sce_dummy = as.SingleCellExperiment(seurat_dummy)"
   ]
  },
  {
   "cell_type": "markdown",
   "metadata": {},
   "source": [
    "### Rerun from here"
   ]
  },
  {
   "cell_type": "code",
   "execution_count": 43,
   "metadata": {
    "vscode": {
     "languageId": "r"
    }
   },
   "outputs": [],
   "source": [
    "sce = sce_dummy"
   ]
  },
  {
   "cell_type": "code",
   "execution_count": 44,
   "metadata": {
    "vscode": {
     "languageId": "r"
    }
   },
   "outputs": [
    {
     "data": {
      "text/html": [
       "50"
      ],
      "text/latex": [
       "50"
      ],
      "text/markdown": [
       "50"
      ],
      "text/plain": [
       "[1] 50"
      ]
     },
     "metadata": {},
     "output_type": "display_data"
    }
   ],
   "source": [
    "dummy = guide_counts[,3532]\n",
    "#names(dummy) <- NULL\n",
    "nrow(data.frame(dummy))"
   ]
  },
  {
   "cell_type": "code",
   "execution_count": 45,
   "metadata": {
    "vscode": {
     "languageId": "r"
    }
   },
   "outputs": [],
   "source": [
    "df_guide_counts  = data.frame(rowSums(guide_counts))\n",
    "guide_names <-  str_replace(rownames(df_guide_counts), \"_\", \"-\")\n",
    "rownames(df_guide_counts) <- guide_names\n",
    "total_guide_umis = sum(df_guide_counts)\n",
    "colnames(df_guide_counts) <- c(\"count\")\n",
    "df_guide_counts$fraction = df_guide_counts$count / total_guide_umis\n",
    "\n",
    "my_probs <- df_guide_counts$fraction\n",
    "names(my_probs) <- rownames(df_guide_counts)"
   ]
  },
  {
   "cell_type": "code",
   "execution_count": 46,
   "metadata": {
    "vscode": {
     "languageId": "r"
    }
   },
   "outputs": [
    {
     "data": {
      "text/html": [
       "3.87495097921604e-05"
      ],
      "text/latex": [
       "3.87495097921604e-05"
      ],
      "text/markdown": [
       "3.87495097921604e-05"
      ],
      "text/plain": [
       "[1] 3.9e-05"
      ]
     },
     "metadata": {},
     "output_type": "display_data"
    }
   ],
   "source": [
    "min(df_guide_counts$fraction)"
   ]
  },
  {
   "cell_type": "markdown",
   "metadata": {},
   "source": [
    "## Run caller"
   ]
  },
  {
   "cell_type": "code",
   "execution_count": 47,
   "metadata": {
    "vscode": {
     "languageId": "r"
    }
   },
   "outputs": [],
   "source": [
    "pval_threshold=0.05\n",
    "max_to_test=5\n",
    "total_guides=length(my_probs)\n",
    "prob=NULL\n",
    "min_count=3\n",
    "min_fraction=1e-5\n",
    "plot=TRUE\n",
    "res=200\n",
    "ann=NULL\n",
    "columns=NULL\n",
    "add_stats=TRUE\n",
    "test=\"negative binomial\"\n",
    "overdisp=NULL"
   ]
  },
  {
   "cell_type": "code",
   "execution_count": 48,
   "metadata": {
    "vscode": {
     "languageId": "r"
    }
   },
   "outputs": [
    {
     "name": "stdout",
     "output_type": "stream",
     "text": [
      "\n",
      " The negative binomial test will be used.\n",
      "\n"
     ]
    }
   ],
   "source": [
    "if(is.null(total_guides)){\n",
    "    stop(\"Please provide the total number of gRNAs to use in the testing. \n",
    "         This should be the total number of gRNAs present in the library.\")\n",
    "  }\n",
    "  \n",
    "  if(!(test %in% c(\"binomial\", \"negative binomial\"))){\n",
    "    stop(\"This function currently supports binomial and negative binomial tests only.  \n",
    "         Please specify binomial or negative binomial test to use.\")\n",
    "  }\n",
    "  \n",
    "  cat(paste0(\"\\n The \", test, \" test will be used.\\n\\n\"))\n",
    "  "
   ]
  },
  {
   "cell_type": "code",
   "execution_count": 49,
   "metadata": {
    "vscode": {
     "languageId": "r"
    }
   },
   "outputs": [],
   "source": [
    "  ## create data table with detected gRNA-cell combinations\n",
    "  gRNA_calls <- reshape2::melt(as.matrix(counts(altExp(sce, 'CRISPR'))))\n",
    "  ## remove guide-cell pairs with no counts\n",
    "  gRNA_calls <- gRNA_calls[gRNA_calls$value>0,]\n",
    "  colnames(gRNA_calls) <- c(\"gRNA\", \"cell\", \"UMI_count\")\n",
    "  \n",
    "  ## remove guides with too few UMIs\n",
    "  gRNA_calls <- gRNA_calls %>% filter(UMI_count > min_count)\n",
    "  \n",
    "  ## annotate the targets associated with each gRNA\n",
    "  if(!is.null(ann)){\n",
    "    if(length(setdiff(columns, colnames(ann)))>0){\n",
    "      stop(paste(\"Column(s)\", setdiff(columns, colnames(ann)), \"are not present in annotation data.frame\"))\n",
    "    }\n",
    "    for(i in seq_along(columns)){\n",
    "      gRNA_calls[,columns[i]] <- ann[match(gRNA_calls$gRNA, ann$ID), columns[i]]\n",
    "    }\n",
    "  }"
   ]
  },
  {
   "cell_type": "code",
   "execution_count": 50,
   "metadata": {
    "vscode": {
     "languageId": "r"
    }
   },
   "outputs": [],
   "source": [
    "## add total UMIs per cell, to restrict analysis to the largest counts per cell\n",
    "totals <- colSums(counts(altExp(sce, 'CRISPR')))\n",
    "gRNA_calls$cell_total_UMIs <- totals[gRNA_calls$cell]\n",
    "# compute % of total UMIs taken by each gRNA\n",
    "gRNA_calls$fraction_total_UMIs <- gRNA_calls$UMI_count/gRNA_calls$cell_total_UMIs\n",
    "\n",
    "## convert to data.table using tibble\n",
    "gRNA_calls <- as.data.frame(gRNA_calls)\n",
    "\n",
    "## order decreasingly by UMI_count\n",
    "gRNA_calls <- gRNA_calls %>% group_by(cell) %>% arrange(cell, -UMI_count)\n",
    "\n",
    "# add column with order per cell based on UMI abundance\n",
    "gRNA_calls <- gRNA_calls  %>% mutate(order = 1:n()) %>% ungroup()\n"
   ]
  },
  {
   "cell_type": "code",
   "execution_count": 51,
   "metadata": {
    "vscode": {
     "languageId": "r"
    }
   },
   "outputs": [],
   "source": [
    "if(is.null(prob)){\n",
    "    gRNA_calls$prob <- 1/total_guides\n",
    "  }else{\n",
    "    ## add proportions of guides in guide library to gRNA_calls\n",
    "    ## provided as a named vector, with names being gRNA ids\n",
    "    prob <- as.data.table(prob, keep.rownames = TRUE)\n",
    "    gRNA_calls <- merge(gRNA_calls, prob, by.x=\"gRNA\", by.y=\"rn\")\n",
    "  }"
   ]
  },
  {
   "cell_type": "code",
   "execution_count": 52,
   "metadata": {
    "vscode": {
     "languageId": "r"
    }
   },
   "outputs": [],
   "source": [
    "gRNA_calls <- gRNA_calls %>% \n",
    "    mutate(gRNA_num = gRNA %>% as.factor() %>% as.numeric()) %>% \n",
    "    group_by(cell) %>% \n",
    "    mutate(means = mean(UMI_count)) %>% \n",
    "    ungroup"
   ]
  },
  {
   "cell_type": "code",
   "execution_count": 53,
   "metadata": {
    "vscode": {
     "languageId": "r"
    }
   },
   "outputs": [
    {
     "name": "stdout",
     "output_type": "stream",
     "text": [
      "\n",
      " Estimating dispersion based on data \n",
      "\n",
      " Estimates across cell and gRNAs of \n",
      " global mean:  51 \n",
      " global variance:  26218 \n",
      " global dispersion:  0.1 \n",
      " probability of success:  0.0019 \n"
     ]
    }
   ],
   "source": [
    "  ## use a binomial test to determine if observed counts are greater than background\n",
    "  if(test == \"negative binomial\") {\n",
    "    \n",
    "    if(is.null(overdisp)) { #new\n",
    "      cat(\"\\n Estimating dispersion based on data \\n\")\n",
    "      disp = gRNA_calls %>% summarise(glob_mean = round(mean(UMI_count),4), \n",
    "                                      glob_var = round(var(UMI_count),4), \n",
    "                                      glob_r = round(glob_mean^2/(glob_var-glob_mean),4), \n",
    "                                      glob_p = round(glob_r/(glob_mean+glob_r),4))\n",
    "      cat(\"\\n Estimates across cell and gRNAs of \\n global mean: \", disp$glob_mean, \"\\n global variance: \", disp$glob_var, \n",
    "          \"\\n global dispersion: \", disp$glob_r, \"\\n probability of success: \", disp$glob_p, \"\\n\")\n",
    "      \n",
    "      overdisp = disp$glob_r\n",
    "    }\n",
    "    \n",
    "    gRNA_calls <- gRNA_calls %>% \n",
    "      rowwise() %>% \n",
    "      mutate(nbinom = ifelse(order <= max_to_test, pnbinom(UMI_count-1, mu = means, size = overdisp, lower.tail = F), NA)) #new\n",
    "    \n",
    "    # bonferroni correction, per cell\n",
    "    gRNA_calls <- gRNA_calls %>% \n",
    "      group_by(cell) %>% \n",
    "      mutate(n = n(),\n",
    "             # reset pvals that are larger than 1 after correction\n",
    "             p_adj_nbinom = ifelse(nbinom * n < 1, nbinom*n, 1),\n",
    "             # count significant results\n",
    "             n_detected_gRNAs_nbinom = length(which(p_adj_nbinom <= pval_threshold))) %>% \n",
    "      ungroup()\n",
    "    \n",
    "    #### looking at negative binomial test results\n",
    "    gRNA_calls <- gRNA_calls %>% mutate(n_detected_gRNAs = n_detected_gRNAs_nbinom) #redundant\n",
    "    gRNA_calls <- gRNA_calls %>% mutate(p_adj = p_adj_nbinom) %>% #new\n",
    "      group_by(cell) %>%\n",
    "      mutate(n_detected_gRNAs = length(which(p_adj <= pval_threshold))) %>%\n",
    "      ungroup()\n",
    "    ## check if there are cells with at least max_to_test called hits\n",
    "    # if so, retest a larger number\n",
    "    while(max(gRNA_calls$n_detected_gRNAs) >= max_to_test){\n",
    "      # get cells that need higher threshold\n",
    "      done <- gRNA_calls %>% filter(n_detected_gRNAs < max_to_test)\n",
    "      missing <- gRNA_calls %>% filter(n_detected_gRNAs >= max_to_test) %>%\n",
    "        select(c(gRNA, cell, UMI_count, cell_total_UMIs, fraction_total_UMIs,\n",
    "                 order, prob, gRNA_num,means))\n",
    "      \n",
    "      # compute pvals for those cells with twice as many cells tested\n",
    "      max_to_test <- max_to_test*2\n",
    "      missing <- missing %>%\n",
    "        rowwise() %>%\n",
    "        mutate(binom = ifelse(order <= max_to_test, pnbinom(UMI_count-1, mu = means, size = overdisp, lower.tail = F), NA)) #new\n",
    "      \n",
    "      \n",
    "      # bonferroni correction, per cell\n",
    "      missing <- missing %>%\n",
    "        group_by(cell) %>%\n",
    "        mutate(n = n(),\n",
    "               # reset pvals that are larger than 1 after correction\n",
    "               p_adj_nbinom = ifelse(nbinom * n < 1, nbinom*n, 1),\n",
    "               # count significant results\n",
    "               n_detected_gRNAs_nbinom = length(which(p_adj_nbinom <= pval_threshold)),\n",
    "               n_detected_gRNAs = n_detected_gRNAs_nbinom) %>%\n",
    "        ungroup()\n",
    "      \n",
    "      # join with previous calls\n",
    "      gRNA_calls <- rbind(done, missing)\n",
    "    }\n",
    "    \n",
    "    #### working with negative binomial part, assign p_adj as p_adj_nbinom\n",
    "    gRNA_calls <- gRNA_calls %>% mutate(p_adj = p_adj_nbinom) %>%\n",
    "      group_by(cell) %>%\n",
    "      mutate(n_detected_gRNAs = length(which(p_adj <= pval_threshold))) %>%\n",
    "      ungroup()\n",
    "  }\n"
   ]
  },
  {
   "cell_type": "code",
   "execution_count": 54,
   "metadata": {
    "vscode": {
     "languageId": "r"
    }
   },
   "outputs": [
    {
     "name": "stdout",
     "output_type": "stream",
     "text": [
      "[1] \"no unique calls with total too low UMIs\"\n"
     ]
    },
    {
     "data": {
      "text/html": [
       "'no unique calls with total too low UMIs'"
      ],
      "text/latex": [
       "'no unique calls with total too low UMIs'"
      ],
      "text/markdown": [
       "'no unique calls with total too low UMIs'"
      ],
      "text/plain": [
       "[1] \"no unique calls with total too low UMIs\""
      ]
     },
     "metadata": {},
     "output_type": "display_data"
    }
   ],
   "source": [
    " # for unique calls, also remove those where the fraction from total UMIs is too low\n",
    "  ifelse(is.null(dim(gRNA_calls$n_detected_gRNAs == 1 &\n",
    "                       gRNA_calls$fraction_total_UMIs <= min_fraction)), \n",
    "         print(\"no unique calls with total too low UMIs\"), \n",
    "         gRNA_calls[gRNA_calls$n_detected_gRNAs == 1 &\n",
    "                      gRNA_calls$fraction_total_UMIs <= min_fraction,]$p_adj <- 1)\n",
    "  \n"
   ]
  },
  {
   "cell_type": "code",
   "execution_count": 55,
   "metadata": {
    "vscode": {
     "languageId": "r"
    }
   },
   "outputs": [],
   "source": [
    "# count significant results again after adjustments above\n",
    "  gRNA_calls <- gRNA_calls %>% \n",
    "    group_by(cell) %>% \n",
    "    mutate(n_detected_gRNAs = length(which(p_adj <= pval_threshold))) %>% \n",
    "    ungroup()\n",
    "  # assign call based on number of significant gRNAs\n",
    "  gRNA_calls$call <- ifelse(gRNA_calls$n_detected_gRNAs == 0, \"unassigned\",\n",
    "                            ifelse(gRNA_calls$n_detected_gRNAs == 1, \"unique\", \"multiple\"))\n",
    "  gRNA_long <- gRNA_calls\n",
    "  # annotate significant results\n",
    "  gRNA_calls <- gRNA_calls %>% group_by(cell) %>% \n",
    "    mutate(detected_gRNAs = paste0(gRNA[which(p_adj <= pval_threshold)], collapse=\"|\"),\n",
    "           detected_UMIs  = paste0(UMI_count[which(p_adj <= pval_threshold)], collapse=\"|\"),\n",
    "           detected_fraction = paste0(fraction_total_UMIs[which(p_adj <= pval_threshold)], collapse=\"|\"),\n",
    "           detected_padj = paste0(p_adj[which(p_adj <= pval_threshold)], collapse=\"|\")\n",
    "    ) %>% \n",
    "    ungroup()\n",
    "  \n",
    "  ## convert to datatable\n",
    "  gRNA_calls <- data.table(gRNA_calls)\n",
    "  \n",
    "  ## add annotation if required\n",
    "  if(!is.null(ann)){\n",
    "    for(i in seq_along(columns)){\n",
    "      gRNA_calls[, tmp := .(paste0(get(columns[i])[which(p_adj <= pval_threshold)], collapse=\"|\")), by = \"cell\"]\n",
    "      colnames(gRNA_calls)[ncol(gRNA_calls)] <- paste0('detected_', columns[i])\n",
    "    }\n",
    "  }\n",
    "  \n",
    "  ## QC plot\n",
    "  if(plot){\n",
    "    ## remove overlapping points\n",
    "    idx <- subsetPointsByGrid(X = gRNA_calls$fraction_total_UMIs,\n",
    "                              Y = log10(gRNA_calls$UMI_count),\n",
    "                              grouping = gRNA_calls$cell,\n",
    "                              resolution = res)\n",
    "    df <- gRNA_calls[idx,]\n",
    "    df$call <- factor(df$call, levels=c(\"unassigned\", \"multiple\", \"unique\"))\n",
    "    df <- df[order(df$call),]\n",
    "    \n",
    "    ## assign colors to unique/multiple/unassigned\n",
    "    cols <- c(multiple=\"indianred3\", unassigned=\"grey\", unique=\"blue\") #\"grey10\")\n",
    "    df$col <- cols[match(df$call, names(cols))]\n",
    "    \n",
    "    ## plot \n",
    "    p <- ggplot(df, aes(fraction_total_UMIs, log10(UMI_count), colour=call)) +\n",
    "      scale_color_manual(values = cols) +\n",
    "      geom_point(size=0.25) +\n",
    "      xlab(\"% of total UMIs in cell\") +\n",
    "      ylab(expression('log'[10]*' UMIs in gRNA')) +\n",
    "      geom_hline(yintercept = log10(min_count), lty=2, col=\"grey10\") +\n",
    "      geom_vline(xintercept = min_fraction, lty=2, col=\"grey10\") \n",
    "  }\n",
    "  \n",
    "  ## produce sparse matrix of cell-gRNA pairs that are significant\n",
    "  # subset to significant\n",
    "  gRNA_calls_sig <- gRNA_calls[gRNA_calls$p_adj < pval_threshold,]\n",
    "  # gRNA indices\n",
    "  rows <- match(gRNA_calls_sig$gRNA, rownames(altExp(sce, 'CRISPR')))\n",
    "  # cell indices\n",
    "  cols <- match(gRNA_calls_sig$cell, colnames(altExp(sce, 'CRISPR')))\n",
    "  # create sparse matrix\n",
    "  gRNA_cell_matrix <- sparseMatrix(i = rows, j = cols, dims = dim(altExp(sce, 'CRISPR')))\n",
    "  row.names(gRNA_cell_matrix) <- row.names(altExp(sce, 'CRISPR'))\n",
    "  colnames(gRNA_cell_matrix) <- colnames(altExp(sce, 'CRISPR'))\n",
    "  # add to sce obect, copying over col/rowData from CRISPR counts\n",
    "  altExp(sce, 'gRNA_calls') <- altExp(sce, 'CRISPR')\n",
    "  assay(altExp(sce, 'gRNA_calls')) <- gRNA_cell_matrix\n",
    "  \n",
    "  ## produce matrix of assignments\n",
    "  gRNA_calls <- gRNA_calls %>% filter(order ==1) # keep only one entry per cell\n",
    "  gRNA_calls <- gRNA_calls %>% mutate(\"gRNA\" = NULL, \n",
    "                                      \"UMI_count\" = NULL, \n",
    "                                      \"cell_total_UMIs\" = NULL, \n",
    "                                      \"fraction_total_UMIs\" = NULL, \n",
    "                                      \"order\" = NULL, \n",
    "                                      \"binom\" = NULL, \n",
    "                                      \"p_adj\" = NULL) \n",
    "  if(!is.null(columns)){\n",
    "    gRNA_calls <- gRNA_calls[, (columns):=NULL]\n",
    "  }\n",
    "  ## add to sce colData\n",
    "  if(add_stats == FALSE){\n",
    "    ## only add number of gRNAs called, and call annotation\n",
    "    sel <- c(\"n_detected_gRNAs\", \"call\", \"detected_gRNAs\")\n",
    "    if(!is.null(columns)){\n",
    "      sel <- c(sel, paste0('detected_', columns))\n",
    "    }\n",
    "    colData(sce) <- cbind(colData(sce), gRNA_calls[match(colnames(sce), gRNA_calls$cell), ..sel])\n",
    "  }else{\n",
    "    ## add everything\n",
    "    colData(sce) <- cbind(colData(sce), gRNA_calls[match(colnames(sce), gRNA_calls$cell),-1])\n",
    "  }\n",
    "  # remove NAs produced by cells with _no_ gRNA counts at all (missing from analysis above)\n",
    "  if(sum(is.na(sce$n_detected_gRNAs))>0){\n",
    "    colData(sce[,is.na(sce$n_detected_gRNAs)])[,'call'] <- \"unassigned\"\n",
    "    colData(sce[,is.na(sce$n_detected_gRNAs)])[,'n_detected_gRNAs'] <- 0\n",
    "  }\n",
    "  \n"
   ]
  },
  {
   "cell_type": "markdown",
   "metadata": {},
   "source": [
    "### Inspect"
   ]
  },
  {
   "cell_type": "code",
   "execution_count": 58,
   "metadata": {
    "vscode": {
     "languageId": "r"
    }
   },
   "outputs": [
    {
     "data": {
      "text/plain": [
       "\n",
       "unassigned \n",
       "      8992 "
      ]
     },
     "metadata": {},
     "output_type": "display_data"
    }
   ],
   "source": [
    "table(gRNA_calls$call)"
   ]
  },
  {
   "cell_type": "code",
   "execution_count": 56,
   "metadata": {
    "vscode": {
     "languageId": "r"
    }
   },
   "outputs": [
    {
     "data": {
      "text/html": [
       "0"
      ],
      "text/latex": [
       "0"
      ],
      "text/markdown": [
       "0"
      ],
      "text/plain": [
       "[1] 0"
      ]
     },
     "metadata": {},
     "output_type": "display_data"
    },
    {
     "ename": "ERROR",
     "evalue": "Error in hist.default(-log10(df_unique$p_adj_nbinom)): invalid number of 'breaks'\n",
     "output_type": "error",
     "traceback": [
      "Error in hist.default(-log10(df_unique$p_adj_nbinom)): invalid number of 'breaks'\nTraceback:\n",
      "1. hist(-log10(df_unique$p_adj_nbinom))",
      "2. hist.default(-log10(df_unique$p_adj_nbinom))",
      "3. stop(\"invalid number of 'breaks'\")"
     ]
    }
   ],
   "source": [
    "select_called = gRNA_calls$call == 'unique'\n",
    "df_unique = gRNA_calls[select_called,]\n",
    "nrow(df_unique)\n",
    "\n",
    "options(repr.plot.width = 8, repr.plot.height = 3)\n",
    "hist(-log10(df_unique$p_adj_nbinom))\n",
    "\n",
    "options(repr.plot.width = 12, repr.plot.height = 3)\n",
    "barplot(table(df_unique$detected_gRNAs), las=2)"
   ]
  },
  {
   "cell_type": "code",
   "execution_count": null,
   "metadata": {
    "vscode": {
     "languageId": "r"
    }
   },
   "outputs": [
    {
     "data": {
      "text/html": [
       "<table class=\"dataframe\">\n",
       "<caption>A data.table: 1 × 14</caption>\n",
       "<thead>\n",
       "\t<tr><th scope=col>cell</th><th scope=col>prob</th><th scope=col>gRNA_num</th><th scope=col>means</th><th scope=col>nbinom</th><th scope=col>n</th><th scope=col>p_adj_nbinom</th><th scope=col>n_detected_gRNAs_nbinom</th><th scope=col>n_detected_gRNAs</th><th scope=col>call</th><th scope=col>detected_gRNAs</th><th scope=col>detected_UMIs</th><th scope=col>detected_fraction</th><th scope=col>detected_padj</th></tr>\n",
       "\t<tr><th scope=col>&lt;fct&gt;</th><th scope=col>&lt;dbl&gt;</th><th scope=col>&lt;dbl&gt;</th><th scope=col>&lt;dbl&gt;</th><th scope=col>&lt;dbl&gt;</th><th scope=col>&lt;int&gt;</th><th scope=col>&lt;dbl&gt;</th><th scope=col>&lt;int&gt;</th><th scope=col>&lt;int&gt;</th><th scope=col>&lt;chr&gt;</th><th scope=col>&lt;chr&gt;</th><th scope=col>&lt;chr&gt;</th><th scope=col>&lt;chr&gt;</th><th scope=col>&lt;chr&gt;</th></tr>\n",
       "</thead>\n",
       "<tbody>\n",
       "\t<tr><td>CGGCTAATCATTTGTC-1</td><td>0.02</td><td>30</td><td>34</td><td>0.014</td><td>24</td><td>0.34</td><td>1</td><td>1</td><td>unique</td><td>MBD1-2</td><td>518</td><td>0.6256038647343</td><td>0.343862418388065</td></tr>\n",
       "</tbody>\n",
       "</table>\n"
      ],
      "text/latex": [
       "A data.table: 1 × 14\n",
       "\\begin{tabular}{llllllllllllll}\n",
       " cell & prob & gRNA\\_num & means & nbinom & n & p\\_adj\\_nbinom & n\\_detected\\_gRNAs\\_nbinom & n\\_detected\\_gRNAs & call & detected\\_gRNAs & detected\\_UMIs & detected\\_fraction & detected\\_padj\\\\\n",
       " <fct> & <dbl> & <dbl> & <dbl> & <dbl> & <int> & <dbl> & <int> & <int> & <chr> & <chr> & <chr> & <chr> & <chr>\\\\\n",
       "\\hline\n",
       "\t CGGCTAATCATTTGTC-1 & 0.02 & 30 & 34 & 0.014 & 24 & 0.34 & 1 & 1 & unique & MBD1-2 & 518 & 0.6256038647343 & 0.343862418388065\\\\\n",
       "\\end{tabular}\n"
      ],
      "text/markdown": [
       "\n",
       "A data.table: 1 × 14\n",
       "\n",
       "| cell &lt;fct&gt; | prob &lt;dbl&gt; | gRNA_num &lt;dbl&gt; | means &lt;dbl&gt; | nbinom &lt;dbl&gt; | n &lt;int&gt; | p_adj_nbinom &lt;dbl&gt; | n_detected_gRNAs_nbinom &lt;int&gt; | n_detected_gRNAs &lt;int&gt; | call &lt;chr&gt; | detected_gRNAs &lt;chr&gt; | detected_UMIs &lt;chr&gt; | detected_fraction &lt;chr&gt; | detected_padj &lt;chr&gt; |\n",
       "|---|---|---|---|---|---|---|---|---|---|---|---|---|---|\n",
       "| CGGCTAATCATTTGTC-1 | 0.02 | 30 | 34 | 0.014 | 24 | 0.34 | 1 | 1 | unique | MBD1-2 | 518 | 0.6256038647343 | 0.343862418388065 |\n",
       "\n"
      ],
      "text/plain": [
       "  cell               prob gRNA_num means nbinom n  p_adj_nbinom\n",
       "1 CGGCTAATCATTTGTC-1 0.02 30       34    0.014  24 0.34        \n",
       "  n_detected_gRNAs_nbinom n_detected_gRNAs call   detected_gRNAs detected_UMIs\n",
       "1 1                       1                unique MBD1-2         518          \n",
       "  detected_fraction detected_padj    \n",
       "1 0.6256038647343   0.343862418388065"
      ]
     },
     "metadata": {},
     "output_type": "display_data"
    },
    {
     "data": {
      "text/html": [
       "<table class=\"dataframe\">\n",
       "<caption>A data.table: 1 × 14</caption>\n",
       "<thead>\n",
       "\t<tr><th scope=col>cell</th><th scope=col>prob</th><th scope=col>gRNA_num</th><th scope=col>means</th><th scope=col>nbinom</th><th scope=col>n</th><th scope=col>p_adj_nbinom</th><th scope=col>n_detected_gRNAs_nbinom</th><th scope=col>n_detected_gRNAs</th><th scope=col>call</th><th scope=col>detected_gRNAs</th><th scope=col>detected_UMIs</th><th scope=col>detected_fraction</th><th scope=col>detected_padj</th></tr>\n",
       "\t<tr><th scope=col>&lt;fct&gt;</th><th scope=col>&lt;dbl&gt;</th><th scope=col>&lt;dbl&gt;</th><th scope=col>&lt;dbl&gt;</th><th scope=col>&lt;dbl&gt;</th><th scope=col>&lt;int&gt;</th><th scope=col>&lt;dbl&gt;</th><th scope=col>&lt;int&gt;</th><th scope=col>&lt;int&gt;</th><th scope=col>&lt;chr&gt;</th><th scope=col>&lt;chr&gt;</th><th scope=col>&lt;chr&gt;</th><th scope=col>&lt;chr&gt;</th><th scope=col>&lt;chr&gt;</th></tr>\n",
       "</thead>\n",
       "<tbody>\n",
       "\t<tr><td>CGGCTAATCATTTGTC-1</td><td>0.02</td><td>30</td><td>34</td><td>0.014</td><td>24</td><td>0.34</td><td>1</td><td>1</td><td>unique</td><td>MBD1-2</td><td>518</td><td>0.6256038647343</td><td>0.343862418388065</td></tr>\n",
       "</tbody>\n",
       "</table>\n"
      ],
      "text/latex": [
       "A data.table: 1 × 14\n",
       "\\begin{tabular}{llllllllllllll}\n",
       " cell & prob & gRNA\\_num & means & nbinom & n & p\\_adj\\_nbinom & n\\_detected\\_gRNAs\\_nbinom & n\\_detected\\_gRNAs & call & detected\\_gRNAs & detected\\_UMIs & detected\\_fraction & detected\\_padj\\\\\n",
       " <fct> & <dbl> & <dbl> & <dbl> & <dbl> & <int> & <dbl> & <int> & <int> & <chr> & <chr> & <chr> & <chr> & <chr>\\\\\n",
       "\\hline\n",
       "\t CGGCTAATCATTTGTC-1 & 0.02 & 30 & 34 & 0.014 & 24 & 0.34 & 1 & 1 & unique & MBD1-2 & 518 & 0.6256038647343 & 0.343862418388065\\\\\n",
       "\\end{tabular}\n"
      ],
      "text/markdown": [
       "\n",
       "A data.table: 1 × 14\n",
       "\n",
       "| cell &lt;fct&gt; | prob &lt;dbl&gt; | gRNA_num &lt;dbl&gt; | means &lt;dbl&gt; | nbinom &lt;dbl&gt; | n &lt;int&gt; | p_adj_nbinom &lt;dbl&gt; | n_detected_gRNAs_nbinom &lt;int&gt; | n_detected_gRNAs &lt;int&gt; | call &lt;chr&gt; | detected_gRNAs &lt;chr&gt; | detected_UMIs &lt;chr&gt; | detected_fraction &lt;chr&gt; | detected_padj &lt;chr&gt; |\n",
       "|---|---|---|---|---|---|---|---|---|---|---|---|---|---|\n",
       "| CGGCTAATCATTTGTC-1 | 0.02 | 30 | 34 | 0.014 | 24 | 0.34 | 1 | 1 | unique | MBD1-2 | 518 | 0.6256038647343 | 0.343862418388065 |\n",
       "\n"
      ],
      "text/plain": [
       "  cell               prob gRNA_num means nbinom n  p_adj_nbinom\n",
       "1 CGGCTAATCATTTGTC-1 0.02 30       34    0.014  24 0.34        \n",
       "  n_detected_gRNAs_nbinom n_detected_gRNAs call   detected_gRNAs detected_UMIs\n",
       "1 1                       1                unique MBD1-2         518          \n",
       "  detected_fraction detected_padj    \n",
       "1 0.6256038647343   0.343862418388065"
      ]
     },
     "metadata": {},
     "output_type": "display_data"
    },
    {
     "data": {
      "image/png": "[encoded data removed]",
      "text/plain": [
       "plot without title"
      ]
     },
     "metadata": {
      "image/png": {
       "height": 240,
       "width": 720
      }
     },
     "output_type": "display_data"
    }
   ],
   "source": [
    "df_inpection = sample_n(df_unique, 1)\n",
    "df_inpection\n",
    "my_cell = df_inpection$cell\n",
    "\n",
    "options(repr.plot.width = 12, repr.plot.height = 4)\n",
    "barplot(guide_counts[, my_cell], las=2)\n",
    "\n",
    "select_cell = gRNA_calls$cell == my_cell\n",
    "gRNA_calls[select_cell,]"
   ]
  },
  {
   "cell_type": "code",
   "execution_count": null,
   "metadata": {
    "vscode": {
     "languageId": "r"
    }
   },
   "outputs": [
    {
     "data": {
      "text/html": [
       "34"
      ],
      "text/latex": [
       "34"
      ],
      "text/markdown": [
       "34"
      ],
      "text/plain": [
       "[1] 34"
      ]
     },
     "metadata": {},
     "output_type": "display_data"
    },
    {
     "data": {
      "text/html": [
       "<table class=\"dataframe\">\n",
       "<caption>A data.frame: 5 × 1</caption>\n",
       "<thead>\n",
       "\t<tr><th></th><th scope=col>cell_counts</th></tr>\n",
       "\t<tr><th></th><th scope=col>&lt;int&gt;</th></tr>\n",
       "</thead>\n",
       "<tbody>\n",
       "\t<tr><th scope=row>EZH2_4</th><td> 2</td></tr>\n",
       "\t<tr><th scope=row>ATRX_3</th><td> 5</td></tr>\n",
       "\t<tr><th scope=row>KDM6A_1</th><td> 7</td></tr>\n",
       "\t<tr><th scope=row>EZH2_3</th><td>10</td></tr>\n",
       "\t<tr><th scope=row>NTCTL_3</th><td>10</td></tr>\n",
       "</tbody>\n",
       "</table>\n"
      ],
      "text/latex": [
       "A data.frame: 5 × 1\n",
       "\\begin{tabular}{r|l}\n",
       "  & cell\\_counts\\\\\n",
       "  & <int>\\\\\n",
       "\\hline\n",
       "\tEZH2\\_4 &  2\\\\\n",
       "\tATRX\\_3 &  5\\\\\n",
       "\tKDM6A\\_1 &  7\\\\\n",
       "\tEZH2\\_3 & 10\\\\\n",
       "\tNTCTL\\_3 & 10\\\\\n",
       "\\end{tabular}\n"
      ],
      "text/markdown": [
       "\n",
       "A data.frame: 5 × 1\n",
       "\n",
       "| <!--/--> | cell_counts &lt;int&gt; |\n",
       "|---|---|\n",
       "| EZH2_4 |  2 |\n",
       "| ATRX_3 |  5 |\n",
       "| KDM6A_1 |  7 |\n",
       "| EZH2_3 | 10 |\n",
       "| NTCTL_3 | 10 |\n",
       "\n"
      ],
      "text/plain": [
       "        cell_counts\n",
       "EZH2_4   2         \n",
       "ATRX_3   5         \n",
       "KDM6A_1  7         \n",
       "EZH2_3  10         \n",
       "NTCTL_3 10         "
      ]
     },
     "metadata": {},
     "output_type": "display_data"
    }
   ],
   "source": [
    "cell_counts = guide_counts[, my_cell]\n",
    "#data.frame(cell_counts/sum(cell_counts))\n",
    "sum(cell_counts)\n",
    "data.frame(cell_counts) %>% arrange(cell_counts) %>% tail(5)"
   ]
  },
  {
   "cell_type": "markdown",
   "metadata": {},
   "source": [
    "### Inspection before filtering etc "
   ]
  },
  {
   "cell_type": "code",
   "execution_count": null,
   "metadata": {
    "vscode": {
     "languageId": "r"
    }
   },
   "outputs": [
    {
     "data": {
      "text/html": [
       "<table class=\"dataframe\">\n",
       "<caption>A tibble: 24 × 15</caption>\n",
       "<thead>\n",
       "\t<tr><th scope=col>gRNA</th><th scope=col>cell</th><th scope=col>UMI_count</th><th scope=col>cell_total_UMIs</th><th scope=col>fraction_total_UMIs</th><th scope=col>order</th><th scope=col>prob</th><th scope=col>gRNA_num</th><th scope=col>means</th><th scope=col>nbinom</th><th scope=col>n</th><th scope=col>p_adj_nbinom</th><th scope=col>n_detected_gRNAs_nbinom</th><th scope=col>n_detected_gRNAs</th><th scope=col>p_adj</th></tr>\n",
       "\t<tr><th scope=col>&lt;fct&gt;</th><th scope=col>&lt;fct&gt;</th><th scope=col>&lt;dbl&gt;</th><th scope=col>&lt;dbl&gt;</th><th scope=col>&lt;dbl&gt;</th><th scope=col>&lt;int&gt;</th><th scope=col>&lt;dbl&gt;</th><th scope=col>&lt;dbl&gt;</th><th scope=col>&lt;dbl&gt;</th><th scope=col>&lt;dbl&gt;</th><th scope=col>&lt;int&gt;</th><th scope=col>&lt;dbl&gt;</th><th scope=col>&lt;int&gt;</th><th scope=col>&lt;int&gt;</th><th scope=col>&lt;dbl&gt;</th></tr>\n",
       "</thead>\n",
       "<tbody>\n",
       "\t<tr><td>MBD1-2  </td><td>CGGCTAATCATTTGTC-1</td><td>518</td><td>828</td><td>0.6256</td><td> 1</td><td>0.02</td><td>30</td><td>34</td><td>0.014</td><td>24</td><td>0.34</td><td>1</td><td>1</td><td>0.34</td></tr>\n",
       "\t<tr><td>SETD2-3 </td><td>CGGCTAATCATTTGTC-1</td><td>106</td><td>828</td><td>0.1280</td><td> 2</td><td>0.02</td><td>45</td><td>34</td><td>0.084</td><td>24</td><td>1.00</td><td>1</td><td>1</td><td>1.00</td></tr>\n",
       "\t<tr><td>KDM6A-1 </td><td>CGGCTAATCATTTGTC-1</td><td> 40</td><td>828</td><td>0.0483</td><td> 3</td><td>0.02</td><td>25</td><td>34</td><td>0.142</td><td>24</td><td>1.00</td><td>1</td><td>1</td><td>1.00</td></tr>\n",
       "\t<tr><td>TET2-3  </td><td>CGGCTAATCATTTGTC-1</td><td> 30</td><td>828</td><td>0.0362</td><td> 4</td><td>0.02</td><td>49</td><td>34</td><td>0.159</td><td>24</td><td>1.00</td><td>1</td><td>1</td><td>1.00</td></tr>\n",
       "\t<tr><td>SETD2-4 </td><td>CGGCTAATCATTTGTC-1</td><td> 20</td><td>828</td><td>0.0242</td><td> 5</td><td>0.02</td><td>46</td><td>34</td><td>0.184</td><td>24</td><td>1.00</td><td>1</td><td>1</td><td>1.00</td></tr>\n",
       "\t<tr><td>EZH2-2  </td><td>CGGCTAATCATTTGTC-1</td><td> 13</td><td>828</td><td>0.0157</td><td> 6</td><td>0.02</td><td>18</td><td>34</td><td>0.211</td><td>24</td><td>1.00</td><td>1</td><td>1</td><td>1.00</td></tr>\n",
       "\t<tr><td>EZH2-3  </td><td>CGGCTAATCATTTGTC-1</td><td> 11</td><td>828</td><td>0.0133</td><td> 7</td><td>0.02</td><td>19</td><td>34</td><td>0.221</td><td>24</td><td>1.00</td><td>1</td><td>1</td><td>1.00</td></tr>\n",
       "\t<tr><td>EZH2-4  </td><td>CGGCTAATCATTTGTC-1</td><td> 11</td><td>828</td><td>0.0133</td><td> 8</td><td>0.02</td><td>20</td><td>34</td><td>0.221</td><td>24</td><td>1.00</td><td>1</td><td>1</td><td>1.00</td></tr>\n",
       "\t<tr><td>MBD1-1  </td><td>CGGCTAATCATTTGTC-1</td><td>  9</td><td>828</td><td>0.0109</td><td> 9</td><td>0.02</td><td>29</td><td>34</td><td>0.233</td><td>24</td><td>1.00</td><td>1</td><td>1</td><td>1.00</td></tr>\n",
       "\t<tr><td>CHD8-4  </td><td>CGGCTAATCATTTGTC-1</td><td>  8</td><td>828</td><td>0.0097</td><td>10</td><td>0.02</td><td>12</td><td>34</td><td>0.240</td><td>24</td><td>1.00</td><td>1</td><td>1</td><td>1.00</td></tr>\n",
       "\t<tr><td>ATRX-2  </td><td>CGGCTAATCATTTGTC-1</td><td>  7</td><td>828</td><td>0.0085</td><td>11</td><td>0.02</td><td> 6</td><td>34</td><td>0.248</td><td>24</td><td>1.00</td><td>1</td><td>1</td><td>1.00</td></tr>\n",
       "\t<tr><td>ATRX-3  </td><td>CGGCTAATCATTTGTC-1</td><td>  6</td><td>828</td><td>0.0072</td><td>12</td><td>0.02</td><td> 7</td><td>34</td><td>0.258</td><td>24</td><td>1.00</td><td>1</td><td>1</td><td>1.00</td></tr>\n",
       "\t<tr><td>EZH2-1  </td><td>CGGCTAATCATTTGTC-1</td><td>  6</td><td>828</td><td>0.0072</td><td>13</td><td>0.02</td><td>17</td><td>34</td><td>0.258</td><td>24</td><td>1.00</td><td>1</td><td>1</td><td>1.00</td></tr>\n",
       "\t<tr><td>NTCTL-3 </td><td>CGGCTAATCATTTGTC-1</td><td>  6</td><td>828</td><td>0.0072</td><td>14</td><td>0.02</td><td>33</td><td>34</td><td>0.258</td><td>24</td><td>1.00</td><td>1</td><td>1</td><td>1.00</td></tr>\n",
       "\t<tr><td>NTCTL-4 </td><td>CGGCTAATCATTTGTC-1</td><td>  6</td><td>828</td><td>0.0072</td><td>15</td><td>0.02</td><td>34</td><td>34</td><td>0.258</td><td>24</td><td>1.00</td><td>1</td><td>1</td><td>1.00</td></tr>\n",
       "\t<tr><td>ARID1A-2</td><td>CGGCTAATCATTTGTC-1</td><td>  5</td><td>828</td><td>0.0060</td><td>16</td><td>0.02</td><td> 2</td><td>34</td><td>   NA</td><td>24</td><td>  NA</td><td>1</td><td>1</td><td>  NA</td></tr>\n",
       "\t<tr><td>KDM6A-4 </td><td>CGGCTAATCATTTGTC-1</td><td>  5</td><td>828</td><td>0.0060</td><td>17</td><td>0.02</td><td>28</td><td>34</td><td>   NA</td><td>24</td><td>  NA</td><td>1</td><td>1</td><td>  NA</td></tr>\n",
       "\t<tr><td>PBRM1-2 </td><td>CGGCTAATCATTTGTC-1</td><td>  5</td><td>828</td><td>0.0060</td><td>18</td><td>0.02</td><td>36</td><td>34</td><td>   NA</td><td>24</td><td>  NA</td><td>1</td><td>1</td><td>  NA</td></tr>\n",
       "\t<tr><td>ATRX-4  </td><td>CGGCTAATCATTTGTC-1</td><td>  4</td><td>828</td><td>0.0048</td><td>19</td><td>0.02</td><td> 8</td><td>34</td><td>   NA</td><td>24</td><td>  NA</td><td>1</td><td>1</td><td>  NA</td></tr>\n",
       "\t<tr><td>SETD2-1 </td><td>CGGCTAATCATTTGTC-1</td><td>  4</td><td>828</td><td>0.0048</td><td>20</td><td>0.02</td><td>43</td><td>34</td><td>   NA</td><td>24</td><td>  NA</td><td>1</td><td>1</td><td>  NA</td></tr>\n",
       "\t<tr><td>ARID1A-1</td><td>CGGCTAATCATTTGTC-1</td><td>  3</td><td>828</td><td>0.0036</td><td>21</td><td>0.02</td><td> 1</td><td>34</td><td>   NA</td><td>24</td><td>  NA</td><td>1</td><td>1</td><td>  NA</td></tr>\n",
       "\t<tr><td>CHD8-3  </td><td>CGGCTAATCATTTGTC-1</td><td>  2</td><td>828</td><td>0.0024</td><td>22</td><td>0.02</td><td>11</td><td>34</td><td>   NA</td><td>24</td><td>  NA</td><td>1</td><td>1</td><td>  NA</td></tr>\n",
       "\t<tr><td>DNMT3A-1</td><td>CGGCTAATCATTTGTC-1</td><td>  2</td><td>828</td><td>0.0024</td><td>23</td><td>0.02</td><td>13</td><td>34</td><td>   NA</td><td>24</td><td>  NA</td><td>1</td><td>1</td><td>  NA</td></tr>\n",
       "\t<tr><td>CHD8-1  </td><td>CGGCTAATCATTTGTC-1</td><td>  1</td><td>828</td><td>0.0012</td><td>24</td><td>0.02</td><td> 9</td><td>34</td><td>   NA</td><td>24</td><td>  NA</td><td>1</td><td>1</td><td>  NA</td></tr>\n",
       "</tbody>\n",
       "</table>\n"
      ],
      "text/latex": [
       "A tibble: 24 × 15\n",
       "\\begin{tabular}{lllllllllllllll}\n",
       " gRNA & cell & UMI\\_count & cell\\_total\\_UMIs & fraction\\_total\\_UMIs & order & prob & gRNA\\_num & means & nbinom & n & p\\_adj\\_nbinom & n\\_detected\\_gRNAs\\_nbinom & n\\_detected\\_gRNAs & p\\_adj\\\\\n",
       " <fct> & <fct> & <dbl> & <dbl> & <dbl> & <int> & <dbl> & <dbl> & <dbl> & <dbl> & <int> & <dbl> & <int> & <int> & <dbl>\\\\\n",
       "\\hline\n",
       "\t MBD1-2   & CGGCTAATCATTTGTC-1 & 518 & 828 & 0.6256 &  1 & 0.02 & 30 & 34 & 0.014 & 24 & 0.34 & 1 & 1 & 0.34\\\\\n",
       "\t SETD2-3  & CGGCTAATCATTTGTC-1 & 106 & 828 & 0.1280 &  2 & 0.02 & 45 & 34 & 0.084 & 24 & 1.00 & 1 & 1 & 1.00\\\\\n",
       "\t KDM6A-1  & CGGCTAATCATTTGTC-1 &  40 & 828 & 0.0483 &  3 & 0.02 & 25 & 34 & 0.142 & 24 & 1.00 & 1 & 1 & 1.00\\\\\n",
       "\t TET2-3   & CGGCTAATCATTTGTC-1 &  30 & 828 & 0.0362 &  4 & 0.02 & 49 & 34 & 0.159 & 24 & 1.00 & 1 & 1 & 1.00\\\\\n",
       "\t SETD2-4  & CGGCTAATCATTTGTC-1 &  20 & 828 & 0.0242 &  5 & 0.02 & 46 & 34 & 0.184 & 24 & 1.00 & 1 & 1 & 1.00\\\\\n",
       "\t EZH2-2   & CGGCTAATCATTTGTC-1 &  13 & 828 & 0.0157 &  6 & 0.02 & 18 & 34 & 0.211 & 24 & 1.00 & 1 & 1 & 1.00\\\\\n",
       "\t EZH2-3   & CGGCTAATCATTTGTC-1 &  11 & 828 & 0.0133 &  7 & 0.02 & 19 & 34 & 0.221 & 24 & 1.00 & 1 & 1 & 1.00\\\\\n",
       "\t EZH2-4   & CGGCTAATCATTTGTC-1 &  11 & 828 & 0.0133 &  8 & 0.02 & 20 & 34 & 0.221 & 24 & 1.00 & 1 & 1 & 1.00\\\\\n",
       "\t MBD1-1   & CGGCTAATCATTTGTC-1 &   9 & 828 & 0.0109 &  9 & 0.02 & 29 & 34 & 0.233 & 24 & 1.00 & 1 & 1 & 1.00\\\\\n",
       "\t CHD8-4   & CGGCTAATCATTTGTC-1 &   8 & 828 & 0.0097 & 10 & 0.02 & 12 & 34 & 0.240 & 24 & 1.00 & 1 & 1 & 1.00\\\\\n",
       "\t ATRX-2   & CGGCTAATCATTTGTC-1 &   7 & 828 & 0.0085 & 11 & 0.02 &  6 & 34 & 0.248 & 24 & 1.00 & 1 & 1 & 1.00\\\\\n",
       "\t ATRX-3   & CGGCTAATCATTTGTC-1 &   6 & 828 & 0.0072 & 12 & 0.02 &  7 & 34 & 0.258 & 24 & 1.00 & 1 & 1 & 1.00\\\\\n",
       "\t EZH2-1   & CGGCTAATCATTTGTC-1 &   6 & 828 & 0.0072 & 13 & 0.02 & 17 & 34 & 0.258 & 24 & 1.00 & 1 & 1 & 1.00\\\\\n",
       "\t NTCTL-3  & CGGCTAATCATTTGTC-1 &   6 & 828 & 0.0072 & 14 & 0.02 & 33 & 34 & 0.258 & 24 & 1.00 & 1 & 1 & 1.00\\\\\n",
       "\t NTCTL-4  & CGGCTAATCATTTGTC-1 &   6 & 828 & 0.0072 & 15 & 0.02 & 34 & 34 & 0.258 & 24 & 1.00 & 1 & 1 & 1.00\\\\\n",
       "\t ARID1A-2 & CGGCTAATCATTTGTC-1 &   5 & 828 & 0.0060 & 16 & 0.02 &  2 & 34 &    NA & 24 &   NA & 1 & 1 &   NA\\\\\n",
       "\t KDM6A-4  & CGGCTAATCATTTGTC-1 &   5 & 828 & 0.0060 & 17 & 0.02 & 28 & 34 &    NA & 24 &   NA & 1 & 1 &   NA\\\\\n",
       "\t PBRM1-2  & CGGCTAATCATTTGTC-1 &   5 & 828 & 0.0060 & 18 & 0.02 & 36 & 34 &    NA & 24 &   NA & 1 & 1 &   NA\\\\\n",
       "\t ATRX-4   & CGGCTAATCATTTGTC-1 &   4 & 828 & 0.0048 & 19 & 0.02 &  8 & 34 &    NA & 24 &   NA & 1 & 1 &   NA\\\\\n",
       "\t SETD2-1  & CGGCTAATCATTTGTC-1 &   4 & 828 & 0.0048 & 20 & 0.02 & 43 & 34 &    NA & 24 &   NA & 1 & 1 &   NA\\\\\n",
       "\t ARID1A-1 & CGGCTAATCATTTGTC-1 &   3 & 828 & 0.0036 & 21 & 0.02 &  1 & 34 &    NA & 24 &   NA & 1 & 1 &   NA\\\\\n",
       "\t CHD8-3   & CGGCTAATCATTTGTC-1 &   2 & 828 & 0.0024 & 22 & 0.02 & 11 & 34 &    NA & 24 &   NA & 1 & 1 &   NA\\\\\n",
       "\t DNMT3A-1 & CGGCTAATCATTTGTC-1 &   2 & 828 & 0.0024 & 23 & 0.02 & 13 & 34 &    NA & 24 &   NA & 1 & 1 &   NA\\\\\n",
       "\t CHD8-1   & CGGCTAATCATTTGTC-1 &   1 & 828 & 0.0012 & 24 & 0.02 &  9 & 34 &    NA & 24 &   NA & 1 & 1 &   NA\\\\\n",
       "\\end{tabular}\n"
      ],
      "text/markdown": [
       "\n",
       "A tibble: 24 × 15\n",
       "\n",
       "| gRNA &lt;fct&gt; | cell &lt;fct&gt; | UMI_count &lt;dbl&gt; | cell_total_UMIs &lt;dbl&gt; | fraction_total_UMIs &lt;dbl&gt; | order &lt;int&gt; | prob &lt;dbl&gt; | gRNA_num &lt;dbl&gt; | means &lt;dbl&gt; | nbinom &lt;dbl&gt; | n &lt;int&gt; | p_adj_nbinom &lt;dbl&gt; | n_detected_gRNAs_nbinom &lt;int&gt; | n_detected_gRNAs &lt;int&gt; | p_adj &lt;dbl&gt; |\n",
       "|---|---|---|---|---|---|---|---|---|---|---|---|---|---|---|\n",
       "| MBD1-2   | CGGCTAATCATTTGTC-1 | 518 | 828 | 0.6256 |  1 | 0.02 | 30 | 34 | 0.014 | 24 | 0.34 | 1 | 1 | 0.34 |\n",
       "| SETD2-3  | CGGCTAATCATTTGTC-1 | 106 | 828 | 0.1280 |  2 | 0.02 | 45 | 34 | 0.084 | 24 | 1.00 | 1 | 1 | 1.00 |\n",
       "| KDM6A-1  | CGGCTAATCATTTGTC-1 |  40 | 828 | 0.0483 |  3 | 0.02 | 25 | 34 | 0.142 | 24 | 1.00 | 1 | 1 | 1.00 |\n",
       "| TET2-3   | CGGCTAATCATTTGTC-1 |  30 | 828 | 0.0362 |  4 | 0.02 | 49 | 34 | 0.159 | 24 | 1.00 | 1 | 1 | 1.00 |\n",
       "| SETD2-4  | CGGCTAATCATTTGTC-1 |  20 | 828 | 0.0242 |  5 | 0.02 | 46 | 34 | 0.184 | 24 | 1.00 | 1 | 1 | 1.00 |\n",
       "| EZH2-2   | CGGCTAATCATTTGTC-1 |  13 | 828 | 0.0157 |  6 | 0.02 | 18 | 34 | 0.211 | 24 | 1.00 | 1 | 1 | 1.00 |\n",
       "| EZH2-3   | CGGCTAATCATTTGTC-1 |  11 | 828 | 0.0133 |  7 | 0.02 | 19 | 34 | 0.221 | 24 | 1.00 | 1 | 1 | 1.00 |\n",
       "| EZH2-4   | CGGCTAATCATTTGTC-1 |  11 | 828 | 0.0133 |  8 | 0.02 | 20 | 34 | 0.221 | 24 | 1.00 | 1 | 1 | 1.00 |\n",
       "| MBD1-1   | CGGCTAATCATTTGTC-1 |   9 | 828 | 0.0109 |  9 | 0.02 | 29 | 34 | 0.233 | 24 | 1.00 | 1 | 1 | 1.00 |\n",
       "| CHD8-4   | CGGCTAATCATTTGTC-1 |   8 | 828 | 0.0097 | 10 | 0.02 | 12 | 34 | 0.240 | 24 | 1.00 | 1 | 1 | 1.00 |\n",
       "| ATRX-2   | CGGCTAATCATTTGTC-1 |   7 | 828 | 0.0085 | 11 | 0.02 |  6 | 34 | 0.248 | 24 | 1.00 | 1 | 1 | 1.00 |\n",
       "| ATRX-3   | CGGCTAATCATTTGTC-1 |   6 | 828 | 0.0072 | 12 | 0.02 |  7 | 34 | 0.258 | 24 | 1.00 | 1 | 1 | 1.00 |\n",
       "| EZH2-1   | CGGCTAATCATTTGTC-1 |   6 | 828 | 0.0072 | 13 | 0.02 | 17 | 34 | 0.258 | 24 | 1.00 | 1 | 1 | 1.00 |\n",
       "| NTCTL-3  | CGGCTAATCATTTGTC-1 |   6 | 828 | 0.0072 | 14 | 0.02 | 33 | 34 | 0.258 | 24 | 1.00 | 1 | 1 | 1.00 |\n",
       "| NTCTL-4  | CGGCTAATCATTTGTC-1 |   6 | 828 | 0.0072 | 15 | 0.02 | 34 | 34 | 0.258 | 24 | 1.00 | 1 | 1 | 1.00 |\n",
       "| ARID1A-2 | CGGCTAATCATTTGTC-1 |   5 | 828 | 0.0060 | 16 | 0.02 |  2 | 34 |    NA | 24 |   NA | 1 | 1 |   NA |\n",
       "| KDM6A-4  | CGGCTAATCATTTGTC-1 |   5 | 828 | 0.0060 | 17 | 0.02 | 28 | 34 |    NA | 24 |   NA | 1 | 1 |   NA |\n",
       "| PBRM1-2  | CGGCTAATCATTTGTC-1 |   5 | 828 | 0.0060 | 18 | 0.02 | 36 | 34 |    NA | 24 |   NA | 1 | 1 |   NA |\n",
       "| ATRX-4   | CGGCTAATCATTTGTC-1 |   4 | 828 | 0.0048 | 19 | 0.02 |  8 | 34 |    NA | 24 |   NA | 1 | 1 |   NA |\n",
       "| SETD2-1  | CGGCTAATCATTTGTC-1 |   4 | 828 | 0.0048 | 20 | 0.02 | 43 | 34 |    NA | 24 |   NA | 1 | 1 |   NA |\n",
       "| ARID1A-1 | CGGCTAATCATTTGTC-1 |   3 | 828 | 0.0036 | 21 | 0.02 |  1 | 34 |    NA | 24 |   NA | 1 | 1 |   NA |\n",
       "| CHD8-3   | CGGCTAATCATTTGTC-1 |   2 | 828 | 0.0024 | 22 | 0.02 | 11 | 34 |    NA | 24 |   NA | 1 | 1 |   NA |\n",
       "| DNMT3A-1 | CGGCTAATCATTTGTC-1 |   2 | 828 | 0.0024 | 23 | 0.02 | 13 | 34 |    NA | 24 |   NA | 1 | 1 |   NA |\n",
       "| CHD8-1   | CGGCTAATCATTTGTC-1 |   1 | 828 | 0.0012 | 24 | 0.02 |  9 | 34 |    NA | 24 |   NA | 1 | 1 |   NA |\n",
       "\n"
      ],
      "text/plain": [
       "   gRNA     cell               UMI_count cell_total_UMIs fraction_total_UMIs\n",
       "1  MBD1-2   CGGCTAATCATTTGTC-1 518       828             0.6256             \n",
       "2  SETD2-3  CGGCTAATCATTTGTC-1 106       828             0.1280             \n",
       "3  KDM6A-1  CGGCTAATCATTTGTC-1  40       828             0.0483             \n",
       "4  TET2-3   CGGCTAATCATTTGTC-1  30       828             0.0362             \n",
       "5  SETD2-4  CGGCTAATCATTTGTC-1  20       828             0.0242             \n",
       "6  EZH2-2   CGGCTAATCATTTGTC-1  13       828             0.0157             \n",
       "7  EZH2-3   CGGCTAATCATTTGTC-1  11       828             0.0133             \n",
       "8  EZH2-4   CGGCTAATCATTTGTC-1  11       828             0.0133             \n",
       "9  MBD1-1   CGGCTAATCATTTGTC-1   9       828             0.0109             \n",
       "10 CHD8-4   CGGCTAATCATTTGTC-1   8       828             0.0097             \n",
       "11 ATRX-2   CGGCTAATCATTTGTC-1   7       828             0.0085             \n",
       "12 ATRX-3   CGGCTAATCATTTGTC-1   6       828             0.0072             \n",
       "13 EZH2-1   CGGCTAATCATTTGTC-1   6       828             0.0072             \n",
       "14 NTCTL-3  CGGCTAATCATTTGTC-1   6       828             0.0072             \n",
       "15 NTCTL-4  CGGCTAATCATTTGTC-1   6       828             0.0072             \n",
       "16 ARID1A-2 CGGCTAATCATTTGTC-1   5       828             0.0060             \n",
       "17 KDM6A-4  CGGCTAATCATTTGTC-1   5       828             0.0060             \n",
       "18 PBRM1-2  CGGCTAATCATTTGTC-1   5       828             0.0060             \n",
       "19 ATRX-4   CGGCTAATCATTTGTC-1   4       828             0.0048             \n",
       "20 SETD2-1  CGGCTAATCATTTGTC-1   4       828             0.0048             \n",
       "21 ARID1A-1 CGGCTAATCATTTGTC-1   3       828             0.0036             \n",
       "22 CHD8-3   CGGCTAATCATTTGTC-1   2       828             0.0024             \n",
       "23 DNMT3A-1 CGGCTAATCATTTGTC-1   2       828             0.0024             \n",
       "24 CHD8-1   CGGCTAATCATTTGTC-1   1       828             0.0012             \n",
       "   order prob gRNA_num means nbinom n  p_adj_nbinom n_detected_gRNAs_nbinom\n",
       "1   1    0.02 30       34    0.014  24 0.34         1                      \n",
       "2   2    0.02 45       34    0.084  24 1.00         1                      \n",
       "3   3    0.02 25       34    0.142  24 1.00         1                      \n",
       "4   4    0.02 49       34    0.159  24 1.00         1                      \n",
       "5   5    0.02 46       34    0.184  24 1.00         1                      \n",
       "6   6    0.02 18       34    0.211  24 1.00         1                      \n",
       "7   7    0.02 19       34    0.221  24 1.00         1                      \n",
       "8   8    0.02 20       34    0.221  24 1.00         1                      \n",
       "9   9    0.02 29       34    0.233  24 1.00         1                      \n",
       "10 10    0.02 12       34    0.240  24 1.00         1                      \n",
       "11 11    0.02  6       34    0.248  24 1.00         1                      \n",
       "12 12    0.02  7       34    0.258  24 1.00         1                      \n",
       "13 13    0.02 17       34    0.258  24 1.00         1                      \n",
       "14 14    0.02 33       34    0.258  24 1.00         1                      \n",
       "15 15    0.02 34       34    0.258  24 1.00         1                      \n",
       "16 16    0.02  2       34       NA  24   NA         1                      \n",
       "17 17    0.02 28       34       NA  24   NA         1                      \n",
       "18 18    0.02 36       34       NA  24   NA         1                      \n",
       "19 19    0.02  8       34       NA  24   NA         1                      \n",
       "20 20    0.02 43       34       NA  24   NA         1                      \n",
       "21 21    0.02  1       34       NA  24   NA         1                      \n",
       "22 22    0.02 11       34       NA  24   NA         1                      \n",
       "23 23    0.02 13       34       NA  24   NA         1                      \n",
       "24 24    0.02  9       34       NA  24   NA         1                      \n",
       "   n_detected_gRNAs p_adj\n",
       "1  1                0.34 \n",
       "2  1                1.00 \n",
       "3  1                1.00 \n",
       "4  1                1.00 \n",
       "5  1                1.00 \n",
       "6  1                1.00 \n",
       "7  1                1.00 \n",
       "8  1                1.00 \n",
       "9  1                1.00 \n",
       "10 1                1.00 \n",
       "11 1                1.00 \n",
       "12 1                1.00 \n",
       "13 1                1.00 \n",
       "14 1                1.00 \n",
       "15 1                1.00 \n",
       "16 1                  NA \n",
       "17 1                  NA \n",
       "18 1                  NA \n",
       "19 1                  NA \n",
       "20 1                  NA \n",
       "21 1                  NA \n",
       "22 1                  NA \n",
       "23 1                  NA \n",
       "24 1                  NA "
      ]
     },
     "metadata": {},
     "output_type": "display_data"
    },
    {
     "data": {
      "text/html": [
       "828"
      ],
      "text/latex": [
       "828"
      ],
      "text/markdown": [
       "828"
      ],
      "text/plain": [
       "[1] 828"
      ]
     },
     "metadata": {},
     "output_type": "display_data"
    },
    {
     "data": {
      "text/html": [
       "<table class=\"dataframe\">\n",
       "<caption>A data.frame: 5 × 1</caption>\n",
       "<thead>\n",
       "\t<tr><th></th><th scope=col>cell_counts</th></tr>\n",
       "\t<tr><th></th><th scope=col>&lt;int&gt;</th></tr>\n",
       "</thead>\n",
       "<tbody>\n",
       "\t<tr><th scope=row>SETD2_4</th><td> 20</td></tr>\n",
       "\t<tr><th scope=row>TET2_3</th><td> 30</td></tr>\n",
       "\t<tr><th scope=row>KDM6A_1</th><td> 40</td></tr>\n",
       "\t<tr><th scope=row>SETD2_3</th><td>106</td></tr>\n",
       "\t<tr><th scope=row>MBD1_2</th><td>518</td></tr>\n",
       "</tbody>\n",
       "</table>\n"
      ],
      "text/latex": [
       "A data.frame: 5 × 1\n",
       "\\begin{tabular}{r|l}\n",
       "  & cell\\_counts\\\\\n",
       "  & <int>\\\\\n",
       "\\hline\n",
       "\tSETD2\\_4 &  20\\\\\n",
       "\tTET2\\_3 &  30\\\\\n",
       "\tKDM6A\\_1 &  40\\\\\n",
       "\tSETD2\\_3 & 106\\\\\n",
       "\tMBD1\\_2 & 518\\\\\n",
       "\\end{tabular}\n"
      ],
      "text/markdown": [
       "\n",
       "A data.frame: 5 × 1\n",
       "\n",
       "| <!--/--> | cell_counts &lt;int&gt; |\n",
       "|---|---|\n",
       "| SETD2_4 |  20 |\n",
       "| TET2_3 |  30 |\n",
       "| KDM6A_1 |  40 |\n",
       "| SETD2_3 | 106 |\n",
       "| MBD1_2 | 518 |\n",
       "\n"
      ],
      "text/plain": [
       "        cell_counts\n",
       "SETD2_4  20        \n",
       "TET2_3   30        \n",
       "KDM6A_1  40        \n",
       "SETD2_3 106        \n",
       "MBD1_2  518        "
      ]
     },
     "metadata": {},
     "output_type": "display_data"
    },
    {
     "data": {
      "image/png": "[encoded data removed]",
      "text/plain": [
       "plot without title"
      ]
     },
     "metadata": {
      "image/png": {
       "height": 240,
       "width": 720
      }
     },
     "output_type": "display_data"
    }
   ],
   "source": [
    "my_cell = 'AAACAGCCAAGCCACT-1'\n",
    "my_cell = 'CGGCTAATCATTTGTC-1'\n",
    "\n",
    "options(repr.plot.width = 12, repr.plot.height = 4)\n",
    "barplot(guide_counts[, my_cell], las=2)\n",
    "\n",
    "select_cell = gRNA_calls$cell == my_cell\n",
    "gRNA_calls[select_cell,]\n",
    "\n",
    "cell_counts = guide_counts[, my_cell]\n",
    "#data.frame(cell_counts/sum(cell_counts))\n",
    "sum(cell_counts)\n",
    "data.frame(cell_counts) %>% arrange(cell_counts) %>% tail(5)"
   ]
  },
  {
   "cell_type": "code",
   "execution_count": null,
   "metadata": {
    "vscode": {
     "languageId": "r"
    }
   },
   "outputs": [
    {
     "data": {
      "image/png": "[encoded data removed]",
      "text/plain": [
       "Plot with title \"Histogram of -log10(gRNA_calls$p_adj_nbinom)\""
      ]
     },
     "metadata": {
      "image/png": {
       "height": 180,
       "width": 480
      }
     },
     "output_type": "display_data"
    }
   ],
   "source": [
    "options(repr.plot.width = 8, repr.plot.height = 3)\n",
    "hist(-log10(gRNA_calls$p_adj_nbinom))"
   ]
  },
  {
   "cell_type": "code",
   "execution_count": null,
   "metadata": {
    "vscode": {
     "languageId": "r"
    }
   },
   "outputs": [
    {
     "data": {
      "text/html": [
       "0.150043503345374"
      ],
      "text/latex": [
       "0.150043503345374"
      ],
      "text/markdown": [
       "0.150043503345374"
      ],
      "text/plain": [
       "[1] 0.15"
      ]
     },
     "metadata": {},
     "output_type": "display_data"
    }
   ],
   "source": [
    "p_vals = gRNA_calls$p_adj_nbinom\n",
    "\n",
    "min(p_vals[!is.na(p_vals)])"
   ]
  },
  {
   "cell_type": "code",
   "execution_count": null,
   "metadata": {
    "vscode": {
     "languageId": "r"
    }
   },
   "outputs": [],
   "source": []
  }
 ],
 "metadata": {
  "kernelspec": {
   "display_name": "R",
   "language": "R",
   "name": "ir"
  },
  "language_info": {
   "codemirror_mode": "r",
   "file_extension": ".r",
   "mimetype": "text/x-r-source",
   "name": "R",
   "pygments_lexer": "r",
   "version": "4.2.2"
  },
  "orig_nbformat": 4
 },
 "nbformat": 4,
 "nbformat_minor": 2
}
