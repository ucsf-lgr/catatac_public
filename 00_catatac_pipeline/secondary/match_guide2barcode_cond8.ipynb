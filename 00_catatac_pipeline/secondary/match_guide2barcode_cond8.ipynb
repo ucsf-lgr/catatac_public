{
 "cells": [
  {
   "cell_type": "code",
   "execution_count": 1,
   "metadata": {
    "vscode": {
     "languageId": "r"
    }
   },
   "outputs": [
    {
     "name": "stderr",
     "output_type": "stream",
     "text": [
      "\n",
      "Attaching package: ‘dplyr’\n",
      "\n",
      "\n",
      "The following objects are masked from ‘package:stats’:\n",
      "\n",
      "    filter, lag\n",
      "\n",
      "\n",
      "The following objects are masked from ‘package:base’:\n",
      "\n",
      "    intersect, setdiff, setequal, union\n",
      "\n",
      "\n",
      "\n",
      "\n",
      "######################\n",
      "#### bedr v1.0.7 ####\n",
      "######################\n",
      "\n",
      "checking binary availability...\n",
      "  * Checking path for bedtools... PASS\n",
      "    /usr/local/bin/bedtools\n",
      "  * Checking path for bedops... PASS\n",
      "    /usr/bin/bedops\n",
      "  * Checking path for tabix... PASS\n",
      "    /usr/local/bin/tabix\n",
      "tests and examples will be skipped on R CMD check if binaries are missing\n",
      "\n",
      "\n",
      "Loading required package: BiocGenerics\n",
      "\n",
      "\n",
      "Attaching package: ‘BiocGenerics’\n",
      "\n",
      "\n",
      "The following objects are masked from ‘package:dplyr’:\n",
      "\n",
      "    combine, intersect, setdiff, union\n",
      "\n",
      "\n",
      "The following objects are masked from ‘package:stats’:\n",
      "\n",
      "    IQR, mad, sd, var, xtabs\n",
      "\n",
      "\n",
      "The following objects are masked from ‘package:base’:\n",
      "\n",
      "    anyDuplicated, append, as.data.frame, basename, cbind, colnames,\n",
      "    dirname, do.call, duplicated, eval, evalq, Filter, Find, get, grep,\n",
      "    grepl, intersect, is.unsorted, lapply, Map, mapply, match, mget,\n",
      "    order, paste, pmax, pmax.int, pmin, pmin.int, Position, rank,\n",
      "    rbind, Reduce, rownames, sapply, setdiff, sort, table, tapply,\n",
      "    union, unique, unsplit, which.max, which.min\n",
      "\n",
      "\n",
      "Loading required package: S4Vectors\n",
      "\n",
      "Loading required package: stats4\n",
      "\n",
      "\n",
      "Attaching package: ‘S4Vectors’\n",
      "\n",
      "\n",
      "The following objects are masked from ‘package:dplyr’:\n",
      "\n",
      "    first, rename\n",
      "\n",
      "\n",
      "The following objects are masked from ‘package:base’:\n",
      "\n",
      "    expand.grid, I, unname\n",
      "\n",
      "\n",
      "Loading required package: IRanges\n",
      "\n",
      "\n",
      "Attaching package: ‘IRanges’\n",
      "\n",
      "\n",
      "The following objects are masked from ‘package:dplyr’:\n",
      "\n",
      "    collapse, desc, slice\n",
      "\n",
      "\n",
      "Loading required package: XVector\n",
      "\n",
      "Loading required package: GenomeInfoDb\n",
      "\n",
      "\n",
      "Attaching package: ‘Biostrings’\n",
      "\n",
      "\n",
      "The following object is masked from ‘package:base’:\n",
      "\n",
      "    strsplit\n",
      "\n",
      "\n",
      "\n",
      "lessR 4.2.2                         feedback: gerbing@pdx.edu \n",
      "--------------------------------------------------------------\n",
      "> d <- Read(\"\")   Read text, Excel, SPSS, SAS, or R data file\n",
      "  d is default data frame, data= in analysis routines optional\n",
      "\n",
      "Learn about reading, writing, and manipulating data, graphics,\n",
      "testing means and proportions, regression, factor analysis,\n",
      "customization, and descriptive statistics from pivot tables.\n",
      "  Enter:  browseVignettes(\"lessR\")\n",
      "\n",
      "View changes in this or recent versions of lessR.\n",
      "  Enter: help(package=lessR)  Click: Package NEWS\n",
      "  Enter: interact()  for access to interactive graphics\n",
      "  New function: reshape_long() to move data from wide to long\n",
      "\n",
      "\n",
      "\n",
      "Attaching package: ‘lessR’\n",
      "\n",
      "\n",
      "The following objects are masked from ‘package:IRanges’:\n",
      "\n",
      "    reflect, to\n",
      "\n",
      "\n",
      "The following objects are masked from ‘package:S4Vectors’:\n",
      "\n",
      "    pc, rename, to, values\n",
      "\n",
      "\n",
      "The following objects are masked from ‘package:dplyr’:\n",
      "\n",
      "    recode, rename\n",
      "\n",
      "\n",
      "Registered S3 method overwritten by 'SeuratDisk':\n",
      "  method            from  \n",
      "  as.sparse.H5Group Seurat\n",
      "\n",
      "Attaching SeuratObject\n",
      "\n",
      "Attaching sp\n",
      "\n"
     ]
    }
   ],
   "source": [
    "library(dplyr)\n",
    "library(ggplot2)\n",
    "library(bedr)\n",
    "library(Biostrings)\n",
    "library(stringr)\n",
    "library(lessR)\n",
    "library(SeuratDisk)\n",
    "library(Seurat)"
   ]
  },
  {
   "cell_type": "code",
   "execution_count": 2,
   "metadata": {
    "vscode": {
     "languageId": "r"
    }
   },
   "outputs": [],
   "source": [
    "b2g_path <- \"/home/ayang/projects/cat-atac/cond8/tsv/\"\n",
    "multiomeH5name <- \"/home/jupyter-ayang/notebooks/cond8_ay/seurat_cond8.h5seurat\"\n",
    "barcode2guide_tsv_path <- paste0(b2g_path, \"CRISPR8_ALL_STRUCTURED.TSV\")\n",
    "xlsname <- paste0(\"/home/jupyter-ayang/notebooks/cond8_ay/\", \"CONDITION8_PIVOT.xlsx\")\n",
    "tsvname <- paste0(\"/home/jupyter-ayang/notebooks/cond8_ay/\", \"CONDITION8_PIVOT.TSV\")\n",
    "\n",
    "#setwd(\"/home/vsevim/prj/catatac/scripts\")"
   ]
  },
  {
   "cell_type": "code",
   "execution_count": 3,
   "metadata": {
    "vscode": {
     "languageId": "r"
    }
   },
   "outputs": [],
   "source": [
    "# main_path <- \"/home/vsevim/prj/catatac/analysis/Test2/condition4and5\"\n",
    "# b2g_path <- paste0(main_path, \"/barcode2guide-B/\")\n",
    "# multiomeH5name <- paste0(main_path, \"/seurat/Condition5.h5seurat\")\n",
    "# barcode2guide_tsv_path <- paste0(b2g_path, \"CRISPR5_ALL_STRUCTURED.TSV\")\n",
    "# xlsname <- paste0(b2g_path, \"CONDITION5_PIVOT.xlsx\")\n",
    "# tsvname <- paste0(b2g_path, \"CONDITION5_PIVOT.TSV\")\n",
    "# setwd(\"/home/vsevim/prj/catatac/scripts\")\n",
    "\n",
    "# main_path <- \"/home/vsevim/prj/catatac/analysis/Test3/cond6/\"\n",
    "# b2g_path <- paste0(main_path, \"guide_capture/barcode2guide/\")\n",
    "# multiomeH5name <- paste0(main_path, \"/seurat/cond6.h5seurat\")\n",
    "# barcode2guide_tsv_path <- paste0(b2g_path, \"CRISPR6_ALL_STRUCTURED.TSV\")\n",
    "# xlsname <- paste0(b2g_path, \"CONDITION6_PIVOT.xlsx\")\n",
    "# tsvname <- paste0(b2g_path, \"CONDITION6_PIVOT.TSV\")\n",
    "\n",
    "setwd(\"/home/vsevim/prj/catatac/scripts\")"
   ]
  },
  {
   "cell_type": "code",
   "execution_count": 4,
   "metadata": {
    "vscode": {
     "languageId": "r"
    }
   },
   "outputs": [],
   "source": [
    "stats <- c()"
   ]
  },
  {
   "cell_type": "code",
   "execution_count": 5,
   "metadata": {
    "vscode": {
     "languageId": "r"
    }
   },
   "outputs": [
    {
     "data": {
      "text/html": [
       "'/home/ayang/projects/cat-atac/cond8/tsv/CRISPR8_ALL_STRUCTURED.TSV'"
      ],
      "text/latex": [
       "'/home/ayang/projects/cat-atac/cond8/tsv/CRISPR8\\_ALL\\_STRUCTURED.TSV'"
      ],
      "text/markdown": [
       "'/home/ayang/projects/cat-atac/cond8/tsv/CRISPR8_ALL_STRUCTURED.TSV'"
      ],
      "text/plain": [
       "[1] \"/home/ayang/projects/cat-atac/cond8/tsv/CRISPR8_ALL_STRUCTURED.TSV\""
      ]
     },
     "metadata": {},
     "output_type": "display_data"
    }
   ],
   "source": [
    "barcode2guide_tsv_path"
   ]
  },
  {
   "cell_type": "markdown",
   "metadata": {},
   "source": [
    "# Load and analyze guide capture"
   ]
  },
  {
   "cell_type": "code",
   "execution_count": 6,
   "metadata": {
    "vscode": {
     "languageId": "r"
    }
   },
   "outputs": [],
   "source": [
    "df_barcode2guide <-\n",
    "    read.table(barcode2guide_tsv_path, header = TRUE, sep = \"\\t\", quote = \"\")\n",
    "\n",
    "df_barcode2guide <-\n",
    "    data.frame(lapply(df_barcode2guide, trimws), stringsAsFactors = FALSE)\n",
    "\n",
    "stats[[\"Guide-capture UMI counts\"]] <- nrow(df_barcode2guide)\n",
    "\n",
    "# Some ATAC barcodes are not associated with a GEX barcode\n",
    "# I think those are just sequencing errors. I remove those from the list\n",
    "select_valid_barcodes <- df_barcode2guide$barcode != \"\"\n",
    "df_barcode2guide <- df_barcode2guide[select_valid_barcodes, ]\n",
    "\n",
    "stats[[\"Guide-capture UMI counts after removing empty barcodes\"]] <-\n",
    "    nrow(df_barcode2guide)\n",
    "\n",
    "# Append \"-1\" to the barcodes. Cellranger appends this number to distinguish\n",
    "# different samples in aggregated files.\n",
    "dummy  <- DNAStringSet(df_barcode2guide$barcode)\n",
    "df_barcode2guide$barcode_dash <- paste0(dummy, \"-1\")"
   ]
  },
  {
   "cell_type": "markdown",
   "metadata": {},
   "source": [
    "### Eliminate PCR duplicates of the UMIs from the same barcode"
   ]
  },
  {
   "cell_type": "code",
   "execution_count": 7,
   "metadata": {
    "vscode": {
     "languageId": "r"
    }
   },
   "outputs": [],
   "source": [
    "# I already deduplicated guide umis. No more dedup is necessary.\n",
    "df_deduped <- df_barcode2guide\n",
    "\n",
    "# df_deduped <- df_barcode2guide %>% distinct(gene, umi, .keep_all = TRUE)\n",
    "\n",
    "stats[[\"Guide-capture UMI counts after removing PCR duplicates\"]] <-\n",
    "    nrow(df_deduped)\n",
    "\n",
    "# dim(df_deduped)"
   ]
  },
  {
   "cell_type": "code",
   "execution_count": 8,
   "metadata": {
    "vscode": {
     "languageId": "r"
    }
   },
   "outputs": [
    {
     "data": {
      "text/html": [
       "<table class=\"dataframe\">\n",
       "<caption>A data.frame: 6 × 8</caption>\n",
       "<thead>\n",
       "\t<tr><th></th><th scope=col>atac_barcode</th><th scope=col>umi</th><th scope=col>protospacer</th><th scope=col>guide</th><th scope=col>gene</th><th scope=col>read_name</th><th scope=col>barcode</th><th scope=col>barcode_dash</th></tr>\n",
       "\t<tr><th></th><th scope=col>&lt;chr&gt;</th><th scope=col>&lt;chr&gt;</th><th scope=col>&lt;chr&gt;</th><th scope=col>&lt;chr&gt;</th><th scope=col>&lt;chr&gt;</th><th scope=col>&lt;chr&gt;</th><th scope=col>&lt;chr&gt;</th><th scope=col>&lt;chr&gt;</th></tr>\n",
       "</thead>\n",
       "<tbody>\n",
       "\t<tr><th scope=row>1</th><td>GGGTTGCAGTCAATCT</td><td>TGAAATAAAGTA</td><td>GCTGACCCTGCGGGGAAGAA</td><td>GATA5_1</td><td>GATA5</td><td>A00351:759:H5G5LDSX5:4:1101:6126:1016 </td><td>ACAACACTCCTCACTA</td><td>ACAACACTCCTCACTA-1</td></tr>\n",
       "\t<tr><th scope=row>2</th><td>GTTCGTTCACAAGGCT</td><td>TGGTGTTCTATT</td><td>GCTGACCCTGCGGGGAAGAA</td><td>GATA5_1</td><td>GATA5</td><td>A00351:759:H5G5LDSX5:4:1101:9399:1016 </td><td>CACAAGCGTTGGTTCT</td><td>CACAAGCGTTGGTTCT-1</td></tr>\n",
       "\t<tr><th scope=row>3</th><td>CAGAATCAGGTATGTA</td><td>TTTATTGGGTTT</td><td>GCTGACCCTGCGGGGAAGAA</td><td>GATA5_1</td><td>GATA5</td><td>A00351:759:H5G5LDSX5:4:1101:19343:1047</td><td>GTAGCCATCGAGCTAT</td><td>GTAGCCATCGAGCTAT-1</td></tr>\n",
       "\t<tr><th scope=row>4</th><td>CGCGATAAGTCATGAA</td><td>GTATTAGAATTG</td><td>GCTGACCCTGCGGGGAAGAA</td><td>GATA5_1</td><td>GATA5</td><td>A00351:759:H5G5LDSX5:4:1101:8196:1063 </td><td>TCTCAATTCGGTTAGT</td><td>TCTCAATTCGGTTAGT-1</td></tr>\n",
       "\t<tr><th scope=row>5</th><td>TGGGCGTAGTAACCGG</td><td>TTGCACTGTGTG</td><td>GCTGACCCTGCGGGGAAGAA</td><td>GATA5_1</td><td>GATA5</td><td>A00351:759:H5G5LDSX5:4:1101:10981:1063</td><td>TGCTTCATCCGTTAAA</td><td>TGCTTCATCCGTTAAA-1</td></tr>\n",
       "\t<tr><th scope=row>6</th><td>TACCTGCAGTTTCTGG</td><td>CTAATACTAAAT</td><td>GCTGACCCTGCGGGGAAGAA</td><td>GATA5_1</td><td>GATA5</td><td>A00351:759:H5G5LDSX5:4:1101:4969:1078 </td><td>TAAGCTATCCTAAGTA</td><td>TAAGCTATCCTAAGTA-1</td></tr>\n",
       "</tbody>\n",
       "</table>\n"
      ],
      "text/latex": [
       "A data.frame: 6 × 8\n",
       "\\begin{tabular}{r|llllllll}\n",
       "  & atac\\_barcode & umi & protospacer & guide & gene & read\\_name & barcode & barcode\\_dash\\\\\n",
       "  & <chr> & <chr> & <chr> & <chr> & <chr> & <chr> & <chr> & <chr>\\\\\n",
       "\\hline\n",
       "\t1 & GGGTTGCAGTCAATCT & TGAAATAAAGTA & GCTGACCCTGCGGGGAAGAA & GATA5\\_1 & GATA5 & A00351:759:H5G5LDSX5:4:1101:6126:1016  & ACAACACTCCTCACTA & ACAACACTCCTCACTA-1\\\\\n",
       "\t2 & GTTCGTTCACAAGGCT & TGGTGTTCTATT & GCTGACCCTGCGGGGAAGAA & GATA5\\_1 & GATA5 & A00351:759:H5G5LDSX5:4:1101:9399:1016  & CACAAGCGTTGGTTCT & CACAAGCGTTGGTTCT-1\\\\\n",
       "\t3 & CAGAATCAGGTATGTA & TTTATTGGGTTT & GCTGACCCTGCGGGGAAGAA & GATA5\\_1 & GATA5 & A00351:759:H5G5LDSX5:4:1101:19343:1047 & GTAGCCATCGAGCTAT & GTAGCCATCGAGCTAT-1\\\\\n",
       "\t4 & CGCGATAAGTCATGAA & GTATTAGAATTG & GCTGACCCTGCGGGGAAGAA & GATA5\\_1 & GATA5 & A00351:759:H5G5LDSX5:4:1101:8196:1063  & TCTCAATTCGGTTAGT & TCTCAATTCGGTTAGT-1\\\\\n",
       "\t5 & TGGGCGTAGTAACCGG & TTGCACTGTGTG & GCTGACCCTGCGGGGAAGAA & GATA5\\_1 & GATA5 & A00351:759:H5G5LDSX5:4:1101:10981:1063 & TGCTTCATCCGTTAAA & TGCTTCATCCGTTAAA-1\\\\\n",
       "\t6 & TACCTGCAGTTTCTGG & CTAATACTAAAT & GCTGACCCTGCGGGGAAGAA & GATA5\\_1 & GATA5 & A00351:759:H5G5LDSX5:4:1101:4969:1078  & TAAGCTATCCTAAGTA & TAAGCTATCCTAAGTA-1\\\\\n",
       "\\end{tabular}\n"
      ],
      "text/markdown": [
       "\n",
       "A data.frame: 6 × 8\n",
       "\n",
       "| <!--/--> | atac_barcode &lt;chr&gt; | umi &lt;chr&gt; | protospacer &lt;chr&gt; | guide &lt;chr&gt; | gene &lt;chr&gt; | read_name &lt;chr&gt; | barcode &lt;chr&gt; | barcode_dash &lt;chr&gt; |\n",
       "|---|---|---|---|---|---|---|---|---|\n",
       "| 1 | GGGTTGCAGTCAATCT | TGAAATAAAGTA | GCTGACCCTGCGGGGAAGAA | GATA5_1 | GATA5 | A00351:759:H5G5LDSX5:4:1101:6126:1016  | ACAACACTCCTCACTA | ACAACACTCCTCACTA-1 |\n",
       "| 2 | GTTCGTTCACAAGGCT | TGGTGTTCTATT | GCTGACCCTGCGGGGAAGAA | GATA5_1 | GATA5 | A00351:759:H5G5LDSX5:4:1101:9399:1016  | CACAAGCGTTGGTTCT | CACAAGCGTTGGTTCT-1 |\n",
       "| 3 | CAGAATCAGGTATGTA | TTTATTGGGTTT | GCTGACCCTGCGGGGAAGAA | GATA5_1 | GATA5 | A00351:759:H5G5LDSX5:4:1101:19343:1047 | GTAGCCATCGAGCTAT | GTAGCCATCGAGCTAT-1 |\n",
       "| 4 | CGCGATAAGTCATGAA | GTATTAGAATTG | GCTGACCCTGCGGGGAAGAA | GATA5_1 | GATA5 | A00351:759:H5G5LDSX5:4:1101:8196:1063  | TCTCAATTCGGTTAGT | TCTCAATTCGGTTAGT-1 |\n",
       "| 5 | TGGGCGTAGTAACCGG | TTGCACTGTGTG | GCTGACCCTGCGGGGAAGAA | GATA5_1 | GATA5 | A00351:759:H5G5LDSX5:4:1101:10981:1063 | TGCTTCATCCGTTAAA | TGCTTCATCCGTTAAA-1 |\n",
       "| 6 | TACCTGCAGTTTCTGG | CTAATACTAAAT | GCTGACCCTGCGGGGAAGAA | GATA5_1 | GATA5 | A00351:759:H5G5LDSX5:4:1101:4969:1078  | TAAGCTATCCTAAGTA | TAAGCTATCCTAAGTA-1 |\n",
       "\n"
      ],
      "text/plain": [
       "  atac_barcode     umi          protospacer          guide   gene \n",
       "1 GGGTTGCAGTCAATCT TGAAATAAAGTA GCTGACCCTGCGGGGAAGAA GATA5_1 GATA5\n",
       "2 GTTCGTTCACAAGGCT TGGTGTTCTATT GCTGACCCTGCGGGGAAGAA GATA5_1 GATA5\n",
       "3 CAGAATCAGGTATGTA TTTATTGGGTTT GCTGACCCTGCGGGGAAGAA GATA5_1 GATA5\n",
       "4 CGCGATAAGTCATGAA GTATTAGAATTG GCTGACCCTGCGGGGAAGAA GATA5_1 GATA5\n",
       "5 TGGGCGTAGTAACCGG TTGCACTGTGTG GCTGACCCTGCGGGGAAGAA GATA5_1 GATA5\n",
       "6 TACCTGCAGTTTCTGG CTAATACTAAAT GCTGACCCTGCGGGGAAGAA GATA5_1 GATA5\n",
       "  read_name                              barcode          barcode_dash      \n",
       "1 A00351:759:H5G5LDSX5:4:1101:6126:1016  ACAACACTCCTCACTA ACAACACTCCTCACTA-1\n",
       "2 A00351:759:H5G5LDSX5:4:1101:9399:1016  CACAAGCGTTGGTTCT CACAAGCGTTGGTTCT-1\n",
       "3 A00351:759:H5G5LDSX5:4:1101:19343:1047 GTAGCCATCGAGCTAT GTAGCCATCGAGCTAT-1\n",
       "4 A00351:759:H5G5LDSX5:4:1101:8196:1063  TCTCAATTCGGTTAGT TCTCAATTCGGTTAGT-1\n",
       "5 A00351:759:H5G5LDSX5:4:1101:10981:1063 TGCTTCATCCGTTAAA TGCTTCATCCGTTAAA-1\n",
       "6 A00351:759:H5G5LDSX5:4:1101:4969:1078  TAAGCTATCCTAAGTA TAAGCTATCCTAAGTA-1"
      ]
     },
     "metadata": {},
     "output_type": "display_data"
    }
   ],
   "source": [
    "head(df_deduped)"
   ]
  },
  {
   "cell_type": "markdown",
   "metadata": {},
   "source": [
    "# Build a df for all barcodes"
   ]
  },
  {
   "cell_type": "markdown",
   "metadata": {},
   "source": [
    "Summerizing the umi counts, guide counts etc. Find the barcodes that are associated with multiple genes."
   ]
  },
  {
   "cell_type": "code",
   "execution_count": 9,
   "metadata": {
    "vscode": {
     "languageId": "r"
    }
   },
   "outputs": [],
   "source": [
    "# Build two new dfs to summerize guide and gene counts\n",
    "df_gene_counts <- pivot(df_deduped, table, gene, barcode)\n",
    "df_guide_counts <- pivot(df_deduped, table, guide, barcode)\n",
    "\n",
    "# Drop unused columns\n",
    "df_gene_counts <- select(df_gene_counts, -gene_na, -gene_n)\n",
    "df_barcodes <- select(df_guide_counts, -guide_na)\n",
    "\n",
    "## Don't need to merge guides, since we want to demux by individual PS\n",
    "## Merge guide and gene columns\n",
    "##df_barcodes <- merge(df_gene_counts, df_guide_counts, by = \"barcode\")\n",
    "\n",
    "# n_guides is umi count\n",
    "df_barcodes <- dplyr:::rename(df_barcodes, n_guides = guide_n)\n",
    "\n",
    "# Add a \"-1\" to barcode names to match with multiome barcode\n",
    "# names from cellranger.\n",
    "dummy  <- DNAStringSet(df_barcodes$barcode)\n",
    "df_barcodes$barcode_dash <- paste0(dummy, \"-1\")\n"
   ]
  },
  {
   "cell_type": "code",
   "execution_count": 10,
   "metadata": {
    "vscode": {
     "languageId": "r"
    }
   },
   "outputs": [
    {
     "data": {
      "text/html": [
       "134"
      ],
      "text/latex": [
       "134"
      ],
      "text/markdown": [
       "134"
      ],
      "text/plain": [
       "[1] 134"
      ]
     },
     "metadata": {},
     "output_type": "display_data"
    },
    {
     "data": {
      "text/html": [
       "<table class=\"dataframe\">\n",
       "<caption>A data.frame: 10 × 11</caption>\n",
       "<thead>\n",
       "\t<tr><th></th><th scope=col>barcode</th><th scope=col>n_guides</th><th scope=col>GATA5_1</th><th scope=col>GATA5_2</th><th scope=col>MEOX1_1</th><th scope=col>MEOX1_2</th><th scope=col>NEUROG2_1</th><th scope=col>NEUROG2_2</th><th scope=col>NTCTL_1</th><th scope=col>NTCTL_2</th><th scope=col>barcode_dash</th></tr>\n",
       "\t<tr><th></th><th scope=col>&lt;fct&gt;</th><th scope=col>&lt;int&gt;</th><th scope=col>&lt;dbl&gt;</th><th scope=col>&lt;dbl&gt;</th><th scope=col>&lt;dbl&gt;</th><th scope=col>&lt;dbl&gt;</th><th scope=col>&lt;dbl&gt;</th><th scope=col>&lt;dbl&gt;</th><th scope=col>&lt;dbl&gt;</th><th scope=col>&lt;dbl&gt;</th><th scope=col>&lt;chr&gt;</th></tr>\n",
       "</thead>\n",
       "<tbody>\n",
       "\t<tr><th scope=row>1</th><td>AAACAGCCAAACTGCC</td><td> 50</td><td> 1</td><td>10</td><td> 25</td><td>0</td><td> 4</td><td> 2</td><td> 1</td><td> 7</td><td>AAACAGCCAAACTGCC-1</td></tr>\n",
       "\t<tr><th scope=row>2</th><td>AAACAGCCAAAGCCTC</td><td>193</td><td>93</td><td>14</td><td> 34</td><td>0</td><td> 9</td><td>20</td><td> 0</td><td>23</td><td>AAACAGCCAAAGCCTC-1</td></tr>\n",
       "\t<tr><th scope=row>3</th><td>AAACAGCCAAATGCCC</td><td>166</td><td>42</td><td> 0</td><td>102</td><td>0</td><td> 0</td><td>13</td><td> 0</td><td> 9</td><td>AAACAGCCAAATGCCC-1</td></tr>\n",
       "\t<tr><th scope=row>4</th><td>AAACAGCCAACCGCCA</td><td>219</td><td>17</td><td> 5</td><td> 80</td><td>2</td><td>20</td><td>64</td><td>11</td><td>20</td><td>AAACAGCCAACCGCCA-1</td></tr>\n",
       "\t<tr><th scope=row>5</th><td>AAACAGCCAAGCGAGC</td><td>121</td><td> 8</td><td> 7</td><td> 36</td><td>7</td><td>17</td><td>42</td><td> 0</td><td> 4</td><td>AAACAGCCAAGCGAGC-1</td></tr>\n",
       "\t<tr><th scope=row>6</th><td>AAACAGCCAATAGCAA</td><td> 98</td><td>12</td><td> 3</td><td> 23</td><td>9</td><td>30</td><td> 4</td><td> 0</td><td>17</td><td>AAACAGCCAATAGCAA-1</td></tr>\n",
       "\t<tr><th scope=row>7</th><td>AAACAGCCAATCGCAC</td><td> 29</td><td> 4</td><td> 0</td><td> 13</td><td>0</td><td> 0</td><td> 1</td><td> 0</td><td>11</td><td>AAACAGCCAATCGCAC-1</td></tr>\n",
       "\t<tr><th scope=row>8</th><td>AAACAGCCAATTAAGG</td><td> 84</td><td> 0</td><td> 0</td><td> 39</td><td>0</td><td> 5</td><td>16</td><td> 8</td><td>16</td><td>AAACAGCCAATTAAGG-1</td></tr>\n",
       "\t<tr><th scope=row>9</th><td>AAACAGCCAATTATGC</td><td>175</td><td>35</td><td>37</td><td> 62</td><td>8</td><td> 0</td><td>20</td><td>13</td><td> 0</td><td>AAACAGCCAATTATGC-1</td></tr>\n",
       "\t<tr><th scope=row>10</th><td>AAACAGCCACACTAAT</td><td>102</td><td> 5</td><td> 5</td><td> 41</td><td>2</td><td> 0</td><td>40</td><td> 8</td><td> 1</td><td>AAACAGCCACACTAAT-1</td></tr>\n",
       "</tbody>\n",
       "</table>\n"
      ],
      "text/latex": [
       "A data.frame: 10 × 11\n",
       "\\begin{tabular}{r|lllllllllll}\n",
       "  & barcode & n\\_guides & GATA5\\_1 & GATA5\\_2 & MEOX1\\_1 & MEOX1\\_2 & NEUROG2\\_1 & NEUROG2\\_2 & NTCTL\\_1 & NTCTL\\_2 & barcode\\_dash\\\\\n",
       "  & <fct> & <int> & <dbl> & <dbl> & <dbl> & <dbl> & <dbl> & <dbl> & <dbl> & <dbl> & <chr>\\\\\n",
       "\\hline\n",
       "\t1 & AAACAGCCAAACTGCC &  50 &  1 & 10 &  25 & 0 &  4 &  2 &  1 &  7 & AAACAGCCAAACTGCC-1\\\\\n",
       "\t2 & AAACAGCCAAAGCCTC & 193 & 93 & 14 &  34 & 0 &  9 & 20 &  0 & 23 & AAACAGCCAAAGCCTC-1\\\\\n",
       "\t3 & AAACAGCCAAATGCCC & 166 & 42 &  0 & 102 & 0 &  0 & 13 &  0 &  9 & AAACAGCCAAATGCCC-1\\\\\n",
       "\t4 & AAACAGCCAACCGCCA & 219 & 17 &  5 &  80 & 2 & 20 & 64 & 11 & 20 & AAACAGCCAACCGCCA-1\\\\\n",
       "\t5 & AAACAGCCAAGCGAGC & 121 &  8 &  7 &  36 & 7 & 17 & 42 &  0 &  4 & AAACAGCCAAGCGAGC-1\\\\\n",
       "\t6 & AAACAGCCAATAGCAA &  98 & 12 &  3 &  23 & 9 & 30 &  4 &  0 & 17 & AAACAGCCAATAGCAA-1\\\\\n",
       "\t7 & AAACAGCCAATCGCAC &  29 &  4 &  0 &  13 & 0 &  0 &  1 &  0 & 11 & AAACAGCCAATCGCAC-1\\\\\n",
       "\t8 & AAACAGCCAATTAAGG &  84 &  0 &  0 &  39 & 0 &  5 & 16 &  8 & 16 & AAACAGCCAATTAAGG-1\\\\\n",
       "\t9 & AAACAGCCAATTATGC & 175 & 35 & 37 &  62 & 8 &  0 & 20 & 13 &  0 & AAACAGCCAATTATGC-1\\\\\n",
       "\t10 & AAACAGCCACACTAAT & 102 &  5 &  5 &  41 & 2 &  0 & 40 &  8 &  1 & AAACAGCCACACTAAT-1\\\\\n",
       "\\end{tabular}\n"
      ],
      "text/markdown": [
       "\n",
       "A data.frame: 10 × 11\n",
       "\n",
       "| <!--/--> | barcode &lt;fct&gt; | n_guides &lt;int&gt; | GATA5_1 &lt;dbl&gt; | GATA5_2 &lt;dbl&gt; | MEOX1_1 &lt;dbl&gt; | MEOX1_2 &lt;dbl&gt; | NEUROG2_1 &lt;dbl&gt; | NEUROG2_2 &lt;dbl&gt; | NTCTL_1 &lt;dbl&gt; | NTCTL_2 &lt;dbl&gt; | barcode_dash &lt;chr&gt; |\n",
       "|---|---|---|---|---|---|---|---|---|---|---|---|\n",
       "| 1 | AAACAGCCAAACTGCC |  50 |  1 | 10 |  25 | 0 |  4 |  2 |  1 |  7 | AAACAGCCAAACTGCC-1 |\n",
       "| 2 | AAACAGCCAAAGCCTC | 193 | 93 | 14 |  34 | 0 |  9 | 20 |  0 | 23 | AAACAGCCAAAGCCTC-1 |\n",
       "| 3 | AAACAGCCAAATGCCC | 166 | 42 |  0 | 102 | 0 |  0 | 13 |  0 |  9 | AAACAGCCAAATGCCC-1 |\n",
       "| 4 | AAACAGCCAACCGCCA | 219 | 17 |  5 |  80 | 2 | 20 | 64 | 11 | 20 | AAACAGCCAACCGCCA-1 |\n",
       "| 5 | AAACAGCCAAGCGAGC | 121 |  8 |  7 |  36 | 7 | 17 | 42 |  0 |  4 | AAACAGCCAAGCGAGC-1 |\n",
       "| 6 | AAACAGCCAATAGCAA |  98 | 12 |  3 |  23 | 9 | 30 |  4 |  0 | 17 | AAACAGCCAATAGCAA-1 |\n",
       "| 7 | AAACAGCCAATCGCAC |  29 |  4 |  0 |  13 | 0 |  0 |  1 |  0 | 11 | AAACAGCCAATCGCAC-1 |\n",
       "| 8 | AAACAGCCAATTAAGG |  84 |  0 |  0 |  39 | 0 |  5 | 16 |  8 | 16 | AAACAGCCAATTAAGG-1 |\n",
       "| 9 | AAACAGCCAATTATGC | 175 | 35 | 37 |  62 | 8 |  0 | 20 | 13 |  0 | AAACAGCCAATTATGC-1 |\n",
       "| 10 | AAACAGCCACACTAAT | 102 |  5 |  5 |  41 | 2 |  0 | 40 |  8 |  1 | AAACAGCCACACTAAT-1 |\n",
       "\n"
      ],
      "text/plain": [
       "   barcode          n_guides GATA5_1 GATA5_2 MEOX1_1 MEOX1_2 NEUROG2_1\n",
       "1  AAACAGCCAAACTGCC  50       1      10       25     0        4       \n",
       "2  AAACAGCCAAAGCCTC 193      93      14       34     0        9       \n",
       "3  AAACAGCCAAATGCCC 166      42       0      102     0        0       \n",
       "4  AAACAGCCAACCGCCA 219      17       5       80     2       20       \n",
       "5  AAACAGCCAAGCGAGC 121       8       7       36     7       17       \n",
       "6  AAACAGCCAATAGCAA  98      12       3       23     9       30       \n",
       "7  AAACAGCCAATCGCAC  29       4       0       13     0        0       \n",
       "8  AAACAGCCAATTAAGG  84       0       0       39     0        5       \n",
       "9  AAACAGCCAATTATGC 175      35      37       62     8        0       \n",
       "10 AAACAGCCACACTAAT 102       5       5       41     2        0       \n",
       "   NEUROG2_2 NTCTL_1 NTCTL_2 barcode_dash      \n",
       "1   2         1       7      AAACAGCCAAACTGCC-1\n",
       "2  20         0      23      AAACAGCCAAAGCCTC-1\n",
       "3  13         0       9      AAACAGCCAAATGCCC-1\n",
       "4  64        11      20      AAACAGCCAACCGCCA-1\n",
       "5  42         0       4      AAACAGCCAAGCGAGC-1\n",
       "6   4         0      17      AAACAGCCAATAGCAA-1\n",
       "7   1         0      11      AAACAGCCAATCGCAC-1\n",
       "8  16         8      16      AAACAGCCAATTAAGG-1\n",
       "9  20        13       0      AAACAGCCAATTATGC-1\n",
       "10 40         8       1      AAACAGCCACACTAAT-1"
      ]
     },
     "metadata": {},
     "output_type": "display_data"
    }
   ],
   "source": [
    "median(df_barcodes$n_guides)\n",
    "head(df_barcodes, 10)"
   ]
  },
  {
   "cell_type": "markdown",
   "metadata": {},
   "source": [
    "Find the dominant targeted gene and calculate its percantage"
   ]
  },
  {
   "cell_type": "code",
   "execution_count": 11,
   "metadata": {
    "vscode": {
     "languageId": "r"
    }
   },
   "outputs": [],
   "source": [
    "df_gene_counts <- select(df_barcodes, GATA5_1, GATA5_2, MEOX1_1, MEOX1_2, NEUROG2_1, NEUROG2_2, NTCTL_1, NTCTL_2)\n",
    "#df_gene_counts <- select(df_barcodes, GATA5, MEOX1, NEUROG2, NTCTL)\n",
    "dominant_gene  <- colnames(df_gene_counts)[apply(df_gene_counts, 1, which.max)]\n",
    "dominant_gene_count <- apply(df_gene_counts, 1, max)\n",
    "\n",
    "# Dominant gene name is randomly picked if two genes\n",
    "# targeted with same number of guides\n",
    "df_barcodes$dominant_gene_w_caveat <- dominant_gene\n",
    "df_barcodes$dominant_gene_count <- dominant_gene_count"
   ]
  },
  {
   "cell_type": "code",
   "execution_count": 12,
   "metadata": {},
   "outputs": [
    {
     "data": {
      "text/html": [
       "<table class=\"dataframe\">\n",
       "<caption>A data.frame: 6 × 13</caption>\n",
       "<thead>\n",
       "\t<tr><th></th><th scope=col>barcode</th><th scope=col>n_guides</th><th scope=col>GATA5_1</th><th scope=col>GATA5_2</th><th scope=col>MEOX1_1</th><th scope=col>MEOX1_2</th><th scope=col>NEUROG2_1</th><th scope=col>NEUROG2_2</th><th scope=col>NTCTL_1</th><th scope=col>NTCTL_2</th><th scope=col>barcode_dash</th><th scope=col>dominant_gene_w_caveat</th><th scope=col>dominant_gene_count</th></tr>\n",
       "\t<tr><th></th><th scope=col>&lt;fct&gt;</th><th scope=col>&lt;int&gt;</th><th scope=col>&lt;dbl&gt;</th><th scope=col>&lt;dbl&gt;</th><th scope=col>&lt;dbl&gt;</th><th scope=col>&lt;dbl&gt;</th><th scope=col>&lt;dbl&gt;</th><th scope=col>&lt;dbl&gt;</th><th scope=col>&lt;dbl&gt;</th><th scope=col>&lt;dbl&gt;</th><th scope=col>&lt;chr&gt;</th><th scope=col>&lt;chr&gt;</th><th scope=col>&lt;dbl&gt;</th></tr>\n",
       "</thead>\n",
       "<tbody>\n",
       "\t<tr><th scope=row>1</th><td>AAACAGCCAAACTGCC</td><td> 50</td><td> 1</td><td>10</td><td> 25</td><td>0</td><td> 4</td><td> 2</td><td> 1</td><td> 7</td><td>AAACAGCCAAACTGCC-1</td><td>MEOX1_1  </td><td> 25</td></tr>\n",
       "\t<tr><th scope=row>2</th><td>AAACAGCCAAAGCCTC</td><td>193</td><td>93</td><td>14</td><td> 34</td><td>0</td><td> 9</td><td>20</td><td> 0</td><td>23</td><td>AAACAGCCAAAGCCTC-1</td><td>GATA5_1  </td><td> 93</td></tr>\n",
       "\t<tr><th scope=row>3</th><td>AAACAGCCAAATGCCC</td><td>166</td><td>42</td><td> 0</td><td>102</td><td>0</td><td> 0</td><td>13</td><td> 0</td><td> 9</td><td>AAACAGCCAAATGCCC-1</td><td>MEOX1_1  </td><td>102</td></tr>\n",
       "\t<tr><th scope=row>4</th><td>AAACAGCCAACCGCCA</td><td>219</td><td>17</td><td> 5</td><td> 80</td><td>2</td><td>20</td><td>64</td><td>11</td><td>20</td><td>AAACAGCCAACCGCCA-1</td><td>MEOX1_1  </td><td> 80</td></tr>\n",
       "\t<tr><th scope=row>5</th><td>AAACAGCCAAGCGAGC</td><td>121</td><td> 8</td><td> 7</td><td> 36</td><td>7</td><td>17</td><td>42</td><td> 0</td><td> 4</td><td>AAACAGCCAAGCGAGC-1</td><td>NEUROG2_2</td><td> 42</td></tr>\n",
       "\t<tr><th scope=row>6</th><td>AAACAGCCAATAGCAA</td><td> 98</td><td>12</td><td> 3</td><td> 23</td><td>9</td><td>30</td><td> 4</td><td> 0</td><td>17</td><td>AAACAGCCAATAGCAA-1</td><td>NEUROG2_1</td><td> 30</td></tr>\n",
       "</tbody>\n",
       "</table>\n"
      ],
      "text/latex": [
       "A data.frame: 6 × 13\n",
       "\\begin{tabular}{r|lllllllllllll}\n",
       "  & barcode & n\\_guides & GATA5\\_1 & GATA5\\_2 & MEOX1\\_1 & MEOX1\\_2 & NEUROG2\\_1 & NEUROG2\\_2 & NTCTL\\_1 & NTCTL\\_2 & barcode\\_dash & dominant\\_gene\\_w\\_caveat & dominant\\_gene\\_count\\\\\n",
       "  & <fct> & <int> & <dbl> & <dbl> & <dbl> & <dbl> & <dbl> & <dbl> & <dbl> & <dbl> & <chr> & <chr> & <dbl>\\\\\n",
       "\\hline\n",
       "\t1 & AAACAGCCAAACTGCC &  50 &  1 & 10 &  25 & 0 &  4 &  2 &  1 &  7 & AAACAGCCAAACTGCC-1 & MEOX1\\_1   &  25\\\\\n",
       "\t2 & AAACAGCCAAAGCCTC & 193 & 93 & 14 &  34 & 0 &  9 & 20 &  0 & 23 & AAACAGCCAAAGCCTC-1 & GATA5\\_1   &  93\\\\\n",
       "\t3 & AAACAGCCAAATGCCC & 166 & 42 &  0 & 102 & 0 &  0 & 13 &  0 &  9 & AAACAGCCAAATGCCC-1 & MEOX1\\_1   & 102\\\\\n",
       "\t4 & AAACAGCCAACCGCCA & 219 & 17 &  5 &  80 & 2 & 20 & 64 & 11 & 20 & AAACAGCCAACCGCCA-1 & MEOX1\\_1   &  80\\\\\n",
       "\t5 & AAACAGCCAAGCGAGC & 121 &  8 &  7 &  36 & 7 & 17 & 42 &  0 &  4 & AAACAGCCAAGCGAGC-1 & NEUROG2\\_2 &  42\\\\\n",
       "\t6 & AAACAGCCAATAGCAA &  98 & 12 &  3 &  23 & 9 & 30 &  4 &  0 & 17 & AAACAGCCAATAGCAA-1 & NEUROG2\\_1 &  30\\\\\n",
       "\\end{tabular}\n"
      ],
      "text/markdown": [
       "\n",
       "A data.frame: 6 × 13\n",
       "\n",
       "| <!--/--> | barcode &lt;fct&gt; | n_guides &lt;int&gt; | GATA5_1 &lt;dbl&gt; | GATA5_2 &lt;dbl&gt; | MEOX1_1 &lt;dbl&gt; | MEOX1_2 &lt;dbl&gt; | NEUROG2_1 &lt;dbl&gt; | NEUROG2_2 &lt;dbl&gt; | NTCTL_1 &lt;dbl&gt; | NTCTL_2 &lt;dbl&gt; | barcode_dash &lt;chr&gt; | dominant_gene_w_caveat &lt;chr&gt; | dominant_gene_count &lt;dbl&gt; |\n",
       "|---|---|---|---|---|---|---|---|---|---|---|---|---|---|\n",
       "| 1 | AAACAGCCAAACTGCC |  50 |  1 | 10 |  25 | 0 |  4 |  2 |  1 |  7 | AAACAGCCAAACTGCC-1 | MEOX1_1   |  25 |\n",
       "| 2 | AAACAGCCAAAGCCTC | 193 | 93 | 14 |  34 | 0 |  9 | 20 |  0 | 23 | AAACAGCCAAAGCCTC-1 | GATA5_1   |  93 |\n",
       "| 3 | AAACAGCCAAATGCCC | 166 | 42 |  0 | 102 | 0 |  0 | 13 |  0 |  9 | AAACAGCCAAATGCCC-1 | MEOX1_1   | 102 |\n",
       "| 4 | AAACAGCCAACCGCCA | 219 | 17 |  5 |  80 | 2 | 20 | 64 | 11 | 20 | AAACAGCCAACCGCCA-1 | MEOX1_1   |  80 |\n",
       "| 5 | AAACAGCCAAGCGAGC | 121 |  8 |  7 |  36 | 7 | 17 | 42 |  0 |  4 | AAACAGCCAAGCGAGC-1 | NEUROG2_2 |  42 |\n",
       "| 6 | AAACAGCCAATAGCAA |  98 | 12 |  3 |  23 | 9 | 30 |  4 |  0 | 17 | AAACAGCCAATAGCAA-1 | NEUROG2_1 |  30 |\n",
       "\n"
      ],
      "text/plain": [
       "  barcode          n_guides GATA5_1 GATA5_2 MEOX1_1 MEOX1_2 NEUROG2_1 NEUROG2_2\n",
       "1 AAACAGCCAAACTGCC  50       1      10       25     0        4         2       \n",
       "2 AAACAGCCAAAGCCTC 193      93      14       34     0        9        20       \n",
       "3 AAACAGCCAAATGCCC 166      42       0      102     0        0        13       \n",
       "4 AAACAGCCAACCGCCA 219      17       5       80     2       20        64       \n",
       "5 AAACAGCCAAGCGAGC 121       8       7       36     7       17        42       \n",
       "6 AAACAGCCAATAGCAA  98      12       3       23     9       30         4       \n",
       "  NTCTL_1 NTCTL_2 barcode_dash       dominant_gene_w_caveat dominant_gene_count\n",
       "1  1       7      AAACAGCCAAACTGCC-1 MEOX1_1                 25                \n",
       "2  0      23      AAACAGCCAAAGCCTC-1 GATA5_1                 93                \n",
       "3  0       9      AAACAGCCAAATGCCC-1 MEOX1_1                102                \n",
       "4 11      20      AAACAGCCAACCGCCA-1 MEOX1_1                 80                \n",
       "5  0       4      AAACAGCCAAGCGAGC-1 NEUROG2_2               42                \n",
       "6  0      17      AAACAGCCAATAGCAA-1 NEUROG2_1               30                "
      ]
     },
     "metadata": {},
     "output_type": "display_data"
    }
   ],
   "source": [
    "head(df_barcodes)"
   ]
  },
  {
   "cell_type": "markdown",
   "metadata": {},
   "source": [
    "Calculate the percantage of the dominant targeted gene"
   ]
  },
  {
   "cell_type": "code",
   "execution_count": 13,
   "metadata": {
    "vscode": {
     "languageId": "r"
    }
   },
   "outputs": [],
   "source": [
    "percent_dominant <- 100. * df_barcodes$dominant_gene_count / df_barcodes$n_guide\n",
    "df_barcodes$percent_dominant_gene <- percent_dominant"
   ]
  },
  {
   "cell_type": "markdown",
   "metadata": {},
   "source": [
    "Get number of targeted genes"
   ]
  },
  {
   "cell_type": "code",
   "execution_count": 14,
   "metadata": {
    "vscode": {
     "languageId": "r"
    }
   },
   "outputs": [],
   "source": [
    "df_barcodes$targeted_gene_count <- rowSums(df_gene_counts != 0)"
   ]
  },
  {
   "cell_type": "code",
   "execution_count": 15,
   "metadata": {
    "vscode": {
     "languageId": "r"
    }
   },
   "outputs": [
    {
     "data": {
      "text/html": [
       "<table class=\"dataframe\">\n",
       "<caption>A data.frame: 6 × 8</caption>\n",
       "<thead>\n",
       "\t<tr><th></th><th scope=col>GATA5_1</th><th scope=col>GATA5_2</th><th scope=col>MEOX1_1</th><th scope=col>MEOX1_2</th><th scope=col>NEUROG2_1</th><th scope=col>NEUROG2_2</th><th scope=col>NTCTL_1</th><th scope=col>NTCTL_2</th></tr>\n",
       "\t<tr><th></th><th scope=col>&lt;dbl&gt;</th><th scope=col>&lt;dbl&gt;</th><th scope=col>&lt;dbl&gt;</th><th scope=col>&lt;dbl&gt;</th><th scope=col>&lt;dbl&gt;</th><th scope=col>&lt;dbl&gt;</th><th scope=col>&lt;dbl&gt;</th><th scope=col>&lt;dbl&gt;</th></tr>\n",
       "</thead>\n",
       "<tbody>\n",
       "\t<tr><th scope=row>1</th><td> 1</td><td>10</td><td> 25</td><td>0</td><td> 4</td><td> 2</td><td> 1</td><td> 7</td></tr>\n",
       "\t<tr><th scope=row>2</th><td>93</td><td>14</td><td> 34</td><td>0</td><td> 9</td><td>20</td><td> 0</td><td>23</td></tr>\n",
       "\t<tr><th scope=row>3</th><td>42</td><td> 0</td><td>102</td><td>0</td><td> 0</td><td>13</td><td> 0</td><td> 9</td></tr>\n",
       "\t<tr><th scope=row>4</th><td>17</td><td> 5</td><td> 80</td><td>2</td><td>20</td><td>64</td><td>11</td><td>20</td></tr>\n",
       "\t<tr><th scope=row>5</th><td> 8</td><td> 7</td><td> 36</td><td>7</td><td>17</td><td>42</td><td> 0</td><td> 4</td></tr>\n",
       "\t<tr><th scope=row>6</th><td>12</td><td> 3</td><td> 23</td><td>9</td><td>30</td><td> 4</td><td> 0</td><td>17</td></tr>\n",
       "</tbody>\n",
       "</table>\n"
      ],
      "text/latex": [
       "A data.frame: 6 × 8\n",
       "\\begin{tabular}{r|llllllll}\n",
       "  & GATA5\\_1 & GATA5\\_2 & MEOX1\\_1 & MEOX1\\_2 & NEUROG2\\_1 & NEUROG2\\_2 & NTCTL\\_1 & NTCTL\\_2\\\\\n",
       "  & <dbl> & <dbl> & <dbl> & <dbl> & <dbl> & <dbl> & <dbl> & <dbl>\\\\\n",
       "\\hline\n",
       "\t1 &  1 & 10 &  25 & 0 &  4 &  2 &  1 &  7\\\\\n",
       "\t2 & 93 & 14 &  34 & 0 &  9 & 20 &  0 & 23\\\\\n",
       "\t3 & 42 &  0 & 102 & 0 &  0 & 13 &  0 &  9\\\\\n",
       "\t4 & 17 &  5 &  80 & 2 & 20 & 64 & 11 & 20\\\\\n",
       "\t5 &  8 &  7 &  36 & 7 & 17 & 42 &  0 &  4\\\\\n",
       "\t6 & 12 &  3 &  23 & 9 & 30 &  4 &  0 & 17\\\\\n",
       "\\end{tabular}\n"
      ],
      "text/markdown": [
       "\n",
       "A data.frame: 6 × 8\n",
       "\n",
       "| <!--/--> | GATA5_1 &lt;dbl&gt; | GATA5_2 &lt;dbl&gt; | MEOX1_1 &lt;dbl&gt; | MEOX1_2 &lt;dbl&gt; | NEUROG2_1 &lt;dbl&gt; | NEUROG2_2 &lt;dbl&gt; | NTCTL_1 &lt;dbl&gt; | NTCTL_2 &lt;dbl&gt; |\n",
       "|---|---|---|---|---|---|---|---|---|\n",
       "| 1 |  1 | 10 |  25 | 0 |  4 |  2 |  1 |  7 |\n",
       "| 2 | 93 | 14 |  34 | 0 |  9 | 20 |  0 | 23 |\n",
       "| 3 | 42 |  0 | 102 | 0 |  0 | 13 |  0 |  9 |\n",
       "| 4 | 17 |  5 |  80 | 2 | 20 | 64 | 11 | 20 |\n",
       "| 5 |  8 |  7 |  36 | 7 | 17 | 42 |  0 |  4 |\n",
       "| 6 | 12 |  3 |  23 | 9 | 30 |  4 |  0 | 17 |\n",
       "\n"
      ],
      "text/plain": [
       "  GATA5_1 GATA5_2 MEOX1_1 MEOX1_2 NEUROG2_1 NEUROG2_2 NTCTL_1 NTCTL_2\n",
       "1  1      10       25     0        4         2         1       7     \n",
       "2 93      14       34     0        9        20         0      23     \n",
       "3 42       0      102     0        0        13         0       9     \n",
       "4 17       5       80     2       20        64        11      20     \n",
       "5  8       7       36     7       17        42         0       4     \n",
       "6 12       3       23     9       30         4         0      17     "
      ]
     },
     "metadata": {},
     "output_type": "display_data"
    }
   ],
   "source": [
    "head(df_gene_counts)"
   ]
  },
  {
   "cell_type": "markdown",
   "metadata": {},
   "source": [
    "# Load multiome data"
   ]
  },
  {
   "cell_type": "code",
   "execution_count": 16,
   "metadata": {
    "vscode": {
     "languageId": "r"
    }
   },
   "outputs": [
    {
     "name": "stderr",
     "output_type": "stream",
     "text": [
      "Validating h5Seurat file\n",
      "\n",
      "Initializing ATAC with data\n",
      "\n",
      "Adding counts for ATAC\n",
      "\n",
      "Adding feature-level metadata for ATAC\n",
      "\n",
      "Adding variable feature information for ATAC\n",
      "\n",
      "Adding miscellaneous information for ATAC\n",
      "\n",
      "Loading required package: Signac\n",
      "\n",
      "Initializing RNA with data\n",
      "\n",
      "Adding counts for RNA\n",
      "\n",
      "Adding miscellaneous information for RNA\n",
      "\n",
      "Initializing SCT with data\n",
      "\n",
      "Adding counts for SCT\n",
      "\n",
      "Adding scale.data for SCT\n",
      "\n",
      "Adding variable feature information for SCT\n",
      "\n",
      "Adding miscellaneous information for SCT\n",
      "\n",
      "Adding reduction lsi\n",
      "\n",
      "Adding cell embeddings for lsi\n",
      "\n",
      "Adding feature loadings for lsi\n",
      "\n",
      "Adding miscellaneous information for lsi\n",
      "\n",
      "Adding reduction umap.atac\n",
      "\n",
      "Adding cell embeddings for umap.atac\n",
      "\n",
      "Adding miscellaneous information for umap.atac\n",
      "\n",
      "Adding reduction wnn.umap\n",
      "\n",
      "Adding cell embeddings for wnn.umap\n",
      "\n",
      "Adding miscellaneous information for wnn.umap\n",
      "\n",
      "Adding reduction pca\n",
      "\n",
      "Adding cell embeddings for pca\n",
      "\n",
      "Adding feature loadings for pca\n",
      "\n",
      "Adding miscellaneous information for pca\n",
      "\n",
      "Adding reduction umap.rna\n",
      "\n",
      "Adding cell embeddings for umap.rna\n",
      "\n",
      "Adding miscellaneous information for umap.rna\n",
      "\n",
      "Adding graph ATAC_nn\n",
      "\n",
      "Adding graph ATAC_snn\n",
      "\n",
      "Adding graph wknn\n",
      "\n",
      "Adding graph wsnn\n",
      "\n",
      "Adding neighbors weighted.nn\n",
      "\n",
      "Adding command information\n",
      "\n",
      "Adding cell-level metadata\n",
      "\n",
      "Adding miscellaneous information\n",
      "\n",
      "Adding tool-specific results\n",
      "\n"
     ]
    }
   ],
   "source": [
    "seurat <- LoadH5Seurat(multiomeH5name)"
   ]
  },
  {
   "cell_type": "markdown",
   "metadata": {},
   "source": [
    "### Intersect guide-capture barcodes with multiome barcodes"
   ]
  },
  {
   "cell_type": "code",
   "execution_count": 17,
   "metadata": {
    "vscode": {
     "languageId": "r"
    }
   },
   "outputs": [],
   "source": [
    "# Find overlapping barcodes\n",
    "multiome_barcodes       <- Cells(seurat)\n",
    "df_barcodes$in_multiome <- df_barcodes$barcode_dash %in% multiome_barcodes"
   ]
  },
  {
   "cell_type": "code",
   "execution_count": 18,
   "metadata": {
    "vscode": {
     "languageId": "r"
    }
   },
   "outputs": [
    {
     "data": {
      "text/html": [
       "27294"
      ],
      "text/latex": [
       "27294"
      ],
      "text/markdown": [
       "27294"
      ],
      "text/plain": [
       "[1] 27294"
      ]
     },
     "metadata": {},
     "output_type": "display_data"
    },
    {
     "data": {
      "text/html": [
       "15109"
      ],
      "text/latex": [
       "15109"
      ],
      "text/markdown": [
       "15109"
      ],
      "text/plain": [
       "[1] 15109"
      ]
     },
     "metadata": {},
     "output_type": "display_data"
    },
    {
     "data": {
      "text/html": [
       "<style>\n",
       ".list-inline {list-style: none; margin:0; padding: 0}\n",
       ".list-inline>li {display: inline-block}\n",
       ".list-inline>li:not(:last-child)::after {content: \"\\00b7\"; padding: 0 .5ex}\n",
       "</style>\n",
       "<ol class=list-inline><li>'AAACAGCCAAAGCCTC-1'</li><li>'AAACAGCCAATTATGC-1'</li><li>'AAACAGCCACAGAACG-1'</li><li>'AAACAGCCACATTGCA-1'</li><li>'AAACAGCCACCAAAGG-1'</li><li>'AAACAGCCAGGTTATT-1'</li></ol>\n"
      ],
      "text/latex": [
       "\\begin{enumerate*}\n",
       "\\item 'AAACAGCCAAAGCCTC-1'\n",
       "\\item 'AAACAGCCAATTATGC-1'\n",
       "\\item 'AAACAGCCACAGAACG-1'\n",
       "\\item 'AAACAGCCACATTGCA-1'\n",
       "\\item 'AAACAGCCACCAAAGG-1'\n",
       "\\item 'AAACAGCCAGGTTATT-1'\n",
       "\\end{enumerate*}\n"
      ],
      "text/markdown": [
       "1. 'AAACAGCCAAAGCCTC-1'\n",
       "2. 'AAACAGCCAATTATGC-1'\n",
       "3. 'AAACAGCCACAGAACG-1'\n",
       "4. 'AAACAGCCACATTGCA-1'\n",
       "5. 'AAACAGCCACCAAAGG-1'\n",
       "6. 'AAACAGCCAGGTTATT-1'\n",
       "\n",
       "\n"
      ],
      "text/plain": [
       "[1] \"AAACAGCCAAAGCCTC-1\" \"AAACAGCCAATTATGC-1\" \"AAACAGCCACAGAACG-1\"\n",
       "[4] \"AAACAGCCACATTGCA-1\" \"AAACAGCCACCAAAGG-1\" \"AAACAGCCAGGTTATT-1\""
      ]
     },
     "metadata": {},
     "output_type": "display_data"
    },
    {
     "data": {
      "text/html": [
       "15109"
      ],
      "text/latex": [
       "15109"
      ],
      "text/markdown": [
       "15109"
      ],
      "text/plain": [
       "[1] 15109"
      ]
     },
     "metadata": {},
     "output_type": "display_data"
    },
    {
     "data": {
      "text/html": [
       "15109"
      ],
      "text/latex": [
       "15109"
      ],
      "text/markdown": [
       "15109"
      ],
      "text/plain": [
       "[1] 15109"
      ]
     },
     "metadata": {},
     "output_type": "display_data"
    }
   ],
   "source": [
    "nrow(seurat)\n",
    "length(multiome_barcodes)\n",
    "head(multiome_barcodes)\n",
    "nrow(seurat@meta.data)\n",
    "#str(seurat)\n",
    "length(Cells(seurat))"
   ]
  },
  {
   "cell_type": "code",
   "execution_count": 19,
   "metadata": {
    "vscode": {
     "languageId": "r"
    }
   },
   "outputs": [
    {
     "data": {
      "text/html": [
       "<table class=\"dataframe\">\n",
       "<caption>A data.frame: 5 × 16</caption>\n",
       "<thead>\n",
       "\t<tr><th scope=col>barcode</th><th scope=col>n_guides</th><th scope=col>GATA5_1</th><th scope=col>GATA5_2</th><th scope=col>MEOX1_1</th><th scope=col>MEOX1_2</th><th scope=col>NEUROG2_1</th><th scope=col>NEUROG2_2</th><th scope=col>NTCTL_1</th><th scope=col>NTCTL_2</th><th scope=col>barcode_dash</th><th scope=col>dominant_gene_w_caveat</th><th scope=col>dominant_gene_count</th><th scope=col>percent_dominant_gene</th><th scope=col>targeted_gene_count</th><th scope=col>in_multiome</th></tr>\n",
       "\t<tr><th scope=col>&lt;fct&gt;</th><th scope=col>&lt;int&gt;</th><th scope=col>&lt;dbl&gt;</th><th scope=col>&lt;dbl&gt;</th><th scope=col>&lt;dbl&gt;</th><th scope=col>&lt;dbl&gt;</th><th scope=col>&lt;dbl&gt;</th><th scope=col>&lt;dbl&gt;</th><th scope=col>&lt;dbl&gt;</th><th scope=col>&lt;dbl&gt;</th><th scope=col>&lt;chr&gt;</th><th scope=col>&lt;chr&gt;</th><th scope=col>&lt;dbl&gt;</th><th scope=col>&lt;dbl&gt;</th><th scope=col>&lt;dbl&gt;</th><th scope=col>&lt;lgl&gt;</th></tr>\n",
       "</thead>\n",
       "<tbody>\n",
       "\t<tr><td>GCGAAGTAGAGGAGGA</td><td>238</td><td>26</td><td>18</td><td> 56</td><td>2</td><td>27</td><td>42</td><td>42</td><td>25</td><td>GCGAAGTAGAGGAGGA-1</td><td>MEOX1_1  </td><td> 56</td><td> 23.52941</td><td>8</td><td>FALSE</td></tr>\n",
       "\t<tr><td>TGGCGGTTCACATTGA</td><td>  7</td><td> 0</td><td> 0</td><td>  0</td><td>0</td><td> 0</td><td> 7</td><td> 0</td><td> 0</td><td>TGGCGGTTCACATTGA-1</td><td>NEUROG2_2</td><td>  7</td><td>100.00000</td><td>1</td><td>FALSE</td></tr>\n",
       "\t<tr><td>TTAGGCTAGTTATGGC</td><td>117</td><td>10</td><td> 0</td><td> 69</td><td>0</td><td>21</td><td> 2</td><td> 3</td><td>12</td><td>TTAGGCTAGTTATGGC-1</td><td>MEOX1_1  </td><td> 69</td><td> 58.97436</td><td>6</td><td>FALSE</td></tr>\n",
       "\t<tr><td>TCTACCTCATGTTGTG</td><td>111</td><td>17</td><td> 2</td><td> 35</td><td>6</td><td> 0</td><td>14</td><td> 0</td><td>37</td><td>TCTACCTCATGTTGTG-1</td><td>NTCTL_2  </td><td> 37</td><td> 33.33333</td><td>6</td><td>FALSE</td></tr>\n",
       "\t<tr><td>CTATTACTCACGCCAA</td><td>314</td><td>44</td><td>16</td><td>164</td><td>9</td><td>44</td><td>24</td><td> 0</td><td>13</td><td>CTATTACTCACGCCAA-1</td><td>MEOX1_1  </td><td>164</td><td> 52.22930</td><td>7</td><td> TRUE</td></tr>\n",
       "</tbody>\n",
       "</table>\n"
      ],
      "text/latex": [
       "A data.frame: 5 × 16\n",
       "\\begin{tabular}{llllllllllllllll}\n",
       " barcode & n\\_guides & GATA5\\_1 & GATA5\\_2 & MEOX1\\_1 & MEOX1\\_2 & NEUROG2\\_1 & NEUROG2\\_2 & NTCTL\\_1 & NTCTL\\_2 & barcode\\_dash & dominant\\_gene\\_w\\_caveat & dominant\\_gene\\_count & percent\\_dominant\\_gene & targeted\\_gene\\_count & in\\_multiome\\\\\n",
       " <fct> & <int> & <dbl> & <dbl> & <dbl> & <dbl> & <dbl> & <dbl> & <dbl> & <dbl> & <chr> & <chr> & <dbl> & <dbl> & <dbl> & <lgl>\\\\\n",
       "\\hline\n",
       "\t GCGAAGTAGAGGAGGA & 238 & 26 & 18 &  56 & 2 & 27 & 42 & 42 & 25 & GCGAAGTAGAGGAGGA-1 & MEOX1\\_1   &  56 &  23.52941 & 8 & FALSE\\\\\n",
       "\t TGGCGGTTCACATTGA &   7 &  0 &  0 &   0 & 0 &  0 &  7 &  0 &  0 & TGGCGGTTCACATTGA-1 & NEUROG2\\_2 &   7 & 100.00000 & 1 & FALSE\\\\\n",
       "\t TTAGGCTAGTTATGGC & 117 & 10 &  0 &  69 & 0 & 21 &  2 &  3 & 12 & TTAGGCTAGTTATGGC-1 & MEOX1\\_1   &  69 &  58.97436 & 6 & FALSE\\\\\n",
       "\t TCTACCTCATGTTGTG & 111 & 17 &  2 &  35 & 6 &  0 & 14 &  0 & 37 & TCTACCTCATGTTGTG-1 & NTCTL\\_2   &  37 &  33.33333 & 6 & FALSE\\\\\n",
       "\t CTATTACTCACGCCAA & 314 & 44 & 16 & 164 & 9 & 44 & 24 &  0 & 13 & CTATTACTCACGCCAA-1 & MEOX1\\_1   & 164 &  52.22930 & 7 &  TRUE\\\\\n",
       "\\end{tabular}\n"
      ],
      "text/markdown": [
       "\n",
       "A data.frame: 5 × 16\n",
       "\n",
       "| barcode &lt;fct&gt; | n_guides &lt;int&gt; | GATA5_1 &lt;dbl&gt; | GATA5_2 &lt;dbl&gt; | MEOX1_1 &lt;dbl&gt; | MEOX1_2 &lt;dbl&gt; | NEUROG2_1 &lt;dbl&gt; | NEUROG2_2 &lt;dbl&gt; | NTCTL_1 &lt;dbl&gt; | NTCTL_2 &lt;dbl&gt; | barcode_dash &lt;chr&gt; | dominant_gene_w_caveat &lt;chr&gt; | dominant_gene_count &lt;dbl&gt; | percent_dominant_gene &lt;dbl&gt; | targeted_gene_count &lt;dbl&gt; | in_multiome &lt;lgl&gt; |\n",
       "|---|---|---|---|---|---|---|---|---|---|---|---|---|---|---|---|\n",
       "| GCGAAGTAGAGGAGGA | 238 | 26 | 18 |  56 | 2 | 27 | 42 | 42 | 25 | GCGAAGTAGAGGAGGA-1 | MEOX1_1   |  56 |  23.52941 | 8 | FALSE |\n",
       "| TGGCGGTTCACATTGA |   7 |  0 |  0 |   0 | 0 |  0 |  7 |  0 |  0 | TGGCGGTTCACATTGA-1 | NEUROG2_2 |   7 | 100.00000 | 1 | FALSE |\n",
       "| TTAGGCTAGTTATGGC | 117 | 10 |  0 |  69 | 0 | 21 |  2 |  3 | 12 | TTAGGCTAGTTATGGC-1 | MEOX1_1   |  69 |  58.97436 | 6 | FALSE |\n",
       "| TCTACCTCATGTTGTG | 111 | 17 |  2 |  35 | 6 |  0 | 14 |  0 | 37 | TCTACCTCATGTTGTG-1 | NTCTL_2   |  37 |  33.33333 | 6 | FALSE |\n",
       "| CTATTACTCACGCCAA | 314 | 44 | 16 | 164 | 9 | 44 | 24 |  0 | 13 | CTATTACTCACGCCAA-1 | MEOX1_1   | 164 |  52.22930 | 7 |  TRUE |\n",
       "\n"
      ],
      "text/plain": [
       "  barcode          n_guides GATA5_1 GATA5_2 MEOX1_1 MEOX1_2 NEUROG2_1 NEUROG2_2\n",
       "1 GCGAAGTAGAGGAGGA 238      26      18       56     2       27        42       \n",
       "2 TGGCGGTTCACATTGA   7       0       0        0     0        0         7       \n",
       "3 TTAGGCTAGTTATGGC 117      10       0       69     0       21         2       \n",
       "4 TCTACCTCATGTTGTG 111      17       2       35     6        0        14       \n",
       "5 CTATTACTCACGCCAA 314      44      16      164     9       44        24       \n",
       "  NTCTL_1 NTCTL_2 barcode_dash       dominant_gene_w_caveat dominant_gene_count\n",
       "1 42      25      GCGAAGTAGAGGAGGA-1 MEOX1_1                 56                \n",
       "2  0       0      TGGCGGTTCACATTGA-1 NEUROG2_2                7                \n",
       "3  3      12      TTAGGCTAGTTATGGC-1 MEOX1_1                 69                \n",
       "4  0      37      TCTACCTCATGTTGTG-1 NTCTL_2                 37                \n",
       "5  0      13      CTATTACTCACGCCAA-1 MEOX1_1                164                \n",
       "  percent_dominant_gene targeted_gene_count in_multiome\n",
       "1  23.52941             8                   FALSE      \n",
       "2 100.00000             1                   FALSE      \n",
       "3  58.97436             6                   FALSE      \n",
       "4  33.33333             6                   FALSE      \n",
       "5  52.22930             7                    TRUE      "
      ]
     },
     "metadata": {},
     "output_type": "display_data"
    }
   ],
   "source": [
    "sample_n(df_barcodes, 5)"
   ]
  },
  {
   "cell_type": "markdown",
   "metadata": {},
   "source": [
    "Write df_barcodes to TSV and XLS"
   ]
  },
  {
   "cell_type": "code",
   "execution_count": 20,
   "metadata": {
    "vscode": {
     "languageId": "r"
    }
   },
   "outputs": [],
   "source": [
    "library(writexl)\n",
    "write_xlsx(df_barcodes, xlsname)\n",
    "write.table(df_barcodes, tsvname, sep = \"\\t\", quote = FALSE, row.names = FALSE)"
   ]
  },
  {
   "cell_type": "markdown",
   "metadata": {},
   "source": [
    "# Produce charts"
   ]
  },
  {
   "cell_type": "code",
   "execution_count": 21,
   "metadata": {
    "vscode": {
     "languageId": "r"
    }
   },
   "outputs": [],
   "source": [
    "select_gt1_umi_per_cell <- df_barcodes$n_guides > 1\n",
    "select_convergent       <- df_barcodes$targeted_gene_count == 1\n",
    "\n",
    "df_barcodes_gt1         <- df_barcodes[select_gt1_umi_per_cell, ]\n",
    "df_in_multiome          <- df_barcodes[df_barcodes$in_multiome, ]\n",
    "df_gt1_in_multiome      <- df_barcodes_gt1[df_barcodes_gt1$in_multiome, ]\n",
    "df_convergent           <- df_barcodes[select_convergent, ]"
   ]
  },
  {
   "cell_type": "code",
   "execution_count": 22,
   "metadata": {
    "vscode": {
     "languageId": "r"
    }
   },
   "outputs": [
    {
     "data": {
      "image/png": "[encoded data removed]",
      "text/plain": [
       "plot without title"
      ]
     },
     "metadata": {
      "image/png": {
       "height": 240,
       "width": 360
      }
     },
     "output_type": "display_data"
    },
    {
     "data": {
      "image/png": "[encoded data removed]",
      "text/plain": [
       "plot without title"
      ]
     },
     "metadata": {
      "image/png": {
       "height": 240,
       "width": 360
      }
     },
     "output_type": "display_data"
    },
    {
     "data": {
      "image/png": "[encoded data removed]",
      "text/plain": [
       "plot without title"
      ]
     },
     "metadata": {
      "image/png": {
       "height": 240,
       "width": 360
      }
     },
     "output_type": "display_data"
    }
   ],
   "source": [
    "options(repr.plot.width = 6, repr.plot.height = 4)\n",
    "\n",
    "ggplot(df_barcodes, aes(x=targeted_gene_count)) +\n",
    "    geom_histogram(binwidth=1) +\n",
    "    labs(title=\"Targeted genes\", x=\"Genes\")+\n",
    "    labs(subtitle=\"all guide-capture barcodes\", y=\"#cells\") \n",
    "\n",
    "ggplot(df_in_multiome, aes(x=targeted_gene_count)) +\n",
    "    geom_histogram(binwidth=1) +\n",
    "    labs(title=\"Targeted genes\", x=\"Genes\")+\n",
    "    labs(subtitle=\"multiome-overlapping guide-capture barcodes\", y=\"#cells\") \n",
    "\n",
    "ggplot(df_gt1_in_multiome, aes(x=targeted_gene_count)) +\n",
    "    geom_histogram(binwidth=1) +\n",
    "    labs(title=\"Targeted genes\", x=\"Genes\")+\n",
    "    labs(subtitle=\"multiome-overlapping guide-capture barcodes >1 UMI\", y=\"#cells\") "
   ]
  },
  {
   "cell_type": "code",
   "execution_count": 23,
   "metadata": {
    "vscode": {
     "languageId": "r"
    }
   },
   "outputs": [
    {
     "data": {
      "image/png": "[encoded data removed]",
      "text/plain": [
       "plot without title"
      ]
     },
     "metadata": {
      "image/png": {
       "height": 240,
       "width": 360
      }
     },
     "output_type": "display_data"
    },
    {
     "data": {
      "image/png": "[encoded data removed]",
      "text/plain": [
       "plot without title"
      ]
     },
     "metadata": {
      "image/png": {
       "height": 240,
       "width": 360
      }
     },
     "output_type": "display_data"
    },
    {
     "data": {
      "image/png": "[encoded data removed]",
      "text/plain": [
       "plot without title"
      ]
     },
     "metadata": {
      "image/png": {
       "height": 240,
       "width": 360
      }
     },
     "output_type": "display_data"
    }
   ],
   "source": [
    "options(repr.plot.width = 6, repr.plot.height = 4)\n",
    "\n",
    "ggplot(df_barcodes, aes(x=percent_dominant_gene)) +\n",
    "    geom_histogram(binwidth=1) +\n",
    "    labs(title=\"%dominant target gene\", x=\"%dominant\")+\n",
    "    labs(subtitle=\"all guide-capture barcodes\", y=\"#cells\")\n",
    "\n",
    "ggplot(df_in_multiome, aes(x=percent_dominant_gene)) +\n",
    "    geom_histogram(binwidth=1) +\n",
    "    labs(title=\"%dominant target gene\", x=\"%dominant\")+\n",
    "    labs(subtitle=\"multiome-overlapping guide-capture barcodes\", y=\"#cells\")\n",
    "\n",
    "ggplot(df_gt1_in_multiome, aes(x=percent_dominant_gene)) +\n",
    "    geom_histogram(binwidth=1) +\n",
    "    labs(title=\"%dominant target gene\", x=\"%dominant\")+\n",
    "    labs(subtitle=\"multiome-overlapping guide-capture barcodes >1 UMI\", y=\"#cells\")"
   ]
  },
  {
   "cell_type": "code",
   "execution_count": 24,
   "metadata": {
    "vscode": {
     "languageId": "r"
    }
   },
   "outputs": [
    {
     "data": {
      "image/png": "[encoded data removed]",
      "text/plain": [
       "plot without title"
      ]
     },
     "metadata": {
      "image/png": {
       "height": 240,
       "width": 360
      }
     },
     "output_type": "display_data"
    },
    {
     "data": {
      "image/png": "[encoded data removed]",
      "text/plain": [
       "plot without title"
      ]
     },
     "metadata": {
      "image/png": {
       "height": 240,
       "width": 360
      }
     },
     "output_type": "display_data"
    },
    {
     "data": {
      "image/png": "[encoded data removed]",
      "text/plain": [
       "plot without title"
      ]
     },
     "metadata": {
      "image/png": {
       "height": 240,
       "width": 360
      }
     },
     "output_type": "display_data"
    }
   ],
   "source": [
    "options(repr.plot.width = 6, repr.plot.height = 4)\n",
    "\n",
    "ggplot(df_barcodes_gt1, aes(x = percent_dominant_gene)) +\n",
    "    geom_histogram(binwidth=1) +\n",
    "    labs(title=\"%dominant target gene\", x=\"%dominant\")+\n",
    "    labs(subtitle=\"guide-capture barcodes w >1 UMI\", y=\"#cells\")\n",
    "\n",
    "ggplot(df_in_multiome, aes(x = percent_dominant_gene)) +\n",
    "    geom_histogram(binwidth=1) +\n",
    "    labs(title=\"%dominant target gene\", x=\"%dominant\")+\n",
    "    labs(subtitle=\"multiome-overlapping guide-capture barcodes\", y=\"#cells\")\n",
    "\n",
    "ggplot(df_gt1_in_multiome, aes(x = percent_dominant_gene)) +\n",
    "    geom_histogram(binwidth=1) +\n",
    "    labs(title=\"%dominant target gene\", x=\"%dominant\")+\n",
    "    labs(subtitle=\"multiome-overlapping guide-capture barcodes w >1 UMI\", y=\"#cells\")"
   ]
  },
  {
   "cell_type": "code",
   "execution_count": 25,
   "metadata": {
    "vscode": {
     "languageId": "r"
    }
   },
   "outputs": [
    {
     "data": {
      "image/png": "[encoded data removed]",
      "text/plain": [
       "plot without title"
      ]
     },
     "metadata": {
      "image/png": {
       "height": 360,
       "width": 480
      }
     },
     "output_type": "display_data"
    }
   ],
   "source": [
    "options(repr.plot.width = 8, repr.plot.height = 6)\n",
    "\n",
    "ggplot(df_in_multiome, aes(x = n_guides)) +\n",
    "    geom_histogram(binwidth=1) +\n",
    "    labs(title = \"Captured guide count\", x = \"#guides\")+\n",
    "    labs(subtitle = \"multiome-overlapping guide-capture barcodes\", y = \"#cells\")\n",
    "    "
   ]
  },
  {
   "cell_type": "code",
   "execution_count": 26,
   "metadata": {
    "vscode": {
     "languageId": "r"
    }
   },
   "outputs": [],
   "source": [
    "# Record stats\n",
    "stats[[\"%overlapping\"]] <-\n",
    "    100 * sum(df_barcodes$in_multiome) / length(multiome_barcodes)\n",
    "\n",
    "stats[[\"Guide-capture barcodes\"]] <- nrow(df_barcodes)\n",
    "stats[[\"Multiome barcodes\"]]      <- length(multiome_barcodes)\n",
    "stats[[\"Overlapping barcodes\"]]   <- sum(df_barcodes$in_multiome)\n",
    "stats[[\"Overlapping barcodes > 1 UMI\"]] <- sum(df_barcodes_gt1$in_multiome)\n",
    "stats[[\"Guide capture all convergent\"]] <- nrow(df_convergent)\n",
    "\n",
    "stats[[\"Guide capture overlapping convergent\"]] <-\n",
    "    sum(df_convergent$in_multiome)"
   ]
  },
  {
   "cell_type": "markdown",
   "metadata": {},
   "source": [
    "# Print stats"
   ]
  },
  {
   "cell_type": "code",
   "execution_count": 27,
   "metadata": {
    "vscode": {
     "languageId": "r"
    }
   },
   "outputs": [
    {
     "name": "stdout",
     "output_type": "stream",
     "text": [
      "Guide-capture UMI counts\t2.45686e+07\n",
      "Guide-capture UMI counts after removing empty barcodes\t2.40079e+07\n",
      "Guide-capture UMI counts after removing PCR duplicates\t2.40079e+07\n",
      "%overlapping\t100\n",
      "Guide-capture barcodes\t111604\n",
      "Multiome barcodes\t15109\n",
      "Overlapping barcodes\t15109\n",
      "Overlapping barcodes > 1 UMI\t15108\n",
      "Guide capture all convergent\t24589\n",
      "Guide capture overlapping convergent\t3\n"
     ]
    }
   ],
   "source": [
    "for (tag in names(stats)) {\n",
    "    if (tag != \"Capture efficiency\") {\n",
    "        text <- sprintf(\"%s\\t%g\\n\", tag, stats[[tag]])\n",
    "    }\n",
    "    else {\n",
    "        text <- sprintf(\"%s\\t%.1f%%\\n\", tag, stats[[tag]])\n",
    "    }\n",
    "    cat(text)\n",
    "}"
   ]
  },
  {
   "cell_type": "code",
   "execution_count": 28,
   "metadata": {
    "vscode": {
     "languageId": "r"
    }
   },
   "outputs": [
    {
     "data": {
      "text/html": [
       "<table class=\"dataframe\">\n",
       "<caption>A matrix: 10 × 1 of type dbl</caption>\n",
       "<tbody>\n",
       "\t<tr><th scope=row>Guide.capture.UMI.counts</th><td>24568624</td></tr>\n",
       "\t<tr><th scope=row>Guide.capture.UMI.counts.after.removing.empty.barcodes</th><td>24007910</td></tr>\n",
       "\t<tr><th scope=row>Guide.capture.UMI.counts.after.removing.PCR.duplicates</th><td>24007910</td></tr>\n",
       "\t<tr><th scope=row>X.overlapping</th><td>     100</td></tr>\n",
       "\t<tr><th scope=row>Guide.capture.barcodes</th><td>  111604</td></tr>\n",
       "\t<tr><th scope=row>Multiome.barcodes</th><td>   15109</td></tr>\n",
       "\t<tr><th scope=row>Overlapping.barcodes</th><td>   15109</td></tr>\n",
       "\t<tr><th scope=row>Overlapping.barcodes...1.UMI</th><td>   15108</td></tr>\n",
       "\t<tr><th scope=row>Guide.capture.all.convergent</th><td>   24589</td></tr>\n",
       "\t<tr><th scope=row>Guide.capture.overlapping.convergent</th><td>       3</td></tr>\n",
       "</tbody>\n",
       "</table>\n"
      ],
      "text/latex": [
       "A matrix: 10 × 1 of type dbl\n",
       "\\begin{tabular}{r|l}\n",
       "\tGuide.capture.UMI.counts & 24568624\\\\\n",
       "\tGuide.capture.UMI.counts.after.removing.empty.barcodes & 24007910\\\\\n",
       "\tGuide.capture.UMI.counts.after.removing.PCR.duplicates & 24007910\\\\\n",
       "\tX.overlapping &      100\\\\\n",
       "\tGuide.capture.barcodes &   111604\\\\\n",
       "\tMultiome.barcodes &    15109\\\\\n",
       "\tOverlapping.barcodes &    15109\\\\\n",
       "\tOverlapping.barcodes...1.UMI &    15108\\\\\n",
       "\tGuide.capture.all.convergent &    24589\\\\\n",
       "\tGuide.capture.overlapping.convergent &        3\\\\\n",
       "\\end{tabular}\n"
      ],
      "text/markdown": [
       "\n",
       "A matrix: 10 × 1 of type dbl\n",
       "\n",
       "| Guide.capture.UMI.counts | 24568624 |\n",
       "| Guide.capture.UMI.counts.after.removing.empty.barcodes | 24007910 |\n",
       "| Guide.capture.UMI.counts.after.removing.PCR.duplicates | 24007910 |\n",
       "| X.overlapping |      100 |\n",
       "| Guide.capture.barcodes |   111604 |\n",
       "| Multiome.barcodes |    15109 |\n",
       "| Overlapping.barcodes |    15109 |\n",
       "| Overlapping.barcodes...1.UMI |    15108 |\n",
       "| Guide.capture.all.convergent |    24589 |\n",
       "| Guide.capture.overlapping.convergent |        3 |\n",
       "\n"
      ],
      "text/plain": [
       "                                                       [,1]    \n",
       "Guide.capture.UMI.counts                               24568624\n",
       "Guide.capture.UMI.counts.after.removing.empty.barcodes 24007910\n",
       "Guide.capture.UMI.counts.after.removing.PCR.duplicates 24007910\n",
       "X.overlapping                                               100\n",
       "Guide.capture.barcodes                                   111604\n",
       "Multiome.barcodes                                         15109\n",
       "Overlapping.barcodes                                      15109\n",
       "Overlapping.barcodes...1.UMI                              15108\n",
       "Guide.capture.all.convergent                              24589\n",
       "Guide.capture.overlapping.convergent                          3"
      ]
     },
     "metadata": {},
     "output_type": "display_data"
    }
   ],
   "source": [
    "round(t(as.data.frame(stats)))"
   ]
  }
 ],
 "metadata": {
  "kernelspec": {
   "display_name": "R",
   "language": "R",
   "name": "ir"
  },
  "language_info": {
   "codemirror_mode": "r",
   "file_extension": ".r",
   "mimetype": "text/x-r-source",
   "name": "R",
   "pygments_lexer": "r",
   "version": "4.2.1"
  }
 },
 "nbformat": 4,
 "nbformat_minor": 2
}
