{
 "cells": [
  {
   "cell_type": "markdown",
   "metadata": {},
   "source": [
    "# Assign guides to cells"
   ]
  },
  {
   "cell_type": "code",
   "execution_count": 28,
   "metadata": {},
   "outputs": [],
   "source": [
    "import pandas as pd\n",
    "import matplotlib.pyplot as plt"
   ]
  },
  {
   "cell_type": "code",
   "execution_count": 36,
   "metadata": {},
   "outputs": [],
   "source": [
    "# library = \"CRISPR8\"\n",
    "# fastq_path = \"/home/vsevim/prj/tf/CATATAC_4/data//atac_and_guidecap\"\n",
    "# tsv_path = \"/home/vsevim/prj/tf/CATATAC_4/analysis/primary/CRISPR8/tsv\""
   ]
  },
  {
   "cell_type": "code",
   "execution_count": 30,
   "metadata": {},
   "outputs": [],
   "source": [
    "stats = []"
   ]
  },
  {
   "cell_type": "markdown",
   "metadata": {},
   "source": [
    "Count raw reads"
   ]
  },
  {
   "cell_type": "code",
   "execution_count": 31,
   "metadata": {},
   "outputs": [],
   "source": [
    "n_raw_reads = !zcat {fastq_path}/{library}*R1*.fastq.gz | grep \"^@\" | wc -l\n",
    "n_raw_reads = int(n_raw_reads[0])\n",
    "stats += [['Raw Reads', n_raw_reads]]"
   ]
  },
  {
   "cell_type": "markdown",
   "metadata": {},
   "source": [
    "Count reads w CS1"
   ]
  },
  {
   "cell_type": "code",
   "execution_count": 32,
   "metadata": {},
   "outputs": [],
   "source": [
    "n_reads_w_CS1 = !zcat {tsv_path}/{library}*w_CS.TSV.gz | wc -l\n",
    "n_reads_w_CS1 = int(n_reads_w_CS1[0])\n",
    "stats += [['Reads with CS1', n_reads_w_CS1]]"
   ]
  },
  {
   "cell_type": "code",
   "execution_count": 33,
   "metadata": {},
   "outputs": [
    {
     "data": {
      "text/plain": [
       "[['Raw Reads', 38040359], ['Reads with CS1', 681770]]"
      ]
     },
     "execution_count": 33,
     "metadata": {},
     "output_type": "execute_result"
    }
   ],
   "source": [
    "stats"
   ]
  },
  {
   "cell_type": "markdown",
   "metadata": {},
   "source": [
    "### Load the barcode, umi, guide csv"
   ]
  },
  {
   "cell_type": "code",
   "execution_count": 37,
   "metadata": {},
   "outputs": [],
   "source": [
    "#library = library.upper()\n",
    "tsv_path = f\"{tsv_path}/{library}_ALL_STRUCTURED.TSV\""
   ]
  },
  {
   "cell_type": "markdown",
   "metadata": {},
   "source": [
    "### Deduplicate "
   ]
  },
  {
   "cell_type": "code",
   "execution_count": 38,
   "metadata": {},
   "outputs": [],
   "source": [
    "df_needs_dedup = pd.read_csv(tsv_path, sep=\"\\t\")\n",
    "# I was deduplicating by umi only until analyzing condition 6, \n",
    "# but I need to deduplicate by umi+protospacer\n",
    "df = df_needs_dedup.drop_duplicates(subset=[\"umi\", \"protospacer\"], keep='first')"
   ]
  },
  {
   "cell_type": "code",
   "execution_count": 39,
   "metadata": {},
   "outputs": [
    {
     "data": {
      "text/html": [
       "<div>\n",
       "<style scoped>\n",
       "    .dataframe tbody tr th:only-of-type {\n",
       "        vertical-align: middle;\n",
       "    }\n",
       "\n",
       "    .dataframe tbody tr th {\n",
       "        vertical-align: top;\n",
       "    }\n",
       "\n",
       "    .dataframe thead th {\n",
       "        text-align: right;\n",
       "    }\n",
       "</style>\n",
       "<table border=\"1\" class=\"dataframe\">\n",
       "  <thead>\n",
       "    <tr style=\"text-align: right;\">\n",
       "      <th></th>\n",
       "      <th>atac_barcode</th>\n",
       "      <th>umi</th>\n",
       "      <th>protospacer</th>\n",
       "      <th>guide</th>\n",
       "      <th>gene</th>\n",
       "      <th>read_name</th>\n",
       "      <th>barcode</th>\n",
       "    </tr>\n",
       "  </thead>\n",
       "  <tbody>\n",
       "    <tr>\n",
       "      <th>0</th>\n",
       "      <td>TTACCGGGTGGATTGA</td>\n",
       "      <td>AGTGTACC</td>\n",
       "      <td>GCTGACCCTGCGGGGAAGAA</td>\n",
       "      <td>GATA5_1</td>\n",
       "      <td>GATA5</td>\n",
       "      <td>NB552361:68:HMGVWBGXK:1:11101:11567:1977</td>\n",
       "      <td>ACATCATCAGGCGATA</td>\n",
       "    </tr>\n",
       "    <tr>\n",
       "      <th>1</th>\n",
       "      <td>GCGTAAAGTTCACTTT</td>\n",
       "      <td>CATCTATT</td>\n",
       "      <td>GCTGACCCTGCGGGGAAGAA</td>\n",
       "      <td>GATA5_1</td>\n",
       "      <td>GATA5</td>\n",
       "      <td>NB552361:68:HMGVWBGXK:1:11101:26610:2255</td>\n",
       "      <td>TTGGCTACATTTAAGC</td>\n",
       "    </tr>\n",
       "    <tr>\n",
       "      <th>2</th>\n",
       "      <td>AGGGAGTAGTCCCGCA</td>\n",
       "      <td>AACGTACA</td>\n",
       "      <td>GCTGACCCTGCGGGGAAGAA</td>\n",
       "      <td>GATA5_1</td>\n",
       "      <td>GATA5</td>\n",
       "      <td>NB552361:68:HMGVWBGXK:1:11101:2841:2679</td>\n",
       "      <td>ACCAAGTTCACACAGT</td>\n",
       "    </tr>\n",
       "    <tr>\n",
       "      <th>3</th>\n",
       "      <td>TTATGTGGTTGTAGCA</td>\n",
       "      <td>CGCAGCAT</td>\n",
       "      <td>GCTGACCCTGCGGGGAAGAA</td>\n",
       "      <td>GATA5_1</td>\n",
       "      <td>GATA5</td>\n",
       "      <td>NB552361:68:HMGVWBGXK:1:11101:24321:2783</td>\n",
       "      <td>NaN</td>\n",
       "    </tr>\n",
       "    <tr>\n",
       "      <th>4</th>\n",
       "      <td>CCAGCTAGTGCGGTTC</td>\n",
       "      <td>ATTCATTA</td>\n",
       "      <td>GCTGACCCTGCGGGGAAGAA</td>\n",
       "      <td>GATA5_1</td>\n",
       "      <td>GATA5</td>\n",
       "      <td>NB552361:68:HMGVWBGXK:1:11101:20356:3265</td>\n",
       "      <td>TTTGAGTCAGGAACAT</td>\n",
       "    </tr>\n",
       "  </tbody>\n",
       "</table>\n",
       "</div>"
      ],
      "text/plain": [
       "       atac_barcode       umi           protospacer    guide   gene  \\\n",
       "0  TTACCGGGTGGATTGA  AGTGTACC  GCTGACCCTGCGGGGAAGAA  GATA5_1  GATA5   \n",
       "1  GCGTAAAGTTCACTTT  CATCTATT  GCTGACCCTGCGGGGAAGAA  GATA5_1  GATA5   \n",
       "2  AGGGAGTAGTCCCGCA  AACGTACA  GCTGACCCTGCGGGGAAGAA  GATA5_1  GATA5   \n",
       "3  TTATGTGGTTGTAGCA  CGCAGCAT  GCTGACCCTGCGGGGAAGAA  GATA5_1  GATA5   \n",
       "4  CCAGCTAGTGCGGTTC  ATTCATTA  GCTGACCCTGCGGGGAAGAA  GATA5_1  GATA5   \n",
       "\n",
       "                                  read_name           barcode  \n",
       "0  NB552361:68:HMGVWBGXK:1:11101:11567:1977  ACATCATCAGGCGATA  \n",
       "1  NB552361:68:HMGVWBGXK:1:11101:26610:2255  TTGGCTACATTTAAGC  \n",
       "2   NB552361:68:HMGVWBGXK:1:11101:2841:2679  ACCAAGTTCACACAGT  \n",
       "3  NB552361:68:HMGVWBGXK:1:11101:24321:2783               NaN  \n",
       "4  NB552361:68:HMGVWBGXK:1:11101:20356:3265  TTTGAGTCAGGAACAT  "
      ]
     },
     "execution_count": 39,
     "metadata": {},
     "output_type": "execute_result"
    }
   ],
   "source": [
    "df_needs_dedup.head()"
   ]
  },
  {
   "cell_type": "code",
   "execution_count": 40,
   "metadata": {},
   "outputs": [
    {
     "data": {
      "text/plain": [
       "47034"
      ]
     },
     "execution_count": 40,
     "metadata": {},
     "output_type": "execute_result"
    }
   ],
   "source": [
    "# Count unique barcodes before protospacer check etc\n",
    "len(df_needs_dedup.drop_duplicates(subset = \"barcode\"))"
   ]
  },
  {
   "cell_type": "code",
   "execution_count": 41,
   "metadata": {},
   "outputs": [],
   "source": [
    "n_reads_w_PS  = len(df_needs_dedup)\n",
    "n_dedup_reads = len(df)\n",
    "\n",
    "stats += [['Reads with Protospacer', n_reads_w_PS]]\n",
    "stats += [['Dedup reads', n_dedup_reads]]\n"
   ]
  },
  {
   "cell_type": "code",
   "execution_count": 42,
   "metadata": {},
   "outputs": [],
   "source": [
    "n_uniq_barcodes = len(df['barcode'].unique())\n",
    "stats += [[\"Unique barcodes\", n_uniq_barcodes]]"
   ]
  },
  {
   "cell_type": "markdown",
   "metadata": {},
   "source": [
    "### Count UMIs per barcode"
   ]
  },
  {
   "cell_type": "code",
   "execution_count": 43,
   "metadata": {},
   "outputs": [
    {
     "data": {
      "text/plain": [
       "GTGCTGATCCAAATCA    60\n",
       "TGACTCCTCCGGAACC    32\n",
       "AGGTGAATCGCCTAAG    32\n",
       "TGTGGCCAGTCATTTC    31\n",
       "GCGCAATGTTGTTGGA    28\n",
       "Name: barcode, dtype: int64"
      ]
     },
     "execution_count": 43,
     "metadata": {},
     "output_type": "execute_result"
    }
   ],
   "source": [
    "barcode_counts = df['barcode'].value_counts()\n",
    "barcode_counts.head()"
   ]
  },
  {
   "cell_type": "code",
   "execution_count": 44,
   "metadata": {},
   "outputs": [
    {
     "data": {
      "image/png": "[encoded data removed]",
      "text/plain": [
       "<Figure size 432x288 with 1 Axes>"
      ]
     },
     "metadata": {
      "needs_background": "light"
     },
     "output_type": "display_data"
    }
   ],
   "source": [
    "plt.plot(barcode_counts.values)\n",
    "plt.yscale('log')\n",
    "plt.xlabel(\"Barcode Index (sorted by #UMIs)\")\n",
    "plt.ylabel(\"#UMIs\")\n",
    "plt.title(library)\n",
    "plt.savefig(\"plot1.png\")\n",
    "plt.show()"
   ]
  },
  {
   "cell_type": "markdown",
   "metadata": {},
   "source": [
    "### Count genes per barcode"
   ]
  },
  {
   "cell_type": "code",
   "execution_count": 45,
   "metadata": {},
   "outputs": [
    {
     "data": {
      "text/plain": [
       "GTGCTGATCCAAATCA    60\n",
       "TGACTCCTCCGGAACC    32\n",
       "AGGTGAATCGCCTAAG    32\n",
       "TGTGGCCAGTCATTTC    31\n",
       "GCGCAATGTTGTTGGA    28\n",
       "Name: barcode, dtype: int64"
      ]
     },
     "execution_count": 45,
     "metadata": {},
     "output_type": "execute_result"
    }
   ],
   "source": [
    "barcode_counts = df['barcode'].value_counts()\n",
    "barcode_counts.head()"
   ]
  },
  {
   "cell_type": "code",
   "execution_count": 46,
   "metadata": {},
   "outputs": [],
   "source": [
    "#------------------------------------------------------------------------------------"
   ]
  },
  {
   "cell_type": "code",
   "execution_count": 47,
   "metadata": {},
   "outputs": [
    {
     "data": {
      "text/html": [
       "<div>\n",
       "<style scoped>\n",
       "    .dataframe tbody tr th:only-of-type {\n",
       "        vertical-align: middle;\n",
       "    }\n",
       "\n",
       "    .dataframe tbody tr th {\n",
       "        vertical-align: top;\n",
       "    }\n",
       "\n",
       "    .dataframe thead th {\n",
       "        text-align: right;\n",
       "    }\n",
       "</style>\n",
       "<table border=\"1\" class=\"dataframe\">\n",
       "  <thead>\n",
       "    <tr style=\"text-align: right;\">\n",
       "      <th></th>\n",
       "      <th>Stat</th>\n",
       "      <th>Count</th>\n",
       "    </tr>\n",
       "  </thead>\n",
       "  <tbody>\n",
       "    <tr>\n",
       "      <th>0</th>\n",
       "      <td>Raw Reads</td>\n",
       "      <td>38040359</td>\n",
       "    </tr>\n",
       "    <tr>\n",
       "      <th>1</th>\n",
       "      <td>Reads with CS1</td>\n",
       "      <td>681770</td>\n",
       "    </tr>\n",
       "    <tr>\n",
       "      <th>2</th>\n",
       "      <td>Reads with Protospacer</td>\n",
       "      <td>575735</td>\n",
       "    </tr>\n",
       "    <tr>\n",
       "      <th>3</th>\n",
       "      <td>Dedup reads</td>\n",
       "      <td>66905</td>\n",
       "    </tr>\n",
       "    <tr>\n",
       "      <th>4</th>\n",
       "      <td>Unique barcodes</td>\n",
       "      <td>35602</td>\n",
       "    </tr>\n",
       "  </tbody>\n",
       "</table>\n",
       "</div>"
      ],
      "text/plain": [
       "                     Stat     Count\n",
       "0               Raw Reads  38040359\n",
       "1          Reads with CS1    681770\n",
       "2  Reads with Protospacer    575735\n",
       "3             Dedup reads     66905\n",
       "4         Unique barcodes     35602"
      ]
     },
     "execution_count": 47,
     "metadata": {},
     "output_type": "execute_result"
    }
   ],
   "source": [
    "df_stats = pd.DataFrame(stats, columns=[\"Stat\", \"Count\"])\n",
    "df_stats"
   ]
  },
  {
   "cell_type": "code",
   "execution_count": 48,
   "metadata": {},
   "outputs": [
    {
     "name": "stdout",
     "output_type": "stream",
     "text": [
      "38040359\n",
      "681770\n",
      "575735\n",
      "66905\n",
      "35602\n"
     ]
    }
   ],
   "source": [
    "for i in df_stats.Count:\n",
    "    print(i)"
   ]
  }
 ],
 "metadata": {
  "kernelspec": {
   "display_name": "Python 3 (ipykernel)",
   "language": "python",
   "name": "python3"
  },
  "language_info": {
   "codemirror_mode": {
    "name": "ipython",
    "version": 3
   },
   "file_extension": ".py",
   "mimetype": "text/x-python",
   "name": "python",
   "nbconvert_exporter": "python",
   "pygments_lexer": "ipython3",
   "version": "3.9.7"
  },
  "orig_nbformat": 4,
  "vscode": {
   "interpreter": {
    "hash": "31f2aee4e71d21fbe5cf8b01ff0e069b9275f58929596ceb00d14d90e3e16cd6"
   }
  }
 },
 "nbformat": 4,
 "nbformat_minor": 2
}
